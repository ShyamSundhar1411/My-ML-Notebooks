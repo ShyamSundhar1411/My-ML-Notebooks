{
  "nbformat": 4,
  "nbformat_minor": 0,
  "metadata": {
    "colab": {
      "provenance": [],
      "authorship_tag": "ABX9TyNHBLU9IvoofJyBCHQbhJEX",
      "include_colab_link": true
    },
    "kernelspec": {
      "name": "python3",
      "display_name": "Python 3"
    },
    "language_info": {
      "name": "python"
    },
    "accelerator": "GPU",
    "gpuClass": "standard"
  },
  "cells": [
    {
      "cell_type": "markdown",
      "metadata": {
        "id": "view-in-github",
        "colab_type": "text"
      },
      "source": [
        "<a href=\"https://colab.research.google.com/github/ShyamSundhar1411/My-ML-Notebooks/blob/master/Computer%20Vision/Flower_Dataset.ipynb\" target=\"_parent\"><img src=\"https://colab.research.google.com/assets/colab-badge.svg\" alt=\"Open In Colab\"/></a>"
      ]
    },
    {
      "cell_type": "markdown",
      "source": [
        "## 1. Importing Dataset"
      ],
      "metadata": {
        "id": "9HznCC5_SFJG"
      }
    },
    {
      "cell_type": "code",
      "execution_count": 39,
      "metadata": {
        "id": "rMxMS6dAPx2C"
      },
      "outputs": [],
      "source": [
        "import tensorflow as tf\n",
        "import pandas as pd\n",
        "import numpy as np"
      ]
    },
    {
      "cell_type": "code",
      "source": [
        "!wget https://raw.githubusercontent.com/mrdbourke/tensorflow-deep-learning/main/extras/helper_functions.py"
      ],
      "metadata": {
        "colab": {
          "base_uri": "https://localhost:8080/"
        },
        "id": "yp4MIsRYP2wQ",
        "outputId": "1f156743-c96e-4160-95bc-18ccac7e1702"
      },
      "execution_count": 3,
      "outputs": [
        {
          "output_type": "stream",
          "name": "stdout",
          "text": [
            "--2023-01-24 15:35:28--  https://raw.githubusercontent.com/mrdbourke/tensorflow-deep-learning/main/extras/helper_functions.py\n",
            "Resolving raw.githubusercontent.com (raw.githubusercontent.com)... 185.199.110.133, 185.199.109.133, 185.199.111.133, ...\n",
            "Connecting to raw.githubusercontent.com (raw.githubusercontent.com)|185.199.110.133|:443... connected.\n",
            "HTTP request sent, awaiting response... 200 OK\n",
            "Length: 10246 (10K) [text/plain]\n",
            "Saving to: ‘helper_functions.py’\n",
            "\n",
            "\rhelper_functions.py   0%[                    ]       0  --.-KB/s               \rhelper_functions.py 100%[===================>]  10.01K  --.-KB/s    in 0s      \n",
            "\n",
            "2023-01-24 15:35:28 (79.8 MB/s) - ‘helper_functions.py’ saved [10246/10246]\n",
            "\n"
          ]
        }
      ]
    },
    {
      "cell_type": "code",
      "source": [
        "from helper_functions import create_tensorboard_callback,plot_loss_curves,unzip_data,walk_through_dir"
      ],
      "metadata": {
        "id": "Od2lsfn3QFgr"
      },
      "execution_count": 4,
      "outputs": []
    },
    {
      "cell_type": "code",
      "source": [
        "!pip install tensorflow-datasets"
      ],
      "metadata": {
        "colab": {
          "base_uri": "https://localhost:8080/"
        },
        "id": "Z_h0pzaMQMWs",
        "outputId": "388ea6bd-2257-4cfb-93c2-bd5083518f2f"
      },
      "execution_count": 5,
      "outputs": [
        {
          "output_type": "stream",
          "name": "stdout",
          "text": [
            "Looking in indexes: https://pypi.org/simple, https://us-python.pkg.dev/colab-wheels/public/simple/\n",
            "Requirement already satisfied: tensorflow-datasets in /usr/local/lib/python3.8/dist-packages (4.8.1)\n",
            "Requirement already satisfied: protobuf>=3.12.2 in /usr/local/lib/python3.8/dist-packages (from tensorflow-datasets) (3.19.6)\n",
            "Requirement already satisfied: etils[enp,epath]>=0.9.0 in /usr/local/lib/python3.8/dist-packages (from tensorflow-datasets) (1.0.0)\n",
            "Requirement already satisfied: requests>=2.19.0 in /usr/local/lib/python3.8/dist-packages (from tensorflow-datasets) (2.25.1)\n",
            "Requirement already satisfied: tqdm in /usr/local/lib/python3.8/dist-packages (from tensorflow-datasets) (4.64.1)\n",
            "Requirement already satisfied: importlib-resources in /usr/local/lib/python3.8/dist-packages (from tensorflow-datasets) (5.10.2)\n",
            "Requirement already satisfied: psutil in /usr/local/lib/python3.8/dist-packages (from tensorflow-datasets) (5.4.8)\n",
            "Requirement already satisfied: numpy in /usr/local/lib/python3.8/dist-packages (from tensorflow-datasets) (1.21.6)\n",
            "Requirement already satisfied: toml in /usr/local/lib/python3.8/dist-packages (from tensorflow-datasets) (0.10.2)\n",
            "Requirement already satisfied: dill in /usr/local/lib/python3.8/dist-packages (from tensorflow-datasets) (0.3.6)\n",
            "Requirement already satisfied: absl-py in /usr/local/lib/python3.8/dist-packages (from tensorflow-datasets) (1.3.0)\n",
            "Requirement already satisfied: click in /usr/local/lib/python3.8/dist-packages (from tensorflow-datasets) (7.1.2)\n",
            "Requirement already satisfied: tensorflow-metadata in /usr/local/lib/python3.8/dist-packages (from tensorflow-datasets) (1.12.0)\n",
            "Requirement already satisfied: promise in /usr/local/lib/python3.8/dist-packages (from tensorflow-datasets) (2.3)\n",
            "Requirement already satisfied: termcolor in /usr/local/lib/python3.8/dist-packages (from tensorflow-datasets) (2.2.0)\n",
            "Requirement already satisfied: six in /usr/local/lib/python3.8/dist-packages (from tensorflow-datasets) (1.15.0)\n",
            "Requirement already satisfied: dm-tree in /usr/local/lib/python3.8/dist-packages (from tensorflow-datasets) (0.1.8)\n",
            "Requirement already satisfied: typing_extensions in /usr/local/lib/python3.8/dist-packages (from etils[enp,epath]>=0.9.0->tensorflow-datasets) (4.4.0)\n",
            "Requirement already satisfied: zipp in /usr/local/lib/python3.8/dist-packages (from etils[enp,epath]>=0.9.0->tensorflow-datasets) (3.11.0)\n",
            "Requirement already satisfied: certifi>=2017.4.17 in /usr/local/lib/python3.8/dist-packages (from requests>=2.19.0->tensorflow-datasets) (2022.12.7)\n",
            "Requirement already satisfied: urllib3<1.27,>=1.21.1 in /usr/local/lib/python3.8/dist-packages (from requests>=2.19.0->tensorflow-datasets) (1.24.3)\n",
            "Requirement already satisfied: chardet<5,>=3.0.2 in /usr/local/lib/python3.8/dist-packages (from requests>=2.19.0->tensorflow-datasets) (4.0.0)\n",
            "Requirement already satisfied: idna<3,>=2.5 in /usr/local/lib/python3.8/dist-packages (from requests>=2.19.0->tensorflow-datasets) (2.10)\n",
            "Requirement already satisfied: googleapis-common-protos<2,>=1.52.0 in /usr/local/lib/python3.8/dist-packages (from tensorflow-metadata->tensorflow-datasets) (1.58.0)\n"
          ]
        }
      ]
    },
    {
      "cell_type": "code",
      "source": [
        "import tensorflow_datasets as tfds\n",
        "import pathlib\n",
        "dataset_url = \"https://storage.googleapis.com/download.tensorflow.org/example_images/flower_photos.tgz\"\n",
        "archive = tf.keras.utils.get_file(origin=dataset_url, extract=True)\n",
        "data_dir = pathlib.Path(archive).with_suffix('')"
      ],
      "metadata": {
        "colab": {
          "base_uri": "https://localhost:8080/"
        },
        "id": "UDPkABjEQSOY",
        "outputId": "2a8255e3-cff4-43d8-ec36-2f520b1b6631"
      },
      "execution_count": 6,
      "outputs": [
        {
          "output_type": "stream",
          "name": "stdout",
          "text": [
            "Downloading data from https://storage.googleapis.com/download.tensorflow.org/example_images/flower_photos.tgz\n",
            "228813984/228813984 [==============================] - 6s 0us/step\n"
          ]
        }
      ]
    },
    {
      "cell_type": "code",
      "source": [
        "data_dir"
      ],
      "metadata": {
        "colab": {
          "base_uri": "https://localhost:8080/"
        },
        "id": "LVQEmhJ-QXMx",
        "outputId": "bf7abe61-a095-405c-be2e-2c47f7a879fd"
      },
      "execution_count": 7,
      "outputs": [
        {
          "output_type": "execute_result",
          "data": {
            "text/plain": [
              "PosixPath('/root/.keras/datasets/flower_photos')"
            ]
          },
          "metadata": {},
          "execution_count": 7
        }
      ]
    },
    {
      "cell_type": "markdown",
      "source": [
        "## 2. Setting Up Data Loaders"
      ],
      "metadata": {
        "id": "2YatF1sXcZrA"
      }
    },
    {
      "cell_type": "code",
      "source": [
        "from tensorflow.keras.preprocessing import image_dataset_from_directory\n",
        "\n",
        "train_dataset = image_dataset_from_directory(data_dir,label_mode = \"categorical\",image_size = (224,224),validation_split = 0.2,subset = \"training\",seed = 42)\n",
        "test_dataset = image_dataset_from_directory(data_dir,label_mode = \"categorical\",image_size = (224,224),validation_split = 0.2,subset = \"validation\",seed = 32)"
      ],
      "metadata": {
        "colab": {
          "base_uri": "https://localhost:8080/"
        },
        "id": "_n6ORndkQmvf",
        "outputId": "8938fa2e-8d03-4e6d-dbe2-d999aabce57c"
      },
      "execution_count": 111,
      "outputs": [
        {
          "output_type": "stream",
          "name": "stdout",
          "text": [
            "Found 3670 files belonging to 5 classes.\n",
            "Using 2936 files for training.\n",
            "Found 3670 files belonging to 5 classes.\n",
            "Using 734 files for validation.\n"
          ]
        }
      ]
    },
    {
      "cell_type": "code",
      "source": [
        "class_names = train_dataset.class_names"
      ],
      "metadata": {
        "id": "dBokrXWrQtSU"
      },
      "execution_count": 9,
      "outputs": []
    },
    {
      "cell_type": "markdown",
      "source": [
        "## 3. Data Augmentation"
      ],
      "metadata": {
        "id": "aqHSn_msctcY"
      }
    },
    {
      "cell_type": "code",
      "source": [
        "from tensorflow.keras.layers.experimental import preprocessing\n",
        "data_augmentation = tf.keras.Sequential([\n",
        "    preprocessing.RandomFlip(\"horizontal\",input_shape=(224, 224, 3)),\n",
        "    preprocessing.Resizing(224,224),\n",
        "    preprocessing.RandomRotation(0.2),\n",
        "    preprocessing.RandomWidth(0.2),\n",
        "    preprocessing.RandomHeight(0.2),\n",
        "    preprocessing.RandomZoom(0.2),\n",
        "    preprocessing.Rescaling(1./255),\n",
        "    \n",
        "])"
      ],
      "metadata": {
        "id": "WGuy4CTGSDsz"
      },
      "execution_count": 91,
      "outputs": []
    },
    {
      "cell_type": "markdown",
      "source": [
        "## 2. Model 0 Simple Model"
      ],
      "metadata": {
        "id": "EeQVMc13R0mb"
      }
    },
    {
      "cell_type": "code",
      "source": [
        "checkpoint_path =\"model_1_weight_checkpoints/checkpoint.ckpt\"\n",
        "     \n",
        "checkpoint_call_back = tf.keras.callbacks.ModelCheckpoint(\n",
        "    filepath = checkpoint_path,\n",
        "    save_weights_only = True,\n",
        "    save_best_only = True,\n",
        "    save_freq = \"epoch\"\n",
        ")"
      ],
      "metadata": {
        "id": "2SFJAx3kXr2g"
      },
      "execution_count": 82,
      "outputs": []
    },
    {
      "cell_type": "code",
      "source": [
        "model_0 = tf.keras.Sequential([\n",
        "    data_augmentation,\n",
        "    tf.keras.layers.Conv2D(\n",
        "        filters = 10,\n",
        "        kernel_size = 3,\n",
        "        strides  = (1,1),\n",
        "        activation = \"relu\",name = \"input_layer\"\n",
        "        ),\n",
        "    tf.keras.layers.Conv2D(\n",
        "        10,3,activation = \"relu\"\n",
        "    ),\n",
        "    tf.keras.layers.MaxPool2D(2),\n",
        "    tf.keras.layers.Conv2D(\n",
        "        10,3,activation = \"relu\"\n",
        "    ),\n",
        "    tf.keras.layers.MaxPool2D(2),\n",
        "    tf.keras.layers.Conv2D(\n",
        "        10,3,activation = \"relu\"\n",
        "    ),\n",
        "    tf.keras.layers.GlobalMaxPool2D(),\n",
        "    tf.keras.layers.Dense(len(class_names),activation = \"softmax\",name = \"output_layer\"),\n",
        "\n",
        "])\n",
        "model_0.compile(loss = \"categorical_crossentropy\",metrics = [\"accuracy\"],optimizer = \"adam\")"
      ],
      "metadata": {
        "id": "UYw7P9zYSeYf"
      },
      "execution_count": 74,
      "outputs": []
    },
    {
      "cell_type": "code",
      "source": [
        "history_0 = model_0.fit(\n",
        "    train_dataset,epochs = 10,\n",
        "    steps_per_epoch = len(train_dataset),\n",
        "    validation_data = test_dataset,\n",
        "    validation_steps = len(test_dataset),\n",
        "    callbacks = [checkpoint_call_back]\n",
        ")"
      ],
      "metadata": {
        "colab": {
          "base_uri": "https://localhost:8080/"
        },
        "id": "YFgtDYB1Yxwk",
        "outputId": "9db4b040-045e-4d01-d55d-e4e19c5a0426"
      },
      "execution_count": 76,
      "outputs": [
        {
          "output_type": "stream",
          "name": "stdout",
          "text": [
            "Epoch 1/10\n",
            "92/92 [==============================] - 56s 590ms/step - loss: 1.6080 - accuracy: 0.2197 - val_loss: 1.6107 - val_accuracy: 0.2289\n",
            "Epoch 2/10\n",
            "92/92 [==============================] - 53s 572ms/step - loss: 1.6056 - accuracy: 0.2180 - val_loss: 1.6037 - val_accuracy: 0.2207\n",
            "Epoch 3/10\n",
            "92/92 [==============================] - 54s 585ms/step - loss: 1.6044 - accuracy: 0.2408 - val_loss: 1.5966 - val_accuracy: 0.2411\n",
            "Epoch 4/10\n",
            "92/92 [==============================] - 48s 522ms/step - loss: 1.6037 - accuracy: 0.2408 - val_loss: 1.5911 - val_accuracy: 0.2561\n",
            "Epoch 5/10\n",
            "92/92 [==============================] - 49s 526ms/step - loss: 1.6033 - accuracy: 0.2408 - val_loss: 1.5868 - val_accuracy: 0.2643\n",
            "Epoch 6/10\n",
            "92/92 [==============================] - 49s 527ms/step - loss: 1.6031 - accuracy: 0.2408 - val_loss: 1.5847 - val_accuracy: 0.2493\n",
            "Epoch 7/10\n",
            "92/92 [==============================] - 48s 518ms/step - loss: 1.6028 - accuracy: 0.2408 - val_loss: 1.5962 - val_accuracy: 0.2411\n",
            "Epoch 8/10\n",
            "92/92 [==============================] - 45s 479ms/step - loss: 1.6024 - accuracy: 0.2408 - val_loss: 1.6867 - val_accuracy: 0.2193\n",
            "Epoch 9/10\n",
            "92/92 [==============================] - 50s 534ms/step - loss: 1.6017 - accuracy: 0.2408 - val_loss: 2.4441 - val_accuracy: 0.2071\n",
            "Epoch 10/10\n",
            "92/92 [==============================] - 46s 496ms/step - loss: 1.5989 - accuracy: 0.2408 - val_loss: 6.9317 - val_accuracy: 0.2030\n"
          ]
        }
      ]
    },
    {
      "cell_type": "code",
      "source": [
        "plot_loss_curves(history_0)"
      ],
      "metadata": {
        "colab": {
          "base_uri": "https://localhost:8080/",
          "height": 573
        },
        "id": "R0q50B3XZRMn",
        "outputId": "c015172e-12f2-43ac-b23b-9a019cd8f80d"
      },
      "execution_count": 75,
      "outputs": [
        {
          "output_type": "display_data",
          "data": {
            "text/plain": [
              "<Figure size 432x288 with 1 Axes>"
            ],
            "image/png": "[encoded data removed]"
          },
          "metadata": {
            "needs_background": "light"
          }
        },
        {
          "output_type": "display_data",
          "data": {
            "text/plain": [
              "<Figure size 432x288 with 1 Axes>"
            ],
            "image/png": "[encoded data removed]"
          },
          "metadata": {
            "needs_background": "light"
          }
        }
      ]
    },
    {
      "cell_type": "markdown",
      "source": [
        "## 3. Model 1 "
      ],
      "metadata": {
        "id": "TaaG6_JrmaA7"
      }
    },
    {
      "cell_type": "code",
      "source": [
        "model_1 = tf.keras.Sequential([\n",
        "    data_augmentation,\n",
        "    tf.keras.layers.Conv2D(filters = 64,kernel_size = (3,3),strides = (1,1),activation = \"relu\",padding=\"Same\"),\n",
        "    tf.keras.layers.MaxPool2D(2),\n",
        "    tf.keras.layers.BatchNormalization(),\n",
        "    tf.keras.layers.Dropout(0.2),\n",
        "    tf.keras.layers.Conv2D(filters = 128,kernel_size = (3,3),strides = (1,1),activation = \"relu\",padding=\"Same\"),\n",
        "    tf.keras.layers.MaxPool2D(2),\n",
        "    tf.keras.layers.BatchNormalization(),\n",
        "    tf.keras.layers.Dropout(0.2),\n",
        "    tf.keras.layers.Conv2D(filters = 256,kernel_size = (3,3),strides = (1,1),activation = \"relu\",padding=\"Same\"),\n",
        "    tf.keras.layers.MaxPool2D(2),\n",
        "    tf.keras.layers.BatchNormalization(),\n",
        "    tf.keras.layers.Dropout(0.2),\n",
        "    tf.keras.layers.Conv2D(filters = 512,kernel_size = (3,3),strides = (1,1),activation = \"relu\",padding=\"Same\"),\n",
        "    tf.keras.layers.MaxPool2D(2),\n",
        "    tf.keras.layers.BatchNormalization(),\n",
        "    tf.keras.layers.Dropout(0.2),\n",
        "    tf.keras.layers.Conv2D(filters = 1024,kernel_size = (3,3),strides = (1,1),activation = \"relu\",padding=\"Same\"),\n",
        "    tf.keras.layers.MaxPool2D(2),\n",
        "    tf.keras.layers.BatchNormalization(),\n",
        "    tf.keras.layers.Dropout(0.2),\n",
        "    tf.keras.layers.Conv2D(filters = 512,kernel_size = (3,3),strides = (1,1),activation = \"relu\",padding=\"Same\"),\n",
        "    tf.keras.layers.MaxPool2D(2),\n",
        "    tf.keras.layers.BatchNormalization(),\n",
        "    tf.keras.layers.Dropout(0.2),\n",
        "    tf.keras.layers.Conv2D(filters = 512,kernel_size = (3,3),strides = (1,1),activation = \"relu\",padding=\"Same\"),\n",
        "    tf.keras.layers.MaxPool2D(),\n",
        "    tf.keras.layers.BatchNormalization(),\n",
        "    tf.keras.layers.Dropout(0.2),\n",
        "    tf.keras.layers.GlobalMaxPool2D(),\n",
        "    ## Fully Connected Layer\n",
        "    tf.keras.layers.Dense(1024,activation = \"relu\"),\n",
        "    tf.keras.layers.Dropout(0.5),\n",
        "    tf.keras.layers.BatchNormalization(),\n",
        "    tf.keras.layers.Dense(5,activation = \"softmax\",name = \"output_name\")\n",
        "])\n",
        "model_1.compile(loss = \"categorical_crossentropy\",metrics = [\"accuracy\"],optimizer = \"adam\")"
      ],
      "metadata": {
        "id": "GoTWrDfzpAvQ"
      },
      "execution_count": 103,
      "outputs": []
    },
    {
      "cell_type": "code",
      "source": [],
      "metadata": {
        "id": "PLksJCW82of9"
      },
      "execution_count": 109,
      "outputs": []
    },
    {
      "cell_type": "code",
      "source": [
        "history_1 = model_1.fit(\n",
        "    train_dataset,epochs = 10,\n",
        "    steps_per_epoch = len(train_dataset),\n",
        "    validation_data = test_dataset,\n",
        "    validation_steps = len(test_dataset),\n",
        "    callbacks = [checkpoint_call_back]\n",
        ")"
      ],
      "metadata": {
        "colab": {
          "base_uri": "https://localhost:8080/"
        },
        "id": "kjciIc6uqYU_",
        "outputId": "b5c0b72b-0885-4428-c2dc-729970d248fa"
      },
      "execution_count": 104,
      "outputs": [
        {
          "output_type": "stream",
          "name": "stdout",
          "text": [
            "Epoch 1/10\n",
            "92/92 [==============================] - 105s 1s/step - loss: 1.7000 - accuracy: 0.4094 - val_loss: 2.5054 - val_accuracy: 0.2262\n",
            "Epoch 2/10\n",
            "92/92 [==============================] - 103s 1s/step - loss: 1.3746 - accuracy: 0.4891 - val_loss: 5.5939 - val_accuracy: 0.2847\n",
            "Epoch 3/10\n",
            "92/92 [==============================] - 105s 1s/step - loss: 1.2585 - accuracy: 0.5262 - val_loss: 14.1040 - val_accuracy: 0.3556\n",
            "Epoch 4/10\n",
            "92/92 [==============================] - 95s 1s/step - loss: 1.1484 - accuracy: 0.5603 - val_loss: 15.4467 - val_accuracy: 0.3610\n",
            "Epoch 5/10\n",
            "92/92 [==============================] - 91s 978ms/step - loss: 1.0556 - accuracy: 0.5882 - val_loss: 176.1750 - val_accuracy: 0.2057\n",
            "Epoch 6/10\n",
            "92/92 [==============================] - 83s 899ms/step - loss: 1.0125 - accuracy: 0.6131 - val_loss: 272.2100 - val_accuracy: 0.3406\n",
            "Epoch 7/10\n",
            "92/92 [==============================] - 81s 884ms/step - loss: 0.9390 - accuracy: 0.6400 - val_loss: 405.0600 - val_accuracy: 0.3011\n",
            "Epoch 8/10\n",
            "92/92 [==============================] - 74s 804ms/step - loss: 0.9065 - accuracy: 0.6475 - val_loss: 327.9783 - val_accuracy: 0.3488\n",
            "Epoch 9/10\n",
            "92/92 [==============================] - 68s 732ms/step - loss: 0.8803 - accuracy: 0.6649 - val_loss: 567.8994 - val_accuracy: 0.3324\n",
            "Epoch 10/10\n",
            "92/92 [==============================] - 80s 860ms/step - loss: 0.8827 - accuracy: 0.6693 - val_loss: 1797.6260 - val_accuracy: 0.1757\n"
          ]
        }
      ]
    },
    {
      "cell_type": "code",
      "source": [
        "model_1.evaluate(test_dataset)\n"
      ],
      "metadata": {
        "colab": {
          "base_uri": "https://localhost:8080/"
        },
        "id": "abAN9C8tquv9",
        "outputId": "098a7de8-8c36-456f-cb63-adb6866c7e50"
      },
      "execution_count": 116,
      "outputs": [
        {
          "output_type": "stream",
          "name": "stdout",
          "text": [
            "23/23 [==============================] - 2s 60ms/step - loss: 1797.6260 - accuracy: 0.1757\n",
            "tf.Tensor(\n",
            "[[[[7.91747046e+00 2.71496143e+01 6.62946403e-01]\n",
            "   [1.06964283e+01 3.15446434e+01 1.00000000e+00]\n",
            "   [1.23370533e+01 3.38880959e+01 2.70848013e-02]\n",
            "   ...\n",
            "   [2.83054886e+01 3.71074371e+01 3.41740632e+00]\n",
            "   [2.60111618e+01 3.10846272e+01 4.84820557e+00]\n",
            "   [2.60223217e+01 2.79062233e+01 4.95311213e+00]]\n",
            "\n",
            "  [[7.61607170e+00 2.62407131e+01 0.00000000e+00]\n",
            "   [1.07170563e+01 3.15446434e+01 9.88839149e-01]\n",
            "   [1.50915184e+01 3.70915184e+01 9.09378469e-01]\n",
            "   ...\n",
            "   [3.30419540e+01 3.60214233e+01 5.02142477e+00]\n",
            "   [3.40446434e+01 3.36964111e+01 6.18188858e+00]\n",
            "   [3.40334816e+01 2.92432785e+01 5.42001486e+00]]\n",
            "\n",
            "  [[8.30134010e+00 2.76852684e+01 0.00000000e+00]\n",
            "   [1.34379387e+01 3.21258965e+01 5.81254125e-01]\n",
            "   [1.55052223e+01 3.93958282e+01 6.85267925e-01]\n",
            "   ...\n",
            "   [3.96652031e+01 3.94553719e+01 9.03051376e+00]\n",
            "   [4.13223190e+01 3.44856987e+01 1.11120491e+01]\n",
            "   [3.94779701e+01 3.18657551e+01 1.11980677e+01]]\n",
            "\n",
            "  ...\n",
            "\n",
            "  [[1.06487282e+02 1.10051674e+02 8.75603485e+01]\n",
            "   [1.05666107e+02 1.10992050e+02 9.14220047e+01]\n",
            "   [1.05104988e+02 1.12815521e+02 9.26839218e+01]\n",
            "   ...\n",
            "   [3.07722473e+01 6.26115417e+01 1.41101217e+01]\n",
            "   [3.13147583e+01 6.40000000e+01 1.94373779e+01]\n",
            "   [3.15778503e+01 6.41208496e+01 1.50461445e+01]]\n",
            "\n",
            "  [[1.09372787e+02 1.13586937e+02 9.39511642e+01]\n",
            "   [1.09421944e+02 1.15968277e+02 9.97925186e+01]\n",
            "   [1.10206764e+02 1.16969269e+02 1.00864838e+02]\n",
            "   ...\n",
            "   [3.18121433e+01 6.38103523e+01 1.66487522e+01]\n",
            "   [2.97220707e+01 6.31612434e+01 1.96629944e+01]\n",
            "   [2.76648903e+01 6.40042801e+01 1.48216209e+01]]\n",
            "\n",
            "  [[1.10046890e+02 1.12720963e+02 9.86384583e+01]\n",
            "   [1.07254105e+02 1.11910477e+02 9.56005630e+01]\n",
            "   [1.05188324e+02 1.09134155e+02 9.41612396e+01]\n",
            "   ...\n",
            "   [3.18558121e+01 6.20267334e+01 1.43628769e+01]\n",
            "   [3.37030144e+01 5.83881950e+01 1.42746458e+01]\n",
            "   [3.37232437e+01 6.01831512e+01 1.59286118e+01]]]\n",
            "\n",
            "\n",
            " [[[3.53630409e+01 6.27008133e+01 2.94209995e+01]\n",
            "   [4.11430168e+01 6.91697998e+01 3.37590866e+01]\n",
            "   [4.09031410e+01 6.69134216e+01 3.46799278e+01]\n",
            "   ...\n",
            "   [3.64272156e+01 6.80165024e+01 1.76057873e+01]\n",
            "   [3.90535622e+01 7.04686661e+01 2.16116772e+01]\n",
            "   [3.94627876e+01 7.10520706e+01 2.16890259e+01]]\n",
            "\n",
            "  [[2.85269451e+01 5.80087700e+01 2.24465885e+01]\n",
            "   [3.27899399e+01 6.17095833e+01 2.59417248e+01]\n",
            "   [3.84740105e+01 6.65949478e+01 3.34025841e+01]\n",
            "   ...\n",
            "   [3.86469231e+01 6.86964264e+01 1.64489098e+01]\n",
            "   [3.67678490e+01 6.95225525e+01 1.77095699e+01]\n",
            "   [3.68305283e+01 6.96743469e+01 1.76248569e+01]]\n",
            "\n",
            "  [[2.84656410e+01 5.66263542e+01 1.86531410e+01]\n",
            "   [3.15129948e+01 5.78750000e+01 2.28214302e+01]\n",
            "   [3.39732132e+01 6.11607132e+01 2.82678585e+01]\n",
            "   ...\n",
            "   [3.70535660e+01 7.01071396e+01 1.49689140e+01]\n",
            "   [3.97897797e+01 6.99772797e+01 1.96201210e+01]\n",
            "   [4.08125000e+01 7.10102844e+01 1.81785450e+01]]\n",
            "\n",
            "  ...\n",
            "\n",
            "  [[1.81822235e+02 1.86891983e+02 1.52237122e+02]\n",
            "   [1.58681076e+02 1.86692490e+02 1.47000916e+02]\n",
            "   [7.95345840e+01 1.41481323e+02 2.04408050e+00]\n",
            "   ...\n",
            "   [9.01307220e+01 1.46055542e+02 8.59516907e+01]\n",
            "   [8.43815842e+01 1.34681824e+02 3.28352890e+01]\n",
            "   [9.86718597e+01 1.46012054e+02 3.74066696e+01]]\n",
            "\n",
            "  [[1.95357300e+02 2.09141998e+02 1.84883667e+02]\n",
            "   [1.69724609e+02 1.88414398e+02 1.45793976e+02]\n",
            "   [1.36611694e+02 1.73435013e+02 6.09107857e+01]\n",
            "   ...\n",
            "   [7.07973251e+01 1.24901634e+02 3.14314156e+01]\n",
            "   [8.51086273e+01 1.34130676e+02 2.75420837e+01]\n",
            "   [1.03705109e+02 1.50232086e+02 4.13882751e+01]]\n",
            "\n",
            "  [[1.16888580e+02 1.58736389e+02 1.23328354e+02]\n",
            "   [1.81944534e+02 1.99789154e+02 1.61159668e+02]\n",
            "   [1.36002167e+02 1.68313095e+02 1.32759933e+02]\n",
            "   ...\n",
            "   [8.84888992e+01 1.37608765e+02 3.13179646e+01]\n",
            "   [8.61522293e+01 1.35817474e+02 1.65407372e+01]\n",
            "   [1.07434570e+02 1.54181549e+02 4.15313530e+01]]]\n",
            "\n",
            "\n",
            " [[[6.90357132e+01 5.90357132e+01 0.00000000e+00]\n",
            "   [6.90064545e+01 5.90064583e+01 0.00000000e+00]\n",
            "   [6.90249557e+01 5.76276321e+01 0.00000000e+00]\n",
            "   ...\n",
            "   [1.30964279e+02 1.12964287e+02 1.09642859e+01]\n",
            "   [1.30964279e+02 1.12964287e+02 1.09642859e+01]\n",
            "   [1.30964279e+02 1.12964287e+02 1.09642859e+01]]\n",
            "\n",
            "  [[7.00000000e+01 6.00000000e+01 0.00000000e+00]\n",
            "   [6.93563461e+01 5.91808052e+01 0.00000000e+00]\n",
            "   [6.98380890e+01 5.83761940e+01 0.00000000e+00]\n",
            "   ...\n",
            "   [1.29817993e+02 1.12042572e+02 1.01820002e+01]\n",
            "   [1.29892853e+02 1.11892860e+02 1.01071424e+01]\n",
            "   [1.29892853e+02 1.11892860e+02 1.01071424e+01]]\n",
            "\n",
            "  [[7.01785736e+01 6.00000000e+01 0.00000000e+00]\n",
            "   [7.08514862e+01 5.91808052e+01 0.00000000e+00]\n",
            "   [7.10000000e+01 5.90000000e+01 0.00000000e+00]\n",
            "   ...\n",
            "   [1.28068954e+02 1.12326385e+02 1.15739069e+01]\n",
            "   [1.28675140e+02 1.11113998e+02 1.09677143e+01]\n",
            "   [1.28821426e+02 1.10821426e+02 1.08214283e+01]]\n",
            "\n",
            "  ...\n",
            "\n",
            "  [[2.63571472e+01 2.53571472e+01 0.00000000e+00]\n",
            "   [2.65034332e+01 2.55034332e+01 0.00000000e+00]\n",
            "   [2.65357208e+01 2.63591423e+01 0.00000000e+00]\n",
            "   ...\n",
            "   [7.45739059e+01 5.15739059e+01 1.39533186e+00]\n",
            "   [7.40322876e+01 5.08837700e+01 1.03451419e+00]\n",
            "   [7.41785736e+01 5.03571472e+01 2.00000000e+00]]\n",
            "\n",
            "  [[2.68928528e+01 2.32142944e+01 0.00000000e+00]\n",
            "   [2.54300079e+01 2.32142944e+01 0.00000000e+00]\n",
            "   [2.44833469e+01 2.39129543e+01 0.00000000e+00]\n",
            "   ...\n",
            "   [7.64843750e+01 5.25915222e+01 4.37722778e+00]\n",
            "   [7.53014221e+01 5.17120514e+01 3.37507272e+00]\n",
            "   [7.31071472e+01 5.08928528e+01 2.00000000e+00]]\n",
            "\n",
            "  [[2.98928375e+01 2.39642792e+01 0.00000000e+00]\n",
            "   [2.82544441e+01 2.39642792e+01 0.00000000e+00]\n",
            "   [2.51730652e+01 2.39892349e+01 0.00000000e+00]\n",
            "   ...\n",
            "   [7.57343903e+01 5.17343903e+01 4.31552362e+00]\n",
            "   [7.44933167e+01 5.05062332e+01 4.42833328e+00]\n",
            "   [7.20357208e+01 4.81071625e+01 2.00000000e+00]]]\n",
            "\n",
            "\n",
            " ...\n",
            "\n",
            "\n",
            " [[[2.55000000e+02 2.55000000e+02 2.55000000e+02]\n",
            "   [2.55000000e+02 2.55000000e+02 2.55000000e+02]\n",
            "   [2.55000000e+02 2.55000000e+02 2.55000000e+02]\n",
            "   ...\n",
            "   [2.54980453e+02 2.54980453e+02 2.54980453e+02]\n",
            "   [2.55000000e+02 2.55000000e+02 2.55000000e+02]\n",
            "   [2.55000000e+02 2.55000000e+02 2.55000000e+02]]\n",
            "\n",
            "  [[2.54550323e+02 2.54550323e+02 2.54550323e+02]\n",
            "   [2.54380875e+02 2.54380875e+02 2.54380875e+02]\n",
            "   [2.54270096e+02 2.54270096e+02 2.54270096e+02]\n",
            "   ...\n",
            "   [2.54248383e+02 2.54248383e+02 2.54248383e+02]\n",
            "   [2.55000000e+02 2.55000000e+02 2.55000000e+02]\n",
            "   [2.55000000e+02 2.55000000e+02 2.55000000e+02]]\n",
            "\n",
            "  [[2.54866608e+02 2.54866608e+02 2.54866608e+02]\n",
            "   [2.54118912e+02 2.54118912e+02 2.54118912e+02]\n",
            "   [2.54000000e+02 2.54000000e+02 2.54000000e+02]\n",
            "   ...\n",
            "   [2.54000000e+02 2.54000000e+02 2.53965210e+02]\n",
            "   [2.55000000e+02 2.55000000e+02 2.55000000e+02]\n",
            "   [2.55000000e+02 2.55000000e+02 2.55000000e+02]]\n",
            "\n",
            "  ...\n",
            "\n",
            "  [[2.55000000e+02 2.55000000e+02 2.55000000e+02]\n",
            "   [2.55000000e+02 2.55000000e+02 2.55000000e+02]\n",
            "   [2.55000000e+02 2.55000000e+02 2.55000000e+02]\n",
            "   ...\n",
            "   [2.54919647e+02 2.54919647e+02 2.54919647e+02]\n",
            "   [2.55000000e+02 2.55000000e+02 2.55000000e+02]\n",
            "   [2.55000000e+02 2.55000000e+02 2.55000000e+02]]\n",
            "\n",
            "  [[2.55000000e+02 2.55000000e+02 2.55000000e+02]\n",
            "   [2.55000000e+02 2.55000000e+02 2.55000000e+02]\n",
            "   [2.55000000e+02 2.55000000e+02 2.55000000e+02]\n",
            "   ...\n",
            "   [2.54919647e+02 2.54919647e+02 2.54919647e+02]\n",
            "   [2.55000000e+02 2.55000000e+02 2.55000000e+02]\n",
            "   [2.55000000e+02 2.55000000e+02 2.55000000e+02]]\n",
            "\n",
            "  [[2.55000000e+02 2.55000000e+02 2.55000000e+02]\n",
            "   [2.55000000e+02 2.55000000e+02 2.55000000e+02]\n",
            "   [2.55000000e+02 2.55000000e+02 2.55000000e+02]\n",
            "   ...\n",
            "   [2.54980453e+02 2.54980453e+02 2.54980453e+02]\n",
            "   [2.55000000e+02 2.55000000e+02 2.55000000e+02]\n",
            "   [2.55000000e+02 2.55000000e+02 2.55000000e+02]]]\n",
            "\n",
            "\n",
            " [[[1.40621490e+02 2.97193680e+01 5.44190454e+00]\n",
            "   [2.03710220e+02 1.33884735e+02 6.36136475e+01]\n",
            "   [2.52023865e+02 2.17664413e+02 1.40618073e+02]\n",
            "   ...\n",
            "   [1.82384460e+02 2.60803528e+01 4.70803528e+01]\n",
            "   [1.82885132e+02 2.51284409e+01 4.76418343e+01]\n",
            "   [1.81466171e+02 2.45338306e+01 4.67566948e+01]]\n",
            "\n",
            "  [[1.45955795e+02 3.90611305e+01 1.17086258e+01]\n",
            "   [2.32587433e+02 1.79584930e+02 1.02984222e+02]\n",
            "   [2.51278885e+02 2.23773941e+02 1.39648697e+02]\n",
            "   ...\n",
            "   [1.83751617e+02 2.67516136e+01 4.77516136e+01]\n",
            "   [1.83000000e+02 2.60000000e+01 4.70000000e+01]\n",
            "   [1.81000000e+02 2.50000000e+01 4.60000000e+01]]\n",
            "\n",
            "  [[1.71846146e+02 8.10963058e+01 3.62961617e+01]\n",
            "   [2.48390045e+02 2.09700317e+02 1.23564331e+02]\n",
            "   [2.50800034e+02 2.25930344e+02 1.28991928e+02]\n",
            "   ...\n",
            "   [1.84279480e+02 2.67205276e+01 4.79652061e+01]\n",
            "   [1.83881073e+02 2.68810711e+01 4.78810730e+01]\n",
            "   [1.82433029e+02 2.62165184e+01 4.72165184e+01]]\n",
            "\n",
            "  ...\n",
            "\n",
            "  [[0.00000000e+00 2.12321434e+01 0.00000000e+00]\n",
            "   [3.36431563e-01 2.27292881e+01 1.84645936e-01]\n",
            "   [8.03575516e-02 2.16401901e+01 0.00000000e+00]\n",
            "   ...\n",
            "   [7.64212646e+01 1.82338867e+01 0.00000000e+00]\n",
            "   [7.13563461e+01 1.99457645e+01 0.00000000e+00]\n",
            "   [6.57972641e+01 2.12996120e+01 0.00000000e+00]]\n",
            "\n",
            "  [[4.87631887e-01 2.11694393e+01 1.03703350e-01]\n",
            "   [1.92784593e-01 2.25036449e+01 2.29112104e-01]\n",
            "   [1.17304176e-01 2.37806320e+01 5.55463314e-01]\n",
            "   ...\n",
            "   [6.80881500e+01 1.77298889e+01 0.00000000e+00]\n",
            "   [6.33912506e+01 1.93064251e+01 4.58219439e-01]\n",
            "   [5.79442596e+01 2.12422409e+01 1.17652786e+00]]\n",
            "\n",
            "  [[7.67857075e-01 2.14661903e+01 8.50118399e-01]\n",
            "   [4.18429494e-01 2.25077152e+01 9.63072658e-01]\n",
            "   [0.00000000e+00 2.31433792e+01 1.14337873e+00]\n",
            "   ...\n",
            "   [6.12945557e+01 1.68783913e+01 0.00000000e+00]\n",
            "   [5.52511024e+01 1.97879028e+01 1.05456221e+00]\n",
            "   [5.02144852e+01 1.90092239e+01 6.16058350e-01]]]\n",
            "\n",
            "\n",
            " [[[1.09147141e+02 1.56147141e+02 2.24147141e+02]\n",
            "   [1.11087051e+02 1.58087067e+02 2.26087067e+02]\n",
            "   [1.12099548e+02 1.59099548e+02 2.27099548e+02]\n",
            "   ...\n",
            "   [9.90000000e+01 1.44000000e+02 2.09000000e+02]\n",
            "   [9.78482056e+01 1.41848206e+02 2.06848206e+02]\n",
            "   [9.66160583e+01 1.40616058e+02 2.05616058e+02]]\n",
            "\n",
            "  [[1.10332588e+02 1.57332596e+02 2.25332596e+02]\n",
            "   [1.12564728e+02 1.59564743e+02 2.27564743e+02]\n",
            "   [1.12819656e+02 1.59819656e+02 2.27819656e+02]\n",
            "   ...\n",
            "   [9.90575714e+01 1.44057571e+02 2.09057571e+02]\n",
            "   [9.79569702e+01 1.41956970e+02 2.06956970e+02]\n",
            "   [9.68911591e+01 1.40891159e+02 2.05891159e+02]]\n",
            "\n",
            "  [[1.11000000e+02 1.58000000e+02 2.26000000e+02]\n",
            "   [1.12877693e+02 1.59877701e+02 2.27877701e+02]\n",
            "   [1.14080360e+02 1.61080353e+02 2.29080353e+02]\n",
            "   ...\n",
            "   [1.00015602e+02 1.45015610e+02 2.10015610e+02]\n",
            "   [9.88776855e+01 1.42877686e+02 2.07877686e+02]\n",
            "   [9.76906204e+01 1.41690613e+02 2.06690613e+02]]\n",
            "\n",
            "  ...\n",
            "\n",
            "  [[1.00452675e+02 1.04220528e+02 4.83670044e+01]\n",
            "   [6.90503082e+01 6.38565979e+01 1.59359713e+01]\n",
            "   [3.91253738e+01 3.36456223e+01 4.49293327e+00]\n",
            "   ...\n",
            "   [4.30982552e+01 5.30982552e+01 2.89040413e+01]\n",
            "   [4.43460083e+01 5.43460083e+01 2.73460083e+01]\n",
            "   [4.72687798e+01 5.72687798e+01 3.02687798e+01]]\n",
            "\n",
            "  [[6.19844055e+01 6.41936874e+01 1.53325863e+01]\n",
            "   [3.06599102e+01 2.77049255e+01 9.78820026e-01]\n",
            "   [2.05513535e+01 1.51875191e+01 0.00000000e+00]\n",
            "   ...\n",
            "   [4.30424194e+01 5.32834778e+01 2.82031250e+01]\n",
            "   [4.41517944e+01 5.41517944e+01 2.91517944e+01]\n",
            "   [4.61004639e+01 5.61004639e+01 3.08827858e+01]]\n",
            "\n",
            "  [[2.95792465e+01 3.10548801e+01 6.61133289e-01]\n",
            "   [1.71345119e+01 1.45251579e+01 0.00000000e+00]\n",
            "   [1.83406239e+01 1.14991283e+01 7.61138916e-01]\n",
            "   ...\n",
            "   [4.45200806e+01 5.47611389e+01 2.96807861e+01]\n",
            "   [4.47973976e+01 5.47973976e+01 2.97973976e+01]\n",
            "   [4.53839417e+01 5.53839417e+01 2.96160583e+01]]]], shape=(32, 224, 224, 3), dtype=float32) tf.Tensor(\n",
            "[[1. 0. 0. 0. 0.]\n",
            " [0. 0. 0. 0. 1.]\n",
            " [1. 0. 0. 0. 0.]\n",
            " [0. 1. 0. 0. 0.]\n",
            " [0. 0. 0. 0. 1.]\n",
            " [0. 0. 0. 1. 0.]\n",
            " [1. 0. 0. 0. 0.]\n",
            " [1. 0. 0. 0. 0.]\n",
            " [0. 1. 0. 0. 0.]\n",
            " [0. 0. 0. 0. 1.]\n",
            " [1. 0. 0. 0. 0.]\n",
            " [1. 0. 0. 0. 0.]\n",
            " [0. 0. 1. 0. 0.]\n",
            " [0. 0. 0. 1. 0.]\n",
            " [0. 0. 0. 0. 1.]\n",
            " [0. 0. 0. 0. 1.]\n",
            " [0. 1. 0. 0. 0.]\n",
            " [1. 0. 0. 0. 0.]\n",
            " [0. 0. 0. 1. 0.]\n",
            " [0. 1. 0. 0. 0.]\n",
            " [1. 0. 0. 0. 0.]\n",
            " [0. 0. 0. 1. 0.]\n",
            " [0. 0. 0. 0. 1.]\n",
            " [0. 0. 0. 1. 0.]\n",
            " [1. 0. 0. 0. 0.]\n",
            " [1. 0. 0. 0. 0.]\n",
            " [1. 0. 0. 0. 0.]\n",
            " [0. 0. 0. 1. 0.]\n",
            " [0. 1. 0. 0. 0.]\n",
            " [0. 1. 0. 0. 0.]\n",
            " [0. 0. 0. 0. 1.]\n",
            " [0. 0. 0. 1. 0.]], shape=(32, 5), dtype=float32)\n"
          ]
        }
      ]
    },
    {
      "cell_type": "code",
      "source": [
        "plot_loss_curves(history_1)"
      ],
      "metadata": {
        "colab": {
          "base_uri": "https://localhost:8080/",
          "height": 573
        },
        "id": "lUyJEDQr4OUm",
        "outputId": "6c5026a6-5415-4e2d-8bb9-a97a705a44f3"
      },
      "execution_count": 113,
      "outputs": [
        {
          "output_type": "display_data",
          "data": {
            "text/plain": [
              "<Figure size 432x288 with 1 Axes>"
            ],
            "image/png": "[encoded data removed]"
          },
          "metadata": {
            "needs_background": "light"
          }
        },
        {
          "output_type": "display_data",
          "data": {
            "text/plain": [
              "<Figure size 432x288 with 1 Axes>"
            ],
            "image/png": "[encoded data removed]"
          },
          "metadata": {
            "needs_background": "light"
          }
        }
      ]
    },
    {
      "cell_type": "code",
      "source": [],
      "metadata": {
        "id": "tN3tDDyo5TAN"
      },
      "execution_count": null,
      "outputs": []
    }
  ]
}
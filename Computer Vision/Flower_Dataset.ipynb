{
  "nbformat": 4,
  "nbformat_minor": 0,
  "metadata": {
    "colab": {
      "provenance": [],
      "authorship_tag": "ABX9TyOFRBVoZj/EfAFp2s3VlSfr",
      "include_colab_link": true
    },
    "kernelspec": {
      "name": "python3",
      "display_name": "Python 3"
    },
    "language_info": {
      "name": "python"
    },
    "accelerator": "GPU",
    "gpuClass": "standard"
  },
  "cells": [
    {
      "cell_type": "markdown",
      "metadata": {
        "id": "view-in-github",
        "colab_type": "text"
      },
      "source": [
        "<a href=\"https://colab.research.google.com/github/ShyamSundhar1411/My-ML-Notebooks/blob/master/Computer%20Vision/Flower_Dataset.ipynb\" target=\"_parent\"><img src=\"https://colab.research.google.com/assets/colab-badge.svg\" alt=\"Open In Colab\"/></a>"
      ]
    },
    {
      "cell_type": "markdown",
      "source": [
        "## 1. Importing Dataset"
      ],
      "metadata": {
        "id": "9HznCC5_SFJG"
      }
    },
    {
      "cell_type": "code",
      "execution_count": 1,
      "metadata": {
        "id": "rMxMS6dAPx2C"
      },
      "outputs": [],
      "source": [
        "import tensorflow as tf\n",
        "import pandas as pd\n",
        "import numpy as np"
      ]
    },
    {
      "cell_type": "code",
      "source": [
        "!wget https://raw.githubusercontent.com/mrdbourke/tensorflow-deep-learning/main/extras/helper_functions.py"
      ],
      "metadata": {
        "colab": {
          "base_uri": "https://localhost:8080/"
        },
        "id": "yp4MIsRYP2wQ",
        "outputId": "cbcbf066-beaa-4cd5-e176-f60e2565b68a"
      },
      "execution_count": 2,
      "outputs": [
        {
          "output_type": "stream",
          "name": "stdout",
          "text": [
            "--2023-01-24 19:40:06--  https://raw.githubusercontent.com/mrdbourke/tensorflow-deep-learning/main/extras/helper_functions.py\n",
            "Resolving raw.githubusercontent.com (raw.githubusercontent.com)... 185.199.111.133, 185.199.108.133, 185.199.109.133, ...\n",
            "Connecting to raw.githubusercontent.com (raw.githubusercontent.com)|185.199.111.133|:443... connected.\n",
            "HTTP request sent, awaiting response... 200 OK\n",
            "Length: 10246 (10K) [text/plain]\n",
            "Saving to: ‘helper_functions.py’\n",
            "\n",
            "helper_functions.py 100%[===================>]  10.01K  --.-KB/s    in 0s      \n",
            "\n",
            "2023-01-24 19:40:06 (99.0 MB/s) - ‘helper_functions.py’ saved [10246/10246]\n",
            "\n"
          ]
        }
      ]
    },
    {
      "cell_type": "code",
      "source": [
        "from helper_functions import create_tensorboard_callback,plot_loss_curves,unzip_data,walk_through_dir"
      ],
      "metadata": {
        "id": "Od2lsfn3QFgr"
      },
      "execution_count": 3,
      "outputs": []
    },
    {
      "cell_type": "code",
      "source": [
        "!pip install tensorflow-datasets"
      ],
      "metadata": {
        "colab": {
          "base_uri": "https://localhost:8080/"
        },
        "id": "Z_h0pzaMQMWs",
        "outputId": "6b7ab6e0-9d80-457a-95b4-f9c734ea2539"
      },
      "execution_count": 4,
      "outputs": [
        {
          "output_type": "stream",
          "name": "stdout",
          "text": [
            "Looking in indexes: https://pypi.org/simple, https://us-python.pkg.dev/colab-wheels/public/simple/\n",
            "Requirement already satisfied: tensorflow-datasets in /usr/local/lib/python3.8/dist-packages (4.8.1)\n",
            "Requirement already satisfied: tqdm in /usr/local/lib/python3.8/dist-packages (from tensorflow-datasets) (4.64.1)\n",
            "Requirement already satisfied: absl-py in /usr/local/lib/python3.8/dist-packages (from tensorflow-datasets) (1.3.0)\n",
            "Requirement already satisfied: numpy in /usr/local/lib/python3.8/dist-packages (from tensorflow-datasets) (1.21.6)\n",
            "Requirement already satisfied: etils[enp,epath]>=0.9.0 in /usr/local/lib/python3.8/dist-packages (from tensorflow-datasets) (1.0.0)\n",
            "Requirement already satisfied: toml in /usr/local/lib/python3.8/dist-packages (from tensorflow-datasets) (0.10.2)\n",
            "Requirement already satisfied: psutil in /usr/local/lib/python3.8/dist-packages (from tensorflow-datasets) (5.4.8)\n",
            "Requirement already satisfied: click in /usr/local/lib/python3.8/dist-packages (from tensorflow-datasets) (7.1.2)\n",
            "Requirement already satisfied: importlib-resources in /usr/local/lib/python3.8/dist-packages (from tensorflow-datasets) (5.10.2)\n",
            "Requirement already satisfied: promise in /usr/local/lib/python3.8/dist-packages (from tensorflow-datasets) (2.3)\n",
            "Requirement already satisfied: requests>=2.19.0 in /usr/local/lib/python3.8/dist-packages (from tensorflow-datasets) (2.25.1)\n",
            "Requirement already satisfied: tensorflow-metadata in /usr/local/lib/python3.8/dist-packages (from tensorflow-datasets) (1.12.0)\n",
            "Requirement already satisfied: protobuf>=3.12.2 in /usr/local/lib/python3.8/dist-packages (from tensorflow-datasets) (3.19.6)\n",
            "Requirement already satisfied: dill in /usr/local/lib/python3.8/dist-packages (from tensorflow-datasets) (0.3.6)\n",
            "Requirement already satisfied: six in /usr/local/lib/python3.8/dist-packages (from tensorflow-datasets) (1.15.0)\n",
            "Requirement already satisfied: termcolor in /usr/local/lib/python3.8/dist-packages (from tensorflow-datasets) (2.2.0)\n",
            "Requirement already satisfied: dm-tree in /usr/local/lib/python3.8/dist-packages (from tensorflow-datasets) (0.1.8)\n",
            "Requirement already satisfied: zipp in /usr/local/lib/python3.8/dist-packages (from etils[enp,epath]>=0.9.0->tensorflow-datasets) (3.11.0)\n",
            "Requirement already satisfied: typing_extensions in /usr/local/lib/python3.8/dist-packages (from etils[enp,epath]>=0.9.0->tensorflow-datasets) (4.4.0)\n",
            "Requirement already satisfied: urllib3<1.27,>=1.21.1 in /usr/local/lib/python3.8/dist-packages (from requests>=2.19.0->tensorflow-datasets) (1.24.3)\n",
            "Requirement already satisfied: chardet<5,>=3.0.2 in /usr/local/lib/python3.8/dist-packages (from requests>=2.19.0->tensorflow-datasets) (4.0.0)\n",
            "Requirement already satisfied: idna<3,>=2.5 in /usr/local/lib/python3.8/dist-packages (from requests>=2.19.0->tensorflow-datasets) (2.10)\n",
            "Requirement already satisfied: certifi>=2017.4.17 in /usr/local/lib/python3.8/dist-packages (from requests>=2.19.0->tensorflow-datasets) (2022.12.7)\n",
            "Requirement already satisfied: googleapis-common-protos<2,>=1.52.0 in /usr/local/lib/python3.8/dist-packages (from tensorflow-metadata->tensorflow-datasets) (1.58.0)\n"
          ]
        }
      ]
    },
    {
      "cell_type": "code",
      "source": [
        "import tensorflow_datasets as tfds\n",
        "import pathlib\n",
        "dataset_url = \"https://storage.googleapis.com/download.tensorflow.org/example_images/flower_photos.tgz\"\n",
        "archive = tf.keras.utils.get_file(origin=dataset_url, extract=True)\n",
        "data_dir = pathlib.Path(archive).with_suffix('')"
      ],
      "metadata": {
        "colab": {
          "base_uri": "https://localhost:8080/"
        },
        "id": "UDPkABjEQSOY",
        "outputId": "fb08bcea-3283-4cee-a1e2-d784b95e124b"
      },
      "execution_count": 5,
      "outputs": [
        {
          "output_type": "stream",
          "name": "stdout",
          "text": [
            "Downloading data from https://storage.googleapis.com/download.tensorflow.org/example_images/flower_photos.tgz\n",
            "228813984/228813984 [==============================] - 11s 0us/step\n"
          ]
        }
      ]
    },
    {
      "cell_type": "code",
      "source": [
        "data_dir"
      ],
      "metadata": {
        "colab": {
          "base_uri": "https://localhost:8080/"
        },
        "id": "LVQEmhJ-QXMx",
        "outputId": "bf7abe61-a095-405c-be2e-2c47f7a879fd"
      },
      "execution_count": 7,
      "outputs": [
        {
          "output_type": "execute_result",
          "data": {
            "text/plain": [
              "PosixPath('/root/.keras/datasets/flower_photos')"
            ]
          },
          "metadata": {},
          "execution_count": 7
        }
      ]
    },
    {
      "cell_type": "markdown",
      "source": [
        "## 2. Setting Up Data Loaders"
      ],
      "metadata": {
        "id": "2YatF1sXcZrA"
      }
    },
    {
      "cell_type": "code",
      "source": [
        "from tensorflow.keras.preprocessing import image_dataset_from_directory\n",
        "\n",
        "train_dataset = image_dataset_from_directory(data_dir,label_mode = \"categorical\",image_size = (224,224),validation_split = 0.2,subset = \"training\",seed = 42)\n",
        "test_dataset = image_dataset_from_directory(data_dir,label_mode = \"categorical\",image_size = (224,224),validation_split = 0.2,subset = \"validation\",seed = 32)"
      ],
      "metadata": {
        "colab": {
          "base_uri": "https://localhost:8080/"
        },
        "id": "_n6ORndkQmvf",
        "outputId": "76e4571b-51c8-4d10-eeda-30bf1b476061"
      },
      "execution_count": 6,
      "outputs": [
        {
          "output_type": "stream",
          "name": "stdout",
          "text": [
            "Found 3670 files belonging to 5 classes.\n",
            "Using 2936 files for training.\n",
            "Found 3670 files belonging to 5 classes.\n",
            "Using 734 files for validation.\n"
          ]
        }
      ]
    },
    {
      "cell_type": "code",
      "source": [
        "class_names = train_dataset.class_names"
      ],
      "metadata": {
        "id": "dBokrXWrQtSU"
      },
      "execution_count": 7,
      "outputs": []
    },
    {
      "cell_type": "markdown",
      "source": [
        "## 3. Data Augmentation"
      ],
      "metadata": {
        "id": "aqHSn_msctcY"
      }
    },
    {
      "cell_type": "code",
      "source": [
        "from tensorflow.keras.layers.experimental import preprocessing\n",
        "data_augmentation = tf.keras.Sequential([\n",
        "    preprocessing.RandomFlip(\"horizontal\",input_shape=(224, 224, 3)),\n",
        "    preprocessing.Resizing(224,224),\n",
        "    preprocessing.RandomRotation(0.2),\n",
        "    preprocessing.RandomWidth(0.2),\n",
        "    preprocessing.RandomHeight(0.2),\n",
        "    preprocessing.RandomZoom(0.2),\n",
        "    preprocessing.Rescaling(1./255),\n",
        "    \n",
        "])"
      ],
      "metadata": {
        "id": "WGuy4CTGSDsz"
      },
      "execution_count": 8,
      "outputs": []
    },
    {
      "cell_type": "markdown",
      "source": [
        "## 2. Model 0 Simple Model"
      ],
      "metadata": {
        "id": "EeQVMc13R0mb"
      }
    },
    {
      "cell_type": "code",
      "source": [
        "checkpoint_path =\"model_1_weight_checkpoints/checkpoint.ckpt\"\n",
        "     \n",
        "checkpoint_call_back = tf.keras.callbacks.ModelCheckpoint(\n",
        "    filepath = checkpoint_path,\n",
        "    save_weights_only = True,\n",
        "    save_best_only = True,\n",
        "    save_freq = \"epoch\"\n",
        ")"
      ],
      "metadata": {
        "id": "2SFJAx3kXr2g"
      },
      "execution_count": 17,
      "outputs": []
    },
    {
      "cell_type": "code",
      "source": [
        "model_0 = tf.keras.Sequential([\n",
        "    data_augmentation,\n",
        "    tf.keras.layers.Conv2D(\n",
        "        filters = 10,\n",
        "        kernel_size = 3,\n",
        "        strides  = (1,1),\n",
        "        activation = \"relu\",name = \"input_layer\"\n",
        "        ),\n",
        "    tf.keras.layers.Conv2D(\n",
        "        10,3,activation = \"relu\"\n",
        "    ),\n",
        "    tf.keras.layers.MaxPool2D(2),\n",
        "    tf.keras.layers.Conv2D(\n",
        "        10,3,activation = \"relu\"\n",
        "    ),\n",
        "    tf.keras.layers.MaxPool2D(2),\n",
        "    tf.keras.layers.Conv2D(\n",
        "        10,3,activation = \"relu\"\n",
        "    ),\n",
        "    tf.keras.layers.GlobalMaxPool2D(),\n",
        "    tf.keras.layers.Dense(len(class_names),activation = \"softmax\",name = \"output_layer\"),\n",
        "\n",
        "])\n",
        "model_0.compile(loss = \"categorical_crossentropy\",metrics = [\"accuracy\"],optimizer = \"adam\")"
      ],
      "metadata": {
        "id": "UYw7P9zYSeYf"
      },
      "execution_count": 74,
      "outputs": []
    },
    {
      "cell_type": "code",
      "source": [
        "history_0 = model_0.fit(\n",
        "    train_dataset,epochs = 10,\n",
        "    steps_per_epoch = len(train_dataset),\n",
        "    validation_data = test_dataset,\n",
        "    validation_steps = len(test_dataset),\n",
        "    callbacks = [checkpoint_call_back]\n",
        ")"
      ],
      "metadata": {
        "colab": {
          "base_uri": "https://localhost:8080/"
        },
        "id": "YFgtDYB1Yxwk",
        "outputId": "9db4b040-045e-4d01-d55d-e4e19c5a0426"
      },
      "execution_count": 76,
      "outputs": [
        {
          "output_type": "stream",
          "name": "stdout",
          "text": [
            "Epoch 1/10\n",
            "92/92 [==============================] - 56s 590ms/step - loss: 1.6080 - accuracy: 0.2197 - val_loss: 1.6107 - val_accuracy: 0.2289\n",
            "Epoch 2/10\n",
            "92/92 [==============================] - 53s 572ms/step - loss: 1.6056 - accuracy: 0.2180 - val_loss: 1.6037 - val_accuracy: 0.2207\n",
            "Epoch 3/10\n",
            "92/92 [==============================] - 54s 585ms/step - loss: 1.6044 - accuracy: 0.2408 - val_loss: 1.5966 - val_accuracy: 0.2411\n",
            "Epoch 4/10\n",
            "92/92 [==============================] - 48s 522ms/step - loss: 1.6037 - accuracy: 0.2408 - val_loss: 1.5911 - val_accuracy: 0.2561\n",
            "Epoch 5/10\n",
            "92/92 [==============================] - 49s 526ms/step - loss: 1.6033 - accuracy: 0.2408 - val_loss: 1.5868 - val_accuracy: 0.2643\n",
            "Epoch 6/10\n",
            "92/92 [==============================] - 49s 527ms/step - loss: 1.6031 - accuracy: 0.2408 - val_loss: 1.5847 - val_accuracy: 0.2493\n",
            "Epoch 7/10\n",
            "92/92 [==============================] - 48s 518ms/step - loss: 1.6028 - accuracy: 0.2408 - val_loss: 1.5962 - val_accuracy: 0.2411\n",
            "Epoch 8/10\n",
            "92/92 [==============================] - 45s 479ms/step - loss: 1.6024 - accuracy: 0.2408 - val_loss: 1.6867 - val_accuracy: 0.2193\n",
            "Epoch 9/10\n",
            "92/92 [==============================] - 50s 534ms/step - loss: 1.6017 - accuracy: 0.2408 - val_loss: 2.4441 - val_accuracy: 0.2071\n",
            "Epoch 10/10\n",
            "92/92 [==============================] - 46s 496ms/step - loss: 1.5989 - accuracy: 0.2408 - val_loss: 6.9317 - val_accuracy: 0.2030\n"
          ]
        }
      ]
    },
    {
      "cell_type": "code",
      "source": [
        "plot_loss_curves(history_0)"
      ],
      "metadata": {
        "colab": {
          "base_uri": "https://localhost:8080/",
          "height": 573
        },
        "id": "R0q50B3XZRMn",
        "outputId": "c015172e-12f2-43ac-b23b-9a019cd8f80d"
      },
      "execution_count": 75,
      "outputs": [
        {
          "output_type": "display_data",
          "data": {
            "text/plain": [
              "<Figure size 432x288 with 1 Axes>"
            ],
            "image/png": "[encoded data removed]"
          },
          "metadata": {
            "needs_background": "light"
          }
        },
        {
          "output_type": "display_data",
          "data": {
            "text/plain": [
              "<Figure size 432x288 with 1 Axes>"
            ],
            "image/png": "[encoded data removed]"
          },
          "metadata": {
            "needs_background": "light"
          }
        }
      ]
    },
    {
      "cell_type": "markdown",
      "source": [
        "## 3. Model 1 Complex Structure"
      ],
      "metadata": {
        "id": "TaaG6_JrmaA7"
      }
    },
    {
      "cell_type": "code",
      "source": [
        "model_1 = tf.keras.Sequential([\n",
        "    tf.keras.layers.Conv2D(filters = 64,kernel_size = (3,3),strides = (1,1),activation = \"relu\",padding=\"Same\"),\n",
        "    tf.keras.layers.MaxPool2D(2),\n",
        "    tf.keras.layers.BatchNormalization(),\n",
        "    tf.keras.layers.Dropout(0.2),\n",
        "    tf.keras.layers.Conv2D(filters = 128,kernel_size = (3,3),strides = (1,1),activation = \"relu\",padding=\"Same\"),\n",
        "    tf.keras.layers.MaxPool2D(2),\n",
        "    tf.keras.layers.BatchNormalization(),\n",
        "    tf.keras.layers.Dropout(0.2),\n",
        "    tf.keras.layers.Conv2D(filters = 256,kernel_size = (3,3),strides = (1,1),activation = \"relu\",padding=\"Same\"),\n",
        "    tf.keras.layers.MaxPool2D(2),\n",
        "    tf.keras.layers.BatchNormalization(),\n",
        "    tf.keras.layers.Dropout(0.2),\n",
        "    tf.keras.layers.Conv2D(filters = 512,kernel_size = (3,3),strides = (1,1),activation = \"relu\",padding=\"Same\"),\n",
        "    tf.keras.layers.MaxPool2D(2),\n",
        "    tf.keras.layers.BatchNormalization(),\n",
        "    tf.keras.layers.Dropout(0.2),\n",
        "    tf.keras.layers.Conv2D(filters = 1024,kernel_size = (3,3),strides = (1,1),activation = \"relu\",padding=\"Same\"),\n",
        "    tf.keras.layers.MaxPool2D(2),\n",
        "    tf.keras.layers.BatchNormalization(),\n",
        "    tf.keras.layers.Dropout(0.2),\n",
        "    tf.keras.layers.Conv2D(filters = 512,kernel_size = (3,3),strides = (1,1),activation = \"relu\",padding=\"Same\"),\n",
        "    tf.keras.layers.MaxPool2D(2),\n",
        "    tf.keras.layers.BatchNormalization(),\n",
        "    tf.keras.layers.Dropout(0.2),\n",
        "    tf.keras.layers.Conv2D(filters = 512,kernel_size = (3,3),strides = (1,1),activation = \"relu\",padding=\"Same\"),\n",
        "    tf.keras.layers.MaxPool2D(),\n",
        "    tf.keras.layers.BatchNormalization(),\n",
        "    tf.keras.layers.Dropout(0.2),\n",
        "    tf.keras.layers.GlobalMaxPool2D(),\n",
        "    ## Fully Connected Layer\n",
        "    tf.keras.layers.Dense(1024,activation = \"relu\"),\n",
        "    tf.keras.layers.Dropout(0.5),\n",
        "    tf.keras.layers.BatchNormalization(),\n",
        "    tf.keras.layers.Dense(5,activation = \"softmax\",name = \"output_name\")\n",
        "])\n",
        "model_1.compile(loss = \"categorical_crossentropy\",metrics = [\"accuracy\"],optimizer = \"adam\")"
      ],
      "metadata": {
        "id": "GoTWrDfzpAvQ"
      },
      "execution_count": 20,
      "outputs": []
    },
    {
      "cell_type": "code",
      "source": [
        "history_1 = model_1.fit(\n",
        "    train_dataset,epochs = 10,\n",
        "    steps_per_epoch = len(train_dataset),\n",
        "    validation_data = test_dataset,\n",
        "    validation_steps = len(test_dataset),\n",
        "    callbacks = [checkpoint_call_back]\n",
        ")"
      ],
      "metadata": {
        "colab": {
          "base_uri": "https://localhost:8080/"
        },
        "id": "kjciIc6uqYU_",
        "outputId": "1b0c7a2f-9154-4325-ccc5-b1f4733f6737"
      },
      "execution_count": 18,
      "outputs": [
        {
          "output_type": "stream",
          "name": "stdout",
          "text": [
            "Epoch 1/10\n",
            "92/92 [==============================] - 38s 280ms/step - loss: 1.6208 - accuracy: 0.4319 - val_loss: 9.8784 - val_accuracy: 0.2589\n",
            "Epoch 2/10\n",
            "92/92 [==============================] - 19s 204ms/step - loss: 1.3371 - accuracy: 0.5181 - val_loss: 1.8535 - val_accuracy: 0.5054\n",
            "Epoch 3/10\n",
            "92/92 [==============================] - 19s 204ms/step - loss: 1.1351 - accuracy: 0.5637 - val_loss: 1.1986 - val_accuracy: 0.6417\n",
            "Epoch 4/10\n",
            "92/92 [==============================] - 19s 201ms/step - loss: 1.0122 - accuracy: 0.6117 - val_loss: 1.2417 - val_accuracy: 0.5627\n",
            "Epoch 5/10\n",
            "92/92 [==============================] - 19s 206ms/step - loss: 0.9278 - accuracy: 0.6563 - val_loss: 0.8394 - val_accuracy: 0.6621\n",
            "Epoch 6/10\n",
            "92/92 [==============================] - 19s 201ms/step - loss: 0.8108 - accuracy: 0.7003 - val_loss: 0.8984 - val_accuracy: 0.6499\n",
            "Epoch 7/10\n",
            "92/92 [==============================] - 19s 201ms/step - loss: 0.7558 - accuracy: 0.7173 - val_loss: 0.8780 - val_accuracy: 0.6935\n",
            "Epoch 8/10\n",
            "92/92 [==============================] - 19s 200ms/step - loss: 0.7104 - accuracy: 0.7360 - val_loss: 0.9630 - val_accuracy: 0.6744\n",
            "Epoch 9/10\n",
            "92/92 [==============================] - 19s 205ms/step - loss: 0.6551 - accuracy: 0.7514 - val_loss: 0.6697 - val_accuracy: 0.7480\n",
            "Epoch 10/10\n",
            "92/92 [==============================] - 19s 206ms/step - loss: 0.6105 - accuracy: 0.7725 - val_loss: 0.5411 - val_accuracy: 0.7929\n"
          ]
        }
      ]
    },
    {
      "cell_type": "code",
      "source": [
        "model_1.evaluate(test_dataset)\n"
      ],
      "metadata": {
        "id": "abAN9C8tquv9"
      },
      "execution_count": null,
      "outputs": []
    },
    {
      "cell_type": "code",
      "source": [
        "model_1.summary()"
      ],
      "metadata": {
        "colab": {
          "base_uri": "https://localhost:8080/"
        },
        "id": "ZUo9fc9s8R3O",
        "outputId": "5929d85b-9e67-49dc-db6b-eeac7ac5e013"
      },
      "execution_count": 119,
      "outputs": [
        {
          "output_type": "stream",
          "name": "stdout",
          "text": [
            "Model: \"sequential_44\"\n",
            "_________________________________________________________________\n",
            " Layer (type)                Output Shape              Param #   \n",
            "=================================================================\n",
            " sequential_32 (Sequential)  (None, 224, 224, 3)       0         \n",
            "                                                                 \n",
            " conv2d_180 (Conv2D)         (None, 224, 224, 64)      1792      \n",
            "                                                                 \n",
            " max_pooling2d_169 (MaxPooli  (None, 112, 112, 64)     0         \n",
            " ng2D)                                                           \n",
            "                                                                 \n",
            " batch_normalization_161 (Ba  (None, 112, 112, 64)     256       \n",
            " tchNormalization)                                               \n",
            "                                                                 \n",
            " dropout_160 (Dropout)       (None, 112, 112, 64)      0         \n",
            "                                                                 \n",
            " conv2d_181 (Conv2D)         (None, 112, 112, 128)     73856     \n",
            "                                                                 \n",
            " max_pooling2d_170 (MaxPooli  (None, 56, 56, 128)      0         \n",
            " ng2D)                                                           \n",
            "                                                                 \n",
            " batch_normalization_162 (Ba  (None, 56, 56, 128)      512       \n",
            " tchNormalization)                                               \n",
            "                                                                 \n",
            " dropout_161 (Dropout)       (None, 56, 56, 128)       0         \n",
            "                                                                 \n",
            " conv2d_182 (Conv2D)         (None, 56, 56, 256)       295168    \n",
            "                                                                 \n",
            " max_pooling2d_171 (MaxPooli  (None, 28, 28, 256)      0         \n",
            " ng2D)                                                           \n",
            "                                                                 \n",
            " batch_normalization_163 (Ba  (None, 28, 28, 256)      1024      \n",
            " tchNormalization)                                               \n",
            "                                                                 \n",
            " dropout_162 (Dropout)       (None, 28, 28, 256)       0         \n",
            "                                                                 \n",
            " conv2d_183 (Conv2D)         (None, 28, 28, 512)       1180160   \n",
            "                                                                 \n",
            " max_pooling2d_172 (MaxPooli  (None, 14, 14, 512)      0         \n",
            " ng2D)                                                           \n",
            "                                                                 \n",
            " batch_normalization_164 (Ba  (None, 14, 14, 512)      2048      \n",
            " tchNormalization)                                               \n",
            "                                                                 \n",
            " dropout_163 (Dropout)       (None, 14, 14, 512)       0         \n",
            "                                                                 \n",
            " conv2d_184 (Conv2D)         (None, 14, 14, 1024)      4719616   \n",
            "                                                                 \n",
            " max_pooling2d_173 (MaxPooli  (None, 7, 7, 1024)       0         \n",
            " ng2D)                                                           \n",
            "                                                                 \n",
            " batch_normalization_165 (Ba  (None, 7, 7, 1024)       4096      \n",
            " tchNormalization)                                               \n",
            "                                                                 \n",
            " dropout_164 (Dropout)       (None, 7, 7, 1024)        0         \n",
            "                                                                 \n",
            " conv2d_185 (Conv2D)         (None, 7, 7, 512)         4719104   \n",
            "                                                                 \n",
            " max_pooling2d_174 (MaxPooli  (None, 3, 3, 512)        0         \n",
            " ng2D)                                                           \n",
            "                                                                 \n",
            " batch_normalization_166 (Ba  (None, 3, 3, 512)        2048      \n",
            " tchNormalization)                                               \n",
            "                                                                 \n",
            " dropout_165 (Dropout)       (None, 3, 3, 512)         0         \n",
            "                                                                 \n",
            " conv2d_186 (Conv2D)         (None, 3, 3, 512)         2359808   \n",
            "                                                                 \n",
            " max_pooling2d_175 (MaxPooli  (None, 1, 1, 512)        0         \n",
            " ng2D)                                                           \n",
            "                                                                 \n",
            " batch_normalization_167 (Ba  (None, 1, 1, 512)        2048      \n",
            " tchNormalization)                                               \n",
            "                                                                 \n",
            " dropout_166 (Dropout)       (None, 1, 1, 512)         0         \n",
            "                                                                 \n",
            " global_max_pooling2d_26 (Gl  (None, 512)              0         \n",
            " obalMaxPooling2D)                                               \n",
            "                                                                 \n",
            " dense_16 (Dense)            (None, 1024)              525312    \n",
            "                                                                 \n",
            " dropout_167 (Dropout)       (None, 1024)              0         \n",
            "                                                                 \n",
            " batch_normalization_168 (Ba  (None, 1024)             4096      \n",
            " tchNormalization)                                               \n",
            "                                                                 \n",
            " output_name (Dense)         (None, 5)                 5125      \n",
            "                                                                 \n",
            "=================================================================\n",
            "Total params: 13,896,069\n",
            "Trainable params: 13,888,005\n",
            "Non-trainable params: 8,064\n",
            "_________________________________________________________________\n"
          ]
        }
      ]
    },
    {
      "cell_type": "code",
      "source": [
        "plot_loss_curves(history_1)"
      ],
      "metadata": {
        "colab": {
          "base_uri": "https://localhost:8080/",
          "height": 573
        },
        "id": "lUyJEDQr4OUm",
        "outputId": "4256d8e7-774c-4bd8-dc4c-8b5072be24e8"
      },
      "execution_count": 21,
      "outputs": [
        {
          "output_type": "display_data",
          "data": {
            "text/plain": [
              "<Figure size 432x288 with 1 Axes>"
            ],
            "image/png": "[encoded data removed]"
          },
          "metadata": {
            "needs_background": "light"
          }
        },
        {
          "output_type": "display_data",
          "data": {
            "text/plain": [
              "<Figure size 432x288 with 1 Axes>"
            ],
            "image/png": "[encoded data removed]"
          },
          "metadata": {
            "needs_background": "light"
          }
        }
      ]
    },
    {
      "cell_type": "markdown",
      "source": [
        "## 4. Model 2 : Complex Structure without Dropouts"
      ],
      "metadata": {
        "id": "tN3tDDyo5TAN"
      }
    },
    {
      "cell_type": "code",
      "source": [
        "model_2 = tf.keras.Sequential([\n",
        "    tf.keras.layers.Conv2D(filters = 64,kernel_size = (3,3),strides = (1,1),activation = \"relu\",padding=\"Same\"),\n",
        "    tf.keras.layers.MaxPool2D(2),\n",
        "    tf.keras.layers.BatchNormalization(),\n",
        "    tf.keras.layers.Conv2D(filters = 128,kernel_size = (3,3),strides = (1,1),activation = \"relu\",padding=\"Same\"),\n",
        "    tf.keras.layers.MaxPool2D(2),\n",
        "    tf.keras.layers.BatchNormalization(),\n",
        "    tf.keras.layers.Conv2D(filters = 256,kernel_size = (3,3),strides = (1,1),activation = \"relu\",padding=\"Same\"),\n",
        "    tf.keras.layers.MaxPool2D(2),\n",
        "    tf.keras.layers.BatchNormalization(),\n",
        "    tf.keras.layers.Conv2D(filters = 512,kernel_size = (3,3),strides = (1,1),activation = \"relu\",padding=\"Same\"),\n",
        "    tf.keras.layers.MaxPool2D(2),\n",
        "    tf.keras.layers.BatchNormalization(),\n",
        "    tf.keras.layers.Conv2D(filters = 1024,kernel_size = (3,3),strides = (1,1),activation = \"relu\",padding=\"Same\"),\n",
        "    tf.keras.layers.MaxPool2D(2),\n",
        "    tf.keras.layers.BatchNormalization(),\n",
        "    tf.keras.layers.Conv2D(filters = 512,kernel_size = (3,3),strides = (1,1),activation = \"relu\",padding=\"Same\"),\n",
        "    tf.keras.layers.MaxPool2D(2),\n",
        "    tf.keras.layers.BatchNormalization(),\n",
        "    tf.keras.layers.Conv2D(filters = 512,kernel_size = (3,3),strides = (1,1),activation = \"relu\",padding=\"Same\"),\n",
        "    tf.keras.layers.MaxPool2D(),\n",
        "    tf.keras.layers.BatchNormalization(),\n",
        "    tf.keras.layers.GlobalMaxPool2D(),\n",
        "    ## Fully Connected Layer\n",
        "    tf.keras.layers.Dense(1024,activation = \"relu\"),\n",
        "    tf.keras.layers.Dropout(0.5),\n",
        "    tf.keras.layers.BatchNormalization(),\n",
        "    tf.keras.layers.Dense(5,activation = \"softmax\",name = \"output_name\")\n",
        "])\n",
        "model_2.compile(loss = \"categorical_crossentropy\",metrics = [\"accuracy\"],optimizer = \"adam\")"
      ],
      "metadata": {
        "id": "tRRqXmNmXV6q"
      },
      "execution_count": 23,
      "outputs": []
    },
    {
      "cell_type": "code",
      "source": [
        "history_2 = model_2.fit(\n",
        "    train_dataset,epochs = 10,\n",
        "    steps_per_epoch = len(train_dataset),\n",
        "    validation_data = test_dataset,\n",
        "    validation_steps = len(test_dataset),\n",
        "    callbacks = [checkpoint_call_back]\n",
        ")"
      ],
      "metadata": {
        "colab": {
          "base_uri": "https://localhost:8080/"
        },
        "id": "zt9NrwopY_i2",
        "outputId": "eadd595f-37d2-4a9b-8cb8-225f07483eff"
      },
      "execution_count": 24,
      "outputs": [
        {
          "output_type": "stream",
          "name": "stdout",
          "text": [
            "Epoch 1/10\n",
            "92/92 [==============================] - 19s 191ms/step - loss: 1.5303 - accuracy: 0.4595 - val_loss: 35.6071 - val_accuracy: 0.2289\n",
            "Epoch 2/10\n",
            "92/92 [==============================] - 18s 190ms/step - loss: 1.1663 - accuracy: 0.5725 - val_loss: 2.8446 - val_accuracy: 0.4877\n",
            "Epoch 3/10\n",
            "92/92 [==============================] - 18s 191ms/step - loss: 1.0314 - accuracy: 0.6298 - val_loss: 2.4999 - val_accuracy: 0.4428\n",
            "Epoch 4/10\n",
            "92/92 [==============================] - 18s 190ms/step - loss: 0.9206 - accuracy: 0.6533 - val_loss: 0.8488 - val_accuracy: 0.7071\n",
            "Epoch 5/10\n",
            "92/92 [==============================] - 18s 189ms/step - loss: 0.8438 - accuracy: 0.6952 - val_loss: 1.0941 - val_accuracy: 0.6335\n",
            "Epoch 6/10\n",
            "92/92 [==============================] - 19s 200ms/step - loss: 0.8040 - accuracy: 0.7081 - val_loss: 0.6803 - val_accuracy: 0.7343\n",
            "Epoch 7/10\n",
            "92/92 [==============================] - 18s 192ms/step - loss: 0.7009 - accuracy: 0.7343 - val_loss: 0.8376 - val_accuracy: 0.6935\n",
            "Epoch 8/10\n",
            "92/92 [==============================] - 18s 194ms/step - loss: 0.5937 - accuracy: 0.7766 - val_loss: 0.5140 - val_accuracy: 0.8038\n",
            "Epoch 9/10\n",
            "92/92 [==============================] - 18s 193ms/step - loss: 0.5899 - accuracy: 0.7837 - val_loss: 0.4212 - val_accuracy: 0.8392\n",
            "Epoch 10/10\n",
            "92/92 [==============================] - 18s 189ms/step - loss: 0.4933 - accuracy: 0.8195 - val_loss: 1.5642 - val_accuracy: 0.5504\n"
          ]
        }
      ]
    },
    {
      "cell_type": "code",
      "source": [
        "model_2.evaluate(test_dataset)"
      ],
      "metadata": {
        "colab": {
          "base_uri": "https://localhost:8080/"
        },
        "id": "4T_E-DRyZGPR",
        "outputId": "0f95ac51-2bd3-46fb-fca1-51a8281db1ef"
      },
      "execution_count": 26,
      "outputs": [
        {
          "output_type": "stream",
          "name": "stdout",
          "text": [
            "23/23 [==============================] - 2s 60ms/step - loss: 1.5642 - accuracy: 0.5504\n"
          ]
        },
        {
          "output_type": "execute_result",
          "data": {
            "text/plain": [
              "[1.5642389059066772, 0.5504087209701538]"
            ]
          },
          "metadata": {},
          "execution_count": 26
        }
      ]
    },
    {
      "cell_type": "markdown",
      "source": [
        "## 5. Removing Fully Connected Layers"
      ],
      "metadata": {
        "id": "rPWL6NtyanMW"
      }
    },
    {
      "cell_type": "code",
      "source": [
        "model_3 = tf.keras.Sequential([\n",
        "    tf.keras.layers.Conv2D(filters = 64,kernel_size = (3,3),strides = (1,1),activation = \"relu\",padding=\"Same\"),\n",
        "    tf.keras.layers.MaxPool2D(2),\n",
        "    tf.keras.layers.BatchNormalization(),\n",
        "    tf.keras.layers.Dropout(0.2),\n",
        "    tf.keras.layers.Conv2D(filters = 128,kernel_size = (3,3),strides = (1,1),activation = \"relu\",padding=\"Same\"),\n",
        "    tf.keras.layers.MaxPool2D(2),\n",
        "    tf.keras.layers.BatchNormalization(),\n",
        "    tf.keras.layers.Dropout(0.2),\n",
        "    tf.keras.layers.Conv2D(filters = 256,kernel_size = (3,3),strides = (1,1),activation = \"relu\",padding=\"Same\"),\n",
        "    tf.keras.layers.MaxPool2D(2),\n",
        "    tf.keras.layers.BatchNormalization(),\n",
        "    tf.keras.layers.Dropout(0.2),\n",
        "    tf.keras.layers.Conv2D(filters = 512,kernel_size = (3,3),strides = (1,1),activation = \"relu\",padding=\"Same\"),\n",
        "    tf.keras.layers.MaxPool2D(2),\n",
        "    tf.keras.layers.BatchNormalization(),\n",
        "    tf.keras.layers.Dropout(0.2),\n",
        "    tf.keras.layers.Conv2D(filters = 1024,kernel_size = (3,3),strides = (1,1),activation = \"relu\",padding=\"Same\"),\n",
        "    tf.keras.layers.MaxPool2D(2),\n",
        "    tf.keras.layers.BatchNormalization(),\n",
        "    tf.keras.layers.Dropout(0.2),\n",
        "    tf.keras.layers.Conv2D(filters = 512,kernel_size = (3,3),strides = (1,1),activation = \"relu\",padding=\"Same\"),\n",
        "    tf.keras.layers.MaxPool2D(2),\n",
        "    tf.keras.layers.BatchNormalization(),\n",
        "    tf.keras.layers.Dropout(0.2),\n",
        "    tf.keras.layers.Conv2D(filters = 512,kernel_size = (3,3),strides = (1,1),activation = \"relu\",padding=\"Same\"),\n",
        "    tf.keras.layers.MaxPool2D(),\n",
        "    tf.keras.layers.BatchNormalization(),\n",
        "    tf.keras.layers.Dropout(0.2),\n",
        "    tf.keras.layers.GlobalMaxPool2D(),\n",
        "    ## Fully Connected Layer\n",
        "    tf.keras.layers.Dense(5,activation = \"softmax\",name = \"output_name\")\n",
        "])\n",
        "model_3.compile(loss = \"categorical_crossentropy\",metrics = [\"accuracy\"],optimizer = \"adam\")"
      ],
      "metadata": {
        "id": "BRaEExPFauZL"
      },
      "execution_count": 50,
      "outputs": []
    },
    {
      "cell_type": "code",
      "source": [
        "history_3 = model_3.fit(\n",
        "    train_dataset,epochs = 20,\n",
        "    steps_per_epoch = len(train_dataset),\n",
        "    validation_data = test_dataset,\n",
        "    validation_steps = len(test_dataset),\n",
        "    callbacks = [checkpoint_call_back]\n",
        ")"
      ],
      "metadata": {
        "colab": {
          "base_uri": "https://localhost:8080/"
        },
        "id": "Gsc7j7Pxc3zf",
        "outputId": "e8d0deab-9815-449b-9edb-5b863b7a283b"
      },
      "execution_count": 51,
      "outputs": [
        {
          "output_type": "stream",
          "name": "stdout",
          "text": [
            "Epoch 1/20\n",
            "92/92 [==============================] - 20s 200ms/step - loss: 1.6168 - accuracy: 0.4332 - val_loss: 11.5437 - val_accuracy: 0.2071\n",
            "Epoch 2/20\n",
            "92/92 [==============================] - 19s 199ms/step - loss: 1.1598 - accuracy: 0.5497 - val_loss: 1.7723 - val_accuracy: 0.4782\n",
            "Epoch 3/20\n",
            "92/92 [==============================] - 19s 202ms/step - loss: 0.9646 - accuracy: 0.6362 - val_loss: 0.8180 - val_accuracy: 0.6812\n",
            "Epoch 4/20\n",
            "92/92 [==============================] - 19s 202ms/step - loss: 0.9152 - accuracy: 0.6584 - val_loss: 1.1622 - val_accuracy: 0.5926\n",
            "Epoch 5/20\n",
            "92/92 [==============================] - 19s 200ms/step - loss: 0.8494 - accuracy: 0.6754 - val_loss: 0.6391 - val_accuracy: 0.7480\n",
            "Epoch 6/20\n",
            "92/92 [==============================] - 19s 201ms/step - loss: 0.7580 - accuracy: 0.7146 - val_loss: 0.6779 - val_accuracy: 0.7534\n",
            "Epoch 7/20\n",
            "92/92 [==============================] - 19s 201ms/step - loss: 0.6844 - accuracy: 0.7428 - val_loss: 0.7830 - val_accuracy: 0.7302\n",
            "Epoch 8/20\n",
            "92/92 [==============================] - 19s 202ms/step - loss: 0.6231 - accuracy: 0.7698 - val_loss: 0.5612 - val_accuracy: 0.7984\n",
            "Epoch 9/20\n",
            "92/92 [==============================] - 19s 202ms/step - loss: 0.5970 - accuracy: 0.7905 - val_loss: 0.6957 - val_accuracy: 0.7302\n",
            "Epoch 10/20\n",
            "92/92 [==============================] - 19s 201ms/step - loss: 0.5291 - accuracy: 0.8001 - val_loss: 0.4830 - val_accuracy: 0.8338\n",
            "Epoch 11/20\n",
            "92/92 [==============================] - 19s 201ms/step - loss: 0.4936 - accuracy: 0.8147 - val_loss: 0.6467 - val_accuracy: 0.7793\n",
            "Epoch 12/20\n",
            "92/92 [==============================] - 19s 201ms/step - loss: 0.4451 - accuracy: 0.8334 - val_loss: 0.6293 - val_accuracy: 0.8011\n",
            "Epoch 13/20\n",
            "92/92 [==============================] - 19s 201ms/step - loss: 0.3817 - accuracy: 0.8600 - val_loss: 0.7136 - val_accuracy: 0.7589\n",
            "Epoch 14/20\n",
            "92/92 [==============================] - 19s 205ms/step - loss: 0.3408 - accuracy: 0.8675 - val_loss: 0.3691 - val_accuracy: 0.8787\n",
            "Epoch 15/20\n",
            "92/92 [==============================] - 19s 205ms/step - loss: 0.2773 - accuracy: 0.9022 - val_loss: 0.3087 - val_accuracy: 0.9033\n",
            "Epoch 16/20\n",
            "92/92 [==============================] - 19s 201ms/step - loss: 0.2703 - accuracy: 0.9026 - val_loss: 0.4458 - val_accuracy: 0.8202\n",
            "Epoch 17/20\n",
            "92/92 [==============================] - 19s 201ms/step - loss: 0.2313 - accuracy: 0.9121 - val_loss: 0.4210 - val_accuracy: 0.8706\n",
            "Epoch 18/20\n",
            "92/92 [==============================] - 19s 205ms/step - loss: 0.2064 - accuracy: 0.9247 - val_loss: 0.2713 - val_accuracy: 0.9155\n",
            "Epoch 19/20\n",
            "92/92 [==============================] - 19s 201ms/step - loss: 0.2038 - accuracy: 0.9298 - val_loss: 0.3398 - val_accuracy: 0.8992\n",
            "Epoch 20/20\n",
            "92/92 [==============================] - 19s 201ms/step - loss: 0.1466 - accuracy: 0.9520 - val_loss: 0.2872 - val_accuracy: 0.9128\n"
          ]
        }
      ]
    },
    {
      "cell_type": "code",
      "source": [
        "plot_loss_curves(history_3)"
      ],
      "metadata": {
        "colab": {
          "base_uri": "https://localhost:8080/",
          "height": 573
        },
        "id": "HCop9KRic9P5",
        "outputId": "39f31e3b-0321-49fa-93cf-a135852d9d88"
      },
      "execution_count": 52,
      "outputs": [
        {
          "output_type": "display_data",
          "data": {
            "text/plain": [
              "<Figure size 432x288 with 1 Axes>"
            ],
            "image/png": "[encoded data removed]"
          },
          "metadata": {
            "needs_background": "light"
          }
        },
        {
          "output_type": "display_data",
          "data": {
            "text/plain": [
              "<Figure size 432x288 with 1 Axes>"
            ],
            "image/png": "[encoded data removed]"
          },
          "metadata": {
            "needs_background": "light"
          }
        }
      ]
    },
    {
      "cell_type": "code",
      "source": [],
      "metadata": {
        "id": "6UgkNUnQf0hg"
      },
      "execution_count": null,
      "outputs": []
    }
  ]
}
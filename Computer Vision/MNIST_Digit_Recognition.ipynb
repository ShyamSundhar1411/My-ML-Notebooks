{
  "nbformat": 4,
  "nbformat_minor": 0,
  "metadata": {
    "colab": {
      "provenance": [],
      "authorship_tag": "ABX9TyM09+C6s8FEzULfhssBcGo2",
      "include_colab_link": true
    },
    "kernelspec": {
      "name": "python3",
      "display_name": "Python 3"
    },
    "language_info": {
      "name": "python"
    },
    "accelerator": "GPU",
    "gpuClass": "standard"
  },
  "cells": [
    {
      "cell_type": "markdown",
      "metadata": {
        "id": "view-in-github",
        "colab_type": "text"
      },
      "source": [
        "<a href=\"https://colab.research.google.com/github/ShyamSundhar1411/My-ML-Notebooks/blob/master/Computer%20Vision/MNIST_Digit_Recognition.ipynb\" target=\"_parent\"><img src=\"https://colab.research.google.com/assets/colab-badge.svg\" alt=\"Open In Colab\"/></a>"
      ]
    },
    {
      "cell_type": "markdown",
      "source": [
        "## Preparing Data"
      ],
      "metadata": {
        "id": "G-17pc7XAPB8"
      }
    },
    {
      "cell_type": "code",
      "source": [
        "import tensorflow as tf\n",
        "import numpy as np\n",
        "import pandas as pd"
      ],
      "metadata": {
        "id": "D_l0G035ATgY"
      },
      "execution_count": 1,
      "outputs": []
    },
    {
      "cell_type": "code",
      "source": [
        "from tensorflow.keras.datasets import mnist\n",
        "(x_train,y_train),(x_test,y_test) = mnist.load_data()"
      ],
      "metadata": {
        "colab": {
          "base_uri": "https://localhost:8080/"
        },
        "id": "Fe2aoPPYAWp8",
        "outputId": "858fab45-ff70-4f80-cf73-143d2274fcff"
      },
      "execution_count": 2,
      "outputs": [
        {
          "output_type": "stream",
          "name": "stdout",
          "text": [
            "Downloading data from https://storage.googleapis.com/tensorflow/tf-keras-datasets/mnist.npz\n",
            "11490434/11490434 [==============================] - 2s 0us/step\n"
          ]
        }
      ]
    },
    {
      "cell_type": "markdown",
      "source": [
        "### Visualizing Random Image"
      ],
      "metadata": {
        "id": "3SoQ-xYWAWYK"
      }
    },
    {
      "cell_type": "code",
      "source": [
        "import matplotlib.pyplot as plt\n",
        "import random\n",
        "def visualize_random_image(data):\n",
        "  x,y = data\n",
        "  index = random.randint(0,len(x))\n",
        "  print(x[index].shape)\n",
        "  plt.imshow(x[index],cmap = \"gray\")\n",
        "  plt.title(\"Digit:{}\".format(y[index]))\n",
        "  plt.axis('off')"
      ],
      "metadata": {
        "id": "NqiQJHtnAwPk"
      },
      "execution_count": 3,
      "outputs": []
    },
    {
      "cell_type": "code",
      "source": [
        "visualize_random_image((x_train,y_train))"
      ],
      "metadata": {
        "colab": {
          "base_uri": "https://localhost:8080/",
          "height": 281
        },
        "id": "RgImEu-MBULN",
        "outputId": "3a0acc77-d472-4700-c5ad-096ed1ab2ac7"
      },
      "execution_count": 4,
      "outputs": [
        {
          "output_type": "stream",
          "name": "stdout",
          "text": [
            "(28, 28)\n"
          ]
        },
        {
          "output_type": "display_data",
          "data": {
            "text/plain": [
              "<Figure size 432x288 with 1 Axes>"
            ],
            "image/png": "[encoded data removed]"
          },
          "metadata": {
            "needs_background": "light"
          }
        }
      ]
    },
    {
      "cell_type": "code",
      "source": [
        "x_train = x_train.astype(\"float32\")\n",
        "x_test = x_test.astype(\"float32\")\n",
        "x_train/= 255\n",
        "x_test/=255"
      ],
      "metadata": {
        "id": "L8yFbo-rBYgR"
      },
      "execution_count": 5,
      "outputs": []
    },
    {
      "cell_type": "code",
      "source": [
        "len(x_train)"
      ],
      "metadata": {
        "colab": {
          "base_uri": "https://localhost:8080/"
        },
        "id": "eIfu2r9GB65M",
        "outputId": "faee83f1-8282-4f3b-99b3-2e048ac809ab"
      },
      "execution_count": 30,
      "outputs": [
        {
          "output_type": "execute_result",
          "data": {
            "text/plain": [
              "60000"
            ]
          },
          "metadata": {},
          "execution_count": 30
        }
      ]
    },
    {
      "cell_type": "code",
      "source": [
        "pd.Series(y_train).value_counts()"
      ],
      "metadata": {
        "colab": {
          "base_uri": "https://localhost:8080/"
        },
        "id": "hNzy_nWjCI-E",
        "outputId": "b933a0b4-f681-46f3-afa0-83ec86797aa8"
      },
      "execution_count": 31,
      "outputs": [
        {
          "output_type": "execute_result",
          "data": {
            "text/plain": [
              "1    6742\n",
              "7    6265\n",
              "3    6131\n",
              "2    5958\n",
              "9    5949\n",
              "0    5923\n",
              "6    5918\n",
              "8    5851\n",
              "4    5842\n",
              "5    5421\n",
              "dtype: int64"
            ]
          },
          "metadata": {},
          "execution_count": 31
        }
      ]
    },
    {
      "cell_type": "markdown",
      "source": [
        "## Model 0 : Simple CNN"
      ],
      "metadata": {
        "id": "2h0Bn4VwCOGp"
      }
    },
    {
      "cell_type": "code",
      "source": [
        "from tensorflow.keras import layers"
      ],
      "metadata": {
        "id": "yyu8z1WHCY4C"
      },
      "execution_count": 8,
      "outputs": []
    },
    {
      "cell_type": "code",
      "source": [
        "model_0 = tf.keras.Sequential([\n",
        "  layers.Conv2D(filters = 32,kernel_size = (3,3),input_shape = (28,28,1),activation = \"relu\"),\n",
        "  layers.Conv2D(filters = 32,kernel_size = (3,3),activation = \"relu\"),\n",
        "  layers.Conv2D(32,3,activation = \"relu\"),\n",
        "  layers.GlobalAveragePooling2D(),\n",
        "  layers.Dropout(0.01),\n",
        "  layers.Flatten(),\n",
        "  layers.Dense(64),\n",
        "  layers.Dense(10,activation = \"softmax\")\n",
        "  ]\n",
        ")"
      ],
      "metadata": {
        "id": "L70A2Z5TCU4Z"
      },
      "execution_count": 42,
      "outputs": []
    },
    {
      "cell_type": "code",
      "source": [
        "model_0.compile(loss = \"sparse_categorical_crossentropy\",optimizer = \"adam\",metrics = [\"accuracy\"])"
      ],
      "metadata": {
        "id": "qIOIxoFrEFqJ"
      },
      "execution_count": 43,
      "outputs": []
    },
    {
      "cell_type": "code",
      "source": [
        "history_0 = model_0.fit(x_train,y_train,epochs = 12,validation_data = (x_test,y_test), batch_size=32)"
      ],
      "metadata": {
        "colab": {
          "base_uri": "https://localhost:8080/"
        },
        "id": "pmuTtRZcETXw",
        "outputId": "6ced85fa-c4ab-429f-b04f-47b713691436"
      },
      "execution_count": 44,
      "outputs": [
        {
          "output_type": "stream",
          "name": "stdout",
          "text": [
            "Epoch 1/12\n",
            "1875/1875 [==============================] - 13s 5ms/step - loss: 1.0331 - accuracy: 0.6428 - val_loss: 0.5361 - val_accuracy: 0.8302\n",
            "Epoch 2/12\n",
            "1875/1875 [==============================] - 9s 5ms/step - loss: 0.4458 - accuracy: 0.8661 - val_loss: 0.2716 - val_accuracy: 0.9226\n",
            "Epoch 3/12\n",
            "1875/1875 [==============================] - 8s 4ms/step - loss: 0.2976 - accuracy: 0.9103 - val_loss: 0.2005 - val_accuracy: 0.9424\n",
            "Epoch 4/12\n",
            "1875/1875 [==============================] - 8s 4ms/step - loss: 0.2279 - accuracy: 0.9326 - val_loss: 0.1489 - val_accuracy: 0.9582\n",
            "Epoch 5/12\n",
            "1875/1875 [==============================] - 9s 5ms/step - loss: 0.1893 - accuracy: 0.9432 - val_loss: 0.1286 - val_accuracy: 0.9627\n",
            "Epoch 6/12\n",
            "1875/1875 [==============================] - 8s 4ms/step - loss: 0.1636 - accuracy: 0.9508 - val_loss: 0.1297 - val_accuracy: 0.9637\n",
            "Epoch 7/12\n",
            "1875/1875 [==============================] - 8s 4ms/step - loss: 0.1466 - accuracy: 0.9554 - val_loss: 0.1034 - val_accuracy: 0.9691\n",
            "Epoch 8/12\n",
            "1875/1875 [==============================] - 8s 4ms/step - loss: 0.1297 - accuracy: 0.9606 - val_loss: 0.0963 - val_accuracy: 0.9705\n",
            "Epoch 9/12\n",
            "1875/1875 [==============================] - 9s 5ms/step - loss: 0.1175 - accuracy: 0.9647 - val_loss: 0.0898 - val_accuracy: 0.9727\n",
            "Epoch 10/12\n",
            "1875/1875 [==============================] - 8s 4ms/step - loss: 0.1087 - accuracy: 0.9667 - val_loss: 0.0784 - val_accuracy: 0.9762\n",
            "Epoch 11/12\n",
            "1875/1875 [==============================] - 8s 4ms/step - loss: 0.0988 - accuracy: 0.9692 - val_loss: 0.0792 - val_accuracy: 0.9770\n",
            "Epoch 12/12\n",
            "1875/1875 [==============================] - 9s 5ms/step - loss: 0.0924 - accuracy: 0.9716 - val_loss: 0.0947 - val_accuracy: 0.9731\n"
          ]
        }
      ]
    },
    {
      "cell_type": "code",
      "source": [],
      "metadata": {
        "id": "oykhhC0tEi0g"
      },
      "execution_count": 11,
      "outputs": []
    }
  ]
}
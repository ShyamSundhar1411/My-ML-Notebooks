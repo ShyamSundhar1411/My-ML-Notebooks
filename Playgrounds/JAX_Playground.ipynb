{
  "nbformat": 4,
  "nbformat_minor": 0,
  "metadata": {
    "colab": {
      "provenance": [],
      "gpuType": "T4",
      "authorship_tag": "ABX9TyOlSwuP1iMuDHekEN149xRa",
      "include_colab_link": true
    },
    "kernelspec": {
      "name": "python3",
      "display_name": "Python 3"
    },
    "language_info": {
      "name": "python"
    },
    "accelerator": "GPU"
  },
  "cells": [
    {
      "cell_type": "markdown",
      "metadata": {
        "id": "view-in-github",
        "colab_type": "text"
      },
      "source": [
        "<a href=\"https://colab.research.google.com/github/ShyamSundhar1411/My-ML-Notebooks/blob/master/Playgrounds/JAX_Playground.ipynb\" target=\"_parent\"><img src=\"https://colab.research.google.com/assets/colab-badge.svg\" alt=\"Open In Colab\"/></a>"
      ]
    },
    {
      "cell_type": "markdown",
      "source": [
        "# Introduction to JAX"
      ],
      "metadata": {
        "id": "AHZnz1MToZ4L"
      }
    },
    {
      "cell_type": "code",
      "execution_count": 1,
      "metadata": {
        "id": "wlrSPghBNLuV"
      },
      "outputs": [],
      "source": [
        "import jax.numpy as jnp\n",
        "from jax import grad, jit, vmap\n",
        "from jax import random"
      ]
    },
    {
      "cell_type": "code",
      "source": [
        "key = random.PRNGKey(42)\n",
        "x = random.normal(key,(10,))"
      ],
      "metadata": {
        "id": "moTArRE8nEpv"
      },
      "execution_count": 2,
      "outputs": []
    },
    {
      "cell_type": "code",
      "source": [
        "x"
      ],
      "metadata": {
        "colab": {
          "base_uri": "https://localhost:8080/"
        },
        "id": "ajbyUoqbnnql",
        "outputId": "7ae4ffe0-121f-44e3-cce4-edd0a86b9373"
      },
      "execution_count": 3,
      "outputs": [
        {
          "output_type": "execute_result",
          "data": {
            "text/plain": [
              "Array([ 0.36900434, -0.46067542, -0.8650934 ,  1.2080883 ,  1.003065  ,\n",
              "       -0.8708058 , -0.3984997 , -0.6670092 ,  0.33689356,  0.39822492],      dtype=float32)"
            ]
          },
          "metadata": {},
          "execution_count": 3
        }
      ]
    },
    {
      "cell_type": "markdown",
      "source": [
        "## Matrix Multiplication"
      ],
      "metadata": {
        "id": "YsBhPHCuoc7B"
      }
    },
    {
      "cell_type": "markdown",
      "source": [
        "\n",
        "\n",
        "1. Key is the psuedo random seed that is generated using random\n",
        "2. jnp by default uses gpu to execute\n",
        "3. jnp also works on np but by default it runs operations on cpu for type np. Use of device_put is recommended for every np type.\n",
        "\n"
      ],
      "metadata": {
        "id": "4HafEOQ8oswT"
      }
    },
    {
      "cell_type": "code",
      "source": [
        "mat1 = random.normal(key,(3000,3000),dtype=jnp.float32)"
      ],
      "metadata": {
        "id": "5fX2GmQ9no1B"
      },
      "execution_count": 5,
      "outputs": []
    },
    {
      "cell_type": "code",
      "source": [
        "jnp.dot(mat1,mat1.T).block_until_ready()"
      ],
      "metadata": {
        "colab": {
          "base_uri": "https://localhost:8080/"
        },
        "id": "cILzyvWhn0Xq",
        "outputId": "f3ab08b7-4874-4d8f-da8f-67796a7b09fc"
      },
      "execution_count": 7,
      "outputs": [
        {
          "output_type": "execute_result",
          "data": {
            "text/plain": [
              "Array([[ 3.0604648e+03,  6.3151691e+01, -3.6272667e+01, ...,\n",
              "        -1.2364353e+01, -6.8656975e+01, -8.6898956e+01],\n",
              "       [ 6.3151691e+01,  2.8897720e+03, -3.5676849e+01, ...,\n",
              "         7.7677994e+00,  1.1219151e+00,  6.8914673e+01],\n",
              "       [-3.6272667e+01, -3.5676849e+01,  2.9800063e+03, ...,\n",
              "        -1.3242654e+01, -4.2341629e+01, -3.2430225e+01],\n",
              "       ...,\n",
              "       [-1.2364353e+01,  7.7677994e+00, -1.3242654e+01, ...,\n",
              "         2.9366499e+03,  3.2153156e+01,  7.1246815e+00],\n",
              "       [-6.8656975e+01,  1.1219151e+00, -4.2341629e+01, ...,\n",
              "         3.2153156e+01,  2.9689722e+03, -1.5499933e+01],\n",
              "       [-8.6898956e+01,  6.8914673e+01, -3.2430225e+01, ...,\n",
              "         7.1246815e+00, -1.5499933e+01,  3.0071340e+03]], dtype=float32)"
            ]
          },
          "metadata": {},
          "execution_count": 7
        }
      ]
    },
    {
      "cell_type": "markdown",
      "source": [
        "## JIT Compile"
      ],
      "metadata": {
        "id": "uyrLHegcoG2z"
      }
    },
    {
      "cell_type": "code",
      "source": [
        "def selu(x, scale, alpha):\n",
        "  return scale*jnp.where(x>0,x,alpha*(jnp.exp(x)-1))"
      ],
      "metadata": {
        "id": "t2vXe_dJpsJ-"
      },
      "execution_count": 8,
      "outputs": []
    },
    {
      "cell_type": "code",
      "source": [
        "selu_jit = jit(selu)"
      ],
      "metadata": {
        "id": "njNJ-fXTp_dI"
      },
      "execution_count": 10,
      "outputs": []
    },
    {
      "cell_type": "code",
      "source": [
        "x = random.normal(key,shape = (3000,))"
      ],
      "metadata": {
        "id": "S7N5IJ_EqBy7"
      },
      "execution_count": 12,
      "outputs": []
    },
    {
      "cell_type": "code",
      "source": [
        "selu_jit(x,1.05,1.67)"
      ],
      "metadata": {
        "colab": {
          "base_uri": "https://localhost:8080/"
        },
        "id": "3_zE4djzqBNt",
        "outputId": "0260e9e7-14e5-47e9-9901-7d210d2d5c88"
      },
      "execution_count": 14,
      "outputs": [
        {
          "output_type": "execute_result",
          "data": {
            "text/plain": [
              "Array([ 0.5873864 , -0.38615307,  2.5704193 , ..., -0.47609577,\n",
              "       -0.45193538,  0.08148339], dtype=float32)"
            ]
          },
          "metadata": {},
          "execution_count": 14
        }
      ]
    },
    {
      "cell_type": "code",
      "source": [],
      "metadata": {
        "id": "QfaPSIIEqPM4"
      },
      "execution_count": null,
      "outputs": []
    }
  ]
}
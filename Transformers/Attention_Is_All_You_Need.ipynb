{
  "nbformat": 4,
  "nbformat_minor": 0,
  "metadata": {
    "colab": {
      "provenance": [],
      "authorship_tag": "ABX9TyOHpcao/YU4Ot9GO2bL3nfj",
      "include_colab_link": true
    },
    "kernelspec": {
      "name": "python3",
      "display_name": "Python 3"
    },
    "language_info": {
      "name": "python"
    },
    "accelerator": "GPU",
    "gpuClass": "standard"
  },
  "cells": [
    {
      "cell_type": "markdown",
      "metadata": {
        "id": "view-in-github",
        "colab_type": "text"
      },
      "source": [
        "<a href=\"https://colab.research.google.com/github/ShyamSundhar1411/My-ML-Notebooks/blob/master/Transformers/Attention_Is_All_You_Need.ipynb\" target=\"_parent\"><img src=\"https://colab.research.google.com/assets/colab-badge.svg\" alt=\"Open In Colab\"/></a>"
      ]
    },
    {
      "cell_type": "code",
      "source": [
        "import numpy as np\n",
        "import pandas as pd"
      ],
      "metadata": {
        "id": "nkGfuAsmDgoS"
      },
      "execution_count": 100,
      "outputs": []
    },
    {
      "cell_type": "code",
      "execution_count": 101,
      "metadata": {
        "colab": {
          "base_uri": "https://localhost:8080/"
        },
        "id": "cgnmY1whDOx6",
        "outputId": "47268a1a-9e53-43b1-cb2a-86c93766fc5c"
      },
      "outputs": [
        {
          "output_type": "stream",
          "name": "stdout",
          "text": [
            "Looking in indexes: https://pypi.org/simple, https://us-python.pkg.dev/colab-wheels/public/simple/\n",
            "Requirement already satisfied: torch in /usr/local/lib/python3.8/dist-packages (1.13.1+cu116)\n",
            "Requirement already satisfied: torchvision in /usr/local/lib/python3.8/dist-packages (0.14.1+cu116)\n",
            "Requirement already satisfied: typing-extensions in /usr/local/lib/python3.8/dist-packages (from torch) (4.4.0)\n",
            "Requirement already satisfied: numpy in /usr/local/lib/python3.8/dist-packages (from torchvision) (1.21.6)\n",
            "Requirement already satisfied: pillow!=8.3.*,>=5.3.0 in /usr/local/lib/python3.8/dist-packages (from torchvision) (7.1.2)\n",
            "Requirement already satisfied: requests in /usr/local/lib/python3.8/dist-packages (from torchvision) (2.25.1)\n",
            "Requirement already satisfied: chardet<5,>=3.0.2 in /usr/local/lib/python3.8/dist-packages (from requests->torchvision) (4.0.0)\n",
            "Requirement already satisfied: certifi>=2017.4.17 in /usr/local/lib/python3.8/dist-packages (from requests->torchvision) (2022.12.7)\n",
            "Requirement already satisfied: urllib3<1.27,>=1.21.1 in /usr/local/lib/python3.8/dist-packages (from requests->torchvision) (1.24.3)\n",
            "Requirement already satisfied: idna<3,>=2.5 in /usr/local/lib/python3.8/dist-packages (from requests->torchvision) (2.10)\n"
          ]
        }
      ],
      "source": [
        "!pip install torch torchvision"
      ]
    },
    {
      "cell_type": "markdown",
      "source": [
        "## Attention Mechanism"
      ],
      "metadata": {
        "id": "MBj35ACnDhWC"
      }
    },
    {
      "cell_type": "code",
      "source": [
        "import torch\n",
        "import torch.nn as nn"
      ],
      "metadata": {
        "id": "wr8M8sHGDX3z"
      },
      "execution_count": 102,
      "outputs": []
    },
    {
      "cell_type": "code",
      "source": [
        "class SelfAttention(nn.Module):\n",
        "  def __init__(self,embed_size,heads):\n",
        "    super(SelfAttention,self).__init__()\n",
        "    self.embed_size = embed_size\n",
        "    self.heads = heads\n",
        "    self.head_dim = embed_size//heads\n",
        "\n",
        "    assert(self.head_dim*heads == embed_size), \"Embed Size need to be divisible by Heads\"\n",
        "    self.values = nn.Linear(self.head_dim,self.head_dim,bias = False)\n",
        "    self.keys = nn.Linear(self.head_dim,self.head_dim,bias = False)\n",
        "    self.queries = nn.Linear(self.head_dim,self.head_dim,bias = False)\n",
        "    self.fully_connected_output = nn.Linear(embed_size,embed_size)\n",
        "  \n",
        "  def forward(self,values,keys,query,mask):\n",
        "    n_samples = query.shape[0]\n",
        "    value_len,key_len,query_len = values.shape[1],keys.shape[1],query.shape[1]\n",
        "\n",
        "    #Split Embedding into head pieces\n",
        "\n",
        "    values = values.reshape(n_samples,value_len,self.heads,self.head_dim)\n",
        "    keys = keys.reshape(n_samples,key_len,self.heads,self.head_dim)\n",
        "    queries = query.reshape(n_samples,query_len,self.heads,self.head_dim)\n",
        "\n",
        "    energy = torch.einsum(\"nqhd,nkhd->nhqk\",[queries,keys])\n",
        "\n",
        "    #Query Shape = sample,query_len,heads,heads_dim\n",
        "    if mask is not None:\n",
        "      energy = energy.masked_fill(mask == 0,float(\"-1e20\"))\n",
        "    attention = torch.softmax(energy/(self.embed_size**(0.5)),dim = 3)\n",
        "    #Attention Shape: (N,heads,querylen,key_len)\n",
        "    #Value Shape: (N,value_len,heads,head_size)\n",
        "    #(N,query_len,heads,head_dim)\n",
        "    output = torch.einsum(\"nhql,nlhd->nqhd\",[attention,values]).reshape(n_samples,query_len,self.embed_size)\n",
        "    output = self.fully_connected_output(output)\n",
        "    return output\n"
      ],
      "metadata": {
        "id": "jaxMXOoFDnrq"
      },
      "execution_count": 103,
      "outputs": []
    },
    {
      "cell_type": "markdown",
      "source": [
        "## Transformer Block"
      ],
      "metadata": {
        "id": "plRTNFJyFPxM"
      }
    },
    {
      "cell_type": "code",
      "source": [
        "class TransformerBlock(nn.Module):\n",
        "  def __init__(self,embed_size,heads,dropout,forward_expansion):\n",
        "    super(TransformerBlock,self).__init__()\n",
        "    self.attention = SelfAttention(embed_size,heads)\n",
        "    self.norm1 = nn.LayerNorm(embed_size)\n",
        "    self.norm2 = nn.LayerNorm(embed_size)\n",
        "    self.feed_forward = nn.Sequential(\n",
        "        nn.Linear(embed_size,forward_expansion*embed_size),\n",
        "        nn.ReLU(),\n",
        "        nn.Linear(forward_expansion*embed_size,embed_size)\n",
        "    )\n",
        "    self.dropout = nn.Dropout(dropout)\n",
        "  \n",
        "  def forward(self,value,key,query,mask):\n",
        "    attention = self.attention(value,key,query,mask)\n",
        "    x = self.dropout(self.norm1(attention+query))\n",
        "    forward = self.feed_forward(x)\n",
        "    out = self.dropout(self.norm2(forward+x))\n",
        "    return out"
      ],
      "metadata": {
        "id": "_x0HueV3JWNF"
      },
      "execution_count": 104,
      "outputs": []
    },
    {
      "cell_type": "markdown",
      "source": [
        "## Encoder Block"
      ],
      "metadata": {
        "id": "MBdy187xLEgc"
      }
    },
    {
      "cell_type": "code",
      "source": [
        "class Encoder(nn.Module):\n",
        "  def __init__(self,src_vocab_size,embed_size,num_layers,heads,device,forward_expansion,dropout,max_length):\n",
        "    super(Encoder,self).__init__()\n",
        "    self.embed_size = embed_size\n",
        "    self.device = device\n",
        "    self.word_embedding = nn.Embedding(src_vocab_size,embed_size)\n",
        "    self.position_embedding = nn.Embedding(max_length,embed_size)\n",
        "\n",
        "    self.layers = nn.ModuleList(\n",
        "        [\n",
        "            TransformerBlock(embed_size,heads,dropout,forward_expansion) for _ in range(num_layers)\n",
        "        ]\n",
        "    )\n",
        "    self.dropout = nn.Dropout(dropout)\n",
        "\n",
        "  def forward(self,x,mask):\n",
        "    n,seq_length = x.shape\n",
        "    positions = torch.arange(0,seq_length).expand(n,seq_length).to(self.device)\n",
        "\n",
        "    out = self.dropout(self.word_embedding(x)+self.position_embedding(positions))\n",
        "    for layer in self.layers:\n",
        "      out = layer(out,out,out,mask)\n",
        "    return out\n"
      ],
      "metadata": {
        "id": "McVToX9XJiKI"
      },
      "execution_count": 120,
      "outputs": []
    },
    {
      "cell_type": "markdown",
      "source": [
        "## Decoder Block"
      ],
      "metadata": {
        "id": "BCqelR_ILyzA"
      }
    },
    {
      "cell_type": "code",
      "source": [
        "class DecoderBlock(nn.Module):\n",
        "  def __init__(self,embed_size,heads,forward_expansion,dropout,device):\n",
        "    super(DecoderBlock,self).__init__()\n",
        "    self.attention = SelfAttention(embed_size,heads)\n",
        "    self.norm = nn.LayerNorm(embed_size)\n",
        "    self.transformer_block = TransformerBlock(\n",
        "        embed_size,heads,dropout,forward_expansion\n",
        "    )\n",
        "    self.dropout = nn.Dropout(dropout)\n",
        "  \n",
        "  def forward(self,x,value,key,src_mask,target_mask):\n",
        "    attention = self.attention(x,x,x,target_mask)\n",
        "    query = self.dropout(self.norm(attention+x))\n",
        "    out = self.transformer_block(value,key,query,src_mask)\n",
        "    return out\n",
        "  "
      ],
      "metadata": {
        "id": "z1jHWrZQM-cY"
      },
      "execution_count": 121,
      "outputs": []
    },
    {
      "cell_type": "code",
      "source": [
        "class Decoder(nn.Module):\n",
        "  def __init__(self,trg_vocab_size,embed_size,num_layers,heads,forward_expansion,dropout,device,max_length):\n",
        "    super(Decoder,self).__init__()\n",
        "    self.device = device\n",
        "    self.word_embedding = nn.Embedding(trg_vocab_size,embed_size)\n",
        "    self.position_embedding = nn.Embedding(max_length,embed_size)\n",
        "    self.layers = nn.ModuleList(\n",
        "        [\n",
        "            DecoderBlock(embed_size,heads,forward_expansion,dropout,device) for _ in range(num_layers)\n",
        "        ]\n",
        "    )\n",
        "    self.forward_out = nn.Linear(embed_size,trg_vocab_size)\n",
        "    self.dropout = nn.Dropout(dropout)\n",
        "\n",
        "  def forward(self,x,encoder_out,src_mask,trg_mask):\n",
        "    n,seq_length = x.shape\n",
        "    positions = torch.arange(0,seq_length).expand(n,seq_length).to(self.device)\n",
        "    x = self.dropout(self.word_embedding(x)+self.position_embedding(positions))\n",
        "    for layer in self.layers:\n",
        "      x = layer(x,encoder_out,encoder_out,src_mask,trg_mask)\n",
        "    out = self.forward_out(x)\n",
        "    return out\n"
      ],
      "metadata": {
        "id": "G41sZJfqN400"
      },
      "execution_count": 133,
      "outputs": []
    },
    {
      "cell_type": "markdown",
      "source": [
        "## Transformer"
      ],
      "metadata": {
        "id": "v614hJBePC-u"
      }
    },
    {
      "cell_type": "code",
      "source": [
        "class Transformer(nn.Module):\n",
        "  def __init__(self,src_vocab_size,trg_vocab_size,src_pad_index,trg_pad_index,embed_size = 256,num_layers = 6,forward_expansion = 4,heads = 8,dropout = 0,device = \"cuda\",max_length = 100):\n",
        "    super(Transformer,self).__init__()\n",
        "    self.encoder = Encoder(\n",
        "        src_vocab_size,embed_size,num_layers,heads,device,forward_expansion,dropout,max_length\n",
        "\n",
        "    )\n",
        "    self.decoder = Decoder(\n",
        "        trg_vocab_size,embed_size,num_layers,heads,forward_expansion,dropout,device,max_length\n",
        "    )\n",
        "\n",
        "    self.src_pad_index = src_pad_index\n",
        "    self.trg_pad_index = trg_pad_index\n",
        "    self.device = device\n",
        "\n",
        "  def make_src_mask(self,src):\n",
        "    src_mask = (src!=self.src_pad_index).unsqueeze(1).unsqueeze(2)\n",
        "    return src_mask.to(self.device)\n",
        "  def make_trg_mask(self,trg):\n",
        "    n,trg_length = trg.shape\n",
        "    trg_mask = torch.tril(torch.ones((trg_length,trg_length))).expand(\n",
        "        n,1,trg_length,trg_length\n",
        "    )\n",
        "    return trg_mask.to(self.device)\n",
        "\n",
        "  def forward(self,src,trg):\n",
        "    src_mask = self.make_src_mask(src)\n",
        "    trg_mask = self.make_trg_mask(trg)\n",
        "    enc_src = self.encoder(src,src_mask)\n",
        "    out = self.decoder(trg,enc_src,src_mask,trg_mask)\n",
        "    return out"
      ],
      "metadata": {
        "id": "VdqjpyTLPHKX"
      },
      "execution_count": 134,
      "outputs": []
    },
    {
      "cell_type": "markdown",
      "source": [
        "## Sample"
      ],
      "metadata": {
        "id": "PH3aCgV5Q_BX"
      }
    },
    {
      "cell_type": "code",
      "source": [
        "device = torch.device(\"cuda\" if torch.cuda.is_available() else \"cpu\")\n",
        "print(device)\n",
        "\n",
        "x = torch.tensor([[1, 5, 6, 4, 3, 9, 5, 2, 0], [1, 8, 7, 3, 4, 5, 6, 7, 2]]).to(\n",
        "    device\n",
        ")\n",
        "trg = torch.tensor([[1, 7, 4, 3, 5, 9, 2, 0], [1, 5, 6, 2, 4, 7, 6, 2]]).to(device)\n",
        "\n",
        "src_pad_idx = 0\n",
        "trg_pad_idx = 0\n",
        "src_vocab_size = 10\n",
        "trg_vocab_size = 10\n",
        "model = Transformer(src_vocab_size, trg_vocab_size, src_pad_idx, trg_pad_idx, device=device).to(device)\n",
        "out = model(x, trg[:, :-1])\n",
        "print(out.shape)"
      ],
      "metadata": {
        "colab": {
          "base_uri": "https://localhost:8080/"
        },
        "id": "dbR4y8ObRUeJ",
        "outputId": "c0eb56b3-aad6-4fd6-ffaa-2082d62398ed"
      },
      "execution_count": 135,
      "outputs": [
        {
          "output_type": "stream",
          "name": "stdout",
          "text": [
            "cuda\n",
            "torch.Size([2, 7, 10])\n"
          ]
        }
      ]
    }
  ]
}
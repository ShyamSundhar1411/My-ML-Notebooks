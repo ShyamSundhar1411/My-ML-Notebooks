{
  "nbformat": 4,
  "nbformat_minor": 0,
  "metadata": {
    "colab": {
      "provenance": [],
      "authorship_tag": "ABX9TyMnf8vPffwkM5XhmYbdo3gJ",
      "include_colab_link": true
    },
    "kernelspec": {
      "name": "python3",
      "display_name": "Python 3"
    },
    "language_info": {
      "name": "python"
    },
    "accelerator": "GPU",
    "gpuClass": "standard"
  },
  "cells": [
    {
      "cell_type": "markdown",
      "metadata": {
        "id": "view-in-github",
        "colab_type": "text"
      },
      "source": [
        "<a href=\"https://colab.research.google.com/github/ShyamSundhar1411/My-ML-Notebooks/blob/master/Transformers/Attention_Is_All_You_Need.ipynb\" target=\"_parent\"><img src=\"https://colab.research.google.com/assets/colab-badge.svg\" alt=\"Open In Colab\"/></a>"
      ]
    },
    {
      "cell_type": "code",
      "source": [
        "import numpy as np\n",
        "import pandas as pd"
      ],
      "metadata": {
        "id": "nkGfuAsmDgoS"
      },
      "execution_count": 2,
      "outputs": []
    },
    {
      "cell_type": "code",
      "execution_count": 1,
      "metadata": {
        "colab": {
          "base_uri": "https://localhost:8080/"
        },
        "id": "cgnmY1whDOx6",
        "outputId": "3119aaad-59c3-488e-e2cc-2a8b49e3a190"
      },
      "outputs": [
        {
          "output_type": "stream",
          "name": "stdout",
          "text": [
            "Looking in indexes: https://pypi.org/simple, https://us-python.pkg.dev/colab-wheels/public/simple/\n",
            "Requirement already satisfied: torch in /usr/local/lib/python3.8/dist-packages (1.13.1+cu116)\n",
            "Requirement already satisfied: torchvision in /usr/local/lib/python3.8/dist-packages (0.14.1+cu116)\n",
            "Requirement already satisfied: typing-extensions in /usr/local/lib/python3.8/dist-packages (from torch) (4.4.0)\n",
            "Requirement already satisfied: pillow!=8.3.*,>=5.3.0 in /usr/local/lib/python3.8/dist-packages (from torchvision) (7.1.2)\n",
            "Requirement already satisfied: requests in /usr/local/lib/python3.8/dist-packages (from torchvision) (2.25.1)\n",
            "Requirement already satisfied: numpy in /usr/local/lib/python3.8/dist-packages (from torchvision) (1.21.6)\n",
            "Requirement already satisfied: urllib3<1.27,>=1.21.1 in /usr/local/lib/python3.8/dist-packages (from requests->torchvision) (1.24.3)\n",
            "Requirement already satisfied: idna<3,>=2.5 in /usr/local/lib/python3.8/dist-packages (from requests->torchvision) (2.10)\n",
            "Requirement already satisfied: certifi>=2017.4.17 in /usr/local/lib/python3.8/dist-packages (from requests->torchvision) (2022.12.7)\n",
            "Requirement already satisfied: chardet<5,>=3.0.2 in /usr/local/lib/python3.8/dist-packages (from requests->torchvision) (4.0.0)\n"
          ]
        }
      ],
      "source": [
        "!pip install torch torchvision"
      ]
    },
    {
      "cell_type": "markdown",
      "source": [
        "## Attention Mechanism"
      ],
      "metadata": {
        "id": "MBj35ACnDhWC"
      }
    },
    {
      "cell_type": "code",
      "source": [
        "import torch\n",
        "import torch.nn as nn"
      ],
      "metadata": {
        "id": "wr8M8sHGDX3z"
      },
      "execution_count": 3,
      "outputs": []
    },
    {
      "cell_type": "code",
      "source": [
        "class SelfAttention(nn.Module):\n",
        "  def __init__(self,embed_size,heads):\n",
        "    super(SelfAttention,self).__init__()\n",
        "    self.embed_size = embed_size\n",
        "    self.heads = heads\n",
        "    self.head_dim = embed_size//heads\n",
        "\n",
        "    assert(self.head_dim*heads == embed_size), \"Embed Size need to be divisible by Heads\"\n",
        "    self.values = nn.Linear(self.head_dim,self.head_dim,bias = False)\n",
        "    self.keys = nn.Linear(self.head_dim,self.head_dim,bias = False)\n",
        "    self.queries = nn.Linear(self.head_dim,self.head_dim,bias = False)\n",
        "    self.fully_connected_output = nn.Linear(embed_size,embed_size)\n",
        "  \n",
        "  def forward(self,values,keys,query,mask):\n",
        "    n_samples = query.shape[0]\n",
        "    value_len,key_len,query_len = values.shape[1],keys.shape[1],query.shape[1]\n",
        "\n",
        "    #Split Embedding into head pieces\n",
        "\n",
        "    values = values.reshape(n_samples,value_len,self.heads,self.head_dim)\n",
        "    keys = keys.reshape(n_samples,key_len,self.heads,self.head_dim)\n",
        "    queries = keys.reshape(n_samples,query_len,self.heads,self.head_dim)\n",
        "\n",
        "    energy = torch.einsum(\"nqhd,nkhd->nhqk\")\n",
        "\n",
        "    #Query Shape = sample,query_len,heads,heads_dim\n",
        "    if mask is not None:\n",
        "      energy = energy.masked_fill(mask==0,float(\"-1e20\"))\n",
        "    attention = torch.softmax(energy/(self.embed_size**(0.5)),dim = 3)\n",
        "    #Attention Shape: (N,heads,querylen,key_len)\n",
        "    #Value Shape: (N,value_len,heads,head_size)\n",
        "    #(N,query_len,heads,head_dim)\n",
        "    output = torch.einsum(\"nhql,nlhd->nqhd\",[attention,values]).reshape(n_samples,query_len,self.embed_size)\n",
        "    output = self.fully_connected_output(output)\n",
        "    return output\n"
      ],
      "metadata": {
        "id": "jaxMXOoFDnrq"
      },
      "execution_count": 6,
      "outputs": []
    },
    {
      "cell_type": "markdown",
      "source": [
        "## Transformer Block"
      ],
      "metadata": {
        "id": "plRTNFJyFPxM"
      }
    },
    {
      "cell_type": "code",
      "source": [
        "class TransformerBlock(nn.Module):\n",
        "  def __init__(self,embed_size,heads,dropout,forward_expansion):\n",
        "    super(TransformerBlock,self).__init__()\n",
        "    self.attention = SelfAttention(embed_size,heads)\n",
        "    self.norm1 = nn.LayerNorm(embed_size)\n",
        "    self.norm2 = nn.LayerNorm(embed_size)\n",
        "    self.feed_forward = nn.Sequential(\n",
        "        nn.Linear(embed_size,forward_expansion*embed_size),\n",
        "        nn.ReLU(),\n",
        "        nn.Linear(forward_expansion*embed_size,embed_size)\n",
        "    )\n",
        "    self.dropout = nn.Dropout(dropout)\n",
        "  \n",
        "  def forward(self,value,key,query,mask):\n",
        "    attention = self.attention(value,key,query,mask)\n",
        "    x = self.dropout(self.norm1(attention+query))\n",
        "    forward = self.feed_forward(x)\n",
        "    out = self.dropout(self.norm2(forward+x))\n",
        "    return out"
      ],
      "metadata": {
        "id": "_x0HueV3JWNF"
      },
      "execution_count": 8,
      "outputs": []
    },
    {
      "cell_type": "markdown",
      "source": [
        "## Encoder Block"
      ],
      "metadata": {
        "id": "MBdy187xLEgc"
      }
    },
    {
      "cell_type": "code",
      "source": [
        "class Encoder(nn.Module):\n",
        "  def __init__(\n",
        "      self,src_vocab_size,embed_size,num_layers,heads,device,forward_expansion,\n",
        "      dropout,max_length):\n",
        "    super(Encoder).__init__()\n",
        "    self.embed_size = embed_size\n",
        "    "
      ],
      "metadata": {
        "id": "McVToX9XJiKI"
      },
      "execution_count": null,
      "outputs": []
    }
  ]
}
{
  "nbformat": 4,
  "nbformat_minor": 0,
  "metadata": {
    "colab": {
      "provenance": [],
      "authorship_tag": "ABX9TyONcGEc8sAf0MBtjcz0xwZt",
      "include_colab_link": true
    },
    "kernelspec": {
      "name": "python3",
      "display_name": "Python 3"
    },
    "language_info": {
      "name": "python"
    }
  },
  "cells": [
    {
      "cell_type": "markdown",
      "metadata": {
        "id": "view-in-github",
        "colab_type": "text"
      },
      "source": [
        "<a href=\"https://colab.research.google.com/github/ShyamSundhar1411/My-ML-Notebooks/blob/master/Regressions/Linear_Regression_ML_Medical_Cost_Dataset.ipynb\" target=\"_parent\"><img src=\"https://colab.research.google.com/assets/colab-badge.svg\" alt=\"Open In Colab\"/></a>"
      ]
    },
    {
      "cell_type": "code",
      "execution_count": 103,
      "metadata": {
        "id": "feaahlBeDoT2"
      },
      "outputs": [],
      "source": [
        "import pandas as pd\n",
        "import tensorflow as tf\n",
        "import matplotlib.pyplot as plt\n",
        "from sklearn.model_selection import train_test_split\n",
        "from sklearn.compose import make_column_transformer\n",
        "from sklearn.preprocessing import MinMaxScaler,OneHotEncoder\n",
        "import seaborn as sns"
      ]
    },
    {
      "cell_type": "code",
      "source": [
        "dataset = pd.read_csv(\"https://raw.githubusercontent.com/stedy/Machine-Learning-with-R-datasets/master/insurance.csv\")"
      ],
      "metadata": {
        "id": "ntzfikcVDv9D"
      },
      "execution_count": 2,
      "outputs": []
    },
    {
      "cell_type": "code",
      "source": [
        "dataset"
      ],
      "metadata": {
        "colab": {
          "base_uri": "https://localhost:8080/",
          "height": 423
        },
        "id": "tif0qV3xDxDD",
        "outputId": "2946b6f5-d9ee-486e-85e2-d8c1ac1281c4"
      },
      "execution_count": 3,
      "outputs": [
        {
          "output_type": "execute_result",
          "data": {
            "text/plain": [
              "      age     sex     bmi  children smoker     region      charges\n",
              "0      19  female  27.900         0    yes  southwest  16884.92400\n",
              "1      18    male  33.770         1     no  southeast   1725.55230\n",
              "2      28    male  33.000         3     no  southeast   4449.46200\n",
              "3      33    male  22.705         0     no  northwest  21984.47061\n",
              "4      32    male  28.880         0     no  northwest   3866.85520\n",
              "...   ...     ...     ...       ...    ...        ...          ...\n",
              "1333   50    male  30.970         3     no  northwest  10600.54830\n",
              "1334   18  female  31.920         0     no  northeast   2205.98080\n",
              "1335   18  female  36.850         0     no  southeast   1629.83350\n",
              "1336   21  female  25.800         0     no  southwest   2007.94500\n",
              "1337   61  female  29.070         0    yes  northwest  29141.36030\n",
              "\n",
              "[1338 rows x 7 columns]"
            ],
            "text/html": [
              "\n",
              "  <div id=\"df-9a125381-4852-49b8-8e78-cde446a1abaa\">\n",
              "    <div class=\"colab-df-container\">\n",
              "      <div>\n",
              "<style scoped>\n",
              "    .dataframe tbody tr th:only-of-type {\n",
              "        vertical-align: middle;\n",
              "    }\n",
              "\n",
              "    .dataframe tbody tr th {\n",
              "        vertical-align: top;\n",
              "    }\n",
              "\n",
              "    .dataframe thead th {\n",
              "        text-align: right;\n",
              "    }\n",
              "</style>\n",
              "<table border=\"1\" class=\"dataframe\">\n",
              "  <thead>\n",
              "    <tr style=\"text-align: right;\">\n",
              "      <th></th>\n",
              "      <th>age</th>\n",
              "      <th>sex</th>\n",
              "      <th>bmi</th>\n",
              "      <th>children</th>\n",
              "      <th>smoker</th>\n",
              "      <th>region</th>\n",
              "      <th>charges</th>\n",
              "    </tr>\n",
              "  </thead>\n",
              "  <tbody>\n",
              "    <tr>\n",
              "      <th>0</th>\n",
              "      <td>19</td>\n",
              "      <td>female</td>\n",
              "      <td>27.900</td>\n",
              "      <td>0</td>\n",
              "      <td>yes</td>\n",
              "      <td>southwest</td>\n",
              "      <td>16884.92400</td>\n",
              "    </tr>\n",
              "    <tr>\n",
              "      <th>1</th>\n",
              "      <td>18</td>\n",
              "      <td>male</td>\n",
              "      <td>33.770</td>\n",
              "      <td>1</td>\n",
              "      <td>no</td>\n",
              "      <td>southeast</td>\n",
              "      <td>1725.55230</td>\n",
              "    </tr>\n",
              "    <tr>\n",
              "      <th>2</th>\n",
              "      <td>28</td>\n",
              "      <td>male</td>\n",
              "      <td>33.000</td>\n",
              "      <td>3</td>\n",
              "      <td>no</td>\n",
              "      <td>southeast</td>\n",
              "      <td>4449.46200</td>\n",
              "    </tr>\n",
              "    <tr>\n",
              "      <th>3</th>\n",
              "      <td>33</td>\n",
              "      <td>male</td>\n",
              "      <td>22.705</td>\n",
              "      <td>0</td>\n",
              "      <td>no</td>\n",
              "      <td>northwest</td>\n",
              "      <td>21984.47061</td>\n",
              "    </tr>\n",
              "    <tr>\n",
              "      <th>4</th>\n",
              "      <td>32</td>\n",
              "      <td>male</td>\n",
              "      <td>28.880</td>\n",
              "      <td>0</td>\n",
              "      <td>no</td>\n",
              "      <td>northwest</td>\n",
              "      <td>3866.85520</td>\n",
              "    </tr>\n",
              "    <tr>\n",
              "      <th>...</th>\n",
              "      <td>...</td>\n",
              "      <td>...</td>\n",
              "      <td>...</td>\n",
              "      <td>...</td>\n",
              "      <td>...</td>\n",
              "      <td>...</td>\n",
              "      <td>...</td>\n",
              "    </tr>\n",
              "    <tr>\n",
              "      <th>1333</th>\n",
              "      <td>50</td>\n",
              "      <td>male</td>\n",
              "      <td>30.970</td>\n",
              "      <td>3</td>\n",
              "      <td>no</td>\n",
              "      <td>northwest</td>\n",
              "      <td>10600.54830</td>\n",
              "    </tr>\n",
              "    <tr>\n",
              "      <th>1334</th>\n",
              "      <td>18</td>\n",
              "      <td>female</td>\n",
              "      <td>31.920</td>\n",
              "      <td>0</td>\n",
              "      <td>no</td>\n",
              "      <td>northeast</td>\n",
              "      <td>2205.98080</td>\n",
              "    </tr>\n",
              "    <tr>\n",
              "      <th>1335</th>\n",
              "      <td>18</td>\n",
              "      <td>female</td>\n",
              "      <td>36.850</td>\n",
              "      <td>0</td>\n",
              "      <td>no</td>\n",
              "      <td>southeast</td>\n",
              "      <td>1629.83350</td>\n",
              "    </tr>\n",
              "    <tr>\n",
              "      <th>1336</th>\n",
              "      <td>21</td>\n",
              "      <td>female</td>\n",
              "      <td>25.800</td>\n",
              "      <td>0</td>\n",
              "      <td>no</td>\n",
              "      <td>southwest</td>\n",
              "      <td>2007.94500</td>\n",
              "    </tr>\n",
              "    <tr>\n",
              "      <th>1337</th>\n",
              "      <td>61</td>\n",
              "      <td>female</td>\n",
              "      <td>29.070</td>\n",
              "      <td>0</td>\n",
              "      <td>yes</td>\n",
              "      <td>northwest</td>\n",
              "      <td>29141.36030</td>\n",
              "    </tr>\n",
              "  </tbody>\n",
              "</table>\n",
              "<p>1338 rows × 7 columns</p>\n",
              "</div>\n",
              "      <button class=\"colab-df-convert\" onclick=\"convertToInteractive('df-9a125381-4852-49b8-8e78-cde446a1abaa')\"\n",
              "              title=\"Convert this dataframe to an interactive table.\"\n",
              "              style=\"display:none;\">\n",
              "        \n",
              "  <svg xmlns=\"http://www.w3.org/2000/svg\" height=\"24px\"viewBox=\"0 0 24 24\"\n",
              "       width=\"24px\">\n",
              "    <path d=\"M0 0h24v24H0V0z\" fill=\"none\"/>\n",
              "    <path d=\"M18.56 5.44l.94 2.06.94-2.06 2.06-.94-2.06-.94-.94-2.06-.94 2.06-2.06.94zm-11 1L8.5 8.5l.94-2.06 2.06-.94-2.06-.94L8.5 2.5l-.94 2.06-2.06.94zm10 10l.94 2.06.94-2.06 2.06-.94-2.06-.94-.94-2.06-.94 2.06-2.06.94z\"/><path d=\"M17.41 7.96l-1.37-1.37c-.4-.4-.92-.59-1.43-.59-.52 0-1.04.2-1.43.59L10.3 9.45l-7.72 7.72c-.78.78-.78 2.05 0 2.83L4 21.41c.39.39.9.59 1.41.59.51 0 1.02-.2 1.41-.59l7.78-7.78 2.81-2.81c.8-.78.8-2.07 0-2.86zM5.41 20L4 18.59l7.72-7.72 1.47 1.35L5.41 20z\"/>\n",
              "  </svg>\n",
              "      </button>\n",
              "      \n",
              "  <style>\n",
              "    .colab-df-container {\n",
              "      display:flex;\n",
              "      flex-wrap:wrap;\n",
              "      gap: 12px;\n",
              "    }\n",
              "\n",
              "    .colab-df-convert {\n",
              "      background-color: #E8F0FE;\n",
              "      border: none;\n",
              "      border-radius: 50%;\n",
              "      cursor: pointer;\n",
              "      display: none;\n",
              "      fill: #1967D2;\n",
              "      height: 32px;\n",
              "      padding: 0 0 0 0;\n",
              "      width: 32px;\n",
              "    }\n",
              "\n",
              "    .colab-df-convert:hover {\n",
              "      background-color: #E2EBFA;\n",
              "      box-shadow: 0px 1px 2px rgba(60, 64, 67, 0.3), 0px 1px 3px 1px rgba(60, 64, 67, 0.15);\n",
              "      fill: #174EA6;\n",
              "    }\n",
              "\n",
              "    [theme=dark] .colab-df-convert {\n",
              "      background-color: #3B4455;\n",
              "      fill: #D2E3FC;\n",
              "    }\n",
              "\n",
              "    [theme=dark] .colab-df-convert:hover {\n",
              "      background-color: #434B5C;\n",
              "      box-shadow: 0px 1px 3px 1px rgba(0, 0, 0, 0.15);\n",
              "      filter: drop-shadow(0px 1px 2px rgba(0, 0, 0, 0.3));\n",
              "      fill: #FFFFFF;\n",
              "    }\n",
              "  </style>\n",
              "\n",
              "      <script>\n",
              "        const buttonEl =\n",
              "          document.querySelector('#df-9a125381-4852-49b8-8e78-cde446a1abaa button.colab-df-convert');\n",
              "        buttonEl.style.display =\n",
              "          google.colab.kernel.accessAllowed ? 'block' : 'none';\n",
              "\n",
              "        async function convertToInteractive(key) {\n",
              "          const element = document.querySelector('#df-9a125381-4852-49b8-8e78-cde446a1abaa');\n",
              "          const dataTable =\n",
              "            await google.colab.kernel.invokeFunction('convertToInteractive',\n",
              "                                                     [key], {});\n",
              "          if (!dataTable) return;\n",
              "\n",
              "          const docLinkHtml = 'Like what you see? Visit the ' +\n",
              "            '<a target=\"_blank\" href=https://colab.research.google.com/notebooks/data_table.ipynb>data table notebook</a>'\n",
              "            + ' to learn more about interactive tables.';\n",
              "          element.innerHTML = '';\n",
              "          dataTable['output_type'] = 'display_data';\n",
              "          await google.colab.output.renderOutput(dataTable, element);\n",
              "          const docLink = document.createElement('div');\n",
              "          docLink.innerHTML = docLinkHtml;\n",
              "          element.appendChild(docLink);\n",
              "        }\n",
              "      </script>\n",
              "    </div>\n",
              "  </div>\n",
              "  "
            ]
          },
          "metadata": {},
          "execution_count": 3
        }
      ]
    },
    {
      "cell_type": "code",
      "source": [
        "sns.heatmap(dataset.corr(),annot = True,cmap=\"crest\")"
      ],
      "metadata": {
        "colab": {
          "base_uri": "https://localhost:8080/",
          "height": 287
        },
        "id": "zQhqraIdR_x8",
        "outputId": "e8882374-47e0-4095-cbec-8c961b4bd73e"
      },
      "execution_count": 108,
      "outputs": [
        {
          "output_type": "execute_result",
          "data": {
            "text/plain": [
              "<matplotlib.axes._subplots.AxesSubplot at 0x7fe0e6aada50>"
            ]
          },
          "metadata": {},
          "execution_count": 108
        },
        {
          "output_type": "display_data",
          "data": {
            "text/plain": [
              "<Figure size 432x288 with 2 Axes>"
            ],
            "image/png": "[encoded data removed]"
          },
          "metadata": {
            "needs_background": "light"
          }
        }
      ]
    },
    {
      "cell_type": "markdown",
      "source": [
        "## Feature Scaling"
      ],
      "metadata": {
        "id": "Y3YTvbTxD3fV"
      }
    },
    {
      "cell_type": "code",
      "source": [
        "column_transformer = make_column_transformer(\n",
        "    (OneHotEncoder(handle_unknown = \"ignore\"),['sex','smoker','region']),\n",
        "    (MinMaxScaler(),['age','bmi','children'])\n",
        "                                            \n",
        "        )"
      ],
      "metadata": {
        "id": "x5OSn7j-D74H"
      },
      "execution_count": 14,
      "outputs": []
    },
    {
      "cell_type": "code",
      "source": [
        "x = dataset.drop(['charges'],axis = 1)\n",
        "y = dataset['charges']"
      ],
      "metadata": {
        "id": "1t9xtoyLE8NY"
      },
      "execution_count": 110,
      "outputs": []
    },
    {
      "cell_type": "code",
      "source": [
        "column_transformer.fit(x)"
      ],
      "metadata": {
        "colab": {
          "base_uri": "https://localhost:8080/"
        },
        "id": "62TS-EHuFd41",
        "outputId": "492bf148-620d-4599-aa63-080247269af9"
      },
      "execution_count": 111,
      "outputs": [
        {
          "output_type": "execute_result",
          "data": {
            "text/plain": [
              "ColumnTransformer(transformers=[('onehotencoder',\n",
              "                                 OneHotEncoder(handle_unknown='ignore'),\n",
              "                                 ['sex', 'smoker', 'region']),\n",
              "                                ('minmaxscaler', MinMaxScaler(),\n",
              "                                 ['age', 'bmi', 'children'])])"
            ]
          },
          "metadata": {},
          "execution_count": 111
        }
      ]
    },
    {
      "cell_type": "code",
      "source": [
        "x_train,x_val,y_train,y_val = train_test_split(x,y,test_size = 0.2,random_state = 42)"
      ],
      "metadata": {
        "id": "0jmuHBGkFKxd"
      },
      "execution_count": 112,
      "outputs": []
    },
    {
      "cell_type": "code",
      "source": [
        "x_train_scaled = column_transformer.transform(x_train)\n",
        "x_val_scaled = column_transformer.transform(x_val)"
      ],
      "metadata": {
        "id": "PeEhEdlTFygF"
      },
      "execution_count": 113,
      "outputs": []
    },
    {
      "cell_type": "code",
      "source": [
        "x_train.shape\n"
      ],
      "metadata": {
        "colab": {
          "base_uri": "https://localhost:8080/"
        },
        "id": "MJOSH4igFzk4",
        "outputId": "43c6a360-9ac9-41f0-fa75-61f8638df6b3"
      },
      "execution_count": 114,
      "outputs": [
        {
          "output_type": "execute_result",
          "data": {
            "text/plain": [
              "(1070, 6)"
            ]
          },
          "metadata": {},
          "execution_count": 114
        }
      ]
    },
    {
      "cell_type": "markdown",
      "source": [
        "## Linear Regression"
      ],
      "metadata": {
        "id": "4-9UMRpHLo-0"
      }
    },
    {
      "cell_type": "code",
      "source": [
        "from sklearn.linear_model import LinearRegression\n",
        "model = LinearRegression(normalize = True,n_jobs = 12)\n",
        "model.fit(x_train_scaled,y_train)"
      ],
      "metadata": {
        "colab": {
          "base_uri": "https://localhost:8080/"
        },
        "id": "bEFzsBrLGG2M",
        "outputId": "abd91b63-41b4-42db-c8d3-af8fdcb32079"
      },
      "execution_count": 115,
      "outputs": [
        {
          "output_type": "execute_result",
          "data": {
            "text/plain": [
              "LinearRegression(n_jobs=12, normalize=True)"
            ]
          },
          "metadata": {},
          "execution_count": 115
        }
      ]
    },
    {
      "cell_type": "code",
      "source": [
        "\n",
        "y_pred = model.predict(x_val_scaled)"
      ],
      "metadata": {
        "id": "n-nz6I5yGHx5"
      },
      "execution_count": 116,
      "outputs": []
    },
    {
      "cell_type": "code",
      "source": [
        "model.score(x_val_scaled,y_val)"
      ],
      "metadata": {
        "colab": {
          "base_uri": "https://localhost:8080/"
        },
        "id": "OaovQPxaHHvm",
        "outputId": "727c1c24-f495-4b1a-e862-80f8285eddad"
      },
      "execution_count": 117,
      "outputs": [
        {
          "output_type": "execute_result",
          "data": {
            "text/plain": [
              "0.783486491243026"
            ]
          },
          "metadata": {},
          "execution_count": 117
        }
      ]
    },
    {
      "cell_type": "markdown",
      "source": [
        "## Lazy Predict"
      ],
      "metadata": {
        "id": "Bb0_FilxNKTC"
      }
    },
    {
      "cell_type": "code",
      "source": [
        "!pip install lazypredict"
      ],
      "metadata": {
        "colab": {
          "base_uri": "https://localhost:8080/"
        },
        "id": "aEZpZxiFHP1j",
        "outputId": "9c04e86e-69b4-4e5f-ed87-ab53762a46c7"
      },
      "execution_count": 54,
      "outputs": [
        {
          "output_type": "stream",
          "name": "stdout",
          "text": [
            "Looking in indexes: https://pypi.org/simple, https://us-python.pkg.dev/colab-wheels/public/simple/\n",
            "Collecting lazypredict\n",
            "  Downloading lazypredict-0.2.12-py2.py3-none-any.whl (12 kB)\n",
            "Requirement already satisfied: click in /usr/local/lib/python3.7/dist-packages (from lazypredict) (7.1.2)\n",
            "Requirement already satisfied: scikit-learn in /usr/local/lib/python3.7/dist-packages (from lazypredict) (1.0.2)\n",
            "Requirement already satisfied: pandas in /usr/local/lib/python3.7/dist-packages (from lazypredict) (1.3.5)\n",
            "Requirement already satisfied: xgboost in /usr/local/lib/python3.7/dist-packages (from lazypredict) (0.90)\n",
            "Requirement already satisfied: tqdm in /usr/local/lib/python3.7/dist-packages (from lazypredict) (4.64.1)\n",
            "Requirement already satisfied: joblib in /usr/local/lib/python3.7/dist-packages (from lazypredict) (1.2.0)\n",
            "Requirement already satisfied: lightgbm in /usr/local/lib/python3.7/dist-packages (from lazypredict) (2.2.3)\n",
            "Requirement already satisfied: numpy in /usr/local/lib/python3.7/dist-packages (from lightgbm->lazypredict) (1.21.6)\n",
            "Requirement already satisfied: scipy in /usr/local/lib/python3.7/dist-packages (from lightgbm->lazypredict) (1.7.3)\n",
            "Requirement already satisfied: python-dateutil>=2.7.3 in /usr/local/lib/python3.7/dist-packages (from pandas->lazypredict) (2.8.2)\n",
            "Requirement already satisfied: pytz>=2017.3 in /usr/local/lib/python3.7/dist-packages (from pandas->lazypredict) (2022.6)\n",
            "Requirement already satisfied: six>=1.5 in /usr/local/lib/python3.7/dist-packages (from python-dateutil>=2.7.3->pandas->lazypredict) (1.15.0)\n",
            "Requirement already satisfied: threadpoolctl>=2.0.0 in /usr/local/lib/python3.7/dist-packages (from scikit-learn->lazypredict) (3.1.0)\n",
            "Installing collected packages: lazypredict\n",
            "Successfully installed lazypredict-0.2.12\n"
          ]
        }
      ]
    },
    {
      "cell_type": "code",
      "source": [
        "from lazypredict.Supervised import LazyRegressor"
      ],
      "metadata": {
        "id": "DDJQ3CtqI_cL"
      },
      "execution_count": 55,
      "outputs": []
    },
    {
      "cell_type": "code",
      "source": [
        "reg = LazyRegressor(verbose=0,ignore_warnings=False, custom_metric=None )"
      ],
      "metadata": {
        "id": "enK_gLTNJIP0"
      },
      "execution_count": 56,
      "outputs": []
    },
    {
      "cell_type": "code",
      "source": [
        "models,prediction = reg.fit(x_train_scaled,x_val,y_train,y_val)"
      ],
      "metadata": {
        "colab": {
          "base_uri": "https://localhost:8080/"
        },
        "id": "0bUYrwM5KjuO",
        "outputId": "e2ae92e8-e12c-4017-d474-4d69ff53f018"
      },
      "execution_count": 118,
      "outputs": [
        {
          "output_type": "stream",
          "name": "stdout",
          "text": [
            "'tuple' object has no attribute '__name__'\n",
            "Invalid Regressor(s)\n"
          ]
        },
        {
          "output_type": "stream",
          "name": "stderr",
          "text": [
            "  5%|▍         | 2/42 [00:00<00:02, 15.76it/s]"
          ]
        },
        {
          "output_type": "stream",
          "name": "stdout",
          "text": [
            "AdaBoostRegressor model failed to execute\n",
            "X has 6 features, but ColumnTransformer is expecting 11 features as input.\n",
            "BaggingRegressor model failed to execute\n",
            "X has 6 features, but ColumnTransformer is expecting 11 features as input.\n",
            "BayesianRidge model failed to execute\n",
            "X has 6 features, but ColumnTransformer is expecting 11 features as input.\n",
            "DecisionTreeRegressor model failed to execute\n",
            "X has 6 features, but ColumnTransformer is expecting 11 features as input.\n"
          ]
        },
        {
          "output_type": "stream",
          "name": "stderr",
          "text": [
            "\r 12%|█▏        | 5/42 [00:00<00:01, 19.96it/s]"
          ]
        },
        {
          "output_type": "stream",
          "name": "stdout",
          "text": [
            "DummyRegressor model failed to execute\n",
            "X has 6 features, but ColumnTransformer is expecting 11 features as input.\n",
            "ElasticNet model failed to execute\n",
            "X has 6 features, but ColumnTransformer is expecting 11 features as input.\n"
          ]
        },
        {
          "output_type": "stream",
          "name": "stderr",
          "text": [
            "\r 17%|█▋        | 7/42 [00:00<00:02, 14.76it/s]"
          ]
        },
        {
          "output_type": "stream",
          "name": "stdout",
          "text": [
            "ElasticNetCV model failed to execute\n",
            "X has 6 features, but ColumnTransformer is expecting 11 features as input.\n",
            "ExtraTreeRegressor model failed to execute\n",
            "X has 6 features, but ColumnTransformer is expecting 11 features as input.\n"
          ]
        },
        {
          "output_type": "stream",
          "name": "stderr",
          "text": [
            "\r 21%|██▏       | 9/42 [00:00<00:03,  8.48it/s]"
          ]
        },
        {
          "output_type": "stream",
          "name": "stdout",
          "text": [
            "ExtraTreesRegressor model failed to execute\n",
            "X has 6 features, but ColumnTransformer is expecting 11 features as input.\n",
            "GammaRegressor model failed to execute\n",
            "X has 6 features, but ColumnTransformer is expecting 11 features as input.\n"
          ]
        },
        {
          "output_type": "stream",
          "name": "stderr",
          "text": [
            "\r 26%|██▌       | 11/42 [00:01<00:03,  8.75it/s]"
          ]
        },
        {
          "output_type": "stream",
          "name": "stdout",
          "text": [
            "GaussianProcessRegressor model failed to execute\n",
            "X has 6 features, but ColumnTransformer is expecting 11 features as input.\n",
            "GradientBoostingRegressor model failed to execute\n",
            "X has 6 features, but ColumnTransformer is expecting 11 features as input.\n"
          ]
        },
        {
          "output_type": "stream",
          "name": "stderr",
          "text": [
            " 38%|███▊      | 16/42 [00:01<00:03,  8.53it/s]"
          ]
        },
        {
          "output_type": "stream",
          "name": "stdout",
          "text": [
            "HistGradientBoostingRegressor model failed to execute\n",
            "X has 6 features, but ColumnTransformer is expecting 11 features as input.\n",
            "HuberRegressor model failed to execute\n",
            "X has 6 features, but ColumnTransformer is expecting 11 features as input.\n",
            "KNeighborsRegressor model failed to execute\n",
            "X has 6 features, but ColumnTransformer is expecting 11 features as input.\n",
            "KernelRidge model failed to execute\n",
            "X has 6 features, but ColumnTransformer is expecting 11 features as input.\n",
            "Lars model failed to execute\n",
            "X has 6 features, but ColumnTransformer is expecting 11 features as input.\n",
            "LarsCV model failed to execute\n",
            "X has 6 features, but ColumnTransformer is expecting 11 features as input.\n",
            "Lasso model failed to execute\n",
            "X has 6 features, but ColumnTransformer is expecting 11 features as input.\n"
          ]
        },
        {
          "output_type": "stream",
          "name": "stderr",
          "text": [
            "\r 48%|████▊     | 20/42 [00:01<00:01, 11.88it/s]"
          ]
        },
        {
          "output_type": "stream",
          "name": "stdout",
          "text": [
            "LassoCV model failed to execute\n",
            "X has 6 features, but ColumnTransformer is expecting 11 features as input.\n",
            "LassoLars model failed to execute\n",
            "X has 6 features, but ColumnTransformer is expecting 11 features as input.\n",
            "LassoLarsCV model failed to execute\n",
            "X has 6 features, but ColumnTransformer is expecting 11 features as input.\n",
            "LassoLarsIC model failed to execute\n",
            "X has 6 features, but ColumnTransformer is expecting 11 features as input.\n",
            "LinearRegression model failed to execute\n",
            "X has 6 features, but ColumnTransformer is expecting 11 features as input.\n",
            "LinearSVR model failed to execute\n",
            "X has 6 features, but ColumnTransformer is expecting 11 features as input.\n"
          ]
        },
        {
          "output_type": "stream",
          "name": "stderr",
          "text": [
            " 67%|██████▋   | 28/42 [00:03<00:02,  6.52it/s]"
          ]
        },
        {
          "output_type": "stream",
          "name": "stdout",
          "text": [
            "MLPRegressor model failed to execute\n",
            "X has 6 features, but ColumnTransformer is expecting 11 features as input.\n",
            "NuSVR model failed to execute\n",
            "X has 6 features, but ColumnTransformer is expecting 11 features as input.\n",
            "OrthogonalMatchingPursuit model failed to execute\n",
            "X has 6 features, but ColumnTransformer is expecting 11 features as input.\n",
            "OrthogonalMatchingPursuitCV model failed to execute\n",
            "X has 6 features, but ColumnTransformer is expecting 11 features as input.\n",
            "PassiveAggressiveRegressor model failed to execute\n",
            "X has 6 features, but ColumnTransformer is expecting 11 features as input.\n",
            "PoissonRegressor model failed to execute\n",
            "X has 6 features, but ColumnTransformer is expecting 11 features as input.\n"
          ]
        },
        {
          "output_type": "stream",
          "name": "stderr",
          "text": [
            " 79%|███████▊  | 33/42 [00:55<00:36,  4.10s/it]"
          ]
        },
        {
          "output_type": "stream",
          "name": "stdout",
          "text": [
            "QuantileRegressor model failed to execute\n",
            "X has 6 features, but ColumnTransformer is expecting 11 features as input.\n",
            "RANSACRegressor model failed to execute\n",
            "X has 6 features, but ColumnTransformer is expecting 11 features as input.\n"
          ]
        },
        {
          "output_type": "stream",
          "name": "stderr",
          "text": [
            " 90%|█████████ | 38/42 [00:55<00:08,  2.11s/it]"
          ]
        },
        {
          "output_type": "stream",
          "name": "stdout",
          "text": [
            "RandomForestRegressor model failed to execute\n",
            "X has 6 features, but ColumnTransformer is expecting 11 features as input.\n",
            "Ridge model failed to execute\n",
            "X has 6 features, but ColumnTransformer is expecting 11 features as input.\n",
            "RidgeCV model failed to execute\n",
            "X has 6 features, but ColumnTransformer is expecting 11 features as input.\n",
            "SGDRegressor model failed to execute\n",
            "X has 6 features, but ColumnTransformer is expecting 11 features as input.\n",
            "SVR model failed to execute\n",
            "X has 6 features, but ColumnTransformer is expecting 11 features as input.\n",
            "TransformedTargetRegressor model failed to execute\n",
            "X has 6 features, but ColumnTransformer is expecting 11 features as input.\n",
            "TweedieRegressor model failed to execute"
          ]
        },
        {
          "output_type": "stream",
          "name": "stderr",
          "text": [
            "100%|██████████| 42/42 [00:56<00:00,  1.34s/it]"
          ]
        },
        {
          "output_type": "stream",
          "name": "stdout",
          "text": [
            "\n",
            "X has 6 features, but ColumnTransformer is expecting 11 features as input.\n",
            "[16:49:11] WARNING: /workspace/src/objective/regression_obj.cu:152: reg:linear is now deprecated in favor of reg:squarederror.\n",
            "XGBRegressor model failed to execute\n",
            "X has 6 features, but ColumnTransformer is expecting 11 features as input.\n",
            "LGBMRegressor model failed to execute\n",
            "X has 6 features, but ColumnTransformer is expecting 11 features as input.\n"
          ]
        },
        {
          "output_type": "stream",
          "name": "stderr",
          "text": [
            "\n"
          ]
        }
      ]
    },
    {
      "cell_type": "code",
      "source": [
        "models"
      ],
      "metadata": {
        "colab": {
          "base_uri": "https://localhost:8080/",
          "height": 1000
        },
        "id": "emUM4jpMKsYe",
        "outputId": "886a2755-b0b1-4354-8b8d-a42894572b17"
      },
      "execution_count": 58,
      "outputs": [
        {
          "output_type": "execute_result",
          "data": {
            "text/plain": [
              "                               Adjusted R-Squared  R-Squared       RMSE  \\\n",
              "Model                                                                     \n",
              "GradientBoostingRegressor                    0.87       0.88    4324.80   \n",
              "XGBRegressor                                 0.87       0.88    4351.19   \n",
              "RandomForestRegressor                        0.86       0.86    4587.72   \n",
              "LGBMRegressor                                0.86       0.86    4601.62   \n",
              "HistGradientBoostingRegressor                0.86       0.86    4637.54   \n",
              "BaggingRegressor                             0.85       0.85    4801.36   \n",
              "ExtraTreesRegressor                          0.84       0.84    4943.95   \n",
              "AdaBoostRegressor                            0.81       0.82    5267.06   \n",
              "KNeighborsRegressor                          0.79       0.80    5583.38   \n",
              "PoissonRegressor                             0.79       0.80    5613.25   \n",
              "LinearRegression                             0.77       0.78    5788.75   \n",
              "TransformedTargetRegressor                   0.77       0.78    5788.75   \n",
              "SGDRegressor                                 0.77       0.78    5791.27   \n",
              "LarsCV                                       0.77       0.78    5796.28   \n",
              "LassoLarsCV                                  0.77       0.78    5796.28   \n",
              "Lars                                         0.77       0.78    5796.28   \n",
              "Lasso                                        0.77       0.78    5796.59   \n",
              "Ridge                                        0.77       0.78    5796.64   \n",
              "BayesianRidge                                0.77       0.78    5798.05   \n",
              "RidgeCV                                      0.77       0.78    5800.15   \n",
              "LassoLars                                    0.77       0.78    5807.83   \n",
              "LassoLarsIC                                  0.77       0.78    5820.81   \n",
              "OrthogonalMatchingPursuitCV                  0.77       0.78    5829.38   \n",
              "LassoCV                                      0.77       0.78    5831.84   \n",
              "DecisionTreeRegressor                        0.75       0.76    6143.67   \n",
              "ExtraTreeRegressor                           0.74       0.75    6214.43   \n",
              "ElasticNet                                   0.72       0.73    6433.05   \n",
              "HuberRegressor                               0.71       0.72    6539.05   \n",
              "PassiveAggressiveRegressor                   0.71       0.72    6570.33   \n",
              "RANSACRegressor                              0.66       0.68    7074.17   \n",
              "TweedieRegressor                             0.65       0.66    7213.81   \n",
              "OrthogonalMatchingPursuit                    0.65       0.66    7262.64   \n",
              "GammaRegressor                               0.63       0.65    7389.44   \n",
              "ElasticNetCV                                 0.19       0.22   10978.56   \n",
              "DummyRegressor                              -0.04      -0.00   12465.61   \n",
              "NuSVR                                       -0.07      -0.03   12617.32   \n",
              "SVR                                         -0.11      -0.07   12882.24   \n",
              "QuantileRegressor                           -0.12      -0.07   12912.23   \n",
              "KernelRidge                                 -0.38      -0.33   14347.95   \n",
              "LinearSVR                                   -0.99      -0.91   17228.43   \n",
              "MLPRegressor                                -1.02      -0.94   17358.58   \n",
              "GaussianProcessRegressor                -10849.54  -10402.51 1270878.33   \n",
              "\n",
              "                               Time Taken  \n",
              "Model                                      \n",
              "GradientBoostingRegressor            0.35  \n",
              "XGBRegressor                         0.21  \n",
              "RandomForestRegressor                0.45  \n",
              "LGBMRegressor                        0.11  \n",
              "HistGradientBoostingRegressor        2.24  \n",
              "BaggingRegressor                     0.08  \n",
              "ExtraTreesRegressor                  0.88  \n",
              "AdaBoostRegressor                    0.07  \n",
              "KNeighborsRegressor                  0.02  \n",
              "PoissonRegressor                     0.02  \n",
              "LinearRegression                     0.04  \n",
              "TransformedTargetRegressor           0.02  \n",
              "SGDRegressor                         0.02  \n",
              "LarsCV                               0.07  \n",
              "LassoLarsCV                          0.08  \n",
              "Lars                                 0.05  \n",
              "Lasso                                0.03  \n",
              "Ridge                                0.01  \n",
              "BayesianRidge                        0.05  \n",
              "RidgeCV                              0.02  \n",
              "LassoLars                            0.04  \n",
              "LassoLarsIC                          0.02  \n",
              "OrthogonalMatchingPursuitCV          0.03  \n",
              "LassoCV                              0.26  \n",
              "DecisionTreeRegressor                0.03  \n",
              "ExtraTreeRegressor                   0.02  \n",
              "ElasticNet                           0.02  \n",
              "HuberRegressor                       0.04  \n",
              "PassiveAggressiveRegressor           0.03  \n",
              "RANSACRegressor                      0.07  \n",
              "TweedieRegressor                     0.02  \n",
              "OrthogonalMatchingPursuit            0.02  \n",
              "GammaRegressor                       0.07  \n",
              "ElasticNetCV                         0.23  \n",
              "DummyRegressor                       0.02  \n",
              "NuSVR                                0.13  \n",
              "SVR                                  0.15  \n",
              "QuantileRegressor                   33.00  \n",
              "KernelRidge                          0.13  \n",
              "LinearSVR                            0.03  \n",
              "MLPRegressor                         1.74  \n",
              "GaussianProcessRegressor             0.57  "
            ],
            "text/html": [
              "\n",
              "  <div id=\"df-0255d963-889e-483a-b910-10af95d6b29a\">\n",
              "    <div class=\"colab-df-container\">\n",
              "      <div>\n",
              "<style scoped>\n",
              "    .dataframe tbody tr th:only-of-type {\n",
              "        vertical-align: middle;\n",
              "    }\n",
              "\n",
              "    .dataframe tbody tr th {\n",
              "        vertical-align: top;\n",
              "    }\n",
              "\n",
              "    .dataframe thead th {\n",
              "        text-align: right;\n",
              "    }\n",
              "</style>\n",
              "<table border=\"1\" class=\"dataframe\">\n",
              "  <thead>\n",
              "    <tr style=\"text-align: right;\">\n",
              "      <th></th>\n",
              "      <th>Adjusted R-Squared</th>\n",
              "      <th>R-Squared</th>\n",
              "      <th>RMSE</th>\n",
              "      <th>Time Taken</th>\n",
              "    </tr>\n",
              "    <tr>\n",
              "      <th>Model</th>\n",
              "      <th></th>\n",
              "      <th></th>\n",
              "      <th></th>\n",
              "      <th></th>\n",
              "    </tr>\n",
              "  </thead>\n",
              "  <tbody>\n",
              "    <tr>\n",
              "      <th>GradientBoostingRegressor</th>\n",
              "      <td>0.87</td>\n",
              "      <td>0.88</td>\n",
              "      <td>4324.80</td>\n",
              "      <td>0.35</td>\n",
              "    </tr>\n",
              "    <tr>\n",
              "      <th>XGBRegressor</th>\n",
              "      <td>0.87</td>\n",
              "      <td>0.88</td>\n",
              "      <td>4351.19</td>\n",
              "      <td>0.21</td>\n",
              "    </tr>\n",
              "    <tr>\n",
              "      <th>RandomForestRegressor</th>\n",
              "      <td>0.86</td>\n",
              "      <td>0.86</td>\n",
              "      <td>4587.72</td>\n",
              "      <td>0.45</td>\n",
              "    </tr>\n",
              "    <tr>\n",
              "      <th>LGBMRegressor</th>\n",
              "      <td>0.86</td>\n",
              "      <td>0.86</td>\n",
              "      <td>4601.62</td>\n",
              "      <td>0.11</td>\n",
              "    </tr>\n",
              "    <tr>\n",
              "      <th>HistGradientBoostingRegressor</th>\n",
              "      <td>0.86</td>\n",
              "      <td>0.86</td>\n",
              "      <td>4637.54</td>\n",
              "      <td>2.24</td>\n",
              "    </tr>\n",
              "    <tr>\n",
              "      <th>BaggingRegressor</th>\n",
              "      <td>0.85</td>\n",
              "      <td>0.85</td>\n",
              "      <td>4801.36</td>\n",
              "      <td>0.08</td>\n",
              "    </tr>\n",
              "    <tr>\n",
              "      <th>ExtraTreesRegressor</th>\n",
              "      <td>0.84</td>\n",
              "      <td>0.84</td>\n",
              "      <td>4943.95</td>\n",
              "      <td>0.88</td>\n",
              "    </tr>\n",
              "    <tr>\n",
              "      <th>AdaBoostRegressor</th>\n",
              "      <td>0.81</td>\n",
              "      <td>0.82</td>\n",
              "      <td>5267.06</td>\n",
              "      <td>0.07</td>\n",
              "    </tr>\n",
              "    <tr>\n",
              "      <th>KNeighborsRegressor</th>\n",
              "      <td>0.79</td>\n",
              "      <td>0.80</td>\n",
              "      <td>5583.38</td>\n",
              "      <td>0.02</td>\n",
              "    </tr>\n",
              "    <tr>\n",
              "      <th>PoissonRegressor</th>\n",
              "      <td>0.79</td>\n",
              "      <td>0.80</td>\n",
              "      <td>5613.25</td>\n",
              "      <td>0.02</td>\n",
              "    </tr>\n",
              "    <tr>\n",
              "      <th>LinearRegression</th>\n",
              "      <td>0.77</td>\n",
              "      <td>0.78</td>\n",
              "      <td>5788.75</td>\n",
              "      <td>0.04</td>\n",
              "    </tr>\n",
              "    <tr>\n",
              "      <th>TransformedTargetRegressor</th>\n",
              "      <td>0.77</td>\n",
              "      <td>0.78</td>\n",
              "      <td>5788.75</td>\n",
              "      <td>0.02</td>\n",
              "    </tr>\n",
              "    <tr>\n",
              "      <th>SGDRegressor</th>\n",
              "      <td>0.77</td>\n",
              "      <td>0.78</td>\n",
              "      <td>5791.27</td>\n",
              "      <td>0.02</td>\n",
              "    </tr>\n",
              "    <tr>\n",
              "      <th>LarsCV</th>\n",
              "      <td>0.77</td>\n",
              "      <td>0.78</td>\n",
              "      <td>5796.28</td>\n",
              "      <td>0.07</td>\n",
              "    </tr>\n",
              "    <tr>\n",
              "      <th>LassoLarsCV</th>\n",
              "      <td>0.77</td>\n",
              "      <td>0.78</td>\n",
              "      <td>5796.28</td>\n",
              "      <td>0.08</td>\n",
              "    </tr>\n",
              "    <tr>\n",
              "      <th>Lars</th>\n",
              "      <td>0.77</td>\n",
              "      <td>0.78</td>\n",
              "      <td>5796.28</td>\n",
              "      <td>0.05</td>\n",
              "    </tr>\n",
              "    <tr>\n",
              "      <th>Lasso</th>\n",
              "      <td>0.77</td>\n",
              "      <td>0.78</td>\n",
              "      <td>5796.59</td>\n",
              "      <td>0.03</td>\n",
              "    </tr>\n",
              "    <tr>\n",
              "      <th>Ridge</th>\n",
              "      <td>0.77</td>\n",
              "      <td>0.78</td>\n",
              "      <td>5796.64</td>\n",
              "      <td>0.01</td>\n",
              "    </tr>\n",
              "    <tr>\n",
              "      <th>BayesianRidge</th>\n",
              "      <td>0.77</td>\n",
              "      <td>0.78</td>\n",
              "      <td>5798.05</td>\n",
              "      <td>0.05</td>\n",
              "    </tr>\n",
              "    <tr>\n",
              "      <th>RidgeCV</th>\n",
              "      <td>0.77</td>\n",
              "      <td>0.78</td>\n",
              "      <td>5800.15</td>\n",
              "      <td>0.02</td>\n",
              "    </tr>\n",
              "    <tr>\n",
              "      <th>LassoLars</th>\n",
              "      <td>0.77</td>\n",
              "      <td>0.78</td>\n",
              "      <td>5807.83</td>\n",
              "      <td>0.04</td>\n",
              "    </tr>\n",
              "    <tr>\n",
              "      <th>LassoLarsIC</th>\n",
              "      <td>0.77</td>\n",
              "      <td>0.78</td>\n",
              "      <td>5820.81</td>\n",
              "      <td>0.02</td>\n",
              "    </tr>\n",
              "    <tr>\n",
              "      <th>OrthogonalMatchingPursuitCV</th>\n",
              "      <td>0.77</td>\n",
              "      <td>0.78</td>\n",
              "      <td>5829.38</td>\n",
              "      <td>0.03</td>\n",
              "    </tr>\n",
              "    <tr>\n",
              "      <th>LassoCV</th>\n",
              "      <td>0.77</td>\n",
              "      <td>0.78</td>\n",
              "      <td>5831.84</td>\n",
              "      <td>0.26</td>\n",
              "    </tr>\n",
              "    <tr>\n",
              "      <th>DecisionTreeRegressor</th>\n",
              "      <td>0.75</td>\n",
              "      <td>0.76</td>\n",
              "      <td>6143.67</td>\n",
              "      <td>0.03</td>\n",
              "    </tr>\n",
              "    <tr>\n",
              "      <th>ExtraTreeRegressor</th>\n",
              "      <td>0.74</td>\n",
              "      <td>0.75</td>\n",
              "      <td>6214.43</td>\n",
              "      <td>0.02</td>\n",
              "    </tr>\n",
              "    <tr>\n",
              "      <th>ElasticNet</th>\n",
              "      <td>0.72</td>\n",
              "      <td>0.73</td>\n",
              "      <td>6433.05</td>\n",
              "      <td>0.02</td>\n",
              "    </tr>\n",
              "    <tr>\n",
              "      <th>HuberRegressor</th>\n",
              "      <td>0.71</td>\n",
              "      <td>0.72</td>\n",
              "      <td>6539.05</td>\n",
              "      <td>0.04</td>\n",
              "    </tr>\n",
              "    <tr>\n",
              "      <th>PassiveAggressiveRegressor</th>\n",
              "      <td>0.71</td>\n",
              "      <td>0.72</td>\n",
              "      <td>6570.33</td>\n",
              "      <td>0.03</td>\n",
              "    </tr>\n",
              "    <tr>\n",
              "      <th>RANSACRegressor</th>\n",
              "      <td>0.66</td>\n",
              "      <td>0.68</td>\n",
              "      <td>7074.17</td>\n",
              "      <td>0.07</td>\n",
              "    </tr>\n",
              "    <tr>\n",
              "      <th>TweedieRegressor</th>\n",
              "      <td>0.65</td>\n",
              "      <td>0.66</td>\n",
              "      <td>7213.81</td>\n",
              "      <td>0.02</td>\n",
              "    </tr>\n",
              "    <tr>\n",
              "      <th>OrthogonalMatchingPursuit</th>\n",
              "      <td>0.65</td>\n",
              "      <td>0.66</td>\n",
              "      <td>7262.64</td>\n",
              "      <td>0.02</td>\n",
              "    </tr>\n",
              "    <tr>\n",
              "      <th>GammaRegressor</th>\n",
              "      <td>0.63</td>\n",
              "      <td>0.65</td>\n",
              "      <td>7389.44</td>\n",
              "      <td>0.07</td>\n",
              "    </tr>\n",
              "    <tr>\n",
              "      <th>ElasticNetCV</th>\n",
              "      <td>0.19</td>\n",
              "      <td>0.22</td>\n",
              "      <td>10978.56</td>\n",
              "      <td>0.23</td>\n",
              "    </tr>\n",
              "    <tr>\n",
              "      <th>DummyRegressor</th>\n",
              "      <td>-0.04</td>\n",
              "      <td>-0.00</td>\n",
              "      <td>12465.61</td>\n",
              "      <td>0.02</td>\n",
              "    </tr>\n",
              "    <tr>\n",
              "      <th>NuSVR</th>\n",
              "      <td>-0.07</td>\n",
              "      <td>-0.03</td>\n",
              "      <td>12617.32</td>\n",
              "      <td>0.13</td>\n",
              "    </tr>\n",
              "    <tr>\n",
              "      <th>SVR</th>\n",
              "      <td>-0.11</td>\n",
              "      <td>-0.07</td>\n",
              "      <td>12882.24</td>\n",
              "      <td>0.15</td>\n",
              "    </tr>\n",
              "    <tr>\n",
              "      <th>QuantileRegressor</th>\n",
              "      <td>-0.12</td>\n",
              "      <td>-0.07</td>\n",
              "      <td>12912.23</td>\n",
              "      <td>33.00</td>\n",
              "    </tr>\n",
              "    <tr>\n",
              "      <th>KernelRidge</th>\n",
              "      <td>-0.38</td>\n",
              "      <td>-0.33</td>\n",
              "      <td>14347.95</td>\n",
              "      <td>0.13</td>\n",
              "    </tr>\n",
              "    <tr>\n",
              "      <th>LinearSVR</th>\n",
              "      <td>-0.99</td>\n",
              "      <td>-0.91</td>\n",
              "      <td>17228.43</td>\n",
              "      <td>0.03</td>\n",
              "    </tr>\n",
              "    <tr>\n",
              "      <th>MLPRegressor</th>\n",
              "      <td>-1.02</td>\n",
              "      <td>-0.94</td>\n",
              "      <td>17358.58</td>\n",
              "      <td>1.74</td>\n",
              "    </tr>\n",
              "    <tr>\n",
              "      <th>GaussianProcessRegressor</th>\n",
              "      <td>-10849.54</td>\n",
              "      <td>-10402.51</td>\n",
              "      <td>1270878.33</td>\n",
              "      <td>0.57</td>\n",
              "    </tr>\n",
              "  </tbody>\n",
              "</table>\n",
              "</div>\n",
              "      <button class=\"colab-df-convert\" onclick=\"convertToInteractive('df-0255d963-889e-483a-b910-10af95d6b29a')\"\n",
              "              title=\"Convert this dataframe to an interactive table.\"\n",
              "              style=\"display:none;\">\n",
              "        \n",
              "  <svg xmlns=\"http://www.w3.org/2000/svg\" height=\"24px\"viewBox=\"0 0 24 24\"\n",
              "       width=\"24px\">\n",
              "    <path d=\"M0 0h24v24H0V0z\" fill=\"none\"/>\n",
              "    <path d=\"M18.56 5.44l.94 2.06.94-2.06 2.06-.94-2.06-.94-.94-2.06-.94 2.06-2.06.94zm-11 1L8.5 8.5l.94-2.06 2.06-.94-2.06-.94L8.5 2.5l-.94 2.06-2.06.94zm10 10l.94 2.06.94-2.06 2.06-.94-2.06-.94-.94-2.06-.94 2.06-2.06.94z\"/><path d=\"M17.41 7.96l-1.37-1.37c-.4-.4-.92-.59-1.43-.59-.52 0-1.04.2-1.43.59L10.3 9.45l-7.72 7.72c-.78.78-.78 2.05 0 2.83L4 21.41c.39.39.9.59 1.41.59.51 0 1.02-.2 1.41-.59l7.78-7.78 2.81-2.81c.8-.78.8-2.07 0-2.86zM5.41 20L4 18.59l7.72-7.72 1.47 1.35L5.41 20z\"/>\n",
              "  </svg>\n",
              "      </button>\n",
              "      \n",
              "  <style>\n",
              "    .colab-df-container {\n",
              "      display:flex;\n",
              "      flex-wrap:wrap;\n",
              "      gap: 12px;\n",
              "    }\n",
              "\n",
              "    .colab-df-convert {\n",
              "      background-color: #E8F0FE;\n",
              "      border: none;\n",
              "      border-radius: 50%;\n",
              "      cursor: pointer;\n",
              "      display: none;\n",
              "      fill: #1967D2;\n",
              "      height: 32px;\n",
              "      padding: 0 0 0 0;\n",
              "      width: 32px;\n",
              "    }\n",
              "\n",
              "    .colab-df-convert:hover {\n",
              "      background-color: #E2EBFA;\n",
              "      box-shadow: 0px 1px 2px rgba(60, 64, 67, 0.3), 0px 1px 3px 1px rgba(60, 64, 67, 0.15);\n",
              "      fill: #174EA6;\n",
              "    }\n",
              "\n",
              "    [theme=dark] .colab-df-convert {\n",
              "      background-color: #3B4455;\n",
              "      fill: #D2E3FC;\n",
              "    }\n",
              "\n",
              "    [theme=dark] .colab-df-convert:hover {\n",
              "      background-color: #434B5C;\n",
              "      box-shadow: 0px 1px 3px 1px rgba(0, 0, 0, 0.15);\n",
              "      filter: drop-shadow(0px 1px 2px rgba(0, 0, 0, 0.3));\n",
              "      fill: #FFFFFF;\n",
              "    }\n",
              "  </style>\n",
              "\n",
              "      <script>\n",
              "        const buttonEl =\n",
              "          document.querySelector('#df-0255d963-889e-483a-b910-10af95d6b29a button.colab-df-convert');\n",
              "        buttonEl.style.display =\n",
              "          google.colab.kernel.accessAllowed ? 'block' : 'none';\n",
              "\n",
              "        async function convertToInteractive(key) {\n",
              "          const element = document.querySelector('#df-0255d963-889e-483a-b910-10af95d6b29a');\n",
              "          const dataTable =\n",
              "            await google.colab.kernel.invokeFunction('convertToInteractive',\n",
              "                                                     [key], {});\n",
              "          if (!dataTable) return;\n",
              "\n",
              "          const docLinkHtml = 'Like what you see? Visit the ' +\n",
              "            '<a target=\"_blank\" href=https://colab.research.google.com/notebooks/data_table.ipynb>data table notebook</a>'\n",
              "            + ' to learn more about interactive tables.';\n",
              "          element.innerHTML = '';\n",
              "          dataTable['output_type'] = 'display_data';\n",
              "          await google.colab.output.renderOutput(dataTable, element);\n",
              "          const docLink = document.createElement('div');\n",
              "          docLink.innerHTML = docLinkHtml;\n",
              "          element.appendChild(docLink);\n",
              "        }\n",
              "      </script>\n",
              "    </div>\n",
              "  </div>\n",
              "  "
            ]
          },
          "metadata": {},
          "execution_count": 58
        }
      ]
    },
    {
      "cell_type": "markdown",
      "source": [
        "## Gradient Boosting"
      ],
      "metadata": {
        "id": "tfEkcd8kLKXx"
      }
    },
    {
      "cell_type": "code",
      "source": [
        "from sklearn.ensemble import GradientBoostingRegressor"
      ],
      "metadata": {
        "id": "WnZAvkBxLwfq"
      },
      "execution_count": 60,
      "outputs": []
    },
    {
      "cell_type": "code",
      "source": [
        "model_2 = GradientBoostingRegressor(loss = \"huber\",learning_rate = 0.1,n_estimators = 500)\n",
        "model_2.fit(x_train_scaled,y_train)"
      ],
      "metadata": {
        "colab": {
          "base_uri": "https://localhost:8080/"
        },
        "id": "mWNmGILJL5V-",
        "outputId": "f84fd252-30a0-48cf-a2a5-bf2d2b8c6a23"
      },
      "execution_count": 119,
      "outputs": [
        {
          "output_type": "execute_result",
          "data": {
            "text/plain": [
              "GradientBoostingRegressor(loss='huber', n_estimators=500)"
            ]
          },
          "metadata": {},
          "execution_count": 119
        }
      ]
    },
    {
      "cell_type": "code",
      "source": [
        "model_2.score(x_val_scaled,y_val)"
      ],
      "metadata": {
        "colab": {
          "base_uri": "https://localhost:8080/"
        },
        "id": "On-6UCr0MBUc",
        "outputId": "41ae8a51-1611-41f7-90f1-cc91d38ea551"
      },
      "execution_count": 120,
      "outputs": [
        {
          "output_type": "execute_result",
          "data": {
            "text/plain": [
              "0.8603402723833068"
            ]
          },
          "metadata": {},
          "execution_count": 120
        }
      ]
    },
    {
      "cell_type": "code",
      "source": [
        "y_pred = model_2.predict(x_val_scaled)"
      ],
      "metadata": {
        "id": "1i8f17b4MeDr"
      },
      "execution_count": 121,
      "outputs": []
    },
    {
      "cell_type": "markdown",
      "source": [
        "### Parameter Tuning"
      ],
      "metadata": {
        "id": "11_nacKiNkDR"
      }
    },
    {
      "cell_type": "code",
      "source": [
        "from sklearn.model_selection import GridSearchCV\n",
        "param_grid = {'n_estimators': [100, 80, 60, 55, 51, 45],  \n",
        "              'max_depth': [7, 8],\n",
        "              'max_features':[10,9,5]\n",
        "             }\n",
        "grid = GridSearchCV(GradientBoostingRegressor(),param_grid,refit = True, verbose = 3, n_jobs=-1)\n"
      ],
      "metadata": {
        "id": "HipxrMdMMhCp"
      },
      "execution_count": 122,
      "outputs": []
    },
    {
      "cell_type": "code",
      "source": [
        "from sklearn.compose import TransformedTargetRegressor\n",
        "\n",
        "model_2_transformed = TransformedTargetRegressor(regressor = grid)"
      ],
      "metadata": {
        "id": "b4hANWeVNtPB"
      },
      "execution_count": 123,
      "outputs": []
    },
    {
      "cell_type": "code",
      "source": [
        "model_2_transformed.fit(x_train_scaled,y_train)"
      ],
      "metadata": {
        "colab": {
          "base_uri": "https://localhost:8080/"
        },
        "id": "3VkTW-qSPdde",
        "outputId": "0e411598-037e-4b6f-dd0a-39433b3503aa"
      },
      "execution_count": 124,
      "outputs": [
        {
          "output_type": "stream",
          "name": "stdout",
          "text": [
            "Fitting 5 folds for each of 36 candidates, totalling 180 fits\n"
          ]
        },
        {
          "output_type": "execute_result",
          "data": {
            "text/plain": [
              "TransformedTargetRegressor(regressor=GridSearchCV(estimator=GradientBoostingRegressor(),\n",
              "                                                  n_jobs=-1,\n",
              "                                                  param_grid={'max_depth': [7,\n",
              "                                                                            8],\n",
              "                                                              'max_features': [10,\n",
              "                                                                               9,\n",
              "                                                                               5],\n",
              "                                                              'n_estimators': [100,\n",
              "                                                                               80,\n",
              "                                                                               60,\n",
              "                                                                               55,\n",
              "                                                                               51,\n",
              "                                                                               45]},\n",
              "                                                  verbose=3))"
            ]
          },
          "metadata": {},
          "execution_count": 124
        }
      ]
    },
    {
      "cell_type": "code",
      "source": [
        "model_2_transformed.score(x_val_scaled,y_val)"
      ],
      "metadata": {
        "colab": {
          "base_uri": "https://localhost:8080/"
        },
        "id": "0D2S8HrGPKYa",
        "outputId": "d8861927-a161-4321-9804-6a75d823fd00"
      },
      "execution_count": 125,
      "outputs": [
        {
          "output_type": "execute_result",
          "data": {
            "text/plain": [
              "0.8623143608261516"
            ]
          },
          "metadata": {},
          "execution_count": 125
        }
      ]
    },
    {
      "cell_type": "markdown",
      "source": [
        "## RandomForestRegressor"
      ],
      "metadata": {
        "id": "quQMSJDRQZi7"
      }
    },
    {
      "cell_type": "code",
      "source": [
        "from sklearn.ensemble import RandomForestRegressor"
      ],
      "metadata": {
        "id": "-Z0GCb8LPb2g"
      },
      "execution_count": 91,
      "outputs": []
    },
    {
      "cell_type": "code",
      "source": [
        "model_3 = RandomForestRegressor()\n",
        "model_3.fit(x_train_scaled,y_train)"
      ],
      "metadata": {
        "colab": {
          "base_uri": "https://localhost:8080/"
        },
        "id": "8Wmb5USrQT7N",
        "outputId": "55714544-061f-414a-f77d-cad655af225b"
      },
      "execution_count": 126,
      "outputs": [
        {
          "output_type": "execute_result",
          "data": {
            "text/plain": [
              "RandomForestRegressor()"
            ]
          },
          "metadata": {},
          "execution_count": 126
        }
      ]
    },
    {
      "cell_type": "code",
      "source": [
        "model_3.score(x_val_scaled,y_val)"
      ],
      "metadata": {
        "colab": {
          "base_uri": "https://localhost:8080/"
        },
        "id": "8RfyPKEKQjQB",
        "outputId": "f44167a8-64dc-4aaa-da6d-a71636d594da"
      },
      "execution_count": 127,
      "outputs": [
        {
          "output_type": "execute_result",
          "data": {
            "text/plain": [
              "0.8630625495590794"
            ]
          },
          "metadata": {},
          "execution_count": 127
        }
      ]
    },
    {
      "cell_type": "code",
      "source": [
        "y_pred = model_3.predict(x_val_scaled)"
      ],
      "metadata": {
        "id": "_kt60qtdQoNt"
      },
      "execution_count": 129,
      "outputs": []
    },
    {
      "cell_type": "code",
      "source": [
        "plt.scatter(x_val['age'],y_val,color = 'red')\n",
        "plt.scatter(x_val['age'],y_pred,color = 'blue')"
      ],
      "metadata": {
        "colab": {
          "base_uri": "https://localhost:8080/",
          "height": 283
        },
        "id": "pgdLFybHQwaU",
        "outputId": "a375ee58-c8a3-4132-97e5-794141f22178"
      },
      "execution_count": 137,
      "outputs": [
        {
          "output_type": "execute_result",
          "data": {
            "text/plain": [
              "<matplotlib.collections.PathCollection at 0x7fe0e66ec4d0>"
            ]
          },
          "metadata": {},
          "execution_count": 137
        },
        {
          "output_type": "display_data",
          "data": {
            "text/plain": [
              "<Figure size 432x288 with 1 Axes>"
            ],
            "image/png": "[encoded data removed]"
          },
          "metadata": {
            "needs_background": "light"
          }
        }
      ]
    },
    {
      "cell_type": "code",
      "source": [],
      "metadata": {
        "id": "UuEC4eZmQ3Yv"
      },
      "execution_count": null,
      "outputs": []
    }
  ]
}
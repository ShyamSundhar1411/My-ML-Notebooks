{
  "nbformat": 4,
  "nbformat_minor": 0,
  "metadata": {
    "colab": {
      "provenance": [],
      "collapsed_sections": [],
      "authorship_tag": "ABX9TyO8TxyEKi6wpfNbbRzVLdv5",
      "include_colab_link": true
    },
    "kernelspec": {
      "name": "python3",
      "display_name": "Python 3"
    },
    "language_info": {
      "name": "python"
    },
    "accelerator": "GPU"
  },
  "cells": [
    {
      "cell_type": "markdown",
      "metadata": {
        "id": "view-in-github",
        "colab_type": "text"
      },
      "source": [
        "<a href=\"https://colab.research.google.com/github/ShyamSundhar1411/My-ML-Notebooks/blob/master/Regressions/Neural_Network_Regression.ipynb\" target=\"_parent\"><img src=\"https://colab.research.google.com/assets/colab-badge.svg\" alt=\"Open In Colab\"/></a>"
      ]
    },
    {
      "cell_type": "markdown",
      "source": [
        "## Introduction to Regression with Neural Networks in TensorFlow\n",
        "Predicting a number"
      ],
      "metadata": {
        "id": "BkAEgpoR0VD1"
      }
    },
    {
      "cell_type": "code",
      "source": [
        "import tensorflow as tf\n",
        "print(tf.__version__)"
      ],
      "metadata": {
        "colab": {
          "base_uri": "https://localhost:8080/"
        },
        "id": "qeSQe1hs1EGg",
        "outputId": "15259c25-9f2d-4cb2-bd19-51fe9882ce71"
      },
      "execution_count": 2,
      "outputs": [
        {
          "output_type": "stream",
          "name": "stdout",
          "text": [
            "2.8.2\n"
          ]
        }
      ]
    },
    {
      "cell_type": "markdown",
      "source": [
        "## Creating data to view and fit"
      ],
      "metadata": {
        "id": "J7tOP26N1HFx"
      }
    },
    {
      "cell_type": "code",
      "source": [
        "import numpy as np\n",
        "import matplotlib.pyplot as plt\n",
        "np.random.seed(42)\n",
        "X = np.array([-7.0,-4.0,-1.0,2.0,5.0,8.0,11.0,14.0])\n",
        "Y = np.array([3.0,6.0,9.0,12.0,15.0,18.0,21.0,24.0])"
      ],
      "metadata": {
        "id": "hFIlrCUY1Rzn"
      },
      "execution_count": 3,
      "outputs": []
    },
    {
      "cell_type": "code",
      "source": [
        "plt.scatter(X,Y)"
      ],
      "metadata": {
        "colab": {
          "base_uri": "https://localhost:8080/",
          "height": 286
        },
        "id": "km_YtONK1nZp",
        "outputId": "4e49f343-a8a0-4918-ac07-f43762898e47"
      },
      "execution_count": 4,
      "outputs": [
        {
          "output_type": "execute_result",
          "data": {
            "text/plain": [
              "<matplotlib.collections.PathCollection at 0x7fee0c5192d0>"
            ]
          },
          "metadata": {},
          "execution_count": 4
        },
        {
          "output_type": "display_data",
          "data": {
            "text/plain": [
              "<Figure size 432x288 with 1 Axes>"
            ],
            "image/png": "[encoded data removed]"
          },
          "metadata": {
            "needs_background": "light"
          }
        }
      ]
    },
    {
      "cell_type": "code",
      "source": [
        "Y == X+10"
      ],
      "metadata": {
        "colab": {
          "base_uri": "https://localhost:8080/"
        },
        "id": "9CJ75QlJ1n9q",
        "outputId": "d3858a82-0c41-4a40-989f-77a8f13e31fa"
      },
      "execution_count": 5,
      "outputs": [
        {
          "output_type": "execute_result",
          "data": {
            "text/plain": [
              "array([ True,  True,  True,  True,  True,  True,  True,  True])"
            ]
          },
          "metadata": {},
          "execution_count": 5
        }
      ]
    },
    {
      "cell_type": "markdown",
      "source": [
        "## Input and Output Shapes"
      ],
      "metadata": {
        "id": "chqG4iVY3Xv6"
      }
    },
    {
      "cell_type": "code",
      "source": [
        "## Tensor for Housing Price Prediction Problem\n",
        "house_info = tf.constant(['bedroom','bathroom','garage'])\n",
        "house_price = tf.constant([937000])"
      ],
      "metadata": {
        "id": "TtED-OiJ3jfi"
      },
      "execution_count": 6,
      "outputs": []
    },
    {
      "cell_type": "code",
      "source": [
        "house_info.shape"
      ],
      "metadata": {
        "colab": {
          "base_uri": "https://localhost:8080/"
        },
        "id": "vStYFkwZ37L9",
        "outputId": "a7f530fc-7049-4b78-ac76-c76924cd8254"
      },
      "execution_count": 7,
      "outputs": [
        {
          "output_type": "execute_result",
          "data": {
            "text/plain": [
              "TensorShape([3])"
            ]
          },
          "metadata": {},
          "execution_count": 7
        }
      ]
    },
    {
      "cell_type": "code",
      "source": [
        "house_price.shape"
      ],
      "metadata": {
        "colab": {
          "base_uri": "https://localhost:8080/"
        },
        "id": "vkcE4O4z39K3",
        "outputId": "7a659198-b537-4af1-db99-26b6edd982f6"
      },
      "execution_count": 8,
      "outputs": [
        {
          "output_type": "execute_result",
          "data": {
            "text/plain": [
              "TensorShape([1])"
            ]
          },
          "metadata": {},
          "execution_count": 8
        }
      ]
    },
    {
      "cell_type": "code",
      "source": [
        "input_shape = X.shape"
      ],
      "metadata": {
        "id": "b50IVOJK3-oR"
      },
      "execution_count": 9,
      "outputs": []
    },
    {
      "cell_type": "code",
      "source": [
        "output_shape = Y.shape"
      ],
      "metadata": {
        "id": "NmmJSTFr4D_m"
      },
      "execution_count": 10,
      "outputs": []
    },
    {
      "cell_type": "code",
      "source": [
        "input_shape,output_shape"
      ],
      "metadata": {
        "colab": {
          "base_uri": "https://localhost:8080/"
        },
        "id": "LOBofXJS4Fjf",
        "outputId": "d961ca31-e421-4fa9-e1c2-638d92007f8c"
      },
      "execution_count": 11,
      "outputs": [
        {
          "output_type": "execute_result",
          "data": {
            "text/plain": [
              "((8,), (8,))"
            ]
          },
          "metadata": {},
          "execution_count": 11
        }
      ]
    },
    {
      "cell_type": "code",
      "source": [],
      "metadata": {
        "id": "Sh_Aam_04Gav"
      },
      "execution_count": 11,
      "outputs": []
    },
    {
      "cell_type": "code",
      "source": [
        "x = tf.constant(X)\n",
        "y = tf.constant(Y)"
      ],
      "metadata": {
        "id": "MjuBPuMA4Iyp"
      },
      "execution_count": 12,
      "outputs": []
    },
    {
      "cell_type": "code",
      "source": [
        "plt.scatter(X,Y)"
      ],
      "metadata": {
        "colab": {
          "base_uri": "https://localhost:8080/",
          "height": 286
        },
        "id": "uqNKUdht9Jv6",
        "outputId": "3d840cce-a0bf-4d22-fa0e-be79d56f24d9"
      },
      "execution_count": 13,
      "outputs": [
        {
          "output_type": "execute_result",
          "data": {
            "text/plain": [
              "<matplotlib.collections.PathCollection at 0x7fee004b48d0>"
            ]
          },
          "metadata": {},
          "execution_count": 13
        },
        {
          "output_type": "display_data",
          "data": {
            "text/plain": [
              "<Figure size 432x288 with 1 Axes>"
            ],
            "image/png": "[encoded data removed]"
          },
          "metadata": {
            "needs_background": "light"
          }
        }
      ]
    },
    {
      "cell_type": "markdown",
      "source": [
        "## Improving our model\n"
      ],
      "metadata": {
        "id": "H8bldqTbEeX1"
      }
    },
    {
      "cell_type": "code",
      "source": [
        "#Creating a model\n",
        "tf.random.set_seed(42)\n",
        " #Create a model using Sequential API\n",
        "model = tf.keras.Sequential([\n",
        "    tf.keras.layers.Dense(100,activation = \"relu\"),\n",
        "    tf.keras.layers.Dense(100,activation = \"relu\"),\n",
        "    tf.keras.layers.Dense(100,activation = \"relu\"),\n",
        "    tf.keras.layers.Dense(1)\n",
        "])\n",
        "model.compile(loss = tf.keras.losses.mae, optimizer = tf.keras.optimizers.Adam(lr = 0.0001),metrics = ['mae'])\n",
        "model.fit(tf.expand_dims(X,axis = 1),y,epochs = 100) "
      ],
      "metadata": {
        "colab": {
          "base_uri": "https://localhost:8080/"
        },
        "id": "t2Kb2uAd9Lbo",
        "outputId": "2b5afef9-fe41-4389-8c5a-bc699cee66da"
      },
      "execution_count": 37,
      "outputs": [
        {
          "output_type": "stream",
          "name": "stdout",
          "text": [
            "Epoch 1/100\n",
            "1/1 [==============================] - 0s 353ms/step - loss: 13.3031 - mae: 13.3031\n",
            "Epoch 2/100\n",
            "1/1 [==============================] - 0s 9ms/step - loss: 13.2643 - mae: 13.2643\n",
            "Epoch 3/100\n",
            "1/1 [==============================] - 0s 8ms/step - loss: 13.2256 - mae: 13.2256\n",
            "Epoch 4/100\n",
            "1/1 [==============================] - 0s 10ms/step - loss: 13.1872 - mae: 13.1872\n",
            "Epoch 5/100\n",
            "1/1 [==============================] - 0s 9ms/step - loss: 13.1507 - mae: 13.1507\n",
            "Epoch 6/100\n",
            "1/1 [==============================] - 0s 7ms/step - loss: 13.1142 - mae: 13.1142\n",
            "Epoch 7/100\n",
            "1/1 [==============================] - 0s 11ms/step - loss: 13.0778 - mae: 13.0778\n",
            "Epoch 8/100\n",
            "1/1 [==============================] - 0s 10ms/step - loss: 13.0413 - mae: 13.0413\n",
            "Epoch 9/100\n",
            "1/1 [==============================] - 0s 7ms/step - loss: 13.0048 - mae: 13.0048\n",
            "Epoch 10/100\n",
            "1/1 [==============================] - 0s 9ms/step - loss: 12.9683 - mae: 12.9683\n",
            "Epoch 11/100\n",
            "1/1 [==============================] - 0s 10ms/step - loss: 12.9320 - mae: 12.9320\n",
            "Epoch 12/100\n",
            "1/1 [==============================] - 0s 10ms/step - loss: 12.8958 - mae: 12.8958\n",
            "Epoch 13/100\n",
            "1/1 [==============================] - 0s 9ms/step - loss: 12.8596 - mae: 12.8596\n",
            "Epoch 14/100\n",
            "1/1 [==============================] - 0s 7ms/step - loss: 12.8235 - mae: 12.8235\n",
            "Epoch 15/100\n",
            "1/1 [==============================] - 0s 10ms/step - loss: 12.7874 - mae: 12.7874\n",
            "Epoch 16/100\n",
            "1/1 [==============================] - 0s 7ms/step - loss: 12.7514 - mae: 12.7514\n",
            "Epoch 17/100\n",
            "1/1 [==============================] - 0s 8ms/step - loss: 12.7154 - mae: 12.7154\n",
            "Epoch 18/100\n",
            "1/1 [==============================] - 0s 9ms/step - loss: 12.6793 - mae: 12.6793\n",
            "Epoch 19/100\n",
            "1/1 [==============================] - 0s 8ms/step - loss: 12.6433 - mae: 12.6433\n",
            "Epoch 20/100\n",
            "1/1 [==============================] - 0s 11ms/step - loss: 12.6073 - mae: 12.6073\n",
            "Epoch 21/100\n",
            "1/1 [==============================] - 0s 8ms/step - loss: 12.5716 - mae: 12.5716\n",
            "Epoch 22/100\n",
            "1/1 [==============================] - 0s 12ms/step - loss: 12.5359 - mae: 12.5359\n",
            "Epoch 23/100\n",
            "1/1 [==============================] - 0s 10ms/step - loss: 12.5002 - mae: 12.5002\n",
            "Epoch 24/100\n",
            "1/1 [==============================] - 0s 11ms/step - loss: 12.4648 - mae: 12.4648\n",
            "Epoch 25/100\n",
            "1/1 [==============================] - 0s 10ms/step - loss: 12.4294 - mae: 12.4294\n",
            "Epoch 26/100\n",
            "1/1 [==============================] - 0s 6ms/step - loss: 12.3939 - mae: 12.3939\n",
            "Epoch 27/100\n",
            "1/1 [==============================] - 0s 9ms/step - loss: 12.3584 - mae: 12.3584\n",
            "Epoch 28/100\n",
            "1/1 [==============================] - 0s 7ms/step - loss: 12.3230 - mae: 12.3230\n",
            "Epoch 29/100\n",
            "1/1 [==============================] - 0s 10ms/step - loss: 12.2877 - mae: 12.2877\n",
            "Epoch 30/100\n",
            "1/1 [==============================] - 0s 10ms/step - loss: 12.2525 - mae: 12.2525\n",
            "Epoch 31/100\n",
            "1/1 [==============================] - 0s 11ms/step - loss: 12.2173 - mae: 12.2173\n",
            "Epoch 32/100\n",
            "1/1 [==============================] - 0s 10ms/step - loss: 12.1824 - mae: 12.1824\n",
            "Epoch 33/100\n",
            "1/1 [==============================] - 0s 12ms/step - loss: 12.1492 - mae: 12.1492\n",
            "Epoch 34/100\n",
            "1/1 [==============================] - 0s 13ms/step - loss: 12.1160 - mae: 12.1160\n",
            "Epoch 35/100\n",
            "1/1 [==============================] - 0s 7ms/step - loss: 12.0825 - mae: 12.0825\n",
            "Epoch 36/100\n",
            "1/1 [==============================] - 0s 11ms/step - loss: 12.0484 - mae: 12.0484\n",
            "Epoch 37/100\n",
            "1/1 [==============================] - 0s 10ms/step - loss: 12.0138 - mae: 12.0138\n",
            "Epoch 38/100\n",
            "1/1 [==============================] - 0s 11ms/step - loss: 11.9790 - mae: 11.9790\n",
            "Epoch 39/100\n",
            "1/1 [==============================] - 0s 11ms/step - loss: 11.9445 - mae: 11.9445\n",
            "Epoch 40/100\n",
            "1/1 [==============================] - 0s 10ms/step - loss: 11.9099 - mae: 11.9099\n",
            "Epoch 41/100\n",
            "1/1 [==============================] - 0s 9ms/step - loss: 11.8751 - mae: 11.8751\n",
            "Epoch 42/100\n",
            "1/1 [==============================] - 0s 9ms/step - loss: 11.8399 - mae: 11.8399\n",
            "Epoch 43/100\n",
            "1/1 [==============================] - 0s 10ms/step - loss: 11.8046 - mae: 11.8046\n",
            "Epoch 44/100\n",
            "1/1 [==============================] - 0s 9ms/step - loss: 11.7693 - mae: 11.7693\n",
            "Epoch 45/100\n",
            "1/1 [==============================] - 0s 8ms/step - loss: 11.7342 - mae: 11.7342\n",
            "Epoch 46/100\n",
            "1/1 [==============================] - 0s 10ms/step - loss: 11.6988 - mae: 11.6988\n",
            "Epoch 47/100\n",
            "1/1 [==============================] - 0s 11ms/step - loss: 11.6631 - mae: 11.6631\n",
            "Epoch 48/100\n",
            "1/1 [==============================] - 0s 13ms/step - loss: 11.6270 - mae: 11.6270\n",
            "Epoch 49/100\n",
            "1/1 [==============================] - 0s 10ms/step - loss: 11.5907 - mae: 11.5907\n",
            "Epoch 50/100\n",
            "1/1 [==============================] - 0s 11ms/step - loss: 11.5541 - mae: 11.5541\n",
            "Epoch 51/100\n",
            "1/1 [==============================] - 0s 8ms/step - loss: 11.5171 - mae: 11.5171\n",
            "Epoch 52/100\n",
            "1/1 [==============================] - 0s 9ms/step - loss: 11.4797 - mae: 11.4797\n",
            "Epoch 53/100\n",
            "1/1 [==============================] - 0s 9ms/step - loss: 11.4417 - mae: 11.4417\n",
            "Epoch 54/100\n",
            "1/1 [==============================] - 0s 6ms/step - loss: 11.4034 - mae: 11.4034\n",
            "Epoch 55/100\n",
            "1/1 [==============================] - 0s 14ms/step - loss: 11.3647 - mae: 11.3647\n",
            "Epoch 56/100\n",
            "1/1 [==============================] - 0s 9ms/step - loss: 11.3254 - mae: 11.3254\n",
            "Epoch 57/100\n",
            "1/1 [==============================] - 0s 10ms/step - loss: 11.2855 - mae: 11.2855\n",
            "Epoch 58/100\n",
            "1/1 [==============================] - 0s 13ms/step - loss: 11.2452 - mae: 11.2452\n",
            "Epoch 59/100\n",
            "1/1 [==============================] - 0s 8ms/step - loss: 11.2044 - mae: 11.2044\n",
            "Epoch 60/100\n",
            "1/1 [==============================] - 0s 6ms/step - loss: 11.1634 - mae: 11.1634\n",
            "Epoch 61/100\n",
            "1/1 [==============================] - 0s 10ms/step - loss: 11.1224 - mae: 11.1224\n",
            "Epoch 62/100\n",
            "1/1 [==============================] - 0s 10ms/step - loss: 11.0819 - mae: 11.0819\n",
            "Epoch 63/100\n",
            "1/1 [==============================] - 0s 10ms/step - loss: 11.0416 - mae: 11.0416\n",
            "Epoch 64/100\n",
            "1/1 [==============================] - 0s 9ms/step - loss: 11.0009 - mae: 11.0009\n",
            "Epoch 65/100\n",
            "1/1 [==============================] - 0s 7ms/step - loss: 10.9597 - mae: 10.9597\n",
            "Epoch 66/100\n",
            "1/1 [==============================] - 0s 7ms/step - loss: 10.9183 - mae: 10.9183\n",
            "Epoch 67/100\n",
            "1/1 [==============================] - 0s 8ms/step - loss: 10.8764 - mae: 10.8764\n",
            "Epoch 68/100\n",
            "1/1 [==============================] - 0s 10ms/step - loss: 10.8342 - mae: 10.8342\n",
            "Epoch 69/100\n",
            "1/1 [==============================] - 0s 9ms/step - loss: 10.7916 - mae: 10.7916\n",
            "Epoch 70/100\n",
            "1/1 [==============================] - 0s 9ms/step - loss: 10.7535 - mae: 10.7535\n",
            "Epoch 71/100\n",
            "1/1 [==============================] - 0s 11ms/step - loss: 10.7212 - mae: 10.7212\n",
            "Epoch 72/100\n",
            "1/1 [==============================] - 0s 8ms/step - loss: 10.6886 - mae: 10.6886\n",
            "Epoch 73/100\n",
            "1/1 [==============================] - 0s 9ms/step - loss: 10.6559 - mae: 10.6559\n",
            "Epoch 74/100\n",
            "1/1 [==============================] - 0s 9ms/step - loss: 10.6230 - mae: 10.6230\n",
            "Epoch 75/100\n",
            "1/1 [==============================] - 0s 9ms/step - loss: 10.5902 - mae: 10.5902\n",
            "Epoch 76/100\n",
            "1/1 [==============================] - 0s 9ms/step - loss: 10.5573 - mae: 10.5573\n",
            "Epoch 77/100\n",
            "1/1 [==============================] - 0s 9ms/step - loss: 10.5240 - mae: 10.5240\n",
            "Epoch 78/100\n",
            "1/1 [==============================] - 0s 9ms/step - loss: 10.4904 - mae: 10.4904\n",
            "Epoch 79/100\n",
            "1/1 [==============================] - 0s 7ms/step - loss: 10.4566 - mae: 10.4566\n",
            "Epoch 80/100\n",
            "1/1 [==============================] - 0s 7ms/step - loss: 10.4224 - mae: 10.4224\n",
            "Epoch 81/100\n",
            "1/1 [==============================] - 0s 7ms/step - loss: 10.3879 - mae: 10.3879\n",
            "Epoch 82/100\n",
            "1/1 [==============================] - 0s 9ms/step - loss: 10.3532 - mae: 10.3532\n",
            "Epoch 83/100\n",
            "1/1 [==============================] - 0s 6ms/step - loss: 10.3181 - mae: 10.3181\n",
            "Epoch 84/100\n",
            "1/1 [==============================] - 0s 7ms/step - loss: 10.2829 - mae: 10.2829\n",
            "Epoch 85/100\n",
            "1/1 [==============================] - 0s 7ms/step - loss: 10.2476 - mae: 10.2476\n",
            "Epoch 86/100\n",
            "1/1 [==============================] - 0s 8ms/step - loss: 10.2127 - mae: 10.2127\n",
            "Epoch 87/100\n",
            "1/1 [==============================] - 0s 7ms/step - loss: 10.1774 - mae: 10.1774\n",
            "Epoch 88/100\n",
            "1/1 [==============================] - 0s 8ms/step - loss: 10.1418 - mae: 10.1418\n",
            "Epoch 89/100\n",
            "1/1 [==============================] - 0s 7ms/step - loss: 10.1061 - mae: 10.1061\n",
            "Epoch 90/100\n",
            "1/1 [==============================] - 0s 7ms/step - loss: 10.0701 - mae: 10.0701\n",
            "Epoch 91/100\n",
            "1/1 [==============================] - 0s 7ms/step - loss: 10.0338 - mae: 10.0338\n",
            "Epoch 92/100\n",
            "1/1 [==============================] - 0s 8ms/step - loss: 9.9971 - mae: 9.9971\n",
            "Epoch 93/100\n",
            "1/1 [==============================] - 0s 7ms/step - loss: 9.9601 - mae: 9.9601\n",
            "Epoch 94/100\n",
            "1/1 [==============================] - 0s 9ms/step - loss: 9.9228 - mae: 9.9228\n",
            "Epoch 95/100\n",
            "1/1 [==============================] - 0s 6ms/step - loss: 9.8851 - mae: 9.8851\n",
            "Epoch 96/100\n",
            "1/1 [==============================] - 0s 8ms/step - loss: 9.8470 - mae: 9.8470\n",
            "Epoch 97/100\n",
            "1/1 [==============================] - 0s 7ms/step - loss: 9.8087 - mae: 9.8087\n",
            "Epoch 98/100\n",
            "1/1 [==============================] - 0s 7ms/step - loss: 9.7699 - mae: 9.7699\n",
            "Epoch 99/100\n",
            "1/1 [==============================] - 0s 9ms/step - loss: 9.7309 - mae: 9.7309\n",
            "Epoch 100/100\n",
            "1/1 [==============================] - 0s 6ms/step - loss: 9.6916 - mae: 9.6916\n"
          ]
        },
        {
          "output_type": "execute_result",
          "data": {
            "text/plain": [
              "<keras.callbacks.History at 0x7fed7a159fd0>"
            ]
          },
          "metadata": {},
          "execution_count": 37
        }
      ]
    },
    {
      "cell_type": "code",
      "source": [
        "y_pred = model.predict([17.0])\n",
        "y_pred"
      ],
      "metadata": {
        "colab": {
          "base_uri": "https://localhost:8080/"
        },
        "id": "-bVx7VKOEaOg",
        "outputId": "c32e470e-142b-4a10-db85-0b39cf8b007b"
      },
      "execution_count": 38,
      "outputs": [
        {
          "output_type": "execute_result",
          "data": {
            "text/plain": [
              "array([[10.712205]], dtype=float32)"
            ]
          },
          "metadata": {},
          "execution_count": 38
        }
      ]
    },
    {
      "cell_type": "code",
      "source": [
        "#Create a model using Sequential API\n",
        "model = tf.keras.Sequential([\n",
        "    tf.keras.layers.Dense(50,activation = \"relu\"),\n",
        "    tf.keras.layers.Dense(1)\n",
        "])\n",
        "model.compile(loss = tf.keras.losses.mae, optimizer = tf.keras.optimizers.SGD(),metrics = ['mae'])\n",
        "model.fit(tf.expand_dims(X,axis = 1),y,epochs = 100) "
      ],
      "metadata": {
        "colab": {
          "base_uri": "https://localhost:8080/"
        },
        "id": "6mxbekBmWCMZ",
        "outputId": "55543851-383b-4f5b-b61c-5f43f1149a50"
      },
      "execution_count": 48,
      "outputs": [
        {
          "output_type": "stream",
          "name": "stdout",
          "text": [
            "Epoch 1/100\n",
            "1/1 [==============================] - 0s 254ms/step - loss: 13.4588 - mae: 13.4588\n",
            "Epoch 2/100\n",
            "1/1 [==============================] - 0s 7ms/step - loss: 12.9605 - mae: 12.9605\n",
            "Epoch 3/100\n",
            "1/1 [==============================] - 0s 7ms/step - loss: 12.4680 - mae: 12.4680\n",
            "Epoch 4/100\n",
            "1/1 [==============================] - 0s 11ms/step - loss: 11.9862 - mae: 11.9862\n",
            "Epoch 5/100\n",
            "1/1 [==============================] - 0s 10ms/step - loss: 11.5128 - mae: 11.5128\n",
            "Epoch 6/100\n",
            "1/1 [==============================] - 0s 10ms/step - loss: 11.0230 - mae: 11.0230\n",
            "Epoch 7/100\n",
            "1/1 [==============================] - 0s 7ms/step - loss: 10.5122 - mae: 10.5122\n",
            "Epoch 8/100\n",
            "1/1 [==============================] - 0s 9ms/step - loss: 9.9809 - mae: 9.9809\n",
            "Epoch 9/100\n",
            "1/1 [==============================] - 0s 8ms/step - loss: 9.4694 - mae: 9.4694\n",
            "Epoch 10/100\n",
            "1/1 [==============================] - 0s 10ms/step - loss: 8.9416 - mae: 8.9416\n",
            "Epoch 11/100\n",
            "1/1 [==============================] - 0s 11ms/step - loss: 8.3826 - mae: 8.3826\n",
            "Epoch 12/100\n",
            "1/1 [==============================] - 0s 8ms/step - loss: 7.7831 - mae: 7.7831\n",
            "Epoch 13/100\n",
            "1/1 [==============================] - 0s 10ms/step - loss: 7.1413 - mae: 7.1413\n",
            "Epoch 14/100\n",
            "1/1 [==============================] - 0s 8ms/step - loss: 6.4504 - mae: 6.4504\n",
            "Epoch 15/100\n",
            "1/1 [==============================] - 0s 8ms/step - loss: 5.7067 - mae: 5.7067\n",
            "Epoch 16/100\n",
            "1/1 [==============================] - 0s 9ms/step - loss: 4.8884 - mae: 4.8884\n",
            "Epoch 17/100\n",
            "1/1 [==============================] - 0s 8ms/step - loss: 4.1349 - mae: 4.1349\n",
            "Epoch 18/100\n",
            "1/1 [==============================] - 0s 7ms/step - loss: 4.0422 - mae: 4.0422\n",
            "Epoch 19/100\n",
            "1/1 [==============================] - 0s 7ms/step - loss: 3.9471 - mae: 3.9471\n",
            "Epoch 20/100\n",
            "1/1 [==============================] - 0s 6ms/step - loss: 3.9317 - mae: 3.9317\n",
            "Epoch 21/100\n",
            "1/1 [==============================] - 0s 6ms/step - loss: 3.9218 - mae: 3.9218\n",
            "Epoch 22/100\n",
            "1/1 [==============================] - 0s 7ms/step - loss: 3.9380 - mae: 3.9380\n",
            "Epoch 23/100\n",
            "1/1 [==============================] - 0s 6ms/step - loss: 3.9023 - mae: 3.9023\n",
            "Epoch 24/100\n",
            "1/1 [==============================] - 0s 7ms/step - loss: 3.9539 - mae: 3.9539\n",
            "Epoch 25/100\n",
            "1/1 [==============================] - 0s 6ms/step - loss: 3.8879 - mae: 3.8879\n",
            "Epoch 26/100\n",
            "1/1 [==============================] - 0s 7ms/step - loss: 3.9511 - mae: 3.9511\n",
            "Epoch 27/100\n",
            "1/1 [==============================] - 0s 7ms/step - loss: 3.8941 - mae: 3.8941\n",
            "Epoch 28/100\n",
            "1/1 [==============================] - 0s 6ms/step - loss: 3.9257 - mae: 3.9257\n",
            "Epoch 29/100\n",
            "1/1 [==============================] - 0s 9ms/step - loss: 3.9004 - mae: 3.9004\n",
            "Epoch 30/100\n",
            "1/1 [==============================] - 0s 7ms/step - loss: 3.9002 - mae: 3.9002\n",
            "Epoch 31/100\n",
            "1/1 [==============================] - 0s 6ms/step - loss: 3.9130 - mae: 3.9130\n",
            "Epoch 32/100\n",
            "1/1 [==============================] - 0s 9ms/step - loss: 3.8834 - mae: 3.8834\n",
            "Epoch 33/100\n",
            "1/1 [==============================] - 0s 12ms/step - loss: 3.9230 - mae: 3.9230\n",
            "Epoch 34/100\n",
            "1/1 [==============================] - 0s 9ms/step - loss: 3.8575 - mae: 3.8575\n",
            "Epoch 35/100\n",
            "1/1 [==============================] - 0s 8ms/step - loss: 3.9296 - mae: 3.9296\n",
            "Epoch 36/100\n",
            "1/1 [==============================] - 0s 8ms/step - loss: 3.8638 - mae: 3.8638\n",
            "Epoch 37/100\n",
            "1/1 [==============================] - 0s 10ms/step - loss: 3.9032 - mae: 3.9032\n",
            "Epoch 38/100\n",
            "1/1 [==============================] - 0s 11ms/step - loss: 3.8703 - mae: 3.8703\n",
            "Epoch 39/100\n",
            "1/1 [==============================] - 0s 8ms/step - loss: 3.8841 - mae: 3.8841\n",
            "Epoch 40/100\n",
            "1/1 [==============================] - 0s 8ms/step - loss: 3.8865 - mae: 3.8865\n",
            "Epoch 41/100\n",
            "1/1 [==============================] - 0s 11ms/step - loss: 3.8603 - mae: 3.8603\n",
            "Epoch 42/100\n",
            "1/1 [==============================] - 0s 10ms/step - loss: 3.8932 - mae: 3.8932\n",
            "Epoch 43/100\n",
            "1/1 [==============================] - 0s 14ms/step - loss: 3.8341 - mae: 3.8341\n",
            "Epoch 44/100\n",
            "1/1 [==============================] - 0s 8ms/step - loss: 3.9001 - mae: 3.9001\n",
            "Epoch 45/100\n",
            "1/1 [==============================] - 0s 18ms/step - loss: 3.8346 - mae: 3.8346\n",
            "Epoch 46/100\n",
            "1/1 [==============================] - 0s 11ms/step - loss: 3.8794 - mae: 3.8794\n",
            "Epoch 47/100\n",
            "1/1 [==============================] - 0s 7ms/step - loss: 3.8478 - mae: 3.8478\n",
            "Epoch 48/100\n",
            "1/1 [==============================] - 0s 16ms/step - loss: 3.8622 - mae: 3.8622\n",
            "Epoch 49/100\n",
            "1/1 [==============================] - 0s 17ms/step - loss: 3.8577 - mae: 3.8577\n",
            "Epoch 50/100\n",
            "1/1 [==============================] - 0s 8ms/step - loss: 3.8359 - mae: 3.8359\n",
            "Epoch 51/100\n",
            "1/1 [==============================] - 0s 7ms/step - loss: 3.8646 - mae: 3.8646\n",
            "Epoch 52/100\n",
            "1/1 [==============================] - 0s 8ms/step - loss: 3.8095 - mae: 3.8095\n",
            "Epoch 53/100\n",
            "1/1 [==============================] - 0s 9ms/step - loss: 3.8717 - mae: 3.8717\n",
            "Epoch 54/100\n",
            "1/1 [==============================] - 0s 6ms/step - loss: 3.8066 - mae: 3.8066\n",
            "Epoch 55/100\n",
            "1/1 [==============================] - 0s 6ms/step - loss: 3.8610 - mae: 3.8610\n",
            "Epoch 56/100\n",
            "1/1 [==============================] - 0s 8ms/step - loss: 3.8230 - mae: 3.8230\n",
            "Epoch 57/100\n",
            "1/1 [==============================] - 0s 8ms/step - loss: 3.8369 - mae: 3.8369\n",
            "Epoch 58/100\n",
            "1/1 [==============================] - 0s 8ms/step - loss: 3.8300 - mae: 3.8300\n",
            "Epoch 59/100\n",
            "1/1 [==============================] - 0s 9ms/step - loss: 3.8103 - mae: 3.8103\n",
            "Epoch 60/100\n",
            "1/1 [==============================] - 0s 10ms/step - loss: 3.8371 - mae: 3.8371\n",
            "Epoch 61/100\n",
            "1/1 [==============================] - 0s 12ms/step - loss: 3.7836 - mae: 3.7836\n",
            "Epoch 62/100\n",
            "1/1 [==============================] - 0s 11ms/step - loss: 3.8445 - mae: 3.8445\n",
            "Epoch 63/100\n",
            "1/1 [==============================] - 0s 13ms/step - loss: 3.7857 - mae: 3.7857\n",
            "Epoch 64/100\n",
            "1/1 [==============================] - 0s 13ms/step - loss: 3.8369 - mae: 3.8369\n",
            "Epoch 65/100\n",
            "1/1 [==============================] - 0s 7ms/step - loss: 3.7963 - mae: 3.7963\n",
            "Epoch 66/100\n",
            "1/1 [==============================] - 0s 11ms/step - loss: 3.8102 - mae: 3.8102\n",
            "Epoch 67/100\n",
            "1/1 [==============================] - 0s 10ms/step - loss: 3.8035 - mae: 3.8035\n",
            "Epoch 68/100\n",
            "1/1 [==============================] - 0s 11ms/step - loss: 3.7834 - mae: 3.7834\n",
            "Epoch 69/100\n",
            "1/1 [==============================] - 0s 7ms/step - loss: 3.8109 - mae: 3.8109\n",
            "Epoch 70/100\n",
            "1/1 [==============================] - 0s 11ms/step - loss: 3.7565 - mae: 3.7565\n",
            "Epoch 71/100\n",
            "1/1 [==============================] - 0s 9ms/step - loss: 3.8235 - mae: 3.8235\n",
            "Epoch 72/100\n",
            "1/1 [==============================] - 0s 10ms/step - loss: 3.7634 - mae: 3.7634\n",
            "Epoch 73/100\n",
            "1/1 [==============================] - 0s 9ms/step - loss: 3.8093 - mae: 3.8093\n",
            "Epoch 74/100\n",
            "1/1 [==============================] - 0s 8ms/step - loss: 3.7706 - mae: 3.7706\n",
            "Epoch 75/100\n",
            "1/1 [==============================] - 0s 8ms/step - loss: 3.7823 - mae: 3.7823\n",
            "Epoch 76/100\n",
            "1/1 [==============================] - 0s 6ms/step - loss: 3.7780 - mae: 3.7780\n",
            "Epoch 77/100\n",
            "1/1 [==============================] - 0s 6ms/step - loss: 3.7552 - mae: 3.7552\n",
            "Epoch 78/100\n",
            "1/1 [==============================] - 0s 7ms/step - loss: 3.7856 - mae: 3.7856\n",
            "Epoch 79/100\n",
            "1/1 [==============================] - 0s 6ms/step - loss: 3.7328 - mae: 3.7328\n",
            "Epoch 80/100\n",
            "1/1 [==============================] - 0s 6ms/step - loss: 3.8028 - mae: 3.8028\n",
            "Epoch 81/100\n",
            "1/1 [==============================] - 0s 7ms/step - loss: 3.7385 - mae: 3.7385\n",
            "Epoch 82/100\n",
            "1/1 [==============================] - 0s 7ms/step - loss: 3.7804 - mae: 3.7804\n",
            "Epoch 83/100\n",
            "1/1 [==============================] - 0s 7ms/step - loss: 3.7460 - mae: 3.7460\n",
            "Epoch 84/100\n",
            "1/1 [==============================] - 0s 8ms/step - loss: 3.7531 - mae: 3.7531\n",
            "Epoch 85/100\n",
            "1/1 [==============================] - 0s 7ms/step - loss: 3.7537 - mae: 3.7537\n",
            "Epoch 86/100\n",
            "1/1 [==============================] - 0s 8ms/step - loss: 3.7258 - mae: 3.7258\n",
            "Epoch 87/100\n",
            "1/1 [==============================] - 0s 6ms/step - loss: 3.7651 - mae: 3.7651\n",
            "Epoch 88/100\n",
            "1/1 [==============================] - 0s 6ms/step - loss: 3.7072 - mae: 3.7072\n",
            "Epoch 89/100\n",
            "1/1 [==============================] - 0s 6ms/step - loss: 3.7775 - mae: 3.7775\n",
            "Epoch 90/100\n",
            "1/1 [==============================] - 0s 7ms/step - loss: 3.7148 - mae: 3.7148\n",
            "Epoch 91/100\n",
            "1/1 [==============================] - 0s 6ms/step - loss: 3.7501 - mae: 3.7501\n",
            "Epoch 92/100\n",
            "1/1 [==============================] - 0s 7ms/step - loss: 3.7224 - mae: 3.7224\n",
            "Epoch 93/100\n",
            "1/1 [==============================] - 0s 7ms/step - loss: 3.7226 - mae: 3.7226\n",
            "Epoch 94/100\n",
            "1/1 [==============================] - 0s 8ms/step - loss: 3.7303 - mae: 3.7303\n",
            "Epoch 95/100\n",
            "1/1 [==============================] - 0s 6ms/step - loss: 3.6980 - mae: 3.6980\n",
            "Epoch 96/100\n",
            "1/1 [==============================] - 0s 6ms/step - loss: 3.7477 - mae: 3.7477\n",
            "Epoch 97/100\n",
            "1/1 [==============================] - 0s 6ms/step - loss: 3.6843 - mae: 3.6843\n",
            "Epoch 98/100\n",
            "1/1 [==============================] - 0s 11ms/step - loss: 3.7463 - mae: 3.7463\n",
            "Epoch 99/100\n",
            "1/1 [==============================] - 0s 7ms/step - loss: 3.6920 - mae: 3.6920\n",
            "Epoch 100/100\n",
            "1/1 [==============================] - 0s 6ms/step - loss: 3.7186 - mae: 3.7186\n"
          ]
        },
        {
          "output_type": "execute_result",
          "data": {
            "text/plain": [
              "<keras.callbacks.History at 0x7fed79c2e150>"
            ]
          },
          "metadata": {},
          "execution_count": 48
        }
      ]
    },
    {
      "cell_type": "code",
      "source": [
        "model.predict([17.0])"
      ],
      "metadata": {
        "colab": {
          "base_uri": "https://localhost:8080/"
        },
        "id": "pGCwUq6LXux6",
        "outputId": "f0afe788-fdbf-4794-d0e5-c97a36f3073a"
      },
      "execution_count": 49,
      "outputs": [
        {
          "output_type": "execute_result",
          "data": {
            "text/plain": [
              "array([[32.43133]], dtype=float32)"
            ]
          },
          "metadata": {},
          "execution_count": 49
        }
      ]
    },
    {
      "cell_type": "code",
      "source": [
        "model = tf.keras.Sequential([\n",
        "    tf.keras.layers.Dense(50,activation = None),\n",
        "    tf.keras.layers.Dense(1)\n",
        "])\n",
        "model.compile(loss = tf.keras.losses.mae,optimizer = tf.keras.optimizers.Adam(lr = 0.01),metrics = 'mae')\n",
        "model.fit(tf.expand_dims(X,axis = 1),y,epochs = 100)"
      ],
      "metadata": {
        "colab": {
          "base_uri": "https://localhost:8080/"
        },
        "id": "gEG-g-ipXxTf",
        "outputId": "eaf0b625-3781-421e-b918-5602679f0cf6"
      },
      "execution_count": 66,
      "outputs": [
        {
          "output_type": "stream",
          "name": "stdout",
          "text": [
            "Epoch 1/100\n"
          ]
        },
        {
          "output_type": "stream",
          "name": "stderr",
          "text": [
            "/usr/local/lib/python3.7/dist-packages/keras/optimizer_v2/adam.py:105: UserWarning: The `lr` argument is deprecated, use `learning_rate` instead.\n",
            "  super(Adam, self).__init__(name, **kwargs)\n"
          ]
        },
        {
          "output_type": "stream",
          "name": "stdout",
          "text": [
            "1/1 [==============================] - 0s 408ms/step - loss: 12.9540 - mae: 12.9540\n",
            "Epoch 2/100\n",
            "1/1 [==============================] - 0s 9ms/step - loss: 12.2760 - mae: 12.2760\n",
            "Epoch 3/100\n",
            "1/1 [==============================] - 0s 9ms/step - loss: 11.5994 - mae: 11.5994\n",
            "Epoch 4/100\n",
            "1/1 [==============================] - 0s 9ms/step - loss: 10.9231 - mae: 10.9231\n",
            "Epoch 5/100\n",
            "1/1 [==============================] - 0s 7ms/step - loss: 10.2452 - mae: 10.2452\n",
            "Epoch 6/100\n",
            "1/1 [==============================] - 0s 8ms/step - loss: 9.5634 - mae: 9.5634\n",
            "Epoch 7/100\n",
            "1/1 [==============================] - 0s 8ms/step - loss: 8.8754 - mae: 8.8754\n",
            "Epoch 8/100\n",
            "1/1 [==============================] - 0s 9ms/step - loss: 8.1785 - mae: 8.1785\n",
            "Epoch 9/100\n",
            "1/1 [==============================] - 0s 13ms/step - loss: 7.4700 - mae: 7.4700\n",
            "Epoch 10/100\n",
            "1/1 [==============================] - 0s 14ms/step - loss: 6.8681 - mae: 6.8681\n",
            "Epoch 11/100\n",
            "1/1 [==============================] - 0s 8ms/step - loss: 6.8635 - mae: 6.8635\n",
            "Epoch 12/100\n",
            "1/1 [==============================] - 0s 12ms/step - loss: 7.1282 - mae: 7.1282\n",
            "Epoch 13/100\n",
            "1/1 [==============================] - 0s 13ms/step - loss: 7.2845 - mae: 7.2845\n",
            "Epoch 14/100\n",
            "1/1 [==============================] - 0s 10ms/step - loss: 7.3492 - mae: 7.3492\n",
            "Epoch 15/100\n",
            "1/1 [==============================] - 0s 10ms/step - loss: 7.3513 - mae: 7.3513\n",
            "Epoch 16/100\n",
            "1/1 [==============================] - 0s 10ms/step - loss: 7.2236 - mae: 7.2236\n",
            "Epoch 17/100\n",
            "1/1 [==============================] - 0s 12ms/step - loss: 7.0664 - mae: 7.0664\n",
            "Epoch 18/100\n",
            "1/1 [==============================] - 0s 10ms/step - loss: 6.8738 - mae: 6.8738\n",
            "Epoch 19/100\n",
            "1/1 [==============================] - 0s 10ms/step - loss: 6.6528 - mae: 6.6528\n",
            "Epoch 20/100\n",
            "1/1 [==============================] - 0s 10ms/step - loss: 6.4093 - mae: 6.4093\n",
            "Epoch 21/100\n",
            "1/1 [==============================] - 0s 11ms/step - loss: 6.1926 - mae: 6.1926\n",
            "Epoch 22/100\n",
            "1/1 [==============================] - 0s 10ms/step - loss: 6.1434 - mae: 6.1434\n",
            "Epoch 23/100\n",
            "1/1 [==============================] - 0s 10ms/step - loss: 6.0905 - mae: 6.0905\n",
            "Epoch 24/100\n",
            "1/1 [==============================] - 0s 13ms/step - loss: 6.1568 - mae: 6.1568\n",
            "Epoch 25/100\n",
            "1/1 [==============================] - 0s 11ms/step - loss: 6.1627 - mae: 6.1627\n",
            "Epoch 26/100\n",
            "1/1 [==============================] - 0s 12ms/step - loss: 6.0692 - mae: 6.0692\n",
            "Epoch 27/100\n",
            "1/1 [==============================] - 0s 8ms/step - loss: 5.8889 - mae: 5.8889\n",
            "Epoch 28/100\n",
            "1/1 [==============================] - 0s 11ms/step - loss: 5.7066 - mae: 5.7066\n",
            "Epoch 29/100\n",
            "1/1 [==============================] - 0s 17ms/step - loss: 5.6083 - mae: 5.6083\n",
            "Epoch 30/100\n",
            "1/1 [==============================] - 0s 10ms/step - loss: 5.5071 - mae: 5.5071\n",
            "Epoch 31/100\n",
            "1/1 [==============================] - 0s 12ms/step - loss: 5.4381 - mae: 5.4381\n",
            "Epoch 32/100\n",
            "1/1 [==============================] - 0s 8ms/step - loss: 5.4104 - mae: 5.4104\n",
            "Epoch 33/100\n",
            "1/1 [==============================] - 0s 7ms/step - loss: 5.3380 - mae: 5.3380\n",
            "Epoch 34/100\n",
            "1/1 [==============================] - 0s 8ms/step - loss: 5.2245 - mae: 5.2245\n",
            "Epoch 35/100\n",
            "1/1 [==============================] - 0s 9ms/step - loss: 5.0735 - mae: 5.0735\n",
            "Epoch 36/100\n",
            "1/1 [==============================] - 0s 13ms/step - loss: 4.9417 - mae: 4.9417\n",
            "Epoch 37/100\n",
            "1/1 [==============================] - 0s 8ms/step - loss: 4.8495 - mae: 4.8495\n",
            "Epoch 38/100\n",
            "1/1 [==============================] - 0s 7ms/step - loss: 4.7506 - mae: 4.7506\n",
            "Epoch 39/100\n",
            "1/1 [==============================] - 0s 8ms/step - loss: 4.6448 - mae: 4.6448\n",
            "Epoch 40/100\n",
            "1/1 [==============================] - 0s 8ms/step - loss: 4.5321 - mae: 4.5321\n",
            "Epoch 41/100\n",
            "1/1 [==============================] - 0s 9ms/step - loss: 4.4259 - mae: 4.4259\n",
            "Epoch 42/100\n",
            "1/1 [==============================] - 0s 9ms/step - loss: 4.2755 - mae: 4.2755\n",
            "Epoch 43/100\n",
            "1/1 [==============================] - 0s 13ms/step - loss: 4.1320 - mae: 4.1320\n",
            "Epoch 44/100\n",
            "1/1 [==============================] - 0s 13ms/step - loss: 3.9812 - mae: 3.9812\n",
            "Epoch 45/100\n",
            "1/1 [==============================] - 0s 15ms/step - loss: 3.8230 - mae: 3.8230\n",
            "Epoch 46/100\n",
            "1/1 [==============================] - 0s 14ms/step - loss: 3.6653 - mae: 3.6653\n",
            "Epoch 47/100\n",
            "1/1 [==============================] - 0s 10ms/step - loss: 3.5156 - mae: 3.5156\n",
            "Epoch 48/100\n",
            "1/1 [==============================] - 0s 10ms/step - loss: 3.3334 - mae: 3.3334\n",
            "Epoch 49/100\n",
            "1/1 [==============================] - 0s 11ms/step - loss: 3.1626 - mae: 3.1626\n",
            "Epoch 50/100\n",
            "1/1 [==============================] - 0s 10ms/step - loss: 2.9816 - mae: 2.9816\n",
            "Epoch 51/100\n",
            "1/1 [==============================] - 0s 12ms/step - loss: 2.7901 - mae: 2.7901\n",
            "Epoch 52/100\n",
            "1/1 [==============================] - 0s 14ms/step - loss: 2.5878 - mae: 2.5878\n",
            "Epoch 53/100\n",
            "1/1 [==============================] - 0s 13ms/step - loss: 2.3746 - mae: 2.3746\n",
            "Epoch 54/100\n",
            "1/1 [==============================] - 0s 13ms/step - loss: 2.1501 - mae: 2.1501\n",
            "Epoch 55/100\n",
            "1/1 [==============================] - 0s 13ms/step - loss: 1.9142 - mae: 1.9142\n",
            "Epoch 56/100\n",
            "1/1 [==============================] - 0s 13ms/step - loss: 1.6893 - mae: 1.6893\n",
            "Epoch 57/100\n",
            "1/1 [==============================] - 0s 12ms/step - loss: 1.4197 - mae: 1.4197\n",
            "Epoch 58/100\n",
            "1/1 [==============================] - 0s 17ms/step - loss: 1.1597 - mae: 1.1597\n",
            "Epoch 59/100\n",
            "1/1 [==============================] - 0s 10ms/step - loss: 0.9090 - mae: 0.9090\n",
            "Epoch 60/100\n",
            "1/1 [==============================] - 0s 10ms/step - loss: 0.6420 - mae: 0.6420\n",
            "Epoch 61/100\n",
            "1/1 [==============================] - 0s 13ms/step - loss: 0.4081 - mae: 0.4081\n",
            "Epoch 62/100\n",
            "1/1 [==============================] - 0s 12ms/step - loss: 0.1177 - mae: 0.1177\n",
            "Epoch 63/100\n",
            "1/1 [==============================] - 0s 12ms/step - loss: 0.3323 - mae: 0.3323\n",
            "Epoch 64/100\n",
            "1/1 [==============================] - 0s 11ms/step - loss: 0.4634 - mae: 0.4634\n",
            "Epoch 65/100\n",
            "1/1 [==============================] - 0s 11ms/step - loss: 0.7318 - mae: 0.7318\n",
            "Epoch 66/100\n",
            "1/1 [==============================] - 0s 8ms/step - loss: 0.7997 - mae: 0.7997\n",
            "Epoch 67/100\n",
            "1/1 [==============================] - 0s 10ms/step - loss: 0.7117 - mae: 0.7117\n",
            "Epoch 68/100\n",
            "1/1 [==============================] - 0s 13ms/step - loss: 0.8355 - mae: 0.8355\n",
            "Epoch 69/100\n",
            "1/1 [==============================] - 0s 13ms/step - loss: 0.7625 - mae: 0.7625\n",
            "Epoch 70/100\n",
            "1/1 [==============================] - 0s 10ms/step - loss: 0.6057 - mae: 0.6057\n",
            "Epoch 71/100\n",
            "1/1 [==============================] - 0s 11ms/step - loss: 0.5687 - mae: 0.5687\n",
            "Epoch 72/100\n",
            "1/1 [==============================] - 0s 7ms/step - loss: 0.3631 - mae: 0.3631\n",
            "Epoch 73/100\n",
            "1/1 [==============================] - 0s 11ms/step - loss: 0.3634 - mae: 0.3634\n",
            "Epoch 74/100\n",
            "1/1 [==============================] - 0s 8ms/step - loss: 0.2751 - mae: 0.2751\n",
            "Epoch 75/100\n",
            "1/1 [==============================] - 0s 9ms/step - loss: 0.1409 - mae: 0.1409\n",
            "Epoch 76/100\n",
            "1/1 [==============================] - 0s 9ms/step - loss: 0.2850 - mae: 0.2850\n",
            "Epoch 77/100\n",
            "1/1 [==============================] - 0s 12ms/step - loss: 0.2437 - mae: 0.2437\n",
            "Epoch 78/100\n",
            "1/1 [==============================] - 0s 11ms/step - loss: 0.3174 - mae: 0.3174\n",
            "Epoch 79/100\n",
            "1/1 [==============================] - 0s 11ms/step - loss: 0.2521 - mae: 0.2521\n",
            "Epoch 80/100\n",
            "1/1 [==============================] - 0s 11ms/step - loss: 0.3055 - mae: 0.3055\n",
            "Epoch 81/100\n",
            "1/1 [==============================] - 0s 9ms/step - loss: 0.2258 - mae: 0.2258\n",
            "Epoch 82/100\n",
            "1/1 [==============================] - 0s 11ms/step - loss: 0.1103 - mae: 0.1103\n",
            "Epoch 83/100\n",
            "1/1 [==============================] - 0s 8ms/step - loss: 0.0587 - mae: 0.0587\n",
            "Epoch 84/100\n",
            "1/1 [==============================] - 0s 8ms/step - loss: 0.1329 - mae: 0.1329\n",
            "Epoch 85/100\n",
            "1/1 [==============================] - 0s 9ms/step - loss: 0.2342 - mae: 0.2342\n",
            "Epoch 86/100\n",
            "1/1 [==============================] - 0s 9ms/step - loss: 0.1432 - mae: 0.1432\n",
            "Epoch 87/100\n",
            "1/1 [==============================] - 0s 9ms/step - loss: 0.1656 - mae: 0.1656\n",
            "Epoch 88/100\n",
            "1/1 [==============================] - 0s 11ms/step - loss: 0.0638 - mae: 0.0638\n",
            "Epoch 89/100\n",
            "1/1 [==============================] - 0s 9ms/step - loss: 0.1033 - mae: 0.1033\n",
            "Epoch 90/100\n",
            "1/1 [==============================] - 0s 10ms/step - loss: 0.1636 - mae: 0.1636\n",
            "Epoch 91/100\n",
            "1/1 [==============================] - 0s 9ms/step - loss: 0.1826 - mae: 0.1826\n",
            "Epoch 92/100\n",
            "1/1 [==============================] - 0s 9ms/step - loss: 0.1477 - mae: 0.1477\n",
            "Epoch 93/100\n",
            "1/1 [==============================] - 0s 9ms/step - loss: 0.0985 - mae: 0.0985\n",
            "Epoch 94/100\n",
            "1/1 [==============================] - 0s 6ms/step - loss: 0.1874 - mae: 0.1874\n",
            "Epoch 95/100\n",
            "1/1 [==============================] - 0s 10ms/step - loss: 0.1098 - mae: 0.1098\n",
            "Epoch 96/100\n",
            "1/1 [==============================] - 0s 8ms/step - loss: 0.2870 - mae: 0.2870\n",
            "Epoch 97/100\n",
            "1/1 [==============================] - 0s 26ms/step - loss: 0.3316 - mae: 0.3316\n",
            "Epoch 98/100\n",
            "1/1 [==============================] - 0s 11ms/step - loss: 0.1728 - mae: 0.1728\n",
            "Epoch 99/100\n",
            "1/1 [==============================] - 0s 7ms/step - loss: 0.3083 - mae: 0.3083\n",
            "Epoch 100/100\n",
            "1/1 [==============================] - 0s 10ms/step - loss: 0.3488 - mae: 0.3488\n"
          ]
        },
        {
          "output_type": "execute_result",
          "data": {
            "text/plain": [
              "<keras.callbacks.History at 0x7fed7a28a0d0>"
            ]
          },
          "metadata": {},
          "execution_count": 66
        }
      ]
    },
    {
      "cell_type": "code",
      "source": [
        "model.predict([25.0])"
      ],
      "metadata": {
        "colab": {
          "base_uri": "https://localhost:8080/"
        },
        "id": "jXo6sry-ZUVz",
        "outputId": "ebe518ef-f394-4338-a1a6-09ea73c006e4"
      },
      "execution_count": 68,
      "outputs": [
        {
          "output_type": "execute_result",
          "data": {
            "text/plain": [
              "array([[34.6382]], dtype=float32)"
            ]
          },
          "metadata": {},
          "execution_count": 68
        }
      ]
    },
    {
      "cell_type": "markdown",
      "source": [
        "## Evalutating a model"
      ],
      "metadata": {
        "id": "1R7j0ukKZez2"
      }
    },
    {
      "cell_type": "code",
      "source": [],
      "metadata": {
        "id": "5mDYyDsQbNQ9"
      },
      "execution_count": null,
      "outputs": []
    }
  ]
}
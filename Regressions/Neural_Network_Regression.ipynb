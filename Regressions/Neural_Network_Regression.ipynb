{
  "nbformat": 4,
  "nbformat_minor": 0,
  "metadata": {
    "colab": {
      "provenance": [],
      "collapsed_sections": [],
      "authorship_tag": "ABX9TyOplF2tvG/JJ6F6YpuNdnsU",
      "include_colab_link": true
    },
    "kernelspec": {
      "name": "python3",
      "display_name": "Python 3"
    },
    "language_info": {
      "name": "python"
    },
    "accelerator": "GPU"
  },
  "cells": [
    {
      "cell_type": "markdown",
      "metadata": {
        "id": "view-in-github",
        "colab_type": "text"
      },
      "source": [
        "<a href=\"https://colab.research.google.com/github/ShyamSundhar1411/My-ML-Notebooks/blob/master/Regressions/Neural_Network_Regression.ipynb\" target=\"_parent\"><img src=\"https://colab.research.google.com/assets/colab-badge.svg\" alt=\"Open In Colab\"/></a>"
      ]
    },
    {
      "cell_type": "markdown",
      "source": [
        "## Introduction to Regression with Neural Networks in TensorFlow\n",
        "Predicting a number"
      ],
      "metadata": {
        "id": "BkAEgpoR0VD1"
      }
    },
    {
      "cell_type": "code",
      "source": [
        "import tensorflow as tf\n",
        "print(tf.__version__)"
      ],
      "metadata": {
        "colab": {
          "base_uri": "https://localhost:8080/"
        },
        "id": "qeSQe1hs1EGg",
        "outputId": "59eb7e56-1207-40e4-b1ce-eee1d0df481f"
      },
      "execution_count": 1,
      "outputs": [
        {
          "output_type": "stream",
          "name": "stdout",
          "text": [
            "2.9.2\n"
          ]
        }
      ]
    },
    {
      "cell_type": "markdown",
      "source": [
        "## Creating data to view and fit"
      ],
      "metadata": {
        "id": "J7tOP26N1HFx"
      }
    },
    {
      "cell_type": "code",
      "source": [
        "import numpy as np\n",
        "import matplotlib.pyplot as plt\n",
        "np.random.seed(42)\n",
        "X = np.array([-7.0,-4.0,-1.0,2.0,5.0,8.0,11.0,14.0])\n",
        "Y = np.array([3.0,6.0,9.0,12.0,15.0,18.0,21.0,24.0])"
      ],
      "metadata": {
        "id": "hFIlrCUY1Rzn"
      },
      "execution_count": 2,
      "outputs": []
    },
    {
      "cell_type": "code",
      "source": [
        "plt.scatter(X,Y)"
      ],
      "metadata": {
        "colab": {
          "base_uri": "https://localhost:8080/",
          "height": 286
        },
        "id": "km_YtONK1nZp",
        "outputId": "95780389-c62a-4365-ce5e-5e84473b35fe"
      },
      "execution_count": 3,
      "outputs": [
        {
          "output_type": "execute_result",
          "data": {
            "text/plain": [
              "<matplotlib.collections.PathCollection at 0x7f71aa449690>"
            ]
          },
          "metadata": {},
          "execution_count": 3
        },
        {
          "output_type": "display_data",
          "data": {
            "text/plain": [
              "<Figure size 432x288 with 1 Axes>"
            ],
            "image/png": "[encoded data removed]"
          },
          "metadata": {
            "needs_background": "light"
          }
        }
      ]
    },
    {
      "cell_type": "code",
      "source": [
        "Y == X+10"
      ],
      "metadata": {
        "colab": {
          "base_uri": "https://localhost:8080/"
        },
        "id": "9CJ75QlJ1n9q",
        "outputId": "3cf40092-e6f1-44c3-8d23-a54d28fad91f"
      },
      "execution_count": 4,
      "outputs": [
        {
          "output_type": "execute_result",
          "data": {
            "text/plain": [
              "array([ True,  True,  True,  True,  True,  True,  True,  True])"
            ]
          },
          "metadata": {},
          "execution_count": 4
        }
      ]
    },
    {
      "cell_type": "markdown",
      "source": [
        "## Input and Output Shapes"
      ],
      "metadata": {
        "id": "chqG4iVY3Xv6"
      }
    },
    {
      "cell_type": "code",
      "source": [
        "## Tensor for Housing Price Prediction Problem\n",
        "house_info = tf.constant(['bedroom','bathroom','garage'])\n",
        "house_price = tf.constant([937000])"
      ],
      "metadata": {
        "id": "TtED-OiJ3jfi"
      },
      "execution_count": 5,
      "outputs": []
    },
    {
      "cell_type": "code",
      "source": [
        "house_info.shape"
      ],
      "metadata": {
        "colab": {
          "base_uri": "https://localhost:8080/"
        },
        "id": "vStYFkwZ37L9",
        "outputId": "3c6b1138-87f8-4b0d-98eb-5bbd122f5011"
      },
      "execution_count": 6,
      "outputs": [
        {
          "output_type": "execute_result",
          "data": {
            "text/plain": [
              "TensorShape([3])"
            ]
          },
          "metadata": {},
          "execution_count": 6
        }
      ]
    },
    {
      "cell_type": "code",
      "source": [
        "house_price.shape"
      ],
      "metadata": {
        "colab": {
          "base_uri": "https://localhost:8080/"
        },
        "id": "vkcE4O4z39K3",
        "outputId": "74d575d5-09f8-4b05-8e67-95c34e5d5bc1"
      },
      "execution_count": 7,
      "outputs": [
        {
          "output_type": "execute_result",
          "data": {
            "text/plain": [
              "TensorShape([1])"
            ]
          },
          "metadata": {},
          "execution_count": 7
        }
      ]
    },
    {
      "cell_type": "code",
      "source": [
        "input_shape = X.shape"
      ],
      "metadata": {
        "id": "b50IVOJK3-oR"
      },
      "execution_count": 8,
      "outputs": []
    },
    {
      "cell_type": "code",
      "source": [
        "output_shape = Y.shape"
      ],
      "metadata": {
        "id": "NmmJSTFr4D_m"
      },
      "execution_count": 9,
      "outputs": []
    },
    {
      "cell_type": "code",
      "source": [
        "input_shape,output_shape"
      ],
      "metadata": {
        "colab": {
          "base_uri": "https://localhost:8080/"
        },
        "id": "LOBofXJS4Fjf",
        "outputId": "32974cda-e6da-46a4-ac17-1c48a71a4d9a"
      },
      "execution_count": 10,
      "outputs": [
        {
          "output_type": "execute_result",
          "data": {
            "text/plain": [
              "((8,), (8,))"
            ]
          },
          "metadata": {},
          "execution_count": 10
        }
      ]
    },
    {
      "cell_type": "code",
      "source": [],
      "metadata": {
        "id": "Sh_Aam_04Gav"
      },
      "execution_count": 10,
      "outputs": []
    },
    {
      "cell_type": "code",
      "source": [
        "x = tf.constant(X)\n",
        "y = tf.constant(Y)"
      ],
      "metadata": {
        "id": "MjuBPuMA4Iyp"
      },
      "execution_count": 11,
      "outputs": []
    },
    {
      "cell_type": "code",
      "source": [
        "plt.scatter(X,Y)"
      ],
      "metadata": {
        "colab": {
          "base_uri": "https://localhost:8080/",
          "height": 286
        },
        "id": "uqNKUdht9Jv6",
        "outputId": "43f74260-f22a-4191-fd2e-8c763989922a"
      },
      "execution_count": 12,
      "outputs": [
        {
          "output_type": "execute_result",
          "data": {
            "text/plain": [
              "<matplotlib.collections.PathCollection at 0x7f71aa3c9b50>"
            ]
          },
          "metadata": {},
          "execution_count": 12
        },
        {
          "output_type": "display_data",
          "data": {
            "text/plain": [
              "<Figure size 432x288 with 1 Axes>"
            ],
            "image/png": "[encoded data removed]"
          },
          "metadata": {
            "needs_background": "light"
          }
        }
      ]
    },
    {
      "cell_type": "markdown",
      "source": [
        "## Improving our model\n"
      ],
      "metadata": {
        "id": "H8bldqTbEeX1"
      }
    },
    {
      "cell_type": "code",
      "source": [
        "#Creating a model\n",
        "tf.random.set_seed(42)\n",
        " #Create a model using Sequential API\n",
        "model = tf.keras.Sequential([\n",
        "    tf.keras.layers.Dense(100,activation = \"relu\"),\n",
        "    tf.keras.layers.Dense(100,activation = \"relu\"),\n",
        "    tf.keras.layers.Dense(100,activation = \"relu\"),\n",
        "    tf.keras.layers.Dense(1)\n",
        "])\n",
        "model.compile(loss = tf.keras.losses.mae, optimizer = tf.keras.optimizers.Adam(lr = 0.0001),metrics = ['mae'])\n",
        "model.fit(tf.expand_dims(X,axis = 1),y,epochs = 100) "
      ],
      "metadata": {
        "colab": {
          "base_uri": "https://localhost:8080/"
        },
        "id": "t2Kb2uAd9Lbo",
        "outputId": "87e3ad1f-df6b-4370-8c87-efda11720c0e"
      },
      "execution_count": 13,
      "outputs": [
        {
          "output_type": "stream",
          "name": "stdout",
          "text": [
            "Epoch 1/100\n"
          ]
        },
        {
          "output_type": "stream",
          "name": "stderr",
          "text": [
            "/usr/local/lib/python3.7/dist-packages/keras/optimizers/optimizer_v2/adam.py:110: UserWarning: The `lr` argument is deprecated, use `learning_rate` instead.\n",
            "  super(Adam, self).__init__(name, **kwargs)\n"
          ]
        },
        {
          "output_type": "stream",
          "name": "stdout",
          "text": [
            "1/1 [==============================] - 3s 3s/step - loss: 13.3031 - mae: 13.3031\n",
            "Epoch 2/100\n",
            "1/1 [==============================] - 0s 15ms/step - loss: 13.2643 - mae: 13.2643\n",
            "Epoch 3/100\n",
            "1/1 [==============================] - 0s 15ms/step - loss: 13.2256 - mae: 13.2256\n",
            "Epoch 4/100\n",
            "1/1 [==============================] - 0s 21ms/step - loss: 13.1872 - mae: 13.1872\n",
            "Epoch 5/100\n",
            "1/1 [==============================] - 0s 8ms/step - loss: 13.1507 - mae: 13.1507\n",
            "Epoch 6/100\n",
            "1/1 [==============================] - 0s 9ms/step - loss: 13.1142 - mae: 13.1142\n",
            "Epoch 7/100\n",
            "1/1 [==============================] - 0s 13ms/step - loss: 13.0778 - mae: 13.0778\n",
            "Epoch 8/100\n",
            "1/1 [==============================] - 0s 8ms/step - loss: 13.0413 - mae: 13.0413\n",
            "Epoch 9/100\n",
            "1/1 [==============================] - 0s 11ms/step - loss: 13.0048 - mae: 13.0048\n",
            "Epoch 10/100\n",
            "1/1 [==============================] - 0s 10ms/step - loss: 12.9683 - mae: 12.9683\n",
            "Epoch 11/100\n",
            "1/1 [==============================] - 0s 12ms/step - loss: 12.9320 - mae: 12.9320\n",
            "Epoch 12/100\n",
            "1/1 [==============================] - 0s 9ms/step - loss: 12.8958 - mae: 12.8958\n",
            "Epoch 13/100\n",
            "1/1 [==============================] - 0s 11ms/step - loss: 12.8596 - mae: 12.8596\n",
            "Epoch 14/100\n",
            "1/1 [==============================] - 0s 10ms/step - loss: 12.8235 - mae: 12.8235\n",
            "Epoch 15/100\n",
            "1/1 [==============================] - 0s 11ms/step - loss: 12.7874 - mae: 12.7874\n",
            "Epoch 16/100\n",
            "1/1 [==============================] - 0s 22ms/step - loss: 12.7514 - mae: 12.7514\n",
            "Epoch 17/100\n",
            "1/1 [==============================] - 0s 11ms/step - loss: 12.7154 - mae: 12.7154\n",
            "Epoch 18/100\n",
            "1/1 [==============================] - 0s 11ms/step - loss: 12.6793 - mae: 12.6793\n",
            "Epoch 19/100\n",
            "1/1 [==============================] - 0s 12ms/step - loss: 12.6433 - mae: 12.6433\n",
            "Epoch 20/100\n",
            "1/1 [==============================] - 0s 10ms/step - loss: 12.6073 - mae: 12.6073\n",
            "Epoch 21/100\n",
            "1/1 [==============================] - 0s 11ms/step - loss: 12.5716 - mae: 12.5716\n",
            "Epoch 22/100\n",
            "1/1 [==============================] - 0s 10ms/step - loss: 12.5359 - mae: 12.5359\n",
            "Epoch 23/100\n",
            "1/1 [==============================] - 0s 12ms/step - loss: 12.5002 - mae: 12.5002\n",
            "Epoch 24/100\n",
            "1/1 [==============================] - 0s 10ms/step - loss: 12.4648 - mae: 12.4648\n",
            "Epoch 25/100\n",
            "1/1 [==============================] - 0s 10ms/step - loss: 12.4294 - mae: 12.4294\n",
            "Epoch 26/100\n",
            "1/1 [==============================] - 0s 10ms/step - loss: 12.3939 - mae: 12.3939\n",
            "Epoch 27/100\n",
            "1/1 [==============================] - 0s 15ms/step - loss: 12.3584 - mae: 12.3584\n",
            "Epoch 28/100\n",
            "1/1 [==============================] - 0s 11ms/step - loss: 12.3230 - mae: 12.3230\n",
            "Epoch 29/100\n",
            "1/1 [==============================] - 0s 13ms/step - loss: 12.2877 - mae: 12.2877\n",
            "Epoch 30/100\n",
            "1/1 [==============================] - 0s 12ms/step - loss: 12.2525 - mae: 12.2525\n",
            "Epoch 31/100\n",
            "1/1 [==============================] - 0s 13ms/step - loss: 12.2173 - mae: 12.2173\n",
            "Epoch 32/100\n",
            "1/1 [==============================] - 0s 13ms/step - loss: 12.1824 - mae: 12.1824\n",
            "Epoch 33/100\n",
            "1/1 [==============================] - 0s 10ms/step - loss: 12.1492 - mae: 12.1492\n",
            "Epoch 34/100\n",
            "1/1 [==============================] - 0s 10ms/step - loss: 12.1160 - mae: 12.1160\n",
            "Epoch 35/100\n",
            "1/1 [==============================] - 0s 12ms/step - loss: 12.0825 - mae: 12.0825\n",
            "Epoch 36/100\n",
            "1/1 [==============================] - 0s 42ms/step - loss: 12.0484 - mae: 12.0484\n",
            "Epoch 37/100\n",
            "1/1 [==============================] - 0s 11ms/step - loss: 12.0138 - mae: 12.0138\n",
            "Epoch 38/100\n",
            "1/1 [==============================] - 0s 8ms/step - loss: 11.9790 - mae: 11.9790\n",
            "Epoch 39/100\n",
            "1/1 [==============================] - 0s 8ms/step - loss: 11.9445 - mae: 11.9445\n",
            "Epoch 40/100\n",
            "1/1 [==============================] - 0s 11ms/step - loss: 11.9099 - mae: 11.9099\n",
            "Epoch 41/100\n",
            "1/1 [==============================] - 0s 16ms/step - loss: 11.8751 - mae: 11.8751\n",
            "Epoch 42/100\n",
            "1/1 [==============================] - 0s 22ms/step - loss: 11.8399 - mae: 11.8399\n",
            "Epoch 43/100\n",
            "1/1 [==============================] - 0s 12ms/step - loss: 11.8046 - mae: 11.8046\n",
            "Epoch 44/100\n",
            "1/1 [==============================] - 0s 9ms/step - loss: 11.7693 - mae: 11.7693\n",
            "Epoch 45/100\n",
            "1/1 [==============================] - 0s 9ms/step - loss: 11.7342 - mae: 11.7342\n",
            "Epoch 46/100\n",
            "1/1 [==============================] - 0s 9ms/step - loss: 11.6988 - mae: 11.6988\n",
            "Epoch 47/100\n",
            "1/1 [==============================] - 0s 10ms/step - loss: 11.6631 - mae: 11.6631\n",
            "Epoch 48/100\n",
            "1/1 [==============================] - 0s 21ms/step - loss: 11.6270 - mae: 11.6270\n",
            "Epoch 49/100\n",
            "1/1 [==============================] - 0s 13ms/step - loss: 11.5907 - mae: 11.5907\n",
            "Epoch 50/100\n",
            "1/1 [==============================] - 0s 19ms/step - loss: 11.5541 - mae: 11.5541\n",
            "Epoch 51/100\n",
            "1/1 [==============================] - 0s 12ms/step - loss: 11.5171 - mae: 11.5171\n",
            "Epoch 52/100\n",
            "1/1 [==============================] - 0s 14ms/step - loss: 11.4797 - mae: 11.4797\n",
            "Epoch 53/100\n",
            "1/1 [==============================] - 0s 17ms/step - loss: 11.4417 - mae: 11.4417\n",
            "Epoch 54/100\n",
            "1/1 [==============================] - 0s 18ms/step - loss: 11.4034 - mae: 11.4034\n",
            "Epoch 55/100\n",
            "1/1 [==============================] - 0s 11ms/step - loss: 11.3647 - mae: 11.3647\n",
            "Epoch 56/100\n",
            "1/1 [==============================] - 0s 16ms/step - loss: 11.3254 - mae: 11.3254\n",
            "Epoch 57/100\n",
            "1/1 [==============================] - 0s 17ms/step - loss: 11.2855 - mae: 11.2855\n",
            "Epoch 58/100\n",
            "1/1 [==============================] - 0s 13ms/step - loss: 11.2452 - mae: 11.2452\n",
            "Epoch 59/100\n",
            "1/1 [==============================] - 0s 21ms/step - loss: 11.2044 - mae: 11.2044\n",
            "Epoch 60/100\n",
            "1/1 [==============================] - 0s 13ms/step - loss: 11.1634 - mae: 11.1634\n",
            "Epoch 61/100\n",
            "1/1 [==============================] - 0s 17ms/step - loss: 11.1224 - mae: 11.1224\n",
            "Epoch 62/100\n",
            "1/1 [==============================] - 0s 17ms/step - loss: 11.0819 - mae: 11.0819\n",
            "Epoch 63/100\n",
            "1/1 [==============================] - 0s 24ms/step - loss: 11.0416 - mae: 11.0416\n",
            "Epoch 64/100\n",
            "1/1 [==============================] - 0s 12ms/step - loss: 11.0009 - mae: 11.0009\n",
            "Epoch 65/100\n",
            "1/1 [==============================] - 0s 10ms/step - loss: 10.9597 - mae: 10.9597\n",
            "Epoch 66/100\n",
            "1/1 [==============================] - 0s 30ms/step - loss: 10.9183 - mae: 10.9183\n",
            "Epoch 67/100\n",
            "1/1 [==============================] - 0s 11ms/step - loss: 10.8764 - mae: 10.8764\n",
            "Epoch 68/100\n",
            "1/1 [==============================] - 0s 16ms/step - loss: 10.8342 - mae: 10.8342\n",
            "Epoch 69/100\n",
            "1/1 [==============================] - 0s 19ms/step - loss: 10.7916 - mae: 10.7916\n",
            "Epoch 70/100\n",
            "1/1 [==============================] - 0s 11ms/step - loss: 10.7535 - mae: 10.7535\n",
            "Epoch 71/100\n",
            "1/1 [==============================] - 0s 16ms/step - loss: 10.7212 - mae: 10.7212\n",
            "Epoch 72/100\n",
            "1/1 [==============================] - 0s 21ms/step - loss: 10.6886 - mae: 10.6886\n",
            "Epoch 73/100\n",
            "1/1 [==============================] - 0s 12ms/step - loss: 10.6559 - mae: 10.6559\n",
            "Epoch 74/100\n",
            "1/1 [==============================] - 0s 10ms/step - loss: 10.6230 - mae: 10.6230\n",
            "Epoch 75/100\n",
            "1/1 [==============================] - 0s 10ms/step - loss: 10.5902 - mae: 10.5902\n",
            "Epoch 76/100\n",
            "1/1 [==============================] - 0s 26ms/step - loss: 10.5573 - mae: 10.5573\n",
            "Epoch 77/100\n",
            "1/1 [==============================] - 0s 26ms/step - loss: 10.5240 - mae: 10.5240\n",
            "Epoch 78/100\n",
            "1/1 [==============================] - 0s 9ms/step - loss: 10.4904 - mae: 10.4904\n",
            "Epoch 79/100\n",
            "1/1 [==============================] - 0s 11ms/step - loss: 10.4566 - mae: 10.4566\n",
            "Epoch 80/100\n",
            "1/1 [==============================] - 0s 15ms/step - loss: 10.4224 - mae: 10.4224\n",
            "Epoch 81/100\n",
            "1/1 [==============================] - 0s 12ms/step - loss: 10.3879 - mae: 10.3879\n",
            "Epoch 82/100\n",
            "1/1 [==============================] - 0s 12ms/step - loss: 10.3532 - mae: 10.3532\n",
            "Epoch 83/100\n",
            "1/1 [==============================] - 0s 10ms/step - loss: 10.3181 - mae: 10.3181\n",
            "Epoch 84/100\n",
            "1/1 [==============================] - 0s 9ms/step - loss: 10.2829 - mae: 10.2829\n",
            "Epoch 85/100\n",
            "1/1 [==============================] - 0s 10ms/step - loss: 10.2476 - mae: 10.2476\n",
            "Epoch 86/100\n",
            "1/1 [==============================] - 0s 9ms/step - loss: 10.2127 - mae: 10.2127\n",
            "Epoch 87/100\n",
            "1/1 [==============================] - 0s 10ms/step - loss: 10.1774 - mae: 10.1774\n",
            "Epoch 88/100\n",
            "1/1 [==============================] - 0s 8ms/step - loss: 10.1418 - mae: 10.1418\n",
            "Epoch 89/100\n",
            "1/1 [==============================] - 0s 11ms/step - loss: 10.1061 - mae: 10.1061\n",
            "Epoch 90/100\n",
            "1/1 [==============================] - 0s 16ms/step - loss: 10.0701 - mae: 10.0701\n",
            "Epoch 91/100\n",
            "1/1 [==============================] - 0s 11ms/step - loss: 10.0338 - mae: 10.0338\n",
            "Epoch 92/100\n",
            "1/1 [==============================] - 0s 12ms/step - loss: 9.9971 - mae: 9.9971\n",
            "Epoch 93/100\n",
            "1/1 [==============================] - 0s 27ms/step - loss: 9.9601 - mae: 9.9601\n",
            "Epoch 94/100\n",
            "1/1 [==============================] - 0s 10ms/step - loss: 9.9228 - mae: 9.9228\n",
            "Epoch 95/100\n",
            "1/1 [==============================] - 0s 13ms/step - loss: 9.8851 - mae: 9.8851\n",
            "Epoch 96/100\n",
            "1/1 [==============================] - 0s 10ms/step - loss: 9.8470 - mae: 9.8470\n",
            "Epoch 97/100\n",
            "1/1 [==============================] - 0s 9ms/step - loss: 9.8087 - mae: 9.8087\n",
            "Epoch 98/100\n",
            "1/1 [==============================] - 0s 10ms/step - loss: 9.7699 - mae: 9.7699\n",
            "Epoch 99/100\n",
            "1/1 [==============================] - 0s 9ms/step - loss: 9.7309 - mae: 9.7309\n",
            "Epoch 100/100\n",
            "1/1 [==============================] - 0s 15ms/step - loss: 9.6916 - mae: 9.6916\n"
          ]
        },
        {
          "output_type": "execute_result",
          "data": {
            "text/plain": [
              "<keras.callbacks.History at 0x7f71a0212f50>"
            ]
          },
          "metadata": {},
          "execution_count": 13
        }
      ]
    },
    {
      "cell_type": "code",
      "source": [
        "y_pred = model.predict([17.0])\n",
        "y_pred"
      ],
      "metadata": {
        "colab": {
          "base_uri": "https://localhost:8080/"
        },
        "id": "-bVx7VKOEaOg",
        "outputId": "9ee54e95-c296-4993-c0a5-166baf0a919b"
      },
      "execution_count": 14,
      "outputs": [
        {
          "output_type": "stream",
          "name": "stdout",
          "text": [
            "1/1 [==============================] - 0s 283ms/step\n"
          ]
        },
        {
          "output_type": "execute_result",
          "data": {
            "text/plain": [
              "array([[10.712205]], dtype=float32)"
            ]
          },
          "metadata": {},
          "execution_count": 14
        }
      ]
    },
    {
      "cell_type": "code",
      "source": [
        "#Create a model using Sequential API\n",
        "model = tf.keras.Sequential([\n",
        "    tf.keras.layers.Dense(50,activation = \"relu\"),\n",
        "    tf.keras.layers.Dense(1)\n",
        "])\n",
        "model.compile(loss = tf.keras.losses.mae, optimizer = tf.keras.optimizers.SGD(),metrics = ['mae'])\n",
        "model.fit(tf.expand_dims(X,axis = 1),y,epochs = 100) "
      ],
      "metadata": {
        "colab": {
          "base_uri": "https://localhost:8080/"
        },
        "id": "6mxbekBmWCMZ",
        "outputId": "238aaf1a-6864-48a1-bc56-5fe75a323674"
      },
      "execution_count": 15,
      "outputs": [
        {
          "output_type": "stream",
          "name": "stdout",
          "text": [
            "Epoch 1/100\n",
            "1/1 [==============================] - 1s 605ms/step - loss: 12.1456 - mae: 12.1456\n",
            "Epoch 2/100\n",
            "1/1 [==============================] - 0s 23ms/step - loss: 11.5538 - mae: 11.5538\n",
            "Epoch 3/100\n",
            "1/1 [==============================] - 0s 30ms/step - loss: 10.9405 - mae: 10.9405\n",
            "Epoch 4/100\n",
            "1/1 [==============================] - 0s 11ms/step - loss: 10.3009 - mae: 10.3009\n",
            "Epoch 5/100\n",
            "1/1 [==============================] - 0s 17ms/step - loss: 9.6325 - mae: 9.6325\n",
            "Epoch 6/100\n",
            "1/1 [==============================] - 0s 12ms/step - loss: 8.9314 - mae: 8.9314\n",
            "Epoch 7/100\n",
            "1/1 [==============================] - 0s 20ms/step - loss: 8.1937 - mae: 8.1937\n",
            "Epoch 8/100\n",
            "1/1 [==============================] - 0s 11ms/step - loss: 7.3997 - mae: 7.3997\n",
            "Epoch 9/100\n",
            "1/1 [==============================] - 0s 12ms/step - loss: 6.5612 - mae: 6.5612\n",
            "Epoch 10/100\n",
            "1/1 [==============================] - 0s 9ms/step - loss: 5.6630 - mae: 5.6630\n",
            "Epoch 11/100\n",
            "1/1 [==============================] - 0s 10ms/step - loss: 4.6956 - mae: 4.6956\n",
            "Epoch 12/100\n",
            "1/1 [==============================] - 0s 9ms/step - loss: 4.2610 - mae: 4.2610\n",
            "Epoch 13/100\n",
            "1/1 [==============================] - 0s 11ms/step - loss: 4.2586 - mae: 4.2586\n",
            "Epoch 14/100\n",
            "1/1 [==============================] - 0s 22ms/step - loss: 4.1631 - mae: 4.1631\n",
            "Epoch 15/100\n",
            "1/1 [==============================] - 0s 10ms/step - loss: 4.1946 - mae: 4.1946\n",
            "Epoch 16/100\n",
            "1/1 [==============================] - 0s 9ms/step - loss: 4.0891 - mae: 4.0891\n",
            "Epoch 17/100\n",
            "1/1 [==============================] - 0s 9ms/step - loss: 4.1034 - mae: 4.1034\n",
            "Epoch 18/100\n",
            "1/1 [==============================] - 0s 11ms/step - loss: 4.0234 - mae: 4.0234\n",
            "Epoch 19/100\n",
            "1/1 [==============================] - 0s 9ms/step - loss: 4.0029 - mae: 4.0029\n",
            "Epoch 20/100\n",
            "1/1 [==============================] - 0s 12ms/step - loss: 3.9563 - mae: 3.9563\n",
            "Epoch 21/100\n",
            "1/1 [==============================] - 0s 13ms/step - loss: 3.9147 - mae: 3.9147\n",
            "Epoch 22/100\n",
            "1/1 [==============================] - 0s 24ms/step - loss: 3.9407 - mae: 3.9407\n",
            "Epoch 23/100\n",
            "1/1 [==============================] - 0s 7ms/step - loss: 3.8891 - mae: 3.8891\n",
            "Epoch 24/100\n",
            "1/1 [==============================] - 0s 7ms/step - loss: 3.9518 - mae: 3.9518\n",
            "Epoch 25/100\n",
            "1/1 [==============================] - 0s 6ms/step - loss: 3.8861 - mae: 3.8861\n",
            "Epoch 26/100\n",
            "1/1 [==============================] - 0s 7ms/step - loss: 3.9452 - mae: 3.9452\n",
            "Epoch 27/100\n",
            "1/1 [==============================] - 0s 7ms/step - loss: 3.8940 - mae: 3.8940\n",
            "Epoch 28/100\n",
            "1/1 [==============================] - 0s 10ms/step - loss: 3.9197 - mae: 3.9197\n",
            "Epoch 29/100\n",
            "1/1 [==============================] - 0s 12ms/step - loss: 3.9021 - mae: 3.9021\n",
            "Epoch 30/100\n",
            "1/1 [==============================] - 0s 11ms/step - loss: 3.8941 - mae: 3.8941\n",
            "Epoch 31/100\n",
            "1/1 [==============================] - 0s 21ms/step - loss: 3.9102 - mae: 3.9102\n",
            "Epoch 32/100\n",
            "1/1 [==============================] - 0s 20ms/step - loss: 3.8686 - mae: 3.8686\n",
            "Epoch 33/100\n",
            "1/1 [==============================] - 0s 10ms/step - loss: 3.9247 - mae: 3.9247\n",
            "Epoch 34/100\n",
            "1/1 [==============================] - 0s 9ms/step - loss: 3.8562 - mae: 3.8562\n",
            "Epoch 35/100\n",
            "1/1 [==============================] - 0s 7ms/step - loss: 3.9239 - mae: 3.9239\n",
            "Epoch 36/100\n",
            "1/1 [==============================] - 0s 8ms/step - loss: 3.8643 - mae: 3.8643\n",
            "Epoch 37/100\n",
            "1/1 [==============================] - 0s 25ms/step - loss: 3.8982 - mae: 3.8982\n",
            "Epoch 38/100\n",
            "1/1 [==============================] - 0s 17ms/step - loss: 3.8725 - mae: 3.8725\n",
            "Epoch 39/100\n",
            "1/1 [==============================] - 0s 12ms/step - loss: 3.8723 - mae: 3.8723\n",
            "Epoch 40/100\n",
            "1/1 [==============================] - 0s 12ms/step - loss: 3.8809 - mae: 3.8809\n",
            "Epoch 41/100\n",
            "1/1 [==============================] - 0s 18ms/step - loss: 3.8492 - mae: 3.8492\n",
            "Epoch 42/100\n",
            "1/1 [==============================] - 0s 17ms/step - loss: 3.8956 - mae: 3.8956\n",
            "Epoch 43/100\n",
            "1/1 [==============================] - 0s 16ms/step - loss: 3.8274 - mae: 3.8274\n",
            "Epoch 44/100\n",
            "1/1 [==============================] - 0s 21ms/step - loss: 3.9013 - mae: 3.9013\n",
            "Epoch 45/100\n",
            "1/1 [==============================] - 0s 16ms/step - loss: 3.8357 - mae: 3.8357\n",
            "Epoch 46/100\n",
            "1/1 [==============================] - 0s 12ms/step - loss: 3.8753 - mae: 3.8753\n",
            "Epoch 47/100\n",
            "1/1 [==============================] - 0s 25ms/step - loss: 3.8442 - mae: 3.8442\n",
            "Epoch 48/100\n",
            "1/1 [==============================] - 0s 17ms/step - loss: 3.8492 - mae: 3.8492\n",
            "Epoch 49/100\n",
            "1/1 [==============================] - 0s 9ms/step - loss: 3.8527 - mae: 3.8527\n",
            "Epoch 50/100\n",
            "1/1 [==============================] - 0s 13ms/step - loss: 3.8283 - mae: 3.8283\n",
            "Epoch 51/100\n",
            "1/1 [==============================] - 0s 21ms/step - loss: 3.8675 - mae: 3.8675\n",
            "Epoch 52/100\n",
            "1/1 [==============================] - 0s 9ms/step - loss: 3.8019 - mae: 3.8019\n",
            "Epoch 53/100\n",
            "1/1 [==============================] - 0s 7ms/step - loss: 3.8763 - mae: 3.8763\n",
            "Epoch 54/100\n",
            "1/1 [==============================] - 0s 7ms/step - loss: 3.8082 - mae: 3.8082\n",
            "Epoch 55/100\n",
            "1/1 [==============================] - 0s 8ms/step - loss: 3.8512 - mae: 3.8512\n",
            "Epoch 56/100\n",
            "1/1 [==============================] - 0s 10ms/step - loss: 3.8169 - mae: 3.8169\n",
            "Epoch 57/100\n",
            "1/1 [==============================] - 0s 8ms/step - loss: 3.8248 - mae: 3.8248\n",
            "Epoch 58/100\n",
            "1/1 [==============================] - 0s 9ms/step - loss: 3.8273 - mae: 3.8273\n",
            "Epoch 59/100\n",
            "1/1 [==============================] - 0s 9ms/step - loss: 3.8037 - mae: 3.8037\n",
            "Epoch 60/100\n",
            "1/1 [==============================] - 0s 8ms/step - loss: 3.8406 - mae: 3.8406\n",
            "Epoch 61/100\n",
            "1/1 [==============================] - 0s 8ms/step - loss: 3.7769 - mae: 3.7769\n",
            "Epoch 62/100\n",
            "1/1 [==============================] - 0s 7ms/step - loss: 3.8496 - mae: 3.8496\n",
            "Epoch 63/100\n",
            "1/1 [==============================] - 0s 8ms/step - loss: 3.7818 - mae: 3.7818\n",
            "Epoch 64/100\n",
            "1/1 [==============================] - 0s 8ms/step - loss: 3.8258 - mae: 3.8258\n",
            "Epoch 65/100\n",
            "1/1 [==============================] - 0s 11ms/step - loss: 3.7907 - mae: 3.7907\n",
            "Epoch 66/100\n",
            "1/1 [==============================] - 0s 8ms/step - loss: 3.7991 - mae: 3.7991\n",
            "Epoch 67/100\n",
            "1/1 [==============================] - 0s 9ms/step - loss: 3.8035 - mae: 3.8035\n",
            "Epoch 68/100\n",
            "1/1 [==============================] - 0s 10ms/step - loss: 3.7776 - mae: 3.7776\n",
            "Epoch 69/100\n",
            "1/1 [==============================] - 0s 9ms/step - loss: 3.8148 - mae: 3.8148\n",
            "Epoch 70/100\n",
            "1/1 [==============================] - 0s 9ms/step - loss: 3.7505 - mae: 3.7505\n",
            "Epoch 71/100\n",
            "1/1 [==============================] - 0s 10ms/step - loss: 3.8240 - mae: 3.8240\n",
            "Epoch 72/100\n",
            "1/1 [==============================] - 0s 31ms/step - loss: 3.7565 - mae: 3.7565\n",
            "Epoch 73/100\n",
            "1/1 [==============================] - 0s 15ms/step - loss: 3.7991 - mae: 3.7991\n",
            "Epoch 74/100\n",
            "1/1 [==============================] - 0s 14ms/step - loss: 3.7655 - mae: 3.7655\n",
            "Epoch 75/100\n",
            "1/1 [==============================] - 0s 14ms/step - loss: 3.7726 - mae: 3.7726\n",
            "Epoch 76/100\n",
            "1/1 [==============================] - 0s 15ms/step - loss: 3.7807 - mae: 3.7807\n",
            "Epoch 77/100\n",
            "1/1 [==============================] - 0s 16ms/step - loss: 3.7503 - mae: 3.7503\n",
            "Epoch 78/100\n",
            "1/1 [==============================] - 0s 15ms/step - loss: 3.7900 - mae: 3.7900\n",
            "Epoch 79/100\n",
            "1/1 [==============================] - 0s 8ms/step - loss: 3.7231 - mae: 3.7231\n",
            "Epoch 80/100\n",
            "1/1 [==============================] - 0s 10ms/step - loss: 3.7983 - mae: 3.7983\n",
            "Epoch 81/100\n",
            "1/1 [==============================] - 0s 8ms/step - loss: 3.7322 - mae: 3.7322\n",
            "Epoch 82/100\n",
            "1/1 [==============================] - 0s 9ms/step - loss: 3.7711 - mae: 3.7711\n",
            "Epoch 83/100\n",
            "1/1 [==============================] - 0s 17ms/step - loss: 3.7414 - mae: 3.7414\n",
            "Epoch 84/100\n",
            "1/1 [==============================] - 0s 10ms/step - loss: 3.7462 - mae: 3.7462\n",
            "Epoch 85/100\n",
            "1/1 [==============================] - 0s 14ms/step - loss: 3.7568 - mae: 3.7568\n",
            "Epoch 86/100\n",
            "1/1 [==============================] - 0s 8ms/step - loss: 3.7216 - mae: 3.7216\n",
            "Epoch 87/100\n",
            "1/1 [==============================] - 0s 10ms/step - loss: 3.7663 - mae: 3.7663\n",
            "Epoch 88/100\n",
            "1/1 [==============================] - 0s 11ms/step - loss: 3.6996 - mae: 3.6996\n",
            "Epoch 89/100\n",
            "1/1 [==============================] - 0s 9ms/step - loss: 3.7692 - mae: 3.7692\n",
            "Epoch 90/100\n",
            "1/1 [==============================] - 0s 9ms/step - loss: 3.7089 - mae: 3.7089\n",
            "Epoch 91/100\n",
            "1/1 [==============================] - 0s 13ms/step - loss: 3.7418 - mae: 3.7418\n",
            "Epoch 92/100\n",
            "1/1 [==============================] - 0s 9ms/step - loss: 3.7184 - mae: 3.7184\n",
            "Epoch 93/100\n",
            "1/1 [==============================] - 0s 9ms/step - loss: 3.7183 - mae: 3.7183\n",
            "Epoch 94/100\n",
            "1/1 [==============================] - 0s 15ms/step - loss: 3.7339 - mae: 3.7339\n",
            "Epoch 95/100\n",
            "1/1 [==============================] - 0s 10ms/step - loss: 3.6916 - mae: 3.6916\n",
            "Epoch 96/100\n",
            "1/1 [==============================] - 0s 10ms/step - loss: 3.7436 - mae: 3.7436\n",
            "Epoch 97/100\n",
            "1/1 [==============================] - 0s 9ms/step - loss: 3.6771 - mae: 3.6771\n",
            "Epoch 98/100\n",
            "1/1 [==============================] - 0s 17ms/step - loss: 3.7389 - mae: 3.7389\n",
            "Epoch 99/100\n",
            "1/1 [==============================] - 0s 6ms/step - loss: 3.6866 - mae: 3.6866\n",
            "Epoch 100/100\n",
            "1/1 [==============================] - 0s 21ms/step - loss: 3.7111 - mae: 3.7111\n"
          ]
        },
        {
          "output_type": "execute_result",
          "data": {
            "text/plain": [
              "<keras.callbacks.History at 0x7f71a03bc6d0>"
            ]
          },
          "metadata": {},
          "execution_count": 15
        }
      ]
    },
    {
      "cell_type": "code",
      "source": [
        "model.predict([17.0])"
      ],
      "metadata": {
        "colab": {
          "base_uri": "https://localhost:8080/"
        },
        "id": "pGCwUq6LXux6",
        "outputId": "011b54d2-a23e-477c-aa88-ae89ef3f5480"
      },
      "execution_count": 16,
      "outputs": [
        {
          "output_type": "stream",
          "name": "stdout",
          "text": [
            "1/1 [==============================] - 0s 266ms/step\n"
          ]
        },
        {
          "output_type": "execute_result",
          "data": {
            "text/plain": [
              "array([[32.45491]], dtype=float32)"
            ]
          },
          "metadata": {},
          "execution_count": 16
        }
      ]
    },
    {
      "cell_type": "code",
      "source": [
        "model = tf.keras.Sequential([\n",
        "    tf.keras.layers.Dense(50,activation = None),\n",
        "    tf.keras.layers.Dense(1)\n",
        "])\n",
        "model.compile(loss = tf.keras.losses.mae,optimizer = tf.keras.optimizers.Adam(lr = 0.01),metrics = 'mae')\n",
        "model.fit(tf.expand_dims(X,axis = 1),y,epochs = 100)"
      ],
      "metadata": {
        "colab": {
          "base_uri": "https://localhost:8080/"
        },
        "id": "gEG-g-ipXxTf",
        "outputId": "0b9f9b48-2831-445b-89b1-9aafc7df00df"
      },
      "execution_count": 17,
      "outputs": [
        {
          "output_type": "stream",
          "name": "stdout",
          "text": [
            "Epoch 1/100\n",
            "1/1 [==============================] - 1s 750ms/step - loss: 12.5419 - mae: 12.5419\n",
            "Epoch 2/100\n",
            "1/1 [==============================] - 0s 16ms/step - loss: 11.8482 - mae: 11.8482\n",
            "Epoch 3/100\n",
            "1/1 [==============================] - 0s 11ms/step - loss: 11.1529 - mae: 11.1529\n",
            "Epoch 4/100\n",
            "1/1 [==============================] - 0s 7ms/step - loss: 10.4547 - mae: 10.4547\n",
            "Epoch 5/100\n",
            "1/1 [==============================] - 0s 8ms/step - loss: 9.7511 - mae: 9.7511\n",
            "Epoch 6/100\n",
            "1/1 [==============================] - 0s 16ms/step - loss: 9.0391 - mae: 9.0391\n",
            "Epoch 7/100\n",
            "1/1 [==============================] - 0s 25ms/step - loss: 8.3156 - mae: 8.3156\n",
            "Epoch 8/100\n",
            "1/1 [==============================] - 0s 9ms/step - loss: 7.5774 - mae: 7.5774\n",
            "Epoch 9/100\n",
            "1/1 [==============================] - 0s 8ms/step - loss: 6.9147 - mae: 6.9147\n",
            "Epoch 10/100\n",
            "1/1 [==============================] - 0s 8ms/step - loss: 6.9004 - mae: 6.9004\n",
            "Epoch 11/100\n",
            "1/1 [==============================] - 0s 8ms/step - loss: 7.1699 - mae: 7.1699\n",
            "Epoch 12/100\n",
            "1/1 [==============================] - 0s 8ms/step - loss: 7.3235 - mae: 7.3235\n",
            "Epoch 13/100\n",
            "1/1 [==============================] - 0s 10ms/step - loss: 7.3803 - mae: 7.3803\n",
            "Epoch 14/100\n",
            "1/1 [==============================] - 0s 9ms/step - loss: 7.3573 - mae: 7.3573\n",
            "Epoch 15/100\n",
            "1/1 [==============================] - 0s 16ms/step - loss: 7.2281 - mae: 7.2281\n",
            "Epoch 16/100\n",
            "1/1 [==============================] - 0s 7ms/step - loss: 7.0552 - mae: 7.0552\n",
            "Epoch 17/100\n",
            "1/1 [==============================] - 0s 9ms/step - loss: 6.8469 - mae: 6.8469\n",
            "Epoch 18/100\n",
            "1/1 [==============================] - 0s 8ms/step - loss: 6.6106 - mae: 6.6106\n",
            "Epoch 19/100\n",
            "1/1 [==============================] - 0s 10ms/step - loss: 6.3524 - mae: 6.3524\n",
            "Epoch 20/100\n",
            "1/1 [==============================] - 0s 13ms/step - loss: 6.2389 - mae: 6.2389\n",
            "Epoch 21/100\n",
            "1/1 [==============================] - 0s 11ms/step - loss: 6.1921 - mae: 6.1921\n",
            "Epoch 22/100\n",
            "1/1 [==============================] - 0s 8ms/step - loss: 6.2627 - mae: 6.2627\n",
            "Epoch 23/100\n",
            "1/1 [==============================] - 0s 11ms/step - loss: 6.3081 - mae: 6.3081\n",
            "Epoch 24/100\n",
            "1/1 [==============================] - 0s 10ms/step - loss: 6.2463 - mae: 6.2463\n",
            "Epoch 25/100\n",
            "1/1 [==============================] - 0s 24ms/step - loss: 6.0915 - mae: 6.0915\n",
            "Epoch 26/100\n",
            "1/1 [==============================] - 0s 15ms/step - loss: 5.8537 - mae: 5.8537\n",
            "Epoch 27/100\n",
            "1/1 [==============================] - 0s 11ms/step - loss: 5.7249 - mae: 5.7249\n",
            "Epoch 28/100\n",
            "1/1 [==============================] - 0s 9ms/step - loss: 5.6191 - mae: 5.6191\n",
            "Epoch 29/100\n",
            "1/1 [==============================] - 0s 15ms/step - loss: 5.5762 - mae: 5.5762\n",
            "Epoch 30/100\n",
            "1/1 [==============================] - 0s 7ms/step - loss: 5.5763 - mae: 5.5763\n",
            "Epoch 31/100\n",
            "1/1 [==============================] - 0s 9ms/step - loss: 5.5271 - mae: 5.5271\n",
            "Epoch 32/100\n",
            "1/1 [==============================] - 0s 9ms/step - loss: 5.4323 - mae: 5.4323\n",
            "Epoch 33/100\n",
            "1/1 [==============================] - 0s 8ms/step - loss: 5.2957 - mae: 5.2957\n",
            "Epoch 34/100\n",
            "1/1 [==============================] - 0s 9ms/step - loss: 5.1208 - mae: 5.1208\n",
            "Epoch 35/100\n",
            "1/1 [==============================] - 0s 8ms/step - loss: 4.9317 - mae: 4.9317\n",
            "Epoch 36/100\n",
            "1/1 [==============================] - 0s 8ms/step - loss: 4.8349 - mae: 4.8349\n",
            "Epoch 37/100\n",
            "1/1 [==============================] - 0s 9ms/step - loss: 4.7305 - mae: 4.7305\n",
            "Epoch 38/100\n",
            "1/1 [==============================] - 0s 11ms/step - loss: 4.6183 - mae: 4.6183\n",
            "Epoch 39/100\n",
            "1/1 [==============================] - 0s 7ms/step - loss: 4.5151 - mae: 4.5151\n",
            "Epoch 40/100\n",
            "1/1 [==============================] - 0s 12ms/step - loss: 4.3605 - mae: 4.3605\n",
            "Epoch 41/100\n",
            "1/1 [==============================] - 0s 9ms/step - loss: 4.2152 - mae: 4.2152\n",
            "Epoch 42/100\n",
            "1/1 [==============================] - 0s 12ms/step - loss: 4.0621 - mae: 4.0621\n",
            "Epoch 43/100\n",
            "1/1 [==============================] - 0s 8ms/step - loss: 3.9008 - mae: 3.9008\n",
            "Epoch 44/100\n",
            "1/1 [==============================] - 0s 8ms/step - loss: 3.7310 - mae: 3.7310\n",
            "Epoch 45/100\n",
            "1/1 [==============================] - 0s 12ms/step - loss: 3.5526 - mae: 3.5526\n",
            "Epoch 46/100\n",
            "1/1 [==============================] - 0s 10ms/step - loss: 3.4089 - mae: 3.4089\n",
            "Epoch 47/100\n",
            "1/1 [==============================] - 0s 8ms/step - loss: 3.2256 - mae: 3.2256\n",
            "Epoch 48/100\n",
            "1/1 [==============================] - 0s 10ms/step - loss: 2.9968 - mae: 2.9968\n",
            "Epoch 49/100\n",
            "1/1 [==============================] - 0s 8ms/step - loss: 2.8021 - mae: 2.8021\n",
            "Epoch 50/100\n",
            "1/1 [==============================] - 0s 13ms/step - loss: 2.5959 - mae: 2.5959\n",
            "Epoch 51/100\n",
            "1/1 [==============================] - 0s 6ms/step - loss: 2.3780 - mae: 2.3780\n",
            "Epoch 52/100\n",
            "1/1 [==============================] - 0s 7ms/step - loss: 2.1483 - mae: 2.1483\n",
            "Epoch 53/100\n",
            "1/1 [==============================] - 0s 12ms/step - loss: 1.9120 - mae: 1.9120\n",
            "Epoch 54/100\n",
            "1/1 [==============================] - 0s 16ms/step - loss: 1.6413 - mae: 1.6413\n",
            "Epoch 55/100\n",
            "1/1 [==============================] - 0s 8ms/step - loss: 1.5063 - mae: 1.5063\n",
            "Epoch 56/100\n",
            "1/1 [==============================] - 0s 11ms/step - loss: 1.3078 - mae: 1.3078\n",
            "Epoch 57/100\n",
            "1/1 [==============================] - 0s 8ms/step - loss: 0.8984 - mae: 0.8984\n",
            "Epoch 58/100\n",
            "1/1 [==============================] - 0s 7ms/step - loss: 0.6735 - mae: 0.6735\n",
            "Epoch 59/100\n",
            "1/1 [==============================] - 0s 8ms/step - loss: 0.4490 - mae: 0.4490\n",
            "Epoch 60/100\n",
            "1/1 [==============================] - 0s 10ms/step - loss: 0.1118 - mae: 0.1118\n",
            "Epoch 61/100\n",
            "1/1 [==============================] - 0s 9ms/step - loss: 0.6302 - mae: 0.6302\n",
            "Epoch 62/100\n",
            "1/1 [==============================] - 0s 10ms/step - loss: 0.9813 - mae: 0.9813\n",
            "Epoch 63/100\n",
            "1/1 [==============================] - 0s 8ms/step - loss: 1.0661 - mae: 1.0661\n",
            "Epoch 64/100\n",
            "1/1 [==============================] - 0s 8ms/step - loss: 0.9175 - mae: 0.9175\n",
            "Epoch 65/100\n",
            "1/1 [==============================] - 0s 10ms/step - loss: 0.7160 - mae: 0.7160\n",
            "Epoch 66/100\n",
            "1/1 [==============================] - 0s 8ms/step - loss: 0.9166 - mae: 0.9166\n",
            "Epoch 67/100\n",
            "1/1 [==============================] - 0s 8ms/step - loss: 0.8695 - mae: 0.8695\n",
            "Epoch 68/100\n",
            "1/1 [==============================] - 0s 14ms/step - loss: 0.5910 - mae: 0.5910\n",
            "Epoch 69/100\n",
            "1/1 [==============================] - 0s 30ms/step - loss: 0.5656 - mae: 0.5656\n",
            "Epoch 70/100\n",
            "1/1 [==============================] - 0s 13ms/step - loss: 0.5140 - mae: 0.5140\n",
            "Epoch 71/100\n",
            "1/1 [==============================] - 0s 11ms/step - loss: 0.2767 - mae: 0.2767\n",
            "Epoch 72/100\n",
            "1/1 [==============================] - 0s 11ms/step - loss: 0.1738 - mae: 0.1738\n",
            "Epoch 73/100\n",
            "1/1 [==============================] - 0s 12ms/step - loss: 0.2283 - mae: 0.2283\n",
            "Epoch 74/100\n",
            "1/1 [==============================] - 0s 24ms/step - loss: 0.3036 - mae: 0.3036\n",
            "Epoch 75/100\n",
            "1/1 [==============================] - 0s 12ms/step - loss: 0.3438 - mae: 0.3438\n",
            "Epoch 76/100\n",
            "1/1 [==============================] - 0s 17ms/step - loss: 0.4089 - mae: 0.4089\n",
            "Epoch 77/100\n",
            "1/1 [==============================] - 0s 11ms/step - loss: 0.4105 - mae: 0.4105\n",
            "Epoch 78/100\n",
            "1/1 [==============================] - 0s 12ms/step - loss: 0.3072 - mae: 0.3072\n",
            "Epoch 79/100\n",
            "1/1 [==============================] - 0s 18ms/step - loss: 0.2806 - mae: 0.2806\n",
            "Epoch 80/100\n",
            "1/1 [==============================] - 0s 9ms/step - loss: 0.1903 - mae: 0.1903\n",
            "Epoch 81/100\n",
            "1/1 [==============================] - 0s 23ms/step - loss: 0.0598 - mae: 0.0598\n",
            "Epoch 82/100\n",
            "1/1 [==============================] - 0s 16ms/step - loss: 0.2450 - mae: 0.2450\n",
            "Epoch 83/100\n",
            "1/1 [==============================] - 0s 15ms/step - loss: 0.2756 - mae: 0.2756\n",
            "Epoch 84/100\n",
            "1/1 [==============================] - 0s 18ms/step - loss: 0.2594 - mae: 0.2594\n",
            "Epoch 85/100\n",
            "1/1 [==============================] - 0s 21ms/step - loss: 0.2853 - mae: 0.2853\n",
            "Epoch 86/100\n",
            "1/1 [==============================] - 0s 17ms/step - loss: 0.3076 - mae: 0.3076\n",
            "Epoch 87/100\n",
            "1/1 [==============================] - 0s 14ms/step - loss: 0.2657 - mae: 0.2657\n",
            "Epoch 88/100\n",
            "1/1 [==============================] - 0s 8ms/step - loss: 0.1947 - mae: 0.1947\n",
            "Epoch 89/100\n",
            "1/1 [==============================] - 0s 14ms/step - loss: 0.1061 - mae: 0.1061\n",
            "Epoch 90/100\n",
            "1/1 [==============================] - 0s 17ms/step - loss: 0.2570 - mae: 0.2570\n",
            "Epoch 91/100\n",
            "1/1 [==============================] - 0s 16ms/step - loss: 0.2568 - mae: 0.2568\n",
            "Epoch 92/100\n",
            "1/1 [==============================] - 0s 16ms/step - loss: 0.2211 - mae: 0.2211\n",
            "Epoch 93/100\n",
            "1/1 [==============================] - 0s 14ms/step - loss: 0.2879 - mae: 0.2879\n",
            "Epoch 94/100\n",
            "1/1 [==============================] - 0s 14ms/step - loss: 0.1996 - mae: 0.1996\n",
            "Epoch 95/100\n",
            "1/1 [==============================] - 0s 11ms/step - loss: 0.2713 - mae: 0.2713\n",
            "Epoch 96/100\n",
            "1/1 [==============================] - 0s 13ms/step - loss: 0.2325 - mae: 0.2325\n",
            "Epoch 97/100\n",
            "1/1 [==============================] - 0s 9ms/step - loss: 0.0982 - mae: 0.0982\n",
            "Epoch 98/100\n",
            "1/1 [==============================] - 0s 10ms/step - loss: 0.0978 - mae: 0.0978\n",
            "Epoch 99/100\n",
            "1/1 [==============================] - 0s 9ms/step - loss: 0.2181 - mae: 0.2181\n",
            "Epoch 100/100\n",
            "1/1 [==============================] - 0s 19ms/step - loss: 0.2213 - mae: 0.2213\n"
          ]
        },
        {
          "output_type": "execute_result",
          "data": {
            "text/plain": [
              "<keras.callbacks.History at 0x7f71466369d0>"
            ]
          },
          "metadata": {},
          "execution_count": 17
        }
      ]
    },
    {
      "cell_type": "code",
      "source": [
        "model.predict([25.0])"
      ],
      "metadata": {
        "colab": {
          "base_uri": "https://localhost:8080/"
        },
        "id": "jXo6sry-ZUVz",
        "outputId": "6436a4d0-0800-4274-ab46-cb737ce034ab"
      },
      "execution_count": 18,
      "outputs": [
        {
          "output_type": "stream",
          "name": "stdout",
          "text": [
            "1/1 [==============================] - 0s 84ms/step\n"
          ]
        },
        {
          "output_type": "execute_result",
          "data": {
            "text/plain": [
              "array([[34.76519]], dtype=float32)"
            ]
          },
          "metadata": {},
          "execution_count": 18
        }
      ]
    },
    {
      "cell_type": "code",
      "source": [
        " X = tf.range(-100,100,4)"
      ],
      "metadata": {
        "id": "5mDYyDsQbNQ9"
      },
      "execution_count": 19,
      "outputs": []
    },
    {
      "cell_type": "code",
      "source": [
        "X"
      ],
      "metadata": {
        "colab": {
          "base_uri": "https://localhost:8080/"
        },
        "id": "M4wkOaURfUtc",
        "outputId": "0627b9eb-2102-4f49-ee7d-0829cd5af2ca"
      },
      "execution_count": 20,
      "outputs": [
        {
          "output_type": "execute_result",
          "data": {
            "text/plain": [
              "<tf.Tensor: shape=(50,), dtype=int32, numpy=\n",
              "array([-100,  -96,  -92,  -88,  -84,  -80,  -76,  -72,  -68,  -64,  -60,\n",
              "        -56,  -52,  -48,  -44,  -40,  -36,  -32,  -28,  -24,  -20,  -16,\n",
              "        -12,   -8,   -4,    0,    4,    8,   12,   16,   20,   24,   28,\n",
              "         32,   36,   40,   44,   48,   52,   56,   60,   64,   68,   72,\n",
              "         76,   80,   84,   88,   92,   96], dtype=int32)>"
            ]
          },
          "metadata": {},
          "execution_count": 20
        }
      ]
    },
    {
      "cell_type": "code",
      "source": [
        "y = X+10\n",
        "y"
      ],
      "metadata": {
        "colab": {
          "base_uri": "https://localhost:8080/"
        },
        "id": "1aRuhWcxfWAT",
        "outputId": "b049096d-c11c-4dae-f03e-eb96f37aeec4"
      },
      "execution_count": 21,
      "outputs": [
        {
          "output_type": "execute_result",
          "data": {
            "text/plain": [
              "<tf.Tensor: shape=(50,), dtype=int32, numpy=\n",
              "array([-90, -86, -82, -78, -74, -70, -66, -62, -58, -54, -50, -46, -42,\n",
              "       -38, -34, -30, -26, -22, -18, -14, -10,  -6,  -2,   2,   6,  10,\n",
              "        14,  18,  22,  26,  30,  34,  38,  42,  46,  50,  54,  58,  62,\n",
              "        66,  70,  74,  78,  82,  86,  90,  94,  98, 102, 106], dtype=int32)>"
            ]
          },
          "metadata": {},
          "execution_count": 21
        }
      ]
    },
    {
      "cell_type": "code",
      "source": [
        "import matplotlib.pyplot as plt\n",
        "plt.scatter(X,y)"
      ],
      "metadata": {
        "colab": {
          "base_uri": "https://localhost:8080/",
          "height": 282
        },
        "id": "B1lk-kUvfmlc",
        "outputId": "c9a903e5-4e4e-450d-8400-12b978592dc4"
      },
      "execution_count": 22,
      "outputs": [
        {
          "output_type": "execute_result",
          "data": {
            "text/plain": [
              "<matplotlib.collections.PathCollection at 0x7f71466368d0>"
            ]
          },
          "metadata": {},
          "execution_count": 22
        },
        {
          "output_type": "display_data",
          "data": {
            "text/plain": [
              "<Figure size 432x288 with 1 Axes>"
            ],
            "image/png": "[encoded data removed]"
          },
          "metadata": {
            "needs_background": "light"
          }
        }
      ]
    },
    {
      "cell_type": "code",
      "source": [
        "#Fit Model\n",
        "model.fit(X,y,epochs = 100)"
      ],
      "metadata": {
        "colab": {
          "base_uri": "https://localhost:8080/"
        },
        "id": "sRRf2xAxfYpX",
        "outputId": "ed58bdee-ab80-472f-bb56-5dccf5da8875"
      },
      "execution_count": 23,
      "outputs": [
        {
          "output_type": "stream",
          "name": "stdout",
          "text": [
            "Epoch 1/100\n",
            "2/2 [==============================] - 0s 11ms/step - loss: 3.1525 - mae: 3.1525\n",
            "Epoch 2/100\n",
            "2/2 [==============================] - 0s 7ms/step - loss: 4.8813 - mae: 4.8813\n",
            "Epoch 3/100\n",
            "2/2 [==============================] - 0s 6ms/step - loss: 11.1628 - mae: 11.1628\n",
            "Epoch 4/100\n",
            "2/2 [==============================] - 0s 7ms/step - loss: 11.4806 - mae: 11.4806\n",
            "Epoch 5/100\n",
            "2/2 [==============================] - 0s 6ms/step - loss: 3.9132 - mae: 3.9132\n",
            "Epoch 6/100\n",
            "2/2 [==============================] - 0s 16ms/step - loss: 15.6269 - mae: 15.6269\n",
            "Epoch 7/100\n",
            "2/2 [==============================] - 0s 7ms/step - loss: 11.4483 - mae: 11.4483\n",
            "Epoch 8/100\n",
            "2/2 [==============================] - 0s 7ms/step - loss: 3.8405 - mae: 3.8405\n",
            "Epoch 9/100\n",
            "2/2 [==============================] - 0s 8ms/step - loss: 14.0591 - mae: 14.0591\n",
            "Epoch 10/100\n",
            "2/2 [==============================] - 0s 7ms/step - loss: 12.6159 - mae: 12.6159\n",
            "Epoch 11/100\n",
            "2/2 [==============================] - 0s 9ms/step - loss: 3.9905 - mae: 3.9905\n",
            "Epoch 12/100\n",
            "2/2 [==============================] - 0s 7ms/step - loss: 7.4250 - mae: 7.4250\n",
            "Epoch 13/100\n",
            "2/2 [==============================] - 0s 10ms/step - loss: 5.8775 - mae: 5.8775\n",
            "Epoch 14/100\n",
            "2/2 [==============================] - 0s 6ms/step - loss: 2.1636 - mae: 2.1636\n",
            "Epoch 15/100\n",
            "2/2 [==============================] - 0s 10ms/step - loss: 3.2248 - mae: 3.2248\n",
            "Epoch 16/100\n",
            "2/2 [==============================] - 0s 6ms/step - loss: 2.0991 - mae: 2.0991\n",
            "Epoch 17/100\n",
            "2/2 [==============================] - 0s 5ms/step - loss: 1.4684 - mae: 1.4684\n",
            "Epoch 18/100\n",
            "2/2 [==============================] - 0s 5ms/step - loss: 3.3395 - mae: 3.3395\n",
            "Epoch 19/100\n",
            "2/2 [==============================] - 0s 6ms/step - loss: 2.0136 - mae: 2.0136\n",
            "Epoch 20/100\n",
            "2/2 [==============================] - 0s 12ms/step - loss: 2.1066 - mae: 2.1066\n",
            "Epoch 21/100\n",
            "2/2 [==============================] - 0s 8ms/step - loss: 0.7776 - mae: 0.7776\n",
            "Epoch 22/100\n",
            "2/2 [==============================] - 0s 16ms/step - loss: 0.8547 - mae: 0.8547\n",
            "Epoch 23/100\n",
            "2/2 [==============================] - 0s 8ms/step - loss: 1.5452 - mae: 1.5452\n",
            "Epoch 24/100\n",
            "2/2 [==============================] - 0s 17ms/step - loss: 1.0778 - mae: 1.0778\n",
            "Epoch 25/100\n",
            "2/2 [==============================] - 0s 9ms/step - loss: 1.6151 - mae: 1.6151\n",
            "Epoch 26/100\n",
            "2/2 [==============================] - 0s 8ms/step - loss: 1.0870 - mae: 1.0870\n",
            "Epoch 27/100\n",
            "2/2 [==============================] - 0s 7ms/step - loss: 2.7057 - mae: 2.7057\n",
            "Epoch 28/100\n",
            "2/2 [==============================] - 0s 6ms/step - loss: 1.2209 - mae: 1.2209\n",
            "Epoch 29/100\n",
            "2/2 [==============================] - 0s 15ms/step - loss: 1.1187 - mae: 1.1187\n",
            "Epoch 30/100\n",
            "2/2 [==============================] - 0s 10ms/step - loss: 2.1807 - mae: 2.1807\n",
            "Epoch 31/100\n",
            "2/2 [==============================] - 0s 8ms/step - loss: 1.3833 - mae: 1.3833\n",
            "Epoch 32/100\n",
            "2/2 [==============================] - 0s 7ms/step - loss: 1.1316 - mae: 1.1316\n",
            "Epoch 33/100\n",
            "2/2 [==============================] - 0s 16ms/step - loss: 1.6470 - mae: 1.6470\n",
            "Epoch 34/100\n",
            "2/2 [==============================] - 0s 8ms/step - loss: 1.6389 - mae: 1.6389\n",
            "Epoch 35/100\n",
            "2/2 [==============================] - 0s 13ms/step - loss: 1.1556 - mae: 1.1556\n",
            "Epoch 36/100\n",
            "2/2 [==============================] - 0s 6ms/step - loss: 1.6834 - mae: 1.6834\n",
            "Epoch 37/100\n",
            "2/2 [==============================] - 0s 16ms/step - loss: 1.5901 - mae: 1.5901\n",
            "Epoch 38/100\n",
            "2/2 [==============================] - 0s 6ms/step - loss: 1.1804 - mae: 1.1804\n",
            "Epoch 39/100\n",
            "2/2 [==============================] - 0s 6ms/step - loss: 1.5269 - mae: 1.5269\n",
            "Epoch 40/100\n",
            "2/2 [==============================] - 0s 6ms/step - loss: 1.4435 - mae: 1.4435\n",
            "Epoch 41/100\n",
            "2/2 [==============================] - 0s 8ms/step - loss: 1.0850 - mae: 1.0850\n",
            "Epoch 42/100\n",
            "2/2 [==============================] - 0s 10ms/step - loss: 2.6019 - mae: 2.6019\n",
            "Epoch 43/100\n",
            "2/2 [==============================] - 0s 8ms/step - loss: 1.1630 - mae: 1.1630\n",
            "Epoch 44/100\n",
            "2/2 [==============================] - 0s 7ms/step - loss: 4.4466 - mae: 4.4466\n",
            "Epoch 45/100\n",
            "2/2 [==============================] - 0s 7ms/step - loss: 2.0390 - mae: 2.0390\n",
            "Epoch 46/100\n",
            "2/2 [==============================] - 0s 14ms/step - loss: 4.1709 - mae: 4.1709\n",
            "Epoch 47/100\n",
            "2/2 [==============================] - 0s 9ms/step - loss: 5.5192 - mae: 5.5192\n",
            "Epoch 48/100\n",
            "2/2 [==============================] - 0s 10ms/step - loss: 1.7975 - mae: 1.7975\n",
            "Epoch 49/100\n",
            "2/2 [==============================] - 0s 6ms/step - loss: 2.0332 - mae: 2.0332\n",
            "Epoch 50/100\n",
            "2/2 [==============================] - 0s 7ms/step - loss: 1.0540 - mae: 1.0540\n",
            "Epoch 51/100\n",
            "2/2 [==============================] - 0s 9ms/step - loss: 3.4881 - mae: 3.4881\n",
            "Epoch 52/100\n",
            "2/2 [==============================] - 0s 9ms/step - loss: 1.5733 - mae: 1.5733\n",
            "Epoch 53/100\n",
            "2/2 [==============================] - 0s 7ms/step - loss: 2.2301 - mae: 2.2301\n",
            "Epoch 54/100\n",
            "2/2 [==============================] - 0s 9ms/step - loss: 1.1993 - mae: 1.1993\n",
            "Epoch 55/100\n",
            "2/2 [==============================] - 0s 5ms/step - loss: 2.9136 - mae: 2.9136\n",
            "Epoch 56/100\n",
            "2/2 [==============================] - 0s 5ms/step - loss: 1.3070 - mae: 1.3070\n",
            "Epoch 57/100\n",
            "2/2 [==============================] - 0s 10ms/step - loss: 2.1017 - mae: 2.1017\n",
            "Epoch 58/100\n",
            "2/2 [==============================] - 0s 9ms/step - loss: 0.9573 - mae: 0.9573\n",
            "Epoch 59/100\n",
            "2/2 [==============================] - 0s 6ms/step - loss: 2.8058 - mae: 2.8058\n",
            "Epoch 60/100\n",
            "2/2 [==============================] - 0s 26ms/step - loss: 1.2581 - mae: 1.2581\n",
            "Epoch 61/100\n",
            "2/2 [==============================] - 0s 19ms/step - loss: 2.5961 - mae: 2.5961\n",
            "Epoch 62/100\n",
            "2/2 [==============================] - 0s 9ms/step - loss: 1.1895 - mae: 1.1895\n",
            "Epoch 63/100\n",
            "2/2 [==============================] - 0s 11ms/step - loss: 2.7509 - mae: 2.7509\n",
            "Epoch 64/100\n",
            "2/2 [==============================] - 0s 7ms/step - loss: 1.1839 - mae: 1.1839\n",
            "Epoch 65/100\n",
            "2/2 [==============================] - 0s 7ms/step - loss: 1.7944 - mae: 1.7944\n",
            "Epoch 66/100\n",
            "2/2 [==============================] - 0s 14ms/step - loss: 0.1634 - mae: 0.1634\n",
            "Epoch 67/100\n",
            "2/2 [==============================] - 0s 6ms/step - loss: 0.5992 - mae: 0.5992\n",
            "Epoch 68/100\n",
            "2/2 [==============================] - 0s 7ms/step - loss: 1.1303 - mae: 1.1303\n",
            "Epoch 69/100\n",
            "2/2 [==============================] - 0s 7ms/step - loss: 0.7067 - mae: 0.7067\n",
            "Epoch 70/100\n",
            "2/2 [==============================] - 0s 7ms/step - loss: 2.5965 - mae: 2.5965\n",
            "Epoch 71/100\n",
            "2/2 [==============================] - 0s 12ms/step - loss: 1.0780 - mae: 1.0780\n",
            "Epoch 72/100\n",
            "2/2 [==============================] - 0s 11ms/step - loss: 2.8171 - mae: 2.8171\n",
            "Epoch 73/100\n",
            "2/2 [==============================] - 0s 7ms/step - loss: 1.2408 - mae: 1.2408\n",
            "Epoch 74/100\n",
            "2/2 [==============================] - 0s 12ms/step - loss: 2.4386 - mae: 2.4386\n",
            "Epoch 75/100\n",
            "2/2 [==============================] - 0s 9ms/step - loss: 1.1240 - mae: 1.1240\n",
            "Epoch 76/100\n",
            "2/2 [==============================] - 0s 5ms/step - loss: 1.6558 - mae: 1.6558\n",
            "Epoch 77/100\n",
            "2/2 [==============================] - 0s 7ms/step - loss: 0.6224 - mae: 0.6224\n",
            "Epoch 78/100\n",
            "2/2 [==============================] - 0s 12ms/step - loss: 0.9090 - mae: 0.9090\n",
            "Epoch 79/100\n",
            "2/2 [==============================] - 0s 8ms/step - loss: 1.3045 - mae: 1.3045\n",
            "Epoch 80/100\n",
            "2/2 [==============================] - 0s 9ms/step - loss: 0.8397 - mae: 0.8397\n",
            "Epoch 81/100\n",
            "2/2 [==============================] - 0s 12ms/step - loss: 2.6021 - mae: 2.6021\n",
            "Epoch 82/100\n",
            "2/2 [==============================] - 0s 8ms/step - loss: 1.1188 - mae: 1.1188\n",
            "Epoch 83/100\n",
            "2/2 [==============================] - 0s 6ms/step - loss: 3.3280 - mae: 3.3280\n",
            "Epoch 84/100\n",
            "2/2 [==============================] - 0s 8ms/step - loss: 1.8196 - mae: 1.8196\n",
            "Epoch 85/100\n",
            "2/2 [==============================] - 0s 9ms/step - loss: 2.8386 - mae: 2.8386\n",
            "Epoch 86/100\n",
            "2/2 [==============================] - 0s 7ms/step - loss: 3.5952 - mae: 3.5952\n",
            "Epoch 87/100\n",
            "2/2 [==============================] - 0s 11ms/step - loss: 1.2872 - mae: 1.2872\n",
            "Epoch 88/100\n",
            "2/2 [==============================] - 0s 5ms/step - loss: 3.6642 - mae: 3.6642\n",
            "Epoch 89/100\n",
            "2/2 [==============================] - 0s 7ms/step - loss: 2.5574 - mae: 2.5574\n",
            "Epoch 90/100\n",
            "2/2 [==============================] - 0s 7ms/step - loss: 1.4494 - mae: 1.4494\n",
            "Epoch 91/100\n",
            "2/2 [==============================] - 0s 9ms/step - loss: 2.1891 - mae: 2.1891\n",
            "Epoch 92/100\n",
            "2/2 [==============================] - 0s 11ms/step - loss: 0.4640 - mae: 0.4640\n",
            "Epoch 93/100\n",
            "2/2 [==============================] - 0s 7ms/step - loss: 0.6468 - mae: 0.6468\n",
            "Epoch 94/100\n",
            "2/2 [==============================] - 0s 10ms/step - loss: 1.0517 - mae: 1.0517\n",
            "Epoch 95/100\n",
            "2/2 [==============================] - 0s 15ms/step - loss: 1.4845 - mae: 1.4845\n",
            "Epoch 96/100\n",
            "2/2 [==============================] - 0s 9ms/step - loss: 0.9035 - mae: 0.9035\n",
            "Epoch 97/100\n",
            "2/2 [==============================] - 0s 8ms/step - loss: 0.3786 - mae: 0.3786\n",
            "Epoch 98/100\n",
            "2/2 [==============================] - 0s 11ms/step - loss: 0.3023 - mae: 0.3023\n",
            "Epoch 99/100\n",
            "2/2 [==============================] - 0s 12ms/step - loss: 0.1142 - mae: 0.1142\n",
            "Epoch 100/100\n",
            "2/2 [==============================] - 0s 8ms/step - loss: 0.5280 - mae: 0.5280\n"
          ]
        },
        {
          "output_type": "execute_result",
          "data": {
            "text/plain": [
              "<keras.callbacks.History at 0x7f7146420810>"
            ]
          },
          "metadata": {},
          "execution_count": 23
        }
      ]
    },
    {
      "cell_type": "code",
      "source": [
        "length = len(X)\n",
        "length*0.8"
      ],
      "metadata": {
        "colab": {
          "base_uri": "https://localhost:8080/"
        },
        "id": "PdlKENQ0fiat",
        "outputId": "3beda895-1e36-453f-ccbb-3950afc8ef76"
      },
      "execution_count": 24,
      "outputs": [
        {
          "output_type": "execute_result",
          "data": {
            "text/plain": [
              "40.0"
            ]
          },
          "metadata": {},
          "execution_count": 24
        }
      ]
    },
    {
      "cell_type": "code",
      "source": [
        "X_train = X[:int(length*0.8)]\n",
        "y_train = y[:int(length*0.8)]"
      ],
      "metadata": {
        "id": "DejVsNeAg3WM"
      },
      "execution_count": 25,
      "outputs": []
    },
    {
      "cell_type": "code",
      "source": [
        "X_test = X[int(length*0.8):]\n",
        "y_test = y[int(length*0.8):]"
      ],
      "metadata": {
        "id": "j6H6agTjhB22"
      },
      "execution_count": 26,
      "outputs": []
    },
    {
      "cell_type": "markdown",
      "source": [
        "##Visualizing the data"
      ],
      "metadata": {
        "id": "edEpIvxOhLaq"
      }
    },
    {
      "cell_type": "code",
      "source": [
        "plt.figure(figsize = (10,7))\n",
        "plt.scatter(X_train,y_train,c=\"b\",label = \"Training Data\")\n",
        "plt.scatter(X_test,y_test,c=\"g\",label = \"Testing Data\")\n",
        "plt.legend()"
      ],
      "metadata": {
        "colab": {
          "base_uri": "https://localhost:8080/",
          "height": 445
        },
        "id": "CqeKQtKChQOD",
        "outputId": "253595d6-a4eb-4e55-dbe2-569d31d6d293"
      },
      "execution_count": 27,
      "outputs": [
        {
          "output_type": "execute_result",
          "data": {
            "text/plain": [
              "<matplotlib.legend.Legend at 0x7f7146342990>"
            ]
          },
          "metadata": {},
          "execution_count": 27
        },
        {
          "output_type": "display_data",
          "data": {
            "text/plain": [
              "<Figure size 720x504 with 1 Axes>"
            ],
            "image/png": "[encoded data removed]"
          },
          "metadata": {
            "needs_background": "light"
          }
        }
      ]
    },
    {
      "cell_type": "code",
      "source": [
        "model = tf.keras.Sequential([\n",
        "    tf.keras.layers.Dense(1)\n",
        "])\n",
        "model.compile(loss = tf.keras.losses.mae, optimizer = tf.keras.optimizers.Adam(lr = 0.0001),metrics = ['mae'])"
      ],
      "metadata": {
        "id": "szOLkXjrhj7W"
      },
      "execution_count": 28,
      "outputs": []
    },
    {
      "cell_type": "code",
      "source": [
        "tf.random.set_seed(42)"
      ],
      "metadata": {
        "id": "BUssLWTCSzOi"
      },
      "execution_count": 29,
      "outputs": []
    },
    {
      "cell_type": "code",
      "source": [
        "model = tf.keras.Sequential([\n",
        "    tf.keras.layers.Dense(10,input_shape=[1],name = \"input_layer\"),\n",
        "\n",
        "    tf.keras.layers.Dense(1,name = \"output_layer\")\n",
        "])\n",
        "model.compile(loss = tf.keras.losses.mae, optimizer = tf.keras.optimizers.Adam(lr = 0.0001),metrics = ['mae'])"
      ],
      "metadata": {
        "id": "75AvF1ZpTEqN"
      },
      "execution_count": 30,
      "outputs": []
    },
    {
      "cell_type": "code",
      "source": [
        "model.fit(X_train,y_train,epochs = 100)"
      ],
      "metadata": {
        "colab": {
          "base_uri": "https://localhost:8080/"
        },
        "id": "utO-X0TTTgS6",
        "outputId": "afbab83c-f9fb-4d09-95e8-4a712d9d3574"
      },
      "execution_count": 31,
      "outputs": [
        {
          "output_type": "stream",
          "name": "stdout",
          "text": [
            "Epoch 1/100\n",
            "2/2 [==============================] - 1s 8ms/step - loss: 25.2672 - mae: 25.2672\n",
            "Epoch 2/100\n",
            "2/2 [==============================] - 0s 6ms/step - loss: 25.2089 - mae: 25.2089\n",
            "Epoch 3/100\n",
            "2/2 [==============================] - 0s 6ms/step - loss: 25.1528 - mae: 25.1528\n",
            "Epoch 4/100\n",
            "2/2 [==============================] - 0s 6ms/step - loss: 25.0958 - mae: 25.0958\n",
            "Epoch 5/100\n",
            "2/2 [==============================] - 0s 6ms/step - loss: 25.0408 - mae: 25.0408\n",
            "Epoch 6/100\n",
            "2/2 [==============================] - 0s 11ms/step - loss: 24.9856 - mae: 24.9856\n",
            "Epoch 7/100\n",
            "2/2 [==============================] - 0s 7ms/step - loss: 24.9292 - mae: 24.9292\n",
            "Epoch 8/100\n",
            "2/2 [==============================] - 0s 6ms/step - loss: 24.8713 - mae: 24.8713\n",
            "Epoch 9/100\n",
            "2/2 [==============================] - 0s 7ms/step - loss: 24.8171 - mae: 24.8171\n",
            "Epoch 10/100\n",
            "2/2 [==============================] - 0s 7ms/step - loss: 24.7629 - mae: 24.7629\n",
            "Epoch 11/100\n",
            "2/2 [==============================] - 0s 6ms/step - loss: 24.7043 - mae: 24.7043\n",
            "Epoch 12/100\n",
            "2/2 [==============================] - 0s 6ms/step - loss: 24.6492 - mae: 24.6492\n",
            "Epoch 13/100\n",
            "2/2 [==============================] - 0s 8ms/step - loss: 24.5911 - mae: 24.5911\n",
            "Epoch 14/100\n",
            "2/2 [==============================] - 0s 6ms/step - loss: 24.5363 - mae: 24.5363\n",
            "Epoch 15/100\n",
            "2/2 [==============================] - 0s 6ms/step - loss: 24.4806 - mae: 24.4806\n",
            "Epoch 16/100\n",
            "2/2 [==============================] - 0s 6ms/step - loss: 24.4230 - mae: 24.4230\n",
            "Epoch 17/100\n",
            "2/2 [==============================] - 0s 6ms/step - loss: 24.3664 - mae: 24.3664\n",
            "Epoch 18/100\n",
            "2/2 [==============================] - 0s 7ms/step - loss: 24.3109 - mae: 24.3109\n",
            "Epoch 19/100\n",
            "2/2 [==============================] - 0s 5ms/step - loss: 24.2566 - mae: 24.2566\n",
            "Epoch 20/100\n",
            "2/2 [==============================] - 0s 6ms/step - loss: 24.1989 - mae: 24.1989\n",
            "Epoch 21/100\n",
            "2/2 [==============================] - 0s 6ms/step - loss: 24.1438 - mae: 24.1438\n",
            "Epoch 22/100\n",
            "2/2 [==============================] - 0s 6ms/step - loss: 24.0900 - mae: 24.0900\n",
            "Epoch 23/100\n",
            "2/2 [==============================] - 0s 12ms/step - loss: 24.0356 - mae: 24.0356\n",
            "Epoch 24/100\n",
            "2/2 [==============================] - 0s 6ms/step - loss: 23.9795 - mae: 23.9795\n",
            "Epoch 25/100\n",
            "2/2 [==============================] - 0s 7ms/step - loss: 23.9243 - mae: 23.9243\n",
            "Epoch 26/100\n",
            "2/2 [==============================] - 0s 6ms/step - loss: 23.8709 - mae: 23.8709\n",
            "Epoch 27/100\n",
            "2/2 [==============================] - 0s 7ms/step - loss: 23.8143 - mae: 23.8143\n",
            "Epoch 28/100\n",
            "2/2 [==============================] - 0s 6ms/step - loss: 23.7608 - mae: 23.7608\n",
            "Epoch 29/100\n",
            "2/2 [==============================] - 0s 6ms/step - loss: 23.7013 - mae: 23.7013\n",
            "Epoch 30/100\n",
            "2/2 [==============================] - 0s 7ms/step - loss: 23.6435 - mae: 23.6435\n",
            "Epoch 31/100\n",
            "2/2 [==============================] - 0s 6ms/step - loss: 23.5903 - mae: 23.5903\n",
            "Epoch 32/100\n",
            "2/2 [==============================] - 0s 6ms/step - loss: 23.5320 - mae: 23.5320\n",
            "Epoch 33/100\n",
            "2/2 [==============================] - 0s 6ms/step - loss: 23.4736 - mae: 23.4736\n",
            "Epoch 34/100\n",
            "2/2 [==============================] - 0s 6ms/step - loss: 23.4185 - mae: 23.4185\n",
            "Epoch 35/100\n",
            "2/2 [==============================] - 0s 6ms/step - loss: 23.3604 - mae: 23.3604\n",
            "Epoch 36/100\n",
            "2/2 [==============================] - 0s 6ms/step - loss: 23.3080 - mae: 23.3080\n",
            "Epoch 37/100\n",
            "2/2 [==============================] - 0s 6ms/step - loss: 23.2506 - mae: 23.2506\n",
            "Epoch 38/100\n",
            "2/2 [==============================] - 0s 6ms/step - loss: 23.1967 - mae: 23.1967\n",
            "Epoch 39/100\n",
            "2/2 [==============================] - 0s 6ms/step - loss: 23.1423 - mae: 23.1423\n",
            "Epoch 40/100\n",
            "2/2 [==============================] - 0s 6ms/step - loss: 23.0881 - mae: 23.0881\n",
            "Epoch 41/100\n",
            "2/2 [==============================] - 0s 6ms/step - loss: 23.0341 - mae: 23.0341\n",
            "Epoch 42/100\n",
            "2/2 [==============================] - 0s 9ms/step - loss: 22.9806 - mae: 22.9806\n",
            "Epoch 43/100\n",
            "2/2 [==============================] - 0s 6ms/step - loss: 22.9234 - mae: 22.9234\n",
            "Epoch 44/100\n",
            "2/2 [==============================] - 0s 6ms/step - loss: 22.8715 - mae: 22.8715\n",
            "Epoch 45/100\n",
            "2/2 [==============================] - 0s 6ms/step - loss: 22.8165 - mae: 22.8165\n",
            "Epoch 46/100\n",
            "2/2 [==============================] - 0s 6ms/step - loss: 22.7642 - mae: 22.7642\n",
            "Epoch 47/100\n",
            "2/2 [==============================] - 0s 7ms/step - loss: 22.7085 - mae: 22.7085\n",
            "Epoch 48/100\n",
            "2/2 [==============================] - 0s 6ms/step - loss: 22.6553 - mae: 22.6553\n",
            "Epoch 49/100\n",
            "2/2 [==============================] - 0s 6ms/step - loss: 22.6026 - mae: 22.6026\n",
            "Epoch 50/100\n",
            "2/2 [==============================] - 0s 7ms/step - loss: 22.5504 - mae: 22.5504\n",
            "Epoch 51/100\n",
            "2/2 [==============================] - 0s 10ms/step - loss: 22.4943 - mae: 22.4943\n",
            "Epoch 52/100\n",
            "2/2 [==============================] - 0s 8ms/step - loss: 22.4421 - mae: 22.4421\n",
            "Epoch 53/100\n",
            "2/2 [==============================] - 0s 5ms/step - loss: 22.3853 - mae: 22.3853\n",
            "Epoch 54/100\n",
            "2/2 [==============================] - 0s 6ms/step - loss: 22.3293 - mae: 22.3293\n",
            "Epoch 55/100\n",
            "2/2 [==============================] - 0s 6ms/step - loss: 22.2743 - mae: 22.2743\n",
            "Epoch 56/100\n",
            "2/2 [==============================] - 0s 6ms/step - loss: 22.2156 - mae: 22.2156\n",
            "Epoch 57/100\n",
            "2/2 [==============================] - 0s 6ms/step - loss: 22.1599 - mae: 22.1599\n",
            "Epoch 58/100\n",
            "2/2 [==============================] - 0s 6ms/step - loss: 22.1027 - mae: 22.1027\n",
            "Epoch 59/100\n",
            "2/2 [==============================] - 0s 6ms/step - loss: 22.0464 - mae: 22.0464\n",
            "Epoch 60/100\n",
            "2/2 [==============================] - 0s 7ms/step - loss: 21.9912 - mae: 21.9912\n",
            "Epoch 61/100\n",
            "2/2 [==============================] - 0s 7ms/step - loss: 21.9356 - mae: 21.9356\n",
            "Epoch 62/100\n",
            "2/2 [==============================] - 0s 6ms/step - loss: 21.8809 - mae: 21.8809\n",
            "Epoch 63/100\n",
            "2/2 [==============================] - 0s 6ms/step - loss: 21.8255 - mae: 21.8255\n",
            "Epoch 64/100\n",
            "2/2 [==============================] - 0s 6ms/step - loss: 21.7697 - mae: 21.7697\n",
            "Epoch 65/100\n",
            "2/2 [==============================] - 0s 6ms/step - loss: 21.7137 - mae: 21.7137\n",
            "Epoch 66/100\n",
            "2/2 [==============================] - 0s 6ms/step - loss: 21.6584 - mae: 21.6584\n",
            "Epoch 67/100\n",
            "2/2 [==============================] - 0s 6ms/step - loss: 21.6028 - mae: 21.6028\n",
            "Epoch 68/100\n",
            "2/2 [==============================] - 0s 6ms/step - loss: 21.5460 - mae: 21.5460\n",
            "Epoch 69/100\n",
            "2/2 [==============================] - 0s 6ms/step - loss: 21.4913 - mae: 21.4913\n",
            "Epoch 70/100\n",
            "2/2 [==============================] - 0s 6ms/step - loss: 21.4346 - mae: 21.4346\n",
            "Epoch 71/100\n",
            "2/2 [==============================] - 0s 7ms/step - loss: 21.3789 - mae: 21.3789\n",
            "Epoch 72/100\n",
            "2/2 [==============================] - 0s 8ms/step - loss: 21.3241 - mae: 21.3241\n",
            "Epoch 73/100\n",
            "2/2 [==============================] - 0s 6ms/step - loss: 21.2654 - mae: 21.2654\n",
            "Epoch 74/100\n",
            "2/2 [==============================] - 0s 6ms/step - loss: 21.2121 - mae: 21.2121\n",
            "Epoch 75/100\n",
            "2/2 [==============================] - 0s 6ms/step - loss: 21.1540 - mae: 21.1540\n",
            "Epoch 76/100\n",
            "2/2 [==============================] - 0s 6ms/step - loss: 21.0972 - mae: 21.0972\n",
            "Epoch 77/100\n",
            "2/2 [==============================] - 0s 6ms/step - loss: 21.0407 - mae: 21.0407\n",
            "Epoch 78/100\n",
            "2/2 [==============================] - 0s 7ms/step - loss: 20.9824 - mae: 20.9824\n",
            "Epoch 79/100\n",
            "2/2 [==============================] - 0s 7ms/step - loss: 20.9240 - mae: 20.9240\n",
            "Epoch 80/100\n",
            "2/2 [==============================] - 0s 7ms/step - loss: 20.8681 - mae: 20.8681\n",
            "Epoch 81/100\n",
            "2/2 [==============================] - 0s 11ms/step - loss: 20.8135 - mae: 20.8135\n",
            "Epoch 82/100\n",
            "2/2 [==============================] - 0s 11ms/step - loss: 20.7534 - mae: 20.7534\n",
            "Epoch 83/100\n",
            "2/2 [==============================] - 0s 6ms/step - loss: 20.6993 - mae: 20.6993\n",
            "Epoch 84/100\n",
            "2/2 [==============================] - 0s 6ms/step - loss: 20.6411 - mae: 20.6411\n",
            "Epoch 85/100\n",
            "2/2 [==============================] - 0s 6ms/step - loss: 20.5881 - mae: 20.5881\n",
            "Epoch 86/100\n",
            "2/2 [==============================] - 0s 10ms/step - loss: 20.5327 - mae: 20.5327\n",
            "Epoch 87/100\n",
            "2/2 [==============================] - 0s 7ms/step - loss: 20.4752 - mae: 20.4752\n",
            "Epoch 88/100\n",
            "2/2 [==============================] - 0s 13ms/step - loss: 20.4207 - mae: 20.4207\n",
            "Epoch 89/100\n",
            "2/2 [==============================] - 0s 7ms/step - loss: 20.3621 - mae: 20.3621\n",
            "Epoch 90/100\n",
            "2/2 [==============================] - 0s 6ms/step - loss: 20.3058 - mae: 20.3058\n",
            "Epoch 91/100\n",
            "2/2 [==============================] - 0s 6ms/step - loss: 20.2471 - mae: 20.2471\n",
            "Epoch 92/100\n",
            "2/2 [==============================] - 0s 6ms/step - loss: 20.1912 - mae: 20.1912\n",
            "Epoch 93/100\n",
            "2/2 [==============================] - 0s 6ms/step - loss: 20.1334 - mae: 20.1334\n",
            "Epoch 94/100\n",
            "2/2 [==============================] - 0s 11ms/step - loss: 20.0746 - mae: 20.0746\n",
            "Epoch 95/100\n",
            "2/2 [==============================] - 0s 6ms/step - loss: 20.0187 - mae: 20.0187\n",
            "Epoch 96/100\n",
            "2/2 [==============================] - 0s 6ms/step - loss: 19.9613 - mae: 19.9613\n",
            "Epoch 97/100\n",
            "2/2 [==============================] - 0s 8ms/step - loss: 19.9081 - mae: 19.9081\n",
            "Epoch 98/100\n",
            "2/2 [==============================] - 0s 6ms/step - loss: 19.8505 - mae: 19.8505\n",
            "Epoch 99/100\n",
            "2/2 [==============================] - 0s 6ms/step - loss: 19.7941 - mae: 19.7941\n",
            "Epoch 100/100\n",
            "2/2 [==============================] - 0s 6ms/step - loss: 19.7397 - mae: 19.7397\n"
          ]
        },
        {
          "output_type": "execute_result",
          "data": {
            "text/plain": [
              "<keras.callbacks.History at 0x7f71aa4af410>"
            ]
          },
          "metadata": {},
          "execution_count": 31
        }
      ]
    },
    {
      "cell_type": "code",
      "source": [
        "from tensorflow.keras.utils import plot_model\n",
        "plot_model(model,show_shapes = True)"
      ],
      "metadata": {
        "id": "wMVDhfmYVdu0",
        "colab": {
          "base_uri": "https://localhost:8080/",
          "height": 312
        },
        "outputId": "14da23d5-1ae3-47ff-d0f9-c9fa0c2b1a23"
      },
      "execution_count": 32,
      "outputs": [
        {
          "output_type": "execute_result",
          "data": {
            "image/png": "[encoded data removed]",
            "text/plain": [
              "<IPython.core.display.Image object>"
            ]
          },
          "metadata": {},
          "execution_count": 32
        }
      ]
    },
    {
      "cell_type": "markdown",
      "source": [
        "## Visualizing the predictions"
      ],
      "metadata": {
        "id": "UZ39UOc9-SpM"
      }
    },
    {
      "cell_type": "code",
      "source": [
        "\n",
        "X_train\n",
        "y_train"
      ],
      "metadata": {
        "colab": {
          "base_uri": "https://localhost:8080/"
        },
        "id": "tiY8blbc_0iI",
        "outputId": "ee38b6f0-aa96-4802-c84d-ae3daa0fd4a7"
      },
      "execution_count": 33,
      "outputs": [
        {
          "output_type": "execute_result",
          "data": {
            "text/plain": [
              "<tf.Tensor: shape=(40,), dtype=int32, numpy=\n",
              "array([-90, -86, -82, -78, -74, -70, -66, -62, -58, -54, -50, -46, -42,\n",
              "       -38, -34, -30, -26, -22, -18, -14, -10,  -6,  -2,   2,   6,  10,\n",
              "        14,  18,  22,  26,  30,  34,  38,  42,  46,  50,  54,  58,  62,\n",
              "        66], dtype=int32)>"
            ]
          },
          "metadata": {},
          "execution_count": 33
        }
      ]
    },
    {
      "cell_type": "code",
      "source": [
        "y_test"
      ],
      "metadata": {
        "colab": {
          "base_uri": "https://localhost:8080/"
        },
        "id": "VBibvbnrAS8I",
        "outputId": "938579ed-c3bb-42e6-d45c-4d5ffa4cad29"
      },
      "execution_count": 34,
      "outputs": [
        {
          "output_type": "execute_result",
          "data": {
            "text/plain": [
              "<tf.Tensor: shape=(10,), dtype=int32, numpy=array([ 70,  74,  78,  82,  86,  90,  94,  98, 102, 106], dtype=int32)>"
            ]
          },
          "metadata": {},
          "execution_count": 34
        }
      ]
    },
    {
      "cell_type": "code",
      "source": [
        "X_test"
      ],
      "metadata": {
        "colab": {
          "base_uri": "https://localhost:8080/"
        },
        "id": "vD9etmpqAYyf",
        "outputId": "a47b73aa-abbc-47c3-908b-2d8d722f43a8"
      },
      "execution_count": 35,
      "outputs": [
        {
          "output_type": "execute_result",
          "data": {
            "text/plain": [
              "<tf.Tensor: shape=(10,), dtype=int32, numpy=array([60, 64, 68, 72, 76, 80, 84, 88, 92, 96], dtype=int32)>"
            ]
          },
          "metadata": {},
          "execution_count": 35
        }
      ]
    },
    {
      "cell_type": "code",
      "source": [
        "y_pred = model.predict(X_test)"
      ],
      "metadata": {
        "id": "zzq4PRTMBKML",
        "colab": {
          "base_uri": "https://localhost:8080/"
        },
        "outputId": "52499120-d94f-4a8e-8c4d-5d2d0883b723"
      },
      "execution_count": 36,
      "outputs": [
        {
          "output_type": "stream",
          "name": "stdout",
          "text": [
            "1/1 [==============================] - 0s 64ms/step\n"
          ]
        }
      ]
    },
    {
      "cell_type": "code",
      "source": [
        "y_pred"
      ],
      "metadata": {
        "colab": {
          "base_uri": "https://localhost:8080/"
        },
        "id": "xpI7dKf0BPSM",
        "outputId": "45f473dd-1af9-4144-ee8b-0cb5c5851558"
      },
      "execution_count": 37,
      "outputs": [
        {
          "output_type": "execute_result",
          "data": {
            "text/plain": [
              "array([[30.442732],\n",
              "       [32.473736],\n",
              "       [34.504738],\n",
              "       [36.535736],\n",
              "       [38.566742],\n",
              "       [40.59774 ],\n",
              "       [42.62874 ],\n",
              "       [44.659744],\n",
              "       [46.690742],\n",
              "       [48.721745]], dtype=float32)"
            ]
          },
          "metadata": {},
          "execution_count": 37
        }
      ]
    },
    {
      "cell_type": "code",
      "source": [
        "y_test"
      ],
      "metadata": {
        "colab": {
          "base_uri": "https://localhost:8080/"
        },
        "id": "82H-sR7LBQEY",
        "outputId": "dd301f2e-21b5-487d-f17c-f7df2c8701e2"
      },
      "execution_count": 38,
      "outputs": [
        {
          "output_type": "execute_result",
          "data": {
            "text/plain": [
              "<tf.Tensor: shape=(10,), dtype=int32, numpy=array([ 70,  74,  78,  82,  86,  90,  94,  98, 102, 106], dtype=int32)>"
            ]
          },
          "metadata": {},
          "execution_count": 38
        }
      ]
    },
    {
      "cell_type": "code",
      "source": [
        "tf.random.set_seed(42)\n",
        "x = tf.range(-100,100,4)\n",
        "y = x+10"
      ],
      "metadata": {
        "id": "OZGo47TRFckI"
      },
      "execution_count": 39,
      "outputs": []
    },
    {
      "cell_type": "code",
      "source": [
        "x_train = x[:int(len(x)*0.8)]\n",
        "y_train = y[:int(len(y)*0.8)]\n",
        "\n",
        "x_test = x[int(len(x)*0.8):]\n",
        "y_test = y[int(len(y)*0.8):]"
      ],
      "metadata": {
        "id": "7M4O0VWVGxqz"
      },
      "execution_count": 40,
      "outputs": []
    },
    {
      "cell_type": "code",
      "source": [
        "model = tf.keras.Sequential([\n",
        "    tf.keras.layers.Dense(20,input_shape = (1,),name = \"input_layer\"),\n",
        "    tf.keras.layers.Dense(1,name = \"output_layer\")\n",
        "])\n",
        "model.compile(loss = \"mae\",optimizer = tf.keras.optimizers.Adam(learning_rate=0.01),metrics = [\"mae\"])"
      ],
      "metadata": {
        "id": "vcoeHiZrHRrh"
      },
      "execution_count": 41,
      "outputs": []
    },
    {
      "cell_type": "code",
      "source": [
        "model.fit(x_train,y_train,epochs = 80)"
      ],
      "metadata": {
        "colab": {
          "base_uri": "https://localhost:8080/"
        },
        "id": "I-NUxU5oHxp-",
        "outputId": "782e053e-5a76-4103-e92f-f59619438100"
      },
      "execution_count": 42,
      "outputs": [
        {
          "output_type": "stream",
          "name": "stdout",
          "text": [
            "Epoch 1/80\n",
            "2/2 [==============================] - 0s 8ms/step - loss: 16.0578 - mae: 16.0578\n",
            "Epoch 2/80\n",
            "2/2 [==============================] - 0s 6ms/step - loss: 9.4603 - mae: 9.4603\n",
            "Epoch 3/80\n",
            "2/2 [==============================] - 0s 9ms/step - loss: 8.9657 - mae: 8.9657\n",
            "Epoch 4/80\n",
            "2/2 [==============================] - 0s 6ms/step - loss: 9.7774 - mae: 9.7774\n",
            "Epoch 5/80\n",
            "2/2 [==============================] - 0s 5ms/step - loss: 9.2541 - mae: 9.2541\n",
            "Epoch 6/80\n",
            "2/2 [==============================] - 0s 6ms/step - loss: 7.8572 - mae: 7.8572\n",
            "Epoch 7/80\n",
            "2/2 [==============================] - 0s 6ms/step - loss: 7.4771 - mae: 7.4771\n",
            "Epoch 8/80\n",
            "2/2 [==============================] - 0s 6ms/step - loss: 8.5482 - mae: 8.5482\n",
            "Epoch 9/80\n",
            "2/2 [==============================] - 0s 6ms/step - loss: 7.8956 - mae: 7.8956\n",
            "Epoch 10/80\n",
            "2/2 [==============================] - 0s 6ms/step - loss: 6.8220 - mae: 6.8220\n",
            "Epoch 11/80\n",
            "2/2 [==============================] - 0s 11ms/step - loss: 7.9402 - mae: 7.9402\n",
            "Epoch 12/80\n",
            "2/2 [==============================] - 0s 5ms/step - loss: 7.8424 - mae: 7.8424\n",
            "Epoch 13/80\n",
            "2/2 [==============================] - 0s 6ms/step - loss: 6.9027 - mae: 6.9027\n",
            "Epoch 14/80\n",
            "2/2 [==============================] - 0s 7ms/step - loss: 6.9457 - mae: 6.9457\n",
            "Epoch 15/80\n",
            "2/2 [==============================] - 0s 6ms/step - loss: 6.9875 - mae: 6.9875\n",
            "Epoch 16/80\n",
            "2/2 [==============================] - 0s 6ms/step - loss: 6.5985 - mae: 6.5985\n",
            "Epoch 17/80\n",
            "2/2 [==============================] - 0s 6ms/step - loss: 6.3662 - mae: 6.3662\n",
            "Epoch 18/80\n",
            "2/2 [==============================] - 0s 6ms/step - loss: 6.3001 - mae: 6.3001\n",
            "Epoch 19/80\n",
            "2/2 [==============================] - 0s 6ms/step - loss: 6.1895 - mae: 6.1895\n",
            "Epoch 20/80\n",
            "2/2 [==============================] - 0s 6ms/step - loss: 6.1959 - mae: 6.1959\n",
            "Epoch 21/80\n",
            "2/2 [==============================] - 0s 6ms/step - loss: 6.0233 - mae: 6.0233\n",
            "Epoch 22/80\n",
            "2/2 [==============================] - 0s 6ms/step - loss: 5.8906 - mae: 5.8906\n",
            "Epoch 23/80\n",
            "2/2 [==============================] - 0s 6ms/step - loss: 5.8535 - mae: 5.8535\n",
            "Epoch 24/80\n",
            "2/2 [==============================] - 0s 10ms/step - loss: 5.7274 - mae: 5.7274\n",
            "Epoch 25/80\n",
            "2/2 [==============================] - 0s 6ms/step - loss: 5.5976 - mae: 5.5976\n",
            "Epoch 26/80\n",
            "2/2 [==============================] - 0s 7ms/step - loss: 5.4761 - mae: 5.4761\n",
            "Epoch 27/80\n",
            "2/2 [==============================] - 0s 6ms/step - loss: 5.3961 - mae: 5.3961\n",
            "Epoch 28/80\n",
            "2/2 [==============================] - 0s 6ms/step - loss: 5.2513 - mae: 5.2513\n",
            "Epoch 29/80\n",
            "2/2 [==============================] - 0s 6ms/step - loss: 5.2106 - mae: 5.2106\n",
            "Epoch 30/80\n",
            "2/2 [==============================] - 0s 6ms/step - loss: 5.0375 - mae: 5.0375\n",
            "Epoch 31/80\n",
            "2/2 [==============================] - 0s 8ms/step - loss: 4.9647 - mae: 4.9647\n",
            "Epoch 32/80\n",
            "2/2 [==============================] - 0s 6ms/step - loss: 4.7754 - mae: 4.7754\n",
            "Epoch 33/80\n",
            "2/2 [==============================] - 0s 6ms/step - loss: 4.9315 - mae: 4.9315\n",
            "Epoch 34/80\n",
            "2/2 [==============================] - 0s 5ms/step - loss: 4.6930 - mae: 4.6930\n",
            "Epoch 35/80\n",
            "2/2 [==============================] - 0s 5ms/step - loss: 4.8126 - mae: 4.8126\n",
            "Epoch 36/80\n",
            "2/2 [==============================] - 0s 10ms/step - loss: 4.3019 - mae: 4.3019\n",
            "Epoch 37/80\n",
            "2/2 [==============================] - 0s 6ms/step - loss: 4.7096 - mae: 4.7096\n",
            "Epoch 38/80\n",
            "2/2 [==============================] - 0s 6ms/step - loss: 4.1841 - mae: 4.1841\n",
            "Epoch 39/80\n",
            "2/2 [==============================] - 0s 7ms/step - loss: 3.9906 - mae: 3.9906\n",
            "Epoch 40/80\n",
            "2/2 [==============================] - 0s 6ms/step - loss: 3.9089 - mae: 3.9089\n",
            "Epoch 41/80\n",
            "2/2 [==============================] - 0s 6ms/step - loss: 3.9119 - mae: 3.9119\n",
            "Epoch 42/80\n",
            "2/2 [==============================] - 0s 17ms/step - loss: 3.6493 - mae: 3.6493\n",
            "Epoch 43/80\n",
            "2/2 [==============================] - 0s 6ms/step - loss: 3.7734 - mae: 3.7734\n",
            "Epoch 44/80\n",
            "2/2 [==============================] - 0s 6ms/step - loss: 3.1315 - mae: 3.1315\n",
            "Epoch 45/80\n",
            "2/2 [==============================] - 0s 5ms/step - loss: 3.3893 - mae: 3.3893\n",
            "Epoch 46/80\n",
            "2/2 [==============================] - 0s 6ms/step - loss: 2.7844 - mae: 2.7844\n",
            "Epoch 47/80\n",
            "2/2 [==============================] - 0s 5ms/step - loss: 2.9044 - mae: 2.9044\n",
            "Epoch 48/80\n",
            "2/2 [==============================] - 0s 5ms/step - loss: 2.4192 - mae: 2.4192\n",
            "Epoch 49/80\n",
            "2/2 [==============================] - 0s 6ms/step - loss: 2.3618 - mae: 2.3618\n",
            "Epoch 50/80\n",
            "2/2 [==============================] - 0s 6ms/step - loss: 1.9453 - mae: 1.9453\n",
            "Epoch 51/80\n",
            "2/2 [==============================] - 0s 6ms/step - loss: 2.0126 - mae: 2.0126\n",
            "Epoch 52/80\n",
            "2/2 [==============================] - 0s 6ms/step - loss: 2.0654 - mae: 2.0654\n",
            "Epoch 53/80\n",
            "2/2 [==============================] - 0s 6ms/step - loss: 1.7940 - mae: 1.7940\n",
            "Epoch 54/80\n",
            "2/2 [==============================] - 0s 6ms/step - loss: 2.1607 - mae: 2.1607\n",
            "Epoch 55/80\n",
            "2/2 [==============================] - 0s 6ms/step - loss: 1.8694 - mae: 1.8694\n",
            "Epoch 56/80\n",
            "2/2 [==============================] - 0s 5ms/step - loss: 1.9170 - mae: 1.9170\n",
            "Epoch 57/80\n",
            "2/2 [==============================] - 0s 6ms/step - loss: 1.9466 - mae: 1.9466\n",
            "Epoch 58/80\n",
            "2/2 [==============================] - 0s 7ms/step - loss: 1.0617 - mae: 1.0617\n",
            "Epoch 59/80\n",
            "2/2 [==============================] - 0s 5ms/step - loss: 0.8103 - mae: 0.8103\n",
            "Epoch 60/80\n",
            "2/2 [==============================] - 0s 5ms/step - loss: 1.1104 - mae: 1.1104\n",
            "Epoch 61/80\n",
            "2/2 [==============================] - 0s 6ms/step - loss: 1.0433 - mae: 1.0433\n",
            "Epoch 62/80\n",
            "2/2 [==============================] - 0s 5ms/step - loss: 0.7330 - mae: 0.7330\n",
            "Epoch 63/80\n",
            "2/2 [==============================] - 0s 6ms/step - loss: 1.4139 - mae: 1.4139\n",
            "Epoch 64/80\n",
            "2/2 [==============================] - 0s 5ms/step - loss: 0.6150 - mae: 0.6150\n",
            "Epoch 65/80\n",
            "2/2 [==============================] - 0s 5ms/step - loss: 0.6189 - mae: 0.6189\n",
            "Epoch 66/80\n",
            "2/2 [==============================] - 0s 6ms/step - loss: 0.6518 - mae: 0.6518\n",
            "Epoch 67/80\n",
            "2/2 [==============================] - 0s 10ms/step - loss: 0.4741 - mae: 0.4741\n",
            "Epoch 68/80\n",
            "2/2 [==============================] - 0s 6ms/step - loss: 1.0264 - mae: 1.0264\n",
            "Epoch 69/80\n",
            "2/2 [==============================] - 0s 5ms/step - loss: 0.3545 - mae: 0.3545\n",
            "Epoch 70/80\n",
            "2/2 [==============================] - 0s 5ms/step - loss: 2.4099 - mae: 2.4099\n",
            "Epoch 71/80\n",
            "2/2 [==============================] - 0s 6ms/step - loss: 1.1546 - mae: 1.1546\n",
            "Epoch 72/80\n",
            "2/2 [==============================] - 0s 5ms/step - loss: 0.9562 - mae: 0.9562\n",
            "Epoch 73/80\n",
            "2/2 [==============================] - 0s 5ms/step - loss: 0.3879 - mae: 0.3879\n",
            "Epoch 74/80\n",
            "2/2 [==============================] - 0s 6ms/step - loss: 0.3928 - mae: 0.3928\n",
            "Epoch 75/80\n",
            "2/2 [==============================] - 0s 5ms/step - loss: 0.1774 - mae: 0.1774\n",
            "Epoch 76/80\n",
            "2/2 [==============================] - 0s 6ms/step - loss: 0.3620 - mae: 0.3620\n",
            "Epoch 77/80\n",
            "2/2 [==============================] - 0s 7ms/step - loss: 1.1326 - mae: 1.1326\n",
            "Epoch 78/80\n",
            "2/2 [==============================] - 0s 6ms/step - loss: 0.6781 - mae: 0.6781\n",
            "Epoch 79/80\n",
            "2/2 [==============================] - 0s 6ms/step - loss: 0.5295 - mae: 0.5295\n",
            "Epoch 80/80\n",
            "2/2 [==============================] - 0s 7ms/step - loss: 1.4563 - mae: 1.4563\n"
          ]
        },
        {
          "output_type": "execute_result",
          "data": {
            "text/plain": [
              "<keras.callbacks.History at 0x7f71461fe510>"
            ]
          },
          "metadata": {},
          "execution_count": 42
        }
      ]
    },
    {
      "cell_type": "code",
      "source": [
        "y_pred = model.predict(x_test)\n",
        "y_pred"
      ],
      "metadata": {
        "colab": {
          "base_uri": "https://localhost:8080/"
        },
        "id": "n1J9iv4yH7lJ",
        "outputId": "fdb5902d-405f-4c1e-da20-913c78fdf4c5"
      },
      "execution_count": 43,
      "outputs": [
        {
          "output_type": "stream",
          "name": "stderr",
          "text": [
            "WARNING:tensorflow:5 out of the last 5 calls to <function Model.make_predict_function.<locals>.predict_function at 0x7f7146231b90> triggered tf.function retracing. Tracing is expensive and the excessive number of tracings could be due to (1) creating @tf.function repeatedly in a loop, (2) passing tensors with different shapes, (3) passing Python objects instead of tensors. For (1), please define your @tf.function outside of the loop. For (2), @tf.function has reduce_retracing=True option that can avoid unnecessary retracing. For (3), please refer to https://www.tensorflow.org/guide/function#controlling_retracing and https://www.tensorflow.org/api_docs/python/tf/function for  more details.\n"
          ]
        },
        {
          "output_type": "stream",
          "name": "stdout",
          "text": [
            "1/1 [==============================] - 0s 41ms/step\n"
          ]
        },
        {
          "output_type": "execute_result",
          "data": {
            "text/plain": [
              "array([[ 68.09306 ],\n",
              "       [ 71.95488 ],\n",
              "       [ 75.816696],\n",
              "       [ 79.67851 ],\n",
              "       [ 83.54033 ],\n",
              "       [ 87.402145],\n",
              "       [ 91.263954],\n",
              "       [ 95.12576 ],\n",
              "       [ 98.98759 ],\n",
              "       [102.8494  ]], dtype=float32)"
            ]
          },
          "metadata": {},
          "execution_count": 43
        }
      ]
    },
    {
      "cell_type": "code",
      "source": [
        "def plot_predictions(y_pred,x_train = x_train,y_train = y_train,x_test = x_test,y_test = y_test):\n",
        "  plt.figure(figsize = (10,7))\n",
        "  plt.scatter(x_train,y_train,c = \"b\",label = \"Training Data\")\n",
        "  plt.scatter(x_test,y_test,c =\"r\",label = \"Testing Data\")\n",
        "  plt.scatter(y_test,y_pred,c = \"g\",label = \"Predictions\")\n",
        "  plt.legend()"
      ],
      "metadata": {
        "id": "ZvFw5Jj1BYZb"
      },
      "execution_count": 44,
      "outputs": []
    },
    {
      "cell_type": "markdown",
      "source": [
        "## Evaluating the model on the test set"
      ],
      "metadata": {
        "id": "Zdzx-OvkCZL3"
      }
    },
    {
      "cell_type": "code",
      "source": [
        "model.evaluate(x_test,y_test)"
      ],
      "metadata": {
        "colab": {
          "base_uri": "https://localhost:8080/"
        },
        "id": "ecCmpvbnExCP",
        "outputId": "b8e52aff-4dfb-4a0a-9921-d2ffbb5329ad"
      },
      "execution_count": 45,
      "outputs": [
        {
          "output_type": "stream",
          "name": "stdout",
          "text": [
            "1/1 [==============================] - 0s 122ms/step - loss: 2.5288 - mae: 2.5288\n"
          ]
        },
        {
          "output_type": "execute_result",
          "data": {
            "text/plain": [
              "[2.528766632080078, 2.528766632080078]"
            ]
          },
          "metadata": {},
          "execution_count": 45
        }
      ]
    },
    {
      "cell_type": "code",
      "source": [
        "mae = tf.metrics.mean_absolute_error(y_true = y_test,y_pred = y_pred)\n",
        "mae"
      ],
      "metadata": {
        "id": "OBNKufPeE0PM",
        "colab": {
          "base_uri": "https://localhost:8080/"
        },
        "outputId": "99f11adc-114c-4f9b-b938-bf60b388f3c0"
      },
      "execution_count": 46,
      "outputs": [
        {
          "output_type": "execute_result",
          "data": {
            "text/plain": [
              "<tf.Tensor: shape=(10,), dtype=float32, numpy=\n",
              "array([19.906937, 16.436096, 13.709982, 11.728595, 10.491934, 10.      ,\n",
              "       10.25279 , 11.250305, 12.992552, 15.479523], dtype=float32)>"
            ]
          },
          "metadata": {},
          "execution_count": 46
        }
      ]
    },
    {
      "cell_type": "code",
      "source": [
        "tf.constant(y_pred)"
      ],
      "metadata": {
        "colab": {
          "base_uri": "https://localhost:8080/"
        },
        "id": "1pgaqPDdN_l4",
        "outputId": "4657ef1b-af28-4961-e089-e3ccd755f0cd"
      },
      "execution_count": 47,
      "outputs": [
        {
          "output_type": "execute_result",
          "data": {
            "text/plain": [
              "<tf.Tensor: shape=(10, 1), dtype=float32, numpy=\n",
              "array([[ 68.09306 ],\n",
              "       [ 71.95488 ],\n",
              "       [ 75.816696],\n",
              "       [ 79.67851 ],\n",
              "       [ 83.54033 ],\n",
              "       [ 87.402145],\n",
              "       [ 91.263954],\n",
              "       [ 95.12576 ],\n",
              "       [ 98.98759 ],\n",
              "       [102.8494  ]], dtype=float32)>"
            ]
          },
          "metadata": {},
          "execution_count": 47
        }
      ]
    },
    {
      "cell_type": "code",
      "source": [
        "tf.squeeze(y_pred)"
      ],
      "metadata": {
        "colab": {
          "base_uri": "https://localhost:8080/"
        },
        "id": "mGfBmr31OYRn",
        "outputId": "3fa859c6-cfb8-4e7f-d77e-c3548e330a66"
      },
      "execution_count": 48,
      "outputs": [
        {
          "output_type": "execute_result",
          "data": {
            "text/plain": [
              "<tf.Tensor: shape=(10,), dtype=float32, numpy=\n",
              "array([ 68.09306 ,  71.95488 ,  75.816696,  79.67851 ,  83.54033 ,\n",
              "        87.402145,  91.263954,  95.12576 ,  98.98759 , 102.8494  ],\n",
              "      dtype=float32)>"
            ]
          },
          "metadata": {},
          "execution_count": 48
        }
      ]
    },
    {
      "cell_type": "code",
      "source": [
        "mae = tf.metrics.mean_absolute_error(y_true = y_test,y_pred = tf.squeeze(y_pred))\n",
        "mae"
      ],
      "metadata": {
        "colab": {
          "base_uri": "https://localhost:8080/"
        },
        "id": "AALdraZxOc39",
        "outputId": "cf129b2e-3054-4a6f-9b7f-9921c94eddce"
      },
      "execution_count": 49,
      "outputs": [
        {
          "output_type": "execute_result",
          "data": {
            "text/plain": [
              "<tf.Tensor: shape=(), dtype=float32, numpy=2.5287666>"
            ]
          },
          "metadata": {},
          "execution_count": 49
        }
      ]
    },
    {
      "cell_type": "code",
      "source": [
        "mse = tf.metrics.mean_squared_error(y_true = y_test,y_pred = tf.squeeze(y_pred))\n",
        "mse"
      ],
      "metadata": {
        "colab": {
          "base_uri": "https://localhost:8080/"
        },
        "id": "YZW6KBjKOlSC",
        "outputId": "7df0d1a2-6d7e-4abe-cfbb-b65d7ca8eb26"
      },
      "execution_count": 50,
      "outputs": [
        {
          "output_type": "execute_result",
          "data": {
            "text/plain": [
              "<tf.Tensor: shape=(), dtype=float32, numpy=6.5521955>"
            ]
          },
          "metadata": {},
          "execution_count": 50
        }
      ]
    },
    {
      "cell_type": "code",
      "source": [
        "# Make functions to reuse MAE and MSE\n",
        "def mae(y_true,y_pred):\n",
        "  return tf.metrics.mean_absolute_error(y_true = y_true,y_pred = y_pred)\n",
        "def mse(y_true,y_pred):\n",
        "  return tf.metrics.mean_squared_error(y_true = y_true,y_pred = y_pred)"
      ],
      "metadata": {
        "id": "0Kxxl2wMPDII"
      },
      "execution_count": 51,
      "outputs": []
    },
    {
      "cell_type": "markdown",
      "source": [
        "## Running Experiments to improve our Model"
      ],
      "metadata": {
        "id": "0waUESm1Pn-t"
      }
    },
    {
      "cell_type": "code",
      "source": [
        "tf.random.set_seed(42)\n",
        "\n",
        "model_1 = tf.keras.Sequential([\n",
        "    tf.keras.layers.Dense(1,input_shape = (1,))\n",
        "])\n",
        "model_1.compile(loss = 'mae',optimizer = tf.keras.optimizers.SGD(),metrics = ['mae'])"
      ],
      "metadata": {
        "id": "YSH3n59lP_eF"
      },
      "execution_count": 52,
      "outputs": []
    },
    {
      "cell_type": "code",
      "source": [
        "x = tf.range(-100,100,4)\n",
        "y = x+10"
      ],
      "metadata": {
        "id": "rQVMR3BMRlvF"
      },
      "execution_count": 53,
      "outputs": []
    },
    {
      "cell_type": "code",
      "source": [
        "x_train = x[:int(len(x)*0.8)]\n",
        "y_train = y[:int(len(y)*0.8)]\n",
        "\n",
        "x_test = x[int(len(x)*0.8):]\n",
        "y_test = y[int(len(y)*0.8):]"
      ],
      "metadata": {
        "id": "Gd7825VFRA7q"
      },
      "execution_count": 54,
      "outputs": []
    },
    {
      "cell_type": "code",
      "source": [
        "model_1.fit(x_train,y_train,epochs = 100)"
      ],
      "metadata": {
        "colab": {
          "base_uri": "https://localhost:8080/"
        },
        "id": "t19z0bsCRePb",
        "outputId": "42e70f97-5ba7-4d09-a6be-d69d7d88e419"
      },
      "execution_count": 55,
      "outputs": [
        {
          "output_type": "stream",
          "name": "stdout",
          "text": [
            "Epoch 1/100\n",
            "2/2 [==============================] - 0s 8ms/step - loss: 15.9024 - mae: 15.9024\n",
            "Epoch 2/100\n",
            "2/2 [==============================] - 0s 7ms/step - loss: 11.2837 - mae: 11.2837\n",
            "Epoch 3/100\n",
            "2/2 [==============================] - 0s 6ms/step - loss: 11.1074 - mae: 11.1074\n",
            "Epoch 4/100\n",
            "2/2 [==============================] - 0s 6ms/step - loss: 9.2990 - mae: 9.2990\n",
            "Epoch 5/100\n",
            "2/2 [==============================] - 0s 6ms/step - loss: 10.1677 - mae: 10.1677\n",
            "Epoch 6/100\n",
            "2/2 [==============================] - 0s 6ms/step - loss: 9.4303 - mae: 9.4303\n",
            "Epoch 7/100\n",
            "2/2 [==============================] - 0s 7ms/step - loss: 8.5704 - mae: 8.5704\n",
            "Epoch 8/100\n",
            "2/2 [==============================] - 0s 6ms/step - loss: 9.0442 - mae: 9.0442\n",
            "Epoch 9/100\n",
            "2/2 [==============================] - 0s 6ms/step - loss: 18.7517 - mae: 18.7517\n",
            "Epoch 10/100\n",
            "2/2 [==============================] - 0s 6ms/step - loss: 10.1142 - mae: 10.1142\n",
            "Epoch 11/100\n",
            "2/2 [==============================] - 0s 7ms/step - loss: 8.3980 - mae: 8.3980\n",
            "Epoch 12/100\n",
            "2/2 [==============================] - 0s 6ms/step - loss: 10.6639 - mae: 10.6639\n",
            "Epoch 13/100\n",
            "2/2 [==============================] - 0s 7ms/step - loss: 9.7977 - mae: 9.7977\n",
            "Epoch 14/100\n",
            "2/2 [==============================] - 0s 6ms/step - loss: 16.0103 - mae: 16.0103\n",
            "Epoch 15/100\n",
            "2/2 [==============================] - 0s 6ms/step - loss: 11.4068 - mae: 11.4068\n",
            "Epoch 16/100\n",
            "2/2 [==============================] - 0s 6ms/step - loss: 8.5393 - mae: 8.5393\n",
            "Epoch 17/100\n",
            "2/2 [==============================] - 0s 7ms/step - loss: 13.6348 - mae: 13.6348\n",
            "Epoch 18/100\n",
            "2/2 [==============================] - 0s 6ms/step - loss: 11.4629 - mae: 11.4629\n",
            "Epoch 19/100\n",
            "2/2 [==============================] - 0s 6ms/step - loss: 17.9148 - mae: 17.9148\n",
            "Epoch 20/100\n",
            "2/2 [==============================] - 0s 6ms/step - loss: 15.0494 - mae: 15.0494\n",
            "Epoch 21/100\n",
            "2/2 [==============================] - 0s 7ms/step - loss: 11.0216 - mae: 11.0216\n",
            "Epoch 22/100\n",
            "2/2 [==============================] - 0s 7ms/step - loss: 8.1558 - mae: 8.1558\n",
            "Epoch 23/100\n",
            "2/2 [==============================] - 0s 6ms/step - loss: 9.5138 - mae: 9.5138\n",
            "Epoch 24/100\n",
            "2/2 [==============================] - 0s 5ms/step - loss: 7.6617 - mae: 7.6617\n",
            "Epoch 25/100\n",
            "2/2 [==============================] - 0s 5ms/step - loss: 13.1859 - mae: 13.1859\n",
            "Epoch 26/100\n",
            "2/2 [==============================] - 0s 15ms/step - loss: 16.4211 - mae: 16.4211\n",
            "Epoch 27/100\n",
            "2/2 [==============================] - 0s 6ms/step - loss: 13.1659 - mae: 13.1659\n",
            "Epoch 28/100\n",
            "2/2 [==============================] - 0s 7ms/step - loss: 14.2559 - mae: 14.2559\n",
            "Epoch 29/100\n",
            "2/2 [==============================] - 0s 13ms/step - loss: 10.0670 - mae: 10.0670\n",
            "Epoch 30/100\n",
            "2/2 [==============================] - 0s 5ms/step - loss: 16.3409 - mae: 16.3409\n",
            "Epoch 31/100\n",
            "2/2 [==============================] - 0s 15ms/step - loss: 23.6444 - mae: 23.6444\n",
            "Epoch 32/100\n",
            "2/2 [==============================] - 0s 6ms/step - loss: 7.6215 - mae: 7.6215\n",
            "Epoch 33/100\n",
            "2/2 [==============================] - 0s 6ms/step - loss: 9.3221 - mae: 9.3221\n",
            "Epoch 34/100\n",
            "2/2 [==============================] - 0s 5ms/step - loss: 13.7313 - mae: 13.7313\n",
            "Epoch 35/100\n",
            "2/2 [==============================] - 0s 6ms/step - loss: 11.1276 - mae: 11.1276\n",
            "Epoch 36/100\n",
            "2/2 [==============================] - 0s 4ms/step - loss: 13.3222 - mae: 13.3222\n",
            "Epoch 37/100\n",
            "2/2 [==============================] - 0s 6ms/step - loss: 9.4763 - mae: 9.4763\n",
            "Epoch 38/100\n",
            "2/2 [==============================] - 0s 6ms/step - loss: 10.1381 - mae: 10.1381\n",
            "Epoch 39/100\n",
            "2/2 [==============================] - 0s 7ms/step - loss: 10.1793 - mae: 10.1793\n",
            "Epoch 40/100\n",
            "2/2 [==============================] - 0s 7ms/step - loss: 10.9137 - mae: 10.9137\n",
            "Epoch 41/100\n",
            "2/2 [==============================] - 0s 5ms/step - loss: 7.9063 - mae: 7.9063\n",
            "Epoch 42/100\n",
            "2/2 [==============================] - 0s 5ms/step - loss: 10.0914 - mae: 10.0914\n",
            "Epoch 43/100\n",
            "2/2 [==============================] - 0s 8ms/step - loss: 8.7006 - mae: 8.7006\n",
            "Epoch 44/100\n",
            "2/2 [==============================] - 0s 5ms/step - loss: 12.2047 - mae: 12.2047\n",
            "Epoch 45/100\n",
            "2/2 [==============================] - 0s 6ms/step - loss: 13.7970 - mae: 13.7970\n",
            "Epoch 46/100\n",
            "2/2 [==============================] - 0s 7ms/step - loss: 8.4687 - mae: 8.4687\n",
            "Epoch 47/100\n",
            "2/2 [==============================] - 0s 7ms/step - loss: 9.1330 - mae: 9.1330\n",
            "Epoch 48/100\n",
            "2/2 [==============================] - 0s 6ms/step - loss: 10.6190 - mae: 10.6190\n",
            "Epoch 49/100\n",
            "2/2 [==============================] - 0s 7ms/step - loss: 7.7503 - mae: 7.7503\n",
            "Epoch 50/100\n",
            "2/2 [==============================] - 0s 8ms/step - loss: 9.5407 - mae: 9.5407\n",
            "Epoch 51/100\n",
            "2/2 [==============================] - 0s 9ms/step - loss: 9.1584 - mae: 9.1584\n",
            "Epoch 52/100\n",
            "2/2 [==============================] - 0s 14ms/step - loss: 16.3630 - mae: 16.3630\n",
            "Epoch 53/100\n",
            "2/2 [==============================] - 0s 18ms/step - loss: 14.1299 - mae: 14.1299\n",
            "Epoch 54/100\n",
            "2/2 [==============================] - 0s 7ms/step - loss: 21.1247 - mae: 21.1247\n",
            "Epoch 55/100\n",
            "2/2 [==============================] - 0s 14ms/step - loss: 16.3961 - mae: 16.3961\n",
            "Epoch 56/100\n",
            "2/2 [==============================] - 0s 7ms/step - loss: 9.9806 - mae: 9.9806\n",
            "Epoch 57/100\n",
            "2/2 [==============================] - 0s 12ms/step - loss: 9.9606 - mae: 9.9606\n",
            "Epoch 58/100\n",
            "2/2 [==============================] - 0s 11ms/step - loss: 9.2209 - mae: 9.2209\n",
            "Epoch 59/100\n",
            "2/2 [==============================] - 0s 7ms/step - loss: 8.4239 - mae: 8.4239\n",
            "Epoch 60/100\n",
            "2/2 [==============================] - 0s 8ms/step - loss: 9.4869 - mae: 9.4869\n",
            "Epoch 61/100\n",
            "2/2 [==============================] - 0s 10ms/step - loss: 11.4355 - mae: 11.4355\n",
            "Epoch 62/100\n",
            "2/2 [==============================] - 0s 13ms/step - loss: 11.6887 - mae: 11.6887\n",
            "Epoch 63/100\n",
            "2/2 [==============================] - 0s 15ms/step - loss: 7.0838 - mae: 7.0838\n",
            "Epoch 64/100\n",
            "2/2 [==============================] - 0s 13ms/step - loss: 16.9675 - mae: 16.9675\n",
            "Epoch 65/100\n",
            "2/2 [==============================] - 0s 11ms/step - loss: 12.4599 - mae: 12.4599\n",
            "Epoch 66/100\n",
            "2/2 [==============================] - 0s 12ms/step - loss: 13.0184 - mae: 13.0184\n",
            "Epoch 67/100\n",
            "2/2 [==============================] - 0s 10ms/step - loss: 8.0600 - mae: 8.0600\n",
            "Epoch 68/100\n",
            "2/2 [==============================] - 0s 9ms/step - loss: 10.1888 - mae: 10.1888\n",
            "Epoch 69/100\n",
            "2/2 [==============================] - 0s 10ms/step - loss: 12.3633 - mae: 12.3633\n",
            "Epoch 70/100\n",
            "2/2 [==============================] - 0s 13ms/step - loss: 9.0516 - mae: 9.0516\n",
            "Epoch 71/100\n",
            "2/2 [==============================] - 0s 8ms/step - loss: 10.0378 - mae: 10.0378\n",
            "Epoch 72/100\n",
            "2/2 [==============================] - 0s 12ms/step - loss: 10.0516 - mae: 10.0516\n",
            "Epoch 73/100\n",
            "2/2 [==============================] - 0s 26ms/step - loss: 12.6151 - mae: 12.6151\n",
            "Epoch 74/100\n",
            "2/2 [==============================] - 0s 10ms/step - loss: 10.3819 - mae: 10.3819\n",
            "Epoch 75/100\n",
            "2/2 [==============================] - 0s 14ms/step - loss: 9.7229 - mae: 9.7229\n",
            "Epoch 76/100\n",
            "2/2 [==============================] - 0s 16ms/step - loss: 11.2252 - mae: 11.2252\n",
            "Epoch 77/100\n",
            "2/2 [==============================] - 0s 14ms/step - loss: 8.3642 - mae: 8.3642\n",
            "Epoch 78/100\n",
            "2/2 [==============================] - 0s 16ms/step - loss: 9.1274 - mae: 9.1274\n",
            "Epoch 79/100\n",
            "2/2 [==============================] - 0s 8ms/step - loss: 19.5039 - mae: 19.5039\n",
            "Epoch 80/100\n",
            "2/2 [==============================] - 0s 9ms/step - loss: 14.8945 - mae: 14.8945\n",
            "Epoch 81/100\n",
            "2/2 [==============================] - 0s 9ms/step - loss: 9.0034 - mae: 9.0034\n",
            "Epoch 82/100\n",
            "2/2 [==============================] - 0s 9ms/step - loss: 13.0206 - mae: 13.0206\n",
            "Epoch 83/100\n",
            "2/2 [==============================] - 0s 10ms/step - loss: 7.9299 - mae: 7.9299\n",
            "Epoch 84/100\n",
            "2/2 [==============================] - 0s 17ms/step - loss: 7.6872 - mae: 7.6872\n",
            "Epoch 85/100\n",
            "2/2 [==============================] - 0s 12ms/step - loss: 10.0328 - mae: 10.0328\n",
            "Epoch 86/100\n",
            "2/2 [==============================] - 0s 10ms/step - loss: 9.2433 - mae: 9.2433\n",
            "Epoch 87/100\n",
            "2/2 [==============================] - 0s 10ms/step - loss: 12.0209 - mae: 12.0209\n",
            "Epoch 88/100\n",
            "2/2 [==============================] - 0s 8ms/step - loss: 10.6389 - mae: 10.6389\n",
            "Epoch 89/100\n",
            "2/2 [==============================] - 0s 7ms/step - loss: 7.2667 - mae: 7.2667\n",
            "Epoch 90/100\n",
            "2/2 [==============================] - 0s 13ms/step - loss: 12.7786 - mae: 12.7786\n",
            "Epoch 91/100\n",
            "2/2 [==============================] - 0s 13ms/step - loss: 7.3481 - mae: 7.3481\n",
            "Epoch 92/100\n",
            "2/2 [==============================] - 0s 16ms/step - loss: 7.7175 - mae: 7.7175\n",
            "Epoch 93/100\n",
            "2/2 [==============================] - 0s 13ms/step - loss: 7.1263 - mae: 7.1263\n",
            "Epoch 94/100\n",
            "2/2 [==============================] - 0s 16ms/step - loss: 12.6190 - mae: 12.6190\n",
            "Epoch 95/100\n",
            "2/2 [==============================] - 0s 7ms/step - loss: 10.0912 - mae: 10.0912\n",
            "Epoch 96/100\n",
            "2/2 [==============================] - 0s 7ms/step - loss: 9.3558 - mae: 9.3558\n",
            "Epoch 97/100\n",
            "2/2 [==============================] - 0s 7ms/step - loss: 12.6834 - mae: 12.6834\n",
            "Epoch 98/100\n",
            "2/2 [==============================] - 0s 7ms/step - loss: 8.6762 - mae: 8.6762\n",
            "Epoch 99/100\n",
            "2/2 [==============================] - 0s 8ms/step - loss: 9.4693 - mae: 9.4693\n",
            "Epoch 100/100\n",
            "2/2 [==============================] - 0s 25ms/step - loss: 8.7067 - mae: 8.7067\n"
          ]
        },
        {
          "output_type": "execute_result",
          "data": {
            "text/plain": [
              "<keras.callbacks.History at 0x7f7146073ad0>"
            ]
          },
          "metadata": {},
          "execution_count": 55
        }
      ]
    },
    {
      "cell_type": "code",
      "source": [
        "#Make and plot predictions for model 1\n",
        "y_preds_1 = model_1.predict(x_test)"
      ],
      "metadata": {
        "colab": {
          "base_uri": "https://localhost:8080/"
        },
        "id": "1IDHImkBTMeo",
        "outputId": "35b9f40a-2917-4f0c-abf0-0af0575cf304"
      },
      "execution_count": 56,
      "outputs": [
        {
          "output_type": "stream",
          "name": "stderr",
          "text": [
            "WARNING:tensorflow:6 out of the last 6 calls to <function Model.make_predict_function.<locals>.predict_function at 0x7f71464f13b0> triggered tf.function retracing. Tracing is expensive and the excessive number of tracings could be due to (1) creating @tf.function repeatedly in a loop, (2) passing tensors with different shapes, (3) passing Python objects instead of tensors. For (1), please define your @tf.function outside of the loop. For (2), @tf.function has reduce_retracing=True option that can avoid unnecessary retracing. For (3), please refer to https://www.tensorflow.org/guide/function#controlling_retracing and https://www.tensorflow.org/api_docs/python/tf/function for  more details.\n"
          ]
        },
        {
          "output_type": "stream",
          "name": "stdout",
          "text": [
            "1/1 [==============================] - 0s 173ms/step\n"
          ]
        }
      ]
    },
    {
      "cell_type": "code",
      "source": [
        "plot_predictions(y_preds_1)"
      ],
      "metadata": {
        "colab": {
          "base_uri": "https://localhost:8080/",
          "height": 428
        },
        "id": "1bsO9zPPTcHd",
        "outputId": "d872855e-a2e5-4fd1-ebbc-ac9e512a6e4d"
      },
      "execution_count": 57,
      "outputs": [
        {
          "output_type": "display_data",
          "data": {
            "text/plain": [
              "<Figure size 720x504 with 1 Axes>"
            ],
            "image/png": "[encoded data removed]"
          },
          "metadata": {
            "needs_background": "light"
          }
        }
      ]
    },
    {
      "cell_type": "code",
      "source": [
        "mae_1 = mae(y_test,tf.squeeze(y_preds_1))\n",
        "mse_1 = mse(y_test,tf.squeeze(y_preds_1))\n",
        "mae_1,mse_1"
      ],
      "metadata": {
        "colab": {
          "base_uri": "https://localhost:8080/"
        },
        "id": "RLeRexrgTy4e",
        "outputId": "7f053738-b9df-4b08-bd86-21ca93986ec1"
      },
      "execution_count": 58,
      "outputs": [
        {
          "output_type": "execute_result",
          "data": {
            "text/plain": [
              "(<tf.Tensor: shape=(), dtype=float32, numpy=18.745327>,\n",
              " <tf.Tensor: shape=(), dtype=float32, numpy=353.5734>)"
            ]
          },
          "metadata": {},
          "execution_count": 58
        }
      ]
    },
    {
      "cell_type": "code",
      "source": [
        "model_2 = tf.keras.Sequential([\n",
        "    tf.keras.layers.Dense(10,input_shape = (1,)), \n",
        "    tf.keras.layers.Dense(1),\n",
        "    \n",
        "])\n",
        "model_2.compile(loss = 'mae',optimizer = tf.keras.optimizers.SGD(),metrics = ['mse'])"
      ],
      "metadata": {
        "id": "yhN2KkXHUVpd"
      },
      "execution_count": 59,
      "outputs": []
    },
    {
      "cell_type": "code",
      "source": [
        "model_2.fit(x_train,y_train,epochs = 100)"
      ],
      "metadata": {
        "colab": {
          "base_uri": "https://localhost:8080/"
        },
        "id": "FQwCKjVvU3xz",
        "outputId": "bb7ed627-ff5e-4efe-b74b-b099690d89e4"
      },
      "execution_count": 60,
      "outputs": [
        {
          "output_type": "stream",
          "name": "stdout",
          "text": [
            "Epoch 1/100\n",
            "2/2 [==============================] - 1s 9ms/step - loss: 73.0019 - mse: 7955.5830\n",
            "Epoch 2/100\n",
            "2/2 [==============================] - 0s 6ms/step - loss: 17.5325 - mse: 483.7136\n",
            "Epoch 3/100\n",
            "2/2 [==============================] - 0s 8ms/step - loss: 20.4862 - mse: 612.8412\n",
            "Epoch 4/100\n",
            "2/2 [==============================] - 0s 7ms/step - loss: 13.1871 - mse: 230.7354\n",
            "Epoch 5/100\n",
            "2/2 [==============================] - 0s 14ms/step - loss: 14.5492 - mse: 261.8346\n",
            "Epoch 6/100\n",
            "2/2 [==============================] - 0s 7ms/step - loss: 11.6087 - mse: 155.5870\n",
            "Epoch 7/100\n",
            "2/2 [==============================] - 0s 10ms/step - loss: 12.6668 - mse: 215.1635\n",
            "Epoch 8/100\n",
            "2/2 [==============================] - 0s 6ms/step - loss: 11.0468 - mse: 150.9928\n",
            "Epoch 9/100\n",
            "2/2 [==============================] - 0s 6ms/step - loss: 39.7317 - mse: 2475.0784\n",
            "Epoch 10/100\n",
            "2/2 [==============================] - 0s 11ms/step - loss: 27.2189 - mse: 1042.4836\n",
            "Epoch 11/100\n",
            "2/2 [==============================] - 0s 6ms/step - loss: 11.0353 - mse: 181.3308\n",
            "Epoch 12/100\n",
            "2/2 [==============================] - 0s 22ms/step - loss: 24.4166 - mse: 837.2487\n",
            "Epoch 13/100\n",
            "2/2 [==============================] - 0s 5ms/step - loss: 19.3019 - mse: 524.3480\n",
            "Epoch 14/100\n",
            "2/2 [==============================] - 0s 11ms/step - loss: 23.5364 - mse: 848.9196\n",
            "Epoch 15/100\n",
            "2/2 [==============================] - 0s 5ms/step - loss: 15.3061 - mse: 316.2498\n",
            "Epoch 16/100\n",
            "2/2 [==============================] - 0s 5ms/step - loss: 11.3811 - mse: 150.8313\n",
            "Epoch 17/100\n",
            "2/2 [==============================] - 0s 10ms/step - loss: 23.2584 - mse: 757.8694\n",
            "Epoch 18/100\n",
            "2/2 [==============================] - 0s 12ms/step - loss: 11.8111 - mse: 214.7288\n",
            "Epoch 19/100\n",
            "2/2 [==============================] - 0s 8ms/step - loss: 16.5386 - mse: 438.6380\n",
            "Epoch 20/100\n",
            "2/2 [==============================] - 0s 5ms/step - loss: 8.2427 - mse: 93.4057\n",
            "Epoch 21/100\n",
            "2/2 [==============================] - 0s 13ms/step - loss: 14.4055 - mse: 288.0855\n",
            "Epoch 22/100\n",
            "2/2 [==============================] - 0s 8ms/step - loss: 12.8167 - mse: 245.3218\n",
            "Epoch 23/100\n",
            "2/2 [==============================] - 0s 10ms/step - loss: 15.4582 - mse: 314.6257\n",
            "Epoch 24/100\n",
            "2/2 [==============================] - 0s 9ms/step - loss: 15.2467 - mse: 315.2891\n",
            "Epoch 25/100\n",
            "2/2 [==============================] - 0s 8ms/step - loss: 14.3296 - mse: 272.5993\n",
            "Epoch 26/100\n",
            "2/2 [==============================] - 0s 10ms/step - loss: 19.3209 - mse: 566.5536\n",
            "Epoch 27/100\n",
            "2/2 [==============================] - 0s 5ms/step - loss: 11.4720 - mse: 170.2994\n",
            "Epoch 28/100\n",
            "2/2 [==============================] - 0s 4ms/step - loss: 29.1772 - mse: 1384.2203\n",
            "Epoch 29/100\n",
            "2/2 [==============================] - 0s 5ms/step - loss: 9.2578 - mse: 94.4045\n",
            "Epoch 30/100\n",
            "2/2 [==============================] - 0s 6ms/step - loss: 29.8922 - mse: 1620.3466\n",
            "Epoch 31/100\n",
            "2/2 [==============================] - 0s 14ms/step - loss: 54.2504 - mse: 5273.4053\n",
            "Epoch 32/100\n",
            "2/2 [==============================] - 0s 5ms/step - loss: 9.5899 - mse: 101.4287\n",
            "Epoch 33/100\n",
            "2/2 [==============================] - 0s 6ms/step - loss: 12.1833 - mse: 182.2241\n",
            "Epoch 34/100\n",
            "2/2 [==============================] - 0s 20ms/step - loss: 23.9572 - mse: 869.8663\n",
            "Epoch 35/100\n",
            "2/2 [==============================] - 0s 6ms/step - loss: 12.6202 - mse: 243.1982\n",
            "Epoch 36/100\n",
            "2/2 [==============================] - 0s 14ms/step - loss: 21.5189 - mse: 660.4366\n",
            "Epoch 37/100\n",
            "2/2 [==============================] - 0s 7ms/step - loss: 11.3948 - mse: 150.4475\n",
            "Epoch 38/100\n",
            "2/2 [==============================] - 0s 26ms/step - loss: 13.4825 - mse: 270.0060\n",
            "Epoch 39/100\n",
            "2/2 [==============================] - 0s 8ms/step - loss: 10.8031 - mse: 139.6790\n",
            "Epoch 40/100\n",
            "2/2 [==============================] - 0s 5ms/step - loss: 16.6186 - mse: 400.6650\n",
            "Epoch 41/100\n",
            "2/2 [==============================] - 0s 13ms/step - loss: 10.9878 - mse: 180.0287\n",
            "Epoch 42/100\n",
            "2/2 [==============================] - 0s 12ms/step - loss: 9.3120 - mse: 115.1649\n",
            "Epoch 43/100\n",
            "2/2 [==============================] - 0s 7ms/step - loss: 9.6002 - mse: 110.9967\n",
            "Epoch 44/100\n",
            "2/2 [==============================] - 0s 6ms/step - loss: 28.0120 - mse: 1258.6667\n",
            "Epoch 45/100\n",
            "2/2 [==============================] - 0s 7ms/step - loss: 11.2956 - mse: 147.2470\n",
            "Epoch 46/100\n",
            "2/2 [==============================] - 0s 7ms/step - loss: 14.0830 - mse: 289.4815\n",
            "Epoch 47/100\n",
            "2/2 [==============================] - 0s 6ms/step - loss: 13.5011 - mse: 256.6292\n",
            "Epoch 48/100\n",
            "2/2 [==============================] - 0s 10ms/step - loss: 17.3373 - mse: 407.7533\n",
            "Epoch 49/100\n",
            "2/2 [==============================] - 0s 6ms/step - loss: 9.5238 - mse: 98.7683\n",
            "Epoch 50/100\n",
            "2/2 [==============================] - 0s 8ms/step - loss: 13.7154 - mse: 253.9057\n",
            "Epoch 51/100\n",
            "2/2 [==============================] - 0s 8ms/step - loss: 11.5670 - mse: 153.2034\n",
            "Epoch 52/100\n",
            "2/2 [==============================] - 0s 5ms/step - loss: 30.2257 - mse: 1575.6980\n",
            "Epoch 53/100\n",
            "2/2 [==============================] - 0s 6ms/step - loss: 13.7352 - mse: 279.1414\n",
            "Epoch 54/100\n",
            "2/2 [==============================] - 0s 7ms/step - loss: 26.4457 - mse: 1072.7347\n",
            "Epoch 55/100\n",
            "2/2 [==============================] - 0s 6ms/step - loss: 26.0367 - mse: 1028.7068\n",
            "Epoch 56/100\n",
            "2/2 [==============================] - 0s 6ms/step - loss: 11.2460 - mse: 171.5487\n",
            "Epoch 57/100\n",
            "2/2 [==============================] - 0s 23ms/step - loss: 13.2249 - mse: 218.6439\n",
            "Epoch 58/100\n",
            "2/2 [==============================] - 0s 7ms/step - loss: 9.8754 - mse: 107.6232\n",
            "Epoch 59/100\n",
            "2/2 [==============================] - 0s 8ms/step - loss: 13.4150 - mse: 255.2668\n",
            "Epoch 60/100\n",
            "2/2 [==============================] - 0s 8ms/step - loss: 10.9405 - mse: 141.6514\n",
            "Epoch 61/100\n",
            "2/2 [==============================] - 0s 14ms/step - loss: 13.5630 - mse: 246.4109\n",
            "Epoch 62/100\n",
            "2/2 [==============================] - 0s 7ms/step - loss: 17.8775 - mse: 486.6565\n",
            "Epoch 63/100\n",
            "2/2 [==============================] - 0s 5ms/step - loss: 8.7416 - mse: 92.1292\n",
            "Epoch 64/100\n",
            "2/2 [==============================] - 0s 19ms/step - loss: 16.1381 - mse: 373.2913\n",
            "Epoch 65/100\n",
            "2/2 [==============================] - 0s 7ms/step - loss: 10.7498 - mse: 146.6601\n",
            "Epoch 66/100\n",
            "2/2 [==============================] - 0s 7ms/step - loss: 22.1831 - mse: 729.0074\n",
            "Epoch 67/100\n",
            "2/2 [==============================] - 0s 5ms/step - loss: 10.2709 - mse: 121.2550\n",
            "Epoch 68/100\n",
            "2/2 [==============================] - 0s 5ms/step - loss: 13.4682 - mse: 268.9866\n",
            "Epoch 69/100\n",
            "2/2 [==============================] - 0s 5ms/step - loss: 11.4343 - mse: 163.1330\n",
            "Epoch 70/100\n",
            "2/2 [==============================] - 0s 6ms/step - loss: 13.6187 - mse: 245.7688\n",
            "Epoch 71/100\n",
            "2/2 [==============================] - 0s 5ms/step - loss: 15.6233 - mse: 346.7655\n",
            "Epoch 72/100\n",
            "2/2 [==============================] - 0s 15ms/step - loss: 11.8532 - mse: 168.3376\n",
            "Epoch 73/100\n",
            "2/2 [==============================] - 0s 6ms/step - loss: 16.6254 - mse: 372.3840\n",
            "Epoch 74/100\n",
            "2/2 [==============================] - 0s 6ms/step - loss: 24.1342 - mse: 916.6346\n",
            "Epoch 75/100\n",
            "2/2 [==============================] - 0s 15ms/step - loss: 9.6315 - mse: 149.3768\n",
            "Epoch 76/100\n",
            "2/2 [==============================] - 0s 8ms/step - loss: 12.4825 - mse: 189.7122\n",
            "Epoch 77/100\n",
            "2/2 [==============================] - 0s 8ms/step - loss: 16.7086 - mse: 432.6883\n",
            "Epoch 78/100\n",
            "2/2 [==============================] - 0s 6ms/step - loss: 9.0873 - mse: 96.3651\n",
            "Epoch 79/100\n",
            "2/2 [==============================] - 0s 5ms/step - loss: 24.0255 - mse: 868.9746\n",
            "Epoch 80/100\n",
            "2/2 [==============================] - 0s 18ms/step - loss: 26.8174 - mse: 1110.9158\n",
            "Epoch 81/100\n",
            "2/2 [==============================] - 0s 6ms/step - loss: 11.7213 - mse: 172.4502\n",
            "Epoch 82/100\n",
            "2/2 [==============================] - 0s 6ms/step - loss: 12.0124 - mse: 211.8800\n",
            "Epoch 83/100\n",
            "2/2 [==============================] - 0s 6ms/step - loss: 17.4085 - mse: 394.8097\n",
            "Epoch 84/100\n",
            "2/2 [==============================] - 0s 7ms/step - loss: 7.2769 - mse: 73.4361\n",
            "Epoch 85/100\n",
            "2/2 [==============================] - 0s 7ms/step - loss: 14.9605 - mse: 312.6096\n",
            "Epoch 86/100\n",
            "2/2 [==============================] - 0s 7ms/step - loss: 15.2848 - mse: 315.4444\n",
            "Epoch 87/100\n",
            "2/2 [==============================] - 0s 9ms/step - loss: 19.0979 - mse: 520.7350\n",
            "Epoch 88/100\n",
            "2/2 [==============================] - 0s 5ms/step - loss: 29.8574 - mse: 1290.3843\n",
            "Epoch 89/100\n",
            "2/2 [==============================] - 0s 6ms/step - loss: 10.1967 - mse: 124.4853\n",
            "Epoch 90/100\n",
            "2/2 [==============================] - 0s 6ms/step - loss: 21.5458 - mse: 665.3123\n",
            "Epoch 91/100\n",
            "2/2 [==============================] - 0s 4ms/step - loss: 10.5928 - mse: 162.0392\n",
            "Epoch 92/100\n",
            "2/2 [==============================] - 0s 6ms/step - loss: 18.4135 - mse: 464.9262\n",
            "Epoch 93/100\n",
            "2/2 [==============================] - 0s 6ms/step - loss: 7.4299 - mse: 82.2257\n",
            "Epoch 94/100\n",
            "2/2 [==============================] - 0s 19ms/step - loss: 17.7470 - mse: 446.1803\n",
            "Epoch 95/100\n",
            "2/2 [==============================] - 0s 17ms/step - loss: 11.1306 - mse: 164.4274\n",
            "Epoch 96/100\n",
            "2/2 [==============================] - 0s 10ms/step - loss: 19.4420 - mse: 510.8731\n",
            "Epoch 97/100\n",
            "2/2 [==============================] - 0s 9ms/step - loss: 12.1735 - mse: 210.1597\n",
            "Epoch 98/100\n",
            "2/2 [==============================] - 0s 7ms/step - loss: 11.5784 - mse: 169.5827\n",
            "Epoch 99/100\n",
            "2/2 [==============================] - 0s 11ms/step - loss: 13.8853 - mse: 265.3638\n",
            "Epoch 100/100\n",
            "2/2 [==============================] - 0s 12ms/step - loss: 20.2151 - mse: 607.9891\n"
          ]
        },
        {
          "output_type": "execute_result",
          "data": {
            "text/plain": [
              "<keras.callbacks.History at 0x7f712e710110>"
            ]
          },
          "metadata": {},
          "execution_count": 60
        }
      ]
    },
    {
      "cell_type": "code",
      "source": [
        "y_preds_2 = model_2.predict(x_test)\n",
        "y_preds_2.shape,y_test.shape\n",
        "mae_2 = mae(y_test,tf.squeeze(y_preds_2))\n",
        "mse_2 = mse(y_test,tf.squeeze(y_preds_2))\n",
        "mae_2,mse_2"
      ],
      "metadata": {
        "colab": {
          "base_uri": "https://localhost:8080/"
        },
        "id": "PjtGX2taVV0-",
        "outputId": "c4942908-cc35-432b-bba4-cf4673f8575b"
      },
      "execution_count": 68,
      "outputs": [
        {
          "output_type": "stream",
          "name": "stdout",
          "text": [
            "1/1 [==============================] - 0s 15ms/step\n"
          ]
        },
        {
          "output_type": "execute_result",
          "data": {
            "text/plain": [
              "(<tf.Tensor: shape=(), dtype=float32, numpy=3.1110206>,\n",
              " <tf.Tensor: shape=(), dtype=float32, numpy=12.49723>)"
            ]
          },
          "metadata": {},
          "execution_count": 68
        }
      ]
    },
    {
      "cell_type": "code",
      "source": [
        "plt.figure(figsize = (10,7))\n",
        "plt.scatter(x_train,y_train,c = \"b\",label = \"Training Data\")\n",
        "plt.scatter(x_test,y_test,c =\"r\",label = \"Testing Data\")\n",
        "plt.scatter(y_test,y_preds_2,c = \"g\",label = \"Predictions\")\n",
        "plt.legend()"
      ],
      "metadata": {
        "colab": {
          "base_uri": "https://localhost:8080/",
          "height": 445
        },
        "id": "p0C7jmVOVjLT",
        "outputId": "76fcb48c-623e-4460-e0f0-2ad1584efc0a"
      },
      "execution_count": 62,
      "outputs": [
        {
          "output_type": "execute_result",
          "data": {
            "text/plain": [
              "<matplotlib.legend.Legend at 0x7f71a01b9350>"
            ]
          },
          "metadata": {},
          "execution_count": 62
        },
        {
          "output_type": "display_data",
          "data": {
            "text/plain": [
              "<Figure size 720x504 with 1 Axes>"
            ],
            "image/png": "[encoded data removed]"
          },
          "metadata": {
            "needs_background": "light"
          }
        }
      ]
    },
    {
      "cell_type": "code",
      "source": [
        "model_3 = tf.keras.Sequential([\n",
        "    tf.keras.layers.Dense(10,input_shape = (1,)),\n",
        "    tf.keras.layers.Dense(1)\n",
        "])\n",
        "model_3.compile(metrics = ['mae'],optimizer = tf.keras.optimizers.SGD(),loss = 'mae')"
      ],
      "metadata": {
        "id": "c2_YdFD3VmJW"
      },
      "execution_count": 63,
      "outputs": []
    },
    {
      "cell_type": "code",
      "source": [
        "model_3.fit(x_train,y_train,epochs = 500)"
      ],
      "metadata": {
        "colab": {
          "base_uri": "https://localhost:8080/"
        },
        "id": "x8XoKzydXG9e",
        "outputId": "c8254f48-57d6-4f73-9fd8-a3480b15d8e7"
      },
      "execution_count": 64,
      "outputs": [
        {
          "output_type": "stream",
          "name": "stdout",
          "text": [
            "Epoch 1/500\n",
            "2/2 [==============================] - 0s 10ms/step - loss: 21.9353 - mae: 21.9353\n",
            "Epoch 2/500\n",
            "2/2 [==============================] - 0s 7ms/step - loss: 22.0862 - mae: 22.0862\n",
            "Epoch 3/500\n",
            "2/2 [==============================] - 0s 17ms/step - loss: 28.3525 - mae: 28.3525\n",
            "Epoch 4/500\n",
            "2/2 [==============================] - 0s 10ms/step - loss: 23.1307 - mae: 23.1307\n",
            "Epoch 5/500\n",
            "2/2 [==============================] - 0s 6ms/step - loss: 13.8184 - mae: 13.8184\n",
            "Epoch 6/500\n",
            "2/2 [==============================] - 0s 5ms/step - loss: 11.0722 - mae: 11.0722\n",
            "Epoch 7/500\n",
            "2/2 [==============================] - 0s 6ms/step - loss: 12.0519 - mae: 12.0519\n",
            "Epoch 8/500\n",
            "2/2 [==============================] - 0s 11ms/step - loss: 10.8345 - mae: 10.8345\n",
            "Epoch 9/500\n",
            "2/2 [==============================] - 0s 14ms/step - loss: 37.3929 - mae: 37.3929\n",
            "Epoch 10/500\n",
            "2/2 [==============================] - 0s 5ms/step - loss: 25.0762 - mae: 25.0762\n",
            "Epoch 11/500\n",
            "2/2 [==============================] - 0s 10ms/step - loss: 10.2397 - mae: 10.2397\n",
            "Epoch 12/500\n",
            "2/2 [==============================] - 0s 10ms/step - loss: 25.4130 - mae: 25.4130\n",
            "Epoch 13/500\n",
            "2/2 [==============================] - 0s 6ms/step - loss: 16.7518 - mae: 16.7518\n",
            "Epoch 14/500\n",
            "2/2 [==============================] - 0s 5ms/step - loss: 25.4925 - mae: 25.4925\n",
            "Epoch 15/500\n",
            "2/2 [==============================] - 0s 10ms/step - loss: 17.4063 - mae: 17.4063\n",
            "Epoch 16/500\n",
            "2/2 [==============================] - 0s 5ms/step - loss: 9.9920 - mae: 9.9920\n",
            "Epoch 17/500\n",
            "2/2 [==============================] - 0s 6ms/step - loss: 18.4421 - mae: 18.4421\n",
            "Epoch 18/500\n",
            "2/2 [==============================] - 0s 5ms/step - loss: 11.3144 - mae: 11.3144\n",
            "Epoch 19/500\n",
            "2/2 [==============================] - 0s 6ms/step - loss: 13.8716 - mae: 13.8716\n",
            "Epoch 20/500\n",
            "2/2 [==============================] - 0s 6ms/step - loss: 11.1646 - mae: 11.1646\n",
            "Epoch 21/500\n",
            "2/2 [==============================] - 0s 18ms/step - loss: 17.1884 - mae: 17.1884\n",
            "Epoch 22/500\n",
            "2/2 [==============================] - 0s 8ms/step - loss: 15.4261 - mae: 15.4261\n",
            "Epoch 23/500\n",
            "2/2 [==============================] - 0s 7ms/step - loss: 9.2387 - mae: 9.2387\n",
            "Epoch 24/500\n",
            "2/2 [==============================] - 0s 7ms/step - loss: 17.2938 - mae: 17.2938\n",
            "Epoch 25/500\n",
            "2/2 [==============================] - 0s 4ms/step - loss: 15.9566 - mae: 15.9566\n",
            "Epoch 26/500\n",
            "2/2 [==============================] - 0s 14ms/step - loss: 20.9786 - mae: 20.9786\n",
            "Epoch 27/500\n",
            "2/2 [==============================] - 0s 28ms/step - loss: 25.8546 - mae: 25.8546\n",
            "Epoch 28/500\n",
            "2/2 [==============================] - 0s 10ms/step - loss: 18.3662 - mae: 18.3662\n",
            "Epoch 29/500\n",
            "2/2 [==============================] - 0s 29ms/step - loss: 9.2329 - mae: 9.2329\n",
            "Epoch 30/500\n",
            "2/2 [==============================] - 0s 15ms/step - loss: 28.9805 - mae: 28.9805\n",
            "Epoch 31/500\n",
            "2/2 [==============================] - 0s 34ms/step - loss: 52.4765 - mae: 52.4765\n",
            "Epoch 32/500\n",
            "2/2 [==============================] - 0s 7ms/step - loss: 11.8777 - mae: 11.8777\n",
            "Epoch 33/500\n",
            "2/2 [==============================] - 0s 6ms/step - loss: 15.4465 - mae: 15.4465\n",
            "Epoch 34/500\n",
            "2/2 [==============================] - 0s 12ms/step - loss: 12.5576 - mae: 12.5576\n",
            "Epoch 35/500\n",
            "2/2 [==============================] - 0s 5ms/step - loss: 9.1757 - mae: 9.1757\n",
            "Epoch 36/500\n",
            "2/2 [==============================] - 0s 9ms/step - loss: 16.4221 - mae: 16.4221\n",
            "Epoch 37/500\n",
            "2/2 [==============================] - 0s 10ms/step - loss: 11.0940 - mae: 11.0940\n",
            "Epoch 38/500\n",
            "2/2 [==============================] - 0s 19ms/step - loss: 18.2250 - mae: 18.2250\n",
            "Epoch 39/500\n",
            "2/2 [==============================] - 0s 6ms/step - loss: 19.1549 - mae: 19.1549\n",
            "Epoch 40/500\n",
            "2/2 [==============================] - 0s 13ms/step - loss: 20.5317 - mae: 20.5317\n",
            "Epoch 41/500\n",
            "2/2 [==============================] - 0s 9ms/step - loss: 14.7742 - mae: 14.7742\n",
            "Epoch 42/500\n",
            "2/2 [==============================] - 0s 6ms/step - loss: 12.1779 - mae: 12.1779\n",
            "Epoch 43/500\n",
            "2/2 [==============================] - 0s 11ms/step - loss: 10.6799 - mae: 10.6799\n",
            "Epoch 44/500\n",
            "2/2 [==============================] - 0s 6ms/step - loss: 32.2250 - mae: 32.2250\n",
            "Epoch 45/500\n",
            "2/2 [==============================] - 0s 7ms/step - loss: 12.4480 - mae: 12.4480\n",
            "Epoch 46/500\n",
            "2/2 [==============================] - 0s 7ms/step - loss: 17.4835 - mae: 17.4835\n",
            "Epoch 47/500\n",
            "2/2 [==============================] - 0s 9ms/step - loss: 15.7628 - mae: 15.7628\n",
            "Epoch 48/500\n",
            "2/2 [==============================] - 0s 6ms/step - loss: 8.3758 - mae: 8.3758\n",
            "Epoch 49/500\n",
            "2/2 [==============================] - 0s 6ms/step - loss: 13.9879 - mae: 13.9879\n",
            "Epoch 50/500\n",
            "2/2 [==============================] - 0s 6ms/step - loss: 12.8303 - mae: 12.8303\n",
            "Epoch 51/500\n",
            "2/2 [==============================] - 0s 6ms/step - loss: 14.8378 - mae: 14.8378\n",
            "Epoch 52/500\n",
            "2/2 [==============================] - 0s 6ms/step - loss: 18.7218 - mae: 18.7218\n",
            "Epoch 53/500\n",
            "2/2 [==============================] - 0s 7ms/step - loss: 24.1752 - mae: 24.1752\n",
            "Epoch 54/500\n",
            "2/2 [==============================] - 0s 6ms/step - loss: 23.1613 - mae: 23.1613\n",
            "Epoch 55/500\n",
            "2/2 [==============================] - 0s 8ms/step - loss: 24.0097 - mae: 24.0097\n",
            "Epoch 56/500\n",
            "2/2 [==============================] - 0s 6ms/step - loss: 11.1460 - mae: 11.1460\n",
            "Epoch 57/500\n",
            "2/2 [==============================] - 0s 6ms/step - loss: 13.0999 - mae: 13.0999\n",
            "Epoch 58/500\n",
            "2/2 [==============================] - 0s 8ms/step - loss: 9.7993 - mae: 9.7993\n",
            "Epoch 59/500\n",
            "2/2 [==============================] - 0s 7ms/step - loss: 13.2909 - mae: 13.2909\n",
            "Epoch 60/500\n",
            "2/2 [==============================] - 0s 10ms/step - loss: 10.8583 - mae: 10.8583\n",
            "Epoch 61/500\n",
            "2/2 [==============================] - 0s 6ms/step - loss: 13.4608 - mae: 13.4608\n",
            "Epoch 62/500\n",
            "2/2 [==============================] - 0s 14ms/step - loss: 17.4913 - mae: 17.4913\n",
            "Epoch 63/500\n",
            "2/2 [==============================] - 0s 22ms/step - loss: 9.1507 - mae: 9.1507\n",
            "Epoch 64/500\n",
            "2/2 [==============================] - 0s 15ms/step - loss: 18.3653 - mae: 18.3653\n",
            "Epoch 65/500\n",
            "2/2 [==============================] - 0s 14ms/step - loss: 10.1067 - mae: 10.1067\n",
            "Epoch 66/500\n",
            "2/2 [==============================] - 0s 21ms/step - loss: 24.2312 - mae: 24.2312\n",
            "Epoch 67/500\n",
            "2/2 [==============================] - 0s 7ms/step - loss: 10.8745 - mae: 10.8745\n",
            "Epoch 68/500\n",
            "2/2 [==============================] - 0s 11ms/step - loss: 10.7588 - mae: 10.7588\n",
            "Epoch 69/500\n",
            "2/2 [==============================] - 0s 7ms/step - loss: 23.2247 - mae: 23.2247\n",
            "Epoch 70/500\n",
            "2/2 [==============================] - 0s 7ms/step - loss: 8.8148 - mae: 8.8148\n",
            "Epoch 71/500\n",
            "2/2 [==============================] - 0s 7ms/step - loss: 15.9842 - mae: 15.9842\n",
            "Epoch 72/500\n",
            "2/2 [==============================] - 0s 7ms/step - loss: 8.1389 - mae: 8.1389\n",
            "Epoch 73/500\n",
            "2/2 [==============================] - 0s 7ms/step - loss: 9.4628 - mae: 9.4628\n",
            "Epoch 74/500\n",
            "2/2 [==============================] - 0s 11ms/step - loss: 28.1605 - mae: 28.1605\n",
            "Epoch 75/500\n",
            "2/2 [==============================] - 0s 11ms/step - loss: 10.1856 - mae: 10.1856\n",
            "Epoch 76/500\n",
            "2/2 [==============================] - 0s 10ms/step - loss: 13.1352 - mae: 13.1352\n",
            "Epoch 77/500\n",
            "2/2 [==============================] - 0s 16ms/step - loss: 18.3781 - mae: 18.3781\n",
            "Epoch 78/500\n",
            "2/2 [==============================] - 0s 6ms/step - loss: 9.0070 - mae: 9.0070\n",
            "Epoch 79/500\n",
            "2/2 [==============================] - 0s 5ms/step - loss: 23.4318 - mae: 23.4318\n",
            "Epoch 80/500\n",
            "2/2 [==============================] - 0s 5ms/step - loss: 26.1007 - mae: 26.1007\n",
            "Epoch 81/500\n",
            "2/2 [==============================] - 0s 11ms/step - loss: 11.3774 - mae: 11.3774\n",
            "Epoch 82/500\n",
            "2/2 [==============================] - 0s 9ms/step - loss: 12.4943 - mae: 12.4943\n",
            "Epoch 83/500\n",
            "2/2 [==============================] - 0s 7ms/step - loss: 17.1806 - mae: 17.1806\n",
            "Epoch 84/500\n",
            "2/2 [==============================] - 0s 4ms/step - loss: 6.5867 - mae: 6.5867\n",
            "Epoch 85/500\n",
            "2/2 [==============================] - 0s 8ms/step - loss: 20.2937 - mae: 20.2937\n",
            "Epoch 86/500\n",
            "2/2 [==============================] - 0s 7ms/step - loss: 10.1603 - mae: 10.1603\n",
            "Epoch 87/500\n",
            "2/2 [==============================] - 0s 7ms/step - loss: 24.3412 - mae: 24.3412\n",
            "Epoch 88/500\n",
            "2/2 [==============================] - 0s 18ms/step - loss: 19.0062 - mae: 19.0062\n",
            "Epoch 89/500\n",
            "2/2 [==============================] - 0s 15ms/step - loss: 7.1568 - mae: 7.1568\n",
            "Epoch 90/500\n",
            "2/2 [==============================] - 0s 21ms/step - loss: 18.2525 - mae: 18.2525\n",
            "Epoch 91/500\n",
            "2/2 [==============================] - 0s 5ms/step - loss: 13.3016 - mae: 13.3016\n",
            "Epoch 92/500\n",
            "2/2 [==============================] - 0s 6ms/step - loss: 14.8493 - mae: 14.8493\n",
            "Epoch 93/500\n",
            "2/2 [==============================] - 0s 10ms/step - loss: 11.6420 - mae: 11.6420\n",
            "Epoch 94/500\n",
            "2/2 [==============================] - 0s 5ms/step - loss: 16.1989 - mae: 16.1989\n",
            "Epoch 95/500\n",
            "2/2 [==============================] - 0s 8ms/step - loss: 15.5408 - mae: 15.5408\n",
            "Epoch 96/500\n",
            "2/2 [==============================] - 0s 7ms/step - loss: 15.0745 - mae: 15.0745\n",
            "Epoch 97/500\n",
            "2/2 [==============================] - 0s 4ms/step - loss: 10.9028 - mae: 10.9028\n",
            "Epoch 98/500\n",
            "2/2 [==============================] - 0s 6ms/step - loss: 14.3632 - mae: 14.3632\n",
            "Epoch 99/500\n",
            "2/2 [==============================] - 0s 12ms/step - loss: 13.3803 - mae: 13.3803\n",
            "Epoch 100/500\n",
            "2/2 [==============================] - 0s 19ms/step - loss: 20.0006 - mae: 20.0006\n",
            "Epoch 101/500\n",
            "2/2 [==============================] - 0s 10ms/step - loss: 22.5094 - mae: 22.5094\n",
            "Epoch 102/500\n",
            "2/2 [==============================] - 0s 6ms/step - loss: 11.2684 - mae: 11.2684\n",
            "Epoch 103/500\n",
            "2/2 [==============================] - 0s 22ms/step - loss: 9.3537 - mae: 9.3537\n",
            "Epoch 104/500\n",
            "2/2 [==============================] - 0s 13ms/step - loss: 25.1414 - mae: 25.1414\n",
            "Epoch 105/500\n",
            "2/2 [==============================] - 0s 5ms/step - loss: 12.4052 - mae: 12.4052\n",
            "Epoch 106/500\n",
            "2/2 [==============================] - 0s 12ms/step - loss: 9.3900 - mae: 9.3900\n",
            "Epoch 107/500\n",
            "2/2 [==============================] - 0s 9ms/step - loss: 23.1575 - mae: 23.1575\n",
            "Epoch 108/500\n",
            "2/2 [==============================] - 0s 7ms/step - loss: 8.2658 - mae: 8.2658\n",
            "Epoch 109/500\n",
            "2/2 [==============================] - 0s 6ms/step - loss: 13.9986 - mae: 13.9986\n",
            "Epoch 110/500\n",
            "2/2 [==============================] - 0s 7ms/step - loss: 10.6380 - mae: 10.6380\n",
            "Epoch 111/500\n",
            "2/2 [==============================] - 0s 7ms/step - loss: 16.9615 - mae: 16.9615\n",
            "Epoch 112/500\n",
            "2/2 [==============================] - 0s 7ms/step - loss: 8.2612 - mae: 8.2612\n",
            "Epoch 113/500\n",
            "2/2 [==============================] - 0s 6ms/step - loss: 19.6433 - mae: 19.6433\n",
            "Epoch 114/500\n",
            "2/2 [==============================] - 0s 7ms/step - loss: 17.3525 - mae: 17.3525\n",
            "Epoch 115/500\n",
            "2/2 [==============================] - 0s 28ms/step - loss: 11.2152 - mae: 11.2152\n",
            "Epoch 116/500\n",
            "2/2 [==============================] - 0s 5ms/step - loss: 23.5090 - mae: 23.5090\n",
            "Epoch 117/500\n",
            "2/2 [==============================] - 0s 18ms/step - loss: 9.7123 - mae: 9.7123\n",
            "Epoch 118/500\n",
            "2/2 [==============================] - 0s 8ms/step - loss: 10.7899 - mae: 10.7899\n",
            "Epoch 119/500\n",
            "2/2 [==============================] - 0s 10ms/step - loss: 8.0863 - mae: 8.0863\n",
            "Epoch 120/500\n",
            "2/2 [==============================] - 0s 16ms/step - loss: 29.8441 - mae: 29.8441\n",
            "Epoch 121/500\n",
            "2/2 [==============================] - 0s 6ms/step - loss: 8.1167 - mae: 8.1167\n",
            "Epoch 122/500\n",
            "2/2 [==============================] - 0s 13ms/step - loss: 28.4188 - mae: 28.4188\n",
            "Epoch 123/500\n",
            "2/2 [==============================] - 0s 15ms/step - loss: 33.0344 - mae: 33.0344\n",
            "Epoch 124/500\n",
            "2/2 [==============================] - 0s 9ms/step - loss: 19.7398 - mae: 19.7398\n",
            "Epoch 125/500\n",
            "2/2 [==============================] - 0s 17ms/step - loss: 7.0483 - mae: 7.0483\n",
            "Epoch 126/500\n",
            "2/2 [==============================] - 0s 9ms/step - loss: 21.8956 - mae: 21.8956\n",
            "Epoch 127/500\n",
            "2/2 [==============================] - 0s 24ms/step - loss: 8.0288 - mae: 8.0288\n",
            "Epoch 128/500\n",
            "2/2 [==============================] - 0s 9ms/step - loss: 21.1270 - mae: 21.1270\n",
            "Epoch 129/500\n",
            "2/2 [==============================] - 0s 5ms/step - loss: 9.0605 - mae: 9.0605\n",
            "Epoch 130/500\n",
            "2/2 [==============================] - 0s 5ms/step - loss: 24.1044 - mae: 24.1044\n",
            "Epoch 131/500\n",
            "2/2 [==============================] - 0s 22ms/step - loss: 9.8044 - mae: 9.8044\n",
            "Epoch 132/500\n",
            "2/2 [==============================] - 0s 7ms/step - loss: 18.3432 - mae: 18.3432\n",
            "Epoch 133/500\n",
            "2/2 [==============================] - 0s 6ms/step - loss: 7.6218 - mae: 7.6218\n",
            "Epoch 134/500\n",
            "2/2 [==============================] - 0s 5ms/step - loss: 18.6010 - mae: 18.6010\n",
            "Epoch 135/500\n",
            "2/2 [==============================] - 0s 6ms/step - loss: 10.5756 - mae: 10.5756\n",
            "Epoch 136/500\n",
            "2/2 [==============================] - 0s 8ms/step - loss: 18.2770 - mae: 18.2770\n",
            "Epoch 137/500\n",
            "2/2 [==============================] - 0s 5ms/step - loss: 23.1655 - mae: 23.1655\n",
            "Epoch 138/500\n",
            "2/2 [==============================] - 0s 5ms/step - loss: 9.1616 - mae: 9.1616\n",
            "Epoch 139/500\n",
            "2/2 [==============================] - 0s 7ms/step - loss: 8.9421 - mae: 8.9421\n",
            "Epoch 140/500\n",
            "2/2 [==============================] - 0s 8ms/step - loss: 16.4478 - mae: 16.4478\n",
            "Epoch 141/500\n",
            "2/2 [==============================] - 0s 5ms/step - loss: 8.4558 - mae: 8.4558\n",
            "Epoch 142/500\n",
            "2/2 [==============================] - 0s 6ms/step - loss: 36.8323 - mae: 36.8323\n",
            "Epoch 143/500\n",
            "2/2 [==============================] - 0s 14ms/step - loss: 25.5072 - mae: 25.5072\n",
            "Epoch 144/500\n",
            "2/2 [==============================] - 0s 5ms/step - loss: 9.5716 - mae: 9.5716\n",
            "Epoch 145/500\n",
            "2/2 [==============================] - 0s 6ms/step - loss: 26.6433 - mae: 26.6433\n",
            "Epoch 146/500\n",
            "2/2 [==============================] - 0s 10ms/step - loss: 8.7122 - mae: 8.7122\n",
            "Epoch 147/500\n",
            "2/2 [==============================] - 0s 11ms/step - loss: 15.6727 - mae: 15.6727\n",
            "Epoch 148/500\n",
            "2/2 [==============================] - 0s 9ms/step - loss: 18.3720 - mae: 18.3720\n",
            "Epoch 149/500\n",
            "2/2 [==============================] - 0s 7ms/step - loss: 8.1830 - mae: 8.1830\n",
            "Epoch 150/500\n",
            "2/2 [==============================] - 0s 4ms/step - loss: 7.5115 - mae: 7.5115\n",
            "Epoch 151/500\n",
            "2/2 [==============================] - 0s 5ms/step - loss: 18.2000 - mae: 18.2000\n",
            "Epoch 152/500\n",
            "2/2 [==============================] - 0s 7ms/step - loss: 10.2853 - mae: 10.2853\n",
            "Epoch 153/500\n",
            "2/2 [==============================] - 0s 11ms/step - loss: 29.3987 - mae: 29.3987\n",
            "Epoch 154/500\n",
            "2/2 [==============================] - 0s 8ms/step - loss: 10.6230 - mae: 10.6230\n",
            "Epoch 155/500\n",
            "2/2 [==============================] - 0s 8ms/step - loss: 15.5145 - mae: 15.5145\n",
            "Epoch 156/500\n",
            "2/2 [==============================] - 0s 10ms/step - loss: 17.1399 - mae: 17.1399\n",
            "Epoch 157/500\n",
            "2/2 [==============================] - 0s 16ms/step - loss: 32.5115 - mae: 32.5115\n",
            "Epoch 158/500\n",
            "2/2 [==============================] - 0s 5ms/step - loss: 10.6486 - mae: 10.6486\n",
            "Epoch 159/500\n",
            "2/2 [==============================] - 0s 6ms/step - loss: 8.8944 - mae: 8.8944\n",
            "Epoch 160/500\n",
            "2/2 [==============================] - 0s 6ms/step - loss: 21.8907 - mae: 21.8907\n",
            "Epoch 161/500\n",
            "2/2 [==============================] - 0s 4ms/step - loss: 11.1114 - mae: 11.1114\n",
            "Epoch 162/500\n",
            "2/2 [==============================] - 0s 11ms/step - loss: 21.4158 - mae: 21.4158\n",
            "Epoch 163/500\n",
            "2/2 [==============================] - 0s 14ms/step - loss: 18.8955 - mae: 18.8955\n",
            "Epoch 164/500\n",
            "2/2 [==============================] - 0s 6ms/step - loss: 12.7352 - mae: 12.7352\n",
            "Epoch 165/500\n",
            "2/2 [==============================] - 0s 6ms/step - loss: 12.7258 - mae: 12.7258\n",
            "Epoch 166/500\n",
            "2/2 [==============================] - 0s 6ms/step - loss: 18.8948 - mae: 18.8948\n",
            "Epoch 167/500\n",
            "2/2 [==============================] - 0s 5ms/step - loss: 26.8457 - mae: 26.8457\n",
            "Epoch 168/500\n",
            "2/2 [==============================] - 0s 6ms/step - loss: 10.0009 - mae: 10.0009\n",
            "Epoch 169/500\n",
            "2/2 [==============================] - 0s 5ms/step - loss: 23.0899 - mae: 23.0899\n",
            "Epoch 170/500\n",
            "2/2 [==============================] - 0s 5ms/step - loss: 10.0867 - mae: 10.0867\n",
            "Epoch 171/500\n",
            "2/2 [==============================] - 0s 4ms/step - loss: 17.8336 - mae: 17.8336\n",
            "Epoch 172/500\n",
            "2/2 [==============================] - 0s 14ms/step - loss: 29.3574 - mae: 29.3574\n",
            "Epoch 173/500\n",
            "2/2 [==============================] - 0s 15ms/step - loss: 16.9520 - mae: 16.9520\n",
            "Epoch 174/500\n",
            "2/2 [==============================] - 0s 9ms/step - loss: 11.1855 - mae: 11.1855\n",
            "Epoch 175/500\n",
            "2/2 [==============================] - 0s 10ms/step - loss: 27.4546 - mae: 27.4546\n",
            "Epoch 176/500\n",
            "2/2 [==============================] - 0s 8ms/step - loss: 8.4489 - mae: 8.4489\n",
            "Epoch 177/500\n",
            "2/2 [==============================] - 0s 12ms/step - loss: 9.4056 - mae: 9.4056\n",
            "Epoch 178/500\n",
            "2/2 [==============================] - 0s 15ms/step - loss: 18.5519 - mae: 18.5519\n",
            "Epoch 179/500\n",
            "2/2 [==============================] - 0s 19ms/step - loss: 10.4275 - mae: 10.4275\n",
            "Epoch 180/500\n",
            "2/2 [==============================] - 0s 16ms/step - loss: 8.0056 - mae: 8.0056\n",
            "Epoch 181/500\n",
            "2/2 [==============================] - 0s 6ms/step - loss: 17.7260 - mae: 17.7260\n",
            "Epoch 182/500\n",
            "2/2 [==============================] - 0s 11ms/step - loss: 11.1923 - mae: 11.1923\n",
            "Epoch 183/500\n",
            "2/2 [==============================] - 0s 9ms/step - loss: 12.3743 - mae: 12.3743\n",
            "Epoch 184/500\n",
            "2/2 [==============================] - 0s 9ms/step - loss: 27.2881 - mae: 27.2881\n",
            "Epoch 185/500\n",
            "2/2 [==============================] - 0s 10ms/step - loss: 7.5876 - mae: 7.5876\n",
            "Epoch 186/500\n",
            "2/2 [==============================] - 0s 7ms/step - loss: 15.9848 - mae: 15.9848\n",
            "Epoch 187/500\n",
            "2/2 [==============================] - 0s 4ms/step - loss: 8.6030 - mae: 8.6030\n",
            "Epoch 188/500\n",
            "2/2 [==============================] - 0s 15ms/step - loss: 28.7597 - mae: 28.7597\n",
            "Epoch 189/500\n",
            "2/2 [==============================] - 0s 10ms/step - loss: 13.1783 - mae: 13.1783\n",
            "Epoch 190/500\n",
            "2/2 [==============================] - 0s 11ms/step - loss: 18.3223 - mae: 18.3223\n",
            "Epoch 191/500\n",
            "2/2 [==============================] - 0s 5ms/step - loss: 13.7529 - mae: 13.7529\n",
            "Epoch 192/500\n",
            "2/2 [==============================] - 0s 5ms/step - loss: 13.7311 - mae: 13.7311\n",
            "Epoch 193/500\n",
            "2/2 [==============================] - 0s 10ms/step - loss: 28.5937 - mae: 28.5937\n",
            "Epoch 194/500\n",
            "2/2 [==============================] - 0s 8ms/step - loss: 7.0937 - mae: 7.0937\n",
            "Epoch 195/500\n",
            "2/2 [==============================] - 0s 16ms/step - loss: 7.0888 - mae: 7.0888\n",
            "Epoch 196/500\n",
            "2/2 [==============================] - 0s 10ms/step - loss: 22.0412 - mae: 22.0412\n",
            "Epoch 197/500\n",
            "2/2 [==============================] - 0s 5ms/step - loss: 20.7798 - mae: 20.7798\n",
            "Epoch 198/500\n",
            "2/2 [==============================] - 0s 5ms/step - loss: 12.4451 - mae: 12.4451\n",
            "Epoch 199/500\n",
            "2/2 [==============================] - 0s 5ms/step - loss: 17.8517 - mae: 17.8517\n",
            "Epoch 200/500\n",
            "2/2 [==============================] - 0s 12ms/step - loss: 13.6976 - mae: 13.6976\n",
            "Epoch 201/500\n",
            "2/2 [==============================] - 0s 5ms/step - loss: 5.5117 - mae: 5.5117\n",
            "Epoch 202/500\n",
            "2/2 [==============================] - 0s 7ms/step - loss: 13.6463 - mae: 13.6463\n",
            "Epoch 203/500\n",
            "2/2 [==============================] - 0s 10ms/step - loss: 9.4264 - mae: 9.4264\n",
            "Epoch 204/500\n",
            "2/2 [==============================] - 0s 4ms/step - loss: 20.8496 - mae: 20.8496\n",
            "Epoch 205/500\n",
            "2/2 [==============================] - 0s 14ms/step - loss: 9.5375 - mae: 9.5375\n",
            "Epoch 206/500\n",
            "2/2 [==============================] - 0s 6ms/step - loss: 11.1761 - mae: 11.1761\n",
            "Epoch 207/500\n",
            "2/2 [==============================] - 0s 13ms/step - loss: 17.7283 - mae: 17.7283\n",
            "Epoch 208/500\n",
            "2/2 [==============================] - 0s 9ms/step - loss: 14.4239 - mae: 14.4239\n",
            "Epoch 209/500\n",
            "2/2 [==============================] - 0s 10ms/step - loss: 16.7506 - mae: 16.7506\n",
            "Epoch 210/500\n",
            "2/2 [==============================] - 0s 4ms/step - loss: 18.2738 - mae: 18.2738\n",
            "Epoch 211/500\n",
            "2/2 [==============================] - 0s 9ms/step - loss: 9.9818 - mae: 9.9818\n",
            "Epoch 212/500\n",
            "2/2 [==============================] - 0s 19ms/step - loss: 18.7557 - mae: 18.7557\n",
            "Epoch 213/500\n",
            "2/2 [==============================] - 0s 16ms/step - loss: 14.9412 - mae: 14.9412\n",
            "Epoch 214/500\n",
            "2/2 [==============================] - 0s 10ms/step - loss: 14.5283 - mae: 14.5283\n",
            "Epoch 215/500\n",
            "2/2 [==============================] - 0s 13ms/step - loss: 23.1686 - mae: 23.1686\n",
            "Epoch 216/500\n",
            "2/2 [==============================] - 0s 12ms/step - loss: 13.6047 - mae: 13.6047\n",
            "Epoch 217/500\n",
            "2/2 [==============================] - 0s 24ms/step - loss: 10.0734 - mae: 10.0734\n",
            "Epoch 218/500\n",
            "2/2 [==============================] - 0s 8ms/step - loss: 12.4186 - mae: 12.4186\n",
            "Epoch 219/500\n",
            "2/2 [==============================] - 0s 9ms/step - loss: 5.8714 - mae: 5.8714\n",
            "Epoch 220/500\n",
            "2/2 [==============================] - 0s 5ms/step - loss: 10.2063 - mae: 10.2063\n",
            "Epoch 221/500\n",
            "2/2 [==============================] - 0s 5ms/step - loss: 28.8826 - mae: 28.8826\n",
            "Epoch 222/500\n",
            "2/2 [==============================] - 0s 12ms/step - loss: 28.0701 - mae: 28.0701\n",
            "Epoch 223/500\n",
            "2/2 [==============================] - 0s 9ms/step - loss: 10.0777 - mae: 10.0777\n",
            "Epoch 224/500\n",
            "2/2 [==============================] - 0s 5ms/step - loss: 14.6278 - mae: 14.6278\n",
            "Epoch 225/500\n",
            "2/2 [==============================] - 0s 5ms/step - loss: 16.6448 - mae: 16.6448\n",
            "Epoch 226/500\n",
            "2/2 [==============================] - 0s 5ms/step - loss: 15.8666 - mae: 15.8666\n",
            "Epoch 227/500\n",
            "2/2 [==============================] - 0s 14ms/step - loss: 16.0852 - mae: 16.0852\n",
            "Epoch 228/500\n",
            "2/2 [==============================] - 0s 8ms/step - loss: 13.8641 - mae: 13.8641\n",
            "Epoch 229/500\n",
            "2/2 [==============================] - 0s 14ms/step - loss: 17.9840 - mae: 17.9840\n",
            "Epoch 230/500\n",
            "2/2 [==============================] - 0s 4ms/step - loss: 15.5783 - mae: 15.5783\n",
            "Epoch 231/500\n",
            "2/2 [==============================] - 0s 7ms/step - loss: 21.1014 - mae: 21.1014\n",
            "Epoch 232/500\n",
            "2/2 [==============================] - 0s 8ms/step - loss: 25.5060 - mae: 25.5060\n",
            "Epoch 233/500\n",
            "2/2 [==============================] - 0s 10ms/step - loss: 16.5073 - mae: 16.5073\n",
            "Epoch 234/500\n",
            "2/2 [==============================] - 0s 12ms/step - loss: 7.3624 - mae: 7.3624\n",
            "Epoch 235/500\n",
            "2/2 [==============================] - 0s 7ms/step - loss: 17.1463 - mae: 17.1463\n",
            "Epoch 236/500\n",
            "2/2 [==============================] - 0s 11ms/step - loss: 7.2218 - mae: 7.2218\n",
            "Epoch 237/500\n",
            "2/2 [==============================] - 0s 7ms/step - loss: 9.3194 - mae: 9.3194\n",
            "Epoch 238/500\n",
            "2/2 [==============================] - 0s 7ms/step - loss: 8.1775 - mae: 8.1775\n",
            "Epoch 239/500\n",
            "2/2 [==============================] - 0s 5ms/step - loss: 17.1610 - mae: 17.1610\n",
            "Epoch 240/500\n",
            "2/2 [==============================] - 0s 8ms/step - loss: 8.9479 - mae: 8.9479\n",
            "Epoch 241/500\n",
            "2/2 [==============================] - 0s 27ms/step - loss: 13.2574 - mae: 13.2574\n",
            "Epoch 242/500\n",
            "2/2 [==============================] - 0s 7ms/step - loss: 8.8585 - mae: 8.8585\n",
            "Epoch 243/500\n",
            "2/2 [==============================] - 0s 14ms/step - loss: 18.8868 - mae: 18.8868\n",
            "Epoch 244/500\n",
            "2/2 [==============================] - 0s 10ms/step - loss: 14.0563 - mae: 14.0563\n",
            "Epoch 245/500\n",
            "2/2 [==============================] - 0s 8ms/step - loss: 14.6840 - mae: 14.6840\n",
            "Epoch 246/500\n",
            "2/2 [==============================] - 0s 8ms/step - loss: 15.8171 - mae: 15.8171\n",
            "Epoch 247/500\n",
            "2/2 [==============================] - 0s 10ms/step - loss: 17.6968 - mae: 17.6968\n",
            "Epoch 248/500\n",
            "2/2 [==============================] - 0s 8ms/step - loss: 13.2535 - mae: 13.2535\n",
            "Epoch 249/500\n",
            "2/2 [==============================] - 0s 10ms/step - loss: 14.5275 - mae: 14.5275\n",
            "Epoch 250/500\n",
            "2/2 [==============================] - 0s 8ms/step - loss: 23.2527 - mae: 23.2527\n",
            "Epoch 251/500\n",
            "2/2 [==============================] - 0s 9ms/step - loss: 9.3337 - mae: 9.3337\n",
            "Epoch 252/500\n",
            "2/2 [==============================] - 0s 8ms/step - loss: 36.5868 - mae: 36.5868\n",
            "Epoch 253/500\n",
            "2/2 [==============================] - 0s 8ms/step - loss: 21.7806 - mae: 21.7806\n",
            "Epoch 254/500\n",
            "2/2 [==============================] - 0s 13ms/step - loss: 7.3169 - mae: 7.3169\n",
            "Epoch 255/500\n",
            "2/2 [==============================] - 0s 8ms/step - loss: 24.6447 - mae: 24.6447\n",
            "Epoch 256/500\n",
            "2/2 [==============================] - 0s 10ms/step - loss: 12.4180 - mae: 12.4180\n",
            "Epoch 257/500\n",
            "2/2 [==============================] - 0s 9ms/step - loss: 10.5846 - mae: 10.5846\n",
            "Epoch 258/500\n",
            "2/2 [==============================] - 0s 10ms/step - loss: 14.1860 - mae: 14.1860\n",
            "Epoch 259/500\n",
            "2/2 [==============================] - 0s 9ms/step - loss: 11.2612 - mae: 11.2612\n",
            "Epoch 260/500\n",
            "2/2 [==============================] - 0s 14ms/step - loss: 31.5571 - mae: 31.5571\n",
            "Epoch 261/500\n",
            "2/2 [==============================] - 0s 11ms/step - loss: 11.1806 - mae: 11.1806\n",
            "Epoch 262/500\n",
            "2/2 [==============================] - 0s 10ms/step - loss: 10.0363 - mae: 10.0363\n",
            "Epoch 263/500\n",
            "2/2 [==============================] - 0s 8ms/step - loss: 8.9539 - mae: 8.9539\n",
            "Epoch 264/500\n",
            "2/2 [==============================] - 0s 5ms/step - loss: 21.4497 - mae: 21.4497\n",
            "Epoch 265/500\n",
            "2/2 [==============================] - 0s 5ms/step - loss: 11.4696 - mae: 11.4696\n",
            "Epoch 266/500\n",
            "2/2 [==============================] - 0s 17ms/step - loss: 13.3109 - mae: 13.3109\n",
            "Epoch 267/500\n",
            "2/2 [==============================] - 0s 4ms/step - loss: 11.0960 - mae: 11.0960\n",
            "Epoch 268/500\n",
            "2/2 [==============================] - 0s 5ms/step - loss: 19.1819 - mae: 19.1819\n",
            "Epoch 269/500\n",
            "2/2 [==============================] - 0s 5ms/step - loss: 40.6321 - mae: 40.6321\n",
            "Epoch 270/500\n",
            "2/2 [==============================] - 0s 4ms/step - loss: 12.8939 - mae: 12.8939\n",
            "Epoch 271/500\n",
            "2/2 [==============================] - 0s 6ms/step - loss: 14.7735 - mae: 14.7735\n",
            "Epoch 272/500\n",
            "2/2 [==============================] - 0s 10ms/step - loss: 28.5239 - mae: 28.5239\n",
            "Epoch 273/500\n",
            "2/2 [==============================] - 0s 5ms/step - loss: 7.3650 - mae: 7.3650\n",
            "Epoch 274/500\n",
            "2/2 [==============================] - 0s 5ms/step - loss: 6.3646 - mae: 6.3646\n",
            "Epoch 275/500\n",
            "2/2 [==============================] - 0s 9ms/step - loss: 36.8360 - mae: 36.8360\n",
            "Epoch 276/500\n",
            "2/2 [==============================] - 0s 15ms/step - loss: 8.2925 - mae: 8.2925\n",
            "Epoch 277/500\n",
            "2/2 [==============================] - 0s 11ms/step - loss: 27.6667 - mae: 27.6667\n",
            "Epoch 278/500\n",
            "2/2 [==============================] - 0s 12ms/step - loss: 10.6925 - mae: 10.6925\n",
            "Epoch 279/500\n",
            "2/2 [==============================] - 0s 11ms/step - loss: 16.1201 - mae: 16.1201\n",
            "Epoch 280/500\n",
            "2/2 [==============================] - 0s 13ms/step - loss: 21.2549 - mae: 21.2549\n",
            "Epoch 281/500\n",
            "2/2 [==============================] - 0s 10ms/step - loss: 23.7470 - mae: 23.7470\n",
            "Epoch 282/500\n",
            "2/2 [==============================] - 0s 10ms/step - loss: 8.2580 - mae: 8.2580\n",
            "Epoch 283/500\n",
            "2/2 [==============================] - 0s 10ms/step - loss: 8.4443 - mae: 8.4443\n",
            "Epoch 284/500\n",
            "2/2 [==============================] - 0s 10ms/step - loss: 26.5833 - mae: 26.5833\n",
            "Epoch 285/500\n",
            "2/2 [==============================] - 0s 10ms/step - loss: 14.1990 - mae: 14.1990\n",
            "Epoch 286/500\n",
            "2/2 [==============================] - 0s 9ms/step - loss: 5.2652 - mae: 5.2652\n",
            "Epoch 287/500\n",
            "2/2 [==============================] - 0s 9ms/step - loss: 20.8362 - mae: 20.8362\n",
            "Epoch 288/500\n",
            "2/2 [==============================] - 0s 4ms/step - loss: 27.5655 - mae: 27.5655\n",
            "Epoch 289/500\n",
            "2/2 [==============================] - 0s 10ms/step - loss: 10.4466 - mae: 10.4466\n",
            "Epoch 290/500\n",
            "2/2 [==============================] - 0s 10ms/step - loss: 16.3190 - mae: 16.3190\n",
            "Epoch 291/500\n",
            "2/2 [==============================] - 0s 9ms/step - loss: 16.5101 - mae: 16.5101\n",
            "Epoch 292/500\n",
            "2/2 [==============================] - 0s 22ms/step - loss: 7.4372 - mae: 7.4372\n",
            "Epoch 293/500\n",
            "2/2 [==============================] - 0s 5ms/step - loss: 16.5537 - mae: 16.5537\n",
            "Epoch 294/500\n",
            "2/2 [==============================] - 0s 8ms/step - loss: 25.3454 - mae: 25.3454\n",
            "Epoch 295/500\n",
            "2/2 [==============================] - 0s 9ms/step - loss: 14.5567 - mae: 14.5567\n",
            "Epoch 296/500\n",
            "2/2 [==============================] - 0s 9ms/step - loss: 4.6779 - mae: 4.6779\n",
            "Epoch 297/500\n",
            "2/2 [==============================] - 0s 12ms/step - loss: 7.2820 - mae: 7.2820\n",
            "Epoch 298/500\n",
            "2/2 [==============================] - 0s 5ms/step - loss: 19.5894 - mae: 19.5894\n",
            "Epoch 299/500\n",
            "2/2 [==============================] - 0s 43ms/step - loss: 6.6188 - mae: 6.6188\n",
            "Epoch 300/500\n",
            "2/2 [==============================] - 0s 14ms/step - loss: 22.0367 - mae: 22.0367\n",
            "Epoch 301/500\n",
            "2/2 [==============================] - 0s 24ms/step - loss: 9.1308 - mae: 9.1308\n",
            "Epoch 302/500\n",
            "2/2 [==============================] - 0s 14ms/step - loss: 11.1834 - mae: 11.1834\n",
            "Epoch 303/500\n",
            "2/2 [==============================] - 0s 13ms/step - loss: 9.3357 - mae: 9.3357\n",
            "Epoch 304/500\n",
            "2/2 [==============================] - 0s 12ms/step - loss: 23.6902 - mae: 23.6902\n",
            "Epoch 305/500\n",
            "2/2 [==============================] - 0s 7ms/step - loss: 7.9213 - mae: 7.9213\n",
            "Epoch 306/500\n",
            "2/2 [==============================] - 0s 8ms/step - loss: 23.7434 - mae: 23.7434\n",
            "Epoch 307/500\n",
            "2/2 [==============================] - 0s 30ms/step - loss: 5.8868 - mae: 5.8868\n",
            "Epoch 308/500\n",
            "2/2 [==============================] - 0s 12ms/step - loss: 21.3286 - mae: 21.3286\n",
            "Epoch 309/500\n",
            "2/2 [==============================] - 0s 16ms/step - loss: 18.3994 - mae: 18.3994\n",
            "Epoch 310/500\n",
            "2/2 [==============================] - 0s 12ms/step - loss: 4.4978 - mae: 4.4978\n",
            "Epoch 311/500\n",
            "2/2 [==============================] - 0s 10ms/step - loss: 6.5091 - mae: 6.5091\n",
            "Epoch 312/500\n",
            "2/2 [==============================] - 0s 10ms/step - loss: 35.4382 - mae: 35.4382\n",
            "Epoch 313/500\n",
            "2/2 [==============================] - 0s 15ms/step - loss: 28.9148 - mae: 28.9148\n",
            "Epoch 314/500\n",
            "2/2 [==============================] - 0s 14ms/step - loss: 11.1945 - mae: 11.1945\n",
            "Epoch 315/500\n",
            "2/2 [==============================] - 0s 5ms/step - loss: 23.5547 - mae: 23.5547\n",
            "Epoch 316/500\n",
            "2/2 [==============================] - 0s 5ms/step - loss: 14.4208 - mae: 14.4208\n",
            "Epoch 317/500\n",
            "2/2 [==============================] - 0s 8ms/step - loss: 19.9661 - mae: 19.9661\n",
            "Epoch 318/500\n",
            "2/2 [==============================] - 0s 15ms/step - loss: 7.9955 - mae: 7.9955\n",
            "Epoch 319/500\n",
            "2/2 [==============================] - 0s 5ms/step - loss: 18.1037 - mae: 18.1037\n",
            "Epoch 320/500\n",
            "2/2 [==============================] - 0s 7ms/step - loss: 10.6353 - mae: 10.6353\n",
            "Epoch 321/500\n",
            "2/2 [==============================] - 0s 5ms/step - loss: 7.0212 - mae: 7.0212\n",
            "Epoch 322/500\n",
            "2/2 [==============================] - 0s 8ms/step - loss: 8.6726 - mae: 8.6726\n",
            "Epoch 323/500\n",
            "2/2 [==============================] - 0s 7ms/step - loss: 18.3385 - mae: 18.3385\n",
            "Epoch 324/500\n",
            "2/2 [==============================] - 0s 10ms/step - loss: 6.3034 - mae: 6.3034\n",
            "Epoch 325/500\n",
            "2/2 [==============================] - 0s 12ms/step - loss: 14.6095 - mae: 14.6095\n",
            "Epoch 326/500\n",
            "2/2 [==============================] - 0s 5ms/step - loss: 6.9862 - mae: 6.9862\n",
            "Epoch 327/500\n",
            "2/2 [==============================] - 0s 9ms/step - loss: 17.6240 - mae: 17.6240\n",
            "Epoch 328/500\n",
            "2/2 [==============================] - 0s 9ms/step - loss: 14.3733 - mae: 14.3733\n",
            "Epoch 329/500\n",
            "2/2 [==============================] - 0s 8ms/step - loss: 17.6845 - mae: 17.6845\n",
            "Epoch 330/500\n",
            "2/2 [==============================] - 0s 11ms/step - loss: 6.7786 - mae: 6.7786\n",
            "Epoch 331/500\n",
            "2/2 [==============================] - 0s 8ms/step - loss: 19.7463 - mae: 19.7463\n",
            "Epoch 332/500\n",
            "2/2 [==============================] - 0s 15ms/step - loss: 10.5487 - mae: 10.5487\n",
            "Epoch 333/500\n",
            "2/2 [==============================] - 0s 10ms/step - loss: 16.3443 - mae: 16.3443\n",
            "Epoch 334/500\n",
            "2/2 [==============================] - 0s 11ms/step - loss: 9.7153 - mae: 9.7153\n",
            "Epoch 335/500\n",
            "2/2 [==============================] - 0s 13ms/step - loss: 13.0544 - mae: 13.0544\n",
            "Epoch 336/500\n",
            "2/2 [==============================] - 0s 7ms/step - loss: 32.4919 - mae: 32.4919\n",
            "Epoch 337/500\n",
            "2/2 [==============================] - 0s 29ms/step - loss: 11.0362 - mae: 11.0362\n",
            "Epoch 338/500\n",
            "2/2 [==============================] - 0s 7ms/step - loss: 19.9478 - mae: 19.9478\n",
            "Epoch 339/500\n",
            "2/2 [==============================] - 0s 4ms/step - loss: 34.3322 - mae: 34.3322\n",
            "Epoch 340/500\n",
            "2/2 [==============================] - 0s 10ms/step - loss: 9.2796 - mae: 9.2796\n",
            "Epoch 341/500\n",
            "2/2 [==============================] - 0s 5ms/step - loss: 17.3007 - mae: 17.3007\n",
            "Epoch 342/500\n",
            "2/2 [==============================] - 0s 5ms/step - loss: 14.9113 - mae: 14.9113\n",
            "Epoch 343/500\n",
            "2/2 [==============================] - 0s 8ms/step - loss: 10.3158 - mae: 10.3158\n",
            "Epoch 344/500\n",
            "2/2 [==============================] - 0s 13ms/step - loss: 9.9336 - mae: 9.9336\n",
            "Epoch 345/500\n",
            "2/2 [==============================] - 0s 7ms/step - loss: 30.8990 - mae: 30.8990\n",
            "Epoch 346/500\n",
            "2/2 [==============================] - 0s 10ms/step - loss: 10.6250 - mae: 10.6250\n",
            "Epoch 347/500\n",
            "2/2 [==============================] - 0s 12ms/step - loss: 25.5353 - mae: 25.5353\n",
            "Epoch 348/500\n",
            "2/2 [==============================] - 0s 18ms/step - loss: 13.3548 - mae: 13.3548\n",
            "Epoch 349/500\n",
            "2/2 [==============================] - 0s 11ms/step - loss: 13.0062 - mae: 13.0062\n",
            "Epoch 350/500\n",
            "2/2 [==============================] - 0s 11ms/step - loss: 15.3883 - mae: 15.3883\n",
            "Epoch 351/500\n",
            "2/2 [==============================] - 0s 8ms/step - loss: 32.8591 - mae: 32.8591\n",
            "Epoch 352/500\n",
            "2/2 [==============================] - 0s 10ms/step - loss: 14.0585 - mae: 14.0585\n",
            "Epoch 353/500\n",
            "2/2 [==============================] - 0s 10ms/step - loss: 17.7457 - mae: 17.7457\n",
            "Epoch 354/500\n",
            "2/2 [==============================] - 0s 11ms/step - loss: 11.3276 - mae: 11.3276\n",
            "Epoch 355/500\n",
            "2/2 [==============================] - 0s 12ms/step - loss: 26.7386 - mae: 26.7386\n",
            "Epoch 356/500\n",
            "2/2 [==============================] - 0s 5ms/step - loss: 10.1938 - mae: 10.1938\n",
            "Epoch 357/500\n",
            "2/2 [==============================] - 0s 12ms/step - loss: 14.7789 - mae: 14.7789\n",
            "Epoch 358/500\n",
            "2/2 [==============================] - 0s 8ms/step - loss: 14.6655 - mae: 14.6655\n",
            "Epoch 359/500\n",
            "2/2 [==============================] - 0s 13ms/step - loss: 12.3235 - mae: 12.3235\n",
            "Epoch 360/500\n",
            "2/2 [==============================] - 0s 8ms/step - loss: 20.3227 - mae: 20.3227\n",
            "Epoch 361/500\n",
            "2/2 [==============================] - 0s 8ms/step - loss: 10.9378 - mae: 10.9378\n",
            "Epoch 362/500\n",
            "2/2 [==============================] - 0s 5ms/step - loss: 6.8188 - mae: 6.8188\n",
            "Epoch 363/500\n",
            "2/2 [==============================] - 0s 20ms/step - loss: 23.8777 - mae: 23.8777\n",
            "Epoch 364/500\n",
            "2/2 [==============================] - 0s 25ms/step - loss: 29.6006 - mae: 29.6006\n",
            "Epoch 365/500\n",
            "2/2 [==============================] - 0s 9ms/step - loss: 8.3080 - mae: 8.3080\n",
            "Epoch 366/500\n",
            "2/2 [==============================] - 0s 5ms/step - loss: 6.1020 - mae: 6.1020\n",
            "Epoch 367/500\n",
            "2/2 [==============================] - 0s 12ms/step - loss: 34.7128 - mae: 34.7128\n",
            "Epoch 368/500\n",
            "2/2 [==============================] - 0s 8ms/step - loss: 7.3756 - mae: 7.3756\n",
            "Epoch 369/500\n",
            "2/2 [==============================] - 0s 9ms/step - loss: 9.1755 - mae: 9.1755\n",
            "Epoch 370/500\n",
            "2/2 [==============================] - 0s 8ms/step - loss: 10.8641 - mae: 10.8641\n",
            "Epoch 371/500\n",
            "2/2 [==============================] - 0s 17ms/step - loss: 8.6410 - mae: 8.6410\n",
            "Epoch 372/500\n",
            "2/2 [==============================] - 0s 13ms/step - loss: 6.4582 - mae: 6.4582\n",
            "Epoch 373/500\n",
            "2/2 [==============================] - 0s 6ms/step - loss: 23.4218 - mae: 23.4218\n",
            "Epoch 374/500\n",
            "2/2 [==============================] - 0s 6ms/step - loss: 10.4537 - mae: 10.4537\n",
            "Epoch 375/500\n",
            "2/2 [==============================] - 0s 6ms/step - loss: 13.0513 - mae: 13.0513\n",
            "Epoch 376/500\n",
            "2/2 [==============================] - 0s 11ms/step - loss: 14.9367 - mae: 14.9367\n",
            "Epoch 377/500\n",
            "2/2 [==============================] - 0s 10ms/step - loss: 14.8224 - mae: 14.8224\n",
            "Epoch 378/500\n",
            "2/2 [==============================] - 0s 7ms/step - loss: 16.2965 - mae: 16.2965\n",
            "Epoch 379/500\n",
            "2/2 [==============================] - 0s 5ms/step - loss: 20.8895 - mae: 20.8895\n",
            "Epoch 380/500\n",
            "2/2 [==============================] - 0s 16ms/step - loss: 33.3745 - mae: 33.3745\n",
            "Epoch 381/500\n",
            "2/2 [==============================] - 0s 4ms/step - loss: 8.1589 - mae: 8.1589\n",
            "Epoch 382/500\n",
            "2/2 [==============================] - 0s 6ms/step - loss: 13.0057 - mae: 13.0057\n",
            "Epoch 383/500\n",
            "2/2 [==============================] - 0s 5ms/step - loss: 8.4480 - mae: 8.4480\n",
            "Epoch 384/500\n",
            "2/2 [==============================] - 0s 13ms/step - loss: 7.0604 - mae: 7.0604\n",
            "Epoch 385/500\n",
            "2/2 [==============================] - 0s 6ms/step - loss: 10.9545 - mae: 10.9545\n",
            "Epoch 386/500\n",
            "2/2 [==============================] - 0s 8ms/step - loss: 19.8100 - mae: 19.8100\n",
            "Epoch 387/500\n",
            "2/2 [==============================] - 0s 7ms/step - loss: 24.7597 - mae: 24.7597\n",
            "Epoch 388/500\n",
            "2/2 [==============================] - 0s 7ms/step - loss: 8.6847 - mae: 8.6847\n",
            "Epoch 389/500\n",
            "2/2 [==============================] - 0s 8ms/step - loss: 5.9197 - mae: 5.9197\n",
            "Epoch 390/500\n",
            "2/2 [==============================] - 0s 17ms/step - loss: 24.3429 - mae: 24.3429\n",
            "Epoch 391/500\n",
            "2/2 [==============================] - 0s 17ms/step - loss: 5.9424 - mae: 5.9424\n",
            "Epoch 392/500\n",
            "2/2 [==============================] - 0s 17ms/step - loss: 16.0986 - mae: 16.0986\n",
            "Epoch 393/500\n",
            "2/2 [==============================] - 0s 15ms/step - loss: 6.4637 - mae: 6.4637\n",
            "Epoch 394/500\n",
            "2/2 [==============================] - 0s 7ms/step - loss: 12.5467 - mae: 12.5467\n",
            "Epoch 395/500\n",
            "2/2 [==============================] - 0s 6ms/step - loss: 12.4191 - mae: 12.4191\n",
            "Epoch 396/500\n",
            "2/2 [==============================] - 0s 6ms/step - loss: 7.3306 - mae: 7.3306\n",
            "Epoch 397/500\n",
            "2/2 [==============================] - 0s 4ms/step - loss: 7.5898 - mae: 7.5898\n",
            "Epoch 398/500\n",
            "2/2 [==============================] - 0s 11ms/step - loss: 20.3907 - mae: 20.3907\n",
            "Epoch 399/500\n",
            "2/2 [==============================] - 0s 34ms/step - loss: 5.8798 - mae: 5.8798\n",
            "Epoch 400/500\n",
            "2/2 [==============================] - 0s 20ms/step - loss: 24.5904 - mae: 24.5904\n",
            "Epoch 401/500\n",
            "2/2 [==============================] - 0s 13ms/step - loss: 13.2331 - mae: 13.2331\n",
            "Epoch 402/500\n",
            "2/2 [==============================] - 0s 16ms/step - loss: 8.3559 - mae: 8.3559\n",
            "Epoch 403/500\n",
            "2/2 [==============================] - 0s 14ms/step - loss: 10.2302 - mae: 10.2302\n",
            "Epoch 404/500\n",
            "2/2 [==============================] - 0s 20ms/step - loss: 10.0815 - mae: 10.0815\n",
            "Epoch 405/500\n",
            "2/2 [==============================] - 0s 14ms/step - loss: 6.2633 - mae: 6.2633\n",
            "Epoch 406/500\n",
            "2/2 [==============================] - 0s 12ms/step - loss: 19.4353 - mae: 19.4353\n",
            "Epoch 407/500\n",
            "2/2 [==============================] - 0s 14ms/step - loss: 10.2699 - mae: 10.2699\n",
            "Epoch 408/500\n",
            "2/2 [==============================] - 0s 6ms/step - loss: 20.8920 - mae: 20.8920\n",
            "Epoch 409/500\n",
            "2/2 [==============================] - 0s 11ms/step - loss: 30.8533 - mae: 30.8533\n",
            "Epoch 410/500\n",
            "2/2 [==============================] - 0s 16ms/step - loss: 9.3428 - mae: 9.3428\n",
            "Epoch 411/500\n",
            "2/2 [==============================] - 0s 14ms/step - loss: 14.9321 - mae: 14.9321\n",
            "Epoch 412/500\n",
            "2/2 [==============================] - 0s 21ms/step - loss: 21.8482 - mae: 21.8482\n",
            "Epoch 413/500\n",
            "2/2 [==============================] - 0s 19ms/step - loss: 12.4072 - mae: 12.4072\n",
            "Epoch 414/500\n",
            "2/2 [==============================] - 0s 8ms/step - loss: 6.6135 - mae: 6.6135\n",
            "Epoch 415/500\n",
            "2/2 [==============================] - 0s 6ms/step - loss: 12.7063 - mae: 12.7063\n",
            "Epoch 416/500\n",
            "2/2 [==============================] - 0s 52ms/step - loss: 26.9449 - mae: 26.9449\n",
            "Epoch 417/500\n",
            "2/2 [==============================] - 0s 8ms/step - loss: 12.0251 - mae: 12.0251\n",
            "Epoch 418/500\n",
            "2/2 [==============================] - 0s 19ms/step - loss: 13.0729 - mae: 13.0729\n",
            "Epoch 419/500\n",
            "2/2 [==============================] - 0s 8ms/step - loss: 16.0353 - mae: 16.0353\n",
            "Epoch 420/500\n",
            "2/2 [==============================] - 0s 15ms/step - loss: 25.0797 - mae: 25.0797\n",
            "Epoch 421/500\n",
            "2/2 [==============================] - 0s 5ms/step - loss: 16.5748 - mae: 16.5748\n",
            "Epoch 422/500\n",
            "2/2 [==============================] - 0s 17ms/step - loss: 8.6843 - mae: 8.6843\n",
            "Epoch 423/500\n",
            "2/2 [==============================] - 0s 8ms/step - loss: 24.8024 - mae: 24.8024\n",
            "Epoch 424/500\n",
            "2/2 [==============================] - 0s 9ms/step - loss: 16.5056 - mae: 16.5056\n",
            "Epoch 425/500\n",
            "2/2 [==============================] - 0s 13ms/step - loss: 7.2266 - mae: 7.2266\n",
            "Epoch 426/500\n",
            "2/2 [==============================] - 0s 11ms/step - loss: 20.6458 - mae: 20.6458\n",
            "Epoch 427/500\n",
            "2/2 [==============================] - 0s 7ms/step - loss: 6.3986 - mae: 6.3986\n",
            "Epoch 428/500\n",
            "2/2 [==============================] - 0s 6ms/step - loss: 13.2138 - mae: 13.2138\n",
            "Epoch 429/500\n",
            "2/2 [==============================] - 0s 10ms/step - loss: 10.9741 - mae: 10.9741\n",
            "Epoch 430/500\n",
            "2/2 [==============================] - 0s 7ms/step - loss: 11.8502 - mae: 11.8502\n",
            "Epoch 431/500\n",
            "2/2 [==============================] - 0s 10ms/step - loss: 8.4907 - mae: 8.4907\n",
            "Epoch 432/500\n",
            "2/2 [==============================] - 0s 7ms/step - loss: 18.5577 - mae: 18.5577\n",
            "Epoch 433/500\n",
            "2/2 [==============================] - 0s 8ms/step - loss: 10.1399 - mae: 10.1399\n",
            "Epoch 434/500\n",
            "2/2 [==============================] - 0s 21ms/step - loss: 30.6716 - mae: 30.6716\n",
            "Epoch 435/500\n",
            "2/2 [==============================] - 0s 5ms/step - loss: 11.1748 - mae: 11.1748\n",
            "Epoch 436/500\n",
            "2/2 [==============================] - 0s 5ms/step - loss: 28.7722 - mae: 28.7722\n",
            "Epoch 437/500\n",
            "2/2 [==============================] - 0s 9ms/step - loss: 8.0387 - mae: 8.0387\n",
            "Epoch 438/500\n",
            "2/2 [==============================] - 0s 7ms/step - loss: 12.8111 - mae: 12.8111\n",
            "Epoch 439/500\n",
            "2/2 [==============================] - 0s 9ms/step - loss: 33.9087 - mae: 33.9087\n",
            "Epoch 440/500\n",
            "2/2 [==============================] - 0s 43ms/step - loss: 15.4282 - mae: 15.4282\n",
            "Epoch 441/500\n",
            "2/2 [==============================] - 0s 28ms/step - loss: 17.7708 - mae: 17.7708\n",
            "Epoch 442/500\n",
            "2/2 [==============================] - 0s 9ms/step - loss: 6.4168 - mae: 6.4168\n",
            "Epoch 443/500\n",
            "2/2 [==============================] - 0s 25ms/step - loss: 12.8951 - mae: 12.8951\n",
            "Epoch 444/500\n",
            "2/2 [==============================] - 0s 12ms/step - loss: 5.5577 - mae: 5.5577\n",
            "Epoch 445/500\n",
            "2/2 [==============================] - 0s 10ms/step - loss: 9.6911 - mae: 9.6911\n",
            "Epoch 446/500\n",
            "2/2 [==============================] - 0s 17ms/step - loss: 15.1375 - mae: 15.1375\n",
            "Epoch 447/500\n",
            "2/2 [==============================] - 0s 16ms/step - loss: 22.3797 - mae: 22.3797\n",
            "Epoch 448/500\n",
            "2/2 [==============================] - 0s 9ms/step - loss: 13.6292 - mae: 13.6292\n",
            "Epoch 449/500\n",
            "2/2 [==============================] - 0s 15ms/step - loss: 11.7118 - mae: 11.7118\n",
            "Epoch 450/500\n",
            "2/2 [==============================] - 0s 6ms/step - loss: 15.2425 - mae: 15.2425\n",
            "Epoch 451/500\n",
            "2/2 [==============================] - 0s 5ms/step - loss: 17.0833 - mae: 17.0833\n",
            "Epoch 452/500\n",
            "2/2 [==============================] - 0s 15ms/step - loss: 45.3382 - mae: 45.3382\n",
            "Epoch 453/500\n",
            "2/2 [==============================] - 0s 6ms/step - loss: 26.1022 - mae: 26.1022\n",
            "Epoch 454/500\n",
            "2/2 [==============================] - 0s 17ms/step - loss: 22.7545 - mae: 22.7545\n",
            "Epoch 455/500\n",
            "2/2 [==============================] - 0s 16ms/step - loss: 8.0246 - mae: 8.0246\n",
            "Epoch 456/500\n",
            "2/2 [==============================] - 0s 13ms/step - loss: 10.4082 - mae: 10.4082\n",
            "Epoch 457/500\n",
            "2/2 [==============================] - 0s 6ms/step - loss: 15.0143 - mae: 15.0143\n",
            "Epoch 458/500\n",
            "2/2 [==============================] - 0s 12ms/step - loss: 16.5696 - mae: 16.5696\n",
            "Epoch 459/500\n",
            "2/2 [==============================] - 0s 3ms/step - loss: 26.8504 - mae: 26.8504\n",
            "Epoch 460/500\n",
            "2/2 [==============================] - 0s 11ms/step - loss: 12.4544 - mae: 12.4544\n",
            "Epoch 461/500\n",
            "2/2 [==============================] - 0s 11ms/step - loss: 12.4981 - mae: 12.4981\n",
            "Epoch 462/500\n",
            "2/2 [==============================] - 0s 5ms/step - loss: 13.3250 - mae: 13.3250\n",
            "Epoch 463/500\n",
            "2/2 [==============================] - 0s 6ms/step - loss: 29.5628 - mae: 29.5628\n",
            "Epoch 464/500\n",
            "2/2 [==============================] - 0s 5ms/step - loss: 3.4787 - mae: 3.4787\n",
            "Epoch 465/500\n",
            "2/2 [==============================] - 0s 8ms/step - loss: 15.2241 - mae: 15.2241\n",
            "Epoch 466/500\n",
            "2/2 [==============================] - 0s 14ms/step - loss: 20.8594 - mae: 20.8594\n",
            "Epoch 467/500\n",
            "2/2 [==============================] - 0s 14ms/step - loss: 30.4365 - mae: 30.4365\n",
            "Epoch 468/500\n",
            "2/2 [==============================] - 0s 6ms/step - loss: 11.0335 - mae: 11.0335\n",
            "Epoch 469/500\n",
            "2/2 [==============================] - 0s 5ms/step - loss: 12.7942 - mae: 12.7942\n",
            "Epoch 470/500\n",
            "2/2 [==============================] - 0s 5ms/step - loss: 3.2505 - mae: 3.2505\n",
            "Epoch 471/500\n",
            "2/2 [==============================] - 0s 11ms/step - loss: 16.7254 - mae: 16.7254\n",
            "Epoch 472/500\n",
            "2/2 [==============================] - 0s 15ms/step - loss: 13.4109 - mae: 13.4109\n",
            "Epoch 473/500\n",
            "2/2 [==============================] - 0s 19ms/step - loss: 15.3054 - mae: 15.3054\n",
            "Epoch 474/500\n",
            "2/2 [==============================] - 0s 6ms/step - loss: 11.7739 - mae: 11.7739\n",
            "Epoch 475/500\n",
            "2/2 [==============================] - 0s 6ms/step - loss: 16.4374 - mae: 16.4374\n",
            "Epoch 476/500\n",
            "2/2 [==============================] - 0s 5ms/step - loss: 13.8916 - mae: 13.8916\n",
            "Epoch 477/500\n",
            "2/2 [==============================] - 0s 5ms/step - loss: 30.6912 - mae: 30.6912\n",
            "Epoch 478/500\n",
            "2/2 [==============================] - 0s 12ms/step - loss: 8.6252 - mae: 8.6252\n",
            "Epoch 479/500\n",
            "2/2 [==============================] - 0s 7ms/step - loss: 10.7660 - mae: 10.7660\n",
            "Epoch 480/500\n",
            "2/2 [==============================] - 0s 9ms/step - loss: 17.9336 - mae: 17.9336\n",
            "Epoch 481/500\n",
            "2/2 [==============================] - 0s 6ms/step - loss: 15.8334 - mae: 15.8334\n",
            "Epoch 482/500\n",
            "2/2 [==============================] - 0s 21ms/step - loss: 21.3522 - mae: 21.3522\n",
            "Epoch 483/500\n",
            "2/2 [==============================] - 0s 5ms/step - loss: 25.2811 - mae: 25.2811\n",
            "Epoch 484/500\n",
            "2/2 [==============================] - 0s 5ms/step - loss: 23.8774 - mae: 23.8774\n",
            "Epoch 485/500\n",
            "2/2 [==============================] - 0s 14ms/step - loss: 5.7682 - mae: 5.7682\n",
            "Epoch 486/500\n",
            "2/2 [==============================] - 0s 6ms/step - loss: 19.8748 - mae: 19.8748\n",
            "Epoch 487/500\n",
            "2/2 [==============================] - 0s 17ms/step - loss: 14.0581 - mae: 14.0581\n",
            "Epoch 488/500\n",
            "2/2 [==============================] - 0s 16ms/step - loss: 30.6372 - mae: 30.6372\n",
            "Epoch 489/500\n",
            "2/2 [==============================] - 0s 31ms/step - loss: 11.9881 - mae: 11.9881\n",
            "Epoch 490/500\n",
            "2/2 [==============================] - 0s 17ms/step - loss: 12.7608 - mae: 12.7608\n",
            "Epoch 491/500\n",
            "2/2 [==============================] - 0s 5ms/step - loss: 23.6628 - mae: 23.6628\n",
            "Epoch 492/500\n",
            "2/2 [==============================] - 0s 5ms/step - loss: 20.4167 - mae: 20.4167\n",
            "Epoch 493/500\n",
            "2/2 [==============================] - 0s 5ms/step - loss: 4.9820 - mae: 4.9820\n",
            "Epoch 494/500\n",
            "2/2 [==============================] - 0s 4ms/step - loss: 12.6967 - mae: 12.6967\n",
            "Epoch 495/500\n",
            "2/2 [==============================] - 0s 12ms/step - loss: 13.4265 - mae: 13.4265\n",
            "Epoch 496/500\n",
            "2/2 [==============================] - 0s 17ms/step - loss: 12.7079 - mae: 12.7079\n",
            "Epoch 497/500\n",
            "2/2 [==============================] - 0s 10ms/step - loss: 17.6841 - mae: 17.6841\n",
            "Epoch 498/500\n",
            "2/2 [==============================] - 0s 11ms/step - loss: 23.4230 - mae: 23.4230\n",
            "Epoch 499/500\n",
            "2/2 [==============================] - 0s 11ms/step - loss: 9.1590 - mae: 9.1590\n",
            "Epoch 500/500\n",
            "2/2 [==============================] - 0s 15ms/step - loss: 14.3818 - mae: 14.3818\n"
          ]
        },
        {
          "output_type": "execute_result",
          "data": {
            "text/plain": [
              "<keras.callbacks.History at 0x7f712ddf3550>"
            ]
          },
          "metadata": {},
          "execution_count": 64
        }
      ]
    },
    {
      "cell_type": "code",
      "source": [
        "y_preds_3 = model_3.predict(x_test)"
      ],
      "metadata": {
        "colab": {
          "base_uri": "https://localhost:8080/"
        },
        "id": "R6KDkDaeXM--",
        "outputId": "288bdf1c-8b40-4af0-88d2-ca0ce9fb6712"
      },
      "execution_count": 65,
      "outputs": [
        {
          "output_type": "stream",
          "name": "stdout",
          "text": [
            "1/1 [==============================] - 0s 125ms/step\n"
          ]
        }
      ]
    },
    {
      "cell_type": "code",
      "source": [
        "plot_predictions(y_preds_3)"
      ],
      "metadata": {
        "colab": {
          "base_uri": "https://localhost:8080/",
          "height": 428
        },
        "id": "Q__NZ__qXXC2",
        "outputId": "ad042063-46a1-4a0f-a623-4a01f71737db"
      },
      "execution_count": 66,
      "outputs": [
        {
          "output_type": "display_data",
          "data": {
            "text/plain": [
              "<Figure size 720x504 with 1 Axes>"
            ],
            "image/png": "[encoded data removed]"
          },
          "metadata": {
            "needs_background": "light"
          }
        }
      ]
    },
    {
      "cell_type": "code",
      "source": [
        "mae_3 = mae(y_test,tf.squeeze(y_preds_3))\n",
        "mse_3 = mse(y_test,tf.squeeze(y_preds_3))\n",
        "mae_3,mse_3"
      ],
      "metadata": {
        "colab": {
          "base_uri": "https://localhost:8080/"
        },
        "id": "P6NbNfEjXiTn",
        "outputId": "da08b5de-c2c5-477a-d351-84f9962c0184"
      },
      "execution_count": 67,
      "outputs": [
        {
          "output_type": "execute_result",
          "data": {
            "text/plain": [
              "(<tf.Tensor: shape=(), dtype=float32, numpy=67.90955>,\n",
              " <tf.Tensor: shape=(), dtype=float32, numpy=4696.0625>)"
            ]
          },
          "metadata": {},
          "execution_count": 67
        }
      ]
    },
    {
      "cell_type": "code",
      "source": [],
      "metadata": {
        "id": "W2ZYb1aGX6jc"
      },
      "execution_count": 67,
      "outputs": []
    },
    {
      "cell_type": "code",
      "source": [
        "import pandas as pd\n",
        "model_results = [['model_1',mae_1.numpy(),mse_1.numpy()],\n",
        "                 ['model_2',mae_2.numpy(),mse_2.numpy()],\n",
        "                 ['model_3',mae_3.numpy(),mse_3.numpy()],\n",
        "  ]\n",
        "all_results = pd.DataFrame(model_results,columns = ['model','mae','mse'])\n",
        "all_results"
      ],
      "metadata": {
        "colab": {
          "base_uri": "https://localhost:8080/",
          "height": 143
        },
        "id": "QFTRNNYLKLhx",
        "outputId": "95783f1b-db27-4f40-ff1c-b06b86773c7c"
      },
      "execution_count": 70,
      "outputs": [
        {
          "output_type": "execute_result",
          "data": {
            "text/plain": [
              "     model        mae          mse\n",
              "0  model_1  18.745327   353.573395\n",
              "1  model_2   3.111021    12.497230\n",
              "2  model_3  67.909554  4696.062500"
            ],
            "text/html": [
              "\n",
              "  <div id=\"df-0b6cb3b4-9563-4ac9-85a5-2df4aaf1c8b0\">\n",
              "    <div class=\"colab-df-container\">\n",
              "      <div>\n",
              "<style scoped>\n",
              "    .dataframe tbody tr th:only-of-type {\n",
              "        vertical-align: middle;\n",
              "    }\n",
              "\n",
              "    .dataframe tbody tr th {\n",
              "        vertical-align: top;\n",
              "    }\n",
              "\n",
              "    .dataframe thead th {\n",
              "        text-align: right;\n",
              "    }\n",
              "</style>\n",
              "<table border=\"1\" class=\"dataframe\">\n",
              "  <thead>\n",
              "    <tr style=\"text-align: right;\">\n",
              "      <th></th>\n",
              "      <th>model</th>\n",
              "      <th>mae</th>\n",
              "      <th>mse</th>\n",
              "    </tr>\n",
              "  </thead>\n",
              "  <tbody>\n",
              "    <tr>\n",
              "      <th>0</th>\n",
              "      <td>model_1</td>\n",
              "      <td>18.745327</td>\n",
              "      <td>353.573395</td>\n",
              "    </tr>\n",
              "    <tr>\n",
              "      <th>1</th>\n",
              "      <td>model_2</td>\n",
              "      <td>3.111021</td>\n",
              "      <td>12.497230</td>\n",
              "    </tr>\n",
              "    <tr>\n",
              "      <th>2</th>\n",
              "      <td>model_3</td>\n",
              "      <td>67.909554</td>\n",
              "      <td>4696.062500</td>\n",
              "    </tr>\n",
              "  </tbody>\n",
              "</table>\n",
              "</div>\n",
              "      <button class=\"colab-df-convert\" onclick=\"convertToInteractive('df-0b6cb3b4-9563-4ac9-85a5-2df4aaf1c8b0')\"\n",
              "              title=\"Convert this dataframe to an interactive table.\"\n",
              "              style=\"display:none;\">\n",
              "        \n",
              "  <svg xmlns=\"http://www.w3.org/2000/svg\" height=\"24px\"viewBox=\"0 0 24 24\"\n",
              "       width=\"24px\">\n",
              "    <path d=\"M0 0h24v24H0V0z\" fill=\"none\"/>\n",
              "    <path d=\"M18.56 5.44l.94 2.06.94-2.06 2.06-.94-2.06-.94-.94-2.06-.94 2.06-2.06.94zm-11 1L8.5 8.5l.94-2.06 2.06-.94-2.06-.94L8.5 2.5l-.94 2.06-2.06.94zm10 10l.94 2.06.94-2.06 2.06-.94-2.06-.94-.94-2.06-.94 2.06-2.06.94z\"/><path d=\"M17.41 7.96l-1.37-1.37c-.4-.4-.92-.59-1.43-.59-.52 0-1.04.2-1.43.59L10.3 9.45l-7.72 7.72c-.78.78-.78 2.05 0 2.83L4 21.41c.39.39.9.59 1.41.59.51 0 1.02-.2 1.41-.59l7.78-7.78 2.81-2.81c.8-.78.8-2.07 0-2.86zM5.41 20L4 18.59l7.72-7.72 1.47 1.35L5.41 20z\"/>\n",
              "  </svg>\n",
              "      </button>\n",
              "      \n",
              "  <style>\n",
              "    .colab-df-container {\n",
              "      display:flex;\n",
              "      flex-wrap:wrap;\n",
              "      gap: 12px;\n",
              "    }\n",
              "\n",
              "    .colab-df-convert {\n",
              "      background-color: #E8F0FE;\n",
              "      border: none;\n",
              "      border-radius: 50%;\n",
              "      cursor: pointer;\n",
              "      display: none;\n",
              "      fill: #1967D2;\n",
              "      height: 32px;\n",
              "      padding: 0 0 0 0;\n",
              "      width: 32px;\n",
              "    }\n",
              "\n",
              "    .colab-df-convert:hover {\n",
              "      background-color: #E2EBFA;\n",
              "      box-shadow: 0px 1px 2px rgba(60, 64, 67, 0.3), 0px 1px 3px 1px rgba(60, 64, 67, 0.15);\n",
              "      fill: #174EA6;\n",
              "    }\n",
              "\n",
              "    [theme=dark] .colab-df-convert {\n",
              "      background-color: #3B4455;\n",
              "      fill: #D2E3FC;\n",
              "    }\n",
              "\n",
              "    [theme=dark] .colab-df-convert:hover {\n",
              "      background-color: #434B5C;\n",
              "      box-shadow: 0px 1px 3px 1px rgba(0, 0, 0, 0.15);\n",
              "      filter: drop-shadow(0px 1px 2px rgba(0, 0, 0, 0.3));\n",
              "      fill: #FFFFFF;\n",
              "    }\n",
              "  </style>\n",
              "\n",
              "      <script>\n",
              "        const buttonEl =\n",
              "          document.querySelector('#df-0b6cb3b4-9563-4ac9-85a5-2df4aaf1c8b0 button.colab-df-convert');\n",
              "        buttonEl.style.display =\n",
              "          google.colab.kernel.accessAllowed ? 'block' : 'none';\n",
              "\n",
              "        async function convertToInteractive(key) {\n",
              "          const element = document.querySelector('#df-0b6cb3b4-9563-4ac9-85a5-2df4aaf1c8b0');\n",
              "          const dataTable =\n",
              "            await google.colab.kernel.invokeFunction('convertToInteractive',\n",
              "                                                     [key], {});\n",
              "          if (!dataTable) return;\n",
              "\n",
              "          const docLinkHtml = 'Like what you see? Visit the ' +\n",
              "            '<a target=\"_blank\" href=https://colab.research.google.com/notebooks/data_table.ipynb>data table notebook</a>'\n",
              "            + ' to learn more about interactive tables.';\n",
              "          element.innerHTML = '';\n",
              "          dataTable['output_type'] = 'display_data';\n",
              "          await google.colab.output.renderOutput(dataTable, element);\n",
              "          const docLink = document.createElement('div');\n",
              "          docLink.innerHTML = docLinkHtml;\n",
              "          element.appendChild(docLink);\n",
              "        }\n",
              "      </script>\n",
              "    </div>\n",
              "  </div>\n",
              "  "
            ]
          },
          "metadata": {},
          "execution_count": 70
        }
      ]
    },
    {
      "cell_type": "markdown",
      "source": [
        "## Saving our Models"
      ],
      "metadata": {
        "id": "F3ajJwhqLDs0"
      }
    },
    {
      "cell_type": "code",
      "source": [
        "#SavedModel\n",
        "model_2.save(\"Model_2_SavedModel_format\")"
      ],
      "metadata": {
        "id": "1CbyGRjcLYsi"
      },
      "execution_count": 71,
      "outputs": []
    },
    {
      "cell_type": "code",
      "source": [
        "model_2.save(\"Model_2.h5\")"
      ],
      "metadata": {
        "id": "gtETaziZMJR6"
      },
      "execution_count": 72,
      "outputs": []
    },
    {
      "cell_type": "markdown",
      "source": [
        "## Loading the Model"
      ],
      "metadata": {
        "id": "CMB5hCWCMlqf"
      }
    },
    {
      "cell_type": "code",
      "source": [
        "new_model_savedmode = tf.keras.models.load_model(\"Model_2_SavedModel_format\")"
      ],
      "metadata": {
        "id": "rKAMALlRMzpz"
      },
      "execution_count": 74,
      "outputs": []
    },
    {
      "cell_type": "code",
      "source": [
        "y_pred = new_model_savedmode.predict(x_test)"
      ],
      "metadata": {
        "colab": {
          "base_uri": "https://localhost:8080/"
        },
        "id": "w6IhzL2YM-1C",
        "outputId": "85c666b1-35c9-4225-a461-833483738e9a"
      },
      "execution_count": 77,
      "outputs": [
        {
          "output_type": "stream",
          "name": "stdout",
          "text": [
            "1/1 [==============================] - 0s 14ms/step\n"
          ]
        }
      ]
    },
    {
      "cell_type": "code",
      "source": [
        "plot_predictions(y_pred)"
      ],
      "metadata": {
        "colab": {
          "base_uri": "https://localhost:8080/",
          "height": 428
        },
        "id": "4WEo4DvMNHny",
        "outputId": "9156d559-c2ae-42de-c5e4-3bff90ef5a95"
      },
      "execution_count": 78,
      "outputs": [
        {
          "output_type": "display_data",
          "data": {
            "text/plain": [
              "<Figure size 720x504 with 1 Axes>"
            ],
            "image/png": "[encoded data removed]"
          },
          "metadata": {
            "needs_background": "light"
          }
        }
      ]
    },
    {
      "cell_type": "code",
      "source": [
        "new_model_h5 = tf.keras.models.load_model(\"/content/Model_2.h5\")"
      ],
      "metadata": {
        "id": "IrJvRLTUNPi-"
      },
      "execution_count": 81,
      "outputs": []
    },
    {
      "cell_type": "code",
      "source": [
        "y_pred_h5 = new_model_h5.predict(x_test)"
      ],
      "metadata": {
        "colab": {
          "base_uri": "https://localhost:8080/"
        },
        "id": "u4nvX3ZYNZWF",
        "outputId": "be65c2c4-8609-45eb-8707-ca9d9e6da0c2"
      },
      "execution_count": 82,
      "outputs": [
        {
          "output_type": "stream",
          "name": "stdout",
          "text": [
            "1/1 [==============================] - 0s 62ms/step\n"
          ]
        }
      ]
    },
    {
      "cell_type": "code",
      "source": [
        "plot_predictions(y_pred_h5)"
      ],
      "metadata": {
        "colab": {
          "base_uri": "https://localhost:8080/",
          "height": 428
        },
        "id": "S7Q3Pyt6Nqas",
        "outputId": "5577df98-816a-43e7-8ed6-8eb4f313cf4d"
      },
      "execution_count": 83,
      "outputs": [
        {
          "output_type": "display_data",
          "data": {
            "text/plain": [
              "<Figure size 720x504 with 1 Axes>"
            ],
            "image/png": "[encoded data removed]"
          },
          "metadata": {
            "needs_background": "light"
          }
        }
      ]
    },
    {
      "cell_type": "code",
      "source": [],
      "metadata": {
        "id": "TQ-KcmBuNsxw"
      },
      "execution_count": null,
      "outputs": []
    }
  ]
}
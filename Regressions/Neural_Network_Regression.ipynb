{
  "nbformat": 4,
  "nbformat_minor": 0,
  "metadata": {
    "colab": {
      "provenance": [],
      "collapsed_sections": [],
      "authorship_tag": "ABX9TyM1Qt3XvdEsEMF2qARQDBAR",
      "include_colab_link": true
    },
    "kernelspec": {
      "name": "python3",
      "display_name": "Python 3"
    },
    "language_info": {
      "name": "python"
    },
    "accelerator": "GPU"
  },
  "cells": [
    {
      "cell_type": "markdown",
      "metadata": {
        "id": "view-in-github",
        "colab_type": "text"
      },
      "source": [
        "<a href=\"https://colab.research.google.com/github/ShyamSundhar1411/My-ML-Notebooks/blob/master/Regressions/Neural_Network_Regression.ipynb\" target=\"_parent\"><img src=\"https://colab.research.google.com/assets/colab-badge.svg\" alt=\"Open In Colab\"/></a>"
      ]
    },
    {
      "cell_type": "markdown",
      "source": [
        "## Introduction to Regression with Neural Networks in TensorFlow\n",
        "Predicting a number"
      ],
      "metadata": {
        "id": "BkAEgpoR0VD1"
      }
    },
    {
      "cell_type": "code",
      "source": [
        "import tensorflow as tf\n",
        "print(tf.__version__)"
      ],
      "metadata": {
        "colab": {
          "base_uri": "https://localhost:8080/"
        },
        "id": "qeSQe1hs1EGg",
        "outputId": "5274bb4c-560f-40cc-abde-b3153f8c5ea4"
      },
      "execution_count": 80,
      "outputs": [
        {
          "output_type": "stream",
          "name": "stdout",
          "text": [
            "2.9.2\n"
          ]
        }
      ]
    },
    {
      "cell_type": "markdown",
      "source": [
        "## Creating data to view and fit"
      ],
      "metadata": {
        "id": "J7tOP26N1HFx"
      }
    },
    {
      "cell_type": "code",
      "source": [
        "import numpy as np\n",
        "import matplotlib.pyplot as plt\n",
        "np.random.seed(42)\n",
        "X = np.array([-7.0,-4.0,-1.0,2.0,5.0,8.0,11.0,14.0])\n",
        "Y = np.array([3.0,6.0,9.0,12.0,15.0,18.0,21.0,24.0])"
      ],
      "metadata": {
        "id": "hFIlrCUY1Rzn"
      },
      "execution_count": 81,
      "outputs": []
    },
    {
      "cell_type": "code",
      "source": [
        "plt.scatter(X,Y)"
      ],
      "metadata": {
        "colab": {
          "base_uri": "https://localhost:8080/",
          "height": 286
        },
        "id": "km_YtONK1nZp",
        "outputId": "eb0617ed-b7b4-4af0-e1b8-953703d1bcb6"
      },
      "execution_count": 82,
      "outputs": [
        {
          "output_type": "execute_result",
          "data": {
            "text/plain": [
              "<matplotlib.collections.PathCollection at 0x7f19497ea7d0>"
            ]
          },
          "metadata": {},
          "execution_count": 82
        },
        {
          "output_type": "display_data",
          "data": {
            "text/plain": [
              "<Figure size 432x288 with 1 Axes>"
            ],
            "image/png": "[encoded data removed]"
          },
          "metadata": {
            "needs_background": "light"
          }
        }
      ]
    },
    {
      "cell_type": "code",
      "source": [
        "Y == X+10"
      ],
      "metadata": {
        "colab": {
          "base_uri": "https://localhost:8080/"
        },
        "id": "9CJ75QlJ1n9q",
        "outputId": "37daf349-1024-410a-cc0b-5eae8f8cf532"
      },
      "execution_count": 83,
      "outputs": [
        {
          "output_type": "execute_result",
          "data": {
            "text/plain": [
              "array([ True,  True,  True,  True,  True,  True,  True,  True])"
            ]
          },
          "metadata": {},
          "execution_count": 83
        }
      ]
    },
    {
      "cell_type": "markdown",
      "source": [
        "## Input and Output Shapes"
      ],
      "metadata": {
        "id": "chqG4iVY3Xv6"
      }
    },
    {
      "cell_type": "code",
      "source": [
        "## Tensor for Housing Price Prediction Problem\n",
        "house_info = tf.constant(['bedroom','bathroom','garage'])\n",
        "house_price = tf.constant([937000])"
      ],
      "metadata": {
        "id": "TtED-OiJ3jfi"
      },
      "execution_count": 84,
      "outputs": []
    },
    {
      "cell_type": "code",
      "source": [
        "house_info.shape"
      ],
      "metadata": {
        "colab": {
          "base_uri": "https://localhost:8080/"
        },
        "id": "vStYFkwZ37L9",
        "outputId": "9fdb42fb-e31f-450a-d3ee-66e2ef0fb462"
      },
      "execution_count": 85,
      "outputs": [
        {
          "output_type": "execute_result",
          "data": {
            "text/plain": [
              "TensorShape([3])"
            ]
          },
          "metadata": {},
          "execution_count": 85
        }
      ]
    },
    {
      "cell_type": "code",
      "source": [
        "house_price.shape"
      ],
      "metadata": {
        "colab": {
          "base_uri": "https://localhost:8080/"
        },
        "id": "vkcE4O4z39K3",
        "outputId": "8c4cf98d-bfd8-4de8-f1fc-bb5fed992b4c"
      },
      "execution_count": 86,
      "outputs": [
        {
          "output_type": "execute_result",
          "data": {
            "text/plain": [
              "TensorShape([1])"
            ]
          },
          "metadata": {},
          "execution_count": 86
        }
      ]
    },
    {
      "cell_type": "code",
      "source": [
        "input_shape = X.shape"
      ],
      "metadata": {
        "id": "b50IVOJK3-oR"
      },
      "execution_count": 87,
      "outputs": []
    },
    {
      "cell_type": "code",
      "source": [
        "output_shape = Y.shape"
      ],
      "metadata": {
        "id": "NmmJSTFr4D_m"
      },
      "execution_count": 88,
      "outputs": []
    },
    {
      "cell_type": "code",
      "source": [
        "input_shape,output_shape"
      ],
      "metadata": {
        "colab": {
          "base_uri": "https://localhost:8080/"
        },
        "id": "LOBofXJS4Fjf",
        "outputId": "b61c5b8a-5f14-48ab-9abd-7c557568512c"
      },
      "execution_count": 89,
      "outputs": [
        {
          "output_type": "execute_result",
          "data": {
            "text/plain": [
              "((8,), (8,))"
            ]
          },
          "metadata": {},
          "execution_count": 89
        }
      ]
    },
    {
      "cell_type": "code",
      "source": [],
      "metadata": {
        "id": "Sh_Aam_04Gav"
      },
      "execution_count": 89,
      "outputs": []
    },
    {
      "cell_type": "code",
      "source": [
        "x = tf.constant(X)\n",
        "y = tf.constant(Y)"
      ],
      "metadata": {
        "id": "MjuBPuMA4Iyp"
      },
      "execution_count": 90,
      "outputs": []
    },
    {
      "cell_type": "code",
      "source": [
        "plt.scatter(X,Y)"
      ],
      "metadata": {
        "colab": {
          "base_uri": "https://localhost:8080/",
          "height": 286
        },
        "id": "uqNKUdht9Jv6",
        "outputId": "4b16bc31-43ac-4402-ab98-cf02800b003b"
      },
      "execution_count": 91,
      "outputs": [
        {
          "output_type": "execute_result",
          "data": {
            "text/plain": [
              "<matplotlib.collections.PathCollection at 0x7f194c86bdd0>"
            ]
          },
          "metadata": {},
          "execution_count": 91
        },
        {
          "output_type": "display_data",
          "data": {
            "text/plain": [
              "<Figure size 432x288 with 1 Axes>"
            ],
            "image/png": "[encoded data removed]"
          },
          "metadata": {
            "needs_background": "light"
          }
        }
      ]
    },
    {
      "cell_type": "markdown",
      "source": [
        "## Improving our model\n"
      ],
      "metadata": {
        "id": "H8bldqTbEeX1"
      }
    },
    {
      "cell_type": "code",
      "source": [
        "#Creating a model\n",
        "tf.random.set_seed(42)\n",
        " #Create a model using Sequential API\n",
        "model = tf.keras.Sequential([\n",
        "    tf.keras.layers.Dense(100,activation = \"relu\"),\n",
        "    tf.keras.layers.Dense(100,activation = \"relu\"),\n",
        "    tf.keras.layers.Dense(100,activation = \"relu\"),\n",
        "    tf.keras.layers.Dense(1)\n",
        "])\n",
        "model.compile(loss = tf.keras.losses.mae, optimizer = tf.keras.optimizers.Adam(lr = 0.0001),metrics = ['mae'])\n",
        "model.fit(tf.expand_dims(X,axis = 1),y,epochs = 100) "
      ],
      "metadata": {
        "colab": {
          "base_uri": "https://localhost:8080/"
        },
        "id": "t2Kb2uAd9Lbo",
        "outputId": "ac8caec1-2ccb-4fcb-932c-3b869d9914d4"
      },
      "execution_count": 92,
      "outputs": [
        {
          "output_type": "stream",
          "name": "stdout",
          "text": [
            "Epoch 1/100\n"
          ]
        },
        {
          "output_type": "stream",
          "name": "stderr",
          "text": [
            "/usr/local/lib/python3.7/dist-packages/keras/optimizers/optimizer_v2/adam.py:110: UserWarning: The `lr` argument is deprecated, use `learning_rate` instead.\n",
            "  super(Adam, self).__init__(name, **kwargs)\n"
          ]
        },
        {
          "output_type": "stream",
          "name": "stdout",
          "text": [
            "1/1 [==============================] - 0s 414ms/step - loss: 13.3031 - mae: 13.3031\n",
            "Epoch 2/100\n",
            "1/1 [==============================] - 0s 8ms/step - loss: 13.2643 - mae: 13.2643\n",
            "Epoch 3/100\n",
            "1/1 [==============================] - 0s 8ms/step - loss: 13.2256 - mae: 13.2256\n",
            "Epoch 4/100\n",
            "1/1 [==============================] - 0s 10ms/step - loss: 13.1872 - mae: 13.1872\n",
            "Epoch 5/100\n",
            "1/1 [==============================] - 0s 9ms/step - loss: 13.1507 - mae: 13.1507\n",
            "Epoch 6/100\n",
            "1/1 [==============================] - 0s 8ms/step - loss: 13.1142 - mae: 13.1142\n",
            "Epoch 7/100\n",
            "1/1 [==============================] - 0s 10ms/step - loss: 13.0778 - mae: 13.0778\n",
            "Epoch 8/100\n",
            "1/1 [==============================] - 0s 10ms/step - loss: 13.0413 - mae: 13.0413\n",
            "Epoch 9/100\n",
            "1/1 [==============================] - 0s 9ms/step - loss: 13.0048 - mae: 13.0048\n",
            "Epoch 10/100\n",
            "1/1 [==============================] - 0s 8ms/step - loss: 12.9683 - mae: 12.9683\n",
            "Epoch 11/100\n",
            "1/1 [==============================] - 0s 19ms/step - loss: 12.9320 - mae: 12.9320\n",
            "Epoch 12/100\n",
            "1/1 [==============================] - 0s 10ms/step - loss: 12.8958 - mae: 12.8958\n",
            "Epoch 13/100\n",
            "1/1 [==============================] - 0s 9ms/step - loss: 12.8596 - mae: 12.8596\n",
            "Epoch 14/100\n",
            "1/1 [==============================] - 0s 8ms/step - loss: 12.8235 - mae: 12.8235\n",
            "Epoch 15/100\n",
            "1/1 [==============================] - 0s 10ms/step - loss: 12.7874 - mae: 12.7874\n",
            "Epoch 16/100\n",
            "1/1 [==============================] - 0s 8ms/step - loss: 12.7514 - mae: 12.7514\n",
            "Epoch 17/100\n",
            "1/1 [==============================] - 0s 11ms/step - loss: 12.7154 - mae: 12.7154\n",
            "Epoch 18/100\n",
            "1/1 [==============================] - 0s 11ms/step - loss: 12.6793 - mae: 12.6793\n",
            "Epoch 19/100\n",
            "1/1 [==============================] - 0s 10ms/step - loss: 12.6433 - mae: 12.6433\n",
            "Epoch 20/100\n",
            "1/1 [==============================] - 0s 11ms/step - loss: 12.6073 - mae: 12.6073\n",
            "Epoch 21/100\n",
            "1/1 [==============================] - 0s 8ms/step - loss: 12.5716 - mae: 12.5716\n",
            "Epoch 22/100\n",
            "1/1 [==============================] - 0s 10ms/step - loss: 12.5359 - mae: 12.5359\n",
            "Epoch 23/100\n",
            "1/1 [==============================] - 0s 9ms/step - loss: 12.5002 - mae: 12.5002\n",
            "Epoch 24/100\n",
            "1/1 [==============================] - 0s 7ms/step - loss: 12.4648 - mae: 12.4648\n",
            "Epoch 25/100\n",
            "1/1 [==============================] - 0s 7ms/step - loss: 12.4294 - mae: 12.4294\n",
            "Epoch 26/100\n",
            "1/1 [==============================] - 0s 9ms/step - loss: 12.3939 - mae: 12.3939\n",
            "Epoch 27/100\n",
            "1/1 [==============================] - 0s 11ms/step - loss: 12.3584 - mae: 12.3584\n",
            "Epoch 28/100\n",
            "1/1 [==============================] - 0s 11ms/step - loss: 12.3230 - mae: 12.3230\n",
            "Epoch 29/100\n",
            "1/1 [==============================] - 0s 9ms/step - loss: 12.2877 - mae: 12.2877\n",
            "Epoch 30/100\n",
            "1/1 [==============================] - 0s 12ms/step - loss: 12.2525 - mae: 12.2525\n",
            "Epoch 31/100\n",
            "1/1 [==============================] - 0s 8ms/step - loss: 12.2173 - mae: 12.2173\n",
            "Epoch 32/100\n",
            "1/1 [==============================] - 0s 11ms/step - loss: 12.1824 - mae: 12.1824\n",
            "Epoch 33/100\n",
            "1/1 [==============================] - 0s 9ms/step - loss: 12.1492 - mae: 12.1492\n",
            "Epoch 34/100\n",
            "1/1 [==============================] - 0s 9ms/step - loss: 12.1160 - mae: 12.1160\n",
            "Epoch 35/100\n",
            "1/1 [==============================] - 0s 10ms/step - loss: 12.0825 - mae: 12.0825\n",
            "Epoch 36/100\n",
            "1/1 [==============================] - 0s 9ms/step - loss: 12.0484 - mae: 12.0484\n",
            "Epoch 37/100\n",
            "1/1 [==============================] - 0s 11ms/step - loss: 12.0138 - mae: 12.0138\n",
            "Epoch 38/100\n",
            "1/1 [==============================] - 0s 10ms/step - loss: 11.9790 - mae: 11.9790\n",
            "Epoch 39/100\n",
            "1/1 [==============================] - 0s 8ms/step - loss: 11.9445 - mae: 11.9445\n",
            "Epoch 40/100\n",
            "1/1 [==============================] - 0s 9ms/step - loss: 11.9099 - mae: 11.9099\n",
            "Epoch 41/100\n",
            "1/1 [==============================] - 0s 8ms/step - loss: 11.8751 - mae: 11.8751\n",
            "Epoch 42/100\n",
            "1/1 [==============================] - 0s 10ms/step - loss: 11.8399 - mae: 11.8399\n",
            "Epoch 43/100\n",
            "1/1 [==============================] - 0s 10ms/step - loss: 11.8046 - mae: 11.8046\n",
            "Epoch 44/100\n",
            "1/1 [==============================] - 0s 8ms/step - loss: 11.7693 - mae: 11.7693\n",
            "Epoch 45/100\n",
            "1/1 [==============================] - 0s 8ms/step - loss: 11.7342 - mae: 11.7342\n",
            "Epoch 46/100\n",
            "1/1 [==============================] - 0s 11ms/step - loss: 11.6988 - mae: 11.6988\n",
            "Epoch 47/100\n",
            "1/1 [==============================] - 0s 10ms/step - loss: 11.6631 - mae: 11.6631\n",
            "Epoch 48/100\n",
            "1/1 [==============================] - 0s 8ms/step - loss: 11.6270 - mae: 11.6270\n",
            "Epoch 49/100\n",
            "1/1 [==============================] - 0s 9ms/step - loss: 11.5907 - mae: 11.5907\n",
            "Epoch 50/100\n",
            "1/1 [==============================] - 0s 7ms/step - loss: 11.5541 - mae: 11.5541\n",
            "Epoch 51/100\n",
            "1/1 [==============================] - 0s 8ms/step - loss: 11.5171 - mae: 11.5171\n",
            "Epoch 52/100\n",
            "1/1 [==============================] - 0s 9ms/step - loss: 11.4797 - mae: 11.4797\n",
            "Epoch 53/100\n",
            "1/1 [==============================] - 0s 6ms/step - loss: 11.4417 - mae: 11.4417\n",
            "Epoch 54/100\n",
            "1/1 [==============================] - 0s 7ms/step - loss: 11.4034 - mae: 11.4034\n",
            "Epoch 55/100\n",
            "1/1 [==============================] - 0s 7ms/step - loss: 11.3647 - mae: 11.3647\n",
            "Epoch 56/100\n",
            "1/1 [==============================] - 0s 7ms/step - loss: 11.3254 - mae: 11.3254\n",
            "Epoch 57/100\n",
            "1/1 [==============================] - 0s 7ms/step - loss: 11.2855 - mae: 11.2855\n",
            "Epoch 58/100\n",
            "1/1 [==============================] - 0s 6ms/step - loss: 11.2452 - mae: 11.2452\n",
            "Epoch 59/100\n",
            "1/1 [==============================] - 0s 7ms/step - loss: 11.2044 - mae: 11.2044\n",
            "Epoch 60/100\n",
            "1/1 [==============================] - 0s 6ms/step - loss: 11.1634 - mae: 11.1634\n",
            "Epoch 61/100\n",
            "1/1 [==============================] - 0s 6ms/step - loss: 11.1224 - mae: 11.1224\n",
            "Epoch 62/100\n",
            "1/1 [==============================] - 0s 6ms/step - loss: 11.0819 - mae: 11.0819\n",
            "Epoch 63/100\n",
            "1/1 [==============================] - 0s 10ms/step - loss: 11.0416 - mae: 11.0416\n",
            "Epoch 64/100\n",
            "1/1 [==============================] - 0s 7ms/step - loss: 11.0009 - mae: 11.0009\n",
            "Epoch 65/100\n",
            "1/1 [==============================] - 0s 8ms/step - loss: 10.9597 - mae: 10.9597\n",
            "Epoch 66/100\n",
            "1/1 [==============================] - 0s 8ms/step - loss: 10.9183 - mae: 10.9183\n",
            "Epoch 67/100\n",
            "1/1 [==============================] - 0s 8ms/step - loss: 10.8764 - mae: 10.8764\n",
            "Epoch 68/100\n",
            "1/1 [==============================] - 0s 7ms/step - loss: 10.8342 - mae: 10.8342\n",
            "Epoch 69/100\n",
            "1/1 [==============================] - 0s 8ms/step - loss: 10.7916 - mae: 10.7916\n",
            "Epoch 70/100\n",
            "1/1 [==============================] - 0s 9ms/step - loss: 10.7535 - mae: 10.7535\n",
            "Epoch 71/100\n",
            "1/1 [==============================] - 0s 8ms/step - loss: 10.7212 - mae: 10.7212\n",
            "Epoch 72/100\n",
            "1/1 [==============================] - 0s 9ms/step - loss: 10.6886 - mae: 10.6886\n",
            "Epoch 73/100\n",
            "1/1 [==============================] - 0s 11ms/step - loss: 10.6559 - mae: 10.6559\n",
            "Epoch 74/100\n",
            "1/1 [==============================] - 0s 7ms/step - loss: 10.6230 - mae: 10.6230\n",
            "Epoch 75/100\n",
            "1/1 [==============================] - 0s 9ms/step - loss: 10.5902 - mae: 10.5902\n",
            "Epoch 76/100\n",
            "1/1 [==============================] - 0s 9ms/step - loss: 10.5573 - mae: 10.5573\n",
            "Epoch 77/100\n",
            "1/1 [==============================] - 0s 10ms/step - loss: 10.5240 - mae: 10.5240\n",
            "Epoch 78/100\n",
            "1/1 [==============================] - 0s 9ms/step - loss: 10.4904 - mae: 10.4904\n",
            "Epoch 79/100\n",
            "1/1 [==============================] - 0s 10ms/step - loss: 10.4566 - mae: 10.4566\n",
            "Epoch 80/100\n",
            "1/1 [==============================] - 0s 7ms/step - loss: 10.4224 - mae: 10.4224\n",
            "Epoch 81/100\n",
            "1/1 [==============================] - 0s 16ms/step - loss: 10.3879 - mae: 10.3879\n",
            "Epoch 82/100\n",
            "1/1 [==============================] - 0s 9ms/step - loss: 10.3532 - mae: 10.3532\n",
            "Epoch 83/100\n",
            "1/1 [==============================] - 0s 11ms/step - loss: 10.3181 - mae: 10.3181\n",
            "Epoch 84/100\n",
            "1/1 [==============================] - 0s 8ms/step - loss: 10.2829 - mae: 10.2829\n",
            "Epoch 85/100\n",
            "1/1 [==============================] - 0s 11ms/step - loss: 10.2476 - mae: 10.2476\n",
            "Epoch 86/100\n",
            "1/1 [==============================] - 0s 14ms/step - loss: 10.2127 - mae: 10.2127\n",
            "Epoch 87/100\n",
            "1/1 [==============================] - 0s 10ms/step - loss: 10.1774 - mae: 10.1774\n",
            "Epoch 88/100\n",
            "1/1 [==============================] - 0s 11ms/step - loss: 10.1418 - mae: 10.1418\n",
            "Epoch 89/100\n",
            "1/1 [==============================] - 0s 9ms/step - loss: 10.1061 - mae: 10.1061\n",
            "Epoch 90/100\n",
            "1/1 [==============================] - 0s 13ms/step - loss: 10.0701 - mae: 10.0701\n",
            "Epoch 91/100\n",
            "1/1 [==============================] - 0s 14ms/step - loss: 10.0338 - mae: 10.0338\n",
            "Epoch 92/100\n",
            "1/1 [==============================] - 0s 16ms/step - loss: 9.9971 - mae: 9.9971\n",
            "Epoch 93/100\n",
            "1/1 [==============================] - 0s 16ms/step - loss: 9.9601 - mae: 9.9601\n",
            "Epoch 94/100\n",
            "1/1 [==============================] - 0s 16ms/step - loss: 9.9228 - mae: 9.9228\n",
            "Epoch 95/100\n",
            "1/1 [==============================] - 0s 11ms/step - loss: 9.8851 - mae: 9.8851\n",
            "Epoch 96/100\n",
            "1/1 [==============================] - 0s 12ms/step - loss: 9.8470 - mae: 9.8470\n",
            "Epoch 97/100\n",
            "1/1 [==============================] - 0s 12ms/step - loss: 9.8087 - mae: 9.8087\n",
            "Epoch 98/100\n",
            "1/1 [==============================] - 0s 9ms/step - loss: 9.7699 - mae: 9.7699\n",
            "Epoch 99/100\n",
            "1/1 [==============================] - 0s 9ms/step - loss: 9.7309 - mae: 9.7309\n",
            "Epoch 100/100\n",
            "1/1 [==============================] - 0s 6ms/step - loss: 9.6916 - mae: 9.6916\n"
          ]
        },
        {
          "output_type": "execute_result",
          "data": {
            "text/plain": [
              "<keras.callbacks.History at 0x7f194c8239d0>"
            ]
          },
          "metadata": {},
          "execution_count": 92
        }
      ]
    },
    {
      "cell_type": "code",
      "source": [
        "y_pred = model.predict([17.0])\n",
        "y_pred"
      ],
      "metadata": {
        "colab": {
          "base_uri": "https://localhost:8080/"
        },
        "id": "-bVx7VKOEaOg",
        "outputId": "b0156cb3-fecd-4900-a8f1-d8f034f3b07d"
      },
      "execution_count": 93,
      "outputs": [
        {
          "output_type": "stream",
          "name": "stdout",
          "text": [
            "1/1 [==============================] - 0s 61ms/step\n"
          ]
        },
        {
          "output_type": "execute_result",
          "data": {
            "text/plain": [
              "array([[10.712205]], dtype=float32)"
            ]
          },
          "metadata": {},
          "execution_count": 93
        }
      ]
    },
    {
      "cell_type": "code",
      "source": [
        "#Create a model using Sequential API\n",
        "model = tf.keras.Sequential([\n",
        "    tf.keras.layers.Dense(50,activation = \"relu\"),\n",
        "    tf.keras.layers.Dense(1)\n",
        "])\n",
        "model.compile(loss = tf.keras.losses.mae, optimizer = tf.keras.optimizers.SGD(),metrics = ['mae'])\n",
        "model.fit(tf.expand_dims(X,axis = 1),y,epochs = 100) "
      ],
      "metadata": {
        "colab": {
          "base_uri": "https://localhost:8080/"
        },
        "id": "6mxbekBmWCMZ",
        "outputId": "c961052d-682e-416c-d71d-5df36b2ed70e"
      },
      "execution_count": 94,
      "outputs": [
        {
          "output_type": "stream",
          "name": "stdout",
          "text": [
            "Epoch 1/100\n",
            "1/1 [==============================] - 0s 302ms/step - loss: 12.1456 - mae: 12.1456\n",
            "Epoch 2/100\n",
            "1/1 [==============================] - 0s 12ms/step - loss: 11.5538 - mae: 11.5538\n",
            "Epoch 3/100\n",
            "1/1 [==============================] - 0s 14ms/step - loss: 10.9405 - mae: 10.9405\n",
            "Epoch 4/100\n",
            "1/1 [==============================] - 0s 9ms/step - loss: 10.3009 - mae: 10.3009\n",
            "Epoch 5/100\n",
            "1/1 [==============================] - 0s 8ms/step - loss: 9.6325 - mae: 9.6325\n",
            "Epoch 6/100\n",
            "1/1 [==============================] - 0s 7ms/step - loss: 8.9314 - mae: 8.9314\n",
            "Epoch 7/100\n",
            "1/1 [==============================] - 0s 8ms/step - loss: 8.1937 - mae: 8.1937\n",
            "Epoch 8/100\n",
            "1/1 [==============================] - 0s 8ms/step - loss: 7.3997 - mae: 7.3997\n",
            "Epoch 9/100\n",
            "1/1 [==============================] - 0s 8ms/step - loss: 6.5612 - mae: 6.5612\n",
            "Epoch 10/100\n",
            "1/1 [==============================] - 0s 8ms/step - loss: 5.6630 - mae: 5.6630\n",
            "Epoch 11/100\n",
            "1/1 [==============================] - 0s 9ms/step - loss: 4.6956 - mae: 4.6956\n",
            "Epoch 12/100\n",
            "1/1 [==============================] - 0s 10ms/step - loss: 4.2610 - mae: 4.2610\n",
            "Epoch 13/100\n",
            "1/1 [==============================] - 0s 9ms/step - loss: 4.2586 - mae: 4.2586\n",
            "Epoch 14/100\n",
            "1/1 [==============================] - 0s 9ms/step - loss: 4.1631 - mae: 4.1631\n",
            "Epoch 15/100\n",
            "1/1 [==============================] - 0s 7ms/step - loss: 4.1946 - mae: 4.1946\n",
            "Epoch 16/100\n",
            "1/1 [==============================] - 0s 9ms/step - loss: 4.0891 - mae: 4.0891\n",
            "Epoch 17/100\n",
            "1/1 [==============================] - 0s 8ms/step - loss: 4.1034 - mae: 4.1034\n",
            "Epoch 18/100\n",
            "1/1 [==============================] - 0s 9ms/step - loss: 4.0234 - mae: 4.0234\n",
            "Epoch 19/100\n",
            "1/1 [==============================] - 0s 8ms/step - loss: 4.0029 - mae: 4.0029\n",
            "Epoch 20/100\n",
            "1/1 [==============================] - 0s 8ms/step - loss: 3.9563 - mae: 3.9563\n",
            "Epoch 21/100\n",
            "1/1 [==============================] - 0s 9ms/step - loss: 3.9147 - mae: 3.9147\n",
            "Epoch 22/100\n",
            "1/1 [==============================] - 0s 9ms/step - loss: 3.9407 - mae: 3.9407\n",
            "Epoch 23/100\n",
            "1/1 [==============================] - 0s 7ms/step - loss: 3.8891 - mae: 3.8891\n",
            "Epoch 24/100\n",
            "1/1 [==============================] - 0s 8ms/step - loss: 3.9518 - mae: 3.9518\n",
            "Epoch 25/100\n",
            "1/1 [==============================] - 0s 10ms/step - loss: 3.8861 - mae: 3.8861\n",
            "Epoch 26/100\n",
            "1/1 [==============================] - 0s 9ms/step - loss: 3.9452 - mae: 3.9452\n",
            "Epoch 27/100\n",
            "1/1 [==============================] - 0s 10ms/step - loss: 3.8940 - mae: 3.8940\n",
            "Epoch 28/100\n",
            "1/1 [==============================] - 0s 9ms/step - loss: 3.9197 - mae: 3.9197\n",
            "Epoch 29/100\n",
            "1/1 [==============================] - 0s 8ms/step - loss: 3.9021 - mae: 3.9021\n",
            "Epoch 30/100\n",
            "1/1 [==============================] - 0s 8ms/step - loss: 3.8941 - mae: 3.8941\n",
            "Epoch 31/100\n",
            "1/1 [==============================] - 0s 8ms/step - loss: 3.9102 - mae: 3.9102\n",
            "Epoch 32/100\n",
            "1/1 [==============================] - 0s 8ms/step - loss: 3.8686 - mae: 3.8686\n",
            "Epoch 33/100\n",
            "1/1 [==============================] - 0s 9ms/step - loss: 3.9247 - mae: 3.9247\n",
            "Epoch 34/100\n",
            "1/1 [==============================] - 0s 10ms/step - loss: 3.8562 - mae: 3.8562\n",
            "Epoch 35/100\n",
            "1/1 [==============================] - 0s 11ms/step - loss: 3.9239 - mae: 3.9239\n",
            "Epoch 36/100\n",
            "1/1 [==============================] - 0s 10ms/step - loss: 3.8643 - mae: 3.8643\n",
            "Epoch 37/100\n",
            "1/1 [==============================] - 0s 9ms/step - loss: 3.8982 - mae: 3.8982\n",
            "Epoch 38/100\n",
            "1/1 [==============================] - 0s 8ms/step - loss: 3.8725 - mae: 3.8725\n",
            "Epoch 39/100\n",
            "1/1 [==============================] - 0s 10ms/step - loss: 3.8723 - mae: 3.8723\n",
            "Epoch 40/100\n",
            "1/1 [==============================] - 0s 9ms/step - loss: 3.8809 - mae: 3.8809\n",
            "Epoch 41/100\n",
            "1/1 [==============================] - 0s 7ms/step - loss: 3.8492 - mae: 3.8492\n",
            "Epoch 42/100\n",
            "1/1 [==============================] - 0s 8ms/step - loss: 3.8956 - mae: 3.8956\n",
            "Epoch 43/100\n",
            "1/1 [==============================] - 0s 8ms/step - loss: 3.8274 - mae: 3.8274\n",
            "Epoch 44/100\n",
            "1/1 [==============================] - 0s 9ms/step - loss: 3.9013 - mae: 3.9013\n",
            "Epoch 45/100\n",
            "1/1 [==============================] - 0s 9ms/step - loss: 3.8357 - mae: 3.8357\n",
            "Epoch 46/100\n",
            "1/1 [==============================] - 0s 11ms/step - loss: 3.8753 - mae: 3.8753\n",
            "Epoch 47/100\n",
            "1/1 [==============================] - 0s 9ms/step - loss: 3.8442 - mae: 3.8442\n",
            "Epoch 48/100\n",
            "1/1 [==============================] - 0s 12ms/step - loss: 3.8492 - mae: 3.8492\n",
            "Epoch 49/100\n",
            "1/1 [==============================] - 0s 9ms/step - loss: 3.8527 - mae: 3.8527\n",
            "Epoch 50/100\n",
            "1/1 [==============================] - 0s 7ms/step - loss: 3.8283 - mae: 3.8283\n",
            "Epoch 51/100\n",
            "1/1 [==============================] - 0s 8ms/step - loss: 3.8675 - mae: 3.8675\n",
            "Epoch 52/100\n",
            "1/1 [==============================] - 0s 10ms/step - loss: 3.8019 - mae: 3.8019\n",
            "Epoch 53/100\n",
            "1/1 [==============================] - 0s 8ms/step - loss: 3.8763 - mae: 3.8763\n",
            "Epoch 54/100\n",
            "1/1 [==============================] - 0s 11ms/step - loss: 3.8082 - mae: 3.8082\n",
            "Epoch 55/100\n",
            "1/1 [==============================] - 0s 9ms/step - loss: 3.8512 - mae: 3.8512\n",
            "Epoch 56/100\n",
            "1/1 [==============================] - 0s 9ms/step - loss: 3.8169 - mae: 3.8169\n",
            "Epoch 57/100\n",
            "1/1 [==============================] - 0s 9ms/step - loss: 3.8248 - mae: 3.8248\n",
            "Epoch 58/100\n",
            "1/1 [==============================] - 0s 11ms/step - loss: 3.8273 - mae: 3.8273\n",
            "Epoch 59/100\n",
            "1/1 [==============================] - 0s 9ms/step - loss: 3.8037 - mae: 3.8037\n",
            "Epoch 60/100\n",
            "1/1 [==============================] - 0s 10ms/step - loss: 3.8406 - mae: 3.8406\n",
            "Epoch 61/100\n",
            "1/1 [==============================] - 0s 9ms/step - loss: 3.7769 - mae: 3.7769\n",
            "Epoch 62/100\n",
            "1/1 [==============================] - 0s 10ms/step - loss: 3.8496 - mae: 3.8496\n",
            "Epoch 63/100\n",
            "1/1 [==============================] - 0s 9ms/step - loss: 3.7818 - mae: 3.7818\n",
            "Epoch 64/100\n",
            "1/1 [==============================] - 0s 9ms/step - loss: 3.8258 - mae: 3.8258\n",
            "Epoch 65/100\n",
            "1/1 [==============================] - 0s 9ms/step - loss: 3.7907 - mae: 3.7907\n",
            "Epoch 66/100\n",
            "1/1 [==============================] - 0s 8ms/step - loss: 3.7991 - mae: 3.7991\n",
            "Epoch 67/100\n",
            "1/1 [==============================] - 0s 7ms/step - loss: 3.8035 - mae: 3.8035\n",
            "Epoch 68/100\n",
            "1/1 [==============================] - 0s 13ms/step - loss: 3.7776 - mae: 3.7776\n",
            "Epoch 69/100\n",
            "1/1 [==============================] - 0s 9ms/step - loss: 3.8148 - mae: 3.8148\n",
            "Epoch 70/100\n",
            "1/1 [==============================] - 0s 8ms/step - loss: 3.7505 - mae: 3.7505\n",
            "Epoch 71/100\n",
            "1/1 [==============================] - 0s 7ms/step - loss: 3.8240 - mae: 3.8240\n",
            "Epoch 72/100\n",
            "1/1 [==============================] - 0s 9ms/step - loss: 3.7565 - mae: 3.7565\n",
            "Epoch 73/100\n",
            "1/1 [==============================] - 0s 7ms/step - loss: 3.7991 - mae: 3.7991\n",
            "Epoch 74/100\n",
            "1/1 [==============================] - 0s 8ms/step - loss: 3.7655 - mae: 3.7655\n",
            "Epoch 75/100\n",
            "1/1 [==============================] - 0s 6ms/step - loss: 3.7726 - mae: 3.7726\n",
            "Epoch 76/100\n",
            "1/1 [==============================] - 0s 8ms/step - loss: 3.7807 - mae: 3.7807\n",
            "Epoch 77/100\n",
            "1/1 [==============================] - 0s 7ms/step - loss: 3.7503 - mae: 3.7503\n",
            "Epoch 78/100\n",
            "1/1 [==============================] - 0s 8ms/step - loss: 3.7900 - mae: 3.7900\n",
            "Epoch 79/100\n",
            "1/1 [==============================] - 0s 6ms/step - loss: 3.7231 - mae: 3.7231\n",
            "Epoch 80/100\n",
            "1/1 [==============================] - 0s 6ms/step - loss: 3.7983 - mae: 3.7983\n",
            "Epoch 81/100\n",
            "1/1 [==============================] - 0s 8ms/step - loss: 3.7322 - mae: 3.7322\n",
            "Epoch 82/100\n",
            "1/1 [==============================] - 0s 8ms/step - loss: 3.7711 - mae: 3.7711\n",
            "Epoch 83/100\n",
            "1/1 [==============================] - 0s 7ms/step - loss: 3.7414 - mae: 3.7414\n",
            "Epoch 84/100\n",
            "1/1 [==============================] - 0s 8ms/step - loss: 3.7462 - mae: 3.7462\n",
            "Epoch 85/100\n",
            "1/1 [==============================] - 0s 7ms/step - loss: 3.7568 - mae: 3.7568\n",
            "Epoch 86/100\n",
            "1/1 [==============================] - 0s 8ms/step - loss: 3.7216 - mae: 3.7216\n",
            "Epoch 87/100\n",
            "1/1 [==============================] - 0s 6ms/step - loss: 3.7663 - mae: 3.7663\n",
            "Epoch 88/100\n",
            "1/1 [==============================] - 0s 7ms/step - loss: 3.6996 - mae: 3.6996\n",
            "Epoch 89/100\n",
            "1/1 [==============================] - 0s 6ms/step - loss: 3.7692 - mae: 3.7692\n",
            "Epoch 90/100\n",
            "1/1 [==============================] - 0s 8ms/step - loss: 3.7089 - mae: 3.7089\n",
            "Epoch 91/100\n",
            "1/1 [==============================] - 0s 6ms/step - loss: 3.7418 - mae: 3.7418\n",
            "Epoch 92/100\n",
            "1/1 [==============================] - 0s 14ms/step - loss: 3.7184 - mae: 3.7184\n",
            "Epoch 93/100\n",
            "1/1 [==============================] - 0s 7ms/step - loss: 3.7183 - mae: 3.7183\n",
            "Epoch 94/100\n",
            "1/1 [==============================] - 0s 8ms/step - loss: 3.7339 - mae: 3.7339\n",
            "Epoch 95/100\n",
            "1/1 [==============================] - 0s 8ms/step - loss: 3.6916 - mae: 3.6916\n",
            "Epoch 96/100\n",
            "1/1 [==============================] - 0s 13ms/step - loss: 3.7436 - mae: 3.7436\n",
            "Epoch 97/100\n",
            "1/1 [==============================] - 0s 9ms/step - loss: 3.6771 - mae: 3.6771\n",
            "Epoch 98/100\n",
            "1/1 [==============================] - 0s 10ms/step - loss: 3.7389 - mae: 3.7389\n",
            "Epoch 99/100\n",
            "1/1 [==============================] - 0s 6ms/step - loss: 3.6866 - mae: 3.6866\n",
            "Epoch 100/100\n",
            "1/1 [==============================] - 0s 7ms/step - loss: 3.7111 - mae: 3.7111\n"
          ]
        },
        {
          "output_type": "execute_result",
          "data": {
            "text/plain": [
              "<keras.callbacks.History at 0x7f195cbfd090>"
            ]
          },
          "metadata": {},
          "execution_count": 94
        }
      ]
    },
    {
      "cell_type": "code",
      "source": [
        "model.predict([17.0])"
      ],
      "metadata": {
        "colab": {
          "base_uri": "https://localhost:8080/"
        },
        "id": "pGCwUq6LXux6",
        "outputId": "e1f4450b-0a6d-4b09-db0b-e9c5da29814a"
      },
      "execution_count": 95,
      "outputs": [
        {
          "output_type": "stream",
          "name": "stdout",
          "text": [
            "1/1 [==============================] - 0s 49ms/step\n"
          ]
        },
        {
          "output_type": "execute_result",
          "data": {
            "text/plain": [
              "array([[32.45491]], dtype=float32)"
            ]
          },
          "metadata": {},
          "execution_count": 95
        }
      ]
    },
    {
      "cell_type": "code",
      "source": [
        "model = tf.keras.Sequential([\n",
        "    tf.keras.layers.Dense(50,activation = None),\n",
        "    tf.keras.layers.Dense(1)\n",
        "])\n",
        "model.compile(loss = tf.keras.losses.mae,optimizer = tf.keras.optimizers.Adam(lr = 0.01),metrics = 'mae')\n",
        "model.fit(tf.expand_dims(X,axis = 1),y,epochs = 100)"
      ],
      "metadata": {
        "colab": {
          "base_uri": "https://localhost:8080/"
        },
        "id": "gEG-g-ipXxTf",
        "outputId": "57e2195d-1b9a-41fd-bff2-c5bc90ea15aa"
      },
      "execution_count": 96,
      "outputs": [
        {
          "output_type": "stream",
          "name": "stdout",
          "text": [
            "Epoch 1/100\n",
            "1/1 [==============================] - 0s 324ms/step - loss: 12.5419 - mae: 12.5419\n",
            "Epoch 2/100\n",
            "1/1 [==============================] - 0s 8ms/step - loss: 11.8482 - mae: 11.8482\n",
            "Epoch 3/100\n",
            "1/1 [==============================] - 0s 7ms/step - loss: 11.1529 - mae: 11.1529\n",
            "Epoch 4/100\n",
            "1/1 [==============================] - 0s 9ms/step - loss: 10.4547 - mae: 10.4547\n",
            "Epoch 5/100\n",
            "1/1 [==============================] - 0s 10ms/step - loss: 9.7511 - mae: 9.7511\n",
            "Epoch 6/100\n",
            "1/1 [==============================] - 0s 7ms/step - loss: 9.0391 - mae: 9.0391\n",
            "Epoch 7/100\n",
            "1/1 [==============================] - 0s 6ms/step - loss: 8.3156 - mae: 8.3156\n",
            "Epoch 8/100\n",
            "1/1 [==============================] - 0s 7ms/step - loss: 7.5774 - mae: 7.5774\n",
            "Epoch 9/100\n",
            "1/1 [==============================] - 0s 8ms/step - loss: 6.9147 - mae: 6.9147\n",
            "Epoch 10/100\n",
            "1/1 [==============================] - 0s 9ms/step - loss: 6.9004 - mae: 6.9004\n",
            "Epoch 11/100\n",
            "1/1 [==============================] - 0s 7ms/step - loss: 7.1699 - mae: 7.1699\n",
            "Epoch 12/100\n",
            "1/1 [==============================] - 0s 8ms/step - loss: 7.3235 - mae: 7.3235\n",
            "Epoch 13/100\n",
            "1/1 [==============================] - 0s 8ms/step - loss: 7.3803 - mae: 7.3803\n",
            "Epoch 14/100\n",
            "1/1 [==============================] - 0s 8ms/step - loss: 7.3573 - mae: 7.3573\n",
            "Epoch 15/100\n",
            "1/1 [==============================] - 0s 7ms/step - loss: 7.2281 - mae: 7.2281\n",
            "Epoch 16/100\n",
            "1/1 [==============================] - 0s 8ms/step - loss: 7.0552 - mae: 7.0552\n",
            "Epoch 17/100\n",
            "1/1 [==============================] - 0s 8ms/step - loss: 6.8469 - mae: 6.8469\n",
            "Epoch 18/100\n",
            "1/1 [==============================] - 0s 8ms/step - loss: 6.6106 - mae: 6.6106\n",
            "Epoch 19/100\n",
            "1/1 [==============================] - 0s 7ms/step - loss: 6.3524 - mae: 6.3524\n",
            "Epoch 20/100\n",
            "1/1 [==============================] - 0s 7ms/step - loss: 6.2389 - mae: 6.2389\n",
            "Epoch 21/100\n",
            "1/1 [==============================] - 0s 7ms/step - loss: 6.1921 - mae: 6.1921\n",
            "Epoch 22/100\n",
            "1/1 [==============================] - 0s 7ms/step - loss: 6.2627 - mae: 6.2627\n",
            "Epoch 23/100\n",
            "1/1 [==============================] - 0s 9ms/step - loss: 6.3081 - mae: 6.3081\n",
            "Epoch 24/100\n",
            "1/1 [==============================] - 0s 8ms/step - loss: 6.2463 - mae: 6.2463\n",
            "Epoch 25/100\n",
            "1/1 [==============================] - 0s 8ms/step - loss: 6.0915 - mae: 6.0915\n",
            "Epoch 26/100\n",
            "1/1 [==============================] - 0s 6ms/step - loss: 5.8537 - mae: 5.8537\n",
            "Epoch 27/100\n",
            "1/1 [==============================] - 0s 9ms/step - loss: 5.7249 - mae: 5.7249\n",
            "Epoch 28/100\n",
            "1/1 [==============================] - 0s 10ms/step - loss: 5.6191 - mae: 5.6191\n",
            "Epoch 29/100\n",
            "1/1 [==============================] - 0s 8ms/step - loss: 5.5762 - mae: 5.5762\n",
            "Epoch 30/100\n",
            "1/1 [==============================] - 0s 8ms/step - loss: 5.5763 - mae: 5.5763\n",
            "Epoch 31/100\n",
            "1/1 [==============================] - 0s 8ms/step - loss: 5.5271 - mae: 5.5271\n",
            "Epoch 32/100\n",
            "1/1 [==============================] - 0s 10ms/step - loss: 5.4323 - mae: 5.4323\n",
            "Epoch 33/100\n",
            "1/1 [==============================] - 0s 8ms/step - loss: 5.2957 - mae: 5.2957\n",
            "Epoch 34/100\n",
            "1/1 [==============================] - 0s 9ms/step - loss: 5.1208 - mae: 5.1208\n",
            "Epoch 35/100\n",
            "1/1 [==============================] - 0s 8ms/step - loss: 4.9317 - mae: 4.9317\n",
            "Epoch 36/100\n",
            "1/1 [==============================] - 0s 8ms/step - loss: 4.8349 - mae: 4.8349\n",
            "Epoch 37/100\n",
            "1/1 [==============================] - 0s 8ms/step - loss: 4.7305 - mae: 4.7305\n",
            "Epoch 38/100\n",
            "1/1 [==============================] - 0s 9ms/step - loss: 4.6183 - mae: 4.6183\n",
            "Epoch 39/100\n",
            "1/1 [==============================] - 0s 8ms/step - loss: 4.5151 - mae: 4.5151\n",
            "Epoch 40/100\n",
            "1/1 [==============================] - 0s 7ms/step - loss: 4.3605 - mae: 4.3605\n",
            "Epoch 41/100\n",
            "1/1 [==============================] - 0s 12ms/step - loss: 4.2152 - mae: 4.2152\n",
            "Epoch 42/100\n",
            "1/1 [==============================] - 0s 10ms/step - loss: 4.0621 - mae: 4.0621\n",
            "Epoch 43/100\n",
            "1/1 [==============================] - 0s 23ms/step - loss: 3.9008 - mae: 3.9008\n",
            "Epoch 44/100\n",
            "1/1 [==============================] - 0s 12ms/step - loss: 3.7310 - mae: 3.7310\n",
            "Epoch 45/100\n",
            "1/1 [==============================] - 0s 13ms/step - loss: 3.5526 - mae: 3.5526\n",
            "Epoch 46/100\n",
            "1/1 [==============================] - 0s 10ms/step - loss: 3.4089 - mae: 3.4089\n",
            "Epoch 47/100\n",
            "1/1 [==============================] - 0s 22ms/step - loss: 3.2256 - mae: 3.2256\n",
            "Epoch 48/100\n",
            "1/1 [==============================] - 0s 14ms/step - loss: 2.9968 - mae: 2.9968\n",
            "Epoch 49/100\n",
            "1/1 [==============================] - 0s 7ms/step - loss: 2.8021 - mae: 2.8021\n",
            "Epoch 50/100\n",
            "1/1 [==============================] - 0s 7ms/step - loss: 2.5959 - mae: 2.5959\n",
            "Epoch 51/100\n",
            "1/1 [==============================] - 0s 7ms/step - loss: 2.3780 - mae: 2.3780\n",
            "Epoch 52/100\n",
            "1/1 [==============================] - 0s 8ms/step - loss: 2.1483 - mae: 2.1483\n",
            "Epoch 53/100\n",
            "1/1 [==============================] - 0s 7ms/step - loss: 1.9120 - mae: 1.9120\n",
            "Epoch 54/100\n",
            "1/1 [==============================] - 0s 7ms/step - loss: 1.6413 - mae: 1.6413\n",
            "Epoch 55/100\n",
            "1/1 [==============================] - 0s 7ms/step - loss: 1.5063 - mae: 1.5063\n",
            "Epoch 56/100\n",
            "1/1 [==============================] - 0s 7ms/step - loss: 1.3078 - mae: 1.3078\n",
            "Epoch 57/100\n",
            "1/1 [==============================] - 0s 8ms/step - loss: 0.8984 - mae: 0.8984\n",
            "Epoch 58/100\n",
            "1/1 [==============================] - 0s 8ms/step - loss: 0.6735 - mae: 0.6735\n",
            "Epoch 59/100\n",
            "1/1 [==============================] - 0s 8ms/step - loss: 0.4490 - mae: 0.4490\n",
            "Epoch 60/100\n",
            "1/1 [==============================] - 0s 6ms/step - loss: 0.1118 - mae: 0.1118\n",
            "Epoch 61/100\n",
            "1/1 [==============================] - 0s 6ms/step - loss: 0.6302 - mae: 0.6302\n",
            "Epoch 62/100\n",
            "1/1 [==============================] - 0s 6ms/step - loss: 0.9813 - mae: 0.9813\n",
            "Epoch 63/100\n",
            "1/1 [==============================] - 0s 6ms/step - loss: 1.0661 - mae: 1.0661\n",
            "Epoch 64/100\n",
            "1/1 [==============================] - 0s 8ms/step - loss: 0.9175 - mae: 0.9175\n",
            "Epoch 65/100\n",
            "1/1 [==============================] - 0s 6ms/step - loss: 0.7160 - mae: 0.7160\n",
            "Epoch 66/100\n",
            "1/1 [==============================] - 0s 6ms/step - loss: 0.9166 - mae: 0.9166\n",
            "Epoch 67/100\n",
            "1/1 [==============================] - 0s 7ms/step - loss: 0.8695 - mae: 0.8695\n",
            "Epoch 68/100\n",
            "1/1 [==============================] - 0s 7ms/step - loss: 0.5910 - mae: 0.5910\n",
            "Epoch 69/100\n",
            "1/1 [==============================] - 0s 7ms/step - loss: 0.5656 - mae: 0.5656\n",
            "Epoch 70/100\n",
            "1/1 [==============================] - 0s 8ms/step - loss: 0.5140 - mae: 0.5140\n",
            "Epoch 71/100\n",
            "1/1 [==============================] - 0s 6ms/step - loss: 0.2767 - mae: 0.2767\n",
            "Epoch 72/100\n",
            "1/1 [==============================] - 0s 8ms/step - loss: 0.1738 - mae: 0.1738\n",
            "Epoch 73/100\n",
            "1/1 [==============================] - 0s 7ms/step - loss: 0.2283 - mae: 0.2283\n",
            "Epoch 74/100\n",
            "1/1 [==============================] - 0s 6ms/step - loss: 0.3036 - mae: 0.3036\n",
            "Epoch 75/100\n",
            "1/1 [==============================] - 0s 7ms/step - loss: 0.3438 - mae: 0.3438\n",
            "Epoch 76/100\n",
            "1/1 [==============================] - 0s 8ms/step - loss: 0.4089 - mae: 0.4089\n",
            "Epoch 77/100\n",
            "1/1 [==============================] - 0s 9ms/step - loss: 0.4105 - mae: 0.4105\n",
            "Epoch 78/100\n",
            "1/1 [==============================] - 0s 7ms/step - loss: 0.3072 - mae: 0.3072\n",
            "Epoch 79/100\n",
            "1/1 [==============================] - 0s 7ms/step - loss: 0.2806 - mae: 0.2806\n",
            "Epoch 80/100\n",
            "1/1 [==============================] - 0s 7ms/step - loss: 0.1903 - mae: 0.1903\n",
            "Epoch 81/100\n",
            "1/1 [==============================] - 0s 7ms/step - loss: 0.0598 - mae: 0.0598\n",
            "Epoch 82/100\n",
            "1/1 [==============================] - 0s 8ms/step - loss: 0.2450 - mae: 0.2450\n",
            "Epoch 83/100\n",
            "1/1 [==============================] - 0s 7ms/step - loss: 0.2756 - mae: 0.2756\n",
            "Epoch 84/100\n",
            "1/1 [==============================] - 0s 7ms/step - loss: 0.2594 - mae: 0.2594\n",
            "Epoch 85/100\n",
            "1/1 [==============================] - 0s 7ms/step - loss: 0.2853 - mae: 0.2853\n",
            "Epoch 86/100\n",
            "1/1 [==============================] - 0s 8ms/step - loss: 0.3076 - mae: 0.3076\n",
            "Epoch 87/100\n",
            "1/1 [==============================] - 0s 7ms/step - loss: 0.2657 - mae: 0.2657\n",
            "Epoch 88/100\n",
            "1/1 [==============================] - 0s 7ms/step - loss: 0.1947 - mae: 0.1947\n",
            "Epoch 89/100\n",
            "1/1 [==============================] - 0s 7ms/step - loss: 0.1061 - mae: 0.1061\n",
            "Epoch 90/100\n",
            "1/1 [==============================] - 0s 7ms/step - loss: 0.2570 - mae: 0.2570\n",
            "Epoch 91/100\n",
            "1/1 [==============================] - 0s 7ms/step - loss: 0.2568 - mae: 0.2568\n",
            "Epoch 92/100\n",
            "1/1 [==============================] - 0s 8ms/step - loss: 0.2211 - mae: 0.2211\n",
            "Epoch 93/100\n",
            "1/1 [==============================] - 0s 8ms/step - loss: 0.2879 - mae: 0.2879\n",
            "Epoch 94/100\n",
            "1/1 [==============================] - 0s 6ms/step - loss: 0.1996 - mae: 0.1996\n",
            "Epoch 95/100\n",
            "1/1 [==============================] - 0s 7ms/step - loss: 0.2713 - mae: 0.2713\n",
            "Epoch 96/100\n",
            "1/1 [==============================] - 0s 8ms/step - loss: 0.2325 - mae: 0.2325\n",
            "Epoch 97/100\n",
            "1/1 [==============================] - 0s 7ms/step - loss: 0.0982 - mae: 0.0982\n",
            "Epoch 98/100\n",
            "1/1 [==============================] - 0s 7ms/step - loss: 0.0978 - mae: 0.0978\n",
            "Epoch 99/100\n",
            "1/1 [==============================] - 0s 7ms/step - loss: 0.2181 - mae: 0.2181\n",
            "Epoch 100/100\n",
            "1/1 [==============================] - 0s 7ms/step - loss: 0.2213 - mae: 0.2213\n"
          ]
        },
        {
          "output_type": "execute_result",
          "data": {
            "text/plain": [
              "<keras.callbacks.History at 0x7f195d444210>"
            ]
          },
          "metadata": {},
          "execution_count": 96
        }
      ]
    },
    {
      "cell_type": "code",
      "source": [
        "model.predict([25.0])"
      ],
      "metadata": {
        "colab": {
          "base_uri": "https://localhost:8080/"
        },
        "id": "jXo6sry-ZUVz",
        "outputId": "67c8102c-3e34-41bb-b35f-9b81835d8e26"
      },
      "execution_count": 97,
      "outputs": [
        {
          "output_type": "stream",
          "name": "stdout",
          "text": [
            "1/1 [==============================] - 0s 99ms/step\n"
          ]
        },
        {
          "output_type": "execute_result",
          "data": {
            "text/plain": [
              "array([[34.76519]], dtype=float32)"
            ]
          },
          "metadata": {},
          "execution_count": 97
        }
      ]
    },
    {
      "cell_type": "code",
      "source": [
        " X = tf.range(-100,100,4)"
      ],
      "metadata": {
        "id": "5mDYyDsQbNQ9"
      },
      "execution_count": 98,
      "outputs": []
    },
    {
      "cell_type": "code",
      "source": [
        "X"
      ],
      "metadata": {
        "colab": {
          "base_uri": "https://localhost:8080/"
        },
        "id": "M4wkOaURfUtc",
        "outputId": "634d2bb7-d1ce-4278-8580-6d4276496ab0"
      },
      "execution_count": 99,
      "outputs": [
        {
          "output_type": "execute_result",
          "data": {
            "text/plain": [
              "<tf.Tensor: shape=(50,), dtype=int32, numpy=\n",
              "array([-100,  -96,  -92,  -88,  -84,  -80,  -76,  -72,  -68,  -64,  -60,\n",
              "        -56,  -52,  -48,  -44,  -40,  -36,  -32,  -28,  -24,  -20,  -16,\n",
              "        -12,   -8,   -4,    0,    4,    8,   12,   16,   20,   24,   28,\n",
              "         32,   36,   40,   44,   48,   52,   56,   60,   64,   68,   72,\n",
              "         76,   80,   84,   88,   92,   96], dtype=int32)>"
            ]
          },
          "metadata": {},
          "execution_count": 99
        }
      ]
    },
    {
      "cell_type": "code",
      "source": [
        "y = X+10\n",
        "y"
      ],
      "metadata": {
        "colab": {
          "base_uri": "https://localhost:8080/"
        },
        "id": "1aRuhWcxfWAT",
        "outputId": "09635826-8155-4a84-8938-20b9d8c07a8f"
      },
      "execution_count": 100,
      "outputs": [
        {
          "output_type": "execute_result",
          "data": {
            "text/plain": [
              "<tf.Tensor: shape=(50,), dtype=int32, numpy=\n",
              "array([-90, -86, -82, -78, -74, -70, -66, -62, -58, -54, -50, -46, -42,\n",
              "       -38, -34, -30, -26, -22, -18, -14, -10,  -6,  -2,   2,   6,  10,\n",
              "        14,  18,  22,  26,  30,  34,  38,  42,  46,  50,  54,  58,  62,\n",
              "        66,  70,  74,  78,  82,  86,  90,  94,  98, 102, 106], dtype=int32)>"
            ]
          },
          "metadata": {},
          "execution_count": 100
        }
      ]
    },
    {
      "cell_type": "code",
      "source": [
        "import matplotlib.pyplot as plt\n",
        "plt.scatter(X,y)"
      ],
      "metadata": {
        "colab": {
          "base_uri": "https://localhost:8080/",
          "height": 282
        },
        "id": "B1lk-kUvfmlc",
        "outputId": "6288e636-a62b-49ef-cc30-86929890f75c"
      },
      "execution_count": 101,
      "outputs": [
        {
          "output_type": "execute_result",
          "data": {
            "text/plain": [
              "<matplotlib.collections.PathCollection at 0x7f195dd3d490>"
            ]
          },
          "metadata": {},
          "execution_count": 101
        },
        {
          "output_type": "display_data",
          "data": {
            "text/plain": [
              "<Figure size 432x288 with 1 Axes>"
            ],
            "image/png": "[encoded data removed]"
          },
          "metadata": {
            "needs_background": "light"
          }
        }
      ]
    },
    {
      "cell_type": "code",
      "source": [
        "#Fit Model\n",
        "model.fit(X,y,epochs = 100)"
      ],
      "metadata": {
        "colab": {
          "base_uri": "https://localhost:8080/"
        },
        "id": "sRRf2xAxfYpX",
        "outputId": "818fb0ae-2a68-425c-c97f-fe697ae8da28"
      },
      "execution_count": 102,
      "outputs": [
        {
          "output_type": "stream",
          "name": "stdout",
          "text": [
            "Epoch 1/100\n",
            "2/2 [==============================] - 0s 6ms/step - loss: 3.1525 - mae: 3.1525\n",
            "Epoch 2/100\n",
            "2/2 [==============================] - 0s 6ms/step - loss: 4.8813 - mae: 4.8813\n",
            "Epoch 3/100\n",
            "2/2 [==============================] - 0s 6ms/step - loss: 11.1628 - mae: 11.1628\n",
            "Epoch 4/100\n",
            "2/2 [==============================] - 0s 6ms/step - loss: 11.4806 - mae: 11.4806\n",
            "Epoch 5/100\n",
            "2/2 [==============================] - 0s 6ms/step - loss: 3.9132 - mae: 3.9132\n",
            "Epoch 6/100\n",
            "2/2 [==============================] - 0s 6ms/step - loss: 15.6269 - mae: 15.6269\n",
            "Epoch 7/100\n",
            "2/2 [==============================] - 0s 5ms/step - loss: 11.4483 - mae: 11.4483\n",
            "Epoch 8/100\n",
            "2/2 [==============================] - 0s 6ms/step - loss: 3.8405 - mae: 3.8405\n",
            "Epoch 9/100\n",
            "2/2 [==============================] - 0s 5ms/step - loss: 14.0591 - mae: 14.0591\n",
            "Epoch 10/100\n",
            "2/2 [==============================] - 0s 5ms/step - loss: 12.6159 - mae: 12.6159\n",
            "Epoch 11/100\n",
            "2/2 [==============================] - 0s 6ms/step - loss: 3.9905 - mae: 3.9905\n",
            "Epoch 12/100\n",
            "2/2 [==============================] - 0s 5ms/step - loss: 7.4250 - mae: 7.4250\n",
            "Epoch 13/100\n",
            "2/2 [==============================] - 0s 6ms/step - loss: 5.8775 - mae: 5.8775\n",
            "Epoch 14/100\n",
            "2/2 [==============================] - 0s 7ms/step - loss: 2.1636 - mae: 2.1636\n",
            "Epoch 15/100\n",
            "2/2 [==============================] - 0s 5ms/step - loss: 3.2248 - mae: 3.2248\n",
            "Epoch 16/100\n",
            "2/2 [==============================] - 0s 6ms/step - loss: 2.0991 - mae: 2.0991\n",
            "Epoch 17/100\n",
            "2/2 [==============================] - 0s 6ms/step - loss: 1.4684 - mae: 1.4684\n",
            "Epoch 18/100\n",
            "2/2 [==============================] - 0s 7ms/step - loss: 3.3395 - mae: 3.3395\n",
            "Epoch 19/100\n",
            "2/2 [==============================] - 0s 5ms/step - loss: 2.0136 - mae: 2.0136\n",
            "Epoch 20/100\n",
            "2/2 [==============================] - 0s 6ms/step - loss: 2.1066 - mae: 2.1066\n",
            "Epoch 21/100\n",
            "2/2 [==============================] - 0s 5ms/step - loss: 0.7776 - mae: 0.7776\n",
            "Epoch 22/100\n",
            "2/2 [==============================] - 0s 6ms/step - loss: 0.8547 - mae: 0.8547\n",
            "Epoch 23/100\n",
            "2/2 [==============================] - 0s 9ms/step - loss: 1.5452 - mae: 1.5452\n",
            "Epoch 24/100\n",
            "2/2 [==============================] - 0s 6ms/step - loss: 1.0778 - mae: 1.0778\n",
            "Epoch 25/100\n",
            "2/2 [==============================] - 0s 6ms/step - loss: 1.6151 - mae: 1.6151\n",
            "Epoch 26/100\n",
            "2/2 [==============================] - 0s 7ms/step - loss: 1.0870 - mae: 1.0870\n",
            "Epoch 27/100\n",
            "2/2 [==============================] - 0s 7ms/step - loss: 2.7057 - mae: 2.7057\n",
            "Epoch 28/100\n",
            "2/2 [==============================] - 0s 6ms/step - loss: 1.2209 - mae: 1.2209\n",
            "Epoch 29/100\n",
            "2/2 [==============================] - 0s 6ms/step - loss: 1.1187 - mae: 1.1187\n",
            "Epoch 30/100\n",
            "2/2 [==============================] - 0s 6ms/step - loss: 2.1807 - mae: 2.1807\n",
            "Epoch 31/100\n",
            "2/2 [==============================] - 0s 6ms/step - loss: 1.3833 - mae: 1.3833\n",
            "Epoch 32/100\n",
            "2/2 [==============================] - 0s 6ms/step - loss: 1.1316 - mae: 1.1316\n",
            "Epoch 33/100\n",
            "2/2 [==============================] - 0s 6ms/step - loss: 1.6470 - mae: 1.6470\n",
            "Epoch 34/100\n",
            "2/2 [==============================] - 0s 7ms/step - loss: 1.6389 - mae: 1.6389\n",
            "Epoch 35/100\n",
            "2/2 [==============================] - 0s 8ms/step - loss: 1.1556 - mae: 1.1556\n",
            "Epoch 36/100\n",
            "2/2 [==============================] - 0s 6ms/step - loss: 1.6834 - mae: 1.6834\n",
            "Epoch 37/100\n",
            "2/2 [==============================] - 0s 6ms/step - loss: 1.5901 - mae: 1.5901\n",
            "Epoch 38/100\n",
            "2/2 [==============================] - 0s 5ms/step - loss: 1.1804 - mae: 1.1804\n",
            "Epoch 39/100\n",
            "2/2 [==============================] - 0s 6ms/step - loss: 1.5269 - mae: 1.5269\n",
            "Epoch 40/100\n",
            "2/2 [==============================] - 0s 5ms/step - loss: 1.4435 - mae: 1.4435\n",
            "Epoch 41/100\n",
            "2/2 [==============================] - 0s 5ms/step - loss: 1.0850 - mae: 1.0850\n",
            "Epoch 42/100\n",
            "2/2 [==============================] - 0s 6ms/step - loss: 2.6019 - mae: 2.6019\n",
            "Epoch 43/100\n",
            "2/2 [==============================] - 0s 7ms/step - loss: 1.1630 - mae: 1.1630\n",
            "Epoch 44/100\n",
            "2/2 [==============================] - 0s 6ms/step - loss: 4.4466 - mae: 4.4466\n",
            "Epoch 45/100\n",
            "2/2 [==============================] - 0s 9ms/step - loss: 2.0390 - mae: 2.0390\n",
            "Epoch 46/100\n",
            "2/2 [==============================] - 0s 5ms/step - loss: 4.1709 - mae: 4.1709\n",
            "Epoch 47/100\n",
            "2/2 [==============================] - 0s 6ms/step - loss: 5.5192 - mae: 5.5192\n",
            "Epoch 48/100\n",
            "2/2 [==============================] - 0s 6ms/step - loss: 1.7975 - mae: 1.7975\n",
            "Epoch 49/100\n",
            "2/2 [==============================] - 0s 6ms/step - loss: 2.0332 - mae: 2.0332\n",
            "Epoch 50/100\n",
            "2/2 [==============================] - 0s 6ms/step - loss: 1.0540 - mae: 1.0540\n",
            "Epoch 51/100\n",
            "2/2 [==============================] - 0s 6ms/step - loss: 3.4881 - mae: 3.4881\n",
            "Epoch 52/100\n",
            "2/2 [==============================] - 0s 7ms/step - loss: 1.5733 - mae: 1.5733\n",
            "Epoch 53/100\n",
            "2/2 [==============================] - 0s 6ms/step - loss: 2.2301 - mae: 2.2301\n",
            "Epoch 54/100\n",
            "2/2 [==============================] - 0s 6ms/step - loss: 1.1993 - mae: 1.1993\n",
            "Epoch 55/100\n",
            "2/2 [==============================] - 0s 5ms/step - loss: 2.9136 - mae: 2.9136\n",
            "Epoch 56/100\n",
            "2/2 [==============================] - 0s 6ms/step - loss: 1.3070 - mae: 1.3070\n",
            "Epoch 57/100\n",
            "2/2 [==============================] - 0s 7ms/step - loss: 2.1017 - mae: 2.1017\n",
            "Epoch 58/100\n",
            "2/2 [==============================] - 0s 7ms/step - loss: 0.9573 - mae: 0.9573\n",
            "Epoch 59/100\n",
            "2/2 [==============================] - 0s 6ms/step - loss: 2.8058 - mae: 2.8058\n",
            "Epoch 60/100\n",
            "2/2 [==============================] - 0s 6ms/step - loss: 1.2581 - mae: 1.2581\n",
            "Epoch 61/100\n",
            "2/2 [==============================] - 0s 6ms/step - loss: 2.5961 - mae: 2.5961\n",
            "Epoch 62/100\n",
            "2/2 [==============================] - 0s 6ms/step - loss: 1.1895 - mae: 1.1895\n",
            "Epoch 63/100\n",
            "2/2 [==============================] - 0s 6ms/step - loss: 2.7509 - mae: 2.7509\n",
            "Epoch 64/100\n",
            "2/2 [==============================] - 0s 11ms/step - loss: 1.1839 - mae: 1.1839\n",
            "Epoch 65/100\n",
            "2/2 [==============================] - 0s 6ms/step - loss: 1.7944 - mae: 1.7944\n",
            "Epoch 66/100\n",
            "2/2 [==============================] - 0s 6ms/step - loss: 0.1634 - mae: 0.1634\n",
            "Epoch 67/100\n",
            "2/2 [==============================] - 0s 10ms/step - loss: 0.5992 - mae: 0.5992\n",
            "Epoch 68/100\n",
            "2/2 [==============================] - 0s 6ms/step - loss: 1.1303 - mae: 1.1303\n",
            "Epoch 69/100\n",
            "2/2 [==============================] - 0s 5ms/step - loss: 0.7067 - mae: 0.7067\n",
            "Epoch 70/100\n",
            "2/2 [==============================] - 0s 5ms/step - loss: 2.5965 - mae: 2.5965\n",
            "Epoch 71/100\n",
            "2/2 [==============================] - 0s 5ms/step - loss: 1.0780 - mae: 1.0780\n",
            "Epoch 72/100\n",
            "2/2 [==============================] - 0s 5ms/step - loss: 2.8171 - mae: 2.8171\n",
            "Epoch 73/100\n",
            "2/2 [==============================] - 0s 6ms/step - loss: 1.2408 - mae: 1.2408\n",
            "Epoch 74/100\n",
            "2/2 [==============================] - 0s 6ms/step - loss: 2.4386 - mae: 2.4386\n",
            "Epoch 75/100\n",
            "2/2 [==============================] - 0s 7ms/step - loss: 1.1240 - mae: 1.1240\n",
            "Epoch 76/100\n",
            "2/2 [==============================] - 0s 6ms/step - loss: 1.6558 - mae: 1.6558\n",
            "Epoch 77/100\n",
            "2/2 [==============================] - 0s 7ms/step - loss: 0.6224 - mae: 0.6224\n",
            "Epoch 78/100\n",
            "2/2 [==============================] - 0s 7ms/step - loss: 0.9090 - mae: 0.9090\n",
            "Epoch 79/100\n",
            "2/2 [==============================] - 0s 7ms/step - loss: 1.3045 - mae: 1.3045\n",
            "Epoch 80/100\n",
            "2/2 [==============================] - 0s 6ms/step - loss: 0.8397 - mae: 0.8397\n",
            "Epoch 81/100\n",
            "2/2 [==============================] - 0s 6ms/step - loss: 2.6021 - mae: 2.6021\n",
            "Epoch 82/100\n",
            "2/2 [==============================] - 0s 7ms/step - loss: 1.1188 - mae: 1.1188\n",
            "Epoch 83/100\n",
            "2/2 [==============================] - 0s 7ms/step - loss: 3.3280 - mae: 3.3280\n",
            "Epoch 84/100\n",
            "2/2 [==============================] - 0s 7ms/step - loss: 1.8196 - mae: 1.8196\n",
            "Epoch 85/100\n",
            "2/2 [==============================] - 0s 6ms/step - loss: 2.8386 - mae: 2.8386\n",
            "Epoch 86/100\n",
            "2/2 [==============================] - 0s 7ms/step - loss: 3.5952 - mae: 3.5952\n",
            "Epoch 87/100\n",
            "2/2 [==============================] - 0s 7ms/step - loss: 1.2872 - mae: 1.2872\n",
            "Epoch 88/100\n",
            "2/2 [==============================] - 0s 8ms/step - loss: 3.6642 - mae: 3.6642\n",
            "Epoch 89/100\n",
            "2/2 [==============================] - 0s 6ms/step - loss: 2.5574 - mae: 2.5574\n",
            "Epoch 90/100\n",
            "2/2 [==============================] - 0s 6ms/step - loss: 1.4494 - mae: 1.4494\n",
            "Epoch 91/100\n",
            "2/2 [==============================] - 0s 6ms/step - loss: 2.1891 - mae: 2.1891\n",
            "Epoch 92/100\n",
            "2/2 [==============================] - 0s 6ms/step - loss: 0.4640 - mae: 0.4640\n",
            "Epoch 93/100\n",
            "2/2 [==============================] - 0s 6ms/step - loss: 0.6468 - mae: 0.6468\n",
            "Epoch 94/100\n",
            "2/2 [==============================] - 0s 6ms/step - loss: 1.0517 - mae: 1.0517\n",
            "Epoch 95/100\n",
            "2/2 [==============================] - 0s 6ms/step - loss: 1.4845 - mae: 1.4845\n",
            "Epoch 96/100\n",
            "2/2 [==============================] - 0s 6ms/step - loss: 0.9035 - mae: 0.9035\n",
            "Epoch 97/100\n",
            "2/2 [==============================] - 0s 6ms/step - loss: 0.3786 - mae: 0.3786\n",
            "Epoch 98/100\n",
            "2/2 [==============================] - 0s 7ms/step - loss: 0.3023 - mae: 0.3023\n",
            "Epoch 99/100\n",
            "2/2 [==============================] - 0s 6ms/step - loss: 0.1142 - mae: 0.1142\n",
            "Epoch 100/100\n",
            "2/2 [==============================] - 0s 6ms/step - loss: 0.5280 - mae: 0.5280\n"
          ]
        },
        {
          "output_type": "execute_result",
          "data": {
            "text/plain": [
              "<keras.callbacks.History at 0x7f195dd0bf10>"
            ]
          },
          "metadata": {},
          "execution_count": 102
        }
      ]
    },
    {
      "cell_type": "code",
      "source": [
        "length = len(X)\n",
        "length*0.8"
      ],
      "metadata": {
        "colab": {
          "base_uri": "https://localhost:8080/"
        },
        "id": "PdlKENQ0fiat",
        "outputId": "b91a8752-fe71-4b11-dbce-d80d4f996678"
      },
      "execution_count": 103,
      "outputs": [
        {
          "output_type": "execute_result",
          "data": {
            "text/plain": [
              "40.0"
            ]
          },
          "metadata": {},
          "execution_count": 103
        }
      ]
    },
    {
      "cell_type": "code",
      "source": [
        "X_train = X[:int(length*0.8)]\n",
        "y_train = y[:int(length*0.8)]"
      ],
      "metadata": {
        "id": "DejVsNeAg3WM"
      },
      "execution_count": 104,
      "outputs": []
    },
    {
      "cell_type": "code",
      "source": [
        "X_test = X[int(length*0.8):]\n",
        "y_test = y[int(length*0.8):]"
      ],
      "metadata": {
        "id": "j6H6agTjhB22"
      },
      "execution_count": 105,
      "outputs": []
    },
    {
      "cell_type": "markdown",
      "source": [
        "##Visualizing the data"
      ],
      "metadata": {
        "id": "edEpIvxOhLaq"
      }
    },
    {
      "cell_type": "code",
      "source": [
        "plt.figure(figsize = (10,7))\n",
        "plt.scatter(X_train,y_train,c=\"b\",label = \"Training Data\")\n",
        "plt.scatter(X_test,y_test,c=\"g\",label = \"Testing Data\")\n",
        "plt.legend()"
      ],
      "metadata": {
        "colab": {
          "base_uri": "https://localhost:8080/",
          "height": 445
        },
        "id": "CqeKQtKChQOD",
        "outputId": "c7c36349-9bdc-414d-ccc3-168cc8035ffb"
      },
      "execution_count": 106,
      "outputs": [
        {
          "output_type": "execute_result",
          "data": {
            "text/plain": [
              "<matplotlib.legend.Legend at 0x7f195dca2d50>"
            ]
          },
          "metadata": {},
          "execution_count": 106
        },
        {
          "output_type": "display_data",
          "data": {
            "text/plain": [
              "<Figure size 720x504 with 1 Axes>"
            ],
            "image/png": "[encoded data removed]"
          },
          "metadata": {
            "needs_background": "light"
          }
        }
      ]
    },
    {
      "cell_type": "code",
      "source": [
        "model = tf.keras.Sequential([\n",
        "    tf.keras.layers.Dense(1)\n",
        "])\n",
        "model.compile(loss = tf.keras.losses.mae, optimizer = tf.keras.optimizers.Adam(lr = 0.0001),metrics = ['mae'])"
      ],
      "metadata": {
        "id": "szOLkXjrhj7W"
      },
      "execution_count": 107,
      "outputs": []
    },
    {
      "cell_type": "code",
      "source": [
        "tf.random.set_seed(42)"
      ],
      "metadata": {
        "id": "BUssLWTCSzOi"
      },
      "execution_count": 108,
      "outputs": []
    },
    {
      "cell_type": "code",
      "source": [
        "model = tf.keras.Sequential([\n",
        "    tf.keras.layers.Dense(10,input_shape=[1],name = \"input_layer\"),\n",
        "\n",
        "    tf.keras.layers.Dense(1,name = \"output_layer\")\n",
        "])\n",
        "model.compile(loss = tf.keras.losses.mae, optimizer = tf.keras.optimizers.Adam(lr = 0.0001),metrics = ['mae'])"
      ],
      "metadata": {
        "id": "75AvF1ZpTEqN"
      },
      "execution_count": 109,
      "outputs": []
    },
    {
      "cell_type": "code",
      "source": [
        "model.fit(X_train,y_train,epochs = 100)"
      ],
      "metadata": {
        "colab": {
          "base_uri": "https://localhost:8080/"
        },
        "id": "utO-X0TTTgS6",
        "outputId": "1bfcd81f-1e9d-415b-bcff-4ce96aa2d7cd"
      },
      "execution_count": 110,
      "outputs": [
        {
          "output_type": "stream",
          "name": "stdout",
          "text": [
            "Epoch 1/100\n",
            "2/2 [==============================] - 0s 7ms/step - loss: 25.2672 - mae: 25.2672\n",
            "Epoch 2/100\n",
            "2/2 [==============================] - 0s 6ms/step - loss: 25.2089 - mae: 25.2089\n",
            "Epoch 3/100\n",
            "2/2 [==============================] - 0s 6ms/step - loss: 25.1528 - mae: 25.1528\n",
            "Epoch 4/100\n",
            "2/2 [==============================] - 0s 6ms/step - loss: 25.0958 - mae: 25.0958\n",
            "Epoch 5/100\n",
            "2/2 [==============================] - 0s 6ms/step - loss: 25.0408 - mae: 25.0408\n",
            "Epoch 6/100\n",
            "2/2 [==============================] - 0s 5ms/step - loss: 24.9856 - mae: 24.9856\n",
            "Epoch 7/100\n",
            "2/2 [==============================] - 0s 6ms/step - loss: 24.9292 - mae: 24.9292\n",
            "Epoch 8/100\n",
            "2/2 [==============================] - 0s 6ms/step - loss: 24.8713 - mae: 24.8713\n",
            "Epoch 9/100\n",
            "2/2 [==============================] - 0s 6ms/step - loss: 24.8171 - mae: 24.8171\n",
            "Epoch 10/100\n",
            "2/2 [==============================] - 0s 5ms/step - loss: 24.7629 - mae: 24.7629\n",
            "Epoch 11/100\n",
            "2/2 [==============================] - 0s 5ms/step - loss: 24.7043 - mae: 24.7043\n",
            "Epoch 12/100\n",
            "2/2 [==============================] - 0s 6ms/step - loss: 24.6492 - mae: 24.6492\n",
            "Epoch 13/100\n",
            "2/2 [==============================] - 0s 6ms/step - loss: 24.5911 - mae: 24.5911\n",
            "Epoch 14/100\n",
            "2/2 [==============================] - 0s 6ms/step - loss: 24.5363 - mae: 24.5363\n",
            "Epoch 15/100\n",
            "2/2 [==============================] - 0s 6ms/step - loss: 24.4806 - mae: 24.4806\n",
            "Epoch 16/100\n",
            "2/2 [==============================] - 0s 6ms/step - loss: 24.4230 - mae: 24.4230\n",
            "Epoch 17/100\n",
            "2/2 [==============================] - 0s 6ms/step - loss: 24.3664 - mae: 24.3664\n",
            "Epoch 18/100\n",
            "2/2 [==============================] - 0s 5ms/step - loss: 24.3109 - mae: 24.3109\n",
            "Epoch 19/100\n",
            "2/2 [==============================] - 0s 6ms/step - loss: 24.2566 - mae: 24.2566\n",
            "Epoch 20/100\n",
            "2/2 [==============================] - 0s 9ms/step - loss: 24.1989 - mae: 24.1989\n",
            "Epoch 21/100\n",
            "2/2 [==============================] - 0s 6ms/step - loss: 24.1438 - mae: 24.1438\n",
            "Epoch 22/100\n",
            "2/2 [==============================] - 0s 6ms/step - loss: 24.0900 - mae: 24.0900\n",
            "Epoch 23/100\n",
            "2/2 [==============================] - 0s 7ms/step - loss: 24.0356 - mae: 24.0356\n",
            "Epoch 24/100\n",
            "2/2 [==============================] - 0s 6ms/step - loss: 23.9795 - mae: 23.9795\n",
            "Epoch 25/100\n",
            "2/2 [==============================] - 0s 6ms/step - loss: 23.9243 - mae: 23.9243\n",
            "Epoch 26/100\n",
            "2/2 [==============================] - 0s 6ms/step - loss: 23.8709 - mae: 23.8709\n",
            "Epoch 27/100\n",
            "2/2 [==============================] - 0s 6ms/step - loss: 23.8143 - mae: 23.8143\n",
            "Epoch 28/100\n",
            "2/2 [==============================] - 0s 7ms/step - loss: 23.7608 - mae: 23.7608\n",
            "Epoch 29/100\n",
            "2/2 [==============================] - 0s 6ms/step - loss: 23.7013 - mae: 23.7013\n",
            "Epoch 30/100\n",
            "2/2 [==============================] - 0s 6ms/step - loss: 23.6435 - mae: 23.6435\n",
            "Epoch 31/100\n",
            "2/2 [==============================] - 0s 6ms/step - loss: 23.5903 - mae: 23.5903\n",
            "Epoch 32/100\n",
            "2/2 [==============================] - 0s 6ms/step - loss: 23.5320 - mae: 23.5320\n",
            "Epoch 33/100\n",
            "2/2 [==============================] - 0s 6ms/step - loss: 23.4736 - mae: 23.4736\n",
            "Epoch 34/100\n",
            "2/2 [==============================] - 0s 6ms/step - loss: 23.4185 - mae: 23.4185\n",
            "Epoch 35/100\n",
            "2/2 [==============================] - 0s 5ms/step - loss: 23.3604 - mae: 23.3604\n",
            "Epoch 36/100\n",
            "2/2 [==============================] - 0s 6ms/step - loss: 23.3080 - mae: 23.3080\n",
            "Epoch 37/100\n",
            "2/2 [==============================] - 0s 7ms/step - loss: 23.2506 - mae: 23.2506\n",
            "Epoch 38/100\n",
            "2/2 [==============================] - 0s 5ms/step - loss: 23.1967 - mae: 23.1967\n",
            "Epoch 39/100\n",
            "2/2 [==============================] - 0s 6ms/step - loss: 23.1423 - mae: 23.1423\n",
            "Epoch 40/100\n",
            "2/2 [==============================] - 0s 7ms/step - loss: 23.0881 - mae: 23.0881\n",
            "Epoch 41/100\n",
            "2/2 [==============================] - 0s 7ms/step - loss: 23.0341 - mae: 23.0341\n",
            "Epoch 42/100\n",
            "2/2 [==============================] - 0s 6ms/step - loss: 22.9806 - mae: 22.9806\n",
            "Epoch 43/100\n",
            "2/2 [==============================] - 0s 7ms/step - loss: 22.9234 - mae: 22.9234\n",
            "Epoch 44/100\n",
            "2/2 [==============================] - 0s 6ms/step - loss: 22.8715 - mae: 22.8715\n",
            "Epoch 45/100\n",
            "2/2 [==============================] - 0s 6ms/step - loss: 22.8165 - mae: 22.8165\n",
            "Epoch 46/100\n",
            "2/2 [==============================] - 0s 6ms/step - loss: 22.7642 - mae: 22.7642\n",
            "Epoch 47/100\n",
            "2/2 [==============================] - 0s 6ms/step - loss: 22.7085 - mae: 22.7085\n",
            "Epoch 48/100\n",
            "2/2 [==============================] - 0s 6ms/step - loss: 22.6553 - mae: 22.6553\n",
            "Epoch 49/100\n",
            "2/2 [==============================] - 0s 6ms/step - loss: 22.6026 - mae: 22.6026\n",
            "Epoch 50/100\n",
            "2/2 [==============================] - 0s 6ms/step - loss: 22.5504 - mae: 22.5504\n",
            "Epoch 51/100\n",
            "2/2 [==============================] - 0s 6ms/step - loss: 22.4943 - mae: 22.4943\n",
            "Epoch 52/100\n",
            "2/2 [==============================] - 0s 6ms/step - loss: 22.4421 - mae: 22.4421\n",
            "Epoch 53/100\n",
            "2/2 [==============================] - 0s 6ms/step - loss: 22.3853 - mae: 22.3853\n",
            "Epoch 54/100\n",
            "2/2 [==============================] - 0s 8ms/step - loss: 22.3293 - mae: 22.3293\n",
            "Epoch 55/100\n",
            "2/2 [==============================] - 0s 6ms/step - loss: 22.2743 - mae: 22.2743\n",
            "Epoch 56/100\n",
            "2/2 [==============================] - 0s 5ms/step - loss: 22.2156 - mae: 22.2156\n",
            "Epoch 57/100\n",
            "2/2 [==============================] - 0s 5ms/step - loss: 22.1599 - mae: 22.1599\n",
            "Epoch 58/100\n",
            "2/2 [==============================] - 0s 6ms/step - loss: 22.1027 - mae: 22.1027\n",
            "Epoch 59/100\n",
            "2/2 [==============================] - 0s 7ms/step - loss: 22.0464 - mae: 22.0464\n",
            "Epoch 60/100\n",
            "2/2 [==============================] - 0s 5ms/step - loss: 21.9912 - mae: 21.9912\n",
            "Epoch 61/100\n",
            "2/2 [==============================] - 0s 5ms/step - loss: 21.9356 - mae: 21.9356\n",
            "Epoch 62/100\n",
            "2/2 [==============================] - 0s 6ms/step - loss: 21.8809 - mae: 21.8809\n",
            "Epoch 63/100\n",
            "2/2 [==============================] - 0s 6ms/step - loss: 21.8255 - mae: 21.8255\n",
            "Epoch 64/100\n",
            "2/2 [==============================] - 0s 6ms/step - loss: 21.7697 - mae: 21.7697\n",
            "Epoch 65/100\n",
            "2/2 [==============================] - 0s 6ms/step - loss: 21.7137 - mae: 21.7137\n",
            "Epoch 66/100\n",
            "2/2 [==============================] - 0s 6ms/step - loss: 21.6584 - mae: 21.6584\n",
            "Epoch 67/100\n",
            "2/2 [==============================] - 0s 5ms/step - loss: 21.6028 - mae: 21.6028\n",
            "Epoch 68/100\n",
            "2/2 [==============================] - 0s 6ms/step - loss: 21.5460 - mae: 21.5460\n",
            "Epoch 69/100\n",
            "2/2 [==============================] - 0s 5ms/step - loss: 21.4913 - mae: 21.4913\n",
            "Epoch 70/100\n",
            "2/2 [==============================] - 0s 6ms/step - loss: 21.4346 - mae: 21.4346\n",
            "Epoch 71/100\n",
            "2/2 [==============================] - 0s 5ms/step - loss: 21.3789 - mae: 21.3789\n",
            "Epoch 72/100\n",
            "2/2 [==============================] - 0s 5ms/step - loss: 21.3241 - mae: 21.3241\n",
            "Epoch 73/100\n",
            "2/2 [==============================] - 0s 5ms/step - loss: 21.2654 - mae: 21.2654\n",
            "Epoch 74/100\n",
            "2/2 [==============================] - 0s 5ms/step - loss: 21.2121 - mae: 21.2121\n",
            "Epoch 75/100\n",
            "2/2 [==============================] - 0s 6ms/step - loss: 21.1540 - mae: 21.1540\n",
            "Epoch 76/100\n",
            "2/2 [==============================] - 0s 5ms/step - loss: 21.0972 - mae: 21.0972\n",
            "Epoch 77/100\n",
            "2/2 [==============================] - 0s 5ms/step - loss: 21.0407 - mae: 21.0407\n",
            "Epoch 78/100\n",
            "2/2 [==============================] - 0s 5ms/step - loss: 20.9824 - mae: 20.9824\n",
            "Epoch 79/100\n",
            "2/2 [==============================] - 0s 6ms/step - loss: 20.9240 - mae: 20.9240\n",
            "Epoch 80/100\n",
            "2/2 [==============================] - 0s 5ms/step - loss: 20.8681 - mae: 20.8681\n",
            "Epoch 81/100\n",
            "2/2 [==============================] - 0s 5ms/step - loss: 20.8135 - mae: 20.8135\n",
            "Epoch 82/100\n",
            "2/2 [==============================] - 0s 5ms/step - loss: 20.7534 - mae: 20.7534\n",
            "Epoch 83/100\n",
            "2/2 [==============================] - 0s 6ms/step - loss: 20.6993 - mae: 20.6993\n",
            "Epoch 84/100\n",
            "2/2 [==============================] - 0s 5ms/step - loss: 20.6411 - mae: 20.6411\n",
            "Epoch 85/100\n",
            "2/2 [==============================] - 0s 5ms/step - loss: 20.5881 - mae: 20.5881\n",
            "Epoch 86/100\n",
            "2/2 [==============================] - 0s 5ms/step - loss: 20.5327 - mae: 20.5327\n",
            "Epoch 87/100\n",
            "2/2 [==============================] - 0s 5ms/step - loss: 20.4752 - mae: 20.4752\n",
            "Epoch 88/100\n",
            "2/2 [==============================] - 0s 6ms/step - loss: 20.4207 - mae: 20.4207\n",
            "Epoch 89/100\n",
            "2/2 [==============================] - 0s 5ms/step - loss: 20.3621 - mae: 20.3621\n",
            "Epoch 90/100\n",
            "2/2 [==============================] - 0s 6ms/step - loss: 20.3058 - mae: 20.3058\n",
            "Epoch 91/100\n",
            "2/2 [==============================] - 0s 5ms/step - loss: 20.2471 - mae: 20.2471\n",
            "Epoch 92/100\n",
            "2/2 [==============================] - 0s 5ms/step - loss: 20.1912 - mae: 20.1912\n",
            "Epoch 93/100\n",
            "2/2 [==============================] - 0s 6ms/step - loss: 20.1334 - mae: 20.1334\n",
            "Epoch 94/100\n",
            "2/2 [==============================] - 0s 6ms/step - loss: 20.0746 - mae: 20.0746\n",
            "Epoch 95/100\n",
            "2/2 [==============================] - 0s 6ms/step - loss: 20.0187 - mae: 20.0187\n",
            "Epoch 96/100\n",
            "2/2 [==============================] - 0s 6ms/step - loss: 19.9613 - mae: 19.9613\n",
            "Epoch 97/100\n",
            "2/2 [==============================] - 0s 5ms/step - loss: 19.9081 - mae: 19.9081\n",
            "Epoch 98/100\n",
            "2/2 [==============================] - 0s 5ms/step - loss: 19.8505 - mae: 19.8505\n",
            "Epoch 99/100\n",
            "2/2 [==============================] - 0s 5ms/step - loss: 19.7941 - mae: 19.7941\n",
            "Epoch 100/100\n",
            "2/2 [==============================] - 0s 6ms/step - loss: 19.7397 - mae: 19.7397\n"
          ]
        },
        {
          "output_type": "execute_result",
          "data": {
            "text/plain": [
              "<keras.callbacks.History at 0x7f195cb516d0>"
            ]
          },
          "metadata": {},
          "execution_count": 110
        }
      ]
    },
    {
      "cell_type": "code",
      "source": [
        "from tensorflow.keras.utils import plot_model\n",
        "plot_model(model,show_shapes = True)"
      ],
      "metadata": {
        "id": "wMVDhfmYVdu0",
        "colab": {
          "base_uri": "https://localhost:8080/",
          "height": 312
        },
        "outputId": "11a2cac6-25a9-49ae-909f-234b9dfe3320"
      },
      "execution_count": 111,
      "outputs": [
        {
          "output_type": "execute_result",
          "data": {
            "image/png": "[encoded data removed]",
            "text/plain": [
              "<IPython.core.display.Image object>"
            ]
          },
          "metadata": {},
          "execution_count": 111
        }
      ]
    },
    {
      "cell_type": "markdown",
      "source": [
        "## Visualizing the predictions"
      ],
      "metadata": {
        "id": "UZ39UOc9-SpM"
      }
    },
    {
      "cell_type": "code",
      "source": [
        "\n",
        "X_train\n",
        "y_train"
      ],
      "metadata": {
        "colab": {
          "base_uri": "https://localhost:8080/"
        },
        "id": "tiY8blbc_0iI",
        "outputId": "bf33acee-7849-4203-fbff-4d754f628965"
      },
      "execution_count": 112,
      "outputs": [
        {
          "output_type": "execute_result",
          "data": {
            "text/plain": [
              "<tf.Tensor: shape=(40,), dtype=int32, numpy=\n",
              "array([-90, -86, -82, -78, -74, -70, -66, -62, -58, -54, -50, -46, -42,\n",
              "       -38, -34, -30, -26, -22, -18, -14, -10,  -6,  -2,   2,   6,  10,\n",
              "        14,  18,  22,  26,  30,  34,  38,  42,  46,  50,  54,  58,  62,\n",
              "        66], dtype=int32)>"
            ]
          },
          "metadata": {},
          "execution_count": 112
        }
      ]
    },
    {
      "cell_type": "code",
      "source": [
        "y_test"
      ],
      "metadata": {
        "colab": {
          "base_uri": "https://localhost:8080/"
        },
        "id": "VBibvbnrAS8I",
        "outputId": "cdee7885-0bfa-417c-fffb-eb409454cdc8"
      },
      "execution_count": 113,
      "outputs": [
        {
          "output_type": "execute_result",
          "data": {
            "text/plain": [
              "<tf.Tensor: shape=(10,), dtype=int32, numpy=array([ 70,  74,  78,  82,  86,  90,  94,  98, 102, 106], dtype=int32)>"
            ]
          },
          "metadata": {},
          "execution_count": 113
        }
      ]
    },
    {
      "cell_type": "code",
      "source": [
        "X_test"
      ],
      "metadata": {
        "colab": {
          "base_uri": "https://localhost:8080/"
        },
        "id": "vD9etmpqAYyf",
        "outputId": "c4538dbd-1baa-49a0-d28e-fcba0d90eecb"
      },
      "execution_count": 114,
      "outputs": [
        {
          "output_type": "execute_result",
          "data": {
            "text/plain": [
              "<tf.Tensor: shape=(10,), dtype=int32, numpy=array([60, 64, 68, 72, 76, 80, 84, 88, 92, 96], dtype=int32)>"
            ]
          },
          "metadata": {},
          "execution_count": 114
        }
      ]
    },
    {
      "cell_type": "code",
      "source": [
        "y_pred = model.predict(X_test)"
      ],
      "metadata": {
        "id": "zzq4PRTMBKML",
        "colab": {
          "base_uri": "https://localhost:8080/"
        },
        "outputId": "af69becd-b5f8-4850-86e7-60db38b8f638"
      },
      "execution_count": 115,
      "outputs": [
        {
          "output_type": "stream",
          "name": "stdout",
          "text": [
            "1/1 [==============================] - 0s 45ms/step\n"
          ]
        }
      ]
    },
    {
      "cell_type": "code",
      "source": [
        "y_pred"
      ],
      "metadata": {
        "colab": {
          "base_uri": "https://localhost:8080/"
        },
        "id": "xpI7dKf0BPSM",
        "outputId": "84a670dd-d8e8-47b9-a263-403f6676b870"
      },
      "execution_count": 116,
      "outputs": [
        {
          "output_type": "execute_result",
          "data": {
            "text/plain": [
              "array([[30.442732],\n",
              "       [32.473736],\n",
              "       [34.504738],\n",
              "       [36.535736],\n",
              "       [38.566742],\n",
              "       [40.59774 ],\n",
              "       [42.62874 ],\n",
              "       [44.659744],\n",
              "       [46.690742],\n",
              "       [48.721745]], dtype=float32)"
            ]
          },
          "metadata": {},
          "execution_count": 116
        }
      ]
    },
    {
      "cell_type": "code",
      "source": [
        "y_test"
      ],
      "metadata": {
        "colab": {
          "base_uri": "https://localhost:8080/"
        },
        "id": "82H-sR7LBQEY",
        "outputId": "40259017-5316-4a7e-d040-acd9b918290e"
      },
      "execution_count": 117,
      "outputs": [
        {
          "output_type": "execute_result",
          "data": {
            "text/plain": [
              "<tf.Tensor: shape=(10,), dtype=int32, numpy=array([ 70,  74,  78,  82,  86,  90,  94,  98, 102, 106], dtype=int32)>"
            ]
          },
          "metadata": {},
          "execution_count": 117
        }
      ]
    },
    {
      "cell_type": "code",
      "source": [
        "tf.random.set_seed(42)\n",
        "x = tf.range(-100,100,4)\n",
        "y = x+10"
      ],
      "metadata": {
        "id": "OZGo47TRFckI"
      },
      "execution_count": 118,
      "outputs": []
    },
    {
      "cell_type": "code",
      "source": [
        "x_train = x[:int(len(x)*0.8)]\n",
        "y_train = y[:int(len(y)*0.8)]\n",
        "\n",
        "x_test = x[int(len(x)*0.8):]\n",
        "y_test = y[int(len(y)*0.8):]"
      ],
      "metadata": {
        "id": "7M4O0VWVGxqz"
      },
      "execution_count": 119,
      "outputs": []
    },
    {
      "cell_type": "code",
      "source": [
        "model = tf.keras.Sequential([\n",
        "    tf.keras.layers.Dense(20,input_shape = (1,),name = \"input_layer\"),\n",
        "    tf.keras.layers.Dense(1,name = \"output_layer\")\n",
        "])\n",
        "model.compile(loss = \"mae\",optimizer = tf.keras.optimizers.Adam(learning_rate=0.01),metrics = [\"mae\"])"
      ],
      "metadata": {
        "id": "vcoeHiZrHRrh"
      },
      "execution_count": 120,
      "outputs": []
    },
    {
      "cell_type": "code",
      "source": [
        "model.fit(x_train,y_train,epochs = 80)"
      ],
      "metadata": {
        "colab": {
          "base_uri": "https://localhost:8080/"
        },
        "id": "I-NUxU5oHxp-",
        "outputId": "f56bdd40-1a5c-41d4-8b64-6d284c43e090"
      },
      "execution_count": 121,
      "outputs": [
        {
          "output_type": "stream",
          "name": "stdout",
          "text": [
            "Epoch 1/80\n",
            "2/2 [==============================] - 0s 7ms/step - loss: 16.0578 - mae: 16.0578\n",
            "Epoch 2/80\n",
            "2/2 [==============================] - 0s 7ms/step - loss: 9.4603 - mae: 9.4603\n",
            "Epoch 3/80\n",
            "2/2 [==============================] - 0s 8ms/step - loss: 8.9657 - mae: 8.9657\n",
            "Epoch 4/80\n",
            "2/2 [==============================] - 0s 232ms/step - loss: 9.7774 - mae: 9.7774\n",
            "Epoch 5/80\n",
            "2/2 [==============================] - 0s 6ms/step - loss: 9.2541 - mae: 9.2541\n",
            "Epoch 6/80\n",
            "2/2 [==============================] - 0s 9ms/step - loss: 7.8572 - mae: 7.8572\n",
            "Epoch 7/80\n",
            "2/2 [==============================] - 0s 6ms/step - loss: 7.4771 - mae: 7.4771\n",
            "Epoch 8/80\n",
            "2/2 [==============================] - 0s 6ms/step - loss: 8.5482 - mae: 8.5482\n",
            "Epoch 9/80\n",
            "2/2 [==============================] - 0s 6ms/step - loss: 7.8956 - mae: 7.8956\n",
            "Epoch 10/80\n",
            "2/2 [==============================] - 0s 6ms/step - loss: 6.8220 - mae: 6.8220\n",
            "Epoch 11/80\n",
            "2/2 [==============================] - 0s 9ms/step - loss: 7.9402 - mae: 7.9402\n",
            "Epoch 12/80\n",
            "2/2 [==============================] - 0s 6ms/step - loss: 7.8424 - mae: 7.8424\n",
            "Epoch 13/80\n",
            "2/2 [==============================] - 0s 12ms/step - loss: 6.9027 - mae: 6.9027\n",
            "Epoch 14/80\n",
            "2/2 [==============================] - 0s 6ms/step - loss: 6.9457 - mae: 6.9457\n",
            "Epoch 15/80\n",
            "2/2 [==============================] - 0s 9ms/step - loss: 6.9875 - mae: 6.9875\n",
            "Epoch 16/80\n",
            "2/2 [==============================] - 0s 6ms/step - loss: 6.5985 - mae: 6.5985\n",
            "Epoch 17/80\n",
            "2/2 [==============================] - 0s 6ms/step - loss: 6.3662 - mae: 6.3662\n",
            "Epoch 18/80\n",
            "2/2 [==============================] - 0s 14ms/step - loss: 6.3001 - mae: 6.3001\n",
            "Epoch 19/80\n",
            "2/2 [==============================] - 0s 8ms/step - loss: 6.1895 - mae: 6.1895\n",
            "Epoch 20/80\n",
            "2/2 [==============================] - 0s 6ms/step - loss: 6.1959 - mae: 6.1959\n",
            "Epoch 21/80\n",
            "2/2 [==============================] - 0s 6ms/step - loss: 6.0233 - mae: 6.0233\n",
            "Epoch 22/80\n",
            "2/2 [==============================] - 0s 6ms/step - loss: 5.8906 - mae: 5.8906\n",
            "Epoch 23/80\n",
            "2/2 [==============================] - 0s 6ms/step - loss: 5.8535 - mae: 5.8535\n",
            "Epoch 24/80\n",
            "2/2 [==============================] - 0s 6ms/step - loss: 5.7274 - mae: 5.7274\n",
            "Epoch 25/80\n",
            "2/2 [==============================] - 0s 6ms/step - loss: 5.5976 - mae: 5.5976\n",
            "Epoch 26/80\n",
            "2/2 [==============================] - 0s 6ms/step - loss: 5.4761 - mae: 5.4761\n",
            "Epoch 27/80\n",
            "2/2 [==============================] - 0s 5ms/step - loss: 5.3961 - mae: 5.3961\n",
            "Epoch 28/80\n",
            "2/2 [==============================] - 0s 5ms/step - loss: 5.2513 - mae: 5.2513\n",
            "Epoch 29/80\n",
            "2/2 [==============================] - 0s 7ms/step - loss: 5.2106 - mae: 5.2106\n",
            "Epoch 30/80\n",
            "2/2 [==============================] - 0s 7ms/step - loss: 5.0375 - mae: 5.0375\n",
            "Epoch 31/80\n",
            "2/2 [==============================] - 0s 5ms/step - loss: 4.9647 - mae: 4.9647\n",
            "Epoch 32/80\n",
            "2/2 [==============================] - 0s 5ms/step - loss: 4.7754 - mae: 4.7754\n",
            "Epoch 33/80\n",
            "2/2 [==============================] - 0s 6ms/step - loss: 4.9315 - mae: 4.9315\n",
            "Epoch 34/80\n",
            "2/2 [==============================] - 0s 6ms/step - loss: 4.6930 - mae: 4.6930\n",
            "Epoch 35/80\n",
            "2/2 [==============================] - 0s 5ms/step - loss: 4.8126 - mae: 4.8126\n",
            "Epoch 36/80\n",
            "2/2 [==============================] - 0s 6ms/step - loss: 4.3019 - mae: 4.3019\n",
            "Epoch 37/80\n",
            "2/2 [==============================] - 0s 6ms/step - loss: 4.7096 - mae: 4.7096\n",
            "Epoch 38/80\n",
            "2/2 [==============================] - 0s 6ms/step - loss: 4.1841 - mae: 4.1841\n",
            "Epoch 39/80\n",
            "2/2 [==============================] - 0s 6ms/step - loss: 3.9906 - mae: 3.9906\n",
            "Epoch 40/80\n",
            "2/2 [==============================] - 0s 6ms/step - loss: 3.9089 - mae: 3.9089\n",
            "Epoch 41/80\n",
            "2/2 [==============================] - 0s 7ms/step - loss: 3.9119 - mae: 3.9119\n",
            "Epoch 42/80\n",
            "2/2 [==============================] - 0s 6ms/step - loss: 3.6493 - mae: 3.6493\n",
            "Epoch 43/80\n",
            "2/2 [==============================] - 0s 5ms/step - loss: 3.7734 - mae: 3.7734\n",
            "Epoch 44/80\n",
            "2/2 [==============================] - 0s 5ms/step - loss: 3.1315 - mae: 3.1315\n",
            "Epoch 45/80\n",
            "2/2 [==============================] - 0s 5ms/step - loss: 3.3893 - mae: 3.3893\n",
            "Epoch 46/80\n",
            "2/2 [==============================] - 0s 5ms/step - loss: 2.7844 - mae: 2.7844\n",
            "Epoch 47/80\n",
            "2/2 [==============================] - 0s 6ms/step - loss: 2.9044 - mae: 2.9044\n",
            "Epoch 48/80\n",
            "2/2 [==============================] - 0s 6ms/step - loss: 2.4192 - mae: 2.4192\n",
            "Epoch 49/80\n",
            "2/2 [==============================] - 0s 6ms/step - loss: 2.3618 - mae: 2.3618\n",
            "Epoch 50/80\n",
            "2/2 [==============================] - 0s 6ms/step - loss: 1.9453 - mae: 1.9453\n",
            "Epoch 51/80\n",
            "2/2 [==============================] - 0s 6ms/step - loss: 2.0126 - mae: 2.0126\n",
            "Epoch 52/80\n",
            "2/2 [==============================] - 0s 6ms/step - loss: 2.0654 - mae: 2.0654\n",
            "Epoch 53/80\n",
            "2/2 [==============================] - 0s 6ms/step - loss: 1.7940 - mae: 1.7940\n",
            "Epoch 54/80\n",
            "2/2 [==============================] - 0s 6ms/step - loss: 2.1607 - mae: 2.1607\n",
            "Epoch 55/80\n",
            "2/2 [==============================] - 0s 6ms/step - loss: 1.8694 - mae: 1.8694\n",
            "Epoch 56/80\n",
            "2/2 [==============================] - 0s 6ms/step - loss: 1.9170 - mae: 1.9170\n",
            "Epoch 57/80\n",
            "2/2 [==============================] - 0s 6ms/step - loss: 1.9466 - mae: 1.9466\n",
            "Epoch 58/80\n",
            "2/2 [==============================] - 0s 6ms/step - loss: 1.0617 - mae: 1.0617\n",
            "Epoch 59/80\n",
            "2/2 [==============================] - 0s 6ms/step - loss: 0.8103 - mae: 0.8103\n",
            "Epoch 60/80\n",
            "2/2 [==============================] - 0s 6ms/step - loss: 1.1104 - mae: 1.1104\n",
            "Epoch 61/80\n",
            "2/2 [==============================] - 0s 6ms/step - loss: 1.0433 - mae: 1.0433\n",
            "Epoch 62/80\n",
            "2/2 [==============================] - 0s 6ms/step - loss: 0.7330 - mae: 0.7330\n",
            "Epoch 63/80\n",
            "2/2 [==============================] - 0s 7ms/step - loss: 1.4139 - mae: 1.4139\n",
            "Epoch 64/80\n",
            "2/2 [==============================] - 0s 5ms/step - loss: 0.6150 - mae: 0.6150\n",
            "Epoch 65/80\n",
            "2/2 [==============================] - 0s 6ms/step - loss: 0.6189 - mae: 0.6189\n",
            "Epoch 66/80\n",
            "2/2 [==============================] - 0s 6ms/step - loss: 0.6518 - mae: 0.6518\n",
            "Epoch 67/80\n",
            "2/2 [==============================] - 0s 6ms/step - loss: 0.4741 - mae: 0.4741\n",
            "Epoch 68/80\n",
            "2/2 [==============================] - 0s 6ms/step - loss: 1.0264 - mae: 1.0264\n",
            "Epoch 69/80\n",
            "2/2 [==============================] - 0s 6ms/step - loss: 0.3545 - mae: 0.3545\n",
            "Epoch 70/80\n",
            "2/2 [==============================] - 0s 6ms/step - loss: 2.4099 - mae: 2.4099\n",
            "Epoch 71/80\n",
            "2/2 [==============================] - 0s 7ms/step - loss: 1.1546 - mae: 1.1546\n",
            "Epoch 72/80\n",
            "2/2 [==============================] - 0s 7ms/step - loss: 0.9562 - mae: 0.9562\n",
            "Epoch 73/80\n",
            "2/2 [==============================] - 0s 6ms/step - loss: 0.3879 - mae: 0.3879\n",
            "Epoch 74/80\n",
            "2/2 [==============================] - 0s 6ms/step - loss: 0.3928 - mae: 0.3928\n",
            "Epoch 75/80\n",
            "2/2 [==============================] - 0s 6ms/step - loss: 0.1774 - mae: 0.1774\n",
            "Epoch 76/80\n",
            "2/2 [==============================] - 0s 6ms/step - loss: 0.3620 - mae: 0.3620\n",
            "Epoch 77/80\n",
            "2/2 [==============================] - 0s 6ms/step - loss: 1.1326 - mae: 1.1326\n",
            "Epoch 78/80\n",
            "2/2 [==============================] - 0s 6ms/step - loss: 0.6781 - mae: 0.6781\n",
            "Epoch 79/80\n",
            "2/2 [==============================] - 0s 6ms/step - loss: 0.5295 - mae: 0.5295\n",
            "Epoch 80/80\n",
            "2/2 [==============================] - 0s 6ms/step - loss: 1.4563 - mae: 1.4563\n"
          ]
        },
        {
          "output_type": "execute_result",
          "data": {
            "text/plain": [
              "<keras.callbacks.History at 0x7f195daff0d0>"
            ]
          },
          "metadata": {},
          "execution_count": 121
        }
      ]
    },
    {
      "cell_type": "code",
      "source": [
        "y_pred = model.predict(x_test)\n",
        "y_pred"
      ],
      "metadata": {
        "colab": {
          "base_uri": "https://localhost:8080/"
        },
        "id": "n1J9iv4yH7lJ",
        "outputId": "ff1e46e8-71be-4ff5-f211-b57241ca1ea7"
      },
      "execution_count": 122,
      "outputs": [
        {
          "output_type": "stream",
          "name": "stdout",
          "text": [
            "1/1 [==============================] - 0s 37ms/step\n"
          ]
        },
        {
          "output_type": "execute_result",
          "data": {
            "text/plain": [
              "array([[ 68.09306 ],\n",
              "       [ 71.95488 ],\n",
              "       [ 75.816696],\n",
              "       [ 79.67851 ],\n",
              "       [ 83.54033 ],\n",
              "       [ 87.402145],\n",
              "       [ 91.263954],\n",
              "       [ 95.12576 ],\n",
              "       [ 98.98759 ],\n",
              "       [102.8494  ]], dtype=float32)"
            ]
          },
          "metadata": {},
          "execution_count": 122
        }
      ]
    },
    {
      "cell_type": "code",
      "source": [
        "def plot_predictions(y_pred,x_train = x_train,y_train = y_train,x_test = x_test,y_test = y_test):\n",
        "  plt.figure(figsize = (10,7))\n",
        "  plt.scatter(x_train,y_train,c = \"b\",label = \"Training Data\")\n",
        "  plt.scatter(x_test,y_test,c =\"r\",label = \"Testing Data\")\n",
        "  plt.scatter(y_test,y_pred,c = \"g\",label = \"Predictions\")\n",
        "  plt.legend()"
      ],
      "metadata": {
        "id": "ZvFw5Jj1BYZb"
      },
      "execution_count": 181,
      "outputs": []
    },
    {
      "cell_type": "markdown",
      "source": [
        "## Evaluating the model on the test set"
      ],
      "metadata": {
        "id": "Zdzx-OvkCZL3"
      }
    },
    {
      "cell_type": "code",
      "source": [
        "model.evaluate(x_test,y_test)"
      ],
      "metadata": {
        "colab": {
          "base_uri": "https://localhost:8080/"
        },
        "id": "ecCmpvbnExCP",
        "outputId": "be46e0b9-d517-462d-c176-24a1f9f271ed"
      },
      "execution_count": 124,
      "outputs": [
        {
          "output_type": "stream",
          "name": "stdout",
          "text": [
            "1/1 [==============================] - 0s 89ms/step - loss: 2.5288 - mae: 2.5288\n"
          ]
        },
        {
          "output_type": "execute_result",
          "data": {
            "text/plain": [
              "[2.528766632080078, 2.528766632080078]"
            ]
          },
          "metadata": {},
          "execution_count": 124
        }
      ]
    },
    {
      "cell_type": "code",
      "source": [
        "mae = tf.metrics.mean_absolute_error(y_true = y_test,y_pred = y_pred)\n",
        "mae"
      ],
      "metadata": {
        "id": "OBNKufPeE0PM",
        "colab": {
          "base_uri": "https://localhost:8080/"
        },
        "outputId": "944c20f4-159c-4263-c89d-85b535e2a121"
      },
      "execution_count": 125,
      "outputs": [
        {
          "output_type": "execute_result",
          "data": {
            "text/plain": [
              "<tf.Tensor: shape=(10,), dtype=float32, numpy=\n",
              "array([19.906937, 16.436096, 13.709982, 11.728595, 10.491934, 10.      ,\n",
              "       10.25279 , 11.250305, 12.992552, 15.479523], dtype=float32)>"
            ]
          },
          "metadata": {},
          "execution_count": 125
        }
      ]
    },
    {
      "cell_type": "code",
      "source": [
        "tf.constant(y_pred)"
      ],
      "metadata": {
        "colab": {
          "base_uri": "https://localhost:8080/"
        },
        "id": "1pgaqPDdN_l4",
        "outputId": "0b6cc8c4-119f-4fd2-8449-7b3406b39fcd"
      },
      "execution_count": 126,
      "outputs": [
        {
          "output_type": "execute_result",
          "data": {
            "text/plain": [
              "<tf.Tensor: shape=(10, 1), dtype=float32, numpy=\n",
              "array([[ 68.09306 ],\n",
              "       [ 71.95488 ],\n",
              "       [ 75.816696],\n",
              "       [ 79.67851 ],\n",
              "       [ 83.54033 ],\n",
              "       [ 87.402145],\n",
              "       [ 91.263954],\n",
              "       [ 95.12576 ],\n",
              "       [ 98.98759 ],\n",
              "       [102.8494  ]], dtype=float32)>"
            ]
          },
          "metadata": {},
          "execution_count": 126
        }
      ]
    },
    {
      "cell_type": "code",
      "source": [
        "tf.squeeze(y_pred)"
      ],
      "metadata": {
        "colab": {
          "base_uri": "https://localhost:8080/"
        },
        "id": "mGfBmr31OYRn",
        "outputId": "4a35e61e-d474-463e-984d-406ddf0d7bbf"
      },
      "execution_count": 127,
      "outputs": [
        {
          "output_type": "execute_result",
          "data": {
            "text/plain": [
              "<tf.Tensor: shape=(10,), dtype=float32, numpy=\n",
              "array([ 68.09306 ,  71.95488 ,  75.816696,  79.67851 ,  83.54033 ,\n",
              "        87.402145,  91.263954,  95.12576 ,  98.98759 , 102.8494  ],\n",
              "      dtype=float32)>"
            ]
          },
          "metadata": {},
          "execution_count": 127
        }
      ]
    },
    {
      "cell_type": "code",
      "source": [
        "mae = tf.metrics.mean_absolute_error(y_true = y_test,y_pred = tf.squeeze(y_pred))\n",
        "mae"
      ],
      "metadata": {
        "colab": {
          "base_uri": "https://localhost:8080/"
        },
        "id": "AALdraZxOc39",
        "outputId": "9ec20e6d-716b-40cd-fcbc-12e91d846ec0"
      },
      "execution_count": 128,
      "outputs": [
        {
          "output_type": "execute_result",
          "data": {
            "text/plain": [
              "<tf.Tensor: shape=(), dtype=float32, numpy=2.5287666>"
            ]
          },
          "metadata": {},
          "execution_count": 128
        }
      ]
    },
    {
      "cell_type": "code",
      "source": [
        "mse = tf.metrics.mean_squared_error(y_true = y_test,y_pred = tf.squeeze(y_pred))\n",
        "mse"
      ],
      "metadata": {
        "colab": {
          "base_uri": "https://localhost:8080/"
        },
        "id": "YZW6KBjKOlSC",
        "outputId": "6fc97d0e-96d4-4be5-8872-475907c2c1a3"
      },
      "execution_count": 129,
      "outputs": [
        {
          "output_type": "execute_result",
          "data": {
            "text/plain": [
              "<tf.Tensor: shape=(), dtype=float32, numpy=6.5521955>"
            ]
          },
          "metadata": {},
          "execution_count": 129
        }
      ]
    },
    {
      "cell_type": "code",
      "source": [
        "# Make functions to reuse MAE and MSE\n",
        "def mae(y_true,y_pred):\n",
        "  return tf.metrics.mean_absolute_error(y_true = y_true,y_pred = y_pred)\n",
        "def mse(y_true,y_pred):\n",
        "  return tf.metrics.mean_squared_error(y_true = y_true,y_pred = y_pred)"
      ],
      "metadata": {
        "id": "0Kxxl2wMPDII"
      },
      "execution_count": 130,
      "outputs": []
    },
    {
      "cell_type": "markdown",
      "source": [
        "## Running Experiments to improve our Model"
      ],
      "metadata": {
        "id": "0waUESm1Pn-t"
      }
    },
    {
      "cell_type": "code",
      "source": [
        "tf.random.set_seed(42)\n",
        "\n",
        "model_1 = tf.keras.Sequential([\n",
        "    tf.keras.layers.Dense(1,input_shape = (1,))\n",
        "])\n",
        "model_1.compile(loss = 'mae',optimizer = tf.keras.optimizers.SGD(),metrics = ['mae'])"
      ],
      "metadata": {
        "id": "YSH3n59lP_eF"
      },
      "execution_count": 170,
      "outputs": []
    },
    {
      "cell_type": "code",
      "source": [
        "x = tf.range(-100,100,4)\n",
        "y = x+10"
      ],
      "metadata": {
        "id": "rQVMR3BMRlvF"
      },
      "execution_count": 171,
      "outputs": []
    },
    {
      "cell_type": "code",
      "source": [
        "x_train = x[:int(len(x)*0.8)]\n",
        "y_train = y[:int(len(y)*0.8)]\n",
        "\n",
        "x_test = x[int(len(x)*0.8):]\n",
        "y_test = y[int(len(y)*0.8):]"
      ],
      "metadata": {
        "id": "Gd7825VFRA7q"
      },
      "execution_count": 172,
      "outputs": []
    },
    {
      "cell_type": "code",
      "source": [
        "model_1.fit(x_train,y_train,epochs = 100)"
      ],
      "metadata": {
        "colab": {
          "base_uri": "https://localhost:8080/"
        },
        "id": "t19z0bsCRePb",
        "outputId": "447030cd-37da-46ea-e516-71b9fd276938"
      },
      "execution_count": 173,
      "outputs": [
        {
          "output_type": "stream",
          "name": "stdout",
          "text": [
            "Epoch 1/100\n",
            "2/2 [==============================] - 0s 7ms/step - loss: 15.9024 - mae: 15.9024\n",
            "Epoch 2/100\n",
            "2/2 [==============================] - 0s 6ms/step - loss: 11.2837 - mae: 11.2837\n",
            "Epoch 3/100\n",
            "2/2 [==============================] - 0s 6ms/step - loss: 11.1074 - mae: 11.1074\n",
            "Epoch 4/100\n",
            "2/2 [==============================] - 0s 6ms/step - loss: 9.2990 - mae: 9.2990\n",
            "Epoch 5/100\n",
            "2/2 [==============================] - 0s 6ms/step - loss: 10.1677 - mae: 10.1677\n",
            "Epoch 6/100\n",
            "2/2 [==============================] - 0s 6ms/step - loss: 9.4303 - mae: 9.4303\n",
            "Epoch 7/100\n",
            "2/2 [==============================] - 0s 6ms/step - loss: 8.5704 - mae: 8.5704\n",
            "Epoch 8/100\n",
            "2/2 [==============================] - 0s 6ms/step - loss: 9.0442 - mae: 9.0442\n",
            "Epoch 9/100\n",
            "2/2 [==============================] - 0s 6ms/step - loss: 18.7517 - mae: 18.7517\n",
            "Epoch 10/100\n",
            "2/2 [==============================] - 0s 5ms/step - loss: 10.1142 - mae: 10.1142\n",
            "Epoch 11/100\n",
            "2/2 [==============================] - 0s 6ms/step - loss: 8.3980 - mae: 8.3980\n",
            "Epoch 12/100\n",
            "2/2 [==============================] - 0s 6ms/step - loss: 10.6639 - mae: 10.6639\n",
            "Epoch 13/100\n",
            "2/2 [==============================] - 0s 6ms/step - loss: 9.7977 - mae: 9.7977\n",
            "Epoch 14/100\n",
            "2/2 [==============================] - 0s 12ms/step - loss: 16.0103 - mae: 16.0103\n",
            "Epoch 15/100\n",
            "2/2 [==============================] - 0s 6ms/step - loss: 11.4068 - mae: 11.4068\n",
            "Epoch 16/100\n",
            "2/2 [==============================] - 0s 6ms/step - loss: 8.5393 - mae: 8.5393\n",
            "Epoch 17/100\n",
            "2/2 [==============================] - 0s 6ms/step - loss: 13.6348 - mae: 13.6348\n",
            "Epoch 18/100\n",
            "2/2 [==============================] - 0s 7ms/step - loss: 11.4629 - mae: 11.4629\n",
            "Epoch 19/100\n",
            "2/2 [==============================] - 0s 7ms/step - loss: 17.9148 - mae: 17.9148\n",
            "Epoch 20/100\n",
            "2/2 [==============================] - 0s 6ms/step - loss: 15.0494 - mae: 15.0494\n",
            "Epoch 21/100\n",
            "2/2 [==============================] - 0s 6ms/step - loss: 11.0216 - mae: 11.0216\n",
            "Epoch 22/100\n",
            "2/2 [==============================] - 0s 11ms/step - loss: 8.1558 - mae: 8.1558\n",
            "Epoch 23/100\n",
            "2/2 [==============================] - 0s 6ms/step - loss: 9.5138 - mae: 9.5138\n",
            "Epoch 24/100\n",
            "2/2 [==============================] - 0s 5ms/step - loss: 7.6617 - mae: 7.6617\n",
            "Epoch 25/100\n",
            "2/2 [==============================] - 0s 5ms/step - loss: 13.1859 - mae: 13.1859\n",
            "Epoch 26/100\n",
            "2/2 [==============================] - 0s 5ms/step - loss: 16.4211 - mae: 16.4211\n",
            "Epoch 27/100\n",
            "2/2 [==============================] - 0s 5ms/step - loss: 13.1659 - mae: 13.1659\n",
            "Epoch 28/100\n",
            "2/2 [==============================] - 0s 6ms/step - loss: 14.2559 - mae: 14.2559\n",
            "Epoch 29/100\n",
            "2/2 [==============================] - 0s 6ms/step - loss: 10.0670 - mae: 10.0670\n",
            "Epoch 30/100\n",
            "2/2 [==============================] - 0s 6ms/step - loss: 16.3409 - mae: 16.3409\n",
            "Epoch 31/100\n",
            "2/2 [==============================] - 0s 6ms/step - loss: 23.6444 - mae: 23.6444\n",
            "Epoch 32/100\n",
            "2/2 [==============================] - 0s 6ms/step - loss: 7.6215 - mae: 7.6215\n",
            "Epoch 33/100\n",
            "2/2 [==============================] - 0s 6ms/step - loss: 9.3221 - mae: 9.3221\n",
            "Epoch 34/100\n",
            "2/2 [==============================] - 0s 6ms/step - loss: 13.7313 - mae: 13.7313\n",
            "Epoch 35/100\n",
            "2/2 [==============================] - 0s 6ms/step - loss: 11.1276 - mae: 11.1276\n",
            "Epoch 36/100\n",
            "2/2 [==============================] - 0s 12ms/step - loss: 13.3222 - mae: 13.3222\n",
            "Epoch 37/100\n",
            "2/2 [==============================] - 0s 6ms/step - loss: 9.4763 - mae: 9.4763\n",
            "Epoch 38/100\n",
            "2/2 [==============================] - 0s 6ms/step - loss: 10.1381 - mae: 10.1381\n",
            "Epoch 39/100\n",
            "2/2 [==============================] - 0s 6ms/step - loss: 10.1793 - mae: 10.1793\n",
            "Epoch 40/100\n",
            "2/2 [==============================] - 0s 6ms/step - loss: 10.9137 - mae: 10.9137\n",
            "Epoch 41/100\n",
            "2/2 [==============================] - 0s 6ms/step - loss: 7.9063 - mae: 7.9063\n",
            "Epoch 42/100\n",
            "2/2 [==============================] - 0s 6ms/step - loss: 10.0914 - mae: 10.0914\n",
            "Epoch 43/100\n",
            "2/2 [==============================] - 0s 6ms/step - loss: 8.7006 - mae: 8.7006\n",
            "Epoch 44/100\n",
            "2/2 [==============================] - 0s 6ms/step - loss: 12.2047 - mae: 12.2047\n",
            "Epoch 45/100\n",
            "2/2 [==============================] - 0s 6ms/step - loss: 13.7970 - mae: 13.7970\n",
            "Epoch 46/100\n",
            "2/2 [==============================] - 0s 6ms/step - loss: 8.4687 - mae: 8.4687\n",
            "Epoch 47/100\n",
            "2/2 [==============================] - 0s 5ms/step - loss: 9.1330 - mae: 9.1330\n",
            "Epoch 48/100\n",
            "2/2 [==============================] - 0s 6ms/step - loss: 10.6190 - mae: 10.6190\n",
            "Epoch 49/100\n",
            "2/2 [==============================] - 0s 6ms/step - loss: 7.7503 - mae: 7.7503\n",
            "Epoch 50/100\n",
            "2/2 [==============================] - 0s 6ms/step - loss: 9.5407 - mae: 9.5407\n",
            "Epoch 51/100\n",
            "2/2 [==============================] - 0s 6ms/step - loss: 9.1584 - mae: 9.1584\n",
            "Epoch 52/100\n",
            "2/2 [==============================] - 0s 6ms/step - loss: 16.3630 - mae: 16.3630\n",
            "Epoch 53/100\n",
            "2/2 [==============================] - 0s 5ms/step - loss: 14.1299 - mae: 14.1299\n",
            "Epoch 54/100\n",
            "2/2 [==============================] - 0s 5ms/step - loss: 21.1247 - mae: 21.1247\n",
            "Epoch 55/100\n",
            "2/2 [==============================] - 0s 6ms/step - loss: 16.3961 - mae: 16.3961\n",
            "Epoch 56/100\n",
            "2/2 [==============================] - 0s 6ms/step - loss: 9.9806 - mae: 9.9806\n",
            "Epoch 57/100\n",
            "2/2 [==============================] - 0s 5ms/step - loss: 9.9606 - mae: 9.9606\n",
            "Epoch 58/100\n",
            "2/2 [==============================] - 0s 5ms/step - loss: 9.2209 - mae: 9.2209\n",
            "Epoch 59/100\n",
            "2/2 [==============================] - 0s 6ms/step - loss: 8.4239 - mae: 8.4239\n",
            "Epoch 60/100\n",
            "2/2 [==============================] - 0s 6ms/step - loss: 9.4869 - mae: 9.4869\n",
            "Epoch 61/100\n",
            "2/2 [==============================] - 0s 5ms/step - loss: 11.4355 - mae: 11.4355\n",
            "Epoch 62/100\n",
            "2/2 [==============================] - 0s 6ms/step - loss: 11.6887 - mae: 11.6887\n",
            "Epoch 63/100\n",
            "2/2 [==============================] - 0s 6ms/step - loss: 7.0838 - mae: 7.0838\n",
            "Epoch 64/100\n",
            "2/2 [==============================] - 0s 5ms/step - loss: 16.9675 - mae: 16.9675\n",
            "Epoch 65/100\n",
            "2/2 [==============================] - 0s 5ms/step - loss: 12.4599 - mae: 12.4599\n",
            "Epoch 66/100\n",
            "2/2 [==============================] - 0s 5ms/step - loss: 13.0184 - mae: 13.0184\n",
            "Epoch 67/100\n",
            "2/2 [==============================] - 0s 5ms/step - loss: 8.0600 - mae: 8.0600\n",
            "Epoch 68/100\n",
            "2/2 [==============================] - 0s 6ms/step - loss: 10.1888 - mae: 10.1888\n",
            "Epoch 69/100\n",
            "2/2 [==============================] - 0s 5ms/step - loss: 12.3633 - mae: 12.3633\n",
            "Epoch 70/100\n",
            "2/2 [==============================] - 0s 5ms/step - loss: 9.0516 - mae: 9.0516\n",
            "Epoch 71/100\n",
            "2/2 [==============================] - 0s 5ms/step - loss: 10.0378 - mae: 10.0378\n",
            "Epoch 72/100\n",
            "2/2 [==============================] - 0s 5ms/step - loss: 10.0516 - mae: 10.0516\n",
            "Epoch 73/100\n",
            "2/2 [==============================] - 0s 5ms/step - loss: 12.6151 - mae: 12.6151\n",
            "Epoch 74/100\n",
            "2/2 [==============================] - 0s 10ms/step - loss: 10.3819 - mae: 10.3819\n",
            "Epoch 75/100\n",
            "2/2 [==============================] - 0s 5ms/step - loss: 9.7229 - mae: 9.7229\n",
            "Epoch 76/100\n",
            "2/2 [==============================] - 0s 5ms/step - loss: 11.2252 - mae: 11.2252\n",
            "Epoch 77/100\n",
            "2/2 [==============================] - 0s 5ms/step - loss: 8.3642 - mae: 8.3642\n",
            "Epoch 78/100\n",
            "2/2 [==============================] - 0s 5ms/step - loss: 9.1274 - mae: 9.1274\n",
            "Epoch 79/100\n",
            "2/2 [==============================] - 0s 5ms/step - loss: 19.5039 - mae: 19.5039\n",
            "Epoch 80/100\n",
            "2/2 [==============================] - 0s 5ms/step - loss: 14.8945 - mae: 14.8945\n",
            "Epoch 81/100\n",
            "2/2 [==============================] - 0s 7ms/step - loss: 9.0034 - mae: 9.0034\n",
            "Epoch 82/100\n",
            "2/2 [==============================] - 0s 6ms/step - loss: 13.0206 - mae: 13.0206\n",
            "Epoch 83/100\n",
            "2/2 [==============================] - 0s 5ms/step - loss: 7.9299 - mae: 7.9299\n",
            "Epoch 84/100\n",
            "2/2 [==============================] - 0s 6ms/step - loss: 7.6872 - mae: 7.6872\n",
            "Epoch 85/100\n",
            "2/2 [==============================] - 0s 9ms/step - loss: 10.0328 - mae: 10.0328\n",
            "Epoch 86/100\n",
            "2/2 [==============================] - 0s 5ms/step - loss: 9.2433 - mae: 9.2433\n",
            "Epoch 87/100\n",
            "2/2 [==============================] - 0s 5ms/step - loss: 12.0209 - mae: 12.0209\n",
            "Epoch 88/100\n",
            "2/2 [==============================] - 0s 5ms/step - loss: 10.6389 - mae: 10.6389\n",
            "Epoch 89/100\n",
            "2/2 [==============================] - 0s 5ms/step - loss: 7.2667 - mae: 7.2667\n",
            "Epoch 90/100\n",
            "2/2 [==============================] - 0s 5ms/step - loss: 12.7786 - mae: 12.7786\n",
            "Epoch 91/100\n",
            "2/2 [==============================] - 0s 5ms/step - loss: 7.3481 - mae: 7.3481\n",
            "Epoch 92/100\n",
            "2/2 [==============================] - 0s 5ms/step - loss: 7.7175 - mae: 7.7175\n",
            "Epoch 93/100\n",
            "2/2 [==============================] - 0s 6ms/step - loss: 7.1263 - mae: 7.1263\n",
            "Epoch 94/100\n",
            "2/2 [==============================] - 0s 5ms/step - loss: 12.6190 - mae: 12.6190\n",
            "Epoch 95/100\n",
            "2/2 [==============================] - 0s 6ms/step - loss: 10.0912 - mae: 10.0912\n",
            "Epoch 96/100\n",
            "2/2 [==============================] - 0s 5ms/step - loss: 9.3558 - mae: 9.3558\n",
            "Epoch 97/100\n",
            "2/2 [==============================] - 0s 5ms/step - loss: 12.6834 - mae: 12.6834\n",
            "Epoch 98/100\n",
            "2/2 [==============================] - 0s 5ms/step - loss: 8.6762 - mae: 8.6762\n",
            "Epoch 99/100\n",
            "2/2 [==============================] - 0s 5ms/step - loss: 9.4693 - mae: 9.4693\n",
            "Epoch 100/100\n",
            "2/2 [==============================] - 0s 5ms/step - loss: 8.7067 - mae: 8.7067\n"
          ]
        },
        {
          "output_type": "execute_result",
          "data": {
            "text/plain": [
              "<keras.callbacks.History at 0x7f195d7c9150>"
            ]
          },
          "metadata": {},
          "execution_count": 173
        }
      ]
    },
    {
      "cell_type": "code",
      "source": [
        "#Make and plot predictions for model 1\n",
        "y_preds_1 = model_1.predict(x_test)"
      ],
      "metadata": {
        "colab": {
          "base_uri": "https://localhost:8080/"
        },
        "id": "1IDHImkBTMeo",
        "outputId": "2163dad8-97ef-4b8a-8136-aaf115078096"
      },
      "execution_count": 174,
      "outputs": [
        {
          "output_type": "stream",
          "name": "stdout",
          "text": [
            "1/1 [==============================] - 0s 34ms/step\n"
          ]
        }
      ]
    },
    {
      "cell_type": "code",
      "source": [
        "plot_predictions(y_preds_1)"
      ],
      "metadata": {
        "colab": {
          "base_uri": "https://localhost:8080/",
          "height": 428
        },
        "id": "1bsO9zPPTcHd",
        "outputId": "cd7cb5d7-9fef-4427-8afb-b45570162286"
      },
      "execution_count": 182,
      "outputs": [
        {
          "output_type": "display_data",
          "data": {
            "text/plain": [
              "<Figure size 720x504 with 1 Axes>"
            ],
            "image/png": "[encoded data removed]"
          },
          "metadata": {
            "needs_background": "light"
          }
        }
      ]
    },
    {
      "cell_type": "code",
      "source": [
        "mae_1 = mae(y_test,tf.squeeze(y_preds_1))\n",
        "mse_1 = mse(y_test,tf.squeeze(y_preds_1))\n",
        "mae_1,mse_1"
      ],
      "metadata": {
        "colab": {
          "base_uri": "https://localhost:8080/"
        },
        "id": "RLeRexrgTy4e",
        "outputId": "a8d4bb02-5a5e-46cf-8b78-fafbcd38e391"
      },
      "execution_count": 176,
      "outputs": [
        {
          "output_type": "execute_result",
          "data": {
            "text/plain": [
              "(<tf.Tensor: shape=(), dtype=float32, numpy=18.745327>,\n",
              " <tf.Tensor: shape=(), dtype=float32, numpy=353.5734>)"
            ]
          },
          "metadata": {},
          "execution_count": 176
        }
      ]
    },
    {
      "cell_type": "code",
      "source": [
        "model_2 = tf.keras.Sequential([\n",
        "    tf.keras.layers.Dense(10,input_shape = (1,)), \n",
        "    tf.keras.layers.Dense(1),\n",
        "    \n",
        "])\n",
        "model_2.compile(loss = 'mae',optimizer = tf.keras.optimizers.SGD(),metrics = ['mse'])"
      ],
      "metadata": {
        "id": "yhN2KkXHUVpd"
      },
      "execution_count": 200,
      "outputs": []
    },
    {
      "cell_type": "code",
      "source": [
        "model_2.fit(x_train,y_train,epochs = 100)"
      ],
      "metadata": {
        "colab": {
          "base_uri": "https://localhost:8080/"
        },
        "id": "FQwCKjVvU3xz",
        "outputId": "8ff136f9-d3f3-4097-e2c5-7d58a14d0d23"
      },
      "execution_count": 201,
      "outputs": [
        {
          "output_type": "stream",
          "name": "stdout",
          "text": [
            "Epoch 1/100\n",
            "2/2 [==============================] - 0s 7ms/step - loss: 36.5400 - mse: 1907.5071\n",
            "Epoch 2/100\n",
            "2/2 [==============================] - 0s 6ms/step - loss: 26.3247 - mse: 900.9243\n",
            "Epoch 3/100\n",
            "2/2 [==============================] - 0s 6ms/step - loss: 31.9683 - mse: 1514.0514\n",
            "Epoch 4/100\n",
            "2/2 [==============================] - 0s 7ms/step - loss: 25.2481 - mse: 928.7991\n",
            "Epoch 5/100\n",
            "2/2 [==============================] - 0s 6ms/step - loss: 14.9225 - mse: 279.8260\n",
            "Epoch 6/100\n",
            "2/2 [==============================] - 0s 6ms/step - loss: 11.8662 - mse: 167.9154\n",
            "Epoch 7/100\n",
            "2/2 [==============================] - 0s 5ms/step - loss: 11.1893 - mse: 151.2178\n",
            "Epoch 8/100\n",
            "2/2 [==============================] - 0s 6ms/step - loss: 11.0906 - mse: 160.0953\n",
            "Epoch 9/100\n",
            "2/2 [==============================] - 0s 6ms/step - loss: 40.4961 - mse: 2588.6079\n",
            "Epoch 10/100\n",
            "2/2 [==============================] - 0s 6ms/step - loss: 27.8870 - mse: 1095.8926\n",
            "Epoch 11/100\n",
            "2/2 [==============================] - 0s 5ms/step - loss: 10.2444 - mse: 147.9463\n",
            "Epoch 12/100\n",
            "2/2 [==============================] - 0s 6ms/step - loss: 25.2786 - mse: 890.3448\n",
            "Epoch 13/100\n",
            "2/2 [==============================] - 0s 5ms/step - loss: 17.0000 - mse: 400.6302\n",
            "Epoch 14/100\n",
            "2/2 [==============================] - 0s 6ms/step - loss: 25.9453 - mse: 1051.6978\n",
            "Epoch 15/100\n",
            "2/2 [==============================] - 0s 5ms/step - loss: 18.0132 - mse: 451.1886\n",
            "Epoch 16/100\n",
            "2/2 [==============================] - 0s 6ms/step - loss: 7.3489 - mse: 80.4402\n",
            "Epoch 17/100\n",
            "2/2 [==============================] - 0s 6ms/step - loss: 10.8571 - mse: 174.6696\n",
            "Epoch 18/100\n",
            "2/2 [==============================] - 0s 6ms/step - loss: 19.5199 - mse: 565.1935\n",
            "Epoch 19/100\n",
            "2/2 [==============================] - 0s 6ms/step - loss: 10.3401 - mse: 167.8098\n",
            "Epoch 20/100\n",
            "2/2 [==============================] - 0s 5ms/step - loss: 17.6891 - mse: 455.0682\n",
            "Epoch 21/100\n",
            "2/2 [==============================] - 0s 6ms/step - loss: 15.8874 - mse: 346.6826\n",
            "Epoch 22/100\n",
            "2/2 [==============================] - 0s 6ms/step - loss: 14.1838 - mse: 284.6740\n",
            "Epoch 23/100\n",
            "2/2 [==============================] - 0s 6ms/step - loss: 8.7771 - mse: 91.6299\n",
            "Epoch 24/100\n",
            "2/2 [==============================] - 0s 6ms/step - loss: 11.0631 - mse: 153.6505\n",
            "Epoch 25/100\n",
            "2/2 [==============================] - 0s 7ms/step - loss: 12.6952 - mse: 234.1591\n",
            "Epoch 26/100\n",
            "2/2 [==============================] - 0s 6ms/step - loss: 26.2294 - mse: 1028.2787\n",
            "Epoch 27/100\n",
            "2/2 [==============================] - 0s 13ms/step - loss: 11.7493 - mse: 195.6478\n",
            "Epoch 28/100\n",
            "2/2 [==============================] - 0s 6ms/step - loss: 22.9179 - mse: 838.9659\n",
            "Epoch 29/100\n",
            "2/2 [==============================] - 0s 7ms/step - loss: 9.2429 - mse: 96.5158\n",
            "Epoch 30/100\n",
            "2/2 [==============================] - 0s 6ms/step - loss: 29.3069 - mse: 1540.7637\n",
            "Epoch 31/100\n",
            "2/2 [==============================] - 0s 6ms/step - loss: 53.1042 - mse: 5046.5083\n",
            "Epoch 32/100\n",
            "2/2 [==============================] - 0s 9ms/step - loss: 12.3680 - mse: 223.3992\n",
            "Epoch 33/100\n",
            "2/2 [==============================] - 0s 6ms/step - loss: 12.1813 - mse: 182.0701\n",
            "Epoch 34/100\n",
            "2/2 [==============================] - 0s 6ms/step - loss: 23.9466 - mse: 869.0550\n",
            "Epoch 35/100\n",
            "2/2 [==============================] - 0s 6ms/step - loss: 12.6220 - mse: 243.1300\n",
            "Epoch 36/100\n",
            "2/2 [==============================] - 0s 6ms/step - loss: 21.5230 - mse: 660.6858\n",
            "Epoch 37/100\n",
            "2/2 [==============================] - 0s 6ms/step - loss: 11.3916 - mse: 150.3734\n",
            "Epoch 38/100\n",
            "2/2 [==============================] - 0s 6ms/step - loss: 13.4765 - mse: 269.6927\n",
            "Epoch 39/100\n",
            "2/2 [==============================] - 0s 6ms/step - loss: 10.8002 - mse: 139.5170\n",
            "Epoch 40/100\n",
            "2/2 [==============================] - 0s 6ms/step - loss: 16.6087 - mse: 400.2186\n",
            "Epoch 41/100\n",
            "2/2 [==============================] - 0s 6ms/step - loss: 10.9829 - mse: 180.0478\n",
            "Epoch 42/100\n",
            "2/2 [==============================] - 0s 6ms/step - loss: 9.3081 - mse: 115.2193\n",
            "Epoch 43/100\n",
            "2/2 [==============================] - 0s 6ms/step - loss: 9.5991 - mse: 111.0739\n",
            "Epoch 44/100\n",
            "2/2 [==============================] - 0s 6ms/step - loss: 27.9936 - mse: 1256.8909\n",
            "Epoch 45/100\n",
            "2/2 [==============================] - 0s 6ms/step - loss: 11.2910 - mse: 147.0963\n",
            "Epoch 46/100\n",
            "2/2 [==============================] - 0s 6ms/step - loss: 14.0708 - mse: 288.8920\n",
            "Epoch 47/100\n",
            "2/2 [==============================] - 0s 6ms/step - loss: 13.5057 - mse: 256.7470\n",
            "Epoch 48/100\n",
            "2/2 [==============================] - 0s 6ms/step - loss: 17.3443 - mse: 408.1015\n",
            "Epoch 49/100\n",
            "2/2 [==============================] - 0s 5ms/step - loss: 9.5194 - mse: 98.6818\n",
            "Epoch 50/100\n",
            "2/2 [==============================] - 0s 7ms/step - loss: 13.7071 - mse: 253.4290\n",
            "Epoch 51/100\n",
            "2/2 [==============================] - 0s 6ms/step - loss: 11.5640 - mse: 153.0764\n",
            "Epoch 52/100\n",
            "2/2 [==============================] - 0s 7ms/step - loss: 30.2021 - mse: 1573.0016\n",
            "Epoch 53/100\n",
            "2/2 [==============================] - 0s 6ms/step - loss: 13.7264 - mse: 278.6584\n",
            "Epoch 54/100\n",
            "2/2 [==============================] - 0s 6ms/step - loss: 26.4262 - mse: 1070.9299\n",
            "Epoch 55/100\n",
            "2/2 [==============================] - 0s 6ms/step - loss: 26.0149 - mse: 1026.8743\n",
            "Epoch 56/100\n",
            "2/2 [==============================] - 0s 6ms/step - loss: 11.2397 - mse: 171.5359\n",
            "Epoch 57/100\n",
            "2/2 [==============================] - 0s 6ms/step - loss: 13.2159 - mse: 218.2214\n",
            "Epoch 58/100\n",
            "2/2 [==============================] - 0s 6ms/step - loss: 9.8703 - mse: 107.5045\n",
            "Epoch 59/100\n",
            "2/2 [==============================] - 0s 6ms/step - loss: 13.4041 - mse: 254.6268\n",
            "Epoch 60/100\n",
            "2/2 [==============================] - 0s 6ms/step - loss: 10.9342 - mse: 141.4049\n",
            "Epoch 61/100\n",
            "2/2 [==============================] - 0s 6ms/step - loss: 13.5534 - mse: 245.8436\n",
            "Epoch 62/100\n",
            "2/2 [==============================] - 0s 6ms/step - loss: 17.6332 - mse: 474.8259\n",
            "Epoch 63/100\n",
            "2/2 [==============================] - 0s 6ms/step - loss: 9.2006 - mse: 88.0521\n",
            "Epoch 64/100\n",
            "2/2 [==============================] - 0s 8ms/step - loss: 18.4985 - mse: 497.3316\n",
            "Epoch 65/100\n",
            "2/2 [==============================] - 0s 7ms/step - loss: 10.1556 - mse: 116.1394\n",
            "Epoch 66/100\n",
            "2/2 [==============================] - 0s 7ms/step - loss: 24.3807 - mse: 898.1804\n",
            "Epoch 67/100\n",
            "2/2 [==============================] - 0s 6ms/step - loss: 10.9399 - mse: 144.6361\n",
            "Epoch 68/100\n",
            "2/2 [==============================] - 0s 7ms/step - loss: 10.8107 - mse: 161.6715\n",
            "Epoch 69/100\n",
            "2/2 [==============================] - 0s 6ms/step - loss: 23.3636 - mse: 789.4977\n",
            "Epoch 70/100\n",
            "2/2 [==============================] - 0s 6ms/step - loss: 8.8041 - mse: 144.0950\n",
            "Epoch 71/100\n",
            "2/2 [==============================] - 0s 6ms/step - loss: 15.9533 - mse: 346.2957\n",
            "Epoch 72/100\n",
            "2/2 [==============================] - 0s 6ms/step - loss: 8.1363 - mse: 110.1107\n",
            "Epoch 73/100\n",
            "2/2 [==============================] - 0s 6ms/step - loss: 9.4650 - mse: 153.8549\n",
            "Epoch 74/100\n",
            "2/2 [==============================] - 0s 7ms/step - loss: 28.1327 - mse: 1108.7390\n",
            "Epoch 75/100\n",
            "2/2 [==============================] - 0s 7ms/step - loss: 10.2352 - mse: 145.7522\n",
            "Epoch 76/100\n",
            "2/2 [==============================] - 0s 6ms/step - loss: 13.1891 - mse: 220.5209\n",
            "Epoch 77/100\n",
            "2/2 [==============================] - 0s 6ms/step - loss: 18.4504 - mse: 534.2887\n",
            "Epoch 78/100\n",
            "2/2 [==============================] - 0s 6ms/step - loss: 9.0369 - mse: 92.1387\n",
            "Epoch 79/100\n",
            "2/2 [==============================] - 0s 6ms/step - loss: 23.4957 - mse: 826.3215\n",
            "Epoch 80/100\n",
            "2/2 [==============================] - 0s 6ms/step - loss: 26.1789 - mse: 1053.5386\n",
            "Epoch 81/100\n",
            "2/2 [==============================] - 0s 6ms/step - loss: 11.4330 - mse: 159.8129\n",
            "Epoch 82/100\n",
            "2/2 [==============================] - 0s 6ms/step - loss: 12.4825 - mse: 227.5405\n",
            "Epoch 83/100\n",
            "2/2 [==============================] - 0s 7ms/step - loss: 17.1680 - mse: 383.3389\n",
            "Epoch 84/100\n",
            "2/2 [==============================] - 0s 7ms/step - loss: 6.6016 - mse: 64.5857\n",
            "Epoch 85/100\n",
            "2/2 [==============================] - 0s 6ms/step - loss: 20.3344 - mse: 578.2667\n",
            "Epoch 86/100\n",
            "2/2 [==============================] - 0s 7ms/step - loss: 10.1882 - mse: 116.3439\n",
            "Epoch 87/100\n",
            "2/2 [==============================] - 0s 7ms/step - loss: 24.3723 - mse: 831.2788\n",
            "Epoch 88/100\n",
            "2/2 [==============================] - 0s 6ms/step - loss: 19.0354 - mse: 514.4973\n",
            "Epoch 89/100\n",
            "2/2 [==============================] - 0s 6ms/step - loss: 7.1764 - mse: 70.3711\n",
            "Epoch 90/100\n",
            "2/2 [==============================] - 0s 7ms/step - loss: 18.2569 - mse: 494.4744\n",
            "Epoch 91/100\n",
            "2/2 [==============================] - 0s 6ms/step - loss: 13.3078 - mse: 255.9100\n",
            "Epoch 92/100\n",
            "2/2 [==============================] - 0s 7ms/step - loss: 14.8595 - mse: 311.0296\n",
            "Epoch 93/100\n",
            "2/2 [==============================] - 0s 6ms/step - loss: 11.6560 - mse: 250.3863\n",
            "Epoch 94/100\n",
            "2/2 [==============================] - 0s 8ms/step - loss: 16.2112 - mse: 371.3736\n",
            "Epoch 95/100\n",
            "2/2 [==============================] - 0s 7ms/step - loss: 15.5548 - mse: 322.4175\n",
            "Epoch 96/100\n",
            "2/2 [==============================] - 0s 7ms/step - loss: 15.0898 - mse: 324.7564\n",
            "Epoch 97/100\n",
            "2/2 [==============================] - 0s 6ms/step - loss: 10.9214 - mse: 188.3157\n",
            "Epoch 98/100\n",
            "2/2 [==============================] - 0s 6ms/step - loss: 14.3819 - mse: 287.0515\n",
            "Epoch 99/100\n",
            "2/2 [==============================] - 0s 7ms/step - loss: 13.3971 - mse: 252.1289\n",
            "Epoch 100/100\n",
            "2/2 [==============================] - 0s 7ms/step - loss: 20.0253 - mse: 585.8458\n"
          ]
        },
        {
          "output_type": "execute_result",
          "data": {
            "text/plain": [
              "<keras.callbacks.History at 0x7f1943d9e4d0>"
            ]
          },
          "metadata": {},
          "execution_count": 201
        }
      ]
    },
    {
      "cell_type": "code",
      "source": [
        "y_preds_2 = model_2.predict(x_test)\n",
        "y_preds_2.shape,y_test.shape"
      ],
      "metadata": {
        "colab": {
          "base_uri": "https://localhost:8080/"
        },
        "id": "PjtGX2taVV0-",
        "outputId": "71fa10ab-fa18-4bd2-87b4-153d1d9cb9b1"
      },
      "execution_count": 202,
      "outputs": [
        {
          "output_type": "stream",
          "name": "stdout",
          "text": [
            "1/1 [==============================] - 0s 37ms/step\n"
          ]
        },
        {
          "output_type": "execute_result",
          "data": {
            "text/plain": [
              "((10, 1), TensorShape([10]))"
            ]
          },
          "metadata": {},
          "execution_count": 202
        }
      ]
    },
    {
      "cell_type": "code",
      "source": [
        "plt.figure(figsize = (10,7))\n",
        "plt.scatter(x_train,y_train,c = \"b\",label = \"Training Data\")\n",
        "plt.scatter(x_test,y_test,c =\"r\",label = \"Testing Data\")\n",
        "plt.scatter(y_test,y_preds_2,c = \"g\",label = \"Predictions\")\n",
        "plt.legend()"
      ],
      "metadata": {
        "colab": {
          "base_uri": "https://localhost:8080/",
          "height": 445
        },
        "id": "p0C7jmVOVjLT",
        "outputId": "16d9fc4e-960a-432f-acae-ae1325d7e0ac"
      },
      "execution_count": 203,
      "outputs": [
        {
          "output_type": "execute_result",
          "data": {
            "text/plain": [
              "<matplotlib.legend.Legend at 0x7f1943de8a10>"
            ]
          },
          "metadata": {},
          "execution_count": 203
        },
        {
          "output_type": "display_data",
          "data": {
            "text/plain": [
              "<Figure size 720x504 with 1 Axes>"
            ],
            "image/png": "[encoded data removed]"
          },
          "metadata": {
            "needs_background": "light"
          }
        }
      ]
    },
    {
      "cell_type": "code",
      "source": [
        "model_3 = tf.keras.Sequential([\n",
        "    tf.keras.layers.Dense(10,input_shape = (1,)),\n",
        "    tf.keras.layers.Dense(1)\n",
        "])\n",
        "model_3.compile(metrics = ['mae'],optimizer = tf.keras.optimizers.SGD(),loss = 'mae')"
      ],
      "metadata": {
        "id": "c2_YdFD3VmJW"
      },
      "execution_count": 209,
      "outputs": []
    },
    {
      "cell_type": "code",
      "source": [
        "model_3.fit(x_train,y_train,epochs = 500)"
      ],
      "metadata": {
        "colab": {
          "base_uri": "https://localhost:8080/"
        },
        "id": "x8XoKzydXG9e",
        "outputId": "c761270a-8803-455a-ad68-ad01d64f48dc"
      },
      "execution_count": 210,
      "outputs": [
        {
          "output_type": "stream",
          "name": "stdout",
          "text": [
            "Epoch 1/500\n",
            "2/2 [==============================] - 1s 22ms/step - loss: 36.9211 - mae: 36.9211\n",
            "Epoch 2/500\n",
            "2/2 [==============================] - 0s 12ms/step - loss: 29.7531 - mae: 29.7531\n",
            "Epoch 3/500\n",
            "2/2 [==============================] - 0s 5ms/step - loss: 32.8859 - mae: 32.8859\n",
            "Epoch 4/500\n",
            "2/2 [==============================] - 0s 8ms/step - loss: 17.1181 - mae: 17.1181\n",
            "Epoch 5/500\n",
            "2/2 [==============================] - 0s 7ms/step - loss: 22.7492 - mae: 22.7492\n",
            "Epoch 6/500\n",
            "2/2 [==============================] - 0s 5ms/step - loss: 11.8537 - mae: 11.8537\n",
            "Epoch 7/500\n",
            "2/2 [==============================] - 0s 7ms/step - loss: 12.9991 - mae: 12.9991\n",
            "Epoch 8/500\n",
            "2/2 [==============================] - 0s 6ms/step - loss: 11.2307 - mae: 11.2307\n",
            "Epoch 9/500\n",
            "2/2 [==============================] - 0s 7ms/step - loss: 41.4600 - mae: 41.4600\n",
            "Epoch 10/500\n",
            "2/2 [==============================] - 0s 9ms/step - loss: 28.7261 - mae: 28.7261\n",
            "Epoch 11/500\n",
            "2/2 [==============================] - 0s 6ms/step - loss: 9.4205 - mae: 9.4205\n",
            "Epoch 12/500\n",
            "2/2 [==============================] - 0s 20ms/step - loss: 26.3659 - mae: 26.3659\n",
            "Epoch 13/500\n",
            "2/2 [==============================] - 0s 15ms/step - loss: 14.5240 - mae: 14.5240\n",
            "Epoch 14/500\n",
            "2/2 [==============================] - 0s 6ms/step - loss: 30.0509 - mae: 30.0509\n",
            "Epoch 15/500\n",
            "2/2 [==============================] - 0s 5ms/step - loss: 19.8658 - mae: 19.8658\n",
            "Epoch 16/500\n",
            "2/2 [==============================] - 0s 15ms/step - loss: 9.8888 - mae: 9.8888\n",
            "Epoch 17/500\n",
            "2/2 [==============================] - 0s 8ms/step - loss: 17.7525 - mae: 17.7525\n",
            "Epoch 18/500\n",
            "2/2 [==============================] - 0s 8ms/step - loss: 14.2186 - mae: 14.2186\n",
            "Epoch 19/500\n",
            "2/2 [==============================] - 0s 8ms/step - loss: 14.0622 - mae: 14.0622\n",
            "Epoch 20/500\n",
            "2/2 [==============================] - 0s 6ms/step - loss: 11.2627 - mae: 11.2627\n",
            "Epoch 21/500\n",
            "2/2 [==============================] - 0s 6ms/step - loss: 17.3849 - mae: 17.3849\n",
            "Epoch 22/500\n",
            "2/2 [==============================] - 0s 6ms/step - loss: 15.6209 - mae: 15.6209\n",
            "Epoch 23/500\n",
            "2/2 [==============================] - 0s 6ms/step - loss: 9.2433 - mae: 9.2433\n",
            "Epoch 24/500\n",
            "2/2 [==============================] - 0s 4ms/step - loss: 17.2339 - mae: 17.2339\n",
            "Epoch 25/500\n",
            "2/2 [==============================] - 0s 6ms/step - loss: 15.9210 - mae: 15.9210\n",
            "Epoch 26/500\n",
            "2/2 [==============================] - 0s 7ms/step - loss: 20.8801 - mae: 20.8801\n",
            "Epoch 27/500\n",
            "2/2 [==============================] - 0s 6ms/step - loss: 26.0794 - mae: 26.0794\n",
            "Epoch 28/500\n",
            "2/2 [==============================] - 0s 6ms/step - loss: 18.5629 - mae: 18.5629\n",
            "Epoch 29/500\n",
            "2/2 [==============================] - 0s 6ms/step - loss: 9.2567 - mae: 9.2567\n",
            "Epoch 30/500\n",
            "2/2 [==============================] - 0s 9ms/step - loss: 29.1761 - mae: 29.1761\n",
            "Epoch 31/500\n",
            "2/2 [==============================] - 0s 6ms/step - loss: 52.8549 - mae: 52.8549\n",
            "Epoch 32/500\n",
            "2/2 [==============================] - 0s 6ms/step - loss: 11.9733 - mae: 11.9733\n",
            "Epoch 33/500\n",
            "2/2 [==============================] - 0s 6ms/step - loss: 15.5837 - mae: 15.5837\n",
            "Epoch 34/500\n",
            "2/2 [==============================] - 0s 6ms/step - loss: 12.6623 - mae: 12.6623\n",
            "Epoch 35/500\n",
            "2/2 [==============================] - 0s 6ms/step - loss: 9.2318 - mae: 9.2318\n",
            "Epoch 36/500\n",
            "2/2 [==============================] - 0s 8ms/step - loss: 16.5726 - mae: 16.5726\n",
            "Epoch 37/500\n",
            "2/2 [==============================] - 0s 6ms/step - loss: 11.0691 - mae: 11.0691\n",
            "Epoch 38/500\n",
            "2/2 [==============================] - 0s 7ms/step - loss: 18.1960 - mae: 18.1960\n",
            "Epoch 39/500\n",
            "2/2 [==============================] - 0s 7ms/step - loss: 19.1318 - mae: 19.1318\n",
            "Epoch 40/500\n",
            "2/2 [==============================] - 0s 7ms/step - loss: 20.4850 - mae: 20.4850\n",
            "Epoch 41/500\n",
            "2/2 [==============================] - 0s 6ms/step - loss: 14.8607 - mae: 14.8607\n",
            "Epoch 42/500\n",
            "2/2 [==============================] - 0s 6ms/step - loss: 12.2440 - mae: 12.2440\n",
            "Epoch 43/500\n",
            "2/2 [==============================] - 0s 6ms/step - loss: 10.7191 - mae: 10.7191\n",
            "Epoch 44/500\n",
            "2/2 [==============================] - 0s 6ms/step - loss: 32.3544 - mae: 32.3544\n",
            "Epoch 45/500\n",
            "2/2 [==============================] - 0s 7ms/step - loss: 12.5050 - mae: 12.5050\n",
            "Epoch 46/500\n",
            "2/2 [==============================] - 0s 11ms/step - loss: 17.5822 - mae: 17.5822\n",
            "Epoch 47/500\n",
            "2/2 [==============================] - 0s 7ms/step - loss: 15.7398 - mae: 15.7398\n",
            "Epoch 48/500\n",
            "2/2 [==============================] - 0s 7ms/step - loss: 8.3716 - mae: 8.3716\n",
            "Epoch 49/500\n",
            "2/2 [==============================] - 0s 6ms/step - loss: 13.9780 - mae: 13.9780\n",
            "Epoch 50/500\n",
            "2/2 [==============================] - 0s 6ms/step - loss: 12.8185 - mae: 12.8185\n",
            "Epoch 51/500\n",
            "2/2 [==============================] - 0s 6ms/step - loss: 14.8342 - mae: 14.8342\n",
            "Epoch 52/500\n",
            "2/2 [==============================] - 0s 6ms/step - loss: 18.7229 - mae: 18.7229\n",
            "Epoch 53/500\n",
            "2/2 [==============================] - 0s 6ms/step - loss: 24.1626 - mae: 24.1626\n",
            "Epoch 54/500\n",
            "2/2 [==============================] - 0s 6ms/step - loss: 23.1970 - mae: 23.1970\n",
            "Epoch 55/500\n",
            "2/2 [==============================] - 0s 6ms/step - loss: 24.0525 - mae: 24.0525\n",
            "Epoch 56/500\n",
            "2/2 [==============================] - 0s 6ms/step - loss: 11.1785 - mae: 11.1785\n",
            "Epoch 57/500\n",
            "2/2 [==============================] - 0s 7ms/step - loss: 13.1322 - mae: 13.1322\n",
            "Epoch 58/500\n",
            "2/2 [==============================] - 0s 7ms/step - loss: 9.8229 - mae: 9.8229\n",
            "Epoch 59/500\n",
            "2/2 [==============================] - 0s 8ms/step - loss: 13.3099 - mae: 13.3099\n",
            "Epoch 60/500\n",
            "2/2 [==============================] - 0s 6ms/step - loss: 10.8787 - mae: 10.8787\n",
            "Epoch 61/500\n",
            "2/2 [==============================] - 0s 6ms/step - loss: 13.4729 - mae: 13.4729\n",
            "Epoch 62/500\n",
            "2/2 [==============================] - 0s 6ms/step - loss: 17.4785 - mae: 17.4785\n",
            "Epoch 63/500\n",
            "2/2 [==============================] - 0s 6ms/step - loss: 9.1659 - mae: 9.1659\n",
            "Epoch 64/500\n",
            "2/2 [==============================] - 0s 6ms/step - loss: 18.3454 - mae: 18.3454\n",
            "Epoch 65/500\n",
            "2/2 [==============================] - 0s 6ms/step - loss: 10.1199 - mae: 10.1199\n",
            "Epoch 66/500\n",
            "2/2 [==============================] - 0s 11ms/step - loss: 24.1892 - mae: 24.1892\n",
            "Epoch 67/500\n",
            "2/2 [==============================] - 0s 7ms/step - loss: 10.8801 - mae: 10.8801\n",
            "Epoch 68/500\n",
            "2/2 [==============================] - 0s 9ms/step - loss: 10.7666 - mae: 10.7666\n",
            "Epoch 69/500\n",
            "2/2 [==============================] - 0s 5ms/step - loss: 23.1514 - mae: 23.1514\n",
            "Epoch 70/500\n",
            "2/2 [==============================] - 0s 6ms/step - loss: 8.8391 - mae: 8.8391\n",
            "Epoch 71/500\n",
            "2/2 [==============================] - 0s 7ms/step - loss: 16.0207 - mae: 16.0207\n",
            "Epoch 72/500\n",
            "2/2 [==============================] - 0s 7ms/step - loss: 8.1735 - mae: 8.1735\n",
            "Epoch 73/500\n",
            "2/2 [==============================] - 0s 6ms/step - loss: 9.4764 - mae: 9.4764\n",
            "Epoch 74/500\n",
            "2/2 [==============================] - 0s 7ms/step - loss: 28.1902 - mae: 28.1902\n",
            "Epoch 75/500\n",
            "2/2 [==============================] - 0s 7ms/step - loss: 10.1743 - mae: 10.1743\n",
            "Epoch 76/500\n",
            "2/2 [==============================] - 0s 8ms/step - loss: 13.1167 - mae: 13.1167\n",
            "Epoch 77/500\n",
            "2/2 [==============================] - 0s 9ms/step - loss: 18.2864 - mae: 18.2864\n",
            "Epoch 78/500\n",
            "2/2 [==============================] - 0s 9ms/step - loss: 9.0161 - mae: 9.0161\n",
            "Epoch 79/500\n",
            "2/2 [==============================] - 0s 6ms/step - loss: 29.2078 - mae: 29.2078\n",
            "Epoch 80/500\n",
            "2/2 [==============================] - 0s 9ms/step - loss: 31.6301 - mae: 31.6301\n",
            "Epoch 81/500\n",
            "2/2 [==============================] - 0s 7ms/step - loss: 13.8896 - mae: 13.8896\n",
            "Epoch 82/500\n",
            "2/2 [==============================] - 0s 6ms/step - loss: 15.7194 - mae: 15.7194\n",
            "Epoch 83/500\n",
            "2/2 [==============================] - 0s 7ms/step - loss: 11.2139 - mae: 11.2139\n",
            "Epoch 84/500\n",
            "2/2 [==============================] - 0s 8ms/step - loss: 7.3240 - mae: 7.3240\n",
            "Epoch 85/500\n",
            "2/2 [==============================] - 0s 5ms/step - loss: 15.1475 - mae: 15.1475\n",
            "Epoch 86/500\n",
            "2/2 [==============================] - 0s 5ms/step - loss: 15.4344 - mae: 15.4344\n",
            "Epoch 87/500\n",
            "2/2 [==============================] - 0s 7ms/step - loss: 19.3977 - mae: 19.3977\n",
            "Epoch 88/500\n",
            "2/2 [==============================] - 0s 8ms/step - loss: 29.0766 - mae: 29.0766\n",
            "Epoch 89/500\n",
            "2/2 [==============================] - 0s 5ms/step - loss: 10.0847 - mae: 10.0847\n",
            "Epoch 90/500\n",
            "2/2 [==============================] - 0s 7ms/step - loss: 20.9048 - mae: 20.9048\n",
            "Epoch 91/500\n",
            "2/2 [==============================] - 0s 5ms/step - loss: 10.4408 - mae: 10.4408\n",
            "Epoch 92/500\n",
            "2/2 [==============================] - 0s 7ms/step - loss: 17.8375 - mae: 17.8375\n",
            "Epoch 93/500\n",
            "2/2 [==============================] - 0s 7ms/step - loss: 6.5798 - mae: 6.5798\n",
            "Epoch 94/500\n",
            "2/2 [==============================] - 0s 5ms/step - loss: 11.0912 - mae: 11.0912\n",
            "Epoch 95/500\n",
            "2/2 [==============================] - 0s 6ms/step - loss: 24.1586 - mae: 24.1586\n",
            "Epoch 96/500\n",
            "2/2 [==============================] - 0s 6ms/step - loss: 10.6937 - mae: 10.6937\n",
            "Epoch 97/500\n",
            "2/2 [==============================] - 0s 7ms/step - loss: 15.2204 - mae: 15.2204\n",
            "Epoch 98/500\n",
            "2/2 [==============================] - 0s 9ms/step - loss: 8.2300 - mae: 8.2300\n",
            "Epoch 99/500\n",
            "2/2 [==============================] - 0s 7ms/step - loss: 16.0395 - mae: 16.0395\n",
            "Epoch 100/500\n",
            "2/2 [==============================] - 0s 8ms/step - loss: 16.5482 - mae: 16.5482\n",
            "Epoch 101/500\n",
            "2/2 [==============================] - 0s 5ms/step - loss: 12.5439 - mae: 12.5439\n",
            "Epoch 102/500\n",
            "2/2 [==============================] - 0s 6ms/step - loss: 14.0635 - mae: 14.0635\n",
            "Epoch 103/500\n",
            "2/2 [==============================] - 0s 5ms/step - loss: 9.5931 - mae: 9.5931\n",
            "Epoch 104/500\n",
            "2/2 [==============================] - 0s 5ms/step - loss: 26.5512 - mae: 26.5512\n",
            "Epoch 105/500\n",
            "2/2 [==============================] - 0s 6ms/step - loss: 13.5323 - mae: 13.5323\n",
            "Epoch 106/500\n",
            "2/2 [==============================] - 0s 8ms/step - loss: 9.0345 - mae: 9.0345\n",
            "Epoch 107/500\n",
            "2/2 [==============================] - 0s 8ms/step - loss: 20.7976 - mae: 20.7976\n",
            "Epoch 108/500\n",
            "2/2 [==============================] - 0s 6ms/step - loss: 6.8089 - mae: 6.8089\n",
            "Epoch 109/500\n",
            "2/2 [==============================] - 0s 7ms/step - loss: 20.0265 - mae: 20.0265\n",
            "Epoch 110/500\n",
            "2/2 [==============================] - 0s 6ms/step - loss: 11.3695 - mae: 11.3695\n",
            "Epoch 111/500\n",
            "2/2 [==============================] - 0s 7ms/step - loss: 14.9352 - mae: 14.9352\n",
            "Epoch 112/500\n",
            "2/2 [==============================] - 0s 8ms/step - loss: 9.1753 - mae: 9.1753\n",
            "Epoch 113/500\n",
            "2/2 [==============================] - 0s 8ms/step - loss: 20.5726 - mae: 20.5726\n",
            "Epoch 114/500\n",
            "2/2 [==============================] - 0s 8ms/step - loss: 18.4757 - mae: 18.4757\n",
            "Epoch 115/500\n",
            "2/2 [==============================] - 0s 8ms/step - loss: 10.9353 - mae: 10.9353\n",
            "Epoch 116/500\n",
            "2/2 [==============================] - 0s 9ms/step - loss: 22.4566 - mae: 22.4566\n",
            "Epoch 117/500\n",
            "2/2 [==============================] - 0s 6ms/step - loss: 9.3803 - mae: 9.3803\n",
            "Epoch 118/500\n",
            "2/2 [==============================] - 0s 8ms/step - loss: 10.4044 - mae: 10.4044\n",
            "Epoch 119/500\n",
            "2/2 [==============================] - 0s 5ms/step - loss: 8.0460 - mae: 8.0460\n",
            "Epoch 120/500\n",
            "2/2 [==============================] - 0s 10ms/step - loss: 37.8224 - mae: 37.8224\n",
            "Epoch 121/500\n",
            "2/2 [==============================] - 0s 9ms/step - loss: 10.6968 - mae: 10.6968\n",
            "Epoch 122/500\n",
            "2/2 [==============================] - 0s 5ms/step - loss: 28.3396 - mae: 28.3396\n",
            "Epoch 123/500\n",
            "2/2 [==============================] - 0s 9ms/step - loss: 32.9347 - mae: 32.9347\n",
            "Epoch 124/500\n",
            "2/2 [==============================] - 0s 7ms/step - loss: 19.6701 - mae: 19.6701\n",
            "Epoch 125/500\n",
            "2/2 [==============================] - 0s 6ms/step - loss: 7.0714 - mae: 7.0714\n",
            "Epoch 126/500\n",
            "2/2 [==============================] - 0s 6ms/step - loss: 21.8114 - mae: 21.8114\n",
            "Epoch 127/500\n",
            "2/2 [==============================] - 0s 6ms/step - loss: 8.0340 - mae: 8.0340\n",
            "Epoch 128/500\n",
            "2/2 [==============================] - 0s 6ms/step - loss: 21.0381 - mae: 21.0381\n",
            "Epoch 129/500\n",
            "2/2 [==============================] - 0s 5ms/step - loss: 9.0629 - mae: 9.0629\n",
            "Epoch 130/500\n",
            "2/2 [==============================] - 0s 6ms/step - loss: 23.9922 - mae: 23.9922\n",
            "Epoch 131/500\n",
            "2/2 [==============================] - 0s 5ms/step - loss: 9.7979 - mae: 9.7979\n",
            "Epoch 132/500\n",
            "2/2 [==============================] - 0s 5ms/step - loss: 18.2406 - mae: 18.2406\n",
            "Epoch 133/500\n",
            "2/2 [==============================] - 0s 9ms/step - loss: 7.6234 - mae: 7.6234\n",
            "Epoch 134/500\n",
            "2/2 [==============================] - 0s 6ms/step - loss: 18.4972 - mae: 18.4972\n",
            "Epoch 135/500\n",
            "2/2 [==============================] - 0s 6ms/step - loss: 10.5572 - mae: 10.5572\n",
            "Epoch 136/500\n",
            "2/2 [==============================] - 0s 6ms/step - loss: 18.1826 - mae: 18.1826\n",
            "Epoch 137/500\n",
            "2/2 [==============================] - 0s 7ms/step - loss: 23.0260 - mae: 23.0260\n",
            "Epoch 138/500\n",
            "2/2 [==============================] - 0s 7ms/step - loss: 9.1214 - mae: 9.1214\n",
            "Epoch 139/500\n",
            "2/2 [==============================] - 0s 8ms/step - loss: 8.9213 - mae: 8.9213\n",
            "Epoch 140/500\n",
            "2/2 [==============================] - 0s 5ms/step - loss: 16.3329 - mae: 16.3329\n",
            "Epoch 141/500\n",
            "2/2 [==============================] - 0s 6ms/step - loss: 8.4679 - mae: 8.4679\n",
            "Epoch 142/500\n",
            "2/2 [==============================] - 0s 8ms/step - loss: 36.5765 - mae: 36.5765\n",
            "Epoch 143/500\n",
            "2/2 [==============================] - 0s 5ms/step - loss: 25.3109 - mae: 25.3109\n",
            "Epoch 144/500\n",
            "2/2 [==============================] - 0s 7ms/step - loss: 10.4866 - mae: 10.4866\n",
            "Epoch 145/500\n",
            "2/2 [==============================] - 0s 9ms/step - loss: 25.8023 - mae: 25.8023\n",
            "Epoch 146/500\n",
            "2/2 [==============================] - 0s 8ms/step - loss: 10.0243 - mae: 10.0243\n",
            "Epoch 147/500\n",
            "2/2 [==============================] - 0s 7ms/step - loss: 14.7143 - mae: 14.7143\n",
            "Epoch 148/500\n",
            "2/2 [==============================] - 0s 6ms/step - loss: 17.8137 - mae: 17.8137\n",
            "Epoch 149/500\n",
            "2/2 [==============================] - 0s 6ms/step - loss: 8.5006 - mae: 8.5006\n",
            "Epoch 150/500\n",
            "2/2 [==============================] - 0s 14ms/step - loss: 7.6499 - mae: 7.6499\n",
            "Epoch 151/500\n",
            "2/2 [==============================] - 0s 5ms/step - loss: 18.9188 - mae: 18.9188\n",
            "Epoch 152/500\n",
            "2/2 [==============================] - 0s 5ms/step - loss: 10.4994 - mae: 10.4994\n",
            "Epoch 153/500\n",
            "2/2 [==============================] - 0s 5ms/step - loss: 30.4746 - mae: 30.4746\n",
            "Epoch 154/500\n",
            "2/2 [==============================] - 0s 7ms/step - loss: 9.9858 - mae: 9.9858\n",
            "Epoch 155/500\n",
            "2/2 [==============================] - 0s 4ms/step - loss: 15.7339 - mae: 15.7339\n",
            "Epoch 156/500\n",
            "2/2 [==============================] - 0s 4ms/step - loss: 17.6307 - mae: 17.6307\n",
            "Epoch 157/500\n",
            "2/2 [==============================] - 0s 8ms/step - loss: 31.2220 - mae: 31.2220\n",
            "Epoch 158/500\n",
            "2/2 [==============================] - 0s 6ms/step - loss: 10.2660 - mae: 10.2660\n",
            "Epoch 159/500\n",
            "2/2 [==============================] - 0s 9ms/step - loss: 8.7213 - mae: 8.7213\n",
            "Epoch 160/500\n",
            "2/2 [==============================] - 0s 6ms/step - loss: 20.8166 - mae: 20.8166\n",
            "Epoch 161/500\n",
            "2/2 [==============================] - 0s 5ms/step - loss: 11.8554 - mae: 11.8554\n",
            "Epoch 162/500\n",
            "2/2 [==============================] - 0s 7ms/step - loss: 21.7909 - mae: 21.7909\n",
            "Epoch 163/500\n",
            "2/2 [==============================] - 0s 9ms/step - loss: 19.4630 - mae: 19.4630\n",
            "Epoch 164/500\n",
            "2/2 [==============================] - 0s 6ms/step - loss: 11.1880 - mae: 11.1880\n",
            "Epoch 165/500\n",
            "2/2 [==============================] - 0s 6ms/step - loss: 9.6128 - mae: 9.6128\n",
            "Epoch 166/500\n",
            "2/2 [==============================] - 0s 7ms/step - loss: 21.5166 - mae: 21.5166\n",
            "Epoch 167/500\n",
            "2/2 [==============================] - 0s 8ms/step - loss: 26.4921 - mae: 26.4921\n",
            "Epoch 168/500\n",
            "2/2 [==============================] - 0s 8ms/step - loss: 9.9510 - mae: 9.9510\n",
            "Epoch 169/500\n",
            "2/2 [==============================] - 0s 9ms/step - loss: 22.7252 - mae: 22.7252\n",
            "Epoch 170/500\n",
            "2/2 [==============================] - 0s 7ms/step - loss: 10.1546 - mae: 10.1546\n",
            "Epoch 171/500\n",
            "2/2 [==============================] - 0s 6ms/step - loss: 17.9942 - mae: 17.9942\n",
            "Epoch 172/500\n",
            "2/2 [==============================] - 0s 10ms/step - loss: 28.9707 - mae: 28.9707\n",
            "Epoch 173/500\n",
            "2/2 [==============================] - 0s 5ms/step - loss: 16.6516 - mae: 16.6516\n",
            "Epoch 174/500\n",
            "2/2 [==============================] - 0s 7ms/step - loss: 11.2275 - mae: 11.2275\n",
            "Epoch 175/500\n",
            "2/2 [==============================] - 0s 6ms/step - loss: 27.5555 - mae: 27.5555\n",
            "Epoch 176/500\n",
            "2/2 [==============================] - 0s 6ms/step - loss: 8.3550 - mae: 8.3550\n",
            "Epoch 177/500\n",
            "2/2 [==============================] - 0s 9ms/step - loss: 9.3388 - mae: 9.3388\n",
            "Epoch 178/500\n",
            "2/2 [==============================] - 0s 5ms/step - loss: 18.2214 - mae: 18.2214\n",
            "Epoch 179/500\n",
            "2/2 [==============================] - 0s 5ms/step - loss: 10.5820 - mae: 10.5820\n",
            "Epoch 180/500\n",
            "2/2 [==============================] - 0s 5ms/step - loss: 7.9634 - mae: 7.9634\n",
            "Epoch 181/500\n",
            "2/2 [==============================] - 0s 7ms/step - loss: 17.4387 - mae: 17.4387\n",
            "Epoch 182/500\n",
            "2/2 [==============================] - 0s 6ms/step - loss: 11.0771 - mae: 11.0771\n",
            "Epoch 183/500\n",
            "2/2 [==============================] - 0s 5ms/step - loss: 11.7288 - mae: 11.7288\n",
            "Epoch 184/500\n",
            "2/2 [==============================] - 0s 9ms/step - loss: 30.3969 - mae: 30.3969\n",
            "Epoch 185/500\n",
            "2/2 [==============================] - 0s 9ms/step - loss: 7.6078 - mae: 7.6078\n",
            "Epoch 186/500\n",
            "2/2 [==============================] - 0s 6ms/step - loss: 16.0249 - mae: 16.0249\n",
            "Epoch 187/500\n",
            "2/2 [==============================] - 0s 6ms/step - loss: 8.6071 - mae: 8.6071\n",
            "Epoch 188/500\n",
            "2/2 [==============================] - 0s 6ms/step - loss: 28.6436 - mae: 28.6436\n",
            "Epoch 189/500\n",
            "2/2 [==============================] - 0s 8ms/step - loss: 13.2088 - mae: 13.2088\n",
            "Epoch 190/500\n",
            "2/2 [==============================] - 0s 7ms/step - loss: 18.3569 - mae: 18.3569\n",
            "Epoch 191/500\n",
            "2/2 [==============================] - 0s 5ms/step - loss: 13.7937 - mae: 13.7937\n",
            "Epoch 192/500\n",
            "2/2 [==============================] - 0s 7ms/step - loss: 13.7529 - mae: 13.7529\n",
            "Epoch 193/500\n",
            "2/2 [==============================] - 0s 5ms/step - loss: 28.6270 - mae: 28.6270\n",
            "Epoch 194/500\n",
            "2/2 [==============================] - 0s 7ms/step - loss: 7.0703 - mae: 7.0703\n",
            "Epoch 195/500\n",
            "2/2 [==============================] - 0s 9ms/step - loss: 7.8164 - mae: 7.8164\n",
            "Epoch 196/500\n",
            "2/2 [==============================] - 0s 5ms/step - loss: 26.0627 - mae: 26.0627\n",
            "Epoch 197/500\n",
            "2/2 [==============================] - 0s 9ms/step - loss: 11.5803 - mae: 11.5803\n",
            "Epoch 198/500\n",
            "2/2 [==============================] - 0s 8ms/step - loss: 18.8478 - mae: 18.8478\n",
            "Epoch 199/500\n",
            "2/2 [==============================] - 0s 7ms/step - loss: 16.6540 - mae: 16.6540\n",
            "Epoch 200/500\n",
            "2/2 [==============================] - 0s 5ms/step - loss: 12.3541 - mae: 12.3541\n",
            "Epoch 201/500\n",
            "2/2 [==============================] - 0s 5ms/step - loss: 7.1324 - mae: 7.1324\n",
            "Epoch 202/500\n",
            "2/2 [==============================] - 0s 8ms/step - loss: 22.8460 - mae: 22.8460\n",
            "Epoch 203/500\n",
            "2/2 [==============================] - 0s 6ms/step - loss: 9.0077 - mae: 9.0077\n",
            "Epoch 204/500\n",
            "2/2 [==============================] - 0s 7ms/step - loss: 18.8019 - mae: 18.8019\n",
            "Epoch 205/500\n",
            "2/2 [==============================] - 0s 7ms/step - loss: 9.3973 - mae: 9.3973\n",
            "Epoch 206/500\n",
            "2/2 [==============================] - 0s 5ms/step - loss: 10.4616 - mae: 10.4616\n",
            "Epoch 207/500\n",
            "2/2 [==============================] - 0s 6ms/step - loss: 21.0109 - mae: 21.0109\n",
            "Epoch 208/500\n",
            "2/2 [==============================] - 0s 10ms/step - loss: 16.4321 - mae: 16.4321\n",
            "Epoch 209/500\n",
            "2/2 [==============================] - 0s 5ms/step - loss: 14.3078 - mae: 14.3078\n",
            "Epoch 210/500\n",
            "2/2 [==============================] - 0s 8ms/step - loss: 17.2606 - mae: 17.2606\n",
            "Epoch 211/500\n",
            "2/2 [==============================] - 0s 9ms/step - loss: 10.2729 - mae: 10.2729\n",
            "Epoch 212/500\n",
            "2/2 [==============================] - 0s 6ms/step - loss: 19.7264 - mae: 19.7264\n",
            "Epoch 213/500\n",
            "2/2 [==============================] - 0s 9ms/step - loss: 14.6897 - mae: 14.6897\n",
            "Epoch 214/500\n",
            "2/2 [==============================] - 0s 5ms/step - loss: 14.3687 - mae: 14.3687\n",
            "Epoch 215/500\n",
            "2/2 [==============================] - 0s 5ms/step - loss: 22.8361 - mae: 22.8361\n",
            "Epoch 216/500\n",
            "2/2 [==============================] - 0s 5ms/step - loss: 14.4652 - mae: 14.4652\n",
            "Epoch 217/500\n",
            "2/2 [==============================] - 0s 6ms/step - loss: 9.2267 - mae: 9.2267\n",
            "Epoch 218/500\n",
            "2/2 [==============================] - 0s 6ms/step - loss: 11.8891 - mae: 11.8891\n",
            "Epoch 219/500\n",
            "2/2 [==============================] - 0s 5ms/step - loss: 6.8177 - mae: 6.8177\n",
            "Epoch 220/500\n",
            "2/2 [==============================] - 0s 7ms/step - loss: 7.1447 - mae: 7.1447\n",
            "Epoch 221/500\n",
            "2/2 [==============================] - 0s 7ms/step - loss: 38.5024 - mae: 38.5024\n",
            "Epoch 222/500\n",
            "2/2 [==============================] - 0s 7ms/step - loss: 38.5255 - mae: 38.5255\n",
            "Epoch 223/500\n",
            "2/2 [==============================] - 0s 5ms/step - loss: 5.1012 - mae: 5.1012\n",
            "Epoch 224/500\n",
            "2/2 [==============================] - 0s 4ms/step - loss: 11.2630 - mae: 11.2630\n",
            "Epoch 225/500\n",
            "2/2 [==============================] - 0s 8ms/step - loss: 31.1173 - mae: 31.1173\n",
            "Epoch 226/500\n",
            "2/2 [==============================] - 0s 8ms/step - loss: 12.3046 - mae: 12.3046\n",
            "Epoch 227/500\n",
            "2/2 [==============================] - 0s 4ms/step - loss: 19.2813 - mae: 19.2813\n",
            "Epoch 228/500\n",
            "2/2 [==============================] - 0s 5ms/step - loss: 11.2719 - mae: 11.2719\n",
            "Epoch 229/500\n",
            "2/2 [==============================] - 0s 4ms/step - loss: 13.6617 - mae: 13.6617\n",
            "Epoch 230/500\n",
            "2/2 [==============================] - 0s 7ms/step - loss: 9.6306 - mae: 9.6306\n",
            "Epoch 231/500\n",
            "2/2 [==============================] - 0s 7ms/step - loss: 19.2945 - mae: 19.2945\n",
            "Epoch 232/500\n",
            "2/2 [==============================] - 0s 7ms/step - loss: 15.7371 - mae: 15.7371\n",
            "Epoch 233/500\n",
            "2/2 [==============================] - 0s 7ms/step - loss: 11.2678 - mae: 11.2678\n",
            "Epoch 234/500\n",
            "2/2 [==============================] - 0s 7ms/step - loss: 11.1836 - mae: 11.1836\n",
            "Epoch 235/500\n",
            "2/2 [==============================] - 0s 5ms/step - loss: 9.6104 - mae: 9.6104\n",
            "Epoch 236/500\n",
            "2/2 [==============================] - 0s 7ms/step - loss: 12.8390 - mae: 12.8390\n",
            "Epoch 237/500\n",
            "2/2 [==============================] - 0s 8ms/step - loss: 10.0740 - mae: 10.0740\n",
            "Epoch 238/500\n",
            "2/2 [==============================] - 0s 5ms/step - loss: 13.7314 - mae: 13.7314\n",
            "Epoch 239/500\n",
            "2/2 [==============================] - 0s 9ms/step - loss: 19.3121 - mae: 19.3121\n",
            "Epoch 240/500\n",
            "2/2 [==============================] - 0s 5ms/step - loss: 24.1378 - mae: 24.1378\n",
            "Epoch 241/500\n",
            "2/2 [==============================] - 0s 8ms/step - loss: 9.4215 - mae: 9.4215\n",
            "Epoch 242/500\n",
            "2/2 [==============================] - 0s 9ms/step - loss: 15.1578 - mae: 15.1578\n",
            "Epoch 243/500\n",
            "2/2 [==============================] - 0s 10ms/step - loss: 10.5840 - mae: 10.5840\n",
            "Epoch 244/500\n",
            "2/2 [==============================] - 0s 6ms/step - loss: 8.5238 - mae: 8.5238\n",
            "Epoch 245/500\n",
            "2/2 [==============================] - 0s 8ms/step - loss: 15.3980 - mae: 15.3980\n",
            "Epoch 246/500\n",
            "2/2 [==============================] - 0s 7ms/step - loss: 16.4789 - mae: 16.4789\n",
            "Epoch 247/500\n",
            "2/2 [==============================] - 0s 7ms/step - loss: 18.5705 - mae: 18.5705\n",
            "Epoch 248/500\n",
            "2/2 [==============================] - 0s 10ms/step - loss: 14.0780 - mae: 14.0780\n",
            "Epoch 249/500\n",
            "2/2 [==============================] - 0s 5ms/step - loss: 15.1028 - mae: 15.1028\n",
            "Epoch 250/500\n",
            "2/2 [==============================] - 0s 7ms/step - loss: 18.8564 - mae: 18.8564\n",
            "Epoch 251/500\n",
            "2/2 [==============================] - 0s 5ms/step - loss: 14.1361 - mae: 14.1361\n",
            "Epoch 252/500\n",
            "2/2 [==============================] - 0s 6ms/step - loss: 29.5468 - mae: 29.5468\n",
            "Epoch 253/500\n",
            "2/2 [==============================] - 0s 5ms/step - loss: 8.2080 - mae: 8.2080\n",
            "Epoch 254/500\n",
            "2/2 [==============================] - 0s 10ms/step - loss: 11.1727 - mae: 11.1727\n",
            "Epoch 255/500\n",
            "2/2 [==============================] - 0s 9ms/step - loss: 18.3232 - mae: 18.3232\n",
            "Epoch 256/500\n",
            "2/2 [==============================] - 0s 5ms/step - loss: 10.0938 - mae: 10.0938\n",
            "Epoch 257/500\n",
            "2/2 [==============================] - 0s 8ms/step - loss: 14.9089 - mae: 14.9089\n",
            "Epoch 258/500\n",
            "2/2 [==============================] - 0s 7ms/step - loss: 4.8070 - mae: 4.8070\n",
            "Epoch 259/500\n",
            "2/2 [==============================] - 0s 5ms/step - loss: 9.5344 - mae: 9.5344\n",
            "Epoch 260/500\n",
            "2/2 [==============================] - 0s 7ms/step - loss: 38.3221 - mae: 38.3221\n",
            "Epoch 261/500\n",
            "2/2 [==============================] - 0s 6ms/step - loss: 15.4776 - mae: 15.4776\n",
            "Epoch 262/500\n",
            "2/2 [==============================] - 0s 5ms/step - loss: 5.8097 - mae: 5.8097\n",
            "Epoch 263/500\n",
            "2/2 [==============================] - 0s 7ms/step - loss: 14.6376 - mae: 14.6376\n",
            "Epoch 264/500\n",
            "2/2 [==============================] - 0s 7ms/step - loss: 18.8171 - mae: 18.8171\n",
            "Epoch 265/500\n",
            "2/2 [==============================] - 0s 9ms/step - loss: 13.0147 - mae: 13.0147\n",
            "Epoch 266/500\n",
            "2/2 [==============================] - 0s 8ms/step - loss: 10.6117 - mae: 10.6117\n",
            "Epoch 267/500\n",
            "2/2 [==============================] - 0s 9ms/step - loss: 5.5357 - mae: 5.5357\n",
            "Epoch 268/500\n",
            "2/2 [==============================] - 0s 9ms/step - loss: 28.7602 - mae: 28.7602\n",
            "Epoch 269/500\n",
            "2/2 [==============================] - 0s 7ms/step - loss: 32.8931 - mae: 32.8931\n",
            "Epoch 270/500\n",
            "2/2 [==============================] - 0s 6ms/step - loss: 9.7808 - mae: 9.7808\n",
            "Epoch 271/500\n",
            "2/2 [==============================] - 0s 7ms/step - loss: 7.7454 - mae: 7.7454\n",
            "Epoch 272/500\n",
            "2/2 [==============================] - 0s 11ms/step - loss: 28.5356 - mae: 28.5356\n",
            "Epoch 273/500\n",
            "2/2 [==============================] - 0s 6ms/step - loss: 7.4071 - mae: 7.4071\n",
            "Epoch 274/500\n",
            "2/2 [==============================] - 0s 5ms/step - loss: 6.3731 - mae: 6.3731\n",
            "Epoch 275/500\n",
            "2/2 [==============================] - 0s 6ms/step - loss: 37.0037 - mae: 37.0037\n",
            "Epoch 276/500\n",
            "2/2 [==============================] - 0s 6ms/step - loss: 8.3203 - mae: 8.3203\n",
            "Epoch 277/500\n",
            "2/2 [==============================] - 0s 6ms/step - loss: 27.8019 - mae: 27.8019\n",
            "Epoch 278/500\n",
            "2/2 [==============================] - 0s 6ms/step - loss: 10.6742 - mae: 10.6742\n",
            "Epoch 279/500\n",
            "2/2 [==============================] - 0s 6ms/step - loss: 16.1056 - mae: 16.1056\n",
            "Epoch 280/500\n",
            "2/2 [==============================] - 0s 6ms/step - loss: 21.2160 - mae: 21.2160\n",
            "Epoch 281/500\n",
            "2/2 [==============================] - 0s 8ms/step - loss: 23.8465 - mae: 23.8465\n",
            "Epoch 282/500\n",
            "2/2 [==============================] - 0s 6ms/step - loss: 8.3015 - mae: 8.3015\n",
            "Epoch 283/500\n",
            "2/2 [==============================] - 0s 7ms/step - loss: 8.4732 - mae: 8.4732\n",
            "Epoch 284/500\n",
            "2/2 [==============================] - 0s 5ms/step - loss: 26.6722 - mae: 26.6722\n",
            "Epoch 285/500\n",
            "2/2 [==============================] - 0s 6ms/step - loss: 14.2663 - mae: 14.2663\n",
            "Epoch 286/500\n",
            "2/2 [==============================] - 0s 10ms/step - loss: 5.2839 - mae: 5.2839\n",
            "Epoch 287/500\n",
            "2/2 [==============================] - 0s 6ms/step - loss: 20.8049 - mae: 20.8049\n",
            "Epoch 288/500\n",
            "2/2 [==============================] - 0s 12ms/step - loss: 27.6567 - mae: 27.6567\n",
            "Epoch 289/500\n",
            "2/2 [==============================] - 0s 10ms/step - loss: 10.4315 - mae: 10.4315\n",
            "Epoch 290/500\n",
            "2/2 [==============================] - 0s 6ms/step - loss: 16.3033 - mae: 16.3033\n",
            "Epoch 291/500\n",
            "2/2 [==============================] - 0s 7ms/step - loss: 16.4891 - mae: 16.4891\n",
            "Epoch 292/500\n",
            "2/2 [==============================] - 0s 7ms/step - loss: 7.4422 - mae: 7.4422\n",
            "Epoch 293/500\n",
            "2/2 [==============================] - 0s 5ms/step - loss: 16.5488 - mae: 16.5488\n",
            "Epoch 294/500\n",
            "2/2 [==============================] - 0s 6ms/step - loss: 25.3280 - mae: 25.3280\n",
            "Epoch 295/500\n",
            "2/2 [==============================] - 0s 5ms/step - loss: 14.5974 - mae: 14.5974\n",
            "Epoch 296/500\n",
            "2/2 [==============================] - 0s 6ms/step - loss: 4.6848 - mae: 4.6848\n",
            "Epoch 297/500\n",
            "2/2 [==============================] - 0s 7ms/step - loss: 7.3012 - mae: 7.3012\n",
            "Epoch 298/500\n",
            "2/2 [==============================] - 0s 7ms/step - loss: 19.6226 - mae: 19.6226\n",
            "Epoch 299/500\n",
            "2/2 [==============================] - 0s 8ms/step - loss: 6.6349 - mae: 6.6349\n",
            "Epoch 300/500\n",
            "2/2 [==============================] - 0s 7ms/step - loss: 22.0657 - mae: 22.0657\n",
            "Epoch 301/500\n",
            "2/2 [==============================] - 0s 6ms/step - loss: 9.1548 - mae: 9.1548\n",
            "Epoch 302/500\n",
            "2/2 [==============================] - 0s 5ms/step - loss: 11.2041 - mae: 11.2041\n",
            "Epoch 303/500\n",
            "2/2 [==============================] - 0s 10ms/step - loss: 9.3544 - mae: 9.3544\n",
            "Epoch 304/500\n",
            "2/2 [==============================] - 0s 9ms/step - loss: 23.7153 - mae: 23.7153\n",
            "Epoch 305/500\n",
            "2/2 [==============================] - 0s 5ms/step - loss: 7.9366 - mae: 7.9366\n",
            "Epoch 306/500\n",
            "2/2 [==============================] - 0s 5ms/step - loss: 23.7565 - mae: 23.7565\n",
            "Epoch 307/500\n",
            "2/2 [==============================] - 0s 9ms/step - loss: 5.8937 - mae: 5.8937\n",
            "Epoch 308/500\n",
            "2/2 [==============================] - 0s 5ms/step - loss: 21.3275 - mae: 21.3275\n",
            "Epoch 309/500\n",
            "2/2 [==============================] - 0s 8ms/step - loss: 18.4056 - mae: 18.4056\n",
            "Epoch 310/500\n",
            "2/2 [==============================] - 0s 9ms/step - loss: 4.5109 - mae: 4.5109\n",
            "Epoch 311/500\n",
            "2/2 [==============================] - 0s 7ms/step - loss: 6.5207 - mae: 6.5207\n",
            "Epoch 312/500\n",
            "2/2 [==============================] - 0s 7ms/step - loss: 35.4330 - mae: 35.4330\n",
            "Epoch 313/500\n",
            "2/2 [==============================] - 0s 7ms/step - loss: 28.9110 - mae: 28.9110\n",
            "Epoch 314/500\n",
            "2/2 [==============================] - 0s 6ms/step - loss: 11.2000 - mae: 11.2000\n",
            "Epoch 315/500\n",
            "2/2 [==============================] - 0s 5ms/step - loss: 23.5600 - mae: 23.5600\n",
            "Epoch 316/500\n",
            "2/2 [==============================] - 0s 5ms/step - loss: 14.4142 - mae: 14.4142\n",
            "Epoch 317/500\n",
            "2/2 [==============================] - 0s 11ms/step - loss: 19.9594 - mae: 19.9594\n",
            "Epoch 318/500\n",
            "2/2 [==============================] - 0s 5ms/step - loss: 8.0033 - mae: 8.0033\n",
            "Epoch 319/500\n",
            "2/2 [==============================] - 0s 7ms/step - loss: 18.0914 - mae: 18.0914\n",
            "Epoch 320/500\n",
            "2/2 [==============================] - 0s 6ms/step - loss: 10.6314 - mae: 10.6314\n",
            "Epoch 321/500\n",
            "2/2 [==============================] - 0s 7ms/step - loss: 7.0252 - mae: 7.0252\n",
            "Epoch 322/500\n",
            "2/2 [==============================] - 0s 8ms/step - loss: 8.6832 - mae: 8.6832\n",
            "Epoch 323/500\n",
            "2/2 [==============================] - 0s 10ms/step - loss: 18.3521 - mae: 18.3521\n",
            "Epoch 324/500\n",
            "2/2 [==============================] - 0s 7ms/step - loss: 6.3083 - mae: 6.3083\n",
            "Epoch 325/500\n",
            "2/2 [==============================] - 0s 6ms/step - loss: 14.5885 - mae: 14.5885\n",
            "Epoch 326/500\n",
            "2/2 [==============================] - 0s 6ms/step - loss: 6.9898 - mae: 6.9898\n",
            "Epoch 327/500\n",
            "2/2 [==============================] - 0s 6ms/step - loss: 17.5837 - mae: 17.5837\n",
            "Epoch 328/500\n",
            "2/2 [==============================] - 0s 6ms/step - loss: 14.3856 - mae: 14.3856\n",
            "Epoch 329/500\n",
            "2/2 [==============================] - 0s 8ms/step - loss: 17.7043 - mae: 17.7043\n",
            "Epoch 330/500\n",
            "2/2 [==============================] - 0s 6ms/step - loss: 6.7834 - mae: 6.7834\n",
            "Epoch 331/500\n",
            "2/2 [==============================] - 0s 6ms/step - loss: 19.6962 - mae: 19.6962\n",
            "Epoch 332/500\n",
            "2/2 [==============================] - 0s 7ms/step - loss: 10.5373 - mae: 10.5373\n",
            "Epoch 333/500\n",
            "2/2 [==============================] - 0s 9ms/step - loss: 16.2986 - mae: 16.2986\n",
            "Epoch 334/500\n",
            "2/2 [==============================] - 0s 6ms/step - loss: 9.7365 - mae: 9.7365\n",
            "Epoch 335/500\n",
            "2/2 [==============================] - 0s 6ms/step - loss: 13.0631 - mae: 13.0631\n",
            "Epoch 336/500\n",
            "2/2 [==============================] - 0s 5ms/step - loss: 32.5028 - mae: 32.5028\n",
            "Epoch 337/500\n",
            "2/2 [==============================] - 0s 6ms/step - loss: 11.0485 - mae: 11.0485\n",
            "Epoch 338/500\n",
            "2/2 [==============================] - 0s 7ms/step - loss: 19.9759 - mae: 19.9759\n",
            "Epoch 339/500\n",
            "2/2 [==============================] - 0s 8ms/step - loss: 34.2543 - mae: 34.2543\n",
            "Epoch 340/500\n",
            "2/2 [==============================] - 0s 8ms/step - loss: 8.7162 - mae: 8.7162\n",
            "Epoch 341/500\n",
            "2/2 [==============================] - 0s 6ms/step - loss: 21.9035 - mae: 21.9035\n",
            "Epoch 342/500\n",
            "2/2 [==============================] - 0s 6ms/step - loss: 13.8618 - mae: 13.8618\n",
            "Epoch 343/500\n",
            "2/2 [==============================] - 0s 6ms/step - loss: 11.7108 - mae: 11.7108\n",
            "Epoch 344/500\n",
            "2/2 [==============================] - 0s 8ms/step - loss: 10.6986 - mae: 10.6986\n",
            "Epoch 345/500\n",
            "2/2 [==============================] - 0s 6ms/step - loss: 30.9165 - mae: 30.9165\n",
            "Epoch 346/500\n",
            "2/2 [==============================] - 0s 6ms/step - loss: 10.6499 - mae: 10.6499\n",
            "Epoch 347/500\n",
            "2/2 [==============================] - 0s 8ms/step - loss: 25.5820 - mae: 25.5820\n",
            "Epoch 348/500\n",
            "2/2 [==============================] - 0s 7ms/step - loss: 13.2448 - mae: 13.2448\n",
            "Epoch 349/500\n",
            "2/2 [==============================] - 0s 6ms/step - loss: 13.0528 - mae: 13.0528\n",
            "Epoch 350/500\n",
            "2/2 [==============================] - 0s 9ms/step - loss: 15.4081 - mae: 15.4081\n",
            "Epoch 351/500\n",
            "2/2 [==============================] - 0s 9ms/step - loss: 32.8843 - mae: 32.8843\n",
            "Epoch 352/500\n",
            "2/2 [==============================] - 0s 8ms/step - loss: 14.0995 - mae: 14.0995\n",
            "Epoch 353/500\n",
            "2/2 [==============================] - 0s 10ms/step - loss: 15.8368 - mae: 15.8368\n",
            "Epoch 354/500\n",
            "2/2 [==============================] - 0s 9ms/step - loss: 18.9096 - mae: 18.9096\n",
            "Epoch 355/500\n",
            "2/2 [==============================] - 0s 7ms/step - loss: 34.6245 - mae: 34.6245\n",
            "Epoch 356/500\n",
            "2/2 [==============================] - 0s 7ms/step - loss: 8.3776 - mae: 8.3776\n",
            "Epoch 357/500\n",
            "2/2 [==============================] - 0s 6ms/step - loss: 22.0349 - mae: 22.0349\n",
            "Epoch 358/500\n",
            "2/2 [==============================] - 0s 8ms/step - loss: 20.2014 - mae: 20.2014\n",
            "Epoch 359/500\n",
            "2/2 [==============================] - 0s 9ms/step - loss: 11.0285 - mae: 11.0285\n",
            "Epoch 360/500\n",
            "2/2 [==============================] - 0s 6ms/step - loss: 20.2169 - mae: 20.2169\n",
            "Epoch 361/500\n",
            "2/2 [==============================] - 0s 8ms/step - loss: 11.1166 - mae: 11.1166\n",
            "Epoch 362/500\n",
            "2/2 [==============================] - 0s 7ms/step - loss: 6.8584 - mae: 6.8584\n",
            "Epoch 363/500\n",
            "2/2 [==============================] - 0s 5ms/step - loss: 24.1161 - mae: 24.1161\n",
            "Epoch 364/500\n",
            "2/2 [==============================] - 0s 5ms/step - loss: 29.9258 - mae: 29.9258\n",
            "Epoch 365/500\n",
            "2/2 [==============================] - 0s 5ms/step - loss: 8.4280 - mae: 8.4280\n",
            "Epoch 366/500\n",
            "2/2 [==============================] - 0s 6ms/step - loss: 6.1191 - mae: 6.1191\n",
            "Epoch 367/500\n",
            "2/2 [==============================] - 0s 5ms/step - loss: 35.0604 - mae: 35.0604\n",
            "Epoch 368/500\n",
            "2/2 [==============================] - 0s 5ms/step - loss: 7.4673 - mae: 7.4673\n",
            "Epoch 369/500\n",
            "2/2 [==============================] - 0s 8ms/step - loss: 9.2902 - mae: 9.2902\n",
            "Epoch 370/500\n",
            "2/2 [==============================] - 0s 8ms/step - loss: 10.9988 - mae: 10.9988\n",
            "Epoch 371/500\n",
            "2/2 [==============================] - 0s 6ms/step - loss: 9.0594 - mae: 9.0594\n",
            "Epoch 372/500\n",
            "2/2 [==============================] - 0s 6ms/step - loss: 6.9588 - mae: 6.9588\n",
            "Epoch 373/500\n",
            "2/2 [==============================] - 0s 5ms/step - loss: 25.9321 - mae: 25.9321\n",
            "Epoch 374/500\n",
            "2/2 [==============================] - 0s 8ms/step - loss: 11.0039 - mae: 11.0039\n",
            "Epoch 375/500\n",
            "2/2 [==============================] - 0s 9ms/step - loss: 10.7784 - mae: 10.7784\n",
            "Epoch 376/500\n",
            "2/2 [==============================] - 0s 8ms/step - loss: 13.5684 - mae: 13.5684\n",
            "Epoch 377/500\n",
            "2/2 [==============================] - 0s 7ms/step - loss: 15.2666 - mae: 15.2666\n",
            "Epoch 378/500\n",
            "2/2 [==============================] - 0s 6ms/step - loss: 16.4068 - mae: 16.4068\n",
            "Epoch 379/500\n",
            "2/2 [==============================] - 0s 8ms/step - loss: 21.1434 - mae: 21.1434\n",
            "Epoch 380/500\n",
            "2/2 [==============================] - 0s 5ms/step - loss: 32.6271 - mae: 32.6271\n",
            "Epoch 381/500\n",
            "2/2 [==============================] - 0s 7ms/step - loss: 7.9794 - mae: 7.9794\n",
            "Epoch 382/500\n",
            "2/2 [==============================] - 0s 6ms/step - loss: 12.4193 - mae: 12.4193\n",
            "Epoch 383/500\n",
            "2/2 [==============================] - 0s 9ms/step - loss: 7.2839 - mae: 7.2839\n",
            "Epoch 384/500\n",
            "2/2 [==============================] - 0s 6ms/step - loss: 6.4062 - mae: 6.4062\n",
            "Epoch 385/500\n",
            "2/2 [==============================] - 0s 5ms/step - loss: 11.6359 - mae: 11.6359\n",
            "Epoch 386/500\n",
            "2/2 [==============================] - 0s 7ms/step - loss: 19.9847 - mae: 19.9847\n",
            "Epoch 387/500\n",
            "2/2 [==============================] - 0s 6ms/step - loss: 24.3564 - mae: 24.3564\n",
            "Epoch 388/500\n",
            "2/2 [==============================] - 0s 7ms/step - loss: 8.1219 - mae: 8.1219\n",
            "Epoch 389/500\n",
            "2/2 [==============================] - 0s 5ms/step - loss: 10.6459 - mae: 10.6459\n",
            "Epoch 390/500\n",
            "2/2 [==============================] - 0s 5ms/step - loss: 5.5438 - mae: 5.5438\n",
            "Epoch 391/500\n",
            "2/2 [==============================] - 0s 5ms/step - loss: 17.7486 - mae: 17.7486\n",
            "Epoch 392/500\n",
            "2/2 [==============================] - 0s 10ms/step - loss: 16.5281 - mae: 16.5281\n",
            "Epoch 393/500\n",
            "2/2 [==============================] - 0s 7ms/step - loss: 9.3203 - mae: 9.3203\n",
            "Epoch 394/500\n",
            "2/2 [==============================] - 0s 5ms/step - loss: 14.1388 - mae: 14.1388\n",
            "Epoch 395/500\n",
            "2/2 [==============================] - 0s 7ms/step - loss: 28.5525 - mae: 28.5525\n",
            "Epoch 396/500\n",
            "2/2 [==============================] - 0s 6ms/step - loss: 8.3867 - mae: 8.3867\n",
            "Epoch 397/500\n",
            "2/2 [==============================] - 0s 6ms/step - loss: 10.8060 - mae: 10.8060\n",
            "Epoch 398/500\n",
            "2/2 [==============================] - 0s 8ms/step - loss: 7.5163 - mae: 7.5163\n",
            "Epoch 399/500\n",
            "2/2 [==============================] - 0s 5ms/step - loss: 16.0023 - mae: 16.0023\n",
            "Epoch 400/500\n",
            "2/2 [==============================] - 0s 9ms/step - loss: 6.8831 - mae: 6.8831\n",
            "Epoch 401/500\n",
            "2/2 [==============================] - 0s 5ms/step - loss: 8.5997 - mae: 8.5997\n",
            "Epoch 402/500\n",
            "2/2 [==============================] - 0s 5ms/step - loss: 15.2765 - mae: 15.2765\n",
            "Epoch 403/500\n",
            "2/2 [==============================] - 0s 5ms/step - loss: 12.2686 - mae: 12.2686\n",
            "Epoch 404/500\n",
            "2/2 [==============================] - 0s 6ms/step - loss: 22.7489 - mae: 22.7489\n",
            "Epoch 405/500\n",
            "2/2 [==============================] - 0s 6ms/step - loss: 18.5041 - mae: 18.5041\n",
            "Epoch 406/500\n",
            "2/2 [==============================] - 0s 5ms/step - loss: 7.2022 - mae: 7.2022\n",
            "Epoch 407/500\n",
            "2/2 [==============================] - 0s 7ms/step - loss: 12.9489 - mae: 12.9489\n",
            "Epoch 408/500\n",
            "2/2 [==============================] - 0s 7ms/step - loss: 5.7082 - mae: 5.7082\n",
            "Epoch 409/500\n",
            "2/2 [==============================] - 0s 6ms/step - loss: 31.8110 - mae: 31.8110\n",
            "Epoch 410/500\n",
            "2/2 [==============================] - 0s 7ms/step - loss: 8.7291 - mae: 8.7291\n",
            "Epoch 411/500\n",
            "2/2 [==============================] - 0s 5ms/step - loss: 15.1318 - mae: 15.1318\n",
            "Epoch 412/500\n",
            "2/2 [==============================] - 0s 7ms/step - loss: 22.2071 - mae: 22.2071\n",
            "Epoch 413/500\n",
            "2/2 [==============================] - 0s 5ms/step - loss: 15.9139 - mae: 15.9139\n",
            "Epoch 414/500\n",
            "2/2 [==============================] - 0s 8ms/step - loss: 6.0564 - mae: 6.0564\n",
            "Epoch 415/500\n",
            "2/2 [==============================] - 0s 6ms/step - loss: 13.2152 - mae: 13.2152\n",
            "Epoch 416/500\n",
            "2/2 [==============================] - 0s 7ms/step - loss: 27.4181 - mae: 27.4181\n",
            "Epoch 417/500\n",
            "2/2 [==============================] - 0s 7ms/step - loss: 10.6432 - mae: 10.6432\n",
            "Epoch 418/500\n",
            "2/2 [==============================] - 0s 7ms/step - loss: 12.8173 - mae: 12.8173\n",
            "Epoch 419/500\n",
            "2/2 [==============================] - 0s 7ms/step - loss: 15.8753 - mae: 15.8753\n",
            "Epoch 420/500\n",
            "2/2 [==============================] - 0s 6ms/step - loss: 24.7433 - mae: 24.7433\n",
            "Epoch 421/500\n",
            "2/2 [==============================] - 0s 8ms/step - loss: 17.4967 - mae: 17.4967\n",
            "Epoch 422/500\n",
            "2/2 [==============================] - 0s 5ms/step - loss: 8.7198 - mae: 8.7198\n",
            "Epoch 423/500\n",
            "2/2 [==============================] - 0s 5ms/step - loss: 24.9374 - mae: 24.9374\n",
            "Epoch 424/500\n",
            "2/2 [==============================] - 0s 7ms/step - loss: 16.0690 - mae: 16.0690\n",
            "Epoch 425/500\n",
            "2/2 [==============================] - 0s 6ms/step - loss: 7.4453 - mae: 7.4453\n",
            "Epoch 426/500\n",
            "2/2 [==============================] - 0s 5ms/step - loss: 21.4839 - mae: 21.4839\n",
            "Epoch 427/500\n",
            "2/2 [==============================] - 0s 5ms/step - loss: 6.6327 - mae: 6.6327\n",
            "Epoch 428/500\n",
            "2/2 [==============================] - 0s 6ms/step - loss: 13.7790 - mae: 13.7790\n",
            "Epoch 429/500\n",
            "2/2 [==============================] - 0s 9ms/step - loss: 11.7344 - mae: 11.7344\n",
            "Epoch 430/500\n",
            "2/2 [==============================] - 0s 6ms/step - loss: 10.4801 - mae: 10.4801\n",
            "Epoch 431/500\n",
            "2/2 [==============================] - 0s 9ms/step - loss: 12.0227 - mae: 12.0227\n",
            "Epoch 432/500\n",
            "2/2 [==============================] - 0s 6ms/step - loss: 7.5873 - mae: 7.5873\n",
            "Epoch 433/500\n",
            "2/2 [==============================] - 0s 7ms/step - loss: 14.7987 - mae: 14.7987\n",
            "Epoch 434/500\n",
            "2/2 [==============================] - 0s 8ms/step - loss: 17.9056 - mae: 17.9056\n",
            "Epoch 435/500\n",
            "2/2 [==============================] - 0s 6ms/step - loss: 9.7135 - mae: 9.7135\n",
            "Epoch 436/500\n",
            "2/2 [==============================] - 0s 9ms/step - loss: 29.1261 - mae: 29.1261\n",
            "Epoch 437/500\n",
            "2/2 [==============================] - 0s 6ms/step - loss: 9.2903 - mae: 9.2903\n",
            "Epoch 438/500\n",
            "2/2 [==============================] - 0s 7ms/step - loss: 12.6937 - mae: 12.6937\n",
            "Epoch 439/500\n",
            "2/2 [==============================] - 0s 9ms/step - loss: 33.5571 - mae: 33.5571\n",
            "Epoch 440/500\n",
            "2/2 [==============================] - 0s 7ms/step - loss: 14.9264 - mae: 14.9264\n",
            "Epoch 441/500\n",
            "2/2 [==============================] - 0s 8ms/step - loss: 17.3542 - mae: 17.3542\n",
            "Epoch 442/500\n",
            "2/2 [==============================] - 0s 6ms/step - loss: 22.0390 - mae: 22.0390\n",
            "Epoch 443/500\n",
            "2/2 [==============================] - 0s 8ms/step - loss: 24.2169 - mae: 24.2169\n",
            "Epoch 444/500\n",
            "2/2 [==============================] - 0s 6ms/step - loss: 11.5082 - mae: 11.5082\n",
            "Epoch 445/500\n",
            "2/2 [==============================] - 0s 7ms/step - loss: 14.7639 - mae: 14.7639\n",
            "Epoch 446/500\n",
            "2/2 [==============================] - 0s 5ms/step - loss: 17.7755 - mae: 17.7755\n",
            "Epoch 447/500\n",
            "2/2 [==============================] - 0s 6ms/step - loss: 5.6701 - mae: 5.6701\n",
            "Epoch 448/500\n",
            "2/2 [==============================] - 0s 7ms/step - loss: 9.5167 - mae: 9.5167\n",
            "Epoch 449/500\n",
            "2/2 [==============================] - 0s 6ms/step - loss: 14.1783 - mae: 14.1783\n",
            "Epoch 450/500\n",
            "2/2 [==============================] - 0s 9ms/step - loss: 16.9431 - mae: 16.9431\n",
            "Epoch 451/500\n",
            "2/2 [==============================] - 0s 7ms/step - loss: 14.3591 - mae: 14.3591\n",
            "Epoch 452/500\n",
            "2/2 [==============================] - 0s 6ms/step - loss: 30.7688 - mae: 30.7688\n",
            "Epoch 453/500\n",
            "2/2 [==============================] - 0s 6ms/step - loss: 8.4127 - mae: 8.4127\n",
            "Epoch 454/500\n",
            "2/2 [==============================] - 0s 9ms/step - loss: 27.6889 - mae: 27.6889\n",
            "Epoch 455/500\n",
            "2/2 [==============================] - 0s 6ms/step - loss: 9.8380 - mae: 9.8380\n",
            "Epoch 456/500\n",
            "2/2 [==============================] - 0s 9ms/step - loss: 14.6223 - mae: 14.6223\n",
            "Epoch 457/500\n",
            "2/2 [==============================] - 0s 6ms/step - loss: 17.7832 - mae: 17.7832\n",
            "Epoch 458/500\n",
            "2/2 [==============================] - 0s 6ms/step - loss: 14.0573 - mae: 14.0573\n",
            "Epoch 459/500\n",
            "2/2 [==============================] - 0s 8ms/step - loss: 25.9941 - mae: 25.9941\n",
            "Epoch 460/500\n",
            "2/2 [==============================] - 0s 5ms/step - loss: 14.8044 - mae: 14.8044\n",
            "Epoch 461/500\n",
            "2/2 [==============================] - 0s 7ms/step - loss: 12.0088 - mae: 12.0088\n",
            "Epoch 462/500\n",
            "2/2 [==============================] - 0s 6ms/step - loss: 13.3033 - mae: 13.3033\n",
            "Epoch 463/500\n",
            "2/2 [==============================] - 0s 7ms/step - loss: 29.5237 - mae: 29.5237\n",
            "Epoch 464/500\n",
            "2/2 [==============================] - 0s 6ms/step - loss: 3.4565 - mae: 3.4565\n",
            "Epoch 465/500\n",
            "2/2 [==============================] - 0s 6ms/step - loss: 15.1896 - mae: 15.1896\n",
            "Epoch 466/500\n",
            "2/2 [==============================] - 0s 5ms/step - loss: 20.7781 - mae: 20.7781\n",
            "Epoch 467/500\n",
            "2/2 [==============================] - 0s 5ms/step - loss: 30.6624 - mae: 30.6624\n",
            "Epoch 468/500\n",
            "2/2 [==============================] - 0s 5ms/step - loss: 11.1223 - mae: 11.1223\n",
            "Epoch 469/500\n",
            "2/2 [==============================] - 0s 4ms/step - loss: 12.9246 - mae: 12.9246\n",
            "Epoch 470/500\n",
            "2/2 [==============================] - 0s 5ms/step - loss: 3.5538 - mae: 3.5538\n",
            "Epoch 471/500\n",
            "2/2 [==============================] - 0s 7ms/step - loss: 42.1233 - mae: 42.1233\n",
            "Epoch 472/500\n",
            "2/2 [==============================] - 0s 8ms/step - loss: 3.8822 - mae: 3.8822\n",
            "Epoch 473/500\n",
            "2/2 [==============================] - 0s 6ms/step - loss: 16.1377 - mae: 16.1377\n",
            "Epoch 474/500\n",
            "2/2 [==============================] - 0s 5ms/step - loss: 38.9277 - mae: 38.9277\n",
            "Epoch 475/500\n",
            "2/2 [==============================] - 0s 6ms/step - loss: 15.7850 - mae: 15.7850\n",
            "Epoch 476/500\n",
            "2/2 [==============================] - 0s 6ms/step - loss: 13.4783 - mae: 13.4783\n",
            "Epoch 477/500\n",
            "2/2 [==============================] - 0s 6ms/step - loss: 29.8420 - mae: 29.8420\n",
            "Epoch 478/500\n",
            "2/2 [==============================] - 0s 7ms/step - loss: 4.3354 - mae: 4.3354\n",
            "Epoch 479/500\n",
            "2/2 [==============================] - 0s 8ms/step - loss: 13.6316 - mae: 13.6316\n",
            "Epoch 480/500\n",
            "2/2 [==============================] - 0s 6ms/step - loss: 20.3134 - mae: 20.3134\n",
            "Epoch 481/500\n",
            "2/2 [==============================] - 0s 5ms/step - loss: 24.3740 - mae: 24.3740\n",
            "Epoch 482/500\n",
            "2/2 [==============================] - 0s 9ms/step - loss: 13.1932 - mae: 13.1932\n",
            "Epoch 483/500\n",
            "2/2 [==============================] - 0s 5ms/step - loss: 8.8344 - mae: 8.8344\n",
            "Epoch 484/500\n",
            "2/2 [==============================] - 0s 6ms/step - loss: 27.9816 - mae: 27.9816\n",
            "Epoch 485/500\n",
            "2/2 [==============================] - 0s 6ms/step - loss: 8.2743 - mae: 8.2743\n",
            "Epoch 486/500\n",
            "2/2 [==============================] - 0s 6ms/step - loss: 7.1471 - mae: 7.1471\n",
            "Epoch 487/500\n",
            "2/2 [==============================] - 0s 5ms/step - loss: 12.1794 - mae: 12.1794\n",
            "Epoch 488/500\n",
            "2/2 [==============================] - 0s 5ms/step - loss: 27.9031 - mae: 27.9031\n",
            "Epoch 489/500\n",
            "2/2 [==============================] - 0s 7ms/step - loss: 4.4874 - mae: 4.4874\n",
            "Epoch 490/500\n",
            "2/2 [==============================] - 0s 9ms/step - loss: 7.6419 - mae: 7.6419\n",
            "Epoch 491/500\n",
            "2/2 [==============================] - 0s 8ms/step - loss: 19.2574 - mae: 19.2574\n",
            "Epoch 492/500\n",
            "2/2 [==============================] - 0s 8ms/step - loss: 6.8029 - mae: 6.8029\n",
            "Epoch 493/500\n",
            "2/2 [==============================] - 0s 5ms/step - loss: 18.7176 - mae: 18.7176\n",
            "Epoch 494/500\n",
            "2/2 [==============================] - 0s 4ms/step - loss: 19.1622 - mae: 19.1622\n",
            "Epoch 495/500\n",
            "2/2 [==============================] - 0s 6ms/step - loss: 5.7141 - mae: 5.7141\n",
            "Epoch 496/500\n",
            "2/2 [==============================] - 0s 6ms/step - loss: 5.9570 - mae: 5.9570\n",
            "Epoch 497/500\n",
            "2/2 [==============================] - 0s 8ms/step - loss: 12.4834 - mae: 12.4834\n",
            "Epoch 498/500\n",
            "2/2 [==============================] - 0s 5ms/step - loss: 6.3540 - mae: 6.3540\n",
            "Epoch 499/500\n",
            "2/2 [==============================] - 0s 6ms/step - loss: 15.7979 - mae: 15.7979\n",
            "Epoch 500/500\n",
            "2/2 [==============================] - 0s 8ms/step - loss: 14.3458 - mae: 14.3458\n"
          ]
        },
        {
          "output_type": "execute_result",
          "data": {
            "text/plain": [
              "<keras.callbacks.History at 0x7f195d2a0c10>"
            ]
          },
          "metadata": {},
          "execution_count": 210
        }
      ]
    },
    {
      "cell_type": "code",
      "source": [
        "y_preds_3 = model_3.predict(x_test)"
      ],
      "metadata": {
        "colab": {
          "base_uri": "https://localhost:8080/"
        },
        "id": "R6KDkDaeXM--",
        "outputId": "fd318aed-b22a-4b20-fef0-b12fea425bee"
      },
      "execution_count": 211,
      "outputs": [
        {
          "output_type": "stream",
          "name": "stdout",
          "text": [
            "1/1 [==============================] - 0s 38ms/step\n"
          ]
        }
      ]
    },
    {
      "cell_type": "code",
      "source": [
        "plot_predictions(y_preds_3)"
      ],
      "metadata": {
        "colab": {
          "base_uri": "https://localhost:8080/",
          "height": 428
        },
        "id": "Q__NZ__qXXC2",
        "outputId": "2cc210e8-44ab-4102-f470-191cc6697c22"
      },
      "execution_count": 212,
      "outputs": [
        {
          "output_type": "display_data",
          "data": {
            "text/plain": [
              "<Figure size 720x504 with 1 Axes>"
            ],
            "image/png": "[encoded data removed]"
          },
          "metadata": {
            "needs_background": "light"
          }
        }
      ]
    },
    {
      "cell_type": "code",
      "source": [
        "mae_3 = mae(y_test,tf.squeeze(y_preds_3))\n",
        "mse_3 = mse(y_test,tf.squeeze(y_preds_3))\n",
        "mae_3,mse_3"
      ],
      "metadata": {
        "colab": {
          "base_uri": "https://localhost:8080/"
        },
        "id": "P6NbNfEjXiTn",
        "outputId": "0aa41101-1e46-42b8-9a1a-24735ab45843"
      },
      "execution_count": 214,
      "outputs": [
        {
          "output_type": "execute_result",
          "data": {
            "text/plain": [
              "(<tf.Tensor: shape=(), dtype=float32, numpy=67.77531>,\n",
              " <tf.Tensor: shape=(), dtype=float32, numpy=4677.7793>)"
            ]
          },
          "metadata": {},
          "execution_count": 214
        }
      ]
    },
    {
      "cell_type": "code",
      "source": [],
      "metadata": {
        "id": "W2ZYb1aGX6jc"
      },
      "execution_count": null,
      "outputs": []
    }
  ]
}
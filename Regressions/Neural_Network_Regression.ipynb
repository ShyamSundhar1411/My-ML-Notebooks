{
  "nbformat": 4,
  "nbformat_minor": 0,
  "metadata": {
    "colab": {
      "provenance": [],
      "collapsed_sections": [],
      "authorship_tag": "ABX9TyMSgB2rxnMYOZ6EraVoxsuN",
      "include_colab_link": true
    },
    "kernelspec": {
      "name": "python3",
      "display_name": "Python 3"
    },
    "language_info": {
      "name": "python"
    },
    "accelerator": "GPU"
  },
  "cells": [
    {
      "cell_type": "markdown",
      "metadata": {
        "id": "view-in-github",
        "colab_type": "text"
      },
      "source": [
        "<a href=\"https://colab.research.google.com/github/ShyamSundhar1411/My-ML-Notebooks/blob/master/Regressions/Neural_Network_Regression.ipynb\" target=\"_parent\"><img src=\"https://colab.research.google.com/assets/colab-badge.svg\" alt=\"Open In Colab\"/></a>"
      ]
    },
    {
      "cell_type": "markdown",
      "source": [
        "## Introduction to Regression with Neural Networks in TensorFlow\n",
        "Predicting a number"
      ],
      "metadata": {
        "id": "BkAEgpoR0VD1"
      }
    },
    {
      "cell_type": "code",
      "source": [
        "import tensorflow as tf\n",
        "print(tf.__version__)"
      ],
      "metadata": {
        "colab": {
          "base_uri": "https://localhost:8080/"
        },
        "id": "qeSQe1hs1EGg",
        "outputId": "905308e9-59f2-4d0a-d450-6ea435709798"
      },
      "execution_count": 1,
      "outputs": [
        {
          "output_type": "stream",
          "name": "stdout",
          "text": [
            "2.8.2\n"
          ]
        }
      ]
    },
    {
      "cell_type": "markdown",
      "source": [
        "## Creating data to view and fit"
      ],
      "metadata": {
        "id": "J7tOP26N1HFx"
      }
    },
    {
      "cell_type": "code",
      "source": [
        "import numpy as np\n",
        "import matplotlib.pyplot as plt\n",
        "np.random.seed(42)\n",
        "X = np.array([-7.0,-4.0,-1.0,2.0,5.0,8.0,11.0,14.0])\n",
        "Y = np.array([3.0,6.0,9.0,12.0,15.0,18.0,21.0,24.0])"
      ],
      "metadata": {
        "id": "hFIlrCUY1Rzn"
      },
      "execution_count": 2,
      "outputs": []
    },
    {
      "cell_type": "code",
      "source": [
        "plt.scatter(X,Y)"
      ],
      "metadata": {
        "colab": {
          "base_uri": "https://localhost:8080/",
          "height": 286
        },
        "id": "km_YtONK1nZp",
        "outputId": "ca2e532a-13ef-481c-96ad-9b868f8cd620"
      },
      "execution_count": 3,
      "outputs": [
        {
          "output_type": "execute_result",
          "data": {
            "text/plain": [
              "<matplotlib.collections.PathCollection at 0x7fe002a72ad0>"
            ]
          },
          "metadata": {},
          "execution_count": 3
        },
        {
          "output_type": "display_data",
          "data": {
            "text/plain": [
              "<Figure size 432x288 with 1 Axes>"
            ],
            "image/png": "[encoded data removed]"
          },
          "metadata": {
            "needs_background": "light"
          }
        }
      ]
    },
    {
      "cell_type": "code",
      "source": [
        "Y == X+10"
      ],
      "metadata": {
        "colab": {
          "base_uri": "https://localhost:8080/"
        },
        "id": "9CJ75QlJ1n9q",
        "outputId": "b78299e0-814e-44b6-b195-71dfe042287e"
      },
      "execution_count": 4,
      "outputs": [
        {
          "output_type": "execute_result",
          "data": {
            "text/plain": [
              "array([ True,  True,  True,  True,  True,  True,  True,  True])"
            ]
          },
          "metadata": {},
          "execution_count": 4
        }
      ]
    },
    {
      "cell_type": "markdown",
      "source": [
        "## Input and Output Shapes"
      ],
      "metadata": {
        "id": "chqG4iVY3Xv6"
      }
    },
    {
      "cell_type": "code",
      "source": [
        "## Tensor for Housing Price Prediction Problem\n",
        "house_info = tf.constant(['bedroom','bathroom','garage'])\n",
        "house_price = tf.constant([937000])"
      ],
      "metadata": {
        "id": "TtED-OiJ3jfi"
      },
      "execution_count": 5,
      "outputs": []
    },
    {
      "cell_type": "code",
      "source": [
        "house_info.shape"
      ],
      "metadata": {
        "colab": {
          "base_uri": "https://localhost:8080/"
        },
        "id": "vStYFkwZ37L9",
        "outputId": "e247f000-ec23-4ccb-a54c-98324a2f057b"
      },
      "execution_count": 6,
      "outputs": [
        {
          "output_type": "execute_result",
          "data": {
            "text/plain": [
              "TensorShape([3])"
            ]
          },
          "metadata": {},
          "execution_count": 6
        }
      ]
    },
    {
      "cell_type": "code",
      "source": [
        "house_price.shape"
      ],
      "metadata": {
        "colab": {
          "base_uri": "https://localhost:8080/"
        },
        "id": "vkcE4O4z39K3",
        "outputId": "d679756e-b949-4439-804e-1870617a04c8"
      },
      "execution_count": 7,
      "outputs": [
        {
          "output_type": "execute_result",
          "data": {
            "text/plain": [
              "TensorShape([1])"
            ]
          },
          "metadata": {},
          "execution_count": 7
        }
      ]
    },
    {
      "cell_type": "code",
      "source": [
        "input_shape = X.shape"
      ],
      "metadata": {
        "id": "b50IVOJK3-oR"
      },
      "execution_count": 8,
      "outputs": []
    },
    {
      "cell_type": "code",
      "source": [
        "output_shape = Y.shape"
      ],
      "metadata": {
        "id": "NmmJSTFr4D_m"
      },
      "execution_count": 9,
      "outputs": []
    },
    {
      "cell_type": "code",
      "source": [
        "input_shape,output_shape"
      ],
      "metadata": {
        "colab": {
          "base_uri": "https://localhost:8080/"
        },
        "id": "LOBofXJS4Fjf",
        "outputId": "07943edb-b442-48bc-cb8b-72635f3b367e"
      },
      "execution_count": 10,
      "outputs": [
        {
          "output_type": "execute_result",
          "data": {
            "text/plain": [
              "((8,), (8,))"
            ]
          },
          "metadata": {},
          "execution_count": 10
        }
      ]
    },
    {
      "cell_type": "code",
      "source": [],
      "metadata": {
        "id": "Sh_Aam_04Gav"
      },
      "execution_count": 10,
      "outputs": []
    },
    {
      "cell_type": "code",
      "source": [
        "x = tf.constant(X)\n",
        "y = tf.constant(Y)"
      ],
      "metadata": {
        "id": "MjuBPuMA4Iyp"
      },
      "execution_count": 11,
      "outputs": []
    },
    {
      "cell_type": "code",
      "source": [
        "plt.scatter(X,Y)"
      ],
      "metadata": {
        "colab": {
          "base_uri": "https://localhost:8080/",
          "height": 286
        },
        "id": "uqNKUdht9Jv6",
        "outputId": "083d7222-9af4-460b-aaa6-69825e36f8b6"
      },
      "execution_count": 12,
      "outputs": [
        {
          "output_type": "execute_result",
          "data": {
            "text/plain": [
              "<matplotlib.collections.PathCollection at 0x7fe002a72950>"
            ]
          },
          "metadata": {},
          "execution_count": 12
        },
        {
          "output_type": "display_data",
          "data": {
            "text/plain": [
              "<Figure size 432x288 with 1 Axes>"
            ],
            "image/png": "[encoded data removed]"
          },
          "metadata": {
            "needs_background": "light"
          }
        }
      ]
    },
    {
      "cell_type": "markdown",
      "source": [
        "## Improving our model\n"
      ],
      "metadata": {
        "id": "H8bldqTbEeX1"
      }
    },
    {
      "cell_type": "code",
      "source": [
        "#Creating a model\n",
        "tf.random.set_seed(42)\n",
        " #Create a model using Sequential API\n",
        "model = tf.keras.Sequential([\n",
        "    tf.keras.layers.Dense(100,activation = \"relu\"),\n",
        "    tf.keras.layers.Dense(100,activation = \"relu\"),\n",
        "    tf.keras.layers.Dense(100,activation = \"relu\"),\n",
        "    tf.keras.layers.Dense(1)\n",
        "])\n",
        "model.compile(loss = tf.keras.losses.mae, optimizer = tf.keras.optimizers.Adam(lr = 0.0001),metrics = ['mae'])\n",
        "model.fit(tf.expand_dims(X,axis = 1),y,epochs = 100) "
      ],
      "metadata": {
        "colab": {
          "base_uri": "https://localhost:8080/"
        },
        "id": "t2Kb2uAd9Lbo",
        "outputId": "f6691357-ae9e-481d-916f-7d15e31f150c"
      },
      "execution_count": 13,
      "outputs": [
        {
          "output_type": "stream",
          "name": "stdout",
          "text": [
            "Epoch 1/100\n"
          ]
        },
        {
          "output_type": "stream",
          "name": "stderr",
          "text": [
            "/usr/local/lib/python3.7/dist-packages/keras/optimizer_v2/adam.py:105: UserWarning: The `lr` argument is deprecated, use `learning_rate` instead.\n",
            "  super(Adam, self).__init__(name, **kwargs)\n"
          ]
        },
        {
          "output_type": "stream",
          "name": "stdout",
          "text": [
            "1/1 [==============================] - 3s 3s/step - loss: 13.3031 - mae: 13.3031\n",
            "Epoch 2/100\n",
            "1/1 [==============================] - 0s 10ms/step - loss: 13.2643 - mae: 13.2643\n",
            "Epoch 3/100\n",
            "1/1 [==============================] - 0s 17ms/step - loss: 13.2256 - mae: 13.2256\n",
            "Epoch 4/100\n",
            "1/1 [==============================] - 0s 10ms/step - loss: 13.1872 - mae: 13.1872\n",
            "Epoch 5/100\n",
            "1/1 [==============================] - 0s 9ms/step - loss: 13.1507 - mae: 13.1507\n",
            "Epoch 6/100\n",
            "1/1 [==============================] - 0s 8ms/step - loss: 13.1142 - mae: 13.1142\n",
            "Epoch 7/100\n",
            "1/1 [==============================] - 0s 9ms/step - loss: 13.0778 - mae: 13.0778\n",
            "Epoch 8/100\n",
            "1/1 [==============================] - 0s 8ms/step - loss: 13.0413 - mae: 13.0413\n",
            "Epoch 9/100\n",
            "1/1 [==============================] - 0s 9ms/step - loss: 13.0048 - mae: 13.0048\n",
            "Epoch 10/100\n",
            "1/1 [==============================] - 0s 10ms/step - loss: 12.9683 - mae: 12.9683\n",
            "Epoch 11/100\n",
            "1/1 [==============================] - 0s 9ms/step - loss: 12.9320 - mae: 12.9320\n",
            "Epoch 12/100\n",
            "1/1 [==============================] - 0s 7ms/step - loss: 12.8958 - mae: 12.8958\n",
            "Epoch 13/100\n",
            "1/1 [==============================] - 0s 8ms/step - loss: 12.8596 - mae: 12.8596\n",
            "Epoch 14/100\n",
            "1/1 [==============================] - 0s 9ms/step - loss: 12.8235 - mae: 12.8235\n",
            "Epoch 15/100\n",
            "1/1 [==============================] - 0s 8ms/step - loss: 12.7874 - mae: 12.7874\n",
            "Epoch 16/100\n",
            "1/1 [==============================] - 0s 15ms/step - loss: 12.7514 - mae: 12.7514\n",
            "Epoch 17/100\n",
            "1/1 [==============================] - 0s 9ms/step - loss: 12.7154 - mae: 12.7154\n",
            "Epoch 18/100\n",
            "1/1 [==============================] - 0s 9ms/step - loss: 12.6793 - mae: 12.6793\n",
            "Epoch 19/100\n",
            "1/1 [==============================] - 0s 10ms/step - loss: 12.6433 - mae: 12.6433\n",
            "Epoch 20/100\n",
            "1/1 [==============================] - 0s 13ms/step - loss: 12.6073 - mae: 12.6073\n",
            "Epoch 21/100\n",
            "1/1 [==============================] - 0s 7ms/step - loss: 12.5716 - mae: 12.5716\n",
            "Epoch 22/100\n",
            "1/1 [==============================] - 0s 11ms/step - loss: 12.5359 - mae: 12.5359\n",
            "Epoch 23/100\n",
            "1/1 [==============================] - 0s 7ms/step - loss: 12.5002 - mae: 12.5002\n",
            "Epoch 24/100\n",
            "1/1 [==============================] - 0s 7ms/step - loss: 12.4648 - mae: 12.4648\n",
            "Epoch 25/100\n",
            "1/1 [==============================] - 0s 9ms/step - loss: 12.4294 - mae: 12.4294\n",
            "Epoch 26/100\n",
            "1/1 [==============================] - 0s 6ms/step - loss: 12.3939 - mae: 12.3939\n",
            "Epoch 27/100\n",
            "1/1 [==============================] - 0s 9ms/step - loss: 12.3584 - mae: 12.3584\n",
            "Epoch 28/100\n",
            "1/1 [==============================] - 0s 12ms/step - loss: 12.3230 - mae: 12.3230\n",
            "Epoch 29/100\n",
            "1/1 [==============================] - 0s 12ms/step - loss: 12.2877 - mae: 12.2877\n",
            "Epoch 30/100\n",
            "1/1 [==============================] - 0s 10ms/step - loss: 12.2525 - mae: 12.2525\n",
            "Epoch 31/100\n",
            "1/1 [==============================] - 0s 7ms/step - loss: 12.2173 - mae: 12.2173\n",
            "Epoch 32/100\n",
            "1/1 [==============================] - 0s 11ms/step - loss: 12.1824 - mae: 12.1824\n",
            "Epoch 33/100\n",
            "1/1 [==============================] - 0s 6ms/step - loss: 12.1492 - mae: 12.1492\n",
            "Epoch 34/100\n",
            "1/1 [==============================] - 0s 7ms/step - loss: 12.1160 - mae: 12.1160\n",
            "Epoch 35/100\n",
            "1/1 [==============================] - 0s 8ms/step - loss: 12.0825 - mae: 12.0825\n",
            "Epoch 36/100\n",
            "1/1 [==============================] - 0s 6ms/step - loss: 12.0484 - mae: 12.0484\n",
            "Epoch 37/100\n",
            "1/1 [==============================] - 0s 8ms/step - loss: 12.0138 - mae: 12.0138\n",
            "Epoch 38/100\n",
            "1/1 [==============================] - 0s 6ms/step - loss: 11.9790 - mae: 11.9790\n",
            "Epoch 39/100\n",
            "1/1 [==============================] - 0s 8ms/step - loss: 11.9445 - mae: 11.9445\n",
            "Epoch 40/100\n",
            "1/1 [==============================] - 0s 7ms/step - loss: 11.9099 - mae: 11.9099\n",
            "Epoch 41/100\n",
            "1/1 [==============================] - 0s 7ms/step - loss: 11.8751 - mae: 11.8751\n",
            "Epoch 42/100\n",
            "1/1 [==============================] - 0s 7ms/step - loss: 11.8399 - mae: 11.8399\n",
            "Epoch 43/100\n",
            "1/1 [==============================] - 0s 7ms/step - loss: 11.8046 - mae: 11.8046\n",
            "Epoch 44/100\n",
            "1/1 [==============================] - 0s 9ms/step - loss: 11.7693 - mae: 11.7693\n",
            "Epoch 45/100\n",
            "1/1 [==============================] - 0s 9ms/step - loss: 11.7342 - mae: 11.7342\n",
            "Epoch 46/100\n",
            "1/1 [==============================] - 0s 14ms/step - loss: 11.6988 - mae: 11.6988\n",
            "Epoch 47/100\n",
            "1/1 [==============================] - 0s 8ms/step - loss: 11.6631 - mae: 11.6631\n",
            "Epoch 48/100\n",
            "1/1 [==============================] - 0s 9ms/step - loss: 11.6270 - mae: 11.6270\n",
            "Epoch 49/100\n",
            "1/1 [==============================] - 0s 7ms/step - loss: 11.5907 - mae: 11.5907\n",
            "Epoch 50/100\n",
            "1/1 [==============================] - 0s 10ms/step - loss: 11.5541 - mae: 11.5541\n",
            "Epoch 51/100\n",
            "1/1 [==============================] - 0s 7ms/step - loss: 11.5171 - mae: 11.5171\n",
            "Epoch 52/100\n",
            "1/1 [==============================] - 0s 11ms/step - loss: 11.4797 - mae: 11.4797\n",
            "Epoch 53/100\n",
            "1/1 [==============================] - 0s 7ms/step - loss: 11.4417 - mae: 11.4417\n",
            "Epoch 54/100\n",
            "1/1 [==============================] - 0s 7ms/step - loss: 11.4034 - mae: 11.4034\n",
            "Epoch 55/100\n",
            "1/1 [==============================] - 0s 10ms/step - loss: 11.3647 - mae: 11.3647\n",
            "Epoch 56/100\n",
            "1/1 [==============================] - 0s 6ms/step - loss: 11.3254 - mae: 11.3254\n",
            "Epoch 57/100\n",
            "1/1 [==============================] - 0s 6ms/step - loss: 11.2855 - mae: 11.2855\n",
            "Epoch 58/100\n",
            "1/1 [==============================] - 0s 6ms/step - loss: 11.2452 - mae: 11.2452\n",
            "Epoch 59/100\n",
            "1/1 [==============================] - 0s 8ms/step - loss: 11.2044 - mae: 11.2044\n",
            "Epoch 60/100\n",
            "1/1 [==============================] - 0s 13ms/step - loss: 11.1634 - mae: 11.1634\n",
            "Epoch 61/100\n",
            "1/1 [==============================] - 0s 7ms/step - loss: 11.1224 - mae: 11.1224\n",
            "Epoch 62/100\n",
            "1/1 [==============================] - 0s 6ms/step - loss: 11.0819 - mae: 11.0819\n",
            "Epoch 63/100\n",
            "1/1 [==============================] - 0s 6ms/step - loss: 11.0416 - mae: 11.0416\n",
            "Epoch 64/100\n",
            "1/1 [==============================] - 0s 10ms/step - loss: 11.0009 - mae: 11.0009\n",
            "Epoch 65/100\n",
            "1/1 [==============================] - 0s 9ms/step - loss: 10.9597 - mae: 10.9597\n",
            "Epoch 66/100\n",
            "1/1 [==============================] - 0s 7ms/step - loss: 10.9183 - mae: 10.9183\n",
            "Epoch 67/100\n",
            "1/1 [==============================] - 0s 9ms/step - loss: 10.8764 - mae: 10.8764\n",
            "Epoch 68/100\n",
            "1/1 [==============================] - 0s 7ms/step - loss: 10.8342 - mae: 10.8342\n",
            "Epoch 69/100\n",
            "1/1 [==============================] - 0s 8ms/step - loss: 10.7916 - mae: 10.7916\n",
            "Epoch 70/100\n",
            "1/1 [==============================] - 0s 8ms/step - loss: 10.7535 - mae: 10.7535\n",
            "Epoch 71/100\n",
            "1/1 [==============================] - 0s 6ms/step - loss: 10.7212 - mae: 10.7212\n",
            "Epoch 72/100\n",
            "1/1 [==============================] - 0s 8ms/step - loss: 10.6886 - mae: 10.6886\n",
            "Epoch 73/100\n",
            "1/1 [==============================] - 0s 7ms/step - loss: 10.6559 - mae: 10.6559\n",
            "Epoch 74/100\n",
            "1/1 [==============================] - 0s 6ms/step - loss: 10.6230 - mae: 10.6230\n",
            "Epoch 75/100\n",
            "1/1 [==============================] - 0s 11ms/step - loss: 10.5902 - mae: 10.5902\n",
            "Epoch 76/100\n",
            "1/1 [==============================] - 0s 6ms/step - loss: 10.5573 - mae: 10.5573\n",
            "Epoch 77/100\n",
            "1/1 [==============================] - 0s 6ms/step - loss: 10.5240 - mae: 10.5240\n",
            "Epoch 78/100\n",
            "1/1 [==============================] - 0s 6ms/step - loss: 10.4904 - mae: 10.4904\n",
            "Epoch 79/100\n",
            "1/1 [==============================] - 0s 6ms/step - loss: 10.4566 - mae: 10.4566\n",
            "Epoch 80/100\n",
            "1/1 [==============================] - 0s 8ms/step - loss: 10.4224 - mae: 10.4224\n",
            "Epoch 81/100\n",
            "1/1 [==============================] - 0s 6ms/step - loss: 10.3879 - mae: 10.3879\n",
            "Epoch 82/100\n",
            "1/1 [==============================] - 0s 6ms/step - loss: 10.3532 - mae: 10.3532\n",
            "Epoch 83/100\n",
            "1/1 [==============================] - 0s 8ms/step - loss: 10.3181 - mae: 10.3181\n",
            "Epoch 84/100\n",
            "1/1 [==============================] - 0s 7ms/step - loss: 10.2829 - mae: 10.2829\n",
            "Epoch 85/100\n",
            "1/1 [==============================] - 0s 6ms/step - loss: 10.2476 - mae: 10.2476\n",
            "Epoch 86/100\n",
            "1/1 [==============================] - 0s 6ms/step - loss: 10.2127 - mae: 10.2127\n",
            "Epoch 87/100\n",
            "1/1 [==============================] - 0s 8ms/step - loss: 10.1774 - mae: 10.1774\n",
            "Epoch 88/100\n",
            "1/1 [==============================] - 0s 7ms/step - loss: 10.1418 - mae: 10.1418\n",
            "Epoch 89/100\n",
            "1/1 [==============================] - 0s 7ms/step - loss: 10.1061 - mae: 10.1061\n",
            "Epoch 90/100\n",
            "1/1 [==============================] - 0s 9ms/step - loss: 10.0701 - mae: 10.0701\n",
            "Epoch 91/100\n",
            "1/1 [==============================] - 0s 6ms/step - loss: 10.0338 - mae: 10.0338\n",
            "Epoch 92/100\n",
            "1/1 [==============================] - 0s 6ms/step - loss: 9.9971 - mae: 9.9971\n",
            "Epoch 93/100\n",
            "1/1 [==============================] - 0s 6ms/step - loss: 9.9601 - mae: 9.9601\n",
            "Epoch 94/100\n",
            "1/1 [==============================] - 0s 7ms/step - loss: 9.9228 - mae: 9.9228\n",
            "Epoch 95/100\n",
            "1/1 [==============================] - 0s 7ms/step - loss: 9.8851 - mae: 9.8851\n",
            "Epoch 96/100\n",
            "1/1 [==============================] - 0s 8ms/step - loss: 9.8470 - mae: 9.8470\n",
            "Epoch 97/100\n",
            "1/1 [==============================] - 0s 7ms/step - loss: 9.8087 - mae: 9.8087\n",
            "Epoch 98/100\n",
            "1/1 [==============================] - 0s 8ms/step - loss: 9.7699 - mae: 9.7699\n",
            "Epoch 99/100\n",
            "1/1 [==============================] - 0s 6ms/step - loss: 9.7309 - mae: 9.7309\n",
            "Epoch 100/100\n",
            "1/1 [==============================] - 0s 8ms/step - loss: 9.6916 - mae: 9.6916\n"
          ]
        },
        {
          "output_type": "execute_result",
          "data": {
            "text/plain": [
              "<keras.callbacks.History at 0x7fdff043f4d0>"
            ]
          },
          "metadata": {},
          "execution_count": 13
        }
      ]
    },
    {
      "cell_type": "code",
      "source": [
        "y_pred = model.predict([17.0])\n",
        "y_pred"
      ],
      "metadata": {
        "colab": {
          "base_uri": "https://localhost:8080/"
        },
        "id": "-bVx7VKOEaOg",
        "outputId": "0d33e922-4809-44aa-e7b9-5829ee3480c5"
      },
      "execution_count": 14,
      "outputs": [
        {
          "output_type": "execute_result",
          "data": {
            "text/plain": [
              "array([[10.712205]], dtype=float32)"
            ]
          },
          "metadata": {},
          "execution_count": 14
        }
      ]
    },
    {
      "cell_type": "code",
      "source": [
        "#Create a model using Sequential API\n",
        "model = tf.keras.Sequential([\n",
        "    tf.keras.layers.Dense(50,activation = \"relu\"),\n",
        "    tf.keras.layers.Dense(1)\n",
        "])\n",
        "model.compile(loss = tf.keras.losses.mae, optimizer = tf.keras.optimizers.SGD(),metrics = ['mae'])\n",
        "model.fit(tf.expand_dims(X,axis = 1),y,epochs = 100) "
      ],
      "metadata": {
        "colab": {
          "base_uri": "https://localhost:8080/"
        },
        "id": "6mxbekBmWCMZ",
        "outputId": "3906f50b-4efe-45fe-c77b-e6206cc8e117"
      },
      "execution_count": 15,
      "outputs": [
        {
          "output_type": "stream",
          "name": "stdout",
          "text": [
            "Epoch 1/100\n",
            "1/1 [==============================] - 0s 481ms/step - loss: 12.1456 - mae: 12.1456\n",
            "Epoch 2/100\n",
            "1/1 [==============================] - 0s 9ms/step - loss: 11.5538 - mae: 11.5538\n",
            "Epoch 3/100\n",
            "1/1 [==============================] - 0s 8ms/step - loss: 10.9405 - mae: 10.9405\n",
            "Epoch 4/100\n",
            "1/1 [==============================] - 0s 10ms/step - loss: 10.3009 - mae: 10.3009\n",
            "Epoch 5/100\n",
            "1/1 [==============================] - 0s 7ms/step - loss: 9.6325 - mae: 9.6325\n",
            "Epoch 6/100\n",
            "1/1 [==============================] - 0s 7ms/step - loss: 8.9314 - mae: 8.9314\n",
            "Epoch 7/100\n",
            "1/1 [==============================] - 0s 7ms/step - loss: 8.1937 - mae: 8.1937\n",
            "Epoch 8/100\n",
            "1/1 [==============================] - 0s 7ms/step - loss: 7.3997 - mae: 7.3997\n",
            "Epoch 9/100\n",
            "1/1 [==============================] - 0s 9ms/step - loss: 6.5612 - mae: 6.5612\n",
            "Epoch 10/100\n",
            "1/1 [==============================] - 0s 9ms/step - loss: 5.6630 - mae: 5.6630\n",
            "Epoch 11/100\n",
            "1/1 [==============================] - 0s 7ms/step - loss: 4.6956 - mae: 4.6956\n",
            "Epoch 12/100\n",
            "1/1 [==============================] - 0s 8ms/step - loss: 4.2610 - mae: 4.2610\n",
            "Epoch 13/100\n",
            "1/1 [==============================] - 0s 7ms/step - loss: 4.2586 - mae: 4.2586\n",
            "Epoch 14/100\n",
            "1/1 [==============================] - 0s 7ms/step - loss: 4.1631 - mae: 4.1631\n",
            "Epoch 15/100\n",
            "1/1 [==============================] - 0s 10ms/step - loss: 4.1946 - mae: 4.1946\n",
            "Epoch 16/100\n",
            "1/1 [==============================] - 0s 9ms/step - loss: 4.0891 - mae: 4.0891\n",
            "Epoch 17/100\n",
            "1/1 [==============================] - 0s 8ms/step - loss: 4.1034 - mae: 4.1034\n",
            "Epoch 18/100\n",
            "1/1 [==============================] - 0s 30ms/step - loss: 4.0234 - mae: 4.0234\n",
            "Epoch 19/100\n",
            "1/1 [==============================] - 0s 12ms/step - loss: 4.0029 - mae: 4.0029\n",
            "Epoch 20/100\n",
            "1/1 [==============================] - 0s 17ms/step - loss: 3.9563 - mae: 3.9563\n",
            "Epoch 21/100\n",
            "1/1 [==============================] - 0s 11ms/step - loss: 3.9147 - mae: 3.9147\n",
            "Epoch 22/100\n",
            "1/1 [==============================] - 0s 10ms/step - loss: 3.9407 - mae: 3.9407\n",
            "Epoch 23/100\n",
            "1/1 [==============================] - 0s 10ms/step - loss: 3.8891 - mae: 3.8891\n",
            "Epoch 24/100\n",
            "1/1 [==============================] - 0s 10ms/step - loss: 3.9518 - mae: 3.9518\n",
            "Epoch 25/100\n",
            "1/1 [==============================] - 0s 10ms/step - loss: 3.8861 - mae: 3.8861\n",
            "Epoch 26/100\n",
            "1/1 [==============================] - 0s 10ms/step - loss: 3.9452 - mae: 3.9452\n",
            "Epoch 27/100\n",
            "1/1 [==============================] - 0s 11ms/step - loss: 3.8940 - mae: 3.8940\n",
            "Epoch 28/100\n",
            "1/1 [==============================] - 0s 18ms/step - loss: 3.9197 - mae: 3.9197\n",
            "Epoch 29/100\n",
            "1/1 [==============================] - 0s 10ms/step - loss: 3.9021 - mae: 3.9021\n",
            "Epoch 30/100\n",
            "1/1 [==============================] - 0s 16ms/step - loss: 3.8941 - mae: 3.8941\n",
            "Epoch 31/100\n",
            "1/1 [==============================] - 0s 13ms/step - loss: 3.9102 - mae: 3.9102\n",
            "Epoch 32/100\n",
            "1/1 [==============================] - 0s 10ms/step - loss: 3.8686 - mae: 3.8686\n",
            "Epoch 33/100\n",
            "1/1 [==============================] - 0s 10ms/step - loss: 3.9247 - mae: 3.9247\n",
            "Epoch 34/100\n",
            "1/1 [==============================] - 0s 12ms/step - loss: 3.8562 - mae: 3.8562\n",
            "Epoch 35/100\n",
            "1/1 [==============================] - 0s 18ms/step - loss: 3.9239 - mae: 3.9239\n",
            "Epoch 36/100\n",
            "1/1 [==============================] - 0s 11ms/step - loss: 3.8643 - mae: 3.8643\n",
            "Epoch 37/100\n",
            "1/1 [==============================] - 0s 15ms/step - loss: 3.8982 - mae: 3.8982\n",
            "Epoch 38/100\n",
            "1/1 [==============================] - 0s 10ms/step - loss: 3.8725 - mae: 3.8725\n",
            "Epoch 39/100\n",
            "1/1 [==============================] - 0s 10ms/step - loss: 3.8723 - mae: 3.8723\n",
            "Epoch 40/100\n",
            "1/1 [==============================] - 0s 5ms/step - loss: 3.8809 - mae: 3.8809\n",
            "Epoch 41/100\n",
            "1/1 [==============================] - 0s 14ms/step - loss: 3.8492 - mae: 3.8492\n",
            "Epoch 42/100\n",
            "1/1 [==============================] - 0s 17ms/step - loss: 3.8956 - mae: 3.8956\n",
            "Epoch 43/100\n",
            "1/1 [==============================] - 0s 16ms/step - loss: 3.8274 - mae: 3.8274\n",
            "Epoch 44/100\n",
            "1/1 [==============================] - 0s 11ms/step - loss: 3.9013 - mae: 3.9013\n",
            "Epoch 45/100\n",
            "1/1 [==============================] - 0s 16ms/step - loss: 3.8357 - mae: 3.8357\n",
            "Epoch 46/100\n",
            "1/1 [==============================] - 0s 13ms/step - loss: 3.8753 - mae: 3.8753\n",
            "Epoch 47/100\n",
            "1/1 [==============================] - 0s 8ms/step - loss: 3.8442 - mae: 3.8442\n",
            "Epoch 48/100\n",
            "1/1 [==============================] - 0s 8ms/step - loss: 3.8492 - mae: 3.8492\n",
            "Epoch 49/100\n",
            "1/1 [==============================] - 0s 12ms/step - loss: 3.8527 - mae: 3.8527\n",
            "Epoch 50/100\n",
            "1/1 [==============================] - 0s 19ms/step - loss: 3.8283 - mae: 3.8283\n",
            "Epoch 51/100\n",
            "1/1 [==============================] - 0s 8ms/step - loss: 3.8675 - mae: 3.8675\n",
            "Epoch 52/100\n",
            "1/1 [==============================] - 0s 8ms/step - loss: 3.8019 - mae: 3.8019\n",
            "Epoch 53/100\n",
            "1/1 [==============================] - 0s 7ms/step - loss: 3.8763 - mae: 3.8763\n",
            "Epoch 54/100\n",
            "1/1 [==============================] - 0s 8ms/step - loss: 3.8082 - mae: 3.8082\n",
            "Epoch 55/100\n",
            "1/1 [==============================] - 0s 8ms/step - loss: 3.8512 - mae: 3.8512\n",
            "Epoch 56/100\n",
            "1/1 [==============================] - 0s 10ms/step - loss: 3.8169 - mae: 3.8169\n",
            "Epoch 57/100\n",
            "1/1 [==============================] - 0s 8ms/step - loss: 3.8248 - mae: 3.8248\n",
            "Epoch 58/100\n",
            "1/1 [==============================] - 0s 9ms/step - loss: 3.8273 - mae: 3.8273\n",
            "Epoch 59/100\n",
            "1/1 [==============================] - 0s 10ms/step - loss: 3.8037 - mae: 3.8037\n",
            "Epoch 60/100\n",
            "1/1 [==============================] - 0s 19ms/step - loss: 3.8406 - mae: 3.8406\n",
            "Epoch 61/100\n",
            "1/1 [==============================] - 0s 9ms/step - loss: 3.7769 - mae: 3.7769\n",
            "Epoch 62/100\n",
            "1/1 [==============================] - 0s 11ms/step - loss: 3.8496 - mae: 3.8496\n",
            "Epoch 63/100\n",
            "1/1 [==============================] - 0s 53ms/step - loss: 3.7818 - mae: 3.7818\n",
            "Epoch 64/100\n",
            "1/1 [==============================] - 0s 20ms/step - loss: 3.8258 - mae: 3.8258\n",
            "Epoch 65/100\n",
            "1/1 [==============================] - 0s 13ms/step - loss: 3.7907 - mae: 3.7907\n",
            "Epoch 66/100\n",
            "1/1 [==============================] - 0s 10ms/step - loss: 3.7991 - mae: 3.7991\n",
            "Epoch 67/100\n",
            "1/1 [==============================] - 0s 9ms/step - loss: 3.8035 - mae: 3.8035\n",
            "Epoch 68/100\n",
            "1/1 [==============================] - 0s 9ms/step - loss: 3.7776 - mae: 3.7776\n",
            "Epoch 69/100\n",
            "1/1 [==============================] - 0s 18ms/step - loss: 3.8148 - mae: 3.8148\n",
            "Epoch 70/100\n",
            "1/1 [==============================] - 0s 15ms/step - loss: 3.7505 - mae: 3.7505\n",
            "Epoch 71/100\n",
            "1/1 [==============================] - 0s 22ms/step - loss: 3.8240 - mae: 3.8240\n",
            "Epoch 72/100\n",
            "1/1 [==============================] - 0s 17ms/step - loss: 3.7565 - mae: 3.7565\n",
            "Epoch 73/100\n",
            "1/1 [==============================] - 0s 10ms/step - loss: 3.7991 - mae: 3.7991\n",
            "Epoch 74/100\n",
            "1/1 [==============================] - 0s 11ms/step - loss: 3.7655 - mae: 3.7655\n",
            "Epoch 75/100\n",
            "1/1 [==============================] - 0s 11ms/step - loss: 3.7726 - mae: 3.7726\n",
            "Epoch 76/100\n",
            "1/1 [==============================] - 0s 10ms/step - loss: 3.7807 - mae: 3.7807\n",
            "Epoch 77/100\n",
            "1/1 [==============================] - 0s 21ms/step - loss: 3.7503 - mae: 3.7503\n",
            "Epoch 78/100\n",
            "1/1 [==============================] - 0s 10ms/step - loss: 3.7900 - mae: 3.7900\n",
            "Epoch 79/100\n",
            "1/1 [==============================] - 0s 13ms/step - loss: 3.7231 - mae: 3.7231\n",
            "Epoch 80/100\n",
            "1/1 [==============================] - 0s 11ms/step - loss: 3.7983 - mae: 3.7983\n",
            "Epoch 81/100\n",
            "1/1 [==============================] - 0s 13ms/step - loss: 3.7322 - mae: 3.7322\n",
            "Epoch 82/100\n",
            "1/1 [==============================] - 0s 10ms/step - loss: 3.7711 - mae: 3.7711\n",
            "Epoch 83/100\n",
            "1/1 [==============================] - 0s 10ms/step - loss: 3.7414 - mae: 3.7414\n",
            "Epoch 84/100\n",
            "1/1 [==============================] - 0s 9ms/step - loss: 3.7462 - mae: 3.7462\n",
            "Epoch 85/100\n",
            "1/1 [==============================] - 0s 10ms/step - loss: 3.7568 - mae: 3.7568\n",
            "Epoch 86/100\n",
            "1/1 [==============================] - 0s 21ms/step - loss: 3.7216 - mae: 3.7216\n",
            "Epoch 87/100\n",
            "1/1 [==============================] - 0s 13ms/step - loss: 3.7663 - mae: 3.7663\n",
            "Epoch 88/100\n",
            "1/1 [==============================] - 0s 10ms/step - loss: 3.6996 - mae: 3.6996\n",
            "Epoch 89/100\n",
            "1/1 [==============================] - 0s 8ms/step - loss: 3.7692 - mae: 3.7692\n",
            "Epoch 90/100\n",
            "1/1 [==============================] - 0s 14ms/step - loss: 3.7089 - mae: 3.7089\n",
            "Epoch 91/100\n",
            "1/1 [==============================] - 0s 31ms/step - loss: 3.7418 - mae: 3.7418\n",
            "Epoch 92/100\n",
            "1/1 [==============================] - 0s 9ms/step - loss: 3.7184 - mae: 3.7184\n",
            "Epoch 93/100\n",
            "1/1 [==============================] - 0s 11ms/step - loss: 3.7183 - mae: 3.7183\n",
            "Epoch 94/100\n",
            "1/1 [==============================] - 0s 6ms/step - loss: 3.7339 - mae: 3.7339\n",
            "Epoch 95/100\n",
            "1/1 [==============================] - 0s 12ms/step - loss: 3.6916 - mae: 3.6916\n",
            "Epoch 96/100\n",
            "1/1 [==============================] - 0s 11ms/step - loss: 3.7436 - mae: 3.7436\n",
            "Epoch 97/100\n",
            "1/1 [==============================] - 0s 12ms/step - loss: 3.6771 - mae: 3.6771\n",
            "Epoch 98/100\n",
            "1/1 [==============================] - 0s 11ms/step - loss: 3.7389 - mae: 3.7389\n",
            "Epoch 99/100\n",
            "1/1 [==============================] - 0s 11ms/step - loss: 3.6866 - mae: 3.6866\n",
            "Epoch 100/100\n",
            "1/1 [==============================] - 0s 13ms/step - loss: 3.7111 - mae: 3.7111\n"
          ]
        },
        {
          "output_type": "execute_result",
          "data": {
            "text/plain": [
              "<keras.callbacks.History at 0x7fdff03b54d0>"
            ]
          },
          "metadata": {},
          "execution_count": 15
        }
      ]
    },
    {
      "cell_type": "code",
      "source": [
        "model.predict([17.0])"
      ],
      "metadata": {
        "colab": {
          "base_uri": "https://localhost:8080/"
        },
        "id": "pGCwUq6LXux6",
        "outputId": "2cc9d585-ab71-46cf-924c-56f2a4eaef68"
      },
      "execution_count": 16,
      "outputs": [
        {
          "output_type": "execute_result",
          "data": {
            "text/plain": [
              "array([[32.45491]], dtype=float32)"
            ]
          },
          "metadata": {},
          "execution_count": 16
        }
      ]
    },
    {
      "cell_type": "code",
      "source": [
        "model = tf.keras.Sequential([\n",
        "    tf.keras.layers.Dense(50,activation = None),\n",
        "    tf.keras.layers.Dense(1)\n",
        "])\n",
        "model.compile(loss = tf.keras.losses.mae,optimizer = tf.keras.optimizers.Adam(lr = 0.01),metrics = 'mae')\n",
        "model.fit(tf.expand_dims(X,axis = 1),y,epochs = 100)"
      ],
      "metadata": {
        "colab": {
          "base_uri": "https://localhost:8080/"
        },
        "id": "gEG-g-ipXxTf",
        "outputId": "60a74c95-6bab-4be6-d3c7-d3e933f13ecd"
      },
      "execution_count": 17,
      "outputs": [
        {
          "output_type": "stream",
          "name": "stdout",
          "text": [
            "Epoch 1/100\n",
            "1/1 [==============================] - 1s 575ms/step - loss: 12.5419 - mae: 12.5419\n",
            "Epoch 2/100\n",
            "1/1 [==============================] - 0s 24ms/step - loss: 11.8482 - mae: 11.8482\n",
            "Epoch 3/100\n",
            "1/1 [==============================] - 0s 13ms/step - loss: 11.1529 - mae: 11.1529\n",
            "Epoch 4/100\n",
            "1/1 [==============================] - 0s 17ms/step - loss: 10.4547 - mae: 10.4547\n",
            "Epoch 5/100\n",
            "1/1 [==============================] - 0s 14ms/step - loss: 9.7511 - mae: 9.7511\n",
            "Epoch 6/100\n",
            "1/1 [==============================] - 0s 9ms/step - loss: 9.0391 - mae: 9.0391\n",
            "Epoch 7/100\n",
            "1/1 [==============================] - 0s 8ms/step - loss: 8.3156 - mae: 8.3156\n",
            "Epoch 8/100\n",
            "1/1 [==============================] - 0s 10ms/step - loss: 7.5774 - mae: 7.5774\n",
            "Epoch 9/100\n",
            "1/1 [==============================] - 0s 18ms/step - loss: 6.9147 - mae: 6.9147\n",
            "Epoch 10/100\n",
            "1/1 [==============================] - 0s 9ms/step - loss: 6.9004 - mae: 6.9004\n",
            "Epoch 11/100\n",
            "1/1 [==============================] - 0s 19ms/step - loss: 7.1699 - mae: 7.1699\n",
            "Epoch 12/100\n",
            "1/1 [==============================] - 0s 26ms/step - loss: 7.3235 - mae: 7.3235\n",
            "Epoch 13/100\n",
            "1/1 [==============================] - 0s 16ms/step - loss: 7.3803 - mae: 7.3803\n",
            "Epoch 14/100\n",
            "1/1 [==============================] - 0s 17ms/step - loss: 7.3573 - mae: 7.3573\n",
            "Epoch 15/100\n",
            "1/1 [==============================] - 0s 9ms/step - loss: 7.2281 - mae: 7.2281\n",
            "Epoch 16/100\n",
            "1/1 [==============================] - 0s 8ms/step - loss: 7.0552 - mae: 7.0552\n",
            "Epoch 17/100\n",
            "1/1 [==============================] - 0s 9ms/step - loss: 6.8469 - mae: 6.8469\n",
            "Epoch 18/100\n",
            "1/1 [==============================] - 0s 8ms/step - loss: 6.6106 - mae: 6.6106\n",
            "Epoch 19/100\n",
            "1/1 [==============================] - 0s 9ms/step - loss: 6.3524 - mae: 6.3524\n",
            "Epoch 20/100\n",
            "1/1 [==============================] - 0s 7ms/step - loss: 6.2389 - mae: 6.2389\n",
            "Epoch 21/100\n",
            "1/1 [==============================] - 0s 8ms/step - loss: 6.1921 - mae: 6.1921\n",
            "Epoch 22/100\n",
            "1/1 [==============================] - 0s 8ms/step - loss: 6.2627 - mae: 6.2627\n",
            "Epoch 23/100\n",
            "1/1 [==============================] - 0s 8ms/step - loss: 6.3081 - mae: 6.3081\n",
            "Epoch 24/100\n",
            "1/1 [==============================] - 0s 9ms/step - loss: 6.2463 - mae: 6.2463\n",
            "Epoch 25/100\n",
            "1/1 [==============================] - 0s 9ms/step - loss: 6.0915 - mae: 6.0915\n",
            "Epoch 26/100\n",
            "1/1 [==============================] - 0s 7ms/step - loss: 5.8537 - mae: 5.8537\n",
            "Epoch 27/100\n",
            "1/1 [==============================] - 0s 9ms/step - loss: 5.7249 - mae: 5.7249\n",
            "Epoch 28/100\n",
            "1/1 [==============================] - 0s 9ms/step - loss: 5.6191 - mae: 5.6191\n",
            "Epoch 29/100\n",
            "1/1 [==============================] - 0s 10ms/step - loss: 5.5762 - mae: 5.5762\n",
            "Epoch 30/100\n",
            "1/1 [==============================] - 0s 9ms/step - loss: 5.5763 - mae: 5.5763\n",
            "Epoch 31/100\n",
            "1/1 [==============================] - 0s 9ms/step - loss: 5.5271 - mae: 5.5271\n",
            "Epoch 32/100\n",
            "1/1 [==============================] - 0s 13ms/step - loss: 5.4323 - mae: 5.4323\n",
            "Epoch 33/100\n",
            "1/1 [==============================] - 0s 15ms/step - loss: 5.2957 - mae: 5.2957\n",
            "Epoch 34/100\n",
            "1/1 [==============================] - 0s 8ms/step - loss: 5.1208 - mae: 5.1208\n",
            "Epoch 35/100\n",
            "1/1 [==============================] - 0s 8ms/step - loss: 4.9317 - mae: 4.9317\n",
            "Epoch 36/100\n",
            "1/1 [==============================] - 0s 9ms/step - loss: 4.8349 - mae: 4.8349\n",
            "Epoch 37/100\n",
            "1/1 [==============================] - 0s 13ms/step - loss: 4.7305 - mae: 4.7305\n",
            "Epoch 38/100\n",
            "1/1 [==============================] - 0s 15ms/step - loss: 4.6183 - mae: 4.6183\n",
            "Epoch 39/100\n",
            "1/1 [==============================] - 0s 14ms/step - loss: 4.5151 - mae: 4.5151\n",
            "Epoch 40/100\n",
            "1/1 [==============================] - 0s 10ms/step - loss: 4.3605 - mae: 4.3605\n",
            "Epoch 41/100\n",
            "1/1 [==============================] - 0s 9ms/step - loss: 4.2152 - mae: 4.2152\n",
            "Epoch 42/100\n",
            "1/1 [==============================] - 0s 11ms/step - loss: 4.0621 - mae: 4.0621\n",
            "Epoch 43/100\n",
            "1/1 [==============================] - 0s 11ms/step - loss: 3.9008 - mae: 3.9008\n",
            "Epoch 44/100\n",
            "1/1 [==============================] - 0s 9ms/step - loss: 3.7310 - mae: 3.7310\n",
            "Epoch 45/100\n",
            "1/1 [==============================] - 0s 10ms/step - loss: 3.5526 - mae: 3.5526\n",
            "Epoch 46/100\n",
            "1/1 [==============================] - 0s 8ms/step - loss: 3.4089 - mae: 3.4089\n",
            "Epoch 47/100\n",
            "1/1 [==============================] - 0s 8ms/step - loss: 3.2256 - mae: 3.2256\n",
            "Epoch 48/100\n",
            "1/1 [==============================] - 0s 10ms/step - loss: 2.9968 - mae: 2.9968\n",
            "Epoch 49/100\n",
            "1/1 [==============================] - 0s 13ms/step - loss: 2.8021 - mae: 2.8021\n",
            "Epoch 50/100\n",
            "1/1 [==============================] - 0s 10ms/step - loss: 2.5959 - mae: 2.5959\n",
            "Epoch 51/100\n",
            "1/1 [==============================] - 0s 17ms/step - loss: 2.3780 - mae: 2.3780\n",
            "Epoch 52/100\n",
            "1/1 [==============================] - 0s 10ms/step - loss: 2.1483 - mae: 2.1483\n",
            "Epoch 53/100\n",
            "1/1 [==============================] - 0s 20ms/step - loss: 1.9120 - mae: 1.9120\n",
            "Epoch 54/100\n",
            "1/1 [==============================] - 0s 11ms/step - loss: 1.6413 - mae: 1.6413\n",
            "Epoch 55/100\n",
            "1/1 [==============================] - 0s 7ms/step - loss: 1.5063 - mae: 1.5063\n",
            "Epoch 56/100\n",
            "1/1 [==============================] - 0s 6ms/step - loss: 1.3078 - mae: 1.3078\n",
            "Epoch 57/100\n",
            "1/1 [==============================] - 0s 13ms/step - loss: 0.8984 - mae: 0.8984\n",
            "Epoch 58/100\n",
            "1/1 [==============================] - 0s 7ms/step - loss: 0.6735 - mae: 0.6735\n",
            "Epoch 59/100\n",
            "1/1 [==============================] - 0s 12ms/step - loss: 0.4490 - mae: 0.4490\n",
            "Epoch 60/100\n",
            "1/1 [==============================] - 0s 10ms/step - loss: 0.1118 - mae: 0.1118\n",
            "Epoch 61/100\n",
            "1/1 [==============================] - 0s 14ms/step - loss: 0.6302 - mae: 0.6302\n",
            "Epoch 62/100\n",
            "1/1 [==============================] - 0s 13ms/step - loss: 0.9813 - mae: 0.9813\n",
            "Epoch 63/100\n",
            "1/1 [==============================] - 0s 8ms/step - loss: 1.0661 - mae: 1.0661\n",
            "Epoch 64/100\n",
            "1/1 [==============================] - 0s 11ms/step - loss: 0.9175 - mae: 0.9175\n",
            "Epoch 65/100\n",
            "1/1 [==============================] - 0s 9ms/step - loss: 0.7160 - mae: 0.7160\n",
            "Epoch 66/100\n",
            "1/1 [==============================] - 0s 8ms/step - loss: 0.9166 - mae: 0.9166\n",
            "Epoch 67/100\n",
            "1/1 [==============================] - 0s 11ms/step - loss: 0.8695 - mae: 0.8695\n",
            "Epoch 68/100\n",
            "1/1 [==============================] - 0s 8ms/step - loss: 0.5910 - mae: 0.5910\n",
            "Epoch 69/100\n",
            "1/1 [==============================] - 0s 9ms/step - loss: 0.5656 - mae: 0.5656\n",
            "Epoch 70/100\n",
            "1/1 [==============================] - 0s 9ms/step - loss: 0.5140 - mae: 0.5140\n",
            "Epoch 71/100\n",
            "1/1 [==============================] - 0s 16ms/step - loss: 0.2767 - mae: 0.2767\n",
            "Epoch 72/100\n",
            "1/1 [==============================] - 0s 12ms/step - loss: 0.1738 - mae: 0.1738\n",
            "Epoch 73/100\n",
            "1/1 [==============================] - 0s 9ms/step - loss: 0.2283 - mae: 0.2283\n",
            "Epoch 74/100\n",
            "1/1 [==============================] - 0s 7ms/step - loss: 0.3036 - mae: 0.3036\n",
            "Epoch 75/100\n",
            "1/1 [==============================] - 0s 8ms/step - loss: 0.3438 - mae: 0.3438\n",
            "Epoch 76/100\n",
            "1/1 [==============================] - 0s 9ms/step - loss: 0.4089 - mae: 0.4089\n",
            "Epoch 77/100\n",
            "1/1 [==============================] - 0s 14ms/step - loss: 0.4105 - mae: 0.4105\n",
            "Epoch 78/100\n",
            "1/1 [==============================] - 0s 7ms/step - loss: 0.3072 - mae: 0.3072\n",
            "Epoch 79/100\n",
            "1/1 [==============================] - 0s 7ms/step - loss: 0.2806 - mae: 0.2806\n",
            "Epoch 80/100\n",
            "1/1 [==============================] - 0s 11ms/step - loss: 0.1903 - mae: 0.1903\n",
            "Epoch 81/100\n",
            "1/1 [==============================] - 0s 12ms/step - loss: 0.0598 - mae: 0.0598\n",
            "Epoch 82/100\n",
            "1/1 [==============================] - 0s 40ms/step - loss: 0.2450 - mae: 0.2450\n",
            "Epoch 83/100\n",
            "1/1 [==============================] - 0s 20ms/step - loss: 0.2756 - mae: 0.2756\n",
            "Epoch 84/100\n",
            "1/1 [==============================] - 0s 14ms/step - loss: 0.2594 - mae: 0.2594\n",
            "Epoch 85/100\n",
            "1/1 [==============================] - 0s 14ms/step - loss: 0.2853 - mae: 0.2853\n",
            "Epoch 86/100\n",
            "1/1 [==============================] - 0s 12ms/step - loss: 0.3076 - mae: 0.3076\n",
            "Epoch 87/100\n",
            "1/1 [==============================] - 0s 14ms/step - loss: 0.2657 - mae: 0.2657\n",
            "Epoch 88/100\n",
            "1/1 [==============================] - 0s 14ms/step - loss: 0.1947 - mae: 0.1947\n",
            "Epoch 89/100\n",
            "1/1 [==============================] - 0s 14ms/step - loss: 0.1061 - mae: 0.1061\n",
            "Epoch 90/100\n",
            "1/1 [==============================] - 0s 17ms/step - loss: 0.2570 - mae: 0.2570\n",
            "Epoch 91/100\n",
            "1/1 [==============================] - 0s 12ms/step - loss: 0.2568 - mae: 0.2568\n",
            "Epoch 92/100\n",
            "1/1 [==============================] - 0s 17ms/step - loss: 0.2211 - mae: 0.2211\n",
            "Epoch 93/100\n",
            "1/1 [==============================] - 0s 18ms/step - loss: 0.2879 - mae: 0.2879\n",
            "Epoch 94/100\n",
            "1/1 [==============================] - 0s 15ms/step - loss: 0.1996 - mae: 0.1996\n",
            "Epoch 95/100\n",
            "1/1 [==============================] - 0s 12ms/step - loss: 0.2713 - mae: 0.2713\n",
            "Epoch 96/100\n",
            "1/1 [==============================] - 0s 15ms/step - loss: 0.2325 - mae: 0.2325\n",
            "Epoch 97/100\n",
            "1/1 [==============================] - 0s 15ms/step - loss: 0.0982 - mae: 0.0982\n",
            "Epoch 98/100\n",
            "1/1 [==============================] - 0s 15ms/step - loss: 0.0978 - mae: 0.0978\n",
            "Epoch 99/100\n",
            "1/1 [==============================] - 0s 15ms/step - loss: 0.2181 - mae: 0.2181\n",
            "Epoch 100/100\n",
            "1/1 [==============================] - 0s 15ms/step - loss: 0.2213 - mae: 0.2213\n"
          ]
        },
        {
          "output_type": "execute_result",
          "data": {
            "text/plain": [
              "<keras.callbacks.History at 0x7fdff03b5350>"
            ]
          },
          "metadata": {},
          "execution_count": 17
        }
      ]
    },
    {
      "cell_type": "code",
      "source": [
        "model.predict([25.0])"
      ],
      "metadata": {
        "colab": {
          "base_uri": "https://localhost:8080/"
        },
        "id": "jXo6sry-ZUVz",
        "outputId": "54f0b589-1181-40bd-a7a5-1b2a69904f60"
      },
      "execution_count": 18,
      "outputs": [
        {
          "output_type": "execute_result",
          "data": {
            "text/plain": [
              "array([[34.76519]], dtype=float32)"
            ]
          },
          "metadata": {},
          "execution_count": 18
        }
      ]
    },
    {
      "cell_type": "markdown",
      "source": [
        "## Evalutating a model"
      ],
      "metadata": {
        "id": "1R7j0ukKZez2"
      }
    },
    {
      "cell_type": "code",
      "source": [
        " X = tf.range(-100,100,4)"
      ],
      "metadata": {
        "id": "5mDYyDsQbNQ9"
      },
      "execution_count": 19,
      "outputs": []
    },
    {
      "cell_type": "code",
      "source": [
        "X"
      ],
      "metadata": {
        "colab": {
          "base_uri": "https://localhost:8080/"
        },
        "id": "M4wkOaURfUtc",
        "outputId": "6c2d660a-6c9a-489f-e98e-05edd010e3cc"
      },
      "execution_count": 20,
      "outputs": [
        {
          "output_type": "execute_result",
          "data": {
            "text/plain": [
              "<tf.Tensor: shape=(50,), dtype=int32, numpy=\n",
              "array([-100,  -96,  -92,  -88,  -84,  -80,  -76,  -72,  -68,  -64,  -60,\n",
              "        -56,  -52,  -48,  -44,  -40,  -36,  -32,  -28,  -24,  -20,  -16,\n",
              "        -12,   -8,   -4,    0,    4,    8,   12,   16,   20,   24,   28,\n",
              "         32,   36,   40,   44,   48,   52,   56,   60,   64,   68,   72,\n",
              "         76,   80,   84,   88,   92,   96], dtype=int32)>"
            ]
          },
          "metadata": {},
          "execution_count": 20
        }
      ]
    },
    {
      "cell_type": "code",
      "source": [
        "y = X+10\n",
        "y"
      ],
      "metadata": {
        "colab": {
          "base_uri": "https://localhost:8080/"
        },
        "id": "1aRuhWcxfWAT",
        "outputId": "698ecf59-8a35-4ab3-b059-49598433cd56"
      },
      "execution_count": 23,
      "outputs": [
        {
          "output_type": "execute_result",
          "data": {
            "text/plain": [
              "<tf.Tensor: shape=(50,), dtype=int32, numpy=\n",
              "array([-90, -86, -82, -78, -74, -70, -66, -62, -58, -54, -50, -46, -42,\n",
              "       -38, -34, -30, -26, -22, -18, -14, -10,  -6,  -2,   2,   6,  10,\n",
              "        14,  18,  22,  26,  30,  34,  38,  42,  46,  50,  54,  58,  62,\n",
              "        66,  70,  74,  78,  82,  86,  90,  94,  98, 102, 106], dtype=int32)>"
            ]
          },
          "metadata": {},
          "execution_count": 23
        }
      ]
    },
    {
      "cell_type": "code",
      "source": [
        "import matplotlib.pyplot as plt\n",
        "plt.scatter(X,y)"
      ],
      "metadata": {
        "colab": {
          "base_uri": "https://localhost:8080/",
          "height": 282
        },
        "id": "B1lk-kUvfmlc",
        "outputId": "6814ff2d-3dda-49e0-8230-77002b2eb71c"
      },
      "execution_count": 25,
      "outputs": [
        {
          "output_type": "execute_result",
          "data": {
            "text/plain": [
              "<matplotlib.collections.PathCollection at 0x7fdf5ed69a50>"
            ]
          },
          "metadata": {},
          "execution_count": 25
        },
        {
          "output_type": "display_data",
          "data": {
            "text/plain": [
              "<Figure size 432x288 with 1 Axes>"
            ],
            "image/png": "[encoded data removed]"
          },
          "metadata": {
            "needs_background": "light"
          }
        }
      ]
    },
    {
      "cell_type": "code",
      "source": [
        "#Fit Model\n",
        "model.fit(X,y,epochs = 100)"
      ],
      "metadata": {
        "colab": {
          "base_uri": "https://localhost:8080/"
        },
        "id": "sRRf2xAxfYpX",
        "outputId": "959ce977-56f0-4227-98b8-c3390c0e356d"
      },
      "execution_count": 24,
      "outputs": [
        {
          "output_type": "stream",
          "name": "stdout",
          "text": [
            "Epoch 1/100\n",
            "2/2 [==============================] - 0s 13ms/step - loss: 3.1525 - mae: 3.1525\n",
            "Epoch 2/100\n",
            "2/2 [==============================] - 0s 18ms/step - loss: 4.8813 - mae: 4.8813\n",
            "Epoch 3/100\n",
            "2/2 [==============================] - 0s 8ms/step - loss: 11.1628 - mae: 11.1628\n",
            "Epoch 4/100\n",
            "2/2 [==============================] - 0s 8ms/step - loss: 11.4806 - mae: 11.4806\n",
            "Epoch 5/100\n",
            "2/2 [==============================] - 0s 7ms/step - loss: 3.9132 - mae: 3.9132\n",
            "Epoch 6/100\n",
            "2/2 [==============================] - 0s 8ms/step - loss: 15.6269 - mae: 15.6269\n",
            "Epoch 7/100\n",
            "2/2 [==============================] - 0s 7ms/step - loss: 11.4483 - mae: 11.4483\n",
            "Epoch 8/100\n",
            "2/2 [==============================] - 0s 7ms/step - loss: 3.8405 - mae: 3.8405\n",
            "Epoch 9/100\n",
            "2/2 [==============================] - 0s 9ms/step - loss: 14.0591 - mae: 14.0591\n",
            "Epoch 10/100\n",
            "2/2 [==============================] - 0s 8ms/step - loss: 12.6159 - mae: 12.6159\n",
            "Epoch 11/100\n",
            "2/2 [==============================] - 0s 10ms/step - loss: 3.9905 - mae: 3.9905\n",
            "Epoch 12/100\n",
            "2/2 [==============================] - 0s 11ms/step - loss: 7.4250 - mae: 7.4250\n",
            "Epoch 13/100\n",
            "2/2 [==============================] - 0s 7ms/step - loss: 5.8775 - mae: 5.8775\n",
            "Epoch 14/100\n",
            "2/2 [==============================] - 0s 10ms/step - loss: 2.1636 - mae: 2.1636\n",
            "Epoch 15/100\n",
            "2/2 [==============================] - 0s 7ms/step - loss: 3.2248 - mae: 3.2248\n",
            "Epoch 16/100\n",
            "2/2 [==============================] - 0s 7ms/step - loss: 2.0991 - mae: 2.0991\n",
            "Epoch 17/100\n",
            "2/2 [==============================] - 0s 7ms/step - loss: 1.4684 - mae: 1.4684\n",
            "Epoch 18/100\n",
            "2/2 [==============================] - 0s 13ms/step - loss: 3.3395 - mae: 3.3395\n",
            "Epoch 19/100\n",
            "2/2 [==============================] - 0s 8ms/step - loss: 2.0136 - mae: 2.0136\n",
            "Epoch 20/100\n",
            "2/2 [==============================] - 0s 7ms/step - loss: 2.1066 - mae: 2.1066\n",
            "Epoch 21/100\n",
            "2/2 [==============================] - 0s 10ms/step - loss: 0.7776 - mae: 0.7776\n",
            "Epoch 22/100\n",
            "2/2 [==============================] - 0s 12ms/step - loss: 0.8547 - mae: 0.8547\n",
            "Epoch 23/100\n",
            "2/2 [==============================] - 0s 7ms/step - loss: 1.5452 - mae: 1.5452\n",
            "Epoch 24/100\n",
            "2/2 [==============================] - 0s 9ms/step - loss: 1.0778 - mae: 1.0778\n",
            "Epoch 25/100\n",
            "2/2 [==============================] - 0s 7ms/step - loss: 1.6151 - mae: 1.6151\n",
            "Epoch 26/100\n",
            "2/2 [==============================] - 0s 7ms/step - loss: 1.0870 - mae: 1.0870\n",
            "Epoch 27/100\n",
            "2/2 [==============================] - 0s 7ms/step - loss: 2.7057 - mae: 2.7057\n",
            "Epoch 28/100\n",
            "2/2 [==============================] - 0s 6ms/step - loss: 1.2209 - mae: 1.2209\n",
            "Epoch 29/100\n",
            "2/2 [==============================] - 0s 12ms/step - loss: 1.1187 - mae: 1.1187\n",
            "Epoch 30/100\n",
            "2/2 [==============================] - 0s 12ms/step - loss: 2.1807 - mae: 2.1807\n",
            "Epoch 31/100\n",
            "2/2 [==============================] - 0s 10ms/step - loss: 1.3833 - mae: 1.3833\n",
            "Epoch 32/100\n",
            "2/2 [==============================] - 0s 8ms/step - loss: 1.1316 - mae: 1.1316\n",
            "Epoch 33/100\n",
            "2/2 [==============================] - 0s 13ms/step - loss: 1.6470 - mae: 1.6470\n",
            "Epoch 34/100\n",
            "2/2 [==============================] - 0s 5ms/step - loss: 1.6389 - mae: 1.6389\n",
            "Epoch 35/100\n",
            "2/2 [==============================] - 0s 8ms/step - loss: 1.1556 - mae: 1.1556\n",
            "Epoch 36/100\n",
            "2/2 [==============================] - 0s 12ms/step - loss: 1.6834 - mae: 1.6834\n",
            "Epoch 37/100\n",
            "2/2 [==============================] - 0s 6ms/step - loss: 1.5901 - mae: 1.5901\n",
            "Epoch 38/100\n",
            "2/2 [==============================] - 0s 11ms/step - loss: 1.1804 - mae: 1.1804\n",
            "Epoch 39/100\n",
            "2/2 [==============================] - 0s 6ms/step - loss: 1.5269 - mae: 1.5269\n",
            "Epoch 40/100\n",
            "2/2 [==============================] - 0s 7ms/step - loss: 1.4435 - mae: 1.4435\n",
            "Epoch 41/100\n",
            "2/2 [==============================] - 0s 7ms/step - loss: 1.0850 - mae: 1.0850\n",
            "Epoch 42/100\n",
            "2/2 [==============================] - 0s 7ms/step - loss: 2.6019 - mae: 2.6019\n",
            "Epoch 43/100\n",
            "2/2 [==============================] - 0s 6ms/step - loss: 1.1630 - mae: 1.1630\n",
            "Epoch 44/100\n",
            "2/2 [==============================] - 0s 6ms/step - loss: 4.4466 - mae: 4.4466\n",
            "Epoch 45/100\n",
            "2/2 [==============================] - 0s 6ms/step - loss: 2.0390 - mae: 2.0390\n",
            "Epoch 46/100\n",
            "2/2 [==============================] - 0s 13ms/step - loss: 4.1709 - mae: 4.1709\n",
            "Epoch 47/100\n",
            "2/2 [==============================] - 0s 13ms/step - loss: 5.5192 - mae: 5.5192\n",
            "Epoch 48/100\n",
            "2/2 [==============================] - 0s 6ms/step - loss: 1.7975 - mae: 1.7975\n",
            "Epoch 49/100\n",
            "2/2 [==============================] - 0s 6ms/step - loss: 2.0332 - mae: 2.0332\n",
            "Epoch 50/100\n",
            "2/2 [==============================] - 0s 6ms/step - loss: 1.0540 - mae: 1.0540\n",
            "Epoch 51/100\n",
            "2/2 [==============================] - 0s 6ms/step - loss: 3.4881 - mae: 3.4881\n",
            "Epoch 52/100\n",
            "2/2 [==============================] - 0s 7ms/step - loss: 1.5733 - mae: 1.5733\n",
            "Epoch 53/100\n",
            "2/2 [==============================] - 0s 6ms/step - loss: 2.2301 - mae: 2.2301\n",
            "Epoch 54/100\n",
            "2/2 [==============================] - 0s 7ms/step - loss: 1.1993 - mae: 1.1993\n",
            "Epoch 55/100\n",
            "2/2 [==============================] - 0s 7ms/step - loss: 2.9136 - mae: 2.9136\n",
            "Epoch 56/100\n",
            "2/2 [==============================] - 0s 7ms/step - loss: 1.3070 - mae: 1.3070\n",
            "Epoch 57/100\n",
            "2/2 [==============================] - 0s 7ms/step - loss: 2.1017 - mae: 2.1017\n",
            "Epoch 58/100\n",
            "2/2 [==============================] - 0s 7ms/step - loss: 0.9573 - mae: 0.9573\n",
            "Epoch 59/100\n",
            "2/2 [==============================] - 0s 7ms/step - loss: 2.8058 - mae: 2.8058\n",
            "Epoch 60/100\n",
            "2/2 [==============================] - 0s 6ms/step - loss: 1.2581 - mae: 1.2581\n",
            "Epoch 61/100\n",
            "2/2 [==============================] - 0s 7ms/step - loss: 2.5961 - mae: 2.5961\n",
            "Epoch 62/100\n",
            "2/2 [==============================] - 0s 7ms/step - loss: 1.1895 - mae: 1.1895\n",
            "Epoch 63/100\n",
            "2/2 [==============================] - 0s 7ms/step - loss: 2.7509 - mae: 2.7509\n",
            "Epoch 64/100\n",
            "2/2 [==============================] - 0s 7ms/step - loss: 1.1839 - mae: 1.1839\n",
            "Epoch 65/100\n",
            "2/2 [==============================] - 0s 7ms/step - loss: 1.7944 - mae: 1.7944\n",
            "Epoch 66/100\n",
            "2/2 [==============================] - 0s 6ms/step - loss: 0.1634 - mae: 0.1634\n",
            "Epoch 67/100\n",
            "2/2 [==============================] - 0s 7ms/step - loss: 0.5992 - mae: 0.5992\n",
            "Epoch 68/100\n",
            "2/2 [==============================] - 0s 6ms/step - loss: 1.1303 - mae: 1.1303\n",
            "Epoch 69/100\n",
            "2/2 [==============================] - 0s 7ms/step - loss: 0.7067 - mae: 0.7067\n",
            "Epoch 70/100\n",
            "2/2 [==============================] - 0s 6ms/step - loss: 2.5965 - mae: 2.5965\n",
            "Epoch 71/100\n",
            "2/2 [==============================] - 0s 10ms/step - loss: 1.0780 - mae: 1.0780\n",
            "Epoch 72/100\n",
            "2/2 [==============================] - 0s 7ms/step - loss: 2.8171 - mae: 2.8171\n",
            "Epoch 73/100\n",
            "2/2 [==============================] - 0s 6ms/step - loss: 1.2408 - mae: 1.2408\n",
            "Epoch 74/100\n",
            "2/2 [==============================] - 0s 10ms/step - loss: 2.4386 - mae: 2.4386\n",
            "Epoch 75/100\n",
            "2/2 [==============================] - 0s 6ms/step - loss: 1.1240 - mae: 1.1240\n",
            "Epoch 76/100\n",
            "2/2 [==============================] - 0s 6ms/step - loss: 1.6558 - mae: 1.6558\n",
            "Epoch 77/100\n",
            "2/2 [==============================] - 0s 6ms/step - loss: 0.6224 - mae: 0.6224\n",
            "Epoch 78/100\n",
            "2/2 [==============================] - 0s 6ms/step - loss: 0.9090 - mae: 0.9090\n",
            "Epoch 79/100\n",
            "2/2 [==============================] - 0s 6ms/step - loss: 1.3045 - mae: 1.3045\n",
            "Epoch 80/100\n",
            "2/2 [==============================] - 0s 6ms/step - loss: 0.8397 - mae: 0.8397\n",
            "Epoch 81/100\n",
            "2/2 [==============================] - 0s 7ms/step - loss: 2.6021 - mae: 2.6021\n",
            "Epoch 82/100\n",
            "2/2 [==============================] - 0s 10ms/step - loss: 1.1188 - mae: 1.1188\n",
            "Epoch 83/100\n",
            "2/2 [==============================] - 0s 5ms/step - loss: 3.3280 - mae: 3.3280\n",
            "Epoch 84/100\n",
            "2/2 [==============================] - 0s 9ms/step - loss: 1.8196 - mae: 1.8196\n",
            "Epoch 85/100\n",
            "2/2 [==============================] - 0s 11ms/step - loss: 2.8386 - mae: 2.8386\n",
            "Epoch 86/100\n",
            "2/2 [==============================] - 0s 7ms/step - loss: 3.5952 - mae: 3.5952\n",
            "Epoch 87/100\n",
            "2/2 [==============================] - 0s 6ms/step - loss: 1.2872 - mae: 1.2872\n",
            "Epoch 88/100\n",
            "2/2 [==============================] - 0s 6ms/step - loss: 3.6642 - mae: 3.6642\n",
            "Epoch 89/100\n",
            "2/2 [==============================] - 0s 6ms/step - loss: 2.5574 - mae: 2.5574\n",
            "Epoch 90/100\n",
            "2/2 [==============================] - 0s 6ms/step - loss: 1.4494 - mae: 1.4494\n",
            "Epoch 91/100\n",
            "2/2 [==============================] - 0s 11ms/step - loss: 2.1891 - mae: 2.1891\n",
            "Epoch 92/100\n",
            "2/2 [==============================] - 0s 7ms/step - loss: 0.4640 - mae: 0.4640\n",
            "Epoch 93/100\n",
            "2/2 [==============================] - 0s 7ms/step - loss: 0.6468 - mae: 0.6468\n",
            "Epoch 94/100\n",
            "2/2 [==============================] - 0s 8ms/step - loss: 1.0517 - mae: 1.0517\n",
            "Epoch 95/100\n",
            "2/2 [==============================] - 0s 6ms/step - loss: 1.4845 - mae: 1.4845\n",
            "Epoch 96/100\n",
            "2/2 [==============================] - 0s 7ms/step - loss: 0.9035 - mae: 0.9035\n",
            "Epoch 97/100\n",
            "2/2 [==============================] - 0s 7ms/step - loss: 0.3786 - mae: 0.3786\n",
            "Epoch 98/100\n",
            "2/2 [==============================] - 0s 8ms/step - loss: 0.3023 - mae: 0.3023\n",
            "Epoch 99/100\n",
            "2/2 [==============================] - 0s 6ms/step - loss: 0.1142 - mae: 0.1142\n",
            "Epoch 100/100\n",
            "2/2 [==============================] - 0s 6ms/step - loss: 0.5280 - mae: 0.5280\n"
          ]
        },
        {
          "output_type": "execute_result",
          "data": {
            "text/plain": [
              "<keras.callbacks.History at 0x7fdf6c040bd0>"
            ]
          },
          "metadata": {},
          "execution_count": 24
        }
      ]
    },
    {
      "cell_type": "code",
      "source": [
        "length = len(X)\n",
        "length*0.8"
      ],
      "metadata": {
        "colab": {
          "base_uri": "https://localhost:8080/"
        },
        "id": "PdlKENQ0fiat",
        "outputId": "4e8e6302-0157-4190-b7dd-b8a70781efe2"
      },
      "execution_count": 27,
      "outputs": [
        {
          "output_type": "execute_result",
          "data": {
            "text/plain": [
              "40.0"
            ]
          },
          "metadata": {},
          "execution_count": 27
        }
      ]
    },
    {
      "cell_type": "code",
      "source": [
        "X_train = X[:int(length*0.8)]\n",
        "y_train = y[:int(length*0.8)]"
      ],
      "metadata": {
        "id": "DejVsNeAg3WM"
      },
      "execution_count": 35,
      "outputs": []
    },
    {
      "cell_type": "code",
      "source": [
        "X_test = X[int(length*0.8):]\n",
        "y_test = y[int(length*0.8):]"
      ],
      "metadata": {
        "id": "j6H6agTjhB22"
      },
      "execution_count": 36,
      "outputs": []
    },
    {
      "cell_type": "markdown",
      "source": [
        "##Visualizing the data"
      ],
      "metadata": {
        "id": "edEpIvxOhLaq"
      }
    },
    {
      "cell_type": "code",
      "source": [
        "plt.figure(figsize = (10,7))\n",
        "plt.scatter(X_train,y_train,c=\"b\",label = \"Training Data\")\n",
        "plt.scatter(X_test,y_test,c=\"g\",label = \"Testing Data\")\n",
        "plt.legend()"
      ],
      "metadata": {
        "colab": {
          "base_uri": "https://localhost:8080/",
          "height": 445
        },
        "id": "CqeKQtKChQOD",
        "outputId": "f2405852-3d73-4d06-8e88-4c64d809e056"
      },
      "execution_count": 44,
      "outputs": [
        {
          "output_type": "execute_result",
          "data": {
            "text/plain": [
              "<matplotlib.legend.Legend at 0x7fdf5d854690>"
            ]
          },
          "metadata": {},
          "execution_count": 44
        },
        {
          "output_type": "display_data",
          "data": {
            "text/plain": [
              "<Figure size 720x504 with 1 Axes>"
            ],
            "image/png": "[encoded data removed]"
          },
          "metadata": {
            "needs_background": "light"
          }
        }
      ]
    },
    {
      "cell_type": "code",
      "source": [],
      "metadata": {
        "id": "szOLkXjrhj7W"
      },
      "execution_count": 38,
      "outputs": []
    },
    {
      "cell_type": "code",
      "source": [],
      "metadata": {
        "id": "oROkb0ysiStl"
      },
      "execution_count": null,
      "outputs": []
    }
  ]
}
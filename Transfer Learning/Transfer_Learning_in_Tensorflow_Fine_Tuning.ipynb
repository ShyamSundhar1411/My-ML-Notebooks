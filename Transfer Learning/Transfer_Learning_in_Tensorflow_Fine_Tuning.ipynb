{
  "nbformat": 4,
  "nbformat_minor": 0,
  "metadata": {
    "colab": {
      "provenance": [],
      "authorship_tag": "ABX9TyNlbPpyTcW445L6oZ6Iowi6",
      "include_colab_link": true
    },
    "kernelspec": {
      "name": "python3",
      "display_name": "Python 3"
    },
    "language_info": {
      "name": "python"
    },
    "accelerator": "GPU",
    "gpuClass": "standard"
  },
  "cells": [
    {
      "cell_type": "markdown",
      "metadata": {
        "id": "view-in-github",
        "colab_type": "text"
      },
      "source": [
        "<a href=\"https://colab.research.google.com/github/ShyamSundhar1411/My-ML-Notebooks/blob/master/Transfer%20Learning/Transfer_Learning_in_Tensorflow_Fine_Tuning.ipynb\" target=\"_parent\"><img src=\"https://colab.research.google.com/assets/colab-badge.svg\" alt=\"Open In Colab\"/></a>"
      ]
    },
    {
      "cell_type": "markdown",
      "source": [
        "## Introduction to Fine Tuning"
      ],
      "metadata": {
        "id": "abjCQCxxx7xD"
      }
    },
    {
      "cell_type": "code",
      "source": [
        "!nvidia-smi"
      ],
      "metadata": {
        "colab": {
          "base_uri": "https://localhost:8080/"
        },
        "id": "dJewPF46yIQ5",
        "outputId": "bf6b2a0a-747f-4ba1-e139-8f2915f19dcb"
      },
      "execution_count": 2,
      "outputs": [
        {
          "output_type": "stream",
          "name": "stdout",
          "text": [
            "Tue Jan 17 08:12:28 2023       \n",
            "+-----------------------------------------------------------------------------+\n",
            "| NVIDIA-SMI 460.32.03    Driver Version: 460.32.03    CUDA Version: 11.2     |\n",
            "|-------------------------------+----------------------+----------------------+\n",
            "| GPU  Name        Persistence-M| Bus-Id        Disp.A | Volatile Uncorr. ECC |\n",
            "| Fan  Temp  Perf  Pwr:Usage/Cap|         Memory-Usage | GPU-Util  Compute M. |\n",
            "|                               |                      |               MIG M. |\n",
            "|===============================+======================+======================|\n",
            "|   0  Tesla T4            Off  | 00000000:00:04.0 Off |                    0 |\n",
            "| N/A   65C    P8    14W /  70W |      0MiB / 15109MiB |      0%      Default |\n",
            "|                               |                      |                  N/A |\n",
            "+-------------------------------+----------------------+----------------------+\n",
            "                                                                               \n",
            "+-----------------------------------------------------------------------------+\n",
            "| Processes:                                                                  |\n",
            "|  GPU   GI   CI        PID   Type   Process name                  GPU Memory |\n",
            "|        ID   ID                                                   Usage      |\n",
            "|=============================================================================|\n",
            "|  No running processes found                                                 |\n",
            "+-----------------------------------------------------------------------------+\n"
          ]
        }
      ]
    },
    {
      "cell_type": "markdown",
      "source": [
        "### 1. Helper Functions"
      ],
      "metadata": {
        "id": "cVUZcEOdyUAZ"
      }
    },
    {
      "cell_type": "code",
      "source": [
        "!wget https://raw.githubusercontent.com/mrdbourke/tensorflow-deep-learning/main/extras/helper_functions.py"
      ],
      "metadata": {
        "colab": {
          "base_uri": "https://localhost:8080/"
        },
        "id": "e96I5KAayZlH",
        "outputId": "c5cb4246-d40d-4434-c7e3-6895ef2f4aae"
      },
      "execution_count": 3,
      "outputs": [
        {
          "output_type": "stream",
          "name": "stdout",
          "text": [
            "--2023-01-17 08:15:01--  https://raw.githubusercontent.com/mrdbourke/tensorflow-deep-learning/main/extras/helper_functions.py\n",
            "Resolving raw.githubusercontent.com (raw.githubusercontent.com)... 185.199.108.133, 185.199.109.133, 185.199.111.133, ...\n",
            "Connecting to raw.githubusercontent.com (raw.githubusercontent.com)|185.199.108.133|:443... connected.\n",
            "HTTP request sent, awaiting response... 200 OK\n",
            "Length: 10246 (10K) [text/plain]\n",
            "Saving to: ‘helper_functions.py’\n",
            "\n",
            "helper_functions.py 100%[===================>]  10.01K  --.-KB/s    in 0s      \n",
            "\n",
            "2023-01-17 08:15:01 (86.8 MB/s) - ‘helper_functions.py’ saved [10246/10246]\n",
            "\n"
          ]
        }
      ]
    },
    {
      "cell_type": "code",
      "source": [
        "from helper_functions import create_tensorboard_callback,plot_loss_curves,unzip_data,walk_through_dir"
      ],
      "metadata": {
        "id": "tXxqJqXby7zB"
      },
      "execution_count": 4,
      "outputs": []
    },
    {
      "cell_type": "markdown",
      "source": [
        "### 2. Importing Dataset"
      ],
      "metadata": {
        "id": "pLMe8kiGzstu"
      }
    },
    {
      "cell_type": "code",
      "source": [
        "!wget https://storage.googleapis.com/ztm_tf_course/food_vision/10_food_classes_10_percent.zip"
      ],
      "metadata": {
        "colab": {
          "base_uri": "https://localhost:8080/"
        },
        "id": "7pAjFLTjz6Ct",
        "outputId": "e17731b2-942c-49f5-cafd-f2ef7221e480"
      },
      "execution_count": 5,
      "outputs": [
        {
          "output_type": "stream",
          "name": "stdout",
          "text": [
            "--2023-01-17 08:21:25--  https://storage.googleapis.com/ztm_tf_course/food_vision/10_food_classes_10_percent.zip\n",
            "Resolving storage.googleapis.com (storage.googleapis.com)... 74.125.68.128, 74.125.24.128, 142.250.4.128, ...\n",
            "Connecting to storage.googleapis.com (storage.googleapis.com)|74.125.68.128|:443... connected.\n",
            "HTTP request sent, awaiting response... 200 OK\n",
            "Length: 168546183 (161M) [application/zip]\n",
            "Saving to: ‘10_food_classes_10_percent.zip’\n",
            "\n",
            "10_food_classes_10_ 100%[===================>] 160.74M  15.4MB/s    in 12s     \n",
            "\n",
            "2023-01-17 08:21:38 (13.7 MB/s) - ‘10_food_classes_10_percent.zip’ saved [168546183/168546183]\n",
            "\n"
          ]
        }
      ]
    },
    {
      "cell_type": "code",
      "source": [
        "unzip_data(\"10_food_classes_10_percent.zip\")"
      ],
      "metadata": {
        "id": "odNP8N_Q0Zqg"
      },
      "execution_count": 7,
      "outputs": []
    },
    {
      "cell_type": "code",
      "source": [
        "walk_through_dir(\"10_food_classes_10_percent\")"
      ],
      "metadata": {
        "colab": {
          "base_uri": "https://localhost:8080/"
        },
        "id": "EHdSoPWG0fXs",
        "outputId": "087e18a6-2419-49db-fa7f-21eb20a8d33c"
      },
      "execution_count": 8,
      "outputs": [
        {
          "output_type": "stream",
          "name": "stdout",
          "text": [
            "There are 2 directories and 0 images in '10_food_classes_10_percent'.\n",
            "There are 10 directories and 0 images in '10_food_classes_10_percent/test'.\n",
            "There are 0 directories and 250 images in '10_food_classes_10_percent/test/sushi'.\n",
            "There are 0 directories and 250 images in '10_food_classes_10_percent/test/ice_cream'.\n",
            "There are 0 directories and 250 images in '10_food_classes_10_percent/test/hamburger'.\n",
            "There are 0 directories and 250 images in '10_food_classes_10_percent/test/pizza'.\n",
            "There are 0 directories and 250 images in '10_food_classes_10_percent/test/chicken_wings'.\n",
            "There are 0 directories and 250 images in '10_food_classes_10_percent/test/grilled_salmon'.\n",
            "There are 0 directories and 250 images in '10_food_classes_10_percent/test/fried_rice'.\n",
            "There are 0 directories and 250 images in '10_food_classes_10_percent/test/ramen'.\n",
            "There are 0 directories and 250 images in '10_food_classes_10_percent/test/steak'.\n",
            "There are 0 directories and 250 images in '10_food_classes_10_percent/test/chicken_curry'.\n",
            "There are 10 directories and 0 images in '10_food_classes_10_percent/train'.\n",
            "There are 0 directories and 75 images in '10_food_classes_10_percent/train/sushi'.\n",
            "There are 0 directories and 75 images in '10_food_classes_10_percent/train/ice_cream'.\n",
            "There are 0 directories and 75 images in '10_food_classes_10_percent/train/hamburger'.\n",
            "There are 0 directories and 75 images in '10_food_classes_10_percent/train/pizza'.\n",
            "There are 0 directories and 75 images in '10_food_classes_10_percent/train/chicken_wings'.\n",
            "There are 0 directories and 75 images in '10_food_classes_10_percent/train/grilled_salmon'.\n",
            "There are 0 directories and 75 images in '10_food_classes_10_percent/train/fried_rice'.\n",
            "There are 0 directories and 75 images in '10_food_classes_10_percent/train/ramen'.\n",
            "There are 0 directories and 75 images in '10_food_classes_10_percent/train/steak'.\n",
            "There are 0 directories and 75 images in '10_food_classes_10_percent/train/chicken_curry'.\n"
          ]
        }
      ]
    },
    {
      "cell_type": "markdown",
      "source": [
        "### 3. Creating Training and Test Datasets"
      ],
      "metadata": {
        "id": "lTh-qBN-0rQL"
      }
    },
    {
      "cell_type": "code",
      "source": [
        "train_dir = \"10_food_classes_10_percent/train\"\n",
        "test_dir = \"10_food_classes_10_percent/test\""
      ],
      "metadata": {
        "id": "LyBsa4kD0ykY"
      },
      "execution_count": 9,
      "outputs": []
    },
    {
      "cell_type": "code",
      "source": [
        "import tensorflow as tf\n",
        "from tensorflow.keras.preprocessing import image_dataset_from_directory\n",
        "IMG_SIZE = (224,224)\n",
        "BATCH_SIZE = 32\n",
        "train_data = image_dataset_from_directory(\n",
        "    directory=train_dir,\n",
        "    image_size = IMG_SIZE,\n",
        "    label_mode = \"categorical\",batch_size = BATCH_SIZE,)\n",
        "test_data = image_dataset_from_directory(\n",
        "    directory=test_dir,\n",
        "    image_size = IMG_SIZE,\n",
        "    label_mode = \"categorical\",batch_size = BATCH_SIZE,)"
      ],
      "metadata": {
        "colab": {
          "base_uri": "https://localhost:8080/"
        },
        "id": "_YAxaHkU041T",
        "outputId": "c8d0fe52-5187-420f-e272-b807df1b696f"
      },
      "execution_count": 16,
      "outputs": [
        {
          "output_type": "stream",
          "name": "stdout",
          "text": [
            "Found 750 files belonging to 10 classes.\n",
            "Found 2500 files belonging to 10 classes.\n"
          ]
        }
      ]
    },
    {
      "cell_type": "code",
      "source": [
        "train_data"
      ],
      "metadata": {
        "colab": {
          "base_uri": "https://localhost:8080/"
        },
        "id": "zSIyU5_X1ZsF",
        "outputId": "82b0c9f6-e468-4110-99a2-c729c24116f8"
      },
      "execution_count": 17,
      "outputs": [
        {
          "output_type": "execute_result",
          "data": {
            "text/plain": [
              "<BatchDataset element_spec=(TensorSpec(shape=(None, 224, 224, 3), dtype=tf.float32, name=None), TensorSpec(shape=(None, 10), dtype=tf.float32, name=None))>"
            ]
          },
          "metadata": {},
          "execution_count": 17
        }
      ]
    },
    {
      "cell_type": "code",
      "source": [
        "class_names = train_data.class_names"
      ],
      "metadata": {
        "id": "aaHq80fE2Mb0"
      },
      "execution_count": 19,
      "outputs": []
    },
    {
      "cell_type": "code",
      "source": [
        "for images,labels in train_data.take(1):\n",
        "  print(images,labels)"
      ],
      "metadata": {
        "colab": {
          "base_uri": "https://localhost:8080/"
        },
        "id": "evd_1buv2tN1",
        "outputId": "fb0273cd-e9db-44b5-fe2d-2c09329fe1bf"
      },
      "execution_count": 24,
      "outputs": [
        {
          "output_type": "stream",
          "name": "stdout",
          "text": [
            "tf.Tensor(\n",
            "[[[[ 55.482143    47.070473    41.25893   ]\n",
            "   [ 53.468433    43.51467     46.017857  ]\n",
            "   [ 91.00734     68.86416     70.560905  ]\n",
            "   ...\n",
            "   [  5.           5.           7.        ]\n",
            "   [  5.           5.           7.        ]\n",
            "   [  5.           4.           9.        ]]\n",
            "\n",
            "  [[ 57.647003    45.188778    30.205038  ]\n",
            "   [ 62.35077     49.365112    43.71301   ]\n",
            "   [ 68.27136     45.620533    40.759563  ]\n",
            "   ...\n",
            "   [  5.9285717    5.9285717    7.9285717 ]\n",
            "   [  5.9285717    5.9285717    7.9285717 ]\n",
            "   [  5.9285717    4.9285717    9.928572  ]]\n",
            "\n",
            "  [[ 61.0676      45.57621     28.125956  ]\n",
            "   [ 59.80963     45.67283     34.834503  ]\n",
            "   [ 61.41167     42.764347    34.277424  ]\n",
            "   ...\n",
            "   [  6.           6.           8.        ]\n",
            "   [  6.           6.           8.        ]\n",
            "   [  6.           5.          10.        ]]\n",
            "\n",
            "  ...\n",
            "\n",
            "  [[ 27.491377    19.491377     6.4913764 ]\n",
            "   [ 29.058037    21.058037     8.058036  ]\n",
            "   [ 30.          22.           9.        ]\n",
            "   ...\n",
            "   [ 38.148907    34.148907    33.622173  ]\n",
            "   [ 35.103596    31.103598    32.103596  ]\n",
            "   [ 33.7229      28.722902    32.7229    ]]\n",
            "\n",
            "  [[ 29.529634    21.529634     8.529634  ]\n",
            "   [ 28.857117    20.857117     7.8571167 ]\n",
            "   [ 28.857117    20.857117     7.8571167 ]\n",
            "   ...\n",
            "   [ 34.736725    30.71982     30.352875  ]\n",
            "   [ 35.50009     30.55396     34.392353  ]\n",
            "   [ 35.983494    30.983496    34.983494  ]]\n",
            "\n",
            "  [[ 29.55468     21.55468      8.55468   ]\n",
            "   [ 30.143066    22.143066     9.143066  ]\n",
            "   [ 30.143066    22.143066     9.143066  ]\n",
            "   ...\n",
            "   [ 45.53578     41.29915     43.00905   ]\n",
            "   [ 43.221313    38.221313    42.221313  ]\n",
            "   [ 41.95767     36.95767     42.95767   ]]]\n",
            "\n",
            "\n",
            " [[[ 92.57143     88.571434    79.31632   ]\n",
            "   [102.06633    100.21429     75.87245   ]\n",
            "   [123.59693    124.678566    90.60714   ]\n",
            "   ...\n",
            "   [ 97.          91.          93.        ]\n",
            "   [ 96.07141     90.07141     92.07141   ]\n",
            "   [ 96.668365    88.35715     91.127556  ]]\n",
            "\n",
            "  [[ 75.97449     70.90306     50.326527  ]\n",
            "   [ 80.561226    74.71429     60.612244  ]\n",
            "   [ 87.285706    82.831635    71.31633   ]\n",
            "   ...\n",
            "   [ 97.67346     92.71428     96.5153    ]\n",
            "   [ 97.86226     91.92857     95.78571   ]\n",
            "   [ 97.26021     91.26021     95.117355  ]]\n",
            "\n",
            "  [[ 75.02551     64.811226    55.362247  ]\n",
            "   [ 80.36224     70.93367     64.65816   ]\n",
            "   [ 79.38265     69.67347     66.14285   ]\n",
            "   ...\n",
            "   [ 99.50511     96.99999    100.59694   ]\n",
            "   [100.9694      96.015305   100.42857   ]\n",
            "   [101.          96.         100.42857   ]]\n",
            "\n",
            "  ...\n",
            "\n",
            "  [[ 14.423368    13.423368    11.423368  ]\n",
            "   [ 20.52547     19.52547     17.52547   ]\n",
            "   [ 23.188814    22.188814    20.188814  ]\n",
            "   ...\n",
            "   [ 13.785767    15.785767    14.357239  ]\n",
            "   [ 11.984669    16.04081     14.413319  ]\n",
            "   [  9.571411    13.785675    12.142883  ]]\n",
            "\n",
            "  [[  9.239787     9.239787     7.2397876 ]\n",
            "   [  6.2245307    6.2245307    4.2245307 ]\n",
            "   [  7.7602386    7.7602386    5.7602386 ]\n",
            "   ...\n",
            "   [ 15.158162    17.086721    16.301046  ]\n",
            "   [ 14.142822    17.994898    17.142883  ]\n",
            "   [ 11.760221    15.760221    14.903104  ]]\n",
            "\n",
            "  [[ 12.301147    14.301147    11.301147  ]\n",
            "   [ 13.903129    15.903129    12.903129  ]\n",
            "   [ 15.066389    17.06639     14.066389  ]\n",
            "   ...\n",
            "   [ 13.1377535   14.1377535   16.137753  ]\n",
            "   [ 12.714233    16.5         17.571411  ]\n",
            "   [ 11.642822    15.642822    16.642822  ]]]\n",
            "\n",
            "\n",
            " [[[ 36.07143     35.07143     51.07143   ]\n",
            "   [ 32.59694     31.59694     49.59694   ]\n",
            "   [ 35.438774    32.438774    53.438774  ]\n",
            "   ...\n",
            "   [145.01532    113.87238    115.0051    ]\n",
            "   [150.14804    114.387825   119.45925   ]\n",
            "   [154.33145    114.97431    121.04574   ]]\n",
            "\n",
            "  [[ 32.55102     31.55102     47.55102   ]\n",
            "   [ 34.785713    33.785713    51.785713  ]\n",
            "   [ 35.285713    32.285713    53.285713  ]\n",
            "   ...\n",
            "   [139.04083    108.48467    105.341835  ]\n",
            "   [139.28572    105.28573    103.500015  ]\n",
            "   [147.65833    111.658325   111.801186  ]]\n",
            "\n",
            "  [[ 28.948978    27.948978    43.94898   ]\n",
            "   [ 27.80102     26.80102     42.801018  ]\n",
            "   [ 25.95408     22.95408     41.52551   ]\n",
            "   ...\n",
            "   [137.71428    107.974464    99.49998   ]\n",
            "   [145.14275    112.78561    105.015175  ]\n",
            "   [132.09183     99.73469     91.45402   ]]\n",
            "\n",
            "  ...\n",
            "\n",
            "  [[  2.6429005    9.071428     0.28061998]\n",
            "   [  8.913334    17.000046     0.        ]\n",
            "   [ 38.64763     49.6731      11.673163  ]\n",
            "   ...\n",
            "   [ 31.857056    13.979502     0.38261878]\n",
            "   [ 23.913311     8.183649     0.        ]\n",
            "   [ 24.076744    11.214447     2.214447  ]]\n",
            "\n",
            "  [[  4.9285717    7.9285717    0.        ]\n",
            "   [  5.0714283    9.066325     0.        ]\n",
            "   [ 23.566471    33.61236      1.0154138 ]\n",
            "   ...\n",
            "   [ 43.71933     20.673407     6.260186  ]\n",
            "   [ 36.300896    14.300896     3.5152202 ]\n",
            "   [ 26.454044     6.9795933    0.        ]]\n",
            "\n",
            "  [[ 10.280604    11.280604     3.9948902 ]\n",
            "   [  8.7600975   10.734585     0.        ]\n",
            "   [ 30.305664    37.23931      6.489503  ]\n",
            "   ...\n",
            "   [ 46.403023    20.403023     6.821435  ]\n",
            "   [ 40.234886    16.234884     6.2348843 ]\n",
            "   [ 33.           8.459204     1.2296019 ]]]\n",
            "\n",
            "\n",
            " ...\n",
            "\n",
            "\n",
            " [[[  2.           2.           2.        ]\n",
            "   [  1.0459182    1.0459182    1.0459182 ]\n",
            "   [  0.3571428    0.3571428    2.357143  ]\n",
            "   ...\n",
            "   [  1.           1.           3.        ]\n",
            "   [  1.           1.           3.        ]\n",
            "   [  1.           1.           3.        ]]\n",
            "\n",
            "  [[  3.02551      3.02551      3.02551   ]\n",
            "   [  1.0714283    1.0714283    1.0714283 ]\n",
            "   [  0.           0.           0.4285717 ]\n",
            "   ...\n",
            "   [  1.           1.           3.        ]\n",
            "   [  1.           1.           3.        ]\n",
            "   [  1.           1.           3.        ]]\n",
            "\n",
            "  [[  1.5714287    1.5714287    1.142857  ]\n",
            "   [  1.0153061    1.0153061    1.0153061 ]\n",
            "   [  1.1683674    1.1683674    1.1683674 ]\n",
            "   ...\n",
            "   [  1.           1.           3.        ]\n",
            "   [  1.           1.           3.        ]\n",
            "   [  1.           1.           3.        ]]\n",
            "\n",
            "  ...\n",
            "\n",
            "  [[ 16.428528    16.428528    18.        ]\n",
            "   [ 17.214264    17.214264    18.785736  ]\n",
            "   [ 16.04589     16.04589     17.28062   ]\n",
            "   ...\n",
            "   [102.81643    107.00528    104.15314   ]\n",
            "   [ 60.280342    65.28034     61.280342  ]\n",
            "   [ 45.98339     50.98339     46.98339   ]]\n",
            "\n",
            "  [[ 16.          16.          18.        ]\n",
            "   [ 16.06634     16.06634     18.06634   ]\n",
            "   [ 15.785714    15.785714    17.785713  ]\n",
            "   ...\n",
            "   [ 65.509514    69.080986    67.65246   ]\n",
            "   [ 61.38219     65.382195    64.382195  ]\n",
            "   [ 25.995378    29.995378    28.995378  ]]\n",
            "\n",
            "  [[ 15.642822    14.642822    19.642822  ]\n",
            "   [ 15.974487    14.974487    19.974487  ]\n",
            "   [ 14.923462    14.923462    16.923462  ]\n",
            "   ...\n",
            "   [ 43.969086    47.540558    46.11203   ]\n",
            "   [ 39.708702    43.708702    42.708702  ]\n",
            "   [ 41.138786    45.138786    46.138786  ]]]\n",
            "\n",
            "\n",
            " [[[ 21.505102    35.5051      44.5051    ]\n",
            "   [ 18.836735    32.836735    41.836735  ]\n",
            "   [ 22.265306    35.265305    44.265305  ]\n",
            "   ...\n",
            "   [ 41.800976    60.800976    93.80097   ]\n",
            "   [ 29.974485    48.974483    81.97449   ]\n",
            "   [ 35.5869      54.5869      87.5869    ]]\n",
            "\n",
            "  [[ 23.122448    35.127552    44.459183  ]\n",
            "   [ 32.005104    44.806126    53.87245   ]\n",
            "   [ 25.290817    37.647957    46.862244  ]\n",
            "   ...\n",
            "   [ 34.71424     53.07145     86.28571   ]\n",
            "   [ 32.928585    51.862247    85.061264  ]\n",
            "   [ 37.193985    55.193985    91.193985  ]]\n",
            "\n",
            "  [[ 21.852041    29.42347     42.637753  ]\n",
            "   [ 31.061224    39.030613    52.045918  ]\n",
            "   [ 27.62245     37.239796    49.545918  ]\n",
            "   ...\n",
            "   [ 32.88773     48.88773     84.459206  ]\n",
            "   [ 34.41326     51.770405    89.98469   ]\n",
            "   [ 29.800903    47.800903    86.22948   ]]\n",
            "\n",
            "  ...\n",
            "\n",
            "  [[ 12.147973     7.576501     1.790765  ]\n",
            "   [ 15.357208    10.785736     5.        ]\n",
            "   [ 13.           8.428528     4.214264  ]\n",
            "   ...\n",
            "   [  7.403117     3.831645     4.831645  ]\n",
            "   [  4.3725157    0.80104345   1.8010435 ]\n",
            "   [  5.92865      2.3571777    3.3571777 ]]\n",
            "\n",
            "  [[ 18.499973    13.499974     7.499974  ]\n",
            "   [ 17.132637    12.132637     6.1326375 ]\n",
            "   [ 12.586764     7.586764     2.0153356 ]\n",
            "   ...\n",
            "   [  9.142822     5.1428223    4.1428223 ]\n",
            "   [  6.           2.           1.        ]\n",
            "   [  6.           2.           1.        ]]\n",
            "\n",
            "  [[ 16.357212    11.357213     5.3572125 ]\n",
            "   [ 20.33177     15.33177      9.33177   ]\n",
            "   [ 18.76538     13.765381     8.193953  ]\n",
            "   ...\n",
            "   [  7.857086     1.8570862    1.8570862 ]\n",
            "   [  7.           1.           1.        ]\n",
            "   [  7.           1.           1.        ]]]\n",
            "\n",
            "\n",
            " [[[ 65.7602      55.7602      28.760204  ]\n",
            "   [ 85.28571     78.28571     50.285717  ]\n",
            "   [ 81.91327     74.91327     48.91327   ]\n",
            "   ...\n",
            "   [ 99.90284     90.33137     80.1171    ]\n",
            "   [ 93.760086    83.760086    73.760086  ]\n",
            "   [120.47522    110.47522    100.47522   ]]\n",
            "\n",
            "  [[ 91.301025    81.301025    56.301025  ]\n",
            "   [ 60.056118    52.19387     28.78061   ]\n",
            "   [ 67.92346     59.923466    36.923466  ]\n",
            "   ...\n",
            "   [105.75566     96.18419     85.969925  ]\n",
            "   [119.63736    109.63736     99.63736   ]\n",
            "   [ 70.1075      60.1075      50.1075    ]]\n",
            "\n",
            "  [[ 72.36735     61.36735     39.79592   ]\n",
            "   [ 74.2398      66.2398      45.66837   ]\n",
            "   [ 92.65816     84.65816     64.08673   ]\n",
            "   ...\n",
            "   [ 80.41272     70.84125     58.62698   ]\n",
            "   [109.6483      99.6483      87.6483    ]\n",
            "   [129.87741    119.8774     107.8774    ]]\n",
            "\n",
            "  ...\n",
            "\n",
            "  [[114.50039     80.50039     68.653435  ]\n",
            "   [105.52099     72.505684    56.09237   ]\n",
            "   [117.09771     84.883446    64.31197   ]\n",
            "   ...\n",
            "   [ 32.714417     7.1429443    6.3572083 ]\n",
            "   [ 38.229633    13.443896     9.872424  ]\n",
            "   [ 37.862297    11.285828     8.357178  ]]\n",
            "\n",
            "  [[110.44881     74.44881     60.35696   ]\n",
            "   [108.55602     73.4897      54.62234   ]\n",
            "   [110.95911     76.22953     53.387653  ]\n",
            "   ...\n",
            "   [ 40.50009     13.142883     8.928619  ]\n",
            "   [ 41.785675    12.785675     8.510117  ]\n",
            "   [ 39.739872    10.739873     5.9336686 ]]\n",
            "\n",
            "  [[108.428185    71.428185    54.96896   ]\n",
            "   [104.571075    67.90274     47.97918   ]\n",
            "   [101.81109     65.81109     40.821236  ]\n",
            "   ...\n",
            "   [ 41.285675    12.499939     6.928467  ]\n",
            "   [ 40.096836    11.096837     4.290633  ]\n",
            "   [ 41.84193     11.841931     3.8419313 ]]]], shape=(32, 224, 224, 3), dtype=float32) tf.Tensor(\n",
            "[[0. 0. 0. 0. 0. 0. 0. 1. 0. 0.]\n",
            " [0. 0. 0. 0. 0. 0. 0. 0. 0. 1.]\n",
            " [0. 0. 0. 0. 0. 0. 0. 0. 0. 1.]\n",
            " [0. 0. 0. 0. 0. 0. 1. 0. 0. 0.]\n",
            " [0. 0. 0. 0. 0. 0. 1. 0. 0. 0.]\n",
            " [1. 0. 0. 0. 0. 0. 0. 0. 0. 0.]\n",
            " [1. 0. 0. 0. 0. 0. 0. 0. 0. 0.]\n",
            " [0. 1. 0. 0. 0. 0. 0. 0. 0. 0.]\n",
            " [0. 1. 0. 0. 0. 0. 0. 0. 0. 0.]\n",
            " [0. 0. 0. 0. 0. 1. 0. 0. 0. 0.]\n",
            " [0. 0. 0. 0. 0. 0. 0. 0. 1. 0.]\n",
            " [0. 0. 0. 0. 0. 0. 0. 0. 1. 0.]\n",
            " [0. 0. 0. 1. 0. 0. 0. 0. 0. 0.]\n",
            " [0. 0. 0. 0. 0. 0. 1. 0. 0. 0.]\n",
            " [0. 0. 0. 0. 1. 0. 0. 0. 0. 0.]\n",
            " [0. 0. 0. 0. 0. 0. 0. 0. 1. 0.]\n",
            " [0. 0. 0. 0. 0. 1. 0. 0. 0. 0.]\n",
            " [0. 0. 0. 0. 0. 1. 0. 0. 0. 0.]\n",
            " [0. 0. 0. 1. 0. 0. 0. 0. 0. 0.]\n",
            " [0. 0. 0. 1. 0. 0. 0. 0. 0. 0.]\n",
            " [0. 0. 0. 0. 0. 1. 0. 0. 0. 0.]\n",
            " [0. 0. 0. 0. 0. 0. 1. 0. 0. 0.]\n",
            " [0. 0. 0. 0. 0. 1. 0. 0. 0. 0.]\n",
            " [0. 0. 0. 0. 1. 0. 0. 0. 0. 0.]\n",
            " [0. 0. 0. 1. 0. 0. 0. 0. 0. 0.]\n",
            " [0. 1. 0. 0. 0. 0. 0. 0. 0. 0.]\n",
            " [0. 0. 0. 0. 1. 0. 0. 0. 0. 0.]\n",
            " [0. 0. 0. 0. 0. 1. 0. 0. 0. 0.]\n",
            " [0. 1. 0. 0. 0. 0. 0. 0. 0. 0.]\n",
            " [0. 0. 0. 0. 0. 1. 0. 0. 0. 0.]\n",
            " [0. 0. 1. 0. 0. 0. 0. 0. 0. 0.]\n",
            " [1. 0. 0. 0. 0. 0. 0. 0. 0. 0.]], shape=(32, 10), dtype=float32)\n"
          ]
        }
      ]
    },
    {
      "cell_type": "code",
      "source": [],
      "metadata": {
        "id": "pUJwk9jP20bz"
      },
      "execution_count": null,
      "outputs": []
    }
  ]
}
{
  "cells": [
    {
      "cell_type": "markdown",
      "metadata": {
        "id": "view-in-github",
        "colab_type": "text"
      },
      "source": [
        "<a href=\"https://colab.research.google.com/github/ShyamSundhar1411/My-ML-Notebooks/blob/master/Transfer%20Learning/Transfer_Learning_in_TensorFlow_Feature_Extraction.ipynb\" target=\"_parent\"><img src=\"https://colab.research.google.com/assets/colab-badge.svg\" alt=\"Open In Colab\"/></a>"
      ]
    },
    {
      "cell_type": "markdown",
      "metadata": {
        "id": "RbPbyoWP-t68"
      },
      "source": [
        " ## Introduction to Transfer Learning - Feature Extraction"
      ]
    },
    {
      "cell_type": "code",
      "execution_count": 1,
      "metadata": {
        "colab": {
          "base_uri": "https://localhost:8080/"
        },
        "id": "JbWIgwQJ--q9",
        "outputId": "6832363e-1f32-404f-c81b-132ed18e91db"
      },
      "outputs": [
        {
          "output_type": "stream",
          "name": "stdout",
          "text": [
            "Fri Jan 13 18:21:04 2023       \n",
            "+-----------------------------------------------------------------------------+\n",
            "| NVIDIA-SMI 460.32.03    Driver Version: 460.32.03    CUDA Version: 11.2     |\n",
            "|-------------------------------+----------------------+----------------------+\n",
            "| GPU  Name        Persistence-M| Bus-Id        Disp.A | Volatile Uncorr. ECC |\n",
            "| Fan  Temp  Perf  Pwr:Usage/Cap|         Memory-Usage | GPU-Util  Compute M. |\n",
            "|                               |                      |               MIG M. |\n",
            "|===============================+======================+======================|\n",
            "|   0  Tesla T4            Off  | 00000000:00:04.0 Off |                    0 |\n",
            "| N/A   40C    P8    10W /  70W |      0MiB / 15109MiB |      0%      Default |\n",
            "|                               |                      |                  N/A |\n",
            "+-------------------------------+----------------------+----------------------+\n",
            "                                                                               \n",
            "+-----------------------------------------------------------------------------+\n",
            "| Processes:                                                                  |\n",
            "|  GPU   GI   CI        PID   Type   Process name                  GPU Memory |\n",
            "|        ID   ID                                                   Usage      |\n",
            "|=============================================================================|\n",
            "|  No running processes found                                                 |\n",
            "+-----------------------------------------------------------------------------+\n"
          ]
        }
      ],
      "source": [
        "!nvidia-smi"
      ]
    },
    {
      "cell_type": "markdown",
      "metadata": {
        "id": "ksRr8jx0_Nc8"
      },
      "source": [
        "## 1. Downloading and becoming one with data"
      ]
    },
    {
      "cell_type": "code",
      "execution_count": 2,
      "metadata": {
        "colab": {
          "base_uri": "https://localhost:8080/"
        },
        "id": "SH3vBF19_ULL",
        "outputId": "4eab4237-e3bc-4948-ecfe-0a924cd3bec8"
      },
      "outputs": [
        {
          "output_type": "stream",
          "name": "stdout",
          "text": [
            "--2023-01-13 18:21:04--  https://storage.googleapis.com/ztm_tf_course/food_vision/10_food_classes_10_percent.zip\n",
            "Resolving storage.googleapis.com (storage.googleapis.com)... 74.125.24.128, 142.250.4.128, 142.251.10.128, ...\n",
            "Connecting to storage.googleapis.com (storage.googleapis.com)|74.125.24.128|:443... connected.\n",
            "HTTP request sent, awaiting response... 200 OK\n",
            "Length: 168546183 (161M) [application/zip]\n",
            "Saving to: ‘10_food_classes_10_percent.zip’\n",
            "\n",
            "10_food_classes_10_ 100%[===================>] 160.74M  22.8MB/s    in 7.9s    \n",
            "\n",
            "2023-01-13 18:21:12 (20.3 MB/s) - ‘10_food_classes_10_percent.zip’ saved [168546183/168546183]\n",
            "\n"
          ]
        }
      ],
      "source": [
        "import zipfile\n",
        "!wget https://storage.googleapis.com/ztm_tf_course/food_vision/10_food_classes_10_percent.zip"
      ]
    },
    {
      "cell_type": "code",
      "execution_count": 3,
      "metadata": {
        "id": "anRNnBtX_bI2"
      },
      "outputs": [],
      "source": [
        "zip_ref = zipfile.ZipFile(\"10_food_classes_10_percent.zip\")\n",
        "zip_ref.extractall()\n",
        "zip_ref.close()"
      ]
    },
    {
      "cell_type": "code",
      "execution_count": 4,
      "metadata": {
        "colab": {
          "base_uri": "https://localhost:8080/"
        },
        "id": "NmyR-wsa_joQ",
        "outputId": "8be8f5a3-3e09-4e85-abb7-ecfd45697293"
      },
      "outputs": [
        {
          "output_type": "stream",
          "name": "stdout",
          "text": [
            "There are  2  directories 0  in  10_food_classes_10_percent\n",
            "There are  10  directories 0  in  10_food_classes_10_percent/test\n",
            "There are  0  directories 250  in  10_food_classes_10_percent/test/sushi\n",
            "There are  0  directories 250  in  10_food_classes_10_percent/test/ice_cream\n",
            "There are  0  directories 250  in  10_food_classes_10_percent/test/hamburger\n",
            "There are  0  directories 250  in  10_food_classes_10_percent/test/pizza\n",
            "There are  0  directories 250  in  10_food_classes_10_percent/test/chicken_wings\n",
            "There are  0  directories 250  in  10_food_classes_10_percent/test/grilled_salmon\n",
            "There are  0  directories 250  in  10_food_classes_10_percent/test/fried_rice\n",
            "There are  0  directories 250  in  10_food_classes_10_percent/test/ramen\n",
            "There are  0  directories 250  in  10_food_classes_10_percent/test/steak\n",
            "There are  0  directories 250  in  10_food_classes_10_percent/test/chicken_curry\n",
            "There are  10  directories 0  in  10_food_classes_10_percent/train\n",
            "There are  0  directories 75  in  10_food_classes_10_percent/train/sushi\n",
            "There are  0  directories 75  in  10_food_classes_10_percent/train/ice_cream\n",
            "There are  0  directories 75  in  10_food_classes_10_percent/train/hamburger\n",
            "There are  0  directories 75  in  10_food_classes_10_percent/train/pizza\n",
            "There are  0  directories 75  in  10_food_classes_10_percent/train/chicken_wings\n",
            "There are  0  directories 75  in  10_food_classes_10_percent/train/grilled_salmon\n",
            "There are  0  directories 75  in  10_food_classes_10_percent/train/fried_rice\n",
            "There are  0  directories 75  in  10_food_classes_10_percent/train/ramen\n",
            "There are  0  directories 75  in  10_food_classes_10_percent/train/steak\n",
            "There are  0  directories 75  in  10_food_classes_10_percent/train/chicken_curry\n"
          ]
        }
      ],
      "source": [
        "import os\n",
        "\n",
        "for dirpath,dirnames,filenames in os.walk(\"10_food_classes_10_percent\"):\n",
        "  print(\"There are \",len(dirnames),\" directories\",len(filenames),\" in \",dirpath)"
      ]
    },
    {
      "cell_type": "markdown",
      "metadata": {
        "id": "0vABmWM9_oYP"
      },
      "source": [
        "## 2. Creating data loaders"
      ]
    },
    {
      "cell_type": "code",
      "execution_count": 5,
      "metadata": {
        "id": "JegQRMmX_55O"
      },
      "outputs": [],
      "source": [
        "from tensorflow.keras.preprocessing.image import ImageDataGenerator\n",
        "\n",
        "IMAGE_SHAPE = (224,224)\n",
        "BATCH_SIZE = 32\n",
        "EPOCHS = 5\n",
        "train_dir = \"10_food_classes_10_percent/train/\"\n",
        "test_dir = \"10_food_classes_10_percent/test/\"\n",
        "train_datagen = ImageDataGenerator(rescale = 1/255.)\n",
        "test_datagen = ImageDataGenerator(rescale = 1/255.)"
      ]
    },
    {
      "cell_type": "code",
      "execution_count": 6,
      "metadata": {
        "colab": {
          "base_uri": "https://localhost:8080/"
        },
        "id": "fRdF69rAABSM",
        "outputId": "c52f7b8f-3fb9-4af7-b93b-39746d5a9a7c"
      },
      "outputs": [
        {
          "output_type": "stream",
          "name": "stdout",
          "text": [
            "Found 750 images belonging to 10 classes.\n"
          ]
        }
      ],
      "source": [
        "train_data = train_datagen.flow_from_directory(train_dir,target_size = IMAGE_SHAPE,batch_size = BATCH_SIZE,class_mode = \"sparse\")"
      ]
    },
    {
      "cell_type": "code",
      "execution_count": 7,
      "metadata": {
        "colab": {
          "base_uri": "https://localhost:8080/"
        },
        "id": "5ZZaA6khAhN-",
        "outputId": "14b96123-b317-4d4f-9ab3-69cb195fc765"
      },
      "outputs": [
        {
          "output_type": "stream",
          "name": "stdout",
          "text": [
            "Found 2500 images belonging to 10 classes.\n"
          ]
        }
      ],
      "source": [
        "test_data = test_datagen.flow_from_directory(test_dir,target_size = IMAGE_SHAPE,batch_size = BATCH_SIZE,class_mode = \"sparse\")"
      ]
    },
    {
      "cell_type": "markdown",
      "metadata": {
        "id": "F2-y2c1GAv7E"
      },
      "source": [
        "## 3.Setting Up Callbacks"
      ]
    },
    {
      "cell_type": "markdown",
      "metadata": {
        "id": "kEnnkp0ZCAQj"
      },
      "source": [
        "### Tensorboard Callback"
      ]
    },
    {
      "cell_type": "code",
      "execution_count": 8,
      "metadata": {
        "id": "rOtghqoLBHKq"
      },
      "outputs": [],
      "source": [
        " ## Creating tensorboard callback\n",
        "import datetime\n",
        "\n",
        "def create_tensorboard_callback(dir_name,experiment_name):\n",
        "  log_dir = dir_name + \"/\"+experiment_name+\"/\"+datetime.datetime.now().strftime(\"%Y%m%D-%H%M%S\")\n",
        "  tensorboard_callback = tf.keras.callbacks.TensorBoard(log_dir = log_dir)\n",
        "  print(\"Saving Tensorflow log files to: \",log_dir)\n",
        "  return tensorboard_callback\n"
      ]
    },
    {
      "cell_type": "markdown",
      "metadata": {
        "id": "02w1g-VKCUh3"
      },
      "source": [
        "## Creating Models Using TensorFlow Hub"
      ]
    },
    {
      "cell_type": "code",
      "execution_count": 9,
      "metadata": {
        "id": "jjpMLxMJIa9f"
      },
      "outputs": [],
      "source": [
        "import tensorflow as tf\n",
        "import tensorflow_hub as hub\n",
        "from tensorflow.keras import layers"
      ]
    },
    {
      "cell_type": "code",
      "execution_count": 10,
      "metadata": {
        "id": "B__Y1KRIKNX3"
      },
      "outputs": [],
      "source": [
        "resnet_url = \"https://tfhub.dev/google/imagenet/resnet_v2_50/feature_vector/4\"\n",
        "efficient_url = \"https://tfhub.dev/tensorflow/efficientnet/b0/feature-vector/1\""
      ]
    },
    {
      "cell_type": "code",
      "execution_count": 11,
      "metadata": {
        "id": "gmakAlw7Kcvm"
      },
      "outputs": [],
      "source": [
        "def create_model(model_url,max_classes = 10):\n",
        "  \"\"\"\n",
        "  Takes a tensorflow hub url and creates a keras sequential model with it.\n",
        "  \"\"\"\n",
        "  feature_extractor_layer = hub.KerasLayer(model_url,trainable = False,name = \"feature_extraction_layer\",input_shape = IMAGE_SHAPE+(3,))\n",
        "  model = tf.keras.Sequential([\n",
        "      feature_extractor_layer,\n",
        "      tf.keras.layers.Dense(max_classes,activation = \"softmax\",name = \"output_layer\")\n",
        "  ])\n",
        "  return model"
      ]
    },
    {
      "cell_type": "markdown",
      "source": [
        "### Resnet Model"
      ],
      "metadata": {
        "id": "20LuM2b6YMEd"
      }
    },
    {
      "cell_type": "code",
      "execution_count": 12,
      "metadata": {
        "id": "oKAeprApK2oO"
      },
      "outputs": [],
      "source": [
        "resnet_model = create_model(resnet_url,10)"
      ]
    },
    {
      "cell_type": "code",
      "execution_count": 13,
      "metadata": {
        "colab": {
          "base_uri": "https://localhost:8080/"
        },
        "id": "t1YrwQf9La_8",
        "outputId": "18659582-f4d6-4d26-fd7c-5e17ee5c9489"
      },
      "outputs": [
        {
          "output_type": "stream",
          "name": "stdout",
          "text": [
            "Model: \"sequential\"\n",
            "_________________________________________________________________\n",
            " Layer (type)                Output Shape              Param #   \n",
            "=================================================================\n",
            " feature_extraction_layer (K  (None, 2048)             23564800  \n",
            " erasLayer)                                                      \n",
            "                                                                 \n",
            " output_layer (Dense)        (None, 10)                20490     \n",
            "                                                                 \n",
            "=================================================================\n",
            "Total params: 23,585,290\n",
            "Trainable params: 20,490\n",
            "Non-trainable params: 23,564,800\n",
            "_________________________________________________________________\n"
          ]
        }
      ],
      "source": [
        "resnet_model.summary()"
      ]
    },
    {
      "cell_type": "code",
      "execution_count": 14,
      "metadata": {
        "id": "Hom8BBmhLkc_"
      },
      "outputs": [],
      "source": [
        "resnet_model.compile(loss = tf.keras.losses.SparseCategoricalCrossentropy(),optimizer = \"adam\",metrics = [\"accuracy\"])"
      ]
    },
    {
      "cell_type": "code",
      "execution_count": 15,
      "metadata": {
        "colab": {
          "base_uri": "https://localhost:8080/"
        },
        "id": "knDsNmWrLz2b",
        "outputId": "d616f0e8-9e80-419c-8d98-121915960410"
      },
      "outputs": [
        {
          "output_type": "stream",
          "name": "stdout",
          "text": [
            "Saving Tensorflow log files to:  tensorflow_hub/resnet_v2_50/20230101/13/23-182129\n",
            "Epoch 1/5\n",
            "24/24 [==============================] - 37s 1s/step - loss: 1.9047 - accuracy: 0.3613 - val_loss: 1.1966 - val_accuracy: 0.6272\n",
            "Epoch 2/5\n",
            "24/24 [==============================] - 18s 781ms/step - loss: 0.9258 - accuracy: 0.7240 - val_loss: 0.8307 - val_accuracy: 0.7304\n",
            "Epoch 3/5\n",
            "24/24 [==============================] - 16s 698ms/step - loss: 0.6380 - accuracy: 0.8227 - val_loss: 0.7496 - val_accuracy: 0.7500\n",
            "Epoch 4/5\n",
            "24/24 [==============================] - 16s 688ms/step - loss: 0.4894 - accuracy: 0.8667 - val_loss: 0.7101 - val_accuracy: 0.7668\n",
            "Epoch 5/5\n",
            "24/24 [==============================] - 16s 697ms/step - loss: 0.3957 - accuracy: 0.8947 - val_loss: 0.6716 - val_accuracy: 0.7768\n"
          ]
        }
      ],
      "source": [
        "history_1 = resnet_model.fit(train_data,steps_per_epoch = len(train_data),epochs = 5 ,validation_data = test_data,validation_steps = len(test_data),callbacks = [create_tensorboard_callback(dir_name = \"tensorflow_hub\",experiment_name = \"resnet_v2_50\")])"
      ]
    },
    {
      "cell_type": "code",
      "source": [
        "import matplotlib.pyplot as plt\n",
        "## Plot loss Cuves\n",
        "def plot_loss_curves(history):\n",
        "  loss = history.history[\"loss\"]\n",
        "  accuracy = history.history[\"accuracy\"]\n",
        "  val_loss = history.history[\"val_loss\"]\n",
        "  val_accuracy = history.history[\"val_accuracy\"]\n",
        "  epochs = range(len(history.history[\"loss\"]))\n",
        "  #Plot Loss\n",
        "  plt.plot(epochs,loss,label = \"training_loss\")\n",
        "  plt.plot(epochs,val_loss,label=\"val_loss\")\n",
        "  plt.title(\"Loss\")\n",
        "  plt.xlabel(\"epochs\")\n",
        "  plt.legend()\n",
        "\n",
        "  #Plot Accuracy\n",
        "  plt.figure()\n",
        "  plt.plot(epochs,accuracy,label = \"training_accuracy\")\n",
        "  plt.plot(epochs,val_accuracy,label=\"val_accuracy\")\n",
        "  plt.title(\"accuracy\")\n",
        "  plt.xlabel(\"epochs\")\n",
        "  plt.legend()"
      ],
      "metadata": {
        "id": "oVy7FWX4XTA-"
      },
      "execution_count": 16,
      "outputs": []
    },
    {
      "cell_type": "code",
      "source": [
        "plot_loss_curves(history_1)"
      ],
      "metadata": {
        "colab": {
          "base_uri": "https://localhost:8080/",
          "height": 573
        },
        "id": "fTlv32-XXfYn",
        "outputId": "2dd752d6-4680-40c6-8de3-41663a107fc2"
      },
      "execution_count": 17,
      "outputs": [
        {
          "output_type": "display_data",
          "data": {
            "text/plain": [
              "<Figure size 432x288 with 1 Axes>"
            ],
            "image/png": "[encoded data removed]"
          },
          "metadata": {
            "needs_background": "light"
          }
        },
        {
          "output_type": "display_data",
          "data": {
            "text/plain": [
              "<Figure size 432x288 with 1 Axes>"
            ],
            "image/png": "[encoded data removed]"
          },
          "metadata": {
            "needs_background": "light"
          }
        }
      ]
    },
    {
      "cell_type": "markdown",
      "source": [
        "### EfficientNet Model"
      ],
      "metadata": {
        "id": "7-usodjFYOWL"
      }
    },
    {
      "cell_type": "code",
      "source": [
        "efficientnet_model = create_model(efficient_url,10)"
      ],
      "metadata": {
        "id": "lepQFf4RX7M4"
      },
      "execution_count": 18,
      "outputs": []
    },
    {
      "cell_type": "code",
      "source": [
        "efficientnet_model.summary()"
      ],
      "metadata": {
        "colab": {
          "base_uri": "https://localhost:8080/"
        },
        "id": "UtmKSsQQYKS8",
        "outputId": "bc995444-1c5b-42b3-f0d4-39bf3c7fd189"
      },
      "execution_count": 19,
      "outputs": [
        {
          "output_type": "stream",
          "name": "stdout",
          "text": [
            "Model: \"sequential_1\"\n",
            "_________________________________________________________________\n",
            " Layer (type)                Output Shape              Param #   \n",
            "=================================================================\n",
            " feature_extraction_layer (K  (None, 1280)             4049564   \n",
            " erasLayer)                                                      \n",
            "                                                                 \n",
            " output_layer (Dense)        (None, 10)                12810     \n",
            "                                                                 \n",
            "=================================================================\n",
            "Total params: 4,062,374\n",
            "Trainable params: 12,810\n",
            "Non-trainable params: 4,049,564\n",
            "_________________________________________________________________\n"
          ]
        }
      ]
    },
    {
      "cell_type": "code",
      "source": [
        "efficientnet_model.compile(\n",
        "    loss = tf.keras.losses.SparseCategoricalCrossentropy(),\n",
        "    optimizer = \"adam\",\n",
        "    metrics = [\"accuracy\"]\n",
        ")"
      ],
      "metadata": {
        "id": "pjlEumg8YVWd"
      },
      "execution_count": 24,
      "outputs": []
    },
    {
      "cell_type": "code",
      "source": [
        "history_2  = efficientnet_model.fit(\n",
        "    train_data,\n",
        "    epochs = 5,\n",
        "    steps_per_epoch = len(train_data),\n",
        "    validation_data = test_data,\n",
        "    validation_steps = len(test_data),callbacks = [create_tensorboard_callback(\n",
        "        dir_name = \"tensorflow_hub\",\n",
        "        experiment_name = \"efficientnetb0\"\n",
        "    )])"
      ],
      "metadata": {
        "colab": {
          "base_uri": "https://localhost:8080/"
        },
        "id": "PtoGOsS3YmTl",
        "outputId": "bb29448b-f665-40e2-f725-8dbfb75a9e9c"
      },
      "execution_count": 29,
      "outputs": [
        {
          "output_type": "stream",
          "name": "stdout",
          "text": [
            "Saving Tensorflow log files to:  tensorflow_hub/efficientnetb0/20230101/13/23-183009\n",
            "Epoch 1/5\n",
            "24/24 [==============================] - 27s 751ms/step - loss: 1.9065 - accuracy: 0.3880 - val_loss: 1.3253 - val_accuracy: 0.7440\n",
            "Epoch 2/5\n",
            "24/24 [==============================] - 15s 663ms/step - loss: 1.0970 - accuracy: 0.7800 - val_loss: 0.8709 - val_accuracy: 0.8324\n",
            "Epoch 3/5\n",
            "24/24 [==============================] - 16s 691ms/step - loss: 0.7678 - accuracy: 0.8453 - val_loss: 0.6973 - val_accuracy: 0.8512\n",
            "Epoch 4/5\n",
            "24/24 [==============================] - 15s 661ms/step - loss: 0.6150 - accuracy: 0.8547 - val_loss: 0.6059 - val_accuracy: 0.8608\n",
            "Epoch 5/5\n",
            "24/24 [==============================] - 15s 657ms/step - loss: 0.5168 - accuracy: 0.8880 - val_loss: 0.5535 - val_accuracy: 0.8664\n"
          ]
        }
      ]
    },
    {
      "cell_type": "code",
      "source": [
        "plot_loss_curves(history_2)"
      ],
      "metadata": {
        "colab": {
          "base_uri": "https://localhost:8080/",
          "height": 573
        },
        "id": "SiKpLwVRZJqy",
        "outputId": "6dcbb779-d67c-4a64-b612-13b624bc15e6"
      },
      "execution_count": 31,
      "outputs": [
        {
          "output_type": "display_data",
          "data": {
            "text/plain": [
              "<Figure size 432x288 with 1 Axes>"
            ],
            "image/png": "[encoded data removed]"
          },
          "metadata": {
            "needs_background": "light"
          }
        },
        {
          "output_type": "display_data",
          "data": {
            "text/plain": [
              "<Figure size 432x288 with 1 Axes>"
            ],
            "image/png": "[encoded data removed]"
          },
          "metadata": {
            "needs_background": "light"
          }
        }
      ]
    },
    {
      "cell_type": "code",
      "source": [],
      "metadata": {
        "id": "Qhh2yvdGZ4_N"
      },
      "execution_count": null,
      "outputs": []
    }
  ],
  "metadata": {
    "accelerator": "GPU",
    "colab": {
      "provenance": [],
      "authorship_tag": "ABX9TyN9BkdSn/0RMwwwh3aHjQhO",
      "include_colab_link": true
    },
    "gpuClass": "standard",
    "kernelspec": {
      "display_name": "Python 3",
      "name": "python3"
    },
    "language_info": {
      "name": "python"
    }
  },
  "nbformat": 4,
  "nbformat_minor": 0
}
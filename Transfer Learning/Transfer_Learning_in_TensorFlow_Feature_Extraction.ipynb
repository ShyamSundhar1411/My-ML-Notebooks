{
  "nbformat": 4,
  "nbformat_minor": 0,
  "metadata": {
    "colab": {
      "provenance": [],
      "authorship_tag": "ABX9TyMYL+WUY/o3//6ofLMwI8vn",
      "include_colab_link": true
    },
    "kernelspec": {
      "name": "python3",
      "display_name": "Python 3"
    },
    "language_info": {
      "name": "python"
    },
    "accelerator": "GPU",
    "gpuClass": "standard"
  },
  "cells": [
    {
      "cell_type": "markdown",
      "metadata": {
        "id": "view-in-github",
        "colab_type": "text"
      },
      "source": [
        "<a href=\"https://colab.research.google.com/github/ShyamSundhar1411/My-ML-Notebooks/blob/master/Transfer%20Learning/Transfer_Learning_in_TensorFlow_Feature_Extraction.ipynb\" target=\"_parent\"><img src=\"https://colab.research.google.com/assets/colab-badge.svg\" alt=\"Open In Colab\"/></a>"
      ]
    },
    {
      "cell_type": "markdown",
      "source": [
        " ## Introduction to Transfer Learning - Feature Extraction"
      ],
      "metadata": {
        "id": "RbPbyoWP-t68"
      }
    },
    {
      "cell_type": "code",
      "source": [
        "!nvidia-smi"
      ],
      "metadata": {
        "colab": {
          "base_uri": "https://localhost:8080/"
        },
        "id": "JbWIgwQJ--q9",
        "outputId": "b64dd0b9-de19-49cd-b706-6f24777e6127"
      },
      "execution_count": 1,
      "outputs": [
        {
          "output_type": "stream",
          "name": "stdout",
          "text": [
            "Thu Jan 12 18:03:45 2023       \n",
            "+-----------------------------------------------------------------------------+\n",
            "| NVIDIA-SMI 460.32.03    Driver Version: 460.32.03    CUDA Version: 11.2     |\n",
            "|-------------------------------+----------------------+----------------------+\n",
            "| GPU  Name        Persistence-M| Bus-Id        Disp.A | Volatile Uncorr. ECC |\n",
            "| Fan  Temp  Perf  Pwr:Usage/Cap|         Memory-Usage | GPU-Util  Compute M. |\n",
            "|                               |                      |               MIG M. |\n",
            "|===============================+======================+======================|\n",
            "|   0  Tesla T4            Off  | 00000000:00:04.0 Off |                    0 |\n",
            "| N/A   54C    P8    11W /  70W |      0MiB / 15109MiB |      0%      Default |\n",
            "|                               |                      |                  N/A |\n",
            "+-------------------------------+----------------------+----------------------+\n",
            "                                                                               \n",
            "+-----------------------------------------------------------------------------+\n",
            "| Processes:                                                                  |\n",
            "|  GPU   GI   CI        PID   Type   Process name                  GPU Memory |\n",
            "|        ID   ID                                                   Usage      |\n",
            "|=============================================================================|\n",
            "|  No running processes found                                                 |\n",
            "+-----------------------------------------------------------------------------+\n"
          ]
        }
      ]
    },
    {
      "cell_type": "markdown",
      "source": [
        "## 1. Downloading and becoming one with data"
      ],
      "metadata": {
        "id": "ksRr8jx0_Nc8"
      }
    },
    {
      "cell_type": "code",
      "source": [
        "import zipfile\n",
        "!wget https://storage.googleapis.com/ztm_tf_course/food_vision/10_food_classes_10_percent.zip"
      ],
      "metadata": {
        "colab": {
          "base_uri": "https://localhost:8080/"
        },
        "id": "SH3vBF19_ULL",
        "outputId": "ac605966-2e09-4962-dbd3-3f83d8f7a786"
      },
      "execution_count": 2,
      "outputs": [
        {
          "output_type": "stream",
          "name": "stdout",
          "text": [
            "--2023-01-12 18:03:45--  https://storage.googleapis.com/ztm_tf_course/food_vision/10_food_classes_10_percent.zip\n",
            "Resolving storage.googleapis.com (storage.googleapis.com)... 172.253.115.128, 172.253.122.128, 172.253.63.128, ...\n",
            "Connecting to storage.googleapis.com (storage.googleapis.com)|172.253.115.128|:443... connected.\n",
            "HTTP request sent, awaiting response... 200 OK\n",
            "Length: 168546183 (161M) [application/zip]\n",
            "Saving to: ‘10_food_classes_10_percent.zip’\n",
            "\n",
            "10_food_classes_10_ 100%[===================>] 160.74M   188MB/s    in 0.9s    \n",
            "\n",
            "2023-01-12 18:03:46 (188 MB/s) - ‘10_food_classes_10_percent.zip’ saved [168546183/168546183]\n",
            "\n"
          ]
        }
      ]
    },
    {
      "cell_type": "code",
      "source": [
        "zip_ref = zipfile.ZipFile(\"10_food_classes_10_percent.zip\")\n",
        "zip_ref.extractall()\n",
        "zip_ref.close()"
      ],
      "metadata": {
        "id": "anRNnBtX_bI2"
      },
      "execution_count": 3,
      "outputs": []
    },
    {
      "cell_type": "code",
      "source": [
        "import os\n",
        "\n",
        "for dirpath,dirnames,filenames in os.walk(\"10_food_classes_10_percent\"):\n",
        "  print(\"There are \",len(dirnames),\" directories\",len(filenames),\" in \",dirpath)"
      ],
      "metadata": {
        "colab": {
          "base_uri": "https://localhost:8080/"
        },
        "id": "NmyR-wsa_joQ",
        "outputId": "d15af187-11da-4270-c70f-cd12844474c1"
      },
      "execution_count": 4,
      "outputs": [
        {
          "output_type": "stream",
          "name": "stdout",
          "text": [
            "There are  2  directories 0  in  10_food_classes_10_percent\n",
            "There are  10  directories 0  in  10_food_classes_10_percent/train\n",
            "There are  0  directories 75  in  10_food_classes_10_percent/train/pizza\n",
            "There are  0  directories 75  in  10_food_classes_10_percent/train/ramen\n",
            "There are  0  directories 75  in  10_food_classes_10_percent/train/ice_cream\n",
            "There are  0  directories 75  in  10_food_classes_10_percent/train/sushi\n",
            "There are  0  directories 75  in  10_food_classes_10_percent/train/chicken_curry\n",
            "There are  0  directories 75  in  10_food_classes_10_percent/train/hamburger\n",
            "There are  0  directories 75  in  10_food_classes_10_percent/train/grilled_salmon\n",
            "There are  0  directories 75  in  10_food_classes_10_percent/train/chicken_wings\n",
            "There are  0  directories 75  in  10_food_classes_10_percent/train/fried_rice\n",
            "There are  0  directories 75  in  10_food_classes_10_percent/train/steak\n",
            "There are  10  directories 0  in  10_food_classes_10_percent/test\n",
            "There are  0  directories 250  in  10_food_classes_10_percent/test/pizza\n",
            "There are  0  directories 250  in  10_food_classes_10_percent/test/ramen\n",
            "There are  0  directories 250  in  10_food_classes_10_percent/test/ice_cream\n",
            "There are  0  directories 250  in  10_food_classes_10_percent/test/sushi\n",
            "There are  0  directories 250  in  10_food_classes_10_percent/test/chicken_curry\n",
            "There are  0  directories 250  in  10_food_classes_10_percent/test/hamburger\n",
            "There are  0  directories 250  in  10_food_classes_10_percent/test/grilled_salmon\n",
            "There are  0  directories 250  in  10_food_classes_10_percent/test/chicken_wings\n",
            "There are  0  directories 250  in  10_food_classes_10_percent/test/fried_rice\n",
            "There are  0  directories 250  in  10_food_classes_10_percent/test/steak\n"
          ]
        }
      ]
    },
    {
      "cell_type": "markdown",
      "source": [
        "## 2. Creating data loaders"
      ],
      "metadata": {
        "id": "0vABmWM9_oYP"
      }
    },
    {
      "cell_type": "code",
      "source": [
        "from tensorflow.keras.preprocessing.image import ImageDataGenerator\n",
        "\n",
        "IMAGE_SHAPE = (224,224)\n",
        "BATCH_SIZE = 32\n",
        "EPOCHS = 5\n",
        "train_dir = \"10_food_classes_10_percent/train/\"\n",
        "test_dir = \"10_food_classes_10_percent/test/\"\n",
        "train_datagen = ImageDataGenerator(rescale = 1/255.)\n",
        "test_datagen = ImageDataGenerator(rescale = 1/255.)"
      ],
      "metadata": {
        "id": "JegQRMmX_55O"
      },
      "execution_count": 5,
      "outputs": []
    },
    {
      "cell_type": "code",
      "source": [
        "train_data = train_datagen.flow_from_directory(train_dir,target_size = IMAGE_SHAPE,batch_size = BATCH_SIZE,class_mode = \"sparse\")"
      ],
      "metadata": {
        "colab": {
          "base_uri": "https://localhost:8080/"
        },
        "id": "fRdF69rAABSM",
        "outputId": "f29258cc-7fa6-42c5-acd4-9c6dac2b1dae"
      },
      "execution_count": 6,
      "outputs": [
        {
          "output_type": "stream",
          "name": "stdout",
          "text": [
            "Found 750 images belonging to 10 classes.\n"
          ]
        }
      ]
    },
    {
      "cell_type": "code",
      "source": [
        "test_data = test_datagen.flow_from_directory(test_dir,target_size = IMAGE_SHAPE,batch_size = BATCH_SIZE,class_mode = \"sparse\")"
      ],
      "metadata": {
        "colab": {
          "base_uri": "https://localhost:8080/"
        },
        "id": "5ZZaA6khAhN-",
        "outputId": "1e22c75f-33d0-4f6f-87ec-1e38d9de8ed6"
      },
      "execution_count": 7,
      "outputs": [
        {
          "output_type": "stream",
          "name": "stdout",
          "text": [
            "Found 2500 images belonging to 10 classes.\n"
          ]
        }
      ]
    },
    {
      "cell_type": "markdown",
      "source": [
        "## 3.Setting Up Callbacks"
      ],
      "metadata": {
        "id": "F2-y2c1GAv7E"
      }
    },
    {
      "cell_type": "markdown",
      "source": [
        "### Tensorboard Callback"
      ],
      "metadata": {
        "id": "kEnnkp0ZCAQj"
      }
    },
    {
      "cell_type": "code",
      "source": [
        " ## Creating tensorboard callback\n",
        "import datetime\n",
        "\n",
        "def create_tensorboard_callback(dir_name,experiment_name):\n",
        "  log_dir = dir_name + \"/\"+experiment_name+\"/\"+datetime.datetime.now().strftime(\"%Y%m%D-%H%M%S\")\n",
        "  tensorboard_callback = tf.keras.callbacks.TensorBoard(log_dir = log_dir)\n",
        "  print(\"Saving Tensorflow log files to: \",log_dir)\n",
        "  return tensorboard_callback\n"
      ],
      "metadata": {
        "id": "rOtghqoLBHKq"
      },
      "execution_count": 8,
      "outputs": []
    },
    {
      "cell_type": "markdown",
      "source": [
        "## Creating Models Using TensorFlow Hub"
      ],
      "metadata": {
        "id": "02w1g-VKCUh3"
      }
    },
    {
      "cell_type": "code",
      "source": [
        "import tensorflow as tf\n",
        "import tensorflow_hub as hub\n",
        "from tensorflow.keras import layers"
      ],
      "metadata": {
        "id": "jjpMLxMJIa9f"
      },
      "execution_count": 13,
      "outputs": []
    },
    {
      "cell_type": "code",
      "source": [
        "resnet_url = \"https://tfhub.dev/google/imagenet/resnet_v2_50/feature_vector/4\"\n",
        "efficient_url = \"https://tfhub.dev/tensorflow/efficientnet/b0/feature-vector/1\""
      ],
      "metadata": {
        "id": "B__Y1KRIKNX3"
      },
      "execution_count": 14,
      "outputs": []
    },
    {
      "cell_type": "code",
      "source": [
        "def create_model(model_url,max_classes = 10):\n",
        "  \"\"\"\n",
        "  Takes a tensorflow hub url and creates a keras sequential model with it.\n",
        "  \"\"\"\n",
        "  feature_extractor_layer = hub.KerasLayer(model_url,trainable = False,name = \"feature_extraction_layer\",input_shape = IMAGE_SHAPE+(3,))\n",
        "  model = tf.keras.Sequential([\n",
        "      feature_extractor_layer,\n",
        "      tf.keras.layers.Dense(max_classes,activation = \"softmax\",name = \"output_layer\")\n",
        "  ])\n",
        "  return model"
      ],
      "metadata": {
        "id": "gmakAlw7Kcvm"
      },
      "execution_count": 26,
      "outputs": []
    },
    {
      "cell_type": "code",
      "source": [
        "resnet_model = create_model(resnet_url,10)"
      ],
      "metadata": {
        "id": "oKAeprApK2oO"
      },
      "execution_count": 27,
      "outputs": []
    },
    {
      "cell_type": "code",
      "source": [
        "resnet_model.summary()"
      ],
      "metadata": {
        "colab": {
          "base_uri": "https://localhost:8080/"
        },
        "id": "t1YrwQf9La_8",
        "outputId": "97d63e6b-e131-4512-93df-7a8fceef3d16"
      },
      "execution_count": 28,
      "outputs": [
        {
          "output_type": "stream",
          "name": "stdout",
          "text": [
            "Model: \"sequential_1\"\n",
            "_________________________________________________________________\n",
            " Layer (type)                Output Shape              Param #   \n",
            "=================================================================\n",
            " feature_extraction_layer (K  (None, 2048)             23564800  \n",
            " erasLayer)                                                      \n",
            "                                                                 \n",
            " output_layer (Dense)        (None, 10)                20490     \n",
            "                                                                 \n",
            "=================================================================\n",
            "Total params: 23,585,290\n",
            "Trainable params: 20,490\n",
            "Non-trainable params: 23,564,800\n",
            "_________________________________________________________________\n"
          ]
        }
      ]
    },
    {
      "cell_type": "code",
      "source": [
        "resnet_model.compile(loss = tf.keras.losses.SparseCategoricalCrossentropy(),optimizer = \"adam\",metrics = [\"accuracy\"])"
      ],
      "metadata": {
        "id": "Hom8BBmhLkc_"
      },
      "execution_count": 29,
      "outputs": []
    },
    {
      "cell_type": "code",
      "source": [
        "history_1 = resnet_model.fit(train_data,steps_per_epoch = len(train_data),epochs = 5 ,validation_data = test_data,validation_steps = len(test_data),callbacks = [create_tensorboard_callback(dir_name = \"tensorflow_hub\",experiment_name = \"resnet_v2_50\")])"
      ],
      "metadata": {
        "colab": {
          "base_uri": "https://localhost:8080/"
        },
        "id": "knDsNmWrLz2b",
        "outputId": "7199b91f-6c22-446f-d6f5-7528fc02cf2b"
      },
      "execution_count": null,
      "outputs": [
        {
          "output_type": "stream",
          "name": "stdout",
          "text": [
            "Saving Tensorflow log files to:  tensorflow_hub/resnet_v2_50/20230101/12/23-181915\n",
            "Epoch 1/5\n",
            "24/24 [==============================] - 17s 704ms/step - loss: 0.0737 - accuracy: 0.9973 - val_loss: 0.6100 - val_accuracy: 0.7968\n",
            "Epoch 2/5\n",
            "24/24 [==============================] - ETA: 0s - loss: 0.0672 - accuracy: 0.9987"
          ]
        }
      ]
    },
    {
      "cell_type": "code",
      "source": [
        "   "
      ],
      "metadata": {
        "id": "kPjuKDbAL0I_"
      },
      "execution_count": null,
      "outputs": []
    }
  ]
}
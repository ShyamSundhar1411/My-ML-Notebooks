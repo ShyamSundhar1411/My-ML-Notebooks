{
  "nbformat": 4,
  "nbformat_minor": 0,
  "metadata": {
    "colab": {
      "provenance": [],
      "authorship_tag": "ABX9TyPv0Jhjy46c54vvhn/MSr8h",
      "include_colab_link": true
    },
    "kernelspec": {
      "name": "python3",
      "display_name": "Python 3"
    },
    "language_info": {
      "name": "python"
    },
    "accelerator": "GPU",
    "gpuClass": "standard"
  },
  "cells": [
    {
      "cell_type": "markdown",
      "metadata": {
        "id": "view-in-github",
        "colab_type": "text"
      },
      "source": [
        "<a href=\"https://colab.research.google.com/github/ShyamSundhar1411/My-ML-Notebooks/blob/master/Milestone%20Projects/Milestone_Project_3_Bitpredict.ipynb\" target=\"_parent\"><img src=\"https://colab.research.google.com/assets/colab-badge.svg\" alt=\"Open In Colab\"/></a>"
      ]
    },
    {
      "cell_type": "markdown",
      "source": [
        "## Importing Dataset"
      ],
      "metadata": {
        "id": "mcw9DM9PWcxt"
      }
    },
    {
      "cell_type": "code",
      "source": [
        "!wget https://raw.githubusercontent.com/mrdbourke/tensorflow-deep-learning/main/extras/BTC_USD_2013-10-01_2021-05-18-CoinDesk.csv"
      ],
      "metadata": {
        "colab": {
          "base_uri": "https://localhost:8080/"
        },
        "id": "HtYpZr57YCSs",
        "outputId": "e33bc61c-9fa7-4bd6-bce5-ca8951913519"
      },
      "execution_count": 1,
      "outputs": [
        {
          "output_type": "stream",
          "name": "stdout",
          "text": [
            "--2023-03-28 19:51:25--  https://raw.githubusercontent.com/mrdbourke/tensorflow-deep-learning/main/extras/BTC_USD_2013-10-01_2021-05-18-CoinDesk.csv\n",
            "Resolving raw.githubusercontent.com (raw.githubusercontent.com)... 185.199.108.133, 185.199.109.133, 185.199.110.133, ...\n",
            "Connecting to raw.githubusercontent.com (raw.githubusercontent.com)|185.199.108.133|:443... connected.\n",
            "HTTP request sent, awaiting response... 200 OK\n",
            "Length: 178509 (174K) [text/plain]\n",
            "Saving to: ‘BTC_USD_2013-10-01_2021-05-18-CoinDesk.csv’\n",
            "\n",
            "BTC_USD_2013-10-01_ 100%[===================>] 174.33K  --.-KB/s    in 0.002s  \n",
            "\n",
            "2023-03-28 19:51:26 (90.4 MB/s) - ‘BTC_USD_2013-10-01_2021-05-18-CoinDesk.csv’ saved [178509/178509]\n",
            "\n"
          ]
        }
      ]
    },
    {
      "cell_type": "code",
      "source": [
        "import pandas as pd\n",
        "import tensorflow as tf\n",
        "import numpy as np"
      ],
      "metadata": {
        "id": "bsPM305UYC2c"
      },
      "execution_count": 2,
      "outputs": []
    },
    {
      "cell_type": "code",
      "source": [
        "dataset = pd.read_csv(\"/content/BTC_USD_2013-10-01_2021-05-18-CoinDesk.csv\",parse_dates = \n",
        "                      [ 'Date'],index_col = ['Date'])"
      ],
      "metadata": {
        "id": "OeT0Z9quYjow"
      },
      "execution_count": 3,
      "outputs": []
    },
    {
      "cell_type": "code",
      "source": [
        "dataset"
      ],
      "metadata": {
        "colab": {
          "base_uri": "https://localhost:8080/",
          "height": 455
        },
        "id": "JrtRAlIqYqnt",
        "outputId": "215587df-4732-4b54-ef77-2bb6dee1acc2"
      },
      "execution_count": 4,
      "outputs": [
        {
          "output_type": "execute_result",
          "data": {
            "text/plain": [
              "           Currency  Closing Price (USD)  24h Open (USD)  24h High (USD)  \\\n",
              "Date                                                                       \n",
              "2013-10-01      BTC           123.654990      124.304660      124.751660   \n",
              "2013-10-02      BTC           125.455000      123.654990      125.758500   \n",
              "2013-10-03      BTC           108.584830      125.455000      125.665660   \n",
              "2013-10-04      BTC           118.674660      108.584830      118.675000   \n",
              "2013-10-05      BTC           121.338660      118.674660      121.936330   \n",
              "...             ...                  ...             ...             ...   \n",
              "2021-05-14      BTC         49764.132082    49596.778891    51448.798576   \n",
              "2021-05-15      BTC         50032.693137    49717.354353    51578.312545   \n",
              "2021-05-16      BTC         47885.625255    49926.035067    50690.802950   \n",
              "2021-05-17      BTC         45604.615754    46805.537852    49670.414174   \n",
              "2021-05-18      BTC         43144.471291    46439.336570    46622.853437   \n",
              "\n",
              "            24h Low (USD)  \n",
              "Date                       \n",
              "2013-10-01     122.563490  \n",
              "2013-10-02     123.633830  \n",
              "2013-10-03      83.328330  \n",
              "2013-10-04     107.058160  \n",
              "2013-10-05     118.005660  \n",
              "...                   ...  \n",
              "2021-05-14   46294.720180  \n",
              "2021-05-15   48944.346536  \n",
              "2021-05-16   47005.102292  \n",
              "2021-05-17   43868.638969  \n",
              "2021-05-18   42102.346430  \n",
              "\n",
              "[2787 rows x 5 columns]"
            ],
            "text/html": [
              "\n",
              "  <div id=\"df-8545bb07-a027-420c-84b4-1d539221582f\">\n",
              "    <div class=\"colab-df-container\">\n",
              "      <div>\n",
              "<style scoped>\n",
              "    .dataframe tbody tr th:only-of-type {\n",
              "        vertical-align: middle;\n",
              "    }\n",
              "\n",
              "    .dataframe tbody tr th {\n",
              "        vertical-align: top;\n",
              "    }\n",
              "\n",
              "    .dataframe thead th {\n",
              "        text-align: right;\n",
              "    }\n",
              "</style>\n",
              "<table border=\"1\" class=\"dataframe\">\n",
              "  <thead>\n",
              "    <tr style=\"text-align: right;\">\n",
              "      <th></th>\n",
              "      <th>Currency</th>\n",
              "      <th>Closing Price (USD)</th>\n",
              "      <th>24h Open (USD)</th>\n",
              "      <th>24h High (USD)</th>\n",
              "      <th>24h Low (USD)</th>\n",
              "    </tr>\n",
              "    <tr>\n",
              "      <th>Date</th>\n",
              "      <th></th>\n",
              "      <th></th>\n",
              "      <th></th>\n",
              "      <th></th>\n",
              "      <th></th>\n",
              "    </tr>\n",
              "  </thead>\n",
              "  <tbody>\n",
              "    <tr>\n",
              "      <th>2013-10-01</th>\n",
              "      <td>BTC</td>\n",
              "      <td>123.654990</td>\n",
              "      <td>124.304660</td>\n",
              "      <td>124.751660</td>\n",
              "      <td>122.563490</td>\n",
              "    </tr>\n",
              "    <tr>\n",
              "      <th>2013-10-02</th>\n",
              "      <td>BTC</td>\n",
              "      <td>125.455000</td>\n",
              "      <td>123.654990</td>\n",
              "      <td>125.758500</td>\n",
              "      <td>123.633830</td>\n",
              "    </tr>\n",
              "    <tr>\n",
              "      <th>2013-10-03</th>\n",
              "      <td>BTC</td>\n",
              "      <td>108.584830</td>\n",
              "      <td>125.455000</td>\n",
              "      <td>125.665660</td>\n",
              "      <td>83.328330</td>\n",
              "    </tr>\n",
              "    <tr>\n",
              "      <th>2013-10-04</th>\n",
              "      <td>BTC</td>\n",
              "      <td>118.674660</td>\n",
              "      <td>108.584830</td>\n",
              "      <td>118.675000</td>\n",
              "      <td>107.058160</td>\n",
              "    </tr>\n",
              "    <tr>\n",
              "      <th>2013-10-05</th>\n",
              "      <td>BTC</td>\n",
              "      <td>121.338660</td>\n",
              "      <td>118.674660</td>\n",
              "      <td>121.936330</td>\n",
              "      <td>118.005660</td>\n",
              "    </tr>\n",
              "    <tr>\n",
              "      <th>...</th>\n",
              "      <td>...</td>\n",
              "      <td>...</td>\n",
              "      <td>...</td>\n",
              "      <td>...</td>\n",
              "      <td>...</td>\n",
              "    </tr>\n",
              "    <tr>\n",
              "      <th>2021-05-14</th>\n",
              "      <td>BTC</td>\n",
              "      <td>49764.132082</td>\n",
              "      <td>49596.778891</td>\n",
              "      <td>51448.798576</td>\n",
              "      <td>46294.720180</td>\n",
              "    </tr>\n",
              "    <tr>\n",
              "      <th>2021-05-15</th>\n",
              "      <td>BTC</td>\n",
              "      <td>50032.693137</td>\n",
              "      <td>49717.354353</td>\n",
              "      <td>51578.312545</td>\n",
              "      <td>48944.346536</td>\n",
              "    </tr>\n",
              "    <tr>\n",
              "      <th>2021-05-16</th>\n",
              "      <td>BTC</td>\n",
              "      <td>47885.625255</td>\n",
              "      <td>49926.035067</td>\n",
              "      <td>50690.802950</td>\n",
              "      <td>47005.102292</td>\n",
              "    </tr>\n",
              "    <tr>\n",
              "      <th>2021-05-17</th>\n",
              "      <td>BTC</td>\n",
              "      <td>45604.615754</td>\n",
              "      <td>46805.537852</td>\n",
              "      <td>49670.414174</td>\n",
              "      <td>43868.638969</td>\n",
              "    </tr>\n",
              "    <tr>\n",
              "      <th>2021-05-18</th>\n",
              "      <td>BTC</td>\n",
              "      <td>43144.471291</td>\n",
              "      <td>46439.336570</td>\n",
              "      <td>46622.853437</td>\n",
              "      <td>42102.346430</td>\n",
              "    </tr>\n",
              "  </tbody>\n",
              "</table>\n",
              "<p>2787 rows × 5 columns</p>\n",
              "</div>\n",
              "      <button class=\"colab-df-convert\" onclick=\"convertToInteractive('df-8545bb07-a027-420c-84b4-1d539221582f')\"\n",
              "              title=\"Convert this dataframe to an interactive table.\"\n",
              "              style=\"display:none;\">\n",
              "        \n",
              "  <svg xmlns=\"http://www.w3.org/2000/svg\" height=\"24px\"viewBox=\"0 0 24 24\"\n",
              "       width=\"24px\">\n",
              "    <path d=\"M0 0h24v24H0V0z\" fill=\"none\"/>\n",
              "    <path d=\"M18.56 5.44l.94 2.06.94-2.06 2.06-.94-2.06-.94-.94-2.06-.94 2.06-2.06.94zm-11 1L8.5 8.5l.94-2.06 2.06-.94-2.06-.94L8.5 2.5l-.94 2.06-2.06.94zm10 10l.94 2.06.94-2.06 2.06-.94-2.06-.94-.94-2.06-.94 2.06-2.06.94z\"/><path d=\"M17.41 7.96l-1.37-1.37c-.4-.4-.92-.59-1.43-.59-.52 0-1.04.2-1.43.59L10.3 9.45l-7.72 7.72c-.78.78-.78 2.05 0 2.83L4 21.41c.39.39.9.59 1.41.59.51 0 1.02-.2 1.41-.59l7.78-7.78 2.81-2.81c.8-.78.8-2.07 0-2.86zM5.41 20L4 18.59l7.72-7.72 1.47 1.35L5.41 20z\"/>\n",
              "  </svg>\n",
              "      </button>\n",
              "      \n",
              "  <style>\n",
              "    .colab-df-container {\n",
              "      display:flex;\n",
              "      flex-wrap:wrap;\n",
              "      gap: 12px;\n",
              "    }\n",
              "\n",
              "    .colab-df-convert {\n",
              "      background-color: #E8F0FE;\n",
              "      border: none;\n",
              "      border-radius: 50%;\n",
              "      cursor: pointer;\n",
              "      display: none;\n",
              "      fill: #1967D2;\n",
              "      height: 32px;\n",
              "      padding: 0 0 0 0;\n",
              "      width: 32px;\n",
              "    }\n",
              "\n",
              "    .colab-df-convert:hover {\n",
              "      background-color: #E2EBFA;\n",
              "      box-shadow: 0px 1px 2px rgba(60, 64, 67, 0.3), 0px 1px 3px 1px rgba(60, 64, 67, 0.15);\n",
              "      fill: #174EA6;\n",
              "    }\n",
              "\n",
              "    [theme=dark] .colab-df-convert {\n",
              "      background-color: #3B4455;\n",
              "      fill: #D2E3FC;\n",
              "    }\n",
              "\n",
              "    [theme=dark] .colab-df-convert:hover {\n",
              "      background-color: #434B5C;\n",
              "      box-shadow: 0px 1px 3px 1px rgba(0, 0, 0, 0.15);\n",
              "      filter: drop-shadow(0px 1px 2px rgba(0, 0, 0, 0.3));\n",
              "      fill: #FFFFFF;\n",
              "    }\n",
              "  </style>\n",
              "\n",
              "      <script>\n",
              "        const buttonEl =\n",
              "          document.querySelector('#df-8545bb07-a027-420c-84b4-1d539221582f button.colab-df-convert');\n",
              "        buttonEl.style.display =\n",
              "          google.colab.kernel.accessAllowed ? 'block' : 'none';\n",
              "\n",
              "        async function convertToInteractive(key) {\n",
              "          const element = document.querySelector('#df-8545bb07-a027-420c-84b4-1d539221582f');\n",
              "          const dataTable =\n",
              "            await google.colab.kernel.invokeFunction('convertToInteractive',\n",
              "                                                     [key], {});\n",
              "          if (!dataTable) return;\n",
              "\n",
              "          const docLinkHtml = 'Like what you see? Visit the ' +\n",
              "            '<a target=\"_blank\" href=https://colab.research.google.com/notebooks/data_table.ipynb>data table notebook</a>'\n",
              "            + ' to learn more about interactive tables.';\n",
              "          element.innerHTML = '';\n",
              "          dataTable['output_type'] = 'display_data';\n",
              "          await google.colab.output.renderOutput(dataTable, element);\n",
              "          const docLink = document.createElement('div');\n",
              "          docLink.innerHTML = docLinkHtml;\n",
              "          element.appendChild(docLink);\n",
              "        }\n",
              "      </script>\n",
              "    </div>\n",
              "  </div>\n",
              "  "
            ]
          },
          "metadata": {},
          "execution_count": 4
        }
      ]
    },
    {
      "cell_type": "code",
      "source": [
        "dataset.info()"
      ],
      "metadata": {
        "colab": {
          "base_uri": "https://localhost:8080/"
        },
        "id": "qyuBaXQ_Yrtt",
        "outputId": "b47d16b9-f886-4640-cc77-220d92bdf9ca"
      },
      "execution_count": 5,
      "outputs": [
        {
          "output_type": "stream",
          "name": "stdout",
          "text": [
            "<class 'pandas.core.frame.DataFrame'>\n",
            "DatetimeIndex: 2787 entries, 2013-10-01 to 2021-05-18\n",
            "Data columns (total 5 columns):\n",
            " #   Column               Non-Null Count  Dtype  \n",
            "---  ------               --------------  -----  \n",
            " 0   Currency             2787 non-null   object \n",
            " 1   Closing Price (USD)  2787 non-null   float64\n",
            " 2   24h Open (USD)       2787 non-null   float64\n",
            " 3   24h High (USD)       2787 non-null   float64\n",
            " 4   24h Low (USD)        2787 non-null   float64\n",
            "dtypes: float64(4), object(1)\n",
            "memory usage: 130.6+ KB\n"
          ]
        }
      ]
    },
    {
      "cell_type": "code",
      "source": [
        "dataset.tail()"
      ],
      "metadata": {
        "colab": {
          "base_uri": "https://localhost:8080/",
          "height": 237
        },
        "id": "TXV9RANdZoDI",
        "outputId": "440b1cce-5794-4fcc-c0c5-1ef34f214a25"
      },
      "execution_count": 6,
      "outputs": [
        {
          "output_type": "execute_result",
          "data": {
            "text/plain": [
              "           Currency  Closing Price (USD)  24h Open (USD)  24h High (USD)  \\\n",
              "Date                                                                       \n",
              "2021-05-14      BTC         49764.132082    49596.778891    51448.798576   \n",
              "2021-05-15      BTC         50032.693137    49717.354353    51578.312545   \n",
              "2021-05-16      BTC         47885.625255    49926.035067    50690.802950   \n",
              "2021-05-17      BTC         45604.615754    46805.537852    49670.414174   \n",
              "2021-05-18      BTC         43144.471291    46439.336570    46622.853437   \n",
              "\n",
              "            24h Low (USD)  \n",
              "Date                       \n",
              "2021-05-14   46294.720180  \n",
              "2021-05-15   48944.346536  \n",
              "2021-05-16   47005.102292  \n",
              "2021-05-17   43868.638969  \n",
              "2021-05-18   42102.346430  "
            ],
            "text/html": [
              "\n",
              "  <div id=\"df-ca00b8f2-c873-4e14-86fe-8e31b3e854e2\">\n",
              "    <div class=\"colab-df-container\">\n",
              "      <div>\n",
              "<style scoped>\n",
              "    .dataframe tbody tr th:only-of-type {\n",
              "        vertical-align: middle;\n",
              "    }\n",
              "\n",
              "    .dataframe tbody tr th {\n",
              "        vertical-align: top;\n",
              "    }\n",
              "\n",
              "    .dataframe thead th {\n",
              "        text-align: right;\n",
              "    }\n",
              "</style>\n",
              "<table border=\"1\" class=\"dataframe\">\n",
              "  <thead>\n",
              "    <tr style=\"text-align: right;\">\n",
              "      <th></th>\n",
              "      <th>Currency</th>\n",
              "      <th>Closing Price (USD)</th>\n",
              "      <th>24h Open (USD)</th>\n",
              "      <th>24h High (USD)</th>\n",
              "      <th>24h Low (USD)</th>\n",
              "    </tr>\n",
              "    <tr>\n",
              "      <th>Date</th>\n",
              "      <th></th>\n",
              "      <th></th>\n",
              "      <th></th>\n",
              "      <th></th>\n",
              "      <th></th>\n",
              "    </tr>\n",
              "  </thead>\n",
              "  <tbody>\n",
              "    <tr>\n",
              "      <th>2021-05-14</th>\n",
              "      <td>BTC</td>\n",
              "      <td>49764.132082</td>\n",
              "      <td>49596.778891</td>\n",
              "      <td>51448.798576</td>\n",
              "      <td>46294.720180</td>\n",
              "    </tr>\n",
              "    <tr>\n",
              "      <th>2021-05-15</th>\n",
              "      <td>BTC</td>\n",
              "      <td>50032.693137</td>\n",
              "      <td>49717.354353</td>\n",
              "      <td>51578.312545</td>\n",
              "      <td>48944.346536</td>\n",
              "    </tr>\n",
              "    <tr>\n",
              "      <th>2021-05-16</th>\n",
              "      <td>BTC</td>\n",
              "      <td>47885.625255</td>\n",
              "      <td>49926.035067</td>\n",
              "      <td>50690.802950</td>\n",
              "      <td>47005.102292</td>\n",
              "    </tr>\n",
              "    <tr>\n",
              "      <th>2021-05-17</th>\n",
              "      <td>BTC</td>\n",
              "      <td>45604.615754</td>\n",
              "      <td>46805.537852</td>\n",
              "      <td>49670.414174</td>\n",
              "      <td>43868.638969</td>\n",
              "    </tr>\n",
              "    <tr>\n",
              "      <th>2021-05-18</th>\n",
              "      <td>BTC</td>\n",
              "      <td>43144.471291</td>\n",
              "      <td>46439.336570</td>\n",
              "      <td>46622.853437</td>\n",
              "      <td>42102.346430</td>\n",
              "    </tr>\n",
              "  </tbody>\n",
              "</table>\n",
              "</div>\n",
              "      <button class=\"colab-df-convert\" onclick=\"convertToInteractive('df-ca00b8f2-c873-4e14-86fe-8e31b3e854e2')\"\n",
              "              title=\"Convert this dataframe to an interactive table.\"\n",
              "              style=\"display:none;\">\n",
              "        \n",
              "  <svg xmlns=\"http://www.w3.org/2000/svg\" height=\"24px\"viewBox=\"0 0 24 24\"\n",
              "       width=\"24px\">\n",
              "    <path d=\"M0 0h24v24H0V0z\" fill=\"none\"/>\n",
              "    <path d=\"M18.56 5.44l.94 2.06.94-2.06 2.06-.94-2.06-.94-.94-2.06-.94 2.06-2.06.94zm-11 1L8.5 8.5l.94-2.06 2.06-.94-2.06-.94L8.5 2.5l-.94 2.06-2.06.94zm10 10l.94 2.06.94-2.06 2.06-.94-2.06-.94-.94-2.06-.94 2.06-2.06.94z\"/><path d=\"M17.41 7.96l-1.37-1.37c-.4-.4-.92-.59-1.43-.59-.52 0-1.04.2-1.43.59L10.3 9.45l-7.72 7.72c-.78.78-.78 2.05 0 2.83L4 21.41c.39.39.9.59 1.41.59.51 0 1.02-.2 1.41-.59l7.78-7.78 2.81-2.81c.8-.78.8-2.07 0-2.86zM5.41 20L4 18.59l7.72-7.72 1.47 1.35L5.41 20z\"/>\n",
              "  </svg>\n",
              "      </button>\n",
              "      \n",
              "  <style>\n",
              "    .colab-df-container {\n",
              "      display:flex;\n",
              "      flex-wrap:wrap;\n",
              "      gap: 12px;\n",
              "    }\n",
              "\n",
              "    .colab-df-convert {\n",
              "      background-color: #E8F0FE;\n",
              "      border: none;\n",
              "      border-radius: 50%;\n",
              "      cursor: pointer;\n",
              "      display: none;\n",
              "      fill: #1967D2;\n",
              "      height: 32px;\n",
              "      padding: 0 0 0 0;\n",
              "      width: 32px;\n",
              "    }\n",
              "\n",
              "    .colab-df-convert:hover {\n",
              "      background-color: #E2EBFA;\n",
              "      box-shadow: 0px 1px 2px rgba(60, 64, 67, 0.3), 0px 1px 3px 1px rgba(60, 64, 67, 0.15);\n",
              "      fill: #174EA6;\n",
              "    }\n",
              "\n",
              "    [theme=dark] .colab-df-convert {\n",
              "      background-color: #3B4455;\n",
              "      fill: #D2E3FC;\n",
              "    }\n",
              "\n",
              "    [theme=dark] .colab-df-convert:hover {\n",
              "      background-color: #434B5C;\n",
              "      box-shadow: 0px 1px 3px 1px rgba(0, 0, 0, 0.15);\n",
              "      filter: drop-shadow(0px 1px 2px rgba(0, 0, 0, 0.3));\n",
              "      fill: #FFFFFF;\n",
              "    }\n",
              "  </style>\n",
              "\n",
              "      <script>\n",
              "        const buttonEl =\n",
              "          document.querySelector('#df-ca00b8f2-c873-4e14-86fe-8e31b3e854e2 button.colab-df-convert');\n",
              "        buttonEl.style.display =\n",
              "          google.colab.kernel.accessAllowed ? 'block' : 'none';\n",
              "\n",
              "        async function convertToInteractive(key) {\n",
              "          const element = document.querySelector('#df-ca00b8f2-c873-4e14-86fe-8e31b3e854e2');\n",
              "          const dataTable =\n",
              "            await google.colab.kernel.invokeFunction('convertToInteractive',\n",
              "                                                     [key], {});\n",
              "          if (!dataTable) return;\n",
              "\n",
              "          const docLinkHtml = 'Like what you see? Visit the ' +\n",
              "            '<a target=\"_blank\" href=https://colab.research.google.com/notebooks/data_table.ipynb>data table notebook</a>'\n",
              "            + ' to learn more about interactive tables.';\n",
              "          element.innerHTML = '';\n",
              "          dataTable['output_type'] = 'display_data';\n",
              "          await google.colab.output.renderOutput(dataTable, element);\n",
              "          const docLink = document.createElement('div');\n",
              "          docLink.innerHTML = docLinkHtml;\n",
              "          element.appendChild(docLink);\n",
              "        }\n",
              "      </script>\n",
              "    </div>\n",
              "  </div>\n",
              "  "
            ]
          },
          "metadata": {},
          "execution_count": 6
        }
      ]
    },
    {
      "cell_type": "code",
      "source": [
        "len(dataset)"
      ],
      "metadata": {
        "colab": {
          "base_uri": "https://localhost:8080/"
        },
        "id": "khpWWS_LZ0bu",
        "outputId": "fe64f003-4e4e-41e8-ba97-066d3bbe773e"
      },
      "execution_count": 7,
      "outputs": [
        {
          "output_type": "execute_result",
          "data": {
            "text/plain": [
              "2787"
            ]
          },
          "metadata": {},
          "execution_count": 7
        }
      ]
    },
    {
      "cell_type": "code",
      "source": [
        "bitcoin_prices = pd.DataFrame(dataset['Closing Price (USD)']).rename(columns = {\"Closing Price (USD)\":\"Price\"})"
      ],
      "metadata": {
        "id": "XlH9RMJxZ7qH"
      },
      "execution_count": 8,
      "outputs": []
    },
    {
      "cell_type": "code",
      "source": [
        "bitcoin_prices"
      ],
      "metadata": {
        "colab": {
          "base_uri": "https://localhost:8080/",
          "height": 455
        },
        "id": "lgepkxmXb7F5",
        "outputId": "2470bffa-046a-400c-bc62-9ccc5a2424e7"
      },
      "execution_count": 9,
      "outputs": [
        {
          "output_type": "execute_result",
          "data": {
            "text/plain": [
              "                   Price\n",
              "Date                    \n",
              "2013-10-01    123.654990\n",
              "2013-10-02    125.455000\n",
              "2013-10-03    108.584830\n",
              "2013-10-04    118.674660\n",
              "2013-10-05    121.338660\n",
              "...                  ...\n",
              "2021-05-14  49764.132082\n",
              "2021-05-15  50032.693137\n",
              "2021-05-16  47885.625255\n",
              "2021-05-17  45604.615754\n",
              "2021-05-18  43144.471291\n",
              "\n",
              "[2787 rows x 1 columns]"
            ],
            "text/html": [
              "\n",
              "  <div id=\"df-4bead647-598e-4e75-b843-0f2ad129a02e\">\n",
              "    <div class=\"colab-df-container\">\n",
              "      <div>\n",
              "<style scoped>\n",
              "    .dataframe tbody tr th:only-of-type {\n",
              "        vertical-align: middle;\n",
              "    }\n",
              "\n",
              "    .dataframe tbody tr th {\n",
              "        vertical-align: top;\n",
              "    }\n",
              "\n",
              "    .dataframe thead th {\n",
              "        text-align: right;\n",
              "    }\n",
              "</style>\n",
              "<table border=\"1\" class=\"dataframe\">\n",
              "  <thead>\n",
              "    <tr style=\"text-align: right;\">\n",
              "      <th></th>\n",
              "      <th>Price</th>\n",
              "    </tr>\n",
              "    <tr>\n",
              "      <th>Date</th>\n",
              "      <th></th>\n",
              "    </tr>\n",
              "  </thead>\n",
              "  <tbody>\n",
              "    <tr>\n",
              "      <th>2013-10-01</th>\n",
              "      <td>123.654990</td>\n",
              "    </tr>\n",
              "    <tr>\n",
              "      <th>2013-10-02</th>\n",
              "      <td>125.455000</td>\n",
              "    </tr>\n",
              "    <tr>\n",
              "      <th>2013-10-03</th>\n",
              "      <td>108.584830</td>\n",
              "    </tr>\n",
              "    <tr>\n",
              "      <th>2013-10-04</th>\n",
              "      <td>118.674660</td>\n",
              "    </tr>\n",
              "    <tr>\n",
              "      <th>2013-10-05</th>\n",
              "      <td>121.338660</td>\n",
              "    </tr>\n",
              "    <tr>\n",
              "      <th>...</th>\n",
              "      <td>...</td>\n",
              "    </tr>\n",
              "    <tr>\n",
              "      <th>2021-05-14</th>\n",
              "      <td>49764.132082</td>\n",
              "    </tr>\n",
              "    <tr>\n",
              "      <th>2021-05-15</th>\n",
              "      <td>50032.693137</td>\n",
              "    </tr>\n",
              "    <tr>\n",
              "      <th>2021-05-16</th>\n",
              "      <td>47885.625255</td>\n",
              "    </tr>\n",
              "    <tr>\n",
              "      <th>2021-05-17</th>\n",
              "      <td>45604.615754</td>\n",
              "    </tr>\n",
              "    <tr>\n",
              "      <th>2021-05-18</th>\n",
              "      <td>43144.471291</td>\n",
              "    </tr>\n",
              "  </tbody>\n",
              "</table>\n",
              "<p>2787 rows × 1 columns</p>\n",
              "</div>\n",
              "      <button class=\"colab-df-convert\" onclick=\"convertToInteractive('df-4bead647-598e-4e75-b843-0f2ad129a02e')\"\n",
              "              title=\"Convert this dataframe to an interactive table.\"\n",
              "              style=\"display:none;\">\n",
              "        \n",
              "  <svg xmlns=\"http://www.w3.org/2000/svg\" height=\"24px\"viewBox=\"0 0 24 24\"\n",
              "       width=\"24px\">\n",
              "    <path d=\"M0 0h24v24H0V0z\" fill=\"none\"/>\n",
              "    <path d=\"M18.56 5.44l.94 2.06.94-2.06 2.06-.94-2.06-.94-.94-2.06-.94 2.06-2.06.94zm-11 1L8.5 8.5l.94-2.06 2.06-.94-2.06-.94L8.5 2.5l-.94 2.06-2.06.94zm10 10l.94 2.06.94-2.06 2.06-.94-2.06-.94-.94-2.06-.94 2.06-2.06.94z\"/><path d=\"M17.41 7.96l-1.37-1.37c-.4-.4-.92-.59-1.43-.59-.52 0-1.04.2-1.43.59L10.3 9.45l-7.72 7.72c-.78.78-.78 2.05 0 2.83L4 21.41c.39.39.9.59 1.41.59.51 0 1.02-.2 1.41-.59l7.78-7.78 2.81-2.81c.8-.78.8-2.07 0-2.86zM5.41 20L4 18.59l7.72-7.72 1.47 1.35L5.41 20z\"/>\n",
              "  </svg>\n",
              "      </button>\n",
              "      \n",
              "  <style>\n",
              "    .colab-df-container {\n",
              "      display:flex;\n",
              "      flex-wrap:wrap;\n",
              "      gap: 12px;\n",
              "    }\n",
              "\n",
              "    .colab-df-convert {\n",
              "      background-color: #E8F0FE;\n",
              "      border: none;\n",
              "      border-radius: 50%;\n",
              "      cursor: pointer;\n",
              "      display: none;\n",
              "      fill: #1967D2;\n",
              "      height: 32px;\n",
              "      padding: 0 0 0 0;\n",
              "      width: 32px;\n",
              "    }\n",
              "\n",
              "    .colab-df-convert:hover {\n",
              "      background-color: #E2EBFA;\n",
              "      box-shadow: 0px 1px 2px rgba(60, 64, 67, 0.3), 0px 1px 3px 1px rgba(60, 64, 67, 0.15);\n",
              "      fill: #174EA6;\n",
              "    }\n",
              "\n",
              "    [theme=dark] .colab-df-convert {\n",
              "      background-color: #3B4455;\n",
              "      fill: #D2E3FC;\n",
              "    }\n",
              "\n",
              "    [theme=dark] .colab-df-convert:hover {\n",
              "      background-color: #434B5C;\n",
              "      box-shadow: 0px 1px 3px 1px rgba(0, 0, 0, 0.15);\n",
              "      filter: drop-shadow(0px 1px 2px rgba(0, 0, 0, 0.3));\n",
              "      fill: #FFFFFF;\n",
              "    }\n",
              "  </style>\n",
              "\n",
              "      <script>\n",
              "        const buttonEl =\n",
              "          document.querySelector('#df-4bead647-598e-4e75-b843-0f2ad129a02e button.colab-df-convert');\n",
              "        buttonEl.style.display =\n",
              "          google.colab.kernel.accessAllowed ? 'block' : 'none';\n",
              "\n",
              "        async function convertToInteractive(key) {\n",
              "          const element = document.querySelector('#df-4bead647-598e-4e75-b843-0f2ad129a02e');\n",
              "          const dataTable =\n",
              "            await google.colab.kernel.invokeFunction('convertToInteractive',\n",
              "                                                     [key], {});\n",
              "          if (!dataTable) return;\n",
              "\n",
              "          const docLinkHtml = 'Like what you see? Visit the ' +\n",
              "            '<a target=\"_blank\" href=https://colab.research.google.com/notebooks/data_table.ipynb>data table notebook</a>'\n",
              "            + ' to learn more about interactive tables.';\n",
              "          element.innerHTML = '';\n",
              "          dataTable['output_type'] = 'display_data';\n",
              "          await google.colab.output.renderOutput(dataTable, element);\n",
              "          const docLink = document.createElement('div');\n",
              "          docLink.innerHTML = docLinkHtml;\n",
              "          element.appendChild(docLink);\n",
              "        }\n",
              "      </script>\n",
              "    </div>\n",
              "  </div>\n",
              "  "
            ]
          },
          "metadata": {},
          "execution_count": 9
        }
      ]
    },
    {
      "cell_type": "code",
      "source": [
        "import matplotlib.pyplot as plt\n",
        "bitcoin_prices.plot()\n",
        "plt.ylabel(\"BTC Price\")\n",
        "plt.title(\"1 Oct 2018 to 18 May 2021\")"
      ],
      "metadata": {
        "colab": {
          "base_uri": "https://localhost:8080/",
          "height": 312
        },
        "id": "QeWkpou-b8GU",
        "outputId": "b092bca6-de3c-4560-931a-4c879e61cccd"
      },
      "execution_count": 10,
      "outputs": [
        {
          "output_type": "execute_result",
          "data": {
            "text/plain": [
              "Text(0.5, 1.0, '1 Oct 2018 to 18 May 2021')"
            ]
          },
          "metadata": {},
          "execution_count": 10
        },
        {
          "output_type": "display_data",
          "data": {
            "text/plain": [
              "<Figure size 432x288 with 1 Axes>"
            ],
            "image/png": "[encoded data removed]"
          },
          "metadata": {
            "needs_background": "light"
          }
        }
      ]
    },
    {
      "cell_type": "code",
      "source": [
        "bitcoin_prices.plot()"
      ],
      "metadata": {
        "id": "AG7bTeeGcCr3",
        "colab": {
          "base_uri": "https://localhost:8080/",
          "height": 296
        },
        "outputId": "46e0bf57-718b-46bf-97d6-840c1c88178d"
      },
      "execution_count": 11,
      "outputs": [
        {
          "output_type": "execute_result",
          "data": {
            "text/plain": [
              "<Axes: xlabel='Date'>"
            ]
          },
          "metadata": {},
          "execution_count": 11
        },
        {
          "output_type": "display_data",
          "data": {
            "text/plain": [
              "<Figure size 432x288 with 1 Axes>"
            ],
            "image/png": "[encoded data removed]"
          },
          "metadata": {
            "needs_background": "light"
          }
        }
      ]
    },
    {
      "cell_type": "markdown",
      "source": [
        "### Importing with CSV Module"
      ],
      "metadata": {
        "id": "mxjTUE3gc6_n"
      }
    },
    {
      "cell_type": "code",
      "source": [
        "import csv\n",
        "from datetime import datetime\n",
        "timesteps = []\n",
        "btc_price = []\n",
        "with open (\"/content/BTC_USD_2013-10-01_2021-05-18-CoinDesk.csv\",'r') as f:\n",
        "  reader = csv.reader(f,delimiter = \",\")\n",
        "  next(reader)\n",
        "  for line in reader:\n",
        "    timesteps.append(datetime.strptime(line[1],\"%Y-%m-%d\"))\n",
        "    btc_price.append(float(line[2]))"
      ],
      "metadata": {
        "id": "EgIsqu5gc9vX"
      },
      "execution_count": 12,
      "outputs": []
    },
    {
      "cell_type": "code",
      "source": [
        "btc_price[:10]"
      ],
      "metadata": {
        "colab": {
          "base_uri": "https://localhost:8080/"
        },
        "id": "_WvmBf6bd0ju",
        "outputId": "2cf5894a-0423-4ae4-9b21-0bd087246491"
      },
      "execution_count": 13,
      "outputs": [
        {
          "output_type": "execute_result",
          "data": {
            "text/plain": [
              "[123.65499,\n",
              " 125.455,\n",
              " 108.58483,\n",
              " 118.67466,\n",
              " 121.33866,\n",
              " 120.65533,\n",
              " 121.795,\n",
              " 123.033,\n",
              " 124.049,\n",
              " 125.96116]"
            ]
          },
          "metadata": {},
          "execution_count": 13
        }
      ]
    },
    {
      "cell_type": "code",
      "source": [
        "import matplotlib.pyplot as plt\n",
        "plt.figure(figsize = (10,7))\n",
        "plt.plot(timesteps,btc_price)"
      ],
      "metadata": {
        "colab": {
          "base_uri": "https://localhost:8080/",
          "height": 445
        },
        "id": "t_ny9D-Nd1kS",
        "outputId": "13f75ca7-e1be-40f6-fe11-245c5f4bdd1b"
      },
      "execution_count": 14,
      "outputs": [
        {
          "output_type": "execute_result",
          "data": {
            "text/plain": [
              "[<matplotlib.lines.Line2D at 0x7fd050a5e490>]"
            ]
          },
          "metadata": {},
          "execution_count": 14
        },
        {
          "output_type": "display_data",
          "data": {
            "text/plain": [
              "<Figure size 720x504 with 1 Axes>"
            ],
            "image/png": "[encoded data removed]"
          },
          "metadata": {
            "needs_background": "light"
          }
        }
      ]
    },
    {
      "cell_type": "markdown",
      "source": [
        "### Creating train and test sets with time series data (Wrong Way)"
      ],
      "metadata": {
        "id": "3NTQIyheeWJH"
      }
    },
    {
      "cell_type": "code",
      "source": [
        "from sklearn.model_selection import train_test_split"
      ],
      "metadata": {
        "id": "2qiPc3CjevfV"
      },
      "execution_count": 15,
      "outputs": []
    },
    {
      "cell_type": "code",
      "source": [
        "timesteps = bitcoin_prices.index.to_numpy()\n",
        "prices = bitcoin_prices['Price'].to_numpy()"
      ],
      "metadata": {
        "id": "-RPJzr_7e01j"
      },
      "execution_count": 16,
      "outputs": []
    },
    {
      "cell_type": "code",
      "source": [
        "timesteps,prices"
      ],
      "metadata": {
        "colab": {
          "base_uri": "https://localhost:8080/"
        },
        "id": "L-2u94aYexS8",
        "outputId": "9ab7d2f9-21e6-4807-875d-e1e4d40ecce2"
      },
      "execution_count": 17,
      "outputs": [
        {
          "output_type": "execute_result",
          "data": {
            "text/plain": [
              "(array(['2013-10-01T00:00:00.000000000', '2013-10-02T00:00:00.000000000',\n",
              "        '2013-10-03T00:00:00.000000000', ...,\n",
              "        '2021-05-16T00:00:00.000000000', '2021-05-17T00:00:00.000000000',\n",
              "        '2021-05-18T00:00:00.000000000'], dtype='datetime64[ns]'),\n",
              " array([  123.65499   ,   125.455     ,   108.58483   , ...,\n",
              "        47885.62525472, 45604.61575361, 43144.47129086]))"
            ]
          },
          "metadata": {},
          "execution_count": 17
        }
      ]
    },
    {
      "cell_type": "code",
      "source": [
        "x_train,x_test,y_train,y_test = train_test_split(timesteps,prices,test_size = 0.2)"
      ],
      "metadata": {
        "id": "T2uawbw3e4j9"
      },
      "execution_count": 18,
      "outputs": []
    },
    {
      "cell_type": "code",
      "source": [
        "plt.figure(figsize = (10,7))\n",
        "plt.scatter(x_train,y_train,s = 5,label = \"Train\")\n",
        "plt.scatter(x_test,y_test,s = 5,label = \"Test\")\n",
        "plt.legend(fontsize = 14)"
      ],
      "metadata": {
        "colab": {
          "base_uri": "https://localhost:8080/",
          "height": 445
        },
        "id": "-bDAkAKlfSMZ",
        "outputId": "0848da72-4729-4edf-e967-4cc65676766f"
      },
      "execution_count": 19,
      "outputs": [
        {
          "output_type": "execute_result",
          "data": {
            "text/plain": [
              "<matplotlib.legend.Legend at 0x7fd04e675e50>"
            ]
          },
          "metadata": {},
          "execution_count": 19
        },
        {
          "output_type": "display_data",
          "data": {
            "text/plain": [
              "<Figure size 720x504 with 1 Axes>"
            ],
            "image/png": "[encoded data removed]"
          },
          "metadata": {
            "needs_background": "light"
          }
        }
      ]
    },
    {
      "cell_type": "markdown",
      "source": [
        "### Creating splits for time series (right way)"
      ],
      "metadata": {
        "id": "jSnj8zZYfz3E"
      }
    },
    {
      "cell_type": "code",
      "source": [
        "split_size = int(0.8*len(prices))\n",
        "x_train,y_train = timesteps[:split_size],prices[:split_size]\n",
        "x_test,y_test  = timesteps[split_size:],prices[split_size:]"
      ],
      "metadata": {
        "id": "YfwJ_7zNhLYb"
      },
      "execution_count": 20,
      "outputs": []
    },
    {
      "cell_type": "code",
      "source": [
        "len(x_train),len(x_test)"
      ],
      "metadata": {
        "colab": {
          "base_uri": "https://localhost:8080/"
        },
        "id": "mOqbvowLhM5z",
        "outputId": "e2448253-34b7-4430-c263-74ae11917b03"
      },
      "execution_count": 21,
      "outputs": [
        {
          "output_type": "execute_result",
          "data": {
            "text/plain": [
              "(2229, 558)"
            ]
          },
          "metadata": {},
          "execution_count": 21
        }
      ]
    },
    {
      "cell_type": "code",
      "source": [
        "plt.figure(figsize = (10,7))\n",
        "plt.scatter(x_train,y_train,s = 5,label = \"Train\")\n",
        "plt.scatter(x_test,y_test,s = 5,label = \"Test\")\n",
        "plt.legend(fontsize = 14)"
      ],
      "metadata": {
        "colab": {
          "base_uri": "https://localhost:8080/",
          "height": 445
        },
        "id": "7faHqBTGhdAK",
        "outputId": "063f40bf-03a5-4936-f97a-63c25f2926a1"
      },
      "execution_count": 22,
      "outputs": [
        {
          "output_type": "execute_result",
          "data": {
            "text/plain": [
              "<matplotlib.legend.Legend at 0x7fd04e566340>"
            ]
          },
          "metadata": {},
          "execution_count": 22
        },
        {
          "output_type": "display_data",
          "data": {
            "text/plain": [
              "<Figure size 720x504 with 1 Axes>"
            ],
            "image/png": "[encoded data removed]"
          },
          "metadata": {
            "needs_background": "light"
          }
        }
      ]
    },
    {
      "cell_type": "markdown",
      "source": [
        "### Creating plot functions"
      ],
      "metadata": {
        "id": "eM-AdrsJhhau"
      }
    },
    {
      "cell_type": "code",
      "source": [
        "def plot_time_series(timesteps, values, format='.', start=0, end=None, label=None):\n",
        "  \"\"\"\n",
        "  Plots a timesteps (a series of points in time) against values (a series of values across timesteps).\n",
        "  \n",
        "  Parameters\n",
        "  ---------\n",
        "  timesteps : array of timesteps\n",
        "  values : array of values across time\n",
        "  format : style of plot, default \".\"\n",
        "  start : where to start the plot (setting a value will index from start of timesteps & values)\n",
        "  end : where to end the plot (setting a value will index from end of timesteps & values)\n",
        "  label : label to show on plot of values\n",
        "  \"\"\"\n",
        "  # Plot the series\n",
        "  plt.plot(timesteps[start:end], values[start:end], format, label=label)\n",
        "  plt.xlabel(\"Time\")\n",
        "  plt.ylabel(\"BTC Price\")\n",
        "  if label:\n",
        "    plt.legend(fontsize=14) # make label bigger\n",
        "  plt.grid(True)"
      ],
      "metadata": {
        "id": "M8V4A2Xdh-Jk"
      },
      "execution_count": 23,
      "outputs": []
    },
    {
      "cell_type": "markdown",
      "source": [
        "## Model 0 - Naive Baselline"
      ],
      "metadata": {
        "id": "HYOjp15vio8g"
      }
    },
    {
      "cell_type": "code",
      "source": [
        "naive_forecast = y_test[:-1]"
      ],
      "metadata": {
        "id": "SWsSaia_jnN_"
      },
      "execution_count": 24,
      "outputs": []
    },
    {
      "cell_type": "code",
      "source": [
        "naive_forecast[-10:]"
      ],
      "metadata": {
        "colab": {
          "base_uri": "https://localhost:8080/"
        },
        "id": "DdF84H06kqf5",
        "outputId": "b7b644a8-1d17-4fe5-896c-1e979f8a97d7"
      },
      "execution_count": 25,
      "outputs": [
        {
          "output_type": "execute_result",
          "data": {
            "text/plain": [
              "array([57107.12067189, 58788.20967893, 58102.19142623, 55715.54665129,\n",
              "       56573.5554719 , 52147.82118698, 49764.1320816 , 50032.69313676,\n",
              "       47885.62525472, 45604.61575361])"
            ]
          },
          "metadata": {},
          "execution_count": 25
        }
      ]
    },
    {
      "cell_type": "code",
      "source": [
        "y_test[-10:]"
      ],
      "metadata": {
        "colab": {
          "base_uri": "https://localhost:8080/"
        },
        "id": "SsmF4NXlkj2Z",
        "outputId": "0ba0d625-64f8-4205-96ca-5475c0d480a8"
      },
      "execution_count": 26,
      "outputs": [
        {
          "output_type": "execute_result",
          "data": {
            "text/plain": [
              "array([58788.20967893, 58102.19142623, 55715.54665129, 56573.5554719 ,\n",
              "       52147.82118698, 49764.1320816 , 50032.69313676, 47885.62525472,\n",
              "       45604.61575361, 43144.47129086])"
            ]
          },
          "metadata": {},
          "execution_count": 26
        }
      ]
    },
    {
      "cell_type": "code",
      "source": [
        "plt.figure(figsize=(10, 7))\n",
        "offset = 300 # offset the values by 300 timesteps \n",
        "plot_time_series(timesteps=x_test, values=y_test, start=offset, label=\"Test data\")\n",
        "plot_time_series(timesteps=x_test[1:], values=naive_forecast, format=\"-\", start=offset, label=\"Naive Forecast\")"
      ],
      "metadata": {
        "colab": {
          "base_uri": "https://localhost:8080/",
          "height": 442
        },
        "id": "g6U3-bJ_kn6R",
        "outputId": "c90c6d77-be35-4b6c-d396-3d9f8e1d3509"
      },
      "execution_count": 27,
      "outputs": [
        {
          "output_type": "display_data",
          "data": {
            "text/plain": [
              "<Figure size 720x504 with 1 Axes>"
            ],
            "image/png": "[encoded data removed]"
          },
          "metadata": {
            "needs_background": "light"
          }
        }
      ]
    },
    {
      "cell_type": "code",
      "source": [
        "import tensorflow as tf"
      ],
      "metadata": {
        "id": "Fz9vcGBhlPCq"
      },
      "execution_count": 28,
      "outputs": []
    },
    {
      "cell_type": "code",
      "source": [
        "# MASE Implementation\n",
        "def mean_absolute_scaled_error(y_true,y_pred):\n",
        "  mae = tf.reduce_mean(tf.abs(y_true-y_pred))\n",
        "\n",
        "  mae_naive_no_season = tf.reduce_mean(tf.abs(y_true[1:]-y_true[:-1]))\n",
        "\n",
        "  return mae/mae_naive_no_season"
      ],
      "metadata": {
        "id": "qViijWW2Zg48"
      },
      "execution_count": 29,
      "outputs": []
    },
    {
      "cell_type": "code",
      "source": [
        "mean_absolute_scaled_error(y_true = y_test[1:],y_pred = naive_forecast).numpy()"
      ],
      "metadata": {
        "colab": {
          "base_uri": "https://localhost:8080/"
        },
        "id": "Ojx8PkL_ZjAi",
        "outputId": "811cf9e2-5b3a-40f5-82ca-a16a4faa37b8"
      },
      "execution_count": 30,
      "outputs": [
        {
          "output_type": "execute_result",
          "data": {
            "text/plain": [
              "0.9995699939182624"
            ]
          },
          "metadata": {},
          "execution_count": 30
        }
      ]
    },
    {
      "cell_type": "code",
      "source": [
        "def evaluation_metrics(y_pred,y_true):\n",
        "  y_true = tf.cast(y_true,dtype = tf.float32)\n",
        "  y_pred = tf.cast(y_pred,dtype = tf.float32)\n",
        "\n",
        "  mae = tf.keras.metrics.mean_absolute_error(y_true,y_pred)\n",
        "  mse = tf.keras.metrics.mean_squared_error(y_true,y_pred)\n",
        "  rmse = tf.sqrt(mse)\n",
        "  mape = tf.keras.metrics.mean_absolute_percentage_error(y_true,y_pred)\n",
        "  mase = mean_absolute_scaled_error(y_true,y_pred)\n",
        "  return {\"mae\":mae.numpy(),\"mse\":mse.numpy(),\"rmse\":rmse.numpy(),\"mape\":mape.numpy(),\"mase\":mase.numpy()}\n"
      ],
      "metadata": {
        "id": "EDcdZLyjdDjk"
      },
      "execution_count": 31,
      "outputs": []
    },
    {
      "cell_type": "code",
      "source": [
        "naive_results = evaluation_metrics(y_test[1:],naive_forecast)"
      ],
      "metadata": {
        "id": "LYfvRwRDexsm"
      },
      "execution_count": 32,
      "outputs": []
    },
    {
      "cell_type": "code",
      "source": [
        "naive_results"
      ],
      "metadata": {
        "colab": {
          "base_uri": "https://localhost:8080/"
        },
        "id": "DLe2rOr2fGDY",
        "outputId": "1eb021d5-5428-451b-8042-4b2d76e6e01a"
      },
      "execution_count": 33,
      "outputs": [
        {
          "output_type": "execute_result",
          "data": {
            "text/plain": [
              "{'mae': 567.9802,\n",
              " 'mse': 1147547.0,\n",
              " 'rmse': 1071.2362,\n",
              " 'mape': 2.527042,\n",
              " 'mase': 1.0060278}"
            ]
          },
          "metadata": {},
          "execution_count": 33
        }
      ]
    },
    {
      "cell_type": "code",
      "source": [
        "tf.reduce_mean(y_test)"
      ],
      "metadata": {
        "colab": {
          "base_uri": "https://localhost:8080/"
        },
        "id": "hDY0YiDVfU8J",
        "outputId": "9d7222f4-c59d-40a5-a68e-811f5603d621"
      },
      "execution_count": 34,
      "outputs": [
        {
          "output_type": "execute_result",
          "data": {
            "text/plain": [
              "<tf.Tensor: shape=(), dtype=float64, numpy=20056.632963737222>"
            ]
          },
          "metadata": {},
          "execution_count": 34
        }
      ]
    },
    {
      "cell_type": "code",
      "source": [
        "tf.reduce_min(y_test)"
      ],
      "metadata": {
        "colab": {
          "base_uri": "https://localhost:8080/"
        },
        "id": "tTfB0r4qfmLY",
        "outputId": "03b5a5cd-0786-4e3b-f306-4c7e305b6f92"
      },
      "execution_count": 35,
      "outputs": [
        {
          "output_type": "execute_result",
          "data": {
            "text/plain": [
              "<tf.Tensor: shape=(), dtype=float64, numpy=4944.7023359837>"
            ]
          },
          "metadata": {},
          "execution_count": 35
        }
      ]
    },
    {
      "cell_type": "markdown",
      "source": [
        "## Windowing dataset"
      ],
      "metadata": {
        "id": "BLU2jOQbfoJS"
      }
    },
    {
      "cell_type": "code",
      "source": [
        "HORIZON = 1 #Predict 1 Day\n",
        "WINDOW = 7 #Use past week of Bitcoin data to one predictor\n"
      ],
      "metadata": {
        "id": "VyQkn4-VgrGA"
      },
      "execution_count": 36,
      "outputs": []
    },
    {
      "cell_type": "code",
      "source": [
        "def get_labelled_window(x,horizon = HORIZON):\n",
        "  '''\n",
        "    Create Labels for windowed dataset.\n",
        "    E.g. If Horizon = 1\n",
        "    Input: [0,1,2,3,4,5,6,7] -> Output: ([0,1,2,3,4,5,6] -> [7]) Window Size = 7\n",
        "  '''\n",
        "  return x[:,:-horizon],x[:,-horizon:]"
      ],
      "metadata": {
        "id": "3z4hDT8Ahd-G"
      },
      "execution_count": 37,
      "outputs": []
    },
    {
      "cell_type": "code",
      "source": [
        "test_window,test_label = get_labelled_window(tf.expand_dims(tf.range(8)+1,axis = 0))"
      ],
      "metadata": {
        "id": "zJVmZcbqiL41"
      },
      "execution_count": 38,
      "outputs": []
    },
    {
      "cell_type": "code",
      "source": [
        "tf.expand_dims(tf.range(8)+1,axis = 0)"
      ],
      "metadata": {
        "colab": {
          "base_uri": "https://localhost:8080/"
        },
        "id": "xw3uqY6nicV4",
        "outputId": "97f010cf-17d3-44d0-e4ff-41392fddfd31"
      },
      "execution_count": 39,
      "outputs": [
        {
          "output_type": "execute_result",
          "data": {
            "text/plain": [
              "<tf.Tensor: shape=(1, 8), dtype=int32, numpy=array([[1, 2, 3, 4, 5, 6, 7, 8]], dtype=int32)>"
            ]
          },
          "metadata": {},
          "execution_count": 39
        }
      ]
    },
    {
      "cell_type": "code",
      "source": [
        "print(\"Window : {x} -> Label: {y}\".format(x = tf.squeeze(test_window).numpy(),y = tf.squeeze(test_label).numpy()))"
      ],
      "metadata": {
        "colab": {
          "base_uri": "https://localhost:8080/"
        },
        "id": "pXn61SALiiaC",
        "outputId": "4c83151a-ad1e-4393-97b1-6e94ac8ab48d"
      },
      "execution_count": 40,
      "outputs": [
        {
          "output_type": "stream",
          "name": "stdout",
          "text": [
            "Window : [1 2 3 4 5 6 7] -> Label: 8\n"
          ]
        }
      ]
    },
    {
      "cell_type": "markdown",
      "source": [
        "## Preprocessing Functions for Windowed Data"
      ],
      "metadata": {
        "id": "Bbci5gDFizI6"
      }
    },
    {
      "cell_type": "code",
      "source": [
        "import numpy as np"
      ],
      "metadata": {
        "id": "oR-b95KipgIX"
      },
      "execution_count": 41,
      "outputs": []
    },
    {
      "cell_type": "code",
      "source": [
        "def make_windows(x,window_size =  WINDOW,horizon = HORIZON):\n",
        "  window_step = np.expand_dims(np.arange(window_size+horizon),axis = 0)\n",
        "  window_indexes = window_step+np.expand_dims(np.arange(len(x)-(window_size+horizon-1)),axis = 0).T\n",
        "  windowed_array = x[window_indexes]\n",
        "  \n",
        "  windows,labels = get_labelled_window(windowed_array,horizon = HORIZON)\n",
        "  return windows,labels"
      ],
      "metadata": {
        "id": "T0gHAySRotkY"
      },
      "execution_count": 42,
      "outputs": []
    },
    {
      "cell_type": "code",
      "source": [
        "full_windows,full_labels = make_windows(prices,window_size = WINDOW,horizon = HORIZON)"
      ],
      "metadata": {
        "id": "ZreyNivFpysQ"
      },
      "execution_count": 43,
      "outputs": []
    },
    {
      "cell_type": "code",
      "source": [
        "for i in range(3):\n",
        "  print(full_windows[i],\"->\",full_labels[i])"
      ],
      "metadata": {
        "colab": {
          "base_uri": "https://localhost:8080/"
        },
        "id": "ioqZGln1qjGJ",
        "outputId": "c605b450-b878-4f6e-8b7f-576c2c27317b"
      },
      "execution_count": 44,
      "outputs": [
        {
          "output_type": "stream",
          "name": "stdout",
          "text": [
            "[123.65499 125.455   108.58483 118.67466 121.33866 120.65533 121.795  ] -> [123.033]\n",
            "[125.455   108.58483 118.67466 121.33866 120.65533 121.795   123.033  ] -> [124.049]\n",
            "[108.58483 118.67466 121.33866 120.65533 121.795   123.033   124.049  ] -> [125.96116]\n"
          ]
        }
      ]
    },
    {
      "cell_type": "markdown",
      "source": [
        "## Turning windows into Training and Test Sets"
      ],
      "metadata": {
        "id": "g4cf_6Z7qkOV"
      }
    },
    {
      "cell_type": "code",
      "source": [
        "def make_train_test_splits(windows,labels,test_split = 0.2):\n",
        "  split_size = int(len(windows)*(1-test_split))\n",
        "  train_windows = windows[:split_size]\n",
        "  train_labels = labels[:split_size]\n",
        "  test_windows = windows[split_size:]\n",
        "  test_labels = labels[split_size:]\n",
        "  return train_windows,test_windows,train_labels,test_labels"
      ],
      "metadata": {
        "id": "JDQzebqjwwOi"
      },
      "execution_count": 45,
      "outputs": []
    },
    {
      "cell_type": "code",
      "source": [
        "train_windows,test_windows,train_labels,test_labels = make_train_test_splits(full_windows,full_labels)"
      ],
      "metadata": {
        "id": "vsBgfp8rxNFm"
      },
      "execution_count": 46,
      "outputs": []
    },
    {
      "cell_type": "markdown",
      "source": [
        "## Making modelling checkpoint"
      ],
      "metadata": {
        "id": "H80RQYBNxW2o"
      }
    },
    {
      "cell_type": "code",
      "source": [
        "import os\n",
        "def create_model_checkpoint(model_name,save_path = \"model_experiments\"):\n",
        "  return tf.keras.callbacks.ModelCheckpoint(filepath = os.path.join(save_path,model_name),verbose=0,save_best_only = True)"
      ],
      "metadata": {
        "id": "LYr3H06yxi9o"
      },
      "execution_count": 47,
      "outputs": []
    },
    {
      "cell_type": "markdown",
      "source": [
        "## Model 1 - Dense Model"
      ],
      "metadata": {
        "id": "o424N7NNxyKP"
      }
    },
    {
      "cell_type": "code",
      "source": [
        "import tensorflow as tf\n",
        "from tensorflow.keras import layers\n",
        "tf.random.set_seed(42)"
      ],
      "metadata": {
        "id": "iC4WpK_myDCx"
      },
      "execution_count": 48,
      "outputs": []
    },
    {
      "cell_type": "code",
      "source": [
        "model_1 = tf.keras.Sequential([\n",
        "    layers.Dense(128,activation = \"relu\"),\n",
        "    layers.Dense(HORIZON,activation = \"linear\")\n",
        "],name = \"model_1_dense\")\n",
        "\n",
        "model_1.compile(loss = \"mae\",metrics = [\"mae\"],optimizer = \"adam\")"
      ],
      "metadata": {
        "id": "Ho6sH-0byHhJ"
      },
      "execution_count": 49,
      "outputs": []
    },
    {
      "cell_type": "code",
      "source": [
        "history_1 = model_1.fit(\n",
        "    train_windows,\n",
        "    train_labels,\n",
        "    epochs = 100,\n",
        "    verbose = 1,\n",
        "    batch_size = 128,\n",
        "    validation_data = (test_windows,test_labels),\n",
        "    callbacks = [create_model_checkpoint(model_name = model_1.name)]\n",
        ")"
      ],
      "metadata": {
        "id": "f9G-mSIMynOu",
        "outputId": "f4cb7805-bfea-482b-a2ff-220059ad49ca",
        "colab": {
          "base_uri": "https://localhost:8080/"
        }
      },
      "execution_count": 50,
      "outputs": [
        {
          "output_type": "stream",
          "name": "stdout",
          "text": [
            "Epoch 1/100\n",
            "12/18 [===================>..........] - ETA: 0s - loss: 2659.8792 - mae: 2659.8792  "
          ]
        },
        {
          "output_type": "stream",
          "name": "stderr",
          "text": [
            "WARNING:absl:Found untraced functions such as _update_step_xla while saving (showing 1 of 1). These functions will not be directly callable after loading.\n"
          ]
        },
        {
          "output_type": "stream",
          "name": "stdout",
          "text": [
            "\b\b\b\b\b\b\b\b\b\b\b\b\b\b\b\b\b\b\b\b\b\b\b\b\b\b\b\b\b\b\b\b\b\b\b\b\b\b\b\b\b\b\b\b\b\b\b\b\b\b\b\b\b\b\b\b\b\b\b\b\b\b\b\b\b\b\b\b\b\b\b\b\b\b\b\b\b\b\b\b\b\b\b\r18/18 [==============================] - 8s 89ms/step - loss: 2060.4875 - mae: 2060.4875 - val_loss: 1055.3931 - val_mae: 1055.3931\n",
            "Epoch 2/100\n",
            "18/18 [==============================] - 0s 7ms/step - loss: 396.9799 - mae: 396.9799 - val_loss: 2084.2952 - val_mae: 2084.2952\n",
            "Epoch 3/100\n",
            "18/18 [==============================] - 0s 7ms/step - loss: 235.0184 - mae: 235.0184 - val_loss: 1123.7473 - val_mae: 1123.7473\n",
            "Epoch 4/100\n",
            "16/18 [=========================>....] - ETA: 0s - loss: 175.1958 - mae: 175.1958"
          ]
        },
        {
          "output_type": "stream",
          "name": "stderr",
          "text": [
            "WARNING:absl:Found untraced functions such as _update_step_xla while saving (showing 1 of 1). These functions will not be directly callable after loading.\n"
          ]
        },
        {
          "output_type": "stream",
          "name": "stdout",
          "text": [
            "\b\b\b\b\b\b\b\b\b\b\b\b\b\b\b\b\b\b\b\b\b\b\b\b\b\b\b\b\b\b\b\b\b\b\b\b\b\b\b\b\b\b\b\b\b\b\b\b\b\b\b\b\b\b\b\b\b\b\b\b\b\b\b\b\b\b\b\b\b\b\b\b\b\b\b\b\b\b\b\b\b\r18/18 [==============================] - 1s 49ms/step - loss: 174.3250 - mae: 174.3250 - val_loss: 977.8735 - val_mae: 977.8735\n",
            "Epoch 5/100\n",
            "16/18 [=========================>....] - ETA: 0s - loss: 167.1553 - mae: 167.1553"
          ]
        },
        {
          "output_type": "stream",
          "name": "stderr",
          "text": [
            "WARNING:absl:Found untraced functions such as _update_step_xla while saving (showing 1 of 1). These functions will not be directly callable after loading.\n"
          ]
        },
        {
          "output_type": "stream",
          "name": "stdout",
          "text": [
            "\b\b\b\b\b\b\b\b\b\b\b\b\b\b\b\b\b\b\b\b\b\b\b\b\b\b\b\b\b\b\b\b\b\b\b\b\b\b\b\b\b\b\b\b\b\b\b\b\b\b\b\b\b\b\b\b\b\b\b\b\b\b\b\b\b\b\b\b\b\b\b\b\b\b\b\b\b\b\b\b\b\r18/18 [==============================] - 2s 113ms/step - loss: 165.2035 - mae: 165.2035 - val_loss: 919.7391 - val_mae: 919.7391\n",
            "Epoch 6/100\n",
            "16/18 [=========================>....] - ETA: 0s - loss: 160.2126 - mae: 160.2126"
          ]
        },
        {
          "output_type": "stream",
          "name": "stderr",
          "text": [
            "WARNING:absl:Found untraced functions such as _update_step_xla while saving (showing 1 of 1). These functions will not be directly callable after loading.\n"
          ]
        },
        {
          "output_type": "stream",
          "name": "stdout",
          "text": [
            "\b\b\b\b\b\b\b\b\b\b\b\b\b\b\b\b\b\b\b\b\b\b\b\b\b\b\b\b\b\b\b\b\b\b\b\b\b\b\b\b\b\b\b\b\b\b\b\b\b\b\b\b\b\b\b\b\b\b\b\b\b\b\b\b\b\b\b\b\b\b\b\b\b\b\b\b\b\b\b\b\b\r18/18 [==============================] - 1s 55ms/step - loss: 162.8330 - mae: 162.8330 - val_loss: 906.7897 - val_mae: 906.7897\n",
            "Epoch 7/100\n",
            "18/18 [==============================] - 0s 11ms/step - loss: 158.0173 - mae: 158.0173 - val_loss: 917.3660 - val_mae: 917.3660\n",
            "Epoch 8/100\n",
            "13/18 [====================>.........] - ETA: 0s - loss: 156.3817 - mae: 156.3817"
          ]
        },
        {
          "output_type": "stream",
          "name": "stderr",
          "text": [
            "WARNING:absl:Found untraced functions such as _update_step_xla while saving (showing 1 of 1). These functions will not be directly callable after loading.\n"
          ]
        },
        {
          "output_type": "stream",
          "name": "stdout",
          "text": [
            "\b\b\b\b\b\b\b\b\b\b\b\b\b\b\b\b\b\b\b\b\b\b\b\b\b\b\b\b\b\b\b\b\b\b\b\b\b\b\b\b\b\b\b\b\b\b\b\b\b\b\b\b\b\b\b\b\b\b\b\b\b\b\b\b\b\b\b\b\b\b\b\b\b\b\b\b\b\b\b\b\b\r18/18 [==============================] - 1s 46ms/step - loss: 155.0258 - mae: 155.0258 - val_loss: 853.9766 - val_mae: 853.9766\n",
            "Epoch 9/100\n",
            "18/18 [==============================] - 0s 6ms/step - loss: 153.7304 - mae: 153.7304 - val_loss: 878.1197 - val_mae: 878.1197\n",
            "Epoch 10/100\n",
            "14/18 [======================>.......] - ETA: 0s - loss: 148.5418 - mae: 148.5418"
          ]
        },
        {
          "output_type": "stream",
          "name": "stderr",
          "text": [
            "WARNING:absl:Found untraced functions such as _update_step_xla while saving (showing 1 of 1). These functions will not be directly callable after loading.\n"
          ]
        },
        {
          "output_type": "stream",
          "name": "stdout",
          "text": [
            "\b\b\b\b\b\b\b\b\b\b\b\b\b\b\b\b\b\b\b\b\b\b\b\b\b\b\b\b\b\b\b\b\b\b\b\b\b\b\b\b\b\b\b\b\b\b\b\b\b\b\b\b\b\b\b\b\b\b\b\b\b\b\b\b\b\b\b\b\b\b\b\b\b\b\b\b\b\b\b\b\b\r18/18 [==============================] - 1s 48ms/step - loss: 150.9729 - mae: 150.9729 - val_loss: 838.8775 - val_mae: 838.8775\n",
            "Epoch 11/100\n",
            "12/18 [===================>..........] - ETA: 0s - loss: 154.3667 - mae: 154.3667"
          ]
        },
        {
          "output_type": "stream",
          "name": "stderr",
          "text": [
            "WARNING:absl:Found untraced functions such as _update_step_xla while saving (showing 1 of 1). These functions will not be directly callable after loading.\n"
          ]
        },
        {
          "output_type": "stream",
          "name": "stdout",
          "text": [
            "\b\b\b\b\b\b\b\b\b\b\b\b\b\b\b\b\b\b\b\b\b\b\b\b\b\b\b\b\b\b\b\b\b\b\b\b\b\b\b\b\b\b\b\b\b\b\b\b\b\b\b\b\b\b\b\b\b\b\b\b\b\b\b\b\b\b\b\b\b\b\b\b\b\b\b\b\b\b\b\b\b\r18/18 [==============================] - 1s 41ms/step - loss: 146.4923 - mae: 146.4923 - val_loss: 810.6069 - val_mae: 810.6069\n",
            "Epoch 12/100\n",
            "18/18 [==============================] - 0s 9ms/step - loss: 141.7471 - mae: 141.7471 - val_loss: 851.4507 - val_mae: 851.4507\n",
            "Epoch 13/100\n",
            "18/18 [==============================] - 0s 10ms/step - loss: 140.2740 - mae: 140.2740 - val_loss: 814.0427 - val_mae: 814.0427\n",
            "Epoch 14/100\n",
            " 1/18 [>.............................] - ETA: 0s - loss: 141.2945 - mae: 141.2945"
          ]
        },
        {
          "output_type": "stream",
          "name": "stderr",
          "text": [
            "WARNING:absl:Found untraced functions such as _update_step_xla while saving (showing 1 of 1). These functions will not be directly callable after loading.\n"
          ]
        },
        {
          "output_type": "stream",
          "name": "stdout",
          "text": [
            "\b\b\b\b\b\b\b\b\b\b\b\b\b\b\b\b\b\b\b\b\b\b\b\b\b\b\b\b\b\b\b\b\b\b\b\b\b\b\b\b\b\b\b\b\b\b\b\b\b\b\b\b\b\b\b\b\b\b\b\b\b\b\b\b\b\b\b\b\b\b\b\b\b\b\b\b\b\b\b\b\b\r18/18 [==============================] - 1s 43ms/step - loss: 138.1642 - mae: 138.1642 - val_loss: 779.0027 - val_mae: 779.0027\n",
            "Epoch 15/100\n",
            " 1/18 [>.............................] - ETA: 0s - loss: 136.4570 - mae: 136.4570"
          ]
        },
        {
          "output_type": "stream",
          "name": "stderr",
          "text": [
            "WARNING:absl:Found untraced functions such as _update_step_xla while saving (showing 1 of 1). These functions will not be directly callable after loading.\n"
          ]
        },
        {
          "output_type": "stream",
          "name": "stdout",
          "text": [
            "\b\b\b\b\b\b\b\b\b\b\b\b\b\b\b\b\b\b\b\b\b\b\b\b\b\b\b\b\b\b\b\b\b\b\b\b\b\b\b\b\b\b\b\b\b\b\b\b\b\b\b\b\b\b\b\b\b\b\b\b\b\b\b\b\b\b\b\b\b\b\b\b\b\b\b\b\b\b\b\b\b\r18/18 [==============================] - 1s 42ms/step - loss: 135.1425 - mae: 135.1425 - val_loss: 756.2436 - val_mae: 756.2436\n",
            "Epoch 16/100\n",
            "18/18 [==============================] - 0s 6ms/step - loss: 132.0736 - mae: 132.0736 - val_loss: 763.7763 - val_mae: 763.7763\n",
            "Epoch 17/100\n",
            "18/18 [==============================] - 0s 13ms/step - loss: 131.4751 - mae: 131.4751 - val_loss: 779.7615 - val_mae: 779.7615\n",
            "Epoch 18/100\n",
            "18/18 [==============================] - 0s 7ms/step - loss: 132.1994 - mae: 132.1994 - val_loss: 768.2700 - val_mae: 768.2700\n",
            "Epoch 19/100\n",
            "18/18 [==============================] - 0s 5ms/step - loss: 127.3631 - mae: 127.3631 - val_loss: 770.4301 - val_mae: 770.4301\n",
            "Epoch 20/100\n",
            " 1/18 [>.............................] - ETA: 0s - loss: 139.3054 - mae: 139.3054"
          ]
        },
        {
          "output_type": "stream",
          "name": "stderr",
          "text": [
            "WARNING:absl:Found untraced functions such as _update_step_xla while saving (showing 1 of 1). These functions will not be directly callable after loading.\n"
          ]
        },
        {
          "output_type": "stream",
          "name": "stdout",
          "text": [
            "\b\b\b\b\b\b\b\b\b\b\b\b\b\b\b\b\b\b\b\b\b\b\b\b\b\b\b\b\b\b\b\b\b\b\b\b\b\b\b\b\b\b\b\b\b\b\b\b\b\b\b\b\b\b\b\b\b\b\b\b\b\b\b\b\b\b\b\b\b\b\b\b\b\b\b\b\b\b\b\b\b\r18/18 [==============================] - 1s 46ms/step - loss: 127.1162 - mae: 127.1162 - val_loss: 696.2664 - val_mae: 696.2664\n",
            "Epoch 21/100\n",
            "18/18 [==============================] - 0s 5ms/step - loss: 128.4197 - mae: 128.4197 - val_loss: 717.6129 - val_mae: 717.6129\n",
            "Epoch 22/100\n",
            "13/18 [====================>.........] - ETA: 0s - loss: 131.2512 - mae: 131.2512"
          ]
        },
        {
          "output_type": "stream",
          "name": "stderr",
          "text": [
            "WARNING:absl:Found untraced functions such as _update_step_xla while saving (showing 1 of 1). These functions will not be directly callable after loading.\n"
          ]
        },
        {
          "output_type": "stream",
          "name": "stdout",
          "text": [
            "\b\b\b\b\b\b\b\b\b\b\b\b\b\b\b\b\b\b\b\b\b\b\b\b\b\b\b\b\b\b\b\b\b\b\b\b\b\b\b\b\b\b\b\b\b\b\b\b\b\b\b\b\b\b\b\b\b\b\b\b\b\b\b\b\b\b\b\b\b\b\b\b\b\b\b\b\b\b\b\b\b\r18/18 [==============================] - 1s 47ms/step - loss: 123.1522 - mae: 123.1522 - val_loss: 694.8328 - val_mae: 694.8328\n",
            "Epoch 23/100\n",
            " 1/18 [>.............................] - ETA: 0s - loss: 120.6132 - mae: 120.6132"
          ]
        },
        {
          "output_type": "stream",
          "name": "stderr",
          "text": [
            "WARNING:absl:Found untraced functions such as _update_step_xla while saving (showing 1 of 1). These functions will not be directly callable after loading.\n"
          ]
        },
        {
          "output_type": "stream",
          "name": "stdout",
          "text": [
            "\b\b\b\b\b\b\b\b\b\b\b\b\b\b\b\b\b\b\b\b\b\b\b\b\b\b\b\b\b\b\b\b\b\b\b\b\b\b\b\b\b\b\b\b\b\b\b\b\b\b\b\b\b\b\b\b\b\b\b\b\b\b\b\b\b\b\b\b\b\b\b\b\b\b\b\b\b\b\b\b\b\r18/18 [==============================] - 1s 37ms/step - loss: 123.9461 - mae: 123.9461 - val_loss: 680.0271 - val_mae: 680.0271\n",
            "Epoch 24/100\n",
            "10/18 [===============>..............] - ETA: 0s - loss: 118.8801 - mae: 118.8801"
          ]
        },
        {
          "output_type": "stream",
          "name": "stderr",
          "text": [
            "WARNING:absl:Found untraced functions such as _update_step_xla while saving (showing 1 of 1). These functions will not be directly callable after loading.\n"
          ]
        },
        {
          "output_type": "stream",
          "name": "stdout",
          "text": [
            "\b\b\b\b\b\b\b\b\b\b\b\b\b\b\b\b\b\b\b\b\b\b\b\b\b\b\b\b\b\b\b\b\b\b\b\b\b\b\b\b\b\b\b\b\b\b\b\b\b\b\b\b\b\b\b\b\b\b\b\b\b\b\b\b\b\b\b\b\b\b\b\b\b\b\b\b\b\b\b\b\b\r18/18 [==============================] - 1s 72ms/step - loss: 121.8229 - mae: 121.8229 - val_loss: 665.1851 - val_mae: 665.1851\n",
            "Epoch 25/100\n",
            "18/18 [==============================] - 0s 10ms/step - loss: 121.5434 - mae: 121.5434 - val_loss: 668.7623 - val_mae: 668.7623\n",
            "Epoch 26/100\n",
            "18/18 [==============================] - ETA: 0s - loss: 122.4156 - mae: 122.4156"
          ]
        },
        {
          "output_type": "stream",
          "name": "stderr",
          "text": [
            "WARNING:absl:Found untraced functions such as _update_step_xla while saving (showing 1 of 1). These functions will not be directly callable after loading.\n"
          ]
        },
        {
          "output_type": "stream",
          "name": "stdout",
          "text": [
            "\b\b\b\b\b\b\b\b\b\b\b\b\b\b\b\b\b\b\b\b\b\b\b\b\b\b\b\b\b\b\b\b\b\b\b\b\b\b\b\b\b\b\b\b\b\b\b\b\b\b\b\b\b\b\b\b\b\b\b\b\b\b\b\b\b\b\b\b\b\b\b\b\b\b\b\b\b\b\b\b\b\r18/18 [==============================] - 1s 69ms/step - loss: 122.4156 - mae: 122.4156 - val_loss: 654.0560 - val_mae: 654.0560\n",
            "Epoch 27/100\n",
            "17/18 [===========================>..] - ETA: 0s - loss: 119.5487 - mae: 119.5487"
          ]
        },
        {
          "output_type": "stream",
          "name": "stderr",
          "text": [
            "WARNING:absl:Found untraced functions such as _update_step_xla while saving (showing 1 of 1). These functions will not be directly callable after loading.\n"
          ]
        },
        {
          "output_type": "stream",
          "name": "stdout",
          "text": [
            "\b\b\b\b\b\b\b\b\b\b\b\b\b\b\b\b\b\b\b\b\b\b\b\b\b\b\b\b\b\b\b\b\b\b\b\b\b\b\b\b\b\b\b\b\b\b\b\b\b\b\b\b\b\b\b\b\b\b\b\b\b\b\b\b\b\b\b\b\b\b\b\b\b\b\b\b\b\b\b\b\b\r18/18 [==============================] - 1s 70ms/step - loss: 119.8525 - mae: 119.8525 - val_loss: 649.6464 - val_mae: 649.6464\n",
            "Epoch 28/100\n",
            "18/18 [==============================] - 0s 14ms/step - loss: 118.1667 - mae: 118.1667 - val_loss: 654.1876 - val_mae: 654.1876\n",
            "Epoch 29/100\n",
            "18/18 [==============================] - 0s 13ms/step - loss: 120.0695 - mae: 120.0695 - val_loss: 660.4678 - val_mae: 660.4678\n",
            "Epoch 30/100\n",
            "17/18 [===========================>..] - ETA: 0s - loss: 122.0863 - mae: 122.0863"
          ]
        },
        {
          "output_type": "stream",
          "name": "stderr",
          "text": [
            "WARNING:absl:Found untraced functions such as _update_step_xla while saving (showing 1 of 1). These functions will not be directly callable after loading.\n"
          ]
        },
        {
          "output_type": "stream",
          "name": "stdout",
          "text": [
            "\b\b\b\b\b\b\b\b\b\b\b\b\b\b\b\b\b\b\b\b\b\b\b\b\b\b\b\b\b\b\b\b\b\b\b\b\b\b\b\b\b\b\b\b\b\b\b\b\b\b\b\b\b\b\b\b\b\b\b\b\b\b\b\b\b\b\b\b\b\b\b\b\b\b\b\b\b\b\b\b\b\r18/18 [==============================] - 1s 60ms/step - loss: 121.4792 - mae: 121.4792 - val_loss: 638.6309 - val_mae: 638.6309\n",
            "Epoch 31/100\n",
            "18/18 [==============================] - 0s 8ms/step - loss: 116.3115 - mae: 116.3115 - val_loss: 663.8690 - val_mae: 663.8690\n",
            "Epoch 32/100\n",
            "18/18 [==============================] - 0s 8ms/step - loss: 116.2972 - mae: 116.2972 - val_loss: 645.2679 - val_mae: 645.2679\n",
            "Epoch 33/100\n",
            "18/18 [==============================] - 0s 10ms/step - loss: 115.9028 - mae: 115.9028 - val_loss: 666.8186 - val_mae: 666.8186\n",
            "Epoch 34/100\n",
            "12/18 [===================>..........] - ETA: 0s - loss: 120.8776 - mae: 120.8776"
          ]
        },
        {
          "output_type": "stream",
          "name": "stderr",
          "text": [
            "WARNING:absl:Found untraced functions such as _update_step_xla while saving (showing 1 of 1). These functions will not be directly callable after loading.\n"
          ]
        },
        {
          "output_type": "stream",
          "name": "stdout",
          "text": [
            "\b\b\b\b\b\b\b\b\b\b\b\b\b\b\b\b\b\b\b\b\b\b\b\b\b\b\b\b\b\b\b\b\b\b\b\b\b\b\b\b\b\b\b\b\b\b\b\b\b\b\b\b\b\b\b\b\b\b\b\b\b\b\b\b\b\b\b\b\b\b\b\b\b\b\b\b\b\b\b\b\b\r18/18 [==============================] - 1s 43ms/step - loss: 116.1608 - mae: 116.1608 - val_loss: 624.1863 - val_mae: 624.1863\n",
            "Epoch 35/100\n",
            " 1/18 [>.............................] - ETA: 0s - loss: 104.4017 - mae: 104.4017"
          ]
        },
        {
          "output_type": "stream",
          "name": "stderr",
          "text": [
            "WARNING:absl:Found untraced functions such as _update_step_xla while saving (showing 1 of 1). These functions will not be directly callable after loading.\n"
          ]
        },
        {
          "output_type": "stream",
          "name": "stdout",
          "text": [
            "\b\b\b\b\b\b\b\b\b\b\b\b\b\b\b\b\b\b\b\b\b\b\b\b\b\b\b\b\b\b\b\b\b\b\b\b\b\b\b\b\b\b\b\b\b\b\b\b\b\b\b\b\b\b\b\b\b\b\b\b\b\b\b\b\b\b\b\b\b\b\b\b\b\b\b\b\b\b\b\b\b\r18/18 [==============================] - 1s 65ms/step - loss: 114.9222 - mae: 114.9222 - val_loss: 621.6820 - val_mae: 621.6820\n",
            "Epoch 36/100\n",
            "14/18 [======================>.......] - ETA: 0s - loss: 116.9685 - mae: 116.9685"
          ]
        },
        {
          "output_type": "stream",
          "name": "stderr",
          "text": [
            "WARNING:absl:Found untraced functions such as _update_step_xla while saving (showing 1 of 1). These functions will not be directly callable after loading.\n"
          ]
        },
        {
          "output_type": "stream",
          "name": "stdout",
          "text": [
            "\b\b\b\b\b\b\b\b\b\b\b\b\b\b\b\b\b\b\b\b\b\b\b\b\b\b\b\b\b\b\b\b\b\b\b\b\b\b\b\b\b\b\b\b\b\b\b\b\b\b\b\b\b\b\b\b\b\b\b\b\b\b\b\b\b\b\b\b\b\b\b\b\b\b\b\b\b\b\b\b\b\r18/18 [==============================] - 1s 53ms/step - loss: 117.3393 - mae: 117.3393 - val_loss: 619.0078 - val_mae: 619.0078\n",
            "Epoch 37/100\n",
            "18/18 [==============================] - 0s 5ms/step - loss: 114.9788 - mae: 114.9788 - val_loss: 667.6230 - val_mae: 667.6230\n",
            "Epoch 38/100\n",
            "18/18 [==============================] - 0s 6ms/step - loss: 117.2475 - mae: 117.2475 - val_loss: 632.2854 - val_mae: 632.2854\n",
            "Epoch 39/100\n",
            "16/18 [=========================>....] - ETA: 0s - loss: 118.1424 - mae: 118.1424"
          ]
        },
        {
          "output_type": "stream",
          "name": "stderr",
          "text": [
            "WARNING:absl:Found untraced functions such as _update_step_xla while saving (showing 1 of 1). These functions will not be directly callable after loading.\n"
          ]
        },
        {
          "output_type": "stream",
          "name": "stdout",
          "text": [
            "\b\b\b\b\b\b\b\b\b\b\b\b\b\b\b\b\b\b\b\b\b\b\b\b\b\b\b\b\b\b\b\b\b\b\b\b\b\b\b\b\b\b\b\b\b\b\b\b\b\b\b\b\b\b\b\b\b\b\b\b\b\b\b\b\b\b\b\b\b\b\b\b\b\b\b\b\b\b\b\b\b\r18/18 [==============================] - 0s 29ms/step - loss: 116.2706 - mae: 116.2706 - val_loss: 615.6168 - val_mae: 615.6168\n",
            "Epoch 40/100\n",
            " 1/18 [>.............................] - ETA: 0s - loss: 103.5579 - mae: 103.5579"
          ]
        },
        {
          "output_type": "stream",
          "name": "stderr",
          "text": [
            "WARNING:absl:Found untraced functions such as _update_step_xla while saving (showing 1 of 1). These functions will not be directly callable after loading.\n"
          ]
        },
        {
          "output_type": "stream",
          "name": "stdout",
          "text": [
            "\b\b\b\b\b\b\b\b\b\b\b\b\b\b\b\b\b\b\b\b\b\b\b\b\b\b\b\b\b\b\b\b\b\b\b\b\b\b\b\b\b\b\b\b\b\b\b\b\b\b\b\b\b\b\b\b\b\b\b\b\b\b\b\b\b\b\b\b\b\b\b\b\b\b\b\b\b\b\b\b\b\r18/18 [==============================] - 0s 28ms/step - loss: 113.1030 - mae: 113.1030 - val_loss: 614.8087 - val_mae: 614.8087\n",
            "Epoch 41/100\n",
            "18/18 [==============================] - 0s 6ms/step - loss: 113.8817 - mae: 113.8817 - val_loss: 618.0871 - val_mae: 618.0871\n",
            "Epoch 42/100\n",
            "18/18 [==============================] - 0s 6ms/step - loss: 118.7197 - mae: 118.7197 - val_loss: 641.2854 - val_mae: 641.2854\n",
            "Epoch 43/100\n",
            "18/18 [==============================] - 0s 5ms/step - loss: 116.4885 - mae: 116.4885 - val_loss: 642.6014 - val_mae: 642.6014\n",
            "Epoch 44/100\n",
            " 1/18 [>.............................] - ETA: 0s - loss: 70.6128 - mae: 70.6128"
          ]
        },
        {
          "output_type": "stream",
          "name": "stderr",
          "text": [
            "WARNING:absl:Found untraced functions such as _update_step_xla while saving (showing 1 of 1). These functions will not be directly callable after loading.\n"
          ]
        },
        {
          "output_type": "stream",
          "name": "stdout",
          "text": [
            "\b\b\b\b\b\b\b\b\b\b\b\b\b\b\b\b\b\b\b\b\b\b\b\b\b\b\b\b\b\b\b\b\b\b\b\b\b\b\b\b\b\b\b\b\b\b\b\b\b\b\b\b\b\b\b\b\b\b\b\b\b\b\b\b\b\b\b\b\b\b\b\b\b\b\b\b\b\b\b\r18/18 [==============================] - 0s 28ms/step - loss: 116.6718 - mae: 116.6718 - val_loss: 614.3090 - val_mae: 614.3090\n",
            "Epoch 45/100\n",
            " 1/18 [>.............................] - ETA: 0s - loss: 82.1246 - mae: 82.1246"
          ]
        },
        {
          "output_type": "stream",
          "name": "stderr",
          "text": [
            "WARNING:absl:Found untraced functions such as _update_step_xla while saving (showing 1 of 1). These functions will not be directly callable after loading.\n"
          ]
        },
        {
          "output_type": "stream",
          "name": "stdout",
          "text": [
            "\b\b\b\b\b\b\b\b\b\b\b\b\b\b\b\b\b\b\b\b\b\b\b\b\b\b\b\b\b\b\b\b\b\b\b\b\b\b\b\b\b\b\b\b\b\b\b\b\b\b\b\b\b\b\b\b\b\b\b\b\b\b\b\b\b\b\b\b\b\b\b\b\b\b\b\b\b\b\b\r18/18 [==============================] - 1s 30ms/step - loss: 112.3826 - mae: 112.3826 - val_loss: 612.5835 - val_mae: 612.5835\n",
            "Epoch 46/100\n",
            "18/18 [==============================] - 0s 5ms/step - loss: 112.1998 - mae: 112.1998 - val_loss: 629.1688 - val_mae: 629.1688\n",
            "Epoch 47/100\n",
            "18/18 [==============================] - 0s 5ms/step - loss: 114.9089 - mae: 114.9089 - val_loss: 703.8731 - val_mae: 703.8731\n",
            "Epoch 48/100\n",
            " 1/18 [>.............................] - ETA: 0s - loss: 115.3073 - mae: 115.3073"
          ]
        },
        {
          "output_type": "stream",
          "name": "stderr",
          "text": [
            "WARNING:absl:Found untraced functions such as _update_step_xla while saving (showing 1 of 1). These functions will not be directly callable after loading.\n"
          ]
        },
        {
          "output_type": "stream",
          "name": "stdout",
          "text": [
            "\b\b\b\b\b\b\b\b\b\b\b\b\b\b\b\b\b\b\b\b\b\b\b\b\b\b\b\b\b\b\b\b\b\b\b\b\b\b\b\b\b\b\b\b\b\b\b\b\b\b\b\b\b\b\b\b\b\b\b\b\b\b\b\b\b\b\b\b\b\b\b\b\b\b\b\b\b\b\b\b\b\r18/18 [==============================] - 0s 27ms/step - loss: 113.1233 - mae: 113.1233 - val_loss: 599.8705 - val_mae: 599.8705\n",
            "Epoch 49/100\n",
            "18/18 [==============================] - 0s 6ms/step - loss: 112.8247 - mae: 112.8247 - val_loss: 652.2009 - val_mae: 652.2009\n",
            "Epoch 50/100\n",
            "18/18 [==============================] - 0s 5ms/step - loss: 118.9361 - mae: 118.9361 - val_loss: 610.7152 - val_mae: 610.7152\n",
            "Epoch 51/100\n",
            "18/18 [==============================] - 0s 5ms/step - loss: 113.3409 - mae: 113.3409 - val_loss: 614.2273 - val_mae: 614.2273\n",
            "Epoch 52/100\n",
            " 1/18 [>.............................] - ETA: 0s - loss: 119.4772 - mae: 119.4772"
          ]
        },
        {
          "output_type": "stream",
          "name": "stderr",
          "text": [
            "WARNING:absl:Found untraced functions such as _update_step_xla while saving (showing 1 of 1). These functions will not be directly callable after loading.\n"
          ]
        },
        {
          "output_type": "stream",
          "name": "stdout",
          "text": [
            "\b\b\b\b\b\b\b\b\b\b\b\b\b\b\b\b\b\b\b\b\b\b\b\b\b\b\b\b\b\b\b\b\b\b\b\b\b\b\b\b\b\b\b\b\b\b\b\b\b\b\b\b\b\b\b\b\b\b\b\b\b\b\b\b\b\b\b\b\b\b\b\b\b\b\b\b\b\b\b\b\b\r18/18 [==============================] - 1s 31ms/step - loss: 111.7585 - mae: 111.7585 - val_loss: 596.5969 - val_mae: 596.5969\n",
            "Epoch 53/100\n",
            "18/18 [==============================] - 0s 8ms/step - loss: 113.0189 - mae: 113.0189 - val_loss: 641.6577 - val_mae: 641.6577\n",
            "Epoch 54/100\n",
            "13/18 [====================>.........] - ETA: 0s - loss: 111.0875 - mae: 111.0875"
          ]
        },
        {
          "output_type": "stream",
          "name": "stderr",
          "text": [
            "WARNING:absl:Found untraced functions such as _update_step_xla while saving (showing 1 of 1). These functions will not be directly callable after loading.\n"
          ]
        },
        {
          "output_type": "stream",
          "name": "stdout",
          "text": [
            "\b\b\b\b\b\b\b\b\b\b\b\b\b\b\b\b\b\b\b\b\b\b\b\b\b\b\b\b\b\b\b\b\b\b\b\b\b\b\b\b\b\b\b\b\b\b\b\b\b\b\b\b\b\b\b\b\b\b\b\b\b\b\b\b\b\b\b\b\b\b\b\b\b\b\b\b\b\b\b\b\b\r18/18 [==============================] - 1s 45ms/step - loss: 112.8009 - mae: 112.8009 - val_loss: 595.9059 - val_mae: 595.9059\n",
            "Epoch 55/100\n",
            "18/18 [==============================] - 0s 12ms/step - loss: 114.3001 - mae: 114.3001 - val_loss: 631.9073 - val_mae: 631.9073\n",
            "Epoch 56/100\n",
            "18/18 [==============================] - 0s 13ms/step - loss: 112.2830 - mae: 112.2830 - val_loss: 778.2341 - val_mae: 778.2340\n",
            "Epoch 57/100\n",
            "18/18 [==============================] - 0s 12ms/step - loss: 123.0201 - mae: 123.0201 - val_loss: 611.4517 - val_mae: 611.4517\n",
            "Epoch 58/100\n",
            "16/18 [=========================>....] - ETA: 0s - loss: 122.1990 - mae: 122.1990"
          ]
        },
        {
          "output_type": "stream",
          "name": "stderr",
          "text": [
            "WARNING:absl:Found untraced functions such as _update_step_xla while saving (showing 1 of 1). These functions will not be directly callable after loading.\n"
          ]
        },
        {
          "output_type": "stream",
          "name": "stdout",
          "text": [
            "\b\b\b\b\b\b\b\b\b\b\b\b\b\b\b\b\b\b\b\b\b\b\b\b\b\b\b\b\b\b\b\b\b\b\b\b\b\b\b\b\b\b\b\b\b\b\b\b\b\b\b\b\b\b\b\b\b\b\b\b\b\b\b\b\b\b\b\b\b\b\b\b\b\b\b\b\b\b\b\b\b\r18/18 [==============================] - 1s 55ms/step - loss: 122.3390 - mae: 122.3390 - val_loss: 594.9688 - val_mae: 594.9688\n",
            "Epoch 59/100\n",
            "18/18 [==============================] - 0s 10ms/step - loss: 112.5000 - mae: 112.5000 - val_loss: 595.2565 - val_mae: 595.2565\n",
            "Epoch 60/100\n",
            "18/18 [==============================] - 0s 13ms/step - loss: 110.6152 - mae: 110.6152 - val_loss: 620.3141 - val_mae: 620.3141\n",
            "Epoch 61/100\n",
            "13/18 [====================>.........] - ETA: 0s - loss: 112.0260 - mae: 112.0260"
          ]
        },
        {
          "output_type": "stream",
          "name": "stderr",
          "text": [
            "WARNING:absl:Found untraced functions such as _update_step_xla while saving (showing 1 of 1). These functions will not be directly callable after loading.\n"
          ]
        },
        {
          "output_type": "stream",
          "name": "stdout",
          "text": [
            "\b\b\b\b\b\b\b\b\b\b\b\b\b\b\b\b\b\b\b\b\b\b\b\b\b\b\b\b\b\b\b\b\b\b\b\b\b\b\b\b\b\b\b\b\b\b\b\b\b\b\b\b\b\b\b\b\b\b\b\b\b\b\b\b\b\b\b\b\b\b\b\b\b\b\b\b\b\b\b\b\b\r18/18 [==============================] - 1s 48ms/step - loss: 112.3910 - mae: 112.3910 - val_loss: 590.1398 - val_mae: 590.1398\n",
            "Epoch 62/100\n",
            "18/18 [==============================] - 0s 7ms/step - loss: 108.9682 - mae: 108.9682 - val_loss: 593.4091 - val_mae: 593.4091\n",
            "Epoch 63/100\n",
            "18/18 [==============================] - 0s 6ms/step - loss: 114.0766 - mae: 114.0766 - val_loss: 633.3093 - val_mae: 633.3093\n",
            "Epoch 64/100\n",
            "18/18 [==============================] - 0s 5ms/step - loss: 110.3257 - mae: 110.3257 - val_loss: 647.9521 - val_mae: 647.9521\n",
            "Epoch 65/100\n",
            " 1/18 [>.............................] - ETA: 0s - loss: 137.4203 - mae: 137.4203"
          ]
        },
        {
          "output_type": "stream",
          "name": "stderr",
          "text": [
            "WARNING:absl:Found untraced functions such as _update_step_xla while saving (showing 1 of 1). These functions will not be directly callable after loading.\n"
          ]
        },
        {
          "output_type": "stream",
          "name": "stdout",
          "text": [
            "\b\b\b\b\b\b\b\b\b\b\b\b\b\b\b\b\b\b\b\b\b\b\b\b\b\b\b\b\b\b\b\b\b\b\b\b\b\b\b\b\b\b\b\b\b\b\b\b\b\b\b\b\b\b\b\b\b\b\b\b\b\b\b\b\b\b\b\b\b\b\b\b\b\b\b\b\b\b\b\b\b\r18/18 [==============================] - 0s 28ms/step - loss: 112.2198 - mae: 112.2198 - val_loss: 587.8606 - val_mae: 587.8606\n",
            "Epoch 66/100\n",
            " 1/18 [>.............................] - ETA: 0s - loss: 111.3766 - mae: 111.3766"
          ]
        },
        {
          "output_type": "stream",
          "name": "stderr",
          "text": [
            "WARNING:absl:Found untraced functions such as _update_step_xla while saving (showing 1 of 1). These functions will not be directly callable after loading.\n"
          ]
        },
        {
          "output_type": "stream",
          "name": "stdout",
          "text": [
            "\b\b\b\b\b\b\b\b\b\b\b\b\b\b\b\b\b\b\b\b\b\b\b\b\b\b\b\b\b\b\b\b\b\b\b\b\b\b\b\b\b\b\b\b\b\b\b\b\b\b\b\b\b\b\b\b\b\b\b\b\b\b\b\b\b\b\b\b\b\b\b\b\b\b\b\b\b\b\b\b\b\r18/18 [==============================] - 0s 27ms/step - loss: 108.5753 - mae: 108.5753 - val_loss: 586.3032 - val_mae: 586.3032\n",
            "Epoch 67/100\n",
            "18/18 [==============================] - 0s 6ms/step - loss: 108.9696 - mae: 108.9696 - val_loss: 649.3134 - val_mae: 649.3134\n",
            "Epoch 68/100\n",
            "18/18 [==============================] - 0s 5ms/step - loss: 116.1436 - mae: 116.1436 - val_loss: 692.4813 - val_mae: 692.4813\n",
            "Epoch 69/100\n",
            "18/18 [==============================] - 0s 5ms/step - loss: 132.6020 - mae: 132.6020 - val_loss: 662.9556 - val_mae: 662.9556\n",
            "Epoch 70/100\n",
            "18/18 [==============================] - 0s 5ms/step - loss: 136.5399 - mae: 136.5399 - val_loss: 642.8605 - val_mae: 642.8605\n",
            "Epoch 71/100\n",
            "18/18 [==============================] - 0s 8ms/step - loss: 116.0337 - mae: 116.0337 - val_loss: 624.2720 - val_mae: 624.2720\n",
            "Epoch 72/100\n",
            "18/18 [==============================] - 0s 8ms/step - loss: 110.0282 - mae: 110.0282 - val_loss: 586.3386 - val_mae: 586.3386\n",
            "Epoch 73/100\n",
            "18/18 [==============================] - 0s 13ms/step - loss: 112.8587 - mae: 112.8587 - val_loss: 588.7761 - val_mae: 588.7761\n",
            "Epoch 74/100\n",
            "18/18 [==============================] - ETA: 0s - loss: 110.4682 - mae: 110.4682"
          ]
        },
        {
          "output_type": "stream",
          "name": "stderr",
          "text": [
            "WARNING:absl:Found untraced functions such as _update_step_xla while saving (showing 1 of 1). These functions will not be directly callable after loading.\n"
          ]
        },
        {
          "output_type": "stream",
          "name": "stdout",
          "text": [
            "\b\b\b\b\b\b\b\b\b\b\b\b\b\b\b\b\b\b\b\b\b\b\b\b\b\b\b\b\b\b\b\b\b\b\b\b\b\b\b\b\b\b\b\b\b\b\b\b\b\b\b\b\b\b\b\b\b\b\b\b\b\b\b\b\b\b\b\b\b\b\b\b\b\b\b\b\b\b\b\b\b\r18/18 [==============================] - 1s 58ms/step - loss: 110.4682 - mae: 110.4682 - val_loss: 582.6970 - val_mae: 582.6970\n",
            "Epoch 75/100\n",
            "18/18 [==============================] - 0s 7ms/step - loss: 110.6462 - mae: 110.6462 - val_loss: 614.9139 - val_mae: 614.9139\n",
            "Epoch 76/100\n",
            "11/18 [=================>............] - ETA: 0s - loss: 114.5942 - mae: 114.5942"
          ]
        },
        {
          "output_type": "stream",
          "name": "stderr",
          "text": [
            "WARNING:absl:Found untraced functions such as _update_step_xla while saving (showing 1 of 1). These functions will not be directly callable after loading.\n"
          ]
        },
        {
          "output_type": "stream",
          "name": "stdout",
          "text": [
            "\b\b\b\b\b\b\b\b\b\b\b\b\b\b\b\b\b\b\b\b\b\b\b\b\b\b\b\b\b\b\b\b\b\b\b\b\b\b\b\b\b\b\b\b\b\b\b\b\b\b\b\b\b\b\b\b\b\b\b\b\b\b\b\b\b\b\b\b\b\b\b\b\b\b\b\b\b\b\b\b\b\r18/18 [==============================] - 1s 35ms/step - loss: 111.3434 - mae: 111.3434 - val_loss: 581.9670 - val_mae: 581.9670\n",
            "Epoch 77/100\n",
            " 1/18 [>.............................] - ETA: 0s - loss: 85.0922 - mae: 85.0922"
          ]
        },
        {
          "output_type": "stream",
          "name": "stderr",
          "text": [
            "WARNING:absl:Found untraced functions such as _update_step_xla while saving (showing 1 of 1). These functions will not be directly callable after loading.\n"
          ]
        },
        {
          "output_type": "stream",
          "name": "stdout",
          "text": [
            "\b\b\b\b\b\b\b\b\b\b\b\b\b\b\b\b\b\b\b\b\b\b\b\b\b\b\b\b\b\b\b\b\b\b\b\b\b\b\b\b\b\b\b\b\b\b\b\b\b\b\b\b\b\b\b\b\b\b\b\b\b\b\b\b\b\b\b\b\b\b\b\b\b\b\b\b\b\b\b\r18/18 [==============================] - 0s 28ms/step - loss: 109.7467 - mae: 109.7467 - val_loss: 581.6544 - val_mae: 581.6544\n",
            "Epoch 78/100\n",
            " 1/18 [>.............................] - ETA: 0s - loss: 108.9497 - mae: 108.9497"
          ]
        },
        {
          "output_type": "stream",
          "name": "stderr",
          "text": [
            "WARNING:absl:Found untraced functions such as _update_step_xla while saving (showing 1 of 1). These functions will not be directly callable after loading.\n"
          ]
        },
        {
          "output_type": "stream",
          "name": "stdout",
          "text": [
            "\b\b\b\b\b\b\b\b\b\b\b\b\b\b\b\b\b\b\b\b\b\b\b\b\b\b\b\b\b\b\b\b\b\b\b\b\b\b\b\b\b\b\b\b\b\b\b\b\b\b\b\b\b\b\b\b\b\b\b\b\b\b\b\b\b\b\b\b\b\b\b\b\b\b\b\b\b\b\b\b\b\r18/18 [==============================] - 1s 45ms/step - loss: 112.3093 - mae: 112.3093 - val_loss: 581.1041 - val_mae: 581.1041\n",
            "Epoch 79/100\n",
            "18/18 [==============================] - 0s 5ms/step - loss: 111.8104 - mae: 111.8104 - val_loss: 584.5922 - val_mae: 584.5922\n",
            "Epoch 80/100\n",
            "18/18 [==============================] - 0s 6ms/step - loss: 108.9038 - mae: 108.9038 - val_loss: 599.9161 - val_mae: 599.9161\n",
            "Epoch 81/100\n",
            "18/18 [==============================] - 0s 5ms/step - loss: 108.4413 - mae: 108.4413 - val_loss: 587.9060 - val_mae: 587.9060\n",
            "Epoch 82/100\n",
            "18/18 [==============================] - 0s 5ms/step - loss: 119.2808 - mae: 119.2808 - val_loss: 594.6102 - val_mae: 594.6102\n",
            "Epoch 83/100\n",
            "18/18 [==============================] - 0s 5ms/step - loss: 113.9726 - mae: 113.9726 - val_loss: 675.3500 - val_mae: 675.3500\n",
            "Epoch 84/100\n",
            "18/18 [==============================] - 0s 5ms/step - loss: 114.0973 - mae: 114.0973 - val_loss: 598.8115 - val_mae: 598.8115\n",
            "Epoch 85/100\n",
            "18/18 [==============================] - 0s 5ms/step - loss: 109.5213 - mae: 109.5213 - val_loss: 627.7266 - val_mae: 627.7266\n",
            "Epoch 86/100\n",
            "18/18 [==============================] - 0s 5ms/step - loss: 114.0552 - mae: 114.0552 - val_loss: 624.2918 - val_mae: 624.2918\n",
            "Epoch 87/100\n",
            "18/18 [==============================] - 0s 5ms/step - loss: 109.9935 - mae: 109.9935 - val_loss: 597.5577 - val_mae: 597.5577\n",
            "Epoch 88/100\n",
            "18/18 [==============================] - 0s 6ms/step - loss: 110.1986 - mae: 110.1986 - val_loss: 588.9506 - val_mae: 588.9506\n",
            "Epoch 89/100\n",
            " 1/18 [>.............................] - ETA: 0s - loss: 104.7415 - mae: 104.7415"
          ]
        },
        {
          "output_type": "stream",
          "name": "stderr",
          "text": [
            "WARNING:absl:Found untraced functions such as _update_step_xla while saving (showing 1 of 1). These functions will not be directly callable after loading.\n"
          ]
        },
        {
          "output_type": "stream",
          "name": "stdout",
          "text": [
            "\b\b\b\b\b\b\b\b\b\b\b\b\b\b\b\b\b\b\b\b\b\b\b\b\b\b\b\b\b\b\b\b\b\b\b\b\b\b\b\b\b\b\b\b\b\b\b\b\b\b\b\b\b\b\b\b\b\b\b\b\b\b\b\b\b\b\b\b\b\b\b\b\b\b\b\b\b\b\b\b\b\r18/18 [==============================] - 0s 27ms/step - loss: 110.6512 - mae: 110.6512 - val_loss: 577.3099 - val_mae: 577.3099\n",
            "Epoch 90/100\n",
            "18/18 [==============================] - 0s 6ms/step - loss: 108.0326 - mae: 108.0326 - val_loss: 593.5432 - val_mae: 593.5432\n",
            "Epoch 91/100\n",
            "18/18 [==============================] - 0s 5ms/step - loss: 111.8092 - mae: 111.8092 - val_loss: 590.7502 - val_mae: 590.7502\n",
            "Epoch 92/100\n",
            "18/18 [==============================] - 0s 5ms/step - loss: 111.9655 - mae: 111.9655 - val_loss: 578.6026 - val_mae: 578.6026\n",
            "Epoch 93/100\n",
            "18/18 [==============================] - 0s 6ms/step - loss: 117.5260 - mae: 117.5260 - val_loss: 637.9981 - val_mae: 637.9981\n",
            "Epoch 94/100\n",
            "18/18 [==============================] - 0s 6ms/step - loss: 113.6623 - mae: 113.6623 - val_loss: 619.5168 - val_mae: 619.5168\n",
            "Epoch 95/100\n",
            " 1/18 [>.............................] - ETA: 0s - loss: 141.3224 - mae: 141.3224"
          ]
        },
        {
          "output_type": "stream",
          "name": "stderr",
          "text": [
            "WARNING:absl:Found untraced functions such as _update_step_xla while saving (showing 1 of 1). These functions will not be directly callable after loading.\n"
          ]
        },
        {
          "output_type": "stream",
          "name": "stdout",
          "text": [
            "\b\b\b\b\b\b\b\b\b\b\b\b\b\b\b\b\b\b\b\b\b\b\b\b\b\b\b\b\b\b\b\b\b\b\b\b\b\b\b\b\b\b\b\b\b\b\b\b\b\b\b\b\b\b\b\b\b\b\b\b\b\b\b\b\b\b\b\b\b\b\b\b\b\b\b\b\b\b\b\b\b\r18/18 [==============================] - 1s 38ms/step - loss: 108.9605 - mae: 108.9605 - val_loss: 576.1630 - val_mae: 576.1630\n",
            "Epoch 96/100\n",
            "18/18 [==============================] - 0s 11ms/step - loss: 114.6142 - mae: 114.6142 - val_loss: 662.2930 - val_mae: 662.2930\n",
            "Epoch 97/100\n",
            "12/18 [===================>..........] - ETA: 0s - loss: 114.7244 - mae: 114.7244"
          ]
        },
        {
          "output_type": "stream",
          "name": "stderr",
          "text": [
            "WARNING:absl:Found untraced functions such as _update_step_xla while saving (showing 1 of 1). These functions will not be directly callable after loading.\n"
          ]
        },
        {
          "output_type": "stream",
          "name": "stdout",
          "text": [
            "\b\b\b\b\b\b\b\b\b\b\b\b\b\b\b\b\b\b\b\b\b\b\b\b\b\b\b\b\b\b\b\b\b\b\b\b\b\b\b\b\b\b\b\b\b\b\b\b\b\b\b\b\b\b\b\b\b\b\b\b\b\b\b\b\b\b\b\b\b\b\b\b\b\b\b\b\b\b\b\b\b\r18/18 [==============================] - 1s 58ms/step - loss: 113.3559 - mae: 113.3559 - val_loss: 575.8093 - val_mae: 575.8093\n",
            "Epoch 98/100\n",
            "14/18 [======================>.......] - ETA: 0s - loss: 111.6779 - mae: 111.6779"
          ]
        },
        {
          "output_type": "stream",
          "name": "stderr",
          "text": [
            "WARNING:absl:Found untraced functions such as _update_step_xla while saving (showing 1 of 1). These functions will not be directly callable after loading.\n"
          ]
        },
        {
          "output_type": "stream",
          "name": "stdout",
          "text": [
            "\b\b\b\b\b\b\b\b\b\b\b\b\b\b\b\b\b\b\b\b\b\b\b\b\b\b\b\b\b\b\b\b\b\b\b\b\b\b\b\b\b\b\b\b\b\b\b\b\b\b\b\b\b\b\b\b\b\b\b\b\b\b\b\b\b\b\b\b\b\b\b\b\b\b\b\b\b\b\b\b\b\r18/18 [==============================] - 1s 70ms/step - loss: 109.3441 - mae: 109.3441 - val_loss: 575.6700 - val_mae: 575.6700\n",
            "Epoch 99/100\n",
            "14/18 [======================>.......] - ETA: 0s - loss: 103.8844 - mae: 103.8844"
          ]
        },
        {
          "output_type": "stream",
          "name": "stderr",
          "text": [
            "WARNING:absl:Found untraced functions such as _update_step_xla while saving (showing 1 of 1). These functions will not be directly callable after loading.\n"
          ]
        },
        {
          "output_type": "stream",
          "name": "stdout",
          "text": [
            "\b\b\b\b\b\b\b\b\b\b\b\b\b\b\b\b\b\b\b\b\b\b\b\b\b\b\b\b\b\b\b\b\b\b\b\b\b\b\b\b\b\b\b\b\b\b\b\b\b\b\b\b\b\b\b\b\b\b\b\b\b\b\b\b\b\b\b\b\b\b\b\b\b\b\b\b\b\b\b\b\b\r18/18 [==============================] - 2s 113ms/step - loss: 107.8947 - mae: 107.8947 - val_loss: 575.5392 - val_mae: 575.5392\n",
            "Epoch 100/100\n",
            "18/18 [==============================] - 0s 20ms/step - loss: 117.0198 - mae: 117.0198 - val_loss: 703.2610 - val_mae: 703.2610\n"
          ]
        }
      ]
    },
    {
      "cell_type": "code",
      "source": [
        "model_1_results = model_1.evaluate(test_windows,test_labels)"
      ],
      "metadata": {
        "id": "H2MEJE91yvgo",
        "outputId": "5372b792-1657-412b-aa3f-b8084856b7e3",
        "colab": {
          "base_uri": "https://localhost:8080/"
        }
      },
      "execution_count": 51,
      "outputs": [
        {
          "output_type": "stream",
          "name": "stdout",
          "text": [
            "18/18 [==============================] - 0s 4ms/step - loss: 703.2611 - mae: 703.2611\n"
          ]
        }
      ]
    },
    {
      "cell_type": "code",
      "source": [
        "def make_preds(model,input_data):\n",
        "  forecast = model.predict(input_data)\n",
        "  return tf.squeeze(forecast)"
      ],
      "metadata": {
        "id": "6gTGc5Hm0J5T"
      },
      "execution_count": 52,
      "outputs": []
    },
    {
      "cell_type": "code",
      "source": [
        "model_1_preds = make_preds(model_1,test_windows)"
      ],
      "metadata": {
        "id": "5EFlBXNA0UUs",
        "outputId": "6a31a1e4-0244-46b8-d999-7ac60ff1e17a",
        "colab": {
          "base_uri": "https://localhost:8080/"
        }
      },
      "execution_count": 53,
      "outputs": [
        {
          "output_type": "stream",
          "name": "stdout",
          "text": [
            "18/18 [==============================] - 0s 4ms/step\n"
          ]
        }
      ]
    },
    {
      "cell_type": "code",
      "source": [
        "evaluation_metrics(y_true = tf.squeeze(test_labels),y_pred=model_1_preds)"
      ],
      "metadata": {
        "id": "05afJMg405vA",
        "outputId": "8ece2960-579f-468b-bcad-e67a119cf1ad",
        "colab": {
          "base_uri": "https://localhost:8080/"
        }
      },
      "execution_count": 54,
      "outputs": [
        {
          "output_type": "execute_result",
          "data": {
            "text/plain": [
              "{'mae': 703.261,\n",
              " 'mse': 1477270.5,\n",
              " 'rmse': 1215.4302,\n",
              " 'mape': 3.232016,\n",
              " 'mase': 1.2354348}"
            ]
          },
          "metadata": {},
          "execution_count": 54
        }
      ]
    },
    {
      "cell_type": "code",
      "source": [
        "offset = 100\n",
        "plt.figure(figsize = (10,7))\n",
        "plot_time_series(timesteps = x_test[-len(test_windows):],values = test_labels[:,0],start = offset,label = \"Test Data\")\n",
        "plot_time_series(timesteps = x_test[-len(test_windows):],values = model_1_preds,start = offset,label = \"Predict Data\",format = \"-\")"
      ],
      "metadata": {
        "id": "c4-LJHDZ06tE",
        "outputId": "9832b29c-e3aa-402e-9aa7-b067cbb3e955",
        "colab": {
          "base_uri": "https://localhost:8080/",
          "height": 442
        }
      },
      "execution_count": 55,
      "outputs": [
        {
          "output_type": "display_data",
          "data": {
            "text/plain": [
              "<Figure size 720x504 with 1 Axes>"
            ],
            "image/png": "[encoded data removed]"
          },
          "metadata": {
            "needs_background": "light"
          }
        }
      ]
    },
    {
      "cell_type": "markdown",
      "source": [
        "## Model 2: Dense(Window = 30,Horizon = 1)"
      ],
      "metadata": {
        "id": "WVQBQ8pt22rq"
      }
    },
    {
      "cell_type": "code",
      "source": [
        "full_windows,full_labels = make_windows(prices,window_size = 30,horizon = 1)"
      ],
      "metadata": {
        "id": "20zAK9hIxyH-"
      },
      "execution_count": 56,
      "outputs": []
    },
    {
      "cell_type": "code",
      "source": [
        "train_windows,test_windows,train_labels,test_labels = make_train_test_splits(full_windows,full_labels)"
      ],
      "metadata": {
        "id": "QqGEtBacx6YD"
      },
      "execution_count": 57,
      "outputs": []
    },
    {
      "cell_type": "code",
      "source": [
        "model_2 = tf.keras.Sequential([\n",
        "    layers.Dense(128,activation = \"relu\"),\n",
        "    layers.Dense(1,activation = \"linear\"),\n",
        "],name = \"model_2_dense\")\n",
        "model_2.compile(loss = \"mae\",metrics = [\"mae\"],optimizer = \"adam\")"
      ],
      "metadata": {
        "id": "QBl9xmHfx9gw"
      },
      "execution_count": 58,
      "outputs": []
    },
    {
      "cell_type": "code",
      "source": [
        "history_2 = model_2.fit(\n",
        "    train_windows,\n",
        "    train_labels,\n",
        "    epochs = 100,\n",
        "    verbose = 1,\n",
        "    batch_size = 128,\n",
        "    validation_data = (test_windows,test_labels),\n",
        "    callbacks = [create_model_checkpoint(model_name = model_2.name)]\n",
        ")"
      ],
      "metadata": {
        "id": "E7tBK_RMyU1P",
        "outputId": "59f6a5e4-db34-4e25-d14d-b08daf9b54f5",
        "colab": {
          "base_uri": "https://localhost:8080/"
        }
      },
      "execution_count": 59,
      "outputs": [
        {
          "output_type": "stream",
          "name": "stdout",
          "text": [
            "Epoch 1/100\n",
            "18/18 [==============================] - ETA: 0s - loss: 1084.8414 - mae: 1084.8414 "
          ]
        },
        {
          "output_type": "stream",
          "name": "stderr",
          "text": [
            "WARNING:absl:Found untraced functions such as _update_step_xla while saving (showing 1 of 1). These functions will not be directly callable after loading.\n"
          ]
        },
        {
          "output_type": "stream",
          "name": "stdout",
          "text": [
            "\b\b\b\b\b\b\b\b\b\b\b\b\b\b\b\b\b\b\b\b\b\b\b\b\b\b\b\b\b\b\b\b\b\b\b\b\b\b\b\b\b\b\b\b\b\b\b\b\b\b\b\b\b\b\b\b\b\b\b\b\b\b\b\b\b\b\b\b\b\b\b\b\b\b\b\b\b\b\b\b\b\b\b\r18/18 [==============================] - 2s 34ms/step - loss: 1084.8414 - mae: 1084.8414 - val_loss: 3589.8555 - val_mae: 3589.8555\n",
            "Epoch 2/100\n",
            " 1/18 [>.............................] - ETA: 0s - loss: 606.0447 - mae: 606.0447"
          ]
        },
        {
          "output_type": "stream",
          "name": "stderr",
          "text": [
            "WARNING:absl:Found untraced functions such as _update_step_xla while saving (showing 1 of 1). These functions will not be directly callable after loading.\n"
          ]
        },
        {
          "output_type": "stream",
          "name": "stdout",
          "text": [
            "\b\b\b\b\b\b\b\b\b\b\b\b\b\b\b\b\b\b\b\b\b\b\b\b\b\b\b\b\b\b\b\b\b\b\b\b\b\b\b\b\b\b\b\b\b\b\b\b\b\b\b\b\b\b\b\b\b\b\b\b\b\b\b\b\b\b\b\b\b\b\b\b\b\b\b\b\b\b\b\b\b\r18/18 [==============================] - 0s 26ms/step - loss: 356.3867 - mae: 356.3867 - val_loss: 1787.6481 - val_mae: 1787.6481\n",
            "Epoch 3/100\n",
            "18/18 [==============================] - ETA: 0s - loss: 266.6141 - mae: 266.6141"
          ]
        },
        {
          "output_type": "stream",
          "name": "stderr",
          "text": [
            "WARNING:absl:Found untraced functions such as _update_step_xla while saving (showing 1 of 1). These functions will not be directly callable after loading.\n"
          ]
        },
        {
          "output_type": "stream",
          "name": "stdout",
          "text": [
            "\b\b\b\b\b\b\b\b\b\b\b\b\b\b\b\b\b\b\b\b\b\b\b\b\b\b\b\b\b\b\b\b\b\b\b\b\b\b\b\b\b\b\b\b\b\b\b\b\b\b\b\b\b\b\b\b\b\b\b\b\b\b\b\b\b\b\b\b\b\b\b\b\b\b\b\b\b\b\b\b\b\r18/18 [==============================] - 1s 39ms/step - loss: 266.6141 - mae: 266.6141 - val_loss: 1374.6714 - val_mae: 1374.6714\n",
            "Epoch 4/100\n",
            "18/18 [==============================] - ETA: 0s - loss: 235.1700 - mae: 235.1700"
          ]
        },
        {
          "output_type": "stream",
          "name": "stderr",
          "text": [
            "WARNING:absl:Found untraced functions such as _update_step_xla while saving (showing 1 of 1). These functions will not be directly callable after loading.\n"
          ]
        },
        {
          "output_type": "stream",
          "name": "stdout",
          "text": [
            "\b\b\b\b\b\b\b\b\b\b\b\b\b\b\b\b\b\b\b\b\b\b\b\b\b\b\b\b\b\b\b\b\b\b\b\b\b\b\b\b\b\b\b\b\b\b\b\b\b\b\b\b\b\b\b\b\b\b\b\b\b\b\b\b\b\b\b\b\b\b\b\b\b\b\b\b\b\b\b\b\b\r18/18 [==============================] - 0s 26ms/step - loss: 235.1700 - mae: 235.1700 - val_loss: 1198.7421 - val_mae: 1198.7421\n",
            "Epoch 5/100\n",
            " 1/18 [>.............................] - ETA: 0s - loss: 144.1513 - mae: 144.1513"
          ]
        },
        {
          "output_type": "stream",
          "name": "stderr",
          "text": [
            "WARNING:absl:Found untraced functions such as _update_step_xla while saving (showing 1 of 1). These functions will not be directly callable after loading.\n"
          ]
        },
        {
          "output_type": "stream",
          "name": "stdout",
          "text": [
            "\b\b\b\b\b\b\b\b\b\b\b\b\b\b\b\b\b\b\b\b\b\b\b\b\b\b\b\b\b\b\b\b\b\b\b\b\b\b\b\b\b\b\b\b\b\b\b\b\b\b\b\b\b\b\b\b\b\b\b\b\b\b\b\b\b\b\b\b\b\b\b\b\b\b\b\b\b\b\b\b\b\r18/18 [==============================] - 0s 27ms/step - loss: 208.0132 - mae: 208.0132 - val_loss: 1106.1788 - val_mae: 1106.1788\n",
            "Epoch 6/100\n",
            " 1/18 [>.............................] - ETA: 0s - loss: 233.6927 - mae: 233.6927"
          ]
        },
        {
          "output_type": "stream",
          "name": "stderr",
          "text": [
            "WARNING:absl:Found untraced functions such as _update_step_xla while saving (showing 1 of 1). These functions will not be directly callable after loading.\n"
          ]
        },
        {
          "output_type": "stream",
          "name": "stdout",
          "text": [
            "\b\b\b\b\b\b\b\b\b\b\b\b\b\b\b\b\b\b\b\b\b\b\b\b\b\b\b\b\b\b\b\b\b\b\b\b\b\b\b\b\b\b\b\b\b\b\b\b\b\b\b\b\b\b\b\b\b\b\b\b\b\b\b\b\b\b\b\b\b\b\b\b\b\b\b\b\b\b\b\b\b\r18/18 [==============================] - 0s 27ms/step - loss: 196.0696 - mae: 196.0696 - val_loss: 1016.2020 - val_mae: 1016.2020\n",
            "Epoch 7/100\n",
            "18/18 [==============================] - ETA: 0s - loss: 180.2533 - mae: 180.2533"
          ]
        },
        {
          "output_type": "stream",
          "name": "stderr",
          "text": [
            "WARNING:absl:Found untraced functions such as _update_step_xla while saving (showing 1 of 1). These functions will not be directly callable after loading.\n"
          ]
        },
        {
          "output_type": "stream",
          "name": "stdout",
          "text": [
            "\b\b\b\b\b\b\b\b\b\b\b\b\b\b\b\b\b\b\b\b\b\b\b\b\b\b\b\b\b\b\b\b\b\b\b\b\b\b\b\b\b\b\b\b\b\b\b\b\b\b\b\b\b\b\b\b\b\b\b\b\b\b\b\b\b\b\b\b\b\b\b\b\b\b\b\b\b\b\b\b\b\r18/18 [==============================] - 1s 31ms/step - loss: 180.2533 - mae: 180.2533 - val_loss: 977.9404 - val_mae: 977.9404\n",
            "Epoch 8/100\n",
            " 1/18 [>.............................] - ETA: 0s - loss: 165.5162 - mae: 165.5162"
          ]
        },
        {
          "output_type": "stream",
          "name": "stderr",
          "text": [
            "WARNING:absl:Found untraced functions such as _update_step_xla while saving (showing 1 of 1). These functions will not be directly callable after loading.\n"
          ]
        },
        {
          "output_type": "stream",
          "name": "stdout",
          "text": [
            "\b\b\b\b\b\b\b\b\b\b\b\b\b\b\b\b\b\b\b\b\b\b\b\b\b\b\b\b\b\b\b\b\b\b\b\b\b\b\b\b\b\b\b\b\b\b\b\b\b\b\b\b\b\b\b\b\b\b\b\b\b\b\b\b\b\b\b\b\b\b\b\b\b\b\b\b\b\b\b\b\b\r18/18 [==============================] - 0s 26ms/step - loss: 168.7599 - mae: 168.7599 - val_loss: 936.2937 - val_mae: 936.2937\n",
            "Epoch 9/100\n",
            "18/18 [==============================] - 0s 5ms/step - loss: 164.8521 - mae: 164.8521 - val_loss: 946.1010 - val_mae: 946.1010\n",
            "Epoch 10/100\n",
            "18/18 [==============================] - 0s 5ms/step - loss: 161.4129 - mae: 161.4129 - val_loss: 1005.7662 - val_mae: 1005.7662\n",
            "Epoch 11/100\n",
            "18/18 [==============================] - 0s 5ms/step - loss: 165.0188 - mae: 165.0188 - val_loss: 944.6548 - val_mae: 944.6548\n",
            "Epoch 12/100\n",
            " 1/18 [>.............................] - ETA: 0s - loss: 125.2495 - mae: 125.2495"
          ]
        },
        {
          "output_type": "stream",
          "name": "stderr",
          "text": [
            "WARNING:absl:Found untraced functions such as _update_step_xla while saving (showing 1 of 1). These functions will not be directly callable after loading.\n"
          ]
        },
        {
          "output_type": "stream",
          "name": "stdout",
          "text": [
            "\b\b\b\b\b\b\b\b\b\b\b\b\b\b\b\b\b\b\b\b\b\b\b\b\b\b\b\b\b\b\b\b\b\b\b\b\b\b\b\b\b\b\b\b\b\b\b\b\b\b\b\b\b\b\b\b\b\b\b\b\b\b\b\b\b\b\b\b\b\b\b\b\b\b\b\b\b\b\b\b\b\r18/18 [==============================] - 0s 27ms/step - loss: 158.3154 - mae: 158.3154 - val_loss: 897.1113 - val_mae: 897.1113\n",
            "Epoch 13/100\n",
            "18/18 [==============================] - 0s 5ms/step - loss: 150.3797 - mae: 150.3797 - val_loss: 1057.4675 - val_mae: 1057.4675\n",
            "Epoch 14/100\n",
            "18/18 [==============================] - 0s 4ms/step - loss: 158.4941 - mae: 158.4941 - val_loss: 971.4024 - val_mae: 971.4024\n",
            "Epoch 15/100\n",
            "18/18 [==============================] - 0s 5ms/step - loss: 163.0444 - mae: 163.0444 - val_loss: 982.7913 - val_mae: 982.7913\n",
            "Epoch 16/100\n",
            "18/18 [==============================] - 0s 5ms/step - loss: 162.4107 - mae: 162.4107 - val_loss: 1057.0652 - val_mae: 1057.0652\n",
            "Epoch 17/100\n",
            "18/18 [==============================] - 0s 5ms/step - loss: 152.6246 - mae: 152.6246 - val_loss: 936.5558 - val_mae: 936.5558\n",
            "Epoch 18/100\n",
            "17/18 [===========================>..] - ETA: 0s - loss: 143.2284 - mae: 143.2284"
          ]
        },
        {
          "output_type": "stream",
          "name": "stderr",
          "text": [
            "WARNING:absl:Found untraced functions such as _update_step_xla while saving (showing 1 of 1). These functions will not be directly callable after loading.\n"
          ]
        },
        {
          "output_type": "stream",
          "name": "stdout",
          "text": [
            "\b\b\b\b\b\b\b\b\b\b\b\b\b\b\b\b\b\b\b\b\b\b\b\b\b\b\b\b\b\b\b\b\b\b\b\b\b\b\b\b\b\b\b\b\b\b\b\b\b\b\b\b\b\b\b\b\b\b\b\b\b\b\b\b\b\b\b\b\b\b\b\b\b\b\b\b\b\b\b\b\b\r18/18 [==============================] - 0s 28ms/step - loss: 143.3316 - mae: 143.3316 - val_loss: 819.5333 - val_mae: 819.5333\n",
            "Epoch 19/100\n",
            "18/18 [==============================] - 0s 6ms/step - loss: 139.3109 - mae: 139.3109 - val_loss: 845.2568 - val_mae: 845.2568\n",
            "Epoch 20/100\n",
            "18/18 [==============================] - 0s 5ms/step - loss: 137.0848 - mae: 137.0848 - val_loss: 820.5760 - val_mae: 820.5760\n",
            "Epoch 21/100\n",
            "18/18 [==============================] - ETA: 0s - loss: 151.2727 - mae: 151.2727"
          ]
        },
        {
          "output_type": "stream",
          "name": "stderr",
          "text": [
            "WARNING:absl:Found untraced functions such as _update_step_xla while saving (showing 1 of 1). These functions will not be directly callable after loading.\n"
          ]
        },
        {
          "output_type": "stream",
          "name": "stdout",
          "text": [
            "\b\b\b\b\b\b\b\b\b\b\b\b\b\b\b\b\b\b\b\b\b\b\b\b\b\b\b\b\b\b\b\b\b\b\b\b\b\b\b\b\b\b\b\b\b\b\b\b\b\b\b\b\b\b\b\b\b\b\b\b\b\b\b\b\b\b\b\b\b\b\b\b\b\b\b\b\b\b\b\b\b\r18/18 [==============================] - 0s 28ms/step - loss: 151.2727 - mae: 151.2727 - val_loss: 804.7014 - val_mae: 804.7014\n",
            "Epoch 22/100\n",
            " 1/18 [>.............................] - ETA: 0s - loss: 120.0861 - mae: 120.0861"
          ]
        },
        {
          "output_type": "stream",
          "name": "stderr",
          "text": [
            "WARNING:absl:Found untraced functions such as _update_step_xla while saving (showing 1 of 1). These functions will not be directly callable after loading.\n"
          ]
        },
        {
          "output_type": "stream",
          "name": "stdout",
          "text": [
            "\b\b\b\b\b\b\b\b\b\b\b\b\b\b\b\b\b\b\b\b\b\b\b\b\b\b\b\b\b\b\b\b\b\b\b\b\b\b\b\b\b\b\b\b\b\b\b\b\b\b\b\b\b\b\b\b\b\b\b\b\b\b\b\b\b\b\b\b\b\b\b\b\b\b\b\b\b\b\b\b\b\r18/18 [==============================] - 0s 26ms/step - loss: 148.6289 - mae: 148.6289 - val_loss: 750.8112 - val_mae: 750.8112\n",
            "Epoch 23/100\n",
            "18/18 [==============================] - 0s 5ms/step - loss: 136.0155 - mae: 136.0155 - val_loss: 891.8926 - val_mae: 891.8926\n",
            "Epoch 24/100\n",
            "18/18 [==============================] - 0s 5ms/step - loss: 150.6386 - mae: 150.6386 - val_loss: 757.6198 - val_mae: 757.6198\n",
            "Epoch 25/100\n",
            "18/18 [==============================] - 0s 5ms/step - loss: 146.5105 - mae: 146.5105 - val_loss: 784.8858 - val_mae: 784.8858\n",
            "Epoch 26/100\n",
            " 1/18 [>.............................] - ETA: 0s - loss: 125.2184 - mae: 125.2184"
          ]
        },
        {
          "output_type": "stream",
          "name": "stderr",
          "text": [
            "WARNING:absl:Found untraced functions such as _update_step_xla while saving (showing 1 of 1). These functions will not be directly callable after loading.\n"
          ]
        },
        {
          "output_type": "stream",
          "name": "stdout",
          "text": [
            "\b\b\b\b\b\b\b\b\b\b\b\b\b\b\b\b\b\b\b\b\b\b\b\b\b\b\b\b\b\b\b\b\b\b\b\b\b\b\b\b\b\b\b\b\b\b\b\b\b\b\b\b\b\b\b\b\b\b\b\b\b\b\b\b\b\b\b\b\b\b\b\b\b\b\b\b\b\b\b\b\b\r18/18 [==============================] - 0s 26ms/step - loss: 137.0258 - mae: 137.0258 - val_loss: 731.5775 - val_mae: 731.5775\n",
            "Epoch 27/100\n",
            " 1/18 [>.............................] - ETA: 0s - loss: 92.4436 - mae: 92.4436"
          ]
        },
        {
          "output_type": "stream",
          "name": "stderr",
          "text": [
            "WARNING:absl:Found untraced functions such as _update_step_xla while saving (showing 1 of 1). These functions will not be directly callable after loading.\n"
          ]
        },
        {
          "output_type": "stream",
          "name": "stdout",
          "text": [
            "\b\b\b\b\b\b\b\b\b\b\b\b\b\b\b\b\b\b\b\b\b\b\b\b\b\b\b\b\b\b\b\b\b\b\b\b\b\b\b\b\b\b\b\b\b\b\b\b\b\b\b\b\b\b\b\b\b\b\b\b\b\b\b\b\b\b\b\b\b\b\b\b\b\b\b\b\b\b\b\r18/18 [==============================] - 0s 27ms/step - loss: 138.6285 - mae: 138.6285 - val_loss: 717.2532 - val_mae: 717.2532\n",
            "Epoch 28/100\n",
            "18/18 [==============================] - 0s 6ms/step - loss: 130.9882 - mae: 130.9882 - val_loss: 793.0057 - val_mae: 793.0057\n",
            "Epoch 29/100\n",
            "18/18 [==============================] - 0s 5ms/step - loss: 130.9241 - mae: 130.9241 - val_loss: 938.2195 - val_mae: 938.2196\n",
            "Epoch 30/100\n",
            "18/18 [==============================] - 0s 5ms/step - loss: 142.0401 - mae: 142.0401 - val_loss: 806.2129 - val_mae: 806.2129\n",
            "Epoch 31/100\n",
            "18/18 [==============================] - ETA: 0s - loss: 139.0762 - mae: 139.0762"
          ]
        },
        {
          "output_type": "stream",
          "name": "stderr",
          "text": [
            "WARNING:absl:Found untraced functions such as _update_step_xla while saving (showing 1 of 1). These functions will not be directly callable after loading.\n"
          ]
        },
        {
          "output_type": "stream",
          "name": "stdout",
          "text": [
            "\b\b\b\b\b\b\b\b\b\b\b\b\b\b\b\b\b\b\b\b\b\b\b\b\b\b\b\b\b\b\b\b\b\b\b\b\b\b\b\b\b\b\b\b\b\b\b\b\b\b\b\b\b\b\b\b\b\b\b\b\b\b\b\b\b\b\b\b\b\b\b\b\b\b\b\b\b\b\b\b\b\r18/18 [==============================] - 0s 27ms/step - loss: 139.0762 - mae: 139.0762 - val_loss: 693.2088 - val_mae: 693.2088\n",
            "Epoch 32/100\n",
            "18/18 [==============================] - 0s 5ms/step - loss: 125.0312 - mae: 125.0312 - val_loss: 907.0571 - val_mae: 907.0571\n",
            "Epoch 33/100\n",
            "18/18 [==============================] - 0s 5ms/step - loss: 125.6671 - mae: 125.6671 - val_loss: 736.3521 - val_mae: 736.3521\n",
            "Epoch 34/100\n",
            "13/18 [====================>.........] - ETA: 0s - loss: 124.2877 - mae: 124.2877"
          ]
        },
        {
          "output_type": "stream",
          "name": "stderr",
          "text": [
            "WARNING:absl:Found untraced functions such as _update_step_xla while saving (showing 1 of 1). These functions will not be directly callable after loading.\n"
          ]
        },
        {
          "output_type": "stream",
          "name": "stdout",
          "text": [
            "\b\b\b\b\b\b\b\b\b\b\b\b\b\b\b\b\b\b\b\b\b\b\b\b\b\b\b\b\b\b\b\b\b\b\b\b\b\b\b\b\b\b\b\b\b\b\b\b\b\b\b\b\b\b\b\b\b\b\b\b\b\b\b\b\b\b\b\b\b\b\b\b\b\b\b\b\b\b\b\b\b\r18/18 [==============================] - 1s 40ms/step - loss: 126.7481 - mae: 126.7481 - val_loss: 678.1724 - val_mae: 678.1724\n",
            "Epoch 35/100\n",
            "18/18 [==============================] - 0s 7ms/step - loss: 127.0581 - mae: 127.0581 - val_loss: 691.9441 - val_mae: 691.9441\n",
            "Epoch 36/100\n",
            "18/18 [==============================] - 0s 7ms/step - loss: 134.9036 - mae: 134.9036 - val_loss: 796.9605 - val_mae: 796.9605\n",
            "Epoch 37/100\n",
            "18/18 [==============================] - 0s 7ms/step - loss: 132.8746 - mae: 132.8746 - val_loss: 797.3975 - val_mae: 797.3975\n",
            "Epoch 38/100\n",
            "14/18 [======================>.......] - ETA: 0s - loss: 159.1771 - mae: 159.1771"
          ]
        },
        {
          "output_type": "stream",
          "name": "stderr",
          "text": [
            "WARNING:absl:Found untraced functions such as _update_step_xla while saving (showing 1 of 1). These functions will not be directly callable after loading.\n"
          ]
        },
        {
          "output_type": "stream",
          "name": "stdout",
          "text": [
            "\b\b\b\b\b\b\b\b\b\b\b\b\b\b\b\b\b\b\b\b\b\b\b\b\b\b\b\b\b\b\b\b\b\b\b\b\b\b\b\b\b\b\b\b\b\b\b\b\b\b\b\b\b\b\b\b\b\b\b\b\b\b\b\b\b\b\b\b\b\b\b\b\b\b\b\b\b\b\b\b\b\r18/18 [==============================] - 1s 39ms/step - loss: 156.0435 - mae: 156.0435 - val_loss: 662.6496 - val_mae: 662.6496\n",
            "Epoch 39/100\n",
            "18/18 [==============================] - 0s 7ms/step - loss: 148.7694 - mae: 148.7694 - val_loss: 762.6047 - val_mae: 762.6047\n",
            "Epoch 40/100\n",
            "18/18 [==============================] - 0s 7ms/step - loss: 137.1156 - mae: 137.1156 - val_loss: 1050.6257 - val_mae: 1050.6257\n",
            "Epoch 41/100\n",
            "18/18 [==============================] - 0s 8ms/step - loss: 141.5314 - mae: 141.5314 - val_loss: 720.7742 - val_mae: 720.7742\n",
            "Epoch 42/100\n",
            "15/18 [========================>.....] - ETA: 0s - loss: 131.1301 - mae: 131.1301"
          ]
        },
        {
          "output_type": "stream",
          "name": "stderr",
          "text": [
            "WARNING:absl:Found untraced functions such as _update_step_xla while saving (showing 1 of 1). These functions will not be directly callable after loading.\n"
          ]
        },
        {
          "output_type": "stream",
          "name": "stdout",
          "text": [
            "\b\b\b\b\b\b\b\b\b\b\b\b\b\b\b\b\b\b\b\b\b\b\b\b\b\b\b\b\b\b\b\b\b\b\b\b\b\b\b\b\b\b\b\b\b\b\b\b\b\b\b\b\b\b\b\b\b\b\b\b\b\b\b\b\b\b\b\b\b\b\b\b\b\b\b\b\b\b\b\b\b\r18/18 [==============================] - 1s 30ms/step - loss: 129.4974 - mae: 129.4974 - val_loss: 657.7812 - val_mae: 657.7812\n",
            "Epoch 43/100\n",
            "18/18 [==============================] - 0s 5ms/step - loss: 117.6837 - mae: 117.6837 - val_loss: 725.7520 - val_mae: 725.7520\n",
            "Epoch 44/100\n",
            " 1/18 [>.............................] - ETA: 0s - loss: 136.2819 - mae: 136.2819"
          ]
        },
        {
          "output_type": "stream",
          "name": "stderr",
          "text": [
            "WARNING:absl:Found untraced functions such as _update_step_xla while saving (showing 1 of 1). These functions will not be directly callable after loading.\n"
          ]
        },
        {
          "output_type": "stream",
          "name": "stdout",
          "text": [
            "\b\b\b\b\b\b\b\b\b\b\b\b\b\b\b\b\b\b\b\b\b\b\b\b\b\b\b\b\b\b\b\b\b\b\b\b\b\b\b\b\b\b\b\b\b\b\b\b\b\b\b\b\b\b\b\b\b\b\b\b\b\b\b\b\b\b\b\b\b\b\b\b\b\b\b\b\b\b\b\b\b\r18/18 [==============================] - 1s 43ms/step - loss: 129.1518 - mae: 129.1518 - val_loss: 654.5771 - val_mae: 654.5771\n",
            "Epoch 45/100\n",
            " 1/18 [>.............................] - ETA: 0s - loss: 107.5472 - mae: 107.5472"
          ]
        },
        {
          "output_type": "stream",
          "name": "stderr",
          "text": [
            "WARNING:absl:Found untraced functions such as _update_step_xla while saving (showing 1 of 1). These functions will not be directly callable after loading.\n"
          ]
        },
        {
          "output_type": "stream",
          "name": "stdout",
          "text": [
            "\b\b\b\b\b\b\b\b\b\b\b\b\b\b\b\b\b\b\b\b\b\b\b\b\b\b\b\b\b\b\b\b\b\b\b\b\b\b\b\b\b\b\b\b\b\b\b\b\b\b\b\b\b\b\b\b\b\b\b\b\b\b\b\b\b\b\b\b\b\b\b\b\b\b\b\b\b\b\b\b\b\r18/18 [==============================] - 0s 27ms/step - loss: 123.5408 - mae: 123.5408 - val_loss: 647.2130 - val_mae: 647.2130\n",
            "Epoch 46/100\n",
            "18/18 [==============================] - 0s 6ms/step - loss: 121.2449 - mae: 121.2449 - val_loss: 682.5718 - val_mae: 682.5718\n",
            "Epoch 47/100\n",
            " 1/18 [>.............................] - ETA: 0s - loss: 125.2505 - mae: 125.2505"
          ]
        },
        {
          "output_type": "stream",
          "name": "stderr",
          "text": [
            "WARNING:absl:Found untraced functions such as _update_step_xla while saving (showing 1 of 1). These functions will not be directly callable after loading.\n"
          ]
        },
        {
          "output_type": "stream",
          "name": "stdout",
          "text": [
            "\b\b\b\b\b\b\b\b\b\b\b\b\b\b\b\b\b\b\b\b\b\b\b\b\b\b\b\b\b\b\b\b\b\b\b\b\b\b\b\b\b\b\b\b\b\b\b\b\b\b\b\b\b\b\b\b\b\b\b\b\b\b\b\b\b\b\b\b\b\b\b\b\b\b\b\b\b\b\b\b\b\r18/18 [==============================] - 0s 27ms/step - loss: 119.4259 - mae: 119.4259 - val_loss: 641.7026 - val_mae: 641.7026\n",
            "Epoch 48/100\n",
            "18/18 [==============================] - 0s 5ms/step - loss: 117.5549 - mae: 117.5549 - val_loss: 707.4285 - val_mae: 707.4285\n",
            "Epoch 49/100\n",
            "18/18 [==============================] - 0s 5ms/step - loss: 132.7436 - mae: 132.7436 - val_loss: 701.4918 - val_mae: 701.4918\n",
            "Epoch 50/100\n",
            "18/18 [==============================] - 0s 5ms/step - loss: 130.6156 - mae: 130.6156 - val_loss: 1003.1995 - val_mae: 1003.1995\n",
            "Epoch 51/100\n",
            "18/18 [==============================] - 0s 5ms/step - loss: 140.3030 - mae: 140.3030 - val_loss: 1199.1613 - val_mae: 1199.1613\n",
            "Epoch 52/100\n",
            "18/18 [==============================] - 0s 5ms/step - loss: 146.8562 - mae: 146.8562 - val_loss: 725.0318 - val_mae: 725.0318\n",
            "Epoch 53/100\n",
            "18/18 [==============================] - 0s 5ms/step - loss: 134.5218 - mae: 134.5218 - val_loss: 852.1313 - val_mae: 852.1313\n",
            "Epoch 54/100\n",
            "18/18 [==============================] - 0s 5ms/step - loss: 131.9370 - mae: 131.9370 - val_loss: 650.1506 - val_mae: 650.1506\n",
            "Epoch 55/100\n",
            "18/18 [==============================] - 0s 5ms/step - loss: 127.7561 - mae: 127.7561 - val_loss: 834.2027 - val_mae: 834.2028\n",
            "Epoch 56/100\n",
            "18/18 [==============================] - 0s 4ms/step - loss: 139.7795 - mae: 139.7795 - val_loss: 654.1633 - val_mae: 654.1633\n",
            "Epoch 57/100\n",
            "18/18 [==============================] - 0s 6ms/step - loss: 127.9186 - mae: 127.9186 - val_loss: 666.6252 - val_mae: 666.6252\n",
            "Epoch 58/100\n",
            "18/18 [==============================] - 0s 5ms/step - loss: 141.6099 - mae: 141.6099 - val_loss: 827.4177 - val_mae: 827.4177\n",
            "Epoch 59/100\n",
            " 1/18 [>.............................] - ETA: 0s - loss: 155.8808 - mae: 155.8808"
          ]
        },
        {
          "output_type": "stream",
          "name": "stderr",
          "text": [
            "WARNING:absl:Found untraced functions such as _update_step_xla while saving (showing 1 of 1). These functions will not be directly callable after loading.\n"
          ]
        },
        {
          "output_type": "stream",
          "name": "stdout",
          "text": [
            "\b\b\b\b\b\b\b\b\b\b\b\b\b\b\b\b\b\b\b\b\b\b\b\b\b\b\b\b\b\b\b\b\b\b\b\b\b\b\b\b\b\b\b\b\b\b\b\b\b\b\b\b\b\b\b\b\b\b\b\b\b\b\b\b\b\b\b\b\b\b\b\b\b\b\b\b\b\b\b\b\b\r18/18 [==============================] - 0s 27ms/step - loss: 146.8888 - mae: 146.8888 - val_loss: 620.6010 - val_mae: 620.6010\n",
            "Epoch 60/100\n",
            "18/18 [==============================] - 0s 6ms/step - loss: 118.4590 - mae: 118.4590 - val_loss: 631.0750 - val_mae: 631.0750\n",
            "Epoch 61/100\n",
            "18/18 [==============================] - 0s 5ms/step - loss: 123.9532 - mae: 123.9532 - val_loss: 643.4289 - val_mae: 643.4289\n",
            "Epoch 62/100\n",
            "18/18 [==============================] - 0s 5ms/step - loss: 115.9382 - mae: 115.9382 - val_loss: 834.1054 - val_mae: 834.1054\n",
            "Epoch 63/100\n",
            "15/18 [========================>.....] - ETA: 0s - loss: 123.2444 - mae: 123.2444"
          ]
        },
        {
          "output_type": "stream",
          "name": "stderr",
          "text": [
            "WARNING:absl:Found untraced functions such as _update_step_xla while saving (showing 1 of 1). These functions will not be directly callable after loading.\n"
          ]
        },
        {
          "output_type": "stream",
          "name": "stdout",
          "text": [
            "\b\b\b\b\b\b\b\b\b\b\b\b\b\b\b\b\b\b\b\b\b\b\b\b\b\b\b\b\b\b\b\b\b\b\b\b\b\b\b\b\b\b\b\b\b\b\b\b\b\b\b\b\b\b\b\b\b\b\b\b\b\b\b\b\b\b\b\b\b\b\b\b\b\b\b\b\b\b\b\b\b\r18/18 [==============================] - 1s 47ms/step - loss: 124.6243 - mae: 124.6243 - val_loss: 617.7315 - val_mae: 617.7315\n",
            "Epoch 64/100\n",
            "18/18 [==============================] - 0s 8ms/step - loss: 115.3956 - mae: 115.3956 - val_loss: 618.8936 - val_mae: 618.8936\n",
            "Epoch 65/100\n",
            "18/18 [==============================] - 0s 6ms/step - loss: 114.8702 - mae: 114.8702 - val_loss: 697.8939 - val_mae: 697.8939\n",
            "Epoch 66/100\n",
            " 1/18 [>.............................] - ETA: 0s - loss: 125.5718 - mae: 125.5718"
          ]
        },
        {
          "output_type": "stream",
          "name": "stderr",
          "text": [
            "WARNING:absl:Found untraced functions such as _update_step_xla while saving (showing 1 of 1). These functions will not be directly callable after loading.\n"
          ]
        },
        {
          "output_type": "stream",
          "name": "stdout",
          "text": [
            "\b\b\b\b\b\b\b\b\b\b\b\b\b\b\b\b\b\b\b\b\b\b\b\b\b\b\b\b\b\b\b\b\b\b\b\b\b\b\b\b\b\b\b\b\b\b\b\b\b\b\b\b\b\b\b\b\b\b\b\b\b\b\b\b\b\b\b\b\b\b\b\b\b\b\b\b\b\b\b\b\b\r18/18 [==============================] - 1s 33ms/step - loss: 120.0958 - mae: 120.0958 - val_loss: 611.1752 - val_mae: 611.1752\n",
            "Epoch 67/100\n",
            "18/18 [==============================] - 0s 5ms/step - loss: 119.7058 - mae: 119.7058 - val_loss: 649.1570 - val_mae: 649.1570\n",
            "Epoch 68/100\n",
            "18/18 [==============================] - 0s 8ms/step - loss: 122.9049 - mae: 122.9049 - val_loss: 633.3000 - val_mae: 633.3000\n",
            "Epoch 69/100\n",
            "18/18 [==============================] - 0s 8ms/step - loss: 123.4160 - mae: 123.4160 - val_loss: 775.9338 - val_mae: 775.9338\n",
            "Epoch 70/100\n",
            "18/18 [==============================] - 0s 9ms/step - loss: 126.1434 - mae: 126.1434 - val_loss: 805.4074 - val_mae: 805.4074\n",
            "Epoch 71/100\n",
            "18/18 [==============================] - 0s 14ms/step - loss: 123.1304 - mae: 123.1304 - val_loss: 630.4478 - val_mae: 630.4478\n",
            "Epoch 72/100\n",
            "18/18 [==============================] - 0s 11ms/step - loss: 115.9730 - mae: 115.9730 - val_loss: 742.6295 - val_mae: 742.6295\n",
            "Epoch 73/100\n",
            "18/18 [==============================] - 0s 14ms/step - loss: 116.6316 - mae: 116.6316 - val_loss: 634.4496 - val_mae: 634.4496\n",
            "Epoch 74/100\n",
            "18/18 [==============================] - 0s 12ms/step - loss: 122.1396 - mae: 122.1396 - val_loss: 914.9590 - val_mae: 914.9590\n",
            "Epoch 75/100\n",
            "18/18 [==============================] - 0s 18ms/step - loss: 135.8575 - mae: 135.8575 - val_loss: 685.7604 - val_mae: 685.7604\n",
            "Epoch 76/100\n",
            "18/18 [==============================] - 0s 14ms/step - loss: 127.3098 - mae: 127.3098 - val_loss: 631.8199 - val_mae: 631.8199\n",
            "Epoch 77/100\n",
            "18/18 [==============================] - 0s 11ms/step - loss: 122.1365 - mae: 122.1365 - val_loss: 615.0428 - val_mae: 615.0428\n",
            "Epoch 78/100\n",
            "12/18 [===================>..........] - ETA: 0s - loss: 126.2956 - mae: 126.2956"
          ]
        },
        {
          "output_type": "stream",
          "name": "stderr",
          "text": [
            "WARNING:absl:Found untraced functions such as _update_step_xla while saving (showing 1 of 1). These functions will not be directly callable after loading.\n"
          ]
        },
        {
          "output_type": "stream",
          "name": "stdout",
          "text": [
            "\b\b\b\b\b\b\b\b\b\b\b\b\b\b\b\b\b\b\b\b\b\b\b\b\b\b\b\b\b\b\b\b\b\b\b\b\b\b\b\b\b\b\b\b\b\b\b\b\b\b\b\b\b\b\b\b\b\b\b\b\b\b\b\b\b\b\b\b\b\b\b\b\b\b\b\b\b\b\b\b\b\r18/18 [==============================] - 1s 40ms/step - loss: 125.4446 - mae: 125.4446 - val_loss: 606.0984 - val_mae: 606.0984\n",
            "Epoch 79/100\n",
            "18/18 [==============================] - 0s 8ms/step - loss: 121.3883 - mae: 121.3883 - val_loss: 683.3250 - val_mae: 683.3250\n",
            "Epoch 80/100\n",
            "12/18 [===================>..........] - ETA: 0s - loss: 115.3855 - mae: 115.3855"
          ]
        },
        {
          "output_type": "stream",
          "name": "stderr",
          "text": [
            "WARNING:absl:Found untraced functions such as _update_step_xla while saving (showing 1 of 1). These functions will not be directly callable after loading.\n"
          ]
        },
        {
          "output_type": "stream",
          "name": "stdout",
          "text": [
            "\b\b\b\b\b\b\b\b\b\b\b\b\b\b\b\b\b\b\b\b\b\b\b\b\b\b\b\b\b\b\b\b\b\b\b\b\b\b\b\b\b\b\b\b\b\b\b\b\b\b\b\b\b\b\b\b\b\b\b\b\b\b\b\b\b\b\b\b\b\b\b\b\b\b\b\b\b\b\b\b\b\r18/18 [==============================] - 1s 47ms/step - loss: 115.2984 - mae: 115.2984 - val_loss: 602.0187 - val_mae: 602.0187\n",
            "Epoch 81/100\n",
            "18/18 [==============================] - 0s 8ms/step - loss: 111.0346 - mae: 111.0346 - val_loss: 605.7650 - val_mae: 605.7650\n",
            "Epoch 82/100\n",
            "18/18 [==============================] - 0s 6ms/step - loss: 110.3377 - mae: 110.3377 - val_loss: 605.3574 - val_mae: 605.3574\n",
            "Epoch 83/100\n",
            "18/18 [==============================] - 0s 8ms/step - loss: 112.4004 - mae: 112.4004 - val_loss: 620.4002 - val_mae: 620.4002\n",
            "Epoch 84/100\n",
            "18/18 [==============================] - 0s 10ms/step - loss: 113.1166 - mae: 113.1166 - val_loss: 724.7137 - val_mae: 724.7137\n",
            "Epoch 85/100\n",
            "18/18 [==============================] - 0s 8ms/step - loss: 117.2316 - mae: 117.2316 - val_loss: 709.5264 - val_mae: 709.5264\n",
            "Epoch 86/100\n",
            "18/18 [==============================] - 0s 7ms/step - loss: 120.2934 - mae: 120.2934 - val_loss: 610.1950 - val_mae: 610.1950\n",
            "Epoch 87/100\n",
            "18/18 [==============================] - 0s 8ms/step - loss: 124.6127 - mae: 124.6127 - val_loss: 664.7152 - val_mae: 664.7152\n",
            "Epoch 88/100\n",
            "18/18 [==============================] - 0s 8ms/step - loss: 118.3145 - mae: 118.3145 - val_loss: 1032.9602 - val_mae: 1032.9602\n",
            "Epoch 89/100\n",
            "18/18 [==============================] - 0s 7ms/step - loss: 137.0795 - mae: 137.0795 - val_loss: 1269.1865 - val_mae: 1269.1865\n",
            "Epoch 90/100\n",
            "18/18 [==============================] - 0s 8ms/step - loss: 150.9240 - mae: 150.9240 - val_loss: 731.0121 - val_mae: 731.0121\n",
            "Epoch 91/100\n",
            "18/18 [==============================] - 0s 7ms/step - loss: 119.6760 - mae: 119.6760 - val_loss: 639.6176 - val_mae: 639.6176\n",
            "Epoch 92/100\n",
            "18/18 [==============================] - 0s 7ms/step - loss: 114.4876 - mae: 114.4876 - val_loss: 604.4587 - val_mae: 604.4587\n",
            "Epoch 93/100\n",
            "18/18 [==============================] - 0s 7ms/step - loss: 141.5025 - mae: 141.5025 - val_loss: 634.1860 - val_mae: 634.1860\n",
            "Epoch 94/100\n",
            "18/18 [==============================] - 0s 7ms/step - loss: 143.9146 - mae: 143.9146 - val_loss: 636.7680 - val_mae: 636.7680\n",
            "Epoch 95/100\n",
            "18/18 [==============================] - 0s 7ms/step - loss: 121.0769 - mae: 121.0769 - val_loss: 602.6109 - val_mae: 602.6109\n",
            "Epoch 96/100\n",
            "14/18 [======================>.......] - ETA: 0s - loss: 117.9096 - mae: 117.9096"
          ]
        },
        {
          "output_type": "stream",
          "name": "stderr",
          "text": [
            "WARNING:absl:Found untraced functions such as _update_step_xla while saving (showing 1 of 1). These functions will not be directly callable after loading.\n"
          ]
        },
        {
          "output_type": "stream",
          "name": "stdout",
          "text": [
            "\b\b\b\b\b\b\b\b\b\b\b\b\b\b\b\b\b\b\b\b\b\b\b\b\b\b\b\b\b\b\b\b\b\b\b\b\b\b\b\b\b\b\b\b\b\b\b\b\b\b\b\b\b\b\b\b\b\b\b\b\b\b\b\b\b\b\b\b\b\b\b\b\b\b\b\b\b\b\b\b\b\r18/18 [==============================] - 1s 36ms/step - loss: 114.3390 - mae: 114.3390 - val_loss: 600.7267 - val_mae: 600.7267\n",
            "Epoch 97/100\n",
            "18/18 [==============================] - 0s 5ms/step - loss: 113.3007 - mae: 113.3007 - val_loss: 628.2881 - val_mae: 628.2881\n",
            "Epoch 98/100\n",
            " 1/18 [>.............................] - ETA: 0s - loss: 110.8459 - mae: 110.8459"
          ]
        },
        {
          "output_type": "stream",
          "name": "stderr",
          "text": [
            "WARNING:absl:Found untraced functions such as _update_step_xla while saving (showing 1 of 1). These functions will not be directly callable after loading.\n"
          ]
        },
        {
          "output_type": "stream",
          "name": "stdout",
          "text": [
            "\b\b\b\b\b\b\b\b\b\b\b\b\b\b\b\b\b\b\b\b\b\b\b\b\b\b\b\b\b\b\b\b\b\b\b\b\b\b\b\b\b\b\b\b\b\b\b\b\b\b\b\b\b\b\b\b\b\b\b\b\b\b\b\b\b\b\b\b\b\b\b\b\b\b\b\b\b\b\b\b\b\r18/18 [==============================] - 0s 27ms/step - loss: 116.2359 - mae: 116.2359 - val_loss: 594.9418 - val_mae: 594.9418\n",
            "Epoch 99/100\n",
            "18/18 [==============================] - 0s 9ms/step - loss: 113.0674 - mae: 113.0674 - val_loss: 609.6396 - val_mae: 609.6396\n",
            "Epoch 100/100\n",
            "18/18 [==============================] - 0s 8ms/step - loss: 116.8373 - mae: 116.8373 - val_loss: 599.4924 - val_mae: 599.4924\n"
          ]
        }
      ]
    },
    {
      "cell_type": "code",
      "source": [
        "model_2_preds = make_preds(model_2,test_windows)"
      ],
      "metadata": {
        "id": "P2CtQ2-KyiXy",
        "outputId": "cbc7225c-2862-4145-ee41-132912a800ac",
        "colab": {
          "base_uri": "https://localhost:8080/"
        }
      },
      "execution_count": 61,
      "outputs": [
        {
          "output_type": "stream",
          "name": "stdout",
          "text": [
            "18/18 [==============================] - 0s 2ms/step\n"
          ]
        }
      ]
    },
    {
      "cell_type": "code",
      "source": [
        "evaluation_metrics(y_true = tf.squeeze(test_labels),y_pred=model_2_preds)"
      ],
      "metadata": {
        "id": "f6RUnPXRyo3J",
        "outputId": "d5656ac8-082d-45b0-d894-82c1e338bce1",
        "colab": {
          "base_uri": "https://localhost:8080/"
        }
      },
      "execution_count": 62,
      "outputs": [
        {
          "output_type": "execute_result",
          "data": {
            "text/plain": [
              "{'mae': 599.4924,\n",
              " 'mse': 1246510.9,\n",
              " 'rmse': 1116.4725,\n",
              " 'mape': 2.7470825,\n",
              " 'mase': 1.0479186}"
            ]
          },
          "metadata": {},
          "execution_count": 62
        }
      ]
    },
    {
      "cell_type": "code",
      "source": [
        "offset = 100\n",
        "plt.figure(figsize = (10,7))\n",
        "plot_time_series(timesteps = x_test[-len(test_windows):],values = test_labels[:,0],start = offset,label = \"Test Data\")\n",
        "plot_time_series(timesteps = x_test[-len(test_windows):],values = model_2_preds,start = offset,label = \"Predict Data\",format = \"-\")"
      ],
      "metadata": {
        "id": "UWt4zwbiyrnf",
        "outputId": "985956da-07fc-4ace-e1f6-46a20e1baa5d",
        "colab": {
          "base_uri": "https://localhost:8080/",
          "height": 442
        }
      },
      "execution_count": 63,
      "outputs": [
        {
          "output_type": "display_data",
          "data": {
            "text/plain": [
              "<Figure size 720x504 with 1 Axes>"
            ],
            "image/png": "[encoded data removed]"
          },
          "metadata": {
            "needs_background": "light"
          }
        }
      ]
    },
    {
      "cell_type": "markdown",
      "source": [
        "## Model 3: Dense(Windows = 30,Horizon = 7)"
      ],
      "metadata": {
        "id": "2MGKAmxKyv3k"
      }
    },
    {
      "cell_type": "code",
      "source": [
        "full_windows,full_labels = make_windows(prices,window_size = 30,horizon = 7)"
      ],
      "metadata": {
        "id": "GX7TimqZy6r_"
      },
      "execution_count": 65,
      "outputs": []
    },
    {
      "cell_type": "code",
      "source": [
        "train_windows,test_windows,train_labels,test_labels = make_train_test_splits(full_windows,full_labels)"
      ],
      "metadata": {
        "id": "0-_fkLjEzDCI"
      },
      "execution_count": 66,
      "outputs": []
    },
    {
      "cell_type": "code",
      "source": [
        "model_3 = tf.keras.Sequential([\n",
        "    layers.Dense(128,activation = \"relu\"),\n",
        "    layers.Dense(7),\n",
        "],name = \"model_3_dense\")\n",
        "model_3.compile(loss = \"mae\",optimizer = \"adam\")"
      ],
      "metadata": {
        "id": "HuQbYu5_zKF1"
      },
      "execution_count": 83,
      "outputs": []
    },
    {
      "cell_type": "code",
      "source": [
        "history_3 = model_3.fit(\n",
        "    train_windows,\n",
        "    train_labels,\n",
        "    epochs = 100,\n",
        "    verbose = 0,\n",
        "    batch_size = 128,\n",
        "    validation_data = (test_windows,test_labels),\n",
        "    callbacks = [create_model_checkpoint(model_name = model_3.name)]\n",
        ")"
      ],
      "metadata": {
        "id": "25VlKIApzNpt",
        "outputId": "079a2abc-e916-44d1-a256-20f8d0b14f1a",
        "colab": {
          "base_uri": "https://localhost:8080/"
        }
      },
      "execution_count": 84,
      "outputs": [
        {
          "output_type": "stream",
          "name": "stderr",
          "text": [
            "WARNING:absl:Found untraced functions such as _update_step_xla while saving (showing 1 of 1). These functions will not be directly callable after loading.\n",
            "WARNING:absl:Found untraced functions such as _update_step_xla while saving (showing 1 of 1). These functions will not be directly callable after loading.\n",
            "WARNING:absl:Found untraced functions such as _update_step_xla while saving (showing 1 of 1). These functions will not be directly callable after loading.\n",
            "WARNING:absl:Found untraced functions such as _update_step_xla while saving (showing 1 of 1). These functions will not be directly callable after loading.\n",
            "WARNING:absl:Found untraced functions such as _update_step_xla while saving (showing 1 of 1). These functions will not be directly callable after loading.\n",
            "WARNING:absl:Found untraced functions such as _update_step_xla while saving (showing 1 of 1). These functions will not be directly callable after loading.\n",
            "WARNING:absl:Found untraced functions such as _update_step_xla while saving (showing 1 of 1). These functions will not be directly callable after loading.\n",
            "WARNING:absl:Found untraced functions such as _update_step_xla while saving (showing 1 of 1). These functions will not be directly callable after loading.\n",
            "WARNING:absl:Found untraced functions such as _update_step_xla while saving (showing 1 of 1). These functions will not be directly callable after loading.\n",
            "WARNING:absl:Found untraced functions such as _update_step_xla while saving (showing 1 of 1). These functions will not be directly callable after loading.\n",
            "WARNING:absl:Found untraced functions such as _update_step_xla while saving (showing 1 of 1). These functions will not be directly callable after loading.\n",
            "WARNING:absl:Found untraced functions such as _update_step_xla while saving (showing 1 of 1). These functions will not be directly callable after loading.\n",
            "WARNING:absl:Found untraced functions such as _update_step_xla while saving (showing 1 of 1). These functions will not be directly callable after loading.\n",
            "WARNING:absl:Found untraced functions such as _update_step_xla while saving (showing 1 of 1). These functions will not be directly callable after loading.\n",
            "WARNING:absl:Found untraced functions such as _update_step_xla while saving (showing 1 of 1). These functions will not be directly callable after loading.\n",
            "WARNING:absl:Found untraced functions such as _update_step_xla while saving (showing 1 of 1). These functions will not be directly callable after loading.\n",
            "WARNING:absl:Found untraced functions such as _update_step_xla while saving (showing 1 of 1). These functions will not be directly callable after loading.\n",
            "WARNING:absl:Found untraced functions such as _update_step_xla while saving (showing 1 of 1). These functions will not be directly callable after loading.\n",
            "WARNING:absl:Found untraced functions such as _update_step_xla while saving (showing 1 of 1). These functions will not be directly callable after loading.\n",
            "WARNING:absl:Found untraced functions such as _update_step_xla while saving (showing 1 of 1). These functions will not be directly callable after loading.\n",
            "WARNING:absl:Found untraced functions such as _update_step_xla while saving (showing 1 of 1). These functions will not be directly callable after loading.\n",
            "WARNING:absl:Found untraced functions such as _update_step_xla while saving (showing 1 of 1). These functions will not be directly callable after loading.\n",
            "WARNING:absl:Found untraced functions such as _update_step_xla while saving (showing 1 of 1). These functions will not be directly callable after loading.\n",
            "WARNING:absl:Found untraced functions such as _update_step_xla while saving (showing 1 of 1). These functions will not be directly callable after loading.\n",
            "WARNING:absl:Found untraced functions such as _update_step_xla while saving (showing 1 of 1). These functions will not be directly callable after loading.\n",
            "WARNING:absl:Found untraced functions such as _update_step_xla while saving (showing 1 of 1). These functions will not be directly callable after loading.\n",
            "WARNING:absl:Found untraced functions such as _update_step_xla while saving (showing 1 of 1). These functions will not be directly callable after loading.\n",
            "WARNING:absl:Found untraced functions such as _update_step_xla while saving (showing 1 of 1). These functions will not be directly callable after loading.\n",
            "WARNING:absl:Found untraced functions such as _update_step_xla while saving (showing 1 of 1). These functions will not be directly callable after loading.\n",
            "WARNING:absl:Found untraced functions such as _update_step_xla while saving (showing 1 of 1). These functions will not be directly callable after loading.\n",
            "WARNING:absl:Found untraced functions such as _update_step_xla while saving (showing 1 of 1). These functions will not be directly callable after loading.\n"
          ]
        }
      ]
    },
    {
      "cell_type": "code",
      "source": [
        "model_3_preds = make_preds(model_3,test_windows)"
      ],
      "metadata": {
        "id": "y-98EOo3zTEz",
        "outputId": "d8ab215e-16a6-4d1d-cb57-d281fefd3ce2",
        "colab": {
          "base_uri": "https://localhost:8080/"
        }
      },
      "execution_count": 85,
      "outputs": [
        {
          "output_type": "stream",
          "name": "stdout",
          "text": [
            "18/18 [==============================] - 0s 2ms/step\n"
          ]
        }
      ]
    },
    {
      "cell_type": "code",
      "source": [
        "model_3_preds[:5]"
      ],
      "metadata": {
        "id": "Ui-DKVP50H8u",
        "outputId": "3f899bc2-381d-4a28-dfbd-6d073ef5ab90",
        "colab": {
          "base_uri": "https://localhost:8080/"
        }
      },
      "execution_count": 86,
      "outputs": [
        {
          "output_type": "execute_result",
          "data": {
            "text/plain": [
              "<tf.Tensor: shape=(5, 7), dtype=float32, numpy=\n",
              "array([[8852.667 , 8699.696 , 8656.29  , 8591.557 , 8584.814 , 8664.937 ,\n",
              "        8662.835 ],\n",
              "       [8727.19  , 8686.993 , 8626.192 , 8588.332 , 8577.914 , 8431.602 ,\n",
              "        8568.037 ],\n",
              "       [8633.111 , 8541.984 , 8563.259 , 8581.484 , 8447.621 , 8210.062 ,\n",
              "        8571.734 ],\n",
              "       [8452.41  , 8362.632 , 8275.361 , 8512.724 , 8321.44  , 8273.2295,\n",
              "        8463.06  ],\n",
              "       [8325.386 , 8283.278 , 8116.943 , 8325.762 , 8185.828 , 8223.06  ,\n",
              "        8441.724 ]], dtype=float32)>"
            ]
          },
          "metadata": {},
          "execution_count": 86
        }
      ]
    },
    {
      "cell_type": "code",
      "source": [
        "offset = 100\n",
        "plt.figure(figsize = (10,7))\n",
        "plot_time_series(timesteps = x_test[-len(test_windows):],values = test_labels[:,0],start = offset,label = \"Test Data\")\n",
        "plot_time_series(timesteps = x_test[-len(test_windows):],values = model_3_preds,start = offset,label = \"Predict Data\",format = \"-\")"
      ],
      "metadata": {
        "id": "MvDk8xqszof6",
        "outputId": "2b87e0e2-cf39-4c71-a663-3989bb6dc2bd",
        "colab": {
          "base_uri": "https://localhost:8080/",
          "height": 442
        }
      },
      "execution_count": 88,
      "outputs": [
        {
          "output_type": "display_data",
          "data": {
            "text/plain": [
              "<Figure size 720x504 with 1 Axes>"
            ],
            "image/png": "[encoded data removed]"
          },
          "metadata": {
            "needs_background": "light"
          }
        }
      ]
    },
    {
      "cell_type": "code",
      "source": [],
      "metadata": {
        "id": "jPPsb3_FzqTR"
      },
      "execution_count": null,
      "outputs": []
    }
  ]
}
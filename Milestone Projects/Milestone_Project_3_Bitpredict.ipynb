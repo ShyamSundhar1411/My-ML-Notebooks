{
  "nbformat": 4,
  "nbformat_minor": 0,
  "metadata": {
    "colab": {
      "provenance": [],
      "toc_visible": true,
      "authorship_tag": "ABX9TyPZZmJLFZYvATtbHvTPCwaT",
      "include_colab_link": true
    },
    "kernelspec": {
      "name": "python3",
      "display_name": "Python 3"
    },
    "language_info": {
      "name": "python"
    },
    "accelerator": "GPU",
    "gpuClass": "standard"
  },
  "cells": [
    {
      "cell_type": "markdown",
      "metadata": {
        "id": "view-in-github",
        "colab_type": "text"
      },
      "source": [
        "<a href=\"https://colab.research.google.com/github/ShyamSundhar1411/My-ML-Notebooks/blob/master/Milestone%20Projects/Milestone_Project_3_Bitpredict.ipynb\" target=\"_parent\"><img src=\"https://colab.research.google.com/assets/colab-badge.svg\" alt=\"Open In Colab\"/></a>"
      ]
    },
    {
      "cell_type": "markdown",
      "source": [
        "## Importing Dataset"
      ],
      "metadata": {
        "id": "mcw9DM9PWcxt"
      }
    },
    {
      "cell_type": "code",
      "source": [
        "!wget https://raw.githubusercontent.com/mrdbourke/tensorflow-deep-learning/main/extras/BTC_USD_2013-10-01_2021-05-18-CoinDesk.csv"
      ],
      "metadata": {
        "colab": {
          "base_uri": "https://localhost:8080/"
        },
        "id": "HtYpZr57YCSs",
        "outputId": "690f9256-11ba-4a2d-a729-8a56fd6e28df"
      },
      "execution_count": 1,
      "outputs": [
        {
          "output_type": "stream",
          "name": "stdout",
          "text": [
            "--2023-03-29 17:52:48--  https://raw.githubusercontent.com/mrdbourke/tensorflow-deep-learning/main/extras/BTC_USD_2013-10-01_2021-05-18-CoinDesk.csv\n",
            "Resolving raw.githubusercontent.com (raw.githubusercontent.com)... 185.199.111.133, 185.199.110.133, 185.199.109.133, ...\n",
            "Connecting to raw.githubusercontent.com (raw.githubusercontent.com)|185.199.111.133|:443... connected.\n",
            "HTTP request sent, awaiting response... 200 OK\n",
            "Length: 178509 (174K) [text/plain]\n",
            "Saving to: ‘BTC_USD_2013-10-01_2021-05-18-CoinDesk.csv’\n",
            "\n",
            "\r          BTC_USD_2   0%[                    ]       0  --.-KB/s               \rBTC_USD_2013-10-01_ 100%[===================>] 174.33K  --.-KB/s    in 0.02s   \n",
            "\n",
            "2023-03-29 17:52:49 (7.24 MB/s) - ‘BTC_USD_2013-10-01_2021-05-18-CoinDesk.csv’ saved [178509/178509]\n",
            "\n"
          ]
        }
      ]
    },
    {
      "cell_type": "code",
      "source": [
        "import pandas as pd\n",
        "import tensorflow as tf\n",
        "import numpy as np"
      ],
      "metadata": {
        "id": "bsPM305UYC2c"
      },
      "execution_count": 2,
      "outputs": []
    },
    {
      "cell_type": "code",
      "source": [
        "dataset = pd.read_csv(\"/content/BTC_USD_2013-10-01_2021-05-18-CoinDesk.csv\",parse_dates = \n",
        "                      [ 'Date'],index_col = ['Date'])"
      ],
      "metadata": {
        "id": "OeT0Z9quYjow"
      },
      "execution_count": 3,
      "outputs": []
    },
    {
      "cell_type": "code",
      "source": [
        "dataset"
      ],
      "metadata": {
        "colab": {
          "base_uri": "https://localhost:8080/",
          "height": 690
        },
        "id": "JrtRAlIqYqnt",
        "outputId": "e266baf1-ff5f-464f-e64f-24a23c4d1500"
      },
      "execution_count": 4,
      "outputs": [
        {
          "output_type": "execute_result",
          "data": {
            "text/plain": [
              "           Currency  Closing Price (USD)  24h Open (USD)  24h High (USD)  \\\n",
              "Date                                                                       \n",
              "2013-10-01      BTC           123.654990      124.304660      124.751660   \n",
              "2013-10-02      BTC           125.455000      123.654990      125.758500   \n",
              "2013-10-03      BTC           108.584830      125.455000      125.665660   \n",
              "2013-10-04      BTC           118.674660      108.584830      118.675000   \n",
              "2013-10-05      BTC           121.338660      118.674660      121.936330   \n",
              "...             ...                  ...             ...             ...   \n",
              "2021-05-14      BTC         49764.132082    49596.778891    51448.798576   \n",
              "2021-05-15      BTC         50032.693137    49717.354353    51578.312545   \n",
              "2021-05-16      BTC         47885.625255    49926.035067    50690.802950   \n",
              "2021-05-17      BTC         45604.615754    46805.537852    49670.414174   \n",
              "2021-05-18      BTC         43144.471291    46439.336570    46622.853437   \n",
              "\n",
              "            24h Low (USD)  \n",
              "Date                       \n",
              "2013-10-01     122.563490  \n",
              "2013-10-02     123.633830  \n",
              "2013-10-03      83.328330  \n",
              "2013-10-04     107.058160  \n",
              "2013-10-05     118.005660  \n",
              "...                   ...  \n",
              "2021-05-14   46294.720180  \n",
              "2021-05-15   48944.346536  \n",
              "2021-05-16   47005.102292  \n",
              "2021-05-17   43868.638969  \n",
              "2021-05-18   42102.346430  \n",
              "\n",
              "[2787 rows x 5 columns]"
            ],
            "text/html": [
              "\n",
              "  <div id=\"df-8517500a-ebcf-40d9-a42b-12fd4c7cfc81\">\n",
              "    <div class=\"colab-df-container\">\n",
              "      <div>\n",
              "<style scoped>\n",
              "    .dataframe tbody tr th:only-of-type {\n",
              "        vertical-align: middle;\n",
              "    }\n",
              "\n",
              "    .dataframe tbody tr th {\n",
              "        vertical-align: top;\n",
              "    }\n",
              "\n",
              "    .dataframe thead th {\n",
              "        text-align: right;\n",
              "    }\n",
              "</style>\n",
              "<table border=\"1\" class=\"dataframe\">\n",
              "  <thead>\n",
              "    <tr style=\"text-align: right;\">\n",
              "      <th></th>\n",
              "      <th>Currency</th>\n",
              "      <th>Closing Price (USD)</th>\n",
              "      <th>24h Open (USD)</th>\n",
              "      <th>24h High (USD)</th>\n",
              "      <th>24h Low (USD)</th>\n",
              "    </tr>\n",
              "    <tr>\n",
              "      <th>Date</th>\n",
              "      <th></th>\n",
              "      <th></th>\n",
              "      <th></th>\n",
              "      <th></th>\n",
              "      <th></th>\n",
              "    </tr>\n",
              "  </thead>\n",
              "  <tbody>\n",
              "    <tr>\n",
              "      <th>2013-10-01</th>\n",
              "      <td>BTC</td>\n",
              "      <td>123.654990</td>\n",
              "      <td>124.304660</td>\n",
              "      <td>124.751660</td>\n",
              "      <td>122.563490</td>\n",
              "    </tr>\n",
              "    <tr>\n",
              "      <th>2013-10-02</th>\n",
              "      <td>BTC</td>\n",
              "      <td>125.455000</td>\n",
              "      <td>123.654990</td>\n",
              "      <td>125.758500</td>\n",
              "      <td>123.633830</td>\n",
              "    </tr>\n",
              "    <tr>\n",
              "      <th>2013-10-03</th>\n",
              "      <td>BTC</td>\n",
              "      <td>108.584830</td>\n",
              "      <td>125.455000</td>\n",
              "      <td>125.665660</td>\n",
              "      <td>83.328330</td>\n",
              "    </tr>\n",
              "    <tr>\n",
              "      <th>2013-10-04</th>\n",
              "      <td>BTC</td>\n",
              "      <td>118.674660</td>\n",
              "      <td>108.584830</td>\n",
              "      <td>118.675000</td>\n",
              "      <td>107.058160</td>\n",
              "    </tr>\n",
              "    <tr>\n",
              "      <th>2013-10-05</th>\n",
              "      <td>BTC</td>\n",
              "      <td>121.338660</td>\n",
              "      <td>118.674660</td>\n",
              "      <td>121.936330</td>\n",
              "      <td>118.005660</td>\n",
              "    </tr>\n",
              "    <tr>\n",
              "      <th>...</th>\n",
              "      <td>...</td>\n",
              "      <td>...</td>\n",
              "      <td>...</td>\n",
              "      <td>...</td>\n",
              "      <td>...</td>\n",
              "    </tr>\n",
              "    <tr>\n",
              "      <th>2021-05-14</th>\n",
              "      <td>BTC</td>\n",
              "      <td>49764.132082</td>\n",
              "      <td>49596.778891</td>\n",
              "      <td>51448.798576</td>\n",
              "      <td>46294.720180</td>\n",
              "    </tr>\n",
              "    <tr>\n",
              "      <th>2021-05-15</th>\n",
              "      <td>BTC</td>\n",
              "      <td>50032.693137</td>\n",
              "      <td>49717.354353</td>\n",
              "      <td>51578.312545</td>\n",
              "      <td>48944.346536</td>\n",
              "    </tr>\n",
              "    <tr>\n",
              "      <th>2021-05-16</th>\n",
              "      <td>BTC</td>\n",
              "      <td>47885.625255</td>\n",
              "      <td>49926.035067</td>\n",
              "      <td>50690.802950</td>\n",
              "      <td>47005.102292</td>\n",
              "    </tr>\n",
              "    <tr>\n",
              "      <th>2021-05-17</th>\n",
              "      <td>BTC</td>\n",
              "      <td>45604.615754</td>\n",
              "      <td>46805.537852</td>\n",
              "      <td>49670.414174</td>\n",
              "      <td>43868.638969</td>\n",
              "    </tr>\n",
              "    <tr>\n",
              "      <th>2021-05-18</th>\n",
              "      <td>BTC</td>\n",
              "      <td>43144.471291</td>\n",
              "      <td>46439.336570</td>\n",
              "      <td>46622.853437</td>\n",
              "      <td>42102.346430</td>\n",
              "    </tr>\n",
              "  </tbody>\n",
              "</table>\n",
              "<p>2787 rows × 5 columns</p>\n",
              "</div>\n",
              "      <button class=\"colab-df-convert\" onclick=\"convertToInteractive('df-8517500a-ebcf-40d9-a42b-12fd4c7cfc81')\"\n",
              "              title=\"Convert this dataframe to an interactive table.\"\n",
              "              style=\"display:none;\">\n",
              "        \n",
              "  <svg xmlns=\"http://www.w3.org/2000/svg\" height=\"24px\"viewBox=\"0 0 24 24\"\n",
              "       width=\"24px\">\n",
              "    <path d=\"M0 0h24v24H0V0z\" fill=\"none\"/>\n",
              "    <path d=\"M18.56 5.44l.94 2.06.94-2.06 2.06-.94-2.06-.94-.94-2.06-.94 2.06-2.06.94zm-11 1L8.5 8.5l.94-2.06 2.06-.94-2.06-.94L8.5 2.5l-.94 2.06-2.06.94zm10 10l.94 2.06.94-2.06 2.06-.94-2.06-.94-.94-2.06-.94 2.06-2.06.94z\"/><path d=\"M17.41 7.96l-1.37-1.37c-.4-.4-.92-.59-1.43-.59-.52 0-1.04.2-1.43.59L10.3 9.45l-7.72 7.72c-.78.78-.78 2.05 0 2.83L4 21.41c.39.39.9.59 1.41.59.51 0 1.02-.2 1.41-.59l7.78-7.78 2.81-2.81c.8-.78.8-2.07 0-2.86zM5.41 20L4 18.59l7.72-7.72 1.47 1.35L5.41 20z\"/>\n",
              "  </svg>\n",
              "      </button>\n",
              "      \n",
              "  <style>\n",
              "    .colab-df-container {\n",
              "      display:flex;\n",
              "      flex-wrap:wrap;\n",
              "      gap: 12px;\n",
              "    }\n",
              "\n",
              "    .colab-df-convert {\n",
              "      background-color: #E8F0FE;\n",
              "      border: none;\n",
              "      border-radius: 50%;\n",
              "      cursor: pointer;\n",
              "      display: none;\n",
              "      fill: #1967D2;\n",
              "      height: 32px;\n",
              "      padding: 0 0 0 0;\n",
              "      width: 32px;\n",
              "    }\n",
              "\n",
              "    .colab-df-convert:hover {\n",
              "      background-color: #E2EBFA;\n",
              "      box-shadow: 0px 1px 2px rgba(60, 64, 67, 0.3), 0px 1px 3px 1px rgba(60, 64, 67, 0.15);\n",
              "      fill: #174EA6;\n",
              "    }\n",
              "\n",
              "    [theme=dark] .colab-df-convert {\n",
              "      background-color: #3B4455;\n",
              "      fill: #D2E3FC;\n",
              "    }\n",
              "\n",
              "    [theme=dark] .colab-df-convert:hover {\n",
              "      background-color: #434B5C;\n",
              "      box-shadow: 0px 1px 3px 1px rgba(0, 0, 0, 0.15);\n",
              "      filter: drop-shadow(0px 1px 2px rgba(0, 0, 0, 0.3));\n",
              "      fill: #FFFFFF;\n",
              "    }\n",
              "  </style>\n",
              "\n",
              "      <script>\n",
              "        const buttonEl =\n",
              "          document.querySelector('#df-8517500a-ebcf-40d9-a42b-12fd4c7cfc81 button.colab-df-convert');\n",
              "        buttonEl.style.display =\n",
              "          google.colab.kernel.accessAllowed ? 'block' : 'none';\n",
              "\n",
              "        async function convertToInteractive(key) {\n",
              "          const element = document.querySelector('#df-8517500a-ebcf-40d9-a42b-12fd4c7cfc81');\n",
              "          const dataTable =\n",
              "            await google.colab.kernel.invokeFunction('convertToInteractive',\n",
              "                                                     [key], {});\n",
              "          if (!dataTable) return;\n",
              "\n",
              "          const docLinkHtml = 'Like what you see? Visit the ' +\n",
              "            '<a target=\"_blank\" href=https://colab.research.google.com/notebooks/data_table.ipynb>data table notebook</a>'\n",
              "            + ' to learn more about interactive tables.';\n",
              "          element.innerHTML = '';\n",
              "          dataTable['output_type'] = 'display_data';\n",
              "          await google.colab.output.renderOutput(dataTable, element);\n",
              "          const docLink = document.createElement('div');\n",
              "          docLink.innerHTML = docLinkHtml;\n",
              "          element.appendChild(docLink);\n",
              "        }\n",
              "      </script>\n",
              "    </div>\n",
              "  </div>\n",
              "  "
            ]
          },
          "metadata": {},
          "execution_count": 4
        }
      ]
    },
    {
      "cell_type": "code",
      "source": [
        "dataset.info()"
      ],
      "metadata": {
        "colab": {
          "base_uri": "https://localhost:8080/"
        },
        "id": "qyuBaXQ_Yrtt",
        "outputId": "f98cc592-d251-481d-cd54-e62ae9304ed6"
      },
      "execution_count": 5,
      "outputs": [
        {
          "output_type": "stream",
          "name": "stdout",
          "text": [
            "<class 'pandas.core.frame.DataFrame'>\n",
            "DatetimeIndex: 2787 entries, 2013-10-01 to 2021-05-18\n",
            "Data columns (total 5 columns):\n",
            " #   Column               Non-Null Count  Dtype  \n",
            "---  ------               --------------  -----  \n",
            " 0   Currency             2787 non-null   object \n",
            " 1   Closing Price (USD)  2787 non-null   float64\n",
            " 2   24h Open (USD)       2787 non-null   float64\n",
            " 3   24h High (USD)       2787 non-null   float64\n",
            " 4   24h Low (USD)        2787 non-null   float64\n",
            "dtypes: float64(4), object(1)\n",
            "memory usage: 130.6+ KB\n"
          ]
        }
      ]
    },
    {
      "cell_type": "code",
      "source": [
        "dataset.tail()"
      ],
      "metadata": {
        "colab": {
          "base_uri": "https://localhost:8080/",
          "height": 385
        },
        "id": "TXV9RANdZoDI",
        "outputId": "4f6cdfea-f485-4987-81a8-7694e6789365"
      },
      "execution_count": 6,
      "outputs": [
        {
          "output_type": "execute_result",
          "data": {
            "text/plain": [
              "           Currency  Closing Price (USD)  24h Open (USD)  24h High (USD)  \\\n",
              "Date                                                                       \n",
              "2021-05-14      BTC         49764.132082    49596.778891    51448.798576   \n",
              "2021-05-15      BTC         50032.693137    49717.354353    51578.312545   \n",
              "2021-05-16      BTC         47885.625255    49926.035067    50690.802950   \n",
              "2021-05-17      BTC         45604.615754    46805.537852    49670.414174   \n",
              "2021-05-18      BTC         43144.471291    46439.336570    46622.853437   \n",
              "\n",
              "            24h Low (USD)  \n",
              "Date                       \n",
              "2021-05-14   46294.720180  \n",
              "2021-05-15   48944.346536  \n",
              "2021-05-16   47005.102292  \n",
              "2021-05-17   43868.638969  \n",
              "2021-05-18   42102.346430  "
            ],
            "text/html": [
              "\n",
              "  <div id=\"df-c5eb331e-87e4-4de6-bb93-2e544174287a\">\n",
              "    <div class=\"colab-df-container\">\n",
              "      <div>\n",
              "<style scoped>\n",
              "    .dataframe tbody tr th:only-of-type {\n",
              "        vertical-align: middle;\n",
              "    }\n",
              "\n",
              "    .dataframe tbody tr th {\n",
              "        vertical-align: top;\n",
              "    }\n",
              "\n",
              "    .dataframe thead th {\n",
              "        text-align: right;\n",
              "    }\n",
              "</style>\n",
              "<table border=\"1\" class=\"dataframe\">\n",
              "  <thead>\n",
              "    <tr style=\"text-align: right;\">\n",
              "      <th></th>\n",
              "      <th>Currency</th>\n",
              "      <th>Closing Price (USD)</th>\n",
              "      <th>24h Open (USD)</th>\n",
              "      <th>24h High (USD)</th>\n",
              "      <th>24h Low (USD)</th>\n",
              "    </tr>\n",
              "    <tr>\n",
              "      <th>Date</th>\n",
              "      <th></th>\n",
              "      <th></th>\n",
              "      <th></th>\n",
              "      <th></th>\n",
              "      <th></th>\n",
              "    </tr>\n",
              "  </thead>\n",
              "  <tbody>\n",
              "    <tr>\n",
              "      <th>2021-05-14</th>\n",
              "      <td>BTC</td>\n",
              "      <td>49764.132082</td>\n",
              "      <td>49596.778891</td>\n",
              "      <td>51448.798576</td>\n",
              "      <td>46294.720180</td>\n",
              "    </tr>\n",
              "    <tr>\n",
              "      <th>2021-05-15</th>\n",
              "      <td>BTC</td>\n",
              "      <td>50032.693137</td>\n",
              "      <td>49717.354353</td>\n",
              "      <td>51578.312545</td>\n",
              "      <td>48944.346536</td>\n",
              "    </tr>\n",
              "    <tr>\n",
              "      <th>2021-05-16</th>\n",
              "      <td>BTC</td>\n",
              "      <td>47885.625255</td>\n",
              "      <td>49926.035067</td>\n",
              "      <td>50690.802950</td>\n",
              "      <td>47005.102292</td>\n",
              "    </tr>\n",
              "    <tr>\n",
              "      <th>2021-05-17</th>\n",
              "      <td>BTC</td>\n",
              "      <td>45604.615754</td>\n",
              "      <td>46805.537852</td>\n",
              "      <td>49670.414174</td>\n",
              "      <td>43868.638969</td>\n",
              "    </tr>\n",
              "    <tr>\n",
              "      <th>2021-05-18</th>\n",
              "      <td>BTC</td>\n",
              "      <td>43144.471291</td>\n",
              "      <td>46439.336570</td>\n",
              "      <td>46622.853437</td>\n",
              "      <td>42102.346430</td>\n",
              "    </tr>\n",
              "  </tbody>\n",
              "</table>\n",
              "</div>\n",
              "      <button class=\"colab-df-convert\" onclick=\"convertToInteractive('df-c5eb331e-87e4-4de6-bb93-2e544174287a')\"\n",
              "              title=\"Convert this dataframe to an interactive table.\"\n",
              "              style=\"display:none;\">\n",
              "        \n",
              "  <svg xmlns=\"http://www.w3.org/2000/svg\" height=\"24px\"viewBox=\"0 0 24 24\"\n",
              "       width=\"24px\">\n",
              "    <path d=\"M0 0h24v24H0V0z\" fill=\"none\"/>\n",
              "    <path d=\"M18.56 5.44l.94 2.06.94-2.06 2.06-.94-2.06-.94-.94-2.06-.94 2.06-2.06.94zm-11 1L8.5 8.5l.94-2.06 2.06-.94-2.06-.94L8.5 2.5l-.94 2.06-2.06.94zm10 10l.94 2.06.94-2.06 2.06-.94-2.06-.94-.94-2.06-.94 2.06-2.06.94z\"/><path d=\"M17.41 7.96l-1.37-1.37c-.4-.4-.92-.59-1.43-.59-.52 0-1.04.2-1.43.59L10.3 9.45l-7.72 7.72c-.78.78-.78 2.05 0 2.83L4 21.41c.39.39.9.59 1.41.59.51 0 1.02-.2 1.41-.59l7.78-7.78 2.81-2.81c.8-.78.8-2.07 0-2.86zM5.41 20L4 18.59l7.72-7.72 1.47 1.35L5.41 20z\"/>\n",
              "  </svg>\n",
              "      </button>\n",
              "      \n",
              "  <style>\n",
              "    .colab-df-container {\n",
              "      display:flex;\n",
              "      flex-wrap:wrap;\n",
              "      gap: 12px;\n",
              "    }\n",
              "\n",
              "    .colab-df-convert {\n",
              "      background-color: #E8F0FE;\n",
              "      border: none;\n",
              "      border-radius: 50%;\n",
              "      cursor: pointer;\n",
              "      display: none;\n",
              "      fill: #1967D2;\n",
              "      height: 32px;\n",
              "      padding: 0 0 0 0;\n",
              "      width: 32px;\n",
              "    }\n",
              "\n",
              "    .colab-df-convert:hover {\n",
              "      background-color: #E2EBFA;\n",
              "      box-shadow: 0px 1px 2px rgba(60, 64, 67, 0.3), 0px 1px 3px 1px rgba(60, 64, 67, 0.15);\n",
              "      fill: #174EA6;\n",
              "    }\n",
              "\n",
              "    [theme=dark] .colab-df-convert {\n",
              "      background-color: #3B4455;\n",
              "      fill: #D2E3FC;\n",
              "    }\n",
              "\n",
              "    [theme=dark] .colab-df-convert:hover {\n",
              "      background-color: #434B5C;\n",
              "      box-shadow: 0px 1px 3px 1px rgba(0, 0, 0, 0.15);\n",
              "      filter: drop-shadow(0px 1px 2px rgba(0, 0, 0, 0.3));\n",
              "      fill: #FFFFFF;\n",
              "    }\n",
              "  </style>\n",
              "\n",
              "      <script>\n",
              "        const buttonEl =\n",
              "          document.querySelector('#df-c5eb331e-87e4-4de6-bb93-2e544174287a button.colab-df-convert');\n",
              "        buttonEl.style.display =\n",
              "          google.colab.kernel.accessAllowed ? 'block' : 'none';\n",
              "\n",
              "        async function convertToInteractive(key) {\n",
              "          const element = document.querySelector('#df-c5eb331e-87e4-4de6-bb93-2e544174287a');\n",
              "          const dataTable =\n",
              "            await google.colab.kernel.invokeFunction('convertToInteractive',\n",
              "                                                     [key], {});\n",
              "          if (!dataTable) return;\n",
              "\n",
              "          const docLinkHtml = 'Like what you see? Visit the ' +\n",
              "            '<a target=\"_blank\" href=https://colab.research.google.com/notebooks/data_table.ipynb>data table notebook</a>'\n",
              "            + ' to learn more about interactive tables.';\n",
              "          element.innerHTML = '';\n",
              "          dataTable['output_type'] = 'display_data';\n",
              "          await google.colab.output.renderOutput(dataTable, element);\n",
              "          const docLink = document.createElement('div');\n",
              "          docLink.innerHTML = docLinkHtml;\n",
              "          element.appendChild(docLink);\n",
              "        }\n",
              "      </script>\n",
              "    </div>\n",
              "  </div>\n",
              "  "
            ]
          },
          "metadata": {},
          "execution_count": 6
        }
      ]
    },
    {
      "cell_type": "code",
      "source": [
        "len(dataset)"
      ],
      "metadata": {
        "colab": {
          "base_uri": "https://localhost:8080/"
        },
        "id": "khpWWS_LZ0bu",
        "outputId": "0718d0ca-464e-4ef5-e7a4-044acb5071af"
      },
      "execution_count": 7,
      "outputs": [
        {
          "output_type": "execute_result",
          "data": {
            "text/plain": [
              "2787"
            ]
          },
          "metadata": {},
          "execution_count": 7
        }
      ]
    },
    {
      "cell_type": "code",
      "source": [
        "bitcoin_prices = pd.DataFrame(dataset['Closing Price (USD)']).rename(columns = {\"Closing Price (USD)\":\"Price\"})"
      ],
      "metadata": {
        "id": "XlH9RMJxZ7qH"
      },
      "execution_count": 8,
      "outputs": []
    },
    {
      "cell_type": "code",
      "source": [
        "bitcoin_prices"
      ],
      "metadata": {
        "colab": {
          "base_uri": "https://localhost:8080/",
          "height": 455
        },
        "id": "lgepkxmXb7F5",
        "outputId": "01a37480-b3b6-485b-af8c-71d8e83f3994"
      },
      "execution_count": 9,
      "outputs": [
        {
          "output_type": "execute_result",
          "data": {
            "text/plain": [
              "                   Price\n",
              "Date                    \n",
              "2013-10-01    123.654990\n",
              "2013-10-02    125.455000\n",
              "2013-10-03    108.584830\n",
              "2013-10-04    118.674660\n",
              "2013-10-05    121.338660\n",
              "...                  ...\n",
              "2021-05-14  49764.132082\n",
              "2021-05-15  50032.693137\n",
              "2021-05-16  47885.625255\n",
              "2021-05-17  45604.615754\n",
              "2021-05-18  43144.471291\n",
              "\n",
              "[2787 rows x 1 columns]"
            ],
            "text/html": [
              "\n",
              "  <div id=\"df-94daed4f-2fd2-4f24-be49-e7d3105030a8\">\n",
              "    <div class=\"colab-df-container\">\n",
              "      <div>\n",
              "<style scoped>\n",
              "    .dataframe tbody tr th:only-of-type {\n",
              "        vertical-align: middle;\n",
              "    }\n",
              "\n",
              "    .dataframe tbody tr th {\n",
              "        vertical-align: top;\n",
              "    }\n",
              "\n",
              "    .dataframe thead th {\n",
              "        text-align: right;\n",
              "    }\n",
              "</style>\n",
              "<table border=\"1\" class=\"dataframe\">\n",
              "  <thead>\n",
              "    <tr style=\"text-align: right;\">\n",
              "      <th></th>\n",
              "      <th>Price</th>\n",
              "    </tr>\n",
              "    <tr>\n",
              "      <th>Date</th>\n",
              "      <th></th>\n",
              "    </tr>\n",
              "  </thead>\n",
              "  <tbody>\n",
              "    <tr>\n",
              "      <th>2013-10-01</th>\n",
              "      <td>123.654990</td>\n",
              "    </tr>\n",
              "    <tr>\n",
              "      <th>2013-10-02</th>\n",
              "      <td>125.455000</td>\n",
              "    </tr>\n",
              "    <tr>\n",
              "      <th>2013-10-03</th>\n",
              "      <td>108.584830</td>\n",
              "    </tr>\n",
              "    <tr>\n",
              "      <th>2013-10-04</th>\n",
              "      <td>118.674660</td>\n",
              "    </tr>\n",
              "    <tr>\n",
              "      <th>2013-10-05</th>\n",
              "      <td>121.338660</td>\n",
              "    </tr>\n",
              "    <tr>\n",
              "      <th>...</th>\n",
              "      <td>...</td>\n",
              "    </tr>\n",
              "    <tr>\n",
              "      <th>2021-05-14</th>\n",
              "      <td>49764.132082</td>\n",
              "    </tr>\n",
              "    <tr>\n",
              "      <th>2021-05-15</th>\n",
              "      <td>50032.693137</td>\n",
              "    </tr>\n",
              "    <tr>\n",
              "      <th>2021-05-16</th>\n",
              "      <td>47885.625255</td>\n",
              "    </tr>\n",
              "    <tr>\n",
              "      <th>2021-05-17</th>\n",
              "      <td>45604.615754</td>\n",
              "    </tr>\n",
              "    <tr>\n",
              "      <th>2021-05-18</th>\n",
              "      <td>43144.471291</td>\n",
              "    </tr>\n",
              "  </tbody>\n",
              "</table>\n",
              "<p>2787 rows × 1 columns</p>\n",
              "</div>\n",
              "      <button class=\"colab-df-convert\" onclick=\"convertToInteractive('df-94daed4f-2fd2-4f24-be49-e7d3105030a8')\"\n",
              "              title=\"Convert this dataframe to an interactive table.\"\n",
              "              style=\"display:none;\">\n",
              "        \n",
              "  <svg xmlns=\"http://www.w3.org/2000/svg\" height=\"24px\"viewBox=\"0 0 24 24\"\n",
              "       width=\"24px\">\n",
              "    <path d=\"M0 0h24v24H0V0z\" fill=\"none\"/>\n",
              "    <path d=\"M18.56 5.44l.94 2.06.94-2.06 2.06-.94-2.06-.94-.94-2.06-.94 2.06-2.06.94zm-11 1L8.5 8.5l.94-2.06 2.06-.94-2.06-.94L8.5 2.5l-.94 2.06-2.06.94zm10 10l.94 2.06.94-2.06 2.06-.94-2.06-.94-.94-2.06-.94 2.06-2.06.94z\"/><path d=\"M17.41 7.96l-1.37-1.37c-.4-.4-.92-.59-1.43-.59-.52 0-1.04.2-1.43.59L10.3 9.45l-7.72 7.72c-.78.78-.78 2.05 0 2.83L4 21.41c.39.39.9.59 1.41.59.51 0 1.02-.2 1.41-.59l7.78-7.78 2.81-2.81c.8-.78.8-2.07 0-2.86zM5.41 20L4 18.59l7.72-7.72 1.47 1.35L5.41 20z\"/>\n",
              "  </svg>\n",
              "      </button>\n",
              "      \n",
              "  <style>\n",
              "    .colab-df-container {\n",
              "      display:flex;\n",
              "      flex-wrap:wrap;\n",
              "      gap: 12px;\n",
              "    }\n",
              "\n",
              "    .colab-df-convert {\n",
              "      background-color: #E8F0FE;\n",
              "      border: none;\n",
              "      border-radius: 50%;\n",
              "      cursor: pointer;\n",
              "      display: none;\n",
              "      fill: #1967D2;\n",
              "      height: 32px;\n",
              "      padding: 0 0 0 0;\n",
              "      width: 32px;\n",
              "    }\n",
              "\n",
              "    .colab-df-convert:hover {\n",
              "      background-color: #E2EBFA;\n",
              "      box-shadow: 0px 1px 2px rgba(60, 64, 67, 0.3), 0px 1px 3px 1px rgba(60, 64, 67, 0.15);\n",
              "      fill: #174EA6;\n",
              "    }\n",
              "\n",
              "    [theme=dark] .colab-df-convert {\n",
              "      background-color: #3B4455;\n",
              "      fill: #D2E3FC;\n",
              "    }\n",
              "\n",
              "    [theme=dark] .colab-df-convert:hover {\n",
              "      background-color: #434B5C;\n",
              "      box-shadow: 0px 1px 3px 1px rgba(0, 0, 0, 0.15);\n",
              "      filter: drop-shadow(0px 1px 2px rgba(0, 0, 0, 0.3));\n",
              "      fill: #FFFFFF;\n",
              "    }\n",
              "  </style>\n",
              "\n",
              "      <script>\n",
              "        const buttonEl =\n",
              "          document.querySelector('#df-94daed4f-2fd2-4f24-be49-e7d3105030a8 button.colab-df-convert');\n",
              "        buttonEl.style.display =\n",
              "          google.colab.kernel.accessAllowed ? 'block' : 'none';\n",
              "\n",
              "        async function convertToInteractive(key) {\n",
              "          const element = document.querySelector('#df-94daed4f-2fd2-4f24-be49-e7d3105030a8');\n",
              "          const dataTable =\n",
              "            await google.colab.kernel.invokeFunction('convertToInteractive',\n",
              "                                                     [key], {});\n",
              "          if (!dataTable) return;\n",
              "\n",
              "          const docLinkHtml = 'Like what you see? Visit the ' +\n",
              "            '<a target=\"_blank\" href=https://colab.research.google.com/notebooks/data_table.ipynb>data table notebook</a>'\n",
              "            + ' to learn more about interactive tables.';\n",
              "          element.innerHTML = '';\n",
              "          dataTable['output_type'] = 'display_data';\n",
              "          await google.colab.output.renderOutput(dataTable, element);\n",
              "          const docLink = document.createElement('div');\n",
              "          docLink.innerHTML = docLinkHtml;\n",
              "          element.appendChild(docLink);\n",
              "        }\n",
              "      </script>\n",
              "    </div>\n",
              "  </div>\n",
              "  "
            ]
          },
          "metadata": {},
          "execution_count": 9
        }
      ]
    },
    {
      "cell_type": "code",
      "source": [
        "import matplotlib.pyplot as plt\n",
        "bitcoin_prices.plot()\n",
        "plt.ylabel(\"BTC Price\")\n",
        "plt.title(\"1 Oct 2018 to 18 May 2021\")"
      ],
      "metadata": {
        "colab": {
          "base_uri": "https://localhost:8080/",
          "height": 489
        },
        "id": "QeWkpou-b8GU",
        "outputId": "3e8bb3b8-2e88-423f-dfb7-62da4b0e8aba"
      },
      "execution_count": 10,
      "outputs": [
        {
          "output_type": "execute_result",
          "data": {
            "text/plain": [
              "Text(0.5, 1.0, '1 Oct 2018 to 18 May 2021')"
            ]
          },
          "metadata": {},
          "execution_count": 10
        },
        {
          "output_type": "display_data",
          "data": {
            "text/plain": [
              "<Figure size 640x480 with 1 Axes>"
            ],
            "image/png": "[encoded data removed]"
          },
          "metadata": {}
        }
      ]
    },
    {
      "cell_type": "code",
      "source": [
        "bitcoin_prices.plot()"
      ],
      "metadata": {
        "id": "AG7bTeeGcCr3",
        "colab": {
          "base_uri": "https://localhost:8080/",
          "height": 466
        },
        "outputId": "5f4f4d2f-d7bb-442a-de4c-ddc65c55a890"
      },
      "execution_count": 11,
      "outputs": [
        {
          "output_type": "execute_result",
          "data": {
            "text/plain": [
              "<Axes: xlabel='Date'>"
            ]
          },
          "metadata": {},
          "execution_count": 11
        },
        {
          "output_type": "display_data",
          "data": {
            "text/plain": [
              "<Figure size 640x480 with 1 Axes>"
            ],
            "image/png": "[encoded data removed]"
          },
          "metadata": {}
        }
      ]
    },
    {
      "cell_type": "markdown",
      "source": [
        "### Importing with CSV Module"
      ],
      "metadata": {
        "id": "mxjTUE3gc6_n"
      }
    },
    {
      "cell_type": "code",
      "source": [
        "import csv\n",
        "from datetime import datetime\n",
        "timesteps = []\n",
        "btc_price = []\n",
        "with open (\"/content/BTC_USD_2013-10-01_2021-05-18-CoinDesk.csv\",'r') as f:\n",
        "  reader = csv.reader(f,delimiter = \",\")\n",
        "  next(reader)\n",
        "  for line in reader:\n",
        "    timesteps.append(datetime.strptime(line[1],\"%Y-%m-%d\"))\n",
        "    btc_price.append(float(line[2]))"
      ],
      "metadata": {
        "id": "EgIsqu5gc9vX"
      },
      "execution_count": 12,
      "outputs": []
    },
    {
      "cell_type": "code",
      "source": [
        "btc_price[:10]"
      ],
      "metadata": {
        "colab": {
          "base_uri": "https://localhost:8080/"
        },
        "id": "_WvmBf6bd0ju",
        "outputId": "a540fdab-6ad9-4d41-e112-155d64204454"
      },
      "execution_count": 13,
      "outputs": [
        {
          "output_type": "execute_result",
          "data": {
            "text/plain": [
              "[123.65499,\n",
              " 125.455,\n",
              " 108.58483,\n",
              " 118.67466,\n",
              " 121.33866,\n",
              " 120.65533,\n",
              " 121.795,\n",
              " 123.033,\n",
              " 124.049,\n",
              " 125.96116]"
            ]
          },
          "metadata": {},
          "execution_count": 13
        }
      ]
    },
    {
      "cell_type": "code",
      "source": [
        "import matplotlib.pyplot as plt\n",
        "plt.figure(figsize = (10,7))\n",
        "plt.plot(timesteps,btc_price)"
      ],
      "metadata": {
        "colab": {
          "base_uri": "https://localhost:8080/",
          "height": 466
        },
        "id": "t_ny9D-Nd1kS",
        "outputId": "340ecfb5-cbcb-437a-d68d-4ebe3a38962e"
      },
      "execution_count": 14,
      "outputs": [
        {
          "output_type": "execute_result",
          "data": {
            "text/plain": [
              "[<matplotlib.lines.Line2D at 0x7f47c6800700>]"
            ]
          },
          "metadata": {},
          "execution_count": 14
        },
        {
          "output_type": "display_data",
          "data": {
            "text/plain": [
              "<Figure size 1000x700 with 1 Axes>"
            ],
            "image/png": "[encoded data removed]"
          },
          "metadata": {}
        }
      ]
    },
    {
      "cell_type": "markdown",
      "source": [
        "### Creating train and test sets with time series data (Wrong Way)"
      ],
      "metadata": {
        "id": "3NTQIyheeWJH"
      }
    },
    {
      "cell_type": "code",
      "source": [
        "from sklearn.model_selection import train_test_split"
      ],
      "metadata": {
        "id": "2qiPc3CjevfV"
      },
      "execution_count": 15,
      "outputs": []
    },
    {
      "cell_type": "code",
      "source": [
        "timesteps = bitcoin_prices.index.to_numpy()\n",
        "prices = bitcoin_prices['Price'].to_numpy()"
      ],
      "metadata": {
        "id": "-RPJzr_7e01j"
      },
      "execution_count": 16,
      "outputs": []
    },
    {
      "cell_type": "code",
      "source": [
        "timesteps,prices"
      ],
      "metadata": {
        "colab": {
          "base_uri": "https://localhost:8080/"
        },
        "id": "L-2u94aYexS8",
        "outputId": "63ca5670-919f-4265-aa35-db4aa7b29abd"
      },
      "execution_count": 17,
      "outputs": [
        {
          "output_type": "execute_result",
          "data": {
            "text/plain": [
              "(array(['2013-10-01T00:00:00.000000000', '2013-10-02T00:00:00.000000000',\n",
              "        '2013-10-03T00:00:00.000000000', ...,\n",
              "        '2021-05-16T00:00:00.000000000', '2021-05-17T00:00:00.000000000',\n",
              "        '2021-05-18T00:00:00.000000000'], dtype='datetime64[ns]'),\n",
              " array([  123.65499   ,   125.455     ,   108.58483   , ...,\n",
              "        47885.62525472, 45604.61575361, 43144.47129086]))"
            ]
          },
          "metadata": {},
          "execution_count": 17
        }
      ]
    },
    {
      "cell_type": "code",
      "source": [
        "x_train,x_test,y_train,y_test = train_test_split(timesteps,prices,test_size = 0.2)"
      ],
      "metadata": {
        "id": "T2uawbw3e4j9"
      },
      "execution_count": 18,
      "outputs": []
    },
    {
      "cell_type": "code",
      "source": [
        "plt.figure(figsize = (10,7))\n",
        "plt.scatter(x_train,y_train,s = 5,label = \"Train\")\n",
        "plt.scatter(x_test,y_test,s = 5,label = \"Test\")\n",
        "plt.legend(fontsize = 14)"
      ],
      "metadata": {
        "colab": {
          "base_uri": "https://localhost:8080/",
          "height": 466
        },
        "id": "-bDAkAKlfSMZ",
        "outputId": "06774315-0d93-4683-dee3-884f2608f7e5"
      },
      "execution_count": 19,
      "outputs": [
        {
          "output_type": "execute_result",
          "data": {
            "text/plain": [
              "<matplotlib.legend.Legend at 0x7f47c182df40>"
            ]
          },
          "metadata": {},
          "execution_count": 19
        },
        {
          "output_type": "display_data",
          "data": {
            "text/plain": [
              "<Figure size 1000x700 with 1 Axes>"
            ],
            "image/png": "[encoded data removed]"
          },
          "metadata": {}
        }
      ]
    },
    {
      "cell_type": "markdown",
      "source": [
        "### Creating splits for time series (right way)"
      ],
      "metadata": {
        "id": "jSnj8zZYfz3E"
      }
    },
    {
      "cell_type": "code",
      "source": [
        "split_size = int(0.8*len(prices))\n",
        "x_train,y_train = timesteps[:split_size],prices[:split_size]\n",
        "x_test,y_test  = timesteps[split_size:],prices[split_size:]"
      ],
      "metadata": {
        "id": "YfwJ_7zNhLYb"
      },
      "execution_count": 20,
      "outputs": []
    },
    {
      "cell_type": "code",
      "source": [
        "len(x_train),len(x_test)"
      ],
      "metadata": {
        "colab": {
          "base_uri": "https://localhost:8080/"
        },
        "id": "mOqbvowLhM5z",
        "outputId": "c1adad83-aeff-473a-e870-67bfe1b05163"
      },
      "execution_count": 21,
      "outputs": [
        {
          "output_type": "execute_result",
          "data": {
            "text/plain": [
              "(2229, 558)"
            ]
          },
          "metadata": {},
          "execution_count": 21
        }
      ]
    },
    {
      "cell_type": "code",
      "source": [
        "plt.figure(figsize = (10,7))\n",
        "plt.scatter(x_train,y_train,s = 5,label = \"Train\")\n",
        "plt.scatter(x_test,y_test,s = 5,label = \"Test\")\n",
        "plt.legend(fontsize = 14)"
      ],
      "metadata": {
        "colab": {
          "base_uri": "https://localhost:8080/",
          "height": 466
        },
        "id": "7faHqBTGhdAK",
        "outputId": "27ac37e0-4f9d-48a7-d448-84c9cc067e03"
      },
      "execution_count": 22,
      "outputs": [
        {
          "output_type": "execute_result",
          "data": {
            "text/plain": [
              "<matplotlib.legend.Legend at 0x7f47c1739520>"
            ]
          },
          "metadata": {},
          "execution_count": 22
        },
        {
          "output_type": "display_data",
          "data": {
            "text/plain": [
              "<Figure size 1000x700 with 1 Axes>"
            ],
            "image/png": "[encoded data removed]"
          },
          "metadata": {}
        }
      ]
    },
    {
      "cell_type": "markdown",
      "source": [
        "### Creating plot functions"
      ],
      "metadata": {
        "id": "eM-AdrsJhhau"
      }
    },
    {
      "cell_type": "code",
      "source": [
        "def plot_time_series(timesteps, values, format='.', start=0, end=None, label=None):\n",
        "  \"\"\"\n",
        "  Plots a timesteps (a series of points in time) against values (a series of values across timesteps).\n",
        "  \n",
        "  Parameters\n",
        "  ---------\n",
        "  timesteps : array of timesteps\n",
        "  values : array of values across time\n",
        "  format : style of plot, default \".\"\n",
        "  start : where to start the plot (setting a value will index from start of timesteps & values)\n",
        "  end : where to end the plot (setting a value will index from end of timesteps & values)\n",
        "  label : label to show on plot of values\n",
        "  \"\"\"\n",
        "  # Plot the series\n",
        "  plt.plot(timesteps[start:end], values[start:end], format, label=label)\n",
        "  plt.xlabel(\"Time\")\n",
        "  plt.ylabel(\"BTC Price\")\n",
        "  if label:\n",
        "    plt.legend(fontsize=14) # make label bigger\n",
        "  plt.grid(True)"
      ],
      "metadata": {
        "id": "M8V4A2Xdh-Jk"
      },
      "execution_count": 23,
      "outputs": []
    },
    {
      "cell_type": "markdown",
      "source": [
        "## Model 0 - Naive Baselline"
      ],
      "metadata": {
        "id": "HYOjp15vio8g"
      }
    },
    {
      "cell_type": "code",
      "source": [
        "naive_forecast = y_test[:-1]"
      ],
      "metadata": {
        "id": "SWsSaia_jnN_"
      },
      "execution_count": 24,
      "outputs": []
    },
    {
      "cell_type": "code",
      "source": [
        "naive_forecast[-10:]"
      ],
      "metadata": {
        "colab": {
          "base_uri": "https://localhost:8080/"
        },
        "id": "DdF84H06kqf5",
        "outputId": "2e14a0a9-810f-45fb-d60f-373dd6f0d297"
      },
      "execution_count": 25,
      "outputs": [
        {
          "output_type": "execute_result",
          "data": {
            "text/plain": [
              "array([57107.12067189, 58788.20967893, 58102.19142623, 55715.54665129,\n",
              "       56573.5554719 , 52147.82118698, 49764.1320816 , 50032.69313676,\n",
              "       47885.62525472, 45604.61575361])"
            ]
          },
          "metadata": {},
          "execution_count": 25
        }
      ]
    },
    {
      "cell_type": "code",
      "source": [
        "y_test[-10:]"
      ],
      "metadata": {
        "colab": {
          "base_uri": "https://localhost:8080/"
        },
        "id": "SsmF4NXlkj2Z",
        "outputId": "da929f12-c69d-4ff1-a2c8-0301d3e95330"
      },
      "execution_count": 26,
      "outputs": [
        {
          "output_type": "execute_result",
          "data": {
            "text/plain": [
              "array([58788.20967893, 58102.19142623, 55715.54665129, 56573.5554719 ,\n",
              "       52147.82118698, 49764.1320816 , 50032.69313676, 47885.62525472,\n",
              "       45604.61575361, 43144.47129086])"
            ]
          },
          "metadata": {},
          "execution_count": 26
        }
      ]
    },
    {
      "cell_type": "code",
      "source": [
        "plt.figure(figsize=(10, 7))\n",
        "offset = 300 # offset the values by 300 timesteps \n",
        "plot_time_series(timesteps=x_test, values=y_test, start=offset, label=\"Test data\")\n",
        "plot_time_series(timesteps=x_test[1:], values=naive_forecast, format=\"-\", start=offset, label=\"Naive Forecast\")"
      ],
      "metadata": {
        "colab": {
          "base_uri": "https://localhost:8080/",
          "height": 453
        },
        "id": "g6U3-bJ_kn6R",
        "outputId": "5793795a-f77a-4199-b2b1-6dc8ed8adf96"
      },
      "execution_count": 27,
      "outputs": [
        {
          "output_type": "display_data",
          "data": {
            "text/plain": [
              "<Figure size 1000x700 with 1 Axes>"
            ],
            "image/png": "[encoded data removed]"
          },
          "metadata": {}
        }
      ]
    },
    {
      "cell_type": "code",
      "source": [
        "import tensorflow as tf"
      ],
      "metadata": {
        "id": "Fz9vcGBhlPCq"
      },
      "execution_count": 28,
      "outputs": []
    },
    {
      "cell_type": "code",
      "source": [
        "# MASE Implementation\n",
        "def mean_absolute_scaled_error(y_true,y_pred):\n",
        "  mae = tf.reduce_mean(tf.abs(y_true-y_pred))\n",
        "\n",
        "  mae_naive_no_season = tf.reduce_mean(tf.abs(y_true[1:]-y_true[:-1]))\n",
        "\n",
        "  return mae/mae_naive_no_season"
      ],
      "metadata": {
        "id": "qViijWW2Zg48"
      },
      "execution_count": 29,
      "outputs": []
    },
    {
      "cell_type": "code",
      "source": [
        "mean_absolute_scaled_error(y_true = y_test[1:],y_pred = naive_forecast).numpy()"
      ],
      "metadata": {
        "colab": {
          "base_uri": "https://localhost:8080/"
        },
        "id": "Ojx8PkL_ZjAi",
        "outputId": "2da4c0e8-ebc6-43b6-be23-25f665f9818a"
      },
      "execution_count": 30,
      "outputs": [
        {
          "output_type": "execute_result",
          "data": {
            "text/plain": [
              "0.9995699939182624"
            ]
          },
          "metadata": {},
          "execution_count": 30
        }
      ]
    },
    {
      "cell_type": "code",
      "source": [
        "def evaluation_metrics(y_pred,y_true):\n",
        "  y_true = tf.cast(y_true,dtype = tf.float32)\n",
        "  y_pred = tf.cast(y_pred,dtype = tf.float32)\n",
        "\n",
        "  mae = tf.keras.metrics.mean_absolute_error(y_true,y_pred)\n",
        "  mse = tf.keras.metrics.mean_squared_error(y_true,y_pred)\n",
        "  rmse = tf.sqrt(mse)\n",
        "  mape = tf.keras.metrics.mean_absolute_percentage_error(y_true,y_pred)\n",
        "  mase = mean_absolute_scaled_error(y_true,y_pred)\n",
        "  if mae.ndim>0:\n",
        "    mae = tf.reduce_mean(mae)\n",
        "    mse = tf.reduce_mean(mse)\n",
        "    rmse = tf.reduce_mean(rmse)\n",
        "    mape = tf.reduce_mean(mape)\n",
        "    mase = tf.reduce_mean(mase)\n",
        "  return {\"mae\":mae.numpy(),\"mse\":mse.numpy(),\"rmse\":rmse.numpy(),\"mape\":mape.numpy(),\"mase\":mase.numpy()}\n"
      ],
      "metadata": {
        "id": "EDcdZLyjdDjk"
      },
      "execution_count": 71,
      "outputs": []
    },
    {
      "cell_type": "code",
      "source": [
        "naive_results = evaluation_metrics(y_test[1:],naive_forecast)"
      ],
      "metadata": {
        "id": "LYfvRwRDexsm"
      },
      "execution_count": 32,
      "outputs": []
    },
    {
      "cell_type": "code",
      "source": [
        "naive_results"
      ],
      "metadata": {
        "colab": {
          "base_uri": "https://localhost:8080/"
        },
        "id": "DLe2rOr2fGDY",
        "outputId": "c9ec3fa7-7db8-4937-b38a-93cf87cf1972"
      },
      "execution_count": 33,
      "outputs": [
        {
          "output_type": "execute_result",
          "data": {
            "text/plain": [
              "{'mae': 567.9802,\n",
              " 'mse': 1147547.0,\n",
              " 'rmse': 1071.2362,\n",
              " 'mape': 2.527042,\n",
              " 'mase': 1.0060278}"
            ]
          },
          "metadata": {},
          "execution_count": 33
        }
      ]
    },
    {
      "cell_type": "code",
      "source": [
        "tf.reduce_mean(y_test)"
      ],
      "metadata": {
        "colab": {
          "base_uri": "https://localhost:8080/"
        },
        "id": "hDY0YiDVfU8J",
        "outputId": "75967d0e-a54a-4e85-9097-bd78fc85676e"
      },
      "execution_count": 34,
      "outputs": [
        {
          "output_type": "execute_result",
          "data": {
            "text/plain": [
              "<tf.Tensor: shape=(), dtype=float64, numpy=20056.632963737222>"
            ]
          },
          "metadata": {},
          "execution_count": 34
        }
      ]
    },
    {
      "cell_type": "code",
      "source": [
        "tf.reduce_min(y_test)"
      ],
      "metadata": {
        "colab": {
          "base_uri": "https://localhost:8080/"
        },
        "id": "tTfB0r4qfmLY",
        "outputId": "88a0381b-345d-4b55-aca5-750a7fe91368"
      },
      "execution_count": 35,
      "outputs": [
        {
          "output_type": "execute_result",
          "data": {
            "text/plain": [
              "<tf.Tensor: shape=(), dtype=float64, numpy=4944.7023359837>"
            ]
          },
          "metadata": {},
          "execution_count": 35
        }
      ]
    },
    {
      "cell_type": "markdown",
      "source": [
        "## Windowing dataset"
      ],
      "metadata": {
        "id": "BLU2jOQbfoJS"
      }
    },
    {
      "cell_type": "code",
      "source": [
        "HORIZON = 1 #Predict 1 Day\n",
        "WINDOW = 7 #Use past week of Bitcoin data to one predictor\n"
      ],
      "metadata": {
        "id": "VyQkn4-VgrGA"
      },
      "execution_count": 36,
      "outputs": []
    },
    {
      "cell_type": "code",
      "source": [
        "def get_labelled_window(x,horizon = HORIZON):\n",
        "  '''\n",
        "    Create Labels for windowed dataset.\n",
        "    E.g. If Horizon = 1\n",
        "    Input: [0,1,2,3,4,5,6,7] -> Output: ([0,1,2,3,4,5,6] -> [7]) Window Size = 7\n",
        "  '''\n",
        "  return x[:,:-horizon],x[:,-horizon:]"
      ],
      "metadata": {
        "id": "3z4hDT8Ahd-G"
      },
      "execution_count": 37,
      "outputs": []
    },
    {
      "cell_type": "code",
      "source": [
        "test_window,test_label = get_labelled_window(tf.expand_dims(tf.range(8)+1,axis = 0))"
      ],
      "metadata": {
        "id": "zJVmZcbqiL41"
      },
      "execution_count": 38,
      "outputs": []
    },
    {
      "cell_type": "code",
      "source": [
        "tf.expand_dims(tf.range(8)+1,axis = 0)"
      ],
      "metadata": {
        "colab": {
          "base_uri": "https://localhost:8080/"
        },
        "id": "xw3uqY6nicV4",
        "outputId": "9c606c1c-d2d2-4538-af78-7e1e14e22dfe"
      },
      "execution_count": 39,
      "outputs": [
        {
          "output_type": "execute_result",
          "data": {
            "text/plain": [
              "<tf.Tensor: shape=(1, 8), dtype=int32, numpy=array([[1, 2, 3, 4, 5, 6, 7, 8]], dtype=int32)>"
            ]
          },
          "metadata": {},
          "execution_count": 39
        }
      ]
    },
    {
      "cell_type": "code",
      "source": [
        "print(\"Window : {x} -> Label: {y}\".format(x = tf.squeeze(test_window).numpy(),y = tf.squeeze(test_label).numpy()))"
      ],
      "metadata": {
        "colab": {
          "base_uri": "https://localhost:8080/"
        },
        "id": "pXn61SALiiaC",
        "outputId": "4958b309-5e9b-4a9c-a63e-de8e47cb6c54"
      },
      "execution_count": 40,
      "outputs": [
        {
          "output_type": "stream",
          "name": "stdout",
          "text": [
            "Window : [1 2 3 4 5 6 7] -> Label: 8\n"
          ]
        }
      ]
    },
    {
      "cell_type": "markdown",
      "source": [
        "## Preprocessing Functions for Windowed Data"
      ],
      "metadata": {
        "id": "Bbci5gDFizI6"
      }
    },
    {
      "cell_type": "code",
      "source": [
        "import numpy as np"
      ],
      "metadata": {
        "id": "oR-b95KipgIX"
      },
      "execution_count": 41,
      "outputs": []
    },
    {
      "cell_type": "code",
      "source": [
        "def make_windows(x,window_size =  WINDOW,horizon = HORIZON):\n",
        "  window_step = np.expand_dims(np.arange(window_size+horizon),axis = 0)\n",
        "  window_indexes = window_step+np.expand_dims(np.arange(len(x)-(window_size+horizon-1)),axis = 0).T\n",
        "  windowed_array = x[window_indexes]\n",
        "  \n",
        "  windows,labels = get_labelled_window(windowed_array,horizon = HORIZON)\n",
        "  return windows,labels"
      ],
      "metadata": {
        "id": "T0gHAySRotkY"
      },
      "execution_count": 42,
      "outputs": []
    },
    {
      "cell_type": "code",
      "source": [
        "full_windows,full_labels = make_windows(prices,window_size = WINDOW,horizon = HORIZON)"
      ],
      "metadata": {
        "id": "ZreyNivFpysQ"
      },
      "execution_count": 43,
      "outputs": []
    },
    {
      "cell_type": "code",
      "source": [
        "for i in range(3):\n",
        "  print(full_windows[i],\"->\",full_labels[i])"
      ],
      "metadata": {
        "colab": {
          "base_uri": "https://localhost:8080/"
        },
        "id": "ioqZGln1qjGJ",
        "outputId": "089cf9e7-8449-452b-b863-d7d8b3131e73"
      },
      "execution_count": 44,
      "outputs": [
        {
          "output_type": "stream",
          "name": "stdout",
          "text": [
            "[123.65499 125.455   108.58483 118.67466 121.33866 120.65533 121.795  ] -> [123.033]\n",
            "[125.455   108.58483 118.67466 121.33866 120.65533 121.795   123.033  ] -> [124.049]\n",
            "[108.58483 118.67466 121.33866 120.65533 121.795   123.033   124.049  ] -> [125.96116]\n"
          ]
        }
      ]
    },
    {
      "cell_type": "markdown",
      "source": [
        "## Turning windows into Training and Test Sets"
      ],
      "metadata": {
        "id": "g4cf_6Z7qkOV"
      }
    },
    {
      "cell_type": "code",
      "source": [
        "def make_train_test_splits(windows,labels,test_split = 0.2):\n",
        "  split_size = int(len(windows)*(1-test_split))\n",
        "  train_windows = windows[:split_size]\n",
        "  train_labels = labels[:split_size]\n",
        "  test_windows = windows[split_size:]\n",
        "  test_labels = labels[split_size:]\n",
        "  return train_windows,test_windows,train_labels,test_labels"
      ],
      "metadata": {
        "id": "JDQzebqjwwOi"
      },
      "execution_count": 45,
      "outputs": []
    },
    {
      "cell_type": "code",
      "source": [
        "train_windows,test_windows,train_labels,test_labels = make_train_test_splits(full_windows,full_labels)"
      ],
      "metadata": {
        "id": "vsBgfp8rxNFm"
      },
      "execution_count": 46,
      "outputs": []
    },
    {
      "cell_type": "markdown",
      "source": [
        "## Making modelling checkpoint"
      ],
      "metadata": {
        "id": "H80RQYBNxW2o"
      }
    },
    {
      "cell_type": "code",
      "source": [
        "import os\n",
        "def create_model_checkpoint(model_name,save_path = \"model_experiments\"):\n",
        "  return tf.keras.callbacks.ModelCheckpoint(filepath = os.path.join(save_path,model_name),verbose=0,save_best_only = True)"
      ],
      "metadata": {
        "id": "LYr3H06yxi9o"
      },
      "execution_count": 47,
      "outputs": []
    },
    {
      "cell_type": "markdown",
      "source": [
        "## Model 1 - Dense Model"
      ],
      "metadata": {
        "id": "o424N7NNxyKP"
      }
    },
    {
      "cell_type": "code",
      "source": [
        "import tensorflow as tf\n",
        "from tensorflow.keras import layers\n",
        "tf.random.set_seed(42)"
      ],
      "metadata": {
        "id": "iC4WpK_myDCx"
      },
      "execution_count": 48,
      "outputs": []
    },
    {
      "cell_type": "code",
      "source": [
        "model_1 = tf.keras.Sequential([\n",
        "    layers.Dense(128,activation = \"relu\"),\n",
        "    layers.Dense(HORIZON,activation = \"linear\")\n",
        "],name = \"model_1_dense\")\n",
        "\n",
        "model_1.compile(loss = \"mae\",metrics = [\"mae\"],optimizer = \"adam\")"
      ],
      "metadata": {
        "id": "Ho6sH-0byHhJ"
      },
      "execution_count": 49,
      "outputs": []
    },
    {
      "cell_type": "code",
      "source": [
        "history_1 = model_1.fit(\n",
        "    train_windows,\n",
        "    train_labels,\n",
        "    epochs = 100,\n",
        "    verbose = 1,\n",
        "    batch_size = 128,\n",
        "    validation_data = (test_windows,test_labels),\n",
        "    callbacks = [create_model_checkpoint(model_name = model_1.name)]\n",
        ")"
      ],
      "metadata": {
        "id": "f9G-mSIMynOu",
        "outputId": "95ce5dfb-017c-46b8-e231-ddeeea60924d",
        "colab": {
          "base_uri": "https://localhost:8080/"
        }
      },
      "execution_count": 50,
      "outputs": [
        {
          "output_type": "stream",
          "name": "stdout",
          "text": [
            "Epoch 1/100\n",
            " 1/18 [>.............................] - ETA: 1:21 - loss: 4444.3599 - mae: 4444.3599"
          ]
        },
        {
          "output_type": "stream",
          "name": "stderr",
          "text": [
            "WARNING:absl:Found untraced functions such as _update_step_xla while saving (showing 1 of 1). These functions will not be directly callable after loading.\n"
          ]
        },
        {
          "output_type": "stream",
          "name": "stdout",
          "text": [
            "\b\b\b\b\b\b\b\b\b\b\b\b\b\b\b\b\b\b\b\b\b\b\b\b\b\b\b\b\b\b\b\b\b\b\b\b\b\b\b\b\b\b\b\b\b\b\b\b\b\b\b\b\b\b\b\b\b\b\b\b\b\b\b\b\b\b\b\b\b\b\b\b\b\b\b\b\b\b\b\b\b\b\b\b\b\r18/18 [==============================] - 6s 45ms/step - loss: 2187.1492 - mae: 2187.1492 - val_loss: 1001.0999 - val_mae: 1001.0999\n",
            "Epoch 2/100\n",
            "18/18 [==============================] - 0s 5ms/step - loss: 388.9658 - mae: 388.9658 - val_loss: 1976.9642 - val_mae: 1976.9642\n",
            "Epoch 3/100\n",
            "18/18 [==============================] - 0s 5ms/step - loss: 237.1223 - mae: 237.1223 - val_loss: 1107.3744 - val_mae: 1107.3744\n",
            "Epoch 4/100\n",
            " 1/18 [>.............................] - ETA: 0s - loss: 214.4690 - mae: 214.4690"
          ]
        },
        {
          "output_type": "stream",
          "name": "stderr",
          "text": [
            "WARNING:absl:Found untraced functions such as _update_step_xla while saving (showing 1 of 1). These functions will not be directly callable after loading.\n"
          ]
        },
        {
          "output_type": "stream",
          "name": "stdout",
          "text": [
            "\b\b\b\b\b\b\b\b\b\b\b\b\b\b\b\b\b\b\b\b\b\b\b\b\b\b\b\b\b\b\b\b\b\b\b\b\b\b\b\b\b\b\b\b\b\b\b\b\b\b\b\b\b\b\b\b\b\b\b\b\b\b\b\b\b\b\b\b\b\b\b\b\b\b\b\b\b\b\b\b\b\r18/18 [==============================] - 0s 26ms/step - loss: 179.3120 - mae: 179.3120 - val_loss: 981.7230 - val_mae: 981.7230\n",
            "Epoch 5/100\n",
            " 1/18 [>.............................] - ETA: 0s - loss: 157.3664 - mae: 157.3664"
          ]
        },
        {
          "output_type": "stream",
          "name": "stderr",
          "text": [
            "WARNING:absl:Found untraced functions such as _update_step_xla while saving (showing 1 of 1). These functions will not be directly callable after loading.\n"
          ]
        },
        {
          "output_type": "stream",
          "name": "stdout",
          "text": [
            "\b\b\b\b\b\b\b\b\b\b\b\b\b\b\b\b\b\b\b\b\b\b\b\b\b\b\b\b\b\b\b\b\b\b\b\b\b\b\b\b\b\b\b\b\b\b\b\b\b\b\b\b\b\b\b\b\b\b\b\b\b\b\b\b\b\b\b\b\b\b\b\b\b\b\b\b\b\b\b\b\b\r18/18 [==============================] - 1s 37ms/step - loss: 169.4578 - mae: 169.4578 - val_loss: 933.2043 - val_mae: 933.2043\n",
            "Epoch 6/100\n",
            " 1/18 [>.............................] - ETA: 0s - loss: 122.8714 - mae: 122.8714"
          ]
        },
        {
          "output_type": "stream",
          "name": "stderr",
          "text": [
            "WARNING:absl:Found untraced functions such as _update_step_xla while saving (showing 1 of 1). These functions will not be directly callable after loading.\n"
          ]
        },
        {
          "output_type": "stream",
          "name": "stdout",
          "text": [
            "\b\b\b\b\b\b\b\b\b\b\b\b\b\b\b\b\b\b\b\b\b\b\b\b\b\b\b\b\b\b\b\b\b\b\b\b\b\b\b\b\b\b\b\b\b\b\b\b\b\b\b\b\b\b\b\b\b\b\b\b\b\b\b\b\b\b\b\b\b\b\b\b\b\b\b\b\b\b\b\b\b\r18/18 [==============================] - 1s 45ms/step - loss: 164.4646 - mae: 164.4646 - val_loss: 925.1267 - val_mae: 925.1267\n",
            "Epoch 7/100\n",
            "13/18 [====================>.........] - ETA: 0s - loss: 167.0515 - mae: 167.0515"
          ]
        },
        {
          "output_type": "stream",
          "name": "stderr",
          "text": [
            "WARNING:absl:Found untraced functions such as _update_step_xla while saving (showing 1 of 1). These functions will not be directly callable after loading.\n"
          ]
        },
        {
          "output_type": "stream",
          "name": "stdout",
          "text": [
            "\b\b\b\b\b\b\b\b\b\b\b\b\b\b\b\b\b\b\b\b\b\b\b\b\b\b\b\b\b\b\b\b\b\b\b\b\b\b\b\b\b\b\b\b\b\b\b\b\b\b\b\b\b\b\b\b\b\b\b\b\b\b\b\b\b\b\b\b\b\b\b\b\b\b\b\b\b\b\b\b\b\r18/18 [==============================] - 1s 51ms/step - loss: 158.8447 - mae: 158.8447 - val_loss: 892.2592 - val_mae: 892.2592\n",
            "Epoch 8/100\n",
            "12/18 [===================>..........] - ETA: 0s - loss: 151.8230 - mae: 151.8230"
          ]
        },
        {
          "output_type": "stream",
          "name": "stderr",
          "text": [
            "WARNING:absl:Found untraced functions such as _update_step_xla while saving (showing 1 of 1). These functions will not be directly callable after loading.\n"
          ]
        },
        {
          "output_type": "stream",
          "name": "stdout",
          "text": [
            "\b\b\b\b\b\b\b\b\b\b\b\b\b\b\b\b\b\b\b\b\b\b\b\b\b\b\b\b\b\b\b\b\b\b\b\b\b\b\b\b\b\b\b\b\b\b\b\b\b\b\b\b\b\b\b\b\b\b\b\b\b\b\b\b\b\b\b\b\b\b\b\b\b\b\b\b\b\b\b\b\b\r18/18 [==============================] - 1s 47ms/step - loss: 153.6735 - mae: 153.6735 - val_loss: 846.1289 - val_mae: 846.1289\n",
            "Epoch 9/100\n",
            "18/18 [==============================] - 0s 9ms/step - loss: 152.7443 - mae: 152.7443 - val_loss: 887.3740 - val_mae: 887.3740\n",
            "Epoch 10/100\n",
            "16/18 [=========================>....] - ETA: 0s - loss: 147.1617 - mae: 147.1617"
          ]
        },
        {
          "output_type": "stream",
          "name": "stderr",
          "text": [
            "WARNING:absl:Found untraced functions such as _update_step_xla while saving (showing 1 of 1). These functions will not be directly callable after loading.\n"
          ]
        },
        {
          "output_type": "stream",
          "name": "stdout",
          "text": [
            "\b\b\b\b\b\b\b\b\b\b\b\b\b\b\b\b\b\b\b\b\b\b\b\b\b\b\b\b\b\b\b\b\b\b\b\b\b\b\b\b\b\b\b\b\b\b\b\b\b\b\b\b\b\b\b\b\b\b\b\b\b\b\b\b\b\b\b\b\b\b\b\b\b\b\b\b\b\b\b\b\b\r18/18 [==============================] - 1s 50ms/step - loss: 148.7849 - mae: 148.7849 - val_loss: 810.2421 - val_mae: 810.2421\n",
            "Epoch 11/100\n",
            "16/18 [=========================>....] - ETA: 0s - loss: 143.3427 - mae: 143.3427"
          ]
        },
        {
          "output_type": "stream",
          "name": "stderr",
          "text": [
            "WARNING:absl:Found untraced functions such as _update_step_xla while saving (showing 1 of 1). These functions will not be directly callable after loading.\n"
          ]
        },
        {
          "output_type": "stream",
          "name": "stdout",
          "text": [
            "\b\b\b\b\b\b\b\b\b\b\b\b\b\b\b\b\b\b\b\b\b\b\b\b\b\b\b\b\b\b\b\b\b\b\b\b\b\b\b\b\b\b\b\b\b\b\b\b\b\b\b\b\b\b\b\b\b\b\b\b\b\b\b\b\b\b\b\b\b\b\b\b\b\b\b\b\b\b\b\b\b\r18/18 [==============================] - 1s 53ms/step - loss: 144.6412 - mae: 144.6412 - val_loss: 798.5719 - val_mae: 798.5719\n",
            "Epoch 12/100\n",
            "18/18 [==============================] - 0s 11ms/step - loss: 141.5453 - mae: 141.5453 - val_loss: 821.7798 - val_mae: 821.7798\n",
            "Epoch 13/100\n",
            "18/18 [==============================] - 0s 14ms/step - loss: 140.9271 - mae: 140.9271 - val_loss: 825.9623 - val_mae: 825.9623\n",
            "Epoch 14/100\n",
            "10/18 [===============>..............] - ETA: 0s - loss: 134.9579 - mae: 134.9579"
          ]
        },
        {
          "output_type": "stream",
          "name": "stderr",
          "text": [
            "WARNING:absl:Found untraced functions such as _update_step_xla while saving (showing 1 of 1). These functions will not be directly callable after loading.\n"
          ]
        },
        {
          "output_type": "stream",
          "name": "stdout",
          "text": [
            "\b\b\b\b\b\b\b\b\b\b\b\b\b\b\b\b\b\b\b\b\b\b\b\b\b\b\b\b\b\b\b\b\b\b\b\b\b\b\b\b\b\b\b\b\b\b\b\b\b\b\b\b\b\b\b\b\b\b\b\b\b\b\b\b\b\b\b\b\b\b\b\b\b\b\b\b\b\b\b\b\b\r18/18 [==============================] - 2s 107ms/step - loss: 137.1141 - mae: 137.1141 - val_loss: 796.0253 - val_mae: 796.0253\n",
            "Epoch 15/100\n",
            "14/18 [======================>.......] - ETA: 0s - loss: 136.4800 - mae: 136.4800"
          ]
        },
        {
          "output_type": "stream",
          "name": "stderr",
          "text": [
            "WARNING:absl:Found untraced functions such as _update_step_xla while saving (showing 1 of 1). These functions will not be directly callable after loading.\n"
          ]
        },
        {
          "output_type": "stream",
          "name": "stdout",
          "text": [
            "\b\b\b\b\b\b\b\b\b\b\b\b\b\b\b\b\b\b\b\b\b\b\b\b\b\b\b\b\b\b\b\b\b\b\b\b\b\b\b\b\b\b\b\b\b\b\b\b\b\b\b\b\b\b\b\b\b\b\b\b\b\b\b\b\b\b\b\b\b\b\b\b\b\b\b\b\b\b\b\b\b\r18/18 [==============================] - 1s 67ms/step - loss: 135.3628 - mae: 135.3628 - val_loss: 750.8455 - val_mae: 750.8455\n",
            "Epoch 16/100\n",
            "11/18 [=================>............] - ETA: 0s - loss: 130.1283 - mae: 130.1283"
          ]
        },
        {
          "output_type": "stream",
          "name": "stderr",
          "text": [
            "WARNING:absl:Found untraced functions such as _update_step_xla while saving (showing 1 of 1). These functions will not be directly callable after loading.\n"
          ]
        },
        {
          "output_type": "stream",
          "name": "stdout",
          "text": [
            "\b\b\b\b\b\b\b\b\b\b\b\b\b\b\b\b\b\b\b\b\b\b\b\b\b\b\b\b\b\b\b\b\b\b\b\b\b\b\b\b\b\b\b\b\b\b\b\b\b\b\b\b\b\b\b\b\b\b\b\b\b\b\b\b\b\b\b\b\b\b\b\b\b\b\b\b\b\b\b\b\b\r18/18 [==============================] - 1s 54ms/step - loss: 131.1119 - mae: 131.1119 - val_loss: 750.1469 - val_mae: 750.1469\n",
            "Epoch 17/100\n",
            "18/18 [==============================] - 0s 8ms/step - loss: 129.4122 - mae: 129.4122 - val_loss: 792.5263 - val_mae: 792.5263\n",
            "Epoch 18/100\n",
            "14/18 [======================>.......] - ETA: 0s - loss: 135.2086 - mae: 135.2086"
          ]
        },
        {
          "output_type": "stream",
          "name": "stderr",
          "text": [
            "WARNING:absl:Found untraced functions such as _update_step_xla while saving (showing 1 of 1). These functions will not be directly callable after loading.\n"
          ]
        },
        {
          "output_type": "stream",
          "name": "stdout",
          "text": [
            "\b\b\b\b\b\b\b\b\b\b\b\b\b\b\b\b\b\b\b\b\b\b\b\b\b\b\b\b\b\b\b\b\b\b\b\b\b\b\b\b\b\b\b\b\b\b\b\b\b\b\b\b\b\b\b\b\b\b\b\b\b\b\b\b\b\b\b\b\b\b\b\b\b\b\b\b\b\b\b\b\b\r18/18 [==============================] - 1s 53ms/step - loss: 129.5871 - mae: 129.5871 - val_loss: 742.5085 - val_mae: 742.5085\n",
            "Epoch 19/100\n",
            "18/18 [==============================] - 0s 9ms/step - loss: 125.7273 - mae: 125.7273 - val_loss: 743.7250 - val_mae: 743.7250\n",
            "Epoch 20/100\n",
            "14/18 [======================>.......] - ETA: 0s - loss: 127.7977 - mae: 127.7977"
          ]
        },
        {
          "output_type": "stream",
          "name": "stderr",
          "text": [
            "WARNING:absl:Found untraced functions such as _update_step_xla while saving (showing 1 of 1). These functions will not be directly callable after loading.\n"
          ]
        },
        {
          "output_type": "stream",
          "name": "stdout",
          "text": [
            "\b\b\b\b\b\b\b\b\b\b\b\b\b\b\b\b\b\b\b\b\b\b\b\b\b\b\b\b\b\b\b\b\b\b\b\b\b\b\b\b\b\b\b\b\b\b\b\b\b\b\b\b\b\b\b\b\b\b\b\b\b\b\b\b\b\b\b\b\b\b\b\b\b\b\b\b\b\b\b\b\b\r18/18 [==============================] - 1s 55ms/step - loss: 125.7198 - mae: 125.7198 - val_loss: 687.6529 - val_mae: 687.6529\n",
            "Epoch 21/100\n",
            "18/18 [==============================] - 0s 10ms/step - loss: 127.5433 - mae: 127.5433 - val_loss: 690.1424 - val_mae: 690.1424\n",
            "Epoch 22/100\n",
            "12/18 [===================>..........] - ETA: 0s - loss: 132.7822 - mae: 132.7822"
          ]
        },
        {
          "output_type": "stream",
          "name": "stderr",
          "text": [
            "WARNING:absl:Found untraced functions such as _update_step_xla while saving (showing 1 of 1). These functions will not be directly callable after loading.\n"
          ]
        },
        {
          "output_type": "stream",
          "name": "stdout",
          "text": [
            "\b\b\b\b\b\b\b\b\b\b\b\b\b\b\b\b\b\b\b\b\b\b\b\b\b\b\b\b\b\b\b\b\b\b\b\b\b\b\b\b\b\b\b\b\b\b\b\b\b\b\b\b\b\b\b\b\b\b\b\b\b\b\b\b\b\b\b\b\b\b\b\b\b\b\b\b\b\b\b\b\b\r18/18 [==============================] - 1s 57ms/step - loss: 121.3713 - mae: 121.3713 - val_loss: 676.0783 - val_mae: 676.0783\n",
            "Epoch 23/100\n",
            "17/18 [===========================>..] - ETA: 0s - loss: 119.9813 - mae: 119.9813"
          ]
        },
        {
          "output_type": "stream",
          "name": "stderr",
          "text": [
            "WARNING:absl:Found untraced functions such as _update_step_xla while saving (showing 1 of 1). These functions will not be directly callable after loading.\n"
          ]
        },
        {
          "output_type": "stream",
          "name": "stdout",
          "text": [
            "\b\b\b\b\b\b\b\b\b\b\b\b\b\b\b\b\b\b\b\b\b\b\b\b\b\b\b\b\b\b\b\b\b\b\b\b\b\b\b\b\b\b\b\b\b\b\b\b\b\b\b\b\b\b\b\b\b\b\b\b\b\b\b\b\b\b\b\b\b\b\b\b\b\b\b\b\b\b\b\b\b\r18/18 [==============================] - 1s 47ms/step - loss: 121.0851 - mae: 121.0851 - val_loss: 652.8974 - val_mae: 652.8974\n",
            "Epoch 24/100\n",
            "15/18 [========================>.....] - ETA: 0s - loss: 122.3262 - mae: 122.3262"
          ]
        },
        {
          "output_type": "stream",
          "name": "stderr",
          "text": [
            "WARNING:absl:Found untraced functions such as _update_step_xla while saving (showing 1 of 1). These functions will not be directly callable after loading.\n"
          ]
        },
        {
          "output_type": "stream",
          "name": "stdout",
          "text": [
            "\b\b\b\b\b\b\b\b\b\b\b\b\b\b\b\b\b\b\b\b\b\b\b\b\b\b\b\b\b\b\b\b\b\b\b\b\b\b\b\b\b\b\b\b\b\b\b\b\b\b\b\b\b\b\b\b\b\b\b\b\b\b\b\b\b\b\b\b\b\b\b\b\b\b\b\b\b\b\b\b\b\r18/18 [==============================] - 1s 61ms/step - loss: 120.9652 - mae: 120.9652 - val_loss: 649.6240 - val_mae: 649.6240\n",
            "Epoch 25/100\n",
            "11/18 [=================>............] - ETA: 0s - loss: 125.5557 - mae: 125.5557"
          ]
        },
        {
          "output_type": "stream",
          "name": "stderr",
          "text": [
            "WARNING:absl:Found untraced functions such as _update_step_xla while saving (showing 1 of 1). These functions will not be directly callable after loading.\n"
          ]
        },
        {
          "output_type": "stream",
          "name": "stdout",
          "text": [
            "\b\b\b\b\b\b\b\b\b\b\b\b\b\b\b\b\b\b\b\b\b\b\b\b\b\b\b\b\b\b\b\b\b\b\b\b\b\b\b\b\b\b\b\b\b\b\b\b\b\b\b\b\b\b\b\b\b\b\b\b\b\b\b\b\b\b\b\b\b\b\b\b\b\b\b\b\b\b\b\b\b\r18/18 [==============================] - 1s 52ms/step - loss: 119.4155 - mae: 119.4155 - val_loss: 643.6303 - val_mae: 643.6303\n",
            "Epoch 26/100\n",
            "10/18 [===============>..............] - ETA: 0s - loss: 122.6419 - mae: 122.6419"
          ]
        },
        {
          "output_type": "stream",
          "name": "stderr",
          "text": [
            "WARNING:absl:Found untraced functions such as _update_step_xla while saving (showing 1 of 1). These functions will not be directly callable after loading.\n"
          ]
        },
        {
          "output_type": "stream",
          "name": "stdout",
          "text": [
            "\b\b\b\b\b\b\b\b\b\b\b\b\b\b\b\b\b\b\b\b\b\b\b\b\b\b\b\b\b\b\b\b\b\b\b\b\b\b\b\b\b\b\b\b\b\b\b\b\b\b\b\b\b\b\b\b\b\b\b\b\b\b\b\b\b\b\b\b\b\b\b\b\b\b\b\b\b\b\b\b\b\r18/18 [==============================] - 1s 69ms/step - loss: 119.7515 - mae: 119.7515 - val_loss: 642.0912 - val_mae: 642.0912\n",
            "Epoch 27/100\n",
            "15/18 [========================>.....] - ETA: 0s - loss: 119.3723 - mae: 119.3723"
          ]
        },
        {
          "output_type": "stream",
          "name": "stderr",
          "text": [
            "WARNING:absl:Found untraced functions such as _update_step_xla while saving (showing 1 of 1). These functions will not be directly callable after loading.\n"
          ]
        },
        {
          "output_type": "stream",
          "name": "stdout",
          "text": [
            "\b\b\b\b\b\b\b\b\b\b\b\b\b\b\b\b\b\b\b\b\b\b\b\b\b\b\b\b\b\b\b\b\b\b\b\b\b\b\b\b\b\b\b\b\b\b\b\b\b\b\b\b\b\b\b\b\b\b\b\b\b\b\b\b\b\b\b\b\b\b\b\b\b\b\b\b\b\b\b\b\b\r18/18 [==============================] - 2s 118ms/step - loss: 119.8412 - mae: 119.8412 - val_loss: 637.5519 - val_mae: 637.5519\n",
            "Epoch 28/100\n",
            "16/18 [=========================>....] - ETA: 0s - loss: 116.2464 - mae: 116.2464"
          ]
        },
        {
          "output_type": "stream",
          "name": "stderr",
          "text": [
            "WARNING:absl:Found untraced functions such as _update_step_xla while saving (showing 1 of 1). These functions will not be directly callable after loading.\n"
          ]
        },
        {
          "output_type": "stream",
          "name": "stdout",
          "text": [
            "\b\b\b\b\b\b\b\b\b\b\b\b\b\b\b\b\b\b\b\b\b\b\b\b\b\b\b\b\b\b\b\b\b\b\b\b\b\b\b\b\b\b\b\b\b\b\b\b\b\b\b\b\b\b\b\b\b\b\b\b\b\b\b\b\b\b\b\b\b\b\b\b\b\b\b\b\b\b\b\b\b\r18/18 [==============================] - 2s 90ms/step - loss: 116.7598 - mae: 116.7598 - val_loss: 632.2211 - val_mae: 632.2211\n",
            "Epoch 29/100\n",
            "18/18 [==============================] - 0s 8ms/step - loss: 115.7437 - mae: 115.7437 - val_loss: 656.6545 - val_mae: 656.6545\n",
            "Epoch 30/100\n",
            "18/18 [==============================] - 0s 9ms/step - loss: 122.4905 - mae: 122.4905 - val_loss: 643.7916 - val_mae: 643.7916\n",
            "Epoch 31/100\n",
            "18/18 [==============================] - 0s 8ms/step - loss: 120.3624 - mae: 120.3624 - val_loss: 682.7073 - val_mae: 682.7073\n",
            "Epoch 32/100\n",
            "18/18 [==============================] - ETA: 0s - loss: 119.3443 - mae: 119.3443"
          ]
        },
        {
          "output_type": "stream",
          "name": "stderr",
          "text": [
            "WARNING:absl:Found untraced functions such as _update_step_xla while saving (showing 1 of 1). These functions will not be directly callable after loading.\n"
          ]
        },
        {
          "output_type": "stream",
          "name": "stdout",
          "text": [
            "\b\b\b\b\b\b\b\b\b\b\b\b\b\b\b\b\b\b\b\b\b\b\b\b\b\b\b\b\b\b\b\b\b\b\b\b\b\b\b\b\b\b\b\b\b\b\b\b\b\b\b\b\b\b\b\b\b\b\b\b\b\b\b\b\b\b\b\b\b\b\b\b\b\b\b\b\b\b\b\b\b\r18/18 [==============================] - 1s 55ms/step - loss: 119.3443 - mae: 119.3443 - val_loss: 620.0521 - val_mae: 620.0521\n",
            "Epoch 33/100\n",
            "18/18 [==============================] - 0s 13ms/step - loss: 115.6944 - mae: 115.6944 - val_loss: 636.5530 - val_mae: 636.5530\n",
            "Epoch 34/100\n",
            "15/18 [========================>.....] - ETA: 0s - loss: 114.7798 - mae: 114.7798"
          ]
        },
        {
          "output_type": "stream",
          "name": "stderr",
          "text": [
            "WARNING:absl:Found untraced functions such as _update_step_xla while saving (showing 1 of 1). These functions will not be directly callable after loading.\n"
          ]
        },
        {
          "output_type": "stream",
          "name": "stdout",
          "text": [
            "\b\b\b\b\b\b\b\b\b\b\b\b\b\b\b\b\b\b\b\b\b\b\b\b\b\b\b\b\b\b\b\b\b\b\b\b\b\b\b\b\b\b\b\b\b\b\b\b\b\b\b\b\b\b\b\b\b\b\b\b\b\b\b\b\b\b\b\b\b\b\b\b\b\b\b\b\b\b\b\b\b\r18/18 [==============================] - 1s 44ms/step - loss: 115.3929 - mae: 115.3929 - val_loss: 616.7942 - val_mae: 616.7942\n",
            "Epoch 35/100\n",
            " 1/18 [>.............................] - ETA: 0s - loss: 105.7642 - mae: 105.7642"
          ]
        },
        {
          "output_type": "stream",
          "name": "stderr",
          "text": [
            "WARNING:absl:Found untraced functions such as _update_step_xla while saving (showing 1 of 1). These functions will not be directly callable after loading.\n"
          ]
        },
        {
          "output_type": "stream",
          "name": "stdout",
          "text": [
            "\b\b\b\b\b\b\b\b\b\b\b\b\b\b\b\b\b\b\b\b\b\b\b\b\b\b\b\b\b\b\b\b\b\b\b\b\b\b\b\b\b\b\b\b\b\b\b\b\b\b\b\b\b\b\b\b\b\b\b\b\b\b\b\b\b\b\b\b\b\b\b\b\b\b\b\b\b\b\b\b\b\r18/18 [==============================] - 0s 27ms/step - loss: 113.7441 - mae: 113.7441 - val_loss: 610.8995 - val_mae: 610.8995\n",
            "Epoch 36/100\n",
            "18/18 [==============================] - 0s 5ms/step - loss: 117.9244 - mae: 117.9244 - val_loss: 614.8936 - val_mae: 614.8936\n",
            "Epoch 37/100\n",
            " 1/18 [>.............................] - ETA: 0s - loss: 142.1941 - mae: 142.1941"
          ]
        },
        {
          "output_type": "stream",
          "name": "stderr",
          "text": [
            "WARNING:absl:Found untraced functions such as _update_step_xla while saving (showing 1 of 1). These functions will not be directly callable after loading.\n"
          ]
        },
        {
          "output_type": "stream",
          "name": "stdout",
          "text": [
            "\b\b\b\b\b\b\b\b\b\b\b\b\b\b\b\b\b\b\b\b\b\b\b\b\b\b\b\b\b\b\b\b\b\b\b\b\b\b\b\b\b\b\b\b\b\b\b\b\b\b\b\b\b\b\b\b\b\b\b\b\b\b\b\b\b\b\b\b\b\b\b\b\b\b\b\b\b\b\b\b\b\r18/18 [==============================] - 0s 27ms/step - loss: 113.7276 - mae: 113.7276 - val_loss: 606.0810 - val_mae: 606.0810\n",
            "Epoch 38/100\n",
            " 1/18 [>.............................] - ETA: 0s - loss: 101.4691 - mae: 101.4691"
          ]
        },
        {
          "output_type": "stream",
          "name": "stderr",
          "text": [
            "WARNING:absl:Found untraced functions such as _update_step_xla while saving (showing 1 of 1). These functions will not be directly callable after loading.\n"
          ]
        },
        {
          "output_type": "stream",
          "name": "stdout",
          "text": [
            "\b\b\b\b\b\b\b\b\b\b\b\b\b\b\b\b\b\b\b\b\b\b\b\b\b\b\b\b\b\b\b\b\b\b\b\b\b\b\b\b\b\b\b\b\b\b\b\b\b\b\b\b\b\b\b\b\b\b\b\b\b\b\b\b\b\b\b\b\b\b\b\b\b\b\b\b\b\b\b\b\b\r18/18 [==============================] - 0s 26ms/step - loss: 113.2944 - mae: 113.2944 - val_loss: 601.8790 - val_mae: 601.8790\n",
            "Epoch 39/100\n",
            " 1/18 [>.............................] - ETA: 0s - loss: 127.5677 - mae: 127.5677"
          ]
        },
        {
          "output_type": "stream",
          "name": "stderr",
          "text": [
            "WARNING:absl:Found untraced functions such as _update_step_xla while saving (showing 1 of 1). These functions will not be directly callable after loading.\n"
          ]
        },
        {
          "output_type": "stream",
          "name": "stdout",
          "text": [
            "\b\b\b\b\b\b\b\b\b\b\b\b\b\b\b\b\b\b\b\b\b\b\b\b\b\b\b\b\b\b\b\b\b\b\b\b\b\b\b\b\b\b\b\b\b\b\b\b\b\b\b\b\b\b\b\b\b\b\b\b\b\b\b\b\b\b\b\b\b\b\b\b\b\b\b\b\b\b\b\b\b\r18/18 [==============================] - 0s 27ms/step - loss: 112.3668 - mae: 112.3668 - val_loss: 599.9116 - val_mae: 599.9116\n",
            "Epoch 40/100\n",
            "18/18 [==============================] - 0s 4ms/step - loss: 111.3577 - mae: 111.3577 - val_loss: 600.1616 - val_mae: 600.1616\n",
            "Epoch 41/100\n",
            "17/18 [===========================>..] - ETA: 0s - loss: 112.6632 - mae: 112.6632"
          ]
        },
        {
          "output_type": "stream",
          "name": "stderr",
          "text": [
            "WARNING:absl:Found untraced functions such as _update_step_xla while saving (showing 1 of 1). These functions will not be directly callable after loading.\n"
          ]
        },
        {
          "output_type": "stream",
          "name": "stdout",
          "text": [
            "\b\b\b\b\b\b\b\b\b\b\b\b\b\b\b\b\b\b\b\b\b\b\b\b\b\b\b\b\b\b\b\b\b\b\b\b\b\b\b\b\b\b\b\b\b\b\b\b\b\b\b\b\b\b\b\b\b\b\b\b\b\b\b\b\b\b\b\b\b\b\b\b\b\b\b\b\b\b\b\b\b\r18/18 [==============================] - 0s 27ms/step - loss: 111.7699 - mae: 111.7699 - val_loss: 596.5175 - val_mae: 596.5175\n",
            "Epoch 42/100\n",
            "18/18 [==============================] - 0s 5ms/step - loss: 115.0395 - mae: 115.0395 - val_loss: 670.4932 - val_mae: 670.4932\n",
            "Epoch 43/100\n",
            "18/18 [==============================] - 0s 5ms/step - loss: 119.6124 - mae: 119.6124 - val_loss: 664.5755 - val_mae: 664.5755\n",
            "Epoch 44/100\n",
            "18/18 [==============================] - 0s 5ms/step - loss: 124.4732 - mae: 124.4732 - val_loss: 703.5139 - val_mae: 703.5139\n",
            "Epoch 45/100\n",
            "18/18 [==============================] - 0s 5ms/step - loss: 115.6913 - mae: 115.6913 - val_loss: 599.5844 - val_mae: 599.5844\n",
            "Epoch 46/100\n",
            " 1/18 [>.............................] - ETA: 0s - loss: 83.2863 - mae: 83.2863"
          ]
        },
        {
          "output_type": "stream",
          "name": "stderr",
          "text": [
            "WARNING:absl:Found untraced functions such as _update_step_xla while saving (showing 1 of 1). These functions will not be directly callable after loading.\n"
          ]
        },
        {
          "output_type": "stream",
          "name": "stdout",
          "text": [
            "\b\b\b\b\b\b\b\b\b\b\b\b\b\b\b\b\b\b\b\b\b\b\b\b\b\b\b\b\b\b\b\b\b\b\b\b\b\b\b\b\b\b\b\b\b\b\b\b\b\b\b\b\b\b\b\b\b\b\b\b\b\b\b\b\b\b\b\b\b\b\b\b\b\b\b\b\b\b\b\r18/18 [==============================] - 0s 26ms/step - loss: 111.6520 - mae: 111.6520 - val_loss: 588.8996 - val_mae: 588.8996\n",
            "Epoch 47/100\n",
            "18/18 [==============================] - 0s 5ms/step - loss: 110.0591 - mae: 110.0591 - val_loss: 637.6286 - val_mae: 637.6286\n",
            "Epoch 48/100\n",
            "18/18 [==============================] - 0s 4ms/step - loss: 110.7220 - mae: 110.7220 - val_loss: 592.4387 - val_mae: 592.4387\n",
            "Epoch 49/100\n",
            "18/18 [==============================] - 0s 5ms/step - loss: 112.1756 - mae: 112.1756 - val_loss: 666.5994 - val_mae: 666.5994\n",
            "Epoch 50/100\n",
            "18/18 [==============================] - 0s 5ms/step - loss: 118.0938 - mae: 118.0938 - val_loss: 592.1577 - val_mae: 592.1577\n",
            "Epoch 51/100\n",
            "18/18 [==============================] - 0s 4ms/step - loss: 109.9281 - mae: 109.9281 - val_loss: 596.6331 - val_mae: 596.6331\n",
            "Epoch 52/100\n",
            "18/18 [==============================] - 0s 5ms/step - loss: 111.6446 - mae: 111.6446 - val_loss: 593.4297 - val_mae: 593.4297\n",
            "Epoch 53/100\n",
            "18/18 [==============================] - 0s 4ms/step - loss: 112.0980 - mae: 112.0980 - val_loss: 631.9467 - val_mae: 631.9467\n",
            "Epoch 54/100\n",
            "18/18 [==============================] - 0s 4ms/step - loss: 113.5435 - mae: 113.5435 - val_loss: 591.2120 - val_mae: 591.2120\n",
            "Epoch 55/100\n",
            "18/18 [==============================] - 0s 4ms/step - loss: 112.8912 - mae: 112.8912 - val_loss: 596.3065 - val_mae: 596.3065\n",
            "Epoch 56/100\n",
            "18/18 [==============================] - 0s 5ms/step - loss: 111.1410 - mae: 111.1410 - val_loss: 764.6732 - val_mae: 764.6732\n",
            "Epoch 57/100\n",
            "18/18 [==============================] - 0s 5ms/step - loss: 124.2068 - mae: 124.2068 - val_loss: 661.6778 - val_mae: 661.6778\n",
            "Epoch 58/100\n",
            " 1/18 [>.............................] - ETA: 0s - loss: 95.8326 - mae: 95.8326"
          ]
        },
        {
          "output_type": "stream",
          "name": "stderr",
          "text": [
            "WARNING:absl:Found untraced functions such as _update_step_xla while saving (showing 1 of 1). These functions will not be directly callable after loading.\n"
          ]
        },
        {
          "output_type": "stream",
          "name": "stdout",
          "text": [
            "\b\b\b\b\b\b\b\b\b\b\b\b\b\b\b\b\b\b\b\b\b\b\b\b\b\b\b\b\b\b\b\b\b\b\b\b\b\b\b\b\b\b\b\b\b\b\b\b\b\b\b\b\b\b\b\b\b\b\b\b\b\b\b\b\b\b\b\b\b\b\b\b\b\b\b\b\b\b\b\r18/18 [==============================] - 0s 27ms/step - loss: 121.8006 - mae: 121.8006 - val_loss: 578.7882 - val_mae: 578.7882\n",
            "Epoch 59/100\n",
            "18/18 [==============================] - 0s 5ms/step - loss: 109.2658 - mae: 109.2658 - val_loss: 594.5129 - val_mae: 594.5129\n",
            "Epoch 60/100\n",
            "18/18 [==============================] - 0s 5ms/step - loss: 109.9504 - mae: 109.9504 - val_loss: 594.2709 - val_mae: 594.2709\n",
            "Epoch 61/100\n",
            "18/18 [==============================] - 0s 4ms/step - loss: 108.4712 - mae: 108.4712 - val_loss: 578.9770 - val_mae: 578.9770\n",
            "Epoch 62/100\n",
            " 1/18 [>.............................] - ETA: 0s - loss: 72.2716 - mae: 72.2716"
          ]
        },
        {
          "output_type": "stream",
          "name": "stderr",
          "text": [
            "WARNING:absl:Found untraced functions such as _update_step_xla while saving (showing 1 of 1). These functions will not be directly callable after loading.\n"
          ]
        },
        {
          "output_type": "stream",
          "name": "stdout",
          "text": [
            "\b\b\b\b\b\b\b\b\b\b\b\b\b\b\b\b\b\b\b\b\b\b\b\b\b\b\b\b\b\b\b\b\b\b\b\b\b\b\b\b\b\b\b\b\b\b\b\b\b\b\b\b\b\b\b\b\b\b\b\b\b\b\b\b\b\b\b\b\b\b\b\b\b\b\b\b\b\b\b\r18/18 [==============================] - 0s 25ms/step - loss: 107.6666 - mae: 107.6666 - val_loss: 576.6147 - val_mae: 576.6147\n",
            "Epoch 63/100\n",
            "18/18 [==============================] - 0s 4ms/step - loss: 109.7209 - mae: 109.7209 - val_loss: 637.4407 - val_mae: 637.4407\n",
            "Epoch 64/100\n",
            "18/18 [==============================] - 0s 5ms/step - loss: 110.7059 - mae: 110.7059 - val_loss: 608.7584 - val_mae: 608.7584\n",
            "Epoch 65/100\n",
            "18/18 [==============================] - 0s 4ms/step - loss: 111.2004 - mae: 111.2004 - val_loss: 577.5939 - val_mae: 577.5939\n",
            "Epoch 66/100\n",
            " 1/18 [>.............................] - ETA: 0s - loss: 112.1917 - mae: 112.1917"
          ]
        },
        {
          "output_type": "stream",
          "name": "stderr",
          "text": [
            "WARNING:absl:Found untraced functions such as _update_step_xla while saving (showing 1 of 1). These functions will not be directly callable after loading.\n"
          ]
        },
        {
          "output_type": "stream",
          "name": "stdout",
          "text": [
            "\b\b\b\b\b\b\b\b\b\b\b\b\b\b\b\b\b\b\b\b\b\b\b\b\b\b\b\b\b\b\b\b\b\b\b\b\b\b\b\b\b\b\b\b\b\b\b\b\b\b\b\b\b\b\b\b\b\b\b\b\b\b\b\b\b\b\b\b\b\b\b\b\b\b\b\b\b\b\b\b\b\r18/18 [==============================] - 0s 26ms/step - loss: 107.7437 - mae: 107.7437 - val_loss: 575.3866 - val_mae: 575.3866\n",
            "Epoch 67/100\n",
            "18/18 [==============================] - 0s 7ms/step - loss: 107.0108 - mae: 107.0108 - val_loss: 673.1882 - val_mae: 673.1882\n",
            "Epoch 68/100\n",
            "18/18 [==============================] - 0s 4ms/step - loss: 110.0127 - mae: 110.0127 - val_loss: 577.3849 - val_mae: 577.3849\n",
            "Epoch 69/100\n",
            "18/18 [==============================] - 0s 5ms/step - loss: 113.3684 - mae: 113.3684 - val_loss: 692.7337 - val_mae: 692.7337\n",
            "Epoch 70/100\n",
            "18/18 [==============================] - 0s 4ms/step - loss: 121.9415 - mae: 121.9415 - val_loss: 612.0161 - val_mae: 612.0161\n",
            "Epoch 71/100\n",
            "16/18 [=========================>....] - ETA: 0s - loss: 108.6085 - mae: 108.6085"
          ]
        },
        {
          "output_type": "stream",
          "name": "stderr",
          "text": [
            "WARNING:absl:Found untraced functions such as _update_step_xla while saving (showing 1 of 1). These functions will not be directly callable after loading.\n"
          ]
        },
        {
          "output_type": "stream",
          "name": "stdout",
          "text": [
            "\b\b\b\b\b\b\b\b\b\b\b\b\b\b\b\b\b\b\b\b\b\b\b\b\b\b\b\b\b\b\b\b\b\b\b\b\b\b\b\b\b\b\b\b\b\b\b\b\b\b\b\b\b\b\b\b\b\b\b\b\b\b\b\b\b\b\b\b\b\b\b\b\b\b\b\b\b\b\b\b\b\r18/18 [==============================] - 1s 30ms/step - loss: 111.8187 - mae: 111.8187 - val_loss: 572.4950 - val_mae: 572.4950\n",
            "Epoch 72/100\n",
            "18/18 [==============================] - 0s 5ms/step - loss: 110.1791 - mae: 110.1791 - val_loss: 573.3701 - val_mae: 573.3701\n",
            "Epoch 73/100\n",
            "18/18 [==============================] - 0s 5ms/step - loss: 110.7405 - mae: 110.7405 - val_loss: 573.5491 - val_mae: 573.5491\n",
            "Epoch 74/100\n",
            "18/18 [==============================] - 0s 5ms/step - loss: 109.3593 - mae: 109.3593 - val_loss: 595.2542 - val_mae: 595.2542\n",
            "Epoch 75/100\n",
            "18/18 [==============================] - 0s 5ms/step - loss: 111.1720 - mae: 111.1720 - val_loss: 599.3558 - val_mae: 599.3558\n",
            "Epoch 76/100\n",
            "18/18 [==============================] - 0s 7ms/step - loss: 111.7497 - mae: 111.7497 - val_loss: 630.8371 - val_mae: 630.8371\n",
            "Epoch 77/100\n",
            "18/18 [==============================] - 0s 7ms/step - loss: 107.7510 - mae: 107.7510 - val_loss: 573.1028 - val_mae: 573.1028\n",
            "Epoch 78/100\n",
            "18/18 [==============================] - 0s 7ms/step - loss: 108.5098 - mae: 108.5098 - val_loss: 574.5323 - val_mae: 574.5323\n",
            "Epoch 79/100\n",
            "18/18 [==============================] - 0s 7ms/step - loss: 108.0949 - mae: 108.0949 - val_loss: 586.7993 - val_mae: 586.7993\n",
            "Epoch 80/100\n",
            "18/18 [==============================] - 0s 6ms/step - loss: 109.3791 - mae: 109.3791 - val_loss: 599.4111 - val_mae: 599.4111\n",
            "Epoch 81/100\n",
            "16/18 [=========================>....] - ETA: 0s - loss: 106.7380 - mae: 106.7380"
          ]
        },
        {
          "output_type": "stream",
          "name": "stderr",
          "text": [
            "WARNING:absl:Found untraced functions such as _update_step_xla while saving (showing 1 of 1). These functions will not be directly callable after loading.\n"
          ]
        },
        {
          "output_type": "stream",
          "name": "stdout",
          "text": [
            "\b\b\b\b\b\b\b\b\b\b\b\b\b\b\b\b\b\b\b\b\b\b\b\b\b\b\b\b\b\b\b\b\b\b\b\b\b\b\b\b\b\b\b\b\b\b\b\b\b\b\b\b\b\b\b\b\b\b\b\b\b\b\b\b\b\b\b\b\b\b\b\b\b\b\b\b\b\b\b\b\b\r18/18 [==============================] - 1s 39ms/step - loss: 106.7079 - mae: 106.7079 - val_loss: 570.7858 - val_mae: 570.7858\n",
            "Epoch 82/100\n",
            "18/18 [==============================] - 0s 6ms/step - loss: 117.3198 - mae: 117.3198 - val_loss: 575.5365 - val_mae: 575.5365\n",
            "Epoch 83/100\n",
            "18/18 [==============================] - 0s 6ms/step - loss: 111.6661 - mae: 111.6661 - val_loss: 668.7346 - val_mae: 668.7346\n",
            "Epoch 84/100\n",
            "18/18 [==============================] - 0s 6ms/step - loss: 112.8190 - mae: 112.8190 - val_loss: 575.3597 - val_mae: 575.3597\n",
            "Epoch 85/100\n",
            "18/18 [==============================] - 0s 6ms/step - loss: 107.6904 - mae: 107.6904 - val_loss: 575.1285 - val_mae: 575.1285\n",
            "Epoch 86/100\n",
            "18/18 [==============================] - 0s 6ms/step - loss: 106.8840 - mae: 106.8840 - val_loss: 584.6534 - val_mae: 584.6534\n",
            "Epoch 87/100\n",
            "18/18 [==============================] - 0s 7ms/step - loss: 106.4612 - mae: 106.4612 - val_loss: 589.1309 - val_mae: 589.1309\n",
            "Epoch 88/100\n",
            "18/18 [==============================] - 0s 6ms/step - loss: 107.0993 - mae: 107.0993 - val_loss: 573.4036 - val_mae: 573.4036\n",
            "Epoch 89/100\n",
            "14/18 [======================>.......] - ETA: 0s - loss: 100.7718 - mae: 100.7718"
          ]
        },
        {
          "output_type": "stream",
          "name": "stderr",
          "text": [
            "WARNING:absl:Found untraced functions such as _update_step_xla while saving (showing 1 of 1). These functions will not be directly callable after loading.\n"
          ]
        },
        {
          "output_type": "stream",
          "name": "stdout",
          "text": [
            "\b\b\b\b\b\b\b\b\b\b\b\b\b\b\b\b\b\b\b\b\b\b\b\b\b\b\b\b\b\b\b\b\b\b\b\b\b\b\b\b\b\b\b\b\b\b\b\b\b\b\b\b\b\b\b\b\b\b\b\b\b\b\b\b\b\b\b\b\b\b\b\b\b\b\b\b\b\b\b\b\b\r18/18 [==============================] - 1s 30ms/step - loss: 106.7396 - mae: 106.7396 - val_loss: 568.0182 - val_mae: 568.0182\n",
            "Epoch 90/100\n",
            "18/18 [==============================] - 0s 5ms/step - loss: 105.6887 - mae: 105.6887 - val_loss: 582.4081 - val_mae: 582.4081\n",
            "Epoch 91/100\n",
            "18/18 [==============================] - 0s 4ms/step - loss: 111.2966 - mae: 111.2966 - val_loss: 635.1701 - val_mae: 635.1701\n",
            "Epoch 92/100\n",
            "18/18 [==============================] - 0s 5ms/step - loss: 110.5552 - mae: 110.5552 - val_loss: 576.8047 - val_mae: 576.8047\n",
            "Epoch 93/100\n",
            "18/18 [==============================] - 0s 4ms/step - loss: 115.3967 - mae: 115.3967 - val_loss: 591.4508 - val_mae: 591.4508\n",
            "Epoch 94/100\n",
            "18/18 [==============================] - 0s 4ms/step - loss: 112.4578 - mae: 112.4578 - val_loss: 575.7142 - val_mae: 575.7142\n",
            "Epoch 95/100\n",
            " 1/18 [>.............................] - ETA: 0s - loss: 132.6464 - mae: 132.6464"
          ]
        },
        {
          "output_type": "stream",
          "name": "stderr",
          "text": [
            "WARNING:absl:Found untraced functions such as _update_step_xla while saving (showing 1 of 1). These functions will not be directly callable after loading.\n"
          ]
        },
        {
          "output_type": "stream",
          "name": "stdout",
          "text": [
            "\b\b\b\b\b\b\b\b\b\b\b\b\b\b\b\b\b\b\b\b\b\b\b\b\b\b\b\b\b\b\b\b\b\b\b\b\b\b\b\b\b\b\b\b\b\b\b\b\b\b\b\b\b\b\b\b\b\b\b\b\b\b\b\b\b\b\b\b\b\b\b\b\b\b\b\b\b\b\b\b\b\r18/18 [==============================] - 1s 41ms/step - loss: 105.8500 - mae: 105.8500 - val_loss: 567.6788 - val_mae: 567.6788\n",
            "Epoch 96/100\n",
            "18/18 [==============================] - 0s 8ms/step - loss: 106.3534 - mae: 106.3534 - val_loss: 586.0638 - val_mae: 586.0638\n",
            "Epoch 97/100\n",
            "18/18 [==============================] - 0s 5ms/step - loss: 106.3477 - mae: 106.3477 - val_loss: 594.4233 - val_mae: 594.4233\n",
            "Epoch 98/100\n",
            " 1/18 [>.............................] - ETA: 0s - loss: 115.1834 - mae: 115.1834"
          ]
        },
        {
          "output_type": "stream",
          "name": "stderr",
          "text": [
            "WARNING:absl:Found untraced functions such as _update_step_xla while saving (showing 1 of 1). These functions will not be directly callable after loading.\n"
          ]
        },
        {
          "output_type": "stream",
          "name": "stdout",
          "text": [
            "\b\b\b\b\b\b\b\b\b\b\b\b\b\b\b\b\b\b\b\b\b\b\b\b\b\b\b\b\b\b\b\b\b\b\b\b\b\b\b\b\b\b\b\b\b\b\b\b\b\b\b\b\b\b\b\b\b\b\b\b\b\b\b\b\b\b\b\b\b\b\b\b\b\b\b\b\b\b\b\b\b\r18/18 [==============================] - 0s 26ms/step - loss: 107.7766 - mae: 107.7766 - val_loss: 567.6607 - val_mae: 567.6607\n",
            "Epoch 99/100\n",
            " 1/18 [>.............................] - ETA: 0s - loss: 150.3109 - mae: 150.3109"
          ]
        },
        {
          "output_type": "stream",
          "name": "stderr",
          "text": [
            "WARNING:absl:Found untraced functions such as _update_step_xla while saving (showing 1 of 1). These functions will not be directly callable after loading.\n"
          ]
        },
        {
          "output_type": "stream",
          "name": "stdout",
          "text": [
            "\b\b\b\b\b\b\b\b\b\b\b\b\b\b\b\b\b\b\b\b\b\b\b\b\b\b\b\b\b\b\b\b\b\b\b\b\b\b\b\b\b\b\b\b\b\b\b\b\b\b\b\b\b\b\b\b\b\b\b\b\b\b\b\b\b\b\b\b\b\b\b\b\b\b\b\b\b\b\b\b\b\r18/18 [==============================] - 0s 26ms/step - loss: 109.4631 - mae: 109.4631 - val_loss: 566.8498 - val_mae: 566.8498\n",
            "Epoch 100/100\n",
            "18/18 [==============================] - 0s 5ms/step - loss: 117.6232 - mae: 117.6232 - val_loss: 712.9180 - val_mae: 712.9180\n"
          ]
        }
      ]
    },
    {
      "cell_type": "code",
      "source": [
        "model_1_results = model_1.evaluate(test_windows,test_labels)"
      ],
      "metadata": {
        "id": "H2MEJE91yvgo",
        "outputId": "72792178-160e-48d5-857d-b925a67cd79e",
        "colab": {
          "base_uri": "https://localhost:8080/"
        }
      },
      "execution_count": 51,
      "outputs": [
        {
          "output_type": "stream",
          "name": "stdout",
          "text": [
            "18/18 [==============================] - 0s 2ms/step - loss: 712.9180 - mae: 712.9180\n"
          ]
        }
      ]
    },
    {
      "cell_type": "code",
      "source": [
        "def make_preds(model,input_data):\n",
        "  forecast = model.predict(input_data)\n",
        "  return tf.squeeze(forecast)"
      ],
      "metadata": {
        "id": "6gTGc5Hm0J5T"
      },
      "execution_count": 52,
      "outputs": []
    },
    {
      "cell_type": "code",
      "source": [
        "model_1_preds = make_preds(model_1,test_windows)"
      ],
      "metadata": {
        "id": "5EFlBXNA0UUs",
        "outputId": "b0c00195-398c-41a5-a7b7-904333b1defa",
        "colab": {
          "base_uri": "https://localhost:8080/"
        }
      },
      "execution_count": 53,
      "outputs": [
        {
          "output_type": "stream",
          "name": "stdout",
          "text": [
            "18/18 [==============================] - 0s 2ms/step\n"
          ]
        }
      ]
    },
    {
      "cell_type": "code",
      "source": [
        "evaluation_metrics(y_true = tf.squeeze(test_labels),y_pred=model_1_preds)"
      ],
      "metadata": {
        "id": "05afJMg405vA",
        "outputId": "cf4a71d0-0787-4724-b219-dd49be0553e6",
        "colab": {
          "base_uri": "https://localhost:8080/"
        }
      },
      "execution_count": 54,
      "outputs": [
        {
          "output_type": "execute_result",
          "data": {
            "text/plain": [
              "{'mae': 712.91797,\n",
              " 'mse': 1480087.8,\n",
              " 'rmse': 1216.5885,\n",
              " 'mape': 3.3275146,\n",
              " 'mase': 1.2523994}"
            ]
          },
          "metadata": {},
          "execution_count": 54
        }
      ]
    },
    {
      "cell_type": "code",
      "source": [
        "offset = 100\n",
        "plt.figure(figsize = (10,7))\n",
        "plot_time_series(timesteps = x_test[-len(test_windows):],values = test_labels[:,0],start = offset,label = \"Test Data\")\n",
        "plot_time_series(timesteps = x_test[-len(test_windows):],values = model_1_preds,start = offset,label = \"Predict Data\",format = \"-\")"
      ],
      "metadata": {
        "id": "c4-LJHDZ06tE",
        "outputId": "fcc35635-eb3b-49b8-9a76-e3913292ce8d",
        "colab": {
          "base_uri": "https://localhost:8080/",
          "height": 453
        }
      },
      "execution_count": 55,
      "outputs": [
        {
          "output_type": "display_data",
          "data": {
            "text/plain": [
              "<Figure size 1000x700 with 1 Axes>"
            ],
            "image/png": "[encoded data removed]"
          },
          "metadata": {}
        }
      ]
    },
    {
      "cell_type": "markdown",
      "source": [
        "## Model 2: Dense(Window = 30,Horizon = 1)"
      ],
      "metadata": {
        "id": "WVQBQ8pt22rq"
      }
    },
    {
      "cell_type": "code",
      "source": [
        "full_windows,full_labels = make_windows(prices,window_size = 30,horizon = 1)"
      ],
      "metadata": {
        "id": "20zAK9hIxyH-"
      },
      "execution_count": 56,
      "outputs": []
    },
    {
      "cell_type": "code",
      "source": [
        "train_windows,test_windows,train_labels,test_labels = make_train_test_splits(full_windows,full_labels)"
      ],
      "metadata": {
        "id": "QqGEtBacx6YD"
      },
      "execution_count": 57,
      "outputs": []
    },
    {
      "cell_type": "code",
      "source": [
        "model_2 = tf.keras.Sequential([\n",
        "    layers.Dense(128,activation = \"relu\"),\n",
        "    layers.Dense(1,activation = \"linear\"),\n",
        "],name = \"model_2_dense\")\n",
        "model_2.compile(loss = \"mae\",metrics = [\"mae\"],optimizer = \"adam\")"
      ],
      "metadata": {
        "id": "QBl9xmHfx9gw"
      },
      "execution_count": 58,
      "outputs": []
    },
    {
      "cell_type": "code",
      "source": [
        "history_2 = model_2.fit(\n",
        "    train_windows,\n",
        "    train_labels,\n",
        "    epochs = 100,\n",
        "    verbose = 1,\n",
        "    batch_size = 128,\n",
        "    validation_data = (test_windows,test_labels),\n",
        "    callbacks = [create_model_checkpoint(model_name = model_2.name)]\n",
        ")"
      ],
      "metadata": {
        "id": "E7tBK_RMyU1P",
        "outputId": "8354c441-a269-4657-d181-5808169285c2",
        "colab": {
          "base_uri": "https://localhost:8080/"
        }
      },
      "execution_count": 59,
      "outputs": [
        {
          "output_type": "stream",
          "name": "stdout",
          "text": [
            "Epoch 1/100\n",
            " 1/18 [>.............................] - ETA: 13s - loss: 4686.9629 - mae: 4686.9629"
          ]
        },
        {
          "output_type": "stream",
          "name": "stderr",
          "text": [
            "WARNING:absl:Found untraced functions such as _update_step_xla while saving (showing 1 of 1). These functions will not be directly callable after loading.\n"
          ]
        },
        {
          "output_type": "stream",
          "name": "stdout",
          "text": [
            "\b\b\b\b\b\b\b\b\b\b\b\b\b\b\b\b\b\b\b\b\b\b\b\b\b\b\b\b\b\b\b\b\b\b\b\b\b\b\b\b\b\b\b\b\b\b\b\b\b\b\b\b\b\b\b\b\b\b\b\b\b\b\b\b\b\b\b\b\b\b\b\b\b\b\b\b\b\b\b\b\b\b\b\b\r18/18 [==============================] - 1s 34ms/step - loss: 1596.6738 - mae: 1596.6738 - val_loss: 5344.3867 - val_mae: 5344.3867\n",
            "Epoch 2/100\n",
            " 1/18 [>.............................] - ETA: 0s - loss: 952.5476 - mae: 952.5476"
          ]
        },
        {
          "output_type": "stream",
          "name": "stderr",
          "text": [
            "WARNING:absl:Found untraced functions such as _update_step_xla while saving (showing 1 of 1). These functions will not be directly callable after loading.\n"
          ]
        },
        {
          "output_type": "stream",
          "name": "stdout",
          "text": [
            "\b\b\b\b\b\b\b\b\b\b\b\b\b\b\b\b\b\b\b\b\b\b\b\b\b\b\b\b\b\b\b\b\b\b\b\b\b\b\b\b\b\b\b\b\b\b\b\b\b\b\b\b\b\b\b\b\b\b\b\b\b\b\b\b\b\b\b\b\b\b\b\b\b\b\b\b\b\b\b\b\b\r18/18 [==============================] - 0s 28ms/step - loss: 448.3729 - mae: 448.3729 - val_loss: 1581.1075 - val_mae: 1581.1075\n",
            "Epoch 3/100\n",
            " 1/18 [>.............................] - ETA: 0s - loss: 263.7682 - mae: 263.7682"
          ]
        },
        {
          "output_type": "stream",
          "name": "stderr",
          "text": [
            "WARNING:absl:Found untraced functions such as _update_step_xla while saving (showing 1 of 1). These functions will not be directly callable after loading.\n"
          ]
        },
        {
          "output_type": "stream",
          "name": "stdout",
          "text": [
            "\b\b\b\b\b\b\b\b\b\b\b\b\b\b\b\b\b\b\b\b\b\b\b\b\b\b\b\b\b\b\b\b\b\b\b\b\b\b\b\b\b\b\b\b\b\b\b\b\b\b\b\b\b\b\b\b\b\b\b\b\b\b\b\b\b\b\b\b\b\b\b\b\b\b\b\b\b\b\b\b\b\r18/18 [==============================] - 0s 26ms/step - loss: 289.5413 - mae: 289.5413 - val_loss: 1485.8845 - val_mae: 1485.8845\n",
            "Epoch 4/100\n",
            "18/18 [==============================] - ETA: 0s - loss: 254.2241 - mae: 254.2241"
          ]
        },
        {
          "output_type": "stream",
          "name": "stderr",
          "text": [
            "WARNING:absl:Found untraced functions such as _update_step_xla while saving (showing 1 of 1). These functions will not be directly callable after loading.\n"
          ]
        },
        {
          "output_type": "stream",
          "name": "stdout",
          "text": [
            "\b\b\b\b\b\b\b\b\b\b\b\b\b\b\b\b\b\b\b\b\b\b\b\b\b\b\b\b\b\b\b\b\b\b\b\b\b\b\b\b\b\b\b\b\b\b\b\b\b\b\b\b\b\b\b\b\b\b\b\b\b\b\b\b\b\b\b\b\b\b\b\b\b\b\b\b\b\b\b\b\b\r18/18 [==============================] - 0s 27ms/step - loss: 254.2241 - mae: 254.2241 - val_loss: 1412.8385 - val_mae: 1412.8385\n",
            "Epoch 5/100\n",
            " 1/18 [>.............................] - ETA: 0s - loss: 213.3890 - mae: 213.3890"
          ]
        },
        {
          "output_type": "stream",
          "name": "stderr",
          "text": [
            "WARNING:absl:Found untraced functions such as _update_step_xla while saving (showing 1 of 1). These functions will not be directly callable after loading.\n"
          ]
        },
        {
          "output_type": "stream",
          "name": "stdout",
          "text": [
            "\b\b\b\b\b\b\b\b\b\b\b\b\b\b\b\b\b\b\b\b\b\b\b\b\b\b\b\b\b\b\b\b\b\b\b\b\b\b\b\b\b\b\b\b\b\b\b\b\b\b\b\b\b\b\b\b\b\b\b\b\b\b\b\b\b\b\b\b\b\b\b\b\b\b\b\b\b\b\b\b\b\r18/18 [==============================] - 0s 26ms/step - loss: 222.3823 - mae: 222.3823 - val_loss: 1224.4022 - val_mae: 1224.4022\n",
            "Epoch 6/100\n",
            " 1/18 [>.............................] - ETA: 0s - loss: 244.7260 - mae: 244.7260"
          ]
        },
        {
          "output_type": "stream",
          "name": "stderr",
          "text": [
            "WARNING:absl:Found untraced functions such as _update_step_xla while saving (showing 1 of 1). These functions will not be directly callable after loading.\n"
          ]
        },
        {
          "output_type": "stream",
          "name": "stdout",
          "text": [
            "\b\b\b\b\b\b\b\b\b\b\b\b\b\b\b\b\b\b\b\b\b\b\b\b\b\b\b\b\b\b\b\b\b\b\b\b\b\b\b\b\b\b\b\b\b\b\b\b\b\b\b\b\b\b\b\b\b\b\b\b\b\b\b\b\b\b\b\b\b\b\b\b\b\b\b\b\b\b\b\b\b\r18/18 [==============================] - 0s 26ms/step - loss: 222.7820 - mae: 222.7820 - val_loss: 1158.9221 - val_mae: 1158.9221\n",
            "Epoch 7/100\n",
            " 1/18 [>.............................] - ETA: 0s - loss: 177.7072 - mae: 177.7072"
          ]
        },
        {
          "output_type": "stream",
          "name": "stderr",
          "text": [
            "WARNING:absl:Found untraced functions such as _update_step_xla while saving (showing 1 of 1). These functions will not be directly callable after loading.\n"
          ]
        },
        {
          "output_type": "stream",
          "name": "stdout",
          "text": [
            "\b\b\b\b\b\b\b\b\b\b\b\b\b\b\b\b\b\b\b\b\b\b\b\b\b\b\b\b\b\b\b\b\b\b\b\b\b\b\b\b\b\b\b\b\b\b\b\b\b\b\b\b\b\b\b\b\b\b\b\b\b\b\b\b\b\b\b\b\b\b\b\b\b\b\b\b\b\b\b\b\b\r18/18 [==============================] - 0s 27ms/step - loss: 206.2794 - mae: 206.2794 - val_loss: 1143.8027 - val_mae: 1143.8027\n",
            "Epoch 8/100\n",
            " 1/18 [>.............................] - ETA: 0s - loss: 195.4021 - mae: 195.4021"
          ]
        },
        {
          "output_type": "stream",
          "name": "stderr",
          "text": [
            "WARNING:absl:Found untraced functions such as _update_step_xla while saving (showing 1 of 1). These functions will not be directly callable after loading.\n"
          ]
        },
        {
          "output_type": "stream",
          "name": "stdout",
          "text": [
            "\b\b\b\b\b\b\b\b\b\b\b\b\b\b\b\b\b\b\b\b\b\b\b\b\b\b\b\b\b\b\b\b\b\b\b\b\b\b\b\b\b\b\b\b\b\b\b\b\b\b\b\b\b\b\b\b\b\b\b\b\b\b\b\b\b\b\b\b\b\b\b\b\b\b\b\b\b\b\b\b\b\r18/18 [==============================] - 0s 28ms/step - loss: 196.6314 - mae: 196.6314 - val_loss: 1115.6436 - val_mae: 1115.6436\n",
            "Epoch 9/100\n",
            " 1/18 [>.............................] - ETA: 0s - loss: 194.2542 - mae: 194.2542"
          ]
        },
        {
          "output_type": "stream",
          "name": "stderr",
          "text": [
            "WARNING:absl:Found untraced functions such as _update_step_xla while saving (showing 1 of 1). These functions will not be directly callable after loading.\n"
          ]
        },
        {
          "output_type": "stream",
          "name": "stdout",
          "text": [
            "\b\b\b\b\b\b\b\b\b\b\b\b\b\b\b\b\b\b\b\b\b\b\b\b\b\b\b\b\b\b\b\b\b\b\b\b\b\b\b\b\b\b\b\b\b\b\b\b\b\b\b\b\b\b\b\b\b\b\b\b\b\b\b\b\b\b\b\b\b\b\b\b\b\b\b\b\b\b\b\b\b\r18/18 [==============================] - 0s 27ms/step - loss: 198.9284 - mae: 198.9284 - val_loss: 1084.3888 - val_mae: 1084.3888\n",
            "Epoch 10/100\n",
            " 1/18 [>.............................] - ETA: 0s - loss: 226.1718 - mae: 226.1718"
          ]
        },
        {
          "output_type": "stream",
          "name": "stderr",
          "text": [
            "WARNING:absl:Found untraced functions such as _update_step_xla while saving (showing 1 of 1). These functions will not be directly callable after loading.\n"
          ]
        },
        {
          "output_type": "stream",
          "name": "stdout",
          "text": [
            "\b\b\b\b\b\b\b\b\b\b\b\b\b\b\b\b\b\b\b\b\b\b\b\b\b\b\b\b\b\b\b\b\b\b\b\b\b\b\b\b\b\b\b\b\b\b\b\b\b\b\b\b\b\b\b\b\b\b\b\b\b\b\b\b\b\b\b\b\b\b\b\b\b\b\b\b\b\b\b\b\b\r18/18 [==============================] - 0s 26ms/step - loss: 192.6595 - mae: 192.6595 - val_loss: 1069.6884 - val_mae: 1069.6884\n",
            "Epoch 11/100\n",
            "18/18 [==============================] - 0s 5ms/step - loss: 186.7672 - mae: 186.7672 - val_loss: 1337.0393 - val_mae: 1337.0393\n",
            "Epoch 12/100\n",
            "18/18 [==============================] - ETA: 0s - loss: 201.8640 - mae: 201.8640"
          ]
        },
        {
          "output_type": "stream",
          "name": "stderr",
          "text": [
            "WARNING:absl:Found untraced functions such as _update_step_xla while saving (showing 1 of 1). These functions will not be directly callable after loading.\n"
          ]
        },
        {
          "output_type": "stream",
          "name": "stdout",
          "text": [
            "\b\b\b\b\b\b\b\b\b\b\b\b\b\b\b\b\b\b\b\b\b\b\b\b\b\b\b\b\b\b\b\b\b\b\b\b\b\b\b\b\b\b\b\b\b\b\b\b\b\b\b\b\b\b\b\b\b\b\b\b\b\b\b\b\b\b\b\b\b\b\b\b\b\b\b\b\b\b\b\b\b\r18/18 [==============================] - 0s 27ms/step - loss: 201.8640 - mae: 201.8640 - val_loss: 1017.2308 - val_mae: 1017.2308\n",
            "Epoch 13/100\n",
            " 1/18 [>.............................] - ETA: 0s - loss: 164.3263 - mae: 164.3263"
          ]
        },
        {
          "output_type": "stream",
          "name": "stderr",
          "text": [
            "WARNING:absl:Found untraced functions such as _update_step_xla while saving (showing 1 of 1). These functions will not be directly callable after loading.\n"
          ]
        },
        {
          "output_type": "stream",
          "name": "stdout",
          "text": [
            "\b\b\b\b\b\b\b\b\b\b\b\b\b\b\b\b\b\b\b\b\b\b\b\b\b\b\b\b\b\b\b\b\b\b\b\b\b\b\b\b\b\b\b\b\b\b\b\b\b\b\b\b\b\b\b\b\b\b\b\b\b\b\b\b\b\b\b\b\b\b\b\b\b\b\b\b\b\b\b\b\b\r18/18 [==============================] - 1s 33ms/step - loss: 192.0189 - mae: 192.0189 - val_loss: 1007.6421 - val_mae: 1007.6421\n",
            "Epoch 14/100\n",
            "18/18 [==============================] - 0s 7ms/step - loss: 183.2558 - mae: 183.2558 - val_loss: 1144.2567 - val_mae: 1144.2567\n",
            "Epoch 15/100\n",
            "18/18 [==============================] - 0s 7ms/step - loss: 176.5315 - mae: 176.5315 - val_loss: 1054.6517 - val_mae: 1054.6517\n",
            "Epoch 16/100\n",
            "16/18 [=========================>....] - ETA: 0s - loss: 172.9398 - mae: 172.9398"
          ]
        },
        {
          "output_type": "stream",
          "name": "stderr",
          "text": [
            "WARNING:absl:Found untraced functions such as _update_step_xla while saving (showing 1 of 1). These functions will not be directly callable after loading.\n"
          ]
        },
        {
          "output_type": "stream",
          "name": "stdout",
          "text": [
            "\b\b\b\b\b\b\b\b\b\b\b\b\b\b\b\b\b\b\b\b\b\b\b\b\b\b\b\b\b\b\b\b\b\b\b\b\b\b\b\b\b\b\b\b\b\b\b\b\b\b\b\b\b\b\b\b\b\b\b\b\b\b\b\b\b\b\b\b\b\b\b\b\b\b\b\b\b\b\b\b\b\r18/18 [==============================] - 1s 56ms/step - loss: 174.9024 - mae: 174.9024 - val_loss: 966.9590 - val_mae: 966.9590\n",
            "Epoch 17/100\n",
            "18/18 [==============================] - 0s 7ms/step - loss: 180.8086 - mae: 180.8086 - val_loss: 1449.6305 - val_mae: 1449.6305\n",
            "Epoch 18/100\n",
            "18/18 [==============================] - 0s 7ms/step - loss: 191.0409 - mae: 191.0409 - val_loss: 1125.4958 - val_mae: 1125.4958\n",
            "Epoch 19/100\n",
            "18/18 [==============================] - 0s 7ms/step - loss: 179.0587 - mae: 179.0587 - val_loss: 1049.1862 - val_mae: 1049.1862\n",
            "Epoch 20/100\n",
            "14/18 [======================>.......] - ETA: 0s - loss: 168.8127 - mae: 168.8127"
          ]
        },
        {
          "output_type": "stream",
          "name": "stderr",
          "text": [
            "WARNING:absl:Found untraced functions such as _update_step_xla while saving (showing 1 of 1). These functions will not be directly callable after loading.\n"
          ]
        },
        {
          "output_type": "stream",
          "name": "stdout",
          "text": [
            "\b\b\b\b\b\b\b\b\b\b\b\b\b\b\b\b\b\b\b\b\b\b\b\b\b\b\b\b\b\b\b\b\b\b\b\b\b\b\b\b\b\b\b\b\b\b\b\b\b\b\b\b\b\b\b\b\b\b\b\b\b\b\b\b\b\b\b\b\b\b\b\b\b\b\b\b\b\b\b\b\b\r18/18 [==============================] - 1s 31ms/step - loss: 171.3203 - mae: 171.3203 - val_loss: 898.2936 - val_mae: 898.2936\n",
            "Epoch 21/100\n",
            "18/18 [==============================] - 0s 5ms/step - loss: 173.3810 - mae: 173.3810 - val_loss: 1344.0414 - val_mae: 1344.0414\n",
            "Epoch 22/100\n",
            "18/18 [==============================] - 0s 4ms/step - loss: 196.4357 - mae: 196.4357 - val_loss: 904.7728 - val_mae: 904.7728\n",
            "Epoch 23/100\n",
            "18/18 [==============================] - 0s 4ms/step - loss: 162.3958 - mae: 162.3958 - val_loss: 1249.3707 - val_mae: 1249.3707\n",
            "Epoch 24/100\n",
            "18/18 [==============================] - 0s 5ms/step - loss: 161.7294 - mae: 161.7294 - val_loss: 898.8658 - val_mae: 898.8658\n",
            "Epoch 25/100\n",
            "18/18 [==============================] - 0s 5ms/step - loss: 153.7665 - mae: 153.7665 - val_loss: 899.8586 - val_mae: 899.8586\n",
            "Epoch 26/100\n",
            " 1/18 [>.............................] - ETA: 0s - loss: 142.5327 - mae: 142.5327"
          ]
        },
        {
          "output_type": "stream",
          "name": "stderr",
          "text": [
            "WARNING:absl:Found untraced functions such as _update_step_xla while saving (showing 1 of 1). These functions will not be directly callable after loading.\n"
          ]
        },
        {
          "output_type": "stream",
          "name": "stdout",
          "text": [
            "\b\b\b\b\b\b\b\b\b\b\b\b\b\b\b\b\b\b\b\b\b\b\b\b\b\b\b\b\b\b\b\b\b\b\b\b\b\b\b\b\b\b\b\b\b\b\b\b\b\b\b\b\b\b\b\b\b\b\b\b\b\b\b\b\b\b\b\b\b\b\b\b\b\b\b\b\b\b\b\b\b\r18/18 [==============================] - 0s 26ms/step - loss: 155.3490 - mae: 155.3490 - val_loss: 835.8450 - val_mae: 835.8450\n",
            "Epoch 27/100\n",
            "18/18 [==============================] - 0s 4ms/step - loss: 149.1218 - mae: 149.1218 - val_loss: 864.1946 - val_mae: 864.1946\n",
            "Epoch 28/100\n",
            " 1/18 [>.............................] - ETA: 0s - loss: 110.0595 - mae: 110.0595"
          ]
        },
        {
          "output_type": "stream",
          "name": "stderr",
          "text": [
            "WARNING:absl:Found untraced functions such as _update_step_xla while saving (showing 1 of 1). These functions will not be directly callable after loading.\n"
          ]
        },
        {
          "output_type": "stream",
          "name": "stdout",
          "text": [
            "\b\b\b\b\b\b\b\b\b\b\b\b\b\b\b\b\b\b\b\b\b\b\b\b\b\b\b\b\b\b\b\b\b\b\b\b\b\b\b\b\b\b\b\b\b\b\b\b\b\b\b\b\b\b\b\b\b\b\b\b\b\b\b\b\b\b\b\b\b\b\b\b\b\b\b\b\b\b\b\b\b\r18/18 [==============================] - 0s 26ms/step - loss: 161.9226 - mae: 161.9226 - val_loss: 816.4731 - val_mae: 816.4731\n",
            "Epoch 29/100\n",
            "18/18 [==============================] - 0s 5ms/step - loss: 152.8702 - mae: 152.8702 - val_loss: 1312.1068 - val_mae: 1312.1068\n",
            "Epoch 30/100\n",
            "18/18 [==============================] - 0s 5ms/step - loss: 175.3164 - mae: 175.3164 - val_loss: 1157.8059 - val_mae: 1157.8059\n",
            "Epoch 31/100\n",
            "18/18 [==============================] - 0s 4ms/step - loss: 167.8815 - mae: 167.8815 - val_loss: 844.6515 - val_mae: 844.6515\n",
            "Epoch 32/100\n",
            "18/18 [==============================] - 0s 4ms/step - loss: 149.1727 - mae: 149.1727 - val_loss: 896.2293 - val_mae: 896.2293\n",
            "Epoch 33/100\n",
            "18/18 [==============================] - 0s 5ms/step - loss: 147.5819 - mae: 147.5819 - val_loss: 919.2329 - val_mae: 919.2329\n",
            "Epoch 34/100\n",
            "18/18 [==============================] - 0s 6ms/step - loss: 143.0115 - mae: 143.0115 - val_loss: 898.5375 - val_mae: 898.5375\n",
            "Epoch 35/100\n",
            " 1/18 [>.............................] - ETA: 0s - loss: 190.0817 - mae: 190.0817"
          ]
        },
        {
          "output_type": "stream",
          "name": "stderr",
          "text": [
            "WARNING:absl:Found untraced functions such as _update_step_xla while saving (showing 1 of 1). These functions will not be directly callable after loading.\n"
          ]
        },
        {
          "output_type": "stream",
          "name": "stdout",
          "text": [
            "\b\b\b\b\b\b\b\b\b\b\b\b\b\b\b\b\b\b\b\b\b\b\b\b\b\b\b\b\b\b\b\b\b\b\b\b\b\b\b\b\b\b\b\b\b\b\b\b\b\b\b\b\b\b\b\b\b\b\b\b\b\b\b\b\b\b\b\b\b\b\b\b\b\b\b\b\b\b\b\b\b\r18/18 [==============================] - 0s 27ms/step - loss: 143.0282 - mae: 143.0282 - val_loss: 760.4184 - val_mae: 760.4184\n",
            "Epoch 36/100\n",
            " 1/18 [>.............................] - ETA: 0s - loss: 126.7523 - mae: 126.7523"
          ]
        },
        {
          "output_type": "stream",
          "name": "stderr",
          "text": [
            "WARNING:absl:Found untraced functions such as _update_step_xla while saving (showing 1 of 1). These functions will not be directly callable after loading.\n"
          ]
        },
        {
          "output_type": "stream",
          "name": "stdout",
          "text": [
            "\b\b\b\b\b\b\b\b\b\b\b\b\b\b\b\b\b\b\b\b\b\b\b\b\b\b\b\b\b\b\b\b\b\b\b\b\b\b\b\b\b\b\b\b\b\b\b\b\b\b\b\b\b\b\b\b\b\b\b\b\b\b\b\b\b\b\b\b\b\b\b\b\b\b\b\b\b\b\b\b\b\r18/18 [==============================] - 0s 27ms/step - loss: 138.9048 - mae: 138.9048 - val_loss: 753.6520 - val_mae: 753.6520\n",
            "Epoch 37/100\n",
            "18/18 [==============================] - 0s 5ms/step - loss: 137.3507 - mae: 137.3507 - val_loss: 776.0277 - val_mae: 776.0277\n",
            "Epoch 38/100\n",
            " 1/18 [>.............................] - ETA: 0s - loss: 158.9386 - mae: 158.9386"
          ]
        },
        {
          "output_type": "stream",
          "name": "stderr",
          "text": [
            "WARNING:absl:Found untraced functions such as _update_step_xla while saving (showing 1 of 1). These functions will not be directly callable after loading.\n"
          ]
        },
        {
          "output_type": "stream",
          "name": "stdout",
          "text": [
            "\b\b\b\b\b\b\b\b\b\b\b\b\b\b\b\b\b\b\b\b\b\b\b\b\b\b\b\b\b\b\b\b\b\b\b\b\b\b\b\b\b\b\b\b\b\b\b\b\b\b\b\b\b\b\b\b\b\b\b\b\b\b\b\b\b\b\b\b\b\b\b\b\b\b\b\b\b\b\b\b\b\r18/18 [==============================] - 0s 25ms/step - loss: 138.7883 - mae: 138.7883 - val_loss: 739.3121 - val_mae: 739.3121\n",
            "Epoch 39/100\n",
            " 1/18 [>.............................] - ETA: 0s - loss: 151.8403 - mae: 151.8403"
          ]
        },
        {
          "output_type": "stream",
          "name": "stderr",
          "text": [
            "WARNING:absl:Found untraced functions such as _update_step_xla while saving (showing 1 of 1). These functions will not be directly callable after loading.\n"
          ]
        },
        {
          "output_type": "stream",
          "name": "stdout",
          "text": [
            "\b\b\b\b\b\b\b\b\b\b\b\b\b\b\b\b\b\b\b\b\b\b\b\b\b\b\b\b\b\b\b\b\b\b\b\b\b\b\b\b\b\b\b\b\b\b\b\b\b\b\b\b\b\b\b\b\b\b\b\b\b\b\b\b\b\b\b\b\b\b\b\b\b\b\b\b\b\b\b\b\b\r18/18 [==============================] - 0s 27ms/step - loss: 140.6439 - mae: 140.6439 - val_loss: 735.9301 - val_mae: 735.9301\n",
            "Epoch 40/100\n",
            "18/18 [==============================] - 0s 4ms/step - loss: 134.4597 - mae: 134.4597 - val_loss: 1061.3646 - val_mae: 1061.3646\n",
            "Epoch 41/100\n",
            " 1/18 [>.............................] - ETA: 0s - loss: 157.1659 - mae: 157.1659"
          ]
        },
        {
          "output_type": "stream",
          "name": "stderr",
          "text": [
            "WARNING:absl:Found untraced functions such as _update_step_xla while saving (showing 1 of 1). These functions will not be directly callable after loading.\n"
          ]
        },
        {
          "output_type": "stream",
          "name": "stdout",
          "text": [
            "\b\b\b\b\b\b\b\b\b\b\b\b\b\b\b\b\b\b\b\b\b\b\b\b\b\b\b\b\b\b\b\b\b\b\b\b\b\b\b\b\b\b\b\b\b\b\b\b\b\b\b\b\b\b\b\b\b\b\b\b\b\b\b\b\b\b\b\b\b\b\b\b\b\b\b\b\b\b\b\b\b\r18/18 [==============================] - 0s 27ms/step - loss: 151.9561 - mae: 151.9561 - val_loss: 734.9591 - val_mae: 734.9591\n",
            "Epoch 42/100\n",
            " 1/18 [>.............................] - ETA: 0s - loss: 116.8311 - mae: 116.8311"
          ]
        },
        {
          "output_type": "stream",
          "name": "stderr",
          "text": [
            "WARNING:absl:Found untraced functions such as _update_step_xla while saving (showing 1 of 1). These functions will not be directly callable after loading.\n"
          ]
        },
        {
          "output_type": "stream",
          "name": "stdout",
          "text": [
            "\b\b\b\b\b\b\b\b\b\b\b\b\b\b\b\b\b\b\b\b\b\b\b\b\b\b\b\b\b\b\b\b\b\b\b\b\b\b\b\b\b\b\b\b\b\b\b\b\b\b\b\b\b\b\b\b\b\b\b\b\b\b\b\b\b\b\b\b\b\b\b\b\b\b\b\b\b\b\b\b\b\r18/18 [==============================] - 0s 26ms/step - loss: 137.8056 - mae: 137.8056 - val_loss: 732.7218 - val_mae: 732.7218\n",
            "Epoch 43/100\n",
            "18/18 [==============================] - 0s 5ms/step - loss: 144.8286 - mae: 144.8286 - val_loss: 853.0159 - val_mae: 853.0159\n",
            "Epoch 44/100\n",
            " 1/18 [>.............................] - ETA: 0s - loss: 191.8253 - mae: 191.8253"
          ]
        },
        {
          "output_type": "stream",
          "name": "stderr",
          "text": [
            "WARNING:absl:Found untraced functions such as _update_step_xla while saving (showing 1 of 1). These functions will not be directly callable after loading.\n"
          ]
        },
        {
          "output_type": "stream",
          "name": "stdout",
          "text": [
            "\b\b\b\b\b\b\b\b\b\b\b\b\b\b\b\b\b\b\b\b\b\b\b\b\b\b\b\b\b\b\b\b\b\b\b\b\b\b\b\b\b\b\b\b\b\b\b\b\b\b\b\b\b\b\b\b\b\b\b\b\b\b\b\b\b\b\b\b\b\b\b\b\b\b\b\b\b\b\b\b\b\r18/18 [==============================] - 0s 27ms/step - loss: 166.1147 - mae: 166.1147 - val_loss: 718.8102 - val_mae: 718.8102\n",
            "Epoch 45/100\n",
            "18/18 [==============================] - 0s 4ms/step - loss: 136.6867 - mae: 136.6867 - val_loss: 722.6482 - val_mae: 722.6482\n",
            "Epoch 46/100\n",
            "18/18 [==============================] - 0s 4ms/step - loss: 136.1144 - mae: 136.1144 - val_loss: 811.1742 - val_mae: 811.1742\n",
            "Epoch 47/100\n",
            " 1/18 [>.............................] - ETA: 0s - loss: 153.5468 - mae: 153.5468"
          ]
        },
        {
          "output_type": "stream",
          "name": "stderr",
          "text": [
            "WARNING:absl:Found untraced functions such as _update_step_xla while saving (showing 1 of 1). These functions will not be directly callable after loading.\n"
          ]
        },
        {
          "output_type": "stream",
          "name": "stdout",
          "text": [
            "\b\b\b\b\b\b\b\b\b\b\b\b\b\b\b\b\b\b\b\b\b\b\b\b\b\b\b\b\b\b\b\b\b\b\b\b\b\b\b\b\b\b\b\b\b\b\b\b\b\b\b\b\b\b\b\b\b\b\b\b\b\b\b\b\b\b\b\b\b\b\b\b\b\b\b\b\b\b\b\b\b\r18/18 [==============================] - 0s 27ms/step - loss: 136.2827 - mae: 136.2827 - val_loss: 701.0239 - val_mae: 701.0239\n",
            "Epoch 48/100\n",
            "18/18 [==============================] - 0s 5ms/step - loss: 129.3980 - mae: 129.3980 - val_loss: 836.4299 - val_mae: 836.4299\n",
            "Epoch 49/100\n",
            "18/18 [==============================] - 0s 5ms/step - loss: 146.1085 - mae: 146.1085 - val_loss: 979.1111 - val_mae: 979.1111\n",
            "Epoch 50/100\n",
            "18/18 [==============================] - 0s 6ms/step - loss: 190.9033 - mae: 190.9033 - val_loss: 965.1135 - val_mae: 965.1135\n",
            "Epoch 51/100\n",
            " 1/18 [>.............................] - ETA: 0s - loss: 148.8986 - mae: 148.8986"
          ]
        },
        {
          "output_type": "stream",
          "name": "stderr",
          "text": [
            "WARNING:absl:Found untraced functions such as _update_step_xla while saving (showing 1 of 1). These functions will not be directly callable after loading.\n"
          ]
        },
        {
          "output_type": "stream",
          "name": "stdout",
          "text": [
            "\b\b\b\b\b\b\b\b\b\b\b\b\b\b\b\b\b\b\b\b\b\b\b\b\b\b\b\b\b\b\b\b\b\b\b\b\b\b\b\b\b\b\b\b\b\b\b\b\b\b\b\b\b\b\b\b\b\b\b\b\b\b\b\b\b\b\b\b\b\b\b\b\b\b\b\b\b\b\b\b\b\r18/18 [==============================] - 0s 26ms/step - loss: 145.4563 - mae: 145.4563 - val_loss: 690.2885 - val_mae: 690.2885\n",
            "Epoch 52/100\n",
            "18/18 [==============================] - 0s 5ms/step - loss: 131.2354 - mae: 131.2354 - val_loss: 695.9974 - val_mae: 695.9974\n",
            "Epoch 53/100\n",
            "18/18 [==============================] - 0s 5ms/step - loss: 131.6608 - mae: 131.6608 - val_loss: 815.0004 - val_mae: 815.0004\n",
            "Epoch 54/100\n",
            "18/18 [==============================] - 0s 5ms/step - loss: 152.5359 - mae: 152.5359 - val_loss: 1518.6868 - val_mae: 1518.6868\n",
            "Epoch 55/100\n",
            "18/18 [==============================] - 0s 5ms/step - loss: 208.7935 - mae: 208.7935 - val_loss: 695.0026 - val_mae: 695.0026\n",
            "Epoch 56/100\n",
            "18/18 [==============================] - 0s 5ms/step - loss: 182.2235 - mae: 182.2235 - val_loss: 879.2371 - val_mae: 879.2371\n",
            "Epoch 57/100\n",
            "18/18 [==============================] - 0s 4ms/step - loss: 154.8749 - mae: 154.8749 - val_loss: 1218.0330 - val_mae: 1218.0330\n",
            "Epoch 58/100\n",
            " 1/18 [>.............................] - ETA: 0s - loss: 215.1385 - mae: 215.1385"
          ]
        },
        {
          "output_type": "stream",
          "name": "stderr",
          "text": [
            "WARNING:absl:Found untraced functions such as _update_step_xla while saving (showing 1 of 1). These functions will not be directly callable after loading.\n"
          ]
        },
        {
          "output_type": "stream",
          "name": "stdout",
          "text": [
            "\b\b\b\b\b\b\b\b\b\b\b\b\b\b\b\b\b\b\b\b\b\b\b\b\b\b\b\b\b\b\b\b\b\b\b\b\b\b\b\b\b\b\b\b\b\b\b\b\b\b\b\b\b\b\b\b\b\b\b\b\b\b\b\b\b\b\b\b\b\b\b\b\b\b\b\b\b\b\b\b\b\r18/18 [==============================] - 0s 26ms/step - loss: 177.8666 - mae: 177.8666 - val_loss: 687.8895 - val_mae: 687.8895\n",
            "Epoch 59/100\n",
            "17/18 [===========================>..] - ETA: 0s - loss: 153.3446 - mae: 153.3446"
          ]
        },
        {
          "output_type": "stream",
          "name": "stderr",
          "text": [
            "WARNING:absl:Found untraced functions such as _update_step_xla while saving (showing 1 of 1). These functions will not be directly callable after loading.\n"
          ]
        },
        {
          "output_type": "stream",
          "name": "stdout",
          "text": [
            "\b\b\b\b\b\b\b\b\b\b\b\b\b\b\b\b\b\b\b\b\b\b\b\b\b\b\b\b\b\b\b\b\b\b\b\b\b\b\b\b\b\b\b\b\b\b\b\b\b\b\b\b\b\b\b\b\b\b\b\b\b\b\b\b\b\b\b\b\b\b\b\b\b\b\b\b\b\b\b\b\b\r18/18 [==============================] - 0s 26ms/step - loss: 153.7887 - mae: 153.7887 - val_loss: 678.0177 - val_mae: 678.0177\n",
            "Epoch 60/100\n",
            "18/18 [==============================] - 0s 4ms/step - loss: 124.1677 - mae: 124.1677 - val_loss: 722.4614 - val_mae: 722.4614\n",
            "Epoch 61/100\n",
            "18/18 [==============================] - 0s 4ms/step - loss: 125.9453 - mae: 125.9453 - val_loss: 705.2452 - val_mae: 705.2452\n",
            "Epoch 62/100\n",
            "18/18 [==============================] - 0s 4ms/step - loss: 127.5419 - mae: 127.5419 - val_loss: 1056.3372 - val_mae: 1056.3372\n",
            "Epoch 63/100\n",
            "18/18 [==============================] - 0s 4ms/step - loss: 148.2862 - mae: 148.2862 - val_loss: 735.5121 - val_mae: 735.5121\n",
            "Epoch 64/100\n",
            "18/18 [==============================] - 0s 5ms/step - loss: 121.7593 - mae: 121.7593 - val_loss: 754.2245 - val_mae: 754.2245\n",
            "Epoch 65/100\n",
            "18/18 [==============================] - 0s 5ms/step - loss: 125.5320 - mae: 125.5320 - val_loss: 766.2856 - val_mae: 766.2856\n",
            "Epoch 66/100\n",
            "18/18 [==============================] - 0s 6ms/step - loss: 124.0977 - mae: 124.0977 - val_loss: 680.2999 - val_mae: 680.2999\n",
            "Epoch 67/100\n",
            " 1/18 [>.............................] - ETA: 0s - loss: 116.9314 - mae: 116.9314"
          ]
        },
        {
          "output_type": "stream",
          "name": "stderr",
          "text": [
            "WARNING:absl:Found untraced functions such as _update_step_xla while saving (showing 1 of 1). These functions will not be directly callable after loading.\n"
          ]
        },
        {
          "output_type": "stream",
          "name": "stdout",
          "text": [
            "\b\b\b\b\b\b\b\b\b\b\b\b\b\b\b\b\b\b\b\b\b\b\b\b\b\b\b\b\b\b\b\b\b\b\b\b\b\b\b\b\b\b\b\b\b\b\b\b\b\b\b\b\b\b\b\b\b\b\b\b\b\b\b\b\b\b\b\b\b\b\b\b\b\b\b\b\b\b\b\b\b\r18/18 [==============================] - 0s 27ms/step - loss: 124.1906 - mae: 124.1906 - val_loss: 671.6382 - val_mae: 671.6382\n",
            "Epoch 68/100\n",
            "18/18 [==============================] - 0s 4ms/step - loss: 122.9341 - mae: 122.9341 - val_loss: 701.8868 - val_mae: 701.8868\n",
            "Epoch 69/100\n",
            "18/18 [==============================] - 0s 4ms/step - loss: 129.0978 - mae: 129.0978 - val_loss: 943.1595 - val_mae: 943.1595\n",
            "Epoch 70/100\n",
            "18/18 [==============================] - 0s 8ms/step - loss: 131.5686 - mae: 131.5686 - val_loss: 829.1926 - val_mae: 829.1926\n",
            "Epoch 71/100\n",
            "18/18 [==============================] - 0s 7ms/step - loss: 125.3237 - mae: 125.3237 - val_loss: 762.5719 - val_mae: 762.5719\n",
            "Epoch 72/100\n",
            "18/18 [==============================] - 0s 6ms/step - loss: 146.5520 - mae: 146.5520 - val_loss: 957.2249 - val_mae: 957.2249\n",
            "Epoch 73/100\n",
            "18/18 [==============================] - 0s 7ms/step - loss: 172.0431 - mae: 172.0431 - val_loss: 802.3022 - val_mae: 802.3022\n",
            "Epoch 74/100\n",
            "18/18 [==============================] - 0s 7ms/step - loss: 142.6360 - mae: 142.6360 - val_loss: 756.0264 - val_mae: 756.0264\n",
            "Epoch 75/100\n",
            "17/18 [===========================>..] - ETA: 0s - loss: 121.9481 - mae: 121.9481"
          ]
        },
        {
          "output_type": "stream",
          "name": "stderr",
          "text": [
            "WARNING:absl:Found untraced functions such as _update_step_xla while saving (showing 1 of 1). These functions will not be directly callable after loading.\n"
          ]
        },
        {
          "output_type": "stream",
          "name": "stdout",
          "text": [
            "\b\b\b\b\b\b\b\b\b\b\b\b\b\b\b\b\b\b\b\b\b\b\b\b\b\b\b\b\b\b\b\b\b\b\b\b\b\b\b\b\b\b\b\b\b\b\b\b\b\b\b\b\b\b\b\b\b\b\b\b\b\b\b\b\b\b\b\b\b\b\b\b\b\b\b\b\b\b\b\b\b\r18/18 [==============================] - 1s 58ms/step - loss: 121.3814 - mae: 121.3814 - val_loss: 657.7286 - val_mae: 657.7286\n",
            "Epoch 76/100\n",
            "18/18 [==============================] - 0s 7ms/step - loss: 124.6347 - mae: 124.6347 - val_loss: 949.3887 - val_mae: 949.3887\n",
            "Epoch 77/100\n",
            "18/18 [==============================] - 0s 7ms/step - loss: 132.9587 - mae: 132.9587 - val_loss: 703.5638 - val_mae: 703.5638\n",
            "Epoch 78/100\n",
            "18/18 [==============================] - 0s 7ms/step - loss: 121.1492 - mae: 121.1492 - val_loss: 666.3533 - val_mae: 666.3533\n",
            "Epoch 79/100\n",
            "17/18 [===========================>..] - ETA: 0s - loss: 141.3644 - mae: 141.3644"
          ]
        },
        {
          "output_type": "stream",
          "name": "stderr",
          "text": [
            "WARNING:absl:Found untraced functions such as _update_step_xla while saving (showing 1 of 1). These functions will not be directly callable after loading.\n"
          ]
        },
        {
          "output_type": "stream",
          "name": "stdout",
          "text": [
            "\b\b\b\b\b\b\b\b\b\b\b\b\b\b\b\b\b\b\b\b\b\b\b\b\b\b\b\b\b\b\b\b\b\b\b\b\b\b\b\b\b\b\b\b\b\b\b\b\b\b\b\b\b\b\b\b\b\b\b\b\b\b\b\b\b\b\b\b\b\b\b\b\b\b\b\b\b\b\b\b\b\r18/18 [==============================] - 0s 28ms/step - loss: 140.4574 - mae: 140.4574 - val_loss: 655.3640 - val_mae: 655.3640\n",
            "Epoch 80/100\n",
            "18/18 [==============================] - 0s 4ms/step - loss: 125.7048 - mae: 125.7048 - val_loss: 969.6447 - val_mae: 969.6447\n",
            "Epoch 81/100\n",
            "18/18 [==============================] - 0s 4ms/step - loss: 132.9662 - mae: 132.9662 - val_loss: 749.0213 - val_mae: 749.0213\n",
            "Epoch 82/100\n",
            "18/18 [==============================] - 0s 5ms/step - loss: 119.4200 - mae: 119.4200 - val_loss: 775.0634 - val_mae: 775.0634\n",
            "Epoch 83/100\n",
            "18/18 [==============================] - 0s 4ms/step - loss: 128.4234 - mae: 128.4234 - val_loss: 766.0878 - val_mae: 766.0878\n",
            "Epoch 84/100\n",
            "18/18 [==============================] - 0s 4ms/step - loss: 132.7022 - mae: 132.7022 - val_loss: 655.6221 - val_mae: 655.6221\n",
            "Epoch 85/100\n",
            "18/18 [==============================] - 0s 5ms/step - loss: 119.2923 - mae: 119.2923 - val_loss: 861.4310 - val_mae: 861.4310\n",
            "Epoch 86/100\n",
            "18/18 [==============================] - 0s 5ms/step - loss: 140.7487 - mae: 140.7487 - val_loss: 786.0767 - val_mae: 786.0767\n",
            "Epoch 87/100\n",
            "18/18 [==============================] - 0s 5ms/step - loss: 142.6397 - mae: 142.6397 - val_loss: 833.0533 - val_mae: 833.0533\n",
            "Epoch 88/100\n",
            "18/18 [==============================] - 0s 4ms/step - loss: 137.5829 - mae: 137.5829 - val_loss: 663.7379 - val_mae: 663.7379\n",
            "Epoch 89/100\n",
            " 1/18 [>.............................] - ETA: 0s - loss: 110.9311 - mae: 110.9311"
          ]
        },
        {
          "output_type": "stream",
          "name": "stderr",
          "text": [
            "WARNING:absl:Found untraced functions such as _update_step_xla while saving (showing 1 of 1). These functions will not be directly callable after loading.\n"
          ]
        },
        {
          "output_type": "stream",
          "name": "stdout",
          "text": [
            "\b\b\b\b\b\b\b\b\b\b\b\b\b\b\b\b\b\b\b\b\b\b\b\b\b\b\b\b\b\b\b\b\b\b\b\b\b\b\b\b\b\b\b\b\b\b\b\b\b\b\b\b\b\b\b\b\b\b\b\b\b\b\b\b\b\b\b\b\b\b\b\b\b\b\b\b\b\b\b\b\b\r18/18 [==============================] - 0s 26ms/step - loss: 137.7421 - mae: 137.7421 - val_loss: 648.1476 - val_mae: 648.1476\n",
            "Epoch 90/100\n",
            "18/18 [==============================] - 0s 4ms/step - loss: 120.5258 - mae: 120.5258 - val_loss: 700.7717 - val_mae: 700.7718\n",
            "Epoch 91/100\n",
            "18/18 [==============================] - 0s 5ms/step - loss: 121.0411 - mae: 121.0411 - val_loss: 685.2899 - val_mae: 685.2899\n",
            "Epoch 92/100\n",
            "18/18 [==============================] - 0s 5ms/step - loss: 125.8797 - mae: 125.8797 - val_loss: 965.2014 - val_mae: 965.2014\n",
            "Epoch 93/100\n",
            "18/18 [==============================] - 0s 5ms/step - loss: 154.5578 - mae: 154.5578 - val_loss: 1126.4509 - val_mae: 1126.4509\n",
            "Epoch 94/100\n",
            "18/18 [==============================] - 0s 5ms/step - loss: 159.0045 - mae: 159.0045 - val_loss: 859.4281 - val_mae: 859.4282\n",
            "Epoch 95/100\n",
            "18/18 [==============================] - 0s 4ms/step - loss: 159.9526 - mae: 159.9526 - val_loss: 861.7226 - val_mae: 861.7226\n",
            "Epoch 96/100\n",
            "18/18 [==============================] - 0s 5ms/step - loss: 132.2578 - mae: 132.2578 - val_loss: 661.6362 - val_mae: 661.6362\n",
            "Epoch 97/100\n",
            "18/18 [==============================] - 0s 4ms/step - loss: 128.7298 - mae: 128.7298 - val_loss: 1018.8364 - val_mae: 1018.8364\n",
            "Epoch 98/100\n",
            "18/18 [==============================] - 0s 4ms/step - loss: 145.3236 - mae: 145.3236 - val_loss: 797.8544 - val_mae: 797.8544\n",
            "Epoch 99/100\n",
            " 1/18 [>.............................] - ETA: 0s - loss: 162.1983 - mae: 162.1983"
          ]
        },
        {
          "output_type": "stream",
          "name": "stderr",
          "text": [
            "WARNING:absl:Found untraced functions such as _update_step_xla while saving (showing 1 of 1). These functions will not be directly callable after loading.\n"
          ]
        },
        {
          "output_type": "stream",
          "name": "stdout",
          "text": [
            "\b\b\b\b\b\b\b\b\b\b\b\b\b\b\b\b\b\b\b\b\b\b\b\b\b\b\b\b\b\b\b\b\b\b\b\b\b\b\b\b\b\b\b\b\b\b\b\b\b\b\b\b\b\b\b\b\b\b\b\b\b\b\b\b\b\b\b\b\b\b\b\b\b\b\b\b\b\b\b\b\b\r18/18 [==============================] - 0s 26ms/step - loss: 125.8140 - mae: 125.8140 - val_loss: 633.0848 - val_mae: 633.0848\n",
            "Epoch 100/100\n",
            "18/18 [==============================] - 0s 4ms/step - loss: 131.6066 - mae: 131.6066 - val_loss: 674.1026 - val_mae: 674.1026\n"
          ]
        }
      ]
    },
    {
      "cell_type": "code",
      "source": [
        "model_2_preds = make_preds(model_2,test_windows)"
      ],
      "metadata": {
        "id": "P2CtQ2-KyiXy",
        "outputId": "de170f7d-a73d-42f2-cc30-f99451264a8a",
        "colab": {
          "base_uri": "https://localhost:8080/"
        }
      },
      "execution_count": 60,
      "outputs": [
        {
          "output_type": "stream",
          "name": "stdout",
          "text": [
            "18/18 [==============================] - 0s 2ms/step\n"
          ]
        }
      ]
    },
    {
      "cell_type": "code",
      "source": [
        "evaluation_metrics(y_true = tf.squeeze(test_labels),y_pred=model_2_preds)"
      ],
      "metadata": {
        "id": "f6RUnPXRyo3J",
        "outputId": "88ecc5ba-21ec-4879-dbdd-b90847fd2491",
        "colab": {
          "base_uri": "https://localhost:8080/"
        }
      },
      "execution_count": 61,
      "outputs": [
        {
          "output_type": "execute_result",
          "data": {
            "text/plain": [
              "{'mae': 674.1026,\n",
              " 'mse': 1491471.1,\n",
              " 'rmse': 1221.2579,\n",
              " 'mape': 3.1053038,\n",
              " 'mase': 1.1783379}"
            ]
          },
          "metadata": {},
          "execution_count": 61
        }
      ]
    },
    {
      "cell_type": "code",
      "source": [
        "offset = 100\n",
        "plt.figure(figsize = (10,7))\n",
        "plot_time_series(timesteps = x_test[-len(test_windows):],values = test_labels[:,0],start = offset,label = \"Test Data\")\n",
        "plot_time_series(timesteps = x_test[-len(test_windows):],values = model_2_preds,start = offset,label = \"Predict Data\",format = \"-\")"
      ],
      "metadata": {
        "id": "UWt4zwbiyrnf",
        "outputId": "63850adb-7175-4903-a846-8341975b220e",
        "colab": {
          "base_uri": "https://localhost:8080/",
          "height": 453
        }
      },
      "execution_count": 62,
      "outputs": [
        {
          "output_type": "display_data",
          "data": {
            "text/plain": [
              "<Figure size 1000x700 with 1 Axes>"
            ],
            "image/png": "[encoded data removed]"
          },
          "metadata": {}
        }
      ]
    },
    {
      "cell_type": "markdown",
      "source": [
        "## Model 3: Dense(Windows = 30,Horizon = 7)"
      ],
      "metadata": {
        "id": "2MGKAmxKyv3k"
      }
    },
    {
      "cell_type": "code",
      "source": [
        "full_windows,full_labels = make_windows(prices,window_size = 30,horizon = 7)"
      ],
      "metadata": {
        "id": "GX7TimqZy6r_"
      },
      "execution_count": 63,
      "outputs": []
    },
    {
      "cell_type": "code",
      "source": [
        "train_windows,test_windows,train_labels,test_labels = make_train_test_splits(full_windows,full_labels)"
      ],
      "metadata": {
        "id": "0-_fkLjEzDCI"
      },
      "execution_count": 64,
      "outputs": []
    },
    {
      "cell_type": "code",
      "source": [
        "\n",
        "tf.random.set_seed(42)\n",
        "\n",
        "# Create model (same as model_1 except with different data input size)\n",
        "model_3 = tf.keras.Sequential([\n",
        "  layers.Dense(128, activation=\"relu\"),\n",
        "  layers.Dense(HORIZON)\n",
        "], name=\"model_3_dense\")\n",
        "\n",
        "model_3.compile(loss=\"mae\",\n",
        "                optimizer=tf.keras.optimizers.Adam())\n",
        "\n",
        "model_3.fit(train_windows,\n",
        "            train_labels,\n",
        "            batch_size=128,\n",
        "            epochs=100,\n",
        "            verbose=0,\n",
        "            validation_data=(test_windows, test_labels),\n",
        "            callbacks=[create_model_checkpoint(model_name=model_3.name)])"
      ],
      "metadata": {
        "id": "HuQbYu5_zKF1",
        "outputId": "03346776-6cad-4b12-e8ba-29f468e31d52",
        "colab": {
          "base_uri": "https://localhost:8080/"
        }
      },
      "execution_count": 75,
      "outputs": [
        {
          "output_type": "stream",
          "name": "stderr",
          "text": [
            "WARNING:absl:Found untraced functions such as _update_step_xla while saving (showing 1 of 1). These functions will not be directly callable after loading.\n",
            "WARNING:absl:Found untraced functions such as _update_step_xla while saving (showing 1 of 1). These functions will not be directly callable after loading.\n",
            "WARNING:absl:Found untraced functions such as _update_step_xla while saving (showing 1 of 1). These functions will not be directly callable after loading.\n",
            "WARNING:absl:Found untraced functions such as _update_step_xla while saving (showing 1 of 1). These functions will not be directly callable after loading.\n",
            "WARNING:absl:Found untraced functions such as _update_step_xla while saving (showing 1 of 1). These functions will not be directly callable after loading.\n",
            "WARNING:absl:Found untraced functions such as _update_step_xla while saving (showing 1 of 1). These functions will not be directly callable after loading.\n",
            "WARNING:absl:Found untraced functions such as _update_step_xla while saving (showing 1 of 1). These functions will not be directly callable after loading.\n",
            "WARNING:absl:Found untraced functions such as _update_step_xla while saving (showing 1 of 1). These functions will not be directly callable after loading.\n",
            "WARNING:absl:Found untraced functions such as _update_step_xla while saving (showing 1 of 1). These functions will not be directly callable after loading.\n",
            "WARNING:absl:Found untraced functions such as _update_step_xla while saving (showing 1 of 1). These functions will not be directly callable after loading.\n",
            "WARNING:absl:Found untraced functions such as _update_step_xla while saving (showing 1 of 1). These functions will not be directly callable after loading.\n",
            "WARNING:absl:Found untraced functions such as _update_step_xla while saving (showing 1 of 1). These functions will not be directly callable after loading.\n",
            "WARNING:absl:Found untraced functions such as _update_step_xla while saving (showing 1 of 1). These functions will not be directly callable after loading.\n",
            "WARNING:absl:Found untraced functions such as _update_step_xla while saving (showing 1 of 1). These functions will not be directly callable after loading.\n",
            "WARNING:absl:Found untraced functions such as _update_step_xla while saving (showing 1 of 1). These functions will not be directly callable after loading.\n",
            "WARNING:absl:Found untraced functions such as _update_step_xla while saving (showing 1 of 1). These functions will not be directly callable after loading.\n",
            "WARNING:absl:Found untraced functions such as _update_step_xla while saving (showing 1 of 1). These functions will not be directly callable after loading.\n",
            "WARNING:absl:Found untraced functions such as _update_step_xla while saving (showing 1 of 1). These functions will not be directly callable after loading.\n",
            "WARNING:absl:Found untraced functions such as _update_step_xla while saving (showing 1 of 1). These functions will not be directly callable after loading.\n",
            "WARNING:absl:Found untraced functions such as _update_step_xla while saving (showing 1 of 1). These functions will not be directly callable after loading.\n",
            "WARNING:absl:Found untraced functions such as _update_step_xla while saving (showing 1 of 1). These functions will not be directly callable after loading.\n",
            "WARNING:absl:Found untraced functions such as _update_step_xla while saving (showing 1 of 1). These functions will not be directly callable after loading.\n",
            "WARNING:absl:Found untraced functions such as _update_step_xla while saving (showing 1 of 1). These functions will not be directly callable after loading.\n",
            "WARNING:absl:Found untraced functions such as _update_step_xla while saving (showing 1 of 1). These functions will not be directly callable after loading.\n",
            "WARNING:absl:Found untraced functions such as _update_step_xla while saving (showing 1 of 1). These functions will not be directly callable after loading.\n",
            "WARNING:absl:Found untraced functions such as _update_step_xla while saving (showing 1 of 1). These functions will not be directly callable after loading.\n",
            "WARNING:absl:Found untraced functions such as _update_step_xla while saving (showing 1 of 1). These functions will not be directly callable after loading.\n"
          ]
        },
        {
          "output_type": "execute_result",
          "data": {
            "text/plain": [
              "<keras.callbacks.History at 0x7f47c16b9dc0>"
            ]
          },
          "metadata": {},
          "execution_count": 75
        }
      ]
    },
    {
      "cell_type": "code",
      "source": [],
      "metadata": {
        "id": "25VlKIApzNpt",
        "outputId": "d6e2e37b-35a9-44eb-d6b6-4db83f1c2699",
        "colab": {
          "base_uri": "https://localhost:8080/"
        }
      },
      "execution_count": 66,
      "outputs": [
        {
          "output_type": "stream",
          "name": "stderr",
          "text": [
            "WARNING:absl:Found untraced functions such as _update_step_xla while saving (showing 1 of 1). These functions will not be directly callable after loading.\n",
            "WARNING:absl:Found untraced functions such as _update_step_xla while saving (showing 1 of 1). These functions will not be directly callable after loading.\n",
            "WARNING:absl:Found untraced functions such as _update_step_xla while saving (showing 1 of 1). These functions will not be directly callable after loading.\n",
            "WARNING:absl:Found untraced functions such as _update_step_xla while saving (showing 1 of 1). These functions will not be directly callable after loading.\n",
            "WARNING:absl:Found untraced functions such as _update_step_xla while saving (showing 1 of 1). These functions will not be directly callable after loading.\n",
            "WARNING:absl:Found untraced functions such as _update_step_xla while saving (showing 1 of 1). These functions will not be directly callable after loading.\n",
            "WARNING:absl:Found untraced functions such as _update_step_xla while saving (showing 1 of 1). These functions will not be directly callable after loading.\n",
            "WARNING:absl:Found untraced functions such as _update_step_xla while saving (showing 1 of 1). These functions will not be directly callable after loading.\n",
            "WARNING:absl:Found untraced functions such as _update_step_xla while saving (showing 1 of 1). These functions will not be directly callable after loading.\n",
            "WARNING:absl:Found untraced functions such as _update_step_xla while saving (showing 1 of 1). These functions will not be directly callable after loading.\n",
            "WARNING:absl:Found untraced functions such as _update_step_xla while saving (showing 1 of 1). These functions will not be directly callable after loading.\n",
            "WARNING:absl:Found untraced functions such as _update_step_xla while saving (showing 1 of 1). These functions will not be directly callable after loading.\n",
            "WARNING:absl:Found untraced functions such as _update_step_xla while saving (showing 1 of 1). These functions will not be directly callable after loading.\n",
            "WARNING:absl:Found untraced functions such as _update_step_xla while saving (showing 1 of 1). These functions will not be directly callable after loading.\n",
            "WARNING:absl:Found untraced functions such as _update_step_xla while saving (showing 1 of 1). These functions will not be directly callable after loading.\n",
            "WARNING:absl:Found untraced functions such as _update_step_xla while saving (showing 1 of 1). These functions will not be directly callable after loading.\n",
            "WARNING:absl:Found untraced functions such as _update_step_xla while saving (showing 1 of 1). These functions will not be directly callable after loading.\n",
            "WARNING:absl:Found untraced functions such as _update_step_xla while saving (showing 1 of 1). These functions will not be directly callable after loading.\n",
            "WARNING:absl:Found untraced functions such as _update_step_xla while saving (showing 1 of 1). These functions will not be directly callable after loading.\n",
            "WARNING:absl:Found untraced functions such as _update_step_xla while saving (showing 1 of 1). These functions will not be directly callable after loading.\n",
            "WARNING:absl:Found untraced functions such as _update_step_xla while saving (showing 1 of 1). These functions will not be directly callable after loading.\n",
            "WARNING:absl:Found untraced functions such as _update_step_xla while saving (showing 1 of 1). These functions will not be directly callable after loading.\n",
            "WARNING:absl:Found untraced functions such as _update_step_xla while saving (showing 1 of 1). These functions will not be directly callable after loading.\n",
            "WARNING:absl:Found untraced functions such as _update_step_xla while saving (showing 1 of 1). These functions will not be directly callable after loading.\n",
            "WARNING:absl:Found untraced functions such as _update_step_xla while saving (showing 1 of 1). These functions will not be directly callable after loading.\n",
            "WARNING:absl:Found untraced functions such as _update_step_xla while saving (showing 1 of 1). These functions will not be directly callable after loading.\n",
            "WARNING:absl:Found untraced functions such as _update_step_xla while saving (showing 1 of 1). These functions will not be directly callable after loading.\n",
            "WARNING:absl:Found untraced functions such as _update_step_xla while saving (showing 1 of 1). These functions will not be directly callable after loading.\n",
            "WARNING:absl:Found untraced functions such as _update_step_xla while saving (showing 1 of 1). These functions will not be directly callable after loading.\n",
            "WARNING:absl:Found untraced functions such as _update_step_xla while saving (showing 1 of 1). These functions will not be directly callable after loading.\n",
            "WARNING:absl:Found untraced functions such as _update_step_xla while saving (showing 1 of 1). These functions will not be directly callable after loading.\n",
            "WARNING:absl:Found untraced functions such as _update_step_xla while saving (showing 1 of 1). These functions will not be directly callable after loading.\n",
            "WARNING:absl:Found untraced functions such as _update_step_xla while saving (showing 1 of 1). These functions will not be directly callable after loading.\n",
            "WARNING:absl:Found untraced functions such as _update_step_xla while saving (showing 1 of 1). These functions will not be directly callable after loading.\n",
            "WARNING:absl:Found untraced functions such as _update_step_xla while saving (showing 1 of 1). These functions will not be directly callable after loading.\n",
            "WARNING:absl:Found untraced functions such as _update_step_xla while saving (showing 1 of 1). These functions will not be directly callable after loading.\n",
            "WARNING:absl:Found untraced functions such as _update_step_xla while saving (showing 1 of 1). These functions will not be directly callable after loading.\n",
            "WARNING:absl:Found untraced functions such as _update_step_xla while saving (showing 1 of 1). These functions will not be directly callable after loading.\n",
            "WARNING:absl:Found untraced functions such as _update_step_xla while saving (showing 1 of 1). These functions will not be directly callable after loading.\n",
            "WARNING:absl:Found untraced functions such as _update_step_xla while saving (showing 1 of 1). These functions will not be directly callable after loading.\n",
            "WARNING:absl:Found untraced functions such as _update_step_xla while saving (showing 1 of 1). These functions will not be directly callable after loading.\n",
            "WARNING:absl:Found untraced functions such as _update_step_xla while saving (showing 1 of 1). These functions will not be directly callable after loading.\n",
            "WARNING:absl:Found untraced functions such as _update_step_xla while saving (showing 1 of 1). These functions will not be directly callable after loading.\n"
          ]
        }
      ]
    },
    {
      "cell_type": "code",
      "source": [
        "model_3 = tf.keras.models.load_model(\"model_experiments/model_3_dense/\")\n",
        "model_3.evaluate(test_windows, test_labels)"
      ],
      "metadata": {
        "id": "y-98EOo3zTEz",
        "outputId": "5917ca9c-f31b-4c6c-9bef-07393c100a3e",
        "colab": {
          "base_uri": "https://localhost:8080/"
        }
      },
      "execution_count": 76,
      "outputs": [
        {
          "output_type": "stream",
          "name": "stdout",
          "text": [
            "18/18 [==============================] - 0s 2ms/step - loss: 622.6932\n"
          ]
        },
        {
          "output_type": "execute_result",
          "data": {
            "text/plain": [
              "622.6931762695312"
            ]
          },
          "metadata": {},
          "execution_count": 76
        }
      ]
    },
    {
      "cell_type": "code",
      "source": [
        "model_3_preds[:5]"
      ],
      "metadata": {
        "id": "Ui-DKVP50H8u",
        "outputId": "0be5c727-f173-4ca1-e1e9-69a74950d385",
        "colab": {
          "base_uri": "https://localhost:8080/"
        }
      },
      "execution_count": 79,
      "outputs": [
        {
          "output_type": "execute_result",
          "data": {
            "text/plain": [
              "<tf.Tensor: shape=(5, 7), dtype=float32, numpy=\n",
              "array([[8688.393 , 8875.066 , 8727.366 , 8430.25  , 8592.386 , 8841.7705,\n",
              "        8827.995 ],\n",
              "       [8447.76  , 8750.686 , 8772.998 , 8464.571 , 8633.574 , 8834.22  ,\n",
              "        8637.36  ],\n",
              "       [8304.455 , 8703.393 , 8612.214 , 8319.891 , 8698.192 , 8686.585 ,\n",
              "        8488.371 ],\n",
              "       [8371.736 , 8632.709 , 8539.075 , 8464.183 , 8622.066 , 8447.422 ,\n",
              "        8461.263 ],\n",
              "       [8400.801 , 8495.529 , 8403.441 , 8509.024 , 8467.017 , 8418.659 ,\n",
              "        8353.946 ]], dtype=float32)>"
            ]
          },
          "metadata": {},
          "execution_count": 79
        }
      ]
    },
    {
      "cell_type": "markdown",
      "source": [
        "## Model 4: Conv1D"
      ],
      "metadata": {
        "id": "jPPsb3_FzqTR"
      }
    },
    {
      "cell_type": "code",
      "source": [
        "full_windows,full_labels = make_windows(prices,window_size = 7,horizon = 1)"
      ],
      "metadata": {
        "id": "6vNAURyGibH0"
      },
      "execution_count": 80,
      "outputs": []
    },
    {
      "cell_type": "code",
      "source": [
        "len(full_windows),len(full_labels)"
      ],
      "metadata": {
        "id": "BsPMZDSNihO1",
        "outputId": "a6839770-6f7e-4602-fc0c-1d6f43b85bac",
        "colab": {
          "base_uri": "https://localhost:8080/"
        }
      },
      "execution_count": 81,
      "outputs": [
        {
          "output_type": "execute_result",
          "data": {
            "text/plain": [
              "(2780, 2780)"
            ]
          },
          "metadata": {},
          "execution_count": 81
        }
      ]
    },
    {
      "cell_type": "code",
      "source": [
        "train_windows,test_windows,train_labels,test_labels = make_train_test_splits(full_windows,full_labels)"
      ],
      "metadata": {
        "id": "g3TTokNIikic"
      },
      "execution_count": 83,
      "outputs": []
    },
    {
      "cell_type": "code",
      "source": [
        "tf.random.set_seed(42)\n",
        "\n",
        "# Create model\n",
        "model_4 = tf.keras.Sequential([\n",
        "  # Create Lambda layer to reshape inputs, without this layer, the model will error\n",
        "  layers.Lambda(lambda x: tf.expand_dims(x, axis=1)), # resize the inputs to adjust for window size / Conv1D 3D input requirements\n",
        "  layers.Conv1D(filters=128, kernel_size=5, padding=\"causal\", activation=\"relu\"),\n",
        "  layers.Dense(HORIZON)\n",
        "], name=\"model_4_conv1D\")\n",
        "\n",
        "# Compile model\n",
        "model_4.compile(loss=\"mae\",\n",
        "                optimizer=tf.keras.optimizers.Adam())\n",
        "\n",
        "# Fit model\n",
        "model_4.fit(train_windows,\n",
        "            train_labels,\n",
        "            batch_size=128, \n",
        "            epochs=100,\n",
        "            verbose=0,\n",
        "            validation_data=(test_windows, test_labels),\n",
        "            callbacks=[create_model_checkpoint(model_name=model_4.name)])"
      ],
      "metadata": {
        "id": "VDmRSbL0isWa",
        "outputId": "c596b000-f00c-4f7e-bbe9-f634da3d2c6b",
        "colab": {
          "base_uri": "https://localhost:8080/"
        }
      },
      "execution_count": 87,
      "outputs": [
        {
          "output_type": "stream",
          "name": "stderr",
          "text": [
            "WARNING:absl:Found untraced functions such as _jit_compiled_convolution_op, _update_step_xla while saving (showing 2 of 2). These functions will not be directly callable after loading.\n",
            "WARNING:absl:Found untraced functions such as _jit_compiled_convolution_op, _update_step_xla while saving (showing 2 of 2). These functions will not be directly callable after loading.\n",
            "WARNING:absl:Found untraced functions such as _jit_compiled_convolution_op, _update_step_xla while saving (showing 2 of 2). These functions will not be directly callable after loading.\n",
            "WARNING:absl:Found untraced functions such as _jit_compiled_convolution_op, _update_step_xla while saving (showing 2 of 2). These functions will not be directly callable after loading.\n",
            "WARNING:absl:Found untraced functions such as _jit_compiled_convolution_op, _update_step_xla while saving (showing 2 of 2). These functions will not be directly callable after loading.\n",
            "WARNING:absl:Found untraced functions such as _jit_compiled_convolution_op, _update_step_xla while saving (showing 2 of 2). These functions will not be directly callable after loading.\n",
            "WARNING:absl:Found untraced functions such as _jit_compiled_convolution_op, _update_step_xla while saving (showing 2 of 2). These functions will not be directly callable after loading.\n",
            "WARNING:absl:Found untraced functions such as _jit_compiled_convolution_op, _update_step_xla while saving (showing 2 of 2). These functions will not be directly callable after loading.\n",
            "WARNING:absl:Found untraced functions such as _jit_compiled_convolution_op, _update_step_xla while saving (showing 2 of 2). These functions will not be directly callable after loading.\n",
            "WARNING:absl:Found untraced functions such as _jit_compiled_convolution_op, _update_step_xla while saving (showing 2 of 2). These functions will not be directly callable after loading.\n",
            "WARNING:absl:Found untraced functions such as _jit_compiled_convolution_op, _update_step_xla while saving (showing 2 of 2). These functions will not be directly callable after loading.\n",
            "WARNING:absl:Found untraced functions such as _jit_compiled_convolution_op, _update_step_xla while saving (showing 2 of 2). These functions will not be directly callable after loading.\n",
            "WARNING:absl:Found untraced functions such as _jit_compiled_convolution_op, _update_step_xla while saving (showing 2 of 2). These functions will not be directly callable after loading.\n",
            "WARNING:absl:Found untraced functions such as _jit_compiled_convolution_op, _update_step_xla while saving (showing 2 of 2). These functions will not be directly callable after loading.\n",
            "WARNING:absl:Found untraced functions such as _jit_compiled_convolution_op, _update_step_xla while saving (showing 2 of 2). These functions will not be directly callable after loading.\n",
            "WARNING:absl:Found untraced functions such as _jit_compiled_convolution_op, _update_step_xla while saving (showing 2 of 2). These functions will not be directly callable after loading.\n",
            "WARNING:absl:Found untraced functions such as _jit_compiled_convolution_op, _update_step_xla while saving (showing 2 of 2). These functions will not be directly callable after loading.\n",
            "WARNING:absl:Found untraced functions such as _jit_compiled_convolution_op, _update_step_xla while saving (showing 2 of 2). These functions will not be directly callable after loading.\n",
            "WARNING:absl:Found untraced functions such as _jit_compiled_convolution_op, _update_step_xla while saving (showing 2 of 2). These functions will not be directly callable after loading.\n",
            "WARNING:absl:Found untraced functions such as _jit_compiled_convolution_op, _update_step_xla while saving (showing 2 of 2). These functions will not be directly callable after loading.\n",
            "WARNING:absl:Found untraced functions such as _jit_compiled_convolution_op, _update_step_xla while saving (showing 2 of 2). These functions will not be directly callable after loading.\n",
            "WARNING:absl:Found untraced functions such as _jit_compiled_convolution_op, _update_step_xla while saving (showing 2 of 2). These functions will not be directly callable after loading.\n",
            "WARNING:absl:Found untraced functions such as _jit_compiled_convolution_op, _update_step_xla while saving (showing 2 of 2). These functions will not be directly callable after loading.\n",
            "WARNING:absl:Found untraced functions such as _jit_compiled_convolution_op, _update_step_xla while saving (showing 2 of 2). These functions will not be directly callable after loading.\n",
            "WARNING:absl:Found untraced functions such as _jit_compiled_convolution_op, _update_step_xla while saving (showing 2 of 2). These functions will not be directly callable after loading.\n",
            "WARNING:absl:Found untraced functions such as _jit_compiled_convolution_op, _update_step_xla while saving (showing 2 of 2). These functions will not be directly callable after loading.\n",
            "WARNING:absl:Found untraced functions such as _jit_compiled_convolution_op, _update_step_xla while saving (showing 2 of 2). These functions will not be directly callable after loading.\n",
            "WARNING:absl:Found untraced functions such as _jit_compiled_convolution_op, _update_step_xla while saving (showing 2 of 2). These functions will not be directly callable after loading.\n",
            "WARNING:absl:Found untraced functions such as _jit_compiled_convolution_op, _update_step_xla while saving (showing 2 of 2). These functions will not be directly callable after loading.\n",
            "WARNING:absl:Found untraced functions such as _jit_compiled_convolution_op, _update_step_xla while saving (showing 2 of 2). These functions will not be directly callable after loading.\n",
            "WARNING:absl:Found untraced functions such as _jit_compiled_convolution_op, _update_step_xla while saving (showing 2 of 2). These functions will not be directly callable after loading.\n",
            "WARNING:absl:Found untraced functions such as _jit_compiled_convolution_op, _update_step_xla while saving (showing 2 of 2). These functions will not be directly callable after loading.\n",
            "WARNING:absl:Found untraced functions such as _jit_compiled_convolution_op, _update_step_xla while saving (showing 2 of 2). These functions will not be directly callable after loading.\n",
            "WARNING:absl:Found untraced functions such as _jit_compiled_convolution_op, _update_step_xla while saving (showing 2 of 2). These functions will not be directly callable after loading.\n",
            "WARNING:absl:Found untraced functions such as _jit_compiled_convolution_op, _update_step_xla while saving (showing 2 of 2). These functions will not be directly callable after loading.\n",
            "WARNING:absl:Found untraced functions such as _jit_compiled_convolution_op, _update_step_xla while saving (showing 2 of 2). These functions will not be directly callable after loading.\n",
            "WARNING:absl:Found untraced functions such as _jit_compiled_convolution_op, _update_step_xla while saving (showing 2 of 2). These functions will not be directly callable after loading.\n",
            "WARNING:absl:Found untraced functions such as _jit_compiled_convolution_op, _update_step_xla while saving (showing 2 of 2). These functions will not be directly callable after loading.\n",
            "WARNING:absl:Found untraced functions such as _jit_compiled_convolution_op, _update_step_xla while saving (showing 2 of 2). These functions will not be directly callable after loading.\n",
            "WARNING:absl:Found untraced functions such as _jit_compiled_convolution_op, _update_step_xla while saving (showing 2 of 2). These functions will not be directly callable after loading.\n"
          ]
        },
        {
          "output_type": "execute_result",
          "data": {
            "text/plain": [
              "<keras.callbacks.History at 0x7f4708627700>"
            ]
          },
          "metadata": {},
          "execution_count": 87
        }
      ]
    },
    {
      "cell_type": "code",
      "source": [
        "model_4_results = model_4_results.evaluate(test_windows, test_labels)"
      ],
      "metadata": {
        "id": "WhkErpjdkOwV"
      },
      "execution_count": null,
      "outputs": []
    },
    {
      "cell_type": "code",
      "source": [
        "model_4_results = evaluation_metrics(tf.squeeze(test_labels),y_pred = model_4_preds)"
      ],
      "metadata": {
        "id": "CFKRAFPxjAVe"
      },
      "execution_count": null,
      "outputs": []
    }
  ]
}
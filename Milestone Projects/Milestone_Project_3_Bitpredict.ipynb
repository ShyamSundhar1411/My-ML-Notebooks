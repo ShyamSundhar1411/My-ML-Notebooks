{
  "nbformat": 4,
  "nbformat_minor": 0,
  "metadata": {
    "colab": {
      "provenance": [],
      "toc_visible": true,
      "authorship_tag": "ABX9TyPW7fDbg1QRewHKoiYtSDgC",
      "include_colab_link": true
    },
    "kernelspec": {
      "name": "python3",
      "display_name": "Python 3"
    },
    "language_info": {
      "name": "python"
    }
  },
  "cells": [
    {
      "cell_type": "markdown",
      "metadata": {
        "id": "view-in-github",
        "colab_type": "text"
      },
      "source": [
        "<a href=\"https://colab.research.google.com/github/ShyamSundhar1411/My-ML-Notebooks/blob/master/Milestone%20Projects/Milestone_Project_3_Bitpredict.ipynb\" target=\"_parent\"><img src=\"https://colab.research.google.com/assets/colab-badge.svg\" alt=\"Open In Colab\"/></a>"
      ]
    },
    {
      "cell_type": "markdown",
      "source": [
        "## Importing Dataset"
      ],
      "metadata": {
        "id": "mcw9DM9PWcxt"
      }
    },
    {
      "cell_type": "code",
      "source": [
        "!wget https://raw.githubusercontent.com/mrdbourke/tensorflow-deep-learning/main/extras/BTC_USD_2013-10-01_2021-05-18-CoinDesk.csv"
      ],
      "metadata": {
        "colab": {
          "base_uri": "https://localhost:8080/"
        },
        "id": "HtYpZr57YCSs",
        "outputId": "db1f728d-2c23-4db3-8e16-0e67685a4c62"
      },
      "execution_count": 1,
      "outputs": [
        {
          "output_type": "stream",
          "name": "stdout",
          "text": [
            "--2023-03-26 14:49:11--  https://raw.githubusercontent.com/mrdbourke/tensorflow-deep-learning/main/extras/BTC_USD_2013-10-01_2021-05-18-CoinDesk.csv\n",
            "Resolving raw.githubusercontent.com (raw.githubusercontent.com)... 185.199.111.133, 185.199.108.133, 185.199.109.133, ...\n",
            "Connecting to raw.githubusercontent.com (raw.githubusercontent.com)|185.199.111.133|:443... connected.\n",
            "HTTP request sent, awaiting response... 200 OK\n",
            "Length: 178509 (174K) [text/plain]\n",
            "Saving to: ‘BTC_USD_2013-10-01_2021-05-18-CoinDesk.csv’\n",
            "\n",
            "\r          BTC_USD_2   0%[                    ]       0  --.-KB/s               \rBTC_USD_2013-10-01_ 100%[===================>] 174.33K  --.-KB/s    in 0.03s   \n",
            "\n",
            "2023-03-26 14:49:11 (6.38 MB/s) - ‘BTC_USD_2013-10-01_2021-05-18-CoinDesk.csv’ saved [178509/178509]\n",
            "\n"
          ]
        }
      ]
    },
    {
      "cell_type": "code",
      "source": [
        "import pandas as pd\n",
        "import tensorflow as tf\n",
        "import numpy as np"
      ],
      "metadata": {
        "id": "bsPM305UYC2c"
      },
      "execution_count": 2,
      "outputs": []
    },
    {
      "cell_type": "code",
      "source": [
        "dataset = pd.read_csv(\"/content/BTC_USD_2013-10-01_2021-05-18-CoinDesk.csv\",parse_dates = \n",
        "                      [ 'Date'],index_col = ['Date'])"
      ],
      "metadata": {
        "id": "OeT0Z9quYjow"
      },
      "execution_count": 3,
      "outputs": []
    },
    {
      "cell_type": "code",
      "source": [
        "dataset"
      ],
      "metadata": {
        "colab": {
          "base_uri": "https://localhost:8080/",
          "height": 690
        },
        "id": "JrtRAlIqYqnt",
        "outputId": "c2eb4f8b-5d9a-4c99-ecc7-cb2dbfe3045f"
      },
      "execution_count": 4,
      "outputs": [
        {
          "output_type": "execute_result",
          "data": {
            "text/plain": [
              "           Currency  Closing Price (USD)  24h Open (USD)  24h High (USD)  \\\n",
              "Date                                                                       \n",
              "2013-10-01      BTC           123.654990      124.304660      124.751660   \n",
              "2013-10-02      BTC           125.455000      123.654990      125.758500   \n",
              "2013-10-03      BTC           108.584830      125.455000      125.665660   \n",
              "2013-10-04      BTC           118.674660      108.584830      118.675000   \n",
              "2013-10-05      BTC           121.338660      118.674660      121.936330   \n",
              "...             ...                  ...             ...             ...   \n",
              "2021-05-14      BTC         49764.132082    49596.778891    51448.798576   \n",
              "2021-05-15      BTC         50032.693137    49717.354353    51578.312545   \n",
              "2021-05-16      BTC         47885.625255    49926.035067    50690.802950   \n",
              "2021-05-17      BTC         45604.615754    46805.537852    49670.414174   \n",
              "2021-05-18      BTC         43144.471291    46439.336570    46622.853437   \n",
              "\n",
              "            24h Low (USD)  \n",
              "Date                       \n",
              "2013-10-01     122.563490  \n",
              "2013-10-02     123.633830  \n",
              "2013-10-03      83.328330  \n",
              "2013-10-04     107.058160  \n",
              "2013-10-05     118.005660  \n",
              "...                   ...  \n",
              "2021-05-14   46294.720180  \n",
              "2021-05-15   48944.346536  \n",
              "2021-05-16   47005.102292  \n",
              "2021-05-17   43868.638969  \n",
              "2021-05-18   42102.346430  \n",
              "\n",
              "[2787 rows x 5 columns]"
            ],
            "text/html": [
              "\n",
              "  <div id=\"df-11d1eaa0-351b-46d0-a9a2-300111906b9d\">\n",
              "    <div class=\"colab-df-container\">\n",
              "      <div>\n",
              "<style scoped>\n",
              "    .dataframe tbody tr th:only-of-type {\n",
              "        vertical-align: middle;\n",
              "    }\n",
              "\n",
              "    .dataframe tbody tr th {\n",
              "        vertical-align: top;\n",
              "    }\n",
              "\n",
              "    .dataframe thead th {\n",
              "        text-align: right;\n",
              "    }\n",
              "</style>\n",
              "<table border=\"1\" class=\"dataframe\">\n",
              "  <thead>\n",
              "    <tr style=\"text-align: right;\">\n",
              "      <th></th>\n",
              "      <th>Currency</th>\n",
              "      <th>Closing Price (USD)</th>\n",
              "      <th>24h Open (USD)</th>\n",
              "      <th>24h High (USD)</th>\n",
              "      <th>24h Low (USD)</th>\n",
              "    </tr>\n",
              "    <tr>\n",
              "      <th>Date</th>\n",
              "      <th></th>\n",
              "      <th></th>\n",
              "      <th></th>\n",
              "      <th></th>\n",
              "      <th></th>\n",
              "    </tr>\n",
              "  </thead>\n",
              "  <tbody>\n",
              "    <tr>\n",
              "      <th>2013-10-01</th>\n",
              "      <td>BTC</td>\n",
              "      <td>123.654990</td>\n",
              "      <td>124.304660</td>\n",
              "      <td>124.751660</td>\n",
              "      <td>122.563490</td>\n",
              "    </tr>\n",
              "    <tr>\n",
              "      <th>2013-10-02</th>\n",
              "      <td>BTC</td>\n",
              "      <td>125.455000</td>\n",
              "      <td>123.654990</td>\n",
              "      <td>125.758500</td>\n",
              "      <td>123.633830</td>\n",
              "    </tr>\n",
              "    <tr>\n",
              "      <th>2013-10-03</th>\n",
              "      <td>BTC</td>\n",
              "      <td>108.584830</td>\n",
              "      <td>125.455000</td>\n",
              "      <td>125.665660</td>\n",
              "      <td>83.328330</td>\n",
              "    </tr>\n",
              "    <tr>\n",
              "      <th>2013-10-04</th>\n",
              "      <td>BTC</td>\n",
              "      <td>118.674660</td>\n",
              "      <td>108.584830</td>\n",
              "      <td>118.675000</td>\n",
              "      <td>107.058160</td>\n",
              "    </tr>\n",
              "    <tr>\n",
              "      <th>2013-10-05</th>\n",
              "      <td>BTC</td>\n",
              "      <td>121.338660</td>\n",
              "      <td>118.674660</td>\n",
              "      <td>121.936330</td>\n",
              "      <td>118.005660</td>\n",
              "    </tr>\n",
              "    <tr>\n",
              "      <th>...</th>\n",
              "      <td>...</td>\n",
              "      <td>...</td>\n",
              "      <td>...</td>\n",
              "      <td>...</td>\n",
              "      <td>...</td>\n",
              "    </tr>\n",
              "    <tr>\n",
              "      <th>2021-05-14</th>\n",
              "      <td>BTC</td>\n",
              "      <td>49764.132082</td>\n",
              "      <td>49596.778891</td>\n",
              "      <td>51448.798576</td>\n",
              "      <td>46294.720180</td>\n",
              "    </tr>\n",
              "    <tr>\n",
              "      <th>2021-05-15</th>\n",
              "      <td>BTC</td>\n",
              "      <td>50032.693137</td>\n",
              "      <td>49717.354353</td>\n",
              "      <td>51578.312545</td>\n",
              "      <td>48944.346536</td>\n",
              "    </tr>\n",
              "    <tr>\n",
              "      <th>2021-05-16</th>\n",
              "      <td>BTC</td>\n",
              "      <td>47885.625255</td>\n",
              "      <td>49926.035067</td>\n",
              "      <td>50690.802950</td>\n",
              "      <td>47005.102292</td>\n",
              "    </tr>\n",
              "    <tr>\n",
              "      <th>2021-05-17</th>\n",
              "      <td>BTC</td>\n",
              "      <td>45604.615754</td>\n",
              "      <td>46805.537852</td>\n",
              "      <td>49670.414174</td>\n",
              "      <td>43868.638969</td>\n",
              "    </tr>\n",
              "    <tr>\n",
              "      <th>2021-05-18</th>\n",
              "      <td>BTC</td>\n",
              "      <td>43144.471291</td>\n",
              "      <td>46439.336570</td>\n",
              "      <td>46622.853437</td>\n",
              "      <td>42102.346430</td>\n",
              "    </tr>\n",
              "  </tbody>\n",
              "</table>\n",
              "<p>2787 rows × 5 columns</p>\n",
              "</div>\n",
              "      <button class=\"colab-df-convert\" onclick=\"convertToInteractive('df-11d1eaa0-351b-46d0-a9a2-300111906b9d')\"\n",
              "              title=\"Convert this dataframe to an interactive table.\"\n",
              "              style=\"display:none;\">\n",
              "        \n",
              "  <svg xmlns=\"http://www.w3.org/2000/svg\" height=\"24px\"viewBox=\"0 0 24 24\"\n",
              "       width=\"24px\">\n",
              "    <path d=\"M0 0h24v24H0V0z\" fill=\"none\"/>\n",
              "    <path d=\"M18.56 5.44l.94 2.06.94-2.06 2.06-.94-2.06-.94-.94-2.06-.94 2.06-2.06.94zm-11 1L8.5 8.5l.94-2.06 2.06-.94-2.06-.94L8.5 2.5l-.94 2.06-2.06.94zm10 10l.94 2.06.94-2.06 2.06-.94-2.06-.94-.94-2.06-.94 2.06-2.06.94z\"/><path d=\"M17.41 7.96l-1.37-1.37c-.4-.4-.92-.59-1.43-.59-.52 0-1.04.2-1.43.59L10.3 9.45l-7.72 7.72c-.78.78-.78 2.05 0 2.83L4 21.41c.39.39.9.59 1.41.59.51 0 1.02-.2 1.41-.59l7.78-7.78 2.81-2.81c.8-.78.8-2.07 0-2.86zM5.41 20L4 18.59l7.72-7.72 1.47 1.35L5.41 20z\"/>\n",
              "  </svg>\n",
              "      </button>\n",
              "      \n",
              "  <style>\n",
              "    .colab-df-container {\n",
              "      display:flex;\n",
              "      flex-wrap:wrap;\n",
              "      gap: 12px;\n",
              "    }\n",
              "\n",
              "    .colab-df-convert {\n",
              "      background-color: #E8F0FE;\n",
              "      border: none;\n",
              "      border-radius: 50%;\n",
              "      cursor: pointer;\n",
              "      display: none;\n",
              "      fill: #1967D2;\n",
              "      height: 32px;\n",
              "      padding: 0 0 0 0;\n",
              "      width: 32px;\n",
              "    }\n",
              "\n",
              "    .colab-df-convert:hover {\n",
              "      background-color: #E2EBFA;\n",
              "      box-shadow: 0px 1px 2px rgba(60, 64, 67, 0.3), 0px 1px 3px 1px rgba(60, 64, 67, 0.15);\n",
              "      fill: #174EA6;\n",
              "    }\n",
              "\n",
              "    [theme=dark] .colab-df-convert {\n",
              "      background-color: #3B4455;\n",
              "      fill: #D2E3FC;\n",
              "    }\n",
              "\n",
              "    [theme=dark] .colab-df-convert:hover {\n",
              "      background-color: #434B5C;\n",
              "      box-shadow: 0px 1px 3px 1px rgba(0, 0, 0, 0.15);\n",
              "      filter: drop-shadow(0px 1px 2px rgba(0, 0, 0, 0.3));\n",
              "      fill: #FFFFFF;\n",
              "    }\n",
              "  </style>\n",
              "\n",
              "      <script>\n",
              "        const buttonEl =\n",
              "          document.querySelector('#df-11d1eaa0-351b-46d0-a9a2-300111906b9d button.colab-df-convert');\n",
              "        buttonEl.style.display =\n",
              "          google.colab.kernel.accessAllowed ? 'block' : 'none';\n",
              "\n",
              "        async function convertToInteractive(key) {\n",
              "          const element = document.querySelector('#df-11d1eaa0-351b-46d0-a9a2-300111906b9d');\n",
              "          const dataTable =\n",
              "            await google.colab.kernel.invokeFunction('convertToInteractive',\n",
              "                                                     [key], {});\n",
              "          if (!dataTable) return;\n",
              "\n",
              "          const docLinkHtml = 'Like what you see? Visit the ' +\n",
              "            '<a target=\"_blank\" href=https://colab.research.google.com/notebooks/data_table.ipynb>data table notebook</a>'\n",
              "            + ' to learn more about interactive tables.';\n",
              "          element.innerHTML = '';\n",
              "          dataTable['output_type'] = 'display_data';\n",
              "          await google.colab.output.renderOutput(dataTable, element);\n",
              "          const docLink = document.createElement('div');\n",
              "          docLink.innerHTML = docLinkHtml;\n",
              "          element.appendChild(docLink);\n",
              "        }\n",
              "      </script>\n",
              "    </div>\n",
              "  </div>\n",
              "  "
            ]
          },
          "metadata": {},
          "execution_count": 4
        }
      ]
    },
    {
      "cell_type": "code",
      "source": [
        "dataset.info()"
      ],
      "metadata": {
        "colab": {
          "base_uri": "https://localhost:8080/"
        },
        "id": "qyuBaXQ_Yrtt",
        "outputId": "cf689d53-6c6d-4fd1-a5d4-c41f753c7aa8"
      },
      "execution_count": 5,
      "outputs": [
        {
          "output_type": "stream",
          "name": "stdout",
          "text": [
            "<class 'pandas.core.frame.DataFrame'>\n",
            "DatetimeIndex: 2787 entries, 2013-10-01 to 2021-05-18\n",
            "Data columns (total 5 columns):\n",
            " #   Column               Non-Null Count  Dtype  \n",
            "---  ------               --------------  -----  \n",
            " 0   Currency             2787 non-null   object \n",
            " 1   Closing Price (USD)  2787 non-null   float64\n",
            " 2   24h Open (USD)       2787 non-null   float64\n",
            " 3   24h High (USD)       2787 non-null   float64\n",
            " 4   24h Low (USD)        2787 non-null   float64\n",
            "dtypes: float64(4), object(1)\n",
            "memory usage: 130.6+ KB\n"
          ]
        }
      ]
    },
    {
      "cell_type": "code",
      "source": [
        "dataset.tail()"
      ],
      "metadata": {
        "colab": {
          "base_uri": "https://localhost:8080/",
          "height": 385
        },
        "id": "TXV9RANdZoDI",
        "outputId": "43800262-9551-44a6-c616-b6f4ca40a3a8"
      },
      "execution_count": 6,
      "outputs": [
        {
          "output_type": "execute_result",
          "data": {
            "text/plain": [
              "           Currency  Closing Price (USD)  24h Open (USD)  24h High (USD)  \\\n",
              "Date                                                                       \n",
              "2021-05-14      BTC         49764.132082    49596.778891    51448.798576   \n",
              "2021-05-15      BTC         50032.693137    49717.354353    51578.312545   \n",
              "2021-05-16      BTC         47885.625255    49926.035067    50690.802950   \n",
              "2021-05-17      BTC         45604.615754    46805.537852    49670.414174   \n",
              "2021-05-18      BTC         43144.471291    46439.336570    46622.853437   \n",
              "\n",
              "            24h Low (USD)  \n",
              "Date                       \n",
              "2021-05-14   46294.720180  \n",
              "2021-05-15   48944.346536  \n",
              "2021-05-16   47005.102292  \n",
              "2021-05-17   43868.638969  \n",
              "2021-05-18   42102.346430  "
            ],
            "text/html": [
              "\n",
              "  <div id=\"df-96dc41ab-f084-4c88-968a-d655c68de953\">\n",
              "    <div class=\"colab-df-container\">\n",
              "      <div>\n",
              "<style scoped>\n",
              "    .dataframe tbody tr th:only-of-type {\n",
              "        vertical-align: middle;\n",
              "    }\n",
              "\n",
              "    .dataframe tbody tr th {\n",
              "        vertical-align: top;\n",
              "    }\n",
              "\n",
              "    .dataframe thead th {\n",
              "        text-align: right;\n",
              "    }\n",
              "</style>\n",
              "<table border=\"1\" class=\"dataframe\">\n",
              "  <thead>\n",
              "    <tr style=\"text-align: right;\">\n",
              "      <th></th>\n",
              "      <th>Currency</th>\n",
              "      <th>Closing Price (USD)</th>\n",
              "      <th>24h Open (USD)</th>\n",
              "      <th>24h High (USD)</th>\n",
              "      <th>24h Low (USD)</th>\n",
              "    </tr>\n",
              "    <tr>\n",
              "      <th>Date</th>\n",
              "      <th></th>\n",
              "      <th></th>\n",
              "      <th></th>\n",
              "      <th></th>\n",
              "      <th></th>\n",
              "    </tr>\n",
              "  </thead>\n",
              "  <tbody>\n",
              "    <tr>\n",
              "      <th>2021-05-14</th>\n",
              "      <td>BTC</td>\n",
              "      <td>49764.132082</td>\n",
              "      <td>49596.778891</td>\n",
              "      <td>51448.798576</td>\n",
              "      <td>46294.720180</td>\n",
              "    </tr>\n",
              "    <tr>\n",
              "      <th>2021-05-15</th>\n",
              "      <td>BTC</td>\n",
              "      <td>50032.693137</td>\n",
              "      <td>49717.354353</td>\n",
              "      <td>51578.312545</td>\n",
              "      <td>48944.346536</td>\n",
              "    </tr>\n",
              "    <tr>\n",
              "      <th>2021-05-16</th>\n",
              "      <td>BTC</td>\n",
              "      <td>47885.625255</td>\n",
              "      <td>49926.035067</td>\n",
              "      <td>50690.802950</td>\n",
              "      <td>47005.102292</td>\n",
              "    </tr>\n",
              "    <tr>\n",
              "      <th>2021-05-17</th>\n",
              "      <td>BTC</td>\n",
              "      <td>45604.615754</td>\n",
              "      <td>46805.537852</td>\n",
              "      <td>49670.414174</td>\n",
              "      <td>43868.638969</td>\n",
              "    </tr>\n",
              "    <tr>\n",
              "      <th>2021-05-18</th>\n",
              "      <td>BTC</td>\n",
              "      <td>43144.471291</td>\n",
              "      <td>46439.336570</td>\n",
              "      <td>46622.853437</td>\n",
              "      <td>42102.346430</td>\n",
              "    </tr>\n",
              "  </tbody>\n",
              "</table>\n",
              "</div>\n",
              "      <button class=\"colab-df-convert\" onclick=\"convertToInteractive('df-96dc41ab-f084-4c88-968a-d655c68de953')\"\n",
              "              title=\"Convert this dataframe to an interactive table.\"\n",
              "              style=\"display:none;\">\n",
              "        \n",
              "  <svg xmlns=\"http://www.w3.org/2000/svg\" height=\"24px\"viewBox=\"0 0 24 24\"\n",
              "       width=\"24px\">\n",
              "    <path d=\"M0 0h24v24H0V0z\" fill=\"none\"/>\n",
              "    <path d=\"M18.56 5.44l.94 2.06.94-2.06 2.06-.94-2.06-.94-.94-2.06-.94 2.06-2.06.94zm-11 1L8.5 8.5l.94-2.06 2.06-.94-2.06-.94L8.5 2.5l-.94 2.06-2.06.94zm10 10l.94 2.06.94-2.06 2.06-.94-2.06-.94-.94-2.06-.94 2.06-2.06.94z\"/><path d=\"M17.41 7.96l-1.37-1.37c-.4-.4-.92-.59-1.43-.59-.52 0-1.04.2-1.43.59L10.3 9.45l-7.72 7.72c-.78.78-.78 2.05 0 2.83L4 21.41c.39.39.9.59 1.41.59.51 0 1.02-.2 1.41-.59l7.78-7.78 2.81-2.81c.8-.78.8-2.07 0-2.86zM5.41 20L4 18.59l7.72-7.72 1.47 1.35L5.41 20z\"/>\n",
              "  </svg>\n",
              "      </button>\n",
              "      \n",
              "  <style>\n",
              "    .colab-df-container {\n",
              "      display:flex;\n",
              "      flex-wrap:wrap;\n",
              "      gap: 12px;\n",
              "    }\n",
              "\n",
              "    .colab-df-convert {\n",
              "      background-color: #E8F0FE;\n",
              "      border: none;\n",
              "      border-radius: 50%;\n",
              "      cursor: pointer;\n",
              "      display: none;\n",
              "      fill: #1967D2;\n",
              "      height: 32px;\n",
              "      padding: 0 0 0 0;\n",
              "      width: 32px;\n",
              "    }\n",
              "\n",
              "    .colab-df-convert:hover {\n",
              "      background-color: #E2EBFA;\n",
              "      box-shadow: 0px 1px 2px rgba(60, 64, 67, 0.3), 0px 1px 3px 1px rgba(60, 64, 67, 0.15);\n",
              "      fill: #174EA6;\n",
              "    }\n",
              "\n",
              "    [theme=dark] .colab-df-convert {\n",
              "      background-color: #3B4455;\n",
              "      fill: #D2E3FC;\n",
              "    }\n",
              "\n",
              "    [theme=dark] .colab-df-convert:hover {\n",
              "      background-color: #434B5C;\n",
              "      box-shadow: 0px 1px 3px 1px rgba(0, 0, 0, 0.15);\n",
              "      filter: drop-shadow(0px 1px 2px rgba(0, 0, 0, 0.3));\n",
              "      fill: #FFFFFF;\n",
              "    }\n",
              "  </style>\n",
              "\n",
              "      <script>\n",
              "        const buttonEl =\n",
              "          document.querySelector('#df-96dc41ab-f084-4c88-968a-d655c68de953 button.colab-df-convert');\n",
              "        buttonEl.style.display =\n",
              "          google.colab.kernel.accessAllowed ? 'block' : 'none';\n",
              "\n",
              "        async function convertToInteractive(key) {\n",
              "          const element = document.querySelector('#df-96dc41ab-f084-4c88-968a-d655c68de953');\n",
              "          const dataTable =\n",
              "            await google.colab.kernel.invokeFunction('convertToInteractive',\n",
              "                                                     [key], {});\n",
              "          if (!dataTable) return;\n",
              "\n",
              "          const docLinkHtml = 'Like what you see? Visit the ' +\n",
              "            '<a target=\"_blank\" href=https://colab.research.google.com/notebooks/data_table.ipynb>data table notebook</a>'\n",
              "            + ' to learn more about interactive tables.';\n",
              "          element.innerHTML = '';\n",
              "          dataTable['output_type'] = 'display_data';\n",
              "          await google.colab.output.renderOutput(dataTable, element);\n",
              "          const docLink = document.createElement('div');\n",
              "          docLink.innerHTML = docLinkHtml;\n",
              "          element.appendChild(docLink);\n",
              "        }\n",
              "      </script>\n",
              "    </div>\n",
              "  </div>\n",
              "  "
            ]
          },
          "metadata": {},
          "execution_count": 6
        }
      ]
    },
    {
      "cell_type": "code",
      "source": [
        "len(dataset)"
      ],
      "metadata": {
        "colab": {
          "base_uri": "https://localhost:8080/"
        },
        "id": "khpWWS_LZ0bu",
        "outputId": "8d0f5abb-ae28-43cd-8558-cbe766cf32bb"
      },
      "execution_count": 7,
      "outputs": [
        {
          "output_type": "execute_result",
          "data": {
            "text/plain": [
              "2787"
            ]
          },
          "metadata": {},
          "execution_count": 7
        }
      ]
    },
    {
      "cell_type": "code",
      "source": [
        "bitcoin_prices = pd.DataFrame(dataset['Closing Price (USD)']).rename(columns = {\"Closing Price (USD)\":\"Price\"})"
      ],
      "metadata": {
        "id": "XlH9RMJxZ7qH"
      },
      "execution_count": 8,
      "outputs": []
    },
    {
      "cell_type": "code",
      "source": [
        "bitcoin_prices"
      ],
      "metadata": {
        "colab": {
          "base_uri": "https://localhost:8080/",
          "height": 455
        },
        "id": "lgepkxmXb7F5",
        "outputId": "7c019d67-3144-4673-9dd9-3ac1def27add"
      },
      "execution_count": 9,
      "outputs": [
        {
          "output_type": "execute_result",
          "data": {
            "text/plain": [
              "                   Price\n",
              "Date                    \n",
              "2013-10-01    123.654990\n",
              "2013-10-02    125.455000\n",
              "2013-10-03    108.584830\n",
              "2013-10-04    118.674660\n",
              "2013-10-05    121.338660\n",
              "...                  ...\n",
              "2021-05-14  49764.132082\n",
              "2021-05-15  50032.693137\n",
              "2021-05-16  47885.625255\n",
              "2021-05-17  45604.615754\n",
              "2021-05-18  43144.471291\n",
              "\n",
              "[2787 rows x 1 columns]"
            ],
            "text/html": [
              "\n",
              "  <div id=\"df-d2869c04-b51b-43a5-a945-6b1519d1bfba\">\n",
              "    <div class=\"colab-df-container\">\n",
              "      <div>\n",
              "<style scoped>\n",
              "    .dataframe tbody tr th:only-of-type {\n",
              "        vertical-align: middle;\n",
              "    }\n",
              "\n",
              "    .dataframe tbody tr th {\n",
              "        vertical-align: top;\n",
              "    }\n",
              "\n",
              "    .dataframe thead th {\n",
              "        text-align: right;\n",
              "    }\n",
              "</style>\n",
              "<table border=\"1\" class=\"dataframe\">\n",
              "  <thead>\n",
              "    <tr style=\"text-align: right;\">\n",
              "      <th></th>\n",
              "      <th>Price</th>\n",
              "    </tr>\n",
              "    <tr>\n",
              "      <th>Date</th>\n",
              "      <th></th>\n",
              "    </tr>\n",
              "  </thead>\n",
              "  <tbody>\n",
              "    <tr>\n",
              "      <th>2013-10-01</th>\n",
              "      <td>123.654990</td>\n",
              "    </tr>\n",
              "    <tr>\n",
              "      <th>2013-10-02</th>\n",
              "      <td>125.455000</td>\n",
              "    </tr>\n",
              "    <tr>\n",
              "      <th>2013-10-03</th>\n",
              "      <td>108.584830</td>\n",
              "    </tr>\n",
              "    <tr>\n",
              "      <th>2013-10-04</th>\n",
              "      <td>118.674660</td>\n",
              "    </tr>\n",
              "    <tr>\n",
              "      <th>2013-10-05</th>\n",
              "      <td>121.338660</td>\n",
              "    </tr>\n",
              "    <tr>\n",
              "      <th>...</th>\n",
              "      <td>...</td>\n",
              "    </tr>\n",
              "    <tr>\n",
              "      <th>2021-05-14</th>\n",
              "      <td>49764.132082</td>\n",
              "    </tr>\n",
              "    <tr>\n",
              "      <th>2021-05-15</th>\n",
              "      <td>50032.693137</td>\n",
              "    </tr>\n",
              "    <tr>\n",
              "      <th>2021-05-16</th>\n",
              "      <td>47885.625255</td>\n",
              "    </tr>\n",
              "    <tr>\n",
              "      <th>2021-05-17</th>\n",
              "      <td>45604.615754</td>\n",
              "    </tr>\n",
              "    <tr>\n",
              "      <th>2021-05-18</th>\n",
              "      <td>43144.471291</td>\n",
              "    </tr>\n",
              "  </tbody>\n",
              "</table>\n",
              "<p>2787 rows × 1 columns</p>\n",
              "</div>\n",
              "      <button class=\"colab-df-convert\" onclick=\"convertToInteractive('df-d2869c04-b51b-43a5-a945-6b1519d1bfba')\"\n",
              "              title=\"Convert this dataframe to an interactive table.\"\n",
              "              style=\"display:none;\">\n",
              "        \n",
              "  <svg xmlns=\"http://www.w3.org/2000/svg\" height=\"24px\"viewBox=\"0 0 24 24\"\n",
              "       width=\"24px\">\n",
              "    <path d=\"M0 0h24v24H0V0z\" fill=\"none\"/>\n",
              "    <path d=\"M18.56 5.44l.94 2.06.94-2.06 2.06-.94-2.06-.94-.94-2.06-.94 2.06-2.06.94zm-11 1L8.5 8.5l.94-2.06 2.06-.94-2.06-.94L8.5 2.5l-.94 2.06-2.06.94zm10 10l.94 2.06.94-2.06 2.06-.94-2.06-.94-.94-2.06-.94 2.06-2.06.94z\"/><path d=\"M17.41 7.96l-1.37-1.37c-.4-.4-.92-.59-1.43-.59-.52 0-1.04.2-1.43.59L10.3 9.45l-7.72 7.72c-.78.78-.78 2.05 0 2.83L4 21.41c.39.39.9.59 1.41.59.51 0 1.02-.2 1.41-.59l7.78-7.78 2.81-2.81c.8-.78.8-2.07 0-2.86zM5.41 20L4 18.59l7.72-7.72 1.47 1.35L5.41 20z\"/>\n",
              "  </svg>\n",
              "      </button>\n",
              "      \n",
              "  <style>\n",
              "    .colab-df-container {\n",
              "      display:flex;\n",
              "      flex-wrap:wrap;\n",
              "      gap: 12px;\n",
              "    }\n",
              "\n",
              "    .colab-df-convert {\n",
              "      background-color: #E8F0FE;\n",
              "      border: none;\n",
              "      border-radius: 50%;\n",
              "      cursor: pointer;\n",
              "      display: none;\n",
              "      fill: #1967D2;\n",
              "      height: 32px;\n",
              "      padding: 0 0 0 0;\n",
              "      width: 32px;\n",
              "    }\n",
              "\n",
              "    .colab-df-convert:hover {\n",
              "      background-color: #E2EBFA;\n",
              "      box-shadow: 0px 1px 2px rgba(60, 64, 67, 0.3), 0px 1px 3px 1px rgba(60, 64, 67, 0.15);\n",
              "      fill: #174EA6;\n",
              "    }\n",
              "\n",
              "    [theme=dark] .colab-df-convert {\n",
              "      background-color: #3B4455;\n",
              "      fill: #D2E3FC;\n",
              "    }\n",
              "\n",
              "    [theme=dark] .colab-df-convert:hover {\n",
              "      background-color: #434B5C;\n",
              "      box-shadow: 0px 1px 3px 1px rgba(0, 0, 0, 0.15);\n",
              "      filter: drop-shadow(0px 1px 2px rgba(0, 0, 0, 0.3));\n",
              "      fill: #FFFFFF;\n",
              "    }\n",
              "  </style>\n",
              "\n",
              "      <script>\n",
              "        const buttonEl =\n",
              "          document.querySelector('#df-d2869c04-b51b-43a5-a945-6b1519d1bfba button.colab-df-convert');\n",
              "        buttonEl.style.display =\n",
              "          google.colab.kernel.accessAllowed ? 'block' : 'none';\n",
              "\n",
              "        async function convertToInteractive(key) {\n",
              "          const element = document.querySelector('#df-d2869c04-b51b-43a5-a945-6b1519d1bfba');\n",
              "          const dataTable =\n",
              "            await google.colab.kernel.invokeFunction('convertToInteractive',\n",
              "                                                     [key], {});\n",
              "          if (!dataTable) return;\n",
              "\n",
              "          const docLinkHtml = 'Like what you see? Visit the ' +\n",
              "            '<a target=\"_blank\" href=https://colab.research.google.com/notebooks/data_table.ipynb>data table notebook</a>'\n",
              "            + ' to learn more about interactive tables.';\n",
              "          element.innerHTML = '';\n",
              "          dataTable['output_type'] = 'display_data';\n",
              "          await google.colab.output.renderOutput(dataTable, element);\n",
              "          const docLink = document.createElement('div');\n",
              "          docLink.innerHTML = docLinkHtml;\n",
              "          element.appendChild(docLink);\n",
              "        }\n",
              "      </script>\n",
              "    </div>\n",
              "  </div>\n",
              "  "
            ]
          },
          "metadata": {},
          "execution_count": 9
        }
      ]
    },
    {
      "cell_type": "code",
      "source": [
        "import matplotlib.pyplot as plt\n",
        "bitcoin_prices.plot()\n",
        "plt.ylabel(\"BTC Price\")\n",
        "plt.title(\"1 Oct 2018 to 18 May 2021\")"
      ],
      "metadata": {
        "colab": {
          "base_uri": "https://localhost:8080/",
          "height": 312
        },
        "id": "QeWkpou-b8GU",
        "outputId": "6dadce8b-b65c-4832-9d35-c1453885e0ed"
      },
      "execution_count": 10,
      "outputs": [
        {
          "output_type": "execute_result",
          "data": {
            "text/plain": [
              "Text(0.5, 1.0, '1 Oct 2018 to 18 May 2021')"
            ]
          },
          "metadata": {},
          "execution_count": 10
        },
        {
          "output_type": "display_data",
          "data": {
            "text/plain": [
              "<Figure size 432x288 with 1 Axes>"
            ],
            "image/png": "[encoded data removed]"
          },
          "metadata": {
            "needs_background": "light"
          }
        }
      ]
    },
    {
      "cell_type": "code",
      "source": [
        "bitcoin_prices.plot()"
      ],
      "metadata": {
        "id": "AG7bTeeGcCr3",
        "colab": {
          "base_uri": "https://localhost:8080/",
          "height": 296
        },
        "outputId": "f0def758-5f00-41fa-9d66-9877eac8f49b"
      },
      "execution_count": 12,
      "outputs": [
        {
          "output_type": "execute_result",
          "data": {
            "text/plain": [
              "<Axes: xlabel='Date'>"
            ]
          },
          "metadata": {},
          "execution_count": 12
        },
        {
          "output_type": "display_data",
          "data": {
            "text/plain": [
              "<Figure size 432x288 with 1 Axes>"
            ],
            "image/png": "[encoded data removed]"
          },
          "metadata": {
            "needs_background": "light"
          }
        }
      ]
    },
    {
      "cell_type": "markdown",
      "source": [
        "### Importing with CSV Module"
      ],
      "metadata": {
        "id": "mxjTUE3gc6_n"
      }
    },
    {
      "cell_type": "code",
      "source": [
        "import csv\n",
        "from datetime import datetime\n",
        "timesteps = []\n",
        "btc_price = []\n",
        "with open (\"/content/BTC_USD_2013-10-01_2021-05-18-CoinDesk.csv\",'r') as f:\n",
        "  reader = csv.reader(f,delimiter = \",\")\n",
        "  next(reader)\n",
        "  for line in reader:\n",
        "    timesteps.append(datetime.strptime(line[1],\"%Y-%m-%d\"))\n",
        "    btc_price.append(float(line[2]))"
      ],
      "metadata": {
        "id": "EgIsqu5gc9vX"
      },
      "execution_count": 13,
      "outputs": []
    },
    {
      "cell_type": "code",
      "source": [
        "btc_price[:10]"
      ],
      "metadata": {
        "colab": {
          "base_uri": "https://localhost:8080/"
        },
        "id": "_WvmBf6bd0ju",
        "outputId": "41e5584f-cd6a-489e-f848-2b2d7e29033c"
      },
      "execution_count": 14,
      "outputs": [
        {
          "output_type": "execute_result",
          "data": {
            "text/plain": [
              "[123.65499,\n",
              " 125.455,\n",
              " 108.58483,\n",
              " 118.67466,\n",
              " 121.33866,\n",
              " 120.65533,\n",
              " 121.795,\n",
              " 123.033,\n",
              " 124.049,\n",
              " 125.96116]"
            ]
          },
          "metadata": {},
          "execution_count": 14
        }
      ]
    },
    {
      "cell_type": "code",
      "source": [
        "import matplotlib.pyplot as plt\n",
        "plt.figure(figsize = (10,7))\n",
        "plt.plot(timesteps,btc_price)"
      ],
      "metadata": {
        "colab": {
          "base_uri": "https://localhost:8080/",
          "height": 445
        },
        "id": "t_ny9D-Nd1kS",
        "outputId": "3e3bc19f-5792-4611-e5a1-445b4e345be6"
      },
      "execution_count": 15,
      "outputs": [
        {
          "output_type": "execute_result",
          "data": {
            "text/plain": [
              "[<matplotlib.lines.Line2D at 0x7fdda1c62070>]"
            ]
          },
          "metadata": {},
          "execution_count": 15
        },
        {
          "output_type": "display_data",
          "data": {
            "text/plain": [
              "<Figure size 720x504 with 1 Axes>"
            ],
            "image/png": "[encoded data removed]"
          },
          "metadata": {
            "needs_background": "light"
          }
        }
      ]
    },
    {
      "cell_type": "markdown",
      "source": [
        "### Creating train and test sets with time series data (Wrong Way)"
      ],
      "metadata": {
        "id": "3NTQIyheeWJH"
      }
    },
    {
      "cell_type": "code",
      "source": [
        "from sklearn.model_selection import train_test_split"
      ],
      "metadata": {
        "id": "2qiPc3CjevfV"
      },
      "execution_count": 16,
      "outputs": []
    },
    {
      "cell_type": "code",
      "source": [
        "timesteps = bitcoin_prices.index.to_numpy()\n",
        "prices = bitcoin_prices['Price'].to_numpy()"
      ],
      "metadata": {
        "id": "-RPJzr_7e01j"
      },
      "execution_count": 17,
      "outputs": []
    },
    {
      "cell_type": "code",
      "source": [
        "timesteps,prices"
      ],
      "metadata": {
        "colab": {
          "base_uri": "https://localhost:8080/"
        },
        "id": "L-2u94aYexS8",
        "outputId": "0c416dd4-a233-4abb-934c-04e69a656d71"
      },
      "execution_count": 18,
      "outputs": [
        {
          "output_type": "execute_result",
          "data": {
            "text/plain": [
              "(array(['2013-10-01T00:00:00.000000000', '2013-10-02T00:00:00.000000000',\n",
              "        '2013-10-03T00:00:00.000000000', ...,\n",
              "        '2021-05-16T00:00:00.000000000', '2021-05-17T00:00:00.000000000',\n",
              "        '2021-05-18T00:00:00.000000000'], dtype='datetime64[ns]'),\n",
              " array([  123.65499   ,   125.455     ,   108.58483   , ...,\n",
              "        47885.62525472, 45604.61575361, 43144.47129086]))"
            ]
          },
          "metadata": {},
          "execution_count": 18
        }
      ]
    },
    {
      "cell_type": "code",
      "source": [
        "x_train,x_test,y_train,y_test = train_test_split(timesteps,prices,test_size = 0.2)"
      ],
      "metadata": {
        "id": "T2uawbw3e4j9"
      },
      "execution_count": 19,
      "outputs": []
    },
    {
      "cell_type": "code",
      "source": [
        "plt.figure(figsize = (10,7))\n",
        "plt.scatter(x_train,y_train,s = 5,label = \"Train\")\n",
        "plt.scatter(x_test,y_test,s = 5,label = \"Test\")\n",
        "plt.legend(fontsize = 14)"
      ],
      "metadata": {
        "colab": {
          "base_uri": "https://localhost:8080/",
          "height": 445
        },
        "id": "-bDAkAKlfSMZ",
        "outputId": "3ac15f3c-4a3a-4e44-d69d-08f41416595b"
      },
      "execution_count": 20,
      "outputs": [
        {
          "output_type": "execute_result",
          "data": {
            "text/plain": [
              "<matplotlib.legend.Legend at 0x7fdd9f85e5e0>"
            ]
          },
          "metadata": {},
          "execution_count": 20
        },
        {
          "output_type": "display_data",
          "data": {
            "text/plain": [
              "<Figure size 720x504 with 1 Axes>"
            ],
            "image/png": "[encoded data removed]"
          },
          "metadata": {
            "needs_background": "light"
          }
        }
      ]
    },
    {
      "cell_type": "markdown",
      "source": [
        "### Creating splits for time series (right way)"
      ],
      "metadata": {
        "id": "jSnj8zZYfz3E"
      }
    },
    {
      "cell_type": "code",
      "source": [
        "split_size = int(0.8*len(prices))\n",
        "x_train,y_train = timesteps[:split_size],prices[:split_size]\n",
        "x_test,y_test  = timesteps[split_size:],prices[split_size:]"
      ],
      "metadata": {
        "id": "YfwJ_7zNhLYb"
      },
      "execution_count": 21,
      "outputs": []
    },
    {
      "cell_type": "code",
      "source": [
        "len(x_train),len(x_test)"
      ],
      "metadata": {
        "colab": {
          "base_uri": "https://localhost:8080/"
        },
        "id": "mOqbvowLhM5z",
        "outputId": "da78d91c-bc97-4149-a775-15a9228667d5"
      },
      "execution_count": 22,
      "outputs": [
        {
          "output_type": "execute_result",
          "data": {
            "text/plain": [
              "(2229, 558)"
            ]
          },
          "metadata": {},
          "execution_count": 22
        }
      ]
    },
    {
      "cell_type": "code",
      "source": [
        "plt.figure(figsize = (10,7))\n",
        "plt.scatter(x_train,y_train,s = 5,label = \"Train\")\n",
        "plt.scatter(x_test,y_test,s = 5,label = \"Test\")\n",
        "plt.legend(fontsize = 14)"
      ],
      "metadata": {
        "colab": {
          "base_uri": "https://localhost:8080/",
          "height": 445
        },
        "id": "7faHqBTGhdAK",
        "outputId": "a1a20a43-ecf7-4206-a1ec-297eb8665f85"
      },
      "execution_count": 23,
      "outputs": [
        {
          "output_type": "execute_result",
          "data": {
            "text/plain": [
              "<matplotlib.legend.Legend at 0x7fdd9f75daf0>"
            ]
          },
          "metadata": {},
          "execution_count": 23
        },
        {
          "output_type": "display_data",
          "data": {
            "text/plain": [
              "<Figure size 720x504 with 1 Axes>"
            ],
            "image/png": "[encoded data removed]"
          },
          "metadata": {
            "needs_background": "light"
          }
        }
      ]
    },
    {
      "cell_type": "markdown",
      "source": [
        "### Creating plot functions"
      ],
      "metadata": {
        "id": "eM-AdrsJhhau"
      }
    },
    {
      "cell_type": "code",
      "source": [
        "def plot_time_series(timesteps, values, format='.', start=0, end=None, label=None):\n",
        "  \"\"\"\n",
        "  Plots a timesteps (a series of points in time) against values (a series of values across timesteps).\n",
        "  \n",
        "  Parameters\n",
        "  ---------\n",
        "  timesteps : array of timesteps\n",
        "  values : array of values across time\n",
        "  format : style of plot, default \".\"\n",
        "  start : where to start the plot (setting a value will index from start of timesteps & values)\n",
        "  end : where to end the plot (setting a value will index from end of timesteps & values)\n",
        "  label : label to show on plot of values\n",
        "  \"\"\"\n",
        "  # Plot the series\n",
        "  plt.plot(timesteps[start:end], values[start:end], format, label=label)\n",
        "  plt.xlabel(\"Time\")\n",
        "  plt.ylabel(\"BTC Price\")\n",
        "  if label:\n",
        "    plt.legend(fontsize=14) # make label bigger\n",
        "  plt.grid(True)"
      ],
      "metadata": {
        "id": "M8V4A2Xdh-Jk"
      },
      "execution_count": 24,
      "outputs": []
    },
    {
      "cell_type": "markdown",
      "source": [
        "## Model 0 - Naive Baselline"
      ],
      "metadata": {
        "id": "HYOjp15vio8g"
      }
    },
    {
      "cell_type": "code",
      "source": [
        "naive_forecast = y_test[:-1]"
      ],
      "metadata": {
        "id": "SWsSaia_jnN_"
      },
      "execution_count": 35,
      "outputs": []
    },
    {
      "cell_type": "code",
      "source": [
        "naive_forecast[-10:]"
      ],
      "metadata": {
        "colab": {
          "base_uri": "https://localhost:8080/"
        },
        "id": "DdF84H06kqf5",
        "outputId": "18ab1455-f59d-4ab6-f53e-dae442734fd8"
      },
      "execution_count": 28,
      "outputs": [
        {
          "output_type": "execute_result",
          "data": {
            "text/plain": [
              "array([57107.12067189, 58788.20967893, 58102.19142623, 55715.54665129,\n",
              "       56573.5554719 , 52147.82118698, 49764.1320816 , 50032.69313676,\n",
              "       47885.62525472, 45604.61575361])"
            ]
          },
          "metadata": {},
          "execution_count": 28
        }
      ]
    },
    {
      "cell_type": "code",
      "source": [
        "y_test[-10:]"
      ],
      "metadata": {
        "colab": {
          "base_uri": "https://localhost:8080/"
        },
        "id": "SsmF4NXlkj2Z",
        "outputId": "73a2ccc6-063b-4d4e-d07e-5c31911b2588"
      },
      "execution_count": 29,
      "outputs": [
        {
          "output_type": "execute_result",
          "data": {
            "text/plain": [
              "array([58788.20967893, 58102.19142623, 55715.54665129, 56573.5554719 ,\n",
              "       52147.82118698, 49764.1320816 , 50032.69313676, 47885.62525472,\n",
              "       45604.61575361, 43144.47129086])"
            ]
          },
          "metadata": {},
          "execution_count": 29
        }
      ]
    },
    {
      "cell_type": "code",
      "source": [
        "plt.figure(figsize=(10, 7))\n",
        "offset = 300 # offset the values by 300 timesteps \n",
        "plot_time_series(timesteps=x_test, values=y_test, start=offset, label=\"Test data\")\n",
        "plot_time_series(timesteps=x_test[1:], values=naive_forecast, format=\"-\", start=offset, label=\"Naive Forecast\")"
      ],
      "metadata": {
        "colab": {
          "base_uri": "https://localhost:8080/",
          "height": 442
        },
        "id": "g6U3-bJ_kn6R",
        "outputId": "da64d8df-294d-4619-a575-85222f83c291"
      },
      "execution_count": 30,
      "outputs": [
        {
          "output_type": "display_data",
          "data": {
            "text/plain": [
              "<Figure size 720x504 with 1 Axes>"
            ],
            "image/png": "[encoded data removed]"
          },
          "metadata": {
            "needs_background": "light"
          }
        }
      ]
    },
    {
      "cell_type": "code",
      "source": [
        "import tensorflow as tf"
      ],
      "metadata": {
        "id": "Fz9vcGBhlPCq"
      },
      "execution_count": 31,
      "outputs": []
    },
    {
      "cell_type": "code",
      "source": [
        "# MASE Implementation\n",
        "def mean_absolute_scaled_error(y_true,y_pred):\n",
        "  mae = tf.reduce_mean(tf.abs(y_true-y_pred))\n",
        "\n",
        "  mae_naive_no_season = tf.reduce_mean(tf.abs(y_true[1:]-y_true[:-1]))\n",
        "\n",
        "  return mae/mae_naive_no_season"
      ],
      "metadata": {
        "id": "qViijWW2Zg48"
      },
      "execution_count": 32,
      "outputs": []
    },
    {
      "cell_type": "code",
      "source": [
        "mean_absolute_scaled_error(y_true = y_test[1:],y_pred = naive_forecast).numpy()"
      ],
      "metadata": {
        "colab": {
          "base_uri": "https://localhost:8080/"
        },
        "id": "Ojx8PkL_ZjAi",
        "outputId": "357e6331-947c-483d-fcdd-c994bffc942e"
      },
      "execution_count": 36,
      "outputs": [
        {
          "output_type": "execute_result",
          "data": {
            "text/plain": [
              "0.9995699939182624"
            ]
          },
          "metadata": {},
          "execution_count": 36
        }
      ]
    },
    {
      "cell_type": "code",
      "source": [
        "def evaluation_metrics(y_pred,y_true):\n",
        "  y_true = tf.cast(y_true,dtype = tf.float32)\n",
        "  y_pred = tf.cast(y_pred,dtype = tf.float32)\n",
        "\n",
        "  mae = tf.keras.metrics.mean_absolute_error(y_true,y_pred)\n",
        "  mse = tf.keras.metrics.mean_squared_error(y_true,y_pred)\n",
        "  rmse = tf.sqrt(mse)\n",
        "  mape = tf.keras.metrics.mean_absolute_percentage_error(y_true,y_pred)\n",
        "  mase = mean_absolute_scaled_error(y_true,y_pred)\n",
        "  return {\"mae\":mae.numpy(),\"mse\":mse.numpy(),\"rmse\":rmse.numpy(),\"mape\":mape.numpy(),\"mase\":mase.numpy()}\n"
      ],
      "metadata": {
        "id": "EDcdZLyjdDjk"
      },
      "execution_count": 43,
      "outputs": []
    },
    {
      "cell_type": "code",
      "source": [
        "naive_results = evaluation_metrics(y_test[1:],naive_forecast)"
      ],
      "metadata": {
        "id": "LYfvRwRDexsm"
      },
      "execution_count": 44,
      "outputs": []
    },
    {
      "cell_type": "code",
      "source": [
        "naive_results"
      ],
      "metadata": {
        "colab": {
          "base_uri": "https://localhost:8080/"
        },
        "id": "DLe2rOr2fGDY",
        "outputId": "fb522bcf-1edf-47c9-f2db-a549fe01972f"
      },
      "execution_count": 45,
      "outputs": [
        {
          "output_type": "execute_result",
          "data": {
            "text/plain": [
              "{'mae': 567.9802,\n",
              " 'mse': 1147547.0,\n",
              " 'rmse': 1071.2362,\n",
              " 'mape': 2.527042,\n",
              " 'mase': 1.0060278}"
            ]
          },
          "metadata": {},
          "execution_count": 45
        }
      ]
    },
    {
      "cell_type": "code",
      "source": [
        "tf.reduce_mean(y_test)"
      ],
      "metadata": {
        "colab": {
          "base_uri": "https://localhost:8080/"
        },
        "id": "hDY0YiDVfU8J",
        "outputId": "af9fb4d2-c940-4e13-bbaf-db58fbffbfba"
      },
      "execution_count": 46,
      "outputs": [
        {
          "output_type": "execute_result",
          "data": {
            "text/plain": [
              "<tf.Tensor: shape=(), dtype=float64, numpy=20056.632963737226>"
            ]
          },
          "metadata": {},
          "execution_count": 46
        }
      ]
    },
    {
      "cell_type": "code",
      "source": [
        "tf.reduce_min(y_test)"
      ],
      "metadata": {
        "colab": {
          "base_uri": "https://localhost:8080/"
        },
        "id": "tTfB0r4qfmLY",
        "outputId": "52ce7655-35e8-406a-d9f2-5173b1754e73"
      },
      "execution_count": 47,
      "outputs": [
        {
          "output_type": "execute_result",
          "data": {
            "text/plain": [
              "<tf.Tensor: shape=(), dtype=float64, numpy=4944.7023359837>"
            ]
          },
          "metadata": {},
          "execution_count": 47
        }
      ]
    },
    {
      "cell_type": "markdown",
      "source": [
        "## Windowing dataset"
      ],
      "metadata": {
        "id": "BLU2jOQbfoJS"
      }
    },
    {
      "cell_type": "code",
      "source": [
        "HORIZON = 1 #Predict 1 Day\n",
        "WINDOW = 7 #Use past week of Bitcoin data to one predictor\n"
      ],
      "metadata": {
        "id": "VyQkn4-VgrGA"
      },
      "execution_count": 48,
      "outputs": []
    },
    {
      "cell_type": "code",
      "source": [
        "def get_labelled_window(x,horizon = HORIZON):\n",
        "  '''\n",
        "    Create Labels for windowed dataset.\n",
        "    E.g. If Horizon = 1\n",
        "    Input: [0,1,2,3,4,5,6,7] -> Output: ([0,1,2,3,4,5,6] -> [7]) Window Size = 7\n",
        "  '''\n",
        "  return x[:,:-horizon],x[:,-horizon:]"
      ],
      "metadata": {
        "id": "3z4hDT8Ahd-G"
      },
      "execution_count": 53,
      "outputs": []
    },
    {
      "cell_type": "code",
      "source": [
        "test_window,test_label = get_labelled_window(tf.expand_dims(tf.range(8)+1,axis = 0))"
      ],
      "metadata": {
        "id": "zJVmZcbqiL41"
      },
      "execution_count": 55,
      "outputs": []
    },
    {
      "cell_type": "code",
      "source": [
        "tf.expand_dims(tf.range(8)+1,axis = 0)"
      ],
      "metadata": {
        "colab": {
          "base_uri": "https://localhost:8080/"
        },
        "id": "xw3uqY6nicV4",
        "outputId": "52876708-23ec-4a42-a092-af0ed29f3ee9"
      },
      "execution_count": 57,
      "outputs": [
        {
          "output_type": "execute_result",
          "data": {
            "text/plain": [
              "<tf.Tensor: shape=(1, 8), dtype=int32, numpy=array([[1, 2, 3, 4, 5, 6, 7, 8]], dtype=int32)>"
            ]
          },
          "metadata": {},
          "execution_count": 57
        }
      ]
    },
    {
      "cell_type": "code",
      "source": [
        "print(\"Window : {x} -> Label: {y}\".format(x = tf.squeeze(test_window).numpy(),y = tf.squeeze(test_label).numpy()))"
      ],
      "metadata": {
        "colab": {
          "base_uri": "https://localhost:8080/"
        },
        "id": "pXn61SALiiaC",
        "outputId": "13e19a68-1efc-4950-c8a1-08be00fad58a"
      },
      "execution_count": 59,
      "outputs": [
        {
          "output_type": "stream",
          "name": "stdout",
          "text": [
            "Window : [1 2 3 4 5 6 7] -> Label: 8\n"
          ]
        }
      ]
    },
    {
      "cell_type": "markdown",
      "source": [
        "## Preprocessing Functions for Windowed Data"
      ],
      "metadata": {
        "id": "Bbci5gDFizI6"
      }
    },
    {
      "cell_type": "code",
      "source": [
        "import numpy as np"
      ],
      "metadata": {
        "id": "oR-b95KipgIX"
      },
      "execution_count": 60,
      "outputs": []
    },
    {
      "cell_type": "code",
      "source": [
        "def make_windows(x,window_size =  WINDOW,horizon = HORIZON):\n",
        "  window_step = np.expand_dims(np.arange(window_size+horizon),axis = 0)\n",
        "  window_indexes = window_step+np.expand_dims(np.arange(len(x)-(window_size+horizon-1)),axis = 0).T\n",
        "  windowed_array = x[window_indexes]\n",
        "  \n",
        "  windows,labels = get_labelled_window(windowed_array,horizon = HORIZON)\n",
        "  return windows,labels"
      ],
      "metadata": {
        "id": "T0gHAySRotkY"
      },
      "execution_count": 66,
      "outputs": []
    },
    {
      "cell_type": "code",
      "source": [
        "full_windows,full_labels = make_windows(prices,window_size = WINDOW,horizon = HORIZON)"
      ],
      "metadata": {
        "id": "ZreyNivFpysQ"
      },
      "execution_count": 67,
      "outputs": []
    },
    {
      "cell_type": "code",
      "source": [
        "for i in range(3):\n",
        "  print(full_windows[i],\"->\",full_labels[i])"
      ],
      "metadata": {
        "colab": {
          "base_uri": "https://localhost:8080/"
        },
        "id": "ioqZGln1qjGJ",
        "outputId": "5f45389a-ae42-41e2-e69a-44e59b6cd4e8"
      },
      "execution_count": 69,
      "outputs": [
        {
          "output_type": "stream",
          "name": "stdout",
          "text": [
            "[123.65499 125.455   108.58483 118.67466 121.33866 120.65533 121.795  ] -> [123.033]\n",
            "[125.455   108.58483 118.67466 121.33866 120.65533 121.795   123.033  ] -> [124.049]\n",
            "[108.58483 118.67466 121.33866 120.65533 121.795   123.033   124.049  ] -> [125.96116]\n"
          ]
        }
      ]
    },
    {
      "cell_type": "markdown",
      "source": [
        "## Turning windows into Training and Test Sets"
      ],
      "metadata": {
        "id": "g4cf_6Z7qkOV"
      }
    },
    {
      "cell_type": "code",
      "source": [
        "def make_train_test_splits(windows,labels,test_split = 0.2):\n",
        "  split_size = int(len(windows)*(1-test_split))\n",
        "  train_windows = windows[:split_size]\n",
        "  train_labels = labels[:split_size]\n",
        "  test_windows = windows[split_size:]\n",
        "  test_labels = labels[split_size:]\n",
        "  return train_windows,test_windows,train_labels,test_labels"
      ],
      "metadata": {
        "id": "JDQzebqjwwOi"
      },
      "execution_count": 70,
      "outputs": []
    },
    {
      "cell_type": "code",
      "source": [
        "train_windows,test_windows,train_labels,test_labels = make_train_test_splits(full_windows,full_labels)t"
      ],
      "metadata": {
        "id": "vsBgfp8rxNFm"
      },
      "execution_count": 71,
      "outputs": []
    },
    {
      "cell_type": "markdown",
      "source": [
        "## Making modelling checkpoint"
      ],
      "metadata": {
        "id": "H80RQYBNxW2o"
      }
    },
    {
      "cell_type": "code",
      "source": [
        "import os\n",
        "def create_model_checkpoint(model_name,save_path = \"model_experiments\"):\n",
        "  return tf.keras.callbacks.ModelCheckpoint(filepath = os.path.join(save_path,model_name),verbose=0,save_best_only = True)"
      ],
      "metadata": {
        "id": "LYr3H06yxi9o"
      },
      "execution_count": 81,
      "outputs": []
    },
    {
      "cell_type": "markdown",
      "source": [
        "## Model 1 - Dense Model"
      ],
      "metadata": {
        "id": "o424N7NNxyKP"
      }
    },
    {
      "cell_type": "code",
      "source": [
        "import tensorflow as tf\n",
        "from tensorflow.keras import layers\n",
        "tf.random.set_seed(42)"
      ],
      "metadata": {
        "id": "iC4WpK_myDCx"
      },
      "execution_count": 75,
      "outputs": []
    },
    {
      "cell_type": "code",
      "source": [
        "model_1 = tf.keras.Sequential([\n",
        "    layers.Dense(128,activation = \"relu\"),\n",
        "    layers.Dense(HORIZON,activation = \"linear\")\n",
        "],name = \"model_1_dense\")\n",
        "\n",
        "model_1.compile(loss = \"mae\",metrics = [\"mae\"],optimizer = \"adam\")"
      ],
      "metadata": {
        "id": "Ho6sH-0byHhJ"
      },
      "execution_count": 76,
      "outputs": []
    },
    {
      "cell_type": "code",
      "source": [
        "history_1 = model_1.fit(\n",
        "    train_windows,\n",
        "    train_labels,\n",
        "    epochs = 100,\n",
        "    verbose = 1,\n",
        "    batch_size = 128,\n",
        "    validation_data = (test_windows,test_labels),\n",
        "    callbacks = [create_model_checkpoint(model_name = model_1.name)]\n",
        ")"
      ],
      "metadata": {
        "id": "f9G-mSIMynOu",
        "outputId": "d494ddf1-5423-4503-bbac-659ae0cfbde8",
        "colab": {
          "base_uri": "https://localhost:8080/"
        }
      },
      "execution_count": 82,
      "outputs": [
        {
          "output_type": "stream",
          "name": "stdout",
          "text": [
            "Epoch 1/100\n",
            " 1/18 [>.............................] - ETA: 0s - loss: 121.1727 - mae: 121.1727"
          ]
        },
        {
          "output_type": "stream",
          "name": "stderr",
          "text": [
            "WARNING:absl:Found untraced functions such as _update_step_xla while saving (showing 1 of 1). These functions will not be directly callable after loading.\n"
          ]
        },
        {
          "output_type": "stream",
          "name": "stdout",
          "text": [
            "\b\b\b\b\b\b\b\b\b\b\b\b\b\b\b\b\b\b\b\b\b\b\b\b\b\b\b\b\b\b\b\b\b\b\b\b\b\b\b\b\b\b\b\b\b\b\b\b\b\b\b\b\b\b\b\b\b\b\b\b\b\b\b\b\b\b\b\b\b\b\b\b\b\b\b\b\b\b\b\b\b\r18/18 [==============================] - 1s 46ms/step - loss: 112.8989 - mae: 112.8989 - val_loss: 569.6254 - val_mae: 569.6254\n",
            "Epoch 2/100\n",
            "18/18 [==============================] - 0s 4ms/step - loss: 108.6099 - mae: 108.6099 - val_loss: 589.1101 - val_mae: 589.1101\n",
            "Epoch 3/100\n",
            "18/18 [==============================] - 0s 4ms/step - loss: 109.7453 - mae: 109.7453 - val_loss: 576.8027 - val_mae: 576.8027\n",
            "Epoch 4/100\n",
            "18/18 [==============================] - 0s 4ms/step - loss: 109.8995 - mae: 109.8995 - val_loss: 574.7753 - val_mae: 574.7753\n",
            "Epoch 5/100\n",
            "18/18 [==============================] - 0s 3ms/step - loss: 106.5269 - mae: 106.5269 - val_loss: 576.0266 - val_mae: 576.0266\n",
            "Epoch 6/100\n",
            "18/18 [==============================] - 0s 3ms/step - loss: 106.0377 - mae: 106.0377 - val_loss: 573.4740 - val_mae: 573.4740\n",
            "Epoch 7/100\n",
            "18/18 [==============================] - 0s 3ms/step - loss: 105.0579 - mae: 105.0579 - val_loss: 608.0176 - val_mae: 608.0176\n",
            "Epoch 8/100\n",
            "18/18 [==============================] - 0s 3ms/step - loss: 107.0992 - mae: 107.0992 - val_loss: 576.4097 - val_mae: 576.4097\n",
            "Epoch 9/100\n",
            " 1/18 [>.............................] - ETA: 0s - loss: 107.8910 - mae: 107.8910"
          ]
        },
        {
          "output_type": "stream",
          "name": "stderr",
          "text": [
            "WARNING:absl:Found untraced functions such as _update_step_xla while saving (showing 1 of 1). These functions will not be directly callable after loading.\n"
          ]
        },
        {
          "output_type": "stream",
          "name": "stdout",
          "text": [
            "\b\b\b\b\b\b\b\b\b\b\b\b\b\b\b\b\b\b\b\b\b\b\b\b\b\b\b\b\b\b\b\b\b\b\b\b\b\b\b\b\b\b\b\b\b\b\b\b\b\b\b\b\b\b\b\b\b\b\b\b\b\b\b\b\b\b\b\b\b\b\b\b\b\b\b\b\b\b\b\b\b\r18/18 [==============================] - 0s 28ms/step - loss: 107.6408 - mae: 107.6408 - val_loss: 567.0719 - val_mae: 567.0719\n",
            "Epoch 10/100\n",
            "18/18 [==============================] - 0s 3ms/step - loss: 110.4572 - mae: 110.4572 - val_loss: 585.3452 - val_mae: 585.3452\n",
            "Epoch 11/100\n",
            "18/18 [==============================] - 0s 3ms/step - loss: 108.6270 - mae: 108.6270 - val_loss: 625.0092 - val_mae: 625.0092\n",
            "Epoch 12/100\n",
            "18/18 [==============================] - 0s 4ms/step - loss: 112.6504 - mae: 112.6504 - val_loss: 625.9105 - val_mae: 625.9105\n",
            "Epoch 13/100\n",
            "18/18 [==============================] - 0s 4ms/step - loss: 118.5333 - mae: 118.5333 - val_loss: 615.8691 - val_mae: 615.8691\n",
            "Epoch 14/100\n",
            "18/18 [==============================] - 0s 3ms/step - loss: 115.9741 - mae: 115.9741 - val_loss: 607.1719 - val_mae: 607.1719\n",
            "Epoch 15/100\n",
            "18/18 [==============================] - 0s 4ms/step - loss: 108.4725 - mae: 108.4725 - val_loss: 569.0176 - val_mae: 569.0176\n",
            "Epoch 16/100\n",
            " 1/18 [>.............................] - ETA: 0s - loss: 93.0241 - mae: 93.0241"
          ]
        },
        {
          "output_type": "stream",
          "name": "stderr",
          "text": [
            "WARNING:absl:Found untraced functions such as _update_step_xla while saving (showing 1 of 1). These functions will not be directly callable after loading.\n"
          ]
        },
        {
          "output_type": "stream",
          "name": "stdout",
          "text": [
            "\b\b\b\b\b\b\b\b\b\b\b\b\b\b\b\b\b\b\b\b\b\b\b\b\b\b\b\b\b\b\b\b\b\b\b\b\b\b\b\b\b\b\b\b\b\b\b\b\b\b\b\b\b\b\b\b\b\b\b\b\b\b\b\b\b\b\b\b\b\b\b\b\b\b\b\b\b\b\b\r18/18 [==============================] - 0s 28ms/step - loss: 105.4755 - mae: 105.4755 - val_loss: 566.8364 - val_mae: 566.8364\n",
            "Epoch 17/100\n",
            "18/18 [==============================] - 0s 3ms/step - loss: 105.0597 - mae: 105.0597 - val_loss: 583.8495 - val_mae: 583.8495\n",
            "Epoch 18/100\n",
            "18/18 [==============================] - 0s 3ms/step - loss: 106.3648 - mae: 106.3648 - val_loss: 572.0922 - val_mae: 572.0922\n",
            "Epoch 19/100\n",
            "18/18 [==============================] - 0s 3ms/step - loss: 108.8075 - mae: 108.8075 - val_loss: 683.9072 - val_mae: 683.9072\n",
            "Epoch 20/100\n",
            "18/18 [==============================] - 0s 4ms/step - loss: 108.3095 - mae: 108.3095 - val_loss: 568.1822 - val_mae: 568.1822\n",
            "Epoch 21/100\n",
            "18/18 [==============================] - 0s 4ms/step - loss: 106.4364 - mae: 106.4364 - val_loss: 588.7002 - val_mae: 588.7002\n",
            "Epoch 22/100\n",
            " 1/18 [>.............................] - ETA: 0s - loss: 152.8972 - mae: 152.8972"
          ]
        },
        {
          "output_type": "stream",
          "name": "stderr",
          "text": [
            "WARNING:absl:Found untraced functions such as _update_step_xla while saving (showing 1 of 1). These functions will not be directly callable after loading.\n"
          ]
        },
        {
          "output_type": "stream",
          "name": "stdout",
          "text": [
            "\b\b\b\b\b\b\b\b\b\b\b\b\b\b\b\b\b\b\b\b\b\b\b\b\b\b\b\b\b\b\b\b\b\b\b\b\b\b\b\b\b\b\b\b\b\b\b\b\b\b\b\b\b\b\b\b\b\b\b\b\b\b\b\b\b\b\b\b\b\b\b\b\b\b\b\b\b\b\b\b\b\r18/18 [==============================] - 0s 27ms/step - loss: 107.9947 - mae: 107.9947 - val_loss: 566.8206 - val_mae: 566.8206\n",
            "Epoch 23/100\n",
            "18/18 [==============================] - 0s 3ms/step - loss: 105.9813 - mae: 105.9813 - val_loss: 567.2925 - val_mae: 567.2925\n",
            "Epoch 24/100\n",
            "18/18 [==============================] - 0s 4ms/step - loss: 105.2716 - mae: 105.2716 - val_loss: 567.6715 - val_mae: 567.6715\n",
            "Epoch 25/100\n",
            " 1/18 [>.............................] - ETA: 0s - loss: 113.3586 - mae: 113.3586"
          ]
        },
        {
          "output_type": "stream",
          "name": "stderr",
          "text": [
            "WARNING:absl:Found untraced functions such as _update_step_xla while saving (showing 1 of 1). These functions will not be directly callable after loading.\n"
          ]
        },
        {
          "output_type": "stream",
          "name": "stdout",
          "text": [
            "\b\b\b\b\b\b\b\b\b\b\b\b\b\b\b\b\b\b\b\b\b\b\b\b\b\b\b\b\b\b\b\b\b\b\b\b\b\b\b\b\b\b\b\b\b\b\b\b\b\b\b\b\b\b\b\b\b\b\b\b\b\b\b\b\b\b\b\b\b\b\b\b\b\b\b\b\b\b\b\b\b\r18/18 [==============================] - 1s 30ms/step - loss: 105.0493 - mae: 105.0493 - val_loss: 566.7610 - val_mae: 566.7610\n",
            "Epoch 26/100\n",
            "18/18 [==============================] - 0s 4ms/step - loss: 105.2666 - mae: 105.2666 - val_loss: 570.5366 - val_mae: 570.5366\n",
            "Epoch 27/100\n",
            "18/18 [==============================] - 0s 5ms/step - loss: 105.2957 - mae: 105.2957 - val_loss: 572.1630 - val_mae: 572.1630\n",
            "Epoch 28/100\n",
            "18/18 [==============================] - 0s 4ms/step - loss: 104.9762 - mae: 104.9762 - val_loss: 568.6022 - val_mae: 568.6022\n",
            "Epoch 29/100\n",
            "18/18 [==============================] - 0s 5ms/step - loss: 105.4578 - mae: 105.4578 - val_loss: 568.0245 - val_mae: 568.0245\n",
            "Epoch 30/100\n",
            "18/18 [==============================] - 0s 5ms/step - loss: 108.6667 - mae: 108.6667 - val_loss: 568.8176 - val_mae: 568.8176\n",
            "Epoch 31/100\n",
            "18/18 [==============================] - 0s 4ms/step - loss: 105.0699 - mae: 105.0699 - val_loss: 648.2152 - val_mae: 648.2152\n",
            "Epoch 32/100\n",
            "18/18 [==============================] - 0s 5ms/step - loss: 107.8009 - mae: 107.8009 - val_loss: 576.4616 - val_mae: 576.4616\n",
            "Epoch 33/100\n",
            "18/18 [==============================] - 0s 5ms/step - loss: 105.6274 - mae: 105.6274 - val_loss: 567.2854 - val_mae: 567.2854\n",
            "Epoch 34/100\n",
            "18/18 [==============================] - 0s 5ms/step - loss: 105.7421 - mae: 105.7421 - val_loss: 568.5657 - val_mae: 568.5657\n",
            "Epoch 35/100\n",
            "18/18 [==============================] - 0s 6ms/step - loss: 105.5575 - mae: 105.5575 - val_loss: 580.4128 - val_mae: 580.4128\n",
            "Epoch 36/100\n",
            "18/18 [==============================] - 0s 6ms/step - loss: 117.4235 - mae: 117.4235 - val_loss: 733.7018 - val_mae: 733.7018\n",
            "Epoch 37/100\n",
            " 1/18 [>.............................] - ETA: 0s - loss: 149.3451 - mae: 149.3451"
          ]
        },
        {
          "output_type": "stream",
          "name": "stderr",
          "text": [
            "WARNING:absl:Found untraced functions such as _update_step_xla while saving (showing 1 of 1). These functions will not be directly callable after loading.\n"
          ]
        },
        {
          "output_type": "stream",
          "name": "stdout",
          "text": [
            "\b\b\b\b\b\b\b\b\b\b\b\b\b\b\b\b\b\b\b\b\b\b\b\b\b\b\b\b\b\b\b\b\b\b\b\b\b\b\b\b\b\b\b\b\b\b\b\b\b\b\b\b\b\b\b\b\b\b\b\b\b\b\b\b\b\b\b\b\b\b\b\b\b\b\b\b\b\b\b\b\b\r18/18 [==============================] - 1s 36ms/step - loss: 110.7220 - mae: 110.7220 - val_loss: 565.0109 - val_mae: 565.0109\n",
            "Epoch 38/100\n",
            "18/18 [==============================] - 0s 3ms/step - loss: 107.7625 - mae: 107.7625 - val_loss: 574.2205 - val_mae: 574.2205\n",
            "Epoch 39/100\n",
            "18/18 [==============================] - 0s 3ms/step - loss: 105.4299 - mae: 105.4299 - val_loss: 566.1823 - val_mae: 566.1823\n",
            "Epoch 40/100\n",
            "18/18 [==============================] - 0s 3ms/step - loss: 104.4793 - mae: 104.4793 - val_loss: 570.7411 - val_mae: 570.7411\n",
            "Epoch 41/100\n",
            "18/18 [==============================] - 0s 3ms/step - loss: 105.6438 - mae: 105.6438 - val_loss: 576.5659 - val_mae: 576.5659\n",
            "Epoch 42/100\n",
            "18/18 [==============================] - 0s 4ms/step - loss: 106.3023 - mae: 106.3023 - val_loss: 568.9901 - val_mae: 568.9901\n",
            "Epoch 43/100\n",
            "18/18 [==============================] - 0s 4ms/step - loss: 105.6903 - mae: 105.6903 - val_loss: 602.7177 - val_mae: 602.7177\n",
            "Epoch 44/100\n",
            "18/18 [==============================] - 0s 5ms/step - loss: 106.7048 - mae: 106.7048 - val_loss: 582.0403 - val_mae: 582.0403\n",
            "Epoch 45/100\n",
            "18/18 [==============================] - 0s 3ms/step - loss: 106.8785 - mae: 106.8785 - val_loss: 628.0764 - val_mae: 628.0764\n",
            "Epoch 46/100\n",
            "18/18 [==============================] - 0s 4ms/step - loss: 108.1900 - mae: 108.1900 - val_loss: 571.4797 - val_mae: 571.4797\n",
            "Epoch 47/100\n",
            "18/18 [==============================] - 0s 4ms/step - loss: 109.6829 - mae: 109.6829 - val_loss: 672.3157 - val_mae: 672.3157\n",
            "Epoch 48/100\n",
            "18/18 [==============================] - 0s 3ms/step - loss: 108.2681 - mae: 108.2681 - val_loss: 613.0927 - val_mae: 613.0927\n",
            "Epoch 49/100\n",
            "18/18 [==============================] - 0s 4ms/step - loss: 113.1160 - mae: 113.1160 - val_loss: 569.3489 - val_mae: 569.3489\n",
            "Epoch 50/100\n",
            "18/18 [==============================] - 0s 4ms/step - loss: 104.6968 - mae: 104.6968 - val_loss: 607.8755 - val_mae: 607.8755\n",
            "Epoch 51/100\n",
            "18/18 [==============================] - 0s 3ms/step - loss: 107.7183 - mae: 107.7183 - val_loss: 581.1036 - val_mae: 581.1036\n",
            "Epoch 52/100\n",
            "18/18 [==============================] - 0s 4ms/step - loss: 108.1329 - mae: 108.1329 - val_loss: 572.3721 - val_mae: 572.3721\n",
            "Epoch 53/100\n",
            "18/18 [==============================] - 0s 3ms/step - loss: 107.0705 - mae: 107.0705 - val_loss: 619.4940 - val_mae: 619.4940\n",
            "Epoch 54/100\n",
            "18/18 [==============================] - 0s 4ms/step - loss: 107.8802 - mae: 107.8802 - val_loss: 574.4223 - val_mae: 574.4223\n",
            "Epoch 55/100\n",
            "18/18 [==============================] - 0s 3ms/step - loss: 110.9699 - mae: 110.9699 - val_loss: 569.3974 - val_mae: 569.3974\n",
            "Epoch 56/100\n",
            "18/18 [==============================] - 0s 5ms/step - loss: 104.6940 - mae: 104.6940 - val_loss: 755.6062 - val_mae: 755.6062\n",
            "Epoch 57/100\n",
            "18/18 [==============================] - 0s 4ms/step - loss: 118.8727 - mae: 118.8727 - val_loss: 632.1569 - val_mae: 632.1569\n",
            "Epoch 58/100\n",
            "18/18 [==============================] - 0s 4ms/step - loss: 112.1430 - mae: 112.1430 - val_loss: 567.4813 - val_mae: 567.4813\n",
            "Epoch 59/100\n",
            "18/18 [==============================] - 0s 3ms/step - loss: 105.4006 - mae: 105.4006 - val_loss: 592.4840 - val_mae: 592.4840\n",
            "Epoch 60/100\n",
            "18/18 [==============================] - 0s 3ms/step - loss: 111.2034 - mae: 111.2034 - val_loss: 605.6795 - val_mae: 605.6795\n",
            "Epoch 61/100\n",
            "18/18 [==============================] - 0s 3ms/step - loss: 107.6645 - mae: 107.6645 - val_loss: 595.0812 - val_mae: 595.0812\n",
            "Epoch 62/100\n",
            "18/18 [==============================] - 0s 3ms/step - loss: 108.5523 - mae: 108.5523 - val_loss: 571.1063 - val_mae: 571.1063\n",
            "Epoch 63/100\n",
            "18/18 [==============================] - 0s 3ms/step - loss: 107.5546 - mae: 107.5546 - val_loss: 636.4302 - val_mae: 636.4302\n",
            "Epoch 64/100\n",
            "18/18 [==============================] - 0s 3ms/step - loss: 109.2942 - mae: 109.2942 - val_loss: 647.2679 - val_mae: 647.2679\n",
            "Epoch 65/100\n",
            "18/18 [==============================] - 0s 3ms/step - loss: 108.3332 - mae: 108.3332 - val_loss: 567.2542 - val_mae: 567.2542\n",
            "Epoch 66/100\n",
            "18/18 [==============================] - 0s 4ms/step - loss: 107.3859 - mae: 107.3859 - val_loss: 565.5132 - val_mae: 565.5132\n",
            "Epoch 67/100\n",
            "18/18 [==============================] - 0s 4ms/step - loss: 108.1688 - mae: 108.1688 - val_loss: 571.2559 - val_mae: 571.2559\n",
            "Epoch 68/100\n",
            "18/18 [==============================] - 0s 3ms/step - loss: 111.3471 - mae: 111.3471 - val_loss: 627.8438 - val_mae: 627.8438\n",
            "Epoch 69/100\n",
            "18/18 [==============================] - 0s 3ms/step - loss: 115.0226 - mae: 115.0226 - val_loss: 565.5015 - val_mae: 565.5015\n",
            "Epoch 70/100\n",
            "18/18 [==============================] - 0s 4ms/step - loss: 125.0663 - mae: 125.0663 - val_loss: 616.3983 - val_mae: 616.3983\n",
            "Epoch 71/100\n",
            "18/18 [==============================] - 0s 3ms/step - loss: 107.5350 - mae: 107.5350 - val_loss: 607.3602 - val_mae: 607.3602\n",
            "Epoch 72/100\n",
            " 1/18 [>.............................] - ETA: 0s - loss: 105.7133 - mae: 105.7133"
          ]
        },
        {
          "output_type": "stream",
          "name": "stderr",
          "text": [
            "WARNING:absl:Found untraced functions such as _update_step_xla while saving (showing 1 of 1). These functions will not be directly callable after loading.\n"
          ]
        },
        {
          "output_type": "stream",
          "name": "stdout",
          "text": [
            "\b\b\b\b\b\b\b\b\b\b\b\b\b\b\b\b\b\b\b\b\b\b\b\b\b\b\b\b\b\b\b\b\b\b\b\b\b\b\b\b\b\b\b\b\b\b\b\b\b\b\b\b\b\b\b\b\b\b\b\b\b\b\b\b\b\b\b\b\b\b\b\b\b\b\b\b\b\b\b\b\b\r18/18 [==============================] - 0s 26ms/step - loss: 106.3159 - mae: 106.3159 - val_loss: 564.5448 - val_mae: 564.5448\n",
            "Epoch 73/100\n",
            " 1/18 [>.............................] - ETA: 0s - loss: 118.0347 - mae: 118.0347"
          ]
        },
        {
          "output_type": "stream",
          "name": "stderr",
          "text": [
            "WARNING:absl:Found untraced functions such as _update_step_xla while saving (showing 1 of 1). These functions will not be directly callable after loading.\n"
          ]
        },
        {
          "output_type": "stream",
          "name": "stdout",
          "text": [
            "\b\b\b\b\b\b\b\b\b\b\b\b\b\b\b\b\b\b\b\b\b\b\b\b\b\b\b\b\b\b\b\b\b\b\b\b\b\b\b\b\b\b\b\b\b\b\b\b\b\b\b\b\b\b\b\b\b\b\b\b\b\b\b\b\b\b\b\b\b\b\b\b\b\b\b\b\b\b\b\b\b\r18/18 [==============================] - 0s 25ms/step - loss: 106.5085 - mae: 106.5085 - val_loss: 563.9613 - val_mae: 563.9613\n",
            "Epoch 74/100\n",
            "18/18 [==============================] - 0s 4ms/step - loss: 105.8437 - mae: 105.8437 - val_loss: 567.3108 - val_mae: 567.3108\n",
            "Epoch 75/100\n",
            "18/18 [==============================] - 0s 3ms/step - loss: 105.3657 - mae: 105.3657 - val_loss: 580.1323 - val_mae: 580.1323\n",
            "Epoch 76/100\n",
            "18/18 [==============================] - 0s 3ms/step - loss: 106.5219 - mae: 106.5219 - val_loss: 573.9106 - val_mae: 573.9106\n",
            "Epoch 77/100\n",
            "18/18 [==============================] - 0s 3ms/step - loss: 106.4942 - mae: 106.4942 - val_loss: 580.2068 - val_mae: 580.2068\n",
            "Epoch 78/100\n",
            "18/18 [==============================] - 0s 3ms/step - loss: 105.3621 - mae: 105.3621 - val_loss: 574.8167 - val_mae: 574.8167\n",
            "Epoch 79/100\n",
            "18/18 [==============================] - 0s 3ms/step - loss: 105.2379 - mae: 105.2379 - val_loss: 571.7339 - val_mae: 571.7339\n",
            "Epoch 80/100\n",
            "18/18 [==============================] - 0s 4ms/step - loss: 105.7262 - mae: 105.7262 - val_loss: 589.9457 - val_mae: 589.9457\n",
            "Epoch 81/100\n",
            "18/18 [==============================] - 0s 4ms/step - loss: 105.5582 - mae: 105.5582 - val_loss: 566.9564 - val_mae: 566.9564\n",
            "Epoch 82/100\n",
            "18/18 [==============================] - 0s 4ms/step - loss: 112.2110 - mae: 112.2110 - val_loss: 576.8137 - val_mae: 576.8137\n",
            "Epoch 83/100\n",
            "18/18 [==============================] - 0s 3ms/step - loss: 107.9791 - mae: 107.9791 - val_loss: 612.5040 - val_mae: 612.5040\n",
            "Epoch 84/100\n",
            "18/18 [==============================] - 0s 3ms/step - loss: 108.0914 - mae: 108.0914 - val_loss: 568.6981 - val_mae: 568.6981\n",
            "Epoch 85/100\n",
            "18/18 [==============================] - 0s 3ms/step - loss: 105.4575 - mae: 105.4575 - val_loss: 570.5565 - val_mae: 570.5565\n",
            "Epoch 86/100\n",
            "18/18 [==============================] - 0s 3ms/step - loss: 104.5514 - mae: 104.5514 - val_loss: 571.7764 - val_mae: 571.7764\n",
            "Epoch 87/100\n",
            "18/18 [==============================] - 0s 4ms/step - loss: 105.1952 - mae: 105.1952 - val_loss: 568.4261 - val_mae: 568.4261\n",
            "Epoch 88/100\n",
            "18/18 [==============================] - 0s 4ms/step - loss: 105.1564 - mae: 105.1564 - val_loss: 576.7832 - val_mae: 576.7832\n",
            "Epoch 89/100\n",
            "18/18 [==============================] - 0s 4ms/step - loss: 105.7620 - mae: 105.7620 - val_loss: 575.6820 - val_mae: 575.6820\n",
            "Epoch 90/100\n",
            "18/18 [==============================] - 0s 3ms/step - loss: 106.5435 - mae: 106.5435 - val_loss: 623.4871 - val_mae: 623.4871\n",
            "Epoch 91/100\n",
            "18/18 [==============================] - 0s 3ms/step - loss: 108.4239 - mae: 108.4239 - val_loss: 603.6295 - val_mae: 603.6295\n",
            "Epoch 92/100\n",
            "18/18 [==============================] - 0s 3ms/step - loss: 106.4497 - mae: 106.4497 - val_loss: 600.2203 - val_mae: 600.2203\n",
            "Epoch 93/100\n",
            "18/18 [==============================] - 0s 4ms/step - loss: 113.9678 - mae: 113.9678 - val_loss: 626.0744 - val_mae: 626.0744\n",
            "Epoch 94/100\n",
            "18/18 [==============================] - 0s 3ms/step - loss: 108.2165 - mae: 108.2165 - val_loss: 590.0261 - val_mae: 590.0261\n",
            "Epoch 95/100\n",
            "18/18 [==============================] - 0s 3ms/step - loss: 104.3366 - mae: 104.3366 - val_loss: 566.4969 - val_mae: 566.4969\n",
            "Epoch 96/100\n",
            "18/18 [==============================] - 0s 4ms/step - loss: 108.4899 - mae: 108.4899 - val_loss: 611.2515 - val_mae: 611.2515\n",
            "Epoch 97/100\n",
            "18/18 [==============================] - 0s 3ms/step - loss: 107.0030 - mae: 107.0030 - val_loss: 568.1987 - val_mae: 568.1987\n",
            "Epoch 98/100\n",
            "18/18 [==============================] - 0s 3ms/step - loss: 106.3735 - mae: 106.3735 - val_loss: 568.9071 - val_mae: 568.9071\n",
            "Epoch 99/100\n",
            "18/18 [==============================] - 0s 3ms/step - loss: 107.1295 - mae: 107.1295 - val_loss: 570.2557 - val_mae: 570.2557\n",
            "Epoch 100/100\n",
            "18/18 [==============================] - 0s 4ms/step - loss: 115.9850 - mae: 115.9850 - val_loss: 614.3068 - val_mae: 614.3068\n"
          ]
        }
      ]
    },
    {
      "cell_type": "code",
      "source": [
        "model_1_results = model_1.evaluate(test_windows,test_labels)"
      ],
      "metadata": {
        "id": "H2MEJE91yvgo",
        "outputId": "118a0a0d-68c9-4a6b-c0b7-025e9bb2b886",
        "colab": {
          "base_uri": "https://localhost:8080/"
        }
      },
      "execution_count": 96,
      "outputs": [
        {
          "output_type": "stream",
          "name": "stdout",
          "text": [
            "18/18 [==============================] - 0s 1ms/step - loss: 614.3069 - mae: 614.3069\n"
          ]
        }
      ]
    },
    {
      "cell_type": "code",
      "source": [
        "def make_preds(model,input_data):\n",
        "  forecast = model.predict(input_data)\n",
        "  return tf.squeeze(forecast)"
      ],
      "metadata": {
        "id": "6gTGc5Hm0J5T"
      },
      "execution_count": 85,
      "outputs": []
    },
    {
      "cell_type": "code",
      "source": [
        "model_1_preds = make_preds(model_1,test_windows)"
      ],
      "metadata": {
        "id": "5EFlBXNA0UUs",
        "outputId": "4264cebb-ebe4-45d5-a934-51848ca1045c",
        "colab": {
          "base_uri": "https://localhost:8080/"
        }
      },
      "execution_count": 86,
      "outputs": [
        {
          "output_type": "stream",
          "name": "stdout",
          "text": [
            "18/18 [==============================] - 0s 2ms/step\n"
          ]
        }
      ]
    },
    {
      "cell_type": "code",
      "source": [
        "evaluation_metrics(y_true = tf.squeeze(test_labels),y_pred=model_1_preds)"
      ],
      "metadata": {
        "id": "05afJMg405vA",
        "outputId": "990e30c8-651f-4736-fd0e-bd5368c87d41",
        "colab": {
          "base_uri": "https://localhost:8080/"
        }
      },
      "execution_count": 95,
      "outputs": [
        {
          "output_type": "execute_result",
          "data": {
            "text/plain": [
              "{'mae': 614.30695,\n",
              " 'mse': 1245580.9,\n",
              " 'rmse': 1116.0559,\n",
              " 'mape': 2.786297,\n",
              " 'mase': 1.0791671}"
            ]
          },
          "metadata": {},
          "execution_count": 95
        }
      ]
    },
    {
      "cell_type": "code",
      "source": [
        "offset = 100\n",
        "plt.figure(figsize = (10,7))\n",
        "plot_time_series(timesteps = x_test[-len(test_windows):],values = test_labels[:,0],start = offset,label = \"Test Data\")\n",
        "plot_time_series(timesteps = x_test[-len(test_windows):],values = model_1_preds,start = offset,label = \"Predict Data\",format = \"-\")"
      ],
      "metadata": {
        "id": "c4-LJHDZ06tE",
        "outputId": "2f5938d2-9883-46c3-ba9d-dcbfa4a7a4a7",
        "colab": {
          "base_uri": "https://localhost:8080/",
          "height": 442
        }
      },
      "execution_count": 99,
      "outputs": [
        {
          "output_type": "display_data",
          "data": {
            "text/plain": [
              "<Figure size 720x504 with 1 Axes>"
            ],
            "image/png": "[encoded data removed]"
          },
          "metadata": {
            "needs_background": "light"
          }
        }
      ]
    },
    {
      "cell_type": "code",
      "source": [],
      "metadata": {
        "id": "WVQBQ8pt22rq"
      },
      "execution_count": null,
      "outputs": []
    }
  ]
}
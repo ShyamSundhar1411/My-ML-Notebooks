{
  "nbformat": 4,
  "nbformat_minor": 0,
  "metadata": {
    "colab": {
      "provenance": [],
      "authorship_tag": "ABX9TyOtjzyNnLY/pGMfjxWHiQnz",
      "include_colab_link": true
    },
    "kernelspec": {
      "name": "python3",
      "display_name": "Python 3"
    },
    "language_info": {
      "name": "python"
    },
    "accelerator": "GPU",
    "gpuClass": "standard"
  },
  "cells": [
    {
      "cell_type": "markdown",
      "metadata": {
        "id": "view-in-github",
        "colab_type": "text"
      },
      "source": [
        "<a href=\"https://colab.research.google.com/github/ShyamSundhar1411/My-ML-Notebooks/blob/master/Milestone%20Projects/Milestone_Project_2_SkimLit.ipynb\" target=\"_parent\"><img src=\"https://colab.research.google.com/assets/colab-badge.svg\" alt=\"Open In Colab\"/></a>"
      ]
    },
    {
      "cell_type": "markdown",
      "source": [
        "## Milestone Project 2: SkimLit"
      ],
      "metadata": {
        "id": "7XkRlPjaQeYC"
      }
    },
    {
      "cell_type": "code",
      "source": [
        "!nvidia-smi"
      ],
      "metadata": {
        "colab": {
          "base_uri": "https://localhost:8080/"
        },
        "id": "EhiQ6alwQs2a",
        "outputId": "b4460fff-45db-4ad7-c259-86b4503a6141"
      },
      "execution_count": 2,
      "outputs": [
        {
          "output_type": "stream",
          "name": "stdout",
          "text": [
            "Sat Mar 25 04:38:29 2023       \n",
            "+-----------------------------------------------------------------------------+\n",
            "| NVIDIA-SMI 525.85.12    Driver Version: 525.85.12    CUDA Version: 12.0     |\n",
            "|-------------------------------+----------------------+----------------------+\n",
            "| GPU  Name        Persistence-M| Bus-Id        Disp.A | Volatile Uncorr. ECC |\n",
            "| Fan  Temp  Perf  Pwr:Usage/Cap|         Memory-Usage | GPU-Util  Compute M. |\n",
            "|                               |                      |               MIG M. |\n",
            "|===============================+======================+======================|\n",
            "|   0  Tesla T4            Off  | 00000000:00:04.0 Off |                    0 |\n",
            "| N/A   53C    P8     9W /  70W |      0MiB / 15360MiB |      0%      Default |\n",
            "|                               |                      |                  N/A |\n",
            "+-------------------------------+----------------------+----------------------+\n",
            "                                                                               \n",
            "+-----------------------------------------------------------------------------+\n",
            "| Processes:                                                                  |\n",
            "|  GPU   GI   CI        PID   Type   Process name                  GPU Memory |\n",
            "|        ID   ID                                                   Usage      |\n",
            "|=============================================================================|\n",
            "|  No running processes found                                                 |\n",
            "+-----------------------------------------------------------------------------+\n"
          ]
        }
      ]
    },
    {
      "cell_type": "code",
      "source": [
        "!git clone https://github.com/Franck-Dernoncourt/pubmed-rct.git"
      ],
      "metadata": {
        "colab": {
          "base_uri": "https://localhost:8080/"
        },
        "id": "tsfV6wdZQ5l9",
        "outputId": "db49883a-7803-4865-d576-113f4a35b01f"
      },
      "execution_count": 3,
      "outputs": [
        {
          "output_type": "stream",
          "name": "stdout",
          "text": [
            "Cloning into 'pubmed-rct'...\n",
            "remote: Enumerating objects: 33, done.\u001b[K\n",
            "remote: Counting objects: 100% (8/8), done.\u001b[K\n",
            "remote: Compressing objects: 100% (3/3), done.\u001b[K\n",
            "remote: Total 33 (delta 5), reused 5 (delta 5), pack-reused 25\u001b[K\n",
            "Unpacking objects: 100% (33/33), 177.08 MiB | 9.26 MiB/s, done.\n"
          ]
        }
      ]
    },
    {
      "cell_type": "code",
      "source": [
        "!ls pubmed-rct"
      ],
      "metadata": {
        "colab": {
          "base_uri": "https://localhost:8080/"
        },
        "id": "0tBVGtkqRJjn",
        "outputId": "49050381-f395-4c74-941a-e31f486f773c"
      },
      "execution_count": 4,
      "outputs": [
        {
          "output_type": "stream",
          "name": "stdout",
          "text": [
            "PubMed_200k_RCT\n",
            "PubMed_200k_RCT_numbers_replaced_with_at_sign\n",
            "PubMed_20k_RCT\n",
            "PubMed_20k_RCT_numbers_replaced_with_at_sign\n",
            "README.md\n"
          ]
        }
      ]
    },
    {
      "cell_type": "code",
      "source": [
        "!ls /content/pubmed-rct/PubMed_20k_RCT"
      ],
      "metadata": {
        "colab": {
          "base_uri": "https://localhost:8080/"
        },
        "id": "3arTZSp9RLxD",
        "outputId": "dd36a9b4-bd8b-4237-d2c3-1419f2c0505d"
      },
      "execution_count": 5,
      "outputs": [
        {
          "output_type": "stream",
          "name": "stdout",
          "text": [
            "dev.txt  test.txt  train.txt\n"
          ]
        }
      ]
    },
    {
      "cell_type": "code",
      "source": [
        "data_dir = '/content/pubmed-rct/PubMed_20k_RCT_numbers_replaced_with_at_sign/'"
      ],
      "metadata": {
        "id": "vqIT0JFaSaqG"
      },
      "execution_count": 6,
      "outputs": []
    },
    {
      "cell_type": "code",
      "source": [
        "import os\n",
        "filenames = [data_dir+filename for filename in os.listdir(data_dir)]"
      ],
      "metadata": {
        "id": "eiSNEiLfRoDC"
      },
      "execution_count": 7,
      "outputs": []
    },
    {
      "cell_type": "markdown",
      "source": [
        "## Preprocess Data"
      ],
      "metadata": {
        "id": "0ERq24LjRwJV"
      }
    },
    {
      "cell_type": "code",
      "source": [
        "def get_lines(filename):\n",
        "  with open(filename,'r') as f:\n",
        "    return f.readlines()"
      ],
      "metadata": {
        "id": "OCKkJ84mSHIz"
      },
      "execution_count": 8,
      "outputs": []
    },
    {
      "cell_type": "code",
      "source": [
        "train_lines = get_lines(data_dir+'train.txt')"
      ],
      "metadata": {
        "id": "UwjYzVh7LYjN"
      },
      "execution_count": 9,
      "outputs": []
    },
    {
      "cell_type": "code",
      "source": [
        "train_lines"
      ],
      "metadata": {
        "id": "V_e4ShqJm_OV"
      },
      "execution_count": null,
      "outputs": []
    },
    {
      "cell_type": "code",
      "source": [
        "len(train_lines)"
      ],
      "metadata": {
        "colab": {
          "base_uri": "https://localhost:8080/"
        },
        "id": "0RYy2C0HLf-o",
        "outputId": "76a1acaa-02a4-486b-985f-2faf399447d7"
      },
      "execution_count": 11,
      "outputs": [
        {
          "output_type": "execute_result",
          "data": {
            "text/plain": [
              "210040"
            ]
          },
          "metadata": {},
          "execution_count": 11
        }
      ]
    },
    {
      "cell_type": "code",
      "source": [
        "def preprocess_text_with_line_numbers(filename):\n",
        "  input_lines = get_lines(filename)\n",
        "  abstract_samples = []\n",
        "  abstract_text = \"\"\n",
        "  for line in input_lines:\n",
        "    if line.startswith('###'):\n",
        "      abstract_id = line\n",
        "      abstract_text = \"\"\n",
        "    elif line.isspace():\n",
        "      abstract_line_split = abstract_text.splitlines()\n",
        "      for abstract_line_no,abstract_line in enumerate(abstract_line_split):\n",
        "        line_data = {}\n",
        "        target = abstract_line.split('\\t')[0]\n",
        "        sentence = abstract_line.split('\\t')[1].lower()\n",
        "        line_data['target'] = target\n",
        "        line_data['text'] = sentence\n",
        "        line_data['line_number'] = abstract_line_no\n",
        "        line_data['total lines']  = len(abstract_line_split)-1\n",
        "        abstract_samples.append(line_data)\n",
        "    else:\n",
        "      abstract_text+=line\n",
        "  return abstract_samples\n",
        "\n",
        "\n",
        "  "
      ],
      "metadata": {
        "id": "oI_nf1loL48g"
      },
      "execution_count": 12,
      "outputs": []
    },
    {
      "cell_type": "code",
      "source": [
        "train_samples = preprocess_text_with_line_numbers(data_dir+'train.txt')\n",
        "val_samples = preprocess_text_with_line_numbers(data_dir+'dev.txt')\n",
        "test_samples = preprocess_text_with_line_numbers(data_dir+'test.txt')"
      ],
      "metadata": {
        "id": "A1_Y2rkaMDbG"
      },
      "execution_count": 13,
      "outputs": []
    },
    {
      "cell_type": "code",
      "source": [
        "train_samples"
      ],
      "metadata": {
        "id": "BMoNvkPcOG2E"
      },
      "execution_count": null,
      "outputs": []
    },
    {
      "cell_type": "code",
      "source": [
        "import pandas as pd\n",
        "train_df = pd.DataFrame(train_samples)\n",
        "val_df = pd.DataFrame(val_samples)\n",
        "test_df = pd.DataFrame(test_samples)"
      ],
      "metadata": {
        "id": "5giBGgSyPg5b"
      },
      "execution_count": 15,
      "outputs": []
    },
    {
      "cell_type": "code",
      "source": [
        "train_df.target.unique()"
      ],
      "metadata": {
        "colab": {
          "base_uri": "https://localhost:8080/"
        },
        "id": "CzEMdRmyoEfN",
        "outputId": "a7cdd9e4-2059-4b3d-f4be-88139ecc0eac"
      },
      "execution_count": 16,
      "outputs": [
        {
          "output_type": "execute_result",
          "data": {
            "text/plain": [
              "array(['OBJECTIVE', 'METHODS', 'RESULTS', 'CONCLUSIONS', 'BACKGROUND'],\n",
              "      dtype=object)"
            ]
          },
          "metadata": {},
          "execution_count": 16
        }
      ]
    },
    {
      "cell_type": "code",
      "source": [
        "train_df.target.value_counts()"
      ],
      "metadata": {
        "colab": {
          "base_uri": "https://localhost:8080/"
        },
        "id": "0kspvuAIoFfB",
        "outputId": "432d9ac4-69f7-4ab6-f989-9cee9550e891"
      },
      "execution_count": 17,
      "outputs": [
        {
          "output_type": "execute_result",
          "data": {
            "text/plain": [
              "METHODS        59353\n",
              "RESULTS        57953\n",
              "CONCLUSIONS    27168\n",
              "BACKGROUND     21727\n",
              "OBJECTIVE      13839\n",
              "Name: target, dtype: int64"
            ]
          },
          "metadata": {},
          "execution_count": 17
        }
      ]
    },
    {
      "cell_type": "code",
      "source": [
        "train_df['total lines'].plot.hist()"
      ],
      "metadata": {
        "colab": {
          "base_uri": "https://localhost:8080/",
          "height": 284
        },
        "id": "1Q3bEHAzoPNT",
        "outputId": "7d83fa3e-8361-44d5-9a0e-4ab677297e66"
      },
      "execution_count": 18,
      "outputs": [
        {
          "output_type": "execute_result",
          "data": {
            "text/plain": [
              "<Axes: ylabel='Frequency'>"
            ]
          },
          "metadata": {},
          "execution_count": 18
        },
        {
          "output_type": "display_data",
          "data": {
            "text/plain": [
              "<Figure size 432x288 with 1 Axes>"
            ],
            "image/png": "[encoded data removed]"
          },
          "metadata": {
            "needs_background": "light"
          }
        }
      ]
    },
    {
      "cell_type": "markdown",
      "source": [
        "## Encoding Target"
      ],
      "metadata": {
        "id": "ylgg6Rr5oYKH"
      }
    },
    {
      "cell_type": "code",
      "source": [
        "from sklearn.preprocessing import OneHotEncoder\n",
        "\n",
        "one_hot_encoder = OneHotEncoder(sparse = False)\n",
        "train_target_one_hot = one_hot_encoder.fit_transform(train_df['target'].to_numpy().reshape(-1,1))\n",
        "val_target_one_hot = one_hot_encoder.fit_transform(val_df['target'].to_numpy().reshape(-1,1))\n",
        "test_target_one_hot = one_hot_encoder.fit_transform(test_df['target'].to_numpy().reshape(-1,1))"
      ],
      "metadata": {
        "colab": {
          "base_uri": "https://localhost:8080/"
        },
        "id": "EQ3i7EknozfG",
        "outputId": "23a0e37f-f7a1-4b97-c9c9-22d8e1bc784c"
      },
      "execution_count": 19,
      "outputs": [
        {
          "output_type": "stream",
          "name": "stderr",
          "text": [
            "/usr/local/lib/python3.9/dist-packages/sklearn/preprocessing/_encoders.py:868: FutureWarning: `sparse` was renamed to `sparse_output` in version 1.2 and will be removed in 1.4. `sparse_output` is ignored unless you leave `sparse` to its default value.\n",
            "  warnings.warn(\n",
            "/usr/local/lib/python3.9/dist-packages/sklearn/preprocessing/_encoders.py:868: FutureWarning: `sparse` was renamed to `sparse_output` in version 1.2 and will be removed in 1.4. `sparse_output` is ignored unless you leave `sparse` to its default value.\n",
            "  warnings.warn(\n",
            "/usr/local/lib/python3.9/dist-packages/sklearn/preprocessing/_encoders.py:868: FutureWarning: `sparse` was renamed to `sparse_output` in version 1.2 and will be removed in 1.4. `sparse_output` is ignored unless you leave `sparse` to its default value.\n",
            "  warnings.warn(\n"
          ]
        }
      ]
    },
    {
      "cell_type": "code",
      "source": [
        "from sklearn.preprocessing import LabelEncoder\n",
        "label_encoder = LabelEncoder()\n",
        "train_target_label = label_encoder.fit_transform(train_df['target'].to_numpy())\n",
        "val_target_label = label_encoder.fit_transform(val_df['target'].to_numpy())\n",
        "test_target_label = label_encoder.fit_transform(test_df['target'].to_numpy())"
      ],
      "metadata": {
        "id": "eHxdJgXLpDwY"
      },
      "execution_count": 20,
      "outputs": []
    },
    {
      "cell_type": "code",
      "source": [
        "train_sentences = train_df['text'].to_list()\n",
        "val_sentences = val_df['text'].to_list()\n",
        "test_sentences = test_df['text'].to_list()"
      ],
      "metadata": {
        "id": "FsWLbUZzpxIH"
      },
      "execution_count": 21,
      "outputs": []
    },
    {
      "cell_type": "markdown",
      "source": [
        "## Model 0 : Baseline MultiNomimalNB"
      ],
      "metadata": {
        "id": "IC8I14yWp12s"
      }
    },
    {
      "cell_type": "code",
      "source": [
        "from sklearn.pipeline import Pipeline\n",
        "from sklearn.naive_bayes import MultinomialNB\n",
        "from sklearn.feature_extraction.text import TfidfVectorizer\n",
        "\n",
        "model_0 = Pipeline([\n",
        "    (\"tfidf\",TfidfVectorizer()),\n",
        "    (\"classifier\",MultinomialNB())\n",
        "  ]\n",
        ")\n",
        "model_0.fit(train_sentences,train_target_label)"
      ],
      "metadata": {
        "colab": {
          "base_uri": "https://localhost:8080/",
          "height": 124
        },
        "id": "oHU1kb-BqDI7",
        "outputId": "7e7b203b-930a-4baa-ce92-a6fb8538fba7"
      },
      "execution_count": 22,
      "outputs": [
        {
          "output_type": "execute_result",
          "data": {
            "text/plain": [
              "Pipeline(steps=[('tfidf', TfidfVectorizer()), ('classifier', MultinomialNB())])"
            ],
            "text/html": [
              "<style>#sk-container-id-1 {color: black;background-color: white;}#sk-container-id-1 pre{padding: 0;}#sk-container-id-1 div.sk-toggleable {background-color: white;}#sk-container-id-1 label.sk-toggleable__label {cursor: pointer;display: block;width: 100%;margin-bottom: 0;padding: 0.3em;box-sizing: border-box;text-align: center;}#sk-container-id-1 label.sk-toggleable__label-arrow:before {content: \"▸\";float: left;margin-right: 0.25em;color: #696969;}#sk-container-id-1 label.sk-toggleable__label-arrow:hover:before {color: black;}#sk-container-id-1 div.sk-estimator:hover label.sk-toggleable__label-arrow:before {color: black;}#sk-container-id-1 div.sk-toggleable__content {max-height: 0;max-width: 0;overflow: hidden;text-align: left;background-color: #f0f8ff;}#sk-container-id-1 div.sk-toggleable__content pre {margin: 0.2em;color: black;border-radius: 0.25em;background-color: #f0f8ff;}#sk-container-id-1 input.sk-toggleable__control:checked~div.sk-toggleable__content {max-height: 200px;max-width: 100%;overflow: auto;}#sk-container-id-1 input.sk-toggleable__control:checked~label.sk-toggleable__label-arrow:before {content: \"▾\";}#sk-container-id-1 div.sk-estimator input.sk-toggleable__control:checked~label.sk-toggleable__label {background-color: #d4ebff;}#sk-container-id-1 div.sk-label input.sk-toggleable__control:checked~label.sk-toggleable__label {background-color: #d4ebff;}#sk-container-id-1 input.sk-hidden--visually {border: 0;clip: rect(1px 1px 1px 1px);clip: rect(1px, 1px, 1px, 1px);height: 1px;margin: -1px;overflow: hidden;padding: 0;position: absolute;width: 1px;}#sk-container-id-1 div.sk-estimator {font-family: monospace;background-color: #f0f8ff;border: 1px dotted black;border-radius: 0.25em;box-sizing: border-box;margin-bottom: 0.5em;}#sk-container-id-1 div.sk-estimator:hover {background-color: #d4ebff;}#sk-container-id-1 div.sk-parallel-item::after {content: \"\";width: 100%;border-bottom: 1px solid gray;flex-grow: 1;}#sk-container-id-1 div.sk-label:hover label.sk-toggleable__label {background-color: #d4ebff;}#sk-container-id-1 div.sk-serial::before {content: \"\";position: absolute;border-left: 1px solid gray;box-sizing: border-box;top: 0;bottom: 0;left: 50%;z-index: 0;}#sk-container-id-1 div.sk-serial {display: flex;flex-direction: column;align-items: center;background-color: white;padding-right: 0.2em;padding-left: 0.2em;position: relative;}#sk-container-id-1 div.sk-item {position: relative;z-index: 1;}#sk-container-id-1 div.sk-parallel {display: flex;align-items: stretch;justify-content: center;background-color: white;position: relative;}#sk-container-id-1 div.sk-item::before, #sk-container-id-1 div.sk-parallel-item::before {content: \"\";position: absolute;border-left: 1px solid gray;box-sizing: border-box;top: 0;bottom: 0;left: 50%;z-index: -1;}#sk-container-id-1 div.sk-parallel-item {display: flex;flex-direction: column;z-index: 1;position: relative;background-color: white;}#sk-container-id-1 div.sk-parallel-item:first-child::after {align-self: flex-end;width: 50%;}#sk-container-id-1 div.sk-parallel-item:last-child::after {align-self: flex-start;width: 50%;}#sk-container-id-1 div.sk-parallel-item:only-child::after {width: 0;}#sk-container-id-1 div.sk-dashed-wrapped {border: 1px dashed gray;margin: 0 0.4em 0.5em 0.4em;box-sizing: border-box;padding-bottom: 0.4em;background-color: white;}#sk-container-id-1 div.sk-label label {font-family: monospace;font-weight: bold;display: inline-block;line-height: 1.2em;}#sk-container-id-1 div.sk-label-container {text-align: center;}#sk-container-id-1 div.sk-container {/* jupyter's `normalize.less` sets `[hidden] { display: none; }` but bootstrap.min.css set `[hidden] { display: none !important; }` so we also need the `!important` here to be able to override the default hidden behavior on the sphinx rendered scikit-learn.org. See: https://github.com/scikit-learn/scikit-learn/issues/21755 */display: inline-block !important;position: relative;}#sk-container-id-1 div.sk-text-repr-fallback {display: none;}</style><div id=\"sk-container-id-1\" class=\"sk-top-container\"><div class=\"sk-text-repr-fallback\"><pre>Pipeline(steps=[(&#x27;tfidf&#x27;, TfidfVectorizer()), (&#x27;classifier&#x27;, MultinomialNB())])</pre><b>In a Jupyter environment, please rerun this cell to show the HTML representation or trust the notebook. <br />On GitHub, the HTML representation is unable to render, please try loading this page with nbviewer.org.</b></div><div class=\"sk-container\" hidden><div class=\"sk-item sk-dashed-wrapped\"><div class=\"sk-label-container\"><div class=\"sk-label sk-toggleable\"><input class=\"sk-toggleable__control sk-hidden--visually\" id=\"sk-estimator-id-1\" type=\"checkbox\" ><label for=\"sk-estimator-id-1\" class=\"sk-toggleable__label sk-toggleable__label-arrow\">Pipeline</label><div class=\"sk-toggleable__content\"><pre>Pipeline(steps=[(&#x27;tfidf&#x27;, TfidfVectorizer()), (&#x27;classifier&#x27;, MultinomialNB())])</pre></div></div></div><div class=\"sk-serial\"><div class=\"sk-item\"><div class=\"sk-estimator sk-toggleable\"><input class=\"sk-toggleable__control sk-hidden--visually\" id=\"sk-estimator-id-2\" type=\"checkbox\" ><label for=\"sk-estimator-id-2\" class=\"sk-toggleable__label sk-toggleable__label-arrow\">TfidfVectorizer</label><div class=\"sk-toggleable__content\"><pre>TfidfVectorizer()</pre></div></div></div><div class=\"sk-item\"><div class=\"sk-estimator sk-toggleable\"><input class=\"sk-toggleable__control sk-hidden--visually\" id=\"sk-estimator-id-3\" type=\"checkbox\" ><label for=\"sk-estimator-id-3\" class=\"sk-toggleable__label sk-toggleable__label-arrow\">MultinomialNB</label><div class=\"sk-toggleable__content\"><pre>MultinomialNB()</pre></div></div></div></div></div></div></div>"
            ]
          },
          "metadata": {},
          "execution_count": 22
        }
      ]
    },
    {
      "cell_type": "code",
      "source": [
        "model_0.score(val_sentences,val_target_label)"
      ],
      "metadata": {
        "colab": {
          "base_uri": "https://localhost:8080/"
        },
        "id": "asDQLek9qdsB",
        "outputId": "e71bbe37-84e4-4ea0-e73a-bc7cba3a0d84"
      },
      "execution_count": 23,
      "outputs": [
        {
          "output_type": "execute_result",
          "data": {
            "text/plain": [
              "0.7218323844829869"
            ]
          },
          "metadata": {},
          "execution_count": 23
        }
      ]
    },
    {
      "cell_type": "code",
      "source": [
        "baseline_preds = model_0.predict(val_sentences)"
      ],
      "metadata": {
        "id": "db26btbWrHXn"
      },
      "execution_count": 24,
      "outputs": []
    },
    {
      "cell_type": "code",
      "source": [
        "baseline_preds"
      ],
      "metadata": {
        "colab": {
          "base_uri": "https://localhost:8080/"
        },
        "id": "NGKlboz-rMtZ",
        "outputId": "5a2d3fea-1a27-4ec6-c3a4-9e23b40e6d66"
      },
      "execution_count": 25,
      "outputs": [
        {
          "output_type": "execute_result",
          "data": {
            "text/plain": [
              "array([4, 1, 3, ..., 4, 4, 1])"
            ]
          },
          "metadata": {},
          "execution_count": 25
        }
      ]
    },
    {
      "cell_type": "code",
      "source": [
        "from sklearn.metrics import accuracy_score\n",
        "accuracy_score(baseline_preds,val_target_label)"
      ],
      "metadata": {
        "colab": {
          "base_uri": "https://localhost:8080/"
        },
        "id": "QqH2DYgDrORw",
        "outputId": "bdfc53d7-ed87-4441-baa1-c9e48114428f"
      },
      "execution_count": 26,
      "outputs": [
        {
          "output_type": "execute_result",
          "data": {
            "text/plain": [
              "0.7218323844829869"
            ]
          },
          "metadata": {},
          "execution_count": 26
        }
      ]
    },
    {
      "cell_type": "code",
      "source": [
        "!wget https://raw.githubusercontent.com/mrdbourke/tensorflow-deep-learning/main/extras/helper_functions.py"
      ],
      "metadata": {
        "id": "S0CC43sFrY9X",
        "colab": {
          "base_uri": "https://localhost:8080/"
        },
        "outputId": "552b5589-2f22-4523-cf14-41ba2212bc8e"
      },
      "execution_count": 27,
      "outputs": [
        {
          "output_type": "stream",
          "name": "stdout",
          "text": [
            "--2023-03-25 04:38:58--  https://raw.githubusercontent.com/mrdbourke/tensorflow-deep-learning/main/extras/helper_functions.py\n",
            "Resolving raw.githubusercontent.com (raw.githubusercontent.com)... 185.199.108.133, 185.199.109.133, 185.199.110.133, ...\n",
            "Connecting to raw.githubusercontent.com (raw.githubusercontent.com)|185.199.108.133|:443... connected.\n",
            "HTTP request sent, awaiting response... 200 OK\n",
            "Length: 10246 (10K) [text/plain]\n",
            "Saving to: ‘helper_functions.py’\n",
            "\n",
            "helper_functions.py 100%[===================>]  10.01K  --.-KB/s    in 0s      \n",
            "\n",
            "2023-03-25 04:38:58 (81.0 MB/s) - ‘helper_functions.py’ saved [10246/10246]\n",
            "\n"
          ]
        }
      ]
    },
    {
      "cell_type": "code",
      "source": [
        "from helper_functions import calculate_results"
      ],
      "metadata": {
        "id": "uyWYaYKWrwsv"
      },
      "execution_count": 28,
      "outputs": []
    },
    {
      "cell_type": "code",
      "source": [
        "baseline_results = calculate_results(val_target_label,baseline_preds)"
      ],
      "metadata": {
        "id": "ush48oaBr0J2"
      },
      "execution_count": 29,
      "outputs": []
    },
    {
      "cell_type": "code",
      "source": [
        "baseline_results"
      ],
      "metadata": {
        "colab": {
          "base_uri": "https://localhost:8080/"
        },
        "id": "WuiVal8AsHx1",
        "outputId": "fd0f921a-9032-4c28-c387-9d9ecc85bcec"
      },
      "execution_count": 30,
      "outputs": [
        {
          "output_type": "execute_result",
          "data": {
            "text/plain": [
              "{'accuracy': 72.1832384482987,\n",
              " 'precision': 0.7186466952323352,\n",
              " 'recall': 0.7218323844829869,\n",
              " 'f1': 0.6989250353450294}"
            ]
          },
          "metadata": {},
          "execution_count": 30
        }
      ]
    },
    {
      "cell_type": "markdown",
      "source": [
        "## Preparing data for deep sequence models"
      ],
      "metadata": {
        "id": "jFpb-N70sfsz"
      }
    },
    {
      "cell_type": "code",
      "source": [
        "import numpy as np\n",
        "import tensorflow as tf\n",
        "import tensorflow.keras as layers"
      ],
      "metadata": {
        "id": "pxOExxSUoH8U"
      },
      "execution_count": 31,
      "outputs": []
    },
    {
      "cell_type": "code",
      "source": [
        "sentences_lengths = [len(sentence.split()) for sentence in train_sentences]"
      ],
      "metadata": {
        "id": "PfLN7HLPoIIq"
      },
      "execution_count": 32,
      "outputs": []
    },
    {
      "cell_type": "code",
      "source": [
        "sentences_lengths[:10]"
      ],
      "metadata": {
        "colab": {
          "base_uri": "https://localhost:8080/"
        },
        "id": "_RmG6wjroQpv",
        "outputId": "e21a6838-e6ad-40a9-ca45-7a7ed19d748a"
      },
      "execution_count": 33,
      "outputs": [
        {
          "output_type": "execute_result",
          "data": {
            "text/plain": [
              "[49, 27, 15, 14, 35, 29, 30, 55, 36, 8]"
            ]
          },
          "metadata": {},
          "execution_count": 33
        }
      ]
    },
    {
      "cell_type": "code",
      "source": [
        "train_sentences[:10]"
      ],
      "metadata": {
        "colab": {
          "base_uri": "https://localhost:8080/"
        },
        "id": "Nm1b6iWgoTKx",
        "outputId": "40563b4f-d909-4adf-ae27-948ab1b82868"
      },
      "execution_count": 34,
      "outputs": [
        {
          "output_type": "execute_result",
          "data": {
            "text/plain": [
              "['to investigate the efficacy of @ weeks of daily low-dose oral prednisolone in improving pain , mobility , and systemic low-grade inflammation in the short term and whether the effect would be sustained at @ weeks in older adults with moderate to severe knee osteoarthritis ( oa ) .',\n",
              " 'a total of @ patients with primary knee oa were randomized @:@ ; @ received @ mg/day of prednisolone and @ received placebo for @ weeks .',\n",
              " 'outcome measures included pain reduction and improvement in function scores and systemic inflammation markers .',\n",
              " 'pain was assessed using the visual analog pain scale ( @-@ mm ) .',\n",
              " 'secondary outcome measures included the western ontario and mcmaster universities osteoarthritis index scores , patient global assessment ( pga ) of the severity of knee oa , and @-min walk distance ( @mwd ) .',\n",
              " 'serum levels of interleukin @ ( il-@ ) , il-@ , tumor necrosis factor ( tnf ) - , and high-sensitivity c-reactive protein ( hscrp ) were measured .',\n",
              " 'there was a clinically relevant reduction in the intervention group compared to the placebo group for knee pain , physical function , pga , and @mwd at @ weeks .',\n",
              " 'the mean difference between treatment arms ( @ % ci ) was @ ( @-@ @ ) , p < @ ; @ ( @-@ @ ) , p < @ ; @ ( @-@ @ ) , p < @ ; and @ ( @-@ @ ) , p < @ , respectively .',\n",
              " 'further , there was a clinically relevant reduction in the serum levels of il-@ , il-@ , tnf - , and hscrp at @ weeks in the intervention group when compared to the placebo group .',\n",
              " 'these differences remained significant at @ weeks .']"
            ]
          },
          "metadata": {},
          "execution_count": 34
        }
      ]
    },
    {
      "cell_type": "code",
      "source": [
        "print(np.mean(sentences_lengths))"
      ],
      "metadata": {
        "colab": {
          "base_uri": "https://localhost:8080/"
        },
        "id": "XcVzRWoUoWMS",
        "outputId": "fce17e54-4327-4a4d-db9c-d0f14556c868"
      },
      "execution_count": 35,
      "outputs": [
        {
          "output_type": "stream",
          "name": "stdout",
          "text": [
            "26.338269273494777\n"
          ]
        }
      ]
    },
    {
      "cell_type": "code",
      "source": [
        "import matplotlib.pyplot as plt\n",
        "plt.hist(sentences_lengths,bins = 7)"
      ],
      "metadata": {
        "colab": {
          "base_uri": "https://localhost:8080/",
          "height": 0
        },
        "id": "WKrHEgdPocj2",
        "outputId": "b7c3ec6b-b6f2-4629-a481-ad82a0b06409"
      },
      "execution_count": 36,
      "outputs": [
        {
          "output_type": "execute_result",
          "data": {
            "text/plain": [
              "(array([1.5999e+05, 1.8760e+04, 1.1510e+03, 9.9000e+01, 2.8000e+01,\n",
              "        1.0000e+01, 2.0000e+00]),\n",
              " array([  1.        ,  43.14285714,  85.28571429, 127.42857143,\n",
              "        169.57142857, 211.71428571, 253.85714286, 296.        ]),\n",
              " <BarContainer object of 7 artists>)"
            ]
          },
          "metadata": {},
          "execution_count": 36
        },
        {
          "output_type": "display_data",
          "data": {
            "text/plain": [
              "<Figure size 432x288 with 1 Axes>"
            ],
            "image/png": "[encoded data removed]"
          },
          "metadata": {
            "needs_background": "light"
          }
        }
      ]
    },
    {
      "cell_type": "code",
      "source": [
        "np.percentile(sentences_lengths,95)"
      ],
      "metadata": {
        "colab": {
          "base_uri": "https://localhost:8080/"
        },
        "id": "XnWizV12ovZh",
        "outputId": "67719a61-435e-4109-9eab-9977c33b4dad"
      },
      "execution_count": 37,
      "outputs": [
        {
          "output_type": "execute_result",
          "data": {
            "text/plain": [
              "55.0"
            ]
          },
          "metadata": {},
          "execution_count": 37
        }
      ]
    },
    {
      "cell_type": "code",
      "source": [
        "max(sentences_lengths)"
      ],
      "metadata": {
        "colab": {
          "base_uri": "https://localhost:8080/"
        },
        "id": "pxu-0nmXpD-a",
        "outputId": "1155d65e-02a6-4542-e831-dfd4fa0437f4"
      },
      "execution_count": 38,
      "outputs": [
        {
          "output_type": "execute_result",
          "data": {
            "text/plain": [
              "296"
            ]
          },
          "metadata": {},
          "execution_count": 38
        }
      ]
    },
    {
      "cell_type": "markdown",
      "source": [
        "### Create Text Vectorizer Layer"
      ],
      "metadata": {
        "id": "0zyxBUNWpOk0"
      }
    },
    {
      "cell_type": "code",
      "source": [
        "max_tokens = 68000\n",
        "from tensorflow.keras.layers.experimental.preprocessing import TextVectorization\n",
        "text_vectorizer = TextVectorization(\n",
        "    max_tokens = max_tokens,\n",
        "    output_sequence_length = 55\n",
        ")"
      ],
      "metadata": {
        "id": "dMZ8TmuRqho2"
      },
      "execution_count": 39,
      "outputs": []
    },
    {
      "cell_type": "code",
      "source": [
        "text_vectorizer.adapt(train_sentences)"
      ],
      "metadata": {
        "id": "42gFKinkrCrJ"
      },
      "execution_count": 40,
      "outputs": []
    },
    {
      "cell_type": "code",
      "source": [
        "import random\n",
        "target_sentence = random.choice(train_sentences)\n",
        "print(\"Text:\",target_sentence)\n",
        "print(\"Length of Text:\",len(target_sentence))\n",
        "print(\"Vectorizer Text:\",text_vectorizer([target_sentence]))"
      ],
      "metadata": {
        "colab": {
          "base_uri": "https://localhost:8080/"
        },
        "id": "mvkGONpGrZ9d",
        "outputId": "6b6c23c6-347c-4903-bba7-15a6cda80851"
      },
      "execution_count": 41,
      "outputs": [
        {
          "output_type": "stream",
          "name": "stdout",
          "text": [
            "Text: the results from this trial will inform evidence-based recommendations for suture selection in the management of patients undergoing total hip or knee replacement .\n",
            "Length of Text: 164\n",
            "Vectorizer Text: tf.Tensor(\n",
            "[[   2  117   27   23   32   95 1945 1439 1421   11 1875 2171    5    2\n",
            "   287    4   12  295   76  962   16  517 1075    0    0    0    0    0\n",
            "     0    0    0    0    0    0    0    0    0    0    0    0    0    0\n",
            "     0    0    0    0    0    0    0    0    0    0    0    0    0]], shape=(1, 55), dtype=int64)\n"
          ]
        }
      ]
    },
    {
      "cell_type": "code",
      "source": [
        "rct_20k_text_vocab = text_vectorizer.get_vocabulary()\n",
        "print(\"Most common words:\",rct_20k_text_vocab[:5])"
      ],
      "metadata": {
        "colab": {
          "base_uri": "https://localhost:8080/"
        },
        "id": "xWhzculwr0A8",
        "outputId": "43238afe-e0e0-4098-c2c2-16b99dc38d24"
      },
      "execution_count": 42,
      "outputs": [
        {
          "output_type": "stream",
          "name": "stdout",
          "text": [
            "Most common words: ['', '[UNK]', 'the', 'and', 'of']\n"
          ]
        }
      ]
    },
    {
      "cell_type": "code",
      "source": [
        "text_vectorizer.get_config()"
      ],
      "metadata": {
        "colab": {
          "base_uri": "https://localhost:8080/"
        },
        "id": "3MFGR93bsOLE",
        "outputId": "e2554f6f-341d-46ec-85c2-0f7b2451dbb2"
      },
      "execution_count": 43,
      "outputs": [
        {
          "output_type": "execute_result",
          "data": {
            "text/plain": [
              "{'name': 'text_vectorization',\n",
              " 'trainable': True,\n",
              " 'dtype': 'string',\n",
              " 'batch_input_shape': (None,),\n",
              " 'max_tokens': 68000,\n",
              " 'standardize': 'lower_and_strip_punctuation',\n",
              " 'split': 'whitespace',\n",
              " 'ngrams': None,\n",
              " 'output_mode': 'int',\n",
              " 'output_sequence_length': 55,\n",
              " 'pad_to_max_tokens': False,\n",
              " 'sparse': False,\n",
              " 'ragged': False,\n",
              " 'vocabulary': None,\n",
              " 'idf_weights': None,\n",
              " 'encoding': 'utf-8'}"
            ]
          },
          "metadata": {},
          "execution_count": 43
        }
      ]
    },
    {
      "cell_type": "markdown",
      "source": [
        "### Custom Token Embeddings"
      ],
      "metadata": {
        "id": "Yb1unBQRsV6G"
      }
    },
    {
      "cell_type": "code",
      "source": [
        "token_embeddings = tf.keras.layers.Embedding(\n",
        "    input_dim = len(rct_20k_text_vocab),output_dim = 256,\n",
        "    mask_zero = True #Mask variable lengths\n",
        "    )"
      ],
      "metadata": {
        "id": "bCeOVHp-soQG"
      },
      "execution_count": 44,
      "outputs": []
    },
    {
      "cell_type": "code",
      "source": [
        "token_embeddings"
      ],
      "metadata": {
        "colab": {
          "base_uri": "https://localhost:8080/"
        },
        "id": "H3sLR3_fswkp",
        "outputId": "f27c89ce-3b70-46d0-862f-a2f132b18e0f"
      },
      "execution_count": 45,
      "outputs": [
        {
          "output_type": "execute_result",
          "data": {
            "text/plain": [
              "<keras.layers.core.embedding.Embedding at 0x7fc74a5864f0>"
            ]
          },
          "metadata": {},
          "execution_count": 45
        }
      ]
    },
    {
      "cell_type": "code",
      "source": [
        "print(\"Text :\",target_sentence)\n",
        "print(\"Vectorized Text:\",text_vectorizer([target_sentence]))\n",
        "print(\"Embedded Text:\",token_embeddings(text_vectorizer([target_sentence])))"
      ],
      "metadata": {
        "colab": {
          "base_uri": "https://localhost:8080/"
        },
        "id": "tpLE0JWStMa1",
        "outputId": "53811cd4-5079-4262-8d3a-4aa86a266192"
      },
      "execution_count": 46,
      "outputs": [
        {
          "output_type": "stream",
          "name": "stdout",
          "text": [
            "Text : the results from this trial will inform evidence-based recommendations for suture selection in the management of patients undergoing total hip or knee replacement .\n",
            "Vectorized Text: tf.Tensor(\n",
            "[[   2  117   27   23   32   95 1945 1439 1421   11 1875 2171    5    2\n",
            "   287    4   12  295   76  962   16  517 1075    0    0    0    0    0\n",
            "     0    0    0    0    0    0    0    0    0    0    0    0    0    0\n",
            "     0    0    0    0    0    0    0    0    0    0    0    0    0]], shape=(1, 55), dtype=int64)\n",
            "Embedded Text: tf.Tensor(\n",
            "[[[ 0.00440336  0.03133886  0.01863943 ...  0.0186074   0.01369865\n",
            "    0.04321045]\n",
            "  [-0.03041635 -0.03888296  0.04289505 ...  0.02605612 -0.01397767\n",
            "   -0.03404849]\n",
            "  [-0.02041695  0.03053768  0.04832667 ... -0.0055486   0.04728607\n",
            "    0.00034217]\n",
            "  ...\n",
            "  [ 0.0373078   0.00236049  0.01423374 ...  0.01065904  0.04193659\n",
            "   -0.010641  ]\n",
            "  [ 0.0373078   0.00236049  0.01423374 ...  0.01065904  0.04193659\n",
            "   -0.010641  ]\n",
            "  [ 0.0373078   0.00236049  0.01423374 ...  0.01065904  0.04193659\n",
            "   -0.010641  ]]], shape=(1, 55, 256), dtype=float32)\n"
          ]
        }
      ]
    },
    {
      "cell_type": "markdown",
      "source": [
        "### Creating datasets (Fast Loads)"
      ],
      "metadata": {
        "id": "SCMkpDCctkUt"
      }
    },
    {
      "cell_type": "code",
      "source": [
        "train_dataset = tf.data.Dataset.from_tensor_slices((train_sentences,train_target_one_hot))\n",
        "val_dataset = tf.data.Dataset.from_tensor_slices((val_sentences,val_target_one_hot))\n",
        "test_dataset = tf.data.Dataset.from_tensor_slices((test_sentences,test_target_one_hot))"
      ],
      "metadata": {
        "id": "aIGu-pPauY2y"
      },
      "execution_count": 47,
      "outputs": []
    },
    {
      "cell_type": "code",
      "source": [
        "train_dataset"
      ],
      "metadata": {
        "colab": {
          "base_uri": "https://localhost:8080/"
        },
        "id": "lICM_KctupXn",
        "outputId": "eb6357b6-ecf9-4523-d6a5-ff880dd96ff0"
      },
      "execution_count": 48,
      "outputs": [
        {
          "output_type": "execute_result",
          "data": {
            "text/plain": [
              "<TensorSliceDataset element_spec=(TensorSpec(shape=(), dtype=tf.string, name=None), TensorSpec(shape=(5,), dtype=tf.float64, name=None))>"
            ]
          },
          "metadata": {},
          "execution_count": 48
        }
      ]
    },
    {
      "cell_type": "code",
      "source": [
        "train_data = train_dataset.batch(32).prefetch(tf.data.AUTOTUNE)\n",
        "val_data = val_dataset.batch(32).prefetch(tf.data.AUTOTUNE)\n",
        "test_data = test_dataset.batch(32).prefetch(tf.data.AUTOTUNE)"
      ],
      "metadata": {
        "id": "V19pdpTFuwV7"
      },
      "execution_count": 49,
      "outputs": []
    },
    {
      "cell_type": "markdown",
      "source": [
        "## Model 1 : Conv1D with token Embeddings"
      ],
      "metadata": {
        "id": "M0TJJcuvu_Q7"
      }
    },
    {
      "cell_type": "code",
      "source": [
        "from tensorflow.keras import layers"
      ],
      "metadata": {
        "id": "XR6pzEE0w1EM"
      },
      "execution_count": 50,
      "outputs": []
    },
    {
      "cell_type": "code",
      "source": [
        "inputs = layers.Input(shape = (1,),dtype = tf.string)\n",
        "text_vectors = text_vectorizer(inputs)\n",
        "token_embed = token_embeddings(text_vectors)\n",
        "x = layers.Conv1D(64,kernel_size = 5,padding = \"same\",activation = \"relu\")(token_embed)\n",
        "x = layers.GlobalAveragePooling1D()(x)\n",
        "outputs = layers.Dense(5,activation  = \"softmax\",name = \"output_layer\")(x)\n",
        "model_1 = tf.keras.Model(inputs,outputs)\n",
        "model_1.compile(loss = \"categorical_crossentropy\",optimizer = \"adam\",metrics = [\"accuracy\"])"
      ],
      "metadata": {
        "id": "KyhErUBGvQgB"
      },
      "execution_count": 51,
      "outputs": []
    },
    {
      "cell_type": "code",
      "source": [
        "model_1.summary()"
      ],
      "metadata": {
        "colab": {
          "base_uri": "https://localhost:8080/"
        },
        "id": "RoVv6UDuwylL",
        "outputId": "6a5ba8dc-7c7b-4d9b-d2c6-e4a0d85eebc1"
      },
      "execution_count": 52,
      "outputs": [
        {
          "output_type": "stream",
          "name": "stdout",
          "text": [
            "Model: \"model\"\n",
            "_________________________________________________________________\n",
            " Layer (type)                Output Shape              Param #   \n",
            "=================================================================\n",
            " input_1 (InputLayer)        [(None, 1)]               0         \n",
            "                                                                 \n",
            " text_vectorization (TextVec  (None, 55)               0         \n",
            " torization)                                                     \n",
            "                                                                 \n",
            " embedding (Embedding)       (None, 55, 256)           16599296  \n",
            "                                                                 \n",
            " conv1d (Conv1D)             (None, 55, 64)            81984     \n",
            "                                                                 \n",
            " global_average_pooling1d (G  (None, 64)               0         \n",
            " lobalAveragePooling1D)                                          \n",
            "                                                                 \n",
            " output_layer (Dense)        (None, 5)                 325       \n",
            "                                                                 \n",
            "=================================================================\n",
            "Total params: 16,681,605\n",
            "Trainable params: 16,681,605\n",
            "Non-trainable params: 0\n",
            "_________________________________________________________________\n"
          ]
        }
      ]
    },
    {
      "cell_type": "code",
      "source": [
        "train_data"
      ],
      "metadata": {
        "colab": {
          "base_uri": "https://localhost:8080/"
        },
        "id": "nfsPXMzPxffz",
        "outputId": "eb41acf0-f89d-40ca-a773-1fc68e5591ea"
      },
      "execution_count": 53,
      "outputs": [
        {
          "output_type": "execute_result",
          "data": {
            "text/plain": [
              "<PrefetchDataset element_spec=(TensorSpec(shape=(None,), dtype=tf.string, name=None), TensorSpec(shape=(None, 5), dtype=tf.float64, name=None))>"
            ]
          },
          "metadata": {},
          "execution_count": 53
        }
      ]
    },
    {
      "cell_type": "code",
      "source": [
        "history_1 = model_1.fit(train_data,\n",
        "      steps_per_epoch = int(0.1*len(train_data)),\n",
        "      epochs = 3,\n",
        "      validation_data = val_data,\n",
        "      validation_steps = int(0.1*len(val_data))\n",
        "    )"
      ],
      "metadata": {
        "colab": {
          "base_uri": "https://localhost:8080/"
        },
        "id": "RsJ-m7bNw-r1",
        "outputId": "bcce8759-c091-4a4f-9e23-295b438deb18"
      },
      "execution_count": 54,
      "outputs": [
        {
          "output_type": "stream",
          "name": "stdout",
          "text": [
            "Epoch 1/3\n",
            "562/562 [==============================] - 54s 75ms/step - loss: 0.8720 - accuracy: 0.6608 - val_loss: 0.6624 - val_accuracy: 0.7520\n",
            "Epoch 2/3\n",
            "562/562 [==============================] - 8s 14ms/step - loss: 0.6434 - accuracy: 0.7655 - val_loss: 0.6254 - val_accuracy: 0.7709\n",
            "Epoch 3/3\n",
            "562/562 [==============================] - 7s 12ms/step - loss: 0.6048 - accuracy: 0.7797 - val_loss: 0.5861 - val_accuracy: 0.7889\n"
          ]
        }
      ]
    },
    {
      "cell_type": "code",
      "source": [
        "model_1.evaluate(val_data)"
      ],
      "metadata": {
        "colab": {
          "base_uri": "https://localhost:8080/"
        },
        "id": "TmRSrKqBx-U_",
        "outputId": "ce933509-64a5-4644-92cf-e95f924372f1"
      },
      "execution_count": 55,
      "outputs": [
        {
          "output_type": "stream",
          "name": "stdout",
          "text": [
            "945/945 [==============================] - 4s 4ms/step - loss: 0.5852 - accuracy: 0.7908\n"
          ]
        },
        {
          "output_type": "execute_result",
          "data": {
            "text/plain": [
              "[0.585168719291687, 0.7908446788787842]"
            ]
          },
          "metadata": {},
          "execution_count": 55
        }
      ]
    },
    {
      "cell_type": "code",
      "source": [
        "model_1_preds_probs = model_1.predict(val_data)"
      ],
      "metadata": {
        "colab": {
          "base_uri": "https://localhost:8080/"
        },
        "id": "u3O_-KxgyT8V",
        "outputId": "a7d013fc-b166-4cd6-e90e-ec512438433e"
      },
      "execution_count": 56,
      "outputs": [
        {
          "output_type": "stream",
          "name": "stdout",
          "text": [
            "945/945 [==============================] - 3s 3ms/step\n"
          ]
        }
      ]
    },
    {
      "cell_type": "code",
      "source": [
        "model_1_preds_probs.shape"
      ],
      "metadata": {
        "colab": {
          "base_uri": "https://localhost:8080/"
        },
        "id": "ahUIqrDSydE7",
        "outputId": "23acaff1-4aaa-48fd-9bf9-8d05d91d77db"
      },
      "execution_count": 57,
      "outputs": [
        {
          "output_type": "execute_result",
          "data": {
            "text/plain": [
              "(30212, 5)"
            ]
          },
          "metadata": {},
          "execution_count": 57
        }
      ]
    },
    {
      "cell_type": "code",
      "source": [
        "model_1_probs = tf.argmax(model_1_preds_probs,axis = 1)"
      ],
      "metadata": {
        "id": "2_2_-TDByeWN"
      },
      "execution_count": 58,
      "outputs": []
    },
    {
      "cell_type": "code",
      "source": [
        "model_1_results = calculate_results(model_1_probs,val_target_label)"
      ],
      "metadata": {
        "id": "EHIX_CuLym7L"
      },
      "execution_count": 59,
      "outputs": []
    },
    {
      "cell_type": "code",
      "source": [
        "model_1_results"
      ],
      "metadata": {
        "colab": {
          "base_uri": "https://localhost:8080/"
        },
        "id": "NZwx7sAiyolm",
        "outputId": "830b3cdf-95f5-4a6d-c4d7-539799f36799"
      },
      "execution_count": 60,
      "outputs": [
        {
          "output_type": "execute_result",
          "data": {
            "text/plain": [
              "{'accuracy': 79.08446974712035,\n",
              " 'precision': 0.7956288532710644,\n",
              " 'recall': 0.7908446974712035,\n",
              " 'f1': 0.7926318541770576}"
            ]
          },
          "metadata": {},
          "execution_count": 60
        }
      ]
    },
    {
      "cell_type": "markdown",
      "source": [
        "## Model 2: Feature Extraction with pretrained token embeddings"
      ],
      "metadata": {
        "id": "LCKPvfzAzBJl"
      }
    },
    {
      "cell_type": "code",
      "source": [
        "import tensorflow_hub as hub\n",
        "tf_hub_embedding_layer = hub.KerasLayer(\"https://tfhub.dev/google/universal-sentence-encoder/4\",trainable = False)"
      ],
      "metadata": {
        "id": "fJzTcaHyRaA1"
      },
      "execution_count": 61,
      "outputs": []
    },
    {
      "cell_type": "code",
      "source": [
        "random_train_sentence = random.choice(train_sentences)"
      ],
      "metadata": {
        "id": "tynr6KodSMjV"
      },
      "execution_count": 62,
      "outputs": []
    },
    {
      "cell_type": "code",
      "source": [
        "from tensorflow.keras import layers\n",
        "\n",
        "inputs = layers.Input(shape = [],dtype = tf.string)\n",
        "x = tf_hub_embedding_layer(inputs)\n",
        "x = layers.Dense(128,activation = \"relu\")(x)\n",
        "outputs = layers.Dense(5,activation = \"softmax\")(x)\n",
        "model_2 = tf.keras.Model(inputs,outputs)\n",
        "model_2.compile(loss = \"categorical_crossentropy\",optimizer = \"adam\",metrics = ['accuracy'])"
      ],
      "metadata": {
        "id": "oOLu4jBYSWgS",
        "colab": {
          "base_uri": "https://localhost:8080/"
        },
        "outputId": "b921398a-a4f1-42f3-a20a-2d72edd72fa9"
      },
      "execution_count": 63,
      "outputs": [
        {
          "output_type": "stream",
          "name": "stderr",
          "text": [
            "WARNING:tensorflow:From /usr/local/lib/python3.9/dist-packages/tensorflow/python/autograph/pyct/static_analysis/liveness.py:83: Analyzer.lamba_check (from tensorflow.python.autograph.pyct.static_analysis.liveness) is deprecated and will be removed after 2023-09-23.\n",
            "Instructions for updating:\n",
            "Lambda fuctions will be no more assumed to be used in the statement where they are used, or at least in the same block. https://github.com/tensorflow/tensorflow/issues/56089\n"
          ]
        }
      ]
    },
    {
      "cell_type": "code",
      "source": [
        "history_2 = model_2.fit(train_data,steps_per_epoch = int(0.1*len(train_data)),\n",
        "      epochs = 3,\n",
        "      validation_data = val_data,\n",
        "      validation_steps = int(0.1*len(val_data))\n",
        "    )"
      ],
      "metadata": {
        "colab": {
          "base_uri": "https://localhost:8080/"
        },
        "id": "5BtV8PFrScV-",
        "outputId": "f9e459ba-8a08-4438-c80b-2700ab50e747"
      },
      "execution_count": 64,
      "outputs": [
        {
          "output_type": "stream",
          "name": "stdout",
          "text": [
            "Epoch 1/3\n",
            "562/562 [==============================] - 13s 16ms/step - loss: 0.9149 - accuracy: 0.6514 - val_loss: 0.7962 - val_accuracy: 0.6902\n",
            "Epoch 2/3\n",
            "562/562 [==============================] - 8s 15ms/step - loss: 0.7691 - accuracy: 0.7002 - val_loss: 0.7571 - val_accuracy: 0.7081\n",
            "Epoch 3/3\n",
            "562/562 [==============================] - 8s 14ms/step - loss: 0.7527 - accuracy: 0.7115 - val_loss: 0.7393 - val_accuracy: 0.7148\n"
          ]
        }
      ]
    },
    {
      "cell_type": "code",
      "source": [
        "model_2_preds_probs = model_2.predict(val_data)"
      ],
      "metadata": {
        "colab": {
          "base_uri": "https://localhost:8080/"
        },
        "id": "HMWGkaUETm_S",
        "outputId": "229e2834-0d65-4874-d530-da8110ab94cc"
      },
      "execution_count": 65,
      "outputs": [
        {
          "output_type": "stream",
          "name": "stdout",
          "text": [
            "945/945 [==============================] - 11s 11ms/step\n"
          ]
        }
      ]
    },
    {
      "cell_type": "code",
      "source": [
        "model_2_probs = tf.argmax(model_2_preds_probs,axis = 1)"
      ],
      "metadata": {
        "id": "fOiQQ15PUY08"
      },
      "execution_count": 66,
      "outputs": []
    },
    {
      "cell_type": "code",
      "source": [
        "model_2_results = calculate_results(model_2_probs,val_target_label)"
      ],
      "metadata": {
        "id": "GzPgmFQsUcHC"
      },
      "execution_count": 67,
      "outputs": []
    },
    {
      "cell_type": "code",
      "source": [
        "model_2_results"
      ],
      "metadata": {
        "colab": {
          "base_uri": "https://localhost:8080/"
        },
        "id": "VpTmNLUdUfph",
        "outputId": "04c40609-4142-44a4-cebb-084ba5d7c2ee"
      },
      "execution_count": 68,
      "outputs": [
        {
          "output_type": "execute_result",
          "data": {
            "text/plain": [
              "{'accuracy': 71.4318813716404,\n",
              " 'precision': 0.725401682917676,\n",
              " 'recall': 0.714318813716404,\n",
              " 'f1': 0.7172629308841378}"
            ]
          },
          "metadata": {},
          "execution_count": 68
        }
      ]
    },
    {
      "cell_type": "markdown",
      "source": [
        "## Model 3: Conv1D with Character Embeddings"
      ],
      "metadata": {
        "id": "gJBgJKBAUgkR"
      }
    },
    {
      "cell_type": "markdown",
      "source": [
        "### Character-Level Tokenizer"
      ],
      "metadata": {
        "id": "B7qHSF45Uz9U"
      }
    },
    {
      "cell_type": "code",
      "source": [
        "train_sentences[:5]"
      ],
      "metadata": {
        "colab": {
          "base_uri": "https://localhost:8080/"
        },
        "id": "CUOXSg7vVb86",
        "outputId": "d8ebda43-a879-4df0-a984-6657837593f1"
      },
      "execution_count": 69,
      "outputs": [
        {
          "output_type": "execute_result",
          "data": {
            "text/plain": [
              "['to investigate the efficacy of @ weeks of daily low-dose oral prednisolone in improving pain , mobility , and systemic low-grade inflammation in the short term and whether the effect would be sustained at @ weeks in older adults with moderate to severe knee osteoarthritis ( oa ) .',\n",
              " 'a total of @ patients with primary knee oa were randomized @:@ ; @ received @ mg/day of prednisolone and @ received placebo for @ weeks .',\n",
              " 'outcome measures included pain reduction and improvement in function scores and systemic inflammation markers .',\n",
              " 'pain was assessed using the visual analog pain scale ( @-@ mm ) .',\n",
              " 'secondary outcome measures included the western ontario and mcmaster universities osteoarthritis index scores , patient global assessment ( pga ) of the severity of knee oa , and @-min walk distance ( @mwd ) .']"
            ]
          },
          "metadata": {},
          "execution_count": 69
        }
      ]
    },
    {
      "cell_type": "code",
      "source": [
        "def split_chars(text):\n",
        "  return \" \".join(list(text))"
      ],
      "metadata": {
        "id": "9QmhYF9HV-u1"
      },
      "execution_count": 70,
      "outputs": []
    },
    {
      "cell_type": "code",
      "source": [
        "train_chars = [split_chars(sentence) for sentence in train_sentences]\n",
        "val_chars = [split_chars(sentence) for sentence in val_sentences]\n",
        "test_chars = [split_chars(sentence) for sentence in test_sentences]"
      ],
      "metadata": {
        "id": "FHkPKjgHWOOS"
      },
      "execution_count": 71,
      "outputs": []
    },
    {
      "cell_type": "code",
      "source": [
        "char_lens = [len(sentence) for sentence in train_sentences]\n",
        "print(np.mean(char_lens))"
      ],
      "metadata": {
        "colab": {
          "base_uri": "https://localhost:8080/"
        },
        "id": "3htksDmDWctz",
        "outputId": "fb806a5d-8311-4f56-b493-5ff026fea05f"
      },
      "execution_count": 72,
      "outputs": [
        {
          "output_type": "stream",
          "name": "stdout",
          "text": [
            "149.3662574983337\n"
          ]
        }
      ]
    },
    {
      "cell_type": "code",
      "source": [
        "output_seq_char_len = int(np.percentile(char_lens,95))"
      ],
      "metadata": {
        "id": "FUM46q-UWhPd"
      },
      "execution_count": 73,
      "outputs": []
    },
    {
      "cell_type": "code",
      "source": [
        "plt.hist(char_lens,bins = 7)"
      ],
      "metadata": {
        "colab": {
          "base_uri": "https://localhost:8080/",
          "height": 0
        },
        "id": "qgAUNXp4W8w-",
        "outputId": "2c1c9d25-d043-47f6-cfef-c36a10b47934"
      },
      "execution_count": 74,
      "outputs": [
        {
          "output_type": "execute_result",
          "data": {
            "text/plain": [
              "(array([1.41175e+05, 3.71110e+04, 1.60000e+03, 1.27000e+02, 2.10000e+01,\n",
              "        5.00000e+00, 1.00000e+00]),\n",
              " array([1.00000000e+00, 1.98857143e+02, 3.96714286e+02, 5.94571429e+02,\n",
              "        7.92428571e+02, 9.90285714e+02, 1.18814286e+03, 1.38600000e+03]),\n",
              " <BarContainer object of 7 artists>)"
            ]
          },
          "metadata": {},
          "execution_count": 74
        },
        {
          "output_type": "display_data",
          "data": {
            "text/plain": [
              "<Figure size 432x288 with 1 Axes>"
            ],
            "image/png": "[encoded data removed]"
          },
          "metadata": {
            "needs_background": "light"
          }
        }
      ]
    },
    {
      "cell_type": "code",
      "source": [
        "output_seq_char_len"
      ],
      "metadata": {
        "colab": {
          "base_uri": "https://localhost:8080/"
        },
        "id": "uuuGX77RXBat",
        "outputId": "4b16fba5-b0a8-4204-db2c-ca14dcc028c9"
      },
      "execution_count": 75,
      "outputs": [
        {
          "output_type": "execute_result",
          "data": {
            "text/plain": [
              "290"
            ]
          },
          "metadata": {},
          "execution_count": 75
        }
      ]
    },
    {
      "cell_type": "code",
      "source": [
        "import string\n",
        "tokens = string.ascii_lowercase+string.digits+string.punctuation\n",
        "tokens"
      ],
      "metadata": {
        "colab": {
          "base_uri": "https://localhost:8080/",
          "height": 0
        },
        "id": "n9RavTtlXE2S",
        "outputId": "3d4c2893-a1f2-4059-e10f-d0b7ab047d25"
      },
      "execution_count": 76,
      "outputs": [
        {
          "output_type": "execute_result",
          "data": {
            "text/plain": [
              "'abcdefghijklmnopqrstuvwxyz0123456789!\"#$%&\\'()*+,-./:;<=>?@[\\\\]^_`{|}~'"
            ],
            "application/vnd.google.colaboratory.intrinsic+json": {
              "type": "string"
            }
          },
          "metadata": {},
          "execution_count": 76
        }
      ]
    },
    {
      "cell_type": "code",
      "source": [
        "num_char_tokens = len(tokens)+2\n",
        "char_vectorizer = TextVectorization(max_tokens = num_char_tokens,\n",
        "  output_sequence_length = output_seq_char_len,name = \"char_vectorizer\",\n",
        "  standardize = \"lower_and_strip_punctuation\"\n",
        ")"
      ],
      "metadata": {
        "id": "in_NU4XIXXgH"
      },
      "execution_count": 77,
      "outputs": []
    },
    {
      "cell_type": "code",
      "source": [
        "char_vectorizer.adapt(train_chars)"
      ],
      "metadata": {
        "id": "fBsl4X_TXtrc"
      },
      "execution_count": 78,
      "outputs": []
    },
    {
      "cell_type": "code",
      "source": [
        "char_vocab = char_vectorizer.get_vocabulary()"
      ],
      "metadata": {
        "id": "xg5CIFZ9X3et"
      },
      "execution_count": 79,
      "outputs": []
    },
    {
      "cell_type": "code",
      "source": [
        "print(len(char_vocab))"
      ],
      "metadata": {
        "colab": {
          "base_uri": "https://localhost:8080/"
        },
        "id": "XnELC0f9X903",
        "outputId": "5e4bcde2-5a64-45da-ce65-1246efe17031"
      },
      "execution_count": 80,
      "outputs": [
        {
          "output_type": "stream",
          "name": "stdout",
          "text": [
            "28\n"
          ]
        }
      ]
    },
    {
      "cell_type": "markdown",
      "source": [
        "### Character-Level Embedding Layer"
      ],
      "metadata": {
        "id": "fgGVpSn9X_i2"
      }
    },
    {
      "cell_type": "code",
      "source": [
        "character_embeddings = layers.Embedding(\n",
        "    input_dim = len(char_vocab),\n",
        "    output_dim = 25,\n",
        "    mask_zero = True,\n",
        "    name = \"char_embed\"\n",
        "    )"
      ],
      "metadata": {
        "id": "nlSIDPmzYqzv"
      },
      "execution_count": 81,
      "outputs": []
    },
    {
      "cell_type": "code",
      "source": [
        "inputs = layers.Input(shape = (1,),dtype = tf.string)\n",
        "x = char_vectorizer(inputs)\n",
        "x = character_embeddings(x)\n",
        "x = layers.Conv1D(64,10,padding = \"same\",activation = \"relu\")(x)\n",
        "x = layers.GlobalMaxPool1D()(x)\n",
        "outputs = layers.Dense(5,activation = \"softmax\")(x)\n",
        "model_3 = tf.keras.Model(inputs,outputs)\n",
        "model_3.compile(loss = \"categorical_crossentropy\",optimizer = \"adam\",metrics = [\"accuracy\"])"
      ],
      "metadata": {
        "id": "cUFglANmZL6_"
      },
      "execution_count": 82,
      "outputs": []
    },
    {
      "cell_type": "code",
      "source": [
        "history_3 = model_3.fit(train_data,steps_per_epoch = int(0.1*len(train_data)),\n",
        "      epochs = 3,\n",
        "      validation_data = val_data,\n",
        "      validation_steps = int(0.1*len(val_data))\n",
        "    ) ## Reason of accuracy being low is that train_data is not optimized for character level model"
      ],
      "metadata": {
        "colab": {
          "base_uri": "https://localhost:8080/"
        },
        "id": "siEIT8h4aE5X",
        "outputId": "4e1cc81e-1b62-4ab1-9104-505f389b1109"
      },
      "execution_count": 83,
      "outputs": [
        {
          "output_type": "stream",
          "name": "stdout",
          "text": [
            "Epoch 1/3\n",
            "562/562 [==============================] - 14s 17ms/step - loss: 1.3619 - accuracy: 0.4302 - val_loss: 1.3306 - val_accuracy: 0.4338\n",
            "Epoch 2/3\n",
            "562/562 [==============================] - 5s 9ms/step - loss: 1.3211 - accuracy: 0.4267 - val_loss: 1.3140 - val_accuracy: 0.4362\n",
            "Epoch 3/3\n",
            "562/562 [==============================] - 7s 12ms/step - loss: 1.3120 - accuracy: 0.4368 - val_loss: 1.3155 - val_accuracy: 0.3939\n"
          ]
        }
      ]
    },
    {
      "cell_type": "markdown",
      "source": [
        "### Tuning dataset for character level model"
      ],
      "metadata": {
        "id": "DJWQU25IaLRY"
      }
    },
    {
      "cell_type": "code",
      "source": [
        "train_char_dataset = tf.data.Dataset.from_tensor_slices((train_chars,train_target_one_hot)).batch(32).prefetch(tf.data.AUTOTUNE)\n",
        "val_char_dataset = tf.data.Dataset.from_tensor_slices((val_chars,val_target_one_hot)).batch(32).prefetch(tf.data.AUTOTUNE)\n",
        "test_char_dataset = tf.data.Dataset.from_tensor_slices((test_chars,test_target_one_hot)).batch(32).prefetch(tf.data.AUTOTUNE)"
      ],
      "metadata": {
        "id": "TmUKNJCRagTv"
      },
      "execution_count": 84,
      "outputs": []
    },
    {
      "cell_type": "code",
      "source": [
        "history_3 = model_3.fit(train_char_dataset,steps_per_epoch = int(0.1*len(train_char_dataset)),\n",
        "      epochs = 3,\n",
        "      validation_data = val_char_dataset,\n",
        "      validation_steps = int(0.1*len(val_char_dataset))\n",
        "    )"
      ],
      "metadata": {
        "colab": {
          "base_uri": "https://localhost:8080/"
        },
        "id": "TiF14Za4apxI",
        "outputId": "98fbae80-c05a-4952-f134-7b81d5691aa7"
      },
      "execution_count": 85,
      "outputs": [
        {
          "output_type": "stream",
          "name": "stdout",
          "text": [
            "Epoch 1/3\n",
            "562/562 [==============================] - 7s 12ms/step - loss: 1.2087 - accuracy: 0.5099 - val_loss: 1.0186 - val_accuracy: 0.5834\n",
            "Epoch 2/3\n",
            "562/562 [==============================] - 7s 12ms/step - loss: 0.9658 - accuracy: 0.6128 - val_loss: 0.8893 - val_accuracy: 0.6549\n",
            "Epoch 3/3\n",
            "562/562 [==============================] - 4s 6ms/step - loss: 0.8759 - accuracy: 0.6606 - val_loss: 0.8223 - val_accuracy: 0.6799\n"
          ]
        }
      ]
    },
    {
      "cell_type": "code",
      "source": [
        "model_3_prob_preds = model_3.predict(val_char_dataset)"
      ],
      "metadata": {
        "colab": {
          "base_uri": "https://localhost:8080/"
        },
        "id": "KF5my8BSa8fX",
        "outputId": "8c6c5bdc-9284-4505-88d8-4a10f009f9ed"
      },
      "execution_count": 86,
      "outputs": [
        {
          "output_type": "stream",
          "name": "stdout",
          "text": [
            "945/945 [==============================] - 3s 3ms/step\n"
          ]
        }
      ]
    },
    {
      "cell_type": "code",
      "source": [
        "model_3_preds = tf.argmax(model_3_prob_preds,axis = 1)"
      ],
      "metadata": {
        "id": "T89Pg95hbRFe"
      },
      "execution_count": 87,
      "outputs": []
    },
    {
      "cell_type": "code",
      "source": [
        "model_3_results = calculate_results(model_3_preds,val_target_label)"
      ],
      "metadata": {
        "id": "xiE1QfiRbYkv"
      },
      "execution_count": 88,
      "outputs": []
    },
    {
      "cell_type": "code",
      "source": [
        "model_3_results"
      ],
      "metadata": {
        "id": "RqB17U4abgEr",
        "outputId": "abef3298-74b9-48ec-a4a9-ddc78861f0a6",
        "colab": {
          "base_uri": "https://localhost:8080/"
        }
      },
      "execution_count": 89,
      "outputs": [
        {
          "output_type": "execute_result",
          "data": {
            "text/plain": [
              "{'accuracy': 67.45001985965841,\n",
              " 'precision': 0.7007809476814895,\n",
              " 'recall': 0.6745001985965842,\n",
              " 'f1': 0.6810613928571806}"
            ]
          },
          "metadata": {},
          "execution_count": 89
        }
      ]
    },
    {
      "cell_type": "markdown",
      "source": [
        "## Model 4: Combining pretrained token embeddings + characters embedding"
      ],
      "metadata": {
        "id": "a24bBpF7bjQQ"
      }
    },
    {
      "cell_type": "markdown",
      "source": [
        "### Token Model"
      ],
      "metadata": {
        "id": "oWa006ZdlDQP"
      }
    },
    {
      "cell_type": "code",
      "source": [
        "token_inputs = layers.Input(shape = [],dtype = tf.string,name = \"token_input\")\n",
        "token_embeddings = tf_hub_embedding_layer(token_inputs)\n",
        "token_output = layers.Dense(100,activation = \"relu\")(token_embeddings)\n",
        "token_model = tf.keras.Model(inputs = token_inputs,outputs = token_output)"
      ],
      "metadata": {
        "id": "ovoombCpjYkm"
      },
      "execution_count": 90,
      "outputs": []
    },
    {
      "cell_type": "markdown",
      "source": [
        "### Character Model"
      ],
      "metadata": {
        "id": "WbleqFKElE82"
      }
    },
    {
      "cell_type": "code",
      "source": [
        "char_inputs = layers.Input(shape = (1,),dtype = tf.string,name = \"char_input\")\n",
        "char_vectors = char_vectorizer(char_inputs)\n",
        "char_embeddings = character_embeddings(char_vectors)\n",
        "char_bi_lstm = layers.Bidirectional(layers.LSTM(24))(char_embeddings) # BI-LSTM\n",
        "char_model = tf.keras.Model(char_inputs,char_bi_lstm)"
      ],
      "metadata": {
        "id": "mzwmNndbjwBQ"
      },
      "execution_count": 91,
      "outputs": []
    },
    {
      "cell_type": "markdown",
      "source": [
        "### Concatenate Token and Character Model"
      ],
      "metadata": {
        "id": "re8oBWwrkYqW"
      }
    },
    {
      "cell_type": "code",
      "source": [
        "token_char_concat = layers.Concatenate(name = \"token_char_hybrid\")([token_model.output,char_model.output])\n",
        "combined_dropout = layers.Dropout(0.5)(token_char_concat)\n",
        "combined_dense = layers.Dense(128,activation = \"relu\")(combined_dropout)\n",
        "final_dropout = layers.Dropout(0.5)(combined_dense)\n",
        "output = layers.Dense(5,activation = \"softmax\")(final_dropout)\n",
        "model_4 = tf.keras.Model(inputs = [token_model.input,char_model.input],outputs = output)"
      ],
      "metadata": {
        "id": "JJUs7adhlQK6"
      },
      "execution_count": 92,
      "outputs": []
    },
    {
      "cell_type": "code",
      "source": [
        "model_4.summary()"
      ],
      "metadata": {
        "colab": {
          "base_uri": "https://localhost:8080/"
        },
        "id": "uGHEX9bQmklE",
        "outputId": "10ca36d5-43fb-4d95-fb14-45af2c46954e"
      },
      "execution_count": 93,
      "outputs": [
        {
          "output_type": "stream",
          "name": "stdout",
          "text": [
            "Model: \"model_5\"\n",
            "__________________________________________________________________________________________________\n",
            " Layer (type)                   Output Shape         Param #     Connected to                     \n",
            "==================================================================================================\n",
            " char_input (InputLayer)        [(None, 1)]          0           []                               \n",
            "                                                                                                  \n",
            " token_input (InputLayer)       [(None,)]            0           []                               \n",
            "                                                                                                  \n",
            " char_vectorizer (TextVectoriza  (None, 290)         0           ['char_input[0][0]']             \n",
            " tion)                                                                                            \n",
            "                                                                                                  \n",
            " keras_layer (KerasLayer)       (None, 512)          256797824   ['token_input[0][0]']            \n",
            "                                                                                                  \n",
            " char_embed (Embedding)         (None, 290, 25)      700         ['char_vectorizer[1][0]']        \n",
            "                                                                                                  \n",
            " dense_3 (Dense)                (None, 100)          51300       ['keras_layer[1][0]']            \n",
            "                                                                                                  \n",
            " bidirectional (Bidirectional)  (None, 48)           9600        ['char_embed[1][0]']             \n",
            "                                                                                                  \n",
            " token_char_hybrid (Concatenate  (None, 148)         0           ['dense_3[0][0]',                \n",
            " )                                                                'bidirectional[0][0]']          \n",
            "                                                                                                  \n",
            " dropout (Dropout)              (None, 148)          0           ['token_char_hybrid[0][0]']      \n",
            "                                                                                                  \n",
            " dense_4 (Dense)                (None, 128)          19072       ['dropout[0][0]']                \n",
            "                                                                                                  \n",
            " dropout_1 (Dropout)            (None, 128)          0           ['dense_4[0][0]']                \n",
            "                                                                                                  \n",
            " dense_5 (Dense)                (None, 5)            645         ['dropout_1[0][0]']              \n",
            "                                                                                                  \n",
            "==================================================================================================\n",
            "Total params: 256,879,141\n",
            "Trainable params: 81,317\n",
            "Non-trainable params: 256,797,824\n",
            "__________________________________________________________________________________________________\n"
          ]
        }
      ]
    },
    {
      "cell_type": "code",
      "source": [
        "model_4.compile(loss = \"categorical_crossentropy\",optimizer = \"adam\",metrics = ['accuracy'])\n"
      ],
      "metadata": {
        "id": "zK4qHUI_lvky"
      },
      "execution_count": 94,
      "outputs": []
    },
    {
      "cell_type": "code",
      "source": [
        "from keras.utils import plot_model"
      ],
      "metadata": {
        "id": "8RHzeyPUl27C"
      },
      "execution_count": 95,
      "outputs": []
    },
    {
      "cell_type": "code",
      "source": [
        "plot_model(model_4)"
      ],
      "metadata": {
        "colab": {
          "base_uri": "https://localhost:8080/",
          "height": 856
        },
        "id": "-zyPSwbOnL93",
        "outputId": "a710dfc6-4b5e-49a2-cbcd-092d088af9ad"
      },
      "execution_count": 96,
      "outputs": [
        {
          "output_type": "execute_result",
          "data": {
            "image/png": "[encoded data removed]",
            "text/plain": [
              "<IPython.core.display.Image object>"
            ]
          },
          "metadata": {},
          "execution_count": 96
        }
      ]
    },
    {
      "cell_type": "markdown",
      "source": [
        "## Combining Character and Token Data into Dataset"
      ],
      "metadata": {
        "id": "st6oBltRnQC8"
      }
    },
    {
      "cell_type": "code",
      "source": [
        "train_token_char_data = tf.data.Dataset.from_tensor_slices((train_sentences,train_chars))\n",
        "train_token_char_label = tf.data.Dataset.from_tensor_slices((train_target_one_hot))\n",
        "train_token_char_dataset = tf.data.Dataset.zip((train_token_char_data,train_token_char_label)).batch(32).prefetch(tf.data.AUTOTUNE)"
      ],
      "metadata": {
        "id": "5YUBggASn2u1"
      },
      "execution_count": 97,
      "outputs": []
    },
    {
      "cell_type": "code",
      "source": [
        "val_token_char_data = tf.data.Dataset.from_tensor_slices((val_sentences,val_chars))\n",
        "val_token_char_label = tf.data.Dataset.from_tensor_slices((val_target_one_hot))\n",
        "val_token_char_dataset = tf.data.Dataset.zip((val_token_char_data,val_token_char_label)).batch(32).prefetch(tf.data.AUTOTUNE)"
      ],
      "metadata": {
        "id": "AiEQJe0uoHVo"
      },
      "execution_count": 98,
      "outputs": []
    },
    {
      "cell_type": "code",
      "source": [
        "history_4 = model_4.fit(train_token_char_dataset,steps_per_epoch = int(0.1*len(train_token_char_dataset)),\n",
        "      epochs = 3,\n",
        "      validation_data = val_token_char_dataset,\n",
        "      validation_steps = int(0.1*len(val_token_char_dataset))\n",
        "    )"
      ],
      "metadata": {
        "colab": {
          "base_uri": "https://localhost:8080/"
        },
        "id": "JzRXuC8vpNaz",
        "outputId": "cbfc2c49-5974-48aa-b11c-9ff5bd0b14a4"
      },
      "execution_count": 99,
      "outputs": [
        {
          "output_type": "stream",
          "name": "stdout",
          "text": [
            "Epoch 1/3\n",
            "562/562 [==============================] - 49s 67ms/step - loss: 0.9992 - accuracy: 0.6008 - val_loss: 0.7921 - val_accuracy: 0.6918\n",
            "Epoch 2/3\n",
            "562/562 [==============================] - 41s 73ms/step - loss: 0.8092 - accuracy: 0.6864 - val_loss: 0.7257 - val_accuracy: 0.7251\n",
            "Epoch 3/3\n",
            "562/562 [==============================] - 25s 45ms/step - loss: 0.7862 - accuracy: 0.7008 - val_loss: 0.6959 - val_accuracy: 0.7360\n"
          ]
        }
      ]
    },
    {
      "cell_type": "code",
      "source": [
        "model_4_prob_preds = model_4.predict(val_token_char_dataset)"
      ],
      "metadata": {
        "colab": {
          "base_uri": "https://localhost:8080/"
        },
        "id": "5N6_L_jJpdmr",
        "outputId": "4dfd926d-6ff9-4e60-84cc-fa0b2fc604cd"
      },
      "execution_count": 100,
      "outputs": [
        {
          "output_type": "stream",
          "name": "stdout",
          "text": [
            "945/945 [==============================] - 23s 21ms/step\n"
          ]
        }
      ]
    },
    {
      "cell_type": "code",
      "source": [
        "model_4_preds = tf.argmax(model_4_prob_preds,axis = 1)"
      ],
      "metadata": {
        "id": "DA1YwOFSqL3d"
      },
      "execution_count": 101,
      "outputs": []
    },
    {
      "cell_type": "code",
      "source": [
        "model_4_results = calculate_results(model_4_preds,val_target_label)"
      ],
      "metadata": {
        "id": "mkXx7yZPqSoD"
      },
      "execution_count": 102,
      "outputs": []
    },
    {
      "cell_type": "code",
      "source": [
        "model_4_results"
      ],
      "metadata": {
        "colab": {
          "base_uri": "https://localhost:8080/"
        },
        "id": "ce054fSVqWOt",
        "outputId": "ec96f213-2379-479c-ffac-0c867d3b9720"
      },
      "execution_count": 103,
      "outputs": [
        {
          "output_type": "execute_result",
          "data": {
            "text/plain": [
              "{'accuracy': 73.60651396795976,\n",
              " 'precision': 0.7438675620229328,\n",
              " 'recall': 0.7360651396795975,\n",
              " 'f1': 0.7384799496345591}"
            ]
          },
          "metadata": {},
          "execution_count": 103
        }
      ]
    },
    {
      "cell_type": "markdown",
      "source": [
        "## Model 5: Pre-Trained Model with Character, Token and Positional Embeddings"
      ],
      "metadata": {
        "id": "WBfhk5V3qYqq"
      }
    },
    {
      "cell_type": "markdown",
      "source": [
        "**Note: Feature Engineered attributes should be available during test time as well. In this case line numbers and total_lines**"
      ],
      "metadata": {
        "id": "gu-CMskP6lPc"
      }
    },
    {
      "cell_type": "markdown",
      "source": [
        "### Positional Embeddings"
      ],
      "metadata": {
        "id": "57IZinaF6j7G"
      }
    },
    {
      "cell_type": "code",
      "source": [
        "train_df['line_number'].value_counts()"
      ],
      "metadata": {
        "colab": {
          "base_uri": "https://localhost:8080/"
        },
        "id": "wZ1ShM0G68Oq",
        "outputId": "c91a93ab-9725-4856-b1e6-550b519ab836"
      },
      "execution_count": 104,
      "outputs": [
        {
          "output_type": "execute_result",
          "data": {
            "text/plain": [
              "0     15000\n",
              "1     15000\n",
              "2     15000\n",
              "3     15000\n",
              "4     14992\n",
              "5     14949\n",
              "6     14758\n",
              "7     14279\n",
              "8     13346\n",
              "9     11981\n",
              "10    10041\n",
              "11     7892\n",
              "12     5853\n",
              "13     4152\n",
              "14     2835\n",
              "15     1861\n",
              "16     1188\n",
              "17      751\n",
              "18      462\n",
              "19      286\n",
              "20      162\n",
              "21      101\n",
              "22       66\n",
              "23       33\n",
              "24       22\n",
              "25       14\n",
              "26        7\n",
              "27        4\n",
              "28        3\n",
              "29        1\n",
              "30        1\n",
              "Name: line_number, dtype: int64"
            ]
          },
          "metadata": {},
          "execution_count": 104
        }
      ]
    },
    {
      "cell_type": "code",
      "source": [
        "train_df.line_number.plot.hist()"
      ],
      "metadata": {
        "colab": {
          "base_uri": "https://localhost:8080/",
          "height": 282
        },
        "id": "t_POzZVVGIAa",
        "outputId": "fe33e20a-1573-4957-f1e2-7ac674f53980"
      },
      "execution_count": 113,
      "outputs": [
        {
          "output_type": "execute_result",
          "data": {
            "text/plain": [
              "<Axes: ylabel='Frequency'>"
            ]
          },
          "metadata": {},
          "execution_count": 113
        },
        {
          "output_type": "display_data",
          "data": {
            "text/plain": [
              "<Figure size 432x288 with 1 Axes>"
            ],
            "image/png": "[encoded data removed]"
          },
          "metadata": {
            "needs_background": "light"
          }
        }
      ]
    },
    {
      "cell_type": "code",
      "source": [
        "train_line_numbers_one_hot = tf.one_hot(train_df['line_number'].to_numpy(),depth = 15)\n",
        "val_line_numbers_one_hot = tf.one_hot(val_df['line_number'].to_numpy(),depth = 15)\n",
        "test_line_numbers_one_hot = tf.one_hot(test_df['line_number'].to_numpy(),depth = 15)"
      ],
      "metadata": {
        "id": "PwhNw05XD3Lu"
      },
      "execution_count": 149,
      "outputs": []
    },
    {
      "cell_type": "code",
      "source": [
        "train_df['total lines'].plot.hist()"
      ],
      "metadata": {
        "colab": {
          "base_uri": "https://localhost:8080/",
          "height": 284
        },
        "id": "CYXftI-4Ga4q",
        "outputId": "b43ecfbd-00a3-4c9c-a836-7e9360c6bc1d"
      },
      "execution_count": 115,
      "outputs": [
        {
          "output_type": "execute_result",
          "data": {
            "text/plain": [
              "<Axes: ylabel='Frequency'>"
            ]
          },
          "metadata": {},
          "execution_count": 115
        },
        {
          "output_type": "display_data",
          "data": {
            "text/plain": [
              "<Figure size 432x288 with 1 Axes>"
            ],
            "image/png": "[encoded data removed]"
          },
          "metadata": {
            "needs_background": "light"
          }
        }
      ]
    },
    {
      "cell_type": "code",
      "source": [
        "train_total_line_one_hot = tf.one_hot(train_df['total lines'].to_numpy(),depth = 20)\n",
        "val_total_line_one_hot = tf.one_hot(val_df['total lines'].to_numpy(),depth = 20)\n",
        "test_total_line_one_hot = tf.one_hot(test_df['total lines'].to_numpy(),depth = 20)"
      ],
      "metadata": {
        "id": "0_xHpsq_FQZD"
      },
      "execution_count": 148,
      "outputs": []
    },
    {
      "cell_type": "markdown",
      "source": [
        "### Building a tribrid embedding model\n"
      ],
      "metadata": {
        "id": "vunAyDFRFaAz"
      }
    },
    {
      "cell_type": "code",
      "source": [
        "token_inputs = layers.Input(shape = [],dtype = tf.string,name = \"token_input\")\n",
        "token_embeddings = tf_hub_embedding_layer(token_inputs)\n",
        "token_output = layers.Dense(128,activation = \"relu\")(token_embeddings)\n",
        "token_model = tf.keras.Model(inputs = token_inputs,outputs = token_output)\n",
        "\n",
        "char_inputs = layers.Input(shape=(1,), dtype=\"string\", name=\"char_inputs\")\n",
        "char_vectors = char_vectorizer(char_inputs)\n",
        "char_embeddings = character_embeddings(char_vectors)\n",
        "char_bi_lstm = layers.Bidirectional(layers.LSTM(32))(char_embeddings)\n",
        "char_model = tf.keras.Model(inputs=char_inputs,\n",
        "                            outputs=char_bi_lstm)\n",
        "\n",
        "line_number_inputs = layers.Input(shape = (15,),dtype = tf.float32,name = \"line_number_input\")\n",
        "line_number_output = layers.Dense(32,activation = \"relu\")(line_number_inputs)\n",
        "line_number_model = tf.keras.Model(line_number_inputs,line_number_output)\n",
        "\n",
        "total_lines_inputs = layers.Input(shape = (20,),dtype = tf.float32,name = \"total_lines_input\")\n",
        "total_lines_output = layers.Dense(32,activation = \"relu\")(total_lines_inputs)\n",
        "total_lines_model = tf.keras.Model(total_lines_inputs,total_lines_output)"
      ],
      "metadata": {
        "id": "IOfuyQPlHDuQ"
      },
      "execution_count": 176,
      "outputs": []
    },
    {
      "cell_type": "markdown",
      "source": [
        "### Combining Token and Char Models (Hybrid Embedding)"
      ],
      "metadata": {
        "id": "YHDX4eKLHzzf"
      }
    },
    {
      "cell_type": "code",
      "source": [
        "token_char_embeddings = layers.Concatenate(name = \"char_token_hybrid\")([\n",
        "    token_model.output,char_model.output\n",
        "])\n",
        "x = layers.Dense(256,activation = \"relu\")(token_char_embeddings)\n",
        "x = layers.Dropout(0.5)(x)\n"
      ],
      "metadata": {
        "id": "9KP4-LnnJlfV"
      },
      "execution_count": 177,
      "outputs": []
    },
    {
      "cell_type": "markdown",
      "source": [
        "### Combining Positional embeddings with hybrid embeddings"
      ],
      "metadata": {
        "id": "qqqz3xg9J4c5"
      }
    },
    {
      "cell_type": "code",
      "source": [
        "x = layers.Concatenate()([\n",
        "    line_number_model.output,\n",
        "    total_lines_model.output,\n",
        "    x])\n",
        "output_layer = layers.Dense(5,activation = \"softmax\",name = \"output_layer\")(x)\n",
        "model_5 = tf.keras.Model(inputs = [\n",
        "    line_number_model.input,\n",
        "    total_lines_model.input,\n",
        "    token_model.input,\n",
        "    char_model.input\n",
        "],outputs = output_layer)"
      ],
      "metadata": {
        "id": "lfIhni0PTJ5J"
      },
      "execution_count": 178,
      "outputs": []
    },
    {
      "cell_type": "code",
      "source": [
        "model_5.summary()"
      ],
      "metadata": {
        "colab": {
          "base_uri": "https://localhost:8080/"
        },
        "id": "e0geRKKlLeeR",
        "outputId": "344d8939-8dbd-4dd1-91a7-0f5822df4a66"
      },
      "execution_count": 179,
      "outputs": [
        {
          "output_type": "stream",
          "name": "stdout",
          "text": [
            "Model: \"model_53\"\n",
            "__________________________________________________________________________________________________\n",
            " Layer (type)                   Output Shape         Param #     Connected to                     \n",
            "==================================================================================================\n",
            " char_inputs (InputLayer)       [(None, 1)]          0           []                               \n",
            "                                                                                                  \n",
            " token_input (InputLayer)       [(None,)]            0           []                               \n",
            "                                                                                                  \n",
            " char_vectorizer (TextVectoriza  (None, 290)         0           ['char_inputs[0][0]']            \n",
            " tion)                                                                                            \n",
            "                                                                                                  \n",
            " keras_layer (KerasLayer)       (None, 512)          256797824   ['token_input[0][0]']            \n",
            "                                                                                                  \n",
            " char_embed (Embedding)         (None, 290, 25)      700         ['char_vectorizer[12][0]']       \n",
            "                                                                                                  \n",
            " dense_43 (Dense)               (None, 128)          65664       ['keras_layer[15][0]']           \n",
            "                                                                                                  \n",
            " bidirectional_9 (Bidirectional  (None, 64)          14848       ['char_embed[10][0]']            \n",
            " )                                                                                                \n",
            "                                                                                                  \n",
            " char_token_hybrid (Concatenate  (None, 192)         0           ['dense_43[0][0]',               \n",
            " )                                                                'bidirectional_9[0][0]']        \n",
            "                                                                                                  \n",
            " line_number_input (InputLayer)  [(None, 15)]        0           []                               \n",
            "                                                                                                  \n",
            " total_lines_input (InputLayer)  [(None, 20)]        0           []                               \n",
            "                                                                                                  \n",
            " dense_46 (Dense)               (None, 256)          49408       ['char_token_hybrid[0][0]']      \n",
            "                                                                                                  \n",
            " dense_44 (Dense)               (None, 32)           512         ['line_number_input[0][0]']      \n",
            "                                                                                                  \n",
            " dense_45 (Dense)               (None, 32)           672         ['total_lines_input[0][0]']      \n",
            "                                                                                                  \n",
            " dropout_7 (Dropout)            (None, 256)          0           ['dense_46[0][0]']               \n",
            "                                                                                                  \n",
            " concatenate_1 (Concatenate)    (None, 320)          0           ['dense_44[0][0]',               \n",
            "                                                                  'dense_45[0][0]',               \n",
            "                                                                  'dropout_7[0][0]']              \n",
            "                                                                                                  \n",
            " output_layer (Dense)           (None, 5)            1605        ['concatenate_1[0][0]']          \n",
            "                                                                                                  \n",
            "==================================================================================================\n",
            "Total params: 256,931,233\n",
            "Trainable params: 133,409\n",
            "Non-trainable params: 256,797,824\n",
            "__________________________________________________________________________________________________\n"
          ]
        }
      ]
    },
    {
      "cell_type": "code",
      "source": [
        "plot_model(model_5,show_shapes = True)"
      ],
      "metadata": {
        "colab": {
          "base_uri": "https://localhost:8080/",
          "height": 496
        },
        "id": "h2m31GGaLgNv",
        "outputId": "d10d168c-7160-4bb4-865b-940f6bc8eddf"
      },
      "execution_count": 180,
      "outputs": [
        {
          "output_type": "execute_result",
          "data": {
            "image/png": "[encoded data removed]",
            "text/plain": [
              "<IPython.core.display.Image object>"
            ]
          },
          "metadata": {},
          "execution_count": 180
        }
      ]
    },
    {
      "cell_type": "code",
      "source": [
        "model_5.compile(loss = tf.keras.losses.CategoricalCrossentropy(label_smoothing = 0.2),optimizer = \"adam\",metrics = ['accuracy'])"
      ],
      "metadata": {
        "id": "cX6jP_UTLJFg"
      },
      "execution_count": 181,
      "outputs": []
    },
    {
      "cell_type": "code",
      "source": [
        "train_char_token_pos_data = tf.data.Dataset.from_tensor_slices((\n",
        "    train_line_numbers_one_hot,train_total_line_one_hot,train_sentences,train_chars\n",
        "))\n",
        "train_char_token_pos_labels = tf.data.Dataset.from_tensor_slices(train_target_one_hot)\n",
        "train_char_token_pos_dataset = tf.data.Dataset.zip((train_char_token_pos_data,train_char_token_pos_labels)).batch(32).prefetch(tf.data.AUTOTUNE)"
      ],
      "metadata": {
        "id": "81oxrLJGLiBR"
      },
      "execution_count": 182,
      "outputs": []
    },
    {
      "cell_type": "code",
      "source": [
        "val_char_token_pos_data = tf.data.Dataset.from_tensor_slices((\n",
        "    val_line_numbers_one_hot,val_total_line_one_hot,val_sentences,val_chars\n",
        "))\n",
        "val_char_token_pos_labels = tf.data.Dataset.from_tensor_slices(val_target_one_hot)\n",
        "val_char_token_pos_dataset = tf.data.Dataset.zip((val_char_token_pos_data,val_char_token_pos_labels)).batch(32).prefetch(tf.data.AUTOTUNE)"
      ],
      "metadata": {
        "id": "zCz-Iz8kP7Zy"
      },
      "execution_count": 183,
      "outputs": []
    },
    {
      "cell_type": "code",
      "source": [
        "test_char_token_pos_data = tf.data.Dataset.from_tensor_slices((\n",
        "    test_line_numbers_one_hot,test_total_line_one_hot,test_sentences,test_chars\n",
        "))\n",
        "test_char_token_pos_labels = tf.data.Dataset.from_tensor_slices(test_target_one_hot)\n",
        "test_char_token_pos_dataset = tf.data.Dataset.zip((test_char_token_pos_data,test_char_token_pos_labels)).batch(32).prefetch(tf.data.AUTOTUNE)"
      ],
      "metadata": {
        "id": "MVV14Vk0QttC"
      },
      "execution_count": 184,
      "outputs": []
    },
    {
      "cell_type": "code",
      "source": [
        "history_5 = model_5.fit(train_char_token_pos_dataset,epochs = 3,\n",
        "                        steps_per_epoch = int(0.1*(len(train_char_token_pos_dataset))),\n",
        "                        validation_data = val_char_token_pos_dataset,\n",
        "                        validation_steps = int(0.1*(len(val_char_token_pos_dataset)))\n",
        "                        )"
      ],
      "metadata": {
        "colab": {
          "base_uri": "https://localhost:8080/"
        },
        "id": "G0BmN90UQwhS",
        "outputId": "ea023c7a-19b7-4aa0-f202-5bde54efec8c"
      },
      "execution_count": 185,
      "outputs": [
        {
          "output_type": "stream",
          "name": "stdout",
          "text": [
            "Epoch 1/3\n",
            "562/562 [==============================] - 60s 89ms/step - loss: 1.1005 - accuracy: 0.7209 - val_loss: 0.9834 - val_accuracy: 0.8029\n",
            "Epoch 2/3\n",
            "562/562 [==============================] - 28s 50ms/step - loss: 0.9671 - accuracy: 0.8177 - val_loss: 0.9499 - val_accuracy: 0.8298\n",
            "Epoch 3/3\n",
            "562/562 [==============================] - 36s 64ms/step - loss: 0.9508 - accuracy: 0.8227 - val_loss: 0.9394 - val_accuracy: 0.8351\n"
          ]
        }
      ]
    },
    {
      "cell_type": "code",
      "source": [
        "model_5_pred_probs = model_5.predict(val_char_token_pos_dataset,verbose = 1)\n",
        "model_5_preds = tf.argmax(model_5_pred_probs,axis = 1)\n"
      ],
      "metadata": {
        "colab": {
          "base_uri": "https://localhost:8080/"
        },
        "id": "5a_-Tv_JQ526",
        "outputId": "c248da48-1265-47b7-d162-20ab71ce96a2"
      },
      "execution_count": 189,
      "outputs": [
        {
          "output_type": "stream",
          "name": "stdout",
          "text": [
            "945/945 [==============================] - 22s 20ms/step\n"
          ]
        }
      ]
    },
    {
      "cell_type": "code",
      "source": [
        "model_5_results = calculate_results(y_true = val_target_label,y_pred = model_5_preds)"
      ],
      "metadata": {
        "id": "ECOO5aWDUWCr"
      },
      "execution_count": 190,
      "outputs": []
    },
    {
      "cell_type": "markdown",
      "source": [
        "## Comparing Model Results"
      ],
      "metadata": {
        "id": "kuIrgDV1Uogb"
      }
    },
    {
      "cell_type": "code",
      "source": [
        "all_model_results = pd.DataFrame({\n",
        "    \"model_0_baseline\":baseline_results,\n",
        "    \"model_1_custom_token_embedding\":model_1_results,\n",
        "    \"model_2_pretrained_token_embedding\":model_2_results,\n",
        "    \"model_3_character_embedding\":model_3_results,\n",
        "    \"model_4_hybrid\":model_4_results,\n",
        "    \"model_5_tribrid\":model_5_results,\n",
        "})"
      ],
      "metadata": {
        "id": "R1I0HRYpVgqj"
      },
      "execution_count": 191,
      "outputs": []
    },
    {
      "cell_type": "code",
      "source": [
        "all_model_results = all_model_results.transpose()"
      ],
      "metadata": {
        "id": "GkhFT5NaV747"
      },
      "execution_count": 192,
      "outputs": []
    },
    {
      "cell_type": "code",
      "source": [
        "all_model_results"
      ],
      "metadata": {
        "colab": {
          "base_uri": "https://localhost:8080/",
          "height": 237
        },
        "id": "HUdSj8VvWCCS",
        "outputId": "756e0c7e-3488-4c70-cd37-0cbd32c77738"
      },
      "execution_count": 193,
      "outputs": [
        {
          "output_type": "execute_result",
          "data": {
            "text/plain": [
              "                                     accuracy  precision    recall        f1\n",
              "model_0_baseline                    72.183238   0.718647  0.721832  0.698925\n",
              "model_1_custom_token_embedding      79.084470   0.795629  0.790845  0.792632\n",
              "model_2_pretrained_token_embedding  71.431881   0.725402  0.714319  0.717263\n",
              "model_3_character_embedding         67.450020   0.700781  0.674500  0.681061\n",
              "model_4_hybrid                      73.606514   0.743868  0.736065  0.738480\n",
              "model_5_tribrid                     83.506554   0.834460  0.835066  0.833914"
            ],
            "text/html": [
              "\n",
              "  <div id=\"df-aa562cb2-699e-40c2-8c4e-46d4b6b3eb07\">\n",
              "    <div class=\"colab-df-container\">\n",
              "      <div>\n",
              "<style scoped>\n",
              "    .dataframe tbody tr th:only-of-type {\n",
              "        vertical-align: middle;\n",
              "    }\n",
              "\n",
              "    .dataframe tbody tr th {\n",
              "        vertical-align: top;\n",
              "    }\n",
              "\n",
              "    .dataframe thead th {\n",
              "        text-align: right;\n",
              "    }\n",
              "</style>\n",
              "<table border=\"1\" class=\"dataframe\">\n",
              "  <thead>\n",
              "    <tr style=\"text-align: right;\">\n",
              "      <th></th>\n",
              "      <th>accuracy</th>\n",
              "      <th>precision</th>\n",
              "      <th>recall</th>\n",
              "      <th>f1</th>\n",
              "    </tr>\n",
              "  </thead>\n",
              "  <tbody>\n",
              "    <tr>\n",
              "      <th>model_0_baseline</th>\n",
              "      <td>72.183238</td>\n",
              "      <td>0.718647</td>\n",
              "      <td>0.721832</td>\n",
              "      <td>0.698925</td>\n",
              "    </tr>\n",
              "    <tr>\n",
              "      <th>model_1_custom_token_embedding</th>\n",
              "      <td>79.084470</td>\n",
              "      <td>0.795629</td>\n",
              "      <td>0.790845</td>\n",
              "      <td>0.792632</td>\n",
              "    </tr>\n",
              "    <tr>\n",
              "      <th>model_2_pretrained_token_embedding</th>\n",
              "      <td>71.431881</td>\n",
              "      <td>0.725402</td>\n",
              "      <td>0.714319</td>\n",
              "      <td>0.717263</td>\n",
              "    </tr>\n",
              "    <tr>\n",
              "      <th>model_3_character_embedding</th>\n",
              "      <td>67.450020</td>\n",
              "      <td>0.700781</td>\n",
              "      <td>0.674500</td>\n",
              "      <td>0.681061</td>\n",
              "    </tr>\n",
              "    <tr>\n",
              "      <th>model_4_hybrid</th>\n",
              "      <td>73.606514</td>\n",
              "      <td>0.743868</td>\n",
              "      <td>0.736065</td>\n",
              "      <td>0.738480</td>\n",
              "    </tr>\n",
              "    <tr>\n",
              "      <th>model_5_tribrid</th>\n",
              "      <td>83.506554</td>\n",
              "      <td>0.834460</td>\n",
              "      <td>0.835066</td>\n",
              "      <td>0.833914</td>\n",
              "    </tr>\n",
              "  </tbody>\n",
              "</table>\n",
              "</div>\n",
              "      <button class=\"colab-df-convert\" onclick=\"convertToInteractive('df-aa562cb2-699e-40c2-8c4e-46d4b6b3eb07')\"\n",
              "              title=\"Convert this dataframe to an interactive table.\"\n",
              "              style=\"display:none;\">\n",
              "        \n",
              "  <svg xmlns=\"http://www.w3.org/2000/svg\" height=\"24px\"viewBox=\"0 0 24 24\"\n",
              "       width=\"24px\">\n",
              "    <path d=\"M0 0h24v24H0V0z\" fill=\"none\"/>\n",
              "    <path d=\"M18.56 5.44l.94 2.06.94-2.06 2.06-.94-2.06-.94-.94-2.06-.94 2.06-2.06.94zm-11 1L8.5 8.5l.94-2.06 2.06-.94-2.06-.94L8.5 2.5l-.94 2.06-2.06.94zm10 10l.94 2.06.94-2.06 2.06-.94-2.06-.94-.94-2.06-.94 2.06-2.06.94z\"/><path d=\"M17.41 7.96l-1.37-1.37c-.4-.4-.92-.59-1.43-.59-.52 0-1.04.2-1.43.59L10.3 9.45l-7.72 7.72c-.78.78-.78 2.05 0 2.83L4 21.41c.39.39.9.59 1.41.59.51 0 1.02-.2 1.41-.59l7.78-7.78 2.81-2.81c.8-.78.8-2.07 0-2.86zM5.41 20L4 18.59l7.72-7.72 1.47 1.35L5.41 20z\"/>\n",
              "  </svg>\n",
              "      </button>\n",
              "      \n",
              "  <style>\n",
              "    .colab-df-container {\n",
              "      display:flex;\n",
              "      flex-wrap:wrap;\n",
              "      gap: 12px;\n",
              "    }\n",
              "\n",
              "    .colab-df-convert {\n",
              "      background-color: #E8F0FE;\n",
              "      border: none;\n",
              "      border-radius: 50%;\n",
              "      cursor: pointer;\n",
              "      display: none;\n",
              "      fill: #1967D2;\n",
              "      height: 32px;\n",
              "      padding: 0 0 0 0;\n",
              "      width: 32px;\n",
              "    }\n",
              "\n",
              "    .colab-df-convert:hover {\n",
              "      background-color: #E2EBFA;\n",
              "      box-shadow: 0px 1px 2px rgba(60, 64, 67, 0.3), 0px 1px 3px 1px rgba(60, 64, 67, 0.15);\n",
              "      fill: #174EA6;\n",
              "    }\n",
              "\n",
              "    [theme=dark] .colab-df-convert {\n",
              "      background-color: #3B4455;\n",
              "      fill: #D2E3FC;\n",
              "    }\n",
              "\n",
              "    [theme=dark] .colab-df-convert:hover {\n",
              "      background-color: #434B5C;\n",
              "      box-shadow: 0px 1px 3px 1px rgba(0, 0, 0, 0.15);\n",
              "      filter: drop-shadow(0px 1px 2px rgba(0, 0, 0, 0.3));\n",
              "      fill: #FFFFFF;\n",
              "    }\n",
              "  </style>\n",
              "\n",
              "      <script>\n",
              "        const buttonEl =\n",
              "          document.querySelector('#df-aa562cb2-699e-40c2-8c4e-46d4b6b3eb07 button.colab-df-convert');\n",
              "        buttonEl.style.display =\n",
              "          google.colab.kernel.accessAllowed ? 'block' : 'none';\n",
              "\n",
              "        async function convertToInteractive(key) {\n",
              "          const element = document.querySelector('#df-aa562cb2-699e-40c2-8c4e-46d4b6b3eb07');\n",
              "          const dataTable =\n",
              "            await google.colab.kernel.invokeFunction('convertToInteractive',\n",
              "                                                     [key], {});\n",
              "          if (!dataTable) return;\n",
              "\n",
              "          const docLinkHtml = 'Like what you see? Visit the ' +\n",
              "            '<a target=\"_blank\" href=https://colab.research.google.com/notebooks/data_table.ipynb>data table notebook</a>'\n",
              "            + ' to learn more about interactive tables.';\n",
              "          element.innerHTML = '';\n",
              "          dataTable['output_type'] = 'display_data';\n",
              "          await google.colab.output.renderOutput(dataTable, element);\n",
              "          const docLink = document.createElement('div');\n",
              "          docLink.innerHTML = docLinkHtml;\n",
              "          element.appendChild(docLink);\n",
              "        }\n",
              "      </script>\n",
              "    </div>\n",
              "  </div>\n",
              "  "
            ]
          },
          "metadata": {},
          "execution_count": 193
        }
      ]
    },
    {
      "cell_type": "code",
      "source": [
        "all_model_results['accuracy'] = all_model_results['accuracy']/100\n",
        "all_model_results.plot(kind = \"bar\",figsize = (10,7)).legend(bbox_to_anchor= (1.0,1.0))"
      ],
      "metadata": {
        "colab": {
          "base_uri": "https://localhost:8080/",
          "height": 583
        },
        "id": "Oo8P7Jj9WDni",
        "outputId": "c9149ea8-a7c4-47a8-d2d8-3ab3f7554c5c"
      },
      "execution_count": 197,
      "outputs": [
        {
          "output_type": "execute_result",
          "data": {
            "text/plain": [
              "<matplotlib.legend.Legend at 0x7fc6480ae4c0>"
            ]
          },
          "metadata": {},
          "execution_count": 197
        },
        {
          "output_type": "display_data",
          "data": {
            "text/plain": [
              "<Figure size 720x504 with 1 Axes>"
            ],
            "image/png": "[encoded data removed]"
          },
          "metadata": {
            "needs_background": "light"
          }
        }
      ]
    },
    {
      "cell_type": "markdown",
      "source": [
        "## Save and Load Model"
      ],
      "metadata": {
        "id": "6MlPapLLWUY4"
      }
    },
    {
      "cell_type": "code",
      "source": [
        "model_5.save(\"skimlit_tribrid_model\")"
      ],
      "metadata": {
        "colab": {
          "base_uri": "https://localhost:8080/"
        },
        "id": "fpAe8pDJW4xB",
        "outputId": "3115e674-963d-4e6d-cd0f-041b27c660f2"
      },
      "execution_count": 198,
      "outputs": [
        {
          "output_type": "stream",
          "name": "stderr",
          "text": [
            "WARNING:absl:Found untraced functions such as lstm_cell_28_layer_call_fn, lstm_cell_28_layer_call_and_return_conditional_losses, lstm_cell_29_layer_call_fn, lstm_cell_29_layer_call_and_return_conditional_losses while saving (showing 4 of 4). These functions will not be directly callable after loading.\n"
          ]
        }
      ]
    },
    {
      "cell_type": "code",
      "source": [
        "loaded_model = tf.keras.models.load_model('skimlit_tribrid_model')"
      ],
      "metadata": {
        "id": "PUwiasJnW8I9"
      },
      "execution_count": 199,
      "outputs": []
    },
    {
      "cell_type": "code",
      "source": [
        "loaded_pred_probs = loaded_model.predict(val_char_token_pos_dataset)"
      ],
      "metadata": {
        "colab": {
          "base_uri": "https://localhost:8080/"
        },
        "id": "uHKMg1cmXD0p",
        "outputId": "f10d0dd8-27a5-41b1-b747-ea565975da01"
      },
      "execution_count": 201,
      "outputs": [
        {
          "output_type": "stream",
          "name": "stdout",
          "text": [
            "945/945 [==============================] - 32s 27ms/step\n"
          ]
        }
      ]
    },
    {
      "cell_type": "code",
      "source": [
        "loaded_preds = tf.argmax(loaded_pred_probs,axis = 1)"
      ],
      "metadata": {
        "id": "rySZgZfTXTPg"
      },
      "execution_count": 202,
      "outputs": []
    },
    {
      "cell_type": "code",
      "source": [
        "loaded_model_results = calculate_results(y_true = val_target_label,y_pred = model_5_preds)"
      ],
      "metadata": {
        "id": "WERMGgjOXYjd"
      },
      "execution_count": 204,
      "outputs": []
    },
    {
      "cell_type": "code",
      "source": [
        "loaded_model_results"
      ],
      "metadata": {
        "colab": {
          "base_uri": "https://localhost:8080/"
        },
        "id": "3pzClYGCXdWi",
        "outputId": "a5d7a296-5d71-4139-bb2f-e1b44674fe45"
      },
      "execution_count": 205,
      "outputs": [
        {
          "output_type": "execute_result",
          "data": {
            "text/plain": [
              "{'accuracy': 83.50655368727658,\n",
              " 'precision': 0.8344595829789448,\n",
              " 'recall': 0.8350655368727657,\n",
              " 'f1': 0.8339135184454768}"
            ]
          },
          "metadata": {},
          "execution_count": 205
        }
      ]
    },
    {
      "cell_type": "code",
      "source": [],
      "metadata": {
        "id": "qbrqM2JsXikP"
      },
      "execution_count": null,
      "outputs": []
    }
  ]
}
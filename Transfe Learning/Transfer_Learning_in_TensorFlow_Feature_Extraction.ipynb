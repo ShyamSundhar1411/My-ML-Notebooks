{
  "nbformat": 4,
  "nbformat_minor": 0,
  "metadata": {
    "colab": {
      "provenance": [],
      "authorship_tag": "ABX9TyPYyUpMThY/SJ2Ke2DCmyZ4",
      "include_colab_link": true
    },
    "kernelspec": {
      "name": "python3",
      "display_name": "Python 3"
    },
    "language_info": {
      "name": "python"
    },
    "accelerator": "GPU",
    "gpuClass": "standard"
  },
  "cells": [
    {
      "cell_type": "markdown",
      "metadata": {
        "id": "view-in-github",
        "colab_type": "text"
      },
      "source": [
        "<a href=\"https://colab.research.google.com/github/ShyamSundhar1411/My-ML-Notebooks/blob/master/Transfe%20Learning/Transfer_Learning_in_TensorFlow_Feature_Extraction.ipynb\" target=\"_parent\"><img src=\"https://colab.research.google.com/assets/colab-badge.svg\" alt=\"Open In Colab\"/></a>"
      ]
    },
    {
      "cell_type": "markdown",
      "source": [
        " ## Introduction to Transfer Learning - Feature Extraction"
      ],
      "metadata": {
        "id": "RbPbyoWP-t68"
      }
    },
    {
      "cell_type": "code",
      "source": [
        "!nvidia-smi"
      ],
      "metadata": {
        "colab": {
          "base_uri": "https://localhost:8080/"
        },
        "id": "JbWIgwQJ--q9",
        "outputId": "cbe47998-f86d-4ae5-fade-4d7ec681e7ed"
      },
      "execution_count": 1,
      "outputs": [
        {
          "output_type": "stream",
          "name": "stdout",
          "text": [
            "Wed Jan 11 17:59:41 2023       \n",
            "+-----------------------------------------------------------------------------+\n",
            "| NVIDIA-SMI 460.32.03    Driver Version: 460.32.03    CUDA Version: 11.2     |\n",
            "|-------------------------------+----------------------+----------------------+\n",
            "| GPU  Name        Persistence-M| Bus-Id        Disp.A | Volatile Uncorr. ECC |\n",
            "| Fan  Temp  Perf  Pwr:Usage/Cap|         Memory-Usage | GPU-Util  Compute M. |\n",
            "|                               |                      |               MIG M. |\n",
            "|===============================+======================+======================|\n",
            "|   0  Tesla T4            Off  | 00000000:00:04.0 Off |                    0 |\n",
            "| N/A   54C    P8    10W /  70W |      0MiB / 15109MiB |      0%      Default |\n",
            "|                               |                      |                  N/A |\n",
            "+-------------------------------+----------------------+----------------------+\n",
            "                                                                               \n",
            "+-----------------------------------------------------------------------------+\n",
            "| Processes:                                                                  |\n",
            "|  GPU   GI   CI        PID   Type   Process name                  GPU Memory |\n",
            "|        ID   ID                                                   Usage      |\n",
            "|=============================================================================|\n",
            "|  No running processes found                                                 |\n",
            "+-----------------------------------------------------------------------------+\n"
          ]
        }
      ]
    },
    {
      "cell_type": "markdown",
      "source": [
        "## 1. Downloading and becoming one with data"
      ],
      "metadata": {
        "id": "ksRr8jx0_Nc8"
      }
    },
    {
      "cell_type": "code",
      "source": [
        "import zipfile\n",
        "!wget https://storage.googleapis.com/ztm_tf_course/food_vision/10_food_classes_10_percent.zip"
      ],
      "metadata": {
        "colab": {
          "base_uri": "https://localhost:8080/"
        },
        "id": "SH3vBF19_ULL",
        "outputId": "e3119b48-30af-4c4d-a1c9-83c5c6505f9a"
      },
      "execution_count": 4,
      "outputs": [
        {
          "output_type": "stream",
          "name": "stdout",
          "text": [
            "--2023-01-11 18:00:40--  https://storage.googleapis.com/ztm_tf_course/food_vision/10_food_classes_10_percent.zip\n",
            "Resolving storage.googleapis.com (storage.googleapis.com)... 74.125.24.128, 142.250.4.128, 142.251.10.128, ...\n",
            "Connecting to storage.googleapis.com (storage.googleapis.com)|74.125.24.128|:443... connected.\n",
            "HTTP request sent, awaiting response... 200 OK\n",
            "Length: 168546183 (161M) [application/zip]\n",
            "Saving to: ‘10_food_classes_10_percent.zip’\n",
            "\n",
            "10_food_classes_10_ 100%[===================>] 160.74M  24.1MB/s    in 8.0s    \n",
            "\n",
            "2023-01-11 18:00:48 (20.0 MB/s) - ‘10_food_classes_10_percent.zip’ saved [168546183/168546183]\n",
            "\n"
          ]
        }
      ]
    },
    {
      "cell_type": "code",
      "source": [
        "zip_ref = zipfile.ZipFile(\"10_food_classes_10_percent.zip\")\n",
        "zip_ref.extractall()\n",
        "zip_ref.close()"
      ],
      "metadata": {
        "id": "anRNnBtX_bI2"
      },
      "execution_count": 5,
      "outputs": []
    },
    {
      "cell_type": "code",
      "source": [
        "import os\n",
        "\n",
        "for dirpath,dirnames,filenames in os.walk(\"10_food_classes_10_percent\"):\n",
        "  print(\"There are \",len(dirnames),\" directories\",len(filenames),\" in \",dirpath)"
      ],
      "metadata": {
        "colab": {
          "base_uri": "https://localhost:8080/"
        },
        "id": "NmyR-wsa_joQ",
        "outputId": "f9f45c67-3c0e-4d9d-abec-5c2b8039369a"
      },
      "execution_count": 7,
      "outputs": [
        {
          "output_type": "stream",
          "name": "stdout",
          "text": [
            "There are  2  directories 0  in  10_food_classes_10_percent\n",
            "There are  10  directories 0  in  10_food_classes_10_percent/test\n",
            "There are  0  directories 250  in  10_food_classes_10_percent/test/chicken_wings\n",
            "There are  0  directories 250  in  10_food_classes_10_percent/test/steak\n",
            "There are  0  directories 250  in  10_food_classes_10_percent/test/grilled_salmon\n",
            "There are  0  directories 250  in  10_food_classes_10_percent/test/pizza\n",
            "There are  0  directories 250  in  10_food_classes_10_percent/test/hamburger\n",
            "There are  0  directories 250  in  10_food_classes_10_percent/test/chicken_curry\n",
            "There are  0  directories 250  in  10_food_classes_10_percent/test/fried_rice\n",
            "There are  0  directories 250  in  10_food_classes_10_percent/test/ice_cream\n",
            "There are  0  directories 250  in  10_food_classes_10_percent/test/ramen\n",
            "There are  0  directories 250  in  10_food_classes_10_percent/test/sushi\n",
            "There are  10  directories 0  in  10_food_classes_10_percent/train\n",
            "There are  0  directories 75  in  10_food_classes_10_percent/train/chicken_wings\n",
            "There are  0  directories 75  in  10_food_classes_10_percent/train/steak\n",
            "There are  0  directories 75  in  10_food_classes_10_percent/train/grilled_salmon\n",
            "There are  0  directories 75  in  10_food_classes_10_percent/train/pizza\n",
            "There are  0  directories 75  in  10_food_classes_10_percent/train/hamburger\n",
            "There are  0  directories 75  in  10_food_classes_10_percent/train/chicken_curry\n",
            "There are  0  directories 75  in  10_food_classes_10_percent/train/fried_rice\n",
            "There are  0  directories 75  in  10_food_classes_10_percent/train/ice_cream\n",
            "There are  0  directories 75  in  10_food_classes_10_percent/train/ramen\n",
            "There are  0  directories 75  in  10_food_classes_10_percent/train/sushi\n"
          ]
        }
      ]
    },
    {
      "cell_type": "markdown",
      "source": [
        "## 2. Creating data loaders"
      ],
      "metadata": {
        "id": "0vABmWM9_oYP"
      }
    },
    {
      "cell_type": "code",
      "source": [
        "from tensorflow.keras.preprocessing.image import ImageDataGenerator\n",
        "\n",
        "IMAGE_SHAPE = (224,224)\n",
        "BATCH_SIZE = 32\n",
        "EPOCHS = 5\n",
        "train_dir = \"10_food_classes_10_percent/train/\"\n",
        "test_dir = \"10_food_classes_10_percent/test/\"\n",
        "train_datagen = ImageDataGenerator(rescale = 1/255.)\n",
        "test_datagen = ImageDataGenerator(rescale = 1/255.)"
      ],
      "metadata": {
        "id": "JegQRMmX_55O"
      },
      "execution_count": 10,
      "outputs": []
    },
    {
      "cell_type": "code",
      "source": [
        "train_data = train_datagen.flow_from_directory(train_dir,target_size = IMAGE_SHAPE,batch_size = BATCH_SIZE,class_mode = \"sparse\")"
      ],
      "metadata": {
        "colab": {
          "base_uri": "https://localhost:8080/"
        },
        "id": "fRdF69rAABSM",
        "outputId": "46633d65-2fa9-4f5d-f012-f1e318e8cbe7"
      },
      "execution_count": 11,
      "outputs": [
        {
          "output_type": "stream",
          "name": "stdout",
          "text": [
            "Found 750 images belonging to 10 classes.\n"
          ]
        }
      ]
    },
    {
      "cell_type": "code",
      "source": [
        "test_data = test_datagen.flow_from_directory(test_dir,target_size = IMAGE_SHAPE,batch_size = BATCH_SIZE,class_mode = \"sparse\")"
      ],
      "metadata": {
        "colab": {
          "base_uri": "https://localhost:8080/"
        },
        "id": "5ZZaA6khAhN-",
        "outputId": "f00df1d4-6404-47c1-f3ec-418884822e39"
      },
      "execution_count": 12,
      "outputs": [
        {
          "output_type": "stream",
          "name": "stdout",
          "text": [
            "Found 2500 images belonging to 10 classes.\n"
          ]
        }
      ]
    },
    {
      "cell_type": "markdown",
      "source": [
        "## 3.Setting Up Callbacks"
      ],
      "metadata": {
        "id": "F2-y2c1GAv7E"
      }
    },
    {
      "cell_type": "markdown",
      "source": [
        "### Tensorboard Callback"
      ],
      "metadata": {
        "id": "kEnnkp0ZCAQj"
      }
    },
    {
      "cell_type": "code",
      "source": [
        " ## Creating tensorboard callback\n",
        "import datetime\n",
        "\n",
        "def create_tensorboard_callback(dir_name,experiment_name):\n",
        "  log_dir = dir_name + \"/\"+experiment_name+\"/\"+datetime.datetime.now().strftime(\"%Y%m%D-%H%M%S\")\n",
        "  tensorboard_callback = tf.keras.callbacks.TensorBoard(log_dir = log_dir)\n",
        "  print(\"Saving Tensorflow log files to: \",log_dir)\n",
        "  return tensorboard_callback\n"
      ],
      "metadata": {
        "id": "rOtghqoLBHKq"
      },
      "execution_count": 14,
      "outputs": []
    },
    {
      "cell_type": "code",
      "source": [],
      "metadata": {
        "id": "02w1g-VKCUh3"
      },
      "execution_count": null,
      "outputs": []
    }
  ]
}
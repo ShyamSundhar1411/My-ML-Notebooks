{
  "nbformat": 4,
  "nbformat_minor": 0,
  "metadata": {
    "colab": {
      "provenance": [],
      "authorship_tag": "ABX9TyP5tdF1dCVt+AR7mft9OeEm",
      "include_colab_link": true
    },
    "kernelspec": {
      "name": "python3",
      "display_name": "Python 3"
    },
    "language_info": {
      "name": "python"
    }
  },
  "cells": [
    {
      "cell_type": "markdown",
      "metadata": {
        "id": "view-in-github",
        "colab_type": "text"
      },
      "source": [
        "<a href=\"https://colab.research.google.com/github/ShyamSundhar1411/My-ML-Notebooks/blob/master/ML%20Algorithms/Single_Layer_Perceptron.ipynb\" target=\"_parent\"><img src=\"https://colab.research.google.com/assets/colab-badge.svg\" alt=\"Open In Colab\"/></a>"
      ]
    },
    {
      "cell_type": "markdown",
      "source": [
        "## Single Layer Perceptron"
      ],
      "metadata": {
        "id": "Az1ZyKQXRKX2"
      }
    },
    {
      "cell_type": "code",
      "source": [
        "import numpy as np"
      ],
      "metadata": {
        "id": "NabnNCVORRjj"
      },
      "execution_count": 1,
      "outputs": []
    },
    {
      "cell_type": "code",
      "source": [
        "class Perceptron:\n",
        "\n",
        "  def __init__(self,learning_rate = 0.001,iterations = 1000,activation = \"unit_step_function\"):\n",
        "    self.lr = learning_rate\n",
        "    self.it = iterations\n",
        "    self.weights = None\n",
        "    self.bias = None\n",
        "    if activation == \"relu\":\n",
        "      self.activation = self.relu\n",
        "    elif activation == \"sigmoid\":\n",
        "      self.activation = self.sigmoid\n",
        "    elif activation == \"tanh\":\n",
        "      self.activation = self.tanh\n",
        "    elif activation == \"leaky_relu\":\n",
        "      self.activation = self.leaky_relu\n",
        "    else:\n",
        "      self.activation = self.unit_step_function\n",
        "\n",
        "  def fit(self,X,Y):\n",
        "    n_samples,n_features = X.shape\n",
        "\n",
        "    self.weights = np.zeros(n_features)\n",
        "    self.bias = 0\n",
        "    y = np.where(Y>0,1,0)\n",
        "    for i in range(self.it):\n",
        "      y_hat = self.activation(np.dot(X,self.weights)+self.bias)\n",
        "      #Update Rule\n",
        "      update = self.lr*(y-y_hat)\n",
        "      self.weights+=np.dot(update,X)\n",
        "      self.bias+= np.sum(update)\n",
        "  def predict(self,X):\n",
        "    y_pred = self.activation(np.dot(X,self.weights)+self.bias)\n",
        "    return y_pred\n",
        "\n",
        "  def accuracy(self,y_pred,y_true):\n",
        "    return np.sum(y_pred==y_true)/len(y_pred)\n",
        "  def unit_step_function(self,x):\n",
        "    return np.where(x>0,1,0)\n",
        "\n",
        "  def relu(self,x):\n",
        "    return np.maximum(0,x)\n",
        "\n",
        "  def sigmoid(self,x):\n",
        "    return 1/(1+np.exp(-x))\n",
        "\n",
        "  def tanh(self,x):\n",
        "    return np.tanh(x)\n",
        "\n",
        "  def leaky_relu(self,x):\n",
        "    return np.maximum(0.1*x,x)\n",
        "  "
      ],
      "metadata": {
        "id": "IB2ZFEKtRZTK"
      },
      "execution_count": 156,
      "outputs": []
    },
    {
      "cell_type": "code",
      "source": [
        "from sklearn import datasets\n",
        "from sklearn.model_selection import train_test_split"
      ],
      "metadata": {
        "id": "s8RmfZ8HSzI9"
      },
      "execution_count": 149,
      "outputs": []
    },
    {
      "cell_type": "code",
      "source": [
        "X,y = datasets.make_blobs(n_samples = 150,n_features = 2,centers = 2,cluster_std = 1.05,random_state = 42)"
      ],
      "metadata": {
        "id": "oN1-l_FcWUtX"
      },
      "execution_count": 150,
      "outputs": []
    },
    {
      "cell_type": "code",
      "source": [
        "x_train,x_test,y_train,y_test = train_test_split(X,y,test_size = 0.2,random_state = 42)"
      ],
      "metadata": {
        "id": "VKD9d5MTWds8"
      },
      "execution_count": 151,
      "outputs": []
    },
    {
      "cell_type": "code",
      "source": [
        "model = Perceptron(activation = \"sigmoid\")\n",
        "model.fit(x_train,y_train)"
      ],
      "metadata": {
        "id": "czo9RlKrWljZ"
      },
      "execution_count": 161,
      "outputs": []
    },
    {
      "cell_type": "code",
      "source": [
        "y_pred = model.predict(x_test)"
      ],
      "metadata": {
        "id": "N5-vWZdWWrVu"
      },
      "execution_count": 162,
      "outputs": []
    },
    {
      "cell_type": "code",
      "source": [],
      "metadata": {
        "id": "gf2ZPcexdYg1"
      },
      "execution_count": null,
      "outputs": []
    },
    {
      "cell_type": "code",
      "source": [
        "y_pred = [0 if x<=0.5 else 1 for x in y_pred ]"
      ],
      "metadata": {
        "id": "08BLCkosWxsy"
      },
      "execution_count": 164,
      "outputs": []
    },
    {
      "cell_type": "code",
      "source": [
        "model.accuracy(y_pred,y_test)"
      ],
      "metadata": {
        "colab": {
          "base_uri": "https://localhost:8080/"
        },
        "id": "PKKIzC_zZQTR",
        "outputId": "1191a47f-b178-495f-d175-f3dd46d6cef1"
      },
      "execution_count": 165,
      "outputs": [
        {
          "output_type": "execute_result",
          "data": {
            "text/plain": [
              "1.0"
            ]
          },
          "metadata": {},
          "execution_count": 165
        }
      ]
    },
    {
      "cell_type": "code",
      "source": [],
      "metadata": {
        "id": "mpamn-lHbR4z"
      },
      "execution_count": null,
      "outputs": []
    }
  ]
}
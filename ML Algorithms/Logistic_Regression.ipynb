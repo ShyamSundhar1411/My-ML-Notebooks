{
  "nbformat": 4,
  "nbformat_minor": 0,
  "metadata": {
    "colab": {
      "provenance": [],
      "authorship_tag": "ABX9TyMW61zUc1TwjCq+jCwwx40x",
      "include_colab_link": true
    },
    "kernelspec": {
      "name": "python3",
      "display_name": "Python 3"
    },
    "language_info": {
      "name": "python"
    }
  },
  "cells": [
    {
      "cell_type": "markdown",
      "metadata": {
        "id": "view-in-github",
        "colab_type": "text"
      },
      "source": [
        "<a href=\"https://colab.research.google.com/github/ShyamSundhar1411/My-ML-Notebooks/blob/master/ML%20Algorithms/Logistic_Regression.ipynb\" target=\"_parent\"><img src=\"https://colab.research.google.com/assets/colab-badge.svg\" alt=\"Open In Colab\"/></a>"
      ]
    },
    {
      "cell_type": "code",
      "execution_count": 91,
      "metadata": {
        "id": "gb6f9e3LIqF7"
      },
      "outputs": [],
      "source": [
        "import numpy as np\n"
      ]
    },
    {
      "cell_type": "markdown",
      "source": [
        "## Logistic Regression\n"
      ],
      "metadata": {
        "id": "T7Skjh0FKV1g"
      }
    },
    {
      "cell_type": "code",
      "source": [
        "class LogisticRegression():\n",
        "  def __init__(self,lr=0.001,iterations = 1000):\n",
        "    self.lr = lr\n",
        "    self.it = iterations\n",
        "    self.weights = None\n",
        "    self.bias = 0\n",
        "  def sigmoid(self,x):\n",
        "    return 1/(1+np.exp(-x))\n",
        "  def cost(self):\n",
        "    y_hat = self.sigmoid(np.dot(self.X,self.weights)+self.bias)\n",
        "    diff_weight = (1/self.sample)*np.dot(self.X.T,(y_hat-self.Y))\n",
        "    diff_bias = (1/self.sample)*np.sum((y_hat-self.Y))\n",
        "    self.weights-=self.lr*diff_weight\n",
        "    self.bias-=self.lr*diff_bias\n",
        "  def fit(self,X,Y):\n",
        "    self.sample,self.features = X.shape\n",
        "    self.weights = np.zeros(self.features)\n",
        "    self.bias = 0\n",
        "    self.X = X\n",
        "    self.Y = Y\n",
        "    for i in range(self.it):\n",
        "      self.cost()\n",
        "    return self\n",
        "  def predict(self,X):\n",
        "    y_pred = np.dot(X,self.weights)+self.bias\n",
        "    y_perd = self.sigmoid(y_pred)\n",
        "    y_pred = [0 if y<=0.5 else 1 for y in y_pred]\n",
        "    return y_pred\n",
        "  def accuracy(self,y_pred,y_true):\n",
        "    return np.sum(y_pred==y_true)/len(y_pred)\n"
      ],
      "metadata": {
        "id": "SrUihKGCKXfh"
      },
      "execution_count": 178,
      "outputs": []
    },
    {
      "cell_type": "code",
      "source": [
        "from sklearn import datasets\n",
        "from sklearn.model_selection import train_test_split"
      ],
      "metadata": {
        "id": "20Rn1DfdKe7T"
      },
      "execution_count": 179,
      "outputs": []
    },
    {
      "cell_type": "code",
      "source": [
        "dataset = datasets.load_breast_cancer()\n",
        "x,y = dataset.data,dataset.target"
      ],
      "metadata": {
        "id": "i7UnueHGLn6C"
      },
      "execution_count": 180,
      "outputs": []
    },
    {
      "cell_type": "code",
      "source": [
        "x_train,x_test,y_train,y_test = train_test_split(x,y,test_size = 0.2,random_state = 42)"
      ],
      "metadata": {
        "id": "BCFShIokOF5K"
      },
      "execution_count": 181,
      "outputs": []
    },
    {
      "cell_type": "code",
      "source": [
        "model = LogisticRegression(0.01)\n",
        "model.fit(x_train,y_train)"
      ],
      "metadata": {
        "colab": {
          "base_uri": "https://localhost:8080/"
        },
        "id": "H6p2d0aKNoMd",
        "outputId": "740d12d0-dce9-41cb-a00e-1e1c49d953be"
      },
      "execution_count": 182,
      "outputs": [
        {
          "output_type": "stream",
          "name": "stderr",
          "text": [
            "<ipython-input-178-8df19ec7c0fa>:8: RuntimeWarning: overflow encountered in exp\n",
            "  return 1/(1+np.exp(-x))\n"
          ]
        },
        {
          "output_type": "execute_result",
          "data": {
            "text/plain": [
              "<__main__.LogisticRegression at 0x7fdba4ab66a0>"
            ]
          },
          "metadata": {},
          "execution_count": 182
        }
      ]
    },
    {
      "cell_type": "code",
      "source": [
        "y_pred = model.predict(x_test)"
      ],
      "metadata": {
        "colab": {
          "base_uri": "https://localhost:8080/"
        },
        "id": "LS1TLkyfORnZ",
        "outputId": "d3e08725-c584-4e60-cfcd-8c39db1016e5"
      },
      "execution_count": 183,
      "outputs": [
        {
          "output_type": "stream",
          "name": "stderr",
          "text": [
            "<ipython-input-178-8df19ec7c0fa>:8: RuntimeWarning: overflow encountered in exp\n",
            "  return 1/(1+np.exp(-x))\n"
          ]
        }
      ]
    },
    {
      "cell_type": "code",
      "source": [
        "model.accuracy(y_pred,y_test)"
      ],
      "metadata": {
        "colab": {
          "base_uri": "https://localhost:8080/"
        },
        "id": "U_Pob_1ugdmY",
        "outputId": "77af5e9f-9589-455c-b882-a74154c5f791"
      },
      "execution_count": 184,
      "outputs": [
        {
          "output_type": "execute_result",
          "data": {
            "text/plain": [
              "0.9473684210526315"
            ]
          },
          "metadata": {},
          "execution_count": 184
        }
      ]
    },
    {
      "cell_type": "code",
      "source": [],
      "metadata": {
        "id": "-1GWYhmLmvwb"
      },
      "execution_count": 191,
      "outputs": []
    },
    {
      "cell_type": "code",
      "source": [],
      "metadata": {
        "id": "SNvgqIQomx1_"
      },
      "execution_count": 191,
      "outputs": []
    }
  ]
}
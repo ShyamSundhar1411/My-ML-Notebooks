{
  "nbformat": 4,
  "nbformat_minor": 0,
  "metadata": {
    "colab": {
      "provenance": [],
      "authorship_tag": "ABX9TyOGLVqN8WQUfcjoKVJ3j04P",
      "include_colab_link": true
    },
    "kernelspec": {
      "name": "python3",
      "display_name": "Python 3"
    },
    "language_info": {
      "name": "python"
    }
  },
  "cells": [
    {
      "cell_type": "markdown",
      "metadata": {
        "id": "view-in-github",
        "colab_type": "text"
      },
      "source": [
        "<a href=\"https://colab.research.google.com/github/ShyamSundhar1411/My-ML-Notebooks/blob/master/ML%20Algorithms/Decision_Trees.ipynb\" target=\"_parent\"><img src=\"https://colab.research.google.com/assets/colab-badge.svg\" alt=\"Open In Colab\"/></a>"
      ]
    },
    {
      "cell_type": "markdown",
      "source": [
        "## Decision Tree"
      ],
      "metadata": {
        "id": "UDZR3RRuiTAo"
      }
    },
    {
      "cell_type": "code",
      "source": [
        "import numpy as np\n",
        "from collections import Counter"
      ],
      "metadata": {
        "id": "Yk3FYrlxkWw8"
      },
      "execution_count": 1,
      "outputs": []
    },
    {
      "cell_type": "code",
      "source": [
        "class Node:\n",
        "  def __init__(self,feature=None,threshold = None,left = None,right = None,*,value = None):\n",
        "    self.feature = feature\n",
        "    self.th = threshold\n",
        "    self.left = left\n",
        "    self.right = right\n",
        "    self.value = None\n",
        "  def is_leaf_node(self):\n",
        "    return self.value is not None"
      ],
      "metadata": {
        "id": "_ujJEYrHilQB"
      },
      "execution_count": 2,
      "outputs": []
    },
    {
      "cell_type": "code",
      "source": [
        "class DecisionTree:\n",
        "  def __init__(self,sample_split = 2,max_depth = 100,n_features = None):\n",
        "    self.sample_split = sample_split\n",
        "    self.depth = max_depth\n",
        "    self.n_features = n_features\n",
        "    self.root = None\n",
        "  \n",
        "  def calculate_leaf_value(self,y):\n",
        "    return Counter(y).most_common(1)[0][0]\n",
        "\n",
        "\n",
        "  def calculate_entropy(self,y):\n",
        "    count = np.bincount(y)\n",
        "    p_x = count/len(y)\n",
        "    return -np.sum([p*np.log(p) for p in p_x if p>0])\n",
        "\n",
        "\n",
        "\n",
        "  def split(self,x_col,threshold):\n",
        "    left_index = np.argwhere(x_col<=threshold).flatten()\n",
        "    right_index = np.argwhere(x_col>threshold).flatten()\n",
        "    return left_index,right_index\n",
        "\n",
        "\n",
        "  def calculate_information_gain(self,y,X_col,threshold):\n",
        "    parent_entropy = self.calculate_entropy(y)\n",
        "    left_index,right_index = self.split(X_col,threshold)\n",
        "    if len(left_index) == 0 or len(right_index) == 0:\n",
        "      return 0\n",
        "    \n",
        "\n",
        "  #Randomness in Decision Tree\n",
        "  def best_split(self,X,Y,feature_idx):\n",
        "    best_gain = -1\n",
        "    split_index,split_thresgold = None,None\n",
        "    for index in feature_idx:\n",
        "      x_col = X[:,index]\n",
        "      thresholds = np.unique(x_col)\n",
        "\n",
        "      for th in thresholds:\n",
        "        #Information Gain\n",
        "        gain = 0\n",
        "        if gain > best_gain:\n",
        "          best_gain = gain\n",
        "          split_index = index\n",
        "          split_threshold = thresholds\n",
        "    return split_index,split_threshold\n",
        "\n",
        "\n",
        "  def grow(self,X,Y,depth=0):\n",
        "    n_samples,n_features = X.shape\n",
        "    n_labels = np.unique(Y)\n",
        "\n",
        "    if (depth>=self.depth or n_labels==1 or n_samples < self.sample_split):\n",
        "      return Node(value=self.calculate_leaf_value(Y))\n",
        "    feature_index = np.random.choice(n_features,self.n_features,replace = False)\n",
        "    best_th,best_feature = self.best_split(X,Y,feature_index)\n",
        "\n",
        "  def fit(self,X,Y):\n",
        "    self.n_features = X.shape[1] if not self.n_features  else min(X.shape[1],self.n_features)\n",
        "    self.root = self.grow(X,Y)\n",
        "  def predict():\n",
        "    pass"
      ],
      "metadata": {
        "id": "1xLw_9WZi-WV"
      },
      "execution_count": 6,
      "outputs": []
    },
    {
      "cell_type": "code",
      "source": [],
      "metadata": {
        "id": "nyaVPzBekXqT"
      },
      "execution_count": null,
      "outputs": []
    }
  ]
}
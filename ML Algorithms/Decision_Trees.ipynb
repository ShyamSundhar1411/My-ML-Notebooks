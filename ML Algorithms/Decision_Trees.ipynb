{
  "nbformat": 4,
  "nbformat_minor": 0,
  "metadata": {
    "colab": {
      "provenance": [],
      "authorship_tag": "ABX9TyNcr/IK+tzu4CTxOB3d7vIZ",
      "include_colab_link": true
    },
    "kernelspec": {
      "name": "python3",
      "display_name": "Python 3"
    },
    "language_info": {
      "name": "python"
    }
  },
  "cells": [
    {
      "cell_type": "markdown",
      "metadata": {
        "id": "view-in-github",
        "colab_type": "text"
      },
      "source": [
        "<a href=\"https://colab.research.google.com/github/ShyamSundhar1411/My-ML-Notebooks/blob/master/ML%20Algorithms/Decision_Trees.ipynb\" target=\"_parent\"><img src=\"https://colab.research.google.com/assets/colab-badge.svg\" alt=\"Open In Colab\"/></a>"
      ]
    },
    {
      "cell_type": "markdown",
      "source": [
        "## Decision Tree"
      ],
      "metadata": {
        "id": "UDZR3RRuiTAo"
      }
    },
    {
      "cell_type": "code",
      "source": [
        "import numpy as np\n",
        "from collections import Counter"
      ],
      "metadata": {
        "id": "Yk3FYrlxkWw8"
      },
      "execution_count": 1,
      "outputs": []
    },
    {
      "cell_type": "code",
      "source": [
        "class Node:\n",
        "  def __init__(self,feature=None,threshold = None,left = None,right = None,*,value = None):\n",
        "    self.feature = feature\n",
        "    self.th = threshold\n",
        "    self.left = left\n",
        "    self.right = right\n",
        "    self.value = value\n",
        "  def is_leaf_node(self):\n",
        "    return self.value is not None"
      ],
      "metadata": {
        "id": "_ujJEYrHilQB"
      },
      "execution_count": 107,
      "outputs": []
    },
    {
      "cell_type": "code",
      "source": [
        "class DecisionTree:\n",
        "  def __init__(self,sample_split = 2,max_depth = 100,n_features = None):\n",
        "    self.sample_split = sample_split\n",
        "    self.depth = max_depth\n",
        "    self.n_features = n_features\n",
        "    self.root = None\n",
        "\n",
        "  def fit(self,X,Y):\n",
        "    self.n_features = X.shape[1] if not self.n_features  else min(X.shape[1],self.n_features)\n",
        "    self.root = self.grow(X,Y)\n",
        "    return self\n",
        "\n",
        "  def traverse(self,x,node):\n",
        "    if node.is_leaf_node():\n",
        "      return node.value\n",
        "    if x[node.feature]<=node.th:\n",
        "      return self.traverse(x,node.left)\n",
        "    return self.traverse(x,node.right)\n",
        "\n",
        "  def predict(self,X):\n",
        "    return np.array([self.traverse(x,self.root) for x in X])\n",
        "  \n",
        "  def calculate_leaf_value(self,y):\n",
        "    return Counter(y).most_common(1)[0][0]\n",
        "\n",
        "\n",
        "  def calculate_entropy(self,y):\n",
        "    count = np.bincount(y)\n",
        "    p_x = count/len(y)\n",
        "    return -np.sum([p*np.log(p) for p in p_x if p>0])\n",
        "\n",
        "\n",
        "\n",
        "  def split(self,x_col,threshold):\n",
        "    left_index = np.argwhere(x_col<=threshold).flatten()\n",
        "    right_index = np.argwhere(x_col>threshold).flatten()\n",
        "    return left_index,right_index\n",
        "\n",
        "\n",
        "  def calculate_information_gain(self,y,X_col,threshold):\n",
        "    parent_entropy = self.calculate_entropy(y)\n",
        "\n",
        "    left_index,right_index = self.split(X_col,threshold)\n",
        "    if len(left_index) == 0 or len(right_index) == 0:\n",
        "      return 0\n",
        "    n = len(y)\n",
        "    n_left = len(left_index)\n",
        "    n_right = len(right_index)\n",
        "    entropy_left = self.calculate_entropy(y[left_index])\n",
        "    entropy_right = self.calculate_entropy(y[right_index])\n",
        "    child_entropy = (n_left/n)*entropy_left+(n_right/n)*entropy_right\n",
        "    return parent_entropy-child_entropy\n",
        "\n",
        "    \n",
        "\n",
        "  #Randomness in Decision Tree\n",
        "  def best_split(self,X,Y,feature_idx):\n",
        "    best_gain = -1\n",
        "    split_index,split_thresgold = None,None\n",
        "    for index in feature_idx:\n",
        "      x_col = X[:,index]\n",
        "      thresholds = np.unique(x_col)\n",
        "\n",
        "      for th in thresholds:\n",
        "        #Information Gain\n",
        "        gain = self.calculate_information_gain(y,x_col,th)\n",
        "        if gain > best_gain:\n",
        "          best_gain = gain\n",
        "          split_index = index\n",
        "          split_threshold = th\n",
        "    return split_index,split_threshold\n",
        "\n",
        "\n",
        "  def grow(self,X,Y,depth=0):\n",
        "    n_samples,n_features = X.shape\n",
        "    n_labels = len(np.unique(Y))\n",
        "\n",
        "    if (depth>=self.depth or n_labels==1 or n_samples < self.sample_split):\n",
        "      return Node(value=self.calculate_leaf_value(Y))\n",
        "    feature_index = np.random.choice(n_features,self.n_features,replace = False)\n",
        "    best_feature,best_th = self.best_split(X,Y,feature_index)\n",
        "    left_index,right_index = self.split(X[:,best_feature],best_th)\n",
        "    left = self.grow(X[left_index,:],Y[left_index],depth+1)\n",
        "    right = self.grow(X[right_index,:],Y[right_index],depth+1)\n",
        "    return Node(best_feature,best_th,left,right)\n",
        "    \n",
        "  def accuracy(self,y_pred,y_true):\n",
        "    return np.sum(y_pred==y_true)/len(y_pred)\n"
      ],
      "metadata": {
        "id": "1xLw_9WZi-WV"
      },
      "execution_count": 108,
      "outputs": []
    },
    {
      "cell_type": "code",
      "source": [
        "from sklearn import datasets\n",
        "from sklearn.model_selection import train_test_split"
      ],
      "metadata": {
        "id": "nyaVPzBekXqT"
      },
      "execution_count": 109,
      "outputs": []
    },
    {
      "cell_type": "code",
      "source": [
        "data = datasets.load_breast_cancer()\n",
        "x,y = data.data,data.target"
      ],
      "metadata": {
        "id": "z2_Zlz-ZEmiY"
      },
      "execution_count": 110,
      "outputs": []
    },
    {
      "cell_type": "code",
      "source": [
        "x_train,x_test,y_train,y_test = train_test_split(x,y,test_size = 0.2,random_state = 42)"
      ],
      "metadata": {
        "id": "eTtjPGZtEqBh"
      },
      "execution_count": 111,
      "outputs": []
    },
    {
      "cell_type": "code",
      "source": [
        "model = DecisionTree()\n",
        "model.fit(x_train,y_train)"
      ],
      "metadata": {
        "colab": {
          "base_uri": "https://localhost:8080/"
        },
        "id": "YAsn_iqTE1sp",
        "outputId": "9b9f8ef8-1200-49f5-efed-246345d3cd08"
      },
      "execution_count": 112,
      "outputs": [
        {
          "output_type": "execute_result",
          "data": {
            "text/plain": [
              "<__main__.DecisionTree at 0x7fb064776a30>"
            ]
          },
          "metadata": {},
          "execution_count": 112
        }
      ]
    },
    {
      "cell_type": "code",
      "source": [
        "y_pred = model.predict(x_test)"
      ],
      "metadata": {
        "id": "VAuI8P9VE4Xe"
      },
      "execution_count": 113,
      "outputs": []
    },
    {
      "cell_type": "code",
      "source": [
        "y_pred"
      ],
      "metadata": {
        "colab": {
          "base_uri": "https://localhost:8080/"
        },
        "id": "6JnoKa8kOLS2",
        "outputId": "40d2ff8d-758c-4d2a-a798-c1597f8ae15c"
      },
      "execution_count": 114,
      "outputs": [
        {
          "output_type": "execute_result",
          "data": {
            "text/plain": [
              "array([1, 0, 0, 1, 1, 0, 1, 0, 1, 1, 1, 0, 1, 0, 0, 0, 1, 1, 1, 0, 1, 1,\n",
              "       0, 1, 1, 1, 1, 1, 1, 0, 1, 1, 1, 1, 1, 1, 1, 1, 0, 1, 1, 0, 1, 0,\n",
              "       1, 0, 1, 1, 1, 1, 0, 0, 0, 1, 1, 0, 0, 0, 0, 1, 1, 0, 0, 1, 1, 1,\n",
              "       0, 0, 1, 0, 0, 0, 1, 0, 1, 0, 1, 0, 1, 0, 0, 1, 0, 0, 0, 0, 0, 0,\n",
              "       1, 0, 1, 0, 0, 1, 1, 0, 0, 1, 1, 0, 0, 1, 0, 0, 1, 1, 1, 0, 0, 1,\n",
              "       0, 1, 1, 0])"
            ]
          },
          "metadata": {},
          "execution_count": 114
        }
      ]
    },
    {
      "cell_type": "code",
      "source": [
        "model.accuracy(y_pred,y_test)"
      ],
      "metadata": {
        "colab": {
          "base_uri": "https://localhost:8080/"
        },
        "id": "uAhIAyCiPHK8",
        "outputId": "9db162aa-057d-4308-f7d7-f065ea527d85"
      },
      "execution_count": 115,
      "outputs": [
        {
          "output_type": "execute_result",
          "data": {
            "text/plain": [
              "0.8421052631578947"
            ]
          },
          "metadata": {},
          "execution_count": 115
        }
      ]
    },
    {
      "cell_type": "code",
      "source": [],
      "metadata": {
        "id": "NIoCv8x8PVUC"
      },
      "execution_count": null,
      "outputs": []
    }
  ]
}
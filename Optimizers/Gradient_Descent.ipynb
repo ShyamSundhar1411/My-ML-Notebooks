{
  "nbformat": 4,
  "nbformat_minor": 0,
  "metadata": {
    "colab": {
      "provenance": [],
      "authorship_tag": "ABX9TyPyjZWuHF+uc5Gfg6YWDvK+",
      "include_colab_link": true
    },
    "kernelspec": {
      "name": "python3",
      "display_name": "Python 3"
    },
    "language_info": {
      "name": "python"
    }
  },
  "cells": [
    {
      "cell_type": "markdown",
      "metadata": {
        "id": "view-in-github",
        "colab_type": "text"
      },
      "source": [
        "<a href=\"https://colab.research.google.com/github/ShyamSundhar1411/My-ML-Notebooks/blob/master/Optimizers/Gradient_Descent.ipynb\" target=\"_parent\"><img src=\"https://colab.research.google.com/assets/colab-badge.svg\" alt=\"Open In Colab\"/></a>"
      ]
    },
    {
      "cell_type": "markdown",
      "source": [
        "# Gradient Descent"
      ],
      "metadata": {
        "id": "fmIOgau7AgT0"
      }
    },
    {
      "cell_type": "markdown",
      "source": [
        "### Summary\n",
        "\n",
        "\n",
        "Gradient Descent (GD) is an optimization algorithm used to minimize a **cost function** by iteratively moving towards its local minimum.\n",
        "It does this by **updating the parameters** in the direction opposite to the gradient of the function.\n",
        "\n",
        "---\n",
        "\n",
        "For a function $f(\\theta)$, the parameters are updated using the following rule:\n",
        "\n",
        "$\\theta' = \\theta - \\alpha \\cdot \\nabla f(\\theta)$\n",
        "\n",
        "Where\n",
        "  - $\\theta'$ = New Updated Parameter\n",
        "  - $\\theta$ = Old Parameter\n",
        "  - $\\alpha$ = Learning Rate\n",
        "\n",
        "---\n",
        "#### Pseudocode\n",
        "1. **Initialize** parameters randomly or with zeros.\n",
        "2. **Compute the gradient** of the loss function with respect to the parameters.\n",
        "3. **Update the parameters** using the gradient and the learning rate.\n",
        "4. **Repeat** the process over multiple iterations until convergence.\n",
        "\n",
        "---\n",
        "\n",
        "### Convergence Criteria\n",
        "- The algorithm converges when the **change in cost function** between iterations is minimal or when the gradient approaches zero.\n",
        "- A **small learning rate** leads to slow convergence, while a **large learning rate** may overshoot the minimum.\n",
        "\n",
        "---\n",
        "\n"
      ],
      "metadata": {
        "id": "YJoJZ-0-AqJX"
      }
    },
    {
      "cell_type": "code",
      "source": [
        "import numpy as np\n",
        "import matplotlib.pyplot as plt"
      ],
      "metadata": {
        "id": "ya3lnfTiAnhJ"
      },
      "execution_count": 3,
      "outputs": []
    },
    {
      "cell_type": "markdown",
      "source": [
        "Let's take the function $f(x; w, b)$, which represents a logistic function:\n",
        "\n",
        "$$\n",
        "f(x;w,b) = \\frac{1}{1 + e^{- (wx + b)}}\n",
        "$$\n",
        "\n",
        "\n"
      ],
      "metadata": {
        "id": "Wks7f3t1Ch5j"
      }
    },
    {
      "cell_type": "code",
      "source": [
        "def f(x,w,b):\n",
        "  return 1/(1+np.exp(-x*w-b))"
      ],
      "metadata": {
        "id": "0Eq3FVHjChMT"
      },
      "execution_count": 2,
      "outputs": []
    },
    {
      "cell_type": "code",
      "source": [
        "x = np.arange(-10,10,1)"
      ],
      "metadata": {
        "id": "F6KekzzVDBDm"
      },
      "execution_count": 35,
      "outputs": []
    },
    {
      "cell_type": "code",
      "source": [
        "x"
      ],
      "metadata": {
        "colab": {
          "base_uri": "https://localhost:8080/"
        },
        "id": "39Yva6vKDQO4",
        "outputId": "e5b59db3-0a53-4098-b95d-d11be9b7f291"
      },
      "execution_count": 38,
      "outputs": [
        {
          "output_type": "execute_result",
          "data": {
            "text/plain": [
              "array([-10,  -9,  -8,  -7,  -6,  -5,  -4,  -3,  -2,  -1,   0,   1,   2,\n",
              "         3,   4,   5,   6,   7,   8,   9])"
            ]
          },
          "metadata": {},
          "execution_count": 38
        }
      ]
    },
    {
      "cell_type": "code",
      "source": [
        "def plot_f(x):\n",
        "  y = f(x,1,0)\n",
        "  plt.plot(x,y)\n",
        "  plt.show()"
      ],
      "metadata": {
        "id": "xXsFxLOXDQeZ"
      },
      "execution_count": 41,
      "outputs": []
    },
    {
      "cell_type": "code",
      "source": [
        "plot_f(x)"
      ],
      "metadata": {
        "colab": {
          "base_uri": "https://localhost:8080/",
          "height": 430
        },
        "id": "h3_tb2s1DcLA",
        "outputId": "7e25828c-4801-4586-abe6-e732b2b313a7"
      },
      "execution_count": 42,
      "outputs": [
        {
          "output_type": "display_data",
          "data": {
            "text/plain": [
              "<Figure size 640x480 with 1 Axes>"
            ],
            "image/png": "[encoded data removed]"
          },
          "metadata": {}
        }
      ]
    },
    {
      "cell_type": "code",
      "source": [
        "def loss_function(x,w,b,y):\n",
        "  f_x = f(x,w,b)\n",
        "  loss = 0.5*((f_x-y)**2)\n",
        "  return loss"
      ],
      "metadata": {
        "id": "UQke40B1DlNX"
      },
      "execution_count": 44,
      "outputs": []
    },
    {
      "cell_type": "code",
      "source": [
        "def grad_b(x,w,b,y):\n",
        "  f_x = f(x,w,b)\n",
        "  grad = (f_x-y)*(f_x)*(f_x-1)\n",
        "  return grad\n"
      ],
      "metadata": {
        "id": "fcTY37IOExHa"
      },
      "execution_count": 45,
      "outputs": []
    },
    {
      "cell_type": "code",
      "source": [
        "def grad_w(x,w,b,y):\n",
        "  f_x = f(x,w,b)\n",
        "  grad = (f_x-y)*(f_x)*x*(1-f_x)\n",
        "  return grad"
      ],
      "metadata": {
        "id": "31aoNsCIFgFa"
      },
      "execution_count": 46,
      "outputs": []
    },
    {
      "cell_type": "code",
      "source": [
        "X ="
      ],
      "metadata": {
        "id": "NZIXRMinGmZL"
      },
      "execution_count": null,
      "outputs": []
    },
    {
      "cell_type": "code",
      "source": [
        "def gradient_descent(,y,epoch = 10):\n",
        "  w,b,eta = -10,-10,1\n",
        "  for _ in range(epoch):\n",
        "    delta_w = grad_w(x,w,b,y)\n",
        "    delta_b = grad_b(x,w,b,y)\n",
        "    w = w - eta*grad_w\n",
        "    b = b - eta*grad_b\n",
        "  return w,b\n"
      ],
      "metadata": {
        "id": "Bo4BYMYdFpbx"
      },
      "execution_count": null,
      "outputs": []
    }
  ]
}
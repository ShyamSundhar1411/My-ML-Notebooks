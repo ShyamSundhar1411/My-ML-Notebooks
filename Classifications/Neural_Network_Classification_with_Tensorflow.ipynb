{
  "nbformat": 4,
  "nbformat_minor": 0,
  "metadata": {
    "colab": {
      "provenance": [],
      "authorship_tag": "ABX9TyOJdWGIhIDRQlsNfBA4S/5d",
      "include_colab_link": true
    },
    "kernelspec": {
      "name": "python3",
      "display_name": "Python 3"
    },
    "language_info": {
      "name": "python"
    },
    "accelerator": "GPU",
    "gpuClass": "standard"
  },
  "cells": [
    {
      "cell_type": "markdown",
      "metadata": {
        "id": "view-in-github",
        "colab_type": "text"
      },
      "source": [
        "<a href=\"https://colab.research.google.com/github/ShyamSundhar1411/My-ML-Notebooks/blob/master/Classifications/Neural_Network_Classification_with_Tensorflow.ipynb\" target=\"_parent\"><img src=\"https://colab.research.google.com/assets/colab-badge.svg\" alt=\"Open In Colab\"/></a>"
      ]
    },
    {
      "cell_type": "markdown",
      "source": [
        "# Introduction to Neural Network classification with TensorFlow\n",
        "* Binary Classification\n",
        "* Multiclass Classification\n",
        "* Multilabel Classification"
      ],
      "metadata": {
        "id": "1brS47npy6jC"
      }
    },
    {
      "cell_type": "markdown",
      "source": [
        "## Creating data to view and fit"
      ],
      "metadata": {
        "id": "bS0Nnrc5zDnT"
      }
    },
    {
      "cell_type": "code",
      "source": [
        "from sklearn.datasets import make_circles\n",
        "import numpy as np\n",
        "# Make 1000 samples\n",
        "n_samples = 1000\n",
        "x,y = make_circles(n_samples,noise = 0.03,random_state = 42)"
      ],
      "metadata": {
        "id": "CAPlgfvRzdx7"
      },
      "execution_count": 12,
      "outputs": []
    },
    {
      "cell_type": "code",
      "source": [
        "x"
      ],
      "metadata": {
        "colab": {
          "base_uri": "https://localhost:8080/"
        },
        "id": "YupntXlWz6H1",
        "outputId": "9773673c-f49b-4674-c57c-103f97f00e50"
      },
      "execution_count": 13,
      "outputs": [
        {
          "output_type": "execute_result",
          "data": {
            "text/plain": [
              "array([[ 0.75424625,  0.23148074],\n",
              "       [-0.75615888,  0.15325888],\n",
              "       [-0.81539193,  0.17328203],\n",
              "       ...,\n",
              "       [-0.13690036, -0.81001183],\n",
              "       [ 0.67036156, -0.76750154],\n",
              "       [ 0.28105665,  0.96382443]])"
            ]
          },
          "metadata": {},
          "execution_count": 13
        }
      ]
    },
    {
      "cell_type": "markdown",
      "source": [
        "## Visualizing Dataset"
      ],
      "metadata": {
        "id": "pKTyqZ-I0EFo"
      }
    },
    {
      "cell_type": "code",
      "source": [
        "import pandas as pd\n",
        "circles = pd.DataFrame({\"X0\":x[:,0],\"X1\":x[:,1],\"label\":y})"
      ],
      "metadata": {
        "id": "fh9Rm6k60b28"
      },
      "execution_count": 14,
      "outputs": []
    },
    {
      "cell_type": "code",
      "source": [
        "circles"
      ],
      "metadata": {
        "colab": {
          "base_uri": "https://localhost:8080/",
          "height": 423
        },
        "id": "EEraT3C80wvR",
        "outputId": "d5fc12a4-bbe9-4736-92e5-93a637c93d55"
      },
      "execution_count": 15,
      "outputs": [
        {
          "output_type": "execute_result",
          "data": {
            "text/plain": [
              "           X0        X1  label\n",
              "0    0.754246  0.231481      1\n",
              "1   -0.756159  0.153259      1\n",
              "2   -0.815392  0.173282      1\n",
              "3   -0.393731  0.692883      1\n",
              "4    0.442208 -0.896723      0\n",
              "..        ...       ...    ...\n",
              "995  0.244054  0.944125      0\n",
              "996 -0.978655 -0.272373      0\n",
              "997 -0.136900 -0.810012      1\n",
              "998  0.670362 -0.767502      0\n",
              "999  0.281057  0.963824      0\n",
              "\n",
              "[1000 rows x 3 columns]"
            ],
            "text/html": [
              "\n",
              "  <div id=\"df-0ff92593-deec-44a7-9106-b3fbcc75ba96\">\n",
              "    <div class=\"colab-df-container\">\n",
              "      <div>\n",
              "<style scoped>\n",
              "    .dataframe tbody tr th:only-of-type {\n",
              "        vertical-align: middle;\n",
              "    }\n",
              "\n",
              "    .dataframe tbody tr th {\n",
              "        vertical-align: top;\n",
              "    }\n",
              "\n",
              "    .dataframe thead th {\n",
              "        text-align: right;\n",
              "    }\n",
              "</style>\n",
              "<table border=\"1\" class=\"dataframe\">\n",
              "  <thead>\n",
              "    <tr style=\"text-align: right;\">\n",
              "      <th></th>\n",
              "      <th>X0</th>\n",
              "      <th>X1</th>\n",
              "      <th>label</th>\n",
              "    </tr>\n",
              "  </thead>\n",
              "  <tbody>\n",
              "    <tr>\n",
              "      <th>0</th>\n",
              "      <td>0.754246</td>\n",
              "      <td>0.231481</td>\n",
              "      <td>1</td>\n",
              "    </tr>\n",
              "    <tr>\n",
              "      <th>1</th>\n",
              "      <td>-0.756159</td>\n",
              "      <td>0.153259</td>\n",
              "      <td>1</td>\n",
              "    </tr>\n",
              "    <tr>\n",
              "      <th>2</th>\n",
              "      <td>-0.815392</td>\n",
              "      <td>0.173282</td>\n",
              "      <td>1</td>\n",
              "    </tr>\n",
              "    <tr>\n",
              "      <th>3</th>\n",
              "      <td>-0.393731</td>\n",
              "      <td>0.692883</td>\n",
              "      <td>1</td>\n",
              "    </tr>\n",
              "    <tr>\n",
              "      <th>4</th>\n",
              "      <td>0.442208</td>\n",
              "      <td>-0.896723</td>\n",
              "      <td>0</td>\n",
              "    </tr>\n",
              "    <tr>\n",
              "      <th>...</th>\n",
              "      <td>...</td>\n",
              "      <td>...</td>\n",
              "      <td>...</td>\n",
              "    </tr>\n",
              "    <tr>\n",
              "      <th>995</th>\n",
              "      <td>0.244054</td>\n",
              "      <td>0.944125</td>\n",
              "      <td>0</td>\n",
              "    </tr>\n",
              "    <tr>\n",
              "      <th>996</th>\n",
              "      <td>-0.978655</td>\n",
              "      <td>-0.272373</td>\n",
              "      <td>0</td>\n",
              "    </tr>\n",
              "    <tr>\n",
              "      <th>997</th>\n",
              "      <td>-0.136900</td>\n",
              "      <td>-0.810012</td>\n",
              "      <td>1</td>\n",
              "    </tr>\n",
              "    <tr>\n",
              "      <th>998</th>\n",
              "      <td>0.670362</td>\n",
              "      <td>-0.767502</td>\n",
              "      <td>0</td>\n",
              "    </tr>\n",
              "    <tr>\n",
              "      <th>999</th>\n",
              "      <td>0.281057</td>\n",
              "      <td>0.963824</td>\n",
              "      <td>0</td>\n",
              "    </tr>\n",
              "  </tbody>\n",
              "</table>\n",
              "<p>1000 rows × 3 columns</p>\n",
              "</div>\n",
              "      <button class=\"colab-df-convert\" onclick=\"convertToInteractive('df-0ff92593-deec-44a7-9106-b3fbcc75ba96')\"\n",
              "              title=\"Convert this dataframe to an interactive table.\"\n",
              "              style=\"display:none;\">\n",
              "        \n",
              "  <svg xmlns=\"http://www.w3.org/2000/svg\" height=\"24px\"viewBox=\"0 0 24 24\"\n",
              "       width=\"24px\">\n",
              "    <path d=\"M0 0h24v24H0V0z\" fill=\"none\"/>\n",
              "    <path d=\"M18.56 5.44l.94 2.06.94-2.06 2.06-.94-2.06-.94-.94-2.06-.94 2.06-2.06.94zm-11 1L8.5 8.5l.94-2.06 2.06-.94-2.06-.94L8.5 2.5l-.94 2.06-2.06.94zm10 10l.94 2.06.94-2.06 2.06-.94-2.06-.94-.94-2.06-.94 2.06-2.06.94z\"/><path d=\"M17.41 7.96l-1.37-1.37c-.4-.4-.92-.59-1.43-.59-.52 0-1.04.2-1.43.59L10.3 9.45l-7.72 7.72c-.78.78-.78 2.05 0 2.83L4 21.41c.39.39.9.59 1.41.59.51 0 1.02-.2 1.41-.59l7.78-7.78 2.81-2.81c.8-.78.8-2.07 0-2.86zM5.41 20L4 18.59l7.72-7.72 1.47 1.35L5.41 20z\"/>\n",
              "  </svg>\n",
              "      </button>\n",
              "      \n",
              "  <style>\n",
              "    .colab-df-container {\n",
              "      display:flex;\n",
              "      flex-wrap:wrap;\n",
              "      gap: 12px;\n",
              "    }\n",
              "\n",
              "    .colab-df-convert {\n",
              "      background-color: #E8F0FE;\n",
              "      border: none;\n",
              "      border-radius: 50%;\n",
              "      cursor: pointer;\n",
              "      display: none;\n",
              "      fill: #1967D2;\n",
              "      height: 32px;\n",
              "      padding: 0 0 0 0;\n",
              "      width: 32px;\n",
              "    }\n",
              "\n",
              "    .colab-df-convert:hover {\n",
              "      background-color: #E2EBFA;\n",
              "      box-shadow: 0px 1px 2px rgba(60, 64, 67, 0.3), 0px 1px 3px 1px rgba(60, 64, 67, 0.15);\n",
              "      fill: #174EA6;\n",
              "    }\n",
              "\n",
              "    [theme=dark] .colab-df-convert {\n",
              "      background-color: #3B4455;\n",
              "      fill: #D2E3FC;\n",
              "    }\n",
              "\n",
              "    [theme=dark] .colab-df-convert:hover {\n",
              "      background-color: #434B5C;\n",
              "      box-shadow: 0px 1px 3px 1px rgba(0, 0, 0, 0.15);\n",
              "      filter: drop-shadow(0px 1px 2px rgba(0, 0, 0, 0.3));\n",
              "      fill: #FFFFFF;\n",
              "    }\n",
              "  </style>\n",
              "\n",
              "      <script>\n",
              "        const buttonEl =\n",
              "          document.querySelector('#df-0ff92593-deec-44a7-9106-b3fbcc75ba96 button.colab-df-convert');\n",
              "        buttonEl.style.display =\n",
              "          google.colab.kernel.accessAllowed ? 'block' : 'none';\n",
              "\n",
              "        async function convertToInteractive(key) {\n",
              "          const element = document.querySelector('#df-0ff92593-deec-44a7-9106-b3fbcc75ba96');\n",
              "          const dataTable =\n",
              "            await google.colab.kernel.invokeFunction('convertToInteractive',\n",
              "                                                     [key], {});\n",
              "          if (!dataTable) return;\n",
              "\n",
              "          const docLinkHtml = 'Like what you see? Visit the ' +\n",
              "            '<a target=\"_blank\" href=https://colab.research.google.com/notebooks/data_table.ipynb>data table notebook</a>'\n",
              "            + ' to learn more about interactive tables.';\n",
              "          element.innerHTML = '';\n",
              "          dataTable['output_type'] = 'display_data';\n",
              "          await google.colab.output.renderOutput(dataTable, element);\n",
              "          const docLink = document.createElement('div');\n",
              "          docLink.innerHTML = docLinkHtml;\n",
              "          element.appendChild(docLink);\n",
              "        }\n",
              "      </script>\n",
              "    </div>\n",
              "  </div>\n",
              "  "
            ]
          },
          "metadata": {},
          "execution_count": 15
        }
      ]
    },
    {
      "cell_type": "code",
      "source": [
        "import matplotlib.pyplot as plt"
      ],
      "metadata": {
        "id": "ar8q23vO0yB6"
      },
      "execution_count": 16,
      "outputs": []
    },
    {
      "cell_type": "code",
      "source": [
        "plt.scatter(x[:,0],x[:,1],c = y,cmap = plt.cm.RdYlBu)"
      ],
      "metadata": {
        "colab": {
          "base_uri": "https://localhost:8080/",
          "height": 283
        },
        "id": "-2S59Nle030N",
        "outputId": "e7c2d661-d62e-44f5-a5b1-1823b9ee1536"
      },
      "execution_count": 17,
      "outputs": [
        {
          "output_type": "execute_result",
          "data": {
            "text/plain": [
              "<matplotlib.collections.PathCollection at 0x7f484a689fd0>"
            ]
          },
          "metadata": {},
          "execution_count": 17
        },
        {
          "output_type": "display_data",
          "data": {
            "text/plain": [
              "<Figure size 432x288 with 1 Axes>"
            ],
            "image/png": "[encoded data removed]"
          },
          "metadata": {
            "needs_background": "light"
          }
        }
      ]
    },
    {
      "cell_type": "code",
      "source": [
        "x.shape"
      ],
      "metadata": {
        "colab": {
          "base_uri": "https://localhost:8080/"
        },
        "id": "SyYa_CaI06BA",
        "outputId": "91bccb8e-21bc-4fba-ba85-ca0f673fb72b"
      },
      "execution_count": 18,
      "outputs": [
        {
          "output_type": "execute_result",
          "data": {
            "text/plain": [
              "(1000, 2)"
            ]
          },
          "metadata": {},
          "execution_count": 18
        }
      ]
    },
    {
      "cell_type": "code",
      "source": [
        "y.shape"
      ],
      "metadata": {
        "id": "xFSfSS_M1b9N",
        "outputId": "2695c44d-0f63-4e38-96d4-8bbf4b1c277b",
        "colab": {
          "base_uri": "https://localhost:8080/"
        }
      },
      "execution_count": 19,
      "outputs": [
        {
          "output_type": "execute_result",
          "data": {
            "text/plain": [
              "(1000,)"
            ]
          },
          "metadata": {},
          "execution_count": 19
        }
      ]
    },
    {
      "cell_type": "markdown",
      "source": [
        "## Modelling"
      ],
      "metadata": {
        "id": "qCoQAjah1dRR"
      }
    },
    {
      "cell_type": "code",
      "source": [
        "import tensorflow as tf"
      ],
      "metadata": {
        "id": "dGpc0oG6uzB6"
      },
      "execution_count": 20,
      "outputs": []
    },
    {
      "cell_type": "code",
      "source": [
        "tf.random.set_seed(42)\n",
        "model_1 = tf.keras.Sequential([\n",
        "    tf.keras.layers.Dense(16),\n",
        "    tf.keras.layers.Dense(1)\n",
        "\n",
        "])\n",
        "model_1.compile(loss = \"binary_crossentropy\",optimizer = tf.keras.optimizers.Adam(),metrics = [\"accuracy\"])"
      ],
      "metadata": {
        "id": "3h6rZWR8uPdm"
      },
      "execution_count": 21,
      "outputs": []
    },
    {
      "cell_type": "code",
      "source": [
        "model_1.fit(x,y,epochs = 200,verbose = 0)"
      ],
      "metadata": {
        "colab": {
          "base_uri": "https://localhost:8080/"
        },
        "id": "FEB9IM9Eukqn",
        "outputId": "10604e5b-18e6-4593-f682-f124e9ad6705"
      },
      "execution_count": 22,
      "outputs": [
        {
          "output_type": "execute_result",
          "data": {
            "text/plain": [
              "<keras.callbacks.History at 0x7f484a641fd0>"
            ]
          },
          "metadata": {},
          "execution_count": 22
        }
      ]
    },
    {
      "cell_type": "code",
      "source": [
        "model_1.evaluate(x,y)"
      ],
      "metadata": {
        "colab": {
          "base_uri": "https://localhost:8080/"
        },
        "id": "Smn291Anu9JG",
        "outputId": "6de41819-7c65-4e9f-b833-34c8a0dfc97c"
      },
      "execution_count": 23,
      "outputs": [
        {
          "output_type": "stream",
          "name": "stdout",
          "text": [
            "32/32 [==============================] - 0s 3ms/step - loss: 0.6934 - accuracy: 0.4780\n"
          ]
        },
        {
          "output_type": "execute_result",
          "data": {
            "text/plain": [
              "[0.6934270262718201, 0.4779999852180481]"
            ]
          },
          "metadata": {},
          "execution_count": 23
        }
      ]
    },
    {
      "cell_type": "code",
      "source": [
        "model_2 = tf.keras.Sequential([\n",
        "    tf.keras.layers.Dense(1),\n",
        "    tf.keras.layers.Dense(1),\n",
        "])\n",
        "model_2.compile(loss = \"binary_crossentropy\",optimizer = tf.keras.optimizers.SGD(),metrics = ['accuracy'])"
      ],
      "metadata": {
        "id": "YKB123grvvrf"
      },
      "execution_count": 24,
      "outputs": []
    },
    {
      "cell_type": "code",
      "source": [
        "model_2.fit(x,y,epochs = 100,verbose = 0)"
      ],
      "metadata": {
        "colab": {
          "base_uri": "https://localhost:8080/"
        },
        "id": "yBwm2LBXwYqN",
        "outputId": "22c1d2f2-b9ea-4843-dbff-b837ff4e8841"
      },
      "execution_count": 25,
      "outputs": [
        {
          "output_type": "execute_result",
          "data": {
            "text/plain": [
              "<keras.callbacks.History at 0x7f484a525d30>"
            ]
          },
          "metadata": {},
          "execution_count": 25
        }
      ]
    },
    {
      "cell_type": "code",
      "source": [
        "model_2.evaluate(x,y)"
      ],
      "metadata": {
        "colab": {
          "base_uri": "https://localhost:8080/"
        },
        "id": "nvY36FjTwf91",
        "outputId": "ad3eb813-c9cf-44ac-9ca8-5f27cc3e28a4"
      },
      "execution_count": 26,
      "outputs": [
        {
          "output_type": "stream",
          "name": "stdout",
          "text": [
            "32/32 [==============================] - 0s 2ms/step - loss: 0.6933 - accuracy: 0.5000\n"
          ]
        },
        {
          "output_type": "execute_result",
          "data": {
            "text/plain": [
              "[0.6933338642120361, 0.5]"
            ]
          },
          "metadata": {},
          "execution_count": 26
        }
      ]
    },
    {
      "cell_type": "code",
      "source": [
        "tf.random.set_seed(42)"
      ],
      "metadata": {
        "id": "Pd02w9eYwhB9"
      },
      "execution_count": 27,
      "outputs": []
    },
    {
      "cell_type": "markdown",
      "source": [
        "##Improving our model"
      ],
      "metadata": {
        "id": "1u5XNJKeWOG4"
      }
    },
    {
      "cell_type": "code",
      "source": [
        "model_3 = tf.keras.Sequential([\n",
        "    tf.keras.layers.Dense(100),\n",
        "    tf.keras.layers.Dense(10),\n",
        "    tf.keras.layers.Dense(1)\n",
        "])\n",
        "model_3.compile(loss = \"binary_crossentropy\",optimizer = tf.keras.optimizers.Adam(),metrics = ['accuracy'])"
      ],
      "metadata": {
        "id": "4TtqvLiRWTxk"
      },
      "execution_count": 28,
      "outputs": []
    },
    {
      "cell_type": "code",
      "source": [
        "model_3.fit(x,y,epochs = 100)"
      ],
      "metadata": {
        "colab": {
          "base_uri": "https://localhost:8080/"
        },
        "id": "jMxzEGDAWg7H",
        "outputId": "ec9ccb70-0c70-4807-f761-93bf2ccedf35"
      },
      "execution_count": 29,
      "outputs": [
        {
          "output_type": "stream",
          "name": "stdout",
          "text": [
            "Epoch 1/100\n",
            "32/32 [==============================] - 1s 3ms/step - loss: 2.9659 - accuracy: 0.4490\n",
            "Epoch 2/100\n",
            "32/32 [==============================] - 0s 3ms/step - loss: 0.7231 - accuracy: 0.4370\n",
            "Epoch 3/100\n",
            "32/32 [==============================] - 0s 4ms/step - loss: 0.6972 - accuracy: 0.4690\n",
            "Epoch 4/100\n",
            "32/32 [==============================] - 0s 3ms/step - loss: 0.6954 - accuracy: 0.4630\n",
            "Epoch 5/100\n",
            "32/32 [==============================] - 0s 3ms/step - loss: 0.6943 - accuracy: 0.4750\n",
            "Epoch 6/100\n",
            "32/32 [==============================] - 0s 5ms/step - loss: 0.6941 - accuracy: 0.4750\n",
            "Epoch 7/100\n",
            "32/32 [==============================] - 0s 5ms/step - loss: 0.6939 - accuracy: 0.5040\n",
            "Epoch 8/100\n",
            "32/32 [==============================] - 0s 3ms/step - loss: 0.6946 - accuracy: 0.4980\n",
            "Epoch 9/100\n",
            "32/32 [==============================] - 0s 3ms/step - loss: 0.6943 - accuracy: 0.4890\n",
            "Epoch 10/100\n",
            "32/32 [==============================] - 0s 6ms/step - loss: 0.6944 - accuracy: 0.4500\n",
            "Epoch 11/100\n",
            "32/32 [==============================] - 0s 3ms/step - loss: 0.6951 - accuracy: 0.4450\n",
            "Epoch 12/100\n",
            "32/32 [==============================] - 0s 3ms/step - loss: 0.6946 - accuracy: 0.4870\n",
            "Epoch 13/100\n",
            "32/32 [==============================] - 0s 5ms/step - loss: 0.6955 - accuracy: 0.4900\n",
            "Epoch 14/100\n",
            "32/32 [==============================] - 0s 3ms/step - loss: 0.6950 - accuracy: 0.5120\n",
            "Epoch 15/100\n",
            "32/32 [==============================] - 0s 4ms/step - loss: 0.6956 - accuracy: 0.4590\n",
            "Epoch 16/100\n",
            "32/32 [==============================] - 0s 5ms/step - loss: 0.6942 - accuracy: 0.4810\n",
            "Epoch 17/100\n",
            "32/32 [==============================] - 0s 4ms/step - loss: 0.6975 - accuracy: 0.4950\n",
            "Epoch 18/100\n",
            "32/32 [==============================] - 0s 3ms/step - loss: 0.6945 - accuracy: 0.4590\n",
            "Epoch 19/100\n",
            "32/32 [==============================] - 0s 5ms/step - loss: 0.6952 - accuracy: 0.5310\n",
            "Epoch 20/100\n",
            "32/32 [==============================] - 0s 4ms/step - loss: 0.6955 - accuracy: 0.4570\n",
            "Epoch 21/100\n",
            "32/32 [==============================] - 0s 3ms/step - loss: 0.6955 - accuracy: 0.4930\n",
            "Epoch 22/100\n",
            "32/32 [==============================] - 0s 4ms/step - loss: 0.6948 - accuracy: 0.4350\n",
            "Epoch 23/100\n",
            "32/32 [==============================] - 0s 5ms/step - loss: 0.6944 - accuracy: 0.4970\n",
            "Epoch 24/100\n",
            "32/32 [==============================] - 0s 3ms/step - loss: 0.6963 - accuracy: 0.4680\n",
            "Epoch 25/100\n",
            "32/32 [==============================] - 0s 3ms/step - loss: 0.6973 - accuracy: 0.4960\n",
            "Epoch 26/100\n",
            "32/32 [==============================] - 0s 5ms/step - loss: 0.6973 - accuracy: 0.4860\n",
            "Epoch 27/100\n",
            "32/32 [==============================] - 0s 7ms/step - loss: 0.6963 - accuracy: 0.5050\n",
            "Epoch 28/100\n",
            "32/32 [==============================] - 0s 3ms/step - loss: 0.6945 - accuracy: 0.4700\n",
            "Epoch 29/100\n",
            "32/32 [==============================] - 0s 3ms/step - loss: 0.6973 - accuracy: 0.4790\n",
            "Epoch 30/100\n",
            "32/32 [==============================] - 0s 4ms/step - loss: 0.6997 - accuracy: 0.4780\n",
            "Epoch 31/100\n",
            "32/32 [==============================] - 0s 3ms/step - loss: 0.6950 - accuracy: 0.5020\n",
            "Epoch 32/100\n",
            "32/32 [==============================] - 0s 4ms/step - loss: 0.6965 - accuracy: 0.4760\n",
            "Epoch 33/100\n",
            "32/32 [==============================] - 0s 5ms/step - loss: 0.6956 - accuracy: 0.4540\n",
            "Epoch 34/100\n",
            "32/32 [==============================] - 0s 3ms/step - loss: 0.6972 - accuracy: 0.4820\n",
            "Epoch 35/100\n",
            "32/32 [==============================] - 0s 3ms/step - loss: 0.6960 - accuracy: 0.5060\n",
            "Epoch 36/100\n",
            "32/32 [==============================] - 0s 4ms/step - loss: 0.6946 - accuracy: 0.4690\n",
            "Epoch 37/100\n",
            "32/32 [==============================] - 0s 3ms/step - loss: 0.6952 - accuracy: 0.4860\n",
            "Epoch 38/100\n",
            "32/32 [==============================] - 0s 3ms/step - loss: 0.6974 - accuracy: 0.4990\n",
            "Epoch 39/100\n",
            "32/32 [==============================] - 0s 4ms/step - loss: 0.6949 - accuracy: 0.4690\n",
            "Epoch 40/100\n",
            "32/32 [==============================] - 0s 3ms/step - loss: 0.6965 - accuracy: 0.4990\n",
            "Epoch 41/100\n",
            "32/32 [==============================] - 0s 3ms/step - loss: 0.6979 - accuracy: 0.4870\n",
            "Epoch 42/100\n",
            "32/32 [==============================] - 0s 5ms/step - loss: 0.6995 - accuracy: 0.4700\n",
            "Epoch 43/100\n",
            "32/32 [==============================] - 0s 4ms/step - loss: 0.6957 - accuracy: 0.5000\n",
            "Epoch 44/100\n",
            "32/32 [==============================] - 0s 3ms/step - loss: 0.6981 - accuracy: 0.4840\n",
            "Epoch 45/100\n",
            "32/32 [==============================] - 0s 3ms/step - loss: 0.6964 - accuracy: 0.5100\n",
            "Epoch 46/100\n",
            "32/32 [==============================] - 0s 6ms/step - loss: 0.6949 - accuracy: 0.4720\n",
            "Epoch 47/100\n",
            "32/32 [==============================] - 0s 4ms/step - loss: 0.6974 - accuracy: 0.5160\n",
            "Epoch 48/100\n",
            "32/32 [==============================] - 0s 5ms/step - loss: 0.6966 - accuracy: 0.4820\n",
            "Epoch 49/100\n",
            "32/32 [==============================] - 0s 5ms/step - loss: 0.6976 - accuracy: 0.4870\n",
            "Epoch 50/100\n",
            "32/32 [==============================] - 0s 6ms/step - loss: 0.6971 - accuracy: 0.4600\n",
            "Epoch 51/100\n",
            "32/32 [==============================] - 0s 6ms/step - loss: 0.6980 - accuracy: 0.4800\n",
            "Epoch 52/100\n",
            "32/32 [==============================] - 0s 6ms/step - loss: 0.6962 - accuracy: 0.5020\n",
            "Epoch 53/100\n",
            "32/32 [==============================] - 0s 6ms/step - loss: 0.6972 - accuracy: 0.4950\n",
            "Epoch 54/100\n",
            "32/32 [==============================] - 0s 4ms/step - loss: 0.6992 - accuracy: 0.5030\n",
            "Epoch 55/100\n",
            "32/32 [==============================] - 0s 3ms/step - loss: 0.6953 - accuracy: 0.5240\n",
            "Epoch 56/100\n",
            "32/32 [==============================] - 0s 4ms/step - loss: 0.6966 - accuracy: 0.4910\n",
            "Epoch 57/100\n",
            "32/32 [==============================] - 0s 5ms/step - loss: 0.6981 - accuracy: 0.4730\n",
            "Epoch 58/100\n",
            "32/32 [==============================] - 0s 4ms/step - loss: 0.6968 - accuracy: 0.4980\n",
            "Epoch 59/100\n",
            "32/32 [==============================] - 0s 4ms/step - loss: 0.7004 - accuracy: 0.4890\n",
            "Epoch 60/100\n",
            "32/32 [==============================] - 0s 4ms/step - loss: 0.7010 - accuracy: 0.4870\n",
            "Epoch 61/100\n",
            "32/32 [==============================] - 0s 5ms/step - loss: 0.6996 - accuracy: 0.4690\n",
            "Epoch 62/100\n",
            "32/32 [==============================] - 0s 4ms/step - loss: 0.6965 - accuracy: 0.4960\n",
            "Epoch 63/100\n",
            "32/32 [==============================] - 0s 3ms/step - loss: 0.6948 - accuracy: 0.4870\n",
            "Epoch 64/100\n",
            "32/32 [==============================] - 0s 3ms/step - loss: 0.6960 - accuracy: 0.4930\n",
            "Epoch 65/100\n",
            "32/32 [==============================] - 0s 5ms/step - loss: 0.6996 - accuracy: 0.4810\n",
            "Epoch 66/100\n",
            "32/32 [==============================] - 0s 5ms/step - loss: 0.6965 - accuracy: 0.5010\n",
            "Epoch 67/100\n",
            "32/32 [==============================] - 0s 5ms/step - loss: 0.6977 - accuracy: 0.4500\n",
            "Epoch 68/100\n",
            "32/32 [==============================] - 0s 4ms/step - loss: 0.6958 - accuracy: 0.5020\n",
            "Epoch 69/100\n",
            "32/32 [==============================] - 0s 5ms/step - loss: 0.6953 - accuracy: 0.5220\n",
            "Epoch 70/100\n",
            "32/32 [==============================] - 0s 4ms/step - loss: 0.6988 - accuracy: 0.4650\n",
            "Epoch 71/100\n",
            "32/32 [==============================] - 0s 5ms/step - loss: 0.6974 - accuracy: 0.4660\n",
            "Epoch 72/100\n",
            "32/32 [==============================] - 0s 5ms/step - loss: 0.6966 - accuracy: 0.5010\n",
            "Epoch 73/100\n",
            "32/32 [==============================] - 0s 4ms/step - loss: 0.6962 - accuracy: 0.4930\n",
            "Epoch 74/100\n",
            "32/32 [==============================] - 0s 3ms/step - loss: 0.6960 - accuracy: 0.5140\n",
            "Epoch 75/100\n",
            "32/32 [==============================] - 0s 3ms/step - loss: 0.6963 - accuracy: 0.4990\n",
            "Epoch 76/100\n",
            "32/32 [==============================] - 0s 3ms/step - loss: 0.6980 - accuracy: 0.4840\n",
            "Epoch 77/100\n",
            "32/32 [==============================] - 0s 3ms/step - loss: 0.6971 - accuracy: 0.5040\n",
            "Epoch 78/100\n",
            "32/32 [==============================] - 0s 3ms/step - loss: 0.6972 - accuracy: 0.4720\n",
            "Epoch 79/100\n",
            "32/32 [==============================] - 0s 3ms/step - loss: 0.7008 - accuracy: 0.5100\n",
            "Epoch 80/100\n",
            "32/32 [==============================] - 0s 3ms/step - loss: 0.6980 - accuracy: 0.4940\n",
            "Epoch 81/100\n",
            "32/32 [==============================] - 0s 3ms/step - loss: 0.6979 - accuracy: 0.5030\n",
            "Epoch 82/100\n",
            "32/32 [==============================] - 0s 3ms/step - loss: 0.6968 - accuracy: 0.4810\n",
            "Epoch 83/100\n",
            "32/32 [==============================] - 0s 3ms/step - loss: 0.7002 - accuracy: 0.4480\n",
            "Epoch 84/100\n",
            "32/32 [==============================] - 0s 3ms/step - loss: 0.6963 - accuracy: 0.4980\n",
            "Epoch 85/100\n",
            "32/32 [==============================] - 0s 3ms/step - loss: 0.6967 - accuracy: 0.4600\n",
            "Epoch 86/100\n",
            "32/32 [==============================] - 0s 3ms/step - loss: 0.7002 - accuracy: 0.4900\n",
            "Epoch 87/100\n",
            "32/32 [==============================] - 0s 3ms/step - loss: 0.6977 - accuracy: 0.4530\n",
            "Epoch 88/100\n",
            "32/32 [==============================] - 0s 3ms/step - loss: 0.6981 - accuracy: 0.4600\n",
            "Epoch 89/100\n",
            "32/32 [==============================] - 0s 3ms/step - loss: 0.6979 - accuracy: 0.4760\n",
            "Epoch 90/100\n",
            "32/32 [==============================] - 0s 3ms/step - loss: 0.6980 - accuracy: 0.4630\n",
            "Epoch 91/100\n",
            "32/32 [==============================] - 0s 3ms/step - loss: 0.6984 - accuracy: 0.4950\n",
            "Epoch 92/100\n",
            "32/32 [==============================] - 0s 3ms/step - loss: 0.6988 - accuracy: 0.4760\n",
            "Epoch 93/100\n",
            "32/32 [==============================] - 0s 3ms/step - loss: 0.6982 - accuracy: 0.4690\n",
            "Epoch 94/100\n",
            "32/32 [==============================] - 0s 3ms/step - loss: 0.7005 - accuracy: 0.4790\n",
            "Epoch 95/100\n",
            "32/32 [==============================] - 0s 3ms/step - loss: 0.6974 - accuracy: 0.4520\n",
            "Epoch 96/100\n",
            "32/32 [==============================] - 0s 3ms/step - loss: 0.6980 - accuracy: 0.4790\n",
            "Epoch 97/100\n",
            "32/32 [==============================] - 0s 3ms/step - loss: 0.6973 - accuracy: 0.4580\n",
            "Epoch 98/100\n",
            "32/32 [==============================] - 0s 3ms/step - loss: 0.6989 - accuracy: 0.4790\n",
            "Epoch 99/100\n",
            "32/32 [==============================] - 0s 3ms/step - loss: 0.6976 - accuracy: 0.5090\n",
            "Epoch 100/100\n",
            "32/32 [==============================] - 0s 3ms/step - loss: 0.6966 - accuracy: 0.4870\n"
          ]
        },
        {
          "output_type": "execute_result",
          "data": {
            "text/plain": [
              "<keras.callbacks.History at 0x7f484a3d82b0>"
            ]
          },
          "metadata": {},
          "execution_count": 29
        }
      ]
    },
    {
      "cell_type": "code",
      "source": [
        "model_3.evaluate(x,y)"
      ],
      "metadata": {
        "colab": {
          "base_uri": "https://localhost:8080/"
        },
        "id": "G4id7QbeWwgG",
        "outputId": "e1ada993-0db3-4001-ec79-74ba362b3ace"
      },
      "execution_count": 30,
      "outputs": [
        {
          "output_type": "stream",
          "name": "stdout",
          "text": [
            "32/32 [==============================] - 0s 2ms/step - loss: 0.6980 - accuracy: 0.5090\n"
          ]
        },
        {
          "output_type": "execute_result",
          "data": {
            "text/plain": [
              "[0.6980189681053162, 0.5090000033378601]"
            ]
          },
          "metadata": {},
          "execution_count": 30
        }
      ]
    },
    {
      "cell_type": "code",
      "source": [
        "model_3.predict(x)"
      ],
      "metadata": {
        "colab": {
          "base_uri": "https://localhost:8080/"
        },
        "id": "kWZvoPlIW4pX",
        "outputId": "a4b41521-3581-4cd9-f95e-8c471f37d3bb"
      },
      "execution_count": 31,
      "outputs": [
        {
          "output_type": "stream",
          "name": "stdout",
          "text": [
            "32/32 [==============================] - 0s 1ms/step\n"
          ]
        },
        {
          "output_type": "execute_result",
          "data": {
            "text/plain": [
              "array([[0.48797876],\n",
              "       [0.5587215 ],\n",
              "       [0.56276816],\n",
              "       [0.57044667],\n",
              "       [0.44131777],\n",
              "       [0.57380956],\n",
              "       [0.557647  ],\n",
              "       [0.4825076 ],\n",
              "       [0.47739533],\n",
              "       [0.57502663],\n",
              "       [0.5146473 ],\n",
              "       [0.53095394],\n",
              "       [0.56436497],\n",
              "       [0.45786664],\n",
              "       [0.4504813 ],\n",
              "       [0.46118477],\n",
              "       [0.5403365 ],\n",
              "       [0.46368167],\n",
              "       [0.54779524],\n",
              "       [0.50353736],\n",
              "       [0.50635374],\n",
              "       [0.58768713],\n",
              "       [0.45886254],\n",
              "       [0.49128178],\n",
              "       [0.5830688 ],\n",
              "       [0.5702522 ],\n",
              "       [0.5524462 ],\n",
              "       [0.46319497],\n",
              "       [0.45762727],\n",
              "       [0.454382  ],\n",
              "       [0.4785308 ],\n",
              "       [0.57854885],\n",
              "       [0.5554611 ],\n",
              "       [0.4634505 ],\n",
              "       [0.45831457],\n",
              "       [0.58975554],\n",
              "       [0.5723804 ],\n",
              "       [0.52979374],\n",
              "       [0.45860225],\n",
              "       [0.5110103 ],\n",
              "       [0.49972534],\n",
              "       [0.54636705],\n",
              "       [0.51076746],\n",
              "       [0.45798704],\n",
              "       [0.5220977 ],\n",
              "       [0.53866136],\n",
              "       [0.4486503 ],\n",
              "       [0.54436755],\n",
              "       [0.43544197],\n",
              "       [0.4936307 ],\n",
              "       [0.5227603 ],\n",
              "       [0.4645086 ],\n",
              "       [0.5528677 ],\n",
              "       [0.5225191 ],\n",
              "       [0.48314872],\n",
              "       [0.48770517],\n",
              "       [0.55283266],\n",
              "       [0.47156683],\n",
              "       [0.5810502 ],\n",
              "       [0.5045038 ],\n",
              "       [0.5185513 ],\n",
              "       [0.50214136],\n",
              "       [0.50160754],\n",
              "       [0.585185  ],\n",
              "       [0.5440359 ],\n",
              "       [0.57281035],\n",
              "       [0.5664941 ],\n",
              "       [0.47381338],\n",
              "       [0.52148485],\n",
              "       [0.5014737 ],\n",
              "       [0.5551031 ],\n",
              "       [0.4580007 ],\n",
              "       [0.53317595],\n",
              "       [0.5573199 ],\n",
              "       [0.52511305],\n",
              "       [0.5306755 ],\n",
              "       [0.5633825 ],\n",
              "       [0.49422804],\n",
              "       [0.5403798 ],\n",
              "       [0.5145039 ],\n",
              "       [0.56711143],\n",
              "       [0.5163201 ],\n",
              "       [0.53748834],\n",
              "       [0.5224242 ],\n",
              "       [0.502268  ],\n",
              "       [0.5076969 ],\n",
              "       [0.46975338],\n",
              "       [0.5679623 ],\n",
              "       [0.55285275],\n",
              "       [0.4988538 ],\n",
              "       [0.45164466],\n",
              "       [0.44188327],\n",
              "       [0.4866722 ],\n",
              "       [0.58233494],\n",
              "       [0.53003865],\n",
              "       [0.43405494],\n",
              "       [0.5449732 ],\n",
              "       [0.5427734 ],\n",
              "       [0.5179467 ],\n",
              "       [0.49621654],\n",
              "       [0.5633936 ],\n",
              "       [0.47124168],\n",
              "       [0.4535297 ],\n",
              "       [0.55468434],\n",
              "       [0.560338  ],\n",
              "       [0.5690857 ],\n",
              "       [0.5103524 ],\n",
              "       [0.4555688 ],\n",
              "       [0.5824947 ],\n",
              "       [0.45625982],\n",
              "       [0.49071354],\n",
              "       [0.505027  ],\n",
              "       [0.4699135 ],\n",
              "       [0.5086307 ],\n",
              "       [0.5365399 ],\n",
              "       [0.43832093],\n",
              "       [0.5867372 ],\n",
              "       [0.4641502 ],\n",
              "       [0.49697003],\n",
              "       [0.52505195],\n",
              "       [0.46017686],\n",
              "       [0.43710065],\n",
              "       [0.57015985],\n",
              "       [0.5580182 ],\n",
              "       [0.57435983],\n",
              "       [0.5137667 ],\n",
              "       [0.5269606 ],\n",
              "       [0.44198683],\n",
              "       [0.4720074 ],\n",
              "       [0.52193207],\n",
              "       [0.54070824],\n",
              "       [0.48075813],\n",
              "       [0.5478408 ],\n",
              "       [0.46940836],\n",
              "       [0.49087203],\n",
              "       [0.5121516 ],\n",
              "       [0.5636933 ],\n",
              "       [0.580888  ],\n",
              "       [0.4833582 ],\n",
              "       [0.52805126],\n",
              "       [0.49823672],\n",
              "       [0.55989414],\n",
              "       [0.5664957 ],\n",
              "       [0.54020625],\n",
              "       [0.46061   ],\n",
              "       [0.45324054],\n",
              "       [0.51196635],\n",
              "       [0.56501937],\n",
              "       [0.50315   ],\n",
              "       [0.49986342],\n",
              "       [0.56446487],\n",
              "       [0.5811911 ],\n",
              "       [0.4635595 ],\n",
              "       [0.4401229 ],\n",
              "       [0.45459595],\n",
              "       [0.44468787],\n",
              "       [0.512666  ],\n",
              "       [0.5683063 ],\n",
              "       [0.5154396 ],\n",
              "       [0.461627  ],\n",
              "       [0.54280525],\n",
              "       [0.5409758 ],\n",
              "       [0.5627583 ],\n",
              "       [0.5701195 ],\n",
              "       [0.47409815],\n",
              "       [0.5702604 ],\n",
              "       [0.5229441 ],\n",
              "       [0.57258254],\n",
              "       [0.50850874],\n",
              "       [0.51296777],\n",
              "       [0.46632224],\n",
              "       [0.45220548],\n",
              "       [0.557556  ],\n",
              "       [0.46759742],\n",
              "       [0.45045388],\n",
              "       [0.4658026 ],\n",
              "       [0.55620694],\n",
              "       [0.5539814 ],\n",
              "       [0.51640624],\n",
              "       [0.57114697],\n",
              "       [0.45481744],\n",
              "       [0.57163614],\n",
              "       [0.45597816],\n",
              "       [0.49003068],\n",
              "       [0.4906438 ],\n",
              "       [0.57557124],\n",
              "       [0.47027284],\n",
              "       [0.4610939 ],\n",
              "       [0.45438477],\n",
              "       [0.55486965],\n",
              "       [0.45588055],\n",
              "       [0.4981687 ],\n",
              "       [0.5690728 ],\n",
              "       [0.58391434],\n",
              "       [0.5830427 ],\n",
              "       [0.44682407],\n",
              "       [0.48933396],\n",
              "       [0.5833358 ],\n",
              "       [0.5498224 ],\n",
              "       [0.52881485],\n",
              "       [0.48511294],\n",
              "       [0.4947203 ],\n",
              "       [0.5715705 ],\n",
              "       [0.5119813 ],\n",
              "       [0.49446356],\n",
              "       [0.53867126],\n",
              "       [0.58638185],\n",
              "       [0.4526402 ],\n",
              "       [0.46115246],\n",
              "       [0.5022172 ],\n",
              "       [0.52216065],\n",
              "       [0.57921046],\n",
              "       [0.4540447 ],\n",
              "       [0.49807072],\n",
              "       [0.5638174 ],\n",
              "       [0.48857373],\n",
              "       [0.570544  ],\n",
              "       [0.56217384],\n",
              "       [0.4563051 ],\n",
              "       [0.5656282 ],\n",
              "       [0.5180292 ],\n",
              "       [0.5618264 ],\n",
              "       [0.46153274],\n",
              "       [0.5030207 ],\n",
              "       [0.45773   ],\n",
              "       [0.46396866],\n",
              "       [0.5020241 ],\n",
              "       [0.47392195],\n",
              "       [0.4552381 ],\n",
              "       [0.4967581 ],\n",
              "       [0.48326445],\n",
              "       [0.4711425 ],\n",
              "       [0.45386273],\n",
              "       [0.52800906],\n",
              "       [0.49031377],\n",
              "       [0.48832446],\n",
              "       [0.57495975],\n",
              "       [0.452825  ],\n",
              "       [0.58910406],\n",
              "       [0.4927381 ],\n",
              "       [0.4662226 ],\n",
              "       [0.582618  ],\n",
              "       [0.48133183],\n",
              "       [0.5209826 ],\n",
              "       [0.52057195],\n",
              "       [0.5598719 ],\n",
              "       [0.44005919],\n",
              "       [0.5289961 ],\n",
              "       [0.5333007 ],\n",
              "       [0.5325407 ],\n",
              "       [0.5326593 ],\n",
              "       [0.46726468],\n",
              "       [0.5294035 ],\n",
              "       [0.46245995],\n",
              "       [0.44944304],\n",
              "       [0.50141084],\n",
              "       [0.48380166],\n",
              "       [0.4514936 ],\n",
              "       [0.4511296 ],\n",
              "       [0.46843913],\n",
              "       [0.5652961 ],\n",
              "       [0.44670582],\n",
              "       [0.5440349 ],\n",
              "       [0.5524983 ],\n",
              "       [0.47090647],\n",
              "       [0.4703253 ],\n",
              "       [0.5220402 ],\n",
              "       [0.45566902],\n",
              "       [0.55923   ],\n",
              "       [0.45280543],\n",
              "       [0.45498204],\n",
              "       [0.5642507 ],\n",
              "       [0.4593873 ],\n",
              "       [0.5629335 ],\n",
              "       [0.48915732],\n",
              "       [0.47753632],\n",
              "       [0.5879375 ],\n",
              "       [0.5467239 ],\n",
              "       [0.5320101 ],\n",
              "       [0.52945423],\n",
              "       [0.5312519 ],\n",
              "       [0.5245307 ],\n",
              "       [0.5685848 ],\n",
              "       [0.53048205],\n",
              "       [0.5829291 ],\n",
              "       [0.5695565 ],\n",
              "       [0.47295487],\n",
              "       [0.44156712],\n",
              "       [0.5741217 ],\n",
              "       [0.4564964 ],\n",
              "       [0.45383358],\n",
              "       [0.5228785 ],\n",
              "       [0.47288877],\n",
              "       [0.44389948],\n",
              "       [0.46406093],\n",
              "       [0.44353017],\n",
              "       [0.45254403],\n",
              "       [0.44256067],\n",
              "       [0.46985784],\n",
              "       [0.58316183],\n",
              "       [0.4984207 ],\n",
              "       [0.43967116],\n",
              "       [0.4541438 ],\n",
              "       [0.441037  ],\n",
              "       [0.5354714 ],\n",
              "       [0.45367232],\n",
              "       [0.48406765],\n",
              "       [0.5234557 ],\n",
              "       [0.4532833 ],\n",
              "       [0.52013415],\n",
              "       [0.5395803 ],\n",
              "       [0.4904485 ],\n",
              "       [0.52900964],\n",
              "       [0.5670008 ],\n",
              "       [0.44325697],\n",
              "       [0.43976504],\n",
              "       [0.573823  ],\n",
              "       [0.47398582],\n",
              "       [0.56533355],\n",
              "       [0.5797731 ],\n",
              "       [0.529913  ],\n",
              "       [0.5774746 ],\n",
              "       [0.5196266 ],\n",
              "       [0.55777776],\n",
              "       [0.5343543 ],\n",
              "       [0.47747013],\n",
              "       [0.47940385],\n",
              "       [0.4513562 ],\n",
              "       [0.57017785],\n",
              "       [0.5702413 ],\n",
              "       [0.5681455 ],\n",
              "       [0.50619197],\n",
              "       [0.56356233],\n",
              "       [0.5533663 ],\n",
              "       [0.46101555],\n",
              "       [0.5068995 ],\n",
              "       [0.5705404 ],\n",
              "       [0.5069662 ],\n",
              "       [0.46518892],\n",
              "       [0.49290147],\n",
              "       [0.44747335],\n",
              "       [0.44248646],\n",
              "       [0.58651125],\n",
              "       [0.56647044],\n",
              "       [0.4507627 ],\n",
              "       [0.44001794],\n",
              "       [0.50848603],\n",
              "       [0.4588081 ],\n",
              "       [0.5434897 ],\n",
              "       [0.4521336 ],\n",
              "       [0.58967876],\n",
              "       [0.5434918 ],\n",
              "       [0.46230155],\n",
              "       [0.5258051 ],\n",
              "       [0.527523  ],\n",
              "       [0.5739085 ],\n",
              "       [0.52201325],\n",
              "       [0.4361531 ],\n",
              "       [0.4924541 ],\n",
              "       [0.57646316],\n",
              "       [0.44031706],\n",
              "       [0.5305379 ],\n",
              "       [0.57508737],\n",
              "       [0.44149816],\n",
              "       [0.5849201 ],\n",
              "       [0.4851721 ],\n",
              "       [0.5388971 ],\n",
              "       [0.5874017 ],\n",
              "       [0.4488704 ],\n",
              "       [0.4766957 ],\n",
              "       [0.58449537],\n",
              "       [0.5695096 ],\n",
              "       [0.57748044],\n",
              "       [0.58885074],\n",
              "       [0.4674477 ],\n",
              "       [0.55550987],\n",
              "       [0.45104593],\n",
              "       [0.5299606 ],\n",
              "       [0.4560971 ],\n",
              "       [0.5099312 ],\n",
              "       [0.5659365 ],\n",
              "       [0.58027625],\n",
              "       [0.528716  ],\n",
              "       [0.57131046],\n",
              "       [0.57852054],\n",
              "       [0.4554677 ],\n",
              "       [0.47774053],\n",
              "       [0.57022345],\n",
              "       [0.4648135 ],\n",
              "       [0.5396973 ],\n",
              "       [0.5878089 ],\n",
              "       [0.49677393],\n",
              "       [0.57069725],\n",
              "       [0.55452853],\n",
              "       [0.5330523 ],\n",
              "       [0.5142661 ],\n",
              "       [0.44621634],\n",
              "       [0.44014856],\n",
              "       [0.55025584],\n",
              "       [0.47013712],\n",
              "       [0.47929853],\n",
              "       [0.44497293],\n",
              "       [0.49813524],\n",
              "       [0.49322847],\n",
              "       [0.5505184 ],\n",
              "       [0.5695236 ],\n",
              "       [0.45503074],\n",
              "       [0.49205887],\n",
              "       [0.50753033],\n",
              "       [0.47380856],\n",
              "       [0.4852517 ],\n",
              "       [0.45172393],\n",
              "       [0.53265315],\n",
              "       [0.5484264 ],\n",
              "       [0.50800747],\n",
              "       [0.5704292 ],\n",
              "       [0.57195705],\n",
              "       [0.49626106],\n",
              "       [0.4850822 ],\n",
              "       [0.44146562],\n",
              "       [0.4793503 ],\n",
              "       [0.567931  ],\n",
              "       [0.45135447],\n",
              "       [0.5231937 ],\n",
              "       [0.43777227],\n",
              "       [0.46376565],\n",
              "       [0.5352334 ],\n",
              "       [0.5135405 ],\n",
              "       [0.565282  ],\n",
              "       [0.54672843],\n",
              "       [0.5352394 ],\n",
              "       [0.46593836],\n",
              "       [0.4735373 ],\n",
              "       [0.44241148],\n",
              "       [0.5411627 ],\n",
              "       [0.47172287],\n",
              "       [0.588756  ],\n",
              "       [0.46100116],\n",
              "       [0.4645204 ],\n",
              "       [0.55082494],\n",
              "       [0.5772798 ],\n",
              "       [0.5229754 ],\n",
              "       [0.4589284 ],\n",
              "       [0.5712916 ],\n",
              "       [0.50274485],\n",
              "       [0.52746   ],\n",
              "       [0.55851054],\n",
              "       [0.5864704 ],\n",
              "       [0.5728625 ],\n",
              "       [0.5711195 ],\n",
              "       [0.5321795 ],\n",
              "       [0.46937773],\n",
              "       [0.44534832],\n",
              "       [0.5849367 ],\n",
              "       [0.5621108 ],\n",
              "       [0.5639499 ],\n",
              "       [0.46231675],\n",
              "       [0.57209116],\n",
              "       [0.45931867],\n",
              "       [0.44151068],\n",
              "       [0.52439356],\n",
              "       [0.55709565],\n",
              "       [0.5383371 ],\n",
              "       [0.45819804],\n",
              "       [0.44819745],\n",
              "       [0.5549262 ],\n",
              "       [0.5607648 ],\n",
              "       [0.4393943 ],\n",
              "       [0.48627424],\n",
              "       [0.44142675],\n",
              "       [0.4469047 ],\n",
              "       [0.5393664 ],\n",
              "       [0.45071176],\n",
              "       [0.5388897 ],\n",
              "       [0.48368594],\n",
              "       [0.46545336],\n",
              "       [0.4544065 ],\n",
              "       [0.45249447],\n",
              "       [0.54781324],\n",
              "       [0.53988993],\n",
              "       [0.54640955],\n",
              "       [0.54451936],\n",
              "       [0.47653717],\n",
              "       [0.44572574],\n",
              "       [0.49511385],\n",
              "       [0.49546552],\n",
              "       [0.49819487],\n",
              "       [0.48914853],\n",
              "       [0.5862857 ],\n",
              "       [0.45875716],\n",
              "       [0.46313554],\n",
              "       [0.5428279 ],\n",
              "       [0.54918337],\n",
              "       [0.55181456],\n",
              "       [0.44193223],\n",
              "       [0.5848685 ],\n",
              "       [0.44037622],\n",
              "       [0.4428548 ],\n",
              "       [0.4727755 ],\n",
              "       [0.46436688],\n",
              "       [0.5760216 ],\n",
              "       [0.58660585],\n",
              "       [0.4446304 ],\n",
              "       [0.4541417 ],\n",
              "       [0.523788  ],\n",
              "       [0.45661104],\n",
              "       [0.57116485],\n",
              "       [0.4526189 ],\n",
              "       [0.45876804],\n",
              "       [0.5526591 ],\n",
              "       [0.5553392 ],\n",
              "       [0.49858686],\n",
              "       [0.488131  ],\n",
              "       [0.47333017],\n",
              "       [0.4974098 ],\n",
              "       [0.54499215],\n",
              "       [0.580932  ],\n",
              "       [0.59276706],\n",
              "       [0.46496403],\n",
              "       [0.48062307],\n",
              "       [0.47065595],\n",
              "       [0.5689622 ],\n",
              "       [0.47914463],\n",
              "       [0.4846944 ],\n",
              "       [0.4409667 ],\n",
              "       [0.5059478 ],\n",
              "       [0.49643162],\n",
              "       [0.5886515 ],\n",
              "       [0.55484515],\n",
              "       [0.5451432 ],\n",
              "       [0.51041996],\n",
              "       [0.52250487],\n",
              "       [0.55718756],\n",
              "       [0.5353066 ],\n",
              "       [0.4840186 ],\n",
              "       [0.44081923],\n",
              "       [0.58293706],\n",
              "       [0.5275477 ],\n",
              "       [0.56104344],\n",
              "       [0.4407659 ],\n",
              "       [0.58821905],\n",
              "       [0.5455876 ],\n",
              "       [0.5683792 ],\n",
              "       [0.45777285],\n",
              "       [0.56426114],\n",
              "       [0.45289198],\n",
              "       [0.47856542],\n",
              "       [0.5024177 ],\n",
              "       [0.5359694 ],\n",
              "       [0.5664747 ],\n",
              "       [0.56303984],\n",
              "       [0.44746798],\n",
              "       [0.572443  ],\n",
              "       [0.5097773 ],\n",
              "       [0.47652665],\n",
              "       [0.4555896 ],\n",
              "       [0.46073267],\n",
              "       [0.5483002 ],\n",
              "       [0.50184816],\n",
              "       [0.47781396],\n",
              "       [0.5856232 ],\n",
              "       [0.47009683],\n",
              "       [0.49611717],\n",
              "       [0.5596557 ],\n",
              "       [0.5506548 ],\n",
              "       [0.43626466],\n",
              "       [0.57413673],\n",
              "       [0.5132308 ],\n",
              "       [0.48552838],\n",
              "       [0.45605525],\n",
              "       [0.58024156],\n",
              "       [0.5648087 ],\n",
              "       [0.5301271 ],\n",
              "       [0.50921005],\n",
              "       [0.47543487],\n",
              "       [0.45370296],\n",
              "       [0.5752257 ],\n",
              "       [0.44258243],\n",
              "       [0.44679353],\n",
              "       [0.5588287 ],\n",
              "       [0.50154257],\n",
              "       [0.48054752],\n",
              "       [0.5085407 ],\n",
              "       [0.5263262 ],\n",
              "       [0.51618266],\n",
              "       [0.44321695],\n",
              "       [0.4986244 ],\n",
              "       [0.55297875],\n",
              "       [0.49550387],\n",
              "       [0.5860066 ],\n",
              "       [0.5644765 ],\n",
              "       [0.49925357],\n",
              "       [0.5726957 ],\n",
              "       [0.5504219 ],\n",
              "       [0.47585538],\n",
              "       [0.5802746 ],\n",
              "       [0.53083766],\n",
              "       [0.54513514],\n",
              "       [0.52291083],\n",
              "       [0.55985683],\n",
              "       [0.47283006],\n",
              "       [0.5698839 ],\n",
              "       [0.49908754],\n",
              "       [0.5566674 ],\n",
              "       [0.56793004],\n",
              "       [0.4588337 ],\n",
              "       [0.5880508 ],\n",
              "       [0.5618082 ],\n",
              "       [0.5554851 ],\n",
              "       [0.5476934 ],\n",
              "       [0.58405423],\n",
              "       [0.5186469 ],\n",
              "       [0.5422481 ],\n",
              "       [0.5693382 ],\n",
              "       [0.56766635],\n",
              "       [0.57353836],\n",
              "       [0.4592386 ],\n",
              "       [0.48280397],\n",
              "       [0.46375287],\n",
              "       [0.49703455],\n",
              "       [0.4559638 ],\n",
              "       [0.5798627 ],\n",
              "       [0.47932875],\n",
              "       [0.5832791 ],\n",
              "       [0.47524413],\n",
              "       [0.47972023],\n",
              "       [0.50046724],\n",
              "       [0.46364808],\n",
              "       [0.45268747],\n",
              "       [0.48275462],\n",
              "       [0.45672426],\n",
              "       [0.4471412 ],\n",
              "       [0.5377871 ],\n",
              "       [0.56605226],\n",
              "       [0.46661833],\n",
              "       [0.57544947],\n",
              "       [0.48470592],\n",
              "       [0.453053  ],\n",
              "       [0.43734822],\n",
              "       [0.4564133 ],\n",
              "       [0.46256188],\n",
              "       [0.57586265],\n",
              "       [0.48991445],\n",
              "       [0.4569231 ],\n",
              "       [0.45831388],\n",
              "       [0.44118863],\n",
              "       [0.45950517],\n",
              "       [0.48354623],\n",
              "       [0.56876427],\n",
              "       [0.49051887],\n",
              "       [0.5814479 ],\n",
              "       [0.48464814],\n",
              "       [0.47537175],\n",
              "       [0.4753356 ],\n",
              "       [0.45521167],\n",
              "       [0.4963813 ],\n",
              "       [0.53066754],\n",
              "       [0.45888937],\n",
              "       [0.5858017 ],\n",
              "       [0.46101335],\n",
              "       [0.58012635],\n",
              "       [0.52213115],\n",
              "       [0.46760118],\n",
              "       [0.5503353 ],\n",
              "       [0.5579166 ],\n",
              "       [0.5806296 ],\n",
              "       [0.57100654],\n",
              "       [0.54853785],\n",
              "       [0.44393414],\n",
              "       [0.43613145],\n",
              "       [0.5506282 ],\n",
              "       [0.5320893 ],\n",
              "       [0.5342648 ],\n",
              "       [0.5724928 ],\n",
              "       [0.56600714],\n",
              "       [0.5081946 ],\n",
              "       [0.5819747 ],\n",
              "       [0.4436892 ],\n",
              "       [0.44981506],\n",
              "       [0.581436  ],\n",
              "       [0.567134  ],\n",
              "       [0.49005157],\n",
              "       [0.5455233 ],\n",
              "       [0.46924362],\n",
              "       [0.514468  ],\n",
              "       [0.48764706],\n",
              "       [0.43894744],\n",
              "       [0.5713752 ],\n",
              "       [0.56133294],\n",
              "       [0.5166692 ],\n",
              "       [0.5531785 ],\n",
              "       [0.5211727 ],\n",
              "       [0.5584423 ],\n",
              "       [0.56385684],\n",
              "       [0.46257237],\n",
              "       [0.55598706],\n",
              "       [0.54680204],\n",
              "       [0.5239561 ],\n",
              "       [0.44204545],\n",
              "       [0.5812286 ],\n",
              "       [0.52559656],\n",
              "       [0.55909395],\n",
              "       [0.45784923],\n",
              "       [0.504116  ],\n",
              "       [0.46541202],\n",
              "       [0.45322227],\n",
              "       [0.5811361 ],\n",
              "       [0.57569826],\n",
              "       [0.5625746 ],\n",
              "       [0.45377198],\n",
              "       [0.55752605],\n",
              "       [0.56670785],\n",
              "       [0.4774825 ],\n",
              "       [0.44579482],\n",
              "       [0.49774677],\n",
              "       [0.58525145],\n",
              "       [0.567454  ],\n",
              "       [0.4810174 ],\n",
              "       [0.54884803],\n",
              "       [0.57872826],\n",
              "       [0.4559054 ],\n",
              "       [0.5851973 ],\n",
              "       [0.54757535],\n",
              "       [0.54045206],\n",
              "       [0.5272948 ],\n",
              "       [0.4427783 ],\n",
              "       [0.5662962 ],\n",
              "       [0.5859676 ],\n",
              "       [0.5851079 ],\n",
              "       [0.43628603],\n",
              "       [0.5664884 ],\n",
              "       [0.4419397 ],\n",
              "       [0.4554309 ],\n",
              "       [0.54341155],\n",
              "       [0.4612794 ],\n",
              "       [0.49505243],\n",
              "       [0.46479672],\n",
              "       [0.5648378 ],\n",
              "       [0.56353587],\n",
              "       [0.4471447 ],\n",
              "       [0.5302828 ],\n",
              "       [0.54215515],\n",
              "       [0.5618417 ],\n",
              "       [0.4578551 ],\n",
              "       [0.5822834 ],\n",
              "       [0.5617692 ],\n",
              "       [0.4558816 ],\n",
              "       [0.5482037 ],\n",
              "       [0.5176287 ],\n",
              "       [0.453434  ],\n",
              "       [0.554388  ],\n",
              "       [0.46649525],\n",
              "       [0.54841673],\n",
              "       [0.45286635],\n",
              "       [0.46356684],\n",
              "       [0.47364494],\n",
              "       [0.5474536 ],\n",
              "       [0.50464255],\n",
              "       [0.4421659 ],\n",
              "       [0.45953256],\n",
              "       [0.5598737 ],\n",
              "       [0.57097566],\n",
              "       [0.5777356 ],\n",
              "       [0.47354326],\n",
              "       [0.54649836],\n",
              "       [0.56897247],\n",
              "       [0.46025562],\n",
              "       [0.46768275],\n",
              "       [0.48938444],\n",
              "       [0.5741469 ],\n",
              "       [0.53031784],\n",
              "       [0.5712443 ],\n",
              "       [0.5008289 ],\n",
              "       [0.56271976],\n",
              "       [0.44115585],\n",
              "       [0.45809373],\n",
              "       [0.5718111 ],\n",
              "       [0.46978748],\n",
              "       [0.5525751 ],\n",
              "       [0.55051774],\n",
              "       [0.55790955],\n",
              "       [0.55923516],\n",
              "       [0.5342134 ],\n",
              "       [0.45421392],\n",
              "       [0.4547229 ],\n",
              "       [0.5781213 ],\n",
              "       [0.4524472 ],\n",
              "       [0.51216936],\n",
              "       [0.443358  ],\n",
              "       [0.47822195],\n",
              "       [0.47763795],\n",
              "       [0.5633546 ],\n",
              "       [0.46610048],\n",
              "       [0.45081076],\n",
              "       [0.45805082],\n",
              "       [0.5529493 ],\n",
              "       [0.47912416],\n",
              "       [0.5167221 ],\n",
              "       [0.5631369 ],\n",
              "       [0.48743364],\n",
              "       [0.50982046],\n",
              "       [0.46048033],\n",
              "       [0.5296019 ],\n",
              "       [0.5213034 ],\n",
              "       [0.5344078 ],\n",
              "       [0.5682052 ],\n",
              "       [0.57243025],\n",
              "       [0.5843519 ],\n",
              "       [0.48514444],\n",
              "       [0.49236393],\n",
              "       [0.49682835],\n",
              "       [0.57945955],\n",
              "       [0.5687608 ],\n",
              "       [0.46021536],\n",
              "       [0.478605  ],\n",
              "       [0.4854992 ],\n",
              "       [0.4518285 ],\n",
              "       [0.56222504],\n",
              "       [0.5454687 ],\n",
              "       [0.5143577 ],\n",
              "       [0.56981355],\n",
              "       [0.5547498 ],\n",
              "       [0.5270756 ],\n",
              "       [0.57172394],\n",
              "       [0.44027787],\n",
              "       [0.511274  ],\n",
              "       [0.46147773],\n",
              "       [0.58089185],\n",
              "       [0.44756317],\n",
              "       [0.52386165],\n",
              "       [0.44491604],\n",
              "       [0.5420759 ],\n",
              "       [0.4861117 ],\n",
              "       [0.5789231 ],\n",
              "       [0.46519685],\n",
              "       [0.54143596],\n",
              "       [0.5650318 ],\n",
              "       [0.45067856],\n",
              "       [0.54651505],\n",
              "       [0.55451316],\n",
              "       [0.50356525],\n",
              "       [0.56646055],\n",
              "       [0.5714286 ],\n",
              "       [0.55370015],\n",
              "       [0.51951456],\n",
              "       [0.566154  ],\n",
              "       [0.52189434],\n",
              "       [0.44008392],\n",
              "       [0.46887   ],\n",
              "       [0.49931392],\n",
              "       [0.48766586],\n",
              "       [0.535413  ],\n",
              "       [0.49158823],\n",
              "       [0.582795  ],\n",
              "       [0.5753572 ],\n",
              "       [0.48386222],\n",
              "       [0.46832997],\n",
              "       [0.57611215],\n",
              "       [0.45399246],\n",
              "       [0.5336553 ],\n",
              "       [0.45516592],\n",
              "       [0.531808  ],\n",
              "       [0.43943003],\n",
              "       [0.5738974 ],\n",
              "       [0.44838962],\n",
              "       [0.5367023 ],\n",
              "       [0.4604522 ],\n",
              "       [0.57013315],\n",
              "       [0.51733345],\n",
              "       [0.444583  ],\n",
              "       [0.56430376],\n",
              "       [0.568965  ],\n",
              "       [0.46532908],\n",
              "       [0.48504314],\n",
              "       [0.48949468],\n",
              "       [0.46083996],\n",
              "       [0.5179579 ],\n",
              "       [0.5086748 ],\n",
              "       [0.4733298 ],\n",
              "       [0.5842963 ],\n",
              "       [0.4973957 ],\n",
              "       [0.45764902],\n",
              "       [0.45514584],\n",
              "       [0.5860257 ],\n",
              "       [0.5481974 ],\n",
              "       [0.5791983 ],\n",
              "       [0.52902424],\n",
              "       [0.5075887 ],\n",
              "       [0.46434456],\n",
              "       [0.48849475],\n",
              "       [0.55090445],\n",
              "       [0.56701744],\n",
              "       [0.5664291 ],\n",
              "       [0.52615535],\n",
              "       [0.57060677],\n",
              "       [0.5624743 ],\n",
              "       [0.5659994 ],\n",
              "       [0.4444654 ],\n",
              "       [0.4400608 ],\n",
              "       [0.4704586 ],\n",
              "       [0.5034134 ],\n",
              "       [0.4724222 ],\n",
              "       [0.5487229 ],\n",
              "       [0.58768207],\n",
              "       [0.5801923 ],\n",
              "       [0.5105459 ],\n",
              "       [0.56151694],\n",
              "       [0.44439512],\n",
              "       [0.5730747 ],\n",
              "       [0.44580293],\n",
              "       [0.50290483],\n",
              "       [0.5375785 ],\n",
              "       [0.5558243 ],\n",
              "       [0.5143541 ],\n",
              "       [0.45352498],\n",
              "       [0.46261427],\n",
              "       [0.45354435],\n",
              "       [0.46646985],\n",
              "       [0.5111064 ],\n",
              "       [0.5331253 ],\n",
              "       [0.5846142 ],\n",
              "       [0.48867425],\n",
              "       [0.5367162 ],\n",
              "       [0.47747684],\n",
              "       [0.4426224 ],\n",
              "       [0.43746057],\n",
              "       [0.46433848],\n",
              "       [0.54097784],\n",
              "       [0.48895553],\n",
              "       [0.45895615],\n",
              "       [0.51468444],\n",
              "       [0.48074841],\n",
              "       [0.537474  ],\n",
              "       [0.56935006],\n",
              "       [0.47247696],\n",
              "       [0.5082181 ],\n",
              "       [0.5390279 ],\n",
              "       [0.45059416],\n",
              "       [0.54442227],\n",
              "       [0.5823229 ],\n",
              "       [0.49014553],\n",
              "       [0.4683292 ],\n",
              "       [0.56258845],\n",
              "       [0.5047957 ],\n",
              "       [0.45314863],\n",
              "       [0.46566588],\n",
              "       [0.47422916],\n",
              "       [0.49866632],\n",
              "       [0.56629354],\n",
              "       [0.51940507],\n",
              "       [0.47165263],\n",
              "       [0.5137376 ],\n",
              "       [0.57143927],\n",
              "       [0.58228403],\n",
              "       [0.5291116 ],\n",
              "       [0.5699667 ],\n",
              "       [0.44791868],\n",
              "       [0.5698169 ],\n",
              "       [0.4798245 ],\n",
              "       [0.51112527],\n",
              "       [0.44695857],\n",
              "       [0.50960946],\n",
              "       [0.4795014 ],\n",
              "       [0.55156195],\n",
              "       [0.5610632 ],\n",
              "       [0.4806857 ],\n",
              "       [0.50806636],\n",
              "       [0.43942022],\n",
              "       [0.5877958 ],\n",
              "       [0.53974456],\n",
              "       [0.45817652],\n",
              "       [0.58601636],\n",
              "       [0.45076725],\n",
              "       [0.5101083 ],\n",
              "       [0.4430394 ],\n",
              "       [0.45788842],\n",
              "       [0.48145515],\n",
              "       [0.5441125 ],\n",
              "       [0.5153081 ],\n",
              "       [0.5720829 ],\n",
              "       [0.5735916 ],\n",
              "       [0.5728395 ],\n",
              "       [0.4717954 ],\n",
              "       [0.54962814],\n",
              "       [0.45683032],\n",
              "       [0.54190886],\n",
              "       [0.4412607 ],\n",
              "       [0.492748  ],\n",
              "       [0.58204854],\n",
              "       [0.45010024],\n",
              "       [0.55938566],\n",
              "       [0.5510119 ],\n",
              "       [0.47613153],\n",
              "       [0.5688614 ],\n",
              "       [0.52725744],\n",
              "       [0.5525987 ],\n",
              "       [0.54632425],\n",
              "       [0.47487196],\n",
              "       [0.43710104],\n",
              "       [0.5518455 ]], dtype=float32)"
            ]
          },
          "metadata": {},
          "execution_count": 31
        }
      ]
    },
    {
      "cell_type": "markdown",
      "source": [
        "## Plot Decision Boundary"
      ],
      "metadata": {
        "id": "hsOyooIuXjCx"
      }
    },
    {
      "cell_type": "code",
      "source": [
        "x"
      ],
      "metadata": {
        "colab": {
          "base_uri": "https://localhost:8080/"
        },
        "id": "YMR1da7ZZpNj",
        "outputId": "02d58302-7143-4ed7-892c-a398d8f5db51"
      },
      "execution_count": 32,
      "outputs": [
        {
          "output_type": "execute_result",
          "data": {
            "text/plain": [
              "array([[ 0.75424625,  0.23148074],\n",
              "       [-0.75615888,  0.15325888],\n",
              "       [-0.81539193,  0.17328203],\n",
              "       ...,\n",
              "       [-0.13690036, -0.81001183],\n",
              "       [ 0.67036156, -0.76750154],\n",
              "       [ 0.28105665,  0.96382443]])"
            ]
          },
          "metadata": {},
          "execution_count": 32
        }
      ]
    },
    {
      "cell_type": "code",
      "source": [
        "def plot_decision_boundary(model,x,y):\n",
        "  x_min,x_max = x[:,0].min()-0.1,x[:,0].max()+0.1\n",
        "  y_min,y_max = x[:,1].min()-0.1,x[:,1]\n",
        "  xx,yy = np.meshgrid(np.linspace(x_min,x_max,100),np.linspace(y_min,y_max,100))\n",
        "  x_in = np.c_[xx.ravel(),yy.ravel()]\n",
        "  y_pred = model.predict(x_in)\n",
        "  ##Check Multi-Class\n",
        "  if len(y_pred[0])>1:\n",
        "    print(\"Doing Multiclass classification\")\n",
        "    y_pred = np.argmax(y_pred,axis = 1).reshape(xx.shape)\n",
        "  else:\n",
        "    print(\"Binary Classification\")\n",
        "    y_pred = np.round(y_pred).reshape(xx.shape)\n",
        "  ## Decision Boundary\n",
        "  plt.contourf(xx,yy,y_pred,cmap = plt.cm.RdYlBu,alpha =0.7)\n",
        "  plt.scatter(x[:,0],x[:,1],c = y,s = 40,cmap = plt.cm.RdYlBu)\n",
        "  plt.xlim(xx.min(),xx.max())\n",
        "  plt.ylim(yy.min(),yy.max())\n"
      ],
      "metadata": {
        "id": "zXqLWTXuX0DO"
      },
      "execution_count": 33,
      "outputs": []
    },
    {
      "cell_type": "code",
      "source": [
        "#plot_decision_boundary(model_3,x,y)"
      ],
      "metadata": {
        "id": "rqxvvWWMau-l"
      },
      "execution_count": 34,
      "outputs": []
    },
    {
      "cell_type": "code",
      "source": [
        "model_4 = tf.keras.Sequential([\n",
        "    tf.keras.layers.Dense(100,input_shape = (1,)),\n",
        "    tf.keras.layers.Dense(10),\n",
        "    tf.keras.layers.Dense(1)\n",
        "])\n",
        "model_4.compile(loss = \"mae\",optimizer = \"adam\",metrics = ['mae'])"
      ],
      "metadata": {
        "id": "mmsYauZSiMy8"
      },
      "execution_count": 35,
      "outputs": []
    },
    {
      "cell_type": "code",
      "source": [
        "tf.random.set_seed(42)\n",
        "x_regression = tf.range(0,1000,5)\n",
        "y_regression = tf.range(100,1100,5)\n",
        "x_reg_train = x_regression[:150]\n",
        "x_reg_test = x_regression[150:]\n",
        "y_reg_train = y_regression[:150]\n",
        "y_reg_test = y_regression[150:]\n",
        "model_4.fit(x_reg_train,y_reg_train,epochs = 100)"
      ],
      "metadata": {
        "colab": {
          "base_uri": "https://localhost:8080/"
        },
        "id": "P_jUnZ2kbyHU",
        "outputId": "0c5361ad-3fba-4a9d-a830-6f311c2a870e"
      },
      "execution_count": 36,
      "outputs": [
        {
          "output_type": "stream",
          "name": "stdout",
          "text": [
            "Epoch 1/100\n",
            "5/5 [==============================] - 1s 6ms/step - loss: 271.7428 - mae: 271.7428\n",
            "Epoch 2/100\n",
            "5/5 [==============================] - 0s 3ms/step - loss: 140.7390 - mae: 140.7390\n",
            "Epoch 3/100\n",
            "5/5 [==============================] - 0s 3ms/step - loss: 52.2021 - mae: 52.2021\n",
            "Epoch 4/100\n",
            "5/5 [==============================] - 0s 3ms/step - loss: 82.0471 - mae: 82.0471\n",
            "Epoch 5/100\n",
            "5/5 [==============================] - 0s 3ms/step - loss: 68.1061 - mae: 68.1061\n",
            "Epoch 6/100\n",
            "5/5 [==============================] - 0s 3ms/step - loss: 45.6335 - mae: 45.6335\n",
            "Epoch 7/100\n",
            "5/5 [==============================] - 0s 3ms/step - loss: 48.1815 - mae: 48.1815\n",
            "Epoch 8/100\n",
            "5/5 [==============================] - 0s 3ms/step - loss: 42.1949 - mae: 42.1949\n",
            "Epoch 9/100\n",
            "5/5 [==============================] - 0s 3ms/step - loss: 42.5904 - mae: 42.5904\n",
            "Epoch 10/100\n",
            "5/5 [==============================] - 0s 3ms/step - loss: 42.5070 - mae: 42.5070\n",
            "Epoch 11/100\n",
            "5/5 [==============================] - 0s 3ms/step - loss: 41.2868 - mae: 41.2868\n",
            "Epoch 12/100\n",
            "5/5 [==============================] - 0s 3ms/step - loss: 42.0603 - mae: 42.0603\n",
            "Epoch 13/100\n",
            "5/5 [==============================] - 0s 3ms/step - loss: 41.8878 - mae: 41.8878\n",
            "Epoch 14/100\n",
            "5/5 [==============================] - 0s 3ms/step - loss: 41.3585 - mae: 41.3585\n",
            "Epoch 15/100\n",
            "5/5 [==============================] - 0s 7ms/step - loss: 41.5148 - mae: 41.5148\n",
            "Epoch 16/100\n",
            "5/5 [==============================] - 0s 7ms/step - loss: 41.2106 - mae: 41.2106\n",
            "Epoch 17/100\n",
            "5/5 [==============================] - 0s 6ms/step - loss: 41.2366 - mae: 41.2366\n",
            "Epoch 18/100\n",
            "5/5 [==============================] - 0s 8ms/step - loss: 41.1899 - mae: 41.1899\n",
            "Epoch 19/100\n",
            "5/5 [==============================] - 0s 7ms/step - loss: 41.0332 - mae: 41.0332\n",
            "Epoch 20/100\n",
            "5/5 [==============================] - 0s 8ms/step - loss: 41.0550 - mae: 41.0550\n",
            "Epoch 21/100\n",
            "5/5 [==============================] - 0s 6ms/step - loss: 41.1682 - mae: 41.1682\n",
            "Epoch 22/100\n",
            "5/5 [==============================] - 0s 5ms/step - loss: 40.9647 - mae: 40.9647\n",
            "Epoch 23/100\n",
            "5/5 [==============================] - 0s 5ms/step - loss: 41.0570 - mae: 41.0570\n",
            "Epoch 24/100\n",
            "5/5 [==============================] - 0s 4ms/step - loss: 40.9447 - mae: 40.9447\n",
            "Epoch 25/100\n",
            "5/5 [==============================] - 0s 4ms/step - loss: 40.9051 - mae: 40.9051\n",
            "Epoch 26/100\n",
            "5/5 [==============================] - 0s 3ms/step - loss: 40.9011 - mae: 40.9011\n",
            "Epoch 27/100\n",
            "5/5 [==============================] - 0s 3ms/step - loss: 40.7964 - mae: 40.7964\n",
            "Epoch 28/100\n",
            "5/5 [==============================] - 0s 3ms/step - loss: 40.8911 - mae: 40.8911\n",
            "Epoch 29/100\n",
            "5/5 [==============================] - 0s 3ms/step - loss: 40.9883 - mae: 40.9883\n",
            "Epoch 30/100\n",
            "5/5 [==============================] - 0s 3ms/step - loss: 40.7351 - mae: 40.7351\n",
            "Epoch 31/100\n",
            "5/5 [==============================] - 0s 3ms/step - loss: 40.9595 - mae: 40.9595\n",
            "Epoch 32/100\n",
            "5/5 [==============================] - 0s 3ms/step - loss: 40.8463 - mae: 40.8463\n",
            "Epoch 33/100\n",
            "5/5 [==============================] - 0s 3ms/step - loss: 40.8842 - mae: 40.8842\n",
            "Epoch 34/100\n",
            "5/5 [==============================] - 0s 3ms/step - loss: 41.0359 - mae: 41.0359\n",
            "Epoch 35/100\n",
            "5/5 [==============================] - 0s 4ms/step - loss: 40.5999 - mae: 40.5999\n",
            "Epoch 36/100\n",
            "5/5 [==============================] - 0s 3ms/step - loss: 41.0605 - mae: 41.0605\n",
            "Epoch 37/100\n",
            "5/5 [==============================] - 0s 3ms/step - loss: 40.4980 - mae: 40.4980\n",
            "Epoch 38/100\n",
            "5/5 [==============================] - 0s 3ms/step - loss: 40.2176 - mae: 40.2176\n",
            "Epoch 39/100\n",
            "5/5 [==============================] - 0s 3ms/step - loss: 40.5178 - mae: 40.5178\n",
            "Epoch 40/100\n",
            "5/5 [==============================] - 0s 3ms/step - loss: 40.2999 - mae: 40.2999\n",
            "Epoch 41/100\n",
            "5/5 [==============================] - 0s 3ms/step - loss: 40.2211 - mae: 40.2211\n",
            "Epoch 42/100\n",
            "5/5 [==============================] - 0s 3ms/step - loss: 40.1502 - mae: 40.1502\n",
            "Epoch 43/100\n",
            "5/5 [==============================] - 0s 3ms/step - loss: 40.3148 - mae: 40.3148\n",
            "Epoch 44/100\n",
            "5/5 [==============================] - 0s 3ms/step - loss: 39.9733 - mae: 39.9733\n",
            "Epoch 45/100\n",
            "5/5 [==============================] - 0s 3ms/step - loss: 40.1716 - mae: 40.1716\n",
            "Epoch 46/100\n",
            "5/5 [==============================] - 0s 3ms/step - loss: 40.5257 - mae: 40.5257\n",
            "Epoch 47/100\n",
            "5/5 [==============================] - 0s 3ms/step - loss: 39.8959 - mae: 39.8959\n",
            "Epoch 48/100\n",
            "5/5 [==============================] - 0s 3ms/step - loss: 39.9455 - mae: 39.9455\n",
            "Epoch 49/100\n",
            "5/5 [==============================] - 0s 4ms/step - loss: 40.6716 - mae: 40.6716\n",
            "Epoch 50/100\n",
            "5/5 [==============================] - 0s 3ms/step - loss: 39.9773 - mae: 39.9773\n",
            "Epoch 51/100\n",
            "5/5 [==============================] - 0s 3ms/step - loss: 40.4348 - mae: 40.4348\n",
            "Epoch 52/100\n",
            "5/5 [==============================] - 0s 3ms/step - loss: 40.9051 - mae: 40.9051\n",
            "Epoch 53/100\n",
            "5/5 [==============================] - 0s 3ms/step - loss: 40.8773 - mae: 40.8773\n",
            "Epoch 54/100\n",
            "5/5 [==============================] - 0s 3ms/step - loss: 40.5908 - mae: 40.5908\n",
            "Epoch 55/100\n",
            "5/5 [==============================] - 0s 3ms/step - loss: 40.1154 - mae: 40.1154\n",
            "Epoch 56/100\n",
            "5/5 [==============================] - 0s 3ms/step - loss: 40.8914 - mae: 40.8914\n",
            "Epoch 57/100\n",
            "5/5 [==============================] - 0s 3ms/step - loss: 41.0992 - mae: 41.0992\n",
            "Epoch 58/100\n",
            "5/5 [==============================] - 0s 3ms/step - loss: 39.3684 - mae: 39.3684\n",
            "Epoch 59/100\n",
            "5/5 [==============================] - 0s 3ms/step - loss: 39.6117 - mae: 39.6117\n",
            "Epoch 60/100\n",
            "5/5 [==============================] - 0s 3ms/step - loss: 39.5384 - mae: 39.5384\n",
            "Epoch 61/100\n",
            "5/5 [==============================] - 0s 3ms/step - loss: 39.3903 - mae: 39.3903\n",
            "Epoch 62/100\n",
            "5/5 [==============================] - 0s 3ms/step - loss: 39.5975 - mae: 39.5975\n",
            "Epoch 63/100\n",
            "5/5 [==============================] - 0s 4ms/step - loss: 39.3405 - mae: 39.3405\n",
            "Epoch 64/100\n",
            "5/5 [==============================] - 0s 3ms/step - loss: 39.1817 - mae: 39.1817\n",
            "Epoch 65/100\n",
            "5/5 [==============================] - 0s 3ms/step - loss: 39.4392 - mae: 39.4392\n",
            "Epoch 66/100\n",
            "5/5 [==============================] - 0s 5ms/step - loss: 39.3817 - mae: 39.3817\n",
            "Epoch 67/100\n",
            "5/5 [==============================] - 0s 3ms/step - loss: 39.2094 - mae: 39.2094\n",
            "Epoch 68/100\n",
            "5/5 [==============================] - 0s 3ms/step - loss: 39.1798 - mae: 39.1798\n",
            "Epoch 69/100\n",
            "5/5 [==============================] - 0s 3ms/step - loss: 38.9817 - mae: 38.9817\n",
            "Epoch 70/100\n",
            "5/5 [==============================] - 0s 4ms/step - loss: 39.1890 - mae: 39.1890\n",
            "Epoch 71/100\n",
            "5/5 [==============================] - 0s 4ms/step - loss: 40.8741 - mae: 40.8741\n",
            "Epoch 72/100\n",
            "5/5 [==============================] - 0s 3ms/step - loss: 38.9595 - mae: 38.9595\n",
            "Epoch 73/100\n",
            "5/5 [==============================] - 0s 3ms/step - loss: 39.7867 - mae: 39.7867\n",
            "Epoch 74/100\n",
            "5/5 [==============================] - 0s 5ms/step - loss: 38.8502 - mae: 38.8502\n",
            "Epoch 75/100\n",
            "5/5 [==============================] - 0s 3ms/step - loss: 39.5429 - mae: 39.5429\n",
            "Epoch 76/100\n",
            "5/5 [==============================] - 0s 3ms/step - loss: 39.2041 - mae: 39.2041\n",
            "Epoch 77/100\n",
            "5/5 [==============================] - 0s 3ms/step - loss: 38.7373 - mae: 38.7373\n",
            "Epoch 78/100\n",
            "5/5 [==============================] - 0s 5ms/step - loss: 38.8528 - mae: 38.8528\n",
            "Epoch 79/100\n",
            "5/5 [==============================] - 0s 3ms/step - loss: 38.9048 - mae: 38.9048\n",
            "Epoch 80/100\n",
            "5/5 [==============================] - 0s 3ms/step - loss: 38.7628 - mae: 38.7628\n",
            "Epoch 81/100\n",
            "5/5 [==============================] - 0s 3ms/step - loss: 38.4030 - mae: 38.4030\n",
            "Epoch 82/100\n",
            "5/5 [==============================] - 0s 3ms/step - loss: 38.3289 - mae: 38.3289\n",
            "Epoch 83/100\n",
            "5/5 [==============================] - 0s 3ms/step - loss: 38.3569 - mae: 38.3569\n",
            "Epoch 84/100\n",
            "5/5 [==============================] - 0s 3ms/step - loss: 38.2522 - mae: 38.2522\n",
            "Epoch 85/100\n",
            "5/5 [==============================] - 0s 3ms/step - loss: 38.3610 - mae: 38.3610\n",
            "Epoch 86/100\n",
            "5/5 [==============================] - 0s 3ms/step - loss: 37.8545 - mae: 37.8545\n",
            "Epoch 87/100\n",
            "5/5 [==============================] - 0s 3ms/step - loss: 38.5902 - mae: 38.5902\n",
            "Epoch 88/100\n",
            "5/5 [==============================] - 0s 3ms/step - loss: 38.1997 - mae: 38.1997\n",
            "Epoch 89/100\n",
            "5/5 [==============================] - 0s 3ms/step - loss: 39.3058 - mae: 39.3058\n",
            "Epoch 90/100\n",
            "5/5 [==============================] - 0s 3ms/step - loss: 38.7877 - mae: 38.7877\n",
            "Epoch 91/100\n",
            "5/5 [==============================] - 0s 3ms/step - loss: 37.6078 - mae: 37.6078\n",
            "Epoch 92/100\n",
            "5/5 [==============================] - 0s 3ms/step - loss: 38.9384 - mae: 38.9384\n",
            "Epoch 93/100\n",
            "5/5 [==============================] - 0s 5ms/step - loss: 38.8550 - mae: 38.8550\n",
            "Epoch 94/100\n",
            "5/5 [==============================] - 0s 4ms/step - loss: 37.3749 - mae: 37.3749\n",
            "Epoch 95/100\n",
            "5/5 [==============================] - 0s 4ms/step - loss: 37.5774 - mae: 37.5774\n",
            "Epoch 96/100\n",
            "5/5 [==============================] - 0s 3ms/step - loss: 37.9218 - mae: 37.9218\n",
            "Epoch 97/100\n",
            "5/5 [==============================] - 0s 3ms/step - loss: 37.3278 - mae: 37.3278\n",
            "Epoch 98/100\n",
            "5/5 [==============================] - 0s 3ms/step - loss: 37.8367 - mae: 37.8367\n",
            "Epoch 99/100\n",
            "5/5 [==============================] - 0s 3ms/step - loss: 37.7834 - mae: 37.7834\n",
            "Epoch 100/100\n",
            "5/5 [==============================] - 0s 3ms/step - loss: 37.2437 - mae: 37.2437\n"
          ]
        },
        {
          "output_type": "execute_result",
          "data": {
            "text/plain": [
              "<keras.callbacks.History at 0x7f484a23bd90>"
            ]
          },
          "metadata": {},
          "execution_count": 36
        }
      ]
    },
    {
      "cell_type": "code",
      "source": [
        "y_reg_preds = model_4.predict(x_reg_test)"
      ],
      "metadata": {
        "colab": {
          "base_uri": "https://localhost:8080/"
        },
        "id": "zh9ZfY1chZty",
        "outputId": "9f1c3c55-accd-42ae-8fe0-141d4c9c15d7"
      },
      "execution_count": 37,
      "outputs": [
        {
          "output_type": "stream",
          "name": "stdout",
          "text": [
            "2/2 [==============================] - 0s 4ms/step\n"
          ]
        }
      ]
    },
    {
      "cell_type": "code",
      "source": [
        "plt.figure(figsize = (10,7))\n",
        "plt.scatter(x_reg_train,y_reg_train,c = \"b\",label = \"Training Data\")\n",
        "plt.scatter(x_reg_test,y_reg_test,c = \"g\",label = \"Test Data\")\n",
        "plt.scatter(x_reg_test,y_reg_preds,c = 'r',label = \"Prediction\")\n",
        "plt.legend()"
      ],
      "metadata": {
        "colab": {
          "base_uri": "https://localhost:8080/",
          "height": 446
        },
        "id": "zQU9Kl_Vi21O",
        "outputId": "28e2bca3-06c8-4b6d-9f7e-d3f9e50ed32e"
      },
      "execution_count": 38,
      "outputs": [
        {
          "output_type": "execute_result",
          "data": {
            "text/plain": [
              "<matplotlib.legend.Legend at 0x7f484a0f4f10>"
            ]
          },
          "metadata": {},
          "execution_count": 38
        },
        {
          "output_type": "display_data",
          "data": {
            "text/plain": [
              "<Figure size 720x504 with 1 Axes>"
            ],
            "image/png": "[encoded data removed]"
          },
          "metadata": {
            "needs_background": "light"
          }
        }
      ]
    },
    {
      "cell_type": "markdown",
      "source": [
        "## Non-Linearity"
      ],
      "metadata": {
        "id": "Pq7dh1NujIrA"
      }
    },
    {
      "cell_type": "code",
      "source": [
        "tf.random.set_seed(42)\n",
        "model_5 = tf.keras.Sequential([\n",
        "    tf.keras.layers.Dense(1,activation = \"linear\")\n",
        "])\n",
        "model_5.compile(loss = \"binary_crossentropy\",optimizer = \"adam\",metrics = [\"accuracy\"])"
      ],
      "metadata": {
        "id": "bfS6c6dm40XH"
      },
      "execution_count": 39,
      "outputs": []
    },
    {
      "cell_type": "code",
      "source": [
        "tf.random.set_seed(42)\n",
        "model_6 = tf.keras.Sequential([\n",
        "    tf.keras.layers.Dense(4,activation = \"relu\"),\n",
        "    tf.keras.layers.Dense(4,activation = \"relu\"),\n",
        "    tf.keras.layers.Dense(1,activation = \"sigmoid\")\n",
        "])\n",
        "model_6.compile(loss = \"binary_crossentropy\",optimizer = tf.keras.optimizers.Adam(lr=0.001),metrics = ['accuracy'])\n",
        "history = model_6.fit(x,y,epochs = 150)"
      ],
      "metadata": {
        "colab": {
          "base_uri": "https://localhost:8080/"
        },
        "id": "uSysOqGp-Zf7",
        "outputId": "a5053766-822b-481c-c377-15af902e8357"
      },
      "execution_count": 40,
      "outputs": [
        {
          "output_type": "stream",
          "name": "stdout",
          "text": [
            "Epoch 1/150\n"
          ]
        },
        {
          "output_type": "stream",
          "name": "stderr",
          "text": [
            "/usr/local/lib/python3.8/dist-packages/keras/optimizers/optimizer_v2/adam.py:110: UserWarning: The `lr` argument is deprecated, use `learning_rate` instead.\n",
            "  super(Adam, self).__init__(name, **kwargs)\n"
          ]
        },
        {
          "output_type": "stream",
          "name": "stdout",
          "text": [
            "32/32 [==============================] - 1s 3ms/step - loss: 0.6891 - accuracy: 0.5020\n",
            "Epoch 2/150\n",
            "32/32 [==============================] - 0s 3ms/step - loss: 0.6848 - accuracy: 0.5170\n",
            "Epoch 3/150\n",
            "32/32 [==============================] - 0s 3ms/step - loss: 0.6824 - accuracy: 0.5160\n",
            "Epoch 4/150\n",
            "32/32 [==============================] - 0s 3ms/step - loss: 0.6813 - accuracy: 0.5300\n",
            "Epoch 5/150\n",
            "32/32 [==============================] - 0s 3ms/step - loss: 0.6802 - accuracy: 0.5390\n",
            "Epoch 6/150\n",
            "32/32 [==============================] - 0s 3ms/step - loss: 0.6794 - accuracy: 0.5380\n",
            "Epoch 7/150\n",
            "32/32 [==============================] - 0s 3ms/step - loss: 0.6785 - accuracy: 0.5500\n",
            "Epoch 8/150\n",
            "32/32 [==============================] - 0s 3ms/step - loss: 0.6778 - accuracy: 0.5480\n",
            "Epoch 9/150\n",
            "32/32 [==============================] - 0s 3ms/step - loss: 0.6772 - accuracy: 0.5530\n",
            "Epoch 10/150\n",
            "32/32 [==============================] - 0s 3ms/step - loss: 0.6766 - accuracy: 0.5510\n",
            "Epoch 11/150\n",
            "32/32 [==============================] - 0s 3ms/step - loss: 0.6760 - accuracy: 0.5500\n",
            "Epoch 12/150\n",
            "32/32 [==============================] - 0s 3ms/step - loss: 0.6754 - accuracy: 0.5550\n",
            "Epoch 13/150\n",
            "32/32 [==============================] - 0s 3ms/step - loss: 0.6747 - accuracy: 0.5560\n",
            "Epoch 14/150\n",
            "32/32 [==============================] - 0s 3ms/step - loss: 0.6741 - accuracy: 0.5540\n",
            "Epoch 15/150\n",
            "32/32 [==============================] - 0s 3ms/step - loss: 0.6734 - accuracy: 0.5580\n",
            "Epoch 16/150\n",
            "32/32 [==============================] - 0s 3ms/step - loss: 0.6727 - accuracy: 0.5550\n",
            "Epoch 17/150\n",
            "32/32 [==============================] - 0s 3ms/step - loss: 0.6722 - accuracy: 0.5550\n",
            "Epoch 18/150\n",
            "32/32 [==============================] - 0s 3ms/step - loss: 0.6716 - accuracy: 0.5550\n",
            "Epoch 19/150\n",
            "32/32 [==============================] - 0s 3ms/step - loss: 0.6710 - accuracy: 0.5590\n",
            "Epoch 20/150\n",
            "32/32 [==============================] - 0s 3ms/step - loss: 0.6702 - accuracy: 0.5600\n",
            "Epoch 21/150\n",
            "32/32 [==============================] - 0s 3ms/step - loss: 0.6696 - accuracy: 0.5640\n",
            "Epoch 22/150\n",
            "32/32 [==============================] - 0s 3ms/step - loss: 0.6688 - accuracy: 0.5600\n",
            "Epoch 23/150\n",
            "32/32 [==============================] - 0s 3ms/step - loss: 0.6682 - accuracy: 0.5700\n",
            "Epoch 24/150\n",
            "32/32 [==============================] - 0s 3ms/step - loss: 0.6679 - accuracy: 0.5570\n",
            "Epoch 25/150\n",
            "32/32 [==============================] - 0s 3ms/step - loss: 0.6671 - accuracy: 0.5670\n",
            "Epoch 26/150\n",
            "32/32 [==============================] - 0s 3ms/step - loss: 0.6662 - accuracy: 0.5750\n",
            "Epoch 27/150\n",
            "32/32 [==============================] - 0s 3ms/step - loss: 0.6657 - accuracy: 0.5810\n",
            "Epoch 28/150\n",
            "32/32 [==============================] - 0s 3ms/step - loss: 0.6645 - accuracy: 0.5700\n",
            "Epoch 29/150\n",
            "32/32 [==============================] - 0s 3ms/step - loss: 0.6642 - accuracy: 0.5700\n",
            "Epoch 30/150\n",
            "32/32 [==============================] - 0s 3ms/step - loss: 0.6634 - accuracy: 0.5790\n",
            "Epoch 31/150\n",
            "32/32 [==============================] - 0s 3ms/step - loss: 0.6627 - accuracy: 0.5760\n",
            "Epoch 32/150\n",
            "32/32 [==============================] - 0s 3ms/step - loss: 0.6619 - accuracy: 0.5760\n",
            "Epoch 33/150\n",
            "32/32 [==============================] - 0s 3ms/step - loss: 0.6610 - accuracy: 0.5760\n",
            "Epoch 34/150\n",
            "32/32 [==============================] - 0s 3ms/step - loss: 0.6606 - accuracy: 0.5760\n",
            "Epoch 35/150\n",
            "32/32 [==============================] - 0s 3ms/step - loss: 0.6597 - accuracy: 0.5790\n",
            "Epoch 36/150\n",
            "32/32 [==============================] - 0s 3ms/step - loss: 0.6586 - accuracy: 0.5780\n",
            "Epoch 37/150\n",
            "32/32 [==============================] - 0s 3ms/step - loss: 0.6580 - accuracy: 0.5780\n",
            "Epoch 38/150\n",
            "32/32 [==============================] - 0s 3ms/step - loss: 0.6573 - accuracy: 0.5790\n",
            "Epoch 39/150\n",
            "32/32 [==============================] - 0s 3ms/step - loss: 0.6564 - accuracy: 0.5790\n",
            "Epoch 40/150\n",
            "32/32 [==============================] - 0s 3ms/step - loss: 0.6556 - accuracy: 0.5760\n",
            "Epoch 41/150\n",
            "32/32 [==============================] - 0s 3ms/step - loss: 0.6548 - accuracy: 0.5780\n",
            "Epoch 42/150\n",
            "32/32 [==============================] - 0s 3ms/step - loss: 0.6540 - accuracy: 0.5750\n",
            "Epoch 43/150\n",
            "32/32 [==============================] - 0s 3ms/step - loss: 0.6530 - accuracy: 0.5780\n",
            "Epoch 44/150\n",
            "32/32 [==============================] - 0s 3ms/step - loss: 0.6521 - accuracy: 0.5810\n",
            "Epoch 45/150\n",
            "32/32 [==============================] - 0s 3ms/step - loss: 0.6496 - accuracy: 0.5810\n",
            "Epoch 46/150\n",
            "32/32 [==============================] - 0s 3ms/step - loss: 0.6481 - accuracy: 0.5830\n",
            "Epoch 47/150\n",
            "32/32 [==============================] - 0s 3ms/step - loss: 0.6472 - accuracy: 0.5850\n",
            "Epoch 48/150\n",
            "32/32 [==============================] - 0s 3ms/step - loss: 0.6451 - accuracy: 0.5880\n",
            "Epoch 49/150\n",
            "32/32 [==============================] - 0s 3ms/step - loss: 0.6426 - accuracy: 0.5880\n",
            "Epoch 50/150\n",
            "32/32 [==============================] - 0s 3ms/step - loss: 0.6404 - accuracy: 0.5940\n",
            "Epoch 51/150\n",
            "32/32 [==============================] - 0s 3ms/step - loss: 0.6384 - accuracy: 0.6010\n",
            "Epoch 52/150\n",
            "32/32 [==============================] - 0s 3ms/step - loss: 0.6364 - accuracy: 0.6130\n",
            "Epoch 53/150\n",
            "32/32 [==============================] - 0s 3ms/step - loss: 0.6344 - accuracy: 0.6110\n",
            "Epoch 54/150\n",
            "32/32 [==============================] - 0s 3ms/step - loss: 0.6312 - accuracy: 0.6280\n",
            "Epoch 55/150\n",
            "32/32 [==============================] - 0s 3ms/step - loss: 0.6287 - accuracy: 0.6380\n",
            "Epoch 56/150\n",
            "32/32 [==============================] - 0s 3ms/step - loss: 0.6259 - accuracy: 0.6840\n",
            "Epoch 57/150\n",
            "32/32 [==============================] - 0s 3ms/step - loss: 0.6227 - accuracy: 0.6950\n",
            "Epoch 58/150\n",
            "32/32 [==============================] - 0s 3ms/step - loss: 0.6200 - accuracy: 0.6990\n",
            "Epoch 59/150\n",
            "32/32 [==============================] - 0s 3ms/step - loss: 0.6168 - accuracy: 0.6950\n",
            "Epoch 60/150\n",
            "32/32 [==============================] - 0s 3ms/step - loss: 0.6133 - accuracy: 0.7240\n",
            "Epoch 61/150\n",
            "32/32 [==============================] - 0s 3ms/step - loss: 0.6101 - accuracy: 0.7200\n",
            "Epoch 62/150\n",
            "32/32 [==============================] - 0s 3ms/step - loss: 0.6059 - accuracy: 0.7330\n",
            "Epoch 63/150\n",
            "32/32 [==============================] - 0s 3ms/step - loss: 0.6014 - accuracy: 0.7400\n",
            "Epoch 64/150\n",
            "32/32 [==============================] - 0s 3ms/step - loss: 0.5966 - accuracy: 0.7460\n",
            "Epoch 65/150\n",
            "32/32 [==============================] - 0s 3ms/step - loss: 0.5905 - accuracy: 0.7440\n",
            "Epoch 66/150\n",
            "32/32 [==============================] - 0s 3ms/step - loss: 0.5830 - accuracy: 0.7450\n",
            "Epoch 67/150\n",
            "32/32 [==============================] - 0s 3ms/step - loss: 0.5757 - accuracy: 0.7460\n",
            "Epoch 68/150\n",
            "32/32 [==============================] - 0s 3ms/step - loss: 0.5683 - accuracy: 0.7800\n",
            "Epoch 69/150\n",
            "32/32 [==============================] - 0s 3ms/step - loss: 0.5614 - accuracy: 0.8010\n",
            "Epoch 70/150\n",
            "32/32 [==============================] - 0s 3ms/step - loss: 0.5548 - accuracy: 0.8010\n",
            "Epoch 71/150\n",
            "32/32 [==============================] - 0s 3ms/step - loss: 0.5474 - accuracy: 0.8240\n",
            "Epoch 72/150\n",
            "32/32 [==============================] - 0s 3ms/step - loss: 0.5406 - accuracy: 0.8460\n",
            "Epoch 73/150\n",
            "32/32 [==============================] - 0s 3ms/step - loss: 0.5327 - accuracy: 0.8470\n",
            "Epoch 74/150\n",
            "32/32 [==============================] - 0s 3ms/step - loss: 0.5243 - accuracy: 0.8620\n",
            "Epoch 75/150\n",
            "32/32 [==============================] - 0s 3ms/step - loss: 0.5148 - accuracy: 0.8870\n",
            "Epoch 76/150\n",
            "32/32 [==============================] - 0s 3ms/step - loss: 0.5042 - accuracy: 0.8820\n",
            "Epoch 77/150\n",
            "32/32 [==============================] - 0s 3ms/step - loss: 0.4927 - accuracy: 0.9300\n",
            "Epoch 78/150\n",
            "32/32 [==============================] - 0s 3ms/step - loss: 0.4824 - accuracy: 0.9090\n",
            "Epoch 79/150\n",
            "32/32 [==============================] - 0s 3ms/step - loss: 0.4733 - accuracy: 0.9460\n",
            "Epoch 80/150\n",
            "32/32 [==============================] - 0s 3ms/step - loss: 0.4632 - accuracy: 0.9600\n",
            "Epoch 81/150\n",
            "32/32 [==============================] - 0s 3ms/step - loss: 0.4546 - accuracy: 0.9600\n",
            "Epoch 82/150\n",
            "32/32 [==============================] - 0s 3ms/step - loss: 0.4456 - accuracy: 0.9580\n",
            "Epoch 83/150\n",
            "32/32 [==============================] - 0s 3ms/step - loss: 0.4360 - accuracy: 0.9630\n",
            "Epoch 84/150\n",
            "32/32 [==============================] - 0s 3ms/step - loss: 0.4260 - accuracy: 0.9690\n",
            "Epoch 85/150\n",
            "32/32 [==============================] - 0s 3ms/step - loss: 0.4145 - accuracy: 0.9700\n",
            "Epoch 86/150\n",
            "32/32 [==============================] - 0s 3ms/step - loss: 0.4059 - accuracy: 0.9740\n",
            "Epoch 87/150\n",
            "32/32 [==============================] - 0s 3ms/step - loss: 0.3962 - accuracy: 0.9750\n",
            "Epoch 88/150\n",
            "32/32 [==============================] - 0s 3ms/step - loss: 0.3873 - accuracy: 0.9720\n",
            "Epoch 89/150\n",
            "32/32 [==============================] - 0s 3ms/step - loss: 0.3795 - accuracy: 0.9750\n",
            "Epoch 90/150\n",
            "32/32 [==============================] - 0s 3ms/step - loss: 0.3716 - accuracy: 0.9750\n",
            "Epoch 91/150\n",
            "32/32 [==============================] - 0s 3ms/step - loss: 0.3635 - accuracy: 0.9840\n",
            "Epoch 92/150\n",
            "32/32 [==============================] - 0s 3ms/step - loss: 0.3554 - accuracy: 0.9830\n",
            "Epoch 93/150\n",
            "32/32 [==============================] - 0s 3ms/step - loss: 0.3482 - accuracy: 0.9800\n",
            "Epoch 94/150\n",
            "32/32 [==============================] - 0s 3ms/step - loss: 0.3404 - accuracy: 0.9820\n",
            "Epoch 95/150\n",
            "32/32 [==============================] - 0s 3ms/step - loss: 0.3329 - accuracy: 0.9880\n",
            "Epoch 96/150\n",
            "32/32 [==============================] - 0s 3ms/step - loss: 0.3268 - accuracy: 0.9870\n",
            "Epoch 97/150\n",
            "32/32 [==============================] - 0s 3ms/step - loss: 0.3190 - accuracy: 0.9870\n",
            "Epoch 98/150\n",
            "32/32 [==============================] - 0s 3ms/step - loss: 0.3122 - accuracy: 0.9890\n",
            "Epoch 99/150\n",
            "32/32 [==============================] - 0s 3ms/step - loss: 0.3059 - accuracy: 0.9880\n",
            "Epoch 100/150\n",
            "32/32 [==============================] - 0s 3ms/step - loss: 0.2993 - accuracy: 0.9890\n",
            "Epoch 101/150\n",
            "32/32 [==============================] - 0s 3ms/step - loss: 0.2931 - accuracy: 0.9900\n",
            "Epoch 102/150\n",
            "32/32 [==============================] - 0s 3ms/step - loss: 0.2871 - accuracy: 0.9900\n",
            "Epoch 103/150\n",
            "32/32 [==============================] - 0s 3ms/step - loss: 0.2805 - accuracy: 0.9900\n",
            "Epoch 104/150\n",
            "32/32 [==============================] - 0s 3ms/step - loss: 0.2749 - accuracy: 0.9920\n",
            "Epoch 105/150\n",
            "32/32 [==============================] - 0s 3ms/step - loss: 0.2698 - accuracy: 0.9910\n",
            "Epoch 106/150\n",
            "32/32 [==============================] - 0s 3ms/step - loss: 0.2639 - accuracy: 0.9910\n",
            "Epoch 107/150\n",
            "32/32 [==============================] - 0s 3ms/step - loss: 0.2589 - accuracy: 0.9900\n",
            "Epoch 108/150\n",
            "32/32 [==============================] - 0s 3ms/step - loss: 0.2539 - accuracy: 0.9890\n",
            "Epoch 109/150\n",
            "32/32 [==============================] - 0s 3ms/step - loss: 0.2483 - accuracy: 0.9920\n",
            "Epoch 110/150\n",
            "32/32 [==============================] - 0s 3ms/step - loss: 0.2433 - accuracy: 0.9920\n",
            "Epoch 111/150\n",
            "32/32 [==============================] - 0s 3ms/step - loss: 0.2390 - accuracy: 0.9900\n",
            "Epoch 112/150\n",
            "32/32 [==============================] - 0s 3ms/step - loss: 0.2354 - accuracy: 0.9900\n",
            "Epoch 113/150\n",
            "32/32 [==============================] - 0s 3ms/step - loss: 0.2293 - accuracy: 0.9910\n",
            "Epoch 114/150\n",
            "32/32 [==============================] - 0s 3ms/step - loss: 0.2251 - accuracy: 0.9910\n",
            "Epoch 115/150\n",
            "32/32 [==============================] - 0s 3ms/step - loss: 0.2209 - accuracy: 0.9920\n",
            "Epoch 116/150\n",
            "32/32 [==============================] - 0s 3ms/step - loss: 0.2164 - accuracy: 0.9920\n",
            "Epoch 117/150\n",
            "32/32 [==============================] - 0s 3ms/step - loss: 0.2130 - accuracy: 0.9900\n",
            "Epoch 118/150\n",
            "32/32 [==============================] - 0s 3ms/step - loss: 0.2092 - accuracy: 0.9910\n",
            "Epoch 119/150\n",
            "32/32 [==============================] - 0s 3ms/step - loss: 0.2050 - accuracy: 0.9910\n",
            "Epoch 120/150\n",
            "32/32 [==============================] - 0s 3ms/step - loss: 0.2016 - accuracy: 0.9890\n",
            "Epoch 121/150\n",
            "32/32 [==============================] - 0s 3ms/step - loss: 0.1979 - accuracy: 0.9920\n",
            "Epoch 122/150\n",
            "32/32 [==============================] - 0s 3ms/step - loss: 0.1938 - accuracy: 0.9910\n",
            "Epoch 123/150\n",
            "32/32 [==============================] - 0s 3ms/step - loss: 0.1906 - accuracy: 0.9920\n",
            "Epoch 124/150\n",
            "32/32 [==============================] - 0s 3ms/step - loss: 0.1872 - accuracy: 0.9910\n",
            "Epoch 125/150\n",
            "32/32 [==============================] - 0s 3ms/step - loss: 0.1839 - accuracy: 0.9900\n",
            "Epoch 126/150\n",
            "32/32 [==============================] - 0s 3ms/step - loss: 0.1809 - accuracy: 0.9920\n",
            "Epoch 127/150\n",
            "32/32 [==============================] - 0s 3ms/step - loss: 0.1771 - accuracy: 0.9910\n",
            "Epoch 128/150\n",
            "32/32 [==============================] - 0s 3ms/step - loss: 0.1747 - accuracy: 0.9920\n",
            "Epoch 129/150\n",
            "32/32 [==============================] - 0s 4ms/step - loss: 0.1712 - accuracy: 0.9930\n",
            "Epoch 130/150\n",
            "32/32 [==============================] - 0s 3ms/step - loss: 0.1682 - accuracy: 0.9930\n",
            "Epoch 131/150\n",
            "32/32 [==============================] - 0s 3ms/step - loss: 0.1662 - accuracy: 0.9910\n",
            "Epoch 132/150\n",
            "32/32 [==============================] - 0s 3ms/step - loss: 0.1630 - accuracy: 0.9930\n",
            "Epoch 133/150\n",
            "32/32 [==============================] - 0s 3ms/step - loss: 0.1603 - accuracy: 0.9910\n",
            "Epoch 134/150\n",
            "32/32 [==============================] - 0s 3ms/step - loss: 0.1578 - accuracy: 0.9910\n",
            "Epoch 135/150\n",
            "32/32 [==============================] - 0s 3ms/step - loss: 0.1552 - accuracy: 0.9940\n",
            "Epoch 136/150\n",
            "32/32 [==============================] - 0s 3ms/step - loss: 0.1530 - accuracy: 0.9920\n",
            "Epoch 137/150\n",
            "32/32 [==============================] - 0s 3ms/step - loss: 0.1510 - accuracy: 0.9920\n",
            "Epoch 138/150\n",
            "32/32 [==============================] - 0s 3ms/step - loss: 0.1480 - accuracy: 0.9930\n",
            "Epoch 139/150\n",
            "32/32 [==============================] - 0s 3ms/step - loss: 0.1459 - accuracy: 0.9920\n",
            "Epoch 140/150\n",
            "32/32 [==============================] - 0s 3ms/step - loss: 0.1439 - accuracy: 0.9910\n",
            "Epoch 141/150\n",
            "32/32 [==============================] - 0s 3ms/step - loss: 0.1420 - accuracy: 0.9930\n",
            "Epoch 142/150\n",
            "32/32 [==============================] - 0s 3ms/step - loss: 0.1392 - accuracy: 0.9940\n",
            "Epoch 143/150\n",
            "32/32 [==============================] - 0s 3ms/step - loss: 0.1376 - accuracy: 0.9920\n",
            "Epoch 144/150\n",
            "32/32 [==============================] - 0s 3ms/step - loss: 0.1356 - accuracy: 0.9930\n",
            "Epoch 145/150\n",
            "32/32 [==============================] - 0s 3ms/step - loss: 0.1332 - accuracy: 0.9920\n",
            "Epoch 146/150\n",
            "32/32 [==============================] - 0s 3ms/step - loss: 0.1314 - accuracy: 0.9910\n",
            "Epoch 147/150\n",
            "32/32 [==============================] - 0s 3ms/step - loss: 0.1295 - accuracy: 0.9900\n",
            "Epoch 148/150\n",
            "32/32 [==============================] - 0s 3ms/step - loss: 0.1276 - accuracy: 0.9930\n",
            "Epoch 149/150\n",
            "32/32 [==============================] - 0s 3ms/step - loss: 0.1257 - accuracy: 0.9930\n",
            "Epoch 150/150\n",
            "32/32 [==============================] - 0s 3ms/step - loss: 0.1242 - accuracy: 0.9920\n"
          ]
        }
      ]
    },
    {
      "cell_type": "code",
      "source": [
        "model_6.evaluate(x,y)"
      ],
      "metadata": {
        "colab": {
          "base_uri": "https://localhost:8080/"
        },
        "id": "QQa4JreJBihw",
        "outputId": "b7469fcd-f2ca-4161-f091-a592351a3791"
      },
      "execution_count": 41,
      "outputs": [
        {
          "output_type": "stream",
          "name": "stdout",
          "text": [
            "32/32 [==============================] - 0s 2ms/step - loss: 0.1226 - accuracy: 0.9930\n"
          ]
        },
        {
          "output_type": "execute_result",
          "data": {
            "text/plain": [
              "[0.12255411595106125, 0.9929999709129333]"
            ]
          },
          "metadata": {},
          "execution_count": 41
        }
      ]
    },
    {
      "cell_type": "code",
      "source": [
        "#plot_decision_boundary(model_6,x,y)"
      ],
      "metadata": {
        "id": "4XeyjBkjBnla"
      },
      "execution_count": 42,
      "outputs": []
    },
    {
      "cell_type": "markdown",
      "source": [
        "## Building Activation Functions from Scratch"
      ],
      "metadata": {
        "id": "975tkJ-ACdbN"
      }
    },
    {
      "cell_type": "code",
      "source": [
        "#Sample Tensor\n",
        "A = tf.cast(tf.range(-10,10),tf.float32)\n",
        "A"
      ],
      "metadata": {
        "colab": {
          "base_uri": "https://localhost:8080/"
        },
        "id": "3mRah7MrFIwB",
        "outputId": "441ae62e-e613-430f-992f-b887c1ed91fd"
      },
      "execution_count": 43,
      "outputs": [
        {
          "output_type": "execute_result",
          "data": {
            "text/plain": [
              "<tf.Tensor: shape=(20,), dtype=float32, numpy=\n",
              "array([-10.,  -9.,  -8.,  -7.,  -6.,  -5.,  -4.,  -3.,  -2.,  -1.,   0.,\n",
              "         1.,   2.,   3.,   4.,   5.,   6.,   7.,   8.,   9.],\n",
              "      dtype=float32)>"
            ]
          },
          "metadata": {},
          "execution_count": 43
        }
      ]
    },
    {
      "cell_type": "code",
      "source": [
        "#Visualizing Sample Tensor\n",
        "plt.plot(A)"
      ],
      "metadata": {
        "colab": {
          "base_uri": "https://localhost:8080/",
          "height": 283
        },
        "id": "cl1HfWSnG9TM",
        "outputId": "2951407c-6956-4934-e30d-2f48dc1701c2"
      },
      "execution_count": 44,
      "outputs": [
        {
          "output_type": "execute_result",
          "data": {
            "text/plain": [
              "[<matplotlib.lines.Line2D at 0x7f4833f01c40>]"
            ]
          },
          "metadata": {},
          "execution_count": 44
        },
        {
          "output_type": "display_data",
          "data": {
            "text/plain": [
              "<Figure size 432x288 with 1 Axes>"
            ],
            "image/png": "[encoded data removed]"
          },
          "metadata": {
            "needs_background": "light"
          }
        }
      ]
    },
    {
      "cell_type": "code",
      "source": [
        "def sigmoid(x):\n",
        "  return (1/(1+tf.exp(-x)))\n"
      ],
      "metadata": {
        "id": "ObFyKkwWHAIq"
      },
      "execution_count": 45,
      "outputs": []
    },
    {
      "cell_type": "code",
      "source": [
        "plt.plot(sigmoid(A))"
      ],
      "metadata": {
        "colab": {
          "base_uri": "https://localhost:8080/",
          "height": 283
        },
        "id": "y9dxoTTcHgwt",
        "outputId": "3ede6704-b449-4bff-9bd3-07aba0eb2750"
      },
      "execution_count": 46,
      "outputs": [
        {
          "output_type": "execute_result",
          "data": {
            "text/plain": [
              "[<matplotlib.lines.Line2D at 0x7f4833f28310>]"
            ]
          },
          "metadata": {},
          "execution_count": 46
        },
        {
          "output_type": "display_data",
          "data": {
            "text/plain": [
              "<Figure size 432x288 with 1 Axes>"
            ],
            "image/png": "[encoded data removed]"
          },
          "metadata": {
            "needs_background": "light"
          }
        }
      ]
    },
    {
      "cell_type": "code",
      "source": [
        "def relu(x):\n",
        " return tf.maximum(0,x)"
      ],
      "metadata": {
        "id": "2iCISZSiHl5-"
      },
      "execution_count": 47,
      "outputs": []
    },
    {
      "cell_type": "code",
      "source": [
        "plt.plot(relu(A))"
      ],
      "metadata": {
        "colab": {
          "base_uri": "https://localhost:8080/",
          "height": 283
        },
        "id": "O5jcP5U5Hm2o",
        "outputId": "cf732d9b-79bc-479e-c872-be975e51bc9a"
      },
      "execution_count": 48,
      "outputs": [
        {
          "output_type": "execute_result",
          "data": {
            "text/plain": [
              "[<matplotlib.lines.Line2D at 0x7f48a022b130>]"
            ]
          },
          "metadata": {},
          "execution_count": 48
        },
        {
          "output_type": "display_data",
          "data": {
            "text/plain": [
              "<Figure size 432x288 with 1 Axes>"
            ],
            "image/png": "[encoded data removed]"
          },
          "metadata": {
            "needs_background": "light"
          }
        }
      ]
    },
    {
      "cell_type": "code",
      "source": [
        "def linear(x):\n",
        "  return x"
      ],
      "metadata": {
        "id": "8YItmC08ISor"
      },
      "execution_count": 49,
      "outputs": []
    },
    {
      "cell_type": "code",
      "source": [
        "plt.plot(linear(A))"
      ],
      "metadata": {
        "colab": {
          "base_uri": "https://localhost:8080/",
          "height": 283
        },
        "id": "8OGbpZdRJI31",
        "outputId": "bc4db7eb-415c-4d2f-c294-b5d80882a765"
      },
      "execution_count": 50,
      "outputs": [
        {
          "output_type": "execute_result",
          "data": {
            "text/plain": [
              "[<matplotlib.lines.Line2D at 0x7f4833ec1ca0>]"
            ]
          },
          "metadata": {},
          "execution_count": 50
        },
        {
          "output_type": "display_data",
          "data": {
            "text/plain": [
              "<Figure size 432x288 with 1 Axes>"
            ],
            "image/png": "[encoded data removed]"
          },
          "metadata": {
            "needs_background": "light"
          }
        }
      ]
    },
    {
      "cell_type": "markdown",
      "source": [
        "## Evaluating and Improving our classification"
      ],
      "metadata": {
        "id": "snnXIVqaJNWc"
      }
    },
    {
      "cell_type": "code",
      "source": [
        "from sklearn.model_selection import train_test_split"
      ],
      "metadata": {
        "id": "0ACyyWgSD8Nb"
      },
      "execution_count": 53,
      "outputs": []
    },
    {
      "cell_type": "code",
      "source": [
        "x_train,x_val,y_train,y_val = train_test_split(x,y,test_size = 0.2)"
      ],
      "metadata": {
        "id": "iAlgilLvEQcy"
      },
      "execution_count": 54,
      "outputs": []
    },
    {
      "cell_type": "code",
      "source": [
        "tf.random.set_seed(42)\n",
        "model_7 = tf.keras.Sequential([\n",
        "    tf.keras.layers.Dense(4,activation = \"relu\"),\n",
        "    tf.keras.layers.Dense(4,activation = \"relu\"),\n",
        "    tf.keras.layers.Dense(1,activation = \"sigmoid\")\n",
        "])\n",
        "model_7.compile(loss = \"binary_crossentropy\",optimizer = tf.keras.optimizers.Adam(lr=0.01),metrics = ['accuracy'])\n",
        "history = model_7.fit(x_train,y_train,epochs = 150)"
      ],
      "metadata": {
        "colab": {
          "base_uri": "https://localhost:8080/"
        },
        "id": "YFf2QrOtEeKW",
        "outputId": "00d8ff07-c9a8-4e84-e873-5716f53bb3b1"
      },
      "execution_count": 55,
      "outputs": [
        {
          "output_type": "stream",
          "name": "stdout",
          "text": [
            "Epoch 1/150\n"
          ]
        },
        {
          "output_type": "stream",
          "name": "stderr",
          "text": [
            "/usr/local/lib/python3.8/dist-packages/keras/optimizers/optimizer_v2/adam.py:110: UserWarning: The `lr` argument is deprecated, use `learning_rate` instead.\n",
            "  super(Adam, self).__init__(name, **kwargs)\n"
          ]
        },
        {
          "output_type": "stream",
          "name": "stdout",
          "text": [
            "25/25 [==============================] - 1s 2ms/step - loss: 0.6849 - accuracy: 0.5350\n",
            "Epoch 2/150\n",
            "25/25 [==============================] - 0s 3ms/step - loss: 0.6759 - accuracy: 0.5875\n",
            "Epoch 3/150\n",
            "25/25 [==============================] - 0s 2ms/step - loss: 0.6725 - accuracy: 0.5475\n",
            "Epoch 4/150\n",
            "25/25 [==============================] - 0s 2ms/step - loss: 0.6683 - accuracy: 0.5950\n",
            "Epoch 5/150\n",
            "25/25 [==============================] - 0s 2ms/step - loss: 0.6625 - accuracy: 0.5663\n",
            "Epoch 6/150\n",
            "25/25 [==============================] - 0s 2ms/step - loss: 0.6581 - accuracy: 0.5950\n",
            "Epoch 7/150\n",
            "25/25 [==============================] - 0s 2ms/step - loss: 0.6526 - accuracy: 0.5838\n",
            "Epoch 8/150\n",
            "25/25 [==============================] - 0s 3ms/step - loss: 0.6490 - accuracy: 0.6012\n",
            "Epoch 9/150\n",
            "25/25 [==============================] - 0s 2ms/step - loss: 0.6375 - accuracy: 0.6375\n",
            "Epoch 10/150\n",
            "25/25 [==============================] - 0s 2ms/step - loss: 0.6162 - accuracy: 0.6913\n",
            "Epoch 11/150\n",
            "25/25 [==============================] - 0s 2ms/step - loss: 0.6010 - accuracy: 0.6650\n",
            "Epoch 12/150\n",
            "25/25 [==============================] - 0s 2ms/step - loss: 0.5684 - accuracy: 0.7650\n",
            "Epoch 13/150\n",
            "25/25 [==============================] - 0s 3ms/step - loss: 0.4995 - accuracy: 0.8200\n",
            "Epoch 14/150\n",
            "25/25 [==============================] - 0s 2ms/step - loss: 0.4219 - accuracy: 0.9038\n",
            "Epoch 15/150\n",
            "25/25 [==============================] - 0s 2ms/step - loss: 0.3480 - accuracy: 0.9613\n",
            "Epoch 16/150\n",
            "25/25 [==============================] - 0s 2ms/step - loss: 0.2699 - accuracy: 0.9862\n",
            "Epoch 17/150\n",
            "25/25 [==============================] - 0s 3ms/step - loss: 0.2068 - accuracy: 0.9875\n",
            "Epoch 18/150\n",
            "25/25 [==============================] - 0s 2ms/step - loss: 0.1642 - accuracy: 0.9925\n",
            "Epoch 19/150\n",
            "25/25 [==============================] - 0s 2ms/step - loss: 0.1395 - accuracy: 0.9912\n",
            "Epoch 20/150\n",
            "25/25 [==============================] - 0s 2ms/step - loss: 0.1119 - accuracy: 0.9912\n",
            "Epoch 21/150\n",
            "25/25 [==============================] - 0s 2ms/step - loss: 0.0949 - accuracy: 0.9962\n",
            "Epoch 22/150\n",
            "25/25 [==============================] - 0s 2ms/step - loss: 0.0820 - accuracy: 0.9937\n",
            "Epoch 23/150\n",
            "25/25 [==============================] - 0s 2ms/step - loss: 0.0750 - accuracy: 0.9962\n",
            "Epoch 24/150\n",
            "25/25 [==============================] - 0s 2ms/step - loss: 0.0685 - accuracy: 0.9962\n",
            "Epoch 25/150\n",
            "25/25 [==============================] - 0s 3ms/step - loss: 0.0610 - accuracy: 0.9950\n",
            "Epoch 26/150\n",
            "25/25 [==============================] - 0s 2ms/step - loss: 0.0550 - accuracy: 0.9975\n",
            "Epoch 27/150\n",
            "25/25 [==============================] - 0s 2ms/step - loss: 0.0484 - accuracy: 0.9975\n",
            "Epoch 28/150\n",
            "25/25 [==============================] - 0s 2ms/step - loss: 0.0488 - accuracy: 0.9950\n",
            "Epoch 29/150\n",
            "25/25 [==============================] - 0s 2ms/step - loss: 0.0414 - accuracy: 0.9975\n",
            "Epoch 30/150\n",
            "25/25 [==============================] - 0s 2ms/step - loss: 0.0385 - accuracy: 0.9975\n",
            "Epoch 31/150\n",
            "25/25 [==============================] - 0s 3ms/step - loss: 0.0375 - accuracy: 0.9975\n",
            "Epoch 32/150\n",
            "25/25 [==============================] - 0s 3ms/step - loss: 0.0375 - accuracy: 0.9962\n",
            "Epoch 33/150\n",
            "25/25 [==============================] - 0s 2ms/step - loss: 0.0337 - accuracy: 0.9975\n",
            "Epoch 34/150\n",
            "25/25 [==============================] - 0s 2ms/step - loss: 0.0308 - accuracy: 0.9987\n",
            "Epoch 35/150\n",
            "25/25 [==============================] - 0s 2ms/step - loss: 0.0314 - accuracy: 0.9987\n",
            "Epoch 36/150\n",
            "25/25 [==============================] - 0s 2ms/step - loss: 0.0280 - accuracy: 0.9987\n",
            "Epoch 37/150\n",
            "25/25 [==============================] - 0s 2ms/step - loss: 0.0292 - accuracy: 0.9987\n",
            "Epoch 38/150\n",
            "25/25 [==============================] - 0s 2ms/step - loss: 0.0300 - accuracy: 0.9962\n",
            "Epoch 39/150\n",
            "25/25 [==============================] - 0s 2ms/step - loss: 0.0338 - accuracy: 0.9937\n",
            "Epoch 40/150\n",
            "25/25 [==============================] - 0s 3ms/step - loss: 0.0317 - accuracy: 0.9950\n",
            "Epoch 41/150\n",
            "25/25 [==============================] - 0s 2ms/step - loss: 0.0315 - accuracy: 0.9937\n",
            "Epoch 42/150\n",
            "25/25 [==============================] - 0s 2ms/step - loss: 0.0232 - accuracy: 0.9975\n",
            "Epoch 43/150\n",
            "25/25 [==============================] - 0s 2ms/step - loss: 0.0212 - accuracy: 1.0000\n",
            "Epoch 44/150\n",
            "25/25 [==============================] - 0s 2ms/step - loss: 0.0248 - accuracy: 0.9950\n",
            "Epoch 45/150\n",
            "25/25 [==============================] - 0s 2ms/step - loss: 0.0214 - accuracy: 0.9962\n",
            "Epoch 46/150\n",
            "25/25 [==============================] - 0s 2ms/step - loss: 0.0201 - accuracy: 0.9975\n",
            "Epoch 47/150\n",
            "25/25 [==============================] - 0s 2ms/step - loss: 0.0185 - accuracy: 0.9975\n",
            "Epoch 48/150\n",
            "25/25 [==============================] - 0s 2ms/step - loss: 0.0176 - accuracy: 0.9987\n",
            "Epoch 49/150\n",
            "25/25 [==============================] - 0s 3ms/step - loss: 0.0203 - accuracy: 0.9987\n",
            "Epoch 50/150\n",
            "25/25 [==============================] - 0s 2ms/step - loss: 0.0164 - accuracy: 1.0000\n",
            "Epoch 51/150\n",
            "25/25 [==============================] - 0s 2ms/step - loss: 0.0224 - accuracy: 0.9950\n",
            "Epoch 52/150\n",
            "25/25 [==============================] - 0s 2ms/step - loss: 0.0215 - accuracy: 0.9962\n",
            "Epoch 53/150\n",
            "25/25 [==============================] - 0s 2ms/step - loss: 0.0164 - accuracy: 0.9987\n",
            "Epoch 54/150\n",
            "25/25 [==============================] - 0s 2ms/step - loss: 0.0173 - accuracy: 0.9975\n",
            "Epoch 55/150\n",
            "25/25 [==============================] - 0s 3ms/step - loss: 0.0186 - accuracy: 0.9987\n",
            "Epoch 56/150\n",
            "25/25 [==============================] - 0s 2ms/step - loss: 0.0178 - accuracy: 0.9962\n",
            "Epoch 57/150\n",
            "25/25 [==============================] - 0s 2ms/step - loss: 0.0189 - accuracy: 0.9975\n",
            "Epoch 58/150\n",
            "25/25 [==============================] - 0s 2ms/step - loss: 0.0208 - accuracy: 0.9962\n",
            "Epoch 59/150\n",
            "25/25 [==============================] - 0s 2ms/step - loss: 0.0137 - accuracy: 1.0000\n",
            "Epoch 60/150\n",
            "25/25 [==============================] - 0s 3ms/step - loss: 0.0156 - accuracy: 0.9962\n",
            "Epoch 61/150\n",
            "25/25 [==============================] - 0s 2ms/step - loss: 0.0134 - accuracy: 0.9975\n",
            "Epoch 62/150\n",
            "25/25 [==============================] - 0s 3ms/step - loss: 0.0134 - accuracy: 0.9987\n",
            "Epoch 63/150\n",
            "25/25 [==============================] - 0s 3ms/step - loss: 0.0139 - accuracy: 0.9975\n",
            "Epoch 64/150\n",
            "25/25 [==============================] - 0s 2ms/step - loss: 0.0130 - accuracy: 0.9987\n",
            "Epoch 65/150\n",
            "25/25 [==============================] - 0s 2ms/step - loss: 0.0124 - accuracy: 0.9987\n",
            "Epoch 66/150\n",
            "25/25 [==============================] - 0s 2ms/step - loss: 0.0127 - accuracy: 0.9987\n",
            "Epoch 67/150\n",
            "25/25 [==============================] - 0s 2ms/step - loss: 0.0140 - accuracy: 0.9975\n",
            "Epoch 68/150\n",
            "25/25 [==============================] - 0s 2ms/step - loss: 0.0168 - accuracy: 0.9987\n",
            "Epoch 69/150\n",
            "25/25 [==============================] - 0s 2ms/step - loss: 0.0188 - accuracy: 0.9937\n",
            "Epoch 70/150\n",
            "25/25 [==============================] - 0s 3ms/step - loss: 0.0113 - accuracy: 1.0000\n",
            "Epoch 71/150\n",
            "25/25 [==============================] - 0s 2ms/step - loss: 0.0123 - accuracy: 0.9987\n",
            "Epoch 72/150\n",
            "25/25 [==============================] - 0s 2ms/step - loss: 0.0132 - accuracy: 0.9975\n",
            "Epoch 73/150\n",
            "25/25 [==============================] - 0s 2ms/step - loss: 0.0135 - accuracy: 0.9975\n",
            "Epoch 74/150\n",
            "25/25 [==============================] - 0s 2ms/step - loss: 0.0166 - accuracy: 0.9950\n",
            "Epoch 75/150\n",
            "25/25 [==============================] - 0s 2ms/step - loss: 0.0161 - accuracy: 0.9950\n",
            "Epoch 76/150\n",
            "25/25 [==============================] - 0s 3ms/step - loss: 0.0143 - accuracy: 0.9975\n",
            "Epoch 77/150\n",
            "25/25 [==============================] - 0s 3ms/step - loss: 0.0160 - accuracy: 0.9937\n",
            "Epoch 78/150\n",
            "25/25 [==============================] - 0s 2ms/step - loss: 0.0156 - accuracy: 0.9962\n",
            "Epoch 79/150\n",
            "25/25 [==============================] - 0s 2ms/step - loss: 0.0139 - accuracy: 0.9962\n",
            "Epoch 80/150\n",
            "25/25 [==============================] - 0s 2ms/step - loss: 0.0103 - accuracy: 0.9987\n",
            "Epoch 81/150\n",
            "25/25 [==============================] - 0s 3ms/step - loss: 0.0102 - accuracy: 0.9975\n",
            "Epoch 82/150\n",
            "25/25 [==============================] - 0s 2ms/step - loss: 0.0131 - accuracy: 0.9950\n",
            "Epoch 83/150\n",
            "25/25 [==============================] - 0s 2ms/step - loss: 0.0152 - accuracy: 0.9950\n",
            "Epoch 84/150\n",
            "25/25 [==============================] - 0s 2ms/step - loss: 0.0192 - accuracy: 0.9950\n",
            "Epoch 85/150\n",
            "25/25 [==============================] - 0s 2ms/step - loss: 0.0135 - accuracy: 0.9975\n",
            "Epoch 86/150\n",
            "25/25 [==============================] - 0s 2ms/step - loss: 0.0093 - accuracy: 0.9987\n",
            "Epoch 87/150\n",
            "25/25 [==============================] - 0s 2ms/step - loss: 0.0120 - accuracy: 0.9987\n",
            "Epoch 88/150\n",
            "25/25 [==============================] - 0s 3ms/step - loss: 0.0097 - accuracy: 0.9987\n",
            "Epoch 89/150\n",
            "25/25 [==============================] - 0s 2ms/step - loss: 0.0294 - accuracy: 0.9875\n",
            "Epoch 90/150\n",
            "25/25 [==============================] - 0s 2ms/step - loss: 0.0258 - accuracy: 0.9912\n",
            "Epoch 91/150\n",
            "25/25 [==============================] - 0s 3ms/step - loss: 0.0123 - accuracy: 0.9950\n",
            "Epoch 92/150\n",
            "25/25 [==============================] - 0s 3ms/step - loss: 0.0077 - accuracy: 1.0000\n",
            "Epoch 93/150\n",
            "25/25 [==============================] - 0s 2ms/step - loss: 0.0072 - accuracy: 1.0000\n",
            "Epoch 94/150\n",
            "25/25 [==============================] - 0s 2ms/step - loss: 0.0074 - accuracy: 0.9987\n",
            "Epoch 95/150\n",
            "25/25 [==============================] - 0s 2ms/step - loss: 0.0077 - accuracy: 1.0000\n",
            "Epoch 96/150\n",
            "25/25 [==============================] - 0s 2ms/step - loss: 0.0095 - accuracy: 0.9975\n",
            "Epoch 97/150\n",
            "25/25 [==============================] - 0s 2ms/step - loss: 0.0080 - accuracy: 0.9987\n",
            "Epoch 98/150\n",
            "25/25 [==============================] - 0s 2ms/step - loss: 0.0110 - accuracy: 0.9962\n",
            "Epoch 99/150\n",
            "25/25 [==============================] - 0s 2ms/step - loss: 0.0084 - accuracy: 0.9987\n",
            "Epoch 100/150\n",
            "25/25 [==============================] - 0s 2ms/step - loss: 0.0073 - accuracy: 1.0000\n",
            "Epoch 101/150\n",
            "25/25 [==============================] - 0s 2ms/step - loss: 0.0137 - accuracy: 0.9962\n",
            "Epoch 102/150\n",
            "25/25 [==============================] - 0s 2ms/step - loss: 0.0124 - accuracy: 0.9962\n",
            "Epoch 103/150\n",
            "25/25 [==============================] - 0s 3ms/step - loss: 0.0105 - accuracy: 0.9975\n",
            "Epoch 104/150\n",
            "25/25 [==============================] - 0s 2ms/step - loss: 0.0080 - accuracy: 1.0000\n",
            "Epoch 105/150\n",
            "25/25 [==============================] - 0s 2ms/step - loss: 0.0094 - accuracy: 0.9962\n",
            "Epoch 106/150\n",
            "25/25 [==============================] - 0s 2ms/step - loss: 0.0118 - accuracy: 0.9962\n",
            "Epoch 107/150\n",
            "25/25 [==============================] - 0s 3ms/step - loss: 0.0092 - accuracy: 0.9987\n",
            "Epoch 108/150\n",
            "25/25 [==============================] - 0s 2ms/step - loss: 0.0083 - accuracy: 0.9987\n",
            "Epoch 109/150\n",
            "25/25 [==============================] - 0s 3ms/step - loss: 0.0072 - accuracy: 0.9987\n",
            "Epoch 110/150\n",
            "25/25 [==============================] - 0s 2ms/step - loss: 0.0120 - accuracy: 0.9950\n",
            "Epoch 111/150\n",
            "25/25 [==============================] - 0s 2ms/step - loss: 0.0062 - accuracy: 1.0000\n",
            "Epoch 112/150\n",
            "25/25 [==============================] - 0s 2ms/step - loss: 0.0116 - accuracy: 0.9950\n",
            "Epoch 113/150\n",
            "25/25 [==============================] - 0s 2ms/step - loss: 0.0095 - accuracy: 0.9962\n",
            "Epoch 114/150\n",
            "25/25 [==============================] - 0s 2ms/step - loss: 0.0163 - accuracy: 0.9937\n",
            "Epoch 115/150\n",
            "25/25 [==============================] - 0s 2ms/step - loss: 0.0079 - accuracy: 0.9987\n",
            "Epoch 116/150\n",
            "25/25 [==============================] - 0s 2ms/step - loss: 0.0067 - accuracy: 0.9975\n",
            "Epoch 117/150\n",
            "25/25 [==============================] - 0s 2ms/step - loss: 0.0104 - accuracy: 0.9987\n",
            "Epoch 118/150\n",
            "25/25 [==============================] - 0s 2ms/step - loss: 0.0113 - accuracy: 0.9962\n",
            "Epoch 119/150\n",
            "25/25 [==============================] - 0s 2ms/step - loss: 0.0121 - accuracy: 0.9962\n",
            "Epoch 120/150\n",
            "25/25 [==============================] - 0s 3ms/step - loss: 0.0150 - accuracy: 0.9975\n",
            "Epoch 121/150\n",
            "25/25 [==============================] - 0s 2ms/step - loss: 0.0233 - accuracy: 0.9887\n",
            "Epoch 122/150\n",
            "25/25 [==============================] - 0s 3ms/step - loss: 0.0140 - accuracy: 0.9962\n",
            "Epoch 123/150\n",
            "25/25 [==============================] - 0s 2ms/step - loss: 0.0082 - accuracy: 0.9975\n",
            "Epoch 124/150\n",
            "25/25 [==============================] - 0s 2ms/step - loss: 0.0075 - accuracy: 0.9975\n",
            "Epoch 125/150\n",
            "25/25 [==============================] - 0s 2ms/step - loss: 0.0073 - accuracy: 0.9975\n",
            "Epoch 126/150\n",
            "25/25 [==============================] - 0s 2ms/step - loss: 0.0101 - accuracy: 0.9975\n",
            "Epoch 127/150\n",
            "25/25 [==============================] - 0s 2ms/step - loss: 0.0082 - accuracy: 0.9975\n",
            "Epoch 128/150\n",
            "25/25 [==============================] - 0s 2ms/step - loss: 0.0083 - accuracy: 0.9962\n",
            "Epoch 129/150\n",
            "25/25 [==============================] - 0s 2ms/step - loss: 0.0126 - accuracy: 0.9962\n",
            "Epoch 130/150\n",
            "25/25 [==============================] - 0s 2ms/step - loss: 0.0079 - accuracy: 0.9987\n",
            "Epoch 131/150\n",
            "25/25 [==============================] - 0s 2ms/step - loss: 0.0062 - accuracy: 1.0000\n",
            "Epoch 132/150\n",
            "25/25 [==============================] - 0s 2ms/step - loss: 0.0085 - accuracy: 0.9975\n",
            "Epoch 133/150\n",
            "25/25 [==============================] - 0s 2ms/step - loss: 0.0101 - accuracy: 0.9962\n",
            "Epoch 134/150\n",
            "25/25 [==============================] - 0s 2ms/step - loss: 0.0135 - accuracy: 0.9937\n",
            "Epoch 135/150\n",
            "25/25 [==============================] - 0s 2ms/step - loss: 0.0345 - accuracy: 0.9837\n",
            "Epoch 136/150\n",
            "25/25 [==============================] - 0s 3ms/step - loss: 0.0118 - accuracy: 0.9950\n",
            "Epoch 137/150\n",
            "25/25 [==============================] - 0s 3ms/step - loss: 0.0117 - accuracy: 0.9962\n",
            "Epoch 138/150\n",
            "25/25 [==============================] - 0s 2ms/step - loss: 0.0140 - accuracy: 0.9950\n",
            "Epoch 139/150\n",
            "25/25 [==============================] - 0s 2ms/step - loss: 0.0138 - accuracy: 0.9962\n",
            "Epoch 140/150\n",
            "25/25 [==============================] - 0s 2ms/step - loss: 0.0083 - accuracy: 0.9975\n",
            "Epoch 141/150\n",
            "25/25 [==============================] - 0s 2ms/step - loss: 0.0069 - accuracy: 1.0000\n",
            "Epoch 142/150\n",
            "25/25 [==============================] - 0s 2ms/step - loss: 0.0071 - accuracy: 0.9987\n",
            "Epoch 143/150\n",
            "25/25 [==============================] - 0s 2ms/step - loss: 0.0061 - accuracy: 0.9987\n",
            "Epoch 144/150\n",
            "25/25 [==============================] - 0s 2ms/step - loss: 0.0072 - accuracy: 0.9975\n",
            "Epoch 145/150\n",
            "25/25 [==============================] - 0s 2ms/step - loss: 0.0082 - accuracy: 0.9987\n",
            "Epoch 146/150\n",
            "25/25 [==============================] - 0s 2ms/step - loss: 0.0090 - accuracy: 0.9962\n",
            "Epoch 147/150\n",
            "25/25 [==============================] - 0s 2ms/step - loss: 0.0045 - accuracy: 1.0000\n",
            "Epoch 148/150\n",
            "25/25 [==============================] - 0s 3ms/step - loss: 0.0098 - accuracy: 0.9950\n",
            "Epoch 149/150\n",
            "25/25 [==============================] - 0s 3ms/step - loss: 0.0074 - accuracy: 0.9987\n",
            "Epoch 150/150\n",
            "25/25 [==============================] - 0s 2ms/step - loss: 0.0064 - accuracy: 0.9987\n"
          ]
        }
      ]
    },
    {
      "cell_type": "code",
      "source": [
        "model_7.evaluate(x_val,y_val)"
      ],
      "metadata": {
        "colab": {
          "base_uri": "https://localhost:8080/"
        },
        "id": "yvOeCfvkFQCj",
        "outputId": "fa1c9364-19e1-47b7-f782-7b6abb97e2b1"
      },
      "execution_count": 67,
      "outputs": [
        {
          "output_type": "stream",
          "name": "stdout",
          "text": [
            "7/7 [==============================] - 0s 2ms/step - loss: 0.0195 - accuracy: 0.9850\n"
          ]
        },
        {
          "output_type": "execute_result",
          "data": {
            "text/plain": [
              "[0.01945311576128006, 0.9850000143051147]"
            ]
          },
          "metadata": {},
          "execution_count": 67
        }
      ]
    },
    {
      "cell_type": "code",
      "source": [
        "plt.figure(figsize=(12,6))\n",
        "plt.subplot(1,2,1)\n",
        "plt.title(\"Train\")\n",
        "plot_decision_boundary(model_7,x_train,y_train)\n",
        "plt.subplot(1,2,2)\n",
        "plt.title(\"Test\")\n",
        "plot_decision_boundary(model_7,x_val,y_val)"
      ],
      "metadata": {
        "colab": {
          "base_uri": "https://localhost:8080/",
          "height": 462
        },
        "id": "2FCzLhy8GPyI",
        "outputId": "1b7f1a69-dffa-473d-8005-bd71d919bd11"
      },
      "execution_count": 69,
      "outputs": [
        {
          "output_type": "stream",
          "name": "stdout",
          "text": [
            "250000/250000 [==============================] - 356s 1ms/step\n",
            "Binary Classification\n",
            "62500/62500 [==============================] - 85s 1ms/step\n",
            "Binary Classification\n"
          ]
        },
        {
          "output_type": "display_data",
          "data": {
            "text/plain": [
              "<Figure size 864x432 with 2 Axes>"
            ],
            "image/png": "[encoded data removed]"
          },
          "metadata": {
            "needs_background": "light"
          }
        }
      ]
    },
    {
      "cell_type": "markdown",
      "source": [
        "## Plotting Loss Curves"
      ],
      "metadata": {
        "id": "lTxNE97sGffK"
      }
    },
    {
      "cell_type": "code",
      "source": [
        "pd.DataFrame(history.history).plot()\n",
        "plt.title(\"Model_8 Loss Curves\")"
      ],
      "metadata": {
        "colab": {
          "base_uri": "https://localhost:8080/",
          "height": 299
        },
        "id": "UOTjTdstHKWY",
        "outputId": "0a7a9b74-0e12-42c8-dcbf-997079b792eb"
      },
      "execution_count": 70,
      "outputs": [
        {
          "output_type": "execute_result",
          "data": {
            "text/plain": [
              "Text(0.5, 1.0, 'Model_8 Loss Curves')"
            ]
          },
          "metadata": {},
          "execution_count": 70
        },
        {
          "output_type": "display_data",
          "data": {
            "text/plain": [
              "<Figure size 432x288 with 1 Axes>"
            ],
            "image/png": "[encoded data removed]"
          },
          "metadata": {
            "needs_background": "light"
          }
        }
      ]
    },
    {
      "cell_type": "code",
      "source": [],
      "metadata": {
        "id": "73tJeQJpIsi0"
      },
      "execution_count": null,
      "outputs": []
    }
  ]
}
{
  "nbformat": 4,
  "nbformat_minor": 0,
  "metadata": {
    "colab": {
      "provenance": [],
      "authorship_tag": "ABX9TyMvow9k0NCNGUue6/04itpM",
      "include_colab_link": true
    },
    "kernelspec": {
      "name": "python3",
      "display_name": "Python 3"
    },
    "language_info": {
      "name": "python"
    },
    "accelerator": "GPU",
    "gpuClass": "standard"
  },
  "cells": [
    {
      "cell_type": "markdown",
      "metadata": {
        "id": "view-in-github",
        "colab_type": "text"
      },
      "source": [
        "<a href=\"https://colab.research.google.com/github/ShyamSundhar1411/My-ML-Notebooks/blob/master/Classifications/Neural_Network_Classification_with_Tensorflow.ipynb\" target=\"_parent\"><img src=\"https://colab.research.google.com/assets/colab-badge.svg\" alt=\"Open In Colab\"/></a>"
      ]
    },
    {
      "cell_type": "markdown",
      "source": [
        "# Introduction to Neural Network classification with TensorFlow\n",
        "* Binary Classification\n",
        "* Multiclass Classification\n",
        "* Multilabel Classification"
      ],
      "metadata": {
        "id": "1brS47npy6jC"
      }
    },
    {
      "cell_type": "markdown",
      "source": [
        "## Creating data to view and fit"
      ],
      "metadata": {
        "id": "bS0Nnrc5zDnT"
      }
    },
    {
      "cell_type": "code",
      "source": [
        "from sklearn.datasets import make_circles\n",
        "import numpy as np\n",
        "# Make 1000 samples\n",
        "n_samples = 1000\n",
        "x,y = make_circles(n_samples,noise = 0.03,random_state = 42)"
      ],
      "metadata": {
        "id": "CAPlgfvRzdx7"
      },
      "execution_count": 1,
      "outputs": []
    },
    {
      "cell_type": "code",
      "source": [
        "x"
      ],
      "metadata": {
        "colab": {
          "base_uri": "https://localhost:8080/"
        },
        "id": "YupntXlWz6H1",
        "outputId": "284191b6-f468-42d6-f796-fd6c8d25c587"
      },
      "execution_count": 2,
      "outputs": [
        {
          "output_type": "execute_result",
          "data": {
            "text/plain": [
              "array([[ 0.75424625,  0.23148074],\n",
              "       [-0.75615888,  0.15325888],\n",
              "       [-0.81539193,  0.17328203],\n",
              "       ...,\n",
              "       [-0.13690036, -0.81001183],\n",
              "       [ 0.67036156, -0.76750154],\n",
              "       [ 0.28105665,  0.96382443]])"
            ]
          },
          "metadata": {},
          "execution_count": 2
        }
      ]
    },
    {
      "cell_type": "markdown",
      "source": [
        "## Visualizing Dataset"
      ],
      "metadata": {
        "id": "pKTyqZ-I0EFo"
      }
    },
    {
      "cell_type": "code",
      "source": [
        "import pandas as pd\n",
        "circles = pd.DataFrame({\"X0\":x[:,0],\"X1\":x[:,1],\"label\":y})"
      ],
      "metadata": {
        "id": "fh9Rm6k60b28"
      },
      "execution_count": 3,
      "outputs": []
    },
    {
      "cell_type": "code",
      "source": [
        "circles"
      ],
      "metadata": {
        "colab": {
          "base_uri": "https://localhost:8080/",
          "height": 423
        },
        "id": "EEraT3C80wvR",
        "outputId": "cb9385c6-a294-4e4e-b4a7-6cb984c64d6c"
      },
      "execution_count": 4,
      "outputs": [
        {
          "output_type": "execute_result",
          "data": {
            "text/plain": [
              "           X0        X1  label\n",
              "0    0.754246  0.231481      1\n",
              "1   -0.756159  0.153259      1\n",
              "2   -0.815392  0.173282      1\n",
              "3   -0.393731  0.692883      1\n",
              "4    0.442208 -0.896723      0\n",
              "..        ...       ...    ...\n",
              "995  0.244054  0.944125      0\n",
              "996 -0.978655 -0.272373      0\n",
              "997 -0.136900 -0.810012      1\n",
              "998  0.670362 -0.767502      0\n",
              "999  0.281057  0.963824      0\n",
              "\n",
              "[1000 rows x 3 columns]"
            ],
            "text/html": [
              "\n",
              "  <div id=\"df-977b9493-745b-4d79-9a21-3fdaaa21e22d\">\n",
              "    <div class=\"colab-df-container\">\n",
              "      <div>\n",
              "<style scoped>\n",
              "    .dataframe tbody tr th:only-of-type {\n",
              "        vertical-align: middle;\n",
              "    }\n",
              "\n",
              "    .dataframe tbody tr th {\n",
              "        vertical-align: top;\n",
              "    }\n",
              "\n",
              "    .dataframe thead th {\n",
              "        text-align: right;\n",
              "    }\n",
              "</style>\n",
              "<table border=\"1\" class=\"dataframe\">\n",
              "  <thead>\n",
              "    <tr style=\"text-align: right;\">\n",
              "      <th></th>\n",
              "      <th>X0</th>\n",
              "      <th>X1</th>\n",
              "      <th>label</th>\n",
              "    </tr>\n",
              "  </thead>\n",
              "  <tbody>\n",
              "    <tr>\n",
              "      <th>0</th>\n",
              "      <td>0.754246</td>\n",
              "      <td>0.231481</td>\n",
              "      <td>1</td>\n",
              "    </tr>\n",
              "    <tr>\n",
              "      <th>1</th>\n",
              "      <td>-0.756159</td>\n",
              "      <td>0.153259</td>\n",
              "      <td>1</td>\n",
              "    </tr>\n",
              "    <tr>\n",
              "      <th>2</th>\n",
              "      <td>-0.815392</td>\n",
              "      <td>0.173282</td>\n",
              "      <td>1</td>\n",
              "    </tr>\n",
              "    <tr>\n",
              "      <th>3</th>\n",
              "      <td>-0.393731</td>\n",
              "      <td>0.692883</td>\n",
              "      <td>1</td>\n",
              "    </tr>\n",
              "    <tr>\n",
              "      <th>4</th>\n",
              "      <td>0.442208</td>\n",
              "      <td>-0.896723</td>\n",
              "      <td>0</td>\n",
              "    </tr>\n",
              "    <tr>\n",
              "      <th>...</th>\n",
              "      <td>...</td>\n",
              "      <td>...</td>\n",
              "      <td>...</td>\n",
              "    </tr>\n",
              "    <tr>\n",
              "      <th>995</th>\n",
              "      <td>0.244054</td>\n",
              "      <td>0.944125</td>\n",
              "      <td>0</td>\n",
              "    </tr>\n",
              "    <tr>\n",
              "      <th>996</th>\n",
              "      <td>-0.978655</td>\n",
              "      <td>-0.272373</td>\n",
              "      <td>0</td>\n",
              "    </tr>\n",
              "    <tr>\n",
              "      <th>997</th>\n",
              "      <td>-0.136900</td>\n",
              "      <td>-0.810012</td>\n",
              "      <td>1</td>\n",
              "    </tr>\n",
              "    <tr>\n",
              "      <th>998</th>\n",
              "      <td>0.670362</td>\n",
              "      <td>-0.767502</td>\n",
              "      <td>0</td>\n",
              "    </tr>\n",
              "    <tr>\n",
              "      <th>999</th>\n",
              "      <td>0.281057</td>\n",
              "      <td>0.963824</td>\n",
              "      <td>0</td>\n",
              "    </tr>\n",
              "  </tbody>\n",
              "</table>\n",
              "<p>1000 rows × 3 columns</p>\n",
              "</div>\n",
              "      <button class=\"colab-df-convert\" onclick=\"convertToInteractive('df-977b9493-745b-4d79-9a21-3fdaaa21e22d')\"\n",
              "              title=\"Convert this dataframe to an interactive table.\"\n",
              "              style=\"display:none;\">\n",
              "        \n",
              "  <svg xmlns=\"http://www.w3.org/2000/svg\" height=\"24px\"viewBox=\"0 0 24 24\"\n",
              "       width=\"24px\">\n",
              "    <path d=\"M0 0h24v24H0V0z\" fill=\"none\"/>\n",
              "    <path d=\"M18.56 5.44l.94 2.06.94-2.06 2.06-.94-2.06-.94-.94-2.06-.94 2.06-2.06.94zm-11 1L8.5 8.5l.94-2.06 2.06-.94-2.06-.94L8.5 2.5l-.94 2.06-2.06.94zm10 10l.94 2.06.94-2.06 2.06-.94-2.06-.94-.94-2.06-.94 2.06-2.06.94z\"/><path d=\"M17.41 7.96l-1.37-1.37c-.4-.4-.92-.59-1.43-.59-.52 0-1.04.2-1.43.59L10.3 9.45l-7.72 7.72c-.78.78-.78 2.05 0 2.83L4 21.41c.39.39.9.59 1.41.59.51 0 1.02-.2 1.41-.59l7.78-7.78 2.81-2.81c.8-.78.8-2.07 0-2.86zM5.41 20L4 18.59l7.72-7.72 1.47 1.35L5.41 20z\"/>\n",
              "  </svg>\n",
              "      </button>\n",
              "      \n",
              "  <style>\n",
              "    .colab-df-container {\n",
              "      display:flex;\n",
              "      flex-wrap:wrap;\n",
              "      gap: 12px;\n",
              "    }\n",
              "\n",
              "    .colab-df-convert {\n",
              "      background-color: #E8F0FE;\n",
              "      border: none;\n",
              "      border-radius: 50%;\n",
              "      cursor: pointer;\n",
              "      display: none;\n",
              "      fill: #1967D2;\n",
              "      height: 32px;\n",
              "      padding: 0 0 0 0;\n",
              "      width: 32px;\n",
              "    }\n",
              "\n",
              "    .colab-df-convert:hover {\n",
              "      background-color: #E2EBFA;\n",
              "      box-shadow: 0px 1px 2px rgba(60, 64, 67, 0.3), 0px 1px 3px 1px rgba(60, 64, 67, 0.15);\n",
              "      fill: #174EA6;\n",
              "    }\n",
              "\n",
              "    [theme=dark] .colab-df-convert {\n",
              "      background-color: #3B4455;\n",
              "      fill: #D2E3FC;\n",
              "    }\n",
              "\n",
              "    [theme=dark] .colab-df-convert:hover {\n",
              "      background-color: #434B5C;\n",
              "      box-shadow: 0px 1px 3px 1px rgba(0, 0, 0, 0.15);\n",
              "      filter: drop-shadow(0px 1px 2px rgba(0, 0, 0, 0.3));\n",
              "      fill: #FFFFFF;\n",
              "    }\n",
              "  </style>\n",
              "\n",
              "      <script>\n",
              "        const buttonEl =\n",
              "          document.querySelector('#df-977b9493-745b-4d79-9a21-3fdaaa21e22d button.colab-df-convert');\n",
              "        buttonEl.style.display =\n",
              "          google.colab.kernel.accessAllowed ? 'block' : 'none';\n",
              "\n",
              "        async function convertToInteractive(key) {\n",
              "          const element = document.querySelector('#df-977b9493-745b-4d79-9a21-3fdaaa21e22d');\n",
              "          const dataTable =\n",
              "            await google.colab.kernel.invokeFunction('convertToInteractive',\n",
              "                                                     [key], {});\n",
              "          if (!dataTable) return;\n",
              "\n",
              "          const docLinkHtml = 'Like what you see? Visit the ' +\n",
              "            '<a target=\"_blank\" href=https://colab.research.google.com/notebooks/data_table.ipynb>data table notebook</a>'\n",
              "            + ' to learn more about interactive tables.';\n",
              "          element.innerHTML = '';\n",
              "          dataTable['output_type'] = 'display_data';\n",
              "          await google.colab.output.renderOutput(dataTable, element);\n",
              "          const docLink = document.createElement('div');\n",
              "          docLink.innerHTML = docLinkHtml;\n",
              "          element.appendChild(docLink);\n",
              "        }\n",
              "      </script>\n",
              "    </div>\n",
              "  </div>\n",
              "  "
            ]
          },
          "metadata": {},
          "execution_count": 4
        }
      ]
    },
    {
      "cell_type": "code",
      "source": [
        "import matplotlib.pyplot as plt"
      ],
      "metadata": {
        "id": "ar8q23vO0yB6"
      },
      "execution_count": 5,
      "outputs": []
    },
    {
      "cell_type": "code",
      "source": [
        "plt.scatter(x[:,0],x[:,1],c = y,cmap = plt.cm.RdYlBu)"
      ],
      "metadata": {
        "colab": {
          "base_uri": "https://localhost:8080/",
          "height": 283
        },
        "id": "-2S59Nle030N",
        "outputId": "f9118a1a-2647-4ed5-b46e-c3d9f42debf8"
      },
      "execution_count": 6,
      "outputs": [
        {
          "output_type": "execute_result",
          "data": {
            "text/plain": [
              "<matplotlib.collections.PathCollection at 0x7f918c212340>"
            ]
          },
          "metadata": {},
          "execution_count": 6
        },
        {
          "output_type": "display_data",
          "data": {
            "text/plain": [
              "<Figure size 432x288 with 1 Axes>"
            ],
            "image/png": "[encoded data removed]"
          },
          "metadata": {
            "needs_background": "light"
          }
        }
      ]
    },
    {
      "cell_type": "code",
      "source": [
        "x.shape"
      ],
      "metadata": {
        "colab": {
          "base_uri": "https://localhost:8080/"
        },
        "id": "SyYa_CaI06BA",
        "outputId": "8e22ae82-f31a-4279-ae24-e5c7758ed440"
      },
      "execution_count": 7,
      "outputs": [
        {
          "output_type": "execute_result",
          "data": {
            "text/plain": [
              "(1000, 2)"
            ]
          },
          "metadata": {},
          "execution_count": 7
        }
      ]
    },
    {
      "cell_type": "code",
      "source": [
        "y.shape"
      ],
      "metadata": {
        "id": "xFSfSS_M1b9N",
        "outputId": "a0e34125-c31b-484a-bdc1-fbee2c64e9f5",
        "colab": {
          "base_uri": "https://localhost:8080/"
        }
      },
      "execution_count": 8,
      "outputs": [
        {
          "output_type": "execute_result",
          "data": {
            "text/plain": [
              "(1000,)"
            ]
          },
          "metadata": {},
          "execution_count": 8
        }
      ]
    },
    {
      "cell_type": "markdown",
      "source": [
        "## Modelling"
      ],
      "metadata": {
        "id": "qCoQAjah1dRR"
      }
    },
    {
      "cell_type": "code",
      "source": [
        "import tensorflow as tf"
      ],
      "metadata": {
        "id": "dGpc0oG6uzB6"
      },
      "execution_count": 9,
      "outputs": []
    },
    {
      "cell_type": "code",
      "source": [
        "tf.random.set_seed(42)\n",
        "model_1 = tf.keras.Sequential([\n",
        "    tf.keras.layers.Dense(16),\n",
        "    tf.keras.layers.Dense(1)\n",
        "\n",
        "])\n",
        "model_1.compile(loss = \"binary_crossentropy\",optimizer = tf.keras.optimizers.Adam(),metrics = [\"accuracy\"])"
      ],
      "metadata": {
        "id": "3h6rZWR8uPdm"
      },
      "execution_count": 10,
      "outputs": []
    },
    {
      "cell_type": "code",
      "source": [
        "model_1.fit(x,y,epochs = 200,verbose = 0)"
      ],
      "metadata": {
        "colab": {
          "base_uri": "https://localhost:8080/"
        },
        "id": "FEB9IM9Eukqn",
        "outputId": "f2b44724-6efc-4fb8-840d-9248a834baac"
      },
      "execution_count": 11,
      "outputs": [
        {
          "output_type": "execute_result",
          "data": {
            "text/plain": [
              "<keras.callbacks.History at 0x7f91202a14f0>"
            ]
          },
          "metadata": {},
          "execution_count": 11
        }
      ]
    },
    {
      "cell_type": "code",
      "source": [
        "model_1.evaluate(x,y)"
      ],
      "metadata": {
        "colab": {
          "base_uri": "https://localhost:8080/"
        },
        "id": "Smn291Anu9JG",
        "outputId": "d39d9237-742e-46a0-a0d5-b9c8ddbbe4d0"
      },
      "execution_count": 12,
      "outputs": [
        {
          "output_type": "stream",
          "name": "stdout",
          "text": [
            "32/32 [==============================] - 0s 2ms/step - loss: 0.6934 - accuracy: 0.4780\n"
          ]
        },
        {
          "output_type": "execute_result",
          "data": {
            "text/plain": [
              "[0.6934270262718201, 0.4779999852180481]"
            ]
          },
          "metadata": {},
          "execution_count": 12
        }
      ]
    },
    {
      "cell_type": "code",
      "source": [
        "model_2 = tf.keras.Sequential([\n",
        "    tf.keras.layers.Dense(1),\n",
        "    tf.keras.layers.Dense(1),\n",
        "])\n",
        "model_2.compile(loss = \"binary_crossentropy\",optimizer = tf.keras.optimizers.SGD(),metrics = ['accuracy'])"
      ],
      "metadata": {
        "id": "YKB123grvvrf"
      },
      "execution_count": 13,
      "outputs": []
    },
    {
      "cell_type": "code",
      "source": [
        "model_2.fit(x,y,epochs = 100,verbose = 0)"
      ],
      "metadata": {
        "colab": {
          "base_uri": "https://localhost:8080/"
        },
        "id": "yBwm2LBXwYqN",
        "outputId": "9038633a-edc0-4d29-9321-1c5549eec371"
      },
      "execution_count": 14,
      "outputs": [
        {
          "output_type": "execute_result",
          "data": {
            "text/plain": [
              "<keras.callbacks.History at 0x7f90d05a3670>"
            ]
          },
          "metadata": {},
          "execution_count": 14
        }
      ]
    },
    {
      "cell_type": "code",
      "source": [
        "model_2.evaluate(x,y)"
      ],
      "metadata": {
        "colab": {
          "base_uri": "https://localhost:8080/"
        },
        "id": "nvY36FjTwf91",
        "outputId": "6a093cf0-1ba7-4f17-816c-4c4b61dcb6f4"
      },
      "execution_count": 15,
      "outputs": [
        {
          "output_type": "stream",
          "name": "stdout",
          "text": [
            "32/32 [==============================] - 0s 2ms/step - loss: 0.6933 - accuracy: 0.5000\n"
          ]
        },
        {
          "output_type": "execute_result",
          "data": {
            "text/plain": [
              "[0.6933338642120361, 0.5]"
            ]
          },
          "metadata": {},
          "execution_count": 15
        }
      ]
    },
    {
      "cell_type": "code",
      "source": [
        "tf.random.set_seed(42)"
      ],
      "metadata": {
        "id": "Pd02w9eYwhB9"
      },
      "execution_count": 16,
      "outputs": []
    },
    {
      "cell_type": "markdown",
      "source": [
        "##Improving our model"
      ],
      "metadata": {
        "id": "1u5XNJKeWOG4"
      }
    },
    {
      "cell_type": "code",
      "source": [
        "model_3 = tf.keras.Sequential([\n",
        "    tf.keras.layers.Dense(100),\n",
        "    tf.keras.layers.Dense(10),\n",
        "    tf.keras.layers.Dense(1)\n",
        "])\n",
        "model_3.compile(loss = \"binary_crossentropy\",optimizer = tf.keras.optimizers.Adam(),metrics = ['accuracy'])"
      ],
      "metadata": {
        "id": "4TtqvLiRWTxk"
      },
      "execution_count": 17,
      "outputs": []
    },
    {
      "cell_type": "code",
      "source": [
        "model_3.fit(x,y,epochs = 100)"
      ],
      "metadata": {
        "colab": {
          "base_uri": "https://localhost:8080/"
        },
        "id": "jMxzEGDAWg7H",
        "outputId": "10f50b76-8f87-497c-dbf7-6197ac298d1d"
      },
      "execution_count": 18,
      "outputs": [
        {
          "output_type": "stream",
          "name": "stdout",
          "text": [
            "Epoch 1/100\n",
            "32/32 [==============================] - 1s 3ms/step - loss: 2.9659 - accuracy: 0.4490\n",
            "Epoch 2/100\n",
            "32/32 [==============================] - 0s 3ms/step - loss: 0.7231 - accuracy: 0.4370\n",
            "Epoch 3/100\n",
            "32/32 [==============================] - 0s 3ms/step - loss: 0.6972 - accuracy: 0.4690\n",
            "Epoch 4/100\n",
            "32/32 [==============================] - 0s 3ms/step - loss: 0.6954 - accuracy: 0.4630\n",
            "Epoch 5/100\n",
            "32/32 [==============================] - 0s 3ms/step - loss: 0.6943 - accuracy: 0.4750\n",
            "Epoch 6/100\n",
            "32/32 [==============================] - 0s 3ms/step - loss: 0.6941 - accuracy: 0.4750\n",
            "Epoch 7/100\n",
            "32/32 [==============================] - 0s 3ms/step - loss: 0.6939 - accuracy: 0.5040\n",
            "Epoch 8/100\n",
            "32/32 [==============================] - 0s 3ms/step - loss: 0.6946 - accuracy: 0.4980\n",
            "Epoch 9/100\n",
            "32/32 [==============================] - 0s 3ms/step - loss: 0.6943 - accuracy: 0.4890\n",
            "Epoch 10/100\n",
            "32/32 [==============================] - 0s 3ms/step - loss: 0.6944 - accuracy: 0.4500\n",
            "Epoch 11/100\n",
            "32/32 [==============================] - 0s 3ms/step - loss: 0.6951 - accuracy: 0.4450\n",
            "Epoch 12/100\n",
            "32/32 [==============================] - 0s 3ms/step - loss: 0.6946 - accuracy: 0.4870\n",
            "Epoch 13/100\n",
            "32/32 [==============================] - 0s 3ms/step - loss: 0.6955 - accuracy: 0.4900\n",
            "Epoch 14/100\n",
            "32/32 [==============================] - 0s 3ms/step - loss: 0.6950 - accuracy: 0.5120\n",
            "Epoch 15/100\n",
            "32/32 [==============================] - 0s 3ms/step - loss: 0.6956 - accuracy: 0.4590\n",
            "Epoch 16/100\n",
            "32/32 [==============================] - 0s 3ms/step - loss: 0.6942 - accuracy: 0.4810\n",
            "Epoch 17/100\n",
            "32/32 [==============================] - 0s 3ms/step - loss: 0.6975 - accuracy: 0.4950\n",
            "Epoch 18/100\n",
            "32/32 [==============================] - 0s 4ms/step - loss: 0.6945 - accuracy: 0.4590\n",
            "Epoch 19/100\n",
            "32/32 [==============================] - 0s 3ms/step - loss: 0.6952 - accuracy: 0.5310\n",
            "Epoch 20/100\n",
            "32/32 [==============================] - 0s 3ms/step - loss: 0.6955 - accuracy: 0.4570\n",
            "Epoch 21/100\n",
            "32/32 [==============================] - 0s 3ms/step - loss: 0.6955 - accuracy: 0.4930\n",
            "Epoch 22/100\n",
            "32/32 [==============================] - 0s 3ms/step - loss: 0.6948 - accuracy: 0.4350\n",
            "Epoch 23/100\n",
            "32/32 [==============================] - 0s 3ms/step - loss: 0.6944 - accuracy: 0.4970\n",
            "Epoch 24/100\n",
            "32/32 [==============================] - 0s 3ms/step - loss: 0.6963 - accuracy: 0.4680\n",
            "Epoch 25/100\n",
            "32/32 [==============================] - 0s 3ms/step - loss: 0.6973 - accuracy: 0.4960\n",
            "Epoch 26/100\n",
            "32/32 [==============================] - 0s 4ms/step - loss: 0.6973 - accuracy: 0.4860\n",
            "Epoch 27/100\n",
            "32/32 [==============================] - 0s 3ms/step - loss: 0.6963 - accuracy: 0.5050\n",
            "Epoch 28/100\n",
            "32/32 [==============================] - 0s 3ms/step - loss: 0.6945 - accuracy: 0.4700\n",
            "Epoch 29/100\n",
            "32/32 [==============================] - 0s 3ms/step - loss: 0.6973 - accuracy: 0.4790\n",
            "Epoch 30/100\n",
            "32/32 [==============================] - 0s 3ms/step - loss: 0.6997 - accuracy: 0.4780\n",
            "Epoch 31/100\n",
            "32/32 [==============================] - 0s 3ms/step - loss: 0.6950 - accuracy: 0.5020\n",
            "Epoch 32/100\n",
            "32/32 [==============================] - 0s 3ms/step - loss: 0.6965 - accuracy: 0.4760\n",
            "Epoch 33/100\n",
            "32/32 [==============================] - 0s 3ms/step - loss: 0.6956 - accuracy: 0.4540\n",
            "Epoch 34/100\n",
            "32/32 [==============================] - 0s 3ms/step - loss: 0.6972 - accuracy: 0.4820\n",
            "Epoch 35/100\n",
            "32/32 [==============================] - 0s 3ms/step - loss: 0.6960 - accuracy: 0.5060\n",
            "Epoch 36/100\n",
            "32/32 [==============================] - 0s 3ms/step - loss: 0.6946 - accuracy: 0.4690\n",
            "Epoch 37/100\n",
            "32/32 [==============================] - 0s 3ms/step - loss: 0.6952 - accuracy: 0.4860\n",
            "Epoch 38/100\n",
            "32/32 [==============================] - 0s 3ms/step - loss: 0.6974 - accuracy: 0.4990\n",
            "Epoch 39/100\n",
            "32/32 [==============================] - 0s 3ms/step - loss: 0.6949 - accuracy: 0.4690\n",
            "Epoch 40/100\n",
            "32/32 [==============================] - 0s 3ms/step - loss: 0.6965 - accuracy: 0.4990\n",
            "Epoch 41/100\n",
            "32/32 [==============================] - 0s 3ms/step - loss: 0.6979 - accuracy: 0.4870\n",
            "Epoch 42/100\n",
            "32/32 [==============================] - 0s 3ms/step - loss: 0.6995 - accuracy: 0.4700\n",
            "Epoch 43/100\n",
            "32/32 [==============================] - 0s 3ms/step - loss: 0.6957 - accuracy: 0.5000\n",
            "Epoch 44/100\n",
            "32/32 [==============================] - 0s 3ms/step - loss: 0.6981 - accuracy: 0.4840\n",
            "Epoch 45/100\n",
            "32/32 [==============================] - 0s 3ms/step - loss: 0.6964 - accuracy: 0.5100\n",
            "Epoch 46/100\n",
            "32/32 [==============================] - 0s 3ms/step - loss: 0.6949 - accuracy: 0.4720\n",
            "Epoch 47/100\n",
            "32/32 [==============================] - 0s 3ms/step - loss: 0.6974 - accuracy: 0.5160\n",
            "Epoch 48/100\n",
            "32/32 [==============================] - 0s 3ms/step - loss: 0.6966 - accuracy: 0.4820\n",
            "Epoch 49/100\n",
            "32/32 [==============================] - 0s 3ms/step - loss: 0.6976 - accuracy: 0.4870\n",
            "Epoch 50/100\n",
            "32/32 [==============================] - 0s 3ms/step - loss: 0.6971 - accuracy: 0.4600\n",
            "Epoch 51/100\n",
            "32/32 [==============================] - 0s 3ms/step - loss: 0.6980 - accuracy: 0.4800\n",
            "Epoch 52/100\n",
            "32/32 [==============================] - 0s 3ms/step - loss: 0.6962 - accuracy: 0.5020\n",
            "Epoch 53/100\n",
            "32/32 [==============================] - 0s 3ms/step - loss: 0.6972 - accuracy: 0.4950\n",
            "Epoch 54/100\n",
            "32/32 [==============================] - 0s 3ms/step - loss: 0.6992 - accuracy: 0.5030\n",
            "Epoch 55/100\n",
            "32/32 [==============================] - 0s 3ms/step - loss: 0.6953 - accuracy: 0.5240\n",
            "Epoch 56/100\n",
            "32/32 [==============================] - 0s 3ms/step - loss: 0.6966 - accuracy: 0.4910\n",
            "Epoch 57/100\n",
            "32/32 [==============================] - 0s 3ms/step - loss: 0.6981 - accuracy: 0.4730\n",
            "Epoch 58/100\n",
            "32/32 [==============================] - 0s 3ms/step - loss: 0.6968 - accuracy: 0.4980\n",
            "Epoch 59/100\n",
            "32/32 [==============================] - 0s 3ms/step - loss: 0.7004 - accuracy: 0.4890\n",
            "Epoch 60/100\n",
            "32/32 [==============================] - 0s 3ms/step - loss: 0.7010 - accuracy: 0.4870\n",
            "Epoch 61/100\n",
            "32/32 [==============================] - 0s 3ms/step - loss: 0.6996 - accuracy: 0.4690\n",
            "Epoch 62/100\n",
            "32/32 [==============================] - 0s 3ms/step - loss: 0.6965 - accuracy: 0.4960\n",
            "Epoch 63/100\n",
            "32/32 [==============================] - 0s 3ms/step - loss: 0.6948 - accuracy: 0.4870\n",
            "Epoch 64/100\n",
            "32/32 [==============================] - 0s 3ms/step - loss: 0.6960 - accuracy: 0.4930\n",
            "Epoch 65/100\n",
            "32/32 [==============================] - 0s 3ms/step - loss: 0.6996 - accuracy: 0.4810\n",
            "Epoch 66/100\n",
            "32/32 [==============================] - 0s 3ms/step - loss: 0.6965 - accuracy: 0.5010\n",
            "Epoch 67/100\n",
            "32/32 [==============================] - 0s 3ms/step - loss: 0.6977 - accuracy: 0.4500\n",
            "Epoch 68/100\n",
            "32/32 [==============================] - 0s 3ms/step - loss: 0.6958 - accuracy: 0.5020\n",
            "Epoch 69/100\n",
            "32/32 [==============================] - 0s 3ms/step - loss: 0.6953 - accuracy: 0.5220\n",
            "Epoch 70/100\n",
            "32/32 [==============================] - 0s 3ms/step - loss: 0.6988 - accuracy: 0.4650\n",
            "Epoch 71/100\n",
            "32/32 [==============================] - 0s 3ms/step - loss: 0.6974 - accuracy: 0.4660\n",
            "Epoch 72/100\n",
            "32/32 [==============================] - 0s 3ms/step - loss: 0.6966 - accuracy: 0.5010\n",
            "Epoch 73/100\n",
            "32/32 [==============================] - 0s 3ms/step - loss: 0.6962 - accuracy: 0.4930\n",
            "Epoch 74/100\n",
            "32/32 [==============================] - 0s 3ms/step - loss: 0.6960 - accuracy: 0.5140\n",
            "Epoch 75/100\n",
            "32/32 [==============================] - 0s 3ms/step - loss: 0.6963 - accuracy: 0.4990\n",
            "Epoch 76/100\n",
            "32/32 [==============================] - 0s 3ms/step - loss: 0.6980 - accuracy: 0.4840\n",
            "Epoch 77/100\n",
            "32/32 [==============================] - 0s 3ms/step - loss: 0.6971 - accuracy: 0.5040\n",
            "Epoch 78/100\n",
            "32/32 [==============================] - 0s 3ms/step - loss: 0.6972 - accuracy: 0.4720\n",
            "Epoch 79/100\n",
            "32/32 [==============================] - 0s 3ms/step - loss: 0.7008 - accuracy: 0.5100\n",
            "Epoch 80/100\n",
            "32/32 [==============================] - 0s 3ms/step - loss: 0.6980 - accuracy: 0.4940\n",
            "Epoch 81/100\n",
            "32/32 [==============================] - 0s 3ms/step - loss: 0.6979 - accuracy: 0.5030\n",
            "Epoch 82/100\n",
            "32/32 [==============================] - 0s 3ms/step - loss: 0.6968 - accuracy: 0.4810\n",
            "Epoch 83/100\n",
            "32/32 [==============================] - 0s 3ms/step - loss: 0.7002 - accuracy: 0.4480\n",
            "Epoch 84/100\n",
            "32/32 [==============================] - 0s 3ms/step - loss: 0.6963 - accuracy: 0.4980\n",
            "Epoch 85/100\n",
            "32/32 [==============================] - 0s 3ms/step - loss: 0.6967 - accuracy: 0.4600\n",
            "Epoch 86/100\n",
            "32/32 [==============================] - 0s 3ms/step - loss: 0.7002 - accuracy: 0.4900\n",
            "Epoch 87/100\n",
            "32/32 [==============================] - 0s 3ms/step - loss: 0.6977 - accuracy: 0.4530\n",
            "Epoch 88/100\n",
            "32/32 [==============================] - 0s 3ms/step - loss: 0.6981 - accuracy: 0.4600\n",
            "Epoch 89/100\n",
            "32/32 [==============================] - 0s 3ms/step - loss: 0.6979 - accuracy: 0.4760\n",
            "Epoch 90/100\n",
            "32/32 [==============================] - 0s 3ms/step - loss: 0.6980 - accuracy: 0.4630\n",
            "Epoch 91/100\n",
            "32/32 [==============================] - 0s 3ms/step - loss: 0.6984 - accuracy: 0.4950\n",
            "Epoch 92/100\n",
            "32/32 [==============================] - 0s 3ms/step - loss: 0.6988 - accuracy: 0.4760\n",
            "Epoch 93/100\n",
            "32/32 [==============================] - 0s 3ms/step - loss: 0.6982 - accuracy: 0.4690\n",
            "Epoch 94/100\n",
            "32/32 [==============================] - 0s 3ms/step - loss: 0.7005 - accuracy: 0.4790\n",
            "Epoch 95/100\n",
            "32/32 [==============================] - 0s 3ms/step - loss: 0.6974 - accuracy: 0.4520\n",
            "Epoch 96/100\n",
            "32/32 [==============================] - 0s 3ms/step - loss: 0.6980 - accuracy: 0.4790\n",
            "Epoch 97/100\n",
            "32/32 [==============================] - 0s 3ms/step - loss: 0.6973 - accuracy: 0.4580\n",
            "Epoch 98/100\n",
            "32/32 [==============================] - 0s 3ms/step - loss: 0.6989 - accuracy: 0.4790\n",
            "Epoch 99/100\n",
            "32/32 [==============================] - 0s 3ms/step - loss: 0.6976 - accuracy: 0.5090\n",
            "Epoch 100/100\n",
            "32/32 [==============================] - 0s 3ms/step - loss: 0.6966 - accuracy: 0.4870\n"
          ]
        },
        {
          "output_type": "execute_result",
          "data": {
            "text/plain": [
              "<keras.callbacks.History at 0x7f90d04cfe20>"
            ]
          },
          "metadata": {},
          "execution_count": 18
        }
      ]
    },
    {
      "cell_type": "code",
      "source": [
        "model_3.evaluate(x,y)"
      ],
      "metadata": {
        "colab": {
          "base_uri": "https://localhost:8080/"
        },
        "id": "G4id7QbeWwgG",
        "outputId": "8429df91-9cc6-483a-8784-3fce0c388fc3"
      },
      "execution_count": 19,
      "outputs": [
        {
          "output_type": "stream",
          "name": "stdout",
          "text": [
            "32/32 [==============================] - 0s 2ms/step - loss: 0.6980 - accuracy: 0.5090\n"
          ]
        },
        {
          "output_type": "execute_result",
          "data": {
            "text/plain": [
              "[0.6980189681053162, 0.5090000033378601]"
            ]
          },
          "metadata": {},
          "execution_count": 19
        }
      ]
    },
    {
      "cell_type": "code",
      "source": [
        "model_3.predict(x)"
      ],
      "metadata": {
        "colab": {
          "base_uri": "https://localhost:8080/"
        },
        "id": "kWZvoPlIW4pX",
        "outputId": "8b8bd5a0-9994-4114-e85c-68a9e4cef17c"
      },
      "execution_count": 20,
      "outputs": [
        {
          "output_type": "stream",
          "name": "stdout",
          "text": [
            "32/32 [==============================] - 0s 1ms/step\n"
          ]
        },
        {
          "output_type": "execute_result",
          "data": {
            "text/plain": [
              "array([[0.4879788 ],\n",
              "       [0.55872136],\n",
              "       [0.562768  ],\n",
              "       [0.57044655],\n",
              "       [0.4413177 ],\n",
              "       [0.5738094 ],\n",
              "       [0.557647  ],\n",
              "       [0.48250762],\n",
              "       [0.4773952 ],\n",
              "       [0.5750266 ],\n",
              "       [0.5146472 ],\n",
              "       [0.53095406],\n",
              "       [0.5643649 ],\n",
              "       [0.45786667],\n",
              "       [0.4504813 ],\n",
              "       [0.46118462],\n",
              "       [0.5403363 ],\n",
              "       [0.46368155],\n",
              "       [0.547795  ],\n",
              "       [0.5035371 ],\n",
              "       [0.5063538 ],\n",
              "       [0.5876871 ],\n",
              "       [0.45886245],\n",
              "       [0.49128187],\n",
              "       [0.5830687 ],\n",
              "       [0.57025194],\n",
              "       [0.5524462 ],\n",
              "       [0.46319497],\n",
              "       [0.45762715],\n",
              "       [0.4543819 ],\n",
              "       [0.47853062],\n",
              "       [0.5785487 ],\n",
              "       [0.55546117],\n",
              "       [0.46345058],\n",
              "       [0.4583143 ],\n",
              "       [0.58975554],\n",
              "       [0.57238024],\n",
              "       [0.52979374],\n",
              "       [0.4586022 ],\n",
              "       [0.5110104 ],\n",
              "       [0.49972513],\n",
              "       [0.54636717],\n",
              "       [0.5107672 ],\n",
              "       [0.4579871 ],\n",
              "       [0.52209747],\n",
              "       [0.5386611 ],\n",
              "       [0.44865024],\n",
              "       [0.54436755],\n",
              "       [0.43544197],\n",
              "       [0.4936305 ],\n",
              "       [0.52276033],\n",
              "       [0.46450853],\n",
              "       [0.5528675 ],\n",
              "       [0.5225191 ],\n",
              "       [0.48314878],\n",
              "       [0.48770523],\n",
              "       [0.55283266],\n",
              "       [0.47156692],\n",
              "       [0.58105   ],\n",
              "       [0.50450367],\n",
              "       [0.5185511 ],\n",
              "       [0.5021415 ],\n",
              "       [0.50160754],\n",
              "       [0.5851848 ],\n",
              "       [0.5440359 ],\n",
              "       [0.5728103 ],\n",
              "       [0.5664939 ],\n",
              "       [0.47381324],\n",
              "       [0.5214849 ],\n",
              "       [0.5014738 ],\n",
              "       [0.5551032 ],\n",
              "       [0.45800078],\n",
              "       [0.533176  ],\n",
              "       [0.55731976],\n",
              "       [0.5251128 ],\n",
              "       [0.53067523],\n",
              "       [0.56338245],\n",
              "       [0.49422815],\n",
              "       [0.54037976],\n",
              "       [0.5145037 ],\n",
              "       [0.56711125],\n",
              "       [0.5163203 ],\n",
              "       [0.5374881 ],\n",
              "       [0.5224242 ],\n",
              "       [0.50226784],\n",
              "       [0.5076969 ],\n",
              "       [0.4697534 ],\n",
              "       [0.5679621 ],\n",
              "       [0.55285263],\n",
              "       [0.49885356],\n",
              "       [0.45164463],\n",
              "       [0.44188324],\n",
              "       [0.48667228],\n",
              "       [0.58233464],\n",
              "       [0.5300384 ],\n",
              "       [0.4340549 ],\n",
              "       [0.544973  ],\n",
              "       [0.5427734 ],\n",
              "       [0.5179467 ],\n",
              "       [0.49621648],\n",
              "       [0.5633935 ],\n",
              "       [0.47124153],\n",
              "       [0.4535296 ],\n",
              "       [0.5546841 ],\n",
              "       [0.5603379 ],\n",
              "       [0.5690856 ],\n",
              "       [0.5103525 ],\n",
              "       [0.45556885],\n",
              "       [0.58249456],\n",
              "       [0.45625973],\n",
              "       [0.4907136 ],\n",
              "       [0.5050269 ],\n",
              "       [0.46991348],\n",
              "       [0.5086305 ],\n",
              "       [0.53654   ],\n",
              "       [0.43832088],\n",
              "       [0.58673716],\n",
              "       [0.46415025],\n",
              "       [0.49697003],\n",
              "       [0.5250518 ],\n",
              "       [0.46017683],\n",
              "       [0.43710065],\n",
              "       [0.5701597 ],\n",
              "       [0.558018  ],\n",
              "       [0.57435966],\n",
              "       [0.51376677],\n",
              "       [0.5269607 ],\n",
              "       [0.4419869 ],\n",
              "       [0.4720073 ],\n",
              "       [0.52193195],\n",
              "       [0.54070824],\n",
              "       [0.48075792],\n",
              "       [0.5478406 ],\n",
              "       [0.46940842],\n",
              "       [0.4908721 ],\n",
              "       [0.51215166],\n",
              "       [0.56369334],\n",
              "       [0.58088773],\n",
              "       [0.48335826],\n",
              "       [0.5280513 ],\n",
              "       [0.49823684],\n",
              "       [0.55989397],\n",
              "       [0.56649554],\n",
              "       [0.5402061 ],\n",
              "       [0.46060994],\n",
              "       [0.4532405 ],\n",
              "       [0.5119662 ],\n",
              "       [0.5650192 ],\n",
              "       [0.50314987],\n",
              "       [0.4998632 ],\n",
              "       [0.5644648 ],\n",
              "       [0.58119106],\n",
              "       [0.46355954],\n",
              "       [0.4401228 ],\n",
              "       [0.45459595],\n",
              "       [0.44468787],\n",
              "       [0.5126658 ],\n",
              "       [0.56830627],\n",
              "       [0.5154396 ],\n",
              "       [0.46162686],\n",
              "       [0.5428052 ],\n",
              "       [0.54097563],\n",
              "       [0.5627582 ],\n",
              "       [0.57011944],\n",
              "       [0.47409806],\n",
              "       [0.5702602 ],\n",
              "       [0.5229438 ],\n",
              "       [0.57258236],\n",
              "       [0.5085085 ],\n",
              "       [0.5129676 ],\n",
              "       [0.46632212],\n",
              "       [0.45220545],\n",
              "       [0.55755603],\n",
              "       [0.46759748],\n",
              "       [0.45045388],\n",
              "       [0.4658025 ],\n",
              "       [0.5562067 ],\n",
              "       [0.55398124],\n",
              "       [0.51640606],\n",
              "       [0.57114697],\n",
              "       [0.4548175 ],\n",
              "       [0.571636  ],\n",
              "       [0.45597807],\n",
              "       [0.49003065],\n",
              "       [0.49064362],\n",
              "       [0.57557124],\n",
              "       [0.47027272],\n",
              "       [0.46109375],\n",
              "       [0.45438474],\n",
              "       [0.5548695 ],\n",
              "       [0.45588052],\n",
              "       [0.49816856],\n",
              "       [0.5690727 ],\n",
              "       [0.58391416],\n",
              "       [0.58304256],\n",
              "       [0.44682398],\n",
              "       [0.48933384],\n",
              "       [0.5833356 ],\n",
              "       [0.5498224 ],\n",
              "       [0.5288149 ],\n",
              "       [0.485113  ],\n",
              "       [0.49472037],\n",
              "       [0.5715704 ],\n",
              "       [0.51198137],\n",
              "       [0.4944634 ],\n",
              "       [0.53867126],\n",
              "       [0.5863818 ],\n",
              "       [0.45264015],\n",
              "       [0.4611525 ],\n",
              "       [0.502217  ],\n",
              "       [0.5221607 ],\n",
              "       [0.5792104 ],\n",
              "       [0.45404467],\n",
              "       [0.4980705 ],\n",
              "       [0.5638174 ],\n",
              "       [0.4885735 ],\n",
              "       [0.57054394],\n",
              "       [0.5621736 ],\n",
              "       [0.45630503],\n",
              "       [0.56562805],\n",
              "       [0.518029  ],\n",
              "       [0.5618263 ],\n",
              "       [0.4615327 ],\n",
              "       [0.50302076],\n",
              "       [0.45772994],\n",
              "       [0.46396878],\n",
              "       [0.5020242 ],\n",
              "       [0.47392178],\n",
              "       [0.45523807],\n",
              "       [0.4967581 ],\n",
              "       [0.48326424],\n",
              "       [0.47114256],\n",
              "       [0.4538628 ],\n",
              "       [0.5280091 ],\n",
              "       [0.49031377],\n",
              "       [0.48832452],\n",
              "       [0.5749595 ],\n",
              "       [0.45282504],\n",
              "       [0.5891039 ],\n",
              "       [0.49273795],\n",
              "       [0.4662227 ],\n",
              "       [0.5826177 ],\n",
              "       [0.48133186],\n",
              "       [0.5209824 ],\n",
              "       [0.52057165],\n",
              "       [0.55987185],\n",
              "       [0.44005916],\n",
              "       [0.52899617],\n",
              "       [0.5333007 ],\n",
              "       [0.5325405 ],\n",
              "       [0.53265935],\n",
              "       [0.4672647 ],\n",
              "       [0.5294034 ],\n",
              "       [0.4624599 ],\n",
              "       [0.44944292],\n",
              "       [0.50141066],\n",
              "       [0.48380166],\n",
              "       [0.45149347],\n",
              "       [0.4511296 ],\n",
              "       [0.46843916],\n",
              "       [0.565296  ],\n",
              "       [0.4467058 ],\n",
              "       [0.54403496],\n",
              "       [0.5524981 ],\n",
              "       [0.4709063 ],\n",
              "       [0.4703252 ],\n",
              "       [0.5220401 ],\n",
              "       [0.45566893],\n",
              "       [0.55922997],\n",
              "       [0.45280525],\n",
              "       [0.4549821 ],\n",
              "       [0.5642507 ],\n",
              "       [0.45938727],\n",
              "       [0.5629334 ],\n",
              "       [0.48915735],\n",
              "       [0.47753638],\n",
              "       [0.58793736],\n",
              "       [0.54672384],\n",
              "       [0.5320101 ],\n",
              "       [0.52945405],\n",
              "       [0.53125197],\n",
              "       [0.52453053],\n",
              "       [0.5685846 ],\n",
              "       [0.53048176],\n",
              "       [0.5829289 ],\n",
              "       [0.56955636],\n",
              "       [0.47295478],\n",
              "       [0.44156712],\n",
              "       [0.57412153],\n",
              "       [0.45649636],\n",
              "       [0.45383352],\n",
              "       [0.52287835],\n",
              "       [0.4728888 ],\n",
              "       [0.4438995 ],\n",
              "       [0.46406084],\n",
              "       [0.4435302 ],\n",
              "       [0.45254394],\n",
              "       [0.4425607 ],\n",
              "       [0.46985796],\n",
              "       [0.58316183],\n",
              "       [0.4984207 ],\n",
              "       [0.4396711 ],\n",
              "       [0.4541438 ],\n",
              "       [0.44103688],\n",
              "       [0.5354712 ],\n",
              "       [0.4536723 ],\n",
              "       [0.48406753],\n",
              "       [0.52345574],\n",
              "       [0.45328325],\n",
              "       [0.5201342 ],\n",
              "       [0.5395803 ],\n",
              "       [0.49044853],\n",
              "       [0.5290097 ],\n",
              "       [0.5670007 ],\n",
              "       [0.44325694],\n",
              "       [0.43976507],\n",
              "       [0.57382274],\n",
              "       [0.47398564],\n",
              "       [0.56533337],\n",
              "       [0.5797729 ],\n",
              "       [0.52991295],\n",
              "       [0.5774746 ],\n",
              "       [0.51962644],\n",
              "       [0.5577778 ],\n",
              "       [0.5343541 ],\n",
              "       [0.47747013],\n",
              "       [0.47940364],\n",
              "       [0.45135632],\n",
              "       [0.5701777 ],\n",
              "       [0.57024115],\n",
              "       [0.5681454 ],\n",
              "       [0.5061918 ],\n",
              "       [0.56356215],\n",
              "       [0.55336636],\n",
              "       [0.46101555],\n",
              "       [0.50689924],\n",
              "       [0.57054025],\n",
              "       [0.50696623],\n",
              "       [0.4651889 ],\n",
              "       [0.49290147],\n",
              "       [0.4474734 ],\n",
              "       [0.44248635],\n",
              "       [0.58651114],\n",
              "       [0.5664705 ],\n",
              "       [0.45076263],\n",
              "       [0.44001797],\n",
              "       [0.50848603],\n",
              "       [0.45880806],\n",
              "       [0.54348963],\n",
              "       [0.4521336 ],\n",
              "       [0.5896786 ],\n",
              "       [0.5434916 ],\n",
              "       [0.46230143],\n",
              "       [0.52580523],\n",
              "       [0.5275228 ],\n",
              "       [0.57390845],\n",
              "       [0.522013  ],\n",
              "       [0.43615308],\n",
              "       [0.4924539 ],\n",
              "       [0.5764631 ],\n",
              "       [0.440317  ],\n",
              "       [0.5305379 ],\n",
              "       [0.57508737],\n",
              "       [0.44149813],\n",
              "       [0.58492   ],\n",
              "       [0.4851722 ],\n",
              "       [0.538897  ],\n",
              "       [0.5874015 ],\n",
              "       [0.4488703 ],\n",
              "       [0.47669554],\n",
              "       [0.5844953 ],\n",
              "       [0.5695096 ],\n",
              "       [0.57748044],\n",
              "       [0.5888507 ],\n",
              "       [0.46744773],\n",
              "       [0.5555096 ],\n",
              "       [0.45104596],\n",
              "       [0.52996063],\n",
              "       [0.45609707],\n",
              "       [0.5099311 ],\n",
              "       [0.5659363 ],\n",
              "       [0.5802763 ],\n",
              "       [0.5287158 ],\n",
              "       [0.5713102 ],\n",
              "       [0.5785203 ],\n",
              "       [0.4554677 ],\n",
              "       [0.47774056],\n",
              "       [0.57022333],\n",
              "       [0.46481356],\n",
              "       [0.5396971 ],\n",
              "       [0.5878088 ],\n",
              "       [0.49677405],\n",
              "       [0.57069707],\n",
              "       [0.5545284 ],\n",
              "       [0.5330523 ],\n",
              "       [0.51426613],\n",
              "       [0.44621626],\n",
              "       [0.4401486 ],\n",
              "       [0.55025566],\n",
              "       [0.47013715],\n",
              "       [0.4792986 ],\n",
              "       [0.44497296],\n",
              "       [0.4981353 ],\n",
              "       [0.4932285 ],\n",
              "       [0.55051833],\n",
              "       [0.5695233 ],\n",
              "       [0.45503086],\n",
              "       [0.49205866],\n",
              "       [0.50753045],\n",
              "       [0.47380865],\n",
              "       [0.48525172],\n",
              "       [0.4517239 ],\n",
              "       [0.5326529 ],\n",
              "       [0.54842615],\n",
              "       [0.5080073 ],\n",
              "       [0.5704291 ],\n",
              "       [0.571957  ],\n",
              "       [0.4962609 ],\n",
              "       [0.4850822 ],\n",
              "       [0.44146565],\n",
              "       [0.47935033],\n",
              "       [0.5679309 ],\n",
              "       [0.45135453],\n",
              "       [0.5231937 ],\n",
              "       [0.43777236],\n",
              "       [0.4637656 ],\n",
              "       [0.5352334 ],\n",
              "       [0.51354057],\n",
              "       [0.56528187],\n",
              "       [0.5467284 ],\n",
              "       [0.5352392 ],\n",
              "       [0.46593824],\n",
              "       [0.4735372 ],\n",
              "       [0.4424114 ],\n",
              "       [0.54116255],\n",
              "       [0.471723  ],\n",
              "       [0.58875585],\n",
              "       [0.46100107],\n",
              "       [0.46452028],\n",
              "       [0.5508249 ],\n",
              "       [0.5772796 ],\n",
              "       [0.5229754 ],\n",
              "       [0.45892844],\n",
              "       [0.5712916 ],\n",
              "       [0.50274485],\n",
              "       [0.52746004],\n",
              "       [0.5585104 ],\n",
              "       [0.5864703 ],\n",
              "       [0.5728624 ],\n",
              "       [0.57111937],\n",
              "       [0.53217953],\n",
              "       [0.46937764],\n",
              "       [0.44534826],\n",
              "       [0.5849367 ],\n",
              "       [0.56211054],\n",
              "       [0.5639497 ],\n",
              "       [0.46231675],\n",
              "       [0.57209104],\n",
              "       [0.45931864],\n",
              "       [0.4415106 ],\n",
              "       [0.52439356],\n",
              "       [0.5570957 ],\n",
              "       [0.5383372 ],\n",
              "       [0.45819807],\n",
              "       [0.4481973 ],\n",
              "       [0.55492634],\n",
              "       [0.56076473],\n",
              "       [0.43939427],\n",
              "       [0.48627424],\n",
              "       [0.44142675],\n",
              "       [0.44690463],\n",
              "       [0.5393664 ],\n",
              "       [0.45071173],\n",
              "       [0.5388897 ],\n",
              "       [0.48368576],\n",
              "       [0.4654534 ],\n",
              "       [0.45440644],\n",
              "       [0.45249453],\n",
              "       [0.5478132 ],\n",
              "       [0.53988993],\n",
              "       [0.5464095 ],\n",
              "       [0.54451936],\n",
              "       [0.47653726],\n",
              "       [0.44572565],\n",
              "       [0.4951139 ],\n",
              "       [0.49546552],\n",
              "       [0.49819496],\n",
              "       [0.48914838],\n",
              "       [0.5862856 ],\n",
              "       [0.45875728],\n",
              "       [0.46313542],\n",
              "       [0.5428279 ],\n",
              "       [0.5491832 ],\n",
              "       [0.55181456],\n",
              "       [0.44193223],\n",
              "       [0.5848684 ],\n",
              "       [0.44037622],\n",
              "       [0.44285467],\n",
              "       [0.4727753 ],\n",
              "       [0.46436676],\n",
              "       [0.5760215 ],\n",
              "       [0.58660585],\n",
              "       [0.44463032],\n",
              "       [0.45414162],\n",
              "       [0.52378786],\n",
              "       [0.456611  ],\n",
              "       [0.5711647 ],\n",
              "       [0.4526187 ],\n",
              "       [0.458768  ],\n",
              "       [0.55265886],\n",
              "       [0.5553389 ],\n",
              "       [0.49858686],\n",
              "       [0.48813087],\n",
              "       [0.47333023],\n",
              "       [0.4974095 ],\n",
              "       [0.54499197],\n",
              "       [0.58093184],\n",
              "       [0.59276694],\n",
              "       [0.46496406],\n",
              "       [0.48062313],\n",
              "       [0.47065586],\n",
              "       [0.5689621 ],\n",
              "       [0.47914445],\n",
              "       [0.48469418],\n",
              "       [0.4409667 ],\n",
              "       [0.5059478 ],\n",
              "       [0.49643147],\n",
              "       [0.5886514 ],\n",
              "       [0.55484515],\n",
              "       [0.54514325],\n",
              "       [0.51041996],\n",
              "       [0.52250487],\n",
              "       [0.55718756],\n",
              "       [0.53530633],\n",
              "       [0.4840185 ],\n",
              "       [0.44081926],\n",
              "       [0.582937  ],\n",
              "       [0.5275478 ],\n",
              "       [0.56104326],\n",
              "       [0.44076583],\n",
              "       [0.5882189 ],\n",
              "       [0.5455874 ],\n",
              "       [0.568379  ],\n",
              "       [0.45777288],\n",
              "       [0.5642611 ],\n",
              "       [0.45289195],\n",
              "       [0.47856545],\n",
              "       [0.5024175 ],\n",
              "       [0.53596944],\n",
              "       [0.5664747 ],\n",
              "       [0.5630398 ],\n",
              "       [0.44746804],\n",
              "       [0.5724429 ],\n",
              "       [0.50977737],\n",
              "       [0.47652647],\n",
              "       [0.4555895 ],\n",
              "       [0.46073252],\n",
              "       [0.54829985],\n",
              "       [0.5018482 ],\n",
              "       [0.47781384],\n",
              "       [0.58562315],\n",
              "       [0.47009686],\n",
              "       [0.496117  ],\n",
              "       [0.55965567],\n",
              "       [0.55065465],\n",
              "       [0.43626463],\n",
              "       [0.5741367 ],\n",
              "       [0.51323056],\n",
              "       [0.4855283 ],\n",
              "       [0.45605528],\n",
              "       [0.5802415 ],\n",
              "       [0.56480867],\n",
              "       [0.530127  ],\n",
              "       [0.5092101 ],\n",
              "       [0.47543475],\n",
              "       [0.4537029 ],\n",
              "       [0.57522565],\n",
              "       [0.4425824 ],\n",
              "       [0.44679338],\n",
              "       [0.55882865],\n",
              "       [0.50154227],\n",
              "       [0.4805476 ],\n",
              "       [0.5085405 ],\n",
              "       [0.526326  ],\n",
              "       [0.51618254],\n",
              "       [0.44321692],\n",
              "       [0.49862438],\n",
              "       [0.55297863],\n",
              "       [0.49550396],\n",
              "       [0.5860066 ],\n",
              "       [0.5644763 ],\n",
              "       [0.49925345],\n",
              "       [0.57269555],\n",
              "       [0.55042183],\n",
              "       [0.47585523],\n",
              "       [0.5802745 ],\n",
              "       [0.5308375 ],\n",
              "       [0.54513514],\n",
              "       [0.5229109 ],\n",
              "       [0.55985665],\n",
              "       [0.47283012],\n",
              "       [0.5698838 ],\n",
              "       [0.49908736],\n",
              "       [0.5566671 ],\n",
              "       [0.5679299 ],\n",
              "       [0.4588338 ],\n",
              "       [0.58805066],\n",
              "       [0.5618082 ],\n",
              "       [0.5554851 ],\n",
              "       [0.54769343],\n",
              "       [0.58405405],\n",
              "       [0.5186468 ],\n",
              "       [0.5422479 ],\n",
              "       [0.569338  ],\n",
              "       [0.5676663 ],\n",
              "       [0.5735383 ],\n",
              "       [0.45923865],\n",
              "       [0.482804  ],\n",
              "       [0.46375284],\n",
              "       [0.4970346 ],\n",
              "       [0.45596373],\n",
              "       [0.5798626 ],\n",
              "       [0.4793286 ],\n",
              "       [0.583279  ],\n",
              "       [0.4752442 ],\n",
              "       [0.47972023],\n",
              "       [0.50046724],\n",
              "       [0.46364802],\n",
              "       [0.45268744],\n",
              "       [0.4827547 ],\n",
              "       [0.45672426],\n",
              "       [0.44714123],\n",
              "       [0.5377869 ],\n",
              "       [0.56605214],\n",
              "       [0.46661818],\n",
              "       [0.5754492 ],\n",
              "       [0.484706  ],\n",
              "       [0.4530529 ],\n",
              "       [0.43734825],\n",
              "       [0.4564133 ],\n",
              "       [0.4625617 ],\n",
              "       [0.57586247],\n",
              "       [0.4899145 ],\n",
              "       [0.4569231 ],\n",
              "       [0.4583138 ],\n",
              "       [0.44118872],\n",
              "       [0.45950517],\n",
              "       [0.48354614],\n",
              "       [0.5687641 ],\n",
              "       [0.49051866],\n",
              "       [0.5814477 ],\n",
              "       [0.48464796],\n",
              "       [0.47537163],\n",
              "       [0.4753357 ],\n",
              "       [0.45521176],\n",
              "       [0.4963811 ],\n",
              "       [0.53066754],\n",
              "       [0.4588894 ],\n",
              "       [0.5858017 ],\n",
              "       [0.4610133 ],\n",
              "       [0.5801263 ],\n",
              "       [0.522131  ],\n",
              "       [0.46760124],\n",
              "       [0.55033517],\n",
              "       [0.5579165 ],\n",
              "       [0.5806294 ],\n",
              "       [0.5710065 ],\n",
              "       [0.5485378 ],\n",
              "       [0.44393414],\n",
              "       [0.43613133],\n",
              "       [0.55062795],\n",
              "       [0.53208935],\n",
              "       [0.5342646 ],\n",
              "       [0.57249266],\n",
              "       [0.56600726],\n",
              "       [0.50819474],\n",
              "       [0.5819746 ],\n",
              "       [0.44368914],\n",
              "       [0.44981506],\n",
              "       [0.58143586],\n",
              "       [0.56713384],\n",
              "       [0.4900515 ],\n",
              "       [0.54552305],\n",
              "       [0.46924362],\n",
              "       [0.51446795],\n",
              "       [0.48764712],\n",
              "       [0.43894744],\n",
              "       [0.5713751 ],\n",
              "       [0.56133276],\n",
              "       [0.51666903],\n",
              "       [0.55317825],\n",
              "       [0.52117276],\n",
              "       [0.55844223],\n",
              "       [0.5638566 ],\n",
              "       [0.4625723 ],\n",
              "       [0.55598676],\n",
              "       [0.546802  ],\n",
              "       [0.5239559 ],\n",
              "       [0.44204533],\n",
              "       [0.58122855],\n",
              "       [0.5255964 ],\n",
              "       [0.5590939 ],\n",
              "       [0.45784914],\n",
              "       [0.50411606],\n",
              "       [0.46541187],\n",
              "       [0.45322245],\n",
              "       [0.5811361 ],\n",
              "       [0.5756982 ],\n",
              "       [0.56257445],\n",
              "       [0.45377192],\n",
              "       [0.55752605],\n",
              "       [0.56670785],\n",
              "       [0.47748235],\n",
              "       [0.44579476],\n",
              "       [0.49774662],\n",
              "       [0.5852512 ],\n",
              "       [0.567454  ],\n",
              "       [0.48101726],\n",
              "       [0.548848  ],\n",
              "       [0.57872826],\n",
              "       [0.4559055 ],\n",
              "       [0.58519715],\n",
              "       [0.5475754 ],\n",
              "       [0.54045177],\n",
              "       [0.5272946 ],\n",
              "       [0.44277823],\n",
              "       [0.5662963 ],\n",
              "       [0.5859676 ],\n",
              "       [0.5851078 ],\n",
              "       [0.43628603],\n",
              "       [0.5664882 ],\n",
              "       [0.44193965],\n",
              "       [0.4554309 ],\n",
              "       [0.5434114 ],\n",
              "       [0.46127933],\n",
              "       [0.49505228],\n",
              "       [0.46479663],\n",
              "       [0.56483775],\n",
              "       [0.5635358 ],\n",
              "       [0.4471446 ],\n",
              "       [0.5302827 ],\n",
              "       [0.5421549 ],\n",
              "       [0.56184155],\n",
              "       [0.45785502],\n",
              "       [0.58228326],\n",
              "       [0.5617692 ],\n",
              "       [0.45588154],\n",
              "       [0.54820347],\n",
              "       [0.51762855],\n",
              "       [0.45343396],\n",
              "       [0.5543879 ],\n",
              "       [0.46649522],\n",
              "       [0.54841655],\n",
              "       [0.4528663 ],\n",
              "       [0.46356684],\n",
              "       [0.47364503],\n",
              "       [0.54745334],\n",
              "       [0.5046424 ],\n",
              "       [0.4421659 ],\n",
              "       [0.4595326 ],\n",
              "       [0.5598737 ],\n",
              "       [0.5709756 ],\n",
              "       [0.5777355 ],\n",
              "       [0.4735431 ],\n",
              "       [0.54649836],\n",
              "       [0.56897235],\n",
              "       [0.46025553],\n",
              "       [0.4676828 ],\n",
              "       [0.48938426],\n",
              "       [0.5741468 ],\n",
              "       [0.5303177 ],\n",
              "       [0.5712442 ],\n",
              "       [0.50082874],\n",
              "       [0.56271976],\n",
              "       [0.44115585],\n",
              "       [0.45809367],\n",
              "       [0.5718111 ],\n",
              "       [0.46978733],\n",
              "       [0.55257493],\n",
              "       [0.5505176 ],\n",
              "       [0.5579094 ],\n",
              "       [0.55923516],\n",
              "       [0.5342133 ],\n",
              "       [0.45421383],\n",
              "       [0.45472285],\n",
              "       [0.5781211 ],\n",
              "       [0.45244727],\n",
              "       [0.5121692 ],\n",
              "       [0.4433581 ],\n",
              "       [0.4782218 ],\n",
              "       [0.47763798],\n",
              "       [0.5633545 ],\n",
              "       [0.46610045],\n",
              "       [0.4508107 ],\n",
              "       [0.45805067],\n",
              "       [0.55294925],\n",
              "       [0.47912398],\n",
              "       [0.5167219 ],\n",
              "       [0.5631368 ],\n",
              "       [0.4874335 ],\n",
              "       [0.5098206 ],\n",
              "       [0.4604803 ],\n",
              "       [0.52960193],\n",
              "       [0.5213032 ],\n",
              "       [0.53440785],\n",
              "       [0.568205  ],\n",
              "       [0.57243013],\n",
              "       [0.5843517 ],\n",
              "       [0.4851445 ],\n",
              "       [0.49236393],\n",
              "       [0.49682847],\n",
              "       [0.5794595 ],\n",
              "       [0.56876063],\n",
              "       [0.4602153 ],\n",
              "       [0.4786049 ],\n",
              "       [0.48549902],\n",
              "       [0.45182845],\n",
              "       [0.56222486],\n",
              "       [0.5454688 ],\n",
              "       [0.5143577 ],\n",
              "       [0.5698133 ],\n",
              "       [0.5547496 ],\n",
              "       [0.52707565],\n",
              "       [0.5717239 ],\n",
              "       [0.4402779 ],\n",
              "       [0.511274  ],\n",
              "       [0.46147758],\n",
              "       [0.58089167],\n",
              "       [0.44756308],\n",
              "       [0.52386147],\n",
              "       [0.44491595],\n",
              "       [0.54207563],\n",
              "       [0.4861116 ],\n",
              "       [0.578923  ],\n",
              "       [0.46519682],\n",
              "       [0.5414357 ],\n",
              "       [0.5650317 ],\n",
              "       [0.45067847],\n",
              "       [0.54651505],\n",
              "       [0.554513  ],\n",
              "       [0.5035654 ],\n",
              "       [0.5664604 ],\n",
              "       [0.5714286 ],\n",
              "       [0.55370015],\n",
              "       [0.5195144 ],\n",
              "       [0.5661538 ],\n",
              "       [0.52189434],\n",
              "       [0.44008374],\n",
              "       [0.46887   ],\n",
              "       [0.49931407],\n",
              "       [0.48766592],\n",
              "       [0.53541285],\n",
              "       [0.49158818],\n",
              "       [0.5827949 ],\n",
              "       [0.57535714],\n",
              "       [0.4838623 ],\n",
              "       [0.4683299 ],\n",
              "       [0.57611203],\n",
              "       [0.45399255],\n",
              "       [0.53365517],\n",
              "       [0.45516583],\n",
              "       [0.5318077 ],\n",
              "       [0.43942997],\n",
              "       [0.5738973 ],\n",
              "       [0.44838956],\n",
              "       [0.53670233],\n",
              "       [0.46045223],\n",
              "       [0.5701331 ],\n",
              "       [0.51733345],\n",
              "       [0.4445831 ],\n",
              "       [0.56430364],\n",
              "       [0.5689651 ],\n",
              "       [0.46532905],\n",
              "       [0.48504326],\n",
              "       [0.48949453],\n",
              "       [0.46083996],\n",
              "       [0.517958  ],\n",
              "       [0.5086746 ],\n",
              "       [0.4733299 ],\n",
              "       [0.58429617],\n",
              "       [0.4973958 ],\n",
              "       [0.45764908],\n",
              "       [0.45514578],\n",
              "       [0.5860256 ],\n",
              "       [0.5481972 ],\n",
              "       [0.5791982 ],\n",
              "       [0.529024  ],\n",
              "       [0.50758874],\n",
              "       [0.46434447],\n",
              "       [0.48849452],\n",
              "       [0.5509042 ],\n",
              "       [0.5670173 ],\n",
              "       [0.5664289 ],\n",
              "       [0.5261551 ],\n",
              "       [0.5706067 ],\n",
              "       [0.5624741 ],\n",
              "       [0.5659992 ],\n",
              "       [0.4444655 ],\n",
              "       [0.4400608 ],\n",
              "       [0.47045863],\n",
              "       [0.5034131 ],\n",
              "       [0.4724221 ],\n",
              "       [0.54872274],\n",
              "       [0.5876819 ],\n",
              "       [0.58019227],\n",
              "       [0.51054597],\n",
              "       [0.56151676],\n",
              "       [0.44439504],\n",
              "       [0.5730746 ],\n",
              "       [0.44580305],\n",
              "       [0.50290465],\n",
              "       [0.53757834],\n",
              "       [0.5558242 ],\n",
              "       [0.5143541 ],\n",
              "       [0.4535249 ],\n",
              "       [0.4626144 ],\n",
              "       [0.45354435],\n",
              "       [0.4664699 ],\n",
              "       [0.51110643],\n",
              "       [0.5331253 ],\n",
              "       [0.58461416],\n",
              "       [0.48867437],\n",
              "       [0.536716  ],\n",
              "       [0.4774769 ],\n",
              "       [0.4426223 ],\n",
              "       [0.43746063],\n",
              "       [0.46433827],\n",
              "       [0.54097784],\n",
              "       [0.4889553 ],\n",
              "       [0.4589561 ],\n",
              "       [0.51468444],\n",
              "       [0.48074827],\n",
              "       [0.53747374],\n",
              "       [0.56934977],\n",
              "       [0.47247696],\n",
              "       [0.50821793],\n",
              "       [0.5390279 ],\n",
              "       [0.45059398],\n",
              "       [0.5444221 ],\n",
              "       [0.58232284],\n",
              "       [0.49014542],\n",
              "       [0.46832922],\n",
              "       [0.5625884 ],\n",
              "       [0.5047955 ],\n",
              "       [0.45314875],\n",
              "       [0.46566582],\n",
              "       [0.47422928],\n",
              "       [0.49866617],\n",
              "       [0.56629336],\n",
              "       [0.519405  ],\n",
              "       [0.47165245],\n",
              "       [0.5137377 ],\n",
              "       [0.5714391 ],\n",
              "       [0.58228385],\n",
              "       [0.5291115 ],\n",
              "       [0.5699667 ],\n",
              "       [0.44791868],\n",
              "       [0.5698167 ],\n",
              "       [0.47982448],\n",
              "       [0.5111253 ],\n",
              "       [0.44695863],\n",
              "       [0.5096096 ],\n",
              "       [0.4795013 ],\n",
              "       [0.5515618 ],\n",
              "       [0.5610629 ],\n",
              "       [0.4806858 ],\n",
              "       [0.50806624],\n",
              "       [0.43942025],\n",
              "       [0.5877957 ],\n",
              "       [0.53974426],\n",
              "       [0.45817646],\n",
              "       [0.5860161 ],\n",
              "       [0.45076707],\n",
              "       [0.5101081 ],\n",
              "       [0.4430393 ],\n",
              "       [0.45788845],\n",
              "       [0.48145497],\n",
              "       [0.54411227],\n",
              "       [0.5153079 ],\n",
              "       [0.57208294],\n",
              "       [0.5735915 ],\n",
              "       [0.5728394 ],\n",
              "       [0.47179532],\n",
              "       [0.5496282 ],\n",
              "       [0.4568302 ],\n",
              "       [0.5419089 ],\n",
              "       [0.4412607 ],\n",
              "       [0.49274778],\n",
              "       [0.5820483 ],\n",
              "       [0.45010027],\n",
              "       [0.55938566],\n",
              "       [0.5510118 ],\n",
              "       [0.47613165],\n",
              "       [0.5688613 ],\n",
              "       [0.5272575 ],\n",
              "       [0.5525988 ],\n",
              "       [0.546324  ],\n",
              "       [0.47487187],\n",
              "       [0.437101  ],\n",
              "       [0.5518455 ]], dtype=float32)"
            ]
          },
          "metadata": {},
          "execution_count": 20
        }
      ]
    },
    {
      "cell_type": "markdown",
      "source": [
        "## Plot Decision Boundary"
      ],
      "metadata": {
        "id": "hsOyooIuXjCx"
      }
    },
    {
      "cell_type": "code",
      "source": [
        "x"
      ],
      "metadata": {
        "colab": {
          "base_uri": "https://localhost:8080/"
        },
        "id": "YMR1da7ZZpNj",
        "outputId": "e4b1f472-6476-4607-fd40-c9d2e38baff7"
      },
      "execution_count": 21,
      "outputs": [
        {
          "output_type": "execute_result",
          "data": {
            "text/plain": [
              "array([[ 0.75424625,  0.23148074],\n",
              "       [-0.75615888,  0.15325888],\n",
              "       [-0.81539193,  0.17328203],\n",
              "       ...,\n",
              "       [-0.13690036, -0.81001183],\n",
              "       [ 0.67036156, -0.76750154],\n",
              "       [ 0.28105665,  0.96382443]])"
            ]
          },
          "metadata": {},
          "execution_count": 21
        }
      ]
    },
    {
      "cell_type": "code",
      "source": [
        "def plot_decision_boundary(model,x,y):\n",
        "  x_min,x_max = x[:,0].min()-0.1,x[:,0].max()+0.1\n",
        "  y_min,y_max = x[:,1].min()-0.1,x[:,1]\n",
        "  xx,yy = np.meshgrid(np.linspace(x_min,x_max,100),np.linspace(y_min,y_max,100))\n",
        "  x_in = np.c_[xx.ravel(),yy.ravel()]\n",
        "  y_pred = model.predict(x_in)\n",
        "  ##Check Multi-Class\n",
        "  if len(y_pred[0])>1:\n",
        "    print(\"Doing Multiclass classification\")\n",
        "    y_pred = np.argmax(y_pred,axis = 1).reshape(xx.shape)\n",
        "  else:\n",
        "    print(\"Binary Classification\")\n",
        "    y_pred = np.round(y_pred).reshape(xx.shape)\n",
        "  ## Decision Boundary\n",
        "  plt.contourf(xx,yy,y_pred,cmap = plt.cm.RdYlBu,alpha =0.7)\n",
        "  plt.scatter(x[:,0],x[:,1],c = y,s = 40,cmap = plt.cm.RdYlBu)\n",
        "  plt.xlim(xx.min(),xx.max())\n",
        "  plt.ylim(yy.min(),yy.max())\n"
      ],
      "metadata": {
        "id": "zXqLWTXuX0DO"
      },
      "execution_count": 22,
      "outputs": []
    },
    {
      "cell_type": "code",
      "source": [
        "plot_decision_boundary(model_3,x,y)"
      ],
      "metadata": {
        "colab": {
          "base_uri": "https://localhost:8080/",
          "height": 302
        },
        "id": "rqxvvWWMau-l",
        "outputId": "34c5ad5c-3884-4448-db33-96e8db508b88"
      },
      "execution_count": 23,
      "outputs": [
        {
          "output_type": "stream",
          "name": "stdout",
          "text": [
            "312500/312500 [==============================] - 427s 1ms/step\n",
            "Binary Classification\n"
          ]
        },
        {
          "output_type": "display_data",
          "data": {
            "text/plain": [
              "<Figure size 432x288 with 1 Axes>"
            ],
            "image/png": "[encoded data removed]"
          },
          "metadata": {
            "needs_background": "light"
          }
        }
      ]
    },
    {
      "cell_type": "code",
      "source": [
        "model_4 = tf.keras.Sequential([\n",
        "    tf.keras.layers.Dense(100,input_shape = (1,)),\n",
        "    tf.keras.layers.Dense(10),\n",
        "    tf.keras.layers.Dense(1)\n",
        "])\n",
        "model_4.compile(loss = \"mae\",optimizer = \"adam\",metrics = ['mae'])"
      ],
      "metadata": {
        "id": "mmsYauZSiMy8"
      },
      "execution_count": 24,
      "outputs": []
    },
    {
      "cell_type": "code",
      "source": [
        "tf.random.set_seed(42)\n",
        "x_regression = tf.range(0,1000,5)\n",
        "y_regression = tf.range(100,1100,5)\n",
        "x_reg_train = x_regression[:150]\n",
        "x_reg_test = x_regression[150:]\n",
        "y_reg_train = y_regression[:150]\n",
        "y_reg_test = y_regression[150:]\n",
        "model_4.fit(x_reg_train,y_reg_train,epochs = 100)"
      ],
      "metadata": {
        "colab": {
          "base_uri": "https://localhost:8080/"
        },
        "id": "P_jUnZ2kbyHU",
        "outputId": "0bddd076-945c-4d94-a7ed-77c7889473c2"
      },
      "execution_count": 25,
      "outputs": [
        {
          "output_type": "stream",
          "name": "stdout",
          "text": [
            "Epoch 1/100\n",
            "5/5 [==============================] - 0s 5ms/step - loss: 271.7428 - mae: 271.7428\n",
            "Epoch 2/100\n",
            "5/5 [==============================] - 0s 4ms/step - loss: 140.7390 - mae: 140.7390\n",
            "Epoch 3/100\n",
            "5/5 [==============================] - 0s 3ms/step - loss: 52.2021 - mae: 52.2021\n",
            "Epoch 4/100\n",
            "5/5 [==============================] - 0s 3ms/step - loss: 82.0471 - mae: 82.0471\n",
            "Epoch 5/100\n",
            "5/5 [==============================] - 0s 3ms/step - loss: 68.1061 - mae: 68.1061\n",
            "Epoch 6/100\n",
            "5/5 [==============================] - 0s 3ms/step - loss: 45.6335 - mae: 45.6335\n",
            "Epoch 7/100\n",
            "5/5 [==============================] - 0s 3ms/step - loss: 48.1815 - mae: 48.1815\n",
            "Epoch 8/100\n",
            "5/5 [==============================] - 0s 3ms/step - loss: 42.1949 - mae: 42.1949\n",
            "Epoch 9/100\n",
            "5/5 [==============================] - 0s 3ms/step - loss: 42.5904 - mae: 42.5904\n",
            "Epoch 10/100\n",
            "5/5 [==============================] - 0s 3ms/step - loss: 42.5070 - mae: 42.5070\n",
            "Epoch 11/100\n",
            "5/5 [==============================] - 0s 3ms/step - loss: 41.2868 - mae: 41.2868\n",
            "Epoch 12/100\n",
            "5/5 [==============================] - 0s 5ms/step - loss: 42.0603 - mae: 42.0603\n",
            "Epoch 13/100\n",
            "5/5 [==============================] - 0s 4ms/step - loss: 41.8878 - mae: 41.8878\n",
            "Epoch 14/100\n",
            "5/5 [==============================] - 0s 6ms/step - loss: 41.3585 - mae: 41.3585\n",
            "Epoch 15/100\n",
            "5/5 [==============================] - 0s 5ms/step - loss: 41.5148 - mae: 41.5148\n",
            "Epoch 16/100\n",
            "5/5 [==============================] - 0s 5ms/step - loss: 41.2106 - mae: 41.2106\n",
            "Epoch 17/100\n",
            "5/5 [==============================] - 0s 7ms/step - loss: 41.2366 - mae: 41.2366\n",
            "Epoch 18/100\n",
            "5/5 [==============================] - 0s 7ms/step - loss: 41.1899 - mae: 41.1899\n",
            "Epoch 19/100\n",
            "5/5 [==============================] - 0s 7ms/step - loss: 41.0332 - mae: 41.0332\n",
            "Epoch 20/100\n",
            "5/5 [==============================] - 0s 5ms/step - loss: 41.0550 - mae: 41.0550\n",
            "Epoch 21/100\n",
            "5/5 [==============================] - 0s 6ms/step - loss: 41.1682 - mae: 41.1682\n",
            "Epoch 22/100\n",
            "5/5 [==============================] - 0s 6ms/step - loss: 40.9647 - mae: 40.9647\n",
            "Epoch 23/100\n",
            "5/5 [==============================] - 0s 5ms/step - loss: 41.0570 - mae: 41.0570\n",
            "Epoch 24/100\n",
            "5/5 [==============================] - 0s 4ms/step - loss: 40.9447 - mae: 40.9447\n",
            "Epoch 25/100\n",
            "5/5 [==============================] - 0s 4ms/step - loss: 40.9051 - mae: 40.9051\n",
            "Epoch 26/100\n",
            "5/5 [==============================] - 0s 4ms/step - loss: 40.9011 - mae: 40.9011\n",
            "Epoch 27/100\n",
            "5/5 [==============================] - 0s 6ms/step - loss: 40.7964 - mae: 40.7964\n",
            "Epoch 28/100\n",
            "5/5 [==============================] - 0s 5ms/step - loss: 40.8911 - mae: 40.8911\n",
            "Epoch 29/100\n",
            "5/5 [==============================] - 0s 5ms/step - loss: 40.9883 - mae: 40.9883\n",
            "Epoch 30/100\n",
            "5/5 [==============================] - 0s 5ms/step - loss: 40.7351 - mae: 40.7351\n",
            "Epoch 31/100\n",
            "5/5 [==============================] - 0s 7ms/step - loss: 40.9595 - mae: 40.9595\n",
            "Epoch 32/100\n",
            "5/5 [==============================] - 0s 5ms/step - loss: 40.8463 - mae: 40.8463\n",
            "Epoch 33/100\n",
            "5/5 [==============================] - 0s 5ms/step - loss: 40.8842 - mae: 40.8842\n",
            "Epoch 34/100\n",
            "5/5 [==============================] - 0s 3ms/step - loss: 41.0359 - mae: 41.0359\n",
            "Epoch 35/100\n",
            "5/5 [==============================] - 0s 3ms/step - loss: 40.5999 - mae: 40.5999\n",
            "Epoch 36/100\n",
            "5/5 [==============================] - 0s 3ms/step - loss: 41.0605 - mae: 41.0605\n",
            "Epoch 37/100\n",
            "5/5 [==============================] - 0s 3ms/step - loss: 40.4980 - mae: 40.4980\n",
            "Epoch 38/100\n",
            "5/5 [==============================] - 0s 3ms/step - loss: 40.2176 - mae: 40.2176\n",
            "Epoch 39/100\n",
            "5/5 [==============================] - 0s 3ms/step - loss: 40.5178 - mae: 40.5178\n",
            "Epoch 40/100\n",
            "5/5 [==============================] - 0s 3ms/step - loss: 40.2999 - mae: 40.2999\n",
            "Epoch 41/100\n",
            "5/5 [==============================] - 0s 3ms/step - loss: 40.2211 - mae: 40.2211\n",
            "Epoch 42/100\n",
            "5/5 [==============================] - 0s 3ms/step - loss: 40.1502 - mae: 40.1502\n",
            "Epoch 43/100\n",
            "5/5 [==============================] - 0s 3ms/step - loss: 40.3148 - mae: 40.3148\n",
            "Epoch 44/100\n",
            "5/5 [==============================] - 0s 5ms/step - loss: 39.9733 - mae: 39.9733\n",
            "Epoch 45/100\n",
            "5/5 [==============================] - 0s 4ms/step - loss: 40.1716 - mae: 40.1716\n",
            "Epoch 46/100\n",
            "5/5 [==============================] - 0s 4ms/step - loss: 40.5257 - mae: 40.5257\n",
            "Epoch 47/100\n",
            "5/5 [==============================] - 0s 4ms/step - loss: 39.8959 - mae: 39.8959\n",
            "Epoch 48/100\n",
            "5/5 [==============================] - 0s 4ms/step - loss: 39.9455 - mae: 39.9455\n",
            "Epoch 49/100\n",
            "5/5 [==============================] - 0s 4ms/step - loss: 40.6716 - mae: 40.6716\n",
            "Epoch 50/100\n",
            "5/5 [==============================] - 0s 5ms/step - loss: 39.9773 - mae: 39.9773\n",
            "Epoch 51/100\n",
            "5/5 [==============================] - 0s 4ms/step - loss: 40.4348 - mae: 40.4348\n",
            "Epoch 52/100\n",
            "5/5 [==============================] - 0s 4ms/step - loss: 40.9051 - mae: 40.9051\n",
            "Epoch 53/100\n",
            "5/5 [==============================] - 0s 5ms/step - loss: 40.8773 - mae: 40.8773\n",
            "Epoch 54/100\n",
            "5/5 [==============================] - 0s 6ms/step - loss: 40.5908 - mae: 40.5908\n",
            "Epoch 55/100\n",
            "5/5 [==============================] - 0s 4ms/step - loss: 40.1154 - mae: 40.1154\n",
            "Epoch 56/100\n",
            "5/5 [==============================] - 0s 5ms/step - loss: 40.8914 - mae: 40.8914\n",
            "Epoch 57/100\n",
            "5/5 [==============================] - 0s 5ms/step - loss: 41.0992 - mae: 41.0992\n",
            "Epoch 58/100\n",
            "5/5 [==============================] - 0s 5ms/step - loss: 39.3684 - mae: 39.3684\n",
            "Epoch 59/100\n",
            "5/5 [==============================] - 0s 6ms/step - loss: 39.6117 - mae: 39.6117\n",
            "Epoch 60/100\n",
            "5/5 [==============================] - 0s 5ms/step - loss: 39.5384 - mae: 39.5384\n",
            "Epoch 61/100\n",
            "5/5 [==============================] - 0s 8ms/step - loss: 39.3903 - mae: 39.3903\n",
            "Epoch 62/100\n",
            "5/5 [==============================] - 0s 6ms/step - loss: 39.5975 - mae: 39.5975\n",
            "Epoch 63/100\n",
            "5/5 [==============================] - 0s 4ms/step - loss: 39.3405 - mae: 39.3405\n",
            "Epoch 64/100\n",
            "5/5 [==============================] - 0s 6ms/step - loss: 39.1817 - mae: 39.1817\n",
            "Epoch 65/100\n",
            "5/5 [==============================] - 0s 4ms/step - loss: 39.4392 - mae: 39.4392\n",
            "Epoch 66/100\n",
            "5/5 [==============================] - 0s 4ms/step - loss: 39.3817 - mae: 39.3817\n",
            "Epoch 67/100\n",
            "5/5 [==============================] - 0s 4ms/step - loss: 39.2094 - mae: 39.2094\n",
            "Epoch 68/100\n",
            "5/5 [==============================] - 0s 5ms/step - loss: 39.1798 - mae: 39.1798\n",
            "Epoch 69/100\n",
            "5/5 [==============================] - 0s 5ms/step - loss: 38.9817 - mae: 38.9817\n",
            "Epoch 70/100\n",
            "5/5 [==============================] - 0s 4ms/step - loss: 39.1891 - mae: 39.1891\n",
            "Epoch 71/100\n",
            "5/5 [==============================] - 0s 6ms/step - loss: 40.8741 - mae: 40.8741\n",
            "Epoch 72/100\n",
            "5/5 [==============================] - 0s 5ms/step - loss: 38.9595 - mae: 38.9595\n",
            "Epoch 73/100\n",
            "5/5 [==============================] - 0s 5ms/step - loss: 39.7867 - mae: 39.7867\n",
            "Epoch 74/100\n",
            "5/5 [==============================] - 0s 5ms/step - loss: 38.8502 - mae: 38.8502\n",
            "Epoch 75/100\n",
            "5/5 [==============================] - 0s 4ms/step - loss: 39.5429 - mae: 39.5429\n",
            "Epoch 76/100\n",
            "5/5 [==============================] - 0s 4ms/step - loss: 39.2041 - mae: 39.2041\n",
            "Epoch 77/100\n",
            "5/5 [==============================] - 0s 4ms/step - loss: 38.7373 - mae: 38.7373\n",
            "Epoch 78/100\n",
            "5/5 [==============================] - 0s 3ms/step - loss: 38.8528 - mae: 38.8528\n",
            "Epoch 79/100\n",
            "5/5 [==============================] - 0s 3ms/step - loss: 38.9048 - mae: 38.9048\n",
            "Epoch 80/100\n",
            "5/5 [==============================] - 0s 4ms/step - loss: 38.7628 - mae: 38.7628\n",
            "Epoch 81/100\n",
            "5/5 [==============================] - 0s 3ms/step - loss: 38.4030 - mae: 38.4030\n",
            "Epoch 82/100\n",
            "5/5 [==============================] - 0s 3ms/step - loss: 38.3289 - mae: 38.3289\n",
            "Epoch 83/100\n",
            "5/5 [==============================] - 0s 3ms/step - loss: 38.3569 - mae: 38.3569\n",
            "Epoch 84/100\n",
            "5/5 [==============================] - 0s 6ms/step - loss: 38.2522 - mae: 38.2522\n",
            "Epoch 85/100\n",
            "5/5 [==============================] - 0s 6ms/step - loss: 38.3610 - mae: 38.3610\n",
            "Epoch 86/100\n",
            "5/5 [==============================] - 0s 4ms/step - loss: 37.8545 - mae: 37.8545\n",
            "Epoch 87/100\n",
            "5/5 [==============================] - 0s 4ms/step - loss: 38.5902 - mae: 38.5902\n",
            "Epoch 88/100\n",
            "5/5 [==============================] - 0s 4ms/step - loss: 38.1998 - mae: 38.1998\n",
            "Epoch 89/100\n",
            "5/5 [==============================] - 0s 4ms/step - loss: 39.3058 - mae: 39.3058\n",
            "Epoch 90/100\n",
            "5/5 [==============================] - 0s 6ms/step - loss: 38.7877 - mae: 38.7877\n",
            "Epoch 91/100\n",
            "5/5 [==============================] - 0s 7ms/step - loss: 37.6078 - mae: 37.6078\n",
            "Epoch 92/100\n",
            "5/5 [==============================] - 0s 5ms/step - loss: 38.9384 - mae: 38.9384\n",
            "Epoch 93/100\n",
            "5/5 [==============================] - 0s 5ms/step - loss: 38.8550 - mae: 38.8550\n",
            "Epoch 94/100\n",
            "5/5 [==============================] - 0s 5ms/step - loss: 37.3749 - mae: 37.3749\n",
            "Epoch 95/100\n",
            "5/5 [==============================] - 0s 5ms/step - loss: 37.5774 - mae: 37.5774\n",
            "Epoch 96/100\n",
            "5/5 [==============================] - 0s 5ms/step - loss: 37.9218 - mae: 37.9218\n",
            "Epoch 97/100\n",
            "5/5 [==============================] - 0s 5ms/step - loss: 37.3278 - mae: 37.3278\n",
            "Epoch 98/100\n",
            "5/5 [==============================] - 0s 4ms/step - loss: 37.8367 - mae: 37.8367\n",
            "Epoch 99/100\n",
            "5/5 [==============================] - 0s 5ms/step - loss: 37.7834 - mae: 37.7834\n",
            "Epoch 100/100\n",
            "5/5 [==============================] - 0s 5ms/step - loss: 37.2437 - mae: 37.2437\n"
          ]
        },
        {
          "output_type": "execute_result",
          "data": {
            "text/plain": [
              "<keras.callbacks.History at 0x7f90b6360fa0>"
            ]
          },
          "metadata": {},
          "execution_count": 25
        }
      ]
    },
    {
      "cell_type": "code",
      "source": [
        "y_reg_preds = model_4.predict(x_reg_test)"
      ],
      "metadata": {
        "colab": {
          "base_uri": "https://localhost:8080/"
        },
        "id": "zh9ZfY1chZty",
        "outputId": "b4f16ee1-580f-49c5-9c59-3cc3e7745889"
      },
      "execution_count": 26,
      "outputs": [
        {
          "output_type": "stream",
          "name": "stdout",
          "text": [
            "2/2 [==============================] - 0s 5ms/step\n"
          ]
        }
      ]
    },
    {
      "cell_type": "code",
      "source": [
        "plt.figure(figsize = (10,7))\n",
        "plt.scatter(x_reg_train,y_reg_train,c = \"b\",label = \"Training Data\")\n",
        "plt.scatter(x_reg_test,y_reg_test,c = \"g\",label = \"Test Data\")\n",
        "plt.scatter(x_reg_test,y_reg_preds,c = 'r',label = \"Prediction\")\n",
        "plt.legend()"
      ],
      "metadata": {
        "colab": {
          "base_uri": "https://localhost:8080/",
          "height": 446
        },
        "id": "zQU9Kl_Vi21O",
        "outputId": "68e874d1-0ad3-4fb2-86a9-9e292600061e"
      },
      "execution_count": 27,
      "outputs": [
        {
          "output_type": "execute_result",
          "data": {
            "text/plain": [
              "<matplotlib.legend.Legend at 0x7f90989dad30>"
            ]
          },
          "metadata": {},
          "execution_count": 27
        },
        {
          "output_type": "display_data",
          "data": {
            "text/plain": [
              "<Figure size 720x504 with 1 Axes>"
            ],
            "image/png": "[encoded data removed]"
          },
          "metadata": {
            "needs_background": "light"
          }
        }
      ]
    },
    {
      "cell_type": "markdown",
      "source": [
        "## Non-Linearity"
      ],
      "metadata": {
        "id": "Pq7dh1NujIrA"
      }
    },
    {
      "cell_type": "code",
      "source": [
        "tf.random.set_seed(42)\n",
        "model_5 = tf.keras.Sequential([\n",
        "    tf.keras.layers.Dense(1,activation = \"linear\")\n",
        "])\n",
        "model_5.compile(loss = \"binary_crossentropy\",optimizer = \"adam\",metrics = [\"accuracy\"])"
      ],
      "metadata": {
        "id": "bfS6c6dm40XH"
      },
      "execution_count": 28,
      "outputs": []
    },
    {
      "cell_type": "code",
      "source": [
        "tf.random.set_seed(42)\n",
        "model_6 = tf.keras.Sequential([\n",
        "    tf.keras.layers.Dense(4,activation = \"relu\"),\n",
        "    tf.keras.layers.Dense(4,activation = \"relu\"),\n",
        "    tf.keras.layers.Dense(1,activation = \"sigmoid\")\n",
        "])\n",
        "model_6.compile(loss = \"binary_crossentropy\",optimizer = tf.keras.optimizers.Adam(lr=0.001),metrics = ['accuracy'])\n",
        "history = model_6.fit(x,y,epochs = 150)"
      ],
      "metadata": {
        "colab": {
          "base_uri": "https://localhost:8080/"
        },
        "id": "uSysOqGp-Zf7",
        "outputId": "d090f65f-43c6-4863-9cbd-a0f984d99b7d"
      },
      "execution_count": 34,
      "outputs": [
        {
          "output_type": "stream",
          "name": "stdout",
          "text": [
            "Epoch 1/150\n",
            "32/32 [==============================] - 1s 3ms/step - loss: 0.6891 - accuracy: 0.5020\n",
            "Epoch 2/150\n",
            "32/32 [==============================] - 0s 3ms/step - loss: 0.6848 - accuracy: 0.5170\n",
            "Epoch 3/150\n",
            "32/32 [==============================] - 0s 3ms/step - loss: 0.6824 - accuracy: 0.5160\n",
            "Epoch 4/150\n",
            "32/32 [==============================] - 0s 3ms/step - loss: 0.6813 - accuracy: 0.5300\n",
            "Epoch 5/150\n",
            "32/32 [==============================] - 0s 3ms/step - loss: 0.6802 - accuracy: 0.5390\n",
            "Epoch 6/150\n",
            "32/32 [==============================] - 0s 3ms/step - loss: 0.6794 - accuracy: 0.5380\n",
            "Epoch 7/150\n",
            "32/32 [==============================] - 0s 3ms/step - loss: 0.6785 - accuracy: 0.5500\n",
            "Epoch 8/150\n",
            "32/32 [==============================] - 0s 3ms/step - loss: 0.6778 - accuracy: 0.5480\n",
            "Epoch 9/150\n",
            "32/32 [==============================] - 0s 3ms/step - loss: 0.6772 - accuracy: 0.5530\n",
            "Epoch 10/150\n",
            "32/32 [==============================] - 0s 4ms/step - loss: 0.6766 - accuracy: 0.5510\n",
            "Epoch 11/150\n",
            "32/32 [==============================] - 0s 3ms/step - loss: 0.6760 - accuracy: 0.5500\n",
            "Epoch 12/150\n",
            "32/32 [==============================] - 0s 3ms/step - loss: 0.6754 - accuracy: 0.5550\n",
            "Epoch 13/150\n",
            "32/32 [==============================] - 0s 3ms/step - loss: 0.6747 - accuracy: 0.5560\n",
            "Epoch 14/150\n",
            "32/32 [==============================] - 0s 3ms/step - loss: 0.6741 - accuracy: 0.5540\n",
            "Epoch 15/150\n",
            "32/32 [==============================] - 0s 3ms/step - loss: 0.6734 - accuracy: 0.5580\n",
            "Epoch 16/150\n",
            "32/32 [==============================] - 0s 3ms/step - loss: 0.6727 - accuracy: 0.5550\n",
            "Epoch 17/150\n",
            "32/32 [==============================] - 0s 3ms/step - loss: 0.6722 - accuracy: 0.5550\n",
            "Epoch 18/150\n",
            "32/32 [==============================] - 0s 3ms/step - loss: 0.6716 - accuracy: 0.5550\n",
            "Epoch 19/150\n",
            "32/32 [==============================] - 0s 3ms/step - loss: 0.6710 - accuracy: 0.5590\n",
            "Epoch 20/150\n",
            "32/32 [==============================] - 0s 3ms/step - loss: 0.6702 - accuracy: 0.5600\n",
            "Epoch 21/150\n",
            "32/32 [==============================] - 0s 3ms/step - loss: 0.6696 - accuracy: 0.5640\n",
            "Epoch 22/150\n",
            "32/32 [==============================] - 0s 3ms/step - loss: 0.6688 - accuracy: 0.5600\n",
            "Epoch 23/150\n",
            "32/32 [==============================] - 0s 3ms/step - loss: 0.6682 - accuracy: 0.5700\n",
            "Epoch 24/150\n",
            "32/32 [==============================] - 0s 3ms/step - loss: 0.6679 - accuracy: 0.5570\n",
            "Epoch 25/150\n",
            "32/32 [==============================] - 0s 3ms/step - loss: 0.6671 - accuracy: 0.5670\n",
            "Epoch 26/150\n",
            "32/32 [==============================] - 0s 3ms/step - loss: 0.6662 - accuracy: 0.5750\n",
            "Epoch 27/150\n",
            "32/32 [==============================] - 0s 3ms/step - loss: 0.6657 - accuracy: 0.5810\n",
            "Epoch 28/150\n",
            "32/32 [==============================] - 0s 3ms/step - loss: 0.6645 - accuracy: 0.5700\n",
            "Epoch 29/150\n",
            "32/32 [==============================] - 0s 3ms/step - loss: 0.6642 - accuracy: 0.5700\n",
            "Epoch 30/150\n",
            "32/32 [==============================] - 0s 3ms/step - loss: 0.6634 - accuracy: 0.5790\n",
            "Epoch 31/150\n",
            "32/32 [==============================] - 0s 3ms/step - loss: 0.6627 - accuracy: 0.5760\n",
            "Epoch 32/150\n",
            "32/32 [==============================] - 0s 4ms/step - loss: 0.6619 - accuracy: 0.5760\n",
            "Epoch 33/150\n",
            "32/32 [==============================] - 0s 3ms/step - loss: 0.6610 - accuracy: 0.5760\n",
            "Epoch 34/150\n",
            "32/32 [==============================] - 0s 3ms/step - loss: 0.6606 - accuracy: 0.5760\n",
            "Epoch 35/150\n",
            "32/32 [==============================] - 0s 3ms/step - loss: 0.6597 - accuracy: 0.5790\n",
            "Epoch 36/150\n",
            "32/32 [==============================] - 0s 3ms/step - loss: 0.6586 - accuracy: 0.5780\n",
            "Epoch 37/150\n",
            "32/32 [==============================] - 0s 3ms/step - loss: 0.6580 - accuracy: 0.5780\n",
            "Epoch 38/150\n",
            "32/32 [==============================] - 0s 3ms/step - loss: 0.6573 - accuracy: 0.5790\n",
            "Epoch 39/150\n",
            "32/32 [==============================] - 0s 3ms/step - loss: 0.6564 - accuracy: 0.5790\n",
            "Epoch 40/150\n",
            "32/32 [==============================] - 0s 3ms/step - loss: 0.6556 - accuracy: 0.5760\n",
            "Epoch 41/150\n",
            "32/32 [==============================] - 0s 3ms/step - loss: 0.6548 - accuracy: 0.5780\n",
            "Epoch 42/150\n",
            "32/32 [==============================] - 0s 3ms/step - loss: 0.6540 - accuracy: 0.5750\n",
            "Epoch 43/150\n",
            "32/32 [==============================] - 0s 3ms/step - loss: 0.6530 - accuracy: 0.5780\n",
            "Epoch 44/150\n",
            "32/32 [==============================] - 0s 3ms/step - loss: 0.6521 - accuracy: 0.5810\n",
            "Epoch 45/150\n",
            "32/32 [==============================] - 0s 3ms/step - loss: 0.6496 - accuracy: 0.5810\n",
            "Epoch 46/150\n",
            "32/32 [==============================] - 0s 3ms/step - loss: 0.6481 - accuracy: 0.5830\n",
            "Epoch 47/150\n",
            "32/32 [==============================] - 0s 3ms/step - loss: 0.6472 - accuracy: 0.5850\n",
            "Epoch 48/150\n",
            "32/32 [==============================] - 0s 3ms/step - loss: 0.6451 - accuracy: 0.5880\n",
            "Epoch 49/150\n",
            "32/32 [==============================] - 0s 3ms/step - loss: 0.6426 - accuracy: 0.5880\n",
            "Epoch 50/150\n",
            "32/32 [==============================] - 0s 3ms/step - loss: 0.6404 - accuracy: 0.5940\n",
            "Epoch 51/150\n",
            "32/32 [==============================] - 0s 3ms/step - loss: 0.6384 - accuracy: 0.6010\n",
            "Epoch 52/150\n",
            "32/32 [==============================] - 0s 3ms/step - loss: 0.6364 - accuracy: 0.6130\n",
            "Epoch 53/150\n",
            "32/32 [==============================] - 0s 3ms/step - loss: 0.6344 - accuracy: 0.6110\n",
            "Epoch 54/150\n",
            "32/32 [==============================] - 0s 3ms/step - loss: 0.6312 - accuracy: 0.6280\n",
            "Epoch 55/150\n",
            "32/32 [==============================] - 0s 3ms/step - loss: 0.6287 - accuracy: 0.6380\n",
            "Epoch 56/150\n",
            "32/32 [==============================] - 0s 3ms/step - loss: 0.6259 - accuracy: 0.6840\n",
            "Epoch 57/150\n",
            "32/32 [==============================] - 0s 3ms/step - loss: 0.6227 - accuracy: 0.6950\n",
            "Epoch 58/150\n",
            "32/32 [==============================] - 0s 3ms/step - loss: 0.6200 - accuracy: 0.6990\n",
            "Epoch 59/150\n",
            "32/32 [==============================] - 0s 3ms/step - loss: 0.6168 - accuracy: 0.6950\n",
            "Epoch 60/150\n",
            "32/32 [==============================] - 0s 3ms/step - loss: 0.6133 - accuracy: 0.7240\n",
            "Epoch 61/150\n",
            "32/32 [==============================] - 0s 4ms/step - loss: 0.6101 - accuracy: 0.7200\n",
            "Epoch 62/150\n",
            "32/32 [==============================] - 0s 4ms/step - loss: 0.6059 - accuracy: 0.7330\n",
            "Epoch 63/150\n",
            "32/32 [==============================] - 0s 4ms/step - loss: 0.6014 - accuracy: 0.7400\n",
            "Epoch 64/150\n",
            "32/32 [==============================] - 0s 4ms/step - loss: 0.5966 - accuracy: 0.7460\n",
            "Epoch 65/150\n",
            "32/32 [==============================] - 0s 4ms/step - loss: 0.5905 - accuracy: 0.7440\n",
            "Epoch 66/150\n",
            "32/32 [==============================] - 0s 4ms/step - loss: 0.5830 - accuracy: 0.7450\n",
            "Epoch 67/150\n",
            "32/32 [==============================] - 0s 4ms/step - loss: 0.5757 - accuracy: 0.7460\n",
            "Epoch 68/150\n",
            "32/32 [==============================] - 0s 4ms/step - loss: 0.5683 - accuracy: 0.7800\n",
            "Epoch 69/150\n",
            "32/32 [==============================] - 0s 4ms/step - loss: 0.5614 - accuracy: 0.8010\n",
            "Epoch 70/150\n",
            "32/32 [==============================] - 0s 4ms/step - loss: 0.5548 - accuracy: 0.8010\n",
            "Epoch 71/150\n",
            "32/32 [==============================] - 0s 4ms/step - loss: 0.5474 - accuracy: 0.8240\n",
            "Epoch 72/150\n",
            "32/32 [==============================] - 0s 4ms/step - loss: 0.5406 - accuracy: 0.8460\n",
            "Epoch 73/150\n",
            "32/32 [==============================] - 0s 4ms/step - loss: 0.5327 - accuracy: 0.8470\n",
            "Epoch 74/150\n",
            "32/32 [==============================] - 0s 4ms/step - loss: 0.5243 - accuracy: 0.8620\n",
            "Epoch 75/150\n",
            "32/32 [==============================] - 0s 4ms/step - loss: 0.5148 - accuracy: 0.8870\n",
            "Epoch 76/150\n",
            "32/32 [==============================] - 0s 4ms/step - loss: 0.5042 - accuracy: 0.8820\n",
            "Epoch 77/150\n",
            "32/32 [==============================] - 0s 4ms/step - loss: 0.4927 - accuracy: 0.9300\n",
            "Epoch 78/150\n",
            "32/32 [==============================] - 0s 3ms/step - loss: 0.4824 - accuracy: 0.9090\n",
            "Epoch 79/150\n",
            "32/32 [==============================] - 0s 3ms/step - loss: 0.4733 - accuracy: 0.9460\n",
            "Epoch 80/150\n",
            "32/32 [==============================] - 0s 3ms/step - loss: 0.4632 - accuracy: 0.9600\n",
            "Epoch 81/150\n",
            "32/32 [==============================] - 0s 3ms/step - loss: 0.4546 - accuracy: 0.9600\n",
            "Epoch 82/150\n",
            "32/32 [==============================] - 0s 3ms/step - loss: 0.4456 - accuracy: 0.9580\n",
            "Epoch 83/150\n",
            "32/32 [==============================] - 0s 3ms/step - loss: 0.4360 - accuracy: 0.9630\n",
            "Epoch 84/150\n",
            "32/32 [==============================] - 0s 3ms/step - loss: 0.4260 - accuracy: 0.9690\n",
            "Epoch 85/150\n",
            "32/32 [==============================] - 0s 3ms/step - loss: 0.4145 - accuracy: 0.9700\n",
            "Epoch 86/150\n",
            "32/32 [==============================] - 0s 3ms/step - loss: 0.4059 - accuracy: 0.9740\n",
            "Epoch 87/150\n",
            "32/32 [==============================] - 0s 3ms/step - loss: 0.3962 - accuracy: 0.9750\n",
            "Epoch 88/150\n",
            "32/32 [==============================] - 0s 3ms/step - loss: 0.3873 - accuracy: 0.9720\n",
            "Epoch 89/150\n",
            "32/32 [==============================] - 0s 3ms/step - loss: 0.3795 - accuracy: 0.9750\n",
            "Epoch 90/150\n",
            "32/32 [==============================] - 0s 3ms/step - loss: 0.3716 - accuracy: 0.9750\n",
            "Epoch 91/150\n",
            "32/32 [==============================] - 0s 3ms/step - loss: 0.3635 - accuracy: 0.9840\n",
            "Epoch 92/150\n",
            "32/32 [==============================] - 0s 3ms/step - loss: 0.3554 - accuracy: 0.9830\n",
            "Epoch 93/150\n",
            "32/32 [==============================] - 0s 3ms/step - loss: 0.3482 - accuracy: 0.9800\n",
            "Epoch 94/150\n",
            "32/32 [==============================] - 0s 3ms/step - loss: 0.3404 - accuracy: 0.9820\n",
            "Epoch 95/150\n",
            "32/32 [==============================] - 0s 3ms/step - loss: 0.3329 - accuracy: 0.9880\n",
            "Epoch 96/150\n",
            "32/32 [==============================] - 0s 3ms/step - loss: 0.3268 - accuracy: 0.9870\n",
            "Epoch 97/150\n",
            "32/32 [==============================] - 0s 3ms/step - loss: 0.3190 - accuracy: 0.9870\n",
            "Epoch 98/150\n",
            "32/32 [==============================] - 0s 3ms/step - loss: 0.3122 - accuracy: 0.9890\n",
            "Epoch 99/150\n",
            "32/32 [==============================] - 0s 3ms/step - loss: 0.3059 - accuracy: 0.9880\n",
            "Epoch 100/150\n",
            "32/32 [==============================] - 0s 3ms/step - loss: 0.2993 - accuracy: 0.9890\n",
            "Epoch 101/150\n",
            "32/32 [==============================] - 0s 3ms/step - loss: 0.2931 - accuracy: 0.9900\n",
            "Epoch 102/150\n",
            "32/32 [==============================] - 0s 3ms/step - loss: 0.2871 - accuracy: 0.9900\n",
            "Epoch 103/150\n",
            "32/32 [==============================] - 0s 3ms/step - loss: 0.2805 - accuracy: 0.9900\n",
            "Epoch 104/150\n",
            "32/32 [==============================] - 0s 3ms/step - loss: 0.2749 - accuracy: 0.9920\n",
            "Epoch 105/150\n",
            "32/32 [==============================] - 0s 3ms/step - loss: 0.2698 - accuracy: 0.9910\n",
            "Epoch 106/150\n",
            "32/32 [==============================] - 0s 3ms/step - loss: 0.2639 - accuracy: 0.9910\n",
            "Epoch 107/150\n",
            "32/32 [==============================] - 0s 3ms/step - loss: 0.2589 - accuracy: 0.9900\n",
            "Epoch 108/150\n",
            "32/32 [==============================] - 0s 3ms/step - loss: 0.2539 - accuracy: 0.9890\n",
            "Epoch 109/150\n",
            "32/32 [==============================] - 0s 3ms/step - loss: 0.2483 - accuracy: 0.9920\n",
            "Epoch 110/150\n",
            "32/32 [==============================] - 0s 3ms/step - loss: 0.2433 - accuracy: 0.9920\n",
            "Epoch 111/150\n",
            "32/32 [==============================] - 0s 3ms/step - loss: 0.2390 - accuracy: 0.9900\n",
            "Epoch 112/150\n",
            "32/32 [==============================] - 0s 3ms/step - loss: 0.2354 - accuracy: 0.9900\n",
            "Epoch 113/150\n",
            "32/32 [==============================] - 0s 3ms/step - loss: 0.2293 - accuracy: 0.9910\n",
            "Epoch 114/150\n",
            "32/32 [==============================] - 0s 3ms/step - loss: 0.2251 - accuracy: 0.9910\n",
            "Epoch 115/150\n",
            "32/32 [==============================] - 0s 3ms/step - loss: 0.2209 - accuracy: 0.9920\n",
            "Epoch 116/150\n",
            "32/32 [==============================] - 0s 3ms/step - loss: 0.2164 - accuracy: 0.9920\n",
            "Epoch 117/150\n",
            "32/32 [==============================] - 0s 3ms/step - loss: 0.2130 - accuracy: 0.9900\n",
            "Epoch 118/150\n",
            "32/32 [==============================] - 0s 3ms/step - loss: 0.2092 - accuracy: 0.9910\n",
            "Epoch 119/150\n",
            "32/32 [==============================] - 0s 3ms/step - loss: 0.2050 - accuracy: 0.9910\n",
            "Epoch 120/150\n",
            "32/32 [==============================] - 0s 3ms/step - loss: 0.2016 - accuracy: 0.9890\n",
            "Epoch 121/150\n",
            "32/32 [==============================] - 0s 3ms/step - loss: 0.1979 - accuracy: 0.9920\n",
            "Epoch 122/150\n",
            "32/32 [==============================] - 0s 3ms/step - loss: 0.1938 - accuracy: 0.9910\n",
            "Epoch 123/150\n",
            "32/32 [==============================] - 0s 3ms/step - loss: 0.1906 - accuracy: 0.9920\n",
            "Epoch 124/150\n",
            "32/32 [==============================] - 0s 3ms/step - loss: 0.1872 - accuracy: 0.9910\n",
            "Epoch 125/150\n",
            "32/32 [==============================] - 0s 3ms/step - loss: 0.1839 - accuracy: 0.9900\n",
            "Epoch 126/150\n",
            "32/32 [==============================] - 0s 3ms/step - loss: 0.1809 - accuracy: 0.9920\n",
            "Epoch 127/150\n",
            "32/32 [==============================] - 0s 3ms/step - loss: 0.1771 - accuracy: 0.9910\n",
            "Epoch 128/150\n",
            "32/32 [==============================] - 0s 3ms/step - loss: 0.1747 - accuracy: 0.9920\n",
            "Epoch 129/150\n",
            "32/32 [==============================] - 0s 3ms/step - loss: 0.1712 - accuracy: 0.9930\n",
            "Epoch 130/150\n",
            "32/32 [==============================] - 0s 3ms/step - loss: 0.1682 - accuracy: 0.9930\n",
            "Epoch 131/150\n",
            "32/32 [==============================] - 0s 3ms/step - loss: 0.1662 - accuracy: 0.9910\n",
            "Epoch 132/150\n",
            "32/32 [==============================] - 0s 3ms/step - loss: 0.1630 - accuracy: 0.9930\n",
            "Epoch 133/150\n",
            "32/32 [==============================] - 0s 3ms/step - loss: 0.1603 - accuracy: 0.9910\n",
            "Epoch 134/150\n",
            "32/32 [==============================] - 0s 3ms/step - loss: 0.1578 - accuracy: 0.9910\n",
            "Epoch 135/150\n",
            "32/32 [==============================] - 0s 3ms/step - loss: 0.1552 - accuracy: 0.9940\n",
            "Epoch 136/150\n",
            "32/32 [==============================] - 0s 3ms/step - loss: 0.1530 - accuracy: 0.9920\n",
            "Epoch 137/150\n",
            "32/32 [==============================] - 0s 3ms/step - loss: 0.1510 - accuracy: 0.9920\n",
            "Epoch 138/150\n",
            "32/32 [==============================] - 0s 3ms/step - loss: 0.1480 - accuracy: 0.9930\n",
            "Epoch 139/150\n",
            "32/32 [==============================] - 0s 3ms/step - loss: 0.1459 - accuracy: 0.9920\n",
            "Epoch 140/150\n",
            "32/32 [==============================] - 0s 4ms/step - loss: 0.1439 - accuracy: 0.9910\n",
            "Epoch 141/150\n",
            "32/32 [==============================] - 0s 3ms/step - loss: 0.1420 - accuracy: 0.9930\n",
            "Epoch 142/150\n",
            "32/32 [==============================] - 0s 3ms/step - loss: 0.1392 - accuracy: 0.9940\n",
            "Epoch 143/150\n",
            "32/32 [==============================] - 0s 3ms/step - loss: 0.1376 - accuracy: 0.9920\n",
            "Epoch 144/150\n",
            "32/32 [==============================] - 0s 3ms/step - loss: 0.1356 - accuracy: 0.9930\n",
            "Epoch 145/150\n",
            "32/32 [==============================] - 0s 3ms/step - loss: 0.1332 - accuracy: 0.9920\n",
            "Epoch 146/150\n",
            "32/32 [==============================] - 0s 3ms/step - loss: 0.1314 - accuracy: 0.9910\n",
            "Epoch 147/150\n",
            "32/32 [==============================] - 0s 3ms/step - loss: 0.1295 - accuracy: 0.9900\n",
            "Epoch 148/150\n",
            "32/32 [==============================] - 0s 3ms/step - loss: 0.1276 - accuracy: 0.9930\n",
            "Epoch 149/150\n",
            "32/32 [==============================] - 0s 3ms/step - loss: 0.1257 - accuracy: 0.9930\n",
            "Epoch 150/150\n",
            "32/32 [==============================] - 0s 3ms/step - loss: 0.1242 - accuracy: 0.9920\n"
          ]
        }
      ]
    },
    {
      "cell_type": "code",
      "source": [
        "model_6.evaluate(x,y)"
      ],
      "metadata": {
        "colab": {
          "base_uri": "https://localhost:8080/"
        },
        "id": "QQa4JreJBihw",
        "outputId": "fe8f8a10-5b43-4f42-d1ac-9daa97ef16e2"
      },
      "execution_count": 31,
      "outputs": [
        {
          "output_type": "stream",
          "name": "stdout",
          "text": [
            "32/32 [==============================] - 0s 3ms/step - loss: 7.7125 - accuracy: 0.5000\n"
          ]
        },
        {
          "output_type": "execute_result",
          "data": {
            "text/plain": [
              "[7.712474346160889, 0.5]"
            ]
          },
          "metadata": {},
          "execution_count": 31
        }
      ]
    },
    {
      "cell_type": "code",
      "source": [
        "plot_decision_boundary(model_6,x,y)"
      ],
      "metadata": {
        "colab": {
          "base_uri": "https://localhost:8080/",
          "height": 302
        },
        "id": "4XeyjBkjBnla",
        "outputId": "17df5b08-d783-4179-98d3-f3326570bcf0"
      },
      "execution_count": 35,
      "outputs": [
        {
          "output_type": "stream",
          "name": "stdout",
          "text": [
            "312500/312500 [==============================] - 407s 1ms/step\n",
            "Binary Classification\n"
          ]
        },
        {
          "output_type": "display_data",
          "data": {
            "text/plain": [
              "<Figure size 432x288 with 1 Axes>"
            ],
            "image/png": "[encoded data removed]"
          },
          "metadata": {
            "needs_background": "light"
          }
        }
      ]
    },
    {
      "cell_type": "markdown",
      "source": [
        "## Building Activation Functions from Scratch"
      ],
      "metadata": {
        "id": "975tkJ-ACdbN"
      }
    },
    {
      "cell_type": "code",
      "source": [
        "#Sample Tensor\n",
        "A = tf.cast(tf.range(-10,10),tf.float32)\n",
        "A"
      ],
      "metadata": {
        "colab": {
          "base_uri": "https://localhost:8080/"
        },
        "id": "3mRah7MrFIwB",
        "outputId": "20c4670c-93f3-43c0-83dd-9582804b1cd5"
      },
      "execution_count": 52,
      "outputs": [
        {
          "output_type": "execute_result",
          "data": {
            "text/plain": [
              "<tf.Tensor: shape=(20,), dtype=float32, numpy=\n",
              "array([-10.,  -9.,  -8.,  -7.,  -6.,  -5.,  -4.,  -3.,  -2.,  -1.,   0.,\n",
              "         1.,   2.,   3.,   4.,   5.,   6.,   7.,   8.,   9.],\n",
              "      dtype=float32)>"
            ]
          },
          "metadata": {},
          "execution_count": 52
        }
      ]
    },
    {
      "cell_type": "code",
      "source": [
        "#Visualizing Sample Tensor\n",
        "plt.plot(A)"
      ],
      "metadata": {
        "colab": {
          "base_uri": "https://localhost:8080/",
          "height": 283
        },
        "id": "cl1HfWSnG9TM",
        "outputId": "42cdd676-9e84-4ca3-a35c-91d973ae081a"
      },
      "execution_count": 53,
      "outputs": [
        {
          "output_type": "execute_result",
          "data": {
            "text/plain": [
              "[<matplotlib.lines.Line2D at 0x7f909644c580>]"
            ]
          },
          "metadata": {},
          "execution_count": 53
        },
        {
          "output_type": "display_data",
          "data": {
            "text/plain": [
              "<Figure size 432x288 with 1 Axes>"
            ],
            "image/png": "[encoded data removed]"
          },
          "metadata": {
            "needs_background": "light"
          }
        }
      ]
    },
    {
      "cell_type": "code",
      "source": [
        "def sigmoid(x):\n",
        "  return (1/(1+tf.exp(-x)))\n"
      ],
      "metadata": {
        "id": "ObFyKkwWHAIq"
      },
      "execution_count": 63,
      "outputs": []
    },
    {
      "cell_type": "code",
      "source": [
        "plt.plot(sigmoid(A))"
      ],
      "metadata": {
        "colab": {
          "base_uri": "https://localhost:8080/",
          "height": 283
        },
        "id": "y9dxoTTcHgwt",
        "outputId": "2e4e0a63-9f30-4aff-ab1e-7a4f67578d2b"
      },
      "execution_count": 64,
      "outputs": [
        {
          "output_type": "execute_result",
          "data": {
            "text/plain": [
              "[<matplotlib.lines.Line2D at 0x7f909627be80>]"
            ]
          },
          "metadata": {},
          "execution_count": 64
        },
        {
          "output_type": "display_data",
          "data": {
            "text/plain": [
              "<Figure size 432x288 with 1 Axes>"
            ],
            "image/png": "[encoded data removed]"
          },
          "metadata": {
            "needs_background": "light"
          }
        }
      ]
    },
    {
      "cell_type": "code",
      "source": [
        "def relu(x):\n",
        " return tf.maximum(0,x)"
      ],
      "metadata": {
        "id": "2iCISZSiHl5-"
      },
      "execution_count": 66,
      "outputs": []
    },
    {
      "cell_type": "code",
      "source": [
        "plt.plot(relu(A))"
      ],
      "metadata": {
        "colab": {
          "base_uri": "https://localhost:8080/",
          "height": 283
        },
        "id": "O5jcP5U5Hm2o",
        "outputId": "173acfb0-1371-4001-92a9-1a212311fdb6"
      },
      "execution_count": 67,
      "outputs": [
        {
          "output_type": "execute_result",
          "data": {
            "text/plain": [
              "[<matplotlib.lines.Line2D at 0x7f9096225af0>]"
            ]
          },
          "metadata": {},
          "execution_count": 67
        },
        {
          "output_type": "display_data",
          "data": {
            "text/plain": [
              "<Figure size 432x288 with 1 Axes>"
            ],
            "image/png": "[encoded data removed]"
          },
          "metadata": {
            "needs_background": "light"
          }
        }
      ]
    },
    {
      "cell_type": "code",
      "source": [
        "def linear(x):\n",
        "  return x"
      ],
      "metadata": {
        "id": "8YItmC08ISor"
      },
      "execution_count": 68,
      "outputs": []
    },
    {
      "cell_type": "code",
      "source": [
        "plt.plot(linear(A))"
      ],
      "metadata": {
        "colab": {
          "base_uri": "https://localhost:8080/",
          "height": 283
        },
        "id": "8OGbpZdRJI31",
        "outputId": "8e127549-5014-4420-fc02-3c417df1b25a"
      },
      "execution_count": 69,
      "outputs": [
        {
          "output_type": "execute_result",
          "data": {
            "text/plain": [
              "[<matplotlib.lines.Line2D at 0x7f90961a8f40>]"
            ]
          },
          "metadata": {},
          "execution_count": 69
        },
        {
          "output_type": "display_data",
          "data": {
            "text/plain": [
              "<Figure size 432x288 with 1 Axes>"
            ],
            "image/png": "[encoded data removed]"
          },
          "metadata": {
            "needs_background": "light"
          }
        }
      ]
    },
    {
      "cell_type": "code",
      "source": [],
      "metadata": {
        "id": "snnXIVqaJNWc"
      },
      "execution_count": null,
      "outputs": []
    }
  ]
}
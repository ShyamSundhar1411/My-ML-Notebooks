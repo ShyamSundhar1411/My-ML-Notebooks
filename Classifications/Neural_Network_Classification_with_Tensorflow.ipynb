{
  "nbformat": 4,
  "nbformat_minor": 0,
  "metadata": {
    "colab": {
      "provenance": [],
      "toc_visible": true,
      "authorship_tag": "ABX9TyMZkkBJ09W6nNdUVDl6EGI6",
      "include_colab_link": true
    },
    "kernelspec": {
      "name": "python3",
      "display_name": "Python 3"
    },
    "language_info": {
      "name": "python"
    },
    "accelerator": "GPU",
    "gpuClass": "standard"
  },
  "cells": [
    {
      "cell_type": "markdown",
      "metadata": {
        "id": "view-in-github",
        "colab_type": "text"
      },
      "source": [
        "<a href=\"https://colab.research.google.com/github/ShyamSundhar1411/My-ML-Notebooks/blob/master/Classifications/Neural_Network_Classification_with_Tensorflow.ipynb\" target=\"_parent\"><img src=\"https://colab.research.google.com/assets/colab-badge.svg\" alt=\"Open In Colab\"/></a>"
      ]
    },
    {
      "cell_type": "markdown",
      "source": [
        "# Introduction to Neural Network classification with TensorFlow\n",
        "* Binary Classification\n",
        "* Multiclass Classification\n",
        "* Multilabel Classification"
      ],
      "metadata": {
        "id": "1brS47npy6jC"
      }
    },
    {
      "cell_type": "markdown",
      "source": [
        "## Creating data to view and fit"
      ],
      "metadata": {
        "id": "bS0Nnrc5zDnT"
      }
    },
    {
      "cell_type": "code",
      "source": [
        "from sklearn.datasets import make_circles\n",
        "import numpy as np\n",
        "# Make 1000 samples\n",
        "n_samples = 1000\n",
        "x,y = make_circles(n_samples,noise = 0.03,random_state = 42)"
      ],
      "metadata": {
        "id": "CAPlgfvRzdx7"
      },
      "execution_count": 1,
      "outputs": []
    },
    {
      "cell_type": "code",
      "source": [
        "x"
      ],
      "metadata": {
        "colab": {
          "base_uri": "https://localhost:8080/"
        },
        "id": "YupntXlWz6H1",
        "outputId": "a692e1f6-8a62-480d-ba93-a8b9069492c0"
      },
      "execution_count": 2,
      "outputs": [
        {
          "output_type": "execute_result",
          "data": {
            "text/plain": [
              "array([[ 0.75424625,  0.23148074],\n",
              "       [-0.75615888,  0.15325888],\n",
              "       [-0.81539193,  0.17328203],\n",
              "       ...,\n",
              "       [-0.13690036, -0.81001183],\n",
              "       [ 0.67036156, -0.76750154],\n",
              "       [ 0.28105665,  0.96382443]])"
            ]
          },
          "metadata": {},
          "execution_count": 2
        }
      ]
    },
    {
      "cell_type": "markdown",
      "source": [
        "## Visualizing Dataset"
      ],
      "metadata": {
        "id": "pKTyqZ-I0EFo"
      }
    },
    {
      "cell_type": "code",
      "source": [
        "import pandas as pd\n",
        "circles = pd.DataFrame({\"X0\":x[:,0],\"X1\":x[:,1],\"label\":y})"
      ],
      "metadata": {
        "id": "fh9Rm6k60b28"
      },
      "execution_count": 3,
      "outputs": []
    },
    {
      "cell_type": "code",
      "source": [
        "circles"
      ],
      "metadata": {
        "colab": {
          "base_uri": "https://localhost:8080/",
          "height": 423
        },
        "id": "EEraT3C80wvR",
        "outputId": "0a3c3231-1b12-466f-d386-c508e6ea042c"
      },
      "execution_count": 4,
      "outputs": [
        {
          "output_type": "execute_result",
          "data": {
            "text/plain": [
              "           X0        X1  label\n",
              "0    0.754246  0.231481      1\n",
              "1   -0.756159  0.153259      1\n",
              "2   -0.815392  0.173282      1\n",
              "3   -0.393731  0.692883      1\n",
              "4    0.442208 -0.896723      0\n",
              "..        ...       ...    ...\n",
              "995  0.244054  0.944125      0\n",
              "996 -0.978655 -0.272373      0\n",
              "997 -0.136900 -0.810012      1\n",
              "998  0.670362 -0.767502      0\n",
              "999  0.281057  0.963824      0\n",
              "\n",
              "[1000 rows x 3 columns]"
            ],
            "text/html": [
              "\n",
              "  <div id=\"df-aa1e181b-5165-4a91-8037-261cab198037\">\n",
              "    <div class=\"colab-df-container\">\n",
              "      <div>\n",
              "<style scoped>\n",
              "    .dataframe tbody tr th:only-of-type {\n",
              "        vertical-align: middle;\n",
              "    }\n",
              "\n",
              "    .dataframe tbody tr th {\n",
              "        vertical-align: top;\n",
              "    }\n",
              "\n",
              "    .dataframe thead th {\n",
              "        text-align: right;\n",
              "    }\n",
              "</style>\n",
              "<table border=\"1\" class=\"dataframe\">\n",
              "  <thead>\n",
              "    <tr style=\"text-align: right;\">\n",
              "      <th></th>\n",
              "      <th>X0</th>\n",
              "      <th>X1</th>\n",
              "      <th>label</th>\n",
              "    </tr>\n",
              "  </thead>\n",
              "  <tbody>\n",
              "    <tr>\n",
              "      <th>0</th>\n",
              "      <td>0.754246</td>\n",
              "      <td>0.231481</td>\n",
              "      <td>1</td>\n",
              "    </tr>\n",
              "    <tr>\n",
              "      <th>1</th>\n",
              "      <td>-0.756159</td>\n",
              "      <td>0.153259</td>\n",
              "      <td>1</td>\n",
              "    </tr>\n",
              "    <tr>\n",
              "      <th>2</th>\n",
              "      <td>-0.815392</td>\n",
              "      <td>0.173282</td>\n",
              "      <td>1</td>\n",
              "    </tr>\n",
              "    <tr>\n",
              "      <th>3</th>\n",
              "      <td>-0.393731</td>\n",
              "      <td>0.692883</td>\n",
              "      <td>1</td>\n",
              "    </tr>\n",
              "    <tr>\n",
              "      <th>4</th>\n",
              "      <td>0.442208</td>\n",
              "      <td>-0.896723</td>\n",
              "      <td>0</td>\n",
              "    </tr>\n",
              "    <tr>\n",
              "      <th>...</th>\n",
              "      <td>...</td>\n",
              "      <td>...</td>\n",
              "      <td>...</td>\n",
              "    </tr>\n",
              "    <tr>\n",
              "      <th>995</th>\n",
              "      <td>0.244054</td>\n",
              "      <td>0.944125</td>\n",
              "      <td>0</td>\n",
              "    </tr>\n",
              "    <tr>\n",
              "      <th>996</th>\n",
              "      <td>-0.978655</td>\n",
              "      <td>-0.272373</td>\n",
              "      <td>0</td>\n",
              "    </tr>\n",
              "    <tr>\n",
              "      <th>997</th>\n",
              "      <td>-0.136900</td>\n",
              "      <td>-0.810012</td>\n",
              "      <td>1</td>\n",
              "    </tr>\n",
              "    <tr>\n",
              "      <th>998</th>\n",
              "      <td>0.670362</td>\n",
              "      <td>-0.767502</td>\n",
              "      <td>0</td>\n",
              "    </tr>\n",
              "    <tr>\n",
              "      <th>999</th>\n",
              "      <td>0.281057</td>\n",
              "      <td>0.963824</td>\n",
              "      <td>0</td>\n",
              "    </tr>\n",
              "  </tbody>\n",
              "</table>\n",
              "<p>1000 rows × 3 columns</p>\n",
              "</div>\n",
              "      <button class=\"colab-df-convert\" onclick=\"convertToInteractive('df-aa1e181b-5165-4a91-8037-261cab198037')\"\n",
              "              title=\"Convert this dataframe to an interactive table.\"\n",
              "              style=\"display:none;\">\n",
              "        \n",
              "  <svg xmlns=\"http://www.w3.org/2000/svg\" height=\"24px\"viewBox=\"0 0 24 24\"\n",
              "       width=\"24px\">\n",
              "    <path d=\"M0 0h24v24H0V0z\" fill=\"none\"/>\n",
              "    <path d=\"M18.56 5.44l.94 2.06.94-2.06 2.06-.94-2.06-.94-.94-2.06-.94 2.06-2.06.94zm-11 1L8.5 8.5l.94-2.06 2.06-.94-2.06-.94L8.5 2.5l-.94 2.06-2.06.94zm10 10l.94 2.06.94-2.06 2.06-.94-2.06-.94-.94-2.06-.94 2.06-2.06.94z\"/><path d=\"M17.41 7.96l-1.37-1.37c-.4-.4-.92-.59-1.43-.59-.52 0-1.04.2-1.43.59L10.3 9.45l-7.72 7.72c-.78.78-.78 2.05 0 2.83L4 21.41c.39.39.9.59 1.41.59.51 0 1.02-.2 1.41-.59l7.78-7.78 2.81-2.81c.8-.78.8-2.07 0-2.86zM5.41 20L4 18.59l7.72-7.72 1.47 1.35L5.41 20z\"/>\n",
              "  </svg>\n",
              "      </button>\n",
              "      \n",
              "  <style>\n",
              "    .colab-df-container {\n",
              "      display:flex;\n",
              "      flex-wrap:wrap;\n",
              "      gap: 12px;\n",
              "    }\n",
              "\n",
              "    .colab-df-convert {\n",
              "      background-color: #E8F0FE;\n",
              "      border: none;\n",
              "      border-radius: 50%;\n",
              "      cursor: pointer;\n",
              "      display: none;\n",
              "      fill: #1967D2;\n",
              "      height: 32px;\n",
              "      padding: 0 0 0 0;\n",
              "      width: 32px;\n",
              "    }\n",
              "\n",
              "    .colab-df-convert:hover {\n",
              "      background-color: #E2EBFA;\n",
              "      box-shadow: 0px 1px 2px rgba(60, 64, 67, 0.3), 0px 1px 3px 1px rgba(60, 64, 67, 0.15);\n",
              "      fill: #174EA6;\n",
              "    }\n",
              "\n",
              "    [theme=dark] .colab-df-convert {\n",
              "      background-color: #3B4455;\n",
              "      fill: #D2E3FC;\n",
              "    }\n",
              "\n",
              "    [theme=dark] .colab-df-convert:hover {\n",
              "      background-color: #434B5C;\n",
              "      box-shadow: 0px 1px 3px 1px rgba(0, 0, 0, 0.15);\n",
              "      filter: drop-shadow(0px 1px 2px rgba(0, 0, 0, 0.3));\n",
              "      fill: #FFFFFF;\n",
              "    }\n",
              "  </style>\n",
              "\n",
              "      <script>\n",
              "        const buttonEl =\n",
              "          document.querySelector('#df-aa1e181b-5165-4a91-8037-261cab198037 button.colab-df-convert');\n",
              "        buttonEl.style.display =\n",
              "          google.colab.kernel.accessAllowed ? 'block' : 'none';\n",
              "\n",
              "        async function convertToInteractive(key) {\n",
              "          const element = document.querySelector('#df-aa1e181b-5165-4a91-8037-261cab198037');\n",
              "          const dataTable =\n",
              "            await google.colab.kernel.invokeFunction('convertToInteractive',\n",
              "                                                     [key], {});\n",
              "          if (!dataTable) return;\n",
              "\n",
              "          const docLinkHtml = 'Like what you see? Visit the ' +\n",
              "            '<a target=\"_blank\" href=https://colab.research.google.com/notebooks/data_table.ipynb>data table notebook</a>'\n",
              "            + ' to learn more about interactive tables.';\n",
              "          element.innerHTML = '';\n",
              "          dataTable['output_type'] = 'display_data';\n",
              "          await google.colab.output.renderOutput(dataTable, element);\n",
              "          const docLink = document.createElement('div');\n",
              "          docLink.innerHTML = docLinkHtml;\n",
              "          element.appendChild(docLink);\n",
              "        }\n",
              "      </script>\n",
              "    </div>\n",
              "  </div>\n",
              "  "
            ]
          },
          "metadata": {},
          "execution_count": 4
        }
      ]
    },
    {
      "cell_type": "code",
      "source": [
        "import matplotlib.pyplot as plt"
      ],
      "metadata": {
        "id": "ar8q23vO0yB6"
      },
      "execution_count": 5,
      "outputs": []
    },
    {
      "cell_type": "code",
      "source": [
        "plt.scatter(x[:,0],x[:,1],c = y,cmap = plt.cm.RdYlBu)"
      ],
      "metadata": {
        "colab": {
          "base_uri": "https://localhost:8080/",
          "height": 283
        },
        "id": "-2S59Nle030N",
        "outputId": "726a26ec-0d75-42af-994c-fc99eaa24c3b"
      },
      "execution_count": 6,
      "outputs": [
        {
          "output_type": "execute_result",
          "data": {
            "text/plain": [
              "<matplotlib.collections.PathCollection at 0x7f8f7491b6a0>"
            ]
          },
          "metadata": {},
          "execution_count": 6
        },
        {
          "output_type": "display_data",
          "data": {
            "text/plain": [
              "<Figure size 432x288 with 1 Axes>"
            ],
            "image/png": "[encoded data removed]"
          },
          "metadata": {
            "needs_background": "light"
          }
        }
      ]
    },
    {
      "cell_type": "code",
      "source": [
        "x.shape"
      ],
      "metadata": {
        "colab": {
          "base_uri": "https://localhost:8080/"
        },
        "id": "SyYa_CaI06BA",
        "outputId": "622a4104-1bf4-47da-d440-48324f2a4f12"
      },
      "execution_count": 7,
      "outputs": [
        {
          "output_type": "execute_result",
          "data": {
            "text/plain": [
              "(1000, 2)"
            ]
          },
          "metadata": {},
          "execution_count": 7
        }
      ]
    },
    {
      "cell_type": "code",
      "source": [
        "y.shape"
      ],
      "metadata": {
        "id": "xFSfSS_M1b9N",
        "outputId": "b74af10e-5319-4ae6-c9e3-875d85b55553",
        "colab": {
          "base_uri": "https://localhost:8080/"
        }
      },
      "execution_count": 8,
      "outputs": [
        {
          "output_type": "execute_result",
          "data": {
            "text/plain": [
              "(1000,)"
            ]
          },
          "metadata": {},
          "execution_count": 8
        }
      ]
    },
    {
      "cell_type": "markdown",
      "source": [
        "## Modelling"
      ],
      "metadata": {
        "id": "qCoQAjah1dRR"
      }
    },
    {
      "cell_type": "code",
      "source": [
        "import tensorflow as tf"
      ],
      "metadata": {
        "id": "dGpc0oG6uzB6"
      },
      "execution_count": 9,
      "outputs": []
    },
    {
      "cell_type": "code",
      "source": [
        "tf.random.set_seed(42)\n",
        "model_1 = tf.keras.Sequential([\n",
        "    tf.keras.layers.Dense(16),\n",
        "    tf.keras.layers.Dense(1)\n",
        "\n",
        "])\n",
        "model_1.compile(loss = \"binary_crossentropy\",optimizer = tf.keras.optimizers.Adam(),metrics = [\"accuracy\"])"
      ],
      "metadata": {
        "id": "3h6rZWR8uPdm"
      },
      "execution_count": 10,
      "outputs": []
    },
    {
      "cell_type": "code",
      "source": [
        "model_1.fit(x,y,epochs = 200,verbose = 0)"
      ],
      "metadata": {
        "colab": {
          "base_uri": "https://localhost:8080/"
        },
        "id": "FEB9IM9Eukqn",
        "outputId": "6619ee5f-2023-498f-e1e5-fc2a86113711"
      },
      "execution_count": 11,
      "outputs": [
        {
          "output_type": "execute_result",
          "data": {
            "text/plain": [
              "<keras.callbacks.History at 0x7f8f110e66a0>"
            ]
          },
          "metadata": {},
          "execution_count": 11
        }
      ]
    },
    {
      "cell_type": "code",
      "source": [
        "model_1.evaluate(x,y)"
      ],
      "metadata": {
        "colab": {
          "base_uri": "https://localhost:8080/"
        },
        "id": "Smn291Anu9JG",
        "outputId": "e7388a0d-e746-482c-ac0d-7b86e99ae505"
      },
      "execution_count": 12,
      "outputs": [
        {
          "output_type": "stream",
          "name": "stdout",
          "text": [
            "32/32 [==============================] - 0s 2ms/step - loss: 0.6934 - accuracy: 0.4780\n"
          ]
        },
        {
          "output_type": "execute_result",
          "data": {
            "text/plain": [
              "[0.6934270262718201, 0.4779999852180481]"
            ]
          },
          "metadata": {},
          "execution_count": 12
        }
      ]
    },
    {
      "cell_type": "code",
      "source": [
        "model_2 = tf.keras.Sequential([\n",
        "    tf.keras.layers.Dense(1),\n",
        "    tf.keras.layers.Dense(1),\n",
        "])\n",
        "model_2.compile(loss = \"binary_crossentropy\",optimizer = tf.keras.optimizers.SGD(),metrics = ['accuracy'])"
      ],
      "metadata": {
        "id": "YKB123grvvrf"
      },
      "execution_count": 13,
      "outputs": []
    },
    {
      "cell_type": "code",
      "source": [
        "model_2.fit(x,y,epochs = 100,verbose = 0)"
      ],
      "metadata": {
        "colab": {
          "base_uri": "https://localhost:8080/"
        },
        "id": "yBwm2LBXwYqN",
        "outputId": "879399ef-f628-4286-f754-512ebf4bba47"
      },
      "execution_count": 14,
      "outputs": [
        {
          "output_type": "execute_result",
          "data": {
            "text/plain": [
              "<keras.callbacks.History at 0x7f8f11018dc0>"
            ]
          },
          "metadata": {},
          "execution_count": 14
        }
      ]
    },
    {
      "cell_type": "code",
      "source": [
        "model_2.evaluate(x,y)"
      ],
      "metadata": {
        "colab": {
          "base_uri": "https://localhost:8080/"
        },
        "id": "nvY36FjTwf91",
        "outputId": "963fc6d3-b4d1-4af2-80b1-76dd37a29134"
      },
      "execution_count": 15,
      "outputs": [
        {
          "output_type": "stream",
          "name": "stdout",
          "text": [
            "32/32 [==============================] - 0s 2ms/step - loss: 0.6933 - accuracy: 0.5000\n"
          ]
        },
        {
          "output_type": "execute_result",
          "data": {
            "text/plain": [
              "[0.6933338642120361, 0.5]"
            ]
          },
          "metadata": {},
          "execution_count": 15
        }
      ]
    },
    {
      "cell_type": "code",
      "source": [
        "tf.random.set_seed(42)"
      ],
      "metadata": {
        "id": "Pd02w9eYwhB9"
      },
      "execution_count": 16,
      "outputs": []
    },
    {
      "cell_type": "markdown",
      "source": [
        "##Improving our model"
      ],
      "metadata": {
        "id": "1u5XNJKeWOG4"
      }
    },
    {
      "cell_type": "code",
      "source": [
        "model_3 = tf.keras.Sequential([\n",
        "    tf.keras.layers.Dense(100),\n",
        "    tf.keras.layers.Dense(10),\n",
        "    tf.keras.layers.Dense(1)\n",
        "])\n",
        "model_3.compile(loss = \"binary_crossentropy\",optimizer = tf.keras.optimizers.Adam(),metrics = ['accuracy'])"
      ],
      "metadata": {
        "id": "4TtqvLiRWTxk"
      },
      "execution_count": 17,
      "outputs": []
    },
    {
      "cell_type": "code",
      "source": [
        "model_3.fit(x,y,epochs = 100)"
      ],
      "metadata": {
        "colab": {
          "base_uri": "https://localhost:8080/"
        },
        "id": "jMxzEGDAWg7H",
        "outputId": "78a955ad-ebd7-4833-f5d4-8da6b057f05b"
      },
      "execution_count": 18,
      "outputs": [
        {
          "output_type": "stream",
          "name": "stdout",
          "text": [
            "Epoch 1/100\n",
            "32/32 [==============================] - 1s 3ms/step - loss: 2.9659 - accuracy: 0.4490\n",
            "Epoch 2/100\n",
            "32/32 [==============================] - 0s 3ms/step - loss: 0.7231 - accuracy: 0.4370\n",
            "Epoch 3/100\n",
            "32/32 [==============================] - 0s 3ms/step - loss: 0.6972 - accuracy: 0.4690\n",
            "Epoch 4/100\n",
            "32/32 [==============================] - 0s 3ms/step - loss: 0.6954 - accuracy: 0.4630\n",
            "Epoch 5/100\n",
            "32/32 [==============================] - 0s 3ms/step - loss: 0.6943 - accuracy: 0.4750\n",
            "Epoch 6/100\n",
            "32/32 [==============================] - 0s 3ms/step - loss: 0.6941 - accuracy: 0.4750\n",
            "Epoch 7/100\n",
            "32/32 [==============================] - 0s 3ms/step - loss: 0.6939 - accuracy: 0.5040\n",
            "Epoch 8/100\n",
            "32/32 [==============================] - 0s 3ms/step - loss: 0.6946 - accuracy: 0.4980\n",
            "Epoch 9/100\n",
            "32/32 [==============================] - 0s 3ms/step - loss: 0.6943 - accuracy: 0.4890\n",
            "Epoch 10/100\n",
            "32/32 [==============================] - 0s 3ms/step - loss: 0.6944 - accuracy: 0.4500\n",
            "Epoch 11/100\n",
            "32/32 [==============================] - 0s 3ms/step - loss: 0.6951 - accuracy: 0.4450\n",
            "Epoch 12/100\n",
            "32/32 [==============================] - 0s 3ms/step - loss: 0.6946 - accuracy: 0.4870\n",
            "Epoch 13/100\n",
            "32/32 [==============================] - 0s 3ms/step - loss: 0.6955 - accuracy: 0.4900\n",
            "Epoch 14/100\n",
            "32/32 [==============================] - 0s 3ms/step - loss: 0.6950 - accuracy: 0.5120\n",
            "Epoch 15/100\n",
            "32/32 [==============================] - 0s 3ms/step - loss: 0.6956 - accuracy: 0.4590\n",
            "Epoch 16/100\n",
            "32/32 [==============================] - 0s 3ms/step - loss: 0.6942 - accuracy: 0.4810\n",
            "Epoch 17/100\n",
            "32/32 [==============================] - 0s 3ms/step - loss: 0.6975 - accuracy: 0.4950\n",
            "Epoch 18/100\n",
            "32/32 [==============================] - 0s 3ms/step - loss: 0.6945 - accuracy: 0.4590\n",
            "Epoch 19/100\n",
            "32/32 [==============================] - 0s 3ms/step - loss: 0.6952 - accuracy: 0.5310\n",
            "Epoch 20/100\n",
            "32/32 [==============================] - 0s 3ms/step - loss: 0.6955 - accuracy: 0.4570\n",
            "Epoch 21/100\n",
            "32/32 [==============================] - 0s 3ms/step - loss: 0.6955 - accuracy: 0.4930\n",
            "Epoch 22/100\n",
            "32/32 [==============================] - 0s 3ms/step - loss: 0.6948 - accuracy: 0.4350\n",
            "Epoch 23/100\n",
            "32/32 [==============================] - 0s 3ms/step - loss: 0.6944 - accuracy: 0.4970\n",
            "Epoch 24/100\n",
            "32/32 [==============================] - 0s 3ms/step - loss: 0.6963 - accuracy: 0.4680\n",
            "Epoch 25/100\n",
            "32/32 [==============================] - 0s 3ms/step - loss: 0.6973 - accuracy: 0.4960\n",
            "Epoch 26/100\n",
            "32/32 [==============================] - 0s 3ms/step - loss: 0.6973 - accuracy: 0.4860\n",
            "Epoch 27/100\n",
            "32/32 [==============================] - 0s 3ms/step - loss: 0.6963 - accuracy: 0.5050\n",
            "Epoch 28/100\n",
            "32/32 [==============================] - 0s 3ms/step - loss: 0.6945 - accuracy: 0.4700\n",
            "Epoch 29/100\n",
            "32/32 [==============================] - 0s 3ms/step - loss: 0.6973 - accuracy: 0.4790\n",
            "Epoch 30/100\n",
            "32/32 [==============================] - 0s 3ms/step - loss: 0.6997 - accuracy: 0.4780\n",
            "Epoch 31/100\n",
            "32/32 [==============================] - 0s 3ms/step - loss: 0.6950 - accuracy: 0.5020\n",
            "Epoch 32/100\n",
            "32/32 [==============================] - 0s 3ms/step - loss: 0.6965 - accuracy: 0.4760\n",
            "Epoch 33/100\n",
            "32/32 [==============================] - 0s 3ms/step - loss: 0.6956 - accuracy: 0.4540\n",
            "Epoch 34/100\n",
            "32/32 [==============================] - 0s 3ms/step - loss: 0.6972 - accuracy: 0.4820\n",
            "Epoch 35/100\n",
            "32/32 [==============================] - 0s 3ms/step - loss: 0.6960 - accuracy: 0.5060\n",
            "Epoch 36/100\n",
            "32/32 [==============================] - 0s 3ms/step - loss: 0.6946 - accuracy: 0.4690\n",
            "Epoch 37/100\n",
            "32/32 [==============================] - 0s 3ms/step - loss: 0.6952 - accuracy: 0.4860\n",
            "Epoch 38/100\n",
            "32/32 [==============================] - 0s 3ms/step - loss: 0.6974 - accuracy: 0.4990\n",
            "Epoch 39/100\n",
            "32/32 [==============================] - 0s 3ms/step - loss: 0.6949 - accuracy: 0.4690\n",
            "Epoch 40/100\n",
            "32/32 [==============================] - 0s 3ms/step - loss: 0.6965 - accuracy: 0.4990\n",
            "Epoch 41/100\n",
            "32/32 [==============================] - 0s 3ms/step - loss: 0.6979 - accuracy: 0.4870\n",
            "Epoch 42/100\n",
            "32/32 [==============================] - 0s 3ms/step - loss: 0.6995 - accuracy: 0.4700\n",
            "Epoch 43/100\n",
            "32/32 [==============================] - 0s 3ms/step - loss: 0.6957 - accuracy: 0.5000\n",
            "Epoch 44/100\n",
            "32/32 [==============================] - 0s 3ms/step - loss: 0.6981 - accuracy: 0.4840\n",
            "Epoch 45/100\n",
            "32/32 [==============================] - 0s 3ms/step - loss: 0.6964 - accuracy: 0.5100\n",
            "Epoch 46/100\n",
            "32/32 [==============================] - 0s 3ms/step - loss: 0.6949 - accuracy: 0.4720\n",
            "Epoch 47/100\n",
            "32/32 [==============================] - 0s 3ms/step - loss: 0.6974 - accuracy: 0.5160\n",
            "Epoch 48/100\n",
            "32/32 [==============================] - 0s 3ms/step - loss: 0.6966 - accuracy: 0.4820\n",
            "Epoch 49/100\n",
            "32/32 [==============================] - 0s 3ms/step - loss: 0.6976 - accuracy: 0.4870\n",
            "Epoch 50/100\n",
            "32/32 [==============================] - 0s 3ms/step - loss: 0.6971 - accuracy: 0.4600\n",
            "Epoch 51/100\n",
            "32/32 [==============================] - 0s 3ms/step - loss: 0.6980 - accuracy: 0.4800\n",
            "Epoch 52/100\n",
            "32/32 [==============================] - 0s 3ms/step - loss: 0.6962 - accuracy: 0.5020\n",
            "Epoch 53/100\n",
            "32/32 [==============================] - 0s 3ms/step - loss: 0.6972 - accuracy: 0.4950\n",
            "Epoch 54/100\n",
            "32/32 [==============================] - 0s 3ms/step - loss: 0.6992 - accuracy: 0.5030\n",
            "Epoch 55/100\n",
            "32/32 [==============================] - 0s 3ms/step - loss: 0.6953 - accuracy: 0.5240\n",
            "Epoch 56/100\n",
            "32/32 [==============================] - 0s 3ms/step - loss: 0.6966 - accuracy: 0.4910\n",
            "Epoch 57/100\n",
            "32/32 [==============================] - 0s 3ms/step - loss: 0.6981 - accuracy: 0.4730\n",
            "Epoch 58/100\n",
            "32/32 [==============================] - 0s 3ms/step - loss: 0.6968 - accuracy: 0.4980\n",
            "Epoch 59/100\n",
            "32/32 [==============================] - 0s 3ms/step - loss: 0.7004 - accuracy: 0.4890\n",
            "Epoch 60/100\n",
            "32/32 [==============================] - 0s 3ms/step - loss: 0.7010 - accuracy: 0.4870\n",
            "Epoch 61/100\n",
            "32/32 [==============================] - 0s 3ms/step - loss: 0.6996 - accuracy: 0.4690\n",
            "Epoch 62/100\n",
            "32/32 [==============================] - 0s 3ms/step - loss: 0.6965 - accuracy: 0.4960\n",
            "Epoch 63/100\n",
            "32/32 [==============================] - 0s 3ms/step - loss: 0.6948 - accuracy: 0.4870\n",
            "Epoch 64/100\n",
            "32/32 [==============================] - 0s 3ms/step - loss: 0.6960 - accuracy: 0.4930\n",
            "Epoch 65/100\n",
            "32/32 [==============================] - 0s 3ms/step - loss: 0.6996 - accuracy: 0.4810\n",
            "Epoch 66/100\n",
            "32/32 [==============================] - 0s 3ms/step - loss: 0.6965 - accuracy: 0.5010\n",
            "Epoch 67/100\n",
            "32/32 [==============================] - 0s 3ms/step - loss: 0.6977 - accuracy: 0.4500\n",
            "Epoch 68/100\n",
            "32/32 [==============================] - 0s 3ms/step - loss: 0.6958 - accuracy: 0.5020\n",
            "Epoch 69/100\n",
            "32/32 [==============================] - 0s 3ms/step - loss: 0.6953 - accuracy: 0.5220\n",
            "Epoch 70/100\n",
            "32/32 [==============================] - 0s 3ms/step - loss: 0.6988 - accuracy: 0.4650\n",
            "Epoch 71/100\n",
            "32/32 [==============================] - 0s 3ms/step - loss: 0.6974 - accuracy: 0.4660\n",
            "Epoch 72/100\n",
            "32/32 [==============================] - 0s 3ms/step - loss: 0.6966 - accuracy: 0.5010\n",
            "Epoch 73/100\n",
            "32/32 [==============================] - 0s 3ms/step - loss: 0.6962 - accuracy: 0.4930\n",
            "Epoch 74/100\n",
            "32/32 [==============================] - 0s 3ms/step - loss: 0.6960 - accuracy: 0.5140\n",
            "Epoch 75/100\n",
            "32/32 [==============================] - 0s 3ms/step - loss: 0.6963 - accuracy: 0.4990\n",
            "Epoch 76/100\n",
            "32/32 [==============================] - 0s 3ms/step - loss: 0.6980 - accuracy: 0.4840\n",
            "Epoch 77/100\n",
            "32/32 [==============================] - 0s 3ms/step - loss: 0.6971 - accuracy: 0.5040\n",
            "Epoch 78/100\n",
            "32/32 [==============================] - 0s 3ms/step - loss: 0.6972 - accuracy: 0.4720\n",
            "Epoch 79/100\n",
            "32/32 [==============================] - 0s 3ms/step - loss: 0.7008 - accuracy: 0.5100\n",
            "Epoch 80/100\n",
            "32/32 [==============================] - 0s 3ms/step - loss: 0.6980 - accuracy: 0.4940\n",
            "Epoch 81/100\n",
            "32/32 [==============================] - 0s 3ms/step - loss: 0.6979 - accuracy: 0.5030\n",
            "Epoch 82/100\n",
            "32/32 [==============================] - 0s 3ms/step - loss: 0.6968 - accuracy: 0.4810\n",
            "Epoch 83/100\n",
            "32/32 [==============================] - 0s 3ms/step - loss: 0.7002 - accuracy: 0.4480\n",
            "Epoch 84/100\n",
            "32/32 [==============================] - 0s 3ms/step - loss: 0.6963 - accuracy: 0.4980\n",
            "Epoch 85/100\n",
            "32/32 [==============================] - 0s 3ms/step - loss: 0.6967 - accuracy: 0.4600\n",
            "Epoch 86/100\n",
            "32/32 [==============================] - 0s 3ms/step - loss: 0.7002 - accuracy: 0.4900\n",
            "Epoch 87/100\n",
            "32/32 [==============================] - 0s 3ms/step - loss: 0.6977 - accuracy: 0.4530\n",
            "Epoch 88/100\n",
            "32/32 [==============================] - 0s 3ms/step - loss: 0.6981 - accuracy: 0.4600\n",
            "Epoch 89/100\n",
            "32/32 [==============================] - 0s 3ms/step - loss: 0.6979 - accuracy: 0.4760\n",
            "Epoch 90/100\n",
            "32/32 [==============================] - 0s 3ms/step - loss: 0.6980 - accuracy: 0.4630\n",
            "Epoch 91/100\n",
            "32/32 [==============================] - 0s 3ms/step - loss: 0.6984 - accuracy: 0.4950\n",
            "Epoch 92/100\n",
            "32/32 [==============================] - 0s 3ms/step - loss: 0.6988 - accuracy: 0.4760\n",
            "Epoch 93/100\n",
            "32/32 [==============================] - 0s 3ms/step - loss: 0.6982 - accuracy: 0.4690\n",
            "Epoch 94/100\n",
            "32/32 [==============================] - 0s 3ms/step - loss: 0.7005 - accuracy: 0.4790\n",
            "Epoch 95/100\n",
            "32/32 [==============================] - 0s 3ms/step - loss: 0.6974 - accuracy: 0.4520\n",
            "Epoch 96/100\n",
            "32/32 [==============================] - 0s 3ms/step - loss: 0.6980 - accuracy: 0.4790\n",
            "Epoch 97/100\n",
            "32/32 [==============================] - 0s 3ms/step - loss: 0.6973 - accuracy: 0.4580\n",
            "Epoch 98/100\n",
            "32/32 [==============================] - 0s 3ms/step - loss: 0.6989 - accuracy: 0.4790\n",
            "Epoch 99/100\n",
            "32/32 [==============================] - 0s 3ms/step - loss: 0.6976 - accuracy: 0.5090\n",
            "Epoch 100/100\n",
            "32/32 [==============================] - 0s 3ms/step - loss: 0.6966 - accuracy: 0.4870\n"
          ]
        },
        {
          "output_type": "execute_result",
          "data": {
            "text/plain": [
              "<keras.callbacks.History at 0x7f8f10f49610>"
            ]
          },
          "metadata": {},
          "execution_count": 18
        }
      ]
    },
    {
      "cell_type": "code",
      "source": [
        "model_3.evaluate(x,y)"
      ],
      "metadata": {
        "colab": {
          "base_uri": "https://localhost:8080/"
        },
        "id": "G4id7QbeWwgG",
        "outputId": "5f5d2e7a-4a5f-4a00-c2a2-fd9fcd18c0e8"
      },
      "execution_count": 19,
      "outputs": [
        {
          "output_type": "stream",
          "name": "stdout",
          "text": [
            "32/32 [==============================] - 0s 2ms/step - loss: 0.6980 - accuracy: 0.5090\n"
          ]
        },
        {
          "output_type": "execute_result",
          "data": {
            "text/plain": [
              "[0.6980189681053162, 0.5090000033378601]"
            ]
          },
          "metadata": {},
          "execution_count": 19
        }
      ]
    },
    {
      "cell_type": "code",
      "source": [
        "model_3.predict(x)"
      ],
      "metadata": {
        "colab": {
          "base_uri": "https://localhost:8080/"
        },
        "id": "kWZvoPlIW4pX",
        "outputId": "060538a1-9576-47f9-f5eb-e938c7176a24"
      },
      "execution_count": 20,
      "outputs": [
        {
          "output_type": "stream",
          "name": "stdout",
          "text": [
            "32/32 [==============================] - 0s 1ms/step\n"
          ]
        },
        {
          "output_type": "execute_result",
          "data": {
            "text/plain": [
              "array([[0.48797858],\n",
              "       [0.558722  ],\n",
              "       [0.56276864],\n",
              "       [0.5704469 ],\n",
              "       [0.44131792],\n",
              "       [0.5738098 ],\n",
              "       [0.5576471 ],\n",
              "       [0.4825074 ],\n",
              "       [0.4773957 ],\n",
              "       [0.57502675],\n",
              "       [0.51464796],\n",
              "       [0.5309537 ],\n",
              "       [0.56436497],\n",
              "       [0.45786655],\n",
              "       [0.45048136],\n",
              "       [0.4611851 ],\n",
              "       [0.54033715],\n",
              "       [0.46368194],\n",
              "       [0.5477958 ],\n",
              "       [0.5035379 ],\n",
              "       [0.5063536 ],\n",
              "       [0.5876874 ],\n",
              "       [0.45886296],\n",
              "       [0.49128157],\n",
              "       [0.5830694 ],\n",
              "       [0.5702526 ],\n",
              "       [0.55244607],\n",
              "       [0.46319485],\n",
              "       [0.45762748],\n",
              "       [0.45438194],\n",
              "       [0.4785313 ],\n",
              "       [0.5785489 ],\n",
              "       [0.55546117],\n",
              "       [0.46345025],\n",
              "       [0.4583149 ],\n",
              "       [0.58975595],\n",
              "       [0.57238066],\n",
              "       [0.5297936 ],\n",
              "       [0.4586025 ],\n",
              "       [0.51101005],\n",
              "       [0.49972594],\n",
              "       [0.546367  ],\n",
              "       [0.51076806],\n",
              "       [0.457987  ],\n",
              "       [0.5220983 ],\n",
              "       [0.538662  ],\n",
              "       [0.44865048],\n",
              "       [0.54436743],\n",
              "       [0.43544197],\n",
              "       [0.49363118],\n",
              "       [0.5227601 ],\n",
              "       [0.46450895],\n",
              "       [0.5528683 ],\n",
              "       [0.52251893],\n",
              "       [0.48314846],\n",
              "       [0.487705  ],\n",
              "       [0.5528327 ],\n",
              "       [0.47156656],\n",
              "       [0.5810507 ],\n",
              "       [0.5045043 ],\n",
              "       [0.51855195],\n",
              "       [0.5021411 ],\n",
              "       [0.5016073 ],\n",
              "       [0.58518547],\n",
              "       [0.54403585],\n",
              "       [0.57281077],\n",
              "       [0.5664942 ],\n",
              "       [0.4738137 ],\n",
              "       [0.5214846 ],\n",
              "       [0.5014736 ],\n",
              "       [0.55510306],\n",
              "       [0.45800054],\n",
              "       [0.5331759 ],\n",
              "       [0.5573205 ],\n",
              "       [0.52511364],\n",
              "       [0.5306761 ],\n",
              "       [0.5633827 ],\n",
              "       [0.49422777],\n",
              "       [0.5403797 ],\n",
              "       [0.5145047 ],\n",
              "       [0.5671117 ],\n",
              "       [0.5163199 ],\n",
              "       [0.537489  ],\n",
              "       [0.5224239 ],\n",
              "       [0.5022686 ],\n",
              "       [0.5076967 ],\n",
              "       [0.46975315],\n",
              "       [0.5679627 ],\n",
              "       [0.5528533 ],\n",
              "       [0.49885434],\n",
              "       [0.45164508],\n",
              "       [0.44188315],\n",
              "       [0.48667198],\n",
              "       [0.58233535],\n",
              "       [0.53003913],\n",
              "       [0.43405497],\n",
              "       [0.54497373],\n",
              "       [0.5427733 ],\n",
              "       [0.5179464 ],\n",
              "       [0.496217  ],\n",
              "       [0.563394  ],\n",
              "       [0.47124213],\n",
              "       [0.45352972],\n",
              "       [0.55468506],\n",
              "       [0.560338  ],\n",
              "       [0.5690858 ],\n",
              "       [0.51035225],\n",
              "       [0.45556873],\n",
              "       [0.58249485],\n",
              "       [0.45625997],\n",
              "       [0.49071336],\n",
              "       [0.5050275 ],\n",
              "       [0.46991342],\n",
              "       [0.50863135],\n",
              "       [0.53653973],\n",
              "       [0.438321  ],\n",
              "       [0.5867376 ],\n",
              "       [0.46415007],\n",
              "       [0.49696982],\n",
              "       [0.52505267],\n",
              "       [0.46017712],\n",
              "       [0.43710077],\n",
              "       [0.57016027],\n",
              "       [0.55801886],\n",
              "       [0.57436043],\n",
              "       [0.5137665 ],\n",
              "       [0.5269605 ],\n",
              "       [0.44198692],\n",
              "       [0.4720078 ],\n",
              "       [0.5219326 ],\n",
              "       [0.5407082 ],\n",
              "       [0.4807585 ],\n",
              "       [0.54784155],\n",
              "       [0.4694082 ],\n",
              "       [0.4908719 ],\n",
              "       [0.51215136],\n",
              "       [0.5636932 ],\n",
              "       [0.58088845],\n",
              "       [0.48335803],\n",
              "       [0.5280511 ],\n",
              "       [0.49823648],\n",
              "       [0.55989474],\n",
              "       [0.5664962 ],\n",
              "       [0.54020697],\n",
              "       [0.46061027],\n",
              "       [0.4532407 ],\n",
              "       [0.511967  ],\n",
              "       [0.56502   ],\n",
              "       [0.5031505 ],\n",
              "       [0.4998641 ],\n",
              "       [0.5644649 ],\n",
              "       [0.5811913 ],\n",
              "       [0.46355945],\n",
              "       [0.44012296],\n",
              "       [0.45459598],\n",
              "       [0.44468784],\n",
              "       [0.5126666 ],\n",
              "       [0.56830674],\n",
              "       [0.51543933],\n",
              "       [0.4616273 ],\n",
              "       [0.54280525],\n",
              "       [0.54097635],\n",
              "       [0.5627584 ],\n",
              "       [0.5701197 ],\n",
              "       [0.4740985 ],\n",
              "       [0.5702605 ],\n",
              "       [0.5229446 ],\n",
              "       [0.57258284],\n",
              "       [0.5085093 ],\n",
              "       [0.51296836],\n",
              "       [0.46632266],\n",
              "       [0.4522053 ],\n",
              "       [0.557556  ],\n",
              "       [0.4675973 ],\n",
              "       [0.4504537 ],\n",
              "       [0.46580315],\n",
              "       [0.5562075 ],\n",
              "       [0.5539821 ],\n",
              "       [0.5164068 ],\n",
              "       [0.5711472 ],\n",
              "       [0.45481724],\n",
              "       [0.57163626],\n",
              "       [0.4559785 ],\n",
              "       [0.49003047],\n",
              "       [0.49064428],\n",
              "       [0.57557136],\n",
              "       [0.47027326],\n",
              "       [0.46109432],\n",
              "       [0.4543848 ],\n",
              "       [0.5548702 ],\n",
              "       [0.45588058],\n",
              "       [0.49816918],\n",
              "       [0.56907296],\n",
              "       [0.5839148 ],\n",
              "       [0.58304316],\n",
              "       [0.4468243 ],\n",
              "       [0.48933452],\n",
              "       [0.5833363 ],\n",
              "       [0.54982233],\n",
              "       [0.5288147 ],\n",
              "       [0.48511267],\n",
              "       [0.4947201 ],\n",
              "       [0.5715709 ],\n",
              "       [0.5119811 ],\n",
              "       [0.4944641 ],\n",
              "       [0.5386712 ],\n",
              "       [0.5863821 ],\n",
              "       [0.45264035],\n",
              "       [0.46115232],\n",
              "       [0.5022177 ],\n",
              "       [0.5221604 ],\n",
              "       [0.5792106 ],\n",
              "       [0.45404482],\n",
              "       [0.4980712 ],\n",
              "       [0.56381756],\n",
              "       [0.48857427],\n",
              "       [0.5705442 ],\n",
              "       [0.5621745 ],\n",
              "       [0.45630533],\n",
              "       [0.5656286 ],\n",
              "       [0.5180298 ],\n",
              "       [0.5618269 ],\n",
              "       [0.46153265],\n",
              "       [0.50302047],\n",
              "       [0.4577303 ],\n",
              "       [0.46396852],\n",
              "       [0.502024  ],\n",
              "       [0.4739225 ],\n",
              "       [0.45523834],\n",
              "       [0.49675786],\n",
              "       [0.48326498],\n",
              "       [0.47114235],\n",
              "       [0.4538626 ],\n",
              "       [0.52800894],\n",
              "       [0.49031347],\n",
              "       [0.48832422],\n",
              "       [0.57496023],\n",
              "       [0.45282495],\n",
              "       [0.58910435],\n",
              "       [0.4927386 ],\n",
              "       [0.46622247],\n",
              "       [0.5826183 ],\n",
              "       [0.48133165],\n",
              "       [0.5209831 ],\n",
              "       [0.5205726 ],\n",
              "       [0.5598718 ],\n",
              "       [0.44005936],\n",
              "       [0.5289959 ],\n",
              "       [0.5333005 ],\n",
              "       [0.5325413 ],\n",
              "       [0.53265905],\n",
              "       [0.4672646 ],\n",
              "       [0.5294041 ],\n",
              "       [0.46246016],\n",
              "       [0.44944328],\n",
              "       [0.5014115 ],\n",
              "       [0.48380142],\n",
              "       [0.4514938 ],\n",
              "       [0.45112973],\n",
              "       [0.46843892],\n",
              "       [0.5652966 ],\n",
              "       [0.44670564],\n",
              "       [0.5440348 ],\n",
              "       [0.55249894],\n",
              "       [0.4709069 ],\n",
              "       [0.4703256 ],\n",
              "       [0.5220407 ],\n",
              "       [0.45566934],\n",
              "       [0.5592301 ],\n",
              "       [0.45280576],\n",
              "       [0.45498186],\n",
              "       [0.56425077],\n",
              "       [0.45938766],\n",
              "       [0.56293416],\n",
              "       [0.48915708],\n",
              "       [0.47753608],\n",
              "       [0.58793783],\n",
              "       [0.5467239 ],\n",
              "       [0.5320098 ],\n",
              "       [0.52945477],\n",
              "       [0.5312517 ],\n",
              "       [0.5245312 ],\n",
              "       [0.5685854 ],\n",
              "       [0.5304826 ],\n",
              "       [0.5829295 ],\n",
              "       [0.56955695],\n",
              "       [0.4729554 ],\n",
              "       [0.44156712],\n",
              "       [0.5741223 ],\n",
              "       [0.45649636],\n",
              "       [0.45383358],\n",
              "       [0.5228791 ],\n",
              "       [0.4728886 ],\n",
              "       [0.4438994 ],\n",
              "       [0.46406138],\n",
              "       [0.44353002],\n",
              "       [0.4525441 ],\n",
              "       [0.4425608 ],\n",
              "       [0.46985763],\n",
              "       [0.58316195],\n",
              "       [0.49842042],\n",
              "       [0.43967116],\n",
              "       [0.45414364],\n",
              "       [0.44103712],\n",
              "       [0.535472  ],\n",
              "       [0.45367235],\n",
              "       [0.4840682 ],\n",
              "       [0.52345556],\n",
              "       [0.45328337],\n",
              "       [0.52013403],\n",
              "       [0.5395802 ],\n",
              "       [0.4904483 ],\n",
              "       [0.5290095 ],\n",
              "       [0.56700116],\n",
              "       [0.44325697],\n",
              "       [0.43976504],\n",
              "       [0.5738234 ],\n",
              "       [0.47398633],\n",
              "       [0.565334  ],\n",
              "       [0.57977355],\n",
              "       [0.5299128 ],\n",
              "       [0.5774747 ],\n",
              "       [0.5196273 ],\n",
              "       [0.5577779 ],\n",
              "       [0.53435487],\n",
              "       [0.47746998],\n",
              "       [0.47940433],\n",
              "       [0.45135605],\n",
              "       [0.5701782 ],\n",
              "       [0.5702412 ],\n",
              "       [0.56814593],\n",
              "       [0.50619256],\n",
              "       [0.5635628 ],\n",
              "       [0.5533664 ],\n",
              "       [0.46101528],\n",
              "       [0.5069    ],\n",
              "       [0.5705407 ],\n",
              "       [0.50696605],\n",
              "       [0.46518928],\n",
              "       [0.4929012 ],\n",
              "       [0.44747323],\n",
              "       [0.44248676],\n",
              "       [0.58651143],\n",
              "       [0.56647056],\n",
              "       [0.450763  ],\n",
              "       [0.44001818],\n",
              "       [0.5084858 ],\n",
              "       [0.45880836],\n",
              "       [0.5434895 ],\n",
              "       [0.45213366],\n",
              "       [0.58967906],\n",
              "       [0.5434925 ],\n",
              "       [0.4623018 ],\n",
              "       [0.5258049 ],\n",
              "       [0.52752364],\n",
              "       [0.5739085 ],\n",
              "       [0.5220139 ],\n",
              "       [0.43615317],\n",
              "       [0.49245465],\n",
              "       [0.5764633 ],\n",
              "       [0.44031715],\n",
              "       [0.5305378 ],\n",
              "       [0.5750874 ],\n",
              "       [0.4414981 ],\n",
              "       [0.5849203 ],\n",
              "       [0.4851719 ],\n",
              "       [0.5388977 ],\n",
              "       [0.587402  ],\n",
              "       [0.44887066],\n",
              "       [0.47669607],\n",
              "       [0.58449566],\n",
              "       [0.5695101 ],\n",
              "       [0.57748055],\n",
              "       [0.58885103],\n",
              "       [0.4674474 ],\n",
              "       [0.55551034],\n",
              "       [0.45104587],\n",
              "       [0.52996033],\n",
              "       [0.45609725],\n",
              "       [0.5099318 ],\n",
              "       [0.56593704],\n",
              "       [0.5802764 ],\n",
              "       [0.5287167 ],\n",
              "       [0.571311  ],\n",
              "       [0.5785211 ],\n",
              "       [0.45546794],\n",
              "       [0.47774047],\n",
              "       [0.5702234 ],\n",
              "       [0.4648134 ],\n",
              "       [0.5396978 ],\n",
              "       [0.5878092 ],\n",
              "       [0.49677366],\n",
              "       [0.57069755],\n",
              "       [0.5545284 ],\n",
              "       [0.5330522 ],\n",
              "       [0.51426584],\n",
              "       [0.44621658],\n",
              "       [0.44014865],\n",
              "       [0.5502564 ],\n",
              "       [0.47013694],\n",
              "       [0.47929823],\n",
              "       [0.4449728 ],\n",
              "       [0.49813503],\n",
              "       [0.49322826],\n",
              "       [0.55051833],\n",
              "       [0.56952375],\n",
              "       [0.45503098],\n",
              "       [0.4920594 ],\n",
              "       [0.50753015],\n",
              "       [0.4738084 ],\n",
              "       [0.4852515 ],\n",
              "       [0.4517241 ],\n",
              "       [0.5326537 ],\n",
              "       [0.5484271 ],\n",
              "       [0.50800806],\n",
              "       [0.5704296 ],\n",
              "       [0.57195735],\n",
              "       [0.49626154],\n",
              "       [0.48508203],\n",
              "       [0.44146568],\n",
              "       [0.47935003],\n",
              "       [0.56793135],\n",
              "       [0.45135427],\n",
              "       [0.5231935 ],\n",
              "       [0.43777245],\n",
              "       [0.46376604],\n",
              "       [0.5352332 ],\n",
              "       [0.5135402 ],\n",
              "       [0.565282  ],\n",
              "       [0.5467291 ],\n",
              "       [0.53524005],\n",
              "       [0.46593893],\n",
              "       [0.47353774],\n",
              "       [0.44241136],\n",
              "       [0.5411633 ],\n",
              "       [0.47172266],\n",
              "       [0.58875644],\n",
              "       [0.46100157],\n",
              "       [0.46452075],\n",
              "       [0.5508249 ],\n",
              "       [0.5772803 ],\n",
              "       [0.52297527],\n",
              "       [0.4589283 ],\n",
              "       [0.57129174],\n",
              "       [0.5027446 ],\n",
              "       [0.52746   ],\n",
              "       [0.5585105 ],\n",
              "       [0.5864706 ],\n",
              "       [0.5728627 ],\n",
              "       [0.5711196 ],\n",
              "       [0.53217936],\n",
              "       [0.4693781 ],\n",
              "       [0.44534862],\n",
              "       [0.5849369 ],\n",
              "       [0.5621113 ],\n",
              "       [0.5639498 ],\n",
              "       [0.46231705],\n",
              "       [0.5720913 ],\n",
              "       [0.4593191 ],\n",
              "       [0.4415108 ],\n",
              "       [0.5243932 ],\n",
              "       [0.5570956 ],\n",
              "       [0.5383371 ],\n",
              "       [0.458198  ],\n",
              "       [0.44819772],\n",
              "       [0.55492616],\n",
              "       [0.56076473],\n",
              "       [0.43939447],\n",
              "       [0.48627412],\n",
              "       [0.4414267 ],\n",
              "       [0.44690496],\n",
              "       [0.5393662 ],\n",
              "       [0.45071185],\n",
              "       [0.53888947],\n",
              "       [0.48368645],\n",
              "       [0.46545327],\n",
              "       [0.45440656],\n",
              "       [0.45249462],\n",
              "       [0.54781324],\n",
              "       [0.5398899 ],\n",
              "       [0.5464095 ],\n",
              "       [0.5445192 ],\n",
              "       [0.47653693],\n",
              "       [0.44572604],\n",
              "       [0.49511367],\n",
              "       [0.49546522],\n",
              "       [0.49819463],\n",
              "       [0.4891491 ],\n",
              "       [0.58628595],\n",
              "       [0.45875692],\n",
              "       [0.46313584],\n",
              "       [0.54282796],\n",
              "       [0.54918385],\n",
              "       [0.55181444],\n",
              "       [0.44193238],\n",
              "       [0.5848688 ],\n",
              "       [0.44037628],\n",
              "       [0.44285494],\n",
              "       [0.47277588],\n",
              "       [0.4643672 ],\n",
              "       [0.57602197],\n",
              "       [0.5866062 ],\n",
              "       [0.44463068],\n",
              "       [0.45414186],\n",
              "       [0.5237886 ],\n",
              "       [0.45661104],\n",
              "       [0.57116514],\n",
              "       [0.4526192 ],\n",
              "       [0.458768  ],\n",
              "       [0.55265963],\n",
              "       [0.55533975],\n",
              "       [0.4985867 ],\n",
              "       [0.48813152],\n",
              "       [0.4733299 ],\n",
              "       [0.4974103 ],\n",
              "       [0.5449926 ],\n",
              "       [0.5809326 ],\n",
              "       [0.5927673 ],\n",
              "       [0.4649639 ],\n",
              "       [0.48062283],\n",
              "       [0.4706565 ],\n",
              "       [0.5689624 ],\n",
              "       [0.479145  ],\n",
              "       [0.4846949 ],\n",
              "       [0.44096678],\n",
              "       [0.5059476 ],\n",
              "       [0.4964322 ],\n",
              "       [0.588652  ],\n",
              "       [0.55484515],\n",
              "       [0.5451431 ],\n",
              "       [0.5104198 ],\n",
              "       [0.5225046 ],\n",
              "       [0.55718756],\n",
              "       [0.5353072 ],\n",
              "       [0.48401904],\n",
              "       [0.44081926],\n",
              "       [0.5829373 ],\n",
              "       [0.52754754],\n",
              "       [0.561044  ],\n",
              "       [0.44076586],\n",
              "       [0.58821934],\n",
              "       [0.5455883 ],\n",
              "       [0.56837964],\n",
              "       [0.45777267],\n",
              "       [0.564261  ],\n",
              "       [0.452892  ],\n",
              "       [0.47856522],\n",
              "       [0.5024182 ],\n",
              "       [0.5359694 ],\n",
              "       [0.5664746 ],\n",
              "       [0.56303966],\n",
              "       [0.44746792],\n",
              "       [0.57244337],\n",
              "       [0.50977707],\n",
              "       [0.47652704],\n",
              "       [0.4555897 ],\n",
              "       [0.46073306],\n",
              "       [0.54830074],\n",
              "       [0.50184786],\n",
              "       [0.4778145 ],\n",
              "       [0.58562374],\n",
              "       [0.4700967 ],\n",
              "       [0.49611765],\n",
              "       [0.55965614],\n",
              "       [0.5506555 ],\n",
              "       [0.4362647 ],\n",
              "       [0.57413703],\n",
              "       [0.5132314 ],\n",
              "       [0.48552895],\n",
              "       [0.45605522],\n",
              "       [0.5802417 ],\n",
              "       [0.56480867],\n",
              "       [0.53012764],\n",
              "       [0.50920975],\n",
              "       [0.47543532],\n",
              "       [0.4537031 ],\n",
              "       [0.5752258 ],\n",
              "       [0.4425823 ],\n",
              "       [0.44679368],\n",
              "       [0.5588287 ],\n",
              "       [0.5015431 ],\n",
              "       [0.4805473 ],\n",
              "       [0.5085412 ],\n",
              "       [0.5263267 ],\n",
              "       [0.51618314],\n",
              "       [0.44321722],\n",
              "       [0.4986242 ],\n",
              "       [0.55297875],\n",
              "       [0.49550354],\n",
              "       [0.5860069 ],\n",
              "       [0.564477  ],\n",
              "       [0.49925405],\n",
              "       [0.57269585],\n",
              "       [0.5504225 ],\n",
              "       [0.47585577],\n",
              "       [0.5802747 ],\n",
              "       [0.5308383 ],\n",
              "       [0.545135  ],\n",
              "       [0.5229108 ],\n",
              "       [0.5598574 ],\n",
              "       [0.47282976],\n",
              "       [0.5698838 ],\n",
              "       [0.4990881 ],\n",
              "       [0.5566679 ],\n",
              "       [0.5679302 ],\n",
              "       [0.4588337 ],\n",
              "       [0.58805114],\n",
              "       [0.56180817],\n",
              "       [0.5554852 ],\n",
              "       [0.54769343],\n",
              "       [0.58405447],\n",
              "       [0.5186476 ],\n",
              "       [0.5422486 ],\n",
              "       [0.5693385 ],\n",
              "       [0.5676669 ],\n",
              "       [0.57353866],\n",
              "       [0.45923853],\n",
              "       [0.48280382],\n",
              "       [0.46375275],\n",
              "       [0.49703425],\n",
              "       [0.45596397],\n",
              "       [0.57986283],\n",
              "       [0.47932923],\n",
              "       [0.5832794 ],\n",
              "       [0.47524387],\n",
              "       [0.47972012],\n",
              "       [0.5004669 ],\n",
              "       [0.46364796],\n",
              "       [0.4526875 ],\n",
              "       [0.48275453],\n",
              "       [0.4567243 ],\n",
              "       [0.44714105],\n",
              "       [0.5377878 ],\n",
              "       [0.5660527 ],\n",
              "       [0.46661866],\n",
              "       [0.5754499 ],\n",
              "       [0.4847057 ],\n",
              "       [0.45305294],\n",
              "       [0.4373483 ],\n",
              "       [0.45641333],\n",
              "       [0.46256238],\n",
              "       [0.5758632 ],\n",
              "       [0.48991418],\n",
              "       [0.456923  ],\n",
              "       [0.45831424],\n",
              "       [0.44118857],\n",
              "       [0.45950508],\n",
              "       [0.4835466 ],\n",
              "       [0.56876457],\n",
              "       [0.49051934],\n",
              "       [0.58144814],\n",
              "       [0.4846486 ],\n",
              "       [0.47537208],\n",
              "       [0.47533548],\n",
              "       [0.45521164],\n",
              "       [0.49638182],\n",
              "       [0.5306673 ],\n",
              "       [0.45888937],\n",
              "       [0.585802  ],\n",
              "       [0.46101356],\n",
              "       [0.5801264 ],\n",
              "       [0.5221316 ],\n",
              "       [0.467601  ],\n",
              "       [0.5503358 ],\n",
              "       [0.5579165 ],\n",
              "       [0.5806302 ],\n",
              "       [0.5710069 ],\n",
              "       [0.54853773],\n",
              "       [0.44393432],\n",
              "       [0.43613154],\n",
              "       [0.55062866],\n",
              "       [0.5320892 ],\n",
              "       [0.53426534],\n",
              "       [0.572493  ],\n",
              "       [0.5660072 ],\n",
              "       [0.50819445],\n",
              "       [0.5819748 ],\n",
              "       [0.44368953],\n",
              "       [0.4498151 ],\n",
              "       [0.58143646],\n",
              "       [0.567134  ],\n",
              "       [0.49005204],\n",
              "       [0.54552376],\n",
              "       [0.4692434 ],\n",
              "       [0.51446855],\n",
              "       [0.48764682],\n",
              "       [0.43894744],\n",
              "       [0.57137525],\n",
              "       [0.56133354],\n",
              "       [0.51666975],\n",
              "       [0.55317897],\n",
              "       [0.5211726 ],\n",
              "       [0.5584423 ],\n",
              "       [0.5638573 ],\n",
              "       [0.46257263],\n",
              "       [0.5559877 ],\n",
              "       [0.54680204],\n",
              "       [0.5239568 ],\n",
              "       [0.4420455 ],\n",
              "       [0.58122873],\n",
              "       [0.52559716],\n",
              "       [0.5590941 ],\n",
              "       [0.4578495 ],\n",
              "       [0.5041159 ],\n",
              "       [0.46541226],\n",
              "       [0.4532221 ],\n",
              "       [0.58113617],\n",
              "       [0.5756982 ],\n",
              "       [0.56257504],\n",
              "       [0.45377213],\n",
              "       [0.5575266 ],\n",
              "       [0.5667081 ],\n",
              "       [0.47748297],\n",
              "       [0.4457947 ],\n",
              "       [0.4977473 ],\n",
              "       [0.58525175],\n",
              "       [0.56745404],\n",
              "       [0.48101783],\n",
              "       [0.54884803],\n",
              "       [0.5787284 ],\n",
              "       [0.4559055 ],\n",
              "       [0.58519775],\n",
              "       [0.5475753 ],\n",
              "       [0.5404527 ],\n",
              "       [0.5272954 ],\n",
              "       [0.44277853],\n",
              "       [0.5662963 ],\n",
              "       [0.5859679 ],\n",
              "       [0.58510834],\n",
              "       [0.4362861 ],\n",
              "       [0.5664889 ],\n",
              "       [0.4419399 ],\n",
              "       [0.45543104],\n",
              "       [0.54341215],\n",
              "       [0.46127957],\n",
              "       [0.49505287],\n",
              "       [0.46479702],\n",
              "       [0.5648378 ],\n",
              "       [0.5635359 ],\n",
              "       [0.44714493],\n",
              "       [0.5302834 ],\n",
              "       [0.5421556 ],\n",
              "       [0.56184214],\n",
              "       [0.45785528],\n",
              "       [0.582284  ],\n",
              "       [0.56176937],\n",
              "       [0.45588177],\n",
              "       [0.5482042 ],\n",
              "       [0.5176292 ],\n",
              "       [0.45343417],\n",
              "       [0.55438805],\n",
              "       [0.46649557],\n",
              "       [0.54841727],\n",
              "       [0.45286667],\n",
              "       [0.46356672],\n",
              "       [0.4736448 ],\n",
              "       [0.5474542 ],\n",
              "       [0.504643  ],\n",
              "       [0.44216597],\n",
              "       [0.45953232],\n",
              "       [0.5598737 ],\n",
              "       [0.570976  ],\n",
              "       [0.57773626],\n",
              "       [0.47354364],\n",
              "       [0.5464983 ],\n",
              "       [0.5689727 ],\n",
              "       [0.46025604],\n",
              "       [0.46768266],\n",
              "       [0.4893849 ],\n",
              "       [0.5741475 ],\n",
              "       [0.53031844],\n",
              "       [0.5712445 ],\n",
              "       [0.5008295 ],\n",
              "       [0.56271994],\n",
              "       [0.4411561 ],\n",
              "       [0.458094  ],\n",
              "       [0.5718115 ],\n",
              "       [0.46978796],\n",
              "       [0.55257577],\n",
              "       [0.5505183 ],\n",
              "       [0.55790955],\n",
              "       [0.5592352 ],\n",
              "       [0.53421414],\n",
              "       [0.45421422],\n",
              "       [0.45472324],\n",
              "       [0.57812184],\n",
              "       [0.45244724],\n",
              "       [0.51216996],\n",
              "       [0.44335788],\n",
              "       [0.47822243],\n",
              "       [0.47763777],\n",
              "       [0.5633548 ],\n",
              "       [0.46610028],\n",
              "       [0.4508109 ],\n",
              "       [0.45805103],\n",
              "       [0.5529493 ],\n",
              "       [0.47912455],\n",
              "       [0.5167227 ],\n",
              "       [0.56313705],\n",
              "       [0.48743403],\n",
              "       [0.5098203 ],\n",
              "       [0.4604804 ],\n",
              "       [0.52960175],\n",
              "       [0.52130395],\n",
              "       [0.5344077 ],\n",
              "       [0.5682058 ],\n",
              "       [0.5724306 ],\n",
              "       [0.5843521 ],\n",
              "       [0.48514426],\n",
              "       [0.49236363],\n",
              "       [0.49682808],\n",
              "       [0.5794598 ],\n",
              "       [0.56876093],\n",
              "       [0.46021563],\n",
              "       [0.4786054 ],\n",
              "       [0.48549962],\n",
              "       [0.45182854],\n",
              "       [0.5622256 ],\n",
              "       [0.54546857],\n",
              "       [0.51435745],\n",
              "       [0.56981415],\n",
              "       [0.55475026],\n",
              "       [0.5270754 ],\n",
              "       [0.57172424],\n",
              "       [0.44027787],\n",
              "       [0.5112738 ],\n",
              "       [0.461478  ],\n",
              "       [0.58089226],\n",
              "       [0.44756353],\n",
              "       [0.5238622 ],\n",
              "       [0.44491637],\n",
              "       [0.5420764 ],\n",
              "       [0.48611212],\n",
              "       [0.57892364],\n",
              "       [0.46519655],\n",
              "       [0.5414365 ],\n",
              "       [0.5650319 ],\n",
              "       [0.4506786 ],\n",
              "       [0.54651505],\n",
              "       [0.5545137 ],\n",
              "       [0.5035652 ],\n",
              "       [0.566461  ],\n",
              "       [0.5714289 ],\n",
              "       [0.55370003],\n",
              "       [0.5195151 ],\n",
              "       [0.5661545 ],\n",
              "       [0.5218942 ],\n",
              "       [0.44008416],\n",
              "       [0.46886986],\n",
              "       [0.4993137 ],\n",
              "       [0.4876656 ],\n",
              "       [0.53541356],\n",
              "       [0.49158877],\n",
              "       [0.5827954 ],\n",
              "       [0.5753572 ],\n",
              "       [0.48386192],\n",
              "       [0.46833032],\n",
              "       [0.57611275],\n",
              "       [0.4539923 ],\n",
              "       [0.53365594],\n",
              "       [0.45516622],\n",
              "       [0.5318087 ],\n",
              "       [0.43943018],\n",
              "       [0.57389766],\n",
              "       [0.44838995],\n",
              "       [0.53670216],\n",
              "       [0.46045196],\n",
              "       [0.57013315],\n",
              "       [0.5173332 ],\n",
              "       [0.44458282],\n",
              "       [0.5643039 ],\n",
              "       [0.5689651 ],\n",
              "       [0.46532893],\n",
              "       [0.485043  ],\n",
              "       [0.4894951 ],\n",
              "       [0.46083993],\n",
              "       [0.5179577 ],\n",
              "       [0.5086753 ],\n",
              "       [0.47332954],\n",
              "       [0.58429635],\n",
              "       [0.49739546],\n",
              "       [0.45764887],\n",
              "       [0.4551462 ],\n",
              "       [0.586026  ],\n",
              "       [0.548198  ],\n",
              "       [0.5791988 ],\n",
              "       [0.5290247 ],\n",
              "       [0.50758845],\n",
              "       [0.46434492],\n",
              "       [0.4884953 ],\n",
              "       [0.55090487],\n",
              "       [0.56701785],\n",
              "       [0.5664296 ],\n",
              "       [0.52615595],\n",
              "       [0.57060724],\n",
              "       [0.56247485],\n",
              "       [0.5659998 ],\n",
              "       [0.4444654 ],\n",
              "       [0.44006073],\n",
              "       [0.47045845],\n",
              "       [0.50341386],\n",
              "       [0.47242254],\n",
              "       [0.5487235 ],\n",
              "       [0.5876825 ],\n",
              "       [0.5801925 ],\n",
              "       [0.5105458 ],\n",
              "       [0.5615175 ],\n",
              "       [0.4443953 ],\n",
              "       [0.573075  ],\n",
              "       [0.44580275],\n",
              "       [0.5029053 ],\n",
              "       [0.53757906],\n",
              "       [0.55582416],\n",
              "       [0.51435393],\n",
              "       [0.4535253 ],\n",
              "       [0.46261412],\n",
              "       [0.45354438],\n",
              "       [0.46646976],\n",
              "       [0.5111062 ],\n",
              "       [0.5331251 ],\n",
              "       [0.5846146 ],\n",
              "       [0.48867393],\n",
              "       [0.5367167 ],\n",
              "       [0.47747666],\n",
              "       [0.44262254],\n",
              "       [0.4374606 ],\n",
              "       [0.46433884],\n",
              "       [0.5409776 ],\n",
              "       [0.48895603],\n",
              "       [0.45895642],\n",
              "       [0.51468426],\n",
              "       [0.4807489 ],\n",
              "       [0.53747445],\n",
              "       [0.56935066],\n",
              "       [0.47247666],\n",
              "       [0.50821877],\n",
              "       [0.53902787],\n",
              "       [0.45059437],\n",
              "       [0.5444228 ],\n",
              "       [0.5823231 ],\n",
              "       [0.49014598],\n",
              "       [0.46832907],\n",
              "       [0.5625885 ],\n",
              "       [0.50479615],\n",
              "       [0.45314848],\n",
              "       [0.46566576],\n",
              "       [0.47422898],\n",
              "       [0.4986667 ],\n",
              "       [0.5662942 ],\n",
              "       [0.5194049 ],\n",
              "       [0.47165298],\n",
              "       [0.5137374 ],\n",
              "       [0.57143956],\n",
              "       [0.5822843 ],\n",
              "       [0.5291122 ],\n",
              "       [0.56996715],\n",
              "       [0.44791853],\n",
              "       [0.5698171 ],\n",
              "       [0.47982436],\n",
              "       [0.5111251 ],\n",
              "       [0.44695836],\n",
              "       [0.50960934],\n",
              "       [0.47950178],\n",
              "       [0.5515625 ],\n",
              "       [0.5610637 ],\n",
              "       [0.4806854 ],\n",
              "       [0.5080671 ],\n",
              "       [0.43942022],\n",
              "       [0.58779603],\n",
              "       [0.5397451 ],\n",
              "       [0.45817643],\n",
              "       [0.5860167 ],\n",
              "       [0.45076752],\n",
              "       [0.51010895],\n",
              "       [0.4430396 ],\n",
              "       [0.45788825],\n",
              "       [0.48145562],\n",
              "       [0.54411304],\n",
              "       [0.5153087 ],\n",
              "       [0.5720831 ],\n",
              "       [0.57359153],\n",
              "       [0.57283974],\n",
              "       [0.47179586],\n",
              "       [0.549628  ],\n",
              "       [0.45683074],\n",
              "       [0.5419088 ],\n",
              "       [0.4412607 ],\n",
              "       [0.4927485 ],\n",
              "       [0.5820489 ],\n",
              "       [0.45010012],\n",
              "       [0.5593856 ],\n",
              "       [0.55101186],\n",
              "       [0.47613132],\n",
              "       [0.5688618 ],\n",
              "       [0.5272572 ],\n",
              "       [0.5525986 ],\n",
              "       [0.54632497],\n",
              "       [0.47487235],\n",
              "       [0.43710113],\n",
              "       [0.55184543]], dtype=float32)"
            ]
          },
          "metadata": {},
          "execution_count": 20
        }
      ]
    },
    {
      "cell_type": "markdown",
      "source": [
        "## Plot Decision Boundary"
      ],
      "metadata": {
        "id": "hsOyooIuXjCx"
      }
    },
    {
      "cell_type": "code",
      "source": [
        "x"
      ],
      "metadata": {
        "colab": {
          "base_uri": "https://localhost:8080/"
        },
        "id": "YMR1da7ZZpNj",
        "outputId": "4e5531ad-6291-4f11-ffc3-97ea00cf1988"
      },
      "execution_count": 21,
      "outputs": [
        {
          "output_type": "execute_result",
          "data": {
            "text/plain": [
              "array([[ 0.75424625,  0.23148074],\n",
              "       [-0.75615888,  0.15325888],\n",
              "       [-0.81539193,  0.17328203],\n",
              "       ...,\n",
              "       [-0.13690036, -0.81001183],\n",
              "       [ 0.67036156, -0.76750154],\n",
              "       [ 0.28105665,  0.96382443]])"
            ]
          },
          "metadata": {},
          "execution_count": 21
        }
      ]
    },
    {
      "cell_type": "code",
      "source": [
        "def plot_decision_boundary(model,x,y):\n",
        "  x_min,x_max = x[:,0].min()-0.1,x[:,0].max()+0.1\n",
        "  y_min,y_max = x[:,1].min()-0.1,x[:,1]\n",
        "  xx,yy = np.meshgrid(np.linspace(x_min,x_max,100),np.linspace(y_min,y_max,100))\n",
        "  x_in = np.c_[xx.ravel(),yy.ravel()]\n",
        "  y_pred = model.predict(x_in)\n",
        "  ##Check Multi-Class\n",
        "  if len(y_pred[0])>1:\n",
        "    print(\"Doing Multiclass classification\")\n",
        "    y_pred = np.argmax(y_pred,axis = 1).reshape(xx.shape)\n",
        "  else:\n",
        "    print(\"Binary Classification\")\n",
        "    y_pred = np.round(y_pred).reshape(xx.shape)\n",
        "  ## Decision Boundary\n",
        "  plt.contourf(xx,yy,y_pred,cmap = plt.cm.RdYlBu,alpha =0.7)\n",
        "  plt.scatter(x[:,0],x[:,1],c = y,s = 40,cmap = plt.cm.RdYlBu)\n",
        "  plt.xlim(xx.min(),xx.max())\n",
        "  plt.ylim(yy.min(),yy.max())\n"
      ],
      "metadata": {
        "id": "zXqLWTXuX0DO"
      },
      "execution_count": 22,
      "outputs": []
    },
    {
      "cell_type": "code",
      "source": [
        "#plot_decision_boundary(model_3,x,y)"
      ],
      "metadata": {
        "id": "rqxvvWWMau-l"
      },
      "execution_count": 23,
      "outputs": []
    },
    {
      "cell_type": "code",
      "source": [
        "model_4 = tf.keras.Sequential([\n",
        "    tf.keras.layers.Dense(100,input_shape = (1,)),\n",
        "    tf.keras.layers.Dense(10),\n",
        "    tf.keras.layers.Dense(1)\n",
        "])\n",
        "model_4.compile(loss = \"mae\",optimizer = \"adam\",metrics = ['mae'])"
      ],
      "metadata": {
        "id": "mmsYauZSiMy8"
      },
      "execution_count": 24,
      "outputs": []
    },
    {
      "cell_type": "code",
      "source": [
        "tf.random.set_seed(42)\n",
        "x_regression = tf.range(0,1000,5)\n",
        "y_regression = tf.range(100,1100,5)\n",
        "x_reg_train = x_regression[:150]\n",
        "x_reg_test = x_regression[150:]\n",
        "y_reg_train = y_regression[:150]\n",
        "y_reg_test = y_regression[150:]\n",
        "model_4.fit(x_reg_train,y_reg_train,epochs = 100)"
      ],
      "metadata": {
        "colab": {
          "base_uri": "https://localhost:8080/"
        },
        "id": "P_jUnZ2kbyHU",
        "outputId": "fa406086-c44a-4a88-8734-14d27d6a7bf1"
      },
      "execution_count": 25,
      "outputs": [
        {
          "output_type": "stream",
          "name": "stdout",
          "text": [
            "Epoch 1/100\n",
            "5/5 [==============================] - 0s 4ms/step - loss: 271.7428 - mae: 271.7428\n",
            "Epoch 2/100\n",
            "5/5 [==============================] - 0s 3ms/step - loss: 140.7390 - mae: 140.7390\n",
            "Epoch 3/100\n",
            "5/5 [==============================] - 0s 3ms/step - loss: 52.2021 - mae: 52.2021\n",
            "Epoch 4/100\n",
            "5/5 [==============================] - 0s 3ms/step - loss: 82.0471 - mae: 82.0471\n",
            "Epoch 5/100\n",
            "5/5 [==============================] - 0s 3ms/step - loss: 68.1061 - mae: 68.1061\n",
            "Epoch 6/100\n",
            "5/5 [==============================] - 0s 3ms/step - loss: 45.6335 - mae: 45.6335\n",
            "Epoch 7/100\n",
            "5/5 [==============================] - 0s 3ms/step - loss: 48.1815 - mae: 48.1815\n",
            "Epoch 8/100\n",
            "5/5 [==============================] - 0s 3ms/step - loss: 42.1949 - mae: 42.1949\n",
            "Epoch 9/100\n",
            "5/5 [==============================] - 0s 3ms/step - loss: 42.5904 - mae: 42.5904\n",
            "Epoch 10/100\n",
            "5/5 [==============================] - 0s 3ms/step - loss: 42.5070 - mae: 42.5070\n",
            "Epoch 11/100\n",
            "5/5 [==============================] - 0s 3ms/step - loss: 41.2868 - mae: 41.2868\n",
            "Epoch 12/100\n",
            "5/5 [==============================] - 0s 3ms/step - loss: 42.0603 - mae: 42.0603\n",
            "Epoch 13/100\n",
            "5/5 [==============================] - 0s 4ms/step - loss: 41.8878 - mae: 41.8878\n",
            "Epoch 14/100\n",
            "5/5 [==============================] - 0s 3ms/step - loss: 41.3585 - mae: 41.3585\n",
            "Epoch 15/100\n",
            "5/5 [==============================] - 0s 3ms/step - loss: 41.5148 - mae: 41.5148\n",
            "Epoch 16/100\n",
            "5/5 [==============================] - 0s 3ms/step - loss: 41.2106 - mae: 41.2106\n",
            "Epoch 17/100\n",
            "5/5 [==============================] - 0s 5ms/step - loss: 41.2366 - mae: 41.2366\n",
            "Epoch 18/100\n",
            "5/5 [==============================] - 0s 3ms/step - loss: 41.1899 - mae: 41.1899\n",
            "Epoch 19/100\n",
            "5/5 [==============================] - 0s 3ms/step - loss: 41.0332 - mae: 41.0332\n",
            "Epoch 20/100\n",
            "5/5 [==============================] - 0s 3ms/step - loss: 41.0550 - mae: 41.0550\n",
            "Epoch 21/100\n",
            "5/5 [==============================] - 0s 3ms/step - loss: 41.1682 - mae: 41.1682\n",
            "Epoch 22/100\n",
            "5/5 [==============================] - 0s 3ms/step - loss: 40.9647 - mae: 40.9647\n",
            "Epoch 23/100\n",
            "5/5 [==============================] - 0s 3ms/step - loss: 41.0570 - mae: 41.0570\n",
            "Epoch 24/100\n",
            "5/5 [==============================] - 0s 3ms/step - loss: 40.9447 - mae: 40.9447\n",
            "Epoch 25/100\n",
            "5/5 [==============================] - 0s 3ms/step - loss: 40.9051 - mae: 40.9051\n",
            "Epoch 26/100\n",
            "5/5 [==============================] - 0s 4ms/step - loss: 40.9011 - mae: 40.9011\n",
            "Epoch 27/100\n",
            "5/5 [==============================] - 0s 5ms/step - loss: 40.7964 - mae: 40.7964\n",
            "Epoch 28/100\n",
            "5/5 [==============================] - 0s 3ms/step - loss: 40.8911 - mae: 40.8911\n",
            "Epoch 29/100\n",
            "5/5 [==============================] - 0s 3ms/step - loss: 40.9883 - mae: 40.9883\n",
            "Epoch 30/100\n",
            "5/5 [==============================] - 0s 3ms/step - loss: 40.7351 - mae: 40.7351\n",
            "Epoch 31/100\n",
            "5/5 [==============================] - 0s 3ms/step - loss: 40.9595 - mae: 40.9595\n",
            "Epoch 32/100\n",
            "5/5 [==============================] - 0s 3ms/step - loss: 40.8463 - mae: 40.8463\n",
            "Epoch 33/100\n",
            "5/5 [==============================] - 0s 3ms/step - loss: 40.8842 - mae: 40.8842\n",
            "Epoch 34/100\n",
            "5/5 [==============================] - 0s 3ms/step - loss: 41.0359 - mae: 41.0359\n",
            "Epoch 35/100\n",
            "5/5 [==============================] - 0s 3ms/step - loss: 40.5999 - mae: 40.5999\n",
            "Epoch 36/100\n",
            "5/5 [==============================] - 0s 3ms/step - loss: 41.0605 - mae: 41.0605\n",
            "Epoch 37/100\n",
            "5/5 [==============================] - 0s 3ms/step - loss: 40.4980 - mae: 40.4980\n",
            "Epoch 38/100\n",
            "5/5 [==============================] - 0s 3ms/step - loss: 40.2176 - mae: 40.2176\n",
            "Epoch 39/100\n",
            "5/5 [==============================] - 0s 3ms/step - loss: 40.5178 - mae: 40.5178\n",
            "Epoch 40/100\n",
            "5/5 [==============================] - 0s 3ms/step - loss: 40.2999 - mae: 40.2999\n",
            "Epoch 41/100\n",
            "5/5 [==============================] - 0s 3ms/step - loss: 40.2211 - mae: 40.2211\n",
            "Epoch 42/100\n",
            "5/5 [==============================] - 0s 3ms/step - loss: 40.1502 - mae: 40.1502\n",
            "Epoch 43/100\n",
            "5/5 [==============================] - 0s 3ms/step - loss: 40.3148 - mae: 40.3148\n",
            "Epoch 44/100\n",
            "5/5 [==============================] - 0s 3ms/step - loss: 39.9733 - mae: 39.9733\n",
            "Epoch 45/100\n",
            "5/5 [==============================] - 0s 3ms/step - loss: 40.1716 - mae: 40.1716\n",
            "Epoch 46/100\n",
            "5/5 [==============================] - 0s 3ms/step - loss: 40.5257 - mae: 40.5257\n",
            "Epoch 47/100\n",
            "5/5 [==============================] - 0s 3ms/step - loss: 39.8959 - mae: 39.8959\n",
            "Epoch 48/100\n",
            "5/5 [==============================] - 0s 4ms/step - loss: 39.9455 - mae: 39.9455\n",
            "Epoch 49/100\n",
            "5/5 [==============================] - 0s 5ms/step - loss: 40.6716 - mae: 40.6716\n",
            "Epoch 50/100\n",
            "5/5 [==============================] - 0s 3ms/step - loss: 39.9773 - mae: 39.9773\n",
            "Epoch 51/100\n",
            "5/5 [==============================] - 0s 3ms/step - loss: 40.4348 - mae: 40.4348\n",
            "Epoch 52/100\n",
            "5/5 [==============================] - 0s 3ms/step - loss: 40.9051 - mae: 40.9051\n",
            "Epoch 53/100\n",
            "5/5 [==============================] - 0s 3ms/step - loss: 40.8773 - mae: 40.8773\n",
            "Epoch 54/100\n",
            "5/5 [==============================] - 0s 4ms/step - loss: 40.5908 - mae: 40.5908\n",
            "Epoch 55/100\n",
            "5/5 [==============================] - 0s 3ms/step - loss: 40.1154 - mae: 40.1154\n",
            "Epoch 56/100\n",
            "5/5 [==============================] - 0s 3ms/step - loss: 40.8914 - mae: 40.8914\n",
            "Epoch 57/100\n",
            "5/5 [==============================] - 0s 3ms/step - loss: 41.0992 - mae: 41.0992\n",
            "Epoch 58/100\n",
            "5/5 [==============================] - 0s 3ms/step - loss: 39.3684 - mae: 39.3684\n",
            "Epoch 59/100\n",
            "5/5 [==============================] - 0s 3ms/step - loss: 39.6117 - mae: 39.6117\n",
            "Epoch 60/100\n",
            "5/5 [==============================] - 0s 3ms/step - loss: 39.5384 - mae: 39.5384\n",
            "Epoch 61/100\n",
            "5/5 [==============================] - 0s 3ms/step - loss: 39.3903 - mae: 39.3903\n",
            "Epoch 62/100\n",
            "5/5 [==============================] - 0s 3ms/step - loss: 39.5975 - mae: 39.5975\n",
            "Epoch 63/100\n",
            "5/5 [==============================] - 0s 3ms/step - loss: 39.3405 - mae: 39.3405\n",
            "Epoch 64/100\n",
            "5/5 [==============================] - 0s 3ms/step - loss: 39.1817 - mae: 39.1817\n",
            "Epoch 65/100\n",
            "5/5 [==============================] - 0s 4ms/step - loss: 39.4392 - mae: 39.4392\n",
            "Epoch 66/100\n",
            "5/5 [==============================] - 0s 3ms/step - loss: 39.3817 - mae: 39.3817\n",
            "Epoch 67/100\n",
            "5/5 [==============================] - 0s 3ms/step - loss: 39.2094 - mae: 39.2094\n",
            "Epoch 68/100\n",
            "5/5 [==============================] - 0s 4ms/step - loss: 39.1798 - mae: 39.1798\n",
            "Epoch 69/100\n",
            "5/5 [==============================] - 0s 3ms/step - loss: 38.9817 - mae: 38.9817\n",
            "Epoch 70/100\n",
            "5/5 [==============================] - 0s 3ms/step - loss: 39.1891 - mae: 39.1891\n",
            "Epoch 71/100\n",
            "5/5 [==============================] - 0s 3ms/step - loss: 40.8741 - mae: 40.8741\n",
            "Epoch 72/100\n",
            "5/5 [==============================] - 0s 3ms/step - loss: 38.9595 - mae: 38.9595\n",
            "Epoch 73/100\n",
            "5/5 [==============================] - 0s 3ms/step - loss: 39.7867 - mae: 39.7867\n",
            "Epoch 74/100\n",
            "5/5 [==============================] - 0s 3ms/step - loss: 38.8502 - mae: 38.8502\n",
            "Epoch 75/100\n",
            "5/5 [==============================] - 0s 3ms/step - loss: 39.5429 - mae: 39.5429\n",
            "Epoch 76/100\n",
            "5/5 [==============================] - 0s 3ms/step - loss: 39.2041 - mae: 39.2041\n",
            "Epoch 77/100\n",
            "5/5 [==============================] - 0s 4ms/step - loss: 38.7373 - mae: 38.7373\n",
            "Epoch 78/100\n",
            "5/5 [==============================] - 0s 5ms/step - loss: 38.8528 - mae: 38.8528\n",
            "Epoch 79/100\n",
            "5/5 [==============================] - 0s 4ms/step - loss: 38.9048 - mae: 38.9048\n",
            "Epoch 80/100\n",
            "5/5 [==============================] - 0s 4ms/step - loss: 38.7628 - mae: 38.7628\n",
            "Epoch 81/100\n",
            "5/5 [==============================] - 0s 3ms/step - loss: 38.4030 - mae: 38.4030\n",
            "Epoch 82/100\n",
            "5/5 [==============================] - 0s 3ms/step - loss: 38.3289 - mae: 38.3289\n",
            "Epoch 83/100\n",
            "5/5 [==============================] - 0s 3ms/step - loss: 38.3569 - mae: 38.3569\n",
            "Epoch 84/100\n",
            "5/5 [==============================] - 0s 3ms/step - loss: 38.2522 - mae: 38.2522\n",
            "Epoch 85/100\n",
            "5/5 [==============================] - 0s 3ms/step - loss: 38.3610 - mae: 38.3610\n",
            "Epoch 86/100\n",
            "5/5 [==============================] - 0s 3ms/step - loss: 37.8545 - mae: 37.8545\n",
            "Epoch 87/100\n",
            "5/5 [==============================] - 0s 3ms/step - loss: 38.5902 - mae: 38.5902\n",
            "Epoch 88/100\n",
            "5/5 [==============================] - 0s 3ms/step - loss: 38.1997 - mae: 38.1997\n",
            "Epoch 89/100\n",
            "5/5 [==============================] - 0s 4ms/step - loss: 39.3058 - mae: 39.3058\n",
            "Epoch 90/100\n",
            "5/5 [==============================] - 0s 3ms/step - loss: 38.7877 - mae: 38.7877\n",
            "Epoch 91/100\n",
            "5/5 [==============================] - 0s 3ms/step - loss: 37.6078 - mae: 37.6078\n",
            "Epoch 92/100\n",
            "5/5 [==============================] - 0s 3ms/step - loss: 38.9384 - mae: 38.9384\n",
            "Epoch 93/100\n",
            "5/5 [==============================] - 0s 3ms/step - loss: 38.8550 - mae: 38.8550\n",
            "Epoch 94/100\n",
            "5/5 [==============================] - 0s 3ms/step - loss: 37.3749 - mae: 37.3749\n",
            "Epoch 95/100\n",
            "5/5 [==============================] - 0s 3ms/step - loss: 37.5774 - mae: 37.5774\n",
            "Epoch 96/100\n",
            "5/5 [==============================] - 0s 3ms/step - loss: 37.9218 - mae: 37.9218\n",
            "Epoch 97/100\n",
            "5/5 [==============================] - 0s 3ms/step - loss: 37.3278 - mae: 37.3278\n",
            "Epoch 98/100\n",
            "5/5 [==============================] - 0s 4ms/step - loss: 37.8367 - mae: 37.8367\n",
            "Epoch 99/100\n",
            "5/5 [==============================] - 0s 3ms/step - loss: 37.7834 - mae: 37.7834\n",
            "Epoch 100/100\n",
            "5/5 [==============================] - 0s 3ms/step - loss: 37.2437 - mae: 37.2437\n"
          ]
        },
        {
          "output_type": "execute_result",
          "data": {
            "text/plain": [
              "<keras.callbacks.History at 0x7f8f10e46a90>"
            ]
          },
          "metadata": {},
          "execution_count": 25
        }
      ]
    },
    {
      "cell_type": "code",
      "source": [
        "y_reg_preds = model_4.predict(x_reg_test)"
      ],
      "metadata": {
        "colab": {
          "base_uri": "https://localhost:8080/"
        },
        "id": "zh9ZfY1chZty",
        "outputId": "511f3801-635e-4784-a518-91223e6b0ff1"
      },
      "execution_count": 26,
      "outputs": [
        {
          "output_type": "stream",
          "name": "stdout",
          "text": [
            "2/2 [==============================] - 0s 8ms/step\n"
          ]
        }
      ]
    },
    {
      "cell_type": "code",
      "source": [
        "plt.figure(figsize = (10,7))\n",
        "plt.scatter(x_reg_train,y_reg_train,c = \"b\",label = \"Training Data\")\n",
        "plt.scatter(x_reg_test,y_reg_test,c = \"g\",label = \"Test Data\")\n",
        "plt.scatter(x_reg_test,y_reg_preds,c = 'r',label = \"Prediction\")\n",
        "plt.legend()"
      ],
      "metadata": {
        "colab": {
          "base_uri": "https://localhost:8080/",
          "height": 446
        },
        "id": "zQU9Kl_Vi21O",
        "outputId": "94113b42-94a2-449d-e9fb-a136f313537d"
      },
      "execution_count": 27,
      "outputs": [
        {
          "output_type": "execute_result",
          "data": {
            "text/plain": [
              "<matplotlib.legend.Legend at 0x7f8f10c6bf10>"
            ]
          },
          "metadata": {},
          "execution_count": 27
        },
        {
          "output_type": "display_data",
          "data": {
            "text/plain": [
              "<Figure size 720x504 with 1 Axes>"
            ],
            "image/png": "[encoded data removed]"
          },
          "metadata": {
            "needs_background": "light"
          }
        }
      ]
    },
    {
      "cell_type": "markdown",
      "source": [
        "## Non-Linearity"
      ],
      "metadata": {
        "id": "Pq7dh1NujIrA"
      }
    },
    {
      "cell_type": "code",
      "source": [
        "tf.random.set_seed(42)\n",
        "model_5 = tf.keras.Sequential([\n",
        "    tf.keras.layers.Dense(1,activation = \"linear\")\n",
        "])\n",
        "model_5.compile(loss = \"binary_crossentropy\",optimizer = \"adam\",metrics = [\"accuracy\"])"
      ],
      "metadata": {
        "id": "bfS6c6dm40XH"
      },
      "execution_count": 28,
      "outputs": []
    },
    {
      "cell_type": "code",
      "source": [
        "tf.random.set_seed(42)\n",
        "model_6 = tf.keras.Sequential([\n",
        "    tf.keras.layers.Dense(4,activation = \"relu\"),\n",
        "    tf.keras.layers.Dense(4,activation = \"relu\"),\n",
        "    tf.keras.layers.Dense(1,activation = \"sigmoid\")\n",
        "])\n",
        "model_6.compile(loss = \"binary_crossentropy\",optimizer = tf.keras.optimizers.Adam(lr=0.001),metrics = ['accuracy'])\n",
        "history = model_6.fit(x,y,epochs = 150)"
      ],
      "metadata": {
        "colab": {
          "base_uri": "https://localhost:8080/"
        },
        "id": "uSysOqGp-Zf7",
        "outputId": "575c90f9-060d-4f56-8d9c-3192af706644"
      },
      "execution_count": 29,
      "outputs": [
        {
          "output_type": "stream",
          "name": "stdout",
          "text": [
            "Epoch 1/150\n"
          ]
        },
        {
          "output_type": "stream",
          "name": "stderr",
          "text": [
            "/usr/local/lib/python3.8/dist-packages/keras/optimizers/optimizer_v2/adam.py:110: UserWarning: The `lr` argument is deprecated, use `learning_rate` instead.\n",
            "  super(Adam, self).__init__(name, **kwargs)\n"
          ]
        },
        {
          "output_type": "stream",
          "name": "stdout",
          "text": [
            "32/32 [==============================] - 1s 3ms/step - loss: 0.6891 - accuracy: 0.5020\n",
            "Epoch 2/150\n",
            "32/32 [==============================] - 0s 3ms/step - loss: 0.6848 - accuracy: 0.5170\n",
            "Epoch 3/150\n",
            "32/32 [==============================] - 0s 3ms/step - loss: 0.6824 - accuracy: 0.5160\n",
            "Epoch 4/150\n",
            "32/32 [==============================] - 0s 3ms/step - loss: 0.6813 - accuracy: 0.5300\n",
            "Epoch 5/150\n",
            "32/32 [==============================] - 0s 3ms/step - loss: 0.6802 - accuracy: 0.5390\n",
            "Epoch 6/150\n",
            "32/32 [==============================] - 0s 3ms/step - loss: 0.6794 - accuracy: 0.5380\n",
            "Epoch 7/150\n",
            "32/32 [==============================] - 0s 3ms/step - loss: 0.6785 - accuracy: 0.5500\n",
            "Epoch 8/150\n",
            "32/32 [==============================] - 0s 3ms/step - loss: 0.6778 - accuracy: 0.5480\n",
            "Epoch 9/150\n",
            "32/32 [==============================] - 0s 3ms/step - loss: 0.6772 - accuracy: 0.5530\n",
            "Epoch 10/150\n",
            "32/32 [==============================] - 0s 3ms/step - loss: 0.6766 - accuracy: 0.5510\n",
            "Epoch 11/150\n",
            "32/32 [==============================] - 0s 3ms/step - loss: 0.6760 - accuracy: 0.5500\n",
            "Epoch 12/150\n",
            "32/32 [==============================] - 0s 3ms/step - loss: 0.6754 - accuracy: 0.5550\n",
            "Epoch 13/150\n",
            "32/32 [==============================] - 0s 3ms/step - loss: 0.6747 - accuracy: 0.5560\n",
            "Epoch 14/150\n",
            "32/32 [==============================] - 0s 3ms/step - loss: 0.6741 - accuracy: 0.5540\n",
            "Epoch 15/150\n",
            "32/32 [==============================] - 0s 3ms/step - loss: 0.6734 - accuracy: 0.5580\n",
            "Epoch 16/150\n",
            "32/32 [==============================] - 0s 3ms/step - loss: 0.6727 - accuracy: 0.5550\n",
            "Epoch 17/150\n",
            "32/32 [==============================] - 0s 3ms/step - loss: 0.6722 - accuracy: 0.5550\n",
            "Epoch 18/150\n",
            "32/32 [==============================] - 0s 3ms/step - loss: 0.6716 - accuracy: 0.5550\n",
            "Epoch 19/150\n",
            "32/32 [==============================] - 0s 3ms/step - loss: 0.6710 - accuracy: 0.5590\n",
            "Epoch 20/150\n",
            "32/32 [==============================] - 0s 3ms/step - loss: 0.6702 - accuracy: 0.5600\n",
            "Epoch 21/150\n",
            "32/32 [==============================] - 0s 3ms/step - loss: 0.6696 - accuracy: 0.5640\n",
            "Epoch 22/150\n",
            "32/32 [==============================] - 0s 3ms/step - loss: 0.6688 - accuracy: 0.5600\n",
            "Epoch 23/150\n",
            "32/32 [==============================] - 0s 3ms/step - loss: 0.6682 - accuracy: 0.5700\n",
            "Epoch 24/150\n",
            "32/32 [==============================] - 0s 3ms/step - loss: 0.6679 - accuracy: 0.5570\n",
            "Epoch 25/150\n",
            "32/32 [==============================] - 0s 3ms/step - loss: 0.6671 - accuracy: 0.5670\n",
            "Epoch 26/150\n",
            "32/32 [==============================] - 0s 3ms/step - loss: 0.6662 - accuracy: 0.5750\n",
            "Epoch 27/150\n",
            "32/32 [==============================] - 0s 3ms/step - loss: 0.6657 - accuracy: 0.5810\n",
            "Epoch 28/150\n",
            "32/32 [==============================] - 0s 3ms/step - loss: 0.6645 - accuracy: 0.5700\n",
            "Epoch 29/150\n",
            "32/32 [==============================] - 0s 3ms/step - loss: 0.6642 - accuracy: 0.5700\n",
            "Epoch 30/150\n",
            "32/32 [==============================] - 0s 3ms/step - loss: 0.6634 - accuracy: 0.5790\n",
            "Epoch 31/150\n",
            "32/32 [==============================] - 0s 3ms/step - loss: 0.6627 - accuracy: 0.5760\n",
            "Epoch 32/150\n",
            "32/32 [==============================] - 0s 3ms/step - loss: 0.6619 - accuracy: 0.5760\n",
            "Epoch 33/150\n",
            "32/32 [==============================] - 0s 3ms/step - loss: 0.6610 - accuracy: 0.5760\n",
            "Epoch 34/150\n",
            "32/32 [==============================] - 0s 3ms/step - loss: 0.6606 - accuracy: 0.5760\n",
            "Epoch 35/150\n",
            "32/32 [==============================] - 0s 3ms/step - loss: 0.6597 - accuracy: 0.5790\n",
            "Epoch 36/150\n",
            "32/32 [==============================] - 0s 3ms/step - loss: 0.6586 - accuracy: 0.5780\n",
            "Epoch 37/150\n",
            "32/32 [==============================] - 0s 3ms/step - loss: 0.6580 - accuracy: 0.5780\n",
            "Epoch 38/150\n",
            "32/32 [==============================] - 0s 3ms/step - loss: 0.6573 - accuracy: 0.5790\n",
            "Epoch 39/150\n",
            "32/32 [==============================] - 0s 3ms/step - loss: 0.6564 - accuracy: 0.5790\n",
            "Epoch 40/150\n",
            "32/32 [==============================] - 0s 3ms/step - loss: 0.6556 - accuracy: 0.5760\n",
            "Epoch 41/150\n",
            "32/32 [==============================] - 0s 3ms/step - loss: 0.6548 - accuracy: 0.5780\n",
            "Epoch 42/150\n",
            "32/32 [==============================] - 0s 3ms/step - loss: 0.6540 - accuracy: 0.5750\n",
            "Epoch 43/150\n",
            "32/32 [==============================] - 0s 3ms/step - loss: 0.6530 - accuracy: 0.5780\n",
            "Epoch 44/150\n",
            "32/32 [==============================] - 0s 3ms/step - loss: 0.6521 - accuracy: 0.5810\n",
            "Epoch 45/150\n",
            "32/32 [==============================] - 0s 3ms/step - loss: 0.6496 - accuracy: 0.5810\n",
            "Epoch 46/150\n",
            "32/32 [==============================] - 0s 3ms/step - loss: 0.6481 - accuracy: 0.5830\n",
            "Epoch 47/150\n",
            "32/32 [==============================] - 0s 3ms/step - loss: 0.6472 - accuracy: 0.5850\n",
            "Epoch 48/150\n",
            "32/32 [==============================] - 0s 3ms/step - loss: 0.6451 - accuracy: 0.5880\n",
            "Epoch 49/150\n",
            "32/32 [==============================] - 0s 3ms/step - loss: 0.6426 - accuracy: 0.5880\n",
            "Epoch 50/150\n",
            "32/32 [==============================] - 0s 3ms/step - loss: 0.6404 - accuracy: 0.5940\n",
            "Epoch 51/150\n",
            "32/32 [==============================] - 0s 3ms/step - loss: 0.6384 - accuracy: 0.6010\n",
            "Epoch 52/150\n",
            "32/32 [==============================] - 0s 3ms/step - loss: 0.6364 - accuracy: 0.6130\n",
            "Epoch 53/150\n",
            "32/32 [==============================] - 0s 3ms/step - loss: 0.6344 - accuracy: 0.6110\n",
            "Epoch 54/150\n",
            "32/32 [==============================] - 0s 3ms/step - loss: 0.6312 - accuracy: 0.6280\n",
            "Epoch 55/150\n",
            "32/32 [==============================] - 0s 3ms/step - loss: 0.6287 - accuracy: 0.6380\n",
            "Epoch 56/150\n",
            "32/32 [==============================] - 0s 3ms/step - loss: 0.6259 - accuracy: 0.6840\n",
            "Epoch 57/150\n",
            "32/32 [==============================] - 0s 3ms/step - loss: 0.6227 - accuracy: 0.6950\n",
            "Epoch 58/150\n",
            "32/32 [==============================] - 0s 3ms/step - loss: 0.6200 - accuracy: 0.6990\n",
            "Epoch 59/150\n",
            "32/32 [==============================] - 0s 3ms/step - loss: 0.6168 - accuracy: 0.6950\n",
            "Epoch 60/150\n",
            "32/32 [==============================] - 0s 3ms/step - loss: 0.6133 - accuracy: 0.7240\n",
            "Epoch 61/150\n",
            "32/32 [==============================] - 0s 3ms/step - loss: 0.6101 - accuracy: 0.7200\n",
            "Epoch 62/150\n",
            "32/32 [==============================] - 0s 3ms/step - loss: 0.6059 - accuracy: 0.7330\n",
            "Epoch 63/150\n",
            "32/32 [==============================] - 0s 3ms/step - loss: 0.6014 - accuracy: 0.7400\n",
            "Epoch 64/150\n",
            "32/32 [==============================] - 0s 3ms/step - loss: 0.5966 - accuracy: 0.7460\n",
            "Epoch 65/150\n",
            "32/32 [==============================] - 0s 3ms/step - loss: 0.5905 - accuracy: 0.7440\n",
            "Epoch 66/150\n",
            "32/32 [==============================] - 0s 3ms/step - loss: 0.5830 - accuracy: 0.7450\n",
            "Epoch 67/150\n",
            "32/32 [==============================] - 0s 3ms/step - loss: 0.5757 - accuracy: 0.7460\n",
            "Epoch 68/150\n",
            "32/32 [==============================] - 0s 3ms/step - loss: 0.5683 - accuracy: 0.7800\n",
            "Epoch 69/150\n",
            "32/32 [==============================] - 0s 3ms/step - loss: 0.5614 - accuracy: 0.8010\n",
            "Epoch 70/150\n",
            "32/32 [==============================] - 0s 3ms/step - loss: 0.5548 - accuracy: 0.8010\n",
            "Epoch 71/150\n",
            "32/32 [==============================] - 0s 3ms/step - loss: 0.5474 - accuracy: 0.8240\n",
            "Epoch 72/150\n",
            "32/32 [==============================] - 0s 3ms/step - loss: 0.5406 - accuracy: 0.8460\n",
            "Epoch 73/150\n",
            "32/32 [==============================] - 0s 3ms/step - loss: 0.5327 - accuracy: 0.8470\n",
            "Epoch 74/150\n",
            "32/32 [==============================] - 0s 3ms/step - loss: 0.5243 - accuracy: 0.8620\n",
            "Epoch 75/150\n",
            "32/32 [==============================] - 0s 3ms/step - loss: 0.5148 - accuracy: 0.8870\n",
            "Epoch 76/150\n",
            "32/32 [==============================] - 0s 3ms/step - loss: 0.5042 - accuracy: 0.8820\n",
            "Epoch 77/150\n",
            "32/32 [==============================] - 0s 3ms/step - loss: 0.4927 - accuracy: 0.9300\n",
            "Epoch 78/150\n",
            "32/32 [==============================] - 0s 3ms/step - loss: 0.4824 - accuracy: 0.9090\n",
            "Epoch 79/150\n",
            "32/32 [==============================] - 0s 3ms/step - loss: 0.4733 - accuracy: 0.9460\n",
            "Epoch 80/150\n",
            "32/32 [==============================] - 0s 3ms/step - loss: 0.4632 - accuracy: 0.9600\n",
            "Epoch 81/150\n",
            "32/32 [==============================] - 0s 3ms/step - loss: 0.4546 - accuracy: 0.9600\n",
            "Epoch 82/150\n",
            "32/32 [==============================] - 0s 3ms/step - loss: 0.4456 - accuracy: 0.9580\n",
            "Epoch 83/150\n",
            "32/32 [==============================] - 0s 3ms/step - loss: 0.4360 - accuracy: 0.9630\n",
            "Epoch 84/150\n",
            "32/32 [==============================] - 0s 3ms/step - loss: 0.4260 - accuracy: 0.9690\n",
            "Epoch 85/150\n",
            "32/32 [==============================] - 0s 3ms/step - loss: 0.4145 - accuracy: 0.9700\n",
            "Epoch 86/150\n",
            "32/32 [==============================] - 0s 3ms/step - loss: 0.4059 - accuracy: 0.9740\n",
            "Epoch 87/150\n",
            "32/32 [==============================] - 0s 3ms/step - loss: 0.3962 - accuracy: 0.9750\n",
            "Epoch 88/150\n",
            "32/32 [==============================] - 0s 3ms/step - loss: 0.3873 - accuracy: 0.9720\n",
            "Epoch 89/150\n",
            "32/32 [==============================] - 0s 3ms/step - loss: 0.3795 - accuracy: 0.9750\n",
            "Epoch 90/150\n",
            "32/32 [==============================] - 0s 3ms/step - loss: 0.3716 - accuracy: 0.9750\n",
            "Epoch 91/150\n",
            "32/32 [==============================] - 0s 3ms/step - loss: 0.3635 - accuracy: 0.9840\n",
            "Epoch 92/150\n",
            "32/32 [==============================] - 0s 3ms/step - loss: 0.3554 - accuracy: 0.9830\n",
            "Epoch 93/150\n",
            "32/32 [==============================] - 0s 3ms/step - loss: 0.3482 - accuracy: 0.9800\n",
            "Epoch 94/150\n",
            "32/32 [==============================] - 0s 3ms/step - loss: 0.3404 - accuracy: 0.9820\n",
            "Epoch 95/150\n",
            "32/32 [==============================] - 0s 3ms/step - loss: 0.3329 - accuracy: 0.9880\n",
            "Epoch 96/150\n",
            "32/32 [==============================] - 0s 3ms/step - loss: 0.3268 - accuracy: 0.9870\n",
            "Epoch 97/150\n",
            "32/32 [==============================] - 0s 3ms/step - loss: 0.3190 - accuracy: 0.9870\n",
            "Epoch 98/150\n",
            "32/32 [==============================] - 0s 3ms/step - loss: 0.3122 - accuracy: 0.9890\n",
            "Epoch 99/150\n",
            "32/32 [==============================] - 0s 3ms/step - loss: 0.3059 - accuracy: 0.9880\n",
            "Epoch 100/150\n",
            "32/32 [==============================] - 0s 3ms/step - loss: 0.2993 - accuracy: 0.9890\n",
            "Epoch 101/150\n",
            "32/32 [==============================] - 0s 3ms/step - loss: 0.2931 - accuracy: 0.9900\n",
            "Epoch 102/150\n",
            "32/32 [==============================] - 0s 3ms/step - loss: 0.2871 - accuracy: 0.9900\n",
            "Epoch 103/150\n",
            "32/32 [==============================] - 0s 3ms/step - loss: 0.2805 - accuracy: 0.9900\n",
            "Epoch 104/150\n",
            "32/32 [==============================] - 0s 3ms/step - loss: 0.2749 - accuracy: 0.9920\n",
            "Epoch 105/150\n",
            "32/32 [==============================] - 0s 3ms/step - loss: 0.2698 - accuracy: 0.9910\n",
            "Epoch 106/150\n",
            "32/32 [==============================] - 0s 3ms/step - loss: 0.2639 - accuracy: 0.9910\n",
            "Epoch 107/150\n",
            "32/32 [==============================] - 0s 3ms/step - loss: 0.2589 - accuracy: 0.9900\n",
            "Epoch 108/150\n",
            "32/32 [==============================] - 0s 3ms/step - loss: 0.2539 - accuracy: 0.9890\n",
            "Epoch 109/150\n",
            "32/32 [==============================] - 0s 3ms/step - loss: 0.2483 - accuracy: 0.9920\n",
            "Epoch 110/150\n",
            "32/32 [==============================] - 0s 3ms/step - loss: 0.2433 - accuracy: 0.9920\n",
            "Epoch 111/150\n",
            "32/32 [==============================] - 0s 3ms/step - loss: 0.2390 - accuracy: 0.9900\n",
            "Epoch 112/150\n",
            "32/32 [==============================] - 0s 3ms/step - loss: 0.2354 - accuracy: 0.9900\n",
            "Epoch 113/150\n",
            "32/32 [==============================] - 0s 3ms/step - loss: 0.2293 - accuracy: 0.9910\n",
            "Epoch 114/150\n",
            "32/32 [==============================] - 0s 3ms/step - loss: 0.2251 - accuracy: 0.9910\n",
            "Epoch 115/150\n",
            "32/32 [==============================] - 0s 3ms/step - loss: 0.2209 - accuracy: 0.9920\n",
            "Epoch 116/150\n",
            "32/32 [==============================] - 0s 3ms/step - loss: 0.2164 - accuracy: 0.9920\n",
            "Epoch 117/150\n",
            "32/32 [==============================] - 0s 3ms/step - loss: 0.2130 - accuracy: 0.9900\n",
            "Epoch 118/150\n",
            "32/32 [==============================] - 0s 3ms/step - loss: 0.2092 - accuracy: 0.9910\n",
            "Epoch 119/150\n",
            "32/32 [==============================] - 0s 3ms/step - loss: 0.2050 - accuracy: 0.9910\n",
            "Epoch 120/150\n",
            "32/32 [==============================] - 0s 3ms/step - loss: 0.2016 - accuracy: 0.9890\n",
            "Epoch 121/150\n",
            "32/32 [==============================] - 0s 3ms/step - loss: 0.1979 - accuracy: 0.9920\n",
            "Epoch 122/150\n",
            "32/32 [==============================] - 0s 3ms/step - loss: 0.1938 - accuracy: 0.9910\n",
            "Epoch 123/150\n",
            "32/32 [==============================] - 0s 3ms/step - loss: 0.1906 - accuracy: 0.9920\n",
            "Epoch 124/150\n",
            "32/32 [==============================] - 0s 3ms/step - loss: 0.1872 - accuracy: 0.9910\n",
            "Epoch 125/150\n",
            "32/32 [==============================] - 0s 3ms/step - loss: 0.1839 - accuracy: 0.9900\n",
            "Epoch 126/150\n",
            "32/32 [==============================] - 0s 3ms/step - loss: 0.1809 - accuracy: 0.9920\n",
            "Epoch 127/150\n",
            "32/32 [==============================] - 0s 3ms/step - loss: 0.1771 - accuracy: 0.9910\n",
            "Epoch 128/150\n",
            "32/32 [==============================] - 0s 3ms/step - loss: 0.1747 - accuracy: 0.9920\n",
            "Epoch 129/150\n",
            "32/32 [==============================] - 0s 3ms/step - loss: 0.1712 - accuracy: 0.9930\n",
            "Epoch 130/150\n",
            "32/32 [==============================] - 0s 3ms/step - loss: 0.1682 - accuracy: 0.9930\n",
            "Epoch 131/150\n",
            "32/32 [==============================] - 0s 3ms/step - loss: 0.1662 - accuracy: 0.9910\n",
            "Epoch 132/150\n",
            "32/32 [==============================] - 0s 3ms/step - loss: 0.1630 - accuracy: 0.9930\n",
            "Epoch 133/150\n",
            "32/32 [==============================] - 0s 3ms/step - loss: 0.1603 - accuracy: 0.9910\n",
            "Epoch 134/150\n",
            "32/32 [==============================] - 0s 3ms/step - loss: 0.1578 - accuracy: 0.9910\n",
            "Epoch 135/150\n",
            "32/32 [==============================] - 0s 3ms/step - loss: 0.1552 - accuracy: 0.9940\n",
            "Epoch 136/150\n",
            "32/32 [==============================] - 0s 3ms/step - loss: 0.1530 - accuracy: 0.9920\n",
            "Epoch 137/150\n",
            "32/32 [==============================] - 0s 3ms/step - loss: 0.1510 - accuracy: 0.9920\n",
            "Epoch 138/150\n",
            "32/32 [==============================] - 0s 3ms/step - loss: 0.1480 - accuracy: 0.9930\n",
            "Epoch 139/150\n",
            "32/32 [==============================] - 0s 3ms/step - loss: 0.1459 - accuracy: 0.9920\n",
            "Epoch 140/150\n",
            "32/32 [==============================] - 0s 3ms/step - loss: 0.1439 - accuracy: 0.9910\n",
            "Epoch 141/150\n",
            "32/32 [==============================] - 0s 3ms/step - loss: 0.1420 - accuracy: 0.9930\n",
            "Epoch 142/150\n",
            "32/32 [==============================] - 0s 3ms/step - loss: 0.1392 - accuracy: 0.9940\n",
            "Epoch 143/150\n",
            "32/32 [==============================] - 0s 3ms/step - loss: 0.1376 - accuracy: 0.9920\n",
            "Epoch 144/150\n",
            "32/32 [==============================] - 0s 3ms/step - loss: 0.1356 - accuracy: 0.9930\n",
            "Epoch 145/150\n",
            "32/32 [==============================] - 0s 3ms/step - loss: 0.1332 - accuracy: 0.9920\n",
            "Epoch 146/150\n",
            "32/32 [==============================] - 0s 3ms/step - loss: 0.1314 - accuracy: 0.9910\n",
            "Epoch 147/150\n",
            "32/32 [==============================] - 0s 3ms/step - loss: 0.1295 - accuracy: 0.9900\n",
            "Epoch 148/150\n",
            "32/32 [==============================] - 0s 3ms/step - loss: 0.1276 - accuracy: 0.9930\n",
            "Epoch 149/150\n",
            "32/32 [==============================] - 0s 3ms/step - loss: 0.1257 - accuracy: 0.9930\n",
            "Epoch 150/150\n",
            "32/32 [==============================] - 0s 3ms/step - loss: 0.1242 - accuracy: 0.9920\n"
          ]
        }
      ]
    },
    {
      "cell_type": "code",
      "source": [
        "model_6.evaluate(x,y)"
      ],
      "metadata": {
        "colab": {
          "base_uri": "https://localhost:8080/"
        },
        "id": "QQa4JreJBihw",
        "outputId": "2bc3c131-a1ae-4efb-a5eb-02abb98a16e0"
      },
      "execution_count": 30,
      "outputs": [
        {
          "output_type": "stream",
          "name": "stdout",
          "text": [
            "32/32 [==============================] - 0s 2ms/step - loss: 0.1226 - accuracy: 0.9930\n"
          ]
        },
        {
          "output_type": "execute_result",
          "data": {
            "text/plain": [
              "[0.12255411595106125, 0.9929999709129333]"
            ]
          },
          "metadata": {},
          "execution_count": 30
        }
      ]
    },
    {
      "cell_type": "code",
      "source": [
        "#plot_decision_boundary(model_6,x,y)"
      ],
      "metadata": {
        "id": "4XeyjBkjBnla"
      },
      "execution_count": 31,
      "outputs": []
    },
    {
      "cell_type": "markdown",
      "source": [
        "## Building Activation Functions from Scratch"
      ],
      "metadata": {
        "id": "975tkJ-ACdbN"
      }
    },
    {
      "cell_type": "code",
      "source": [
        "#Sample Tensor\n",
        "A = tf.cast(tf.range(-10,10),tf.float32)\n",
        "A"
      ],
      "metadata": {
        "colab": {
          "base_uri": "https://localhost:8080/"
        },
        "id": "3mRah7MrFIwB",
        "outputId": "8e347530-331a-4f8e-b35c-289f289f92fa"
      },
      "execution_count": 32,
      "outputs": [
        {
          "output_type": "execute_result",
          "data": {
            "text/plain": [
              "<tf.Tensor: shape=(20,), dtype=float32, numpy=\n",
              "array([-10.,  -9.,  -8.,  -7.,  -6.,  -5.,  -4.,  -3.,  -2.,  -1.,   0.,\n",
              "         1.,   2.,   3.,   4.,   5.,   6.,   7.,   8.,   9.],\n",
              "      dtype=float32)>"
            ]
          },
          "metadata": {},
          "execution_count": 32
        }
      ]
    },
    {
      "cell_type": "code",
      "source": [
        "#Visualizing Sample Tensor\n",
        "plt.plot(A)"
      ],
      "metadata": {
        "colab": {
          "base_uri": "https://localhost:8080/",
          "height": 283
        },
        "id": "cl1HfWSnG9TM",
        "outputId": "214046f5-b8fc-4855-84d1-9307dd9aa933"
      },
      "execution_count": 33,
      "outputs": [
        {
          "output_type": "execute_result",
          "data": {
            "text/plain": [
              "[<matplotlib.lines.Line2D at 0x7f8f102c4910>]"
            ]
          },
          "metadata": {},
          "execution_count": 33
        },
        {
          "output_type": "display_data",
          "data": {
            "text/plain": [
              "<Figure size 432x288 with 1 Axes>"
            ],
            "image/png": "[encoded data removed]"
          },
          "metadata": {
            "needs_background": "light"
          }
        }
      ]
    },
    {
      "cell_type": "code",
      "source": [
        "def sigmoid(x):\n",
        "  return (1/(1+tf.exp(-x)))\n"
      ],
      "metadata": {
        "id": "ObFyKkwWHAIq"
      },
      "execution_count": 34,
      "outputs": []
    },
    {
      "cell_type": "code",
      "source": [
        "plt.plot(sigmoid(A))"
      ],
      "metadata": {
        "colab": {
          "base_uri": "https://localhost:8080/",
          "height": 283
        },
        "id": "y9dxoTTcHgwt",
        "outputId": "4d004e10-5c3c-4697-9dfd-33bb1415146a"
      },
      "execution_count": 35,
      "outputs": [
        {
          "output_type": "execute_result",
          "data": {
            "text/plain": [
              "[<matplotlib.lines.Line2D at 0x7f8f1027ad60>]"
            ]
          },
          "metadata": {},
          "execution_count": 35
        },
        {
          "output_type": "display_data",
          "data": {
            "text/plain": [
              "<Figure size 432x288 with 1 Axes>"
            ],
            "image/png": "[encoded data removed]"
          },
          "metadata": {
            "needs_background": "light"
          }
        }
      ]
    },
    {
      "cell_type": "code",
      "source": [
        "def relu(x):\n",
        " return tf.maximum(0,x)"
      ],
      "metadata": {
        "id": "2iCISZSiHl5-"
      },
      "execution_count": 36,
      "outputs": []
    },
    {
      "cell_type": "code",
      "source": [
        "plt.plot(relu(A))"
      ],
      "metadata": {
        "colab": {
          "base_uri": "https://localhost:8080/",
          "height": 283
        },
        "id": "O5jcP5U5Hm2o",
        "outputId": "ca5844ab-5446-40a3-842d-a7f5d877dbc0"
      },
      "execution_count": 37,
      "outputs": [
        {
          "output_type": "execute_result",
          "data": {
            "text/plain": [
              "[<matplotlib.lines.Line2D at 0x7f8f101d6850>]"
            ]
          },
          "metadata": {},
          "execution_count": 37
        },
        {
          "output_type": "display_data",
          "data": {
            "text/plain": [
              "<Figure size 432x288 with 1 Axes>"
            ],
            "image/png": "[encoded data removed]"
          },
          "metadata": {
            "needs_background": "light"
          }
        }
      ]
    },
    {
      "cell_type": "code",
      "source": [
        "def linear(x):\n",
        "  return x"
      ],
      "metadata": {
        "id": "8YItmC08ISor"
      },
      "execution_count": 38,
      "outputs": []
    },
    {
      "cell_type": "code",
      "source": [
        "plt.plot(linear(A))"
      ],
      "metadata": {
        "colab": {
          "base_uri": "https://localhost:8080/",
          "height": 283
        },
        "id": "8OGbpZdRJI31",
        "outputId": "cacf844c-df70-403d-9b2e-aaff881d4a38"
      },
      "execution_count": 39,
      "outputs": [
        {
          "output_type": "execute_result",
          "data": {
            "text/plain": [
              "[<matplotlib.lines.Line2D at 0x7f8f101ab4f0>]"
            ]
          },
          "metadata": {},
          "execution_count": 39
        },
        {
          "output_type": "display_data",
          "data": {
            "text/plain": [
              "<Figure size 432x288 with 1 Axes>"
            ],
            "image/png": "[encoded data removed]"
          },
          "metadata": {
            "needs_background": "light"
          }
        }
      ]
    },
    {
      "cell_type": "markdown",
      "source": [
        "## Evaluating and Improving our classification"
      ],
      "metadata": {
        "id": "snnXIVqaJNWc"
      }
    },
    {
      "cell_type": "code",
      "source": [
        "from sklearn.model_selection import train_test_split"
      ],
      "metadata": {
        "id": "0ACyyWgSD8Nb"
      },
      "execution_count": 40,
      "outputs": []
    },
    {
      "cell_type": "code",
      "source": [
        "x_train,x_val,y_train,y_val = train_test_split(x,y,test_size = 0.2)"
      ],
      "metadata": {
        "id": "iAlgilLvEQcy"
      },
      "execution_count": 41,
      "outputs": []
    },
    {
      "cell_type": "code",
      "source": [
        "tf.random.set_seed(42)\n",
        "model_7 = tf.keras.Sequential([\n",
        "    tf.keras.layers.Dense(4,activation = \"relu\"),\n",
        "    tf.keras.layers.Dense(4,activation = \"relu\"),\n",
        "    tf.keras.layers.Dense(1,activation = \"sigmoid\")\n",
        "])\n",
        "model_7.compile(loss = \"binary_crossentropy\",optimizer = tf.keras.optimizers.Adam(lr=0.01),metrics = ['accuracy'])\n",
        "history = model_7.fit(x_train,y_train,epochs = 150)"
      ],
      "metadata": {
        "colab": {
          "base_uri": "https://localhost:8080/"
        },
        "id": "YFf2QrOtEeKW",
        "outputId": "cd50ba9e-669f-4426-c5a1-6ad69e9dac60"
      },
      "execution_count": 42,
      "outputs": [
        {
          "output_type": "stream",
          "name": "stderr",
          "text": [
            "/usr/local/lib/python3.8/dist-packages/keras/optimizers/optimizer_v2/adam.py:110: UserWarning: The `lr` argument is deprecated, use `learning_rate` instead.\n",
            "  super(Adam, self).__init__(name, **kwargs)\n"
          ]
        },
        {
          "output_type": "stream",
          "name": "stdout",
          "text": [
            "Epoch 1/150\n",
            "25/25 [==============================] - 1s 4ms/step - loss: 0.6864 - accuracy: 0.5300\n",
            "Epoch 2/150\n",
            "25/25 [==============================] - 0s 8ms/step - loss: 0.6795 - accuracy: 0.5875\n",
            "Epoch 3/150\n",
            "25/25 [==============================] - 0s 6ms/step - loss: 0.6741 - accuracy: 0.5688\n",
            "Epoch 4/150\n",
            "25/25 [==============================] - 0s 6ms/step - loss: 0.6677 - accuracy: 0.5738\n",
            "Epoch 5/150\n",
            "25/25 [==============================] - 0s 5ms/step - loss: 0.6591 - accuracy: 0.5863\n",
            "Epoch 6/150\n",
            "25/25 [==============================] - 0s 2ms/step - loss: 0.6526 - accuracy: 0.6237\n",
            "Epoch 7/150\n",
            "25/25 [==============================] - 0s 2ms/step - loss: 0.6360 - accuracy: 0.6975\n",
            "Epoch 8/150\n",
            "25/25 [==============================] - 0s 2ms/step - loss: 0.6144 - accuracy: 0.6750\n",
            "Epoch 9/150\n",
            "25/25 [==============================] - 0s 2ms/step - loss: 0.5865 - accuracy: 0.7937\n",
            "Epoch 10/150\n",
            "25/25 [==============================] - 0s 2ms/step - loss: 0.5330 - accuracy: 0.8788\n",
            "Epoch 11/150\n",
            "25/25 [==============================] - 0s 2ms/step - loss: 0.4555 - accuracy: 0.9438\n",
            "Epoch 12/150\n",
            "25/25 [==============================] - 0s 3ms/step - loss: 0.3680 - accuracy: 0.9737\n",
            "Epoch 13/150\n",
            "25/25 [==============================] - 0s 5ms/step - loss: 0.2983 - accuracy: 0.9887\n",
            "Epoch 14/150\n",
            "25/25 [==============================] - 0s 6ms/step - loss: 0.2308 - accuracy: 0.9912\n",
            "Epoch 15/150\n",
            "25/25 [==============================] - 0s 5ms/step - loss: 0.1933 - accuracy: 0.9837\n",
            "Epoch 16/150\n",
            "25/25 [==============================] - 0s 4ms/step - loss: 0.1416 - accuracy: 0.9950\n",
            "Epoch 17/150\n",
            "25/25 [==============================] - 0s 5ms/step - loss: 0.1140 - accuracy: 0.9950\n",
            "Epoch 18/150\n",
            "25/25 [==============================] - 0s 4ms/step - loss: 0.0971 - accuracy: 0.9975\n",
            "Epoch 19/150\n",
            "25/25 [==============================] - 0s 2ms/step - loss: 0.0893 - accuracy: 0.9912\n",
            "Epoch 20/150\n",
            "25/25 [==============================] - 0s 2ms/step - loss: 0.0780 - accuracy: 0.9950\n",
            "Epoch 21/150\n",
            "25/25 [==============================] - 0s 2ms/step - loss: 0.0718 - accuracy: 0.9937\n",
            "Epoch 22/150\n",
            "25/25 [==============================] - 0s 3ms/step - loss: 0.0609 - accuracy: 0.9975\n",
            "Epoch 23/150\n",
            "25/25 [==============================] - 0s 2ms/step - loss: 0.0568 - accuracy: 0.9950\n",
            "Epoch 24/150\n",
            "25/25 [==============================] - 0s 2ms/step - loss: 0.0510 - accuracy: 0.9950\n",
            "Epoch 25/150\n",
            "25/25 [==============================] - 0s 2ms/step - loss: 0.0481 - accuracy: 0.9950\n",
            "Epoch 26/150\n",
            "25/25 [==============================] - 0s 2ms/step - loss: 0.0466 - accuracy: 0.9925\n",
            "Epoch 27/150\n",
            "25/25 [==============================] - 0s 2ms/step - loss: 0.0427 - accuracy: 0.9950\n",
            "Epoch 28/150\n",
            "25/25 [==============================] - 0s 3ms/step - loss: 0.0417 - accuracy: 0.9925\n",
            "Epoch 29/150\n",
            "25/25 [==============================] - 0s 2ms/step - loss: 0.0386 - accuracy: 0.9962\n",
            "Epoch 30/150\n",
            "25/25 [==============================] - 0s 2ms/step - loss: 0.0377 - accuracy: 0.9950\n",
            "Epoch 31/150\n",
            "25/25 [==============================] - 0s 2ms/step - loss: 0.0337 - accuracy: 0.9950\n",
            "Epoch 32/150\n",
            "25/25 [==============================] - 0s 2ms/step - loss: 0.0316 - accuracy: 0.9962\n",
            "Epoch 33/150\n",
            "25/25 [==============================] - 0s 2ms/step - loss: 0.0294 - accuracy: 0.9950\n",
            "Epoch 34/150\n",
            "25/25 [==============================] - 0s 2ms/step - loss: 0.0303 - accuracy: 0.9950\n",
            "Epoch 35/150\n",
            "25/25 [==============================] - 0s 2ms/step - loss: 0.0274 - accuracy: 0.9975\n",
            "Epoch 36/150\n",
            "25/25 [==============================] - 0s 3ms/step - loss: 0.0274 - accuracy: 0.9937\n",
            "Epoch 37/150\n",
            "25/25 [==============================] - 0s 3ms/step - loss: 0.0276 - accuracy: 0.9937\n",
            "Epoch 38/150\n",
            "25/25 [==============================] - 0s 2ms/step - loss: 0.0244 - accuracy: 1.0000\n",
            "Epoch 39/150\n",
            "25/25 [==============================] - 0s 2ms/step - loss: 0.0256 - accuracy: 0.9950\n",
            "Epoch 40/150\n",
            "25/25 [==============================] - 0s 2ms/step - loss: 0.0254 - accuracy: 0.9937\n",
            "Epoch 41/150\n",
            "25/25 [==============================] - 0s 2ms/step - loss: 0.0259 - accuracy: 0.9950\n",
            "Epoch 42/150\n",
            "25/25 [==============================] - 0s 2ms/step - loss: 0.0243 - accuracy: 0.9937\n",
            "Epoch 43/150\n",
            "25/25 [==============================] - 0s 2ms/step - loss: 0.0226 - accuracy: 0.9962\n",
            "Epoch 44/150\n",
            "25/25 [==============================] - 0s 2ms/step - loss: 0.0242 - accuracy: 0.9950\n",
            "Epoch 45/150\n",
            "25/25 [==============================] - 0s 2ms/step - loss: 0.0235 - accuracy: 0.9937\n",
            "Epoch 46/150\n",
            "25/25 [==============================] - 0s 2ms/step - loss: 0.0204 - accuracy: 0.9950\n",
            "Epoch 47/150\n",
            "25/25 [==============================] - 0s 2ms/step - loss: 0.0241 - accuracy: 0.9950\n",
            "Epoch 48/150\n",
            "25/25 [==============================] - 0s 2ms/step - loss: 0.0246 - accuracy: 0.9962\n",
            "Epoch 49/150\n",
            "25/25 [==============================] - 0s 3ms/step - loss: 0.0248 - accuracy: 0.9937\n",
            "Epoch 50/150\n",
            "25/25 [==============================] - 0s 3ms/step - loss: 0.0204 - accuracy: 0.9950\n",
            "Epoch 51/150\n",
            "25/25 [==============================] - 0s 2ms/step - loss: 0.0236 - accuracy: 0.9925\n",
            "Epoch 52/150\n",
            "25/25 [==============================] - 0s 2ms/step - loss: 0.0209 - accuracy: 0.9937\n",
            "Epoch 53/150\n",
            "25/25 [==============================] - 0s 3ms/step - loss: 0.0196 - accuracy: 0.9950\n",
            "Epoch 54/150\n",
            "25/25 [==============================] - 0s 2ms/step - loss: 0.0185 - accuracy: 0.9950\n",
            "Epoch 55/150\n",
            "25/25 [==============================] - 0s 2ms/step - loss: 0.0237 - accuracy: 0.9912\n",
            "Epoch 56/150\n",
            "25/25 [==============================] - 0s 3ms/step - loss: 0.0227 - accuracy: 0.9937\n",
            "Epoch 57/150\n",
            "25/25 [==============================] - 0s 2ms/step - loss: 0.0227 - accuracy: 0.9912\n",
            "Epoch 58/150\n",
            "25/25 [==============================] - 0s 3ms/step - loss: 0.0226 - accuracy: 0.9925\n",
            "Epoch 59/150\n",
            "25/25 [==============================] - 0s 2ms/step - loss: 0.0237 - accuracy: 0.9937\n",
            "Epoch 60/150\n",
            "25/25 [==============================] - 0s 2ms/step - loss: 0.0176 - accuracy: 0.9950\n",
            "Epoch 61/150\n",
            "25/25 [==============================] - 0s 2ms/step - loss: 0.0206 - accuracy: 0.9937\n",
            "Epoch 62/150\n",
            "25/25 [==============================] - 0s 2ms/step - loss: 0.0215 - accuracy: 0.9925\n",
            "Epoch 63/150\n",
            "25/25 [==============================] - 0s 2ms/step - loss: 0.0228 - accuracy: 0.9937\n",
            "Epoch 64/150\n",
            "25/25 [==============================] - 0s 3ms/step - loss: 0.0193 - accuracy: 0.9925\n",
            "Epoch 65/150\n",
            "25/25 [==============================] - 0s 2ms/step - loss: 0.0168 - accuracy: 0.9962\n",
            "Epoch 66/150\n",
            "25/25 [==============================] - 0s 2ms/step - loss: 0.0149 - accuracy: 0.9975\n",
            "Epoch 67/150\n",
            "25/25 [==============================] - 0s 2ms/step - loss: 0.0189 - accuracy: 0.9950\n",
            "Epoch 68/150\n",
            "25/25 [==============================] - 0s 2ms/step - loss: 0.0181 - accuracy: 0.9937\n",
            "Epoch 69/150\n",
            "25/25 [==============================] - 0s 2ms/step - loss: 0.0175 - accuracy: 0.9950\n",
            "Epoch 70/150\n",
            "25/25 [==============================] - 0s 2ms/step - loss: 0.0209 - accuracy: 0.9937\n",
            "Epoch 71/150\n",
            "25/25 [==============================] - 0s 2ms/step - loss: 0.0143 - accuracy: 0.9975\n",
            "Epoch 72/150\n",
            "25/25 [==============================] - 0s 3ms/step - loss: 0.0181 - accuracy: 0.9950\n",
            "Epoch 73/150\n",
            "25/25 [==============================] - 0s 2ms/step - loss: 0.0142 - accuracy: 0.9975\n",
            "Epoch 74/150\n",
            "25/25 [==============================] - 0s 2ms/step - loss: 0.0188 - accuracy: 0.9950\n",
            "Epoch 75/150\n",
            "25/25 [==============================] - 0s 2ms/step - loss: 0.0191 - accuracy: 0.9925\n",
            "Epoch 76/150\n",
            "25/25 [==============================] - 0s 2ms/step - loss: 0.0221 - accuracy: 0.9912\n",
            "Epoch 77/150\n",
            "25/25 [==============================] - 0s 2ms/step - loss: 0.0193 - accuracy: 0.9950\n",
            "Epoch 78/150\n",
            "25/25 [==============================] - 0s 2ms/step - loss: 0.0152 - accuracy: 0.9937\n",
            "Epoch 79/150\n",
            "25/25 [==============================] - 0s 2ms/step - loss: 0.0214 - accuracy: 0.9912\n",
            "Epoch 80/150\n",
            "25/25 [==============================] - 0s 2ms/step - loss: 0.0234 - accuracy: 0.9912\n",
            "Epoch 81/150\n",
            "25/25 [==============================] - 0s 2ms/step - loss: 0.0162 - accuracy: 0.9987\n",
            "Epoch 82/150\n",
            "25/25 [==============================] - 0s 2ms/step - loss: 0.0154 - accuracy: 0.9950\n",
            "Epoch 83/150\n",
            "25/25 [==============================] - 0s 3ms/step - loss: 0.0155 - accuracy: 0.9925\n",
            "Epoch 84/150\n",
            "25/25 [==============================] - 0s 3ms/step - loss: 0.0165 - accuracy: 0.9950\n",
            "Epoch 85/150\n",
            "25/25 [==============================] - 0s 2ms/step - loss: 0.0186 - accuracy: 0.9937\n",
            "Epoch 86/150\n",
            "25/25 [==============================] - 0s 2ms/step - loss: 0.0132 - accuracy: 0.9962\n",
            "Epoch 87/150\n",
            "25/25 [==============================] - 0s 2ms/step - loss: 0.0149 - accuracy: 0.9962\n",
            "Epoch 88/150\n",
            "25/25 [==============================] - 0s 2ms/step - loss: 0.0128 - accuracy: 0.9950\n",
            "Epoch 89/150\n",
            "25/25 [==============================] - 0s 2ms/step - loss: 0.0150 - accuracy: 0.9925\n",
            "Epoch 90/150\n",
            "25/25 [==============================] - 0s 2ms/step - loss: 0.0197 - accuracy: 0.9937\n",
            "Epoch 91/150\n",
            "25/25 [==============================] - 0s 2ms/step - loss: 0.0172 - accuracy: 0.9937\n",
            "Epoch 92/150\n",
            "25/25 [==============================] - 0s 3ms/step - loss: 0.0153 - accuracy: 0.9950\n",
            "Epoch 93/150\n",
            "25/25 [==============================] - 0s 2ms/step - loss: 0.0130 - accuracy: 0.9937\n",
            "Epoch 94/150\n",
            "25/25 [==============================] - 0s 2ms/step - loss: 0.0127 - accuracy: 0.9962\n",
            "Epoch 95/150\n",
            "25/25 [==============================] - 0s 2ms/step - loss: 0.0125 - accuracy: 0.9950\n",
            "Epoch 96/150\n",
            "25/25 [==============================] - 0s 2ms/step - loss: 0.0140 - accuracy: 0.9925\n",
            "Epoch 97/150\n",
            "25/25 [==============================] - 0s 2ms/step - loss: 0.0147 - accuracy: 0.9950\n",
            "Epoch 98/150\n",
            "25/25 [==============================] - 0s 2ms/step - loss: 0.0126 - accuracy: 0.9950\n",
            "Epoch 99/150\n",
            "25/25 [==============================] - 0s 3ms/step - loss: 0.0173 - accuracy: 0.9925\n",
            "Epoch 100/150\n",
            "25/25 [==============================] - 0s 3ms/step - loss: 0.0175 - accuracy: 0.9937\n",
            "Epoch 101/150\n",
            "25/25 [==============================] - 0s 2ms/step - loss: 0.0148 - accuracy: 0.9937\n",
            "Epoch 102/150\n",
            "25/25 [==============================] - 0s 2ms/step - loss: 0.0161 - accuracy: 0.9937\n",
            "Epoch 103/150\n",
            "25/25 [==============================] - 0s 2ms/step - loss: 0.0260 - accuracy: 0.9887\n",
            "Epoch 104/150\n",
            "25/25 [==============================] - 0s 3ms/step - loss: 0.0230 - accuracy: 0.9900\n",
            "Epoch 105/150\n",
            "25/25 [==============================] - 0s 2ms/step - loss: 0.0192 - accuracy: 0.9937\n",
            "Epoch 106/150\n",
            "25/25 [==============================] - 0s 2ms/step - loss: 0.0162 - accuracy: 0.9950\n",
            "Epoch 107/150\n",
            "25/25 [==============================] - 0s 3ms/step - loss: 0.0198 - accuracy: 0.9925\n",
            "Epoch 108/150\n",
            "25/25 [==============================] - 0s 2ms/step - loss: 0.0115 - accuracy: 0.9975\n",
            "Epoch 109/150\n",
            "25/25 [==============================] - 0s 2ms/step - loss: 0.0134 - accuracy: 0.9950\n",
            "Epoch 110/150\n",
            "25/25 [==============================] - 0s 2ms/step - loss: 0.0131 - accuracy: 0.9975\n",
            "Epoch 111/150\n",
            "25/25 [==============================] - 0s 2ms/step - loss: 0.0132 - accuracy: 0.9962\n",
            "Epoch 112/150\n",
            "25/25 [==============================] - 0s 2ms/step - loss: 0.0136 - accuracy: 0.9937\n",
            "Epoch 113/150\n",
            "25/25 [==============================] - 0s 3ms/step - loss: 0.0214 - accuracy: 0.9900\n",
            "Epoch 114/150\n",
            "25/25 [==============================] - 0s 3ms/step - loss: 0.0155 - accuracy: 0.9950\n",
            "Epoch 115/150\n",
            "25/25 [==============================] - 0s 2ms/step - loss: 0.0166 - accuracy: 0.9937\n",
            "Epoch 116/150\n",
            "25/25 [==============================] - 0s 2ms/step - loss: 0.0213 - accuracy: 0.9912\n",
            "Epoch 117/150\n",
            "25/25 [==============================] - 0s 2ms/step - loss: 0.0167 - accuracy: 0.9937\n",
            "Epoch 118/150\n",
            "25/25 [==============================] - 0s 3ms/step - loss: 0.0181 - accuracy: 0.9937\n",
            "Epoch 119/150\n",
            "25/25 [==============================] - 0s 2ms/step - loss: 0.0119 - accuracy: 0.9937\n",
            "Epoch 120/150\n",
            "25/25 [==============================] - 0s 2ms/step - loss: 0.0121 - accuracy: 0.9937\n",
            "Epoch 121/150\n",
            "25/25 [==============================] - 0s 2ms/step - loss: 0.0130 - accuracy: 0.9950\n",
            "Epoch 122/150\n",
            "25/25 [==============================] - 0s 3ms/step - loss: 0.0130 - accuracy: 0.9950\n",
            "Epoch 123/150\n",
            "25/25 [==============================] - 0s 2ms/step - loss: 0.0134 - accuracy: 0.9962\n",
            "Epoch 124/150\n",
            "25/25 [==============================] - 0s 2ms/step - loss: 0.0141 - accuracy: 0.9925\n",
            "Epoch 125/150\n",
            "25/25 [==============================] - 0s 2ms/step - loss: 0.0143 - accuracy: 0.9962\n",
            "Epoch 126/150\n",
            "25/25 [==============================] - 0s 3ms/step - loss: 0.0147 - accuracy: 0.9937\n",
            "Epoch 127/150\n",
            "25/25 [==============================] - 0s 2ms/step - loss: 0.0167 - accuracy: 0.9912\n",
            "Epoch 128/150\n",
            "25/25 [==============================] - 0s 2ms/step - loss: 0.0151 - accuracy: 0.9925\n",
            "Epoch 129/150\n",
            "25/25 [==============================] - 0s 3ms/step - loss: 0.0170 - accuracy: 0.9937\n",
            "Epoch 130/150\n",
            "25/25 [==============================] - 0s 2ms/step - loss: 0.0180 - accuracy: 0.9925\n",
            "Epoch 131/150\n",
            "25/25 [==============================] - 0s 2ms/step - loss: 0.0181 - accuracy: 0.9925\n",
            "Epoch 132/150\n",
            "25/25 [==============================] - 0s 2ms/step - loss: 0.0130 - accuracy: 0.9950\n",
            "Epoch 133/150\n",
            "25/25 [==============================] - 0s 3ms/step - loss: 0.0131 - accuracy: 0.9950\n",
            "Epoch 134/150\n",
            "25/25 [==============================] - 0s 2ms/step - loss: 0.0132 - accuracy: 0.9937\n",
            "Epoch 135/150\n",
            "25/25 [==============================] - 0s 3ms/step - loss: 0.0169 - accuracy: 0.9937\n",
            "Epoch 136/150\n",
            "25/25 [==============================] - 0s 2ms/step - loss: 0.0131 - accuracy: 0.9937\n",
            "Epoch 137/150\n",
            "25/25 [==============================] - 0s 3ms/step - loss: 0.0130 - accuracy: 0.9950\n",
            "Epoch 138/150\n",
            "25/25 [==============================] - 0s 2ms/step - loss: 0.0186 - accuracy: 0.9937\n",
            "Epoch 139/150\n",
            "25/25 [==============================] - 0s 2ms/step - loss: 0.0160 - accuracy: 0.9962\n",
            "Epoch 140/150\n",
            "25/25 [==============================] - 0s 2ms/step - loss: 0.0190 - accuracy: 0.9925\n",
            "Epoch 141/150\n",
            "25/25 [==============================] - 0s 2ms/step - loss: 0.0148 - accuracy: 0.9950\n",
            "Epoch 142/150\n",
            "25/25 [==============================] - 0s 2ms/step - loss: 0.0129 - accuracy: 0.9950\n",
            "Epoch 143/150\n",
            "25/25 [==============================] - 0s 2ms/step - loss: 0.0198 - accuracy: 0.9912\n",
            "Epoch 144/150\n",
            "25/25 [==============================] - 0s 2ms/step - loss: 0.0158 - accuracy: 0.9925\n",
            "Epoch 145/150\n",
            "25/25 [==============================] - 0s 2ms/step - loss: 0.0154 - accuracy: 0.9937\n",
            "Epoch 146/150\n",
            "25/25 [==============================] - 0s 2ms/step - loss: 0.0212 - accuracy: 0.9912\n",
            "Epoch 147/150\n",
            "25/25 [==============================] - 0s 2ms/step - loss: 0.0156 - accuracy: 0.9925\n",
            "Epoch 148/150\n",
            "25/25 [==============================] - 0s 3ms/step - loss: 0.0102 - accuracy: 0.9975\n",
            "Epoch 149/150\n",
            "25/25 [==============================] - 0s 2ms/step - loss: 0.0192 - accuracy: 0.9950\n",
            "Epoch 150/150\n",
            "25/25 [==============================] - 0s 2ms/step - loss: 0.0191 - accuracy: 0.9950\n"
          ]
        }
      ]
    },
    {
      "cell_type": "code",
      "source": [
        "model_7.evaluate(x_val,y_val)"
      ],
      "metadata": {
        "colab": {
          "base_uri": "https://localhost:8080/"
        },
        "id": "yvOeCfvkFQCj",
        "outputId": "379fa592-c1be-409e-da1f-008624bc106d"
      },
      "execution_count": 43,
      "outputs": [
        {
          "output_type": "stream",
          "name": "stdout",
          "text": [
            "7/7 [==============================] - 0s 6ms/step - loss: 0.0190 - accuracy: 0.9900\n"
          ]
        },
        {
          "output_type": "execute_result",
          "data": {
            "text/plain": [
              "[0.01901608519256115, 0.9900000095367432]"
            ]
          },
          "metadata": {},
          "execution_count": 43
        }
      ]
    },
    {
      "cell_type": "code",
      "source": [
        "plt.figure(figsize=(12,6))\n",
        "plt.subplot(1,2,1)\n",
        "plt.title(\"Train\")\n",
        "plot_decision_boundary(model_7,x_train,y_train)\n",
        "plt.subplot(1,2,2)\n",
        "plt.title(\"Test\")\n",
        "plot_decision_boundary(model_7,x_val,y_val)"
      ],
      "metadata": {
        "id": "2FCzLhy8GPyI"
      },
      "execution_count": null,
      "outputs": []
    },
    {
      "cell_type": "markdown",
      "source": [
        "## Plotting Loss Curves"
      ],
      "metadata": {
        "id": "lTxNE97sGffK"
      }
    },
    {
      "cell_type": "code",
      "source": [
        "pd.DataFrame(history.history).plot()\n",
        "plt.title(\"Model_8 Loss Curves\")"
      ],
      "metadata": {
        "colab": {
          "base_uri": "https://localhost:8080/",
          "height": 299
        },
        "id": "UOTjTdstHKWY",
        "outputId": "75dfd4d2-6030-4fa9-b37b-4249d6482825"
      },
      "execution_count": 45,
      "outputs": [
        {
          "output_type": "execute_result",
          "data": {
            "text/plain": [
              "Text(0.5, 1.0, 'Model_8 Loss Curves')"
            ]
          },
          "metadata": {},
          "execution_count": 45
        },
        {
          "output_type": "display_data",
          "data": {
            "text/plain": [
              "<Figure size 432x288 with 1 Axes>"
            ],
            "image/png": "[encoded data removed]"
          },
          "metadata": {
            "needs_background": "light"
          }
        }
      ]
    },
    {
      "cell_type": "markdown",
      "source": [
        "## Finding the best Learning Rate"
      ],
      "metadata": {
        "id": "73tJeQJpIsi0"
      }
    },
    {
      "cell_type": "code",
      "source": [
        "tf.random.set_seed(42)\n",
        "model_8 = tf.keras.Sequential([\n",
        "    tf.keras.layers.Dense(4,activation = \"relu\"),\n",
        "    tf.keras.layers.Dense(4,activation = \"relu\"),\n",
        "    tf.keras.layers.Dense(1,activation = \"sigmoid\")\n",
        "])\n",
        "model_8.compile(loss = \"binary_crossentropy\",optimizer = \"adam\",metrics = ['accuracy'])\n",
        "learning_rate_scheduler = tf.keras.callbacks.LearningRateScheduler(lambda epoch:1e-4*10**(epoch/20))\n",
        "history_8 = model_8.fit(x_train,y_train,epochs = 100,callbacks = [learning_rate_scheduler])"
      ],
      "metadata": {
        "colab": {
          "base_uri": "https://localhost:8080/"
        },
        "id": "gYDMmmItJFWV",
        "outputId": "cf75e158-6b61-461b-bdb7-74e9224271d7"
      },
      "execution_count": 46,
      "outputs": [
        {
          "output_type": "stream",
          "name": "stdout",
          "text": [
            "Epoch 1/100\n",
            "25/25 [==============================] - 0s 2ms/step - loss: 0.6986 - accuracy: 0.4863 - lr: 1.0000e-04\n",
            "Epoch 2/100\n",
            "25/25 [==============================] - 0s 2ms/step - loss: 0.6977 - accuracy: 0.4863 - lr: 1.1220e-04\n",
            "Epoch 3/100\n",
            "25/25 [==============================] - 0s 3ms/step - loss: 0.6968 - accuracy: 0.4875 - lr: 1.2589e-04\n",
            "Epoch 4/100\n",
            "25/25 [==============================] - 0s 2ms/step - loss: 0.6959 - accuracy: 0.4888 - lr: 1.4125e-04\n",
            "Epoch 5/100\n",
            "25/25 [==============================] - 0s 2ms/step - loss: 0.6948 - accuracy: 0.4963 - lr: 1.5849e-04\n",
            "Epoch 6/100\n",
            "25/25 [==============================] - 0s 2ms/step - loss: 0.6938 - accuracy: 0.4875 - lr: 1.7783e-04\n",
            "Epoch 7/100\n",
            "25/25 [==============================] - 0s 2ms/step - loss: 0.6927 - accuracy: 0.4925 - lr: 1.9953e-04\n",
            "Epoch 8/100\n",
            "25/25 [==============================] - 0s 2ms/step - loss: 0.6914 - accuracy: 0.4963 - lr: 2.2387e-04\n",
            "Epoch 9/100\n",
            "25/25 [==============================] - 0s 2ms/step - loss: 0.6904 - accuracy: 0.4950 - lr: 2.5119e-04\n",
            "Epoch 10/100\n",
            "25/25 [==============================] - 0s 2ms/step - loss: 0.6894 - accuracy: 0.5075 - lr: 2.8184e-04\n",
            "Epoch 11/100\n",
            "25/25 [==============================] - 0s 2ms/step - loss: 0.6883 - accuracy: 0.5125 - lr: 3.1623e-04\n",
            "Epoch 12/100\n",
            "25/25 [==============================] - 0s 2ms/step - loss: 0.6873 - accuracy: 0.5038 - lr: 3.5481e-04\n",
            "Epoch 13/100\n",
            "25/25 [==============================] - 0s 2ms/step - loss: 0.6864 - accuracy: 0.5075 - lr: 3.9811e-04\n",
            "Epoch 14/100\n",
            "25/25 [==============================] - 0s 2ms/step - loss: 0.6856 - accuracy: 0.5113 - lr: 4.4668e-04\n",
            "Epoch 15/100\n",
            "25/25 [==============================] - 0s 2ms/step - loss: 0.6849 - accuracy: 0.5100 - lr: 5.0119e-04\n",
            "Epoch 16/100\n",
            "25/25 [==============================] - 0s 2ms/step - loss: 0.6841 - accuracy: 0.5163 - lr: 5.6234e-04\n",
            "Epoch 17/100\n",
            "25/25 [==============================] - 0s 2ms/step - loss: 0.6835 - accuracy: 0.5200 - lr: 6.3096e-04\n",
            "Epoch 18/100\n",
            "25/25 [==============================] - 0s 2ms/step - loss: 0.6830 - accuracy: 0.5225 - lr: 7.0795e-04\n",
            "Epoch 19/100\n",
            "25/25 [==============================] - 0s 2ms/step - loss: 0.6825 - accuracy: 0.5288 - lr: 7.9433e-04\n",
            "Epoch 20/100\n",
            "25/25 [==============================] - 0s 3ms/step - loss: 0.6820 - accuracy: 0.5375 - lr: 8.9125e-04\n",
            "Epoch 21/100\n",
            "25/25 [==============================] - 0s 2ms/step - loss: 0.6816 - accuracy: 0.5375 - lr: 0.0010\n",
            "Epoch 22/100\n",
            "25/25 [==============================] - 0s 2ms/step - loss: 0.6811 - accuracy: 0.5375 - lr: 0.0011\n",
            "Epoch 23/100\n",
            "25/25 [==============================] - 0s 2ms/step - loss: 0.6807 - accuracy: 0.5525 - lr: 0.0013\n",
            "Epoch 24/100\n",
            "25/25 [==============================] - 0s 3ms/step - loss: 0.6798 - accuracy: 0.5525 - lr: 0.0014\n",
            "Epoch 25/100\n",
            "25/25 [==============================] - 0s 2ms/step - loss: 0.6792 - accuracy: 0.5600 - lr: 0.0016\n",
            "Epoch 26/100\n",
            "25/25 [==============================] - 0s 3ms/step - loss: 0.6785 - accuracy: 0.5587 - lr: 0.0018\n",
            "Epoch 27/100\n",
            "25/25 [==============================] - 0s 2ms/step - loss: 0.6778 - accuracy: 0.5562 - lr: 0.0020\n",
            "Epoch 28/100\n",
            "25/25 [==============================] - 0s 2ms/step - loss: 0.6768 - accuracy: 0.5562 - lr: 0.0022\n",
            "Epoch 29/100\n",
            "25/25 [==============================] - 0s 3ms/step - loss: 0.6760 - accuracy: 0.5612 - lr: 0.0025\n",
            "Epoch 30/100\n",
            "25/25 [==============================] - 0s 2ms/step - loss: 0.6744 - accuracy: 0.5688 - lr: 0.0028\n",
            "Epoch 31/100\n",
            "25/25 [==============================] - 0s 2ms/step - loss: 0.6727 - accuracy: 0.5625 - lr: 0.0032\n",
            "Epoch 32/100\n",
            "25/25 [==============================] - 0s 2ms/step - loss: 0.6710 - accuracy: 0.5663 - lr: 0.0035\n",
            "Epoch 33/100\n",
            "25/25 [==============================] - 0s 3ms/step - loss: 0.6692 - accuracy: 0.5863 - lr: 0.0040\n",
            "Epoch 34/100\n",
            "25/25 [==============================] - 0s 3ms/step - loss: 0.6669 - accuracy: 0.5663 - lr: 0.0045\n",
            "Epoch 35/100\n",
            "25/25 [==============================] - 0s 3ms/step - loss: 0.6630 - accuracy: 0.5850 - lr: 0.0050\n",
            "Epoch 36/100\n",
            "25/25 [==============================] - 0s 3ms/step - loss: 0.6596 - accuracy: 0.5975 - lr: 0.0056\n",
            "Epoch 37/100\n",
            "25/25 [==============================] - 0s 2ms/step - loss: 0.6530 - accuracy: 0.5775 - lr: 0.0063\n",
            "Epoch 38/100\n",
            "25/25 [==============================] - 0s 2ms/step - loss: 0.6444 - accuracy: 0.5900 - lr: 0.0071\n",
            "Epoch 39/100\n",
            "25/25 [==============================] - 0s 2ms/step - loss: 0.6315 - accuracy: 0.6450 - lr: 0.0079\n",
            "Epoch 40/100\n",
            "25/25 [==============================] - 0s 2ms/step - loss: 0.6018 - accuracy: 0.6975 - lr: 0.0089\n",
            "Epoch 41/100\n",
            "25/25 [==============================] - 0s 2ms/step - loss: 0.5653 - accuracy: 0.7312 - lr: 0.0100\n",
            "Epoch 42/100\n",
            "25/25 [==============================] - 0s 3ms/step - loss: 0.5088 - accuracy: 0.7550 - lr: 0.0112\n",
            "Epoch 43/100\n",
            "25/25 [==============================] - 0s 2ms/step - loss: 0.4609 - accuracy: 0.7912 - lr: 0.0126\n",
            "Epoch 44/100\n",
            "25/25 [==============================] - 0s 2ms/step - loss: 0.3922 - accuracy: 0.8575 - lr: 0.0141\n",
            "Epoch 45/100\n",
            "25/25 [==============================] - 0s 3ms/step - loss: 0.3329 - accuracy: 0.8950 - lr: 0.0158\n",
            "Epoch 46/100\n",
            "25/25 [==============================] - 0s 2ms/step - loss: 0.2627 - accuracy: 0.9112 - lr: 0.0178\n",
            "Epoch 47/100\n",
            "25/25 [==============================] - 0s 2ms/step - loss: 0.2010 - accuracy: 0.9550 - lr: 0.0200\n",
            "Epoch 48/100\n",
            "25/25 [==============================] - 0s 2ms/step - loss: 0.1504 - accuracy: 0.9675 - lr: 0.0224\n",
            "Epoch 49/100\n",
            "25/25 [==============================] - 0s 3ms/step - loss: 0.1184 - accuracy: 0.9737 - lr: 0.0251\n",
            "Epoch 50/100\n",
            "25/25 [==============================] - 0s 2ms/step - loss: 0.0945 - accuracy: 0.9787 - lr: 0.0282\n",
            "Epoch 51/100\n",
            "25/25 [==============================] - 0s 2ms/step - loss: 0.1017 - accuracy: 0.9750 - lr: 0.0316\n",
            "Epoch 52/100\n",
            "25/25 [==============================] - 0s 2ms/step - loss: 0.0890 - accuracy: 0.9700 - lr: 0.0355\n",
            "Epoch 53/100\n",
            "25/25 [==============================] - 0s 2ms/step - loss: 0.1524 - accuracy: 0.9488 - lr: 0.0398\n",
            "Epoch 54/100\n",
            "25/25 [==============================] - 0s 2ms/step - loss: 0.4598 - accuracy: 0.8325 - lr: 0.0447\n",
            "Epoch 55/100\n",
            "25/25 [==============================] - 0s 2ms/step - loss: 0.2264 - accuracy: 0.9137 - lr: 0.0501\n",
            "Epoch 56/100\n",
            "25/25 [==============================] - 0s 2ms/step - loss: 0.1005 - accuracy: 0.9638 - lr: 0.0562\n",
            "Epoch 57/100\n",
            "25/25 [==============================] - 0s 2ms/step - loss: 0.0673 - accuracy: 0.9825 - lr: 0.0631\n",
            "Epoch 58/100\n",
            "25/25 [==============================] - 0s 3ms/step - loss: 0.1058 - accuracy: 0.9675 - lr: 0.0708\n",
            "Epoch 59/100\n",
            "25/25 [==============================] - 0s 2ms/step - loss: 0.0559 - accuracy: 0.9825 - lr: 0.0794\n",
            "Epoch 60/100\n",
            "25/25 [==============================] - 0s 2ms/step - loss: 0.1527 - accuracy: 0.9413 - lr: 0.0891\n",
            "Epoch 61/100\n",
            "25/25 [==============================] - 0s 2ms/step - loss: 0.2917 - accuracy: 0.9062 - lr: 0.1000\n",
            "Epoch 62/100\n",
            "25/25 [==============================] - 0s 2ms/step - loss: 0.1195 - accuracy: 0.9463 - lr: 0.1122\n",
            "Epoch 63/100\n",
            "25/25 [==============================] - 0s 2ms/step - loss: 0.0850 - accuracy: 0.9638 - lr: 0.1259\n",
            "Epoch 64/100\n",
            "25/25 [==============================] - 0s 2ms/step - loss: 0.0565 - accuracy: 0.9787 - lr: 0.1413\n",
            "Epoch 65/100\n",
            "25/25 [==============================] - 0s 2ms/step - loss: 0.0464 - accuracy: 0.9837 - lr: 0.1585\n",
            "Epoch 66/100\n",
            "25/25 [==============================] - 0s 3ms/step - loss: 0.0423 - accuracy: 0.9837 - lr: 0.1778\n",
            "Epoch 67/100\n",
            "25/25 [==============================] - 0s 3ms/step - loss: 0.1061 - accuracy: 0.9650 - lr: 0.1995\n",
            "Epoch 68/100\n",
            "25/25 [==============================] - 0s 3ms/step - loss: 0.5148 - accuracy: 0.8275 - lr: 0.2239\n",
            "Epoch 69/100\n",
            "25/25 [==============================] - 0s 2ms/step - loss: 0.1793 - accuracy: 0.9438 - lr: 0.2512\n",
            "Epoch 70/100\n",
            "25/25 [==============================] - 0s 2ms/step - loss: 0.1762 - accuracy: 0.9237 - lr: 0.2818\n",
            "Epoch 71/100\n",
            "25/25 [==============================] - 0s 2ms/step - loss: 0.2489 - accuracy: 0.8988 - lr: 0.3162\n",
            "Epoch 72/100\n",
            "25/25 [==============================] - 0s 3ms/step - loss: 0.1268 - accuracy: 0.9600 - lr: 0.3548\n",
            "Epoch 73/100\n",
            "25/25 [==============================] - 0s 2ms/step - loss: 0.1203 - accuracy: 0.9538 - lr: 0.3981\n",
            "Epoch 74/100\n",
            "25/25 [==============================] - 0s 2ms/step - loss: 0.6941 - accuracy: 0.7663 - lr: 0.4467\n",
            "Epoch 75/100\n",
            "25/25 [==============================] - 0s 2ms/step - loss: 0.5716 - accuracy: 0.6513 - lr: 0.5012\n",
            "Epoch 76/100\n",
            "25/25 [==============================] - 0s 2ms/step - loss: 0.6132 - accuracy: 0.5987 - lr: 0.5623\n",
            "Epoch 77/100\n",
            "25/25 [==============================] - 0s 2ms/step - loss: 0.5757 - accuracy: 0.7450 - lr: 0.6310\n",
            "Epoch 78/100\n",
            "25/25 [==============================] - 0s 3ms/step - loss: 0.6376 - accuracy: 0.6475 - lr: 0.7079\n",
            "Epoch 79/100\n",
            "25/25 [==============================] - 0s 3ms/step - loss: 0.6583 - accuracy: 0.6488 - lr: 0.7943\n",
            "Epoch 80/100\n",
            "25/25 [==============================] - 0s 2ms/step - loss: 0.6773 - accuracy: 0.6475 - lr: 0.8913\n",
            "Epoch 81/100\n",
            "25/25 [==============================] - 0s 3ms/step - loss: 0.7284 - accuracy: 0.5525 - lr: 1.0000\n",
            "Epoch 82/100\n",
            "25/25 [==============================] - 0s 2ms/step - loss: 0.7222 - accuracy: 0.4988 - lr: 1.1220\n",
            "Epoch 83/100\n",
            "25/25 [==============================] - 0s 2ms/step - loss: 0.7245 - accuracy: 0.4888 - lr: 1.2589\n",
            "Epoch 84/100\n",
            "25/25 [==============================] - 0s 2ms/step - loss: 0.7113 - accuracy: 0.5138 - lr: 1.4125\n",
            "Epoch 85/100\n",
            "25/25 [==============================] - 0s 2ms/step - loss: 0.7061 - accuracy: 0.5188 - lr: 1.5849\n",
            "Epoch 86/100\n",
            "25/25 [==============================] - 0s 2ms/step - loss: 0.7165 - accuracy: 0.5138 - lr: 1.7783\n",
            "Epoch 87/100\n",
            "25/25 [==============================] - 0s 2ms/step - loss: 0.7055 - accuracy: 0.4888 - lr: 1.9953\n",
            "Epoch 88/100\n",
            "25/25 [==============================] - 0s 2ms/step - loss: 0.7202 - accuracy: 0.4938 - lr: 2.2387\n",
            "Epoch 89/100\n",
            "25/25 [==============================] - 0s 2ms/step - loss: 0.7726 - accuracy: 0.5038 - lr: 2.5119\n",
            "Epoch 90/100\n",
            "25/25 [==============================] - 0s 2ms/step - loss: 0.7684 - accuracy: 0.5038 - lr: 2.8184\n",
            "Epoch 91/100\n",
            "25/25 [==============================] - 0s 2ms/step - loss: 0.7296 - accuracy: 0.5063 - lr: 3.1623\n",
            "Epoch 92/100\n",
            "25/25 [==============================] - 0s 2ms/step - loss: 0.7819 - accuracy: 0.4787 - lr: 3.5481\n",
            "Epoch 93/100\n",
            "25/25 [==============================] - 0s 3ms/step - loss: 0.7169 - accuracy: 0.4963 - lr: 3.9811\n",
            "Epoch 94/100\n",
            "25/25 [==============================] - 0s 3ms/step - loss: 0.8353 - accuracy: 0.4963 - lr: 4.4668\n",
            "Epoch 95/100\n",
            "25/25 [==============================] - 0s 2ms/step - loss: 0.8094 - accuracy: 0.4888 - lr: 5.0119\n",
            "Epoch 96/100\n",
            "25/25 [==============================] - 0s 3ms/step - loss: 0.7549 - accuracy: 0.5188 - lr: 5.6234\n",
            "Epoch 97/100\n",
            "25/25 [==============================] - 0s 2ms/step - loss: 0.7438 - accuracy: 0.4487 - lr: 6.3096\n",
            "Epoch 98/100\n",
            "25/25 [==============================] - 0s 2ms/step - loss: 0.8431 - accuracy: 0.4737 - lr: 7.0795\n",
            "Epoch 99/100\n",
            "25/25 [==============================] - 0s 2ms/step - loss: 0.8942 - accuracy: 0.5063 - lr: 7.9433\n",
            "Epoch 100/100\n",
            "25/25 [==============================] - 0s 2ms/step - loss: 0.8895 - accuracy: 0.4888 - lr: 8.9125\n"
          ]
        }
      ]
    },
    {
      "cell_type": "code",
      "source": [
        "pd.DataFrame(history_8.history).plot(figsize = (10,7),xlabel = \"Epochs\")"
      ],
      "metadata": {
        "colab": {
          "base_uri": "https://localhost:8080/",
          "height": 460
        },
        "id": "uoBeeRl0KZ57",
        "outputId": "574a40b2-e9fb-407f-864f-8e69d2df2513"
      },
      "execution_count": 47,
      "outputs": [
        {
          "output_type": "execute_result",
          "data": {
            "text/plain": [
              "<matplotlib.axes._subplots.AxesSubplot at 0x7f8e9e67de80>"
            ]
          },
          "metadata": {},
          "execution_count": 47
        },
        {
          "output_type": "display_data",
          "data": {
            "text/plain": [
              "<Figure size 720x504 with 1 Axes>"
            ],
            "image/png": "[encoded data removed]"
          },
          "metadata": {
            "needs_background": "light"
          }
        }
      ]
    },
    {
      "cell_type": "code",
      "source": [
        "## Plotting Learning Rate vs Loss\n",
        "lrs = 1e-4*(10**(tf.range(100)/20))\n"
      ],
      "metadata": {
        "id": "nU8bV-VNKsgs"
      },
      "execution_count": 48,
      "outputs": []
    },
    {
      "cell_type": "code",
      "source": [
        "len(lrs)"
      ],
      "metadata": {
        "colab": {
          "base_uri": "https://localhost:8080/"
        },
        "id": "jKxQuDSxLMlN",
        "outputId": "e4dcc534-0f04-47f8-f1da-e93f8de4cc57"
      },
      "execution_count": 49,
      "outputs": [
        {
          "output_type": "execute_result",
          "data": {
            "text/plain": [
              "100"
            ]
          },
          "metadata": {},
          "execution_count": 49
        }
      ]
    },
    {
      "cell_type": "code",
      "source": [
        "plt.figure(figsize=(10,7))\n",
        "plt.semilogx(lrs,history_8.history[\"loss\"])"
      ],
      "metadata": {
        "colab": {
          "base_uri": "https://localhost:8080/",
          "height": 450
        },
        "id": "0TGPlbtCLQNB",
        "outputId": "63a44993-a4ea-4884-bf66-2da3cbc1ba11"
      },
      "execution_count": 50,
      "outputs": [
        {
          "output_type": "execute_result",
          "data": {
            "text/plain": [
              "[<matplotlib.lines.Line2D at 0x7f8e9ff88460>]"
            ]
          },
          "metadata": {},
          "execution_count": 50
        },
        {
          "output_type": "display_data",
          "data": {
            "text/plain": [
              "<Figure size 720x504 with 1 Axes>"
            ],
            "image/png": "[encoded data removed]"
          },
          "metadata": {
            "needs_background": "light"
          }
        }
      ]
    },
    {
      "cell_type": "code",
      "source": [
        "## Model using Ideal Learning Rate\n",
        "tf.random.set_seed(42)\n",
        "model_9 = tf.keras.Sequential([\n",
        "    tf.keras.layers.Dense(4,activation=\"relu\"),\n",
        "    tf.keras.layers.Dense(4,activation=\"relu\"),\n",
        "    tf.keras.layers.Dense(1,activation = \"sigmoid\")\n",
        "])\n",
        "model_9.compile(loss = \"binary_crossentropy\",optimizer = tf.keras.optimizers.Adam(0.02),metrics=['accuracy'])\n",
        "model_9.fit(x_train,y_train,epochs = 100)"
      ],
      "metadata": {
        "colab": {
          "base_uri": "https://localhost:8080/"
        },
        "id": "WWZgruFTMCvG",
        "outputId": "8475cff6-2500-478d-db0f-7ac1b8b99ad3"
      },
      "execution_count": 51,
      "outputs": [
        {
          "output_type": "stream",
          "name": "stdout",
          "text": [
            "Epoch 1/100\n",
            "25/25 [==============================] - 0s 2ms/step - loss: 0.6858 - accuracy: 0.5250\n",
            "Epoch 2/100\n",
            "25/25 [==============================] - 0s 3ms/step - loss: 0.6789 - accuracy: 0.5675\n",
            "Epoch 3/100\n",
            "25/25 [==============================] - 0s 2ms/step - loss: 0.6720 - accuracy: 0.5875\n",
            "Epoch 4/100\n",
            "25/25 [==============================] - 0s 2ms/step - loss: 0.6645 - accuracy: 0.5763\n",
            "Epoch 5/100\n",
            "25/25 [==============================] - 0s 2ms/step - loss: 0.6522 - accuracy: 0.5700\n",
            "Epoch 6/100\n",
            "25/25 [==============================] - 0s 2ms/step - loss: 0.6504 - accuracy: 0.6300\n",
            "Epoch 7/100\n",
            "25/25 [==============================] - 0s 2ms/step - loss: 0.6277 - accuracy: 0.6525\n",
            "Epoch 8/100\n",
            "25/25 [==============================] - 0s 2ms/step - loss: 0.5872 - accuracy: 0.6862\n",
            "Epoch 9/100\n",
            "25/25 [==============================] - 0s 2ms/step - loss: 0.5216 - accuracy: 0.7788\n",
            "Epoch 10/100\n",
            "25/25 [==============================] - 0s 2ms/step - loss: 0.4275 - accuracy: 0.8263\n",
            "Epoch 11/100\n",
            "25/25 [==============================] - 0s 2ms/step - loss: 0.2212 - accuracy: 0.9675\n",
            "Epoch 12/100\n",
            "25/25 [==============================] - 0s 2ms/step - loss: 0.1179 - accuracy: 0.9875\n",
            "Epoch 13/100\n",
            "25/25 [==============================] - 0s 2ms/step - loss: 0.0824 - accuracy: 0.9900\n",
            "Epoch 14/100\n",
            "25/25 [==============================] - 0s 2ms/step - loss: 0.0640 - accuracy: 0.9912\n",
            "Epoch 15/100\n",
            "25/25 [==============================] - 0s 2ms/step - loss: 0.0590 - accuracy: 0.9887\n",
            "Epoch 16/100\n",
            "25/25 [==============================] - 0s 2ms/step - loss: 0.0490 - accuracy: 0.9900\n",
            "Epoch 17/100\n",
            "25/25 [==============================] - 0s 2ms/step - loss: 0.0518 - accuracy: 0.9862\n",
            "Epoch 18/100\n",
            "25/25 [==============================] - 0s 2ms/step - loss: 0.0415 - accuracy: 0.9925\n",
            "Epoch 19/100\n",
            "25/25 [==============================] - 0s 2ms/step - loss: 0.0382 - accuracy: 0.9912\n",
            "Epoch 20/100\n",
            "25/25 [==============================] - 0s 2ms/step - loss: 0.0400 - accuracy: 0.9875\n",
            "Epoch 21/100\n",
            "25/25 [==============================] - 0s 3ms/step - loss: 0.0445 - accuracy: 0.9887\n",
            "Epoch 22/100\n",
            "25/25 [==============================] - 0s 2ms/step - loss: 0.0370 - accuracy: 0.9887\n",
            "Epoch 23/100\n",
            "25/25 [==============================] - 0s 2ms/step - loss: 0.0245 - accuracy: 0.9962\n",
            "Epoch 24/100\n",
            "25/25 [==============================] - 0s 2ms/step - loss: 0.0315 - accuracy: 0.9887\n",
            "Epoch 25/100\n",
            "25/25 [==============================] - 0s 2ms/step - loss: 0.0330 - accuracy: 0.9912\n",
            "Epoch 26/100\n",
            "25/25 [==============================] - 0s 2ms/step - loss: 0.0479 - accuracy: 0.9875\n",
            "Epoch 27/100\n",
            "25/25 [==============================] - 0s 2ms/step - loss: 0.0353 - accuracy: 0.9912\n",
            "Epoch 28/100\n",
            "25/25 [==============================] - 0s 2ms/step - loss: 0.0357 - accuracy: 0.9900\n",
            "Epoch 29/100\n",
            "25/25 [==============================] - 0s 2ms/step - loss: 0.0209 - accuracy: 0.9950\n",
            "Epoch 30/100\n",
            "25/25 [==============================] - 0s 2ms/step - loss: 0.0188 - accuracy: 0.9962\n",
            "Epoch 31/100\n",
            "25/25 [==============================] - 0s 2ms/step - loss: 0.0168 - accuracy: 0.9962\n",
            "Epoch 32/100\n",
            "25/25 [==============================] - 0s 2ms/step - loss: 0.0182 - accuracy: 0.9962\n",
            "Epoch 33/100\n",
            "25/25 [==============================] - 0s 2ms/step - loss: 0.0128 - accuracy: 0.9987\n",
            "Epoch 34/100\n",
            "25/25 [==============================] - 0s 2ms/step - loss: 0.0166 - accuracy: 0.9975\n",
            "Epoch 35/100\n",
            "25/25 [==============================] - 0s 3ms/step - loss: 0.0136 - accuracy: 0.9975\n",
            "Epoch 36/100\n",
            "25/25 [==============================] - 0s 3ms/step - loss: 0.0129 - accuracy: 0.9962\n",
            "Epoch 37/100\n",
            "25/25 [==============================] - 0s 2ms/step - loss: 0.0132 - accuracy: 0.9975\n",
            "Epoch 38/100\n",
            "25/25 [==============================] - 0s 2ms/step - loss: 0.0118 - accuracy: 0.9975\n",
            "Epoch 39/100\n",
            "25/25 [==============================] - 0s 2ms/step - loss: 0.0118 - accuracy: 0.9987\n",
            "Epoch 40/100\n",
            "25/25 [==============================] - 0s 2ms/step - loss: 0.0118 - accuracy: 0.9987\n",
            "Epoch 41/100\n",
            "25/25 [==============================] - 0s 2ms/step - loss: 0.0129 - accuracy: 0.9975\n",
            "Epoch 42/100\n",
            "25/25 [==============================] - 0s 2ms/step - loss: 0.0151 - accuracy: 0.9975\n",
            "Epoch 43/100\n",
            "25/25 [==============================] - 0s 3ms/step - loss: 0.0125 - accuracy: 0.9975\n",
            "Epoch 44/100\n",
            "25/25 [==============================] - 0s 2ms/step - loss: 0.0118 - accuracy: 0.9975\n",
            "Epoch 45/100\n",
            "25/25 [==============================] - 0s 2ms/step - loss: 0.0124 - accuracy: 0.9987\n",
            "Epoch 46/100\n",
            "25/25 [==============================] - 0s 2ms/step - loss: 0.0155 - accuracy: 0.9962\n",
            "Epoch 47/100\n",
            "25/25 [==============================] - 0s 2ms/step - loss: 0.0214 - accuracy: 0.9912\n",
            "Epoch 48/100\n",
            "25/25 [==============================] - 0s 2ms/step - loss: 0.0183 - accuracy: 0.9975\n",
            "Epoch 49/100\n",
            "25/25 [==============================] - 0s 2ms/step - loss: 0.0211 - accuracy: 0.9925\n",
            "Epoch 50/100\n",
            "25/25 [==============================] - 0s 2ms/step - loss: 0.0220 - accuracy: 0.9912\n",
            "Epoch 51/100\n",
            "25/25 [==============================] - 0s 3ms/step - loss: 0.0147 - accuracy: 0.9962\n",
            "Epoch 52/100\n",
            "25/25 [==============================] - 0s 2ms/step - loss: 0.0181 - accuracy: 0.9937\n",
            "Epoch 53/100\n",
            "25/25 [==============================] - 0s 2ms/step - loss: 0.0106 - accuracy: 0.9987\n",
            "Epoch 54/100\n",
            "25/25 [==============================] - 0s 2ms/step - loss: 0.0112 - accuracy: 0.9962\n",
            "Epoch 55/100\n",
            "25/25 [==============================] - 0s 2ms/step - loss: 0.0203 - accuracy: 0.9900\n",
            "Epoch 56/100\n",
            "25/25 [==============================] - 0s 2ms/step - loss: 0.0227 - accuracy: 0.9937\n",
            "Epoch 57/100\n",
            "25/25 [==============================] - 0s 2ms/step - loss: 0.0144 - accuracy: 0.9962\n",
            "Epoch 58/100\n",
            "25/25 [==============================] - 0s 2ms/step - loss: 0.0509 - accuracy: 0.9775\n",
            "Epoch 59/100\n",
            "25/25 [==============================] - 0s 2ms/step - loss: 0.0365 - accuracy: 0.9875\n",
            "Epoch 60/100\n",
            "25/25 [==============================] - 0s 2ms/step - loss: 0.0154 - accuracy: 0.9975\n",
            "Epoch 61/100\n",
            "25/25 [==============================] - 0s 2ms/step - loss: 0.0075 - accuracy: 0.9987\n",
            "Epoch 62/100\n",
            "25/25 [==============================] - 0s 2ms/step - loss: 0.0071 - accuracy: 1.0000\n",
            "Epoch 63/100\n",
            "25/25 [==============================] - 0s 2ms/step - loss: 0.0068 - accuracy: 0.9987\n",
            "Epoch 64/100\n",
            "25/25 [==============================] - 0s 3ms/step - loss: 0.0066 - accuracy: 0.9987\n",
            "Epoch 65/100\n",
            "25/25 [==============================] - 0s 2ms/step - loss: 0.0069 - accuracy: 0.9987\n",
            "Epoch 66/100\n",
            "25/25 [==============================] - 0s 2ms/step - loss: 0.0066 - accuracy: 1.0000\n",
            "Epoch 67/100\n",
            "25/25 [==============================] - 0s 2ms/step - loss: 0.0103 - accuracy: 0.9987\n",
            "Epoch 68/100\n",
            "25/25 [==============================] - 0s 2ms/step - loss: 0.0126 - accuracy: 0.9962\n",
            "Epoch 69/100\n",
            "25/25 [==============================] - 0s 2ms/step - loss: 0.0149 - accuracy: 0.9937\n",
            "Epoch 70/100\n",
            "25/25 [==============================] - 0s 2ms/step - loss: 0.0123 - accuracy: 0.9937\n",
            "Epoch 71/100\n",
            "25/25 [==============================] - 0s 2ms/step - loss: 0.0118 - accuracy: 0.9937\n",
            "Epoch 72/100\n",
            "25/25 [==============================] - 0s 3ms/step - loss: 0.0177 - accuracy: 0.9937\n",
            "Epoch 73/100\n",
            "25/25 [==============================] - 0s 3ms/step - loss: 0.0179 - accuracy: 0.9925\n",
            "Epoch 74/100\n",
            "25/25 [==============================] - 0s 2ms/step - loss: 0.0658 - accuracy: 0.9725\n",
            "Epoch 75/100\n",
            "25/25 [==============================] - 0s 3ms/step - loss: 0.0260 - accuracy: 0.9900\n",
            "Epoch 76/100\n",
            "25/25 [==============================] - 0s 2ms/step - loss: 0.0269 - accuracy: 0.9912\n",
            "Epoch 77/100\n",
            "25/25 [==============================] - 0s 2ms/step - loss: 0.0136 - accuracy: 0.9975\n",
            "Epoch 78/100\n",
            "25/25 [==============================] - 0s 2ms/step - loss: 0.0081 - accuracy: 1.0000\n",
            "Epoch 79/100\n",
            "25/25 [==============================] - 0s 2ms/step - loss: 0.0100 - accuracy: 0.9962\n",
            "Epoch 80/100\n",
            "25/25 [==============================] - 0s 2ms/step - loss: 0.0149 - accuracy: 0.9925\n",
            "Epoch 81/100\n",
            "25/25 [==============================] - 0s 3ms/step - loss: 0.0149 - accuracy: 0.9950\n",
            "Epoch 82/100\n",
            "25/25 [==============================] - 0s 3ms/step - loss: 0.0242 - accuracy: 0.9900\n",
            "Epoch 83/100\n",
            "25/25 [==============================] - 0s 3ms/step - loss: 0.0109 - accuracy: 0.9962\n",
            "Epoch 84/100\n",
            "25/25 [==============================] - 0s 2ms/step - loss: 0.0147 - accuracy: 0.9962\n",
            "Epoch 85/100\n",
            "25/25 [==============================] - 0s 2ms/step - loss: 0.0182 - accuracy: 0.9900\n",
            "Epoch 86/100\n",
            "25/25 [==============================] - 0s 2ms/step - loss: 0.0114 - accuracy: 0.9962\n",
            "Epoch 87/100\n",
            "25/25 [==============================] - 0s 2ms/step - loss: 0.0147 - accuracy: 0.9962\n",
            "Epoch 88/100\n",
            "25/25 [==============================] - 0s 2ms/step - loss: 0.0103 - accuracy: 0.9975\n",
            "Epoch 89/100\n",
            "25/25 [==============================] - 0s 2ms/step - loss: 0.0131 - accuracy: 0.9962\n",
            "Epoch 90/100\n",
            "25/25 [==============================] - 0s 2ms/step - loss: 0.0350 - accuracy: 0.9887\n",
            "Epoch 91/100\n",
            "25/25 [==============================] - 0s 3ms/step - loss: 0.0259 - accuracy: 0.9887\n",
            "Epoch 92/100\n",
            "25/25 [==============================] - 0s 2ms/step - loss: 0.0150 - accuracy: 0.9962\n",
            "Epoch 93/100\n",
            "25/25 [==============================] - 0s 2ms/step - loss: 0.0112 - accuracy: 0.9987\n",
            "Epoch 94/100\n",
            "25/25 [==============================] - 0s 2ms/step - loss: 0.0123 - accuracy: 0.9962\n",
            "Epoch 95/100\n",
            "25/25 [==============================] - 0s 2ms/step - loss: 0.0109 - accuracy: 0.9975\n",
            "Epoch 96/100\n",
            "25/25 [==============================] - 0s 3ms/step - loss: 0.0081 - accuracy: 0.9987\n",
            "Epoch 97/100\n",
            "25/25 [==============================] - 0s 2ms/step - loss: 0.0104 - accuracy: 0.9987\n",
            "Epoch 98/100\n",
            "25/25 [==============================] - 0s 2ms/step - loss: 0.0081 - accuracy: 0.9975\n",
            "Epoch 99/100\n",
            "25/25 [==============================] - 0s 2ms/step - loss: 0.0250 - accuracy: 0.9887\n",
            "Epoch 100/100\n",
            "25/25 [==============================] - 0s 2ms/step - loss: 0.0101 - accuracy: 0.9962\n"
          ]
        },
        {
          "output_type": "execute_result",
          "data": {
            "text/plain": [
              "<keras.callbacks.History at 0x7f8e9fd9b040>"
            ]
          },
          "metadata": {},
          "execution_count": 51
        }
      ]
    },
    {
      "cell_type": "code",
      "source": [
        "model_9.evaluate(x_val,y_val)"
      ],
      "metadata": {
        "colab": {
          "base_uri": "https://localhost:8080/"
        },
        "id": "a_WmRa0yPTJO",
        "outputId": "c012a673-c81d-44eb-b6c4-98a34e85f602"
      },
      "execution_count": 52,
      "outputs": [
        {
          "output_type": "stream",
          "name": "stdout",
          "text": [
            "7/7 [==============================] - 0s 3ms/step - loss: 0.0485 - accuracy: 0.9850\n"
          ]
        },
        {
          "output_type": "execute_result",
          "data": {
            "text/plain": [
              "[0.04845090210437775, 0.9850000143051147]"
            ]
          },
          "metadata": {},
          "execution_count": 52
        }
      ]
    },
    {
      "cell_type": "markdown",
      "source": [
        "## Classification Report"
      ],
      "metadata": {
        "id": "pZQfDJptPXwZ"
      }
    },
    {
      "cell_type": "code",
      "source": [
        "loss,accuracy = model_9.evaluate(x_val,y_val)\n",
        "print(\"Loss: \",loss,\" Accuracy: \",accuracy)"
      ],
      "metadata": {
        "colab": {
          "base_uri": "https://localhost:8080/"
        },
        "id": "ZNIgEJATQWll",
        "outputId": "b1861fe0-5223-4848-8e86-2f7a99571445"
      },
      "execution_count": 53,
      "outputs": [
        {
          "output_type": "stream",
          "name": "stdout",
          "text": [
            "7/7 [==============================] - 0s 2ms/step - loss: 0.0485 - accuracy: 0.9850\n",
            "Loss:  0.04845090210437775  Accuracy:  0.9850000143051147\n"
          ]
        }
      ]
    },
    {
      "cell_type": "markdown",
      "source": [
        "## Confusion Matrix"
      ],
      "metadata": {
        "id": "EJD-__fnQWYk"
      }
    },
    {
      "cell_type": "code",
      "source": [
        "from sklearn.metrics import confusion_matrix"
      ],
      "metadata": {
        "id": "STWCR0Ax8Fsf"
      },
      "execution_count": 54,
      "outputs": []
    },
    {
      "cell_type": "code",
      "source": [
        "## Converting prediction probabilities into binary format\n",
        "y_preds = model_9.predict(x_val)"
      ],
      "metadata": {
        "colab": {
          "base_uri": "https://localhost:8080/"
        },
        "id": "z2e3KbFd8I3l",
        "outputId": "c9bd404c-9344-4907-a550-b31e324d7d3c"
      },
      "execution_count": 55,
      "outputs": [
        {
          "output_type": "stream",
          "name": "stdout",
          "text": [
            "7/7 [==============================] - 0s 2ms/step\n"
          ]
        }
      ]
    },
    {
      "cell_type": "code",
      "source": [
        "confusion_matrix(y_val,tf.round(y_preds))"
      ],
      "metadata": {
        "colab": {
          "base_uri": "https://localhost:8080/"
        },
        "id": "581DRk8f9HzL",
        "outputId": "e71b1a39-68fc-48fd-a21f-0f14befe703c"
      },
      "execution_count": 59,
      "outputs": [
        {
          "output_type": "execute_result",
          "data": {
            "text/plain": [
              "array([[111,   0],\n",
              "       [  3,  86]])"
            ]
          },
          "metadata": {},
          "execution_count": 59
        }
      ]
    },
    {
      "cell_type": "markdown",
      "source": [
        "### Prettify Confusion Matrix"
      ],
      "metadata": {
        "id": "znQdywEr9NKi"
      }
    },
    {
      "cell_type": "code",
      "source": [
        "import itertools\n",
        "figsize = (10,10)\n",
        "\n",
        "confusion_mat = confusion_matrix(y_val,tf.round(y_preds))\n",
        "confusion_mat_norm = confusion_mat.astype(\"float\")/confusion_mat.sum(axis=1)[:,np.newaxis]"
      ],
      "metadata": {
        "id": "c8guH1bb9vm4"
      },
      "execution_count": 63,
      "outputs": []
    },
    {
      "cell_type": "code",
      "source": [
        "confusion_mat_norm"
      ],
      "metadata": {
        "colab": {
          "base_uri": "https://localhost:8080/"
        },
        "id": "a4HM3OT3-JT5",
        "outputId": "aba20bc9-e0d8-405f-aab2-633ce778b5ef"
      },
      "execution_count": 64,
      "outputs": [
        {
          "output_type": "execute_result",
          "data": {
            "text/plain": [
              "array([[1.        , 0.        ],\n",
              "       [0.03370787, 0.96629213]])"
            ]
          },
          "metadata": {},
          "execution_count": 64
        }
      ]
    },
    {
      "cell_type": "code",
      "source": [
        "##Getting Shape\n",
        "n_classes = confusion_mat.shape[0]\n",
        "\n",
        "fig,ax = plt.subplots(figsize=figsize)\n",
        "#Matrix Plot\n",
        "cax = ax.matshow(confusion_mat,cmap = plt.cm.Blues)\n",
        "fig.colorbar(cax)\n",
        "\n",
        "classes = False\n",
        "if classes:\n",
        "  labels = classes\n",
        "else:\n",
        "  labels = np.arange(confusion_mat.shape[0])\n",
        "ax.set(title = \"Confusion Matrix\",\n",
        "       xlabel = \"Predicted Label\",\n",
        "       ylabel = \"True Label\",\n",
        "       xticks = np.arange(n_classes),\n",
        "       yticks = np.arange(n_classes),\n",
        "       xticklabels = labels,\n",
        "       yticklabels = labels,\n",
        "       )\n",
        "ax.xaxis.set_label_position(\"bottom\")\n",
        "ax.xaxis.tick_bottom()\n",
        "ax.yaxis.label.set_size(20)\n",
        "ax.xaxis.label.set_size(20)\n",
        "ax.title.set_size(20)\n",
        "threshold = (confusion_mat.max()+confusion_mat.min())/2\n",
        "for i,j in itertools.product(range(confusion_mat.shape[0]),range(confusion_mat.shape[1])):\n",
        "  plt.text(j,i,f\"{confusion_mat[i][j]}({confusion_mat_norm[i,j]*100:.1f}%)\",\n",
        "           horizontalalignment = \"center\",\n",
        "           color = \"white\" if confusion_mat[i][j]>threshold else \"black\",\n",
        "           size = 15\n",
        "           )"
      ],
      "metadata": {
        "colab": {
          "base_uri": "https://localhost:8080/",
          "height": 580
        },
        "id": "ormzLFwo-Xn7",
        "outputId": "02038043-6162-427d-caf2-4edee2d0a1fa"
      },
      "execution_count": 74,
      "outputs": [
        {
          "output_type": "display_data",
          "data": {
            "text/plain": [
              "<Figure size 720x720 with 2 Axes>"
            ],
            "image/png": "[encoded data removed]"
          },
          "metadata": {
            "needs_background": "light"
          }
        }
      ]
    },
    {
      "cell_type": "markdown",
      "source": [
        "## Multi-Class Classification\n",
        "\n",
        "When there is more than two classes, it is called multi class classification.\n",
        "Dataset : Fashion MNIST"
      ],
      "metadata": {
        "id": "LEZZwnuw-bgE"
      }
    },
    {
      "cell_type": "code",
      "source": [
        "import tensorflow as tf\n",
        "from tensorflow.keras.datasets import fashion_mnist\n",
        "import matplotlib.pyplot as plt\n",
        "\n",
        "(train_data,train_labels),(test_data,test_labels) = fashion_mnist.load_data()"
      ],
      "metadata": {
        "id": "G5bZTmfUBwmX"
      },
      "execution_count": 7,
      "outputs": []
    },
    {
      "cell_type": "code",
      "source": [
        "#First Few Samples\n",
        "print(\"Training Sample\")\n",
        "print(train_data[0])\n",
        "print(\"Training Label\")\n",
        "print(train_labels[0])"
      ],
      "metadata": {
        "colab": {
          "base_uri": "https://localhost:8080/"
        },
        "id": "dpTV751ZC-Up",
        "outputId": "12a56914-ccb8-40fd-ae98-b1a3fb6b43f2"
      },
      "execution_count": 8,
      "outputs": [
        {
          "output_type": "stream",
          "name": "stdout",
          "text": [
            "Training Sample\n",
            "[[  0   0   0   0   0   0   0   0   0   0   0   0   0   0   0   0   0   0\n",
            "    0   0   0   0   0   0   0   0   0   0]\n",
            " [  0   0   0   0   0   0   0   0   0   0   0   0   0   0   0   0   0   0\n",
            "    0   0   0   0   0   0   0   0   0   0]\n",
            " [  0   0   0   0   0   0   0   0   0   0   0   0   0   0   0   0   0   0\n",
            "    0   0   0   0   0   0   0   0   0   0]\n",
            " [  0   0   0   0   0   0   0   0   0   0   0   0   1   0   0  13  73   0\n",
            "    0   1   4   0   0   0   0   1   1   0]\n",
            " [  0   0   0   0   0   0   0   0   0   0   0   0   3   0  36 136 127  62\n",
            "   54   0   0   0   1   3   4   0   0   3]\n",
            " [  0   0   0   0   0   0   0   0   0   0   0   0   6   0 102 204 176 134\n",
            "  144 123  23   0   0   0   0  12  10   0]\n",
            " [  0   0   0   0   0   0   0   0   0   0   0   0   0   0 155 236 207 178\n",
            "  107 156 161 109  64  23  77 130  72  15]\n",
            " [  0   0   0   0   0   0   0   0   0   0   0   1   0  69 207 223 218 216\n",
            "  216 163 127 121 122 146 141  88 172  66]\n",
            " [  0   0   0   0   0   0   0   0   0   1   1   1   0 200 232 232 233 229\n",
            "  223 223 215 213 164 127 123 196 229   0]\n",
            " [  0   0   0   0   0   0   0   0   0   0   0   0   0 183 225 216 223 228\n",
            "  235 227 224 222 224 221 223 245 173   0]\n",
            " [  0   0   0   0   0   0   0   0   0   0   0   0   0 193 228 218 213 198\n",
            "  180 212 210 211 213 223 220 243 202   0]\n",
            " [  0   0   0   0   0   0   0   0   0   1   3   0  12 219 220 212 218 192\n",
            "  169 227 208 218 224 212 226 197 209  52]\n",
            " [  0   0   0   0   0   0   0   0   0   0   6   0  99 244 222 220 218 203\n",
            "  198 221 215 213 222 220 245 119 167  56]\n",
            " [  0   0   0   0   0   0   0   0   0   4   0   0  55 236 228 230 228 240\n",
            "  232 213 218 223 234 217 217 209  92   0]\n",
            " [  0   0   1   4   6   7   2   0   0   0   0   0 237 226 217 223 222 219\n",
            "  222 221 216 223 229 215 218 255  77   0]\n",
            " [  0   3   0   0   0   0   0   0   0  62 145 204 228 207 213 221 218 208\n",
            "  211 218 224 223 219 215 224 244 159   0]\n",
            " [  0   0   0   0  18  44  82 107 189 228 220 222 217 226 200 205 211 230\n",
            "  224 234 176 188 250 248 233 238 215   0]\n",
            " [  0  57 187 208 224 221 224 208 204 214 208 209 200 159 245 193 206 223\n",
            "  255 255 221 234 221 211 220 232 246   0]\n",
            " [  3 202 228 224 221 211 211 214 205 205 205 220 240  80 150 255 229 221\n",
            "  188 154 191 210 204 209 222 228 225   0]\n",
            " [ 98 233 198 210 222 229 229 234 249 220 194 215 217 241  65  73 106 117\n",
            "  168 219 221 215 217 223 223 224 229  29]\n",
            " [ 75 204 212 204 193 205 211 225 216 185 197 206 198 213 240 195 227 245\n",
            "  239 223 218 212 209 222 220 221 230  67]\n",
            " [ 48 203 183 194 213 197 185 190 194 192 202 214 219 221 220 236 225 216\n",
            "  199 206 186 181 177 172 181 205 206 115]\n",
            " [  0 122 219 193 179 171 183 196 204 210 213 207 211 210 200 196 194 191\n",
            "  195 191 198 192 176 156 167 177 210  92]\n",
            " [  0   0  74 189 212 191 175 172 175 181 185 188 189 188 193 198 204 209\n",
            "  210 210 211 188 188 194 192 216 170   0]\n",
            " [  2   0   0   0  66 200 222 237 239 242 246 243 244 221 220 193 191 179\n",
            "  182 182 181 176 166 168  99  58   0   0]\n",
            " [  0   0   0   0   0   0   0  40  61  44  72  41  35   0   0   0   0   0\n",
            "    0   0   0   0   0   0   0   0   0   0]\n",
            " [  0   0   0   0   0   0   0   0   0   0   0   0   0   0   0   0   0   0\n",
            "    0   0   0   0   0   0   0   0   0   0]\n",
            " [  0   0   0   0   0   0   0   0   0   0   0   0   0   0   0   0   0   0\n",
            "    0   0   0   0   0   0   0   0   0   0]]\n",
            "Training Label\n",
            "9\n"
          ]
        }
      ]
    },
    {
      "cell_type": "code",
      "source": [
        "train_data[0].shape,train_labels[0].shape"
      ],
      "metadata": {
        "colab": {
          "base_uri": "https://localhost:8080/"
        },
        "id": "hOGp_PX9DKKr",
        "outputId": "e43fe3df-02fe-45ee-c361-167ff859835e"
      },
      "execution_count": 9,
      "outputs": [
        {
          "output_type": "execute_result",
          "data": {
            "text/plain": [
              "((28, 28), ())"
            ]
          },
          "metadata": {},
          "execution_count": 9
        }
      ]
    },
    {
      "cell_type": "code",
      "source": [
        "plt.imshow(train_data[0])"
      ],
      "metadata": {
        "colab": {
          "base_uri": "https://localhost:8080/",
          "height": 283
        },
        "id": "uYZEHJ53Duev",
        "outputId": "61eade8b-5299-4a91-96ec-d2a47d23afca"
      },
      "execution_count": 10,
      "outputs": [
        {
          "output_type": "execute_result",
          "data": {
            "text/plain": [
              "<matplotlib.image.AxesImage at 0x7f2ecc6e83d0>"
            ]
          },
          "metadata": {},
          "execution_count": 10
        },
        {
          "output_type": "display_data",
          "data": {
            "text/plain": [
              "<Figure size 432x288 with 1 Axes>"
            ],
            "image/png": "[encoded data removed]"
          },
          "metadata": {
            "needs_background": "light"
          }
        }
      ]
    },
    {
      "cell_type": "code",
      "source": [
        "#Create a small dictoionary so we can index onto our training labels so they're human-readable\n",
        "class_names = {\n",
        "    0:\"T-shirt/top\",\n",
        "    1:\"Trouser\",\n",
        "    2:\"\tPullover\",\n",
        "    3:\"Dress\",\n",
        "    4:\"Coat\",\n",
        "    5:\"Sandal\",\n",
        "    6:\"Shirt\",\n",
        "    7:\"Sneaker\",\n",
        "    8:\"Bag\",\n",
        "    9:\"Ankle boot\",\n",
        "\n",
        "}"
      ],
      "metadata": {
        "id": "iPUEnAshD8RL"
      },
      "execution_count": 11,
      "outputs": []
    },
    {
      "cell_type": "markdown",
      "source": [
        "## Sampling Data"
      ],
      "metadata": {
        "id": "SIqv8fW6E_4K"
      }
    },
    {
      "cell_type": "code",
      "source": [
        "import random\n",
        "plt.figure(figsize = (7,7))\n",
        "for i in range(4):\n",
        "  ax = plt.subplot(2,2,i+1)\n",
        "  rand_index = random.choice(range(len(train_data)))\n",
        "  plt.imshow(train_data[rand_index],cmap = plt.cm.binary)\n",
        "  plt.title(class_names[train_labels[rand_index]])"
      ],
      "metadata": {
        "colab": {
          "base_uri": "https://localhost:8080/",
          "height": 444
        },
        "id": "di_yhcndFlG_",
        "outputId": "25d347cc-c06c-4eda-a6ec-4827187445c5"
      },
      "execution_count": 12,
      "outputs": [
        {
          "output_type": "display_data",
          "data": {
            "text/plain": [
              "<Figure size 504x504 with 4 Axes>"
            ],
            "image/png": "[encoded data removed]"
          },
          "metadata": {
            "needs_background": "light"
          }
        }
      ]
    },
    {
      "cell_type": "markdown",
      "source": [
        "## Building a multi-class classification model"
      ],
      "metadata": {
        "id": "yqnwOt7XF9vr"
      }
    },
    {
      "cell_type": "code",
      "source": [
        "flatten_model = tf.keras.Sequential([tf.keras.layers.Flatten(input_shape = (28,28))])\n",
        "flatten_model.output_shape"
      ],
      "metadata": {
        "colab": {
          "base_uri": "https://localhost:8080/"
        },
        "id": "-0tMAJ5nbMNg",
        "outputId": "af94a391-1c52-4569-f1a3-6383fe3f66fb"
      },
      "execution_count": 21,
      "outputs": [
        {
          "output_type": "execute_result",
          "data": {
            "text/plain": [
              "(None, 784)"
            ]
          },
          "metadata": {},
          "execution_count": 21
        }
      ]
    },
    {
      "cell_type": "code",
      "source": [
        "## Input Shape = 10 28x28\n",
        "## Output Shape = 10\n",
        "multi_model = tf.keras.Sequential([\n",
        "    tf.keras.layers.Flatten(input_shape = (28,28)), \n",
        "    tf.keras.layers.Dense(4,activation = \"relu\"),\n",
        "    tf.keras.layers.Dense(4,activation = \"relu\"),\n",
        "    tf.keras.layers.Dense(4,activation  = \"relu\"),\n",
        "    tf.keras.layers.Dense(10,activation  = \"softmax\"),\n",
        "])\n",
        "multi_model.compile(loss = tf.keras.losses.SparseCategoricalCrossentropy(),optimizer = \"adam\",metrics = [\"accuracy\"])"
      ],
      "metadata": {
        "id": "KRhkJtBvGdvg"
      },
      "execution_count": 31,
      "outputs": []
    },
    {
      "cell_type": "code",
      "source": [
        "non_norm_history_non_norm = multi_model.fit(train_data,train_labels,epochs=10,validation_data = (test_data,test_labels))"
      ],
      "metadata": {
        "colab": {
          "base_uri": "https://localhost:8080/"
        },
        "id": "Ipy-fXCvZ89m",
        "outputId": "7fbd93f3-8cf3-4688-cc2d-8bbb8df45363"
      },
      "execution_count": 42,
      "outputs": [
        {
          "output_type": "stream",
          "name": "stdout",
          "text": [
            "Epoch 1/10\n",
            "1875/1875 [==============================] - 6s 3ms/step - loss: 1.1794 - accuracy: 0.5216 - val_loss: 1.4558 - val_accuracy: 0.4215\n",
            "Epoch 2/10\n",
            "1875/1875 [==============================] - 5s 3ms/step - loss: 1.1955 - accuracy: 0.4942 - val_loss: 1.1285 - val_accuracy: 0.5227\n",
            "Epoch 3/10\n",
            "1875/1875 [==============================] - 6s 3ms/step - loss: 1.1469 - accuracy: 0.5078 - val_loss: 1.1463 - val_accuracy: 0.5032\n",
            "Epoch 4/10\n",
            "1875/1875 [==============================] - 5s 3ms/step - loss: 1.1283 - accuracy: 0.5153 - val_loss: 1.1451 - val_accuracy: 0.5509\n",
            "Epoch 5/10\n",
            "1875/1875 [==============================] - 6s 3ms/step - loss: 1.1614 - accuracy: 0.5198 - val_loss: 1.1465 - val_accuracy: 0.5234\n",
            "Epoch 6/10\n",
            "1875/1875 [==============================] - 8s 4ms/step - loss: 1.1531 - accuracy: 0.5131 - val_loss: 1.1071 - val_accuracy: 0.5210\n",
            "Epoch 7/10\n",
            "1875/1875 [==============================] - 7s 3ms/step - loss: 1.1067 - accuracy: 0.5104 - val_loss: 1.1494 - val_accuracy: 0.5018\n",
            "Epoch 8/10\n",
            "1875/1875 [==============================] - 8s 4ms/step - loss: 1.0936 - accuracy: 0.5100 - val_loss: 1.1201 - val_accuracy: 0.5073\n",
            "Epoch 9/10\n",
            "1875/1875 [==============================] - 9s 5ms/step - loss: 1.0856 - accuracy: 0.5109 - val_loss: 1.1132 - val_accuracy: 0.4992\n",
            "Epoch 10/10\n",
            "1875/1875 [==============================] - 7s 4ms/step - loss: 1.0809 - accuracy: 0.5093 - val_loss: 1.0895 - val_accuracy: 0.5161\n"
          ]
        }
      ]
    },
    {
      "cell_type": "code",
      "source": [
        "multi_model.summary()"
      ],
      "metadata": {
        "colab": {
          "base_uri": "https://localhost:8080/"
        },
        "id": "ix9nM5AJakZv",
        "outputId": "3561be54-7ac7-4c44-bfd8-53ccbc6f7690"
      },
      "execution_count": 33,
      "outputs": [
        {
          "output_type": "stream",
          "name": "stdout",
          "text": [
            "Model: \"sequential_11\"\n",
            "_________________________________________________________________\n",
            " Layer (type)                Output Shape              Param #   \n",
            "=================================================================\n",
            " flatten_9 (Flatten)         (None, 784)               0         \n",
            "                                                                 \n",
            " dense_28 (Dense)            (None, 4)                 3140      \n",
            "                                                                 \n",
            " dense_29 (Dense)            (None, 4)                 20        \n",
            "                                                                 \n",
            " dense_30 (Dense)            (None, 4)                 20        \n",
            "                                                                 \n",
            " dense_31 (Dense)            (None, 10)                50        \n",
            "                                                                 \n",
            "=================================================================\n",
            "Total params: 3,230\n",
            "Trainable params: 3,230\n",
            "Non-trainable params: 0\n",
            "_________________________________________________________________\n"
          ]
        }
      ]
    },
    {
      "cell_type": "code",
      "source": [
        "train_data.min(),train_data.max()"
      ],
      "metadata": {
        "colab": {
          "base_uri": "https://localhost:8080/"
        },
        "id": "wUUCWO4LdW53",
        "outputId": "3aa37603-d584-4f25-c8ba-32faf401137e"
      },
      "execution_count": 35,
      "outputs": [
        {
          "output_type": "execute_result",
          "data": {
            "text/plain": [
              "(0, 255)"
            ]
          },
          "metadata": {},
          "execution_count": 35
        }
      ]
    },
    {
      "cell_type": "markdown",
      "source": [
        "### Normalization"
      ],
      "metadata": {
        "id": "5vFzovt-drCa"
      }
    },
    {
      "cell_type": "code",
      "source": [
        "train_data_norm = train_data/train_data.max()\n",
        "test_data_norm = test_data/test_data.max()"
      ],
      "metadata": {
        "id": "gVYfpUo-d1W8"
      },
      "execution_count": 36,
      "outputs": []
    },
    {
      "cell_type": "code",
      "source": [
        "test_data_norm.min(),test_data_norm.max()"
      ],
      "metadata": {
        "colab": {
          "base_uri": "https://localhost:8080/"
        },
        "id": "D9XSleoPeOD6",
        "outputId": "4f4f90b9-08d6-4d0c-c5e4-bfad19299bb1"
      },
      "execution_count": 38,
      "outputs": [
        {
          "output_type": "execute_result",
          "data": {
            "text/plain": [
              "(0.0, 1.0)"
            ]
          },
          "metadata": {},
          "execution_count": 38
        }
      ]
    },
    {
      "cell_type": "code",
      "source": [
        "train_data_norm.min(),train_data_norm.max()"
      ],
      "metadata": {
        "colab": {
          "base_uri": "https://localhost:8080/"
        },
        "id": "C5izmPX4eJXo",
        "outputId": "f22fe22a-336d-4263-deb0-b1581bb663f0"
      },
      "execution_count": 37,
      "outputs": [
        {
          "output_type": "execute_result",
          "data": {
            "text/plain": [
              "(0.0, 1.0)"
            ]
          },
          "metadata": {},
          "execution_count": 37
        }
      ]
    },
    {
      "cell_type": "code",
      "source": [
        "tf.random.set_seed(42)\n",
        "multi_model_1 = tf.keras.Sequential([\n",
        "    tf.keras.layers.Flatten(input_shape = (28,28)), \n",
        "    tf.keras.layers.Dense(4,activation = \"relu\"),\n",
        "    tf.keras.layers.Dense(4,activation = \"relu\"),\n",
        "    tf.keras.layers.Dense(4,activation  = \"relu\"),\n",
        "    tf.keras.layers.Dense(10,activation  = \"softmax\"),\n",
        "])\n",
        "multi_model_1.compile(loss = tf.keras.losses.SparseCategoricalCrossentropy(),optimizer = \"adam\",metrics = [\"accuracy\"])"
      ],
      "metadata": {
        "id": "VOc_ND-2eNPn"
      },
      "execution_count": 41,
      "outputs": []
    },
    {
      "cell_type": "code",
      "source": [
        "history_norm = multi_model_1.fit(train_data_norm,train_labels,epochs=10,validation_data = (test_data_norm,test_labels))"
      ],
      "metadata": {
        "colab": {
          "base_uri": "https://localhost:8080/"
        },
        "id": "RF3f9DFaeVnU",
        "outputId": "644b490c-4401-4863-f228-9cca17ef717b"
      },
      "execution_count": 43,
      "outputs": [
        {
          "output_type": "stream",
          "name": "stdout",
          "text": [
            "Epoch 1/10\n",
            "1875/1875 [==============================] - 7s 4ms/step - loss: 1.2228 - accuracy: 0.5265 - val_loss: 0.8422 - val_accuracy: 0.6910\n",
            "Epoch 2/10\n",
            "1875/1875 [==============================] - 7s 4ms/step - loss: 0.7744 - accuracy: 0.7211 - val_loss: 0.7634 - val_accuracy: 0.7327\n",
            "Epoch 3/10\n",
            "1875/1875 [==============================] - 7s 4ms/step - loss: 0.7202 - accuracy: 0.7409 - val_loss: 0.7255 - val_accuracy: 0.7449\n",
            "Epoch 4/10\n",
            "1875/1875 [==============================] - 5s 3ms/step - loss: 0.6939 - accuracy: 0.7495 - val_loss: 0.7176 - val_accuracy: 0.7481\n",
            "Epoch 5/10\n",
            "1875/1875 [==============================] - 5s 3ms/step - loss: 0.6794 - accuracy: 0.7546 - val_loss: 0.7030 - val_accuracy: 0.7534\n",
            "Epoch 6/10\n",
            "1875/1875 [==============================] - 5s 3ms/step - loss: 0.6692 - accuracy: 0.7584 - val_loss: 0.7136 - val_accuracy: 0.7527\n",
            "Epoch 7/10\n",
            "1875/1875 [==============================] - 5s 3ms/step - loss: 0.6608 - accuracy: 0.7614 - val_loss: 0.7358 - val_accuracy: 0.7279\n",
            "Epoch 8/10\n",
            "1875/1875 [==============================] - 5s 3ms/step - loss: 0.6545 - accuracy: 0.7631 - val_loss: 0.6826 - val_accuracy: 0.7565\n",
            "Epoch 9/10\n",
            "1875/1875 [==============================] - 5s 3ms/step - loss: 0.6477 - accuracy: 0.7651 - val_loss: 0.6819 - val_accuracy: 0.7581\n",
            "Epoch 10/10\n",
            "1875/1875 [==============================] - 5s 3ms/step - loss: 0.6412 - accuracy: 0.7682 - val_loss: 0.6753 - val_accuracy: 0.7587\n"
          ]
        }
      ]
    },
    {
      "cell_type": "markdown",
      "source": [
        "## Comparing Normalized and Non-Normalized Data Performance"
      ],
      "metadata": {
        "id": "_cbd4qwyecR7"
      }
    },
    {
      "cell_type": "code",
      "source": [
        "import pandas as pd\n",
        "pd.DataFrame(non_norm_history_non_norm.history).plot(title = \"Non-Normalized Data\")\n",
        "pd.DataFrame(history_norm.history).plot(title = \"Normalized Data\")"
      ],
      "metadata": {
        "colab": {
          "base_uri": "https://localhost:8080/",
          "height": 563
        },
        "id": "2HuCzqnifC3m",
        "outputId": "8e1c44b1-6c6b-4d6c-e070-1cc013ec9689"
      },
      "execution_count": 46,
      "outputs": [
        {
          "output_type": "execute_result",
          "data": {
            "text/plain": [
              "<matplotlib.axes._subplots.AxesSubplot at 0x7f2e4a7bafa0>"
            ]
          },
          "metadata": {},
          "execution_count": 46
        },
        {
          "output_type": "display_data",
          "data": {
            "text/plain": [
              "<Figure size 432x288 with 1 Axes>"
            ],
            "image/png": "[encoded data removed]"
          },
          "metadata": {
            "needs_background": "light"
          }
        },
        {
          "output_type": "display_data",
          "data": {
            "text/plain": [
              "<Figure size 432x288 with 1 Axes>"
            ],
            "image/png": "[encoded data removed]"
          },
          "metadata": {
            "needs_background": "light"
          }
        }
      ]
    },
    {
      "cell_type": "markdown",
      "source": [
        "## Finding Ideal Learning Rate"
      ],
      "metadata": {
        "id": "DuPM3-asfRPC"
      }
    },
    {
      "cell_type": "code",
      "source": [
        "tf.random.set_seed(42)\n",
        "multi_model_2 = tf.keras.Sequential([\n",
        "    tf.keras.layers.Flatten(input_shape = (28,28)),\n",
        "    tf.keras.layers.Dense(4,activation = \"relu\"),\n",
        "    tf.keras.layers.Dense(4,activation = \"relu\"),\n",
        "    tf.keras.layers.Dense(10,activation = \"softmax\"),\n",
        "])\n",
        "multi_model_2.compile(loss=tf.keras.losses.SparseCategoricalCrossentropy(),optimizer = tf.keras.optimizers.Adam(),metrics = \"accuracy\")\n",
        "lr_scheduler = tf.keras.callbacks.LearningRateScheduler(lambda epoch:1e-3*10**(epoch/20))\n",
        "find_lr_history = multi_model_2.fit(train_data_norm,train_labels,epochs = 40,validation_data = (test_data_norm,test_labels),callbacks = [lr_scheduler])"
      ],
      "metadata": {
        "colab": {
          "base_uri": "https://localhost:8080/"
        },
        "id": "FvWqu_tXgjSR",
        "outputId": "ebebddae-83d0-4ef9-ad48-baec7d14794b"
      },
      "execution_count": 47,
      "outputs": [
        {
          "output_type": "stream",
          "name": "stdout",
          "text": [
            "Epoch 1/40\n",
            "1875/1875 [==============================] - 6s 3ms/step - loss: 1.0348 - accuracy: 0.6474 - val_loss: 0.6937 - val_accuracy: 0.7617 - lr: 0.0010\n",
            "Epoch 2/40\n",
            "1875/1875 [==============================] - 5s 3ms/step - loss: 0.6366 - accuracy: 0.7759 - val_loss: 0.6400 - val_accuracy: 0.7808 - lr: 0.0011\n",
            "Epoch 3/40\n",
            "1875/1875 [==============================] - 5s 3ms/step - loss: 0.5934 - accuracy: 0.7911 - val_loss: 0.6278 - val_accuracy: 0.7770 - lr: 0.0013\n",
            "Epoch 4/40\n",
            "1875/1875 [==============================] - 5s 3ms/step - loss: 0.5749 - accuracy: 0.7969 - val_loss: 0.6122 - val_accuracy: 0.7871 - lr: 0.0014\n",
            "Epoch 5/40\n",
            "1875/1875 [==============================] - 5s 3ms/step - loss: 0.5655 - accuracy: 0.7987 - val_loss: 0.6061 - val_accuracy: 0.7913 - lr: 0.0016\n",
            "Epoch 6/40\n",
            "1875/1875 [==============================] - 5s 3ms/step - loss: 0.5569 - accuracy: 0.8022 - val_loss: 0.5917 - val_accuracy: 0.7940 - lr: 0.0018\n",
            "Epoch 7/40\n",
            "1875/1875 [==============================] - 5s 3ms/step - loss: 0.5542 - accuracy: 0.8036 - val_loss: 0.5898 - val_accuracy: 0.7896 - lr: 0.0020\n",
            "Epoch 8/40\n",
            "1875/1875 [==============================] - 5s 3ms/step - loss: 0.5509 - accuracy: 0.8039 - val_loss: 0.5829 - val_accuracy: 0.7949 - lr: 0.0022\n",
            "Epoch 9/40\n",
            "1875/1875 [==============================] - 5s 3ms/step - loss: 0.5468 - accuracy: 0.8047 - val_loss: 0.6036 - val_accuracy: 0.7833 - lr: 0.0025\n",
            "Epoch 10/40\n",
            "1875/1875 [==============================] - 5s 3ms/step - loss: 0.5478 - accuracy: 0.8058 - val_loss: 0.5736 - val_accuracy: 0.7974 - lr: 0.0028\n",
            "Epoch 11/40\n",
            "1875/1875 [==============================] - 5s 3ms/step - loss: 0.5446 - accuracy: 0.8059 - val_loss: 0.5672 - val_accuracy: 0.8016 - lr: 0.0032\n",
            "Epoch 12/40\n",
            "1875/1875 [==============================] - 5s 3ms/step - loss: 0.5432 - accuracy: 0.8067 - val_loss: 0.5773 - val_accuracy: 0.7950 - lr: 0.0035\n",
            "Epoch 13/40\n",
            "1875/1875 [==============================] - 5s 3ms/step - loss: 0.5425 - accuracy: 0.8056 - val_loss: 0.5775 - val_accuracy: 0.7992 - lr: 0.0040\n",
            "Epoch 14/40\n",
            "1875/1875 [==============================] - 5s 2ms/step - loss: 0.5407 - accuracy: 0.8078 - val_loss: 0.5616 - val_accuracy: 0.8075 - lr: 0.0045\n",
            "Epoch 15/40\n",
            "1875/1875 [==============================] - 5s 2ms/step - loss: 0.5408 - accuracy: 0.8052 - val_loss: 0.5773 - val_accuracy: 0.8039 - lr: 0.0050\n",
            "Epoch 16/40\n",
            "1875/1875 [==============================] - 6s 3ms/step - loss: 0.5437 - accuracy: 0.8058 - val_loss: 0.5682 - val_accuracy: 0.8015 - lr: 0.0056\n",
            "Epoch 17/40\n",
            "1875/1875 [==============================] - 8s 4ms/step - loss: 0.5419 - accuracy: 0.8075 - val_loss: 0.5995 - val_accuracy: 0.7964 - lr: 0.0063\n",
            "Epoch 18/40\n",
            "1875/1875 [==============================] - 7s 4ms/step - loss: 0.5488 - accuracy: 0.8058 - val_loss: 0.5544 - val_accuracy: 0.8087 - lr: 0.0071\n",
            "Epoch 19/40\n",
            "1875/1875 [==============================] - 7s 4ms/step - loss: 0.5506 - accuracy: 0.8042 - val_loss: 0.6068 - val_accuracy: 0.7864 - lr: 0.0079\n",
            "Epoch 20/40\n",
            "1875/1875 [==============================] - 6s 3ms/step - loss: 0.5538 - accuracy: 0.8030 - val_loss: 0.5600 - val_accuracy: 0.8078 - lr: 0.0089\n",
            "Epoch 21/40\n",
            "1875/1875 [==============================] - 6s 3ms/step - loss: 0.5573 - accuracy: 0.8038 - val_loss: 0.5947 - val_accuracy: 0.7956 - lr: 0.0100\n",
            "Epoch 22/40\n",
            "1875/1875 [==============================] - 8s 4ms/step - loss: 0.5610 - accuracy: 0.8015 - val_loss: 0.5861 - val_accuracy: 0.7987 - lr: 0.0112\n",
            "Epoch 23/40\n",
            "1875/1875 [==============================] - 9s 5ms/step - loss: 0.5679 - accuracy: 0.8013 - val_loss: 0.6484 - val_accuracy: 0.7629 - lr: 0.0126\n",
            "Epoch 24/40\n",
            "1875/1875 [==============================] - 6s 3ms/step - loss: 0.5822 - accuracy: 0.7968 - val_loss: 0.6164 - val_accuracy: 0.7906 - lr: 0.0141\n",
            "Epoch 25/40\n",
            "1875/1875 [==============================] - 7s 4ms/step - loss: 0.5828 - accuracy: 0.7970 - val_loss: 0.6388 - val_accuracy: 0.7896 - lr: 0.0158\n",
            "Epoch 26/40\n",
            "1875/1875 [==============================] - 7s 4ms/step - loss: 0.5951 - accuracy: 0.7910 - val_loss: 0.6893 - val_accuracy: 0.7840 - lr: 0.0178\n",
            "Epoch 27/40\n",
            "1875/1875 [==============================] - 7s 4ms/step - loss: 0.6106 - accuracy: 0.7868 - val_loss: 0.6083 - val_accuracy: 0.7937 - lr: 0.0200\n",
            "Epoch 28/40\n",
            "1875/1875 [==============================] - 7s 3ms/step - loss: 0.6172 - accuracy: 0.7832 - val_loss: 0.6712 - val_accuracy: 0.7752 - lr: 0.0224\n",
            "Epoch 29/40\n",
            "1875/1875 [==============================] - 5s 3ms/step - loss: 0.6359 - accuracy: 0.7769 - val_loss: 0.6390 - val_accuracy: 0.7747 - lr: 0.0251\n",
            "Epoch 30/40\n",
            "1875/1875 [==============================] - 5s 3ms/step - loss: 0.6706 - accuracy: 0.7640 - val_loss: 0.7163 - val_accuracy: 0.7426 - lr: 0.0282\n",
            "Epoch 31/40\n",
            "1875/1875 [==============================] - 5s 3ms/step - loss: 0.6760 - accuracy: 0.7624 - val_loss: 0.6990 - val_accuracy: 0.7511 - lr: 0.0316\n",
            "Epoch 32/40\n",
            "1875/1875 [==============================] - 5s 2ms/step - loss: 0.6958 - accuracy: 0.7570 - val_loss: 0.8507 - val_accuracy: 0.7445 - lr: 0.0355\n",
            "Epoch 33/40\n",
            "1875/1875 [==============================] - 5s 3ms/step - loss: 0.7451 - accuracy: 0.7440 - val_loss: 0.7338 - val_accuracy: 0.7702 - lr: 0.0398\n",
            "Epoch 34/40\n",
            "1875/1875 [==============================] - 6s 3ms/step - loss: 0.8003 - accuracy: 0.7309 - val_loss: 0.9720 - val_accuracy: 0.6930 - lr: 0.0447\n",
            "Epoch 35/40\n",
            "1875/1875 [==============================] - 5s 3ms/step - loss: 0.8384 - accuracy: 0.7172 - val_loss: 0.7855 - val_accuracy: 0.7382 - lr: 0.0501\n",
            "Epoch 36/40\n",
            "1875/1875 [==============================] - 5s 2ms/step - loss: 0.8645 - accuracy: 0.7035 - val_loss: 0.8460 - val_accuracy: 0.7220 - lr: 0.0562\n",
            "Epoch 37/40\n",
            "1875/1875 [==============================] - 5s 3ms/step - loss: 0.9906 - accuracy: 0.6479 - val_loss: 0.8949 - val_accuracy: 0.6781 - lr: 0.0631\n",
            "Epoch 38/40\n",
            "1875/1875 [==============================] - 5s 3ms/step - loss: 0.9911 - accuracy: 0.6539 - val_loss: 1.5149 - val_accuracy: 0.5900 - lr: 0.0708\n",
            "Epoch 39/40\n",
            "1875/1875 [==============================] - 5s 3ms/step - loss: 1.1111 - accuracy: 0.5771 - val_loss: 1.2362 - val_accuracy: 0.5226 - lr: 0.0794\n",
            "Epoch 40/40\n",
            "1875/1875 [==============================] - 5s 3ms/step - loss: 1.2413 - accuracy: 0.5120 - val_loss: 1.0875 - val_accuracy: 0.5862 - lr: 0.0891\n"
          ]
        }
      ]
    },
    {
      "cell_type": "code",
      "source": [
        "lrs = 1e-3*(10**(tf.range(40)/20))\n",
        "plt.semilogx(lrs,find_lr_history.history[\"loss\"])\n",
        "plt.xlabel(\"Learning Rate\")\n",
        "plt.ylabel(\"Loss\")\n",
        "plt.title(\"Finding the ideal learning rate\")\n"
      ],
      "metadata": {
        "colab": {
          "base_uri": "https://localhost:8080/",
          "height": 317
        },
        "id": "Eug2CJLxhQCo",
        "outputId": "c9b3788e-fe6c-454d-8234-6eb863903443"
      },
      "execution_count": 49,
      "outputs": [
        {
          "output_type": "execute_result",
          "data": {
            "text/plain": [
              "Text(0.5, 1.0, 'Finding the ideal learning rate')"
            ]
          },
          "metadata": {},
          "execution_count": 49
        },
        {
          "output_type": "display_data",
          "data": {
            "text/plain": [
              "<Figure size 432x288 with 1 Axes>"
            ],
            "image/png": "[encoded data removed]"
          },
          "metadata": {
            "needs_background": "light"
          }
        }
      ]
    },
    {
      "cell_type": "markdown",
      "source": [
        "### Model with ideal learning rate"
      ],
      "metadata": {
        "id": "rGo1Yms-h4YF"
      }
    },
    {
      "cell_type": "code",
      "source": [
        "tf.random.set_seed(42)\n",
        "multi_model_3 = tf.keras.Sequential([\n",
        "    tf.keras.layers.Flatten(input_shape = (28,28)),\n",
        "    tf.keras.layers.Dense(4,activation = \"relu\"),\n",
        "    tf.keras.layers.Dense(4,activation = \"relu\"),\n",
        "    tf.keras.layers.Dense(10,activation = \"softmax\"),\n",
        "])\n",
        "multi_model_3.compile(loss=tf.keras.losses.SparseCategoricalCrossentropy(),optimizer = tf.keras.optimizers.Adam(learning_rate = 0.001),metrics = \"accuracy\")"
      ],
      "metadata": {
        "id": "8pKCYh4WiNSo"
      },
      "execution_count": 50,
      "outputs": []
    },
    {
      "cell_type": "code",
      "source": [
        "ideal_history = multi_model_3.fit(train_data_norm,train_labels,epochs = 40,validation_data = (test_data_norm,test_labels))"
      ],
      "metadata": {
        "colab": {
          "base_uri": "https://localhost:8080/"
        },
        "id": "X4RCa5Iaiex3",
        "outputId": "3bb98e2b-7037-4df1-d1cc-5920ec24bdf9"
      },
      "execution_count": 51,
      "outputs": [
        {
          "output_type": "stream",
          "name": "stdout",
          "text": [
            "Epoch 1/40\n",
            "1875/1875 [==============================] - 7s 3ms/step - loss: 1.0348 - accuracy: 0.6474 - val_loss: 0.6937 - val_accuracy: 0.7617\n",
            "Epoch 2/40\n",
            "1875/1875 [==============================] - 5s 3ms/step - loss: 0.6376 - accuracy: 0.7757 - val_loss: 0.6400 - val_accuracy: 0.7820\n",
            "Epoch 3/40\n",
            "1875/1875 [==============================] - 5s 3ms/step - loss: 0.5942 - accuracy: 0.7914 - val_loss: 0.6247 - val_accuracy: 0.7783\n",
            "Epoch 4/40\n",
            "1875/1875 [==============================] - 5s 3ms/step - loss: 0.5750 - accuracy: 0.7979 - val_loss: 0.6078 - val_accuracy: 0.7881\n",
            "Epoch 5/40\n",
            "1875/1875 [==============================] - 5s 3ms/step - loss: 0.5641 - accuracy: 0.8006 - val_loss: 0.6169 - val_accuracy: 0.7881\n",
            "Epoch 6/40\n",
            "1875/1875 [==============================] - 5s 3ms/step - loss: 0.5544 - accuracy: 0.8043 - val_loss: 0.5855 - val_accuracy: 0.7951\n",
            "Epoch 7/40\n",
            "1875/1875 [==============================] - 5s 3ms/step - loss: 0.5488 - accuracy: 0.8063 - val_loss: 0.6097 - val_accuracy: 0.7836\n",
            "Epoch 8/40\n",
            "1875/1875 [==============================] - 5s 2ms/step - loss: 0.5428 - accuracy: 0.8077 - val_loss: 0.5787 - val_accuracy: 0.7971\n",
            "Epoch 9/40\n",
            "1875/1875 [==============================] - 5s 2ms/step - loss: 0.5373 - accuracy: 0.8097 - val_loss: 0.5698 - val_accuracy: 0.7977\n",
            "Epoch 10/40\n",
            "1875/1875 [==============================] - 5s 3ms/step - loss: 0.5360 - accuracy: 0.8124 - val_loss: 0.5658 - val_accuracy: 0.8014\n",
            "Epoch 11/40\n",
            "1875/1875 [==============================] - 5s 2ms/step - loss: 0.5311 - accuracy: 0.8130 - val_loss: 0.5714 - val_accuracy: 0.8002\n",
            "Epoch 12/40\n",
            "1875/1875 [==============================] - 5s 3ms/step - loss: 0.5284 - accuracy: 0.8132 - val_loss: 0.5626 - val_accuracy: 0.8027\n",
            "Epoch 13/40\n",
            "1875/1875 [==============================] - 5s 3ms/step - loss: 0.5271 - accuracy: 0.8138 - val_loss: 0.5619 - val_accuracy: 0.8041\n",
            "Epoch 14/40\n",
            "1875/1875 [==============================] - 5s 3ms/step - loss: 0.5249 - accuracy: 0.8143 - val_loss: 0.5718 - val_accuracy: 0.7991\n",
            "Epoch 15/40\n",
            "1875/1875 [==============================] - 5s 3ms/step - loss: 0.5231 - accuracy: 0.8148 - val_loss: 0.5706 - val_accuracy: 0.8024\n",
            "Epoch 16/40\n",
            "1875/1875 [==============================] - 5s 3ms/step - loss: 0.5203 - accuracy: 0.8162 - val_loss: 0.5731 - val_accuracy: 0.8023\n",
            "Epoch 17/40\n",
            "1875/1875 [==============================] - 5s 3ms/step - loss: 0.5191 - accuracy: 0.8176 - val_loss: 0.5594 - val_accuracy: 0.8030\n",
            "Epoch 18/40\n",
            "1875/1875 [==============================] - 5s 3ms/step - loss: 0.5176 - accuracy: 0.8157 - val_loss: 0.5582 - val_accuracy: 0.8053\n",
            "Epoch 19/40\n",
            "1875/1875 [==============================] - 5s 3ms/step - loss: 0.5156 - accuracy: 0.8169 - val_loss: 0.5644 - val_accuracy: 0.8007\n",
            "Epoch 20/40\n",
            "1875/1875 [==============================] - 5s 3ms/step - loss: 0.5146 - accuracy: 0.8177 - val_loss: 0.5660 - val_accuracy: 0.8075\n",
            "Epoch 21/40\n",
            "1875/1875 [==============================] - 5s 3ms/step - loss: 0.5125 - accuracy: 0.8197 - val_loss: 0.5684 - val_accuracy: 0.8004\n",
            "Epoch 22/40\n",
            "1875/1875 [==============================] - 5s 3ms/step - loss: 0.5112 - accuracy: 0.8180 - val_loss: 0.5666 - val_accuracy: 0.8029\n",
            "Epoch 23/40\n",
            "1875/1875 [==============================] - 5s 3ms/step - loss: 0.5105 - accuracy: 0.8195 - val_loss: 0.5570 - val_accuracy: 0.8068\n",
            "Epoch 24/40\n",
            "1875/1875 [==============================] - 5s 3ms/step - loss: 0.5101 - accuracy: 0.8177 - val_loss: 0.5565 - val_accuracy: 0.8076\n",
            "Epoch 25/40\n",
            "1875/1875 [==============================] - 5s 3ms/step - loss: 0.5075 - accuracy: 0.8196 - val_loss: 0.5572 - val_accuracy: 0.8048\n",
            "Epoch 26/40\n",
            "1875/1875 [==============================] - 5s 3ms/step - loss: 0.5081 - accuracy: 0.8192 - val_loss: 0.5658 - val_accuracy: 0.8065\n",
            "Epoch 27/40\n",
            "1875/1875 [==============================] - 5s 3ms/step - loss: 0.5058 - accuracy: 0.8206 - val_loss: 0.5587 - val_accuracy: 0.8045\n",
            "Epoch 28/40\n",
            "1875/1875 [==============================] - 5s 3ms/step - loss: 0.5052 - accuracy: 0.8206 - val_loss: 0.5562 - val_accuracy: 0.8077\n",
            "Epoch 29/40\n",
            "1875/1875 [==============================] - 5s 3ms/step - loss: 0.5050 - accuracy: 0.8205 - val_loss: 0.5664 - val_accuracy: 0.8054\n",
            "Epoch 30/40\n",
            "1875/1875 [==============================] - 5s 3ms/step - loss: 0.5024 - accuracy: 0.8213 - val_loss: 0.5576 - val_accuracy: 0.8053\n",
            "Epoch 31/40\n",
            "1875/1875 [==============================] - 5s 3ms/step - loss: 0.5028 - accuracy: 0.8215 - val_loss: 0.5628 - val_accuracy: 0.8035\n",
            "Epoch 32/40\n",
            "1875/1875 [==============================] - 6s 3ms/step - loss: 0.5012 - accuracy: 0.8205 - val_loss: 0.5573 - val_accuracy: 0.8095\n",
            "Epoch 33/40\n",
            "1875/1875 [==============================] - 5s 3ms/step - loss: 0.4998 - accuracy: 0.8218 - val_loss: 0.5775 - val_accuracy: 0.8006\n",
            "Epoch 34/40\n",
            "1875/1875 [==============================] - 5s 2ms/step - loss: 0.4995 - accuracy: 0.8221 - val_loss: 0.5596 - val_accuracy: 0.8072\n",
            "Epoch 35/40\n",
            "1875/1875 [==============================] - 5s 3ms/step - loss: 0.4980 - accuracy: 0.8236 - val_loss: 0.5508 - val_accuracy: 0.8093\n",
            "Epoch 36/40\n",
            "1875/1875 [==============================] - 5s 3ms/step - loss: 0.4959 - accuracy: 0.8244 - val_loss: 0.5515 - val_accuracy: 0.8066\n",
            "Epoch 37/40\n",
            "1875/1875 [==============================] - 5s 2ms/step - loss: 0.4961 - accuracy: 0.8237 - val_loss: 0.5607 - val_accuracy: 0.8003\n",
            "Epoch 38/40\n",
            "1875/1875 [==============================] - 5s 2ms/step - loss: 0.4947 - accuracy: 0.8251 - val_loss: 0.5455 - val_accuracy: 0.8113\n",
            "Epoch 39/40\n",
            "1875/1875 [==============================] - 5s 3ms/step - loss: 0.4943 - accuracy: 0.8242 - val_loss: 0.5594 - val_accuracy: 0.8054\n",
            "Epoch 40/40\n",
            "1875/1875 [==============================] - 5s 2ms/step - loss: 0.4926 - accuracy: 0.8249 - val_loss: 0.5527 - val_accuracy: 0.8053\n"
          ]
        }
      ]
    },
    {
      "cell_type": "markdown",
      "source": [
        "## Evaluating Model"
      ],
      "metadata": {
        "id": "mCYz0JxqiqG5"
      }
    },
    {
      "cell_type": "markdown",
      "source": [
        "### Confusion Matrix"
      ],
      "metadata": {
        "id": "mxbR_DpKjpL3"
      }
    },
    {
      "cell_type": "code",
      "source": [
        "import itertools\n",
        "from sklearn.metrics import confusion_matrix\n",
        "import numpy as np\n",
        "\n",
        "def construct_confusion_matrix(test_labels,predicted_labels,classes=None,figsize = (10,10),text_size = 15):\n",
        "  confusion_mat = confusion_matrix(test_labels,predicted_labels)\n",
        "  confusion_mat_norm = confusion_mat.astype(\"float\")/confusion_mat.sum(axis=1)[:,np.newaxis]\n",
        "  ##Getting Shape\n",
        "  n_classes = confusion_mat.shape[0]\n",
        "\n",
        "  fig,ax = plt.subplots(figsize=figsize)\n",
        "  #Matrix Plot\n",
        "  cax = ax.matshow(confusion_mat,cmap = plt.cm.Blues)\n",
        "  fig.colorbar(cax)\n",
        "  if classes:\n",
        "    labels = classes\n",
        "  else:\n",
        "    labels = np.arange(confusion_mat.shape[0])\n",
        "  ax.set(title = \"Confusion Matrix\",\n",
        "        xlabel = \"Predicted Label\",\n",
        "        ylabel = \"True Label\",\n",
        "        xticks = np.arange(n_classes),\n",
        "        yticks = np.arange(n_classes),\n",
        "        xticklabels = labels,\n",
        "        yticklabels = labels,\n",
        "        )\n",
        "  ax.xaxis.set_label_position(\"bottom\")\n",
        "  ax.xaxis.tick_bottom()\n",
        "  ax.yaxis.label.set_size(text_size)\n",
        "  ax.xaxis.label.set_size(text_size)\n",
        "  ax.title.set_size(20)\n",
        "  threshold = (confusion_mat.max()+confusion_mat.min())/2\n",
        "  for i,j in itertools.product(range(confusion_mat.shape[0]),range(confusion_mat.shape[1])):\n",
        "    plt.text(j,i,f\"{confusion_mat[i][j]}({confusion_mat_norm[i,j]*100:.1f}%)\",\n",
        "            horizontalalignment = \"center\",\n",
        "            color = \"white\" if confusion_mat[i][j]>threshold else \"black\",\n",
        "            size = 15\n",
        "            )"
      ],
      "metadata": {
        "id": "swbVGu6ej3Ew"
      },
      "execution_count": 76,
      "outputs": []
    },
    {
      "cell_type": "markdown",
      "source": [
        "### Prediction with Model"
      ],
      "metadata": {
        "id": "wYc0Gmc4knDG"
      }
    },
    {
      "cell_type": "code",
      "source": [
        "y_predict = multi_model_3.predict(test_data_norm)"
      ],
      "metadata": {
        "colab": {
          "base_uri": "https://localhost:8080/"
        },
        "id": "AzcEyrzFkve8",
        "outputId": "bfc5820f-78c2-43b2-93bf-797bfe503403"
      },
      "execution_count": 58,
      "outputs": [
        {
          "output_type": "stream",
          "name": "stdout",
          "text": [
            "313/313 [==============================] - 0s 1ms/step\n"
          ]
        }
      ]
    },
    {
      "cell_type": "markdown",
      "source": [
        "### Converting prediction into class integers"
      ],
      "metadata": {
        "id": "jG7F7gcNk7Yp"
      }
    },
    {
      "cell_type": "code",
      "source": [
        "y_preds = y_predict.argmax(axis = 1)"
      ],
      "metadata": {
        "colab": {
          "base_uri": "https://localhost:8080/"
        },
        "id": "b_7s8hyik_IB",
        "outputId": "1a307377-1ef5-43af-e80f-7418ca909874"
      },
      "execution_count": 70,
      "outputs": [
        {
          "output_type": "execute_result",
          "data": {
            "text/plain": [
              "array([9, 2, 1, ..., 3, 1, 5])"
            ]
          },
          "metadata": {},
          "execution_count": 70
        }
      ]
    },
    {
      "cell_type": "code",
      "source": [
        "from sklearn.metrics import accuracy_score"
      ],
      "metadata": {
        "id": "__xJnVb0msKo"
      },
      "execution_count": 73,
      "outputs": []
    },
    {
      "cell_type": "code",
      "source": [
        "accuracy_score(y_preds,test_labels)"
      ],
      "metadata": {
        "colab": {
          "base_uri": "https://localhost:8080/"
        },
        "id": "jKL2d4Msm48b",
        "outputId": "da1390c1-a4e3-4a4d-83ad-3bdb9b34ea4b"
      },
      "execution_count": 74,
      "outputs": [
        {
          "output_type": "execute_result",
          "data": {
            "text/plain": [
              "0.8053"
            ]
          },
          "metadata": {},
          "execution_count": 74
        }
      ]
    },
    {
      "cell_type": "code",
      "source": [
        "construct_confusion_matrix(test_labels,y_preds,class_names.values(),figsize = (20,20))"
      ],
      "metadata": {
        "colab": {
          "base_uri": "https://localhost:8080/",
          "height": 1000
        },
        "id": "h0gL9p5XnEHU",
        "outputId": "7937c1ab-4da8-487e-f892-5e198ac8ff59"
      },
      "execution_count": 81,
      "outputs": [
        {
          "output_type": "stream",
          "name": "stderr",
          "text": [
            "/usr/local/lib/python3.8/dist-packages/matplotlib/backends/backend_agg.py:214: RuntimeWarning: Glyph 9 missing from current font.\n",
            "  font.set_text(s, 0.0, flags=flags)\n",
            "/usr/local/lib/python3.8/dist-packages/matplotlib/backends/backend_agg.py:183: RuntimeWarning: Glyph 9 missing from current font.\n",
            "  font.set_text(s, 0, flags=flags)\n"
          ]
        },
        {
          "output_type": "display_data",
          "data": {
            "text/plain": [
              "<Figure size 1440x1440 with 2 Axes>"
            ],
            "image/png": "[encoded data removed]"
          },
          "metadata": {
            "needs_background": "light"
          }
        }
      ]
    },
    {
      "cell_type": "markdown",
      "source": [
        "## Randomizing Normal Image and Prediction"
      ],
      "metadata": {
        "id": "fLXx-vMuo0RT"
      }
    },
    {
      "cell_type": "code",
      "source": [
        "import random\n",
        "def plot_random_image(model,images,true_labels,classes):\n",
        "  i = random.randint(0,len(images))\n",
        "\n",
        "  #Create predictions and targets\n",
        "  target_image = images[i]\n",
        "  pred_probs = model.predict(target_image.reshape(1,28,28))\n",
        "  pred_label = classes[pred_probs.argmax()]\n",
        "  true_label = classes[true_labels[i]]\n",
        "  plt.imshow(target_image,cmap = plt.cm.binary)\n",
        "  #Change the color of the title depending on if the prediction is right or wrong\n",
        "  if pred_label==true_label:\n",
        "    color = 'green'\n",
        "  else:\n",
        "    color = 'red'\n",
        "  plt.xlabel(\"Pred: {}{:2.0f}%(True:{})\".format(pred_label,100*tf.reduce_max(pred_probs),true_label),color = color)\n",
        "  "
      ],
      "metadata": {
        "id": "yAnO-M-dnPSR"
      },
      "execution_count": 87,
      "outputs": []
    },
    {
      "cell_type": "code",
      "source": [
        "plot_random_image(multi_model_3,test_data,test_labels,class_names)"
      ],
      "metadata": {
        "colab": {
          "base_uri": "https://localhost:8080/",
          "height": 369
        },
        "id": "QBjUkifep278",
        "outputId": "8efe75f0-9d75-41d7-96eb-32c7f9e95273"
      },
      "execution_count": 91,
      "outputs": [
        {
          "output_type": "stream",
          "name": "stdout",
          "text": [
            "1/1 [==============================] - 0s 70ms/step\n"
          ]
        },
        {
          "output_type": "stream",
          "name": "stderr",
          "text": [
            "/usr/local/lib/python3.8/dist-packages/matplotlib/backends/backend_agg.py:214: RuntimeWarning: Glyph 9 missing from current font.\n",
            "  font.set_text(s, 0.0, flags=flags)\n",
            "/usr/local/lib/python3.8/dist-packages/matplotlib/backends/backend_agg.py:183: RuntimeWarning: Glyph 9 missing from current font.\n",
            "  font.set_text(s, 0, flags=flags)\n"
          ]
        },
        {
          "output_type": "display_data",
          "data": {
            "text/plain": [
              "<Figure size 432x288 with 1 Axes>"
            ],
            "image/png": "[encoded data removed]"
          },
          "metadata": {
            "needs_background": "light"
          }
        }
      ]
    },
    {
      "cell_type": "code",
      "source": [],
      "metadata": {
        "id": "j3JYe3eDqCkp"
      },
      "execution_count": 90,
      "outputs": []
    }
  ]
}
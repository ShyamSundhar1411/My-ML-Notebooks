{
  "nbformat": 4,
  "nbformat_minor": 0,
  "metadata": {
    "colab": {
      "provenance": [],
      "authorship_tag": "ABX9TyNG9ghlJ4HXXeOO6GHrN7+2",
      "include_colab_link": true
    },
    "kernelspec": {
      "name": "python3",
      "display_name": "Python 3"
    },
    "language_info": {
      "name": "python"
    },
    "accelerator": "GPU",
    "gpuClass": "standard"
  },
  "cells": [
    {
      "cell_type": "markdown",
      "metadata": {
        "id": "view-in-github",
        "colab_type": "text"
      },
      "source": [
        "<a href=\"https://colab.research.google.com/github/ShyamSundhar1411/My-ML-Notebooks/blob/master/Natural%20Language%20Processing/Introduction_to_NLP_in_Tensorflow.ipynb\" target=\"_parent\"><img src=\"https://colab.research.google.com/assets/colab-badge.svg\" alt=\"Open In Colab\"/></a>"
      ]
    },
    {
      "cell_type": "markdown",
      "source": [
        "## Introduction to NLP Fundamentals in Tensorflow"
      ],
      "metadata": {
        "id": "xRab8mcDHZng"
      }
    },
    {
      "cell_type": "code",
      "source": [
        "!nvidia-smi"
      ],
      "metadata": {
        "colab": {
          "base_uri": "https://localhost:8080/"
        },
        "id": "4_6LU5dhHlv5",
        "outputId": "d28ec25f-6dce-4476-bdab-96a6541238a1"
      },
      "execution_count": 1,
      "outputs": [
        {
          "output_type": "stream",
          "name": "stdout",
          "text": [
            "Fri Feb 24 18:38:24 2023       \n",
            "+-----------------------------------------------------------------------------+\n",
            "| NVIDIA-SMI 525.85.12    Driver Version: 525.85.12    CUDA Version: 12.0     |\n",
            "|-------------------------------+----------------------+----------------------+\n",
            "| GPU  Name        Persistence-M| Bus-Id        Disp.A | Volatile Uncorr. ECC |\n",
            "| Fan  Temp  Perf  Pwr:Usage/Cap|         Memory-Usage | GPU-Util  Compute M. |\n",
            "|                               |                      |               MIG M. |\n",
            "|===============================+======================+======================|\n",
            "|   0  Tesla T4            Off  | 00000000:00:04.0 Off |                    0 |\n",
            "| N/A   43C    P0    26W /  70W |      0MiB / 15360MiB |      0%      Default |\n",
            "|                               |                      |                  N/A |\n",
            "+-------------------------------+----------------------+----------------------+\n",
            "                                                                               \n",
            "+-----------------------------------------------------------------------------+\n",
            "| Processes:                                                                  |\n",
            "|  GPU   GI   CI        PID   Type   Process name                  GPU Memory |\n",
            "|        ID   ID                                                   Usage      |\n",
            "|=============================================================================|\n",
            "|  No running processes found                                                 |\n",
            "+-----------------------------------------------------------------------------+\n"
          ]
        }
      ]
    },
    {
      "cell_type": "code",
      "source": [
        "!wget https://raw.githubusercontent.com/mrdbourke/tensorflow-deep-learning/main/extras/helper_functions.py"
      ],
      "metadata": {
        "colab": {
          "base_uri": "https://localhost:8080/"
        },
        "id": "7nFUSAcPHuzc",
        "outputId": "6d2f2c49-613e-42ce-d5f5-26e3c483c954"
      },
      "execution_count": 2,
      "outputs": [
        {
          "output_type": "stream",
          "name": "stdout",
          "text": [
            "--2023-02-24 18:38:24--  https://raw.githubusercontent.com/mrdbourke/tensorflow-deep-learning/main/extras/helper_functions.py\n",
            "Resolving raw.githubusercontent.com (raw.githubusercontent.com)... 185.199.108.133, 185.199.109.133, 185.199.110.133, ...\n",
            "Connecting to raw.githubusercontent.com (raw.githubusercontent.com)|185.199.108.133|:443... connected.\n",
            "HTTP request sent, awaiting response... 200 OK\n",
            "Length: 10246 (10K) [text/plain]\n",
            "Saving to: ‘helper_functions.py’\n",
            "\n",
            "helper_functions.py 100%[===================>]  10.01K  --.-KB/s    in 0s      \n",
            "\n",
            "2023-02-24 18:38:25 (73.0 MB/s) - ‘helper_functions.py’ saved [10246/10246]\n",
            "\n"
          ]
        }
      ]
    },
    {
      "cell_type": "code",
      "source": [
        "from helper_functions import plot_loss_curves,unzip_data,create_tensorboard_callback,compare_historys"
      ],
      "metadata": {
        "id": "dkIO1-2LIFrA"
      },
      "execution_count": 3,
      "outputs": []
    },
    {
      "cell_type": "markdown",
      "source": [
        "## Getting a text Dataset"
      ],
      "metadata": {
        "id": "SRlMhtKeINK-"
      }
    },
    {
      "cell_type": "code",
      "source": [
        "!wget https://storage.googleapis.com/ztm_tf_course/nlp_getting_started.zip"
      ],
      "metadata": {
        "colab": {
          "base_uri": "https://localhost:8080/"
        },
        "id": "7ElNazo1IVqJ",
        "outputId": "d0894822-db5f-4ab4-c569-590916920799"
      },
      "execution_count": 4,
      "outputs": [
        {
          "output_type": "stream",
          "name": "stdout",
          "text": [
            "--2023-02-24 18:38:28--  https://storage.googleapis.com/ztm_tf_course/nlp_getting_started.zip\n",
            "Resolving storage.googleapis.com (storage.googleapis.com)... 74.125.200.128, 74.125.68.128, 74.125.24.128, ...\n",
            "Connecting to storage.googleapis.com (storage.googleapis.com)|74.125.200.128|:443... connected.\n",
            "HTTP request sent, awaiting response... 200 OK\n",
            "Length: 607343 (593K) [application/zip]\n",
            "Saving to: ‘nlp_getting_started.zip’\n",
            "\n",
            "nlp_getting_started 100%[===================>] 593.11K   755KB/s    in 0.8s    \n",
            "\n",
            "2023-02-24 18:38:29 (755 KB/s) - ‘nlp_getting_started.zip’ saved [607343/607343]\n",
            "\n"
          ]
        }
      ]
    },
    {
      "cell_type": "code",
      "source": [
        "unzip_data(\"nlp_getting_started.zip\")"
      ],
      "metadata": {
        "id": "QdOEvmKCIe8c"
      },
      "execution_count": 5,
      "outputs": []
    },
    {
      "cell_type": "markdown",
      "source": [
        "## Visualizing Dataset"
      ],
      "metadata": {
        "id": "XbJdpkVDJLwt"
      }
    },
    {
      "cell_type": "code",
      "source": [
        "import pandas as pd\n",
        "train_dataset = pd.read_csv(\"/content/train.csv\")"
      ],
      "metadata": {
        "id": "iTu5AbMNIhhW"
      },
      "execution_count": 6,
      "outputs": []
    },
    {
      "cell_type": "code",
      "source": [
        "train_dataset"
      ],
      "metadata": {
        "colab": {
          "base_uri": "https://localhost:8080/",
          "height": 423
        },
        "id": "uRs48nofJd4r",
        "outputId": "210816e7-fe18-4d29-c118-2bc4436ed519"
      },
      "execution_count": 7,
      "outputs": [
        {
          "output_type": "execute_result",
          "data": {
            "text/plain": [
              "         id keyword location  \\\n",
              "0         1     NaN      NaN   \n",
              "1         4     NaN      NaN   \n",
              "2         5     NaN      NaN   \n",
              "3         6     NaN      NaN   \n",
              "4         7     NaN      NaN   \n",
              "...     ...     ...      ...   \n",
              "7608  10869     NaN      NaN   \n",
              "7609  10870     NaN      NaN   \n",
              "7610  10871     NaN      NaN   \n",
              "7611  10872     NaN      NaN   \n",
              "7612  10873     NaN      NaN   \n",
              "\n",
              "                                                   text  target  \n",
              "0     Our Deeds are the Reason of this #earthquake M...       1  \n",
              "1                Forest fire near La Ronge Sask. Canada       1  \n",
              "2     All residents asked to 'shelter in place' are ...       1  \n",
              "3     13,000 people receive #wildfires evacuation or...       1  \n",
              "4     Just got sent this photo from Ruby #Alaska as ...       1  \n",
              "...                                                 ...     ...  \n",
              "7608  Two giant cranes holding a bridge collapse int...       1  \n",
              "7609  @aria_ahrary @TheTawniest The out of control w...       1  \n",
              "7610  M1.94 [01:04 UTC]?5km S of Volcano Hawaii. htt...       1  \n",
              "7611  Police investigating after an e-bike collided ...       1  \n",
              "7612  The Latest: More Homes Razed by Northern Calif...       1  \n",
              "\n",
              "[7613 rows x 5 columns]"
            ],
            "text/html": [
              "\n",
              "  <div id=\"df-1ab2e55a-496b-4950-b062-3429c75415ee\">\n",
              "    <div class=\"colab-df-container\">\n",
              "      <div>\n",
              "<style scoped>\n",
              "    .dataframe tbody tr th:only-of-type {\n",
              "        vertical-align: middle;\n",
              "    }\n",
              "\n",
              "    .dataframe tbody tr th {\n",
              "        vertical-align: top;\n",
              "    }\n",
              "\n",
              "    .dataframe thead th {\n",
              "        text-align: right;\n",
              "    }\n",
              "</style>\n",
              "<table border=\"1\" class=\"dataframe\">\n",
              "  <thead>\n",
              "    <tr style=\"text-align: right;\">\n",
              "      <th></th>\n",
              "      <th>id</th>\n",
              "      <th>keyword</th>\n",
              "      <th>location</th>\n",
              "      <th>text</th>\n",
              "      <th>target</th>\n",
              "    </tr>\n",
              "  </thead>\n",
              "  <tbody>\n",
              "    <tr>\n",
              "      <th>0</th>\n",
              "      <td>1</td>\n",
              "      <td>NaN</td>\n",
              "      <td>NaN</td>\n",
              "      <td>Our Deeds are the Reason of this #earthquake M...</td>\n",
              "      <td>1</td>\n",
              "    </tr>\n",
              "    <tr>\n",
              "      <th>1</th>\n",
              "      <td>4</td>\n",
              "      <td>NaN</td>\n",
              "      <td>NaN</td>\n",
              "      <td>Forest fire near La Ronge Sask. Canada</td>\n",
              "      <td>1</td>\n",
              "    </tr>\n",
              "    <tr>\n",
              "      <th>2</th>\n",
              "      <td>5</td>\n",
              "      <td>NaN</td>\n",
              "      <td>NaN</td>\n",
              "      <td>All residents asked to 'shelter in place' are ...</td>\n",
              "      <td>1</td>\n",
              "    </tr>\n",
              "    <tr>\n",
              "      <th>3</th>\n",
              "      <td>6</td>\n",
              "      <td>NaN</td>\n",
              "      <td>NaN</td>\n",
              "      <td>13,000 people receive #wildfires evacuation or...</td>\n",
              "      <td>1</td>\n",
              "    </tr>\n",
              "    <tr>\n",
              "      <th>4</th>\n",
              "      <td>7</td>\n",
              "      <td>NaN</td>\n",
              "      <td>NaN</td>\n",
              "      <td>Just got sent this photo from Ruby #Alaska as ...</td>\n",
              "      <td>1</td>\n",
              "    </tr>\n",
              "    <tr>\n",
              "      <th>...</th>\n",
              "      <td>...</td>\n",
              "      <td>...</td>\n",
              "      <td>...</td>\n",
              "      <td>...</td>\n",
              "      <td>...</td>\n",
              "    </tr>\n",
              "    <tr>\n",
              "      <th>7608</th>\n",
              "      <td>10869</td>\n",
              "      <td>NaN</td>\n",
              "      <td>NaN</td>\n",
              "      <td>Two giant cranes holding a bridge collapse int...</td>\n",
              "      <td>1</td>\n",
              "    </tr>\n",
              "    <tr>\n",
              "      <th>7609</th>\n",
              "      <td>10870</td>\n",
              "      <td>NaN</td>\n",
              "      <td>NaN</td>\n",
              "      <td>@aria_ahrary @TheTawniest The out of control w...</td>\n",
              "      <td>1</td>\n",
              "    </tr>\n",
              "    <tr>\n",
              "      <th>7610</th>\n",
              "      <td>10871</td>\n",
              "      <td>NaN</td>\n",
              "      <td>NaN</td>\n",
              "      <td>M1.94 [01:04 UTC]?5km S of Volcano Hawaii. htt...</td>\n",
              "      <td>1</td>\n",
              "    </tr>\n",
              "    <tr>\n",
              "      <th>7611</th>\n",
              "      <td>10872</td>\n",
              "      <td>NaN</td>\n",
              "      <td>NaN</td>\n",
              "      <td>Police investigating after an e-bike collided ...</td>\n",
              "      <td>1</td>\n",
              "    </tr>\n",
              "    <tr>\n",
              "      <th>7612</th>\n",
              "      <td>10873</td>\n",
              "      <td>NaN</td>\n",
              "      <td>NaN</td>\n",
              "      <td>The Latest: More Homes Razed by Northern Calif...</td>\n",
              "      <td>1</td>\n",
              "    </tr>\n",
              "  </tbody>\n",
              "</table>\n",
              "<p>7613 rows × 5 columns</p>\n",
              "</div>\n",
              "      <button class=\"colab-df-convert\" onclick=\"convertToInteractive('df-1ab2e55a-496b-4950-b062-3429c75415ee')\"\n",
              "              title=\"Convert this dataframe to an interactive table.\"\n",
              "              style=\"display:none;\">\n",
              "        \n",
              "  <svg xmlns=\"http://www.w3.org/2000/svg\" height=\"24px\"viewBox=\"0 0 24 24\"\n",
              "       width=\"24px\">\n",
              "    <path d=\"M0 0h24v24H0V0z\" fill=\"none\"/>\n",
              "    <path d=\"M18.56 5.44l.94 2.06.94-2.06 2.06-.94-2.06-.94-.94-2.06-.94 2.06-2.06.94zm-11 1L8.5 8.5l.94-2.06 2.06-.94-2.06-.94L8.5 2.5l-.94 2.06-2.06.94zm10 10l.94 2.06.94-2.06 2.06-.94-2.06-.94-.94-2.06-.94 2.06-2.06.94z\"/><path d=\"M17.41 7.96l-1.37-1.37c-.4-.4-.92-.59-1.43-.59-.52 0-1.04.2-1.43.59L10.3 9.45l-7.72 7.72c-.78.78-.78 2.05 0 2.83L4 21.41c.39.39.9.59 1.41.59.51 0 1.02-.2 1.41-.59l7.78-7.78 2.81-2.81c.8-.78.8-2.07 0-2.86zM5.41 20L4 18.59l7.72-7.72 1.47 1.35L5.41 20z\"/>\n",
              "  </svg>\n",
              "      </button>\n",
              "      \n",
              "  <style>\n",
              "    .colab-df-container {\n",
              "      display:flex;\n",
              "      flex-wrap:wrap;\n",
              "      gap: 12px;\n",
              "    }\n",
              "\n",
              "    .colab-df-convert {\n",
              "      background-color: #E8F0FE;\n",
              "      border: none;\n",
              "      border-radius: 50%;\n",
              "      cursor: pointer;\n",
              "      display: none;\n",
              "      fill: #1967D2;\n",
              "      height: 32px;\n",
              "      padding: 0 0 0 0;\n",
              "      width: 32px;\n",
              "    }\n",
              "\n",
              "    .colab-df-convert:hover {\n",
              "      background-color: #E2EBFA;\n",
              "      box-shadow: 0px 1px 2px rgba(60, 64, 67, 0.3), 0px 1px 3px 1px rgba(60, 64, 67, 0.15);\n",
              "      fill: #174EA6;\n",
              "    }\n",
              "\n",
              "    [theme=dark] .colab-df-convert {\n",
              "      background-color: #3B4455;\n",
              "      fill: #D2E3FC;\n",
              "    }\n",
              "\n",
              "    [theme=dark] .colab-df-convert:hover {\n",
              "      background-color: #434B5C;\n",
              "      box-shadow: 0px 1px 3px 1px rgba(0, 0, 0, 0.15);\n",
              "      filter: drop-shadow(0px 1px 2px rgba(0, 0, 0, 0.3));\n",
              "      fill: #FFFFFF;\n",
              "    }\n",
              "  </style>\n",
              "\n",
              "      <script>\n",
              "        const buttonEl =\n",
              "          document.querySelector('#df-1ab2e55a-496b-4950-b062-3429c75415ee button.colab-df-convert');\n",
              "        buttonEl.style.display =\n",
              "          google.colab.kernel.accessAllowed ? 'block' : 'none';\n",
              "\n",
              "        async function convertToInteractive(key) {\n",
              "          const element = document.querySelector('#df-1ab2e55a-496b-4950-b062-3429c75415ee');\n",
              "          const dataTable =\n",
              "            await google.colab.kernel.invokeFunction('convertToInteractive',\n",
              "                                                     [key], {});\n",
              "          if (!dataTable) return;\n",
              "\n",
              "          const docLinkHtml = 'Like what you see? Visit the ' +\n",
              "            '<a target=\"_blank\" href=https://colab.research.google.com/notebooks/data_table.ipynb>data table notebook</a>'\n",
              "            + ' to learn more about interactive tables.';\n",
              "          element.innerHTML = '';\n",
              "          dataTable['output_type'] = 'display_data';\n",
              "          await google.colab.output.renderOutput(dataTable, element);\n",
              "          const docLink = document.createElement('div');\n",
              "          docLink.innerHTML = docLinkHtml;\n",
              "          element.appendChild(docLink);\n",
              "        }\n",
              "      </script>\n",
              "    </div>\n",
              "  </div>\n",
              "  "
            ]
          },
          "metadata": {},
          "execution_count": 7
        }
      ]
    },
    {
      "cell_type": "code",
      "source": [
        "train_dataset_shuffled = train_dataset.sample(frac = 1,random_state = 42)\n"
      ],
      "metadata": {
        "id": "hwbEvt0AJeyj"
      },
      "execution_count": 8,
      "outputs": []
    },
    {
      "cell_type": "code",
      "source": [
        "train_dataset_shuffled"
      ],
      "metadata": {
        "colab": {
          "base_uri": "https://localhost:8080/",
          "height": 423
        },
        "id": "RUcBR9AjJzKk",
        "outputId": "f74bc099-fe99-4f35-97fe-7a8f0632445c"
      },
      "execution_count": 9,
      "outputs": [
        {
          "output_type": "execute_result",
          "data": {
            "text/plain": [
              "         id       keyword                        location  \\\n",
              "2644   3796   destruction                             NaN   \n",
              "2227   3185        deluge                             NaN   \n",
              "5448   7769        police                              UK   \n",
              "132     191    aftershock                             NaN   \n",
              "6845   9810        trauma           Montgomery County, MD   \n",
              "...     ...           ...                             ...   \n",
              "5226   7470  obliteration                         Merica!   \n",
              "5390   7691         panic                             NaN   \n",
              "860    1242         blood                             NaN   \n",
              "7603  10862           NaN                             NaN   \n",
              "7270  10409     whirlwind  Stamford & Cork (& Shropshire)   \n",
              "\n",
              "                                                   text  target  \n",
              "2644  So you have a new weapon that can cause un-ima...       1  \n",
              "2227  The f$&amp;@ing things I do for #GISHWHES Just...       0  \n",
              "5448  DT @georgegalloway: RT @Galloway4Mayor: ÛÏThe...       1  \n",
              "132   Aftershock back to school kick off was great. ...       0  \n",
              "6845  in response to trauma Children of Addicts deve...       0  \n",
              "...                                                 ...     ...  \n",
              "5226  @Eganator2000 There aren't many Obliteration s...       0  \n",
              "5390  just had a panic attack bc I don't have enough...       0  \n",
              "860   Omron HEM-712C Automatic Blood Pressure Monito...       0  \n",
              "7603  Officials say a quarantine is in place at an A...       1  \n",
              "7270  I moved to England five years ago today. What ...       1  \n",
              "\n",
              "[7613 rows x 5 columns]"
            ],
            "text/html": [
              "\n",
              "  <div id=\"df-d30ce6b3-cf3f-4f92-aa23-87b38e44743d\">\n",
              "    <div class=\"colab-df-container\">\n",
              "      <div>\n",
              "<style scoped>\n",
              "    .dataframe tbody tr th:only-of-type {\n",
              "        vertical-align: middle;\n",
              "    }\n",
              "\n",
              "    .dataframe tbody tr th {\n",
              "        vertical-align: top;\n",
              "    }\n",
              "\n",
              "    .dataframe thead th {\n",
              "        text-align: right;\n",
              "    }\n",
              "</style>\n",
              "<table border=\"1\" class=\"dataframe\">\n",
              "  <thead>\n",
              "    <tr style=\"text-align: right;\">\n",
              "      <th></th>\n",
              "      <th>id</th>\n",
              "      <th>keyword</th>\n",
              "      <th>location</th>\n",
              "      <th>text</th>\n",
              "      <th>target</th>\n",
              "    </tr>\n",
              "  </thead>\n",
              "  <tbody>\n",
              "    <tr>\n",
              "      <th>2644</th>\n",
              "      <td>3796</td>\n",
              "      <td>destruction</td>\n",
              "      <td>NaN</td>\n",
              "      <td>So you have a new weapon that can cause un-ima...</td>\n",
              "      <td>1</td>\n",
              "    </tr>\n",
              "    <tr>\n",
              "      <th>2227</th>\n",
              "      <td>3185</td>\n",
              "      <td>deluge</td>\n",
              "      <td>NaN</td>\n",
              "      <td>The f$&amp;amp;@ing things I do for #GISHWHES Just...</td>\n",
              "      <td>0</td>\n",
              "    </tr>\n",
              "    <tr>\n",
              "      <th>5448</th>\n",
              "      <td>7769</td>\n",
              "      <td>police</td>\n",
              "      <td>UK</td>\n",
              "      <td>DT @georgegalloway: RT @Galloway4Mayor: ÛÏThe...</td>\n",
              "      <td>1</td>\n",
              "    </tr>\n",
              "    <tr>\n",
              "      <th>132</th>\n",
              "      <td>191</td>\n",
              "      <td>aftershock</td>\n",
              "      <td>NaN</td>\n",
              "      <td>Aftershock back to school kick off was great. ...</td>\n",
              "      <td>0</td>\n",
              "    </tr>\n",
              "    <tr>\n",
              "      <th>6845</th>\n",
              "      <td>9810</td>\n",
              "      <td>trauma</td>\n",
              "      <td>Montgomery County, MD</td>\n",
              "      <td>in response to trauma Children of Addicts deve...</td>\n",
              "      <td>0</td>\n",
              "    </tr>\n",
              "    <tr>\n",
              "      <th>...</th>\n",
              "      <td>...</td>\n",
              "      <td>...</td>\n",
              "      <td>...</td>\n",
              "      <td>...</td>\n",
              "      <td>...</td>\n",
              "    </tr>\n",
              "    <tr>\n",
              "      <th>5226</th>\n",
              "      <td>7470</td>\n",
              "      <td>obliteration</td>\n",
              "      <td>Merica!</td>\n",
              "      <td>@Eganator2000 There aren't many Obliteration s...</td>\n",
              "      <td>0</td>\n",
              "    </tr>\n",
              "    <tr>\n",
              "      <th>5390</th>\n",
              "      <td>7691</td>\n",
              "      <td>panic</td>\n",
              "      <td>NaN</td>\n",
              "      <td>just had a panic attack bc I don't have enough...</td>\n",
              "      <td>0</td>\n",
              "    </tr>\n",
              "    <tr>\n",
              "      <th>860</th>\n",
              "      <td>1242</td>\n",
              "      <td>blood</td>\n",
              "      <td>NaN</td>\n",
              "      <td>Omron HEM-712C Automatic Blood Pressure Monito...</td>\n",
              "      <td>0</td>\n",
              "    </tr>\n",
              "    <tr>\n",
              "      <th>7603</th>\n",
              "      <td>10862</td>\n",
              "      <td>NaN</td>\n",
              "      <td>NaN</td>\n",
              "      <td>Officials say a quarantine is in place at an A...</td>\n",
              "      <td>1</td>\n",
              "    </tr>\n",
              "    <tr>\n",
              "      <th>7270</th>\n",
              "      <td>10409</td>\n",
              "      <td>whirlwind</td>\n",
              "      <td>Stamford &amp; Cork (&amp; Shropshire)</td>\n",
              "      <td>I moved to England five years ago today. What ...</td>\n",
              "      <td>1</td>\n",
              "    </tr>\n",
              "  </tbody>\n",
              "</table>\n",
              "<p>7613 rows × 5 columns</p>\n",
              "</div>\n",
              "      <button class=\"colab-df-convert\" onclick=\"convertToInteractive('df-d30ce6b3-cf3f-4f92-aa23-87b38e44743d')\"\n",
              "              title=\"Convert this dataframe to an interactive table.\"\n",
              "              style=\"display:none;\">\n",
              "        \n",
              "  <svg xmlns=\"http://www.w3.org/2000/svg\" height=\"24px\"viewBox=\"0 0 24 24\"\n",
              "       width=\"24px\">\n",
              "    <path d=\"M0 0h24v24H0V0z\" fill=\"none\"/>\n",
              "    <path d=\"M18.56 5.44l.94 2.06.94-2.06 2.06-.94-2.06-.94-.94-2.06-.94 2.06-2.06.94zm-11 1L8.5 8.5l.94-2.06 2.06-.94-2.06-.94L8.5 2.5l-.94 2.06-2.06.94zm10 10l.94 2.06.94-2.06 2.06-.94-2.06-.94-.94-2.06-.94 2.06-2.06.94z\"/><path d=\"M17.41 7.96l-1.37-1.37c-.4-.4-.92-.59-1.43-.59-.52 0-1.04.2-1.43.59L10.3 9.45l-7.72 7.72c-.78.78-.78 2.05 0 2.83L4 21.41c.39.39.9.59 1.41.59.51 0 1.02-.2 1.41-.59l7.78-7.78 2.81-2.81c.8-.78.8-2.07 0-2.86zM5.41 20L4 18.59l7.72-7.72 1.47 1.35L5.41 20z\"/>\n",
              "  </svg>\n",
              "      </button>\n",
              "      \n",
              "  <style>\n",
              "    .colab-df-container {\n",
              "      display:flex;\n",
              "      flex-wrap:wrap;\n",
              "      gap: 12px;\n",
              "    }\n",
              "\n",
              "    .colab-df-convert {\n",
              "      background-color: #E8F0FE;\n",
              "      border: none;\n",
              "      border-radius: 50%;\n",
              "      cursor: pointer;\n",
              "      display: none;\n",
              "      fill: #1967D2;\n",
              "      height: 32px;\n",
              "      padding: 0 0 0 0;\n",
              "      width: 32px;\n",
              "    }\n",
              "\n",
              "    .colab-df-convert:hover {\n",
              "      background-color: #E2EBFA;\n",
              "      box-shadow: 0px 1px 2px rgba(60, 64, 67, 0.3), 0px 1px 3px 1px rgba(60, 64, 67, 0.15);\n",
              "      fill: #174EA6;\n",
              "    }\n",
              "\n",
              "    [theme=dark] .colab-df-convert {\n",
              "      background-color: #3B4455;\n",
              "      fill: #D2E3FC;\n",
              "    }\n",
              "\n",
              "    [theme=dark] .colab-df-convert:hover {\n",
              "      background-color: #434B5C;\n",
              "      box-shadow: 0px 1px 3px 1px rgba(0, 0, 0, 0.15);\n",
              "      filter: drop-shadow(0px 1px 2px rgba(0, 0, 0, 0.3));\n",
              "      fill: #FFFFFF;\n",
              "    }\n",
              "  </style>\n",
              "\n",
              "      <script>\n",
              "        const buttonEl =\n",
              "          document.querySelector('#df-d30ce6b3-cf3f-4f92-aa23-87b38e44743d button.colab-df-convert');\n",
              "        buttonEl.style.display =\n",
              "          google.colab.kernel.accessAllowed ? 'block' : 'none';\n",
              "\n",
              "        async function convertToInteractive(key) {\n",
              "          const element = document.querySelector('#df-d30ce6b3-cf3f-4f92-aa23-87b38e44743d');\n",
              "          const dataTable =\n",
              "            await google.colab.kernel.invokeFunction('convertToInteractive',\n",
              "                                                     [key], {});\n",
              "          if (!dataTable) return;\n",
              "\n",
              "          const docLinkHtml = 'Like what you see? Visit the ' +\n",
              "            '<a target=\"_blank\" href=https://colab.research.google.com/notebooks/data_table.ipynb>data table notebook</a>'\n",
              "            + ' to learn more about interactive tables.';\n",
              "          element.innerHTML = '';\n",
              "          dataTable['output_type'] = 'display_data';\n",
              "          await google.colab.output.renderOutput(dataTable, element);\n",
              "          const docLink = document.createElement('div');\n",
              "          docLink.innerHTML = docLinkHtml;\n",
              "          element.appendChild(docLink);\n",
              "        }\n",
              "      </script>\n",
              "    </div>\n",
              "  </div>\n",
              "  "
            ]
          },
          "metadata": {},
          "execution_count": 9
        }
      ]
    },
    {
      "cell_type": "code",
      "source": [
        "test_data  = pd.read_csv(\"/content/test.csv\")"
      ],
      "metadata": {
        "id": "wl49JTe1KGVz"
      },
      "execution_count": 10,
      "outputs": []
    },
    {
      "cell_type": "code",
      "source": [
        "test_data"
      ],
      "metadata": {
        "colab": {
          "base_uri": "https://localhost:8080/",
          "height": 423
        },
        "id": "i2JVKb7bKNLp",
        "outputId": "468e267a-0e65-4594-fef9-37dff1113750"
      },
      "execution_count": 11,
      "outputs": [
        {
          "output_type": "execute_result",
          "data": {
            "text/plain": [
              "         id keyword location  \\\n",
              "0         0     NaN      NaN   \n",
              "1         2     NaN      NaN   \n",
              "2         3     NaN      NaN   \n",
              "3         9     NaN      NaN   \n",
              "4        11     NaN      NaN   \n",
              "...     ...     ...      ...   \n",
              "3258  10861     NaN      NaN   \n",
              "3259  10865     NaN      NaN   \n",
              "3260  10868     NaN      NaN   \n",
              "3261  10874     NaN      NaN   \n",
              "3262  10875     NaN      NaN   \n",
              "\n",
              "                                                   text  \n",
              "0                    Just happened a terrible car crash  \n",
              "1     Heard about #earthquake is different cities, s...  \n",
              "2     there is a forest fire at spot pond, geese are...  \n",
              "3              Apocalypse lighting. #Spokane #wildfires  \n",
              "4         Typhoon Soudelor kills 28 in China and Taiwan  \n",
              "...                                                 ...  \n",
              "3258  EARTHQUAKE SAFETY LOS ANGELES ÛÒ SAFETY FASTE...  \n",
              "3259  Storm in RI worse than last hurricane. My city...  \n",
              "3260  Green Line derailment in Chicago http://t.co/U...  \n",
              "3261  MEG issues Hazardous Weather Outlook (HWO) htt...  \n",
              "3262  #CityofCalgary has activated its Municipal Eme...  \n",
              "\n",
              "[3263 rows x 4 columns]"
            ],
            "text/html": [
              "\n",
              "  <div id=\"df-4d42c24f-196c-403d-b7c0-bdb88717c280\">\n",
              "    <div class=\"colab-df-container\">\n",
              "      <div>\n",
              "<style scoped>\n",
              "    .dataframe tbody tr th:only-of-type {\n",
              "        vertical-align: middle;\n",
              "    }\n",
              "\n",
              "    .dataframe tbody tr th {\n",
              "        vertical-align: top;\n",
              "    }\n",
              "\n",
              "    .dataframe thead th {\n",
              "        text-align: right;\n",
              "    }\n",
              "</style>\n",
              "<table border=\"1\" class=\"dataframe\">\n",
              "  <thead>\n",
              "    <tr style=\"text-align: right;\">\n",
              "      <th></th>\n",
              "      <th>id</th>\n",
              "      <th>keyword</th>\n",
              "      <th>location</th>\n",
              "      <th>text</th>\n",
              "    </tr>\n",
              "  </thead>\n",
              "  <tbody>\n",
              "    <tr>\n",
              "      <th>0</th>\n",
              "      <td>0</td>\n",
              "      <td>NaN</td>\n",
              "      <td>NaN</td>\n",
              "      <td>Just happened a terrible car crash</td>\n",
              "    </tr>\n",
              "    <tr>\n",
              "      <th>1</th>\n",
              "      <td>2</td>\n",
              "      <td>NaN</td>\n",
              "      <td>NaN</td>\n",
              "      <td>Heard about #earthquake is different cities, s...</td>\n",
              "    </tr>\n",
              "    <tr>\n",
              "      <th>2</th>\n",
              "      <td>3</td>\n",
              "      <td>NaN</td>\n",
              "      <td>NaN</td>\n",
              "      <td>there is a forest fire at spot pond, geese are...</td>\n",
              "    </tr>\n",
              "    <tr>\n",
              "      <th>3</th>\n",
              "      <td>9</td>\n",
              "      <td>NaN</td>\n",
              "      <td>NaN</td>\n",
              "      <td>Apocalypse lighting. #Spokane #wildfires</td>\n",
              "    </tr>\n",
              "    <tr>\n",
              "      <th>4</th>\n",
              "      <td>11</td>\n",
              "      <td>NaN</td>\n",
              "      <td>NaN</td>\n",
              "      <td>Typhoon Soudelor kills 28 in China and Taiwan</td>\n",
              "    </tr>\n",
              "    <tr>\n",
              "      <th>...</th>\n",
              "      <td>...</td>\n",
              "      <td>...</td>\n",
              "      <td>...</td>\n",
              "      <td>...</td>\n",
              "    </tr>\n",
              "    <tr>\n",
              "      <th>3258</th>\n",
              "      <td>10861</td>\n",
              "      <td>NaN</td>\n",
              "      <td>NaN</td>\n",
              "      <td>EARTHQUAKE SAFETY LOS ANGELES ÛÒ SAFETY FASTE...</td>\n",
              "    </tr>\n",
              "    <tr>\n",
              "      <th>3259</th>\n",
              "      <td>10865</td>\n",
              "      <td>NaN</td>\n",
              "      <td>NaN</td>\n",
              "      <td>Storm in RI worse than last hurricane. My city...</td>\n",
              "    </tr>\n",
              "    <tr>\n",
              "      <th>3260</th>\n",
              "      <td>10868</td>\n",
              "      <td>NaN</td>\n",
              "      <td>NaN</td>\n",
              "      <td>Green Line derailment in Chicago http://t.co/U...</td>\n",
              "    </tr>\n",
              "    <tr>\n",
              "      <th>3261</th>\n",
              "      <td>10874</td>\n",
              "      <td>NaN</td>\n",
              "      <td>NaN</td>\n",
              "      <td>MEG issues Hazardous Weather Outlook (HWO) htt...</td>\n",
              "    </tr>\n",
              "    <tr>\n",
              "      <th>3262</th>\n",
              "      <td>10875</td>\n",
              "      <td>NaN</td>\n",
              "      <td>NaN</td>\n",
              "      <td>#CityofCalgary has activated its Municipal Eme...</td>\n",
              "    </tr>\n",
              "  </tbody>\n",
              "</table>\n",
              "<p>3263 rows × 4 columns</p>\n",
              "</div>\n",
              "      <button class=\"colab-df-convert\" onclick=\"convertToInteractive('df-4d42c24f-196c-403d-b7c0-bdb88717c280')\"\n",
              "              title=\"Convert this dataframe to an interactive table.\"\n",
              "              style=\"display:none;\">\n",
              "        \n",
              "  <svg xmlns=\"http://www.w3.org/2000/svg\" height=\"24px\"viewBox=\"0 0 24 24\"\n",
              "       width=\"24px\">\n",
              "    <path d=\"M0 0h24v24H0V0z\" fill=\"none\"/>\n",
              "    <path d=\"M18.56 5.44l.94 2.06.94-2.06 2.06-.94-2.06-.94-.94-2.06-.94 2.06-2.06.94zm-11 1L8.5 8.5l.94-2.06 2.06-.94-2.06-.94L8.5 2.5l-.94 2.06-2.06.94zm10 10l.94 2.06.94-2.06 2.06-.94-2.06-.94-.94-2.06-.94 2.06-2.06.94z\"/><path d=\"M17.41 7.96l-1.37-1.37c-.4-.4-.92-.59-1.43-.59-.52 0-1.04.2-1.43.59L10.3 9.45l-7.72 7.72c-.78.78-.78 2.05 0 2.83L4 21.41c.39.39.9.59 1.41.59.51 0 1.02-.2 1.41-.59l7.78-7.78 2.81-2.81c.8-.78.8-2.07 0-2.86zM5.41 20L4 18.59l7.72-7.72 1.47 1.35L5.41 20z\"/>\n",
              "  </svg>\n",
              "      </button>\n",
              "      \n",
              "  <style>\n",
              "    .colab-df-container {\n",
              "      display:flex;\n",
              "      flex-wrap:wrap;\n",
              "      gap: 12px;\n",
              "    }\n",
              "\n",
              "    .colab-df-convert {\n",
              "      background-color: #E8F0FE;\n",
              "      border: none;\n",
              "      border-radius: 50%;\n",
              "      cursor: pointer;\n",
              "      display: none;\n",
              "      fill: #1967D2;\n",
              "      height: 32px;\n",
              "      padding: 0 0 0 0;\n",
              "      width: 32px;\n",
              "    }\n",
              "\n",
              "    .colab-df-convert:hover {\n",
              "      background-color: #E2EBFA;\n",
              "      box-shadow: 0px 1px 2px rgba(60, 64, 67, 0.3), 0px 1px 3px 1px rgba(60, 64, 67, 0.15);\n",
              "      fill: #174EA6;\n",
              "    }\n",
              "\n",
              "    [theme=dark] .colab-df-convert {\n",
              "      background-color: #3B4455;\n",
              "      fill: #D2E3FC;\n",
              "    }\n",
              "\n",
              "    [theme=dark] .colab-df-convert:hover {\n",
              "      background-color: #434B5C;\n",
              "      box-shadow: 0px 1px 3px 1px rgba(0, 0, 0, 0.15);\n",
              "      filter: drop-shadow(0px 1px 2px rgba(0, 0, 0, 0.3));\n",
              "      fill: #FFFFFF;\n",
              "    }\n",
              "  </style>\n",
              "\n",
              "      <script>\n",
              "        const buttonEl =\n",
              "          document.querySelector('#df-4d42c24f-196c-403d-b7c0-bdb88717c280 button.colab-df-convert');\n",
              "        buttonEl.style.display =\n",
              "          google.colab.kernel.accessAllowed ? 'block' : 'none';\n",
              "\n",
              "        async function convertToInteractive(key) {\n",
              "          const element = document.querySelector('#df-4d42c24f-196c-403d-b7c0-bdb88717c280');\n",
              "          const dataTable =\n",
              "            await google.colab.kernel.invokeFunction('convertToInteractive',\n",
              "                                                     [key], {});\n",
              "          if (!dataTable) return;\n",
              "\n",
              "          const docLinkHtml = 'Like what you see? Visit the ' +\n",
              "            '<a target=\"_blank\" href=https://colab.research.google.com/notebooks/data_table.ipynb>data table notebook</a>'\n",
              "            + ' to learn more about interactive tables.';\n",
              "          element.innerHTML = '';\n",
              "          dataTable['output_type'] = 'display_data';\n",
              "          await google.colab.output.renderOutput(dataTable, element);\n",
              "          const docLink = document.createElement('div');\n",
              "          docLink.innerHTML = docLinkHtml;\n",
              "          element.appendChild(docLink);\n",
              "        }\n",
              "      </script>\n",
              "    </div>\n",
              "  </div>\n",
              "  "
            ]
          },
          "metadata": {},
          "execution_count": 11
        }
      ]
    },
    {
      "cell_type": "code",
      "source": [
        "train_dataset.target.value_counts()"
      ],
      "metadata": {
        "colab": {
          "base_uri": "https://localhost:8080/"
        },
        "id": "wdODuQtyKOPe",
        "outputId": "62001b5f-c835-4410-d069-2248d18217fd"
      },
      "execution_count": 12,
      "outputs": [
        {
          "output_type": "execute_result",
          "data": {
            "text/plain": [
              "0    4342\n",
              "1    3271\n",
              "Name: target, dtype: int64"
            ]
          },
          "metadata": {},
          "execution_count": 12
        }
      ]
    },
    {
      "cell_type": "code",
      "source": [
        "import random\n",
        "random_index = random.randint(0,len(train_dataset)-5)\n",
        "for row in train_dataset_shuffled[[\"text\",\"target\"]][random_index:random_index+5].itertuples():\n",
        "  _,text,target = row\n",
        "  print(text,target)"
      ],
      "metadata": {
        "colab": {
          "base_uri": "https://localhost:8080/"
        },
        "id": "amAyy8FnKWSt",
        "outputId": "bb1c61e0-091a-4cc7-aca1-8535cf78a50e"
      },
      "execution_count": 13,
      "outputs": [
        {
          "output_type": "stream",
          "name": "stdout",
          "text": [
            "Families to sue over Legionnaires: More than 40 families affected by the fatal outbreak of Legionnaires' disea... http://t.co/2AO97o2a9D 1\n",
            "#Metro still doesn't know when Blue &amp; Orange lines will reopen. Empty passenger car derailed ~ 5 a.m. NOT a new 7000-series. @CQnow #WMATA 1\n",
            "Watch This Airport Get Swallowed Up By A Sandstorm In Under A Minute http://t.co/bgM4cSrbVd 1\n",
            "CONFIRMED: Sanchez Hazard and Bolasie will be out for the rest of the season. https://t.co/7Ct01nEptL 1\n",
            "Thanks a lot roadworks men cos a tube strike wasn't disruptive enough so having to walk the desolate route from Tottenham to ..... 1\n"
          ]
        }
      ]
    },
    {
      "cell_type": "markdown",
      "source": [
        "## Split Data into Training and Validation Sets"
      ],
      "metadata": {
        "id": "duJloEoULDTu"
      }
    },
    {
      "cell_type": "code",
      "source": [
        "from sklearn.model_selection import train_test_split"
      ],
      "metadata": {
        "id": "dyKcpoJGY4cn"
      },
      "execution_count": 14,
      "outputs": []
    },
    {
      "cell_type": "code",
      "source": [
        "train_sentences,val_sentences,train_labels,val_labels = train_test_split(\n",
        "    train_dataset_shuffled['text'].to_numpy(),\n",
        "    train_dataset_shuffled['target'].to_numpy(),\n",
        "    test_size = 0.1,\n",
        "    random_state = 42\n",
        "    )"
      ],
      "metadata": {
        "id": "2i9MS-CIZBiM"
      },
      "execution_count": 15,
      "outputs": []
    },
    {
      "cell_type": "code",
      "source": [
        "train_sentences[:10]"
      ],
      "metadata": {
        "colab": {
          "base_uri": "https://localhost:8080/"
        },
        "id": "W_LwLGJXZdgB",
        "outputId": "2cda6aad-b687-4130-ada5-f3f8cf63081a"
      },
      "execution_count": 16,
      "outputs": [
        {
          "output_type": "execute_result",
          "data": {
            "text/plain": [
              "array(['@mogacola @zamtriossu i screamed after hitting tweet',\n",
              "       'Imagine getting flattened by Kurt Zouma',\n",
              "       '@Gurmeetramrahim #MSGDoing111WelfareWorks Green S welfare force ke appx 65000 members har time disaster victim ki help ke liye tyar hai....',\n",
              "       \"@shakjn @C7 @Magnums im shaking in fear he's gonna hack the planet\",\n",
              "       'Somehow find you and I collide http://t.co/Ee8RpOahPk',\n",
              "       '@EvaHanderek @MarleyKnysh great times until the bus driver held us hostage in the mall parking lot lmfao',\n",
              "       'destroy the free fandom honestly',\n",
              "       'Weapons stolen from National Guard Armory in New Albany still missing #Gunsense http://t.co/lKNU8902JE',\n",
              "       '@wfaaweather Pete when will the heat wave pass? Is it really going to be mid month? Frisco Boy Scouts have a canoe trip in Okla.',\n",
              "       'Patient-reported outcomes in long-term survivors of metastatic colorectal cancer - British Journal of Surgery http://t.co/5Yl4DC1Tqt'],\n",
              "      dtype=object)"
            ]
          },
          "metadata": {},
          "execution_count": 16
        }
      ]
    },
    {
      "cell_type": "markdown",
      "source": [
        "## Tokenization and Embedding"
      ],
      "metadata": {
        "id": "zr9A0HozZhw-"
      }
    },
    {
      "cell_type": "markdown",
      "source": [
        "### Text Vectorization (Tokenization)"
      ],
      "metadata": {
        "id": "NTmZ269tboZo"
      }
    },
    {
      "cell_type": "code",
      "source": [
        "import tensorflow as tf\n",
        "from tensorflow.keras.layers.experimental.preprocessing import TextVectorization\n",
        "\n",
        "text_vectorizer = TextVectorization(\n",
        "    max_tokens = 10000,\n",
        "    standardize = \"lower_and_strip_punctuation\",\n",
        "    split = \"whitespace\",\n",
        "    ngrams = None,\n",
        "    output_mode = \"int\",\n",
        "    output_sequence_length = None,\n",
        "    pad_to_max_tokens = True,\n",
        "  )\n"
      ],
      "metadata": {
        "id": "VZ0emC78buGR"
      },
      "execution_count": 17,
      "outputs": []
    },
    {
      "cell_type": "code",
      "source": [
        "round(sum([len(i.split()) for i in train_sentences]))/len(train_sentences)"
      ],
      "metadata": {
        "colab": {
          "base_uri": "https://localhost:8080/"
        },
        "id": "og_6l5nnd-NR",
        "outputId": "7cdca21a-ca19-4d28-93b4-ace520b49cbc"
      },
      "execution_count": 18,
      "outputs": [
        {
          "output_type": "execute_result",
          "data": {
            "text/plain": [
              "14.901036345059115"
            ]
          },
          "metadata": {},
          "execution_count": 18
        }
      ]
    },
    {
      "cell_type": "markdown",
      "source": [
        "### Text Vecotrizer Variables"
      ],
      "metadata": {
        "id": "55IzDJMzeApA"
      }
    },
    {
      "cell_type": "code",
      "source": [
        "max_vocab_length = 10000\n",
        "max_length = 15\n",
        "text_vectorizer = TextVectorization(\n",
        "    max_tokens = max_vocab_length,\n",
        "    standardize = \"lower_and_strip_punctuation\",\n",
        "    split = \"whitespace\",\n",
        "    ngrams = None,\n",
        "    output_mode = \"int\",\n",
        "    output_sequence_length = max_length,\n",
        "    pad_to_max_tokens = True,\n",
        ")"
      ],
      "metadata": {
        "id": "XwHpUBYKeSgb"
      },
      "execution_count": 19,
      "outputs": []
    },
    {
      "cell_type": "code",
      "source": [
        "text_vectorizer.adapt(train_sentences)"
      ],
      "metadata": {
        "id": "1SHaEx0telR6"
      },
      "execution_count": 20,
      "outputs": []
    },
    {
      "cell_type": "code",
      "source": [
        "sample_sentence = \"Flood in my street\"\n",
        "text_vectorizer([sample_sentence])"
      ],
      "metadata": {
        "colab": {
          "base_uri": "https://localhost:8080/"
        },
        "id": "9wGAUqrTe5xv",
        "outputId": "4eb77c35-01b6-4bc8-a70e-3a9d8acabfea"
      },
      "execution_count": 21,
      "outputs": [
        {
          "output_type": "execute_result",
          "data": {
            "text/plain": [
              "<tf.Tensor: shape=(1, 15), dtype=int64, numpy=\n",
              "array([[232,   4,  13, 698,   0,   0,   0,   0,   0,   0,   0,   0,   0,\n",
              "          0,   0]])>"
            ]
          },
          "metadata": {},
          "execution_count": 21
        }
      ]
    },
    {
      "cell_type": "code",
      "source": [
        "random_sentences = random.choice(train_sentences)\n",
        "text_vectorizer([random_sentences])\n"
      ],
      "metadata": {
        "colab": {
          "base_uri": "https://localhost:8080/"
        },
        "id": "Q3-_CIL2fBhP",
        "outputId": "58f35a99-1cd1-4e7f-d602-a2f8230898b5"
      },
      "execution_count": 22,
      "outputs": [
        {
          "output_type": "execute_result",
          "data": {
            "text/plain": [
              "<tf.Tensor: shape=(1, 15), dtype=int64, numpy=\n",
              "array([[1487,    8,  168,   24, 1405,    5, 6927,  124, 7486, 1115,  574,\n",
              "        4630,   27, 1365,  308]])>"
            ]
          },
          "metadata": {},
          "execution_count": 22
        }
      ]
    },
    {
      "cell_type": "code",
      "source": [
        "words_in_vocab = text_vectorizer.get_vocabulary()\n",
        "top_5_words = words_in_vocab[:5]\n",
        "top_5_words"
      ],
      "metadata": {
        "colab": {
          "base_uri": "https://localhost:8080/"
        },
        "id": "E0Xnqw6qfX_p",
        "outputId": "34d69acc-be0e-4395-f010-8593173de622"
      },
      "execution_count": 23,
      "outputs": [
        {
          "output_type": "execute_result",
          "data": {
            "text/plain": [
              "['', '[UNK]', 'the', 'a', 'in']"
            ]
          },
          "metadata": {},
          "execution_count": 23
        }
      ]
    },
    {
      "cell_type": "markdown",
      "source": [
        "## Embedding Layer"
      ],
      "metadata": {
        "id": "asmcgI-2fn1R"
      }
    },
    {
      "cell_type": "code",
      "source": [
        "from tensorflow.keras import layers\n",
        "embedding = layers.Embedding(input_dim = max_vocab_length,\n",
        "      output_dim = 128,\n",
        "      input_length = max_length\n",
        "                                   \n",
        ")\n",
        "embedding"
      ],
      "metadata": {
        "colab": {
          "base_uri": "https://localhost:8080/"
        },
        "id": "MtD_AViV4eKj",
        "outputId": "c38f7dc0-f8c7-4c85-9006-4cc6e9b6d6c2"
      },
      "execution_count": 24,
      "outputs": [
        {
          "output_type": "execute_result",
          "data": {
            "text/plain": [
              "<keras.layers.core.embedding.Embedding at 0x7f7cd838d8b0>"
            ]
          },
          "metadata": {},
          "execution_count": 24
        }
      ]
    },
    {
      "cell_type": "code",
      "source": [
        "random_sentence = random.choice(train_sentences)\n",
        "print(random_sentence)\n",
        "embedded_sentence = embedding(text_vectorizer(random_sentence))\n",
        "print(embedded_sentence)"
      ],
      "metadata": {
        "colab": {
          "base_uri": "https://localhost:8080/"
        },
        "id": "c9fCRP1s5sP0",
        "outputId": "08396e81-237a-4256-9ff1-d2ce69843fd1"
      },
      "execution_count": 25,
      "outputs": [
        {
          "output_type": "stream",
          "name": "stdout",
          "text": [
            "British bake off was great pretty hilarious moments #mudslide\n",
            "tf.Tensor(\n",
            "[[ 0.02246429 -0.04697264  0.01227294 ... -0.03121109  0.04333926\n",
            "  -0.00019959]\n",
            " [ 0.04533006 -0.00397581 -0.0185702  ...  0.00931972  0.02262839\n",
            "  -0.0197663 ]\n",
            " [-0.01376421  0.00629078  0.04598371 ... -0.01485877  0.0155566\n",
            "   0.01890535]\n",
            " ...\n",
            " [ 0.01424701 -0.02666005 -0.00709919 ...  0.00683524  0.04858894\n",
            "   0.0216768 ]\n",
            " [ 0.01424701 -0.02666005 -0.00709919 ...  0.00683524  0.04858894\n",
            "   0.0216768 ]\n",
            " [ 0.01424701 -0.02666005 -0.00709919 ...  0.00683524  0.04858894\n",
            "   0.0216768 ]], shape=(15, 128), dtype=float32)\n"
          ]
        }
      ]
    },
    {
      "cell_type": "markdown",
      "source": [
        "## Model 0 : Naive Bayes (Baseline)"
      ],
      "metadata": {
        "id": "9sVS93YrG3TS"
      }
    },
    {
      "cell_type": "code",
      "source": [
        "from sklearn.feature_extraction.text import TfidfVectorizer\n",
        "from sklearn.naive_bayes import MultinomialNB\n",
        "from sklearn.pipeline import Pipeline\n",
        "\n",
        "model_0 = Pipeline([\n",
        "    (\"tfidf\",TfidfVectorizer()), #convert words to numbers,\n",
        "    (\"clf\",MultinomialNB()), #model the text,\n",
        "])\n",
        "model_0.fit(train_sentences,train_labels)"
      ],
      "metadata": {
        "colab": {
          "base_uri": "https://localhost:8080/"
        },
        "id": "AhvRs5uOKDzg",
        "outputId": "80656d2c-30ed-46a7-ca12-cf3c07e39fb4"
      },
      "execution_count": 26,
      "outputs": [
        {
          "output_type": "execute_result",
          "data": {
            "text/plain": [
              "Pipeline(steps=[('tfidf', TfidfVectorizer()), ('clf', MultinomialNB())])"
            ]
          },
          "metadata": {},
          "execution_count": 26
        }
      ]
    },
    {
      "cell_type": "code",
      "source": [
        "base_line_score = model_0.score(val_sentences,val_labels)"
      ],
      "metadata": {
        "id": "BZt57RlGLI8k"
      },
      "execution_count": 27,
      "outputs": []
    },
    {
      "cell_type": "code",
      "source": [
        "base_line_score"
      ],
      "metadata": {
        "colab": {
          "base_uri": "https://localhost:8080/"
        },
        "id": "cXN43uB5Ma69",
        "outputId": "a4c86def-db63-4732-dcf4-e8d1dac30262"
      },
      "execution_count": 28,
      "outputs": [
        {
          "output_type": "execute_result",
          "data": {
            "text/plain": [
              "0.7926509186351706"
            ]
          },
          "metadata": {},
          "execution_count": 28
        }
      ]
    },
    {
      "cell_type": "code",
      "source": [
        "base_line_predict = model_0.predict(val_sentences)\n",
        "base_line_predict[:20]"
      ],
      "metadata": {
        "colab": {
          "base_uri": "https://localhost:8080/"
        },
        "id": "I0Ud5bl5Mcq0",
        "outputId": "d6c3f2c7-b440-4b28-df7b-5808ebe14890"
      },
      "execution_count": 29,
      "outputs": [
        {
          "output_type": "execute_result",
          "data": {
            "text/plain": [
              "array([1, 1, 1, 0, 0, 1, 1, 1, 1, 0, 0, 1, 0, 0, 0, 0, 0, 0, 0, 1])"
            ]
          },
          "metadata": {},
          "execution_count": 29
        }
      ]
    },
    {
      "cell_type": "markdown",
      "source": [
        "## Creating functions to compare model experiments"
      ],
      "metadata": {
        "id": "UeZRMecbM0Ye"
      }
    },
    {
      "cell_type": "code",
      "source": [
        "from sklearn.metrics import accuracy_score,precision_recall_fscore_support\n",
        "\n",
        "def calculate_results(y_true,y_pred):\n",
        "  model_accuracy = accuracy_score(y_true,y_pred)*100\n",
        "  model_precision,model_recall,model_f1,_ = precision_recall_fscore_support(y_true,y_pred,average = \"weighted\")\n",
        "  model_results = {\n",
        "      \"accuracy\":model_accuracy,\n",
        "      \"precision\":model_precision,\n",
        "      \"recall\":model_recall,\n",
        "      \"f1\":model_f1\n",
        "  }\n",
        "  return model_results"
      ],
      "metadata": {
        "id": "zQ4NA5oONZdm"
      },
      "execution_count": 30,
      "outputs": []
    },
    {
      "cell_type": "code",
      "source": [
        "base_line_results = calculate_results(val_labels,base_line_predict)\n",
        "base_line_results"
      ],
      "metadata": {
        "colab": {
          "base_uri": "https://localhost:8080/"
        },
        "id": "92UNy2rmOV9H",
        "outputId": "10a4f7f4-822d-421f-ce71-91bc03bdf8f1"
      },
      "execution_count": 31,
      "outputs": [
        {
          "output_type": "execute_result",
          "data": {
            "text/plain": [
              "{'accuracy': 79.26509186351706,\n",
              " 'precision': 0.8111390004213173,\n",
              " 'recall': 0.7926509186351706,\n",
              " 'f1': 0.7862189758049549}"
            ]
          },
          "metadata": {},
          "execution_count": 31
        }
      ]
    },
    {
      "cell_type": "markdown",
      "source": [
        "## Model 1: Simple Dense Model"
      ],
      "metadata": {
        "id": "3DQouizaOvw2"
      }
    },
    {
      "cell_type": "code",
      "source": [
        "from helper_functions import create_tensorboard_callback\n",
        "SAVE_DIR = \"model_logs\""
      ],
      "metadata": {
        "id": "JSNzpKYGKqqF"
      },
      "execution_count": 32,
      "outputs": []
    },
    {
      "cell_type": "code",
      "source": [
        "from tensorflow.keras import layers\n",
        "\n",
        "inputs = layers.Input(shape = (1,),dtype = tf.string)\n",
        "x = text_vectorizer(inputs)\n",
        "x = embedding(x)\n",
        "x = layers.GlobalMaxPool1D()(x)\n",
        "outputs = layers.Dense(1,activation = \"sigmoid\")(x)\n",
        "model_1 = tf.keras.Model(inputs,outputs,name = \"model_1_dense\")"
      ],
      "metadata": {
        "id": "o-6T-HzQKwKj"
      },
      "execution_count": 33,
      "outputs": []
    },
    {
      "cell_type": "code",
      "source": [
        "model_1.summary()"
      ],
      "metadata": {
        "colab": {
          "base_uri": "https://localhost:8080/"
        },
        "id": "hkIQWUVNLouL",
        "outputId": "5ad9b8b1-062c-48e3-9578-b40b5dc10ee9"
      },
      "execution_count": 34,
      "outputs": [
        {
          "output_type": "stream",
          "name": "stdout",
          "text": [
            "Model: \"model_1_dense\"\n",
            "_________________________________________________________________\n",
            " Layer (type)                Output Shape              Param #   \n",
            "=================================================================\n",
            " input_1 (InputLayer)        [(None, 1)]               0         \n",
            "                                                                 \n",
            " text_vectorization_1 (TextV  (None, 15)               0         \n",
            " ectorization)                                                   \n",
            "                                                                 \n",
            " embedding (Embedding)       (None, 15, 128)           1280000   \n",
            "                                                                 \n",
            " global_max_pooling1d (Globa  (None, 128)              0         \n",
            " lMaxPooling1D)                                                  \n",
            "                                                                 \n",
            " dense (Dense)               (None, 1)                 129       \n",
            "                                                                 \n",
            "=================================================================\n",
            "Total params: 1,280,129\n",
            "Trainable params: 1,280,129\n",
            "Non-trainable params: 0\n",
            "_________________________________________________________________\n"
          ]
        }
      ]
    },
    {
      "cell_type": "code",
      "source": [
        "model_1.compile(loss = \"binary_crossentropy\",\n",
        "    optimizer = tf.keras.optimizers.Adam(),\n",
        "    metrics = ['accuracy'])"
      ],
      "metadata": {
        "id": "6vE0XF8bLqF9"
      },
      "execution_count": 35,
      "outputs": []
    },
    {
      "cell_type": "code",
      "source": [
        "model_1_history = model_1.fit(\n",
        "    x = train_sentences,y = train_labels,\n",
        "    epochs = 5,\n",
        "    validation_data = (val_sentences,val_labels),\n",
        "    callbacks = [create_tensorboard_callback(dir_name = SAVE_DIR,experiment_name = \"model_1_dense\")]\n",
        "    )"
      ],
      "metadata": {
        "colab": {
          "base_uri": "https://localhost:8080/"
        },
        "id": "Q7zjvjeAMCwQ",
        "outputId": "249e2c85-c70b-4802-ccae-b232f326d1a7"
      },
      "execution_count": 36,
      "outputs": [
        {
          "output_type": "stream",
          "name": "stdout",
          "text": [
            "Saving TensorBoard log files to: model_logs/model_1_dense/20230224-183834\n",
            "Epoch 1/5\n",
            "215/215 [==============================] - 36s 152ms/step - loss: 0.6377 - accuracy: 0.6536 - val_loss: 0.5742 - val_accuracy: 0.7585\n",
            "Epoch 2/5\n",
            "215/215 [==============================] - 4s 17ms/step - loss: 0.4724 - accuracy: 0.8240 - val_loss: 0.4764 - val_accuracy: 0.7769\n",
            "Epoch 3/5\n",
            "215/215 [==============================] - 2s 11ms/step - loss: 0.3431 - accuracy: 0.8775 - val_loss: 0.4562 - val_accuracy: 0.7822\n",
            "Epoch 4/5\n",
            "215/215 [==============================] - 4s 19ms/step - loss: 0.2587 - accuracy: 0.9085 - val_loss: 0.4600 - val_accuracy: 0.7874\n",
            "Epoch 5/5\n",
            "215/215 [==============================] - 2s 10ms/step - loss: 0.1984 - accuracy: 0.9330 - val_loss: 0.4696 - val_accuracy: 0.7848\n"
          ]
        }
      ]
    },
    {
      "cell_type": "code",
      "source": [
        "model_1.evaluate(val_sentences,val_labels)"
      ],
      "metadata": {
        "colab": {
          "base_uri": "https://localhost:8080/"
        },
        "id": "gKIjgENyMXjC",
        "outputId": "42729708-2d50-40cb-dd76-03df83465794"
      },
      "execution_count": 37,
      "outputs": [
        {
          "output_type": "stream",
          "name": "stdout",
          "text": [
            "24/24 [==============================] - 0s 3ms/step - loss: 0.4696 - accuracy: 0.7848\n"
          ]
        },
        {
          "output_type": "execute_result",
          "data": {
            "text/plain": [
              "[0.4695885479450226, 0.7847769260406494]"
            ]
          },
          "metadata": {},
          "execution_count": 37
        }
      ]
    },
    {
      "cell_type": "code",
      "source": [
        "model_1_pred_probs = model_1.predict(val_sentences)\n",
        "model_1_pred_probs.shape"
      ],
      "metadata": {
        "colab": {
          "base_uri": "https://localhost:8080/"
        },
        "id": "84S6fNi9NkkW",
        "outputId": "c6d52692-7259-4727-fd32-209c868c0a70"
      },
      "execution_count": 38,
      "outputs": [
        {
          "output_type": "stream",
          "name": "stdout",
          "text": [
            "24/24 [==============================] - 0s 3ms/step\n"
          ]
        },
        {
          "output_type": "execute_result",
          "data": {
            "text/plain": [
              "(762, 1)"
            ]
          },
          "metadata": {},
          "execution_count": 38
        }
      ]
    },
    {
      "cell_type": "code",
      "source": [
        "model_1_pred_probs[10]"
      ],
      "metadata": {
        "colab": {
          "base_uri": "https://localhost:8080/"
        },
        "id": "0JR-8bsBNrSB",
        "outputId": "81e87ebb-d7dc-4f58-c1fc-f4632947693f"
      },
      "execution_count": 39,
      "outputs": [
        {
          "output_type": "execute_result",
          "data": {
            "text/plain": [
              "array([0.21758638], dtype=float32)"
            ]
          },
          "metadata": {},
          "execution_count": 39
        }
      ]
    },
    {
      "cell_type": "code",
      "source": [
        "model_1_preds = tf.squeeze(tf.round(model_1_pred_probs))"
      ],
      "metadata": {
        "id": "NQSzOvsINtxz"
      },
      "execution_count": 40,
      "outputs": []
    },
    {
      "cell_type": "code",
      "source": [
        "model_1_preds[:20]"
      ],
      "metadata": {
        "colab": {
          "base_uri": "https://localhost:8080/"
        },
        "id": "dF7XhcmJPTKm",
        "outputId": "8d1b488f-ff93-4807-d2b9-9ee349867a1c"
      },
      "execution_count": 41,
      "outputs": [
        {
          "output_type": "execute_result",
          "data": {
            "text/plain": [
              "<tf.Tensor: shape=(20,), dtype=float32, numpy=\n",
              "array([1., 1., 1., 0., 0., 1., 1., 1., 1., 0., 0., 1., 0., 0., 0., 0., 0.,\n",
              "       0., 0., 1.], dtype=float32)>"
            ]
          },
          "metadata": {},
          "execution_count": 41
        }
      ]
    },
    {
      "cell_type": "code",
      "source": [
        "model_1_results = calculate_results(y_true = val_labels,y_pred = model_1_preds)\n",
        "model_1_results"
      ],
      "metadata": {
        "colab": {
          "base_uri": "https://localhost:8080/"
        },
        "id": "-58DZ8rrPVLe",
        "outputId": "104f7a7c-e349-4753-850b-9f42fd9222ef"
      },
      "execution_count": 42,
      "outputs": [
        {
          "output_type": "execute_result",
          "data": {
            "text/plain": [
              "{'accuracy': 78.4776902887139,\n",
              " 'precision': 0.7880247798695493,\n",
              " 'recall': 0.7847769028871391,\n",
              " 'f1': 0.7823139263800303}"
            ]
          },
          "metadata": {},
          "execution_count": 42
        }
      ]
    },
    {
      "cell_type": "markdown",
      "source": [
        "## Visualizing Learned Embeddings"
      ],
      "metadata": {
        "id": "9S5fRmW4Pcn-"
      }
    },
    {
      "cell_type": "code",
      "source": [
        "words_in_vocab = text_vectorizer.get_vocabulary()\n",
        "len(words_in_vocab)"
      ],
      "metadata": {
        "colab": {
          "base_uri": "https://localhost:8080/"
        },
        "id": "WJbn8UAxQG3a",
        "outputId": "1794342a-051f-4ede-a835-4e5b46bb0307"
      },
      "execution_count": 43,
      "outputs": [
        {
          "output_type": "execute_result",
          "data": {
            "text/plain": [
              "10000"
            ]
          },
          "metadata": {},
          "execution_count": 43
        }
      ]
    },
    {
      "cell_type": "code",
      "source": [
        "model_1.summary()"
      ],
      "metadata": {
        "colab": {
          "base_uri": "https://localhost:8080/"
        },
        "id": "UcjvHOQIQeQT",
        "outputId": "828415d4-8dea-4f50-fbfc-6b0cd124cab9"
      },
      "execution_count": 44,
      "outputs": [
        {
          "output_type": "stream",
          "name": "stdout",
          "text": [
            "Model: \"model_1_dense\"\n",
            "_________________________________________________________________\n",
            " Layer (type)                Output Shape              Param #   \n",
            "=================================================================\n",
            " input_1 (InputLayer)        [(None, 1)]               0         \n",
            "                                                                 \n",
            " text_vectorization_1 (TextV  (None, 15)               0         \n",
            " ectorization)                                                   \n",
            "                                                                 \n",
            " embedding (Embedding)       (None, 15, 128)           1280000   \n",
            "                                                                 \n",
            " global_max_pooling1d (Globa  (None, 128)              0         \n",
            " lMaxPooling1D)                                                  \n",
            "                                                                 \n",
            " dense (Dense)               (None, 1)                 129       \n",
            "                                                                 \n",
            "=================================================================\n",
            "Total params: 1,280,129\n",
            "Trainable params: 1,280,129\n",
            "Non-trainable params: 0\n",
            "_________________________________________________________________\n"
          ]
        }
      ]
    },
    {
      "cell_type": "code",
      "source": [
        "embed_weights = model_1.get_layer(\"embedding\").get_weights()[0]"
      ],
      "metadata": {
        "id": "qTLa7QFIQNio"
      },
      "execution_count": 45,
      "outputs": []
    },
    {
      "cell_type": "code",
      "source": [
        "embed_weights.shape"
      ],
      "metadata": {
        "colab": {
          "base_uri": "https://localhost:8080/"
        },
        "id": "iNefo8siQbCs",
        "outputId": "c89f5036-c2af-42b1-ac27-cd7888eadfa9"
      },
      "execution_count": 46,
      "outputs": [
        {
          "output_type": "execute_result",
          "data": {
            "text/plain": [
              "(10000, 128)"
            ]
          },
          "metadata": {},
          "execution_count": 46
        }
      ]
    },
    {
      "cell_type": "code",
      "source": [
        "embed_weights"
      ],
      "metadata": {
        "colab": {
          "base_uri": "https://localhost:8080/"
        },
        "id": "-7ye0RJdQcKD",
        "outputId": "81347ae4-efe3-42bb-f879-bd5ab1d1ab74"
      },
      "execution_count": 47,
      "outputs": [
        {
          "output_type": "execute_result",
          "data": {
            "text/plain": [
              "array([[-0.06864508, -0.02579901, -0.03377311, ..., -0.02094769,\n",
              "         0.17260909, -0.0248047 ],\n",
              "       [-0.07258762, -0.02783629, -0.05852331, ..., -0.03422688,\n",
              "        -0.04343431, -0.02693323],\n",
              "       [-0.04522338, -0.03535008, -0.04859307, ..., -0.04885658,\n",
              "        -0.02673205, -0.0393073 ],\n",
              "       ...,\n",
              "       [ 0.02307084, -0.03365733,  0.04772821, ..., -0.03407582,\n",
              "         0.00173529, -0.00776883],\n",
              "       [ 0.04248806,  0.00704304, -0.02734864, ...,  0.02432572,\n",
              "         0.07972275,  0.03453425],\n",
              "       [-0.06070052,  0.04250436, -0.03178068, ..., -0.02614878,\n",
              "        -0.02609077,  0.02151337]], dtype=float32)"
            ]
          },
          "metadata": {},
          "execution_count": 47
        }
      ]
    },
    {
      "cell_type": "markdown",
      "source": [
        "## Recurrent Neural Network"
      ],
      "metadata": {
        "id": "mb0yDzKZQtp1"
      }
    },
    {
      "cell_type": "markdown",
      "source": [
        "### Model 2: LSTM"
      ],
      "metadata": {
        "id": "_GZwa6Hp5eX5"
      }
    },
    {
      "cell_type": "code",
      "source": [
        "from tensorflow.keras import layers\n",
        "inputs = layers.Input(shape = (1,),dtype = \"string\")\n",
        "x = text_vectorizer(inputs)\n",
        "x = embedding(x)\n",
        "print(x.shape)\n",
        "x = layers.LSTM(64,return_sequences = True)(x) # When we are stacking we need return_sequences = True\n",
        "print(x.shape)\n",
        "x = layers.LSTM(64)(x)\n",
        "print(x.shape)\n",
        "x = layers.Dense(64,activation = \"relu\")(x)\n",
        "outputs = layers.Dense(1,activation = \"sigmoid\")(x)\n",
        "model_2 = tf.keras.Model(inputs,outputs,name = \"model_2_LSTM\")"
      ],
      "metadata": {
        "colab": {
          "base_uri": "https://localhost:8080/"
        },
        "id": "LYHkZcJU7j9L",
        "outputId": "1808a0b8-74e3-4740-aafc-9148b238fa6f"
      },
      "execution_count": 48,
      "outputs": [
        {
          "output_type": "stream",
          "name": "stdout",
          "text": [
            "(None, 15, 128)\n",
            "(None, 15, 64)\n",
            "(None, 64)\n"
          ]
        }
      ]
    },
    {
      "cell_type": "code",
      "source": [
        "model_2.compile(loss = \"binary_crossentropy\",optimizer = \"adam\",metrics = ['accuracy'])"
      ],
      "metadata": {
        "id": "uYCbEN_q84rX"
      },
      "execution_count": 49,
      "outputs": []
    },
    {
      "cell_type": "code",
      "source": [
        "model_2_history = model_2.fit(train_sentences,train_labels,epochs = 5,\n",
        "            validation_data = (val_sentences,val_labels),\n",
        "            callbacks = [create_tensorboard_callback(dir_name = SAVE_DIR,experiment_name = \"model_2_lstm\")]\n",
        "            )"
      ],
      "metadata": {
        "colab": {
          "base_uri": "https://localhost:8080/"
        },
        "id": "IQHJd7hI-Q4L",
        "outputId": "a98b28fb-2ef7-4248-df5a-8070356ec9fa"
      },
      "execution_count": 50,
      "outputs": [
        {
          "output_type": "stream",
          "name": "stdout",
          "text": [
            "Saving TensorBoard log files to: model_logs/model_2_lstm/20230224-183924\n",
            "Epoch 1/5\n",
            "215/215 [==============================] - 15s 44ms/step - loss: 0.3778 - accuracy: 0.8324 - val_loss: 0.4622 - val_accuracy: 0.7861\n",
            "Epoch 2/5\n",
            "215/215 [==============================] - 3s 12ms/step - loss: 0.2470 - accuracy: 0.9009 - val_loss: 0.4680 - val_accuracy: 0.7927\n",
            "Epoch 3/5\n",
            "215/215 [==============================] - 3s 15ms/step - loss: 0.1800 - accuracy: 0.9311 - val_loss: 0.5960 - val_accuracy: 0.7743\n",
            "Epoch 4/5\n",
            "215/215 [==============================] - 2s 10ms/step - loss: 0.1324 - accuracy: 0.9510 - val_loss: 0.7398 - val_accuracy: 0.7756\n",
            "Epoch 5/5\n",
            "215/215 [==============================] - 2s 9ms/step - loss: 0.1012 - accuracy: 0.9599 - val_loss: 1.0578 - val_accuracy: 0.7612\n"
          ]
        }
      ]
    },
    {
      "cell_type": "code",
      "source": [
        "model_2_pred_probs = model_2.predict(val_sentences)\n",
        "model_2_pred_probs[:10]"
      ],
      "metadata": {
        "colab": {
          "base_uri": "https://localhost:8080/"
        },
        "id": "Dyohc-t8-zS9",
        "outputId": "a4fcbc7f-9181-4019-932c-b01dfd0a702f"
      },
      "execution_count": 51,
      "outputs": [
        {
          "output_type": "stream",
          "name": "stdout",
          "text": [
            "24/24 [==============================] - 1s 4ms/step\n"
          ]
        },
        {
          "output_type": "execute_result",
          "data": {
            "text/plain": [
              "array([[0.01341213],\n",
              "       [0.97285277],\n",
              "       [0.99987113],\n",
              "       [0.01518233],\n",
              "       [0.00331236],\n",
              "       [0.9999021 ],\n",
              "       [0.9924878 ],\n",
              "       [0.9999765 ],\n",
              "       [0.99996805],\n",
              "       [0.7419266 ]], dtype=float32)"
            ]
          },
          "metadata": {},
          "execution_count": 51
        }
      ]
    },
    {
      "cell_type": "code",
      "source": [
        "model_2_preds = tf.squeeze(tf.round(model_2_pred_probs))"
      ],
      "metadata": {
        "id": "wpdJgBiN_WzT"
      },
      "execution_count": 52,
      "outputs": []
    },
    {
      "cell_type": "code",
      "source": [
        "model_2_preds[:10]"
      ],
      "metadata": {
        "colab": {
          "base_uri": "https://localhost:8080/"
        },
        "id": "xKQL3-um_aiN",
        "outputId": "4d78726b-3f29-4721-fef1-47ed99508388"
      },
      "execution_count": 53,
      "outputs": [
        {
          "output_type": "execute_result",
          "data": {
            "text/plain": [
              "<tf.Tensor: shape=(10,), dtype=float32, numpy=array([0., 1., 1., 0., 0., 1., 1., 1., 1., 1.], dtype=float32)>"
            ]
          },
          "metadata": {},
          "execution_count": 53
        }
      ]
    },
    {
      "cell_type": "code",
      "source": [
        "calculate_results(val_labels,model_2_preds)"
      ],
      "metadata": {
        "colab": {
          "base_uri": "https://localhost:8080/"
        },
        "id": "6i-4LnDr_baw",
        "outputId": "0c466af4-17b0-463b-eda6-a2b6d815aea7"
      },
      "execution_count": 54,
      "outputs": [
        {
          "output_type": "execute_result",
          "data": {
            "text/plain": [
              "{'accuracy': 76.11548556430446,\n",
              " 'precision': 0.7607410097018414,\n",
              " 'recall': 0.7611548556430446,\n",
              " 'f1': 0.760689014360106}"
            ]
          },
          "metadata": {},
          "execution_count": 54
        }
      ]
    },
    {
      "cell_type": "markdown",
      "source": [
        "### Model-3 GRU Powered RNN"
      ],
      "metadata": {
        "id": "LUDP_nyS_ekh"
      }
    },
    {
      "cell_type": "code",
      "source": [
        "from tensorflow.keras import layers\n",
        "inputs = layers.Input(shape = (1,),dtype = \"string\")\n",
        "x = text_vectorizer(inputs)\n",
        "x = embedding(x)\n",
        "x = layers.GRU(64)(x)\n",
        "#If returns sequences and stackings are true\n",
        "# x = layers.LSTM(64,return_sequences = True)(x)\n",
        "# x = layers.GRU(64)(x)\n",
        "# x = layers.Dense(64,activation = \"relu\")(x)\n",
        "# x = layers.GlobalAveragePooling1D()(x)\n",
        "outputs = layers.Dense(1,activation = \"sigmoid\")(x)\n",
        "model_3 = tf.keras.Model(inputs,outputs,name = \"model_3_GRU\")"
      ],
      "metadata": {
        "id": "TjM1b578_seC"
      },
      "execution_count": 55,
      "outputs": []
    },
    {
      "cell_type": "code",
      "source": [
        "model_3.summary()"
      ],
      "metadata": {
        "colab": {
          "base_uri": "https://localhost:8080/"
        },
        "id": "_kjRD8u0Byge",
        "outputId": "08f091d5-c17b-4ffe-becb-91408d5c3951"
      },
      "execution_count": 56,
      "outputs": [
        {
          "output_type": "stream",
          "name": "stdout",
          "text": [
            "Model: \"model_3_GRU\"\n",
            "_________________________________________________________________\n",
            " Layer (type)                Output Shape              Param #   \n",
            "=================================================================\n",
            " input_3 (InputLayer)        [(None, 1)]               0         \n",
            "                                                                 \n",
            " text_vectorization_1 (TextV  (None, 15)               0         \n",
            " ectorization)                                                   \n",
            "                                                                 \n",
            " embedding (Embedding)       (None, 15, 128)           1280000   \n",
            "                                                                 \n",
            " gru (GRU)                   (None, 64)                37248     \n",
            "                                                                 \n",
            " dense_3 (Dense)             (None, 1)                 65        \n",
            "                                                                 \n",
            "=================================================================\n",
            "Total params: 1,317,313\n",
            "Trainable params: 1,317,313\n",
            "Non-trainable params: 0\n",
            "_________________________________________________________________\n"
          ]
        }
      ]
    },
    {
      "cell_type": "code",
      "source": [
        "model_3.compile(loss = \"binary_crossentropy\",metrics = ['accuracy'],optimizer = \"adam\")"
      ],
      "metadata": {
        "id": "JGlIdcMSA8jC"
      },
      "execution_count": 57,
      "outputs": []
    },
    {
      "cell_type": "code",
      "source": [
        "model_3_history = model_3.fit(train_sentences,train_labels,epochs = 5,\n",
        "            validation_data = (val_sentences,val_labels),\n",
        "            callbacks = [create_tensorboard_callback(dir_name = SAVE_DIR,experiment_name = \"model_3_gru\")]\n",
        "            )"
      ],
      "metadata": {
        "colab": {
          "base_uri": "https://localhost:8080/"
        },
        "id": "fr8ekwVZB2-n",
        "outputId": "4e2f92c8-eaf1-458d-a850-e6f49413ab65"
      },
      "execution_count": 58,
      "outputs": [
        {
          "output_type": "stream",
          "name": "stdout",
          "text": [
            "Saving TensorBoard log files to: model_logs/model_3_gru/20230224-184009\n",
            "Epoch 1/5\n",
            "215/215 [==============================] - 10s 35ms/step - loss: 0.2066 - accuracy: 0.9115 - val_loss: 0.6942 - val_accuracy: 0.7874\n",
            "Epoch 2/5\n",
            "215/215 [==============================] - 5s 22ms/step - loss: 0.1002 - accuracy: 0.9663 - val_loss: 0.6262 - val_accuracy: 0.7730\n",
            "Epoch 3/5\n",
            "215/215 [==============================] - 2s 10ms/step - loss: 0.0841 - accuracy: 0.9723 - val_loss: 0.7686 - val_accuracy: 0.7769\n",
            "Epoch 4/5\n",
            "215/215 [==============================] - 2s 9ms/step - loss: 0.0676 - accuracy: 0.9740 - val_loss: 0.9606 - val_accuracy: 0.7677\n",
            "Epoch 5/5\n",
            "215/215 [==============================] - 2s 8ms/step - loss: 0.0577 - accuracy: 0.9743 - val_loss: 1.0022 - val_accuracy: 0.7677\n"
          ]
        }
      ]
    },
    {
      "cell_type": "code",
      "source": [
        "model_3_pred_probs = model_3.predict(val_sentences)\n",
        "model_3_pred_probs[:10]"
      ],
      "metadata": {
        "colab": {
          "base_uri": "https://localhost:8080/"
        },
        "id": "phdbEJEOCQyX",
        "outputId": "eadebd53-ebb5-40bb-ddde-265fdd545aa9"
      },
      "execution_count": 59,
      "outputs": [
        {
          "output_type": "stream",
          "name": "stdout",
          "text": [
            "24/24 [==============================] - 0s 3ms/step\n"
          ]
        },
        {
          "output_type": "execute_result",
          "data": {
            "text/plain": [
              "array([[0.01678198],\n",
              "       [0.8120505 ],\n",
              "       [0.99975795],\n",
              "       [0.06855877],\n",
              "       [0.00140588],\n",
              "       [0.9997271 ],\n",
              "       [0.9667712 ],\n",
              "       [0.9999    ],\n",
              "       [0.999866  ],\n",
              "       [0.9573984 ]], dtype=float32)"
            ]
          },
          "metadata": {},
          "execution_count": 59
        }
      ]
    },
    {
      "cell_type": "code",
      "source": [
        "model_3_pred = tf.squeeze(tf.round(model_3_pred_probs))"
      ],
      "metadata": {
        "id": "nNLoxsFYChY_"
      },
      "execution_count": 60,
      "outputs": []
    },
    {
      "cell_type": "code",
      "source": [
        "model_3_pred[:10]"
      ],
      "metadata": {
        "colab": {
          "base_uri": "https://localhost:8080/"
        },
        "id": "cjJS5KK9Ctag",
        "outputId": "5a54e16c-89fc-4e0d-fbd4-d325061357e3"
      },
      "execution_count": 61,
      "outputs": [
        {
          "output_type": "execute_result",
          "data": {
            "text/plain": [
              "<tf.Tensor: shape=(10,), dtype=float32, numpy=array([0., 1., 1., 0., 0., 1., 1., 1., 1., 1.], dtype=float32)>"
            ]
          },
          "metadata": {},
          "execution_count": 61
        }
      ]
    },
    {
      "cell_type": "code",
      "source": [
        "calculate_results(model_3_pred,val_labels)"
      ],
      "metadata": {
        "colab": {
          "base_uri": "https://localhost:8080/"
        },
        "id": "BnbWNXj6Coo_",
        "outputId": "f7a9d8e0-3b47-489a-b9dc-f43d7a437a7f"
      },
      "execution_count": 62,
      "outputs": [
        {
          "output_type": "execute_result",
          "data": {
            "text/plain": [
              "{'accuracy': 76.77165354330708,\n",
              " 'precision': 0.7764212819224684,\n",
              " 'recall': 0.7677165354330708,\n",
              " 'f1': 0.7696307116337471}"
            ]
          },
          "metadata": {},
          "execution_count": 62
        }
      ]
    },
    {
      "cell_type": "markdown",
      "source": [
        "### Model-4 Bidirectional RNN"
      ],
      "metadata": {
        "id": "s-Nez79SCrEK"
      }
    },
    {
      "cell_type": "code",
      "source": [
        "from tensorflow.keras import layers\n",
        "inputs = layers.Input(shape = (1,),dtype = tf.string)\n",
        "x = text_vectorizer(inputs)\n",
        "x = embedding(x)\n",
        "x = layers.Bidirectional(layers.LSTM(64,return_sequences = True))(x)\n",
        "x = layers.Bidirectional(layers.LSTM(64))(x)\n",
        "outputs = layers.Dense(1,activation = \"sigmoid\",)(x)\n",
        "model_4 = tf.keras.Model(inputs,outputs)"
      ],
      "metadata": {
        "id": "6FCZsF3vcSfq"
      },
      "execution_count": 63,
      "outputs": []
    },
    {
      "cell_type": "code",
      "source": [
        "model_4.summary()"
      ],
      "metadata": {
        "colab": {
          "base_uri": "https://localhost:8080/"
        },
        "id": "o-J5CTeAdMOZ",
        "outputId": "b9efd79e-cdf7-4ee4-c29f-146f06ea2c3a"
      },
      "execution_count": 64,
      "outputs": [
        {
          "output_type": "stream",
          "name": "stdout",
          "text": [
            "Model: \"model\"\n",
            "_________________________________________________________________\n",
            " Layer (type)                Output Shape              Param #   \n",
            "=================================================================\n",
            " input_4 (InputLayer)        [(None, 1)]               0         \n",
            "                                                                 \n",
            " text_vectorization_1 (TextV  (None, 15)               0         \n",
            " ectorization)                                                   \n",
            "                                                                 \n",
            " embedding (Embedding)       (None, 15, 128)           1280000   \n",
            "                                                                 \n",
            " bidirectional (Bidirectiona  (None, 15, 128)          98816     \n",
            " l)                                                              \n",
            "                                                                 \n",
            " bidirectional_1 (Bidirectio  (None, 128)              98816     \n",
            " nal)                                                            \n",
            "                                                                 \n",
            " dense_4 (Dense)             (None, 1)                 129       \n",
            "                                                                 \n",
            "=================================================================\n",
            "Total params: 1,477,761\n",
            "Trainable params: 1,477,761\n",
            "Non-trainable params: 0\n",
            "_________________________________________________________________\n"
          ]
        }
      ]
    },
    {
      "cell_type": "code",
      "source": [
        "model_4.compile(loss = \"binary_crossentropy\",optimizer = \"adam\",metrics = ['accuracy'])"
      ],
      "metadata": {
        "id": "HFY6_ns0dW-B"
      },
      "execution_count": 65,
      "outputs": []
    },
    {
      "cell_type": "code",
      "source": [
        "mode_4_history = model_4.fit(\n",
        "    train_sentences,train_labels,epochs = 5,validation_data = (val_sentences,val_labels),\n",
        "    callbacks = [create_tensorboard_callback(dir_name = SAVE_DIR,experiment_name = \"model_4_bidirectional\")],\n",
        ")"
      ],
      "metadata": {
        "colab": {
          "base_uri": "https://localhost:8080/"
        },
        "id": "YpldkfBQdQne",
        "outputId": "27ee1a13-9906-4d63-b2e7-9b94ede09bd7"
      },
      "execution_count": 66,
      "outputs": [
        {
          "output_type": "stream",
          "name": "stdout",
          "text": [
            "Saving TensorBoard log files to: model_logs/model_4_bidirectional/20230224-184033\n",
            "Epoch 1/5\n",
            "215/215 [==============================] - 19s 49ms/step - loss: 0.1211 - accuracy: 0.9508 - val_loss: 0.9614 - val_accuracy: 0.7677\n",
            "Epoch 2/5\n",
            "215/215 [==============================] - 5s 21ms/step - loss: 0.0627 - accuracy: 0.9742 - val_loss: 1.1343 - val_accuracy: 0.7572\n",
            "Epoch 3/5\n",
            "215/215 [==============================] - 3s 13ms/step - loss: 0.0573 - accuracy: 0.9752 - val_loss: 1.2688 - val_accuracy: 0.7507\n",
            "Epoch 4/5\n",
            "215/215 [==============================] - 3s 12ms/step - loss: 0.0477 - accuracy: 0.9774 - val_loss: 1.5104 - val_accuracy: 0.7533\n",
            "Epoch 5/5\n",
            "215/215 [==============================] - 3s 12ms/step - loss: 0.0424 - accuracy: 0.9803 - val_loss: 1.6175 - val_accuracy: 0.7507\n"
          ]
        }
      ]
    },
    {
      "cell_type": "code",
      "source": [
        "model_4_preds = tf.squeeze(tf.round(model_4.predict(val_sentences)))"
      ],
      "metadata": {
        "colab": {
          "base_uri": "https://localhost:8080/"
        },
        "id": "MI_EtPhdd4oW",
        "outputId": "c52ea245-e55a-4c46-cfd4-842f6518be8c"
      },
      "execution_count": 67,
      "outputs": [
        {
          "output_type": "stream",
          "name": "stdout",
          "text": [
            "24/24 [==============================] - 1s 4ms/step\n"
          ]
        }
      ]
    },
    {
      "cell_type": "code",
      "source": [
        "calculate_results(val_labels,model_4_preds)"
      ],
      "metadata": {
        "colab": {
          "base_uri": "https://localhost:8080/"
        },
        "id": "IdmM_-CzeeHn",
        "outputId": "9b1205f4-39b3-4236-e19f-e052b1f211b6"
      },
      "execution_count": 68,
      "outputs": [
        {
          "output_type": "execute_result",
          "data": {
            "text/plain": [
              "{'accuracy': 75.06561679790026,\n",
              " 'precision': 0.7502044394332691,\n",
              " 'recall': 0.7506561679790026,\n",
              " 'f1': 0.7499080251314462}"
            ]
          },
          "metadata": {},
          "execution_count": 68
        }
      ]
    },
    {
      "cell_type": "markdown",
      "source": [
        "### Model-5: Conv1D "
      ],
      "metadata": {
        "id": "Zpt5xM_kepIw"
      }
    },
    {
      "cell_type": "code",
      "source": [
        "embedding_text = embedding(text_vectorizer(['this is a test sentence for embedding']))"
      ],
      "metadata": {
        "id": "Xzl2AaVzcFH9"
      },
      "execution_count": 69,
      "outputs": []
    },
    {
      "cell_type": "code",
      "source": [
        "embedding_text"
      ],
      "metadata": {
        "colab": {
          "base_uri": "https://localhost:8080/"
        },
        "id": "nnGzGMvJcZtl",
        "outputId": "df5201a5-3839-4c2e-bcc7-8b00cc747f49"
      },
      "execution_count": 70,
      "outputs": [
        {
          "output_type": "execute_result",
          "data": {
            "text/plain": [
              "<tf.Tensor: shape=(1, 15, 128), dtype=float32, numpy=\n",
              "array([[[-0.08600795,  0.01631243, -0.03170937, ..., -0.02751814,\n",
              "          0.05902931, -0.0316139 ],\n",
              "        [-0.0311207 , -0.04341822,  0.06094972, ..., -0.04119885,\n",
              "         -0.03134639, -0.06237734],\n",
              "        [-0.04356621, -0.02873161, -0.03112365, ..., -0.06071092,\n",
              "          0.03407941, -0.01306849],\n",
              "        ...,\n",
              "        [-0.03145347, -0.0335195 , -0.04517306, ..., -0.02211529,\n",
              "          0.02165598, -0.03727269],\n",
              "        [-0.03145347, -0.0335195 , -0.04517306, ..., -0.02211529,\n",
              "          0.02165598, -0.03727269],\n",
              "        [-0.03145347, -0.0335195 , -0.04517306, ..., -0.02211529,\n",
              "          0.02165598, -0.03727269]]], dtype=float32)>"
            ]
          },
          "metadata": {},
          "execution_count": 70
        }
      ]
    },
    {
      "cell_type": "code",
      "source": [
        "conv_1d = layers.Conv1D(filters = 32,\n",
        "kernel_size = 5,\n",
        "activation = \"relu\",\n",
        "padding = \"same\"\n",
        ")"
      ],
      "metadata": {
        "id": "MCwspiU6cbLQ"
      },
      "execution_count": 71,
      "outputs": []
    },
    {
      "cell_type": "code",
      "source": [
        "conv_1d_output = conv_1d(embedding_text)\n",
        "max_pool = layers.GlobalMaxPool1D()\n",
        "max_pool_output = max_pool(conv_1d_output)\n",
        "embedding_text.shape, conv_1d_output.shape,max_pool_output.shape"
      ],
      "metadata": {
        "colab": {
          "base_uri": "https://localhost:8080/"
        },
        "id": "--DWtJmSck8-",
        "outputId": "9a2c317a-3892-49c5-ba8d-874ce54908f1"
      },
      "execution_count": 72,
      "outputs": [
        {
          "output_type": "execute_result",
          "data": {
            "text/plain": [
              "(TensorShape([1, 15, 128]), TensorShape([1, 15, 32]), TensorShape([1, 32]))"
            ]
          },
          "metadata": {},
          "execution_count": 72
        }
      ]
    },
    {
      "cell_type": "code",
      "source": [
        "max_pool_output"
      ],
      "metadata": {
        "colab": {
          "base_uri": "https://localhost:8080/"
        },
        "id": "rRvk2jDTcwUe",
        "outputId": "b2e64584-218c-46e8-d869-bbc722335e57"
      },
      "execution_count": 73,
      "outputs": [
        {
          "output_type": "execute_result",
          "data": {
            "text/plain": [
              "<tf.Tensor: shape=(1, 32), dtype=float32, numpy=\n",
              "array([[0.06302737, 0.04825911, 0.08418755, 0.0143825 , 0.16377845,\n",
              "        0.04483651, 0.11332434, 0.07044762, 0.16334993, 0.10167639,\n",
              "        0.01638198, 0.06639749, 0.0343513 , 0.04789306, 0.10277443,\n",
              "        0.09729604, 0.00470778, 0.14300746, 0.05143233, 0.09150095,\n",
              "        0.08523276, 0.0345701 , 0.12690938, 0.0542984 , 0.09252821,\n",
              "        0.14955297, 0.06332579, 0.0186002 , 0.12559804, 0.04272746,\n",
              "        0.04967258, 0.11366573]], dtype=float32)>"
            ]
          },
          "metadata": {},
          "execution_count": 73
        }
      ]
    },
    {
      "cell_type": "code",
      "source": [
        "from tensorflow.keras import layers\n",
        "inputs = layers.Input(shape = (1,),dtype = tf.string)\n",
        "x = text_vectorizer(inputs)\n",
        "x = embedding(x)\n",
        "x = layers.Conv1D(filters = 64,kernel_size = 5,activation = \"relu\",padding = \"valid\")(x)\n",
        "x = layers.GlobalMaxPool1D()(x)\n",
        "outputs = layers.Dense(1,activation = \"sigmoid\")(x)\n",
        "model_5 = tf.keras.Model(inputs,outputs,name = \"model_5_conv1d\")"
      ],
      "metadata": {
        "id": "U6V7WqJRczmZ"
      },
      "execution_count": 74,
      "outputs": []
    },
    {
      "cell_type": "code",
      "source": [
        "model_5.compile(loss = \"binary_crossentropy\",optimizer = \"adam\",metrics = ['accuracy'])"
      ],
      "metadata": {
        "id": "iyLeykrNBMpa"
      },
      "execution_count": 75,
      "outputs": []
    },
    {
      "cell_type": "code",
      "source": [
        "mode_5_history = model_5.fit(\n",
        "    train_sentences,train_labels,epochs = 5,validation_data = (val_sentences,val_labels),\n",
        "    callbacks = [create_tensorboard_callback(dir_name = SAVE_DIR,experiment_name = \"model_5_conv\")],\n",
        ")"
      ],
      "metadata": {
        "colab": {
          "base_uri": "https://localhost:8080/"
        },
        "id": "1F_oToQfDLty",
        "outputId": "e8b761b9-3389-48f9-8b53-e36b85b0da01"
      },
      "execution_count": 76,
      "outputs": [
        {
          "output_type": "stream",
          "name": "stdout",
          "text": [
            "Saving TensorBoard log files to: model_logs/model_5_conv/20230224-184125\n",
            "Epoch 1/5\n",
            "215/215 [==============================] - 17s 64ms/step - loss: 0.1449 - accuracy: 0.9599 - val_loss: 0.8597 - val_accuracy: 0.7546\n",
            "Epoch 2/5\n",
            "215/215 [==============================] - 2s 11ms/step - loss: 0.0745 - accuracy: 0.9733 - val_loss: 0.9665 - val_accuracy: 0.7507\n",
            "Epoch 3/5\n",
            "215/215 [==============================] - 1s 7ms/step - loss: 0.0620 - accuracy: 0.9772 - val_loss: 1.0587 - val_accuracy: 0.7441\n",
            "Epoch 4/5\n",
            "215/215 [==============================] - 1s 7ms/step - loss: 0.0554 - accuracy: 0.9793 - val_loss: 1.1364 - val_accuracy: 0.7428\n",
            "Epoch 5/5\n",
            "215/215 [==============================] - 1s 6ms/step - loss: 0.0516 - accuracy: 0.9791 - val_loss: 1.1326 - val_accuracy: 0.7362\n"
          ]
        }
      ]
    },
    {
      "cell_type": "code",
      "source": [
        "model_5_pred_probs = model_5.predict(val_sentences)\n",
        "model_5_preds = tf.squeeze(tf.round(model_5_pred_probs))"
      ],
      "metadata": {
        "colab": {
          "base_uri": "https://localhost:8080/"
        },
        "id": "ZcVZGbF1DSaT",
        "outputId": "5c256a0b-b0f3-4207-c571-e28d84be95be"
      },
      "execution_count": 77,
      "outputs": [
        {
          "output_type": "stream",
          "name": "stdout",
          "text": [
            "24/24 [==============================] - 0s 2ms/step\n"
          ]
        }
      ]
    },
    {
      "cell_type": "code",
      "source": [
        "calculate_results(val_labels,model_5_preds)"
      ],
      "metadata": {
        "colab": {
          "base_uri": "https://localhost:8080/"
        },
        "id": "qqTV30l4Dhqy",
        "outputId": "ce053788-b8ff-4cfd-fcaf-deaec37fd558"
      },
      "execution_count": 78,
      "outputs": [
        {
          "output_type": "execute_result",
          "data": {
            "text/plain": [
              "{'accuracy': 73.62204724409449,\n",
              " 'precision': 0.7360073279430674,\n",
              " 'recall': 0.7362204724409449,\n",
              " 'f1': 0.7347108319328972}"
            ]
          },
          "metadata": {},
          "execution_count": 78
        }
      ]
    },
    {
      "cell_type": "markdown",
      "source": [
        "### Model 6: TFHub Pretrained Sentence Encoder"
      ],
      "metadata": {
        "id": "K2W-iOTtDnI_"
      }
    },
    {
      "cell_type": "code",
      "source": [
        "import tensorflow_hub as hub"
      ],
      "metadata": {
        "id": "mMFRvMm7FcfR"
      },
      "execution_count": 79,
      "outputs": []
    },
    {
      "cell_type": "code",
      "source": [
        "embed = hub.load(\"https://tfhub.dev/google/universal-sentence-encoder/4\")"
      ],
      "metadata": {
        "id": "8F9gQbLwFct4"
      },
      "execution_count": 80,
      "outputs": []
    },
    {
      "cell_type": "code",
      "source": [
        "samples = embed([sample_sentence,\"When you call universal sentence , turns into numbers\"])"
      ],
      "metadata": {
        "id": "KsO7GRNcFd7O"
      },
      "execution_count": 81,
      "outputs": []
    },
    {
      "cell_type": "code",
      "source": [
        "print(samples)"
      ],
      "metadata": {
        "id": "Iyu0yMQeFrXj",
        "outputId": "a27c2bae-2d46-4917-f9a9-236f07221e11",
        "colab": {
          "base_uri": "https://localhost:8080/"
        }
      },
      "execution_count": 82,
      "outputs": [
        {
          "output_type": "stream",
          "name": "stdout",
          "text": [
            "tf.Tensor(\n",
            "[[-0.00165963  0.00170079  0.04788961 ...  0.00854664  0.00299551\n",
            "  -0.04015192]\n",
            " [ 0.0568927  -0.08954596 -0.0283566  ... -0.00659815  0.05909768\n",
            "  -0.01464346]], shape=(2, 512), dtype=float32)\n"
          ]
        }
      ]
    },
    {
      "cell_type": "code",
      "source": [
        "sentence_encoder_layer = hub.KerasLayer(\"https://tfhub.dev/google/universal-sentence-encoder/4\",\n",
        "            input_shape = [],\n",
        "            dtype = tf.string,\n",
        "            trainable = False,\n",
        "            name = \"USE\"\n",
        "        )"
      ],
      "metadata": {
        "id": "pg_xfLyyFsYM",
        "colab": {
          "base_uri": "https://localhost:8080/"
        },
        "outputId": "0e4dd981-1bde-4ed1-8cc0-84addba94678"
      },
      "execution_count": 83,
      "outputs": [
        {
          "output_type": "stream",
          "name": "stderr",
          "text": [
            "WARNING:tensorflow:Please fix your imports. Module tensorflow.python.training.tracking.data_structures has been moved to tensorflow.python.trackable.data_structures. The old module will be deleted in version 2.11.\n"
          ]
        }
      ]
    },
    {
      "cell_type": "code",
      "source": [
        "model_6 = tf.keras.Sequential([\n",
        "    sentence_encoder_layer,\n",
        "    layers.Dense(1,activation = \"sigmoid\"),\n",
        "],name = \"model_6_USE\")"
      ],
      "metadata": {
        "id": "KGWAMtV3Ln7n",
        "colab": {
          "base_uri": "https://localhost:8080/"
        },
        "outputId": "dcdc9a87-9187-47d8-82d2-3c51c7ac4068"
      },
      "execution_count": 84,
      "outputs": [
        {
          "output_type": "stream",
          "name": "stderr",
          "text": [
            "WARNING:tensorflow:From /usr/local/lib/python3.8/dist-packages/tensorflow/python/autograph/pyct/static_analysis/liveness.py:83: Analyzer.lamba_check (from tensorflow.python.autograph.pyct.static_analysis.liveness) is deprecated and will be removed after 2023-09-23.\n",
            "Instructions for updating:\n",
            "Lambda fuctions will be no more assumed to be used in the statement where they are used, or at least in the same block. https://github.com/tensorflow/tensorflow/issues/56089\n"
          ]
        }
      ]
    },
    {
      "cell_type": "code",
      "source": [
        "model_6.compile(loss = \"binary_crossentropy\",optimizer = \"adam\",metrics = [\"accuracy\"])"
      ],
      "metadata": {
        "id": "G_dqBUXLMA9m"
      },
      "execution_count": 85,
      "outputs": []
    },
    {
      "cell_type": "code",
      "source": [
        "mode_6_history = model_6.fit(\n",
        "    train_sentences,train_labels,epochs = 5,validation_data = (val_sentences,val_labels),\n",
        "    callbacks = [create_tensorboard_callback(dir_name = SAVE_DIR,experiment_name = \"model_6_use\")],\n",
        ")"
      ],
      "metadata": {
        "colab": {
          "base_uri": "https://localhost:8080/"
        },
        "id": "WOGPx_FfMMNf",
        "outputId": "6b398eda-7396-435d-f7dc-9b4a657d18b4"
      },
      "execution_count": 86,
      "outputs": [
        {
          "output_type": "stream",
          "name": "stdout",
          "text": [
            "Saving TensorBoard log files to: model_logs/model_6_use/20230224-184243\n",
            "Epoch 1/5\n",
            "215/215 [==============================] - 5s 14ms/step - loss: 0.6529 - accuracy: 0.7173 - val_loss: 0.6178 - val_accuracy: 0.7730\n",
            "Epoch 2/5\n",
            "215/215 [==============================] - 5s 24ms/step - loss: 0.5841 - accuracy: 0.7898 - val_loss: 0.5663 - val_accuracy: 0.7900\n",
            "Epoch 3/5\n",
            "215/215 [==============================] - 2s 11ms/step - loss: 0.5405 - accuracy: 0.7933 - val_loss: 0.5341 - val_accuracy: 0.7835\n",
            "Epoch 4/5\n",
            "215/215 [==============================] - 2s 12ms/step - loss: 0.5111 - accuracy: 0.7971 - val_loss: 0.5122 - val_accuracy: 0.7835\n",
            "Epoch 5/5\n",
            "215/215 [==============================] - 2s 11ms/step - loss: 0.4905 - accuracy: 0.7997 - val_loss: 0.4971 - val_accuracy: 0.7900\n"
          ]
        }
      ]
    },
    {
      "cell_type": "code",
      "source": [
        "model_6_pred_probs = model_6.predict(val_sentences)\n",
        "model_6_pred_labels = tf.squeeze(tf.round(model_6_pred_probs))"
      ],
      "metadata": {
        "colab": {
          "base_uri": "https://localhost:8080/"
        },
        "id": "3Vc2NaL3MTAi",
        "outputId": "f781eae7-c2eb-4f7f-c91a-942050c236fa"
      },
      "execution_count": 87,
      "outputs": [
        {
          "output_type": "stream",
          "name": "stdout",
          "text": [
            "24/24 [==============================] - 1s 9ms/step\n"
          ]
        }
      ]
    },
    {
      "cell_type": "code",
      "source": [
        "calculate_results(val_labels,model_6_pred_labels)"
      ],
      "metadata": {
        "colab": {
          "base_uri": "https://localhost:8080/"
        },
        "id": "XaMLPQHqMyMv",
        "outputId": "6c7939d4-1089-4977-c53d-389e751a5841"
      },
      "execution_count": 88,
      "outputs": [
        {
          "output_type": "execute_result",
          "data": {
            "text/plain": [
              "{'accuracy': 79.00262467191601,\n",
              " 'precision': 0.791135944218791,\n",
              " 'recall': 0.7900262467191601,\n",
              " 'f1': 0.7885699892643387}"
            ]
          },
          "metadata": {},
          "execution_count": 88
        }
      ]
    },
    {
      "cell_type": "markdown",
      "source": [
        "### Model-7 : 10% of the Data"
      ],
      "metadata": {
        "id": "6o5SPK2BM56g"
      }
    },
    {
      "cell_type": "code",
      "source": [
        "train_10_percent_split = int(0.1*len(train_sentences))\n",
        "train_sentences_10_percent = train_sentences[:train_10_percent_split]\n",
        "train_labels = train_labels[:train_10_percent_split]\n",
        "print(train_sentences_10_percent)"
      ],
      "metadata": {
        "id": "av4i0j-VOwnK",
        "colab": {
          "base_uri": "https://localhost:8080/"
        },
        "outputId": "ab31eb15-33bd-47e1-ee18-b533b5fcffc5"
      },
      "execution_count": 89,
      "outputs": [
        {
          "output_type": "stream",
          "name": "stdout",
          "text": [
            "['@mogacola @zamtriossu i screamed after hitting tweet'\n",
            " 'Imagine getting flattened by Kurt Zouma'\n",
            " '@Gurmeetramrahim #MSGDoing111WelfareWorks Green S welfare force ke appx 65000 members har time disaster victim ki help ke liye tyar hai....'\n",
            " \"@shakjn @C7 @Magnums im shaking in fear he's gonna hack the planet\"\n",
            " 'Somehow find you and I collide http://t.co/Ee8RpOahPk'\n",
            " '@EvaHanderek @MarleyKnysh great times until the bus driver held us hostage in the mall parking lot lmfao'\n",
            " 'destroy the free fandom honestly'\n",
            " 'Weapons stolen from National Guard Armory in New Albany still missing #Gunsense http://t.co/lKNU8902JE'\n",
            " '@wfaaweather Pete when will the heat wave pass? Is it really going to be mid month? Frisco Boy Scouts have a canoe trip in Okla.'\n",
            " 'Patient-reported outcomes in long-term survivors of metastatic colorectal cancer - British Journal of Surgery http://t.co/5Yl4DC1Tqt'\n",
            " 'Lava Dragon Breeder! I just bred a Lava Dragon in DragonVale! Visit my park to check it out! http://t.co/QGum9xHEOs'\n",
            " '@BehindAShield @Wars_Goddess Sweet Lord.  (I collapse as my knees buckle)'\n",
            " 'Several wild fires have burned a lot of land in California. Here is one of the larger fires. http://t.co/2M1gNeaiFl http://t.co/UQh85MiP0v'\n",
            " \"1st wk of Rainier Diet and my street Seward Park Ave is inundated w/ bypass traffic so @seattledot what's your plan? @seattletimes\"\n",
            " 'Madhya Pradesh Train Derailment: Village Youth Saved Many Lives'\n",
            " 'Fair enough we have two of the best attacking wingers in the Prem in Hazard and Willian who will basically start every game 100%'\n",
            " \"@AlexeiVolkov1 @McFaul\\nAnd in an equal spirit I leave you to Roskomnadzor and to ridiculously politicized destruction of 'illegal food.'\"\n",
            " 'SOOOO PUMPED FOR ABLAZE ???? @southridgelife' 'Ready for this storm'\n",
            " 'WHEN U BOMBED AND U TRY 2 GET HOME FOR CURFEW http://t.co/oi6CmAGASi'\n",
            " \"Don't get burned twice by the same flame.\"\n",
            " '@Blizzard_draco GIVE ME FREE ART KAMON'\n",
            " '@HoneyBunzGem @primalkitchen I feel like me doing a pull-up is one of the stages of the Apocalypse.'\n",
            " 'Louis Vuitton Monogram Sophie Limited Edition Clutch Cross body Bag - Full read by eBay http://t.co/GGgFVO5Pb4 http://t.co/NlFr8t3xqm'\n",
            " 'Magnetic and electrostatic nuclear fusion reactor http://t.co/eM5oPyTBpg'\n",
            " 'Investigators have said a Virgin Galactic spaceship crash was caused by structural failure after the co-pilot ... http://t.co/imAWVMzs3A'\n",
            " '@freddiedeboer @Thucydiplease then you have rise of Coates Charleston massacre Walter Scott and black twitter more broadly as well.'\n",
            " 'Fear has a way of making us see danger where there is none. Contemplating the logic behind the situation and find the courage to engage it'\n",
            " 'Police: Gunman reported dead at Nashville area theater: A suspect who carried a gun and a hatchet at the Carmi... http://t.co/kqvN1uTpMM'\n",
            " '@b24fowler I see that! Crazy how this line blew up.'\n",
            " 'I think that none of us know the impact we have on the lives of those around us. Even the slightest stirring can create a violent storm.'\n",
            " '@thetimepast @saalon I have childhood trauma more resolved than theirs. Actual trauma. Fricken babies.'\n",
            " \"@_chelsdelong12 @kendra_leigh13 I'll crash it\"\n",
            " \"@KatRamsland Yes I'm a bleeding heart liberal.\"\n",
            " \"If you're reading this go accidentally fall off a cliff mate\"\n",
            " 'A [small] flood with bigåÊconsequences https://t.co/CVPdVHxd1R http://t.co/FDMXP4FcMo'\n",
            " '#tubestrike derailed you? Our #robertwelch cutlery offers will get you back on track http://t.co/bQ8Kyi7Gng http://t.co/GNZwxQktAm'\n",
            " 'cPanel Crash Course http://t.co/bIRKbje23e #course http://t.co/buZWJmW49e'\n",
            " 'Enugu Government to demolish illegal structures at International Conference Centre http://t.co/ouYLwuIXcs'\n",
            " 'According to a 2011 Gallup poll the more money you have the more likely you are to suffer from time famine.? Ari\\x89Û_ http://t.co/QdmVTJ4lZJ'\n",
            " 'People are finally panicking about cable TV http://t.co/lCnW4EAD8v'\n",
            " 'How a little studio in the middle of nowhere is becoming the epicentre of communication. http://t.co/iCRgseAGYA http://t.co/KpvYmHM2uB'\n",
            " '@david_hurn @ToKTeacher Why is there something in place to prevent skynet? Because perhaps there should be! http://t.co/73Umw2iGRZ'\n",
            " 'Fire hazard associated with installation of non-compliant external cladding on high-rise buildings - Insurance - Aust http://t.co/wFsEaOBATo'\n",
            " \"What's up man?\"\n",
            " 'RT alisonannyoung: EXCLUSIVE: FedEx no longer to transport research specimens of bioterror pathogens in wake of anthrax lab mishaps \\x89Û_'\n",
            " \"Aannnnd - 'Reddit Will Now Quarantine Offensive Content' https://t.co/P1JluRGWBu\"\n",
            " '...//..// whao.. 12000 Nigerian refugees repatriated from Cameroon http://t.co/baE0Ap4G9Y'\n",
            " 'All of this energy'\n",
            " 'California School Bus Hijacker Parole Stands http://t.co/kPIVXGjNqt #sacramento'\n",
            " 'The RCMP are reporting fatalities and serious injuries as a result of the collision on the TCH near Whitbourne.'\n",
            " 'Aug. 5: The Fort Calhoun Nuclear Station is at 100% capacity today according to the NRC: http://t.co/pztbQImpuW'\n",
            " 'the MOFO in DC will leave our military unarmed to be gunned down by terrorist &amp; a lot worseits not their sorry asses'\n",
            " '@NRO Except when ordered not to carry unauthorized weapons while on duty or in military uniforms. THATS THE RULE FOOL'\n",
            " \"@sarahmcpants @JustJon I'll give him a titty twister\"\n",
            " 'Wildfire near Columbia River town is 50 percent contained http://t.co/gzGpWSqyMW #FireNews #WA http://t.co/ay49MTYyL8'\n",
            " '70 Years After Atomic Bombs Japan Still Struggles With War Past: The anniversary of the devastation wrought b... http://t.co/aG65u29SGo'\n",
            " 'Sprinklers: FAQ About Lawn Inundation Systems Answered eBb'\n",
            " 'The bomb was so appropriate ?? seen as my family and most Jamaicans love shout bullets !'\n",
            " 'The Opposite of Love is Fear Here\\x89Ûªs Why\\nhttp://t.co/r5bXZzhXkm'\n",
            " 'Last Chance Animal Rescue has 3 new posts. http://t.co/f1tcbg1MKi #animalrescue | https://t.co/Is2iDC3UBJ'\n",
            " \"@MythGriy they can't detonate unless they touch the ground\"\n",
            " '@Miss_HoMaStToPa cause were on fire we are on fire were on fire now.. Yeah were on fire we are on fire were on fire nowwwwww'\n",
            " '@CarsonRex @SpaceAngelSeven Check out this #rockin preview of @ClaytonBryant Danger Zone Coming soon! https://t.co/P0fiZxmN5r #ArtistsUnited'\n",
            " '#flood #disaster Bengal floods: CM Mamata Banerjee blames DVC BJP claims state failed to use ... - Economic T... http://t.co/BOZlwr716Z'\n",
            " \"Why put out a fire that's still burning?\"\n",
            " 'Any new games coming soon @BreachGamingORG ?'\n",
            " 'Cleveland Heights Shaker Heights fight blight: The House Next Door http://t.co/wYOKt0ftRw'\n",
            " 'City of Calgary activates Municipal Emergency Plan - 660 NEWS http://t.co/KFBjVJiVQB http://t.co/BN7Xpzqdm0'\n",
            " 'Governor Allows Parole for School Bus Hijacker http://t.co/liKWQhSHHX via @nbcnews I remember this crime sent chills through parents'\n",
            " '@MissJadeBrown tells of the tragic mid-morning collision which claimed the life of a young man riding a motorcycle. https://t.co/rPDA60Aoni'\n",
            " 'Lightning strike in the distance via /r/pics http://t.co/iDmhSwewQw #pics http://t.co/wwxcOB52zI'\n",
            " \"@RockBottomRadFM As a kid I remember hearing rules about 30 to 90 days wo a defense and you're stripped. Brock obliterated that\"\n",
            " \"Following a catastrophic injury acute medical care takes precedent.  PTSD often follows in it's wake undetected... http://t.co/BZkqpl6R0a\"\n",
            " '@mwnhappy this message will self detonate in 5 4 3 2...'\n",
            " \"LIKE I SWEAR THE SECRET WE'LL UNCOVER IS THE OLD GODS IN A SLUMBER. I THINK THERES GONNA BE ANOTHER BLIGHT\"\n",
            " 'Gets on battlefield 3 screams into Mic at cunts'\n",
            " '@NEPD_Loyko Texans hope you are wrong. Radio in Houston have him as starter after Foster injury'\n",
            " 'this storm????'\n",
            " 'Cyclone Komen devastates families in Myanmar this week. We need to help them today: http://t.co/fCujsIOyQO'\n",
            " 'Worked at a fast food joint. Poured burnt hot oil down the sink. It hit the water in the trap and exploded.  @FallonTonight #WORSTSUMMERJOB'\n",
            " \"'The harder the conflict the more glorious the triumph.' Thomas Paine\"\n",
            " \"Ukraine argues for US weapons during Pelosi's visit to Kiev http://t.co/jnN0kRNXvY http://t.co/5LOiWuyv5r\"\n",
            " \"For those that were interested in the gun powder art discussed at the end of 'Introduction to Theological Aesthetic' http://t.co/BZ3iR4GMWj\"\n",
            " 'Mourning notices for stabbing arson victims stir \\x89Û÷politics of grief\\x89Ûª in Israel: Posters for Shira Banki and A... http://t.co/3GZ5zQQTHe'\n",
            " 'On anniversary of Hiroshima bombing illustrated timeline of bombings. Eyewitness account particularly horrifying http://t.co/GZIb0mAwmn'\n",
            " '4 equipment ego break upon dig your family internet hoke excepting versus a sinking term: dfLJEV'\n",
            " '@i_electroCute your turn ??'\n",
            " '@IcyMagistrate \\x89ÛÓher upper arm\\x89ÛÒ those /friggin/ icicle projectiles\\x89ÛÒ and leg from various other wounds the girl looks like a miniature more\\x89ÛÓ'\n",
            " 'Smoke the Weed - Snoop Lion Ft. Collie Buddz'\n",
            " 'The things we fear most in organizations--fluctuations disturbances imbalances--are the primary sources of creativity. - Margaret Wheatley'\n",
            " 'Malaysia confirms plane debris washed up on Reunion Island is from Flight MH370 http://t.co/YS3WALzvjg'\n",
            " 'The possible new jerseys for the Avalanche next year. ???? http://t.co/nruzhR5XQu'\n",
            " 'Smoke with me baby and lay with me baby and laugh with me baby I just want the simple things'\n",
            " \"Pakistan says army helicopter has crashed in country's restive northwest killing at least 8 http://t.co/QV1RMZI3J1\"\n",
            " 'City of Calgary activates municipal emergency plan as more thunderstorms approach http://t.co/8iHucO4GLW'\n",
            " '@RickyBonesSXM fuck u2 specially there new Shit. First they hijack itunes now all sirius chan. fuck off already haha just sayin'\n",
            " \"i'm sorry i'm so wild in 1d shows like in my wwa show niall started singing steal my girl I literally screamed shut the fuck up\"\n",
            " 'Pandemonium In Aba As Woman Delivers Baby Without Face (Photos) - http://t.co/c5u9qsySeJ'\n",
            " \"@LongBreastYat Yeah I don't think he's elite either I think Hazard is the better player too. But not by much\"\n",
            " 'Militants attack police post in Udhampur; 2 SPOs injured | LiveMint http://t.co/Rptouz2iJs | http://t.co/69mLhfefhr #AllTheNews'\n",
            " 'driving the avalanche after having my car for a week is like driving a tank'\n",
            " 'Hello natural hazards/disaster recovery &amp; emergency management ppl can u recommend good hashtags to follow OR send me links of good reads?'\n",
            " 'Top insurer blasts lack of Australian Govt action on disaster mitigation http://t.co/sDgOUtWNtb via @smh'\n",
            " 'Death certificates safes weapons and Teslas: DEF CON 23 #Security http://t.co/KMDQm3NlnS'\n",
            " 'Updated to Windows 10 now I get this error http://t.co/kHSBZKfd6O'\n",
            " '@aelinrhee a group of mascara smeared girls rioting will be horrific I think'\n",
            " 'A new favorite: Trivium - Detonation by @rrusa https://t.co/cubdNsNuvt on #SoundCloud'\n",
            " 'Detonation into the realistic assets entering india: koZ http://t.co/9ZRQMd8nGZ'\n",
            " 'Japan on Thursday marks the 70th anniversary of the atomic bombing of Hiroshima with the most senior official from Washington ever schedule\\x89Û_'\n",
            " \"A protest rally at Stone Mountain? Atleast they're not burning down buildings and looting store like some individuals do when they 'protest'\"\n",
            " 'Egyptian Militants Tied to ISIS Threaten to Kill Croatian Hostage (New York Times) http://t.co/GTXndnJRrl (1717 GMT)'\n",
            " '#pakistan#news# PAKPATTAN City News: Man electrocuted From Our Correspondent PAKPATTAN: A man was electrocuted... http://t.co/frpbNhVPyI'\n",
            " 'Danger of union bears http://t.co/lhdcpNZx6A'\n",
            " 'Bayelsa poll: Tension in Bayelsa as Patience Jonathan plans to hijack APC PDP: Plans by former First Lady and... http://t.co/86RSYy2tng'\n",
            " '@AWickedAssassin want to burst into flames! *Anna hugged him tightly*'\n",
            " 'I should probably stay away from hot glue guns.. I burned one finger pretty bad'\n",
            " '$1 million bail for man accused of #shooting at Fife #police - Aug 5 @ 8:16 PM ET http://t.co/hu5CXqnoBf'\n",
            " 'Flood: Two people dead 60 houses destroyed in Kaduna: Two people have been reportedly killed and 60 houses ut... http://t.co/JixScpMdUD'\n",
            " '@adorableappple No reported flooding po in the area. Ten-4. #mmda'\n",
            " \"You've 100% fucked up when Paul says your cake looks like a 'mudslide' and tastes like 'rubber'\"\n",
            " '@Blazing_Ben @PattyDs50 @gwfrazee @JoshuaAssaraf Not really. Sadly I have come to expect that from Obama.'\n",
            " 'Well so much for outdoor postering @calgaryfringe #mothernature #hailstorm #rain #yycfringe #KILLHARD'\n",
            " '@tyleroakley IM SCREAMING'\n",
            " 'MY GIRL GOT A GIRLFRIEND CHEVY BLUE LIKE WHIRLWIND.'\n",
            " '@Collapsed thank u'\n",
            " 'Rainstorm Destroys 600 Houses in Yobe State http://t.co/nU0D3uANNZ'\n",
            " \"Ginga thinks he can defeat me? Not with my L-Drago Destroy he can't!\"\n",
            " \"'Er indoors will be devastated. RIP Arfur. #GeorgeCole\"\n",
            " 'Pakistan Supreme Court OKs Military Courts to Try Civilians: The Supreme Court ruling would empower the milita... http://t.co/v0nf1Uc1OW'\n",
            " 'What a goooooooaaaaaal!!!!!!'\n",
            " '@XHNews We need these plants in the pacific during the cyclone seasons it would help'\n",
            " 'IS THE UPDATE RLY LIFE NOW IS IT IS It/Screams \\nvibrates i cant handle'\n",
            " 'A new favorite: Desolate 2 by r3do https://t.co/HDv3ZirBCi on #SoundCloud'\n",
            " \"The Prophet (peace be upon him) said 'Save yourself from Hellfire even if it is by giving half a date in charity.'\"\n",
            " 'Maxsys is hiring a #Demolition #Workers apply now! #Halifax #jobs http://t.co/QTIZcBWw7G'\n",
            " '@RaidersReporter @957thegame together we can destroy the Emperor and rule the galaxy Father and Son!'\n",
            " 'Motors Hot Deals #452 &gt;&gt; http://t.co/ED32PBviO7 10x 27W 12V 24V LED Work Light FLOOD Lamp Tractor Truck SUV UTV A\\x89Û_ http://t.co/IfM6v6480P'\n",
            " 'Transportation panel showing a video of a pileup of 18-wheelers in a snowstorm in WY. Crash crash crash \\x89ÛÏMake it stop!\\x89Û\\x9d #AMSsummer'\n",
            " 'Christian Attacked by Muslims at the Temple Mount after Waving Israeli Flag via Pamela Geller - ... http://t.co/e4YDbM4Dx6'\n",
            " '@ThatWitchEm @EmmaChosenOne @JessieNovoaRP @Jessie_Novoa_ @Liana_Novoa why you screamed'\n",
            " 'It may seem like our fire has been a little burnt out....'\n",
            " 'Womem Crush Wednesday ?????????????????? @mommyisbomb'\n",
            " 'Because you watched: Honey I Blew up the Economy\\n\\nWe Recommend : The Conservative Shoppe of Horrors\\n\\n#HarperANetflixShow #elxn42 #stopharper'\n",
            " 'Something Catastrophic Is Coming: Should We Tune Out? http://t.co/a8jZ5A26wi'\n",
            " \"Ever since Kelly's burned I keep having dreams about being inside burning buildings ??\"\n",
            " 'The shooting or the airplane accident  https://t.co/iECc1JDOub'\n",
            " 'We happily support mydrought  a project bringing awareness to the LA drought. Track your water\\x89Û_ https://t.co/2ZvhX41I9v'\n",
            " 'A blizzard would be clutch asf ??'\n",
            " \"'Nuclear reactor is like a woman. You just have to read the manual and press the right button.'\"\n",
            " \"VIDEO: 'We're picking up bodies from water': Rescuers are searching for hundreds of migrants in the Mediterran... http://t.co/yvO6q6W442\"\n",
            " 'News: FedEx no longer to transport bioterror germs in wake of anthrax lab mishaps http://t.co/xteZGjfs8A'\n",
            " '@chojo everyone hail to the pumpkin king!!!!'\n",
            " 'Twitter is just here to destroy your childhood'\n",
            " 'Physical sense helps preserve memories of 2011 triple disaster (8/4 AJW) http://t.co/X5jGKjV6Ma #jishin_e #nuclear #Minamisoma'\n",
            " \"I just watched emmerdale nd I don't know who most of them are but a slightly attractive man named Ross just got beat up nd now he's dead\"\n",
            " '#TweetLikeItsSeptember11th2001 Those two buildings are on fire'\n",
            " 'Happy boy to mass murderer http://t.co/xPddWH5teM'\n",
            " 'I slammed my phone to the ground and then screamed ahahahga'\n",
            " 'http://t.co/eHKLp12yiP Paci?c Media Centre | articles: AUSTRALIA: RSF protests over new security gag over reporting on...'\n",
            " '@TheNissonian @RejectdCartoons nissan are you ok do you need medical assistance i can call an ambulance if you need me to'\n",
            " 'GNS sees unnecessary deaths resulting from earthquake strengthening legislation http://t.co/4rYZMzSgDW ($)'\n",
            " '@SnowyWolf5 @TheGreenParty Besides would you rather shut down a whole nuclear reactor for maintenance or a wind turbine at a time?'\n",
            " \"There has not been 1 real tear out of #Shelli 's eyes this entire episode. #bb17\"\n",
            " 'Government under pressure to abandon plans to construct UK\\x89Ûªs first nuclear reactor for more than 20 year     http://t.co/E9d9Lk5Fdw'\n",
            " \"Imagine a school where suicide bombing Is being taught the teachers would say to the students...\\n\\n'Please pay... http://t.co/zfiVVxYDZY\"\n",
            " 'So these savages leaked Thomas Brady gangstermail account and wonder why he was quick to fatality his Samsung mobile? B real son.'\n",
            " 'Some people are really natural disaster too'\n",
            " 'He is justifying why this quarrel would one day end in d obliteration of what remains as the state of Pakistan. https://t.co/z8Ij8KTkyk'\n",
            " 'Which is true to an extent. The obliteration of white privilege would reduce unfair favoritism.'\n",
            " '#Kurds trampling on Turkmen flag later set it ablaze while others vandalized offices of Turkmen Front in #Diyala http://t.co/4IzFdYC3cg'\n",
            " 'India shud not give any evidence 2 pak.They will share with terrorists &amp; use for next attack.Share with oth contries https://t.co/qioPbTIUVu'\n",
            " 'Truth...\\nhttps://t.co/k44tL3rfMy\\n#News\\n#BBC\\n#CNN\\n#Islam\\n#Truth\\n#god\\n#ISIS\\n#terrorism\\n#Quran\\n#Lies http://t.co/ipT0hoNoTI'\n",
            " \"'I did another one I did another one. You still ain't done shit about the other one.' Nigga body bagging Meek.\"\n",
            " 'Meek Mill Begging Nicki Minaj To Let Him Obliterate... #ovofest #nowplaying http://t.co/XOmI4ZQzgp http://t.co/0m1TW3DaTd'\n",
            " '@eileenmfl are you serious?'\n",
            " \"Slightly doesn't help that he has Suh and Wake in practice. But think he will get there. A lot of weapons! #FinsUp \\nhttp://t.co/i1EeUxxZ3A\"\n",
            " \"Retweeted Sarah Silverman (@SarahKSilverman):\\n\\nSoundtrack of my walk starts w Tracey Ullman They Don't Know.  perfect\"\n",
            " '#Bestnaijamade: 16yr old PKK suicide bomber who detonated bomb in ... http://t.co/KSAwlYuX02 bestnaijamade bestnaijamade bestnaijamade be\\x89Û_'\n",
            " 'Inciweb OR Update:  Rogue River-Siskiyou National Forest Fires  8/5/15 12:00 PM (Rogue River-Siskiyou NF Area\\x89Û_ http://t.co/LkwxU8QV7n'\n",
            " '#aerospace #exec Plane debris is from missing MH370 - Part of the aircraft wing found on Reunion Island is from th... http://t.co/S2wm8lh7oO'\n",
            " 'AUTH LOUIS VUITTON BROWN SAUMUR 35 CROSS BODY SHOULDER BAG MONOGRAM 7.23 419-3 - Full read\\x89Û_ http://t.co/HCDiwE5flc http://t.co/zLvEbEoavG'\n",
            " \"The Prophet (peace be upon him) said 'Save yourself from Hellfire even if it is by giving half a date in charity.'\"\n",
            " \"In @edfringe? We highly recommend @M00NF00L #Titania @Summerhallery A whirlwind reimagining /Shakespeare's Midsummer https://t.co/iIAIGZkbnJ\"\n",
            " 'Check out this amazing footage of lightning filmed while lifting off from Chicago... http://t.co/AOg5chjmVs http://t.co/cLN2SXzY1Z'\n",
            " 'Hiroshima and Nagasaki I remember all those killed in alleged US war crimes using nuclear weapons https://t.co/NDxrK2NCLN #USWarCrimes'\n",
            " '#NoChillLukeHammings\\nIM SCREAMING'\n",
            " 'Today\\x89Ûªs storm will pass; let tomorrow\\x89Ûªs light greet you with a kiss. Bask in this loving warmth; let your soul return to bliss.'\n",
            " 'Nazi Mass Murderer Became Chairman At Vaccine Drug Company In... http://t.co/x713OMh6Ai'\n",
            " '\\x89ÛÏ@dylanmcclure55: Working at zumiez is the http://t.co/zW5jp46v5k\\x89Û\\x9d which location??'\n",
            " 'IS claims suicide bombing against Saudi police: RIYADH (AFP) - An Islamic State group suicide bomber on Thursd... http://t.co/IBypE1kaz5'\n",
            " '70 years ago the first atomic attack flattened #Hiroshima 3 days later it was #Nagasaki both war crimes to put Moscow in its place'\n",
            " 'Every time I feel a new pain or strain in my body I panic because I need it for my career ??'\n",
            " 'Aftershock https://t.co/jV8ppKhJY7'\n",
            " 'Ignition Knock (Detonation) Sensor-KNOCK SENSOR Delphi AS10004 http://t.co/LMrKgPOrcF http://t.co/6WAdNmsTOv'\n",
            " 'Morganite Gemstone White Fire Opal 925 Sterling Silver Ring Size 6 R1354 http://t.co/hHpVSAtQXN http://t.co/D12r8XpShy'\n",
            " 'Fairfax investigating firefighter over Facebook post saying police should be put in \\x89Û÷body bags\\x89Ûª - The Washington Post http://t.co/jAxHzjCCd4'\n",
            " 'US Energy Department Offers $40Mln for New Nuclear Reactor Designs / Sputnik International http://t.co/0DxVZ7fDh3'\n",
            " \"'Cause you play me like a symphony play me till your fingers bleed. I'm your greatest masterpiece. You ruin me??\"\n",
            " 'Tomorrow kick off your weekend with drinks &amp; entertainment @AliveAfter5 http://t.co/sC4TWJkxr1 http://t.co/yN6DuOtimr'\n",
            " '@randerson62 Watching news of wild fires and hope all is ok.'\n",
            " 'Plains All American Pipeline company may have spilled 40% more crude oil than previously estimated #KSBYNews @lilitan http://t.co/PegibIqk2w'\n",
            " '@DorisMatsui thank you for supporting the President. The #IranDeal takes nuclear weapons out of the hands of Iran and keeps everyone safer.'\n",
            " \"If this ATL to San Fran flight goes down in a  desolate square state it's been real Twitter.\"\n",
            " \"@eunice_njoki aiii she needs to chill and answer calmly its not like she's being attacked\"\n",
            " \"'I'm there!' Bride &amp; Groom on mountain cliff edge. Ha Ha just kidding. I WILL NOT EVER be there. Ha Ha - http://t.co/Io9ry1akON\"\n",
            " \"When the waves are flooding the shore\\nAnd I can't find my way home anymore\\nThat's when I look at you http://t.co/TDAKtGlU5p\"\n",
            " 'I was taught at school in the 1970s that piracy slavery and suicide-bombing were purely historical. No one then expected them to re-occur'\n",
            " 'Reddit Will Now Quarantine Offensive Content http://t.co/LTmgdP6Jaf'\n",
            " 'Lizard Wizard in a Blizzard #LWB http://t.co/MgR809yc5a'\n",
            " 'Kendall Jenner and Nick Jonas Are Dating and the World Might Quite Literally Explode http://t.co/pfvzVPxQGr'\n",
            " \"@noahshack he's hot &amp; he can sing I'm screaming??????\"\n",
            " 'The Latest: More Homes Razed by Northern California Wildfire - ABC News http://t.co/x1xj0XVTj7'\n",
            " '@Jolly_Jinu you said they are terrorist because of #Babri so was it ok? If you demolish my house todayhave i right to take revenge?'\n",
            " '@FAIRx818x @PlayOverwatch @BlizzardCS please blizzard we love you'\n",
            " 'Washington Post - 4 dead dozens injured in Gaza blast near house leveled in summer war http://t.co/VjXa13n8Ap'\n",
            " \"I liked a @YouTube video http://t.co/5fR41TPzte Thorin's Thoughts - Riot and Sandbox Mode (LoL)\"\n",
            " '@sholt87 @MtGrotto @Eco11C @carlsbadbugkil1 Saved us?Bush lowered tax rate for wealthy n economy collapsed w/Middle Class 401ks destroyed.'\n",
            " 'Drones Under Fire: Officials Offer $75000 Reward Leading To Pilots Who Flew Over Wildfire http://t.co/d2vEppeh8S #photography #arts'\n",
            " 'Brunette teen Giselle Locke teases at home http://t.co/qew4c5M1xd View and download video'\n",
            " \"When you're 5 hours late for curfew and have to pray your dog doesn't bark when unlocking the door\"\n",
            " 'Oh and fuck Bill Clinton for bombing us and fuck NATO.'\n",
            " 'I liked a @YouTube video from @dannyonpc http://t.co/AD38KWoGlh Battlefield Hardline - 11 NEW WEAPONS - New map - Throwingknifes!'\n",
            " 'Aquarium Ornament Wreck Sailing Boat Sunk Ship Destroyer Fish Tank Cave Decor - Full read \\x89Û_ http://t.co/nosA8JJjiN http://t.co/WUKvdavUJu'\n",
            " \"It's 'Run From Sirens' by 'Half Hour Hotel' @halfhourhotel @Edgarsgift. 'Premium Promotion' OFFER http://t.co/zRN30A78ir\"\n",
            " '#Flashflood causes #landslide in Gilgit #Pakistan Damage to 20 homes farmland roads and bridges #365disasters  http://t.co/911F3IXRH0'\n",
            " '@Jake_ADavis @FaTality_US we are cuddling right now so.. ??'\n",
            " '@Stretcher @witter @Rexyy @Towel show me a picture of it'\n",
            " 'The Latest: More homes razed by Northern California wildfire - http://t.co/IrqUjaEsck http://t.co/qDwEknRMi9'\n",
            " \"#Seattle's deadliest red light runner intersections revealed\\n http://t.co/gHk9Xup6E0\"\n",
            " \"Pakistan's Supreme Court rules to allow military trials for suspects in terrorism cases http://t.co/ajpbdCalew\"\n",
            " 'Colorado movie massacre trial jurors reach verdict on mitigating factors http://t.co/75VLsw85GI http://t.co/txY3US2Ejs'\n",
            " 'anxiety attack ??'\n",
            " 'She screamed when she got the microchip needle. Tbh I would have cried too the needle was massive ya haram'\n",
            " 'Reasons I should have gone to Warped today: tony played issues showed up sleeping w sirens played attila is there issues issues issues'\n",
            " 'So the Ahamedis think the Messiah had already come 125 years ago? Where is Armageddon? Where is the Dajaal? Where is Gog &amp; Magog?!'\n",
            " \"Families to sue over Legionnaires: More than 40 families affected by the fatal outbreak of Legionnaires' disea... http://t.co/ZA4AXFJSVB\"\n",
            " 'Pic of 16yr old PKK suicide bomber who detonated bomb in Turkey Army trench released http://t.co/aaWZXykLES http://t.co/RsMvgDxRiv'\n",
            " \"@lovemywife1983 @FoxNews like shedid on 9/11 4the public facts I am not a journalist the Bush's washard on stopping more than just terrorist\"\n",
            " \"DRob collided into Dan Hughes while she was going after the ball. Looks like he hurt his back as he fell back on the chair. Hope he's ok!\"\n",
            " '@PyramidHead76 one good thing came out of watching the film.  Was too traumatised to watch show so started Halt &amp; Catch Fire on Amazon. :D'\n",
            " \"@AndyGilder Channel 5 have been doing the same for the RSPCA with Dog Rescuers.....'The Infomercial' has crept in the back door.\"\n",
            " 'My last two weather pics from the storm on August 2nd. People packed up real fast after the temp dropped and winds picked up.'\n",
            " 'Three beached whales rescued in Kerry - http://t.co/rQbsPUCjDF'\n",
            " '#golf McIlroy fuels PGA speculation after video: Injured world number one Rory McIlroy fueled speculatio... http://t.co/dCyYJVmXHR #news'\n",
            " 'Whirlwind Head Scissor on @alexhammerstone @kttape ktfounder #RemyMarcel #FroFroFro\\x89Û_ https://t.co/B19z8Vi3td'\n",
            " 'Steve Buscemi was a firefightr B4 fame &amp; workd 12hr shifts diggin thru WTC rubble lookg 4 survivors. http://t.co/L9fJpNSZuO'\n",
            " \"@Kamunt Holy crap it's been forever since I saw this movie but the nostalgia wave just hit me like a tsunami! Thank youuu!\"\n",
            " 'The Cafe Run by Acid Attack Survivors in #India http://t.co/qmiF0bLwOa http://t.co/l6PIf3LpEn'\n",
            " \"'You can only be rescued from where you actually are and not from where you pretend you are.' Giorgio Hiatt\"\n",
            " \"Today is the day Hiroshima got Atomic bomb 70 years ago.  - The 'sanitised narrative' of Hiroshima's atomic bombing http://t.co/GKpANz7vg0\"\n",
            " '#Sismo ML 2.4  NEAR THE COAST OF WESTERN TURKEY: MagnitudeåÊåÊML 2.4RegionåÊåÊNEAR THE COAST OF WESTERN TURKEY... http://t.co/0wdAzLcM90 #CS'\n",
            " '@POTUS Would you please explain what you are going to do about the volcanoes &amp; bush fires spouting all that CO2 into the air?'\n",
            " '@Dr_Baseball41 @GrantTamane8 @DrewWTaylor @Dtop77   On the Christie Hillside: Game 4: Pandemonium at the Pits. http://t.co/Lq4lXGS2xU'\n",
            " 'Stockton police are investigating a fatal drive-by shooting in north Stockton\\n http://t.co/j3x0DOY7R3'\n",
            " '#ThingsIhate \\nWatching someone you care about head into total destruction and not being able to do anything.'\n",
            " '@DetroitPls interested to see who will win this battle'\n",
            " 'DK Eyewitness Travel Guide: Denmark: travel guide eBay auctions you should keep an eye on: http://t.co/xpwkodpqtO'\n",
            " \"I can't believe Blevins got injured falling off a curb. That's something that would happen to me never it expected for a pro player\"\n",
            " 'But if you build an army of 100 dogs and their leader is a lion all dogs will fight like a lion.'\n",
            " 'Listen to this hit song. A summer Bomb full of positive energy and youth\\nDid you like it?\\nhttps://t.co/2LiWkJybE9 \\n#Norge2040'\n",
            " 'Los Angeles Times: Arson suspect linked to 30 fires caught in Northern ... - http://t.co/xwMs1AWW8m #NewsInTweets http://t.co/TE2YeRugsi'\n",
            " '#?x?: :and to counter acts such as the burning of the Alexandrian library.'\n",
            " '@danisnotonfire if you follow me I will go into town and advertise your youtube channel by screaming and walking around with a sign. Pls??'\n",
            " '#Flood in Bago Myanmar #We arrived Bago'\n",
            " 'Me trying to look cute wen crush is passing by ... http://t.co/Z87zMi3Ozs'\n",
            " '2 hostages in Libya remain unharmed: Government sources on Wednesday denied reports that two Indian nationals who\\x89Û_ http://t.co/EX4FnJjL6H'\n",
            " \"When I was cooking earlier I got electrocuted some crucial ?????? now I'm psychic lol\"\n",
            " 'connor franta: damn sirens I hope everyone is okay. \\n\\ndan howell: can you PLEASE get MURDERED on ANOTHER STREET'\n",
            " \"Drunk Meals 101: What To Cook When You're Totally Obliterated http://t.co/Wj0U59mPpB\"\n",
            " 'Schools in Western Uganda still Burning down Buildings during Strikes....Strikes in Western Uganda always Lit literally..'\n",
            " \"NTSB: Virgin Galactic's SpaceshipTwo crash due to structural failure when braking system unlocked early http://t.co/EYSbLYX6L6 via @KPCC @AP\"\n",
            " 'I got electrocuted this morning how is your day going? ??'\n",
            " \".@jimmyfallon I crushed squirrel bones with a mortar and pestle for my school's bio dept. not really sure why #WorstSummerJob\"\n",
            " \"#TheaterShooting DEFENDANT/MASS MURDERER CHOSE NOT 2 TESTIFY IN FINAL PHASE 3 so he won't therefore B subject 2 cross-exam or jury questions\"\n",
            " 'Police walk up on me I be blowin smoke in dey face  wanna lock me up cus I got dope shit is gay'\n",
            " 'Floods cause damage and death across Asia | All media content | http://t.co/a2myUTpDiQ | 05.08.2015 http://t.co/XrSkT0s9lz'\n",
            " '#Sismo DETECTADO #JapÌ_n 06:32:43 Miyagi Estimated seismic intensity 0 JST #??'\n",
            " 'I hope it rains throughout the whole weekend I hope it floods and the portaloos become sentient.'\n",
            " '@SZMNextDoor I got this cute lil cliff you can fall off of??'\n",
            " 'World Class Tgirl Ass 02 - Scene 4 - Pandemonium http://t.co/HzHoa6VZAS'\n",
            " 'Omg earthquake'\n",
            " 'Beautiful disaster // Jon McLaughlin is such a good song'\n",
            " \"I should have known better than to think I'd get anything done after a 2 hour capoeira class. Stretcher-bearer!\"\n",
            " '29% of #oil and #gas organizations have no real-time insight on #cyber threats. See how #EY can help http://t.co/qamgvQAFzc'\n",
            " \"We're #hiring in our Toronto branch! Surety Underwriter/Senior Underwriter and Casualty Product Leader. Apply today. http://t.co/PraMKlrMhz\"\n",
            " \"/ it's fine baby I was screaming at the TV x https://t.co/JwDfPYG3NT\"\n",
            " '@TinyJecht Are you another Stand-user? If you are I will have to detonate you with my Killer Queen.'\n",
            " \"kabwandi_: Breaking news! Unconfirmed! I just heard a loud bang nearby. in what appears to be a blast of wind from my neighbour's ass.\"\n",
            " '@capicapricapri @Brento_Bento wha t is this kids damage'\n",
            " 'Alleged East Bay serial arsonist arrested http://t.co/WR48AQTUm7'\n",
            " \"An outbreak of Legionnaires' disease in New York has killed at least 8 people @BI_Video http://t.co/eRJ7YANjXm http://t.co/vbRPeuJANL\"\n",
            " 'My #mantra this morning!! Heading out to Make a whirlwind trip down south\\x89Û_ https://t.co/geht4sKI86'\n",
            " 'Petition | Heartless owner that whipped horse until it collapsed is told he can KEEP his animal! Act Now! http://t.co/nJRjxqBjr4'\n",
            " \"#NowPlaying the playlist 'When Jazz and Hip-Hop Collide' in @TIDALHiFi http://t.co/mzQq5PAi8G\"\n",
            " 'The Ashes Test match is currently more interesting than stupid Congress rioting...'\n",
            " 'Maaaaan I love Love Without Tragedy by @rihanna I wish she made the whole song'\n",
            " '~ More wicked weather rolls through Calgary and surrounding areas http://t.co/SxwJyR3K3l http://t.co/aEWGlVqReH'\n",
            " 'RNK issues Severe Thunderstorm Warning [wind: 60 MPH hail: 1.00 IN] for Rockingham Stokes [NC] till Aug 5 10:00 PM EDT  \\x89Û_'\n",
            " 'Slowly sinking wasting ?? @edsheeran'\n",
            " 'my school just put the evacuation alarms on accidently with 2 different trial exams happening are you kidding me'\n",
            " 'So @LawsonOfficial just followed me and I cannot contain my screams of joy! #Thankyou! ??????????'\n",
            " 'A Marshall Plan for the United States by Dambisa Moyo via @ProSyn #oped http://t.co/l5g2zJ3kgG via @po_st'\n",
            " 'Hollywood movie about trapped miners released in #Chile http://t.co/r18aUtnLSd #ZippedNews http://t.co/CNqaE9foj6'\n",
            " 'New Ladies Shoulder Tote Handbag Faux Leather Hobo Purse Cross Body Bag Womens - Full read\\x89Û_ http://t.co/4FXfllRIen http://t.co/i12NLSr8Fk'\n",
            " \"Just had a heart attack because I thought my goat was dead. ???? don't worry Rocket is okay. ??\"\n",
            " \"Messi: has tattoos so he can't donate blood\\nRonaldo: runs into burning buildings to save dogs #respect\"\n",
            " '@BradleyBrad47 yeah but being fast and doing extremely high damage is what its all about if you want fast then im gonna have to get u the-'\n",
            " \"Bank manager asks Tom in an interview: 'What is cyclone'\\nTom: 'It is the loan given to purchase a bicycle'\"\n",
            " '150-Foot Sinkhole Opens In Lowndes County Residential Area http://t.co/cBAxCuBA0h'\n",
            " '@PTSD_Chat Yes. I feel the root of that is Shame - which can be found in the rubble of most trauma. #PTSDchat'\n",
            " 'Beastin Tapas this evening with some good folk! #funtimes #demolished http://t.co/JxUEPkmkRh'\n",
            " 'Man Cam just demolished his plate. His ass was hungry'\n",
            " 'Morgan Silver Dollar 1921 P CH Gem Bu PL Blazing MS++++++ Satin Rare Proof Like! - Full re\\x89Û_ http://t.co/99MbyFl3Id http://t.co/4ddMTguZzS'\n",
            " 'Sitting in a cafe enjoying a bite and cramming for my meeting during my whirlwind 14-hours in NYC! https://t.co/TO0BPiEymS'\n",
            " \"I liked a @YouTube video http://t.co/N95IGskd3p Minecraft: Episode 2 'Blaze Farm Beginnings!'\"\n",
            " \"NASAHurricane? EASTERN PACIFIC *Full Update* Satellite Sees Formation of Eastern Pacific's Tropical Storm Hilda\\nTh\\x89Û_ http://t.co/KsXTo8NKNl\"\n",
            " 'The cryptic words that guided pilots on the Hiroshima bombing mission http://t.co/nSS5L64cvR #canada'\n",
            " 'I remember when I worked at Mcdonalds I use to be hours late because we used military time and I use to mess up when I had to be there :/'\n",
            " '@UtahCanary sigh daily battle.'\n",
            " 'Two cranes restoring a bridge in the central Dutch town of Alphen aan den Rijn collapse on to buildings with rescuers searching for'\n",
            " 'The thing with rules is break it once it becomes easier the next time.\\nhttp://t.co/hGb1mc3IRk  https://t.co/6ysXGhc8gz'\n",
            " \"ColnHarun: Breaking news! Unconfirmed! I just heard a loud bang nearby. in what appears to be a blast of wind from my neighbour's ass.\"\n",
            " 'How to Survive in the Markets http://t.co/LnzI7o166Y #oil #investing #money #trading #forex #gold #silver #business http://t.co/TmpFWjPI6I'\n",
            " 'PennLive - Two families displaced by Mechanicsburg blaze - No one was injured in the fire. http://t.co/OHYD7Hhcpe'\n",
            " 'Crawling in my skin\\nThese wounds they will not hea'\n",
            " 'My asshole is on fire  https://t.co/Y3FO0gHg8t'\n",
            " 'Sinjar Massacre Yazidis Blast Lack of Action OveråÊHostages http://t.co/Carvv6gsRb http://t.co/lAn76ZqKxG'\n",
            " 'Britons rescued amid Himalaya floods (http://t.co/WGRXLy9pDO) http://t.co/BJ4hAAVAYE http://t.co/59p3AoIQUS'\n",
            " \"Suicide bomber 'hits Saudi mosque' http://t.co/kE6DjxAnmm\"\n",
            " 'How to Freeze Fruits and Veggies\\nhttp://t.co/MET0mtpr3S'\n",
            " 'Skinny Jeans are Hazardous for Your Health! #socialnews http://t.co/pAQanenCeS'\n",
            " '#WeLoveLA #NHLDucks Avalanche Defense: How They Match vs St. Louis Blues http://t.co/9v1RVCOMH2 #SportsRoadhouse'\n",
            " 'Ppl like unu feast today and famine tomorrow'\n",
            " 'Watch This Airport Get Swallowed Up By A Sandstorm In Under A Minute http://t.co/Rm50vCVjsh'\n",
            " 'Apply now to work for Dignity Health as #RN #Emergency Services Full Time 7a-7:30p Siena Campus in #Henderson #jobs http://t.co/FDiU44jLDJ'\n",
            " \"@JohnsonTionne except idk them?? it's really burning ??????\"\n",
            " 'One thing you can be sure of. There will never be bush fires in Scotland as the ground is always soaking wet????'\n",
            " 'Car engulfed in flames backs up traffic at Parley\\x89Ûªs Summit http://t.co/RmucfjCaZr'\n",
            " 'Domain other sophistication be annihilated closely up-to-the-minute feat: ZrNf'\n",
            " '@Im2aD I was going to tell him but you were body bagging him'\n",
            " 'Had an awesome time gettin wrecked at bowling last night! http://t.co/Da9lZtOn1c'\n",
            " 'SCREAMS. WHERE IS EVERYONE.\\n\\noh wait school\\n\\nok\\n\\nim ok'\n",
            " '#volleyball Attack II Volleyball Training Machine - Sets Simulation - http://t.co/dCDeCFv934 http://t.co/dWBC1dUvdk'\n",
            " \"@FiendNikki 'Deluge' is such an awesome word. No idea why I like it so much\"\n",
            " 'Environment Canada confirms 2nd tornado touched down last weekend åÈ http://t.co/x8zqbwNfO1'\n",
            " '#hot  C-130 specially modified to land in a stadium and rescue hostages in Iran in 1980 http://t.co/zLco4UE5OQ #prebreak #best'\n",
            " 'Another Mac vuln!\\n\\nhttps://t.co/OxXRnaB8Un'\n",
            " '@thebriankrause leos ass just got metaphorically blown up again #PiperWearsThePants #charmed'\n",
            " 'The Catastrophic Effects of Hiroshima and Nagasaki Atomic Bombings Still Being Felt Today http://t.co/tGcR5voFJ3'\n",
            " 'One Direction Is my pick for http://t.co/q2eBlOKeVE Fan Army #Directioners http://t.co/eNCmhz6y34 x1411'\n",
            " 'Reddit Will Now Quarantine Offensive Content http://t.co/8S0mTwRumQ #Technology #technews #puledo_tech_update'\n",
            " \"@BLutz10 People aren't rioting because justice has been served and that murderer is behind bars. Simple! No justice=no peace Justice=peace.\"\n",
            " 'The Latest: More homes razed by Northern California wildfire - http://t.co/5FcJVMl520 http://t.co/fvYRWhux8p'\n",
            " 'CANADA BC DROUGHT: Okanagan region issued Level 4 rating - Okanagan River (Columbia trib) fishing suspended to Sep 30 http://t.co/r4yZHxk7lw'\n",
            " 'Gotta try to let go of so many bloody things. Smh'\n",
            " \"Wreckage 'Conclusively Confirmed' as From MH370: Malaysia PM: Investigators and the families of those who were... http://t.co/2Jr3Yo55dr\"\n",
            " \"Nothing to fear. It's all about taking risks.\"\n",
            " \"@CTAZtrophe31 Everything must be OK because she's listening to 'Sandstorm' now...\"\n",
            " '//screams in the distance// http://t.co/Cfe9HUQN0h'\n",
            " \"@RVacchianoNYDN The only surprise is that they aren't ALL injured.\"\n",
            " 'gmtTy mhtw4fnet\\n\\nOfficials: Alabama home quarantined over possible Ebola case - Washington Times'\n",
            " 'Me trying to pass lax with my family ends up by me having to run after the ball after it gets bombed over my head'\n",
            " '@Benji_Devos thanks thanks :3'\n",
            " 'The Latest: More homes razed by Northern California wildfire - http://t.co/P3g3bQBczu http://t.co/RpBxdfnx5k'\n",
            " \"'We are now prepared to obliterate more rapidly and completely every productive enterprise the Japanese have above ground in any city.'\"\n",
            " '@ErinMariefishy everyone is setting flames upon me'\n",
            " \"Will be dropping fire selfie tomorrow saying 'you're welcome' ahead of time.\"\n",
            " \"&gt; Bin Laden family plane crashed after 'avoiding microlight and landing too far down runway... http://t.co/Tu9cgLmgVR #rochdale #heywood\"\n",
            " \"I still don't know how 8 hours of physical activity in the blazing sun isn't a sport.\"\n",
            " 'watching it go up in flames'\n",
            " 'Dan Hughes was taken off on a stretcher after Danielle Robinson collided @OU_WBBall hope they are both ok he called SOME  games over years'\n",
            " \"mom: 'we didn't get home as fast as we wished' \\nme: 'why is that?'\\nmom: 'there was an accident and some truck spilt mayonnaise all over ??????\"\n",
            " 'After death of Palestinian toddler in arson\\nattack Israel cracks down on Jewish'\n",
            " '11 puncture wounds'\n",
            " '#reuters Twelve feared killed in Pakistani air ambulance helicopter crash http://t.co/ShzPyIQok5'\n",
            " 'Need to stop bottling things up because when everything eventually explodes the casualties just keep getting higher and higher'\n",
            " 'Nueva favorita: EmergeNCY feat. The Chemical Brothers / My Bits http://t.co/MET4YtZMFB @DeezerColombia'\n",
            " \"Why weren't they taken back to Africa once rescued? #c4news\"\n",
            " \"I've been trying to write a theological short story about a monster living in a sinkhole. Then I heard about Brooklyn. #accidentalprophecy\"\n",
            " 'Cartoon Bears. Without them we would qave no knowlddge of forest fires or toilet paper.'\n",
            " 'Michael talking about when he was electrocuted omg #ROWYSOLouisville http://t.co/HxVfmoUhDM'\n",
            " \"@lunasagalle @synapsenkotze \\n'The Exploded - Bean the Bastard'\"\n",
            " \"'Food crematoria' provoke outrage amid crisis famine memories... http://t.co/REsxAvgpyJ\"\n",
            " '@cyclone_reizei If I may ask Cyclone-sama have you read Jailed Fate by Rindou?'\n",
            " 'Police: man in his early 30s dies after shooting on Vermont St.: http://t.co/HteZ4z48Od http://t.co/Eq4rXC9bb3'\n",
            " '???? throwback Thurs ?? ????  Will You Still Love Me Tomorrow http://t.co/wmoyibWEc1 ??   @LucyMayOfficial  ?? ?? #Whirlwind http://t.co/0rsverLzTm'\n",
            " \"@Hail_Zel man you kno I'm there !\"\n",
            " 'Sex Workers Say Credit Card Bans On Online Ads Do More Harm Than Good http://t.co/B9Zx2xZ6aW'\n",
            " \"'[+54 -9] How do people not know who Kendall Jenner is? She has 6 times the Instagram followers of GD' SCREAMING LMAO\"\n",
            " 'The Latest: #Wildfire destroys more homes but crews advance - WQOW TV News 18 http://t.co/Hj26SFDdfI'\n",
            " \"Check out my new song 'Collide' live at the Bowery Electric! http://t.co/MESgcNGAz0\"\n",
            " \"mama I'm still thugging the world is a war zone\"\n",
            " '3 Things All Affiliate Marketers Need To Survive Online - Every affiliate marketer is always... http://t.co/kPMYqUJSUE'\n",
            " 'Attention all RCHS football players there will be coffins and body bags by the locker rooms grab one tommorow because were gonna die'\n",
            " 'So did we have a hurricane tornado tsunami? Someone please tell me what the hell happened #nopower'\n",
            " '@r_lauren83199 @xojademarie124 i hope you get Batista Bombed lauren'\n",
            " 'Richmond police officer wounded suspect killed http://t.co/m9d2ElImZI'\n",
            " 'Man my stomach feel like a tsunami ??.'\n",
            " \"@TrillAC_ I think we've only had like one black mass murderer in the history of mass murders white people do that shit.\"\n",
            " 'Californian Bush Fires 2015 http://t.co/rjdX29wosp'\n",
            " '&gt;As soon as maintenance ends everyone floods the servers\\n&gt;Servers destroyed by extreme load\\n&gt;Maintenance starts anew'\n",
            " '@FaZe_Rain all hail the Cloud'\n",
            " 'U.S National Park Services Tonto National Forest: Stop the Annihilation of the Salt River Wild Horse... http://t.co/6LoJOoROuk via @Change'\n",
            " 'Kai Forbath just demolished a weather station set up on a drill field with a missed field goal. Thing just exploded into metal bits.'\n",
            " '#BreakingNews Militants attack Udhampur police post; 2 SPOs injured http://t.co/EqCCrTlnbd'\n",
            " 'You can only make yourself happy. Fuck those tryna ruin it keep smiling ??'\n",
            " \"I added a video to a @YouTube playlist http://t.co/bcjYleRRYX Ori and the Bind forest ep 6 'Fire and death'\"\n",
            " 'A Marshall Plan for the United States by Dambisa Moyo via @ProSyn #oped http://t.co/GnPStnvi5G via @po_st'\n",
            " '...the kids at the orphanage were obviously not too traumatised. http://t.co/DjA4relcnS'\n",
            " 'http://t.co/FCqmKFfflW Twelve feared killed in Pakistani air ambulance helicopter crash http://t.co/vAyaYmbNgu'\n",
            " \"Don't tell the bride gives me the fear\"\n",
            " 'dog rendered a kitten from burning buildings\\nhttps://t.co/9cpWIEcEGv http://t.co/rZLYtneZ2u'\n",
            " \"The Finnish hip hop pioneer Paleface will be 'rescued from a drifting raft' and brought into the container later #enkelbiljett #menolippu\"\n",
            " '@D33munni @JeanNamibian noooooooo ... *proceeds to fall off a cliff*'\n",
            " \"USATODAY: On today's #frontpage: #Bioterror lab faced secret sanctions. #RickPerry doesn't make the cut for FoxNew\\x89Û_ http://t.co/5uKOHk7SoB\"\n",
            " '@questergirl ditto but its all we had. and the way i feel if i drank vodka over ice they would have to body bag me'\n",
            " '@Welles_7 he was injured. He is a pro bowl back.'\n",
            " \"Have you ever remembered an old song something you haven't heared for years?  words that carry floods of memories all along. #priceless\"\n",
            " \"If I can't ruin his mood then I may have lost my direction. https://t.co/sLc27EMUgM\"\n",
            " 'Sioux City Fire Officials Believe Bridge Collapse Lead To Cement Truck Roll Over - Siouxland Matters: Siouxlan... http://t.co/sZTGmbkoHG'\n",
            " \"Let's fraction the vital need for Our fatalities.  How would you break it down in #education #econom http://t.co/ZSqM8ihE1K\"\n",
            " 'Read ~ THE UNHEALED WOUNDS OF AN UNENDING CONFLICT #Kashmir #Pakistan #India http://t.co/sAF9MoSkSN #EndOccupation #EndConflict #FreeKashmir'\n",
            " '@spicybreads @coxytown i tried downloading it and it crashed after the tutorial'\n",
            " 'Building the perfect tracklist to life leave the streets ablaze'\n",
            " '@Hurricane_Dolce no prob'\n",
            " 'Zayn Malik &amp; Perrie Edwards End Engagement: She\\x89Ûªs \\x89Û÷Devastated\\x89Ûª http://t.co/GedOxSPpL9 http://t.co/ACZRUOrYtD'\n",
            " 'this is ridiculous....'\n",
            " 'I wanted to set Chicago ablaze with my preaching... But not my hotel! http://t.co/o9qknbfOFX'\n",
            " 'I scored 111020 points in PUNCH QUEST stopped when a squeaky bat collided into my skull. http://t.co/aEtgbxm1pL'\n",
            " '@BillMcCabe  sky looks clear.... No smoke from the fires. Enjoy your time in Tahoe. One of my favorite places!'\n",
            " 'Officer wounded suspect killed in exchange of gunfire: Richmond police say an officer has been wounded and a ... http://t.co/HwOrB1N6vN'\n",
            " '*nominates self but @_ohhsehuns wins by a landslide* https://t.co/rCvDrwoWvO'\n",
            " 'Last chance to work at the old FFA foodstand at the fairgrounds. We are finishing demolition at 9am.  Any help would be appreciated'\n",
            " '@soapscoop i need you to confirm that ross is dead cause i dont trust anyone else yh'\n",
            " 'Join #charity 10k #run event! @DoningtonDash\\n11am start Sun 20 Sept 2015\\nCastle Donington Community First Responders\\nhttps://t.co/G1Nw99YJ8U'\n",
            " 'Cutting for some celebrety and then posting the wounds online is a no-go.'\n",
            " '@DarrylB1979 yea heard about that..not coming out until 2017 and 2019 ?????? Vampiro is bleeding'\n",
            " 'Three Israeli soldiers wounded in West Bank terrorist attack via /r/worldnews http://t.co/9TyucdWh3g'\n",
            " 'kindermorgan gas explosion'\n",
            " 'Hundreds of migrants feared drowned off Libya: Migrants stand next to their tent at a camp set near Calais\\x89Û_ http://t.co/PY4mtW5xpM'\n",
            " 'Hiroshima bombing justified: Majority Americans even today - Hindustan Times http://t.co/cC9z5asVZh'\n",
            " \"Yea so I'm gonna demolish all those boundaries that I seem to have 'unconsciously' set for myself with negative thoughts!\"\n",
            " '#hot  Funtenna: hijacking computers to send data as sound waves [Black Hat 2015] http://t.co/wvTPuRYx63 #prebreak #best'\n",
            " '@Flow397 Coming atcha from Boston. Had golfball sized hail yesterday sunny amazing skies today! #ParkChat'\n",
            " 'Our Deeds are the Reason of this #earthquake May ALLAH Forgive us all'\n",
            " '@missambear your Tweet was quoted by @WIRED  http://t.co/E90J3vJOLc'\n",
            " '#hot  Funtenna: hijacking computers to send data as sound waves [Black Hat 2015] http://t.co/aAtt5aMnmD #prebreak #best'\n",
            " \"@RohnertParkDPS You're on stage now! Right under the lights! Isn't it funny?! Where do you get the goofballs with which you staff your PD?\"\n",
            " \"A thought on not dismantling our weapons 'yet' http://t.co/vn0acCF6D4\"\n",
            " 'The Latest: Washington #Wildfire misses town; evacuations end - KHQ Right Now http://t.co/aNlhW2IzkZ'\n",
            " \"@IAN_Hellfire you said it's rude based on an experience. Kind of a next level sub tweet in a way lol. Either way you got worked up\"\n",
            " 'Sure - take them away from fire fighting for King Stevie &amp; Crusty to have a photo-op ! http://t.co/epeX4axG4b'\n",
            " \"--thus making @FemaleGilgamesh's assault useless.\\nThe spears collided with the dark force however did not penetrate.\\n\\nDue to the dark --\"\n",
            " \"It's a heat wave. #Squad #RevItUp #PizzaRev http://t.co/bp8bm8xSXw\"\n",
            " 'Photographer Brian Ruebs endures 4500-feet climb to capture bride and groom http://t.co/JXhAZEBNQK'\n",
            " 'Fear Factory - Cars (Official MusicVideo) http://t.co/UUzaUMdObc'\n",
            " 'Okay maybe not as extreme as thunder and lightning but pretty much all other types! #FIFA16  https://t.co/ETuuYISLHw'\n",
            " '@Eazzy_P we will never know what would have happened but the govt seemed to think that their beliefs warranted the deaths of innocent japs'\n",
            " \"Hero's fight wars and save ppl from burning buildings etc I'm sorry but u gotta do more than pay 4 a sex change be4 I call u a hero\"\n",
            " 'Photo: weallheartonedirection: I wouldn\\x89Ûªt let David electrocute himself so I\\x89Ûªm the asshole http://t.co/uWiJMEGl4E'\n",
            " \"RT to ruin @connormidd 's day.  http://t.co/krsy54XMMC\"\n",
            " \"China's Stock Market Crash: Are There Gems In The Rubble? http://t.co/3PBFyJx0yA\"\n",
            " 'Love my girlfriend'\n",
            " \"In Photos: The Young Refugees Forced to Flee Burundi's Violence | VICE News https://t.co/jOjnq2oOPi see more http://t.co/DsKuI6Mmgl\"\n",
            " \"Sitting still in the #CityofMemphis traffic is like sitting in a war zone! They don't move for the Police.. They don't care\"\n",
            " 'Paul Craig Roberts \\x89ÛÒ Vladimir Putin Issues Major Warning But Is It Too Late To Escape A http://t.co/NVfKzv5FEx #brics #roberts #russia'\n",
            " 'Big Love @IbeyiOfficial https://t.co/OlnK1TI1NM'\n",
            " \"I don't think I've forgiven Angelina Jolie yet sef????\"\n",
            " 'Black Eye 9: A space battle occurred at Star O784 involving 2 fleets totaling 3967 ships with 39 destroyed'\n",
            " 'Megadeth-Symphony of Destruction http://t.co/xzfxRgLAlp'\n",
            " 'Musician Kalle Mattson Recreates 34 Classic Album Covers in Clever Music Video for \\x89Û÷Avalanche\\x89Ûª http://t.co/VBSwhz4s2V'\n",
            " '@Hienshi @Gbay99 it wouldnt turn into a sandstorm if riot gave a good answer.  Instead they gave dumb excuses. At least new client is there'\n",
            " 'Rly tragedy in MP: Some live to recount horror: \\x89ÛÏWhen I saw coaches of my train plunging into water I called ... http://t.co/72ix7vM87w'\n",
            " 'Twitter is doing a count down to the rioting and financial collapse of Brazil #Rio2016 http://t.co/9mtrq5Jf4d'\n",
            " 'Migrants drown at sea after boat capsizes off #Libya http://t.co/t4pv0nrOoV http://t.co/PSeYLYzck4'\n",
            " 'Arson suspect linked to 30 fires caught in Northern California http://t.co/wnuqQAtTTP (via @latimes)'\n",
            " 'Tomorrow is the day we start armageddon #preseasonworkouts ????'\n",
            " 'How many cars do those cyclists wreck going past scratching with pedals. They should be banned #c4news'\n",
            " 'Two cars collided following shotgun fire in Denton http://t.co/0r03C6njLI'\n",
            " 'The Drowning Girl by Caitlin R. Kiernan Centipede Press Signed numbered Limited - Full re\\x89Û_ http://t.co/tCJfCkXdZL http://t.co/EmTXtGO4CE'\n",
            " 'Longest Streak of Triple-Digit Heat Since 2013 Forecast in Dallas: An unrelenting and dangerous heat wave will... http://t.co/s4Srgrmqcz'\n",
            " \"@CacheAdvance besides your nasty thunderstorm or snowstorm nah. Can't say that I have.\"\n",
            " 'Being bestfriends with your high school crush???? @yourboy_shawn'\n",
            " \"\\x89ÛÏ@_keits: @LIVA_GOTTA get a gold chain you'll understand\\x89Û\\x9d\\n\\nOne boy gave me one and my neck went green It traumatised me\"\n",
            " 'Flames visible from fire in Tucson mountains: A lightning-caused fire burning in steep rocky terrain in mountains\\x89Û_ http://t.co/zRTRPL77QV'\n",
            " 'MaFireEMS: RT WMUR9: Two buildings involved in fire on 2nd Street in #Manchester. WMUR9  http://t.co/QUFwXRJIql via KCarosaWMUR'\n",
            " \"Turkish troops killed in Kurdish militant 'suicide attack' http://t.co/wD7s6S0vci\"\n",
            " 'My biggest fear is disappointing the people who believe in me'\n",
            " '@sabcnewsroom sabotage!I rule out structural failure'\n",
            " 'Campsite recommendations \\nToilets /shower \\nPub \\nFires \\nNo kids \\nPizza shop \\nForest \\nPretty stream \\nNo midges\\nNo snakes\\nThanks ??'\n",
            " '@HearItFromPatty Also pls help us w/ our campaign to warn the public about the hazardous keratin treatments. The Brazilian Blowout COPYCATS'\n",
            " \"Hey all take a look at my review of 'Pandemonium' &amp; 'Requiem' by Lauren Oliver. Enjoy! http://t.co/cPLYReWFZ3\"\n",
            " '@panic awesome thanks.' 'My brother is crying cause the thunder lmao'\n",
            " \"@Marvel @DCComics @ImageComics @DarkHorseComics @IDWPublishing And by doing this you're enabling the possible collapse of the industry.\"\n",
            " 'Police expand search for missing pregnant woman in Beloeil: Police in Richelieu-Saint-Laurent are expanding th... http://t.co/hMuyzmv8qH'\n",
            " \"@MeetKakarotto 'Don't bother while you were offline I managed to evacuate everyone out of here including Hinata so so go ahead and cause--\"\n",
            " 'The debris found on Reunion Island was from flight #MH370. The mystery behind that plane disappearance could be better than any novel.'\n",
            " 'Free Ebay Sniping RT? http://t.co/B231Ul1O1K Lumbar Extender Back Stretcher Excellent Condition!! ?Please Favorite &amp; Share'\n",
            " 'New Expansion Ideas - Bard Class Holy Trinity + 1 http://t.co/EGioxBabOe'\n",
            " 'Rainstorm Update: Further North or Further South? http://t.co/50vdQ7A1M5 http://t.co/QH6oXfT9Ir'\n",
            " '#reno Truck trailer catches fire in Reno http://t.co/k5FIJaNkJb'\n",
            " 'Suicide of a Superpower : Will America Survive To 2025? by Patrick J. Buchana... http://t.co/eMTwirknyq http://t.co/M9K08OaZve'\n",
            " '@JakeGint the mass murder got her hot and bothered but at heart she was always a traditionalist.'\n",
            " 'Owner of Chicago-Area Gay Bar Admits to Arson Scheme: Frank Elliott pleaded guilty to hiring an arsonist to to... http://t.co/jCFEhrHLq8'\n",
            " \"California man facing manslaughter charge in Sunday's wrong-way fatal crash in ... - http://t.co/1vz3RmjHy4: Ca... http://t.co/xevUEEfQBZ\"\n",
            " 'Some good info to help first responders cope- Individual Resilience: Factsheet for Responders- http://t.co/FcFpijiqt5'\n",
            " 'On the eve of Jon Stewart leaving The Daily Show WMATA has honored him by letting another train get derailed and crippling the service.'\n",
            " 'POV footage captures violent landing from inside plane during storm http://t.co/kxewlHH7Uw'\n",
            " 'Couple storms near Guthrie OK. Leaving Norman for an evening lightning op. #okwx http://t.co/HcwrK81p71'\n",
            " 'Micom 2015 Summer Contrast Candy Color Bowknot Cross Body Tote Shoulder Bags for Womengirls with Micom Zip Po http://t.co/sQMTKKJiMJ'\n",
            " \"My niece just asked me 'would you be scared if there was an apocalypse here?' ????\"\n",
            " '#world FedEx no longer to transport bioterror germs in wake of anthrax lab mishaps  http://t.co/5zDbTktwW7'\n",
            " 'LOL Warthen in the midst of bullpen meltdown reaching for Double Bubble. #Mets'\n",
            " \"'The only thing that stands between you and your dream is the will to try and the belief that it is actually possible.' - Joel Brown\"\n",
            " \"When your body's like 'go to fuck to sleep Sami' and your mind's like 'make an emergency plan for every natural disaster GO'\"\n",
            " 'beforeitsnews : Global Derivatives: $1.5 Quadrillion Time Bomb http://t.co/GhmmUj7GbE (v\\x89Û_ http://t.co/u9LvvLzhYe) http://t.co/LyJ57pq3yX'\n",
            " \"@Petchary but I can't say that either of us should be displeased. U.S move up five spots Jamaica 21! Congrats to the #ReggaeBoyz\"\n",
            " '#Earthquake #Sismo M 1.4 - 4km E of Interlaken California: Time2015-08-06 00:52:25 UTC2015-08-05 17:52:25 -07... http://t.co/wA5C77F8vQ'\n",
            " 'Conning Builds Strong Case for Portfolio #Diversification for Property-Casualty Insurers http://t.co/33FbR25t1O'\n",
            " 'SHOUOUT TO @kasad1lla CAUSE HER VOCALS ARE BLAZING HOT LIKE THE WEATHER SHES IN'\n",
            " 'News Wrap: UN warns female and child casualties are on the rise in Afghanistan http://t.co/vSvY1qe69t #pbs #iraq'\n",
            " 'Wait until i tell my college friend who reafs bloody mary too about the drama cd'\n",
            " '#RaheelSharif is manifesting how one RIGHT man at the helm can save a Sinking Ship engulfed in a Dark-Stormy-Tidal-Sea. Well Done.'\n",
            " 'I liked a @YouTube video from @slimebeast http://t.co/ulr6MyklnH Town of Salem | How to Win as The Arsonist'\n",
            " \"witnessed my very first demolition derby today psa that my excitement has not worn down and it's been over 3 hours\"\n",
            " 'Trauma injuries involving kids and sport usually cycling related: Director Trauma NS  http://t.co/8DdijZyNkf #NS http://t.co/52Uus4TFN3'\n",
            " \"WCE I can't even lie even tho I can't stand her she still will always be my crush ?? @_explicitpretty\"\n",
            " \"When you on the phone and @Worstoverdose screams 'jaileens caked up on the phone' so everyone looks at you ????????????\"\n",
            " '@AnimalLogic LOTG smoothed out once blue bird and moth were caught and let go. Chalked up mouse massacre to a subtle Disney diss.'\n",
            " 'well done me! everyone applaud me and how terrific i am and how i never ruin anything'\n",
            " \"If I survive tonight. I wouldn't change one thing. ??\"\n",
            " \"...American casualties including 400000\\x89ÛÒ800000 fatalities and five to ten million Japanese fatalities.' https://t.co/TxzXCNUDr8\"\n",
            " '@chillimik @HushLegs haha ??????..Are you really comparing yourselves to the emergency services! Thats brilliant! talk about up your own arse!'\n",
            " '@Ruddyyyyyy @JamieGriff97 Jamie is too traumatised to answer http://t.co/VzgslEPkkH'\n",
            " \"I blew up #oomf instagrams cause she's cute and she's an active follower\"\n",
            " 'Downtown Emergency Service Center is hiring! #Chemical #Dependency Counselor or Intern in #Seattle apply now! #jobs http://t.co/SKQPWSNOin'\n",
            " 'Watch our video of Wendell Berry speaking about the BP oil spill in the Gulf of Mexico.\\n\\nIt\\x89Ûªs the birthday... http://t.co/tN1aX1xMBB'\n",
            " 'Plains All American Pipeline company may have spilled 40 percent more crude oil than previously estimated.... http://t.co/WEZjqC4Cf2'\n",
            " 'RT @FreeDiscountBks: **Desolation Run** #FREE till 8/7! http://t.co/AxVqldTeHC #Military #Thriller #Suspense #Kindle #amreading http://t\\x89Û_'\n",
            " '[Report 5] 18:22:45 Ibaraki Prefecture offing M5.5 Depth 60km Maximum seismic intensity 4 #Earthquake'\n",
            " 'The only country claiming the moral high ground is the only one to have dropped atomic bombs. #Hiroshima #BanTheBomb\\nhttp://t.co/6G49ywwsQJ'\n",
            " 'Don avoid wearing dead black flaming red and stark white so much and esp. at debate; go with your blue gold brown even to shoes; and'\n",
            " \"@EMILY4EVEREVER haha it's alright..but more than twice is just stupid ;) he's traumatised ????\"\n",
            " 'We should all have a fire safety plan. RT @Matt_Kroschel: MOCK WILDFIRE near #Vail as agencies prepare for the worst. http://t.co/SWwyLRk0fv'\n",
            " \"@cnni @PrisonPlanet Climate Change CNN weather 'specialist' warning:wild fires rain flooding noting about the sun? http://t.co/0sZwlWL9qU\"\n",
            " 'Check out Ameribag Healthy Back Bag Shoulder Cross Body Backpack Khaki Tan Beige Nylon http://t.co/r4k7TyLofJ @eBay'\n",
            " \"There is a #baby in Oliver's #swim class that cries the ENTIRE class. It's like his #parents are #waterboarding him or dipping him in #lava\"\n",
            " '#USGS M 1.9 - 5km S of Volcano Hawaii: Time2015-08-06 01:04:01 UTC2015-08-05 15:04:01 -10:00 at epicenter... http://t.co/dIsrwhQGym #SM'\n",
            " 'Just had my first counter on a league game against another Orianna I happened to demolish her xD. I totally appreciate people that play her'\n",
            " 'Football hooligan jailed for rioting before game in Scotland was already banned from matches in England #UkNews http://t.co/q5mp2Q6Hy8'\n",
            " 'Listen to Landslide by Oh Wonder #SoundCloud https://t.co/SJkgJxff2r'\n",
            " '@CortneyMo_ put this in Detroit niggas gone be acting out?? tryna fuck n drown mfs????????loose they buffs in the water?? https://t.co/OAQtjawGxg'\n",
            " 'Police kill hatchet-wielding gunman who opened fire inside Nashville movie theater: AåÊmiddle-aged manåÊarmed wi... http://t.co/tyD47NfL5x'\n",
            " \"Afghan conflict sees 'sharp rise' in female casualties http://t.co/4hcYwRWN6L http://t.co/2TwXZ6vxbx\"\n",
            " \"Alleged driver in #Kuwait attack 'joined Daesh just a day before the June 26 suicide bombing' he confesses in court http://t.co/Tmz6X1N2gQ\"\n",
            " \"Hope Dorett's 'mudslide' cake wins?? #GBBO\"\n",
            " '13 reasons why we love women in the military   - lulgzimbestpicts http://t.co/N1tjCt8HMC http://t.co/pYTQM7rVP0'\n",
            " 'SocialWOTS: GLOBI_inclusion: RT NRC_MiddleEast: Sandstorm engulfs caravans and tents in the #Zaatari refugee camp \\x89Û_ http://t.co/XBNLSBzzgI'\n",
            " \"-honey you ain't no angel. You like to scream these words as a weapon. Well go ahead take your best shot woman. I wanna leave you it's\"\n",
            " 'Strange to encaustic cerography portion him till give voice deluge: bYITyf http://t.co/I7ap1MES8M'\n",
            " 'Amazon Deal - wait or buy? http://t.co/0T8VqKEArI'\n",
            " 'that horrible sinking feeling when you\\x89Ûªve been at home on your phone for a while and you realise its been on 3G this whole time'\n",
            " 'When a real nigga hold you down you supposed to drown'\n",
            " 'China is only delaying the deluge: If the fundamentals of an economy do not support the valuations of a stock ... http://t.co/fwIkyUrC18'\n",
            " 'Tt kettlebell upheaval blueprint over chris lopez hindsight: JhmNYe'\n",
            " 'Death of Loretta Fuddy responsible for authenticating Obama birth certificate the sole fatality of nine on plane http://t.co/MzRhfOJT2j'\n",
            " 'descended or sunk however it may be to the shadowed land beyond the crest of a striking cobra landing harshly upon his back; torch and'\n",
            " \"Wreckage 'Conclusively Confirmed' as From MH370: Malaysia PM: Investigators and the families of those who were... http://t.co/DtFSWNJZIL\"\n",
            " \"mentions of 'theatre +shooting' on Twitter spike 30min prior to $ckec collapse http://t.co/uuBOvy9GQI\"\n",
            " 'Listening to Blowers and Tuffers on the Aussie batting collapse at Trent Bridge reminds me why I love @bbctms! Wonderful stuff! #ENGvAUS'\n",
            " 'Natalie Stavola our co-star explains her role in Love and Hostages. Check it out! #LH_movie #indiefilm #comingsoon\\nhttps://t.co/2Dw23pMF4B'\n",
            " '(SJ GIST): 148 Houses Farm Produce Destroy... http://t.co/dkrGS2AWEX #StreetjamzDotNet | https://t.co/mR9KcGpIwM'\n",
            " '@USArmy has entered into the #JAGM project to replace #TOW and Hellfire missiles. Check it out here: http://t.co/2mnQC73hFk'\n",
            " 'Georgia sinkhole closes road swallows whole pond http://t.co/cPEQv52LNA'\n",
            " 'Trafford Centre film fans angry after Odeon cinema evacuated following false fire alarm: \\n Twitter users tell ... http://t.co/dZLENSe1Gw'\n",
            " 'Governor allows parole for California school bus hijacker who kidnapped 26 children in 1976. http://t.co/hdAhLgrprl http://t.co/Z1s3T77P3L'\n",
            " '@MoorlandsChmbr Loads of stuff going on recently. See the blog at http://t.co/XVcO7sLxhW #sinkhole #piling http://t.co/jbVmGeg522'\n",
            " \"@kirkmin after listening to you demolish @BartHubbuch on @weei I can't wait to bait my patriot hater co-workers into a Brady discussion\"\n",
            " \"I'M LAUGHING IN THE FACE OF CASUALTIES AND SORROW THE FIRST TIME I'M THINKING PAST TOMORROW BUT I AM NOT THROWIN AWAY MY SHOT\"\n",
            " 'Summer #summervibes #california #puppy #pitmix #rescued #brixton #banksy #happy #mybabies https://t.co/7VoVkTXsPo'\n",
            " 'Weather forecast for Thailand  A Whirlwind is coming ...2 september https://t.co/rUKjYjG9oQ'\n",
            " 'Fel Lord Zakuun is about to DIE ! #Hellfire #WOD http://t.co/x1oNV3d5uX'\n",
            " \"'We\\x89Ûªre blown away by this extension. Nothing we\\x89Ûªve seen has as many options as this one.' https://t.co/0YzgW9ZbHR  https://t.co/rHtaqjvQn2\"\n",
            " '#?? #???? #??? #??? MH370: Aircraft debris found on La Reunion is from missing Malaysia Airlines ...  http://t.co/hHWv0EUDFv'\n",
            " '@NoahCRothman Bore him with minutiae serve bad champagne. He may just explode.'\n",
            " 'that new lil b x chance is nothing but flames'\n",
            " 'Earthquake : M 3.4 - 96km N of Brenas Puerto Rico: Time2015-08-05 10:34:24 UTC2015-08-05 06:34:24 -04:00 at\\x89Û_ http://t.co/sDZrrfZhMy'\n",
            " 'Chilli heat wave Doritos never fail!'\n",
            " 'So you have a new weapon that can cause un-imaginable destruction.'\n",
            " \"Aftershock was the most terrifying best roller coaster I've ever been on. *DISCLAIMER* I've been on very few.\"\n",
            " 'Why must I have a meltdown every few days? ??'\n",
            " '@bomairinge @EluTranscendent straight body bagging.'\n",
            " 'The answer my friend is yelling in the wind-my latest article for http://t.co/LbMeKYphM5.Pls read and share - thanks! http://t.co/9NwAJLi9cr'\n",
            " 'DK Eyewitness Travel Guide : Chicago by Dorling Kindersley Publishing Staff\\x89Û_: travel books eBay auctions you s... http://t.co/tj3LtPZfW1'\n",
            " \"#hot  Reddit's new content policy goes into effect many horrible subreddits banned or quarantined http://t.co/HqdCZzdmbN #prebreak #best\"\n",
            " 'Everything has sunk in except the fact that I am actually moving to the state of Colorado tomorrow. Been dreaming of it since I was a kid.??'\n",
            " \"Sadly How Windows 10 Reveals Microsoft's Ethics Armageddon http://t.co/sTfTjCrjEa\"\n",
            " \"Can't find my ariana grande shirt  this is a fucking tragedy\"\n",
            " 'Think Akwa Ibom!: Don\\x89Ûªt come to Uruan and demolish buildings again ex-Assembly member warns Udom Emmanuel  http://t.co/1cnw6NSka5'\n",
            " 'Governor weighs parole for California school bus hijacker http://t.co/7NPBfRzEJL http://t.co/Y0kByy8nce'\n",
            " \"#News Families to sue over Legionnaires: More than 40 families affected by the fatal outbreak of Legionnaires'... http://t.co/zfYqSAwvrk\"\n",
            " 'Governor Allows Parole for School Bus Hijacker http://t.co/JwfiiLJ8Wr liveleakfun ? http://t.co/IONWArVRFy'\n",
            " 'Mosque bombing strikes Saudi special forces; at least 15 people dead: A suicide bomber struck a mosque i... http://t.co/gigW51IZpK #news'\n",
            " 'Remembrance  http://t.co/ii4EwE1QIr #Hiroshima http://t.co/H3vUsqzyQo'\n",
            " '69 Dead Due to Floods in Myanmar: Naypyidaw Aug 5 (Prensa Latina) The death toll rose today to 69 in Myanmar... http://t.co/JoDs9a32PI'\n",
            " 'Twelve feared killed in Pakistani air ambulance helicopter crash - Reuters http://t.co/mDnUGVuBwN #yugvani'\n",
            " '@Arovolturi3000 survived because of magic  she is searching the wood for survivors outside of London'\n",
            " 'New crime: knowing your rights. Punishable by death'\n",
            " \"@MarioMaraczi I'm watching it right now.  He freaked out after the 1st.  First fight where he didn't demolish the guy\"\n",
            " \"The Hobbit: The Desolation of Smaug - Ed Sheeran 'I See Fire' [HD] http://t.co/OXRwRJZmnu\"\n",
            " 'INFO U. CLD: SCT012 BKN025. EXP INST APCH. RWY 05. CURFEW IN OPER UNTIL 2030 Z. TAXIWAYS FOXTROT 5 &amp; FOXTROT 6 NAVBL. TMP: 10. WND: 030/6.'\n",
            " 'Man crush everyday ????  @CristianInspire http://t.co/iXjQG1sx6u'\n",
            " 'Tricycle toddler atomic bomb\\nhttp://t.co/ljeRYHItwh In a fraction of a second Our decisions change the landscape of humanity.'\n",
            " \"VIDEO: 'We're picking up bodies from water': Rescuers are searching for hundreds of migrants in the Mediterran... http://t.co/PUezv6bd37\"\n",
            " \"@Ayshun_Tornado then don't\"\n",
            " '@TrustyMcLusty no passengers were on the derailed train. But the who morning commute is fcked. Go home.'\n",
            " 'Crying out for more! Set me ablaze'\n",
            " \"Businesses are deluged with invoices. Make yours stand oup with colour or shame and it's likely to rise to the top of the pay' pile.\"\n",
            " 'I went to pick up my lunch today and the bartender was holding my change hostage because he wanted my number. ??'\n",
            " 'One Direction Is my pick for http://t.co/q2eBlOKeVE Fan Army #Directioners http://t.co/eNCmhz6y34 x1402'\n",
            " 'NWS has Continued a Severe Thunderstorm Warning for Oklahoma-OK until 10:30 PM'\n",
            " \"'i never understood guys who wanted to run into burning buildings.'\\n'you chase murderers.'\\n'not if they're on fire.'\"\n",
            " 'Major accident causes life-threatening injuries closes highway: An 18-wheeler and an SUV collided and then\\x89Û_ http://t.co/ajTXUafOEM'\n",
            " \"The Prophet (peace be upon him) said 'Save yourself from Hellfire even if it is by giving half a date in charity.'\"\n",
            " 'Corey Robinson having some solid reps at RT although as I type this he got beat on lightning dip by T. Walker'\n",
            " \"All you have to do is look up sports riots on google and you'll see more than couches being burned.. You fr gotta go https://t.co/P1AmgINsYs\"\n",
            " 'Heavy smoke pouring out of buildings on fire in Port Coquitlam http://t.co/GeqkdaO4cV http://t.co/Dg0bGzeCgM'\n",
            " \"I can't drown my demons they know how to swim\"\n",
            " 'Riot Kit Bah - part of the new concept Gear coming for Autumn/Winter\\n#menswear #fashion #urbanfashion\\x89Û_ https://t.co/cCwzDTFbUS'\n",
            " \"@mallelis have you gotten to the post-battle we're-on-a-desolate-planet below-the-Mason-Dixon-Line style electro violin playing yet?\"\n",
            " 'Tension In Bayelsa As Patience Jonathan Plans To Hijack APC PDP - http://t.co/ComLG0VdbV'\n",
            " '@UN No more #GujaratRiot &amp; #MumbaiRiot92-93 which devastated 1000&amp;1000 Indianperpetrated by #Modi &amp; #ChawalChorbjp @UN_Women  @UNNewsTeam'\n",
            " 'Downtown Emergency Service Center is hiring a #Chemical #Dependency Counselor or Intern apply now! #Seattle #jobs http://t.co/SKQPWSNOin'\n",
            " 'New Ladies Shoulder Tote Handbag Women Cross Body Bag Faux Leather Fashion Purse - Full re\\x89Û_ http://t.co/BLAAWHYScT http://t.co/dDR0zjXVQN'\n",
            " 'HURRICANE GUILLERMO LIVE NOAA TRACKING / LOOPING WED.AUG.5TH ~ http://t.co/AuruGJEGIQ ~  http://t.co/L3w8miPvnT http://t.co/O85M1bJFRW'\n",
            " \"@SoDamnTrue  we know who u are you're a bleeding heart wannabe pickup artist\"\n",
            " 'AMBULANCE SPRINTER AUTOMATIC FRONTLINE VEHICLE CHOICE OF 14 LEZ COMPLIANT | eBay http://t.co/4evTTqPEia'\n",
            " 'Wildfire Burns On California U.s. China Economic Net \\x89Û_ : http://t.co/U2dO2mC2ri  http://t.co/3oM3xw6CZ8'\n",
            " '@jasalhad @brianboru67 @Jimskiv92 @hijinks1967 Rioting.'\n",
            " 'Mango juice with crushed ice&gt;&gt;&gt;&gt;??'\n",
            " \"i s2g if anyone tries to harm my cupcake i'll fucking hunt you down to the end of the earth #HarryBeCareful\"\n",
            " 'I can probably skip on these basic life maintenance things for a few days. (cut to burning buildings people screaming in the streets)'\n",
            " 'IS claims suicide bombing against Saudi police: An Islamic State group suicide bomber on Thursday detonated an... http://t.co/Dn5Buo7GSK'\n",
            " 'Thunderstorms with little rain expected in Central California. High fire danger. #weather #cawx http://t.co/A5GNzbuSqq'\n",
            " '@hazelannmac ooh now I feel guilty about wishing hatman out. I bet the mudslide was delicious!'\n",
            " 'Metro acting chief Jack Requa says train that derailed was a six-car train with 1000 and 2000 series rail cars. #wmata'\n",
            " \"When the answer my friend isn't blowing in the wind-IT'S YELLING! -How to Survive a Dust Storm http://t.co/9NwAJLi9cr http://t.co/tKMOtaeaCo\"\n",
            " '`bbcnews The Ass. of British Insurers says rioting will cost insurers  &amp;#163;163;millions. But police numbers are reduced by blind fat contr'\n",
            " 'Police Officer Wounded Suspect Dead After Exchanging Shots: Richmond police officer wounded suspect killed a... http://t.co/5uFTRXPpV0'\n",
            " 'coleslaw #wrecked http://t.co/sijNBmCZIJ'\n",
            " \"Waking up sick with a rainstorm outside would usually make me sad. Not today though. Put some The Kooks on the stereo and let's do this.\"\n",
            " 'HOBO Hobo Vintage Shira Convertible B\\x89Û_ $238.00 #bestseller http://t.co/0LLwuqn8vg'\n",
            " \"'Congress' should be renamed Italian Goonda Party. They are a motley crowd of hooligans and selfavowed crooks determined to derail democracy\"\n",
            " \"Best windows torrent client? was recommended Deluge but it looks like it was written 10 years ago with java swing and 'uses' worse\"\n",
            " \"@kyrikoni @ExpressandStar Who said veg and fruit was good for you. Hope there's been no injuries or fatalities.\"\n",
            " 'WWI WWII JAPANESE ARMY NAVY MILITARY JAPAN LEATHER WATCH WAR MIDO WW1 2 - Full read by eBay http://t.co/obfD7e4QcP http://t.co/yAZjE5OwVk'\n",
            " '5 Seconds of Summer Is my pick for http://t.co/qcHV3JqOVK Fan Army #5SOSFAM http://t.co/gc0uDfnFgg  ÌÑ1'\n",
            " '@1acd4900c1424d1 @FoxNews no one is rioting burning down buildings or looting.'\n",
            " \"'wHeRE's mY aRsOnISt aT???'\"\n",
            " 'Six people were killed Thursday when a Taliban suicide bomber detonated an explosives-rigged truck outside a police compound in eastern'\n",
            " 'I reject the laws of the misguided false prophets imprison nations fueling self annihilation'\n",
            " 'Wake Up Kern County Eyewitness News Mornings airing RIGHT NOW on KBAK CBS29. http://t.co/rorKtMpqNs #liveonKBAK http://t.co/eDznX6GOud'\n",
            " 'Gunshot wound #9 is in the bicep. The only one of the ten wounds that is not in the chest/torso area.  #KerrickTrial #JonathanFerrell'\n",
            " 'In light of recent events all I would like to say is *screams for five years*'\n",
            " 'Fire in Pisgah National Forest grows to 375 acres http://t.co/d7zxZ42QW1'\n",
            " '#Australia #News ; #Japan marks 70th anniversary of #Hiroshima atomic bombing  http://t.co/7aD0L7cgee READ MORE; http://t.co/hHzQl9tzNP'\n",
            " 'they say bad things happen for a reason\\nbut no wise words gonna stop te bleeding'\n",
            " 'NEW YORK: A whirlwind day of activities in New York. Breakfast at the Millennium Hotel United Nations Plaza. Lunch... http://t.co/laYZBA9y8h'\n",
            " 'Proud of you @JoeGoodmanJr for watching the #CopaLibertadores and the Argentinean pandemonium... https://t.co/8tyGO0KiZz'\n",
            " 'go easy on her paul the poor woman has been traumatised by a cake #GBBO'\n",
            " '@PrinceofFencing frickin summer and its humidity building up and causing trouble'\n",
            " '@JagexHelpDibi update JAG enabled but a hijacker has access might be what I was looking for. Fingers crossed.'\n",
            " 'Horrible Accident Man Died In Wings of Airplane (29-07-2015) http://t.co/TfcdRONRA6'\n",
            " 'Those that I have sworn to defend have proven themselves to be friends of the House Hailstorm.'\n",
            " 'just got engulfed in a car-induced tidal wave on my run... I thought this only happened in the movies ????'\n",
            " \"California been shaking...catching on fire....and overcharging ppl on rent for the past 150+ years it ain't going nowhere.\"\n",
            " \"Fatal attraction is common n what we have common is 'pain'......\"\n",
            " \"@IAN_Hellfire I got it for the mistake but boss got it worse cause their job was to oversee my work. Boss didn't change after that...\"\n",
            " \"Would've been great if Mbiwa just flattened that little rat.\"\n",
            " '@gregorysanders @USDOT &amp; the stat of high auto deaths applies to children in a vehicle. I guess they can out run lightrail better than adult'\n",
            " \"@samanthaturne19 IIt may logically have been the right call... maybe... But it's an act of mass murder and I can't sanction it.\"\n",
            " \"@kaputt21 Hamburg Police Chief Gregory Wickett has told 7 Eyewitness News he 'can't confirm or deny' an investigation is underway.\"\n",
            " 'So many Youtube commenters saying the Dothraki would get crushed if they came to Westeros...nah bro you underestimate the Dothraki']\n"
          ]
        }
      ]
    },
    {
      "cell_type": "code",
      "source": [
        "model_7 = tf.keras.Sequential([\n",
        "    sentence_encoder_layer,\n",
        "    tf.keras.layers.Dense(100,activation = \"relu\"),\n",
        "    tf.keras.layers.Dense(1,activation = \"sigmoid\"),\n",
        "])\n",
        "model_7.compile(loss = \"binary_crossentropy\",optimizer = \"adam\",metrics = ['accuracy'])"
      ],
      "metadata": {
        "id": "9mDlP4oZQ_P_"
      },
      "execution_count": 90,
      "outputs": []
    },
    {
      "cell_type": "code",
      "source": [
        "model_7.summary()"
      ],
      "metadata": {
        "colab": {
          "base_uri": "https://localhost:8080/"
        },
        "id": "z3Ux09OSRiQ7",
        "outputId": "b1cbefc2-182a-484b-8fe2-d5f09a8b65b9"
      },
      "execution_count": 91,
      "outputs": [
        {
          "output_type": "stream",
          "name": "stdout",
          "text": [
            "Model: \"sequential\"\n",
            "_________________________________________________________________\n",
            " Layer (type)                Output Shape              Param #   \n",
            "=================================================================\n",
            " USE (KerasLayer)            (None, 512)               256797824 \n",
            "                                                                 \n",
            " dense_7 (Dense)             (None, 100)               51300     \n",
            "                                                                 \n",
            " dense_8 (Dense)             (None, 1)                 101       \n",
            "                                                                 \n",
            "=================================================================\n",
            "Total params: 256,849,225\n",
            "Trainable params: 51,401\n",
            "Non-trainable params: 256,797,824\n",
            "_________________________________________________________________\n"
          ]
        }
      ]
    },
    {
      "cell_type": "code",
      "source": [
        "mode_7_history = model_7.fit(\n",
        "    train_sentences_10_percent,train_labels,epochs = 5,validation_data = (val_sentences,val_labels),\n",
        "    callbacks = [create_tensorboard_callback(dir_name = SAVE_DIR,experiment_name = \"model_7_use\")],\n",
        ")"
      ],
      "metadata": {
        "colab": {
          "base_uri": "https://localhost:8080/"
        },
        "id": "DF-UMF2zRoN-",
        "outputId": "16b57086-c65e-4226-b39d-1276db0975f1"
      },
      "execution_count": 92,
      "outputs": [
        {
          "output_type": "stream",
          "name": "stdout",
          "text": [
            "Saving TensorBoard log files to: model_logs/model_7_use/20230224-184302\n",
            "Epoch 1/5\n",
            "22/22 [==============================] - 4s 81ms/step - loss: 0.6665 - accuracy: 0.6482 - val_loss: 0.6452 - val_accuracy: 0.6995\n",
            "Epoch 2/5\n",
            "22/22 [==============================] - 1s 26ms/step - loss: 0.5887 - accuracy: 0.8000 - val_loss: 0.5824 - val_accuracy: 0.7546\n",
            "Epoch 3/5\n",
            "22/22 [==============================] - 1s 26ms/step - loss: 0.5071 - accuracy: 0.8146 - val_loss: 0.5235 - val_accuracy: 0.7848\n",
            "Epoch 4/5\n",
            "22/22 [==============================] - 1s 26ms/step - loss: 0.4441 - accuracy: 0.8234 - val_loss: 0.4965 - val_accuracy: 0.7822\n",
            "Epoch 5/5\n",
            "22/22 [==============================] - 0s 22ms/step - loss: 0.4019 - accuracy: 0.8409 - val_loss: 0.4855 - val_accuracy: 0.7795\n"
          ]
        }
      ]
    },
    {
      "cell_type": "code",
      "source": [
        "model_7_pred_probs = model_7.predict(val_sentences)"
      ],
      "metadata": {
        "colab": {
          "base_uri": "https://localhost:8080/"
        },
        "id": "0_bnMKZWRu-k",
        "outputId": "23c848b2-934d-4df0-e81b-7867b19b30db"
      },
      "execution_count": 93,
      "outputs": [
        {
          "output_type": "stream",
          "name": "stdout",
          "text": [
            "24/24 [==============================] - 1s 9ms/step\n"
          ]
        }
      ]
    },
    {
      "cell_type": "code",
      "source": [
        "model_7_pred = tf.squeeze(tf.round(model_7_pred_probs))"
      ],
      "metadata": {
        "id": "UApVYm6lR3t7"
      },
      "execution_count": 94,
      "outputs": []
    },
    {
      "cell_type": "code",
      "source": [
        "calculate_results(val_labels,model_7_pred)"
      ],
      "metadata": {
        "id": "inlRbSOPR8eQ",
        "outputId": "7801e958-c3ad-404b-cc10-ef4f8e2c3a1c",
        "colab": {
          "base_uri": "https://localhost:8080/"
        }
      },
      "execution_count": 95,
      "outputs": [
        {
          "output_type": "execute_result",
          "data": {
            "text/plain": [
              "{'accuracy': 77.95275590551181,\n",
              " 'precision': 0.7799065773530309,\n",
              " 'recall': 0.7795275590551181,\n",
              " 'f1': 0.7783167829714759}"
            ]
          },
          "metadata": {},
          "execution_count": 95
        }
      ]
    },
    {
      "cell_type": "markdown",
      "source": [
        "### Uploading model in Tensorboard"
      ],
      "metadata": {
        "id": "NqHSDnCkSADc"
      }
    },
    {
      "cell_type": "code",
      "source": [
        "!tensorboard dev upload --logdir ./model_logs \\\n",
        "--name \"NLP Modelling\" \\\n",
        "--description \"Comparing different models\"\\\n",
        "--one_shot"
      ],
      "metadata": {
        "colab": {
          "base_uri": "https://localhost:8080/"
        },
        "id": "Bd1Jo0D_g3Z0",
        "outputId": "3ca2b90b-af93-467a-f87c-36aeaa8ace67"
      },
      "execution_count": 96,
      "outputs": [
        {
          "output_type": "stream",
          "name": "stdout",
          "text": [
            "2023-02-24 18:43:11.153789: W tensorflow/compiler/xla/stream_executor/platform/default/dso_loader.cc:64] Could not load dynamic library 'libnvinfer.so.7'; dlerror: libnvinfer.so.7: cannot open shared object file: No such file or directory; LD_LIBRARY_PATH: /usr/lib64-nvidia\n",
            "2023-02-24 18:43:11.153892: W tensorflow/compiler/xla/stream_executor/platform/default/dso_loader.cc:64] Could not load dynamic library 'libnvinfer_plugin.so.7'; dlerror: libnvinfer_plugin.so.7: cannot open shared object file: No such file or directory; LD_LIBRARY_PATH: /usr/lib64-nvidia\n",
            "2023-02-24 18:43:11.153911: W tensorflow/compiler/tf2tensorrt/utils/py_utils.cc:38] TF-TRT Warning: Cannot dlopen some TensorRT libraries. If you would like to use Nvidia GPU with TensorRT, please make sure the missing libraries mentioned above are installed properly.\n",
            "\n",
            "***** TensorBoard Uploader *****\n",
            "\n",
            "This will upload your TensorBoard logs to https://tensorboard.dev/ from\n",
            "the following directory:\n",
            "\n",
            "./model_logs\n",
            "\n",
            "This TensorBoard will be visible to everyone. Do not upload sensitive\n",
            "data.\n",
            "\n",
            "Your use of this service is subject to Google's Terms of Service\n",
            "<https://policies.google.com/terms> and Privacy Policy\n",
            "<https://policies.google.com/privacy>, and TensorBoard.dev's Terms of Service\n",
            "<https://tensorboard.dev/policy/terms/>.\n",
            "\n",
            "This notice will not be shown again while you are logged into the uploader.\n",
            "To log out, run `tensorboard dev auth revoke`.\n",
            "\n",
            "Continue? (yes/NO) NO\n"
          ]
        }
      ]
    },
    {
      "cell_type": "markdown",
      "source": [
        "### Saving and Loading Model"
      ],
      "metadata": {
        "id": "8MfTfCeMg68b"
      }
    },
    {
      "cell_type": "code",
      "source": [
        "model_6.save(\"model_6.h5\")"
      ],
      "metadata": {
        "id": "xFns9AMXg-7j"
      },
      "execution_count": 97,
      "outputs": []
    },
    {
      "cell_type": "code",
      "source": [
        "loaded_model_6 = tf.keras.models.load_model(\n",
        "  'model_6.h5',custom_objects = {\"KerasLayer\":hub.KerasLayer}\n",
        ")"
      ],
      "metadata": {
        "id": "jogsbQV1ivsi"
      },
      "execution_count": 98,
      "outputs": []
    },
    {
      "cell_type": "code",
      "source": [
        "loaded_model_6.evaluate(val_sentences,val_labels)"
      ],
      "metadata": {
        "colab": {
          "base_uri": "https://localhost:8080/"
        },
        "id": "1MbF6BRwi960",
        "outputId": "c326fdc4-5d33-422e-f169-c1dca9402f92"
      },
      "execution_count": 99,
      "outputs": [
        {
          "output_type": "stream",
          "name": "stdout",
          "text": [
            "24/24 [==============================] - 2s 19ms/step - loss: 0.4971 - accuracy: 0.7900\n"
          ]
        },
        {
          "output_type": "execute_result",
          "data": {
            "text/plain": [
              "[0.4970538020133972, 0.7900262475013733]"
            ]
          },
          "metadata": {},
          "execution_count": 99
        }
      ]
    },
    {
      "cell_type": "markdown",
      "source": [
        "## Most Wrong Examples"
      ],
      "metadata": {
        "id": "2NFOBrexjO-_"
      }
    },
    {
      "cell_type": "code",
      "source": [
        "!wget https://storage.googleapis.com/ztm_tf_course/08_model_6_USE_feature_extractor.zip\n",
        "!unzip 08_model_6_USE_feature_extractor.zip"
      ],
      "metadata": {
        "colab": {
          "base_uri": "https://localhost:8080/"
        },
        "id": "8KpVYVnguKMv",
        "outputId": "82b76eb4-c883-41b1-e031-2fd1ebbf1ed9"
      },
      "execution_count": 100,
      "outputs": [
        {
          "output_type": "stream",
          "name": "stdout",
          "text": [
            "--2023-02-24 18:43:52--  https://storage.googleapis.com/ztm_tf_course/08_model_6_USE_feature_extractor.zip\n",
            "Resolving storage.googleapis.com (storage.googleapis.com)... 74.125.68.128, 74.125.24.128, 142.250.4.128, ...\n",
            "Connecting to storage.googleapis.com (storage.googleapis.com)|74.125.68.128|:443... connected.\n",
            "HTTP request sent, awaiting response... 200 OK\n",
            "Length: 960779165 (916M) [application/zip]\n",
            "Saving to: ‘08_model_6_USE_feature_extractor.zip’\n",
            "\n",
            "08_model_6_USE_feat 100%[===================>] 916.27M  23.7MB/s    in 46s     \n",
            "\n",
            "2023-02-24 18:44:40 (19.9 MB/s) - ‘08_model_6_USE_feature_extractor.zip’ saved [960779165/960779165]\n",
            "\n",
            "Archive:  08_model_6_USE_feature_extractor.zip\n",
            "   creating: 08_model_6_USE_feature_extractor/\n",
            "   creating: 08_model_6_USE_feature_extractor/assets/\n",
            "   creating: 08_model_6_USE_feature_extractor/variables/\n",
            "  inflating: 08_model_6_USE_feature_extractor/variables/variables.data-00000-of-00001  \n",
            "  inflating: 08_model_6_USE_feature_extractor/variables/variables.index  \n",
            "  inflating: 08_model_6_USE_feature_extractor/saved_model.pb  \n"
          ]
        }
      ]
    },
    {
      "cell_type": "code",
      "source": [
        "model_6_pretrained = tf.keras.models.load_model(\"08_model_6_USE_feature_extractor\")\n",
        "model_6_pretrained.evaluate(val_sentences,val_labels)"
      ],
      "metadata": {
        "colab": {
          "base_uri": "https://localhost:8080/"
        },
        "id": "5VqmlEp6uNz4",
        "outputId": "570c6b79-9899-4a8d-8a16-9d1635a3ca82"
      },
      "execution_count": 101,
      "outputs": [
        {
          "output_type": "stream",
          "name": "stderr",
          "text": [
            "WARNING:tensorflow:SavedModel saved prior to TF 2.5 detected when loading Keras model. Please ensure that you are saving the model with model.save() or tf.keras.models.save_model(), *NOT* tf.saved_model.save(). To confirm, there should be a file named \"keras_metadata.pb\" in the SavedModel directory.\n"
          ]
        },
        {
          "output_type": "stream",
          "name": "stdout",
          "text": [
            "24/24 [==============================] - 1s 20ms/step - loss: 0.4272 - accuracy: 0.8163\n"
          ]
        },
        {
          "output_type": "execute_result",
          "data": {
            "text/plain": [
              "[0.42723122239112854, 0.8162729740142822]"
            ]
          },
          "metadata": {},
          "execution_count": 101
        }
      ]
    },
    {
      "cell_type": "code",
      "source": [
        "pretrained_preds = model_6_pretrained.predict(val_sentences)\n",
        "predicted_labels = tf.squeeze(tf.round(pretrained_preds))"
      ],
      "metadata": {
        "colab": {
          "base_uri": "https://localhost:8080/"
        },
        "id": "-JKxRqvBvZ4Z",
        "outputId": "e2be4f53-8c46-4270-8462-67103097775f"
      },
      "execution_count": 102,
      "outputs": [
        {
          "output_type": "stream",
          "name": "stdout",
          "text": [
            "24/24 [==============================] - 1s 9ms/step\n"
          ]
        }
      ]
    },
    {
      "cell_type": "code",
      "source": [
        "val_df = pd.DataFrame({\n",
        "    \"text\":val_sentences,\n",
        "    \"target\":val_labels,\n",
        "    \"pred\":predicted_labels,\n",
        "    \"pred_prob\":tf.squeeze(pretrained_preds),\n",
        "})"
      ],
      "metadata": {
        "id": "DvSGM2YDvloL"
      },
      "execution_count": 103,
      "outputs": []
    },
    {
      "cell_type": "code",
      "source": [
        "val_df"
      ],
      "metadata": {
        "colab": {
          "base_uri": "https://localhost:8080/",
          "height": 423
        },
        "id": "XErvG0k2v34d",
        "outputId": "ada3de4b-6c62-4def-fc71-d9fa1afdbe98"
      },
      "execution_count": 104,
      "outputs": [
        {
          "output_type": "execute_result",
          "data": {
            "text/plain": [
              "                                                  text  target  pred  \\\n",
              "0    DFR EP016 Monthly Meltdown - On Dnbheaven 2015...       0   0.0   \n",
              "1    FedEx no longer to transport bioterror germs i...       0   1.0   \n",
              "2    Gunmen kill four in El Salvador bus attack: Su...       1   1.0   \n",
              "3    @camilacabello97 Internally and externally scr...       1   0.0   \n",
              "4    Radiation emergency #preparedness starts with ...       1   1.0   \n",
              "..                                                 ...     ...   ...   \n",
              "757            That's the ultimate road to destruction       0   0.0   \n",
              "758  @SetZorah dad why dont you claim me that mean ...       0   0.0   \n",
              "759  FedEx will no longer transport bioterror patho...       0   1.0   \n",
              "760  Crack in the path where I wiped out this morni...       0   1.0   \n",
              "761  I liked a @YouTube video from @dannyonpc http:...       0   0.0   \n",
              "\n",
              "     pred_prob  \n",
              "0     0.159757  \n",
              "1     0.747162  \n",
              "2     0.988749  \n",
              "3     0.196229  \n",
              "4     0.707808  \n",
              "..         ...  \n",
              "757   0.137074  \n",
              "758   0.095865  \n",
              "759   0.876982  \n",
              "760   0.612631  \n",
              "761   0.117992  \n",
              "\n",
              "[762 rows x 4 columns]"
            ],
            "text/html": [
              "\n",
              "  <div id=\"df-2ed62c06-dc27-4114-818a-85e3bef7f904\">\n",
              "    <div class=\"colab-df-container\">\n",
              "      <div>\n",
              "<style scoped>\n",
              "    .dataframe tbody tr th:only-of-type {\n",
              "        vertical-align: middle;\n",
              "    }\n",
              "\n",
              "    .dataframe tbody tr th {\n",
              "        vertical-align: top;\n",
              "    }\n",
              "\n",
              "    .dataframe thead th {\n",
              "        text-align: right;\n",
              "    }\n",
              "</style>\n",
              "<table border=\"1\" class=\"dataframe\">\n",
              "  <thead>\n",
              "    <tr style=\"text-align: right;\">\n",
              "      <th></th>\n",
              "      <th>text</th>\n",
              "      <th>target</th>\n",
              "      <th>pred</th>\n",
              "      <th>pred_prob</th>\n",
              "    </tr>\n",
              "  </thead>\n",
              "  <tbody>\n",
              "    <tr>\n",
              "      <th>0</th>\n",
              "      <td>DFR EP016 Monthly Meltdown - On Dnbheaven 2015...</td>\n",
              "      <td>0</td>\n",
              "      <td>0.0</td>\n",
              "      <td>0.159757</td>\n",
              "    </tr>\n",
              "    <tr>\n",
              "      <th>1</th>\n",
              "      <td>FedEx no longer to transport bioterror germs i...</td>\n",
              "      <td>0</td>\n",
              "      <td>1.0</td>\n",
              "      <td>0.747162</td>\n",
              "    </tr>\n",
              "    <tr>\n",
              "      <th>2</th>\n",
              "      <td>Gunmen kill four in El Salvador bus attack: Su...</td>\n",
              "      <td>1</td>\n",
              "      <td>1.0</td>\n",
              "      <td>0.988749</td>\n",
              "    </tr>\n",
              "    <tr>\n",
              "      <th>3</th>\n",
              "      <td>@camilacabello97 Internally and externally scr...</td>\n",
              "      <td>1</td>\n",
              "      <td>0.0</td>\n",
              "      <td>0.196229</td>\n",
              "    </tr>\n",
              "    <tr>\n",
              "      <th>4</th>\n",
              "      <td>Radiation emergency #preparedness starts with ...</td>\n",
              "      <td>1</td>\n",
              "      <td>1.0</td>\n",
              "      <td>0.707808</td>\n",
              "    </tr>\n",
              "    <tr>\n",
              "      <th>...</th>\n",
              "      <td>...</td>\n",
              "      <td>...</td>\n",
              "      <td>...</td>\n",
              "      <td>...</td>\n",
              "    </tr>\n",
              "    <tr>\n",
              "      <th>757</th>\n",
              "      <td>That's the ultimate road to destruction</td>\n",
              "      <td>0</td>\n",
              "      <td>0.0</td>\n",
              "      <td>0.137074</td>\n",
              "    </tr>\n",
              "    <tr>\n",
              "      <th>758</th>\n",
              "      <td>@SetZorah dad why dont you claim me that mean ...</td>\n",
              "      <td>0</td>\n",
              "      <td>0.0</td>\n",
              "      <td>0.095865</td>\n",
              "    </tr>\n",
              "    <tr>\n",
              "      <th>759</th>\n",
              "      <td>FedEx will no longer transport bioterror patho...</td>\n",
              "      <td>0</td>\n",
              "      <td>1.0</td>\n",
              "      <td>0.876982</td>\n",
              "    </tr>\n",
              "    <tr>\n",
              "      <th>760</th>\n",
              "      <td>Crack in the path where I wiped out this morni...</td>\n",
              "      <td>0</td>\n",
              "      <td>1.0</td>\n",
              "      <td>0.612631</td>\n",
              "    </tr>\n",
              "    <tr>\n",
              "      <th>761</th>\n",
              "      <td>I liked a @YouTube video from @dannyonpc http:...</td>\n",
              "      <td>0</td>\n",
              "      <td>0.0</td>\n",
              "      <td>0.117992</td>\n",
              "    </tr>\n",
              "  </tbody>\n",
              "</table>\n",
              "<p>762 rows × 4 columns</p>\n",
              "</div>\n",
              "      <button class=\"colab-df-convert\" onclick=\"convertToInteractive('df-2ed62c06-dc27-4114-818a-85e3bef7f904')\"\n",
              "              title=\"Convert this dataframe to an interactive table.\"\n",
              "              style=\"display:none;\">\n",
              "        \n",
              "  <svg xmlns=\"http://www.w3.org/2000/svg\" height=\"24px\"viewBox=\"0 0 24 24\"\n",
              "       width=\"24px\">\n",
              "    <path d=\"M0 0h24v24H0V0z\" fill=\"none\"/>\n",
              "    <path d=\"M18.56 5.44l.94 2.06.94-2.06 2.06-.94-2.06-.94-.94-2.06-.94 2.06-2.06.94zm-11 1L8.5 8.5l.94-2.06 2.06-.94-2.06-.94L8.5 2.5l-.94 2.06-2.06.94zm10 10l.94 2.06.94-2.06 2.06-.94-2.06-.94-.94-2.06-.94 2.06-2.06.94z\"/><path d=\"M17.41 7.96l-1.37-1.37c-.4-.4-.92-.59-1.43-.59-.52 0-1.04.2-1.43.59L10.3 9.45l-7.72 7.72c-.78.78-.78 2.05 0 2.83L4 21.41c.39.39.9.59 1.41.59.51 0 1.02-.2 1.41-.59l7.78-7.78 2.81-2.81c.8-.78.8-2.07 0-2.86zM5.41 20L4 18.59l7.72-7.72 1.47 1.35L5.41 20z\"/>\n",
              "  </svg>\n",
              "      </button>\n",
              "      \n",
              "  <style>\n",
              "    .colab-df-container {\n",
              "      display:flex;\n",
              "      flex-wrap:wrap;\n",
              "      gap: 12px;\n",
              "    }\n",
              "\n",
              "    .colab-df-convert {\n",
              "      background-color: #E8F0FE;\n",
              "      border: none;\n",
              "      border-radius: 50%;\n",
              "      cursor: pointer;\n",
              "      display: none;\n",
              "      fill: #1967D2;\n",
              "      height: 32px;\n",
              "      padding: 0 0 0 0;\n",
              "      width: 32px;\n",
              "    }\n",
              "\n",
              "    .colab-df-convert:hover {\n",
              "      background-color: #E2EBFA;\n",
              "      box-shadow: 0px 1px 2px rgba(60, 64, 67, 0.3), 0px 1px 3px 1px rgba(60, 64, 67, 0.15);\n",
              "      fill: #174EA6;\n",
              "    }\n",
              "\n",
              "    [theme=dark] .colab-df-convert {\n",
              "      background-color: #3B4455;\n",
              "      fill: #D2E3FC;\n",
              "    }\n",
              "\n",
              "    [theme=dark] .colab-df-convert:hover {\n",
              "      background-color: #434B5C;\n",
              "      box-shadow: 0px 1px 3px 1px rgba(0, 0, 0, 0.15);\n",
              "      filter: drop-shadow(0px 1px 2px rgba(0, 0, 0, 0.3));\n",
              "      fill: #FFFFFF;\n",
              "    }\n",
              "  </style>\n",
              "\n",
              "      <script>\n",
              "        const buttonEl =\n",
              "          document.querySelector('#df-2ed62c06-dc27-4114-818a-85e3bef7f904 button.colab-df-convert');\n",
              "        buttonEl.style.display =\n",
              "          google.colab.kernel.accessAllowed ? 'block' : 'none';\n",
              "\n",
              "        async function convertToInteractive(key) {\n",
              "          const element = document.querySelector('#df-2ed62c06-dc27-4114-818a-85e3bef7f904');\n",
              "          const dataTable =\n",
              "            await google.colab.kernel.invokeFunction('convertToInteractive',\n",
              "                                                     [key], {});\n",
              "          if (!dataTable) return;\n",
              "\n",
              "          const docLinkHtml = 'Like what you see? Visit the ' +\n",
              "            '<a target=\"_blank\" href=https://colab.research.google.com/notebooks/data_table.ipynb>data table notebook</a>'\n",
              "            + ' to learn more about interactive tables.';\n",
              "          element.innerHTML = '';\n",
              "          dataTable['output_type'] = 'display_data';\n",
              "          await google.colab.output.renderOutput(dataTable, element);\n",
              "          const docLink = document.createElement('div');\n",
              "          docLink.innerHTML = docLinkHtml;\n",
              "          element.appendChild(docLink);\n",
              "        }\n",
              "      </script>\n",
              "    </div>\n",
              "  </div>\n",
              "  "
            ]
          },
          "metadata": {},
          "execution_count": 104
        }
      ]
    },
    {
      "cell_type": "code",
      "source": [
        "most_wrong = val_df[val_df['target'] != val_df['pred']].sort_values(\"pred_prob\",ascending = False)"
      ],
      "metadata": {
        "id": "3Id2wisBv4vl"
      },
      "execution_count": 105,
      "outputs": []
    },
    {
      "cell_type": "code",
      "source": [
        "most_wrong"
      ],
      "metadata": {
        "colab": {
          "base_uri": "https://localhost:8080/",
          "height": 423
        },
        "id": "YD9CpHf6wCty",
        "outputId": "13cea9be-42a1-4a6d-a57e-7ed5f93de5a0"
      },
      "execution_count": 106,
      "outputs": [
        {
          "output_type": "execute_result",
          "data": {
            "text/plain": [
              "                                                  text  target  pred  \\\n",
              "31   ? High Skies - Burning Buildings ? http://t.co...       0   1.0   \n",
              "759  FedEx will no longer transport bioterror patho...       0   1.0   \n",
              "628  @noah_anyname That's where the concentration c...       0   1.0   \n",
              "209  Ashes 2015: AustraliaÛªs collapse at Trent Br...       0   1.0   \n",
              "251  @AshGhebranious civil rights continued in the ...       0   1.0   \n",
              "..                                                 ...     ...   ...   \n",
              "411  @SoonerMagic_ I mean I'm a fan but I don't nee...       1   0.0   \n",
              "233                    I get to smoke my shit in peace       1   0.0   \n",
              "38   Why are you deluged with low self-image? Take ...       1   0.0   \n",
              "244  Reddit Will Now QuarantineÛ_ http://t.co/pkUA...       1   0.0   \n",
              "23   Ron &amp; Fez - Dave's High School Crush https...       1   0.0   \n",
              "\n",
              "     pred_prob  \n",
              "31    0.910196  \n",
              "759   0.876982  \n",
              "628   0.852300  \n",
              "209   0.835454  \n",
              "251   0.827213  \n",
              "..         ...  \n",
              "411   0.043919  \n",
              "233   0.042087  \n",
              "38    0.038998  \n",
              "244   0.038949  \n",
              "23    0.037186  \n",
              "\n",
              "[140 rows x 4 columns]"
            ],
            "text/html": [
              "\n",
              "  <div id=\"df-45871e8f-9214-4b88-b74c-7df5b87f7b37\">\n",
              "    <div class=\"colab-df-container\">\n",
              "      <div>\n",
              "<style scoped>\n",
              "    .dataframe tbody tr th:only-of-type {\n",
              "        vertical-align: middle;\n",
              "    }\n",
              "\n",
              "    .dataframe tbody tr th {\n",
              "        vertical-align: top;\n",
              "    }\n",
              "\n",
              "    .dataframe thead th {\n",
              "        text-align: right;\n",
              "    }\n",
              "</style>\n",
              "<table border=\"1\" class=\"dataframe\">\n",
              "  <thead>\n",
              "    <tr style=\"text-align: right;\">\n",
              "      <th></th>\n",
              "      <th>text</th>\n",
              "      <th>target</th>\n",
              "      <th>pred</th>\n",
              "      <th>pred_prob</th>\n",
              "    </tr>\n",
              "  </thead>\n",
              "  <tbody>\n",
              "    <tr>\n",
              "      <th>31</th>\n",
              "      <td>? High Skies - Burning Buildings ? http://t.co...</td>\n",
              "      <td>0</td>\n",
              "      <td>1.0</td>\n",
              "      <td>0.910196</td>\n",
              "    </tr>\n",
              "    <tr>\n",
              "      <th>759</th>\n",
              "      <td>FedEx will no longer transport bioterror patho...</td>\n",
              "      <td>0</td>\n",
              "      <td>1.0</td>\n",
              "      <td>0.876982</td>\n",
              "    </tr>\n",
              "    <tr>\n",
              "      <th>628</th>\n",
              "      <td>@noah_anyname That's where the concentration c...</td>\n",
              "      <td>0</td>\n",
              "      <td>1.0</td>\n",
              "      <td>0.852300</td>\n",
              "    </tr>\n",
              "    <tr>\n",
              "      <th>209</th>\n",
              "      <td>Ashes 2015: AustraliaÛªs collapse at Trent Br...</td>\n",
              "      <td>0</td>\n",
              "      <td>1.0</td>\n",
              "      <td>0.835454</td>\n",
              "    </tr>\n",
              "    <tr>\n",
              "      <th>251</th>\n",
              "      <td>@AshGhebranious civil rights continued in the ...</td>\n",
              "      <td>0</td>\n",
              "      <td>1.0</td>\n",
              "      <td>0.827213</td>\n",
              "    </tr>\n",
              "    <tr>\n",
              "      <th>...</th>\n",
              "      <td>...</td>\n",
              "      <td>...</td>\n",
              "      <td>...</td>\n",
              "      <td>...</td>\n",
              "    </tr>\n",
              "    <tr>\n",
              "      <th>411</th>\n",
              "      <td>@SoonerMagic_ I mean I'm a fan but I don't nee...</td>\n",
              "      <td>1</td>\n",
              "      <td>0.0</td>\n",
              "      <td>0.043919</td>\n",
              "    </tr>\n",
              "    <tr>\n",
              "      <th>233</th>\n",
              "      <td>I get to smoke my shit in peace</td>\n",
              "      <td>1</td>\n",
              "      <td>0.0</td>\n",
              "      <td>0.042087</td>\n",
              "    </tr>\n",
              "    <tr>\n",
              "      <th>38</th>\n",
              "      <td>Why are you deluged with low self-image? Take ...</td>\n",
              "      <td>1</td>\n",
              "      <td>0.0</td>\n",
              "      <td>0.038998</td>\n",
              "    </tr>\n",
              "    <tr>\n",
              "      <th>244</th>\n",
              "      <td>Reddit Will Now QuarantineÛ_ http://t.co/pkUA...</td>\n",
              "      <td>1</td>\n",
              "      <td>0.0</td>\n",
              "      <td>0.038949</td>\n",
              "    </tr>\n",
              "    <tr>\n",
              "      <th>23</th>\n",
              "      <td>Ron &amp;amp; Fez - Dave's High School Crush https...</td>\n",
              "      <td>1</td>\n",
              "      <td>0.0</td>\n",
              "      <td>0.037186</td>\n",
              "    </tr>\n",
              "  </tbody>\n",
              "</table>\n",
              "<p>140 rows × 4 columns</p>\n",
              "</div>\n",
              "      <button class=\"colab-df-convert\" onclick=\"convertToInteractive('df-45871e8f-9214-4b88-b74c-7df5b87f7b37')\"\n",
              "              title=\"Convert this dataframe to an interactive table.\"\n",
              "              style=\"display:none;\">\n",
              "        \n",
              "  <svg xmlns=\"http://www.w3.org/2000/svg\" height=\"24px\"viewBox=\"0 0 24 24\"\n",
              "       width=\"24px\">\n",
              "    <path d=\"M0 0h24v24H0V0z\" fill=\"none\"/>\n",
              "    <path d=\"M18.56 5.44l.94 2.06.94-2.06 2.06-.94-2.06-.94-.94-2.06-.94 2.06-2.06.94zm-11 1L8.5 8.5l.94-2.06 2.06-.94-2.06-.94L8.5 2.5l-.94 2.06-2.06.94zm10 10l.94 2.06.94-2.06 2.06-.94-2.06-.94-.94-2.06-.94 2.06-2.06.94z\"/><path d=\"M17.41 7.96l-1.37-1.37c-.4-.4-.92-.59-1.43-.59-.52 0-1.04.2-1.43.59L10.3 9.45l-7.72 7.72c-.78.78-.78 2.05 0 2.83L4 21.41c.39.39.9.59 1.41.59.51 0 1.02-.2 1.41-.59l7.78-7.78 2.81-2.81c.8-.78.8-2.07 0-2.86zM5.41 20L4 18.59l7.72-7.72 1.47 1.35L5.41 20z\"/>\n",
              "  </svg>\n",
              "      </button>\n",
              "      \n",
              "  <style>\n",
              "    .colab-df-container {\n",
              "      display:flex;\n",
              "      flex-wrap:wrap;\n",
              "      gap: 12px;\n",
              "    }\n",
              "\n",
              "    .colab-df-convert {\n",
              "      background-color: #E8F0FE;\n",
              "      border: none;\n",
              "      border-radius: 50%;\n",
              "      cursor: pointer;\n",
              "      display: none;\n",
              "      fill: #1967D2;\n",
              "      height: 32px;\n",
              "      padding: 0 0 0 0;\n",
              "      width: 32px;\n",
              "    }\n",
              "\n",
              "    .colab-df-convert:hover {\n",
              "      background-color: #E2EBFA;\n",
              "      box-shadow: 0px 1px 2px rgba(60, 64, 67, 0.3), 0px 1px 3px 1px rgba(60, 64, 67, 0.15);\n",
              "      fill: #174EA6;\n",
              "    }\n",
              "\n",
              "    [theme=dark] .colab-df-convert {\n",
              "      background-color: #3B4455;\n",
              "      fill: #D2E3FC;\n",
              "    }\n",
              "\n",
              "    [theme=dark] .colab-df-convert:hover {\n",
              "      background-color: #434B5C;\n",
              "      box-shadow: 0px 1px 3px 1px rgba(0, 0, 0, 0.15);\n",
              "      filter: drop-shadow(0px 1px 2px rgba(0, 0, 0, 0.3));\n",
              "      fill: #FFFFFF;\n",
              "    }\n",
              "  </style>\n",
              "\n",
              "      <script>\n",
              "        const buttonEl =\n",
              "          document.querySelector('#df-45871e8f-9214-4b88-b74c-7df5b87f7b37 button.colab-df-convert');\n",
              "        buttonEl.style.display =\n",
              "          google.colab.kernel.accessAllowed ? 'block' : 'none';\n",
              "\n",
              "        async function convertToInteractive(key) {\n",
              "          const element = document.querySelector('#df-45871e8f-9214-4b88-b74c-7df5b87f7b37');\n",
              "          const dataTable =\n",
              "            await google.colab.kernel.invokeFunction('convertToInteractive',\n",
              "                                                     [key], {});\n",
              "          if (!dataTable) return;\n",
              "\n",
              "          const docLinkHtml = 'Like what you see? Visit the ' +\n",
              "            '<a target=\"_blank\" href=https://colab.research.google.com/notebooks/data_table.ipynb>data table notebook</a>'\n",
              "            + ' to learn more about interactive tables.';\n",
              "          element.innerHTML = '';\n",
              "          dataTable['output_type'] = 'display_data';\n",
              "          await google.colab.output.renderOutput(dataTable, element);\n",
              "          const docLink = document.createElement('div');\n",
              "          docLink.innerHTML = docLinkHtml;\n",
              "          element.appendChild(docLink);\n",
              "        }\n",
              "      </script>\n",
              "    </div>\n",
              "  </div>\n",
              "  "
            ]
          },
          "metadata": {},
          "execution_count": 106
        }
      ]
    },
    {
      "cell_type": "markdown",
      "source": [
        "## Visualizing Model's Wrong Predictions"
      ],
      "metadata": {
        "id": "JgxsTbdCwD0n"
      }
    },
    {
      "cell_type": "code",
      "source": [
        "for row in most_wrong[:10].itertuples():\n",
        "  _,text,target,pred,pred_prob = row\n",
        "  print(\"Sentence : \",text)\n",
        "  print(\"pred : \",pred)\n",
        "  print(\"Actual :\",target)\n",
        "  print(\"Prediction Probability : \",pred_prob)\n",
        "  print('-----')"
      ],
      "metadata": {
        "colab": {
          "base_uri": "https://localhost:8080/"
        },
        "id": "MBNB_fpRwvwY",
        "outputId": "60ff7b78-c834-4d90-c94a-ce0dfd571001"
      },
      "execution_count": 108,
      "outputs": [
        {
          "output_type": "stream",
          "name": "stdout",
          "text": [
            "Sentence :  ? High Skies - Burning Buildings ? http://t.co/uVq41i3Kx2 #nowplaying\n",
            "pred :  1.0\n",
            "Actual : 0\n",
            "Prediction Probability :  0.9101957678794861\n",
            "-----\n",
            "Sentence :  FedEx will no longer transport bioterror pathogens in wake of anthrax lab mishaps http://t.co/lHpgxc4b8J\n",
            "pred :  1.0\n",
            "Actual : 0\n",
            "Prediction Probability :  0.8769821524620056\n",
            "-----\n",
            "Sentence :  @noah_anyname That's where the concentration camps and mass murder come in. \n",
            " \n",
            "EVERY. FUCKING. TIME.\n",
            "pred :  1.0\n",
            "Actual : 0\n",
            "Prediction Probability :  0.8523000478744507\n",
            "-----\n",
            "Sentence :  Ashes 2015: AustraliaÛªs collapse at Trent Bridge among worst in history: England bundled out Australia for 60 ... http://t.co/t5TrhjUAU0\n",
            "pred :  1.0\n",
            "Actual : 0\n",
            "Prediction Probability :  0.8354544639587402\n",
            "-----\n",
            "Sentence :  @AshGhebranious civil rights continued in the 60s. And what about trans-generational trauma? if anything we should listen to the Americans.\n",
            "pred :  1.0\n",
            "Actual : 0\n",
            "Prediction Probability :  0.8272132873535156\n",
            "-----\n",
            "Sentence :  @SonofLiberty357 all illuminated by the brightly burning buildings all around the town!\n",
            "pred :  1.0\n",
            "Actual : 0\n",
            "Prediction Probability :  0.814815878868103\n",
            "-----\n",
            "Sentence :  [55436] 1950 LIONEL TRAINS SMOKE LOCOMOTIVES WITH MAGNE-TRACTION INSTRUCTIONS http://t.co/xEZBs3sq0y http://t.co/C2x0QoKGlY\n",
            "pred :  1.0\n",
            "Actual : 0\n",
            "Prediction Probability :  0.8108396530151367\n",
            "-----\n",
            "Sentence :  @madonnamking RSPCA site multiple 7 story high rise buildings next to low density character residential in an area that floods\n",
            "pred :  1.0\n",
            "Actual : 0\n",
            "Prediction Probability :  0.8031218647956848\n",
            "-----\n",
            "Sentence :  @freefromwolves GodsLove &amp; #thankU brother Danny for RT of NEW VIDEO http://t.co/cybKsXHF7d The Coming Apocalyptic US Earthquake &amp; Tsunami\n",
            "pred :  1.0\n",
            "Actual : 0\n",
            "Prediction Probability :  0.7669008374214172\n",
            "-----\n",
            "Sentence :  Air Group is here to the rescue! We have 24/7 Emergency Service! Learn more about it here - http://t.co/9lyx7zMtHE http://t.co/5PbC96rTMJ\n",
            "pred :  1.0\n",
            "Actual : 0\n",
            "Prediction Probability :  0.7666252255439758\n",
            "-----\n"
          ]
        }
      ]
    },
    {
      "cell_type": "code",
      "source": [
        "test_dataset = pd.read_csv('/content/test.csv')"
      ],
      "metadata": {
        "id": "9x66TkEAw-mq"
      },
      "execution_count": 115,
      "outputs": []
    },
    {
      "cell_type": "code",
      "source": [
        "test_dataset"
      ],
      "metadata": {
        "colab": {
          "base_uri": "https://localhost:8080/",
          "height": 423
        },
        "id": "vxkYJLYrxIDu",
        "outputId": "0a95e604-b03c-4a77-deb8-b0960c8752e1"
      },
      "execution_count": 116,
      "outputs": [
        {
          "output_type": "execute_result",
          "data": {
            "text/plain": [
              "         id keyword location  \\\n",
              "0         0     NaN      NaN   \n",
              "1         2     NaN      NaN   \n",
              "2         3     NaN      NaN   \n",
              "3         9     NaN      NaN   \n",
              "4        11     NaN      NaN   \n",
              "...     ...     ...      ...   \n",
              "3258  10861     NaN      NaN   \n",
              "3259  10865     NaN      NaN   \n",
              "3260  10868     NaN      NaN   \n",
              "3261  10874     NaN      NaN   \n",
              "3262  10875     NaN      NaN   \n",
              "\n",
              "                                                   text  \n",
              "0                    Just happened a terrible car crash  \n",
              "1     Heard about #earthquake is different cities, s...  \n",
              "2     there is a forest fire at spot pond, geese are...  \n",
              "3              Apocalypse lighting. #Spokane #wildfires  \n",
              "4         Typhoon Soudelor kills 28 in China and Taiwan  \n",
              "...                                                 ...  \n",
              "3258  EARTHQUAKE SAFETY LOS ANGELES ÛÒ SAFETY FASTE...  \n",
              "3259  Storm in RI worse than last hurricane. My city...  \n",
              "3260  Green Line derailment in Chicago http://t.co/U...  \n",
              "3261  MEG issues Hazardous Weather Outlook (HWO) htt...  \n",
              "3262  #CityofCalgary has activated its Municipal Eme...  \n",
              "\n",
              "[3263 rows x 4 columns]"
            ],
            "text/html": [
              "\n",
              "  <div id=\"df-05d1a8b7-30cc-4126-88b0-ebd3dbd41fe2\">\n",
              "    <div class=\"colab-df-container\">\n",
              "      <div>\n",
              "<style scoped>\n",
              "    .dataframe tbody tr th:only-of-type {\n",
              "        vertical-align: middle;\n",
              "    }\n",
              "\n",
              "    .dataframe tbody tr th {\n",
              "        vertical-align: top;\n",
              "    }\n",
              "\n",
              "    .dataframe thead th {\n",
              "        text-align: right;\n",
              "    }\n",
              "</style>\n",
              "<table border=\"1\" class=\"dataframe\">\n",
              "  <thead>\n",
              "    <tr style=\"text-align: right;\">\n",
              "      <th></th>\n",
              "      <th>id</th>\n",
              "      <th>keyword</th>\n",
              "      <th>location</th>\n",
              "      <th>text</th>\n",
              "    </tr>\n",
              "  </thead>\n",
              "  <tbody>\n",
              "    <tr>\n",
              "      <th>0</th>\n",
              "      <td>0</td>\n",
              "      <td>NaN</td>\n",
              "      <td>NaN</td>\n",
              "      <td>Just happened a terrible car crash</td>\n",
              "    </tr>\n",
              "    <tr>\n",
              "      <th>1</th>\n",
              "      <td>2</td>\n",
              "      <td>NaN</td>\n",
              "      <td>NaN</td>\n",
              "      <td>Heard about #earthquake is different cities, s...</td>\n",
              "    </tr>\n",
              "    <tr>\n",
              "      <th>2</th>\n",
              "      <td>3</td>\n",
              "      <td>NaN</td>\n",
              "      <td>NaN</td>\n",
              "      <td>there is a forest fire at spot pond, geese are...</td>\n",
              "    </tr>\n",
              "    <tr>\n",
              "      <th>3</th>\n",
              "      <td>9</td>\n",
              "      <td>NaN</td>\n",
              "      <td>NaN</td>\n",
              "      <td>Apocalypse lighting. #Spokane #wildfires</td>\n",
              "    </tr>\n",
              "    <tr>\n",
              "      <th>4</th>\n",
              "      <td>11</td>\n",
              "      <td>NaN</td>\n",
              "      <td>NaN</td>\n",
              "      <td>Typhoon Soudelor kills 28 in China and Taiwan</td>\n",
              "    </tr>\n",
              "    <tr>\n",
              "      <th>...</th>\n",
              "      <td>...</td>\n",
              "      <td>...</td>\n",
              "      <td>...</td>\n",
              "      <td>...</td>\n",
              "    </tr>\n",
              "    <tr>\n",
              "      <th>3258</th>\n",
              "      <td>10861</td>\n",
              "      <td>NaN</td>\n",
              "      <td>NaN</td>\n",
              "      <td>EARTHQUAKE SAFETY LOS ANGELES ÛÒ SAFETY FASTE...</td>\n",
              "    </tr>\n",
              "    <tr>\n",
              "      <th>3259</th>\n",
              "      <td>10865</td>\n",
              "      <td>NaN</td>\n",
              "      <td>NaN</td>\n",
              "      <td>Storm in RI worse than last hurricane. My city...</td>\n",
              "    </tr>\n",
              "    <tr>\n",
              "      <th>3260</th>\n",
              "      <td>10868</td>\n",
              "      <td>NaN</td>\n",
              "      <td>NaN</td>\n",
              "      <td>Green Line derailment in Chicago http://t.co/U...</td>\n",
              "    </tr>\n",
              "    <tr>\n",
              "      <th>3261</th>\n",
              "      <td>10874</td>\n",
              "      <td>NaN</td>\n",
              "      <td>NaN</td>\n",
              "      <td>MEG issues Hazardous Weather Outlook (HWO) htt...</td>\n",
              "    </tr>\n",
              "    <tr>\n",
              "      <th>3262</th>\n",
              "      <td>10875</td>\n",
              "      <td>NaN</td>\n",
              "      <td>NaN</td>\n",
              "      <td>#CityofCalgary has activated its Municipal Eme...</td>\n",
              "    </tr>\n",
              "  </tbody>\n",
              "</table>\n",
              "<p>3263 rows × 4 columns</p>\n",
              "</div>\n",
              "      <button class=\"colab-df-convert\" onclick=\"convertToInteractive('df-05d1a8b7-30cc-4126-88b0-ebd3dbd41fe2')\"\n",
              "              title=\"Convert this dataframe to an interactive table.\"\n",
              "              style=\"display:none;\">\n",
              "        \n",
              "  <svg xmlns=\"http://www.w3.org/2000/svg\" height=\"24px\"viewBox=\"0 0 24 24\"\n",
              "       width=\"24px\">\n",
              "    <path d=\"M0 0h24v24H0V0z\" fill=\"none\"/>\n",
              "    <path d=\"M18.56 5.44l.94 2.06.94-2.06 2.06-.94-2.06-.94-.94-2.06-.94 2.06-2.06.94zm-11 1L8.5 8.5l.94-2.06 2.06-.94-2.06-.94L8.5 2.5l-.94 2.06-2.06.94zm10 10l.94 2.06.94-2.06 2.06-.94-2.06-.94-.94-2.06-.94 2.06-2.06.94z\"/><path d=\"M17.41 7.96l-1.37-1.37c-.4-.4-.92-.59-1.43-.59-.52 0-1.04.2-1.43.59L10.3 9.45l-7.72 7.72c-.78.78-.78 2.05 0 2.83L4 21.41c.39.39.9.59 1.41.59.51 0 1.02-.2 1.41-.59l7.78-7.78 2.81-2.81c.8-.78.8-2.07 0-2.86zM5.41 20L4 18.59l7.72-7.72 1.47 1.35L5.41 20z\"/>\n",
              "  </svg>\n",
              "      </button>\n",
              "      \n",
              "  <style>\n",
              "    .colab-df-container {\n",
              "      display:flex;\n",
              "      flex-wrap:wrap;\n",
              "      gap: 12px;\n",
              "    }\n",
              "\n",
              "    .colab-df-convert {\n",
              "      background-color: #E8F0FE;\n",
              "      border: none;\n",
              "      border-radius: 50%;\n",
              "      cursor: pointer;\n",
              "      display: none;\n",
              "      fill: #1967D2;\n",
              "      height: 32px;\n",
              "      padding: 0 0 0 0;\n",
              "      width: 32px;\n",
              "    }\n",
              "\n",
              "    .colab-df-convert:hover {\n",
              "      background-color: #E2EBFA;\n",
              "      box-shadow: 0px 1px 2px rgba(60, 64, 67, 0.3), 0px 1px 3px 1px rgba(60, 64, 67, 0.15);\n",
              "      fill: #174EA6;\n",
              "    }\n",
              "\n",
              "    [theme=dark] .colab-df-convert {\n",
              "      background-color: #3B4455;\n",
              "      fill: #D2E3FC;\n",
              "    }\n",
              "\n",
              "    [theme=dark] .colab-df-convert:hover {\n",
              "      background-color: #434B5C;\n",
              "      box-shadow: 0px 1px 3px 1px rgba(0, 0, 0, 0.15);\n",
              "      filter: drop-shadow(0px 1px 2px rgba(0, 0, 0, 0.3));\n",
              "      fill: #FFFFFF;\n",
              "    }\n",
              "  </style>\n",
              "\n",
              "      <script>\n",
              "        const buttonEl =\n",
              "          document.querySelector('#df-05d1a8b7-30cc-4126-88b0-ebd3dbd41fe2 button.colab-df-convert');\n",
              "        buttonEl.style.display =\n",
              "          google.colab.kernel.accessAllowed ? 'block' : 'none';\n",
              "\n",
              "        async function convertToInteractive(key) {\n",
              "          const element = document.querySelector('#df-05d1a8b7-30cc-4126-88b0-ebd3dbd41fe2');\n",
              "          const dataTable =\n",
              "            await google.colab.kernel.invokeFunction('convertToInteractive',\n",
              "                                                     [key], {});\n",
              "          if (!dataTable) return;\n",
              "\n",
              "          const docLinkHtml = 'Like what you see? Visit the ' +\n",
              "            '<a target=\"_blank\" href=https://colab.research.google.com/notebooks/data_table.ipynb>data table notebook</a>'\n",
              "            + ' to learn more about interactive tables.';\n",
              "          element.innerHTML = '';\n",
              "          dataTable['output_type'] = 'display_data';\n",
              "          await google.colab.output.renderOutput(dataTable, element);\n",
              "          const docLink = document.createElement('div');\n",
              "          docLink.innerHTML = docLinkHtml;\n",
              "          element.appendChild(docLink);\n",
              "        }\n",
              "      </script>\n",
              "    </div>\n",
              "  </div>\n",
              "  "
            ]
          },
          "metadata": {},
          "execution_count": 116
        }
      ]
    },
    {
      "cell_type": "code",
      "source": [
        "test_sentences = test_dataset['text'].to_list()"
      ],
      "metadata": {
        "id": "aBp3GcuHxUVV"
      },
      "execution_count": 120,
      "outputs": []
    },
    {
      "cell_type": "code",
      "source": [
        "test_samples = random.sample(test_sentences,10)\n",
        "for test_sample in test_samples:\n",
        "  pred_prob = tf.squeeze(model_6_pretrained.predict([test_sample]))\n",
        "  pred_labels = tf.round(pred_prob)\n",
        "  print(\"Pred : \",int(pred_labels))\n",
        "  print(\"Prob : \",pred_prob)\n",
        "  print(\"Text : \",test_sample)\n",
        "  print(\"------\")"
      ],
      "metadata": {
        "colab": {
          "base_uri": "https://localhost:8080/"
        },
        "id": "PLX-AsBFxigO",
        "outputId": "593e11de-2050-478c-a5df-24b11accfec2"
      },
      "execution_count": 125,
      "outputs": [
        {
          "output_type": "stream",
          "name": "stdout",
          "text": [
            "1/1 [==============================] - 0s 45ms/step\n",
            "Pred :  0\n",
            "Prob :  tf.Tensor(0.034338593, shape=(), dtype=float32)\n",
            "Text :  You da One \n",
            "\n",
            "#MTVSummerStar #VideoVeranoMTV  #MTVHottest Britney Spears Lana Del Rey\n",
            "------\n",
            "1/1 [==============================] - 0s 39ms/step\n",
            "Pred :  0\n",
            "Prob :  tf.Tensor(0.10814762, shape=(), dtype=float32)\n",
            "Text :  8' MTech Assisted Open RESCUE Pocket Knife - NEW BLUE MT-A801BL zix http://t.co/51n2rZEBis http://t.co/P4lNbjDo0x\n",
            "------\n",
            "1/1 [==============================] - 0s 42ms/step\n",
            "Pred :  1\n",
            "Prob :  tf.Tensor(0.95107114, shape=(), dtype=float32)\n",
            "Text :  RT @LivingSafely: NWS posts Severe #Thunderstorm Warnings for parts of #AR #NC #OK. Seek strong shelter if at risk: http://t.co/kImr0l24Fb\n",
            "------\n",
            "1/1 [==============================] - 0s 60ms/step\n",
            "Pred :  0\n",
            "Prob :  tf.Tensor(0.030411383, shape=(), dtype=float32)\n",
            "Text :  @MikeParrActor devastated your no longer in emmerdale best character with so much more to give #superbactor your going to be missed\n",
            "------\n",
            "1/1 [==============================] - 0s 88ms/step\n",
            "Pred :  0\n",
            "Prob :  tf.Tensor(0.23906301, shape=(), dtype=float32)\n",
            "Text :  ÛÏTell Shinichi Kudo that IÛªm giving him 3 minutes to enjoy it..Û -Moriya Teiji famous architect from The Time Bombed Skyscraper\n",
            "------\n",
            "1/1 [==============================] - 0s 123ms/step\n",
            "Pred :  0\n",
            "Prob :  tf.Tensor(0.14931788, shape=(), dtype=float32)\n",
            "Text :  The #Future of Insurance and Driverless #Cars: Can the #Insurance Industry Survive #Driverless Cars?\n",
            "http://t.co/zEARtXBOFt\n",
            "------\n",
            "1/1 [==============================] - 0s 60ms/step\n",
            "Pred :  1\n",
            "Prob :  tf.Tensor(0.9771349, shape=(), dtype=float32)\n",
            "Text :  6th July 1945 ...Hiroshima was bombed with nuclear weapon _bomb was named little boy&amp;carried in a plane called Enola Gay ...1/2\n",
            "------\n",
            "1/1 [==============================] - 0s 63ms/step\n",
            "Pred :  0\n",
            "Prob :  tf.Tensor(0.24051723, shape=(), dtype=float32)\n",
            "Text :  Stop the Annihilation of the Salt River Wild Horses!!! https://t.co/546utTXzAm via @Change\n",
            "------\n",
            "1/1 [==============================] - 0s 136ms/step\n",
            "Pred :  1\n",
            "Prob :  tf.Tensor(0.9699962, shape=(), dtype=float32)\n",
            "Text :  Palestinian rams car into Israeli soldiers wounding 3 http://t.co/n79BMXQKlg #EMM\n",
            "------\n",
            "1/1 [==============================] - 0s 68ms/step\n",
            "Pred :  1\n",
            "Prob :  tf.Tensor(0.6373698, shape=(), dtype=float32)\n",
            "Text :  +Cossacks+hussars oo hd riggd up rough shelters N th glade+were kindlng glowng fires N a hollow v th forest where th FrNch could not C th\n",
            "------\n"
          ]
        }
      ]
    },
    {
      "cell_type": "code",
      "source": [],
      "metadata": {
        "colab": {
          "base_uri": "https://localhost:8080/"
        },
        "id": "xd4D_XNyxlhz",
        "outputId": "adc83c68-9c6e-4700-ac91-638fc05ea0fa"
      },
      "execution_count": 123,
      "outputs": [
        {
          "output_type": "execute_result",
          "data": {
            "text/plain": [
              "array([[0.5199701 ],\n",
              "       [0.8752513 ],\n",
              "       [0.827833  ],\n",
              "       ...,\n",
              "       [0.9158134 ],\n",
              "       [0.51764417],\n",
              "       [0.672602  ]], dtype=float32)"
            ]
          },
          "metadata": {},
          "execution_count": 123
        }
      ]
    },
    {
      "cell_type": "code",
      "source": [],
      "metadata": {
        "id": "zu3_sWucx_fl"
      },
      "execution_count": null,
      "outputs": []
    }
  ]
}
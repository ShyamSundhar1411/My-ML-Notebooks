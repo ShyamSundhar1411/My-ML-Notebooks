{
  "cells": [
    {
      "cell_type": "markdown",
      "metadata": {
        "id": "view-in-github",
        "colab_type": "text"
      },
      "source": [
        "<a href=\"https://colab.research.google.com/github/ShyamSundhar1411/My-ML-Notebooks/blob/master/Paper%20Replications/Vision_Transformer.ipynb\" target=\"_parent\"><img src=\"https://colab.research.google.com/assets/colab-badge.svg\" alt=\"Open In Colab\"/></a>"
      ]
    },
    {
      "cell_type": "code",
      "execution_count": null,
      "metadata": {
        "id": "iv48q7xwtOrT"
      },
      "outputs": [],
      "source": [
        "import torch\n",
        "from torch import nn\n",
        "import torchvision"
      ]
    },
    {
      "cell_type": "code",
      "execution_count": null,
      "metadata": {
        "id": "ML9LY181tTvL"
      },
      "outputs": [],
      "source": [
        "class MyViT(nn.Module):\n",
        "  def __init__(self,chw,n_patches):\n",
        "    super().__init__()\n",
        "    self.n_patches = n_patches\n",
        "    self.chw = chw\n",
        "    self.patch_size = (chw[1]/n_patches,chw[2]/n_patches)\n",
        "    self.input_d = int(chw[0]*self.patch_size[0]*self.patch_size[1])\n",
        "    print(self.input_d)\n",
        "    # self.linear_mapper = nn.Linear(self.input_d,10)\n",
        "  def patchify(self,images,n_patches):\n",
        "    n,c,h,w = images.shape\n",
        "    assert h==w, \"Patchify method is implemented for square images only\"\n",
        "    patch_size = h//n_patches\n",
        "    patches = torch.zeros(n,n_patches**2,c*patch_size**2)\n",
        "\n",
        "    for index,image in enumerate(images):\n",
        "      for i in range(n_patches):\n",
        "        for j in range(n_patches):\n",
        "          patch = image[:,i*patch_size:(i+1)*patch_size,j*patch_size:(j+1)*patch_size]\n",
        "\n",
        "          patches[index,i*n_patches+j] = patch.flatten()\n",
        "    return patches\n",
        "  def forward(self,images):\n",
        "    patches = self.patchify(images,self.n_patches)\n",
        "    # tokens = self.linear_mapper(patches)\n",
        "    # return tokens\n"
      ]
    },
    {
      "cell_type": "code",
      "execution_count": null,
      "metadata": {
        "colab": {
          "base_uri": "https://localhost:8080/"
        },
        "id": "FeiuMKWJuYBl",
        "outputId": "e7b0a6eb-73d8-4ab0-d0a8-5d6d7121c18e"
      },
      "outputs": [
        {
          "output_type": "stream",
          "name": "stdout",
          "text": [
            "84\n"
          ]
        }
      ],
      "source": [
        "model = MyViT([32,3,224,224],16)\n",
        "sample_image_tensor = torch.randn([32,3,224,224])\n",
        "model(sample_image_tensor)"
      ]
    },
    {
      "cell_type": "code",
      "source": [],
      "metadata": {
        "id": "6R2v2zTDyNyl"
      },
      "execution_count": null,
      "outputs": []
    }
  ],
  "metadata": {
    "colab": {
      "provenance": [],
      "authorship_tag": "ABX9TyM5UIMFFzi7PosKEcVIYj5N",
      "include_colab_link": true
    },
    "kernelspec": {
      "display_name": "Python 3",
      "name": "python3"
    },
    "language_info": {
      "name": "python"
    }
  },
  "nbformat": 4,
  "nbformat_minor": 0
}
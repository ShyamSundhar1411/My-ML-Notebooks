{
 "cells": [
  {
   "cell_type": "markdown",
   "id": "971e685a",
   "metadata": {},
   "source": [
    "## TensorFlow Fundamentals"
   ]
  },
  {
   "cell_type": "markdown",
   "id": "479efd8a",
   "metadata": {},
   "source": [
    "## Introduction to Tensor"
   ]
  },
  {
   "cell_type": "code",
   "execution_count": 7,
   "id": "c17cf144",
   "metadata": {},
   "outputs": [],
   "source": [
    "import tensorflow as tf\n",
    "import numpy as np"
   ]
  },
  {
   "cell_type": "code",
   "execution_count": 8,
   "id": "216b02f0",
   "metadata": {},
   "outputs": [
    {
     "data": {
      "text/plain": [
       "<tf.Tensor: shape=(), dtype=int32, numpy=7>"
      ]
     },
     "execution_count": 8,
     "metadata": {},
     "output_type": "execute_result"
    }
   ],
   "source": [
    "scalar = tf.constant(7)\n",
    "scalar"
   ]
  },
  {
   "cell_type": "code",
   "execution_count": 9,
   "id": "f070a913",
   "metadata": {},
   "outputs": [
    {
     "data": {
      "text/plain": [
       "0"
      ]
     },
     "execution_count": 9,
     "metadata": {},
     "output_type": "execute_result"
    }
   ],
   "source": [
    "scalar.ndim"
   ]
  },
  {
   "cell_type": "code",
   "execution_count": 10,
   "id": "c53ff84b",
   "metadata": {},
   "outputs": [],
   "source": [
    "vector = tf.constant([10,10])"
   ]
  },
  {
   "cell_type": "code",
   "execution_count": 11,
   "id": "59e5fce2",
   "metadata": {},
   "outputs": [
    {
     "data": {
      "text/plain": [
       "<tf.Tensor: shape=(2,), dtype=int32, numpy=array([10, 10])>"
      ]
     },
     "execution_count": 11,
     "metadata": {},
     "output_type": "execute_result"
    }
   ],
   "source": [
    "vector"
   ]
  },
  {
   "cell_type": "markdown",
   "id": "0ec9b4bc",
   "metadata": {},
   "source": [
    "## Changable Tensors"
   ]
  },
  {
   "cell_type": "code",
   "execution_count": 18,
   "id": "1265425f",
   "metadata": {},
   "outputs": [],
   "source": [
    "changeable_tensor = tf.Variable([10,7])"
   ]
  },
  {
   "cell_type": "code",
   "execution_count": 16,
   "id": "3f4c6a10",
   "metadata": {},
   "outputs": [
    {
     "data": {
      "text/plain": [
       "<tf.Variable 'Variable:0' shape=(2,) dtype=int32, numpy=array([10,  7])>"
      ]
     },
     "execution_count": 16,
     "metadata": {},
     "output_type": "execute_result"
    }
   ],
   "source": [
    "changeable_tensor"
   ]
  },
  {
   "cell_type": "code",
   "execution_count": 17,
   "id": "58a39625",
   "metadata": {},
   "outputs": [
    {
     "data": {
      "text/plain": [
       "<tf.Variable 'UnreadVariable' shape=(2,) dtype=int32, numpy=array([10, 13])>"
      ]
     },
     "execution_count": 17,
     "metadata": {},
     "output_type": "execute_result"
    }
   ],
   "source": [
    "changeable_tensor[1].assign(13)"
   ]
  },
  {
   "cell_type": "markdown",
   "id": "4c2ffd23",
   "metadata": {},
   "source": [
    "## Random Tensors"
   ]
  },
  {
   "cell_type": "code",
   "execution_count": 20,
   "id": "b4181b3d",
   "metadata": {},
   "outputs": [],
   "source": [
    "array_generator_1  = tf.random.Generator.from_seed(42)"
   ]
  },
  {
   "cell_type": "code",
   "execution_count": 21,
   "id": "e3f69ac9",
   "metadata": {},
   "outputs": [],
   "source": [
    "normal_sampling = array_generator_1.normal(shape = (3,2))"
   ]
  },
  {
   "cell_type": "code",
   "execution_count": 30,
   "id": "28eb25c4",
   "metadata": {},
   "outputs": [],
   "source": [
    "uniform_sampling = array_generator_1.uniform(shape = (3,2))"
   ]
  },
  {
   "cell_type": "code",
   "execution_count": 31,
   "id": "d5f6713d",
   "metadata": {},
   "outputs": [
    {
     "data": {
      "text/plain": [
       "<tf.Tensor: shape=(3, 2), dtype=float32, numpy=\n",
       "array([[0.7647915 , 0.03845465],\n",
       "       [0.8506975 , 0.20781887],\n",
       "       [0.711869  , 0.8843919 ]], dtype=float32)>"
      ]
     },
     "execution_count": 31,
     "metadata": {},
     "output_type": "execute_result"
    }
   ],
   "source": [
    "uniform_sampling"
   ]
  },
  {
   "cell_type": "code",
   "execution_count": 32,
   "id": "0e28dc2a",
   "metadata": {},
   "outputs": [
    {
     "data": {
      "text/plain": [
       "<tf.Tensor: shape=(3, 2), dtype=float32, numpy=\n",
       "array([[-0.7565803 , -0.06854702],\n",
       "       [ 0.07595026, -1.2573844 ],\n",
       "       [-0.23193763, -1.8107855 ]], dtype=float32)>"
      ]
     },
     "execution_count": 32,
     "metadata": {},
     "output_type": "execute_result"
    }
   ],
   "source": [
    "normal_sampling"
   ]
  },
  {
   "cell_type": "code",
   "execution_count": null,
   "id": "0292c9c7",
   "metadata": {},
   "outputs": [],
   "source": []
  }
 ],
 "metadata": {
  "kernelspec": {
   "display_name": "Python 3 (ipykernel)",
   "language": "python",
   "name": "python3"
  },
  "language_info": {
   "codemirror_mode": {
    "name": "ipython",
    "version": 3
   },
   "file_extension": ".py",
   "mimetype": "text/x-python",
   "name": "python",
   "nbconvert_exporter": "python",
   "pygments_lexer": "ipython3",
   "version": "3.9.12"
  }
 },
 "nbformat": 4,
 "nbformat_minor": 5
}

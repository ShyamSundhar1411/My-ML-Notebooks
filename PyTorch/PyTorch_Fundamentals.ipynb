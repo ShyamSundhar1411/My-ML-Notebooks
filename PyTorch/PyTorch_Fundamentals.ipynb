{
  "nbformat": 4,
  "nbformat_minor": 0,
  "metadata": {
    "colab": {
      "provenance": [],
      "authorship_tag": "ABX9TyN2QpwQm9Djdd/52+quHr+s",
      "include_colab_link": true
    },
    "kernelspec": {
      "name": "python3",
      "display_name": "Python 3"
    },
    "language_info": {
      "name": "python"
    }
  },
  "cells": [
    {
      "cell_type": "markdown",
      "metadata": {
        "id": "view-in-github",
        "colab_type": "text"
      },
      "source": [
        "<a href=\"https://colab.research.google.com/github/ShyamSundhar1411/My-ML-Notebooks/blob/master/PyTorch/PyTorch_Fundamentals.ipynb\" target=\"_parent\"><img src=\"https://colab.research.google.com/assets/colab-badge.svg\" alt=\"Open In Colab\"/></a>"
      ]
    },
    {
      "cell_type": "markdown",
      "source": [
        "# PyTorch Fundamentals"
      ],
      "metadata": {
        "id": "DT3crU-swVIR"
      }
    },
    {
      "cell_type": "code",
      "source": [
        "import torch\n",
        "import pandas as pd\n",
        "import numpy as np\n",
        "import matplotlib.pyplot as plt"
      ],
      "metadata": {
        "id": "yJ6re9-fwC7J"
      },
      "execution_count": 87,
      "outputs": []
    },
    {
      "cell_type": "code",
      "source": [
        "print(torch.__version__)"
      ],
      "metadata": {
        "colab": {
          "base_uri": "https://localhost:8080/"
        },
        "id": "C29N1zYLwbzI",
        "outputId": "7a7a49de-d636-4a74-d08b-a94fcae07f11"
      },
      "execution_count": 88,
      "outputs": [
        {
          "output_type": "stream",
          "name": "stdout",
          "text": [
            "2.0.1+cu118\n"
          ]
        }
      ]
    },
    {
      "cell_type": "markdown",
      "source": [
        "## Introduction to tensors"
      ],
      "metadata": {
        "id": "OUEh5NKrweKd"
      }
    },
    {
      "cell_type": "markdown",
      "source": [
        "### Creating tensors"
      ],
      "metadata": {
        "id": "cV6pSbJLw0ZP"
      }
    },
    {
      "cell_type": "code",
      "source": [
        "#scalar\n",
        "scalar = torch.tensor(7)\n",
        "scalar"
      ],
      "metadata": {
        "colab": {
          "base_uri": "https://localhost:8080/"
        },
        "id": "z7CrfaEGw2QP",
        "outputId": "347e9d67-1251-4477-cfe7-0753f586b6f5"
      },
      "execution_count": 89,
      "outputs": [
        {
          "output_type": "execute_result",
          "data": {
            "text/plain": [
              "tensor(7)"
            ]
          },
          "metadata": {},
          "execution_count": 89
        }
      ]
    },
    {
      "cell_type": "code",
      "source": [
        "scalar.ndim"
      ],
      "metadata": {
        "colab": {
          "base_uri": "https://localhost:8080/"
        },
        "id": "ztjne0VhxBel",
        "outputId": "ce048508-be3a-4d9a-be99-ff04c1112754"
      },
      "execution_count": 90,
      "outputs": [
        {
          "output_type": "execute_result",
          "data": {
            "text/plain": [
              "0"
            ]
          },
          "metadata": {},
          "execution_count": 90
        }
      ]
    },
    {
      "cell_type": "code",
      "source": [
        "#vector\n",
        "vector = torch.tensor([7,10,7])\n",
        "vector"
      ],
      "metadata": {
        "colab": {
          "base_uri": "https://localhost:8080/"
        },
        "id": "2l2SCLjKxTXG",
        "outputId": "a3a61017-4612-41ae-acba-4267d031d1bb"
      },
      "execution_count": 91,
      "outputs": [
        {
          "output_type": "execute_result",
          "data": {
            "text/plain": [
              "tensor([ 7, 10,  7])"
            ]
          },
          "metadata": {},
          "execution_count": 91
        }
      ]
    },
    {
      "cell_type": "code",
      "source": [
        "vector.ndim"
      ],
      "metadata": {
        "colab": {
          "base_uri": "https://localhost:8080/"
        },
        "id": "bPUZsjNDxvGD",
        "outputId": "fa2fd35b-aed4-4203-84be-1c9b09fe6bfb"
      },
      "execution_count": 92,
      "outputs": [
        {
          "output_type": "execute_result",
          "data": {
            "text/plain": [
              "1"
            ]
          },
          "metadata": {},
          "execution_count": 92
        }
      ]
    },
    {
      "cell_type": "code",
      "source": [
        "#Matrix\n",
        "matrix = torch.tensor([[7,8,10],\n",
        "                       [9,10,10]\n",
        "                       ])"
      ],
      "metadata": {
        "id": "ROXitFQPyG8b"
      },
      "execution_count": 93,
      "outputs": []
    },
    {
      "cell_type": "code",
      "source": [
        "matrix.ndim"
      ],
      "metadata": {
        "colab": {
          "base_uri": "https://localhost:8080/"
        },
        "id": "tmBpZX_CyUj9",
        "outputId": "84f8fc34-643b-4429-9379-61ef0b10c386"
      },
      "execution_count": 94,
      "outputs": [
        {
          "output_type": "execute_result",
          "data": {
            "text/plain": [
              "2"
            ]
          },
          "metadata": {},
          "execution_count": 94
        }
      ]
    },
    {
      "cell_type": "code",
      "source": [
        "matrix"
      ],
      "metadata": {
        "colab": {
          "base_uri": "https://localhost:8080/"
        },
        "id": "UQSR6mhqyVXD",
        "outputId": "0bce3ea4-1a1c-43e5-efeb-ff4131b84986"
      },
      "execution_count": 95,
      "outputs": [
        {
          "output_type": "execute_result",
          "data": {
            "text/plain": [
              "tensor([[ 7,  8, 10],\n",
              "        [ 9, 10, 10]])"
            ]
          },
          "metadata": {},
          "execution_count": 95
        }
      ]
    },
    {
      "cell_type": "code",
      "source": [
        "matrix[0]"
      ],
      "metadata": {
        "colab": {
          "base_uri": "https://localhost:8080/"
        },
        "id": "EXfcVckEyV9i",
        "outputId": "31ca7b19-a653-495e-94a5-4ecbdfca4d3f"
      },
      "execution_count": 96,
      "outputs": [
        {
          "output_type": "execute_result",
          "data": {
            "text/plain": [
              "tensor([ 7,  8, 10])"
            ]
          },
          "metadata": {},
          "execution_count": 96
        }
      ]
    },
    {
      "cell_type": "code",
      "source": [
        "matrix[1]"
      ],
      "metadata": {
        "colab": {
          "base_uri": "https://localhost:8080/"
        },
        "id": "g7kI9htJybGl",
        "outputId": "2ce73d6d-8200-49db-8633-9bc7764dcfee"
      },
      "execution_count": 97,
      "outputs": [
        {
          "output_type": "execute_result",
          "data": {
            "text/plain": [
              "tensor([ 9, 10, 10])"
            ]
          },
          "metadata": {},
          "execution_count": 97
        }
      ]
    },
    {
      "cell_type": "code",
      "source": [
        "matrix.shape"
      ],
      "metadata": {
        "colab": {
          "base_uri": "https://localhost:8080/"
        },
        "id": "pwmd5sGuycrK",
        "outputId": "bfb08948-0a1d-46c4-80ed-6a79adac5e51"
      },
      "execution_count": 98,
      "outputs": [
        {
          "output_type": "execute_result",
          "data": {
            "text/plain": [
              "torch.Size([2, 3])"
            ]
          },
          "metadata": {},
          "execution_count": 98
        }
      ]
    },
    {
      "cell_type": "code",
      "source": [
        "#tensor\n",
        "tensor = torch.tensor([[[1,3,4],[3,6,9],[2,4,5]\n",
        "\n",
        "]])"
      ],
      "metadata": {
        "id": "zE_l9bV0yhIX"
      },
      "execution_count": 99,
      "outputs": []
    },
    {
      "cell_type": "code",
      "source": [
        "tensor"
      ],
      "metadata": {
        "colab": {
          "base_uri": "https://localhost:8080/"
        },
        "id": "e9lxJtF7yzKT",
        "outputId": "b8421871-54d0-4318-bd8c-516d6d8a6c50"
      },
      "execution_count": 100,
      "outputs": [
        {
          "output_type": "execute_result",
          "data": {
            "text/plain": [
              "tensor([[[1, 3, 4],\n",
              "         [3, 6, 9],\n",
              "         [2, 4, 5]]])"
            ]
          },
          "metadata": {},
          "execution_count": 100
        }
      ]
    },
    {
      "cell_type": "code",
      "source": [
        "tensor.ndim"
      ],
      "metadata": {
        "colab": {
          "base_uri": "https://localhost:8080/"
        },
        "id": "JHT_n5s-y0jb",
        "outputId": "3b71ca48-d9cf-41e0-8714-c7681c765a96"
      },
      "execution_count": 101,
      "outputs": [
        {
          "output_type": "execute_result",
          "data": {
            "text/plain": [
              "3"
            ]
          },
          "metadata": {},
          "execution_count": 101
        }
      ]
    },
    {
      "cell_type": "code",
      "source": [
        "tensor.shape"
      ],
      "metadata": {
        "colab": {
          "base_uri": "https://localhost:8080/"
        },
        "id": "kEOBk4gly158",
        "outputId": "d7c90d41-5dcd-4ce1-9a03-7f599f20d707"
      },
      "execution_count": 102,
      "outputs": [
        {
          "output_type": "execute_result",
          "data": {
            "text/plain": [
              "torch.Size([1, 3, 3])"
            ]
          },
          "metadata": {},
          "execution_count": 102
        }
      ]
    },
    {
      "cell_type": "code",
      "source": [
        "tensor_2 = torch.tensor([\n",
        "    [\n",
        "    [1,2,3],\n",
        "    [3,4,5],\n",
        "    [6,7,8],],\n",
        "    [\n",
        "        [1,2,3],\n",
        "        [4,5,6],\n",
        "        [7,8,9]\n",
        "    ]\n",
        "])"
      ],
      "metadata": {
        "id": "IfFlIjGQy3fX"
      },
      "execution_count": 103,
      "outputs": []
    },
    {
      "cell_type": "code",
      "source": [
        "tensor_2[0]"
      ],
      "metadata": {
        "colab": {
          "base_uri": "https://localhost:8080/"
        },
        "id": "1n901EDkzI46",
        "outputId": "421e737d-6e16-4c06-d81c-c7a05ba9a43b"
      },
      "execution_count": 104,
      "outputs": [
        {
          "output_type": "execute_result",
          "data": {
            "text/plain": [
              "tensor([[1, 2, 3],\n",
              "        [3, 4, 5],\n",
              "        [6, 7, 8]])"
            ]
          },
          "metadata": {},
          "execution_count": 104
        }
      ]
    },
    {
      "cell_type": "code",
      "source": [
        "tensor_2[1]"
      ],
      "metadata": {
        "colab": {
          "base_uri": "https://localhost:8080/"
        },
        "id": "t4ZW7GtxzLWE",
        "outputId": "69b17c15-a416-48c4-b469-90d087d66075"
      },
      "execution_count": 105,
      "outputs": [
        {
          "output_type": "execute_result",
          "data": {
            "text/plain": [
              "tensor([[1, 2, 3],\n",
              "        [4, 5, 6],\n",
              "        [7, 8, 9]])"
            ]
          },
          "metadata": {},
          "execution_count": 105
        }
      ]
    },
    {
      "cell_type": "code",
      "source": [
        "tensor_2.shape"
      ],
      "metadata": {
        "colab": {
          "base_uri": "https://localhost:8080/"
        },
        "id": "EgKQpIsmzM0P",
        "outputId": "d9d7f068-56ad-4732-efec-272258493d75"
      },
      "execution_count": 106,
      "outputs": [
        {
          "output_type": "execute_result",
          "data": {
            "text/plain": [
              "torch.Size([2, 3, 3])"
            ]
          },
          "metadata": {},
          "execution_count": 106
        }
      ]
    },
    {
      "cell_type": "markdown",
      "source": [
        "### Random Tensors"
      ],
      "metadata": {
        "id": "lafeETjwzOhg"
      }
    },
    {
      "cell_type": "code",
      "source": [
        "random_tensor = torch.rand(3,4)"
      ],
      "metadata": {
        "id": "GT_PA_c9zm8m"
      },
      "execution_count": 107,
      "outputs": []
    },
    {
      "cell_type": "code",
      "source": [
        "random_tensor"
      ],
      "metadata": {
        "colab": {
          "base_uri": "https://localhost:8080/"
        },
        "id": "P2EYQn7a0gDS",
        "outputId": "cba52be7-f075-431e-a5ab-59d6d7cc4a0c"
      },
      "execution_count": 108,
      "outputs": [
        {
          "output_type": "execute_result",
          "data": {
            "text/plain": [
              "tensor([[0.6688, 0.2014, 0.6027, 0.7800],\n",
              "        [0.3469, 0.6540, 0.0338, 0.0386],\n",
              "        [0.6755, 0.5566, 0.8210, 0.1741]])"
            ]
          },
          "metadata": {},
          "execution_count": 108
        }
      ]
    },
    {
      "cell_type": "code",
      "source": [
        "random_tensor.shape"
      ],
      "metadata": {
        "colab": {
          "base_uri": "https://localhost:8080/"
        },
        "id": "JF_1-Orm0qoq",
        "outputId": "ea7562fc-3b93-4a17-c337-6e2204d03d0a"
      },
      "execution_count": 109,
      "outputs": [
        {
          "output_type": "execute_result",
          "data": {
            "text/plain": [
              "torch.Size([3, 4])"
            ]
          },
          "metadata": {},
          "execution_count": 109
        }
      ]
    },
    {
      "cell_type": "code",
      "source": [
        "random_tensor.ndim"
      ],
      "metadata": {
        "colab": {
          "base_uri": "https://localhost:8080/"
        },
        "id": "zm-eaxQL0szM",
        "outputId": "6c1790f4-cea9-4d9c-9d41-96f31dea02e6"
      },
      "execution_count": 110,
      "outputs": [
        {
          "output_type": "execute_result",
          "data": {
            "text/plain": [
              "2"
            ]
          },
          "metadata": {},
          "execution_count": 110
        }
      ]
    },
    {
      "cell_type": "code",
      "source": [
        "random_image_tensor = torch.rand(size=(224,224,3))"
      ],
      "metadata": {
        "id": "lqeDsn_c0uhW"
      },
      "execution_count": 111,
      "outputs": []
    },
    {
      "cell_type": "code",
      "source": [
        "random_image_tensor"
      ],
      "metadata": {
        "colab": {
          "base_uri": "https://localhost:8080/"
        },
        "id": "lOzjOUDF1VV4",
        "outputId": "994f5919-439d-45e5-c1b0-4e3464efca8a"
      },
      "execution_count": 112,
      "outputs": [
        {
          "output_type": "execute_result",
          "data": {
            "text/plain": [
              "tensor([[[0.7595, 0.3127, 0.2514],\n",
              "         [0.2580, 0.7035, 0.6351],\n",
              "         [0.7879, 0.8984, 0.5558],\n",
              "         ...,\n",
              "         [0.1991, 0.5854, 0.8017],\n",
              "         [0.5963, 0.0536, 0.1748],\n",
              "         [0.4713, 0.8191, 0.9957]],\n",
              "\n",
              "        [[0.4740, 0.1956, 0.3586],\n",
              "         [0.6667, 0.7320, 0.5626],\n",
              "         [0.3372, 0.1662, 0.7335],\n",
              "         ...,\n",
              "         [0.1656, 0.1128, 0.0664],\n",
              "         [0.7207, 0.1615, 0.4191],\n",
              "         [0.8452, 0.3531, 0.7131]],\n",
              "\n",
              "        [[0.5532, 0.3422, 0.2639],\n",
              "         [0.1104, 0.6605, 0.1722],\n",
              "         [0.5349, 0.9078, 0.7730],\n",
              "         ...,\n",
              "         [0.1848, 0.2103, 0.8359],\n",
              "         [0.7659, 0.0158, 0.8617],\n",
              "         [0.7077, 0.5775, 0.3744]],\n",
              "\n",
              "        ...,\n",
              "\n",
              "        [[0.9608, 0.6652, 0.6938],\n",
              "         [0.9454, 0.0293, 0.1906],\n",
              "         [0.5998, 0.5150, 0.4732],\n",
              "         ...,\n",
              "         [0.5984, 0.9894, 0.3989],\n",
              "         [0.7018, 0.7123, 0.2903],\n",
              "         [0.6356, 0.2267, 0.7375]],\n",
              "\n",
              "        [[0.6494, 0.7414, 0.6765],\n",
              "         [0.7588, 0.7140, 0.6524],\n",
              "         [0.5958, 0.6106, 0.9078],\n",
              "         ...,\n",
              "         [0.2851, 0.9908, 0.3652],\n",
              "         [0.2809, 0.4065, 0.1743],\n",
              "         [0.3498, 0.4605, 0.5607]],\n",
              "\n",
              "        [[0.8626, 0.2644, 0.2530],\n",
              "         [0.4993, 0.6577, 0.2207],\n",
              "         [0.1646, 0.7847, 0.7271],\n",
              "         ...,\n",
              "         [0.0109, 0.0838, 0.6194],\n",
              "         [0.3128, 0.9968, 0.7254],\n",
              "         [0.2255, 0.7244, 0.6615]]])"
            ]
          },
          "metadata": {},
          "execution_count": 112
        }
      ]
    },
    {
      "cell_type": "code",
      "source": [
        "random_image_tensor.ndim"
      ],
      "metadata": {
        "colab": {
          "base_uri": "https://localhost:8080/"
        },
        "id": "fGElGC771Wzu",
        "outputId": "f89397b4-5a77-4adb-80a7-c12ec072c5b6"
      },
      "execution_count": 113,
      "outputs": [
        {
          "output_type": "execute_result",
          "data": {
            "text/plain": [
              "3"
            ]
          },
          "metadata": {},
          "execution_count": 113
        }
      ]
    },
    {
      "cell_type": "code",
      "source": [
        "random_image_tensor.shape"
      ],
      "metadata": {
        "colab": {
          "base_uri": "https://localhost:8080/"
        },
        "id": "dwYmOCxF1Y11",
        "outputId": "6e7d9d61-7e26-444f-c4e0-3f5ee5ccc11c"
      },
      "execution_count": 114,
      "outputs": [
        {
          "output_type": "execute_result",
          "data": {
            "text/plain": [
              "torch.Size([224, 224, 3])"
            ]
          },
          "metadata": {},
          "execution_count": 114
        }
      ]
    },
    {
      "cell_type": "markdown",
      "source": [
        "### Zeros and Ones"
      ],
      "metadata": {
        "id": "TECZzYyD1anl"
      }
    },
    {
      "cell_type": "code",
      "source": [
        "zeros = torch.zeros(size=(3,4))"
      ],
      "metadata": {
        "id": "x5ieROsG2GC2"
      },
      "execution_count": 115,
      "outputs": []
    },
    {
      "cell_type": "code",
      "source": [
        "zeros\n"
      ],
      "metadata": {
        "colab": {
          "base_uri": "https://localhost:8080/"
        },
        "id": "B1C6ShXT2J3f",
        "outputId": "94ab93a1-8d79-42a5-ec37-051cb2c4e8e8"
      },
      "execution_count": 116,
      "outputs": [
        {
          "output_type": "execute_result",
          "data": {
            "text/plain": [
              "tensor([[0., 0., 0., 0.],\n",
              "        [0., 0., 0., 0.],\n",
              "        [0., 0., 0., 0.]])"
            ]
          },
          "metadata": {},
          "execution_count": 116
        }
      ]
    },
    {
      "cell_type": "code",
      "source": [
        "zeros*random_tensor"
      ],
      "metadata": {
        "colab": {
          "base_uri": "https://localhost:8080/"
        },
        "id": "N9ZmLUaA2MUR",
        "outputId": "84a6cb5a-dd2b-4074-cc8f-7504ccb58f58"
      },
      "execution_count": 117,
      "outputs": [
        {
          "output_type": "execute_result",
          "data": {
            "text/plain": [
              "tensor([[0., 0., 0., 0.],\n",
              "        [0., 0., 0., 0.],\n",
              "        [0., 0., 0., 0.]])"
            ]
          },
          "metadata": {},
          "execution_count": 117
        }
      ]
    },
    {
      "cell_type": "code",
      "source": [
        "ones = torch.ones(size = (3,4))"
      ],
      "metadata": {
        "id": "MsWrU4k_2OnP"
      },
      "execution_count": 118,
      "outputs": []
    },
    {
      "cell_type": "code",
      "source": [
        "ones"
      ],
      "metadata": {
        "colab": {
          "base_uri": "https://localhost:8080/"
        },
        "id": "CZDZW1_z2Vtz",
        "outputId": "d5402a34-227a-4bfe-e7b8-71a5a9bd59d6"
      },
      "execution_count": 119,
      "outputs": [
        {
          "output_type": "execute_result",
          "data": {
            "text/plain": [
              "tensor([[1., 1., 1., 1.],\n",
              "        [1., 1., 1., 1.],\n",
              "        [1., 1., 1., 1.]])"
            ]
          },
          "metadata": {},
          "execution_count": 119
        }
      ]
    },
    {
      "cell_type": "markdown",
      "source": [
        "### Creating a range of tensors and tensors-like"
      ],
      "metadata": {
        "id": "5AxyrSPB2WG8"
      }
    },
    {
      "cell_type": "code",
      "source": [
        "torch.arange(0,10)"
      ],
      "metadata": {
        "colab": {
          "base_uri": "https://localhost:8080/"
        },
        "id": "ai7SXjS42k43",
        "outputId": "d9c5aeab-3aac-4501-e61c-3089fbb433ad"
      },
      "execution_count": 120,
      "outputs": [
        {
          "output_type": "execute_result",
          "data": {
            "text/plain": [
              "tensor([0, 1, 2, 3, 4, 5, 6, 7, 8, 9])"
            ]
          },
          "metadata": {},
          "execution_count": 120
        }
      ]
    },
    {
      "cell_type": "markdown",
      "source": [
        "### Tensor Datatypes"
      ],
      "metadata": {
        "id": "EqBfeJ8t2l56"
      }
    },
    {
      "cell_type": "code",
      "source": [
        "float_32_tensor = torch.tensor([3.0,6.0,9.0],dtype = None)"
      ],
      "metadata": {
        "id": "yPK2RNd03OtR"
      },
      "execution_count": 121,
      "outputs": []
    },
    {
      "cell_type": "code",
      "source": [
        "float_32_tensor.dtype"
      ],
      "metadata": {
        "colab": {
          "base_uri": "https://localhost:8080/"
        },
        "id": "5GSAPk9i3SsL",
        "outputId": "9104e2e3-f31f-4331-cf57-1d8098d31ca7"
      },
      "execution_count": 122,
      "outputs": [
        {
          "output_type": "execute_result",
          "data": {
            "text/plain": [
              "torch.float32"
            ]
          },
          "metadata": {},
          "execution_count": 122
        }
      ]
    },
    {
      "cell_type": "markdown",
      "source": [
        "### Tensor Operations"
      ],
      "metadata": {
        "id": "R7Y4l9tz3Tzh"
      }
    },
    {
      "cell_type": "code",
      "source": [
        " tensor = torch.tensor([1,2,3])\n",
        " tensor+10"
      ],
      "metadata": {
        "colab": {
          "base_uri": "https://localhost:8080/"
        },
        "id": "7W6epQve4Gho",
        "outputId": "36bbb4d2-b6fe-4098-d818-dd9f45aba268"
      },
      "execution_count": 123,
      "outputs": [
        {
          "output_type": "execute_result",
          "data": {
            "text/plain": [
              "tensor([11, 12, 13])"
            ]
          },
          "metadata": {},
          "execution_count": 123
        }
      ]
    },
    {
      "cell_type": "code",
      "source": [
        "tensor*10"
      ],
      "metadata": {
        "colab": {
          "base_uri": "https://localhost:8080/"
        },
        "id": "uAMGCfNX5ICl",
        "outputId": "33b70428-63fa-4a15-dcbb-d3e36a0bd0b1"
      },
      "execution_count": 124,
      "outputs": [
        {
          "output_type": "execute_result",
          "data": {
            "text/plain": [
              "tensor([10, 20, 30])"
            ]
          },
          "metadata": {},
          "execution_count": 124
        }
      ]
    },
    {
      "cell_type": "code",
      "source": [
        "tensor-10"
      ],
      "metadata": {
        "colab": {
          "base_uri": "https://localhost:8080/"
        },
        "id": "LxNxdMUs5JNV",
        "outputId": "b35e4c35-9f97-4bb1-a277-d61f50b31574"
      },
      "execution_count": 125,
      "outputs": [
        {
          "output_type": "execute_result",
          "data": {
            "text/plain": [
              "tensor([-9, -8, -7])"
            ]
          },
          "metadata": {},
          "execution_count": 125
        }
      ]
    },
    {
      "cell_type": "code",
      "source": [
        "tensor_2 = torch.tensor([1,2,5])\n",
        "tensor_2-tensor"
      ],
      "metadata": {
        "colab": {
          "base_uri": "https://localhost:8080/"
        },
        "id": "EShtygEb5J7k",
        "outputId": "1e2af187-26a9-4515-9156-f13e4baf127f"
      },
      "execution_count": 126,
      "outputs": [
        {
          "output_type": "execute_result",
          "data": {
            "text/plain": [
              "tensor([0, 0, 2])"
            ]
          },
          "metadata": {},
          "execution_count": 126
        }
      ]
    },
    {
      "cell_type": "code",
      "source": [
        "torch.mul(tensor,tensor_2)"
      ],
      "metadata": {
        "colab": {
          "base_uri": "https://localhost:8080/"
        },
        "id": "T00we9yH5Mjr",
        "outputId": "351e03dd-8886-4cb1-b7ad-b97c6a1816a6"
      },
      "execution_count": 127,
      "outputs": [
        {
          "output_type": "execute_result",
          "data": {
            "text/plain": [
              "tensor([ 1,  4, 15])"
            ]
          },
          "metadata": {},
          "execution_count": 127
        }
      ]
    },
    {
      "cell_type": "markdown",
      "source": [
        "### Matrix Multiplication"
      ],
      "metadata": {
        "id": "lOWgVQ-o5S7w"
      }
    },
    {
      "cell_type": "code",
      "source": [
        "matrix = torch.matmul(tensor,tensor_2)"
      ],
      "metadata": {
        "id": "8lTR5LoFOXff"
      },
      "execution_count": 128,
      "outputs": []
    },
    {
      "cell_type": "code",
      "source": [
        "matrix"
      ],
      "metadata": {
        "colab": {
          "base_uri": "https://localhost:8080/"
        },
        "id": "PF0igKxmOaU5",
        "outputId": "c92bfb83-a274-4c8a-bb89-736af8b13aa6"
      },
      "execution_count": 129,
      "outputs": [
        {
          "output_type": "execute_result",
          "data": {
            "text/plain": [
              "tensor(20)"
            ]
          },
          "metadata": {},
          "execution_count": 129
        }
      ]
    },
    {
      "cell_type": "markdown",
      "source": [
        " ### Tensor Aggregation"
      ],
      "metadata": {
        "id": "lePC9tFFOfIq"
      }
    },
    {
      "cell_type": "code",
      "source": [
        "x = torch.arange(0,100,10)\n",
        "x"
      ],
      "metadata": {
        "colab": {
          "base_uri": "https://localhost:8080/"
        },
        "id": "9BC0R3vCXEHc",
        "outputId": "7098241f-cd7d-43ac-9c8f-b789895ea5f8"
      },
      "execution_count": 130,
      "outputs": [
        {
          "output_type": "execute_result",
          "data": {
            "text/plain": [
              "tensor([ 0, 10, 20, 30, 40, 50, 60, 70, 80, 90])"
            ]
          },
          "metadata": {},
          "execution_count": 130
        }
      ]
    },
    {
      "cell_type": "code",
      "source": [
        "torch.min(x),x.min()"
      ],
      "metadata": {
        "colab": {
          "base_uri": "https://localhost:8080/"
        },
        "id": "p25yfDemXG5b",
        "outputId": "e7a18547-9891-4592-e3ed-1a33527e084f"
      },
      "execution_count": 131,
      "outputs": [
        {
          "output_type": "execute_result",
          "data": {
            "text/plain": [
              "(tensor(0), tensor(0))"
            ]
          },
          "metadata": {},
          "execution_count": 131
        }
      ]
    },
    {
      "cell_type": "code",
      "source": [
        "torch.max(x),x.max()"
      ],
      "metadata": {
        "colab": {
          "base_uri": "https://localhost:8080/"
        },
        "id": "_K_egsVdXI0A",
        "outputId": "02a4972b-e6f0-4b16-bcbd-7b7918985b3e"
      },
      "execution_count": 132,
      "outputs": [
        {
          "output_type": "execute_result",
          "data": {
            "text/plain": [
              "(tensor(90), tensor(90))"
            ]
          },
          "metadata": {},
          "execution_count": 132
        }
      ]
    },
    {
      "cell_type": "code",
      "source": [
        "torch.mean(x.type(torch.float32)),x.type(torch.float32).mean()"
      ],
      "metadata": {
        "colab": {
          "base_uri": "https://localhost:8080/"
        },
        "id": "qBzX-YPzXLFg",
        "outputId": "9b91942d-bc8d-4b77-94ef-5e1f09dae077"
      },
      "execution_count": 138,
      "outputs": [
        {
          "output_type": "execute_result",
          "data": {
            "text/plain": [
              "(tensor(45.), tensor(45.))"
            ]
          },
          "metadata": {},
          "execution_count": 138
        }
      ]
    },
    {
      "cell_type": "code",
      "source": [],
      "metadata": {
        "id": "5xmdyKKTXM48"
      },
      "execution_count": null,
      "outputs": []
    }
  ]
}
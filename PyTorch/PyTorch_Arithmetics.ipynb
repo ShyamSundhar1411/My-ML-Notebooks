{
  "nbformat": 4,
  "nbformat_minor": 0,
  "metadata": {
    "colab": {
      "provenance": [],
      "authorship_tag": "ABX9TyMvqPxYlMBQ6/x82ViNqEtk",
      "include_colab_link": true
    },
    "kernelspec": {
      "name": "python3",
      "display_name": "Python 3"
    },
    "language_info": {
      "name": "python"
    }
  },
  "cells": [
    {
      "cell_type": "markdown",
      "metadata": {
        "id": "view-in-github",
        "colab_type": "text"
      },
      "source": [
        "<a href=\"https://colab.research.google.com/github/ShyamSundhar1411/My-ML-Notebooks/blob/master/PyTorch/PyTorch_Arithmetics.ipynb\" target=\"_parent\"><img src=\"https://colab.research.google.com/assets/colab-badge.svg\" alt=\"Open In Colab\"/></a>"
      ]
    },
    {
      "cell_type": "code",
      "execution_count": 1,
      "metadata": {
        "id": "rVKTRkgv6vb-"
      },
      "outputs": [],
      "source": [
        "import torch\n",
        "import numpy as np\n",
        "import pandas as pd"
      ]
    },
    {
      "cell_type": "code",
      "source": [
        "sample_tensor_1 = torch.randn([4,1,3,3])"
      ],
      "metadata": {
        "id": "GIeBK7IZ61ur"
      },
      "execution_count": 2,
      "outputs": []
    },
    {
      "cell_type": "code",
      "source": [
        "sample_tensor_1"
      ],
      "metadata": {
        "colab": {
          "base_uri": "https://localhost:8080/"
        },
        "id": "3IzjVL507de0",
        "outputId": "5c28b718-c4f1-4f4a-a335-eb4fdba93ab3"
      },
      "execution_count": 3,
      "outputs": [
        {
          "output_type": "execute_result",
          "data": {
            "text/plain": [
              "tensor([[[[ 0.7137, -0.2188, -0.1370],\n",
              "          [ 0.0310,  0.7680,  1.4577],\n",
              "          [ 0.4771, -0.9007, -1.2989]]],\n",
              "\n",
              "\n",
              "        [[[-0.5915, -1.0542,  0.3345],\n",
              "          [-1.8759, -1.7532, -0.6579],\n",
              "          [-0.9291, -1.4672, -0.5908]]],\n",
              "\n",
              "\n",
              "        [[[-0.4311, -0.7163,  0.9979],\n",
              "          [ 0.1197,  1.4008,  0.2567],\n",
              "          [ 1.0853, -1.4143,  0.6165]]],\n",
              "\n",
              "\n",
              "        [[[-2.6703,  0.0246, -0.3815],\n",
              "          [-0.0151, -0.2072, -0.3664],\n",
              "          [-0.0346,  0.0449,  0.0256]]]])"
            ]
          },
          "metadata": {},
          "execution_count": 3
        }
      ]
    },
    {
      "cell_type": "code",
      "source": [
        "type(sample_tensor_1)"
      ],
      "metadata": {
        "colab": {
          "base_uri": "https://localhost:8080/"
        },
        "id": "0G1eMGx47mPZ",
        "outputId": "f6cd2947-61c1-439e-8eeb-6aff9d3d21b0"
      },
      "execution_count": 4,
      "outputs": [
        {
          "output_type": "execute_result",
          "data": {
            "text/plain": [
              "torch.Tensor"
            ]
          },
          "metadata": {},
          "execution_count": 4
        }
      ]
    },
    {
      "cell_type": "code",
      "source": [
        "sample_tensor_2 = torch.randn([4,4,1,1])"
      ],
      "metadata": {
        "id": "1tDFeEKF99V2"
      },
      "execution_count": 25,
      "outputs": []
    },
    {
      "cell_type": "code",
      "source": [
        "sample_tensor_2"
      ],
      "metadata": {
        "colab": {
          "base_uri": "https://localhost:8080/"
        },
        "id": "BmDh0aK3-ByK",
        "outputId": "f92ab875-1c94-4dbc-c12f-1935ee268d40"
      },
      "execution_count": 26,
      "outputs": [
        {
          "output_type": "execute_result",
          "data": {
            "text/plain": [
              "tensor([[[[ 0.1220]],\n",
              "\n",
              "         [[-1.1430]],\n",
              "\n",
              "         [[ 1.3189]],\n",
              "\n",
              "         [[-0.4551]]],\n",
              "\n",
              "\n",
              "        [[[-0.1421]],\n",
              "\n",
              "         [[-0.2585]],\n",
              "\n",
              "         [[ 0.1775]],\n",
              "\n",
              "         [[ 0.8192]]],\n",
              "\n",
              "\n",
              "        [[[ 1.1415]],\n",
              "\n",
              "         [[-0.9381]],\n",
              "\n",
              "         [[-0.6788]],\n",
              "\n",
              "         [[ 0.9298]]],\n",
              "\n",
              "\n",
              "        [[[-0.4040]],\n",
              "\n",
              "         [[-2.3435]],\n",
              "\n",
              "         [[-0.6455]],\n",
              "\n",
              "         [[-0.7786]]]])"
            ]
          },
          "metadata": {},
          "execution_count": 26
        }
      ]
    },
    {
      "cell_type": "code",
      "source": [
        "def filter(tensor:torch.tensor):\n",
        "  size = tensor.shape[1]\n",
        "  if(size==1):\n",
        "    reshaped_tensor = torch.squeeze(tensor)\n",
        "    norm = torch.norm(reshaped_tensor,dim=(-1,-2))\n",
        "    min_norm = torch.argmin(norm)\n",
        "    tensor = torch.cat([tensor[:min_norm],tensor[min_norm+1:]])\n",
        "    return tensor\n",
        "  else:\n",
        "    abs_tensor = tensor.abs()\n",
        "    min_value,min_index = abs_tensor.min(dim=1)\n",
        "    new_tensor = torch.zeros_like(tensor)\n",
        "    for i in range(tensor.shape[0]):\n",
        "      for j in range(tensor.shape[1]):\n",
        "        for k in range(tensor.shape[2]):\n",
        "          if not tensor[i][j][k][0] in min_value.squeeze():\n",
        "            new_tensor[i][j][k] = tensor[i][j][k][0]\n",
        "    non_zero_mask = (new_tensor != 0)\n",
        "    filtered_tensor = new_tensor[non_zero_mask]\n",
        "    filtered_tensor = filtered_tensor.view(tensor.shape[0], tensor.shape[1]-1, 1, 1)\n",
        "    reshaped_tensor = torch.squeeze(filtered_tensor)\n",
        "    norm = torch.norm(reshaped_tensor,dim=(-1,-2))\n",
        "    min_norm = torch.argmin(norm)\n",
        "    tensor = torch.cat([filtered_tensor[:min_norm],filtered_tensor[min_norm+1:]])\n",
        "    return tensor"
      ],
      "metadata": {
        "id": "8Je-rFrE7eUw"
      },
      "execution_count": 645,
      "outputs": []
    },
    {
      "cell_type": "code",
      "source": [
        "print(filter(sample_tensor_1).shape)"
      ],
      "metadata": {
        "colab": {
          "base_uri": "https://localhost:8080/"
        },
        "id": "yjWhYdYX7qCR",
        "outputId": "a859c591-ab13-4a04-dcf3-55cf0486f964"
      },
      "execution_count": 646,
      "outputs": [
        {
          "output_type": "stream",
          "name": "stdout",
          "text": [
            "torch.Size([3, 1, 3, 3])\n"
          ]
        }
      ]
    },
    {
      "cell_type": "code",
      "source": [
        "print(filter(sample_tensor_2).shape)"
      ],
      "metadata": {
        "colab": {
          "base_uri": "https://localhost:8080/"
        },
        "id": "Z6lIuvvC7reK",
        "outputId": "b6a10274-9438-4061-8862-bccf4974e4cc"
      },
      "execution_count": 647,
      "outputs": [
        {
          "output_type": "stream",
          "name": "stdout",
          "text": [
            "torch.Size([3, 3, 1, 1])\n"
          ]
        }
      ]
    },
    {
      "cell_type": "code",
      "source": [],
      "metadata": {
        "id": "RVCjopXCXfXc"
      },
      "execution_count": 629,
      "outputs": []
    }
  ]
}